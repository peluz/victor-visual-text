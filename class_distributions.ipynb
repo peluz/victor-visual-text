{
 "cells": [
  {
   "cell_type": "code",
   "execution_count": 1,
   "metadata": {},
   "outputs": [],
   "source": [
    "%load_ext autoreload\n",
    "%autoreload 2\n",
    "\n",
    "from fastai.text.all import *\n",
    "from fastai.vision.all import *\n",
    "import pandas as pd\n",
    "import torch\n",
    "from tqdm.notebook import tqdm\n",
    "\n",
    "from utils import get_dls"
   ]
  },
  {
   "cell_type": "code",
   "execution_count": 2,
   "metadata": {},
   "outputs": [],
   "source": [
    "seed = 42\n",
    "\n",
    "# python RNG\n",
    "import random\n",
    "random.seed(seed)\n",
    "\n",
    "# pytorch RNGs\n",
    "import torch\n",
    "torch.manual_seed(seed)\n",
    "torch.backends.cudnn.deterministic = True\n",
    "if torch.cuda.is_available(): torch.cuda.manual_seed_all(seed)\n",
    "\n",
    "# numpy RNG\n",
    "import numpy as np\n",
    "np.random.seed(seed)\n",
    "\n",
    "# tensorflow RNG\n",
    "# tf.random.set_seed(seed)"
   ]
  },
  {
   "cell_type": "code",
   "execution_count": 3,
   "metadata": {},
   "outputs": [],
   "source": [
    "data_path = Path(\"/mnt/nas/backups/08-07-2020/desktopg01/lisa/Data/CSV\")"
   ]
  },
  {
   "cell_type": "code",
   "execution_count": 4,
   "metadata": {},
   "outputs": [],
   "source": [
    "train = pd.read_csv(data_path/\"train_small.csv\")\n",
    "val = pd.read_csv(data_path/\"validation_small.csv\")\n",
    "test_data = pd.read_csv(data_path/\"test_small.csv\")"
   ]
  },
  {
   "cell_type": "code",
   "execution_count": 5,
   "metadata": {},
   "outputs": [
    {
     "data": {
      "text/plain": [
       "(outros                              134134\n",
       " peticao_do_RE                         9509\n",
       " agravo_em_recurso_extraordinario      2546\n",
       " sentenca                              2129\n",
       " acordao_de_2_instancia                 553\n",
       " despacho_de_admissibilidade            346\n",
       " Name: document_type, dtype: int64,\n",
       " outros                              84104\n",
       " peticao_do_RE                        6364\n",
       " agravo_em_recurso_extraordinario     2149\n",
       " sentenca                             1636\n",
       " acordao_de_2_instancia                299\n",
       " despacho_de_admissibilidade           183\n",
       " Name: document_type, dtype: int64,\n",
       " outros                              85408\n",
       " peticao_do_RE                        6331\n",
       " agravo_em_recurso_extraordinario     1841\n",
       " sentenca                             1475\n",
       " acordao_de_2_instancia                273\n",
       " despacho_de_admissibilidade           198\n",
       " Name: document_type, dtype: int64)"
      ]
     },
     "execution_count": 5,
     "metadata": {},
     "output_type": "execute_result"
    }
   ],
   "source": [
    "train_counts = train[\"document_type\"].value_counts()\n",
    "val_counts = val[\"document_type\"].value_counts()\n",
    "test_counts = test_data[\"document_type\"].value_counts()\n",
    "train_counts, val_counts, test_counts "
   ]
  },
  {
   "cell_type": "code",
   "execution_count": 12,
   "metadata": {},
   "outputs": [],
   "source": [
    "train_no_dupls = train.drop_duplicates()\n",
    "val_no_dupls = val.drop_duplicates()\n",
    "test_no_dupls = test_data.drop_duplicates()"
   ]
  },
  {
   "cell_type": "code",
   "execution_count": 13,
   "metadata": {},
   "outputs": [
    {
     "data": {
      "text/plain": [
       "(outros                              130337\n",
       " peticao_do_RE                         9465\n",
       " agravo_em_recurso_extraordinario      2508\n",
       " sentenca                              2129\n",
       " acordao_de_2_instancia                 553\n",
       " despacho_de_admissibilidade            346\n",
       " Name: document_type, dtype: int64,\n",
       " outros                              79936\n",
       " peticao_do_RE                        6180\n",
       " agravo_em_recurso_extraordinario     2001\n",
       " sentenca                             1568\n",
       " acordao_de_2_instancia                293\n",
       " despacho_de_admissibilidade           177\n",
       " Name: document_type, dtype: int64,\n",
       " outros                              80781\n",
       " peticao_do_RE                        6122\n",
       " agravo_em_recurso_extraordinario     1723\n",
       " sentenca                             1450\n",
       " acordao_de_2_instancia                271\n",
       " despacho_de_admissibilidade           197\n",
       " Name: document_type, dtype: int64)"
      ]
     },
     "execution_count": 13,
     "metadata": {},
     "output_type": "execute_result"
    }
   ],
   "source": [
    "train_counts = train_no_dupls[\"document_type\"].value_counts()\n",
    "val_counts = val_no_dupls[\"document_type\"].value_counts()\n",
    "test_counts = test_no_dupls[\"document_type\"].value_counts()\n",
    "train_counts, val_counts, test_counts "
   ]
  },
  {
   "cell_type": "code",
   "execution_count": 3,
   "metadata": {},
   "outputs": [],
   "source": [
    "path = Path(\"/mnt/nas/backups/08-07-2020/desktopg01/lisa/Data/small_flow\")\n",
    "dls = get_dls(path, 64, 224)"
   ]
  },
  {
   "cell_type": "code",
   "execution_count": 4,
   "metadata": {},
   "outputs": [],
   "source": [
    "test_items = get_image_files(path, folders=\"test\")"
   ]
  },
  {
   "cell_type": "code",
   "execution_count": 5,
   "metadata": {},
   "outputs": [],
   "source": [
    "test_dl = dls.test_dl(test_items, with_labels=True)"
   ]
  },
  {
   "cell_type": "code",
   "execution_count": 21,
   "metadata": {},
   "outputs": [
    {
     "data": {
      "text/plain": [
       "['acordao_de_2_instancia', 'agravo_em_recurso_extraordinario', 'despacho_de_admissibilidade', 'outros', 'peticao_do_RE', 'sentenca']"
      ]
     },
     "execution_count": 21,
     "metadata": {},
     "output_type": "execute_result"
    }
   ],
   "source": [
    "dls.categorize.vocab"
   ]
  },
  {
   "cell_type": "code",
   "execution_count": 16,
   "metadata": {},
   "outputs": [
    {
     "data": {
      "text/plain": [
       "tensor([   583,   4220,    361, 140786,  10181,   2177])"
      ]
     },
     "execution_count": 16,
     "metadata": {},
     "output_type": "execute_result"
    }
   ],
   "source": [
    "torch.bincount(tensor(dls.train.tls[1]))"
   ]
  },
  {
   "cell_type": "code",
   "execution_count": 17,
   "metadata": {},
   "outputs": [
    {
     "data": {
      "text/plain": [
       "tensor([  314,  2650,   183, 91434,  6803,  1613])"
      ]
     },
     "execution_count": 17,
     "metadata": {},
     "output_type": "execute_result"
    }
   ],
   "source": [
    "torch.bincount(tensor(dls.valid.tls[1]))"
   ]
  },
  {
   "cell_type": "code",
   "execution_count": 18,
   "metadata": {},
   "outputs": [
    {
     "data": {
      "text/plain": [
       "tensor([  285,  2537,   198, 87902,  6177,  1478])"
      ]
     },
     "execution_count": 18,
     "metadata": {},
     "output_type": "execute_result"
    }
   ],
   "source": [
    "torch.bincount(tensor(test_dl.tls[1]))"
   ]
  },
  {
   "cell_type": "code",
   "execution_count": null,
   "metadata": {},
   "outputs": [],
   "source": []
  }
 ],
 "metadata": {
  "kernelspec": {
   "display_name": "fastai2",
   "language": "python",
   "name": "fastai2"
  },
  "language_info": {
   "codemirror_mode": {
    "name": "ipython",
    "version": 3
   },
   "file_extension": ".py",
   "mimetype": "text/x-python",
   "name": "python",
   "nbconvert_exporter": "python",
   "pygments_lexer": "ipython3",
   "version": "3.8.5"
  }
 },
 "nbformat": 4,
 "nbformat_minor": 4
}
