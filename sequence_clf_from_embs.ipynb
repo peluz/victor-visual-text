{
 "cells": [
  {
   "cell_type": "code",
   "execution_count": 1,
   "metadata": {},
   "outputs": [],
   "source": [
    "%load_ext autoreload\n",
    "%autoreload 2\n",
    "\n",
    "from fastai.text.all import *\n",
    "from fastai.vision.all import *\n",
    "import pandas as pd\n",
    "import torch\n",
    "from tqdm.notebook import tqdm\n",
    "from sklearn.metrics import classification_report, f1_score\n",
    "from torchcrf import CRF\n",
    "from utils import get_sequences, GetLabels, My_Pad_Input"
   ]
  },
  {
   "cell_type": "code",
   "execution_count": 2,
   "metadata": {},
   "outputs": [],
   "source": [
    "seed = 42\n",
    "\n",
    "# python RNG\n",
    "import random\n",
    "random.seed(seed)\n",
    "\n",
    "# pytorch RNGs\n",
    "import torch\n",
    "torch.manual_seed(seed)\n",
    "torch.backends.cudnn.deterministic = True\n",
    "if torch.cuda.is_available(): torch.cuda.manual_seed_all(seed)\n",
    "\n",
    "# numpy RNG\n",
    "import numpy as np\n",
    "np.random.seed(seed)"
   ]
  },
  {
   "cell_type": "code",
   "execution_count": 3,
   "metadata": {},
   "outputs": [],
   "source": [
    "OUT_DIM=12\n",
    "INPUT_DIM=128\n",
    "BS= 64"
   ]
  },
  {
   "cell_type": "code",
   "execution_count": 4,
   "metadata": {},
   "outputs": [],
   "source": [
    "train = pd.read_csv(\"./data/train_fusion.csv\")\n",
    "val = pd.read_csv(\"./data/val_fusion.csv\")\n",
    "test_data = pd.read_csv(\"./data/test_fusion.csv\")"
   ]
  },
  {
   "cell_type": "code",
   "execution_count": 5,
   "metadata": {},
   "outputs": [],
   "source": [
    "train[\"document_type\"] = train.apply(lambda x: \"B-\" + x[\"document_type\"] if x[\"pages\"] == 1 else \"I-\" + x[\"document_type\"],\n",
    "                                     axis=1)\n",
    "val[\"document_type\"] = val.apply(lambda x: \"B-\" + x[\"document_type\"] if x[\"pages\"] == 1 else \"I-\" + x[\"document_type\"],\n",
    "                                     axis=1)\n",
    "test_data[\"document_type\"] = test_data.apply(lambda x: \"B-\" + x[\"document_type\"] if x[\"pages\"] == 1 else \"I-\" + x[\"document_type\"],\n",
    "                                   axis=1)"
   ]
  },
  {
   "cell_type": "code",
   "execution_count": 6,
   "metadata": {},
   "outputs": [],
   "source": [
    "X_train, y_train = get_sequences(train)\n",
    "X_valid, y_valid = get_sequences(val)\n",
    "X_test, y_test = get_sequences(test_data)"
   ]
  },
  {
   "cell_type": "code",
   "execution_count": 7,
   "metadata": {},
   "outputs": [],
   "source": [
    "data = pd.concat([pd.DataFrame({\"acts\":X_train, \"labels\":y_train, \"is_valid\": False}),\n",
    "                 pd.DataFrame({\"acts\":X_valid, \"labels\":y_valid, \"is_valid\": True})])"
   ]
  },
  {
   "cell_type": "code",
   "execution_count": 49,
   "metadata": {},
   "outputs": [],
   "source": [
    "class GetImgAndTextEmbs(Transform):\n",
    "    def encodes(self, x):    \n",
    "        embs = []\n",
    "        for act in x[\"acts\"]:\n",
    "            try:\n",
    "                img_emb = torch.load(act.replace(\"text\", \"img\") + \".pt\")\n",
    "            except FileNotFoundError:\n",
    "                img_emb = torch.zeros(4096)\n",
    "            text_emb = tensor(np.load(act + \".npy\"))\n",
    "            embs.append(torch.cat([img_emb, text_emb]).view(1,-1))\n",
    "        return torch.cat(embs)"
   ]
  },
  {
   "cell_type": "code",
   "execution_count": 9,
   "metadata": {},
   "outputs": [],
   "source": [
    "my_pad_input=My_Pad_Input(12)"
   ]
  },
  {
   "cell_type": "code",
   "execution_count": null,
   "metadata": {},
   "outputs": [],
   "source": [
    "tfms = [[GetImgAndTextEmbs()], [GetLabels()]]\n",
    "splits = ColSplitter()(data)\n",
    "dsets = Datasets(data, tfms, splits=splits)\n",
    "dls = dsets.dataloaders(dl_type=SortedDL, before_batch=partial(my_pad_input, pad_fields=[0,1]), bs=BS)"
   ]
  },
  {
   "cell_type": "code",
   "execution_count": null,
   "metadata": {},
   "outputs": [],
   "source": [
    "dls.one_batch()"
   ]
  },
  {
   "cell_type": "code",
   "execution_count": null,
   "metadata": {},
   "outputs": [],
   "source": [
    "b = dls.one_batch(); b[0].shape"
   ]
  },
  {
   "cell_type": "code",
   "execution_count": null,
   "metadata": {},
   "outputs": [],
   "source": [
    "torch.save(dls, \"./data/dls_sequence_from_embs.pth\")"
   ]
  },
  {
   "cell_type": "code",
   "execution_count": 10,
   "metadata": {},
   "outputs": [],
   "source": [
    "dls = torch.load(\"./data/dls_sequence_from_embs.pth\")"
   ]
  },
  {
   "cell_type": "code",
   "execution_count": 11,
   "metadata": {},
   "outputs": [],
   "source": [
    "class LSTMModel(Module):\n",
    "    def __init__(self, input_dim, out_dim, hidden_dim=128):\n",
    "        self.lstm = torch.nn.LSTM(input_size=hidden_dim*4, hidden_size=hidden_dim,\n",
    "                                  batch_first=True, bidirectional=True).cuda()\n",
    "        self.bn1 = nn.BatchNorm1d(input_dim, momentum=0.01).cuda()\n",
    "        self.bn2 = nn.BatchNorm1d(hidden_dim*2, momentum=0.01).cuda()\n",
    "        self.drop1 = nn.Dropout().cuda()\n",
    "        self.drop2 = nn.Dropout().cuda()\n",
    "        self.lin1 = nn.Linear(input_dim, hidden_dim*4)\n",
    "        self.lin2 = nn.Linear(hidden_dim*2, out_dim).cuda()\n",
    "        self.relu = nn.ReLU()\n",
    "        \n",
    "    def forward(self, x):\n",
    "        x = x.permute(0, 2, 1)\n",
    "        x = self.bn1(x)\n",
    "        x = self.drop1(x)\n",
    "        x = x.permute(0, 2, 1)\n",
    "        x = self.lin1(x)\n",
    "        x = self.relu(x)\n",
    "        out, _ = self.lstm(x)\n",
    "        out = out.permute(0, 2, 1)\n",
    "        out_norm = self.bn2(out)\n",
    "        out_drop = self.drop2(out_norm)\n",
    "        out_drop = out_drop.permute(0, 2, 1)\n",
    "        return self.lin2(out_drop)"
   ]
  },
  {
   "cell_type": "code",
   "execution_count": 12,
   "metadata": {},
   "outputs": [],
   "source": [
    "model = LSTMModel(7936, 12)"
   ]
  },
  {
   "cell_type": "code",
   "execution_count": 13,
   "metadata": {},
   "outputs": [],
   "source": [
    "def loss_func(out, targ):\n",
    "    return CrossEntropyLossFlat(ignore_index=OUT_DIM)(out, targ.long())"
   ]
  },
  {
   "cell_type": "code",
   "execution_count": 14,
   "metadata": {},
   "outputs": [],
   "source": [
    "def _accumulate(self, learn):\n",
    "    pred = learn.pred\n",
    "    targ = learn.y\n",
    "    pred,targ = to_detach(pred),to_detach(targ)\n",
    "    pred =np.argmax(pred, axis=-1)\n",
    "    pred, targ = flatten_check(pred, targ)\n",
    "    pad_idxs = [i for i,x in enumerate(targ) if x != tensor([12])]\n",
    "    pred = pred[pad_idxs]\n",
    "    targ = targ[pad_idxs]\n",
    "    pred = torch.remainder(pred, 6)\n",
    "    targ = torch.remainder(targ, 6)\n",
    "    self.preds.append(pred)\n",
    "    self.targs.append(targ)\n",
    "\n",
    "AccumMetric.accumulate = _accumulate\n",
    "\n",
    "def MyFScore(average='macro'):\n",
    "    return skm_to_fastai(f1_score, average=average)"
   ]
  },
  {
   "cell_type": "code",
   "execution_count": 15,
   "metadata": {},
   "outputs": [],
   "source": [
    "dls.bs = dls.train.bs = dls.valid.bs = 8"
   ]
  },
  {
   "cell_type": "code",
   "execution_count": 16,
   "metadata": {},
   "outputs": [],
   "source": [
    "learn = Learner(dls, model, loss_func=loss_func, metrics=[MyFScore()])"
   ]
  },
  {
   "cell_type": "code",
   "execution_count": 17,
   "metadata": {},
   "outputs": [
    {
     "data": {
      "text/html": [
       "<table border=\"1\" class=\"dataframe\">\n",
       "  <thead>\n",
       "    <tr style=\"text-align: left;\">\n",
       "      <th>epoch</th>\n",
       "      <th>train_loss</th>\n",
       "      <th>valid_loss</th>\n",
       "      <th>f1_score</th>\n",
       "      <th>time</th>\n",
       "    </tr>\n",
       "  </thead>\n",
       "  <tbody>\n",
       "    <tr>\n",
       "      <td>0</td>\n",
       "      <td>None</td>\n",
       "      <td>None</td>\n",
       "      <td>00:00</td>\n",
       "    </tr>\n",
       "  </tbody>\n",
       "</table>"
      ],
      "text/plain": [
       "<IPython.core.display.HTML object>"
      ]
     },
     "metadata": {},
     "output_type": "display_data"
    },
    {
     "data": {
      "text/plain": [
       "LSTMModel (Input shape: ['8 x 4242 x 7936'])\n",
       "================================================================\n",
       "Layer (type)         Output Shape         Param #    Trainable \n",
       "================================================================\n",
       "LSTM                 ['8 x 4242 x 256',   657,408    True      \n",
       "________________________________________________________________\n",
       "BatchNorm1d          8 x 7936 x 4242      15,872     True      \n",
       "________________________________________________________________\n",
       "BatchNorm1d          8 x 256 x 4242       512        True      \n",
       "________________________________________________________________\n",
       "Dropout              8 x 7936 x 4242      0          False     \n",
       "________________________________________________________________\n",
       "Dropout              8 x 256 x 4242       0          False     \n",
       "________________________________________________________________\n",
       "Linear               8 x 4242 x 512       4,063,744  True      \n",
       "________________________________________________________________\n",
       "Linear               8 x 4242 x 12        3,084      True      \n",
       "________________________________________________________________\n",
       "ReLU                 8 x 4242 x 512       0          False     \n",
       "________________________________________________________________\n",
       "\n",
       "Total params: 4,740,620\n",
       "Total trainable params: 4,740,620\n",
       "Total non-trainable params: 0\n",
       "\n",
       "Optimizer used: <function Adam at 0x7f49c38a04c0>\n",
       "Loss function: <function loss_func at 0x7f49a5b0da60>\n",
       "\n",
       "Callbacks:\n",
       "  - TrainEvalCallback\n",
       "  - Recorder\n",
       "  - ProgressCallback"
      ]
     },
     "execution_count": 17,
     "metadata": {},
     "output_type": "execute_result"
    }
   ],
   "source": [
    "learn.summary()"
   ]
  },
  {
   "cell_type": "code",
   "execution_count": 18,
   "metadata": {},
   "outputs": [
    {
     "data": {
      "text/html": [],
      "text/plain": [
       "<IPython.core.display.HTML object>"
      ]
     },
     "metadata": {},
     "output_type": "display_data"
    },
    {
     "data": {
      "text/plain": [
       "(#2) [2.508000135421753,0.003429839882032029]"
      ]
     },
     "execution_count": 18,
     "metadata": {},
     "output_type": "execute_result"
    }
   ],
   "source": [
    "learn.validate()"
   ]
  },
  {
   "cell_type": "code",
   "execution_count": 19,
   "metadata": {},
   "outputs": [
    {
     "data": {
      "text/html": [],
      "text/plain": [
       "<IPython.core.display.HTML object>"
      ]
     },
     "metadata": {},
     "output_type": "display_data"
    },
    {
     "data": {
      "text/plain": [
       "SuggestedLRs(lr_min=0.02089296132326126, lr_steep=0.5248074531555176)"
      ]
     },
     "execution_count": 19,
     "metadata": {},
     "output_type": "execute_result"
    },
    {
     "data": {
      "image/png": "[encoded data removed]",
      "text/plain": [
       "<Figure size 432x288 with 1 Axes>"
      ]
     },
     "metadata": {
      "needs_background": "light"
     },
     "output_type": "display_data"
    }
   ],
   "source": [
    "learn.lr_find()"
   ]
  },
  {
   "cell_type": "code",
   "execution_count": 20,
   "metadata": {},
   "outputs": [],
   "source": [
    "learn.add_cbs([SaveModelCallback(monitor='f1_score', fname='best_sequence_from_embs128'),\n",
    "                                       ShowGraphCallback()])"
   ]
  },
  {
   "cell_type": "code",
   "execution_count": 21,
   "metadata": {},
   "outputs": [
    {
     "data": {
      "text/html": [
       "<table border=\"1\" class=\"dataframe\">\n",
       "  <thead>\n",
       "    <tr style=\"text-align: left;\">\n",
       "      <th>epoch</th>\n",
       "      <th>train_loss</th>\n",
       "      <th>valid_loss</th>\n",
       "      <th>f1_score</th>\n",
       "      <th>time</th>\n",
       "    </tr>\n",
       "  </thead>\n",
       "  <tbody>\n",
       "    <tr>\n",
       "      <td>0</td>\n",
       "      <td>0.547399</td>\n",
       "      <td>0.765680</td>\n",
       "      <td>0.450509</td>\n",
       "      <td>15:53</td>\n",
       "    </tr>\n",
       "    <tr>\n",
       "      <td>1</td>\n",
       "      <td>0.597284</td>\n",
       "      <td>0.960808</td>\n",
       "      <td>0.356120</td>\n",
       "      <td>14:23</td>\n",
       "    </tr>\n",
       "    <tr>\n",
       "      <td>2</td>\n",
       "      <td>0.568588</td>\n",
       "      <td>0.513274</td>\n",
       "      <td>0.386826</td>\n",
       "      <td>11:30</td>\n",
       "    </tr>\n",
       "    <tr>\n",
       "      <td>3</td>\n",
       "      <td>0.498291</td>\n",
       "      <td>0.525358</td>\n",
       "      <td>0.383557</td>\n",
       "      <td>10:01</td>\n",
       "    </tr>\n",
       "    <tr>\n",
       "      <td>4</td>\n",
       "      <td>0.515713</td>\n",
       "      <td>0.733886</td>\n",
       "      <td>0.553666</td>\n",
       "      <td>10:45</td>\n",
       "    </tr>\n",
       "    <tr>\n",
       "      <td>5</td>\n",
       "      <td>0.461893</td>\n",
       "      <td>0.439217</td>\n",
       "      <td>0.506111</td>\n",
       "      <td>09:51</td>\n",
       "    </tr>\n",
       "    <tr>\n",
       "      <td>6</td>\n",
       "      <td>0.345286</td>\n",
       "      <td>0.461302</td>\n",
       "      <td>0.500697</td>\n",
       "      <td>09:56</td>\n",
       "    </tr>\n",
       "    <tr>\n",
       "      <td>7</td>\n",
       "      <td>0.384209</td>\n",
       "      <td>0.439289</td>\n",
       "      <td>0.584356</td>\n",
       "      <td>10:03</td>\n",
       "    </tr>\n",
       "    <tr>\n",
       "      <td>8</td>\n",
       "      <td>0.335184</td>\n",
       "      <td>0.399370</td>\n",
       "      <td>0.656588</td>\n",
       "      <td>09:32</td>\n",
       "    </tr>\n",
       "    <tr>\n",
       "      <td>9</td>\n",
       "      <td>0.298613</td>\n",
       "      <td>0.411380</td>\n",
       "      <td>0.654622</td>\n",
       "      <td>09:34</td>\n",
       "    </tr>\n",
       "  </tbody>\n",
       "</table>"
      ],
      "text/plain": [
       "<IPython.core.display.HTML object>"
      ]
     },
     "metadata": {},
     "output_type": "display_data"
    },
    {
     "name": "stdout",
     "output_type": "stream",
     "text": [
      "Better model found at epoch 0 with f1_score value: 0.45050946516838386.\n"
     ]
    },
    {
     "data": {
      "image/png": "[encoded data removed]",
      "text/plain": [
       "<Figure size 432x288 with 1 Axes>"
      ]
     },
     "metadata": {},
     "output_type": "display_data"
    },
    {
     "name": "stdout",
     "output_type": "stream",
     "text": [
      "Better model found at epoch 4 with f1_score value: 0.5536660265324125.\n",
      "Better model found at epoch 7 with f1_score value: 0.5843557328010709.\n",
      "Better model found at epoch 8 with f1_score value: 0.6565884719323847.\n"
     ]
    }
   ],
   "source": [
    "learn.fit_one_cycle(10, lr_max=1e-2)"
   ]
  },
  {
   "cell_type": "code",
   "execution_count": 22,
   "metadata": {},
   "outputs": [],
   "source": [
    "model = LSTMModel(7936, 12, hidden_dim=256)"
   ]
  },
  {
   "cell_type": "code",
   "execution_count": 23,
   "metadata": {},
   "outputs": [],
   "source": [
    "learn = Learner(dls, model, loss_func=loss_func, metrics=[MyFScore()])"
   ]
  },
  {
   "cell_type": "code",
   "execution_count": 24,
   "metadata": {},
   "outputs": [
    {
     "data": {
      "text/html": [],
      "text/plain": [
       "<IPython.core.display.HTML object>"
      ]
     },
     "metadata": {},
     "output_type": "display_data"
    },
    {
     "data": {
      "text/plain": [
       "SuggestedLRs(lr_min=0.006918309628963471, lr_steep=0.3630780577659607)"
      ]
     },
     "execution_count": 24,
     "metadata": {},
     "output_type": "execute_result"
    },
    {
     "data": {
      "image/png": "[encoded data removed]",
      "text/plain": [
       "<Figure size 432x288 with 1 Axes>"
      ]
     },
     "metadata": {
      "needs_background": "light"
     },
     "output_type": "display_data"
    }
   ],
   "source": [
    "learn.lr_find()"
   ]
  },
  {
   "cell_type": "code",
   "execution_count": 25,
   "metadata": {},
   "outputs": [],
   "source": [
    "learn.add_cbs([SaveModelCallback(monitor='f1_score', fname='best_sequence_from_embs256'),\n",
    "                                       ShowGraphCallback()])"
   ]
  },
  {
   "cell_type": "code",
   "execution_count": 26,
   "metadata": {},
   "outputs": [
    {
     "data": {
      "text/html": [
       "<table border=\"1\" class=\"dataframe\">\n",
       "  <thead>\n",
       "    <tr style=\"text-align: left;\">\n",
       "      <th>epoch</th>\n",
       "      <th>train_loss</th>\n",
       "      <th>valid_loss</th>\n",
       "      <th>f1_score</th>\n",
       "      <th>time</th>\n",
       "    </tr>\n",
       "  </thead>\n",
       "  <tbody>\n",
       "    <tr>\n",
       "      <td>0</td>\n",
       "      <td>0.451509</td>\n",
       "      <td>0.473038</td>\n",
       "      <td>0.390945</td>\n",
       "      <td>09:43</td>\n",
       "    </tr>\n",
       "    <tr>\n",
       "      <td>1</td>\n",
       "      <td>0.539324</td>\n",
       "      <td>1.272970</td>\n",
       "      <td>0.320121</td>\n",
       "      <td>09:40</td>\n",
       "    </tr>\n",
       "    <tr>\n",
       "      <td>2</td>\n",
       "      <td>0.598110</td>\n",
       "      <td>0.716145</td>\n",
       "      <td>0.385259</td>\n",
       "      <td>09:18</td>\n",
       "    </tr>\n",
       "    <tr>\n",
       "      <td>3</td>\n",
       "      <td>0.570516</td>\n",
       "      <td>0.524543</td>\n",
       "      <td>0.475993</td>\n",
       "      <td>09:56</td>\n",
       "    </tr>\n",
       "    <tr>\n",
       "      <td>4</td>\n",
       "      <td>0.539251</td>\n",
       "      <td>0.563064</td>\n",
       "      <td>0.365693</td>\n",
       "      <td>09:32</td>\n",
       "    </tr>\n",
       "    <tr>\n",
       "      <td>5</td>\n",
       "      <td>0.404970</td>\n",
       "      <td>0.526181</td>\n",
       "      <td>0.423972</td>\n",
       "      <td>09:16</td>\n",
       "    </tr>\n",
       "    <tr>\n",
       "      <td>6</td>\n",
       "      <td>0.446491</td>\n",
       "      <td>0.405158</td>\n",
       "      <td>0.480221</td>\n",
       "      <td>09:23</td>\n",
       "    </tr>\n",
       "    <tr>\n",
       "      <td>7</td>\n",
       "      <td>0.400574</td>\n",
       "      <td>0.446213</td>\n",
       "      <td>0.510660</td>\n",
       "      <td>09:51</td>\n",
       "    </tr>\n",
       "    <tr>\n",
       "      <td>8</td>\n",
       "      <td>0.413371</td>\n",
       "      <td>0.385016</td>\n",
       "      <td>0.530872</td>\n",
       "      <td>09:34</td>\n",
       "    </tr>\n",
       "    <tr>\n",
       "      <td>9</td>\n",
       "      <td>0.352108</td>\n",
       "      <td>0.400128</td>\n",
       "      <td>0.515341</td>\n",
       "      <td>09:03</td>\n",
       "    </tr>\n",
       "  </tbody>\n",
       "</table>"
      ],
      "text/plain": [
       "<IPython.core.display.HTML object>"
      ]
     },
     "metadata": {},
     "output_type": "display_data"
    },
    {
     "name": "stdout",
     "output_type": "stream",
     "text": [
      "Better model found at epoch 0 with f1_score value: 0.39094463253827866.\n"
     ]
    },
    {
     "data": {
      "image/png": "[encoded data removed]",
      "text/plain": [
       "<Figure size 432x288 with 1 Axes>"
      ]
     },
     "metadata": {},
     "output_type": "display_data"
    },
    {
     "name": "stdout",
     "output_type": "stream",
     "text": [
      "Better model found at epoch 3 with f1_score value: 0.4759929418940761.\n",
      "Better model found at epoch 6 with f1_score value: 0.48022127765464706.\n",
      "Better model found at epoch 7 with f1_score value: 0.5106595512306882.\n",
      "Better model found at epoch 8 with f1_score value: 0.5308723209771515.\n"
     ]
    }
   ],
   "source": [
    "learn.fit_one_cycle(10, lr_max=1e-2)"
   ]
  },
  {
   "cell_type": "code",
   "execution_count": 31,
   "metadata": {},
   "outputs": [],
   "source": [
    "model = LSTMModel(7936, 12)"
   ]
  },
  {
   "cell_type": "code",
   "execution_count": 32,
   "metadata": {},
   "outputs": [],
   "source": [
    "learn = Learner(dls, model, loss_func=loss_func, metrics=[MyFScore()])"
   ]
  },
  {
   "cell_type": "code",
   "execution_count": 33,
   "metadata": {},
   "outputs": [],
   "source": [
    "learn.add_cbs([SaveModelCallback(monitor='f1_score', fname='best_sequence_from_embs128_moreEpochs'),\n",
    "                                       ShowGraphCallback()])"
   ]
  },
  {
   "cell_type": "code",
   "execution_count": 34,
   "metadata": {},
   "outputs": [
    {
     "data": {
      "text/html": [
       "<table border=\"1\" class=\"dataframe\">\n",
       "  <thead>\n",
       "    <tr style=\"text-align: left;\">\n",
       "      <th>epoch</th>\n",
       "      <th>train_loss</th>\n",
       "      <th>valid_loss</th>\n",
       "      <th>f1_score</th>\n",
       "      <th>time</th>\n",
       "    </tr>\n",
       "  </thead>\n",
       "  <tbody>\n",
       "    <tr>\n",
       "      <td>0</td>\n",
       "      <td>1.341237</td>\n",
       "      <td>0.857409</td>\n",
       "      <td>0.493499</td>\n",
       "      <td>08:47</td>\n",
       "    </tr>\n",
       "    <tr>\n",
       "      <td>1</td>\n",
       "      <td>0.722352</td>\n",
       "      <td>0.330881</td>\n",
       "      <td>0.621946</td>\n",
       "      <td>08:54</td>\n",
       "    </tr>\n",
       "    <tr>\n",
       "      <td>2</td>\n",
       "      <td>0.380879</td>\n",
       "      <td>0.287816</td>\n",
       "      <td>0.657044</td>\n",
       "      <td>08:59</td>\n",
       "    </tr>\n",
       "    <tr>\n",
       "      <td>3</td>\n",
       "      <td>0.285206</td>\n",
       "      <td>0.297263</td>\n",
       "      <td>0.700843</td>\n",
       "      <td>09:07</td>\n",
       "    </tr>\n",
       "    <tr>\n",
       "      <td>4</td>\n",
       "      <td>0.229060</td>\n",
       "      <td>0.377242</td>\n",
       "      <td>0.688905</td>\n",
       "      <td>09:00</td>\n",
       "    </tr>\n",
       "    <tr>\n",
       "      <td>5</td>\n",
       "      <td>0.179680</td>\n",
       "      <td>0.323266</td>\n",
       "      <td>0.704693</td>\n",
       "      <td>08:49</td>\n",
       "    </tr>\n",
       "    <tr>\n",
       "      <td>6</td>\n",
       "      <td>0.176218</td>\n",
       "      <td>0.277834</td>\n",
       "      <td>0.757028</td>\n",
       "      <td>08:53</td>\n",
       "    </tr>\n",
       "    <tr>\n",
       "      <td>7</td>\n",
       "      <td>0.173018</td>\n",
       "      <td>0.313159</td>\n",
       "      <td>0.757493</td>\n",
       "      <td>09:30</td>\n",
       "    </tr>\n",
       "    <tr>\n",
       "      <td>8</td>\n",
       "      <td>0.133803</td>\n",
       "      <td>0.293762</td>\n",
       "      <td>0.752615</td>\n",
       "      <td>08:53</td>\n",
       "    </tr>\n",
       "    <tr>\n",
       "      <td>9</td>\n",
       "      <td>0.142847</td>\n",
       "      <td>0.245148</td>\n",
       "      <td>0.767563</td>\n",
       "      <td>08:37</td>\n",
       "    </tr>\n",
       "    <tr>\n",
       "      <td>10</td>\n",
       "      <td>0.115740</td>\n",
       "      <td>0.230756</td>\n",
       "      <td>0.774234</td>\n",
       "      <td>09:28</td>\n",
       "    </tr>\n",
       "    <tr>\n",
       "      <td>11</td>\n",
       "      <td>0.093471</td>\n",
       "      <td>0.277974</td>\n",
       "      <td>0.761084</td>\n",
       "      <td>08:46</td>\n",
       "    </tr>\n",
       "    <tr>\n",
       "      <td>12</td>\n",
       "      <td>0.085475</td>\n",
       "      <td>0.280204</td>\n",
       "      <td>0.766637</td>\n",
       "      <td>08:51</td>\n",
       "    </tr>\n",
       "    <tr>\n",
       "      <td>13</td>\n",
       "      <td>0.063151</td>\n",
       "      <td>0.297627</td>\n",
       "      <td>0.757789</td>\n",
       "      <td>08:44</td>\n",
       "    </tr>\n",
       "    <tr>\n",
       "      <td>14</td>\n",
       "      <td>0.059121</td>\n",
       "      <td>0.303564</td>\n",
       "      <td>0.769016</td>\n",
       "      <td>08:53</td>\n",
       "    </tr>\n",
       "    <tr>\n",
       "      <td>15</td>\n",
       "      <td>0.057148</td>\n",
       "      <td>0.277817</td>\n",
       "      <td>0.779515</td>\n",
       "      <td>08:47</td>\n",
       "    </tr>\n",
       "    <tr>\n",
       "      <td>16</td>\n",
       "      <td>0.055862</td>\n",
       "      <td>0.277774</td>\n",
       "      <td>0.781617</td>\n",
       "      <td>08:58</td>\n",
       "    </tr>\n",
       "    <tr>\n",
       "      <td>17</td>\n",
       "      <td>0.042138</td>\n",
       "      <td>0.277070</td>\n",
       "      <td>0.782555</td>\n",
       "      <td>09:09</td>\n",
       "    </tr>\n",
       "    <tr>\n",
       "      <td>18</td>\n",
       "      <td>0.050422</td>\n",
       "      <td>0.261420</td>\n",
       "      <td>0.790284</td>\n",
       "      <td>08:57</td>\n",
       "    </tr>\n",
       "    <tr>\n",
       "      <td>19</td>\n",
       "      <td>0.050132</td>\n",
       "      <td>0.280166</td>\n",
       "      <td>0.781461</td>\n",
       "      <td>08:28</td>\n",
       "    </tr>\n",
       "  </tbody>\n",
       "</table>"
      ],
      "text/plain": [
       "<IPython.core.display.HTML object>"
      ]
     },
     "metadata": {},
     "output_type": "display_data"
    },
    {
     "name": "stdout",
     "output_type": "stream",
     "text": [
      "Better model found at epoch 0 with f1_score value: 0.49349868304468864.\n"
     ]
    },
    {
     "data": {
      "image/png": "[encoded data removed]",
      "text/plain": [
       "<Figure size 432x288 with 1 Axes>"
      ]
     },
     "metadata": {},
     "output_type": "display_data"
    },
    {
     "name": "stdout",
     "output_type": "stream",
     "text": [
      "Better model found at epoch 1 with f1_score value: 0.6219462337684253.\n",
      "Better model found at epoch 2 with f1_score value: 0.6570440883477785.\n",
      "Better model found at epoch 3 with f1_score value: 0.700843422499058.\n",
      "Better model found at epoch 5 with f1_score value: 0.7046933340419761.\n",
      "Better model found at epoch 6 with f1_score value: 0.7570284606516734.\n",
      "Better model found at epoch 7 with f1_score value: 0.7574926266679126.\n",
      "Better model found at epoch 9 with f1_score value: 0.7675632375336677.\n",
      "Better model found at epoch 10 with f1_score value: 0.7742344092405521.\n",
      "Better model found at epoch 15 with f1_score value: 0.7795145528458464.\n",
      "Better model found at epoch 16 with f1_score value: 0.78161719923967.\n",
      "Better model found at epoch 17 with f1_score value: 0.7825547075383716.\n",
      "Better model found at epoch 18 with f1_score value: 0.7902842067959669.\n"
     ]
    }
   ],
   "source": [
    "learn.fit_one_cycle(20, lr_max=1e-3)"
   ]
  },
  {
   "cell_type": "code",
   "execution_count": 36,
   "metadata": {},
   "outputs": [
    {
     "data": {
      "text/plain": [
       "<fastai.learner.Learner at 0x7f49e1697e20>"
      ]
     },
     "execution_count": 36,
     "metadata": {},
     "output_type": "execute_result"
    }
   ],
   "source": [
    "learn.load(\"best_sequence_from_embs128_moreEpochs\")"
   ]
  },
  {
   "cell_type": "code",
   "execution_count": 37,
   "metadata": {},
   "outputs": [],
   "source": [
    "def evaluate(learn, dl):\n",
    "    preds, targets = learn.get_preds(dl=dl)\n",
    "    preds =[np.argmax(x, axis=-1) for sublist in preds for x in sublist]\n",
    "    targets = [x for sublist in targets for x in sublist]\n",
    "    pad_idxs = [i for i,x in enumerate(targets) if x != tensor([12])]\n",
    "    preds = L(preds)[pad_idxs]\n",
    "    targets = L(targets)[pad_idxs]\n",
    "    print(classification_report(targets, preds, target_names=dl.get_labels.cat.vocab, digits=4))\n",
    "    preds = [x % 6 for x in preds]\n",
    "    targets = [x % 6 for x in targets]\n",
    "    print(classification_report(targets, preds, target_names=[x[2:] for x in dl.get_labels.cat.vocab[:6]], digits=4))"
   ]
  },
  {
   "cell_type": "code",
   "execution_count": null,
   "metadata": {},
   "outputs": [],
   "source": [
    "evaluate(learn, dls.valid)"
   ]
  },
  {
   "cell_type": "code",
   "execution_count": null,
   "metadata": {},
   "outputs": [],
   "source": [
    "test_data = pd.DataFrame({\"acts\":X_test, \"labels\":y_test})"
   ]
  },
  {
   "cell_type": "code",
   "execution_count": null,
   "metadata": {},
   "outputs": [],
   "source": [
    "test_dl = dls.test_dl(test_data, with_labels=True)"
   ]
  },
  {
   "cell_type": "code",
   "execution_count": null,
   "metadata": {},
   "outputs": [],
   "source": [
    "torch.save(test_dl, \"./data/test_dl_sequence_from_embs.pth\")"
   ]
  },
  {
   "cell_type": "code",
   "execution_count": null,
   "metadata": {},
   "outputs": [],
   "source": [
    "evaluate(learn, test_dl)"
   ]
  },
  {
   "cell_type": "code",
   "execution_count": null,
   "metadata": {},
   "outputs": [],
   "source": [
    "class BiLSTMCRF(Module):\n",
    "    def __init__(self, input_dim, out_dim, hidden_dim=128):\n",
    "        self.lstm = torch.nn.LSTM(input_size=hidden_dim*4, hidden_size=hidden_dim,\n",
    "                                  batch_first=True, bidirectional=True).cuda()\n",
    "        self.bn1 = nn.BatchNorm1d(input_dim, momentum=0.01).cuda()\n",
    "        self.bn2 = nn.BatchNorm1d(hidden_dim*2, momentum=0.01).cuda()\n",
    "        self.drop1 = nn.Dropout().cuda()\n",
    "        self.drop2 = nn.Dropout().cuda()\n",
    "        self.lin1 = nn.Linear(input_dim, hidden_dim*4)\n",
    "        self.lin2 = nn.Linear(hidden_dim*2, out_dim).cuda()\n",
    "        self.relu = nn.ReLU()\n",
    "        self.ccrf = CRF(num_tags=out_dim, batch_first=True).cuda()\n",
    "    \n",
    "    def crf_loss_func(self, out, targ):\n",
    "        mask = tensor(targ.data != OUT_DIM)\n",
    "        clean_targ = targ.clone()\n",
    "        clean_targ[clean_targ==OUT_DIM]=0\n",
    "        targ=targ.view(out.shape[:2])\n",
    "        clean_targ=clean_targ.view(targ.shape)\n",
    "        mask=mask.view(targ.shape)\n",
    "        return -self.crf(out, clean_targ.long(), mask=mask, reduction=\"mean\")\n",
    "        \n",
    "    def forward(self, x):\n",
    "        x = x.permute(0, 2, 1)\n",
    "        x = self.bn1(x)\n",
    "        x = self.drop1(x)\n",
    "        x = x.permute(0, 2, 1)\n",
    "        x = self.lin1(x)\n",
    "        x = self.relu(x)\n",
    "        out, _ = self.lstm(x)\n",
    "        out = out.permute(0, 2, 1)\n",
    "        out_norm = self.bn2(out)\n",
    "        out_drop = self.drop2(out_norm)\n",
    "        out_drop = out_drop.permute(0, 2, 1)\n",
    "        return self.lin2(out_drop)"
   ]
  },
  {
   "cell_type": "code",
   "execution_count": null,
   "metadata": {},
   "outputs": [],
   "source": [
    "model = BiLSTMCRF(7936, 12)"
   ]
  },
  {
   "cell_type": "code",
   "execution_count": null,
   "metadata": {},
   "outputs": [],
   "source": [
    "def _accumulate(self, learn):\n",
    "    pred = learn.pred\n",
    "    targ = learn.y\n",
    "    mask = tensor(targ.data != OUT_DIM)\n",
    "    pred,targ, mask = to_detach(pred),to_detach(targ), to_detach(mask)\n",
    "    mask=mask.view(pred.shape[:2])\n",
    "    pred = learn.model.crf.decode(pred.cuda(),mask=mask.cuda())\n",
    "    pred = tensor([[x for sublist in pred for x in sublist]]).view(-1)\n",
    "    targ = targ[mask].view(-1)\n",
    "    pred = torch.remainder(pred, 6)\n",
    "    targ = torch.remainder(targ, 6)\n",
    "    self.preds.append(pred)\n",
    "    self.targs.append(targ)\n",
    "\n",
    "AccumMetric.accumulate = _accumulate\n",
    "\n",
    "def MyFScore(average='macro'):\n",
    "    return skm_to_fastai(f1_score, average=average)"
   ]
  },
  {
   "cell_type": "code",
   "execution_count": null,
   "metadata": {},
   "outputs": [],
   "source": [
    "learn = Learner(dls, model, loss_func=model.crf_loss_func, metrics=[MyFScore()])"
   ]
  },
  {
   "cell_type": "code",
   "execution_count": null,
   "metadata": {},
   "outputs": [],
   "source": [
    "learn.validate()"
   ]
  },
  {
   "cell_type": "code",
   "execution_count": null,
   "metadata": {},
   "outputs": [],
   "source": [
    "learn.summary()"
   ]
  },
  {
   "cell_type": "code",
   "execution_count": null,
   "metadata": {},
   "outputs": [],
   "source": [
    "learn.lr_find()"
   ]
  },
  {
   "cell_type": "code",
   "execution_count": null,
   "metadata": {},
   "outputs": [],
   "source": [
    "learn.add_cbs([SaveModelCallback(monitor='f1_score', fname='best_lstm_fromEmbs_crf_128'),\n",
    "                                       ShowGraphCallback()])"
   ]
  },
  {
   "cell_type": "code",
   "execution_count": null,
   "metadata": {},
   "outputs": [],
   "source": [
    "learn.fit_one_cycle(10, lr_max=1e-3)"
   ]
  },
  {
   "cell_type": "code",
   "execution_count": 233,
   "metadata": {},
   "outputs": [],
   "source": [
    "model = BiLSTMCRF(7936, 12, hidden_dim=256)"
   ]
  },
  {
   "cell_type": "code",
   "execution_count": 234,
   "metadata": {},
   "outputs": [],
   "source": [
    "learn = Learner(dls, model, loss_func=model.crf_loss_func, metrics=[MyFScore()])"
   ]
  },
  {
   "cell_type": "code",
   "execution_count": 236,
   "metadata": {},
   "outputs": [
    {
     "data": {
      "text/html": [],
      "text/plain": [
       "<IPython.core.display.HTML object>"
      ]
     },
     "metadata": {},
     "output_type": "display_data"
    },
    {
     "data": {
      "text/plain": [
       "SuggestedLRs(lr_min=0.017378008365631102, lr_steep=6.309573450380412e-07)"
      ]
     },
     "execution_count": 236,
     "metadata": {},
     "output_type": "execute_result"
    },
    {
     "data": {
      "image/png": "[encoded data removed]",
      "text/plain": [
       "<Figure size 432x288 with 1 Axes>"
      ]
     },
     "metadata": {
      "needs_background": "light"
     },
     "output_type": "display_data"
    }
   ],
   "source": [
    "learn.lr_find()"
   ]
  },
  {
   "cell_type": "code",
   "execution_count": 237,
   "metadata": {},
   "outputs": [],
   "source": [
    "learn.add_cbs([SaveModelCallback(monitor='f1_score', fname='best_lstm_fromEmbs_crf_256'),\n",
    "                                       ShowGraphCallback()])"
   ]
  },
  {
   "cell_type": "code",
   "execution_count": 238,
   "metadata": {},
   "outputs": [
    {
     "data": {
      "text/html": [
       "<table border=\"1\" class=\"dataframe\">\n",
       "  <thead>\n",
       "    <tr style=\"text-align: left;\">\n",
       "      <th>epoch</th>\n",
       "      <th>train_loss</th>\n",
       "      <th>valid_loss</th>\n",
       "      <th>f1_score</th>\n",
       "      <th>time</th>\n",
       "    </tr>\n",
       "  </thead>\n",
       "  <tbody>\n",
       "    <tr>\n",
       "      <td>0</td>\n",
       "      <td>88.661140</td>\n",
       "      <td>48.520248</td>\n",
       "      <td>0.578167</td>\n",
       "      <td>03:37</td>\n",
       "    </tr>\n",
       "    <tr>\n",
       "      <td>1</td>\n",
       "      <td>60.694042</td>\n",
       "      <td>44.702351</td>\n",
       "      <td>0.588788</td>\n",
       "      <td>04:18</td>\n",
       "    </tr>\n",
       "    <tr>\n",
       "      <td>2</td>\n",
       "      <td>47.801300</td>\n",
       "      <td>67.834999</td>\n",
       "      <td>0.595032</td>\n",
       "      <td>04:26</td>\n",
       "    </tr>\n",
       "    <tr>\n",
       "      <td>3</td>\n",
       "      <td>53.336491</td>\n",
       "      <td>61.215359</td>\n",
       "      <td>0.617632</td>\n",
       "      <td>04:06</td>\n",
       "    </tr>\n",
       "    <tr>\n",
       "      <td>4</td>\n",
       "      <td>127.709564</td>\n",
       "      <td>114.879677</td>\n",
       "      <td>0.617381</td>\n",
       "      <td>04:10</td>\n",
       "    </tr>\n",
       "    <tr>\n",
       "      <td>5</td>\n",
       "      <td>103.720322</td>\n",
       "      <td>64.057060</td>\n",
       "      <td>0.703044</td>\n",
       "      <td>04:19</td>\n",
       "    </tr>\n",
       "    <tr>\n",
       "      <td>6</td>\n",
       "      <td>71.787842</td>\n",
       "      <td>48.716560</td>\n",
       "      <td>0.730607</td>\n",
       "      <td>04:17</td>\n",
       "    </tr>\n",
       "    <tr>\n",
       "      <td>7</td>\n",
       "      <td>57.704315</td>\n",
       "      <td>57.360401</td>\n",
       "      <td>0.757955</td>\n",
       "      <td>04:26</td>\n",
       "    </tr>\n",
       "    <tr>\n",
       "      <td>8</td>\n",
       "      <td>54.416355</td>\n",
       "      <td>40.568684</td>\n",
       "      <td>0.781473</td>\n",
       "      <td>04:00</td>\n",
       "    </tr>\n",
       "    <tr>\n",
       "      <td>9</td>\n",
       "      <td>45.043854</td>\n",
       "      <td>39.620537</td>\n",
       "      <td>0.785327</td>\n",
       "      <td>04:18</td>\n",
       "    </tr>\n",
       "  </tbody>\n",
       "</table>"
      ],
      "text/plain": [
       "<IPython.core.display.HTML object>"
      ]
     },
     "metadata": {},
     "output_type": "display_data"
    },
    {
     "name": "stdout",
     "output_type": "stream",
     "text": [
      "Better model found at epoch 0 with f1_score value: 0.5781670104923601.\n"
     ]
    },
    {
     "data": {
      "image/png": "[encoded data removed]",
      "text/plain": [
       "<Figure size 432x288 with 1 Axes>"
      ]
     },
     "metadata": {},
     "output_type": "display_data"
    },
    {
     "name": "stdout",
     "output_type": "stream",
     "text": [
      "Better model found at epoch 1 with f1_score value: 0.5887879450236809.\n",
      "Better model found at epoch 2 with f1_score value: 0.5950319433957403.\n",
      "Better model found at epoch 3 with f1_score value: 0.6176322443022161.\n",
      "Better model found at epoch 5 with f1_score value: 0.703044272643058.\n",
      "Better model found at epoch 6 with f1_score value: 0.7306069477550036.\n",
      "Better model found at epoch 7 with f1_score value: 0.7579551093617355.\n",
      "Better model found at epoch 8 with f1_score value: 0.7814727806410381.\n",
      "Better model found at epoch 9 with f1_score value: 0.7853273887274553.\n"
     ]
    }
   ],
   "source": [
    "learn.fit_one_cycle(10, lr_max=1e-3)"
   ]
  },
  {
   "cell_type": "code",
   "execution_count": 295,
   "metadata": {},
   "outputs": [],
   "source": [
    "model = BiLSTMCRF(7936, 12, hidden_dim=256)"
   ]
  },
  {
   "cell_type": "code",
   "execution_count": 296,
   "metadata": {},
   "outputs": [],
   "source": [
    "learn = Learner(dls, model, loss_func=model.crf_loss_func, metrics=[MyFScore()])"
   ]
  },
  {
   "cell_type": "code",
   "execution_count": 297,
   "metadata": {},
   "outputs": [],
   "source": [
    "learn.add_cbs([SaveModelCallback(monitor='f1_score', fname='best_lstm_fromEmbs_crf_256_moreEpochs'),\n",
    "                                       ShowGraphCallback()])"
   ]
  },
  {
   "cell_type": "code",
   "execution_count": 298,
   "metadata": {},
   "outputs": [
    {
     "data": {
      "text/html": [
       "<table border=\"1\" class=\"dataframe\">\n",
       "  <thead>\n",
       "    <tr style=\"text-align: left;\">\n",
       "      <th>epoch</th>\n",
       "      <th>train_loss</th>\n",
       "      <th>valid_loss</th>\n",
       "      <th>f1_score</th>\n",
       "      <th>time</th>\n",
       "    </tr>\n",
       "  </thead>\n",
       "  <tbody>\n",
       "    <tr>\n",
       "      <td>0</td>\n",
       "      <td>96.007629</td>\n",
       "      <td>53.845379</td>\n",
       "      <td>0.477175</td>\n",
       "      <td>04:15</td>\n",
       "    </tr>\n",
       "    <tr>\n",
       "      <td>1</td>\n",
       "      <td>69.905937</td>\n",
       "      <td>41.899326</td>\n",
       "      <td>0.595003</td>\n",
       "      <td>04:19</td>\n",
       "    </tr>\n",
       "    <tr>\n",
       "      <td>2</td>\n",
       "      <td>58.799763</td>\n",
       "      <td>97.396790</td>\n",
       "      <td>0.629216</td>\n",
       "      <td>04:27</td>\n",
       "    </tr>\n",
       "    <tr>\n",
       "      <td>3</td>\n",
       "      <td>71.084221</td>\n",
       "      <td>55.796886</td>\n",
       "      <td>0.630985</td>\n",
       "      <td>04:33</td>\n",
       "    </tr>\n",
       "    <tr>\n",
       "      <td>4</td>\n",
       "      <td>110.898964</td>\n",
       "      <td>153.758759</td>\n",
       "      <td>0.597405</td>\n",
       "      <td>04:24</td>\n",
       "    </tr>\n",
       "    <tr>\n",
       "      <td>5</td>\n",
       "      <td>118.221359</td>\n",
       "      <td>59.927944</td>\n",
       "      <td>0.503082</td>\n",
       "      <td>04:19</td>\n",
       "    </tr>\n",
       "    <tr>\n",
       "      <td>6</td>\n",
       "      <td>90.544388</td>\n",
       "      <td>51.914352</td>\n",
       "      <td>0.651473</td>\n",
       "      <td>04:22</td>\n",
       "    </tr>\n",
       "    <tr>\n",
       "      <td>7</td>\n",
       "      <td>79.850060</td>\n",
       "      <td>39.119453</td>\n",
       "      <td>0.719468</td>\n",
       "      <td>04:17</td>\n",
       "    </tr>\n",
       "    <tr>\n",
       "      <td>8</td>\n",
       "      <td>57.636551</td>\n",
       "      <td>51.452801</td>\n",
       "      <td>0.706114</td>\n",
       "      <td>04:19</td>\n",
       "    </tr>\n",
       "    <tr>\n",
       "      <td>9</td>\n",
       "      <td>53.754185</td>\n",
       "      <td>36.618111</td>\n",
       "      <td>0.783079</td>\n",
       "      <td>04:11</td>\n",
       "    </tr>\n",
       "    <tr>\n",
       "      <td>10</td>\n",
       "      <td>81.929329</td>\n",
       "      <td>93.471115</td>\n",
       "      <td>0.700491</td>\n",
       "      <td>04:24</td>\n",
       "    </tr>\n",
       "    <tr>\n",
       "      <td>11</td>\n",
       "      <td>81.227516</td>\n",
       "      <td>66.052078</td>\n",
       "      <td>0.780173</td>\n",
       "      <td>04:12</td>\n",
       "    </tr>\n",
       "    <tr>\n",
       "      <td>12</td>\n",
       "      <td>61.698170</td>\n",
       "      <td>53.260975</td>\n",
       "      <td>0.783255</td>\n",
       "      <td>04:23</td>\n",
       "    </tr>\n",
       "    <tr>\n",
       "      <td>13</td>\n",
       "      <td>66.743019</td>\n",
       "      <td>72.457146</td>\n",
       "      <td>0.781287</td>\n",
       "      <td>04:12</td>\n",
       "    </tr>\n",
       "    <tr>\n",
       "      <td>14</td>\n",
       "      <td>71.125977</td>\n",
       "      <td>62.631653</td>\n",
       "      <td>0.757390</td>\n",
       "      <td>04:30</td>\n",
       "    </tr>\n",
       "    <tr>\n",
       "      <td>15</td>\n",
       "      <td>55.243183</td>\n",
       "      <td>49.785114</td>\n",
       "      <td>0.765827</td>\n",
       "      <td>04:35</td>\n",
       "    </tr>\n",
       "    <tr>\n",
       "      <td>16</td>\n",
       "      <td>40.537426</td>\n",
       "      <td>46.866318</td>\n",
       "      <td>0.789184</td>\n",
       "      <td>04:22</td>\n",
       "    </tr>\n",
       "    <tr>\n",
       "      <td>17</td>\n",
       "      <td>35.247051</td>\n",
       "      <td>33.834251</td>\n",
       "      <td>0.784668</td>\n",
       "      <td>04:39</td>\n",
       "    </tr>\n",
       "    <tr>\n",
       "      <td>18</td>\n",
       "      <td>42.223045</td>\n",
       "      <td>47.992275</td>\n",
       "      <td>0.791046</td>\n",
       "      <td>04:28</td>\n",
       "    </tr>\n",
       "    <tr>\n",
       "      <td>19</td>\n",
       "      <td>45.819389</td>\n",
       "      <td>50.264027</td>\n",
       "      <td>0.786662</td>\n",
       "      <td>04:05</td>\n",
       "    </tr>\n",
       "    <tr>\n",
       "      <td>20</td>\n",
       "      <td>38.643646</td>\n",
       "      <td>36.858742</td>\n",
       "      <td>0.787666</td>\n",
       "      <td>04:28</td>\n",
       "    </tr>\n",
       "    <tr>\n",
       "      <td>21</td>\n",
       "      <td>30.231703</td>\n",
       "      <td>32.473618</td>\n",
       "      <td>0.781039</td>\n",
       "      <td>04:11</td>\n",
       "    </tr>\n",
       "    <tr>\n",
       "      <td>22</td>\n",
       "      <td>26.388712</td>\n",
       "      <td>33.603436</td>\n",
       "      <td>0.788617</td>\n",
       "      <td>04:06</td>\n",
       "    </tr>\n",
       "    <tr>\n",
       "      <td>23</td>\n",
       "      <td>25.254185</td>\n",
       "      <td>31.812490</td>\n",
       "      <td>0.789324</td>\n",
       "      <td>04:26</td>\n",
       "    </tr>\n",
       "    <tr>\n",
       "      <td>24</td>\n",
       "      <td>23.507542</td>\n",
       "      <td>32.382172</td>\n",
       "      <td>0.794751</td>\n",
       "      <td>04:42</td>\n",
       "    </tr>\n",
       "    <tr>\n",
       "      <td>25</td>\n",
       "      <td>23.306875</td>\n",
       "      <td>30.622389</td>\n",
       "      <td>0.793035</td>\n",
       "      <td>04:28</td>\n",
       "    </tr>\n",
       "    <tr>\n",
       "      <td>26</td>\n",
       "      <td>22.604918</td>\n",
       "      <td>30.992689</td>\n",
       "      <td>0.793753</td>\n",
       "      <td>04:05</td>\n",
       "    </tr>\n",
       "    <tr>\n",
       "      <td>27</td>\n",
       "      <td>22.292250</td>\n",
       "      <td>30.907688</td>\n",
       "      <td>0.794143</td>\n",
       "      <td>04:14</td>\n",
       "    </tr>\n",
       "    <tr>\n",
       "      <td>28</td>\n",
       "      <td>21.912992</td>\n",
       "      <td>30.661518</td>\n",
       "      <td>0.792597</td>\n",
       "      <td>04:20</td>\n",
       "    </tr>\n",
       "    <tr>\n",
       "      <td>29</td>\n",
       "      <td>21.744326</td>\n",
       "      <td>30.566347</td>\n",
       "      <td>0.792702</td>\n",
       "      <td>04:09</td>\n",
       "    </tr>\n",
       "  </tbody>\n",
       "</table>"
      ],
      "text/plain": [
       "<IPython.core.display.HTML object>"
      ]
     },
     "metadata": {},
     "output_type": "display_data"
    },
    {
     "name": "stdout",
     "output_type": "stream",
     "text": [
      "Better model found at epoch 0 with f1_score value: 0.47717486367264184.\n"
     ]
    },
    {
     "data": {
      "image/png": "[encoded data removed]",
      "text/plain": [
       "<Figure size 432x288 with 1 Axes>"
      ]
     },
     "metadata": {},
     "output_type": "display_data"
    },
    {
     "name": "stdout",
     "output_type": "stream",
     "text": [
      "Better model found at epoch 1 with f1_score value: 0.5950030107068903.\n",
      "Better model found at epoch 2 with f1_score value: 0.6292155802016274.\n",
      "Better model found at epoch 3 with f1_score value: 0.6309850868392882.\n",
      "Better model found at epoch 6 with f1_score value: 0.6514733134548244.\n",
      "Better model found at epoch 7 with f1_score value: 0.7194677188398709.\n",
      "Better model found at epoch 9 with f1_score value: 0.7830787476623152.\n",
      "Better model found at epoch 12 with f1_score value: 0.783254746538451.\n",
      "Better model found at epoch 16 with f1_score value: 0.7891840564660405.\n",
      "Better model found at epoch 18 with f1_score value: 0.791045824393585.\n",
      "Better model found at epoch 24 with f1_score value: 0.7947510796832504.\n"
     ]
    }
   ],
   "source": [
    "learn.fit_one_cycle(30, lr_max=1e-2, pct_start=0.25/3)"
   ]
  },
  {
   "cell_type": "code",
   "execution_count": 299,
   "metadata": {},
   "outputs": [
    {
     "data": {
      "text/plain": [
       "<fastai.learner.Learner at 0x7f8ad84e4700>"
      ]
     },
     "execution_count": 299,
     "metadata": {},
     "output_type": "execute_result"
    }
   ],
   "source": [
    "learn.load(\"best_lstm_crf_256_moreEpochs\")"
   ]
  },
  {
   "cell_type": "code",
   "execution_count": 300,
   "metadata": {},
   "outputs": [],
   "source": [
    "def evaluate_crf(learn, dl):\n",
    "    preds, targets = learn.get_preds(dl=dl)\n",
    "    crf_preds =[]\n",
    "    crf_targs=[]\n",
    "    for pred, targ in zip(preds, targets):\n",
    "        pred = pred.unsqueeze(0)\n",
    "        targ = targ.unsqueeze(0)\n",
    "        mask = tensor(targ.data != OUT_DIM)\n",
    "        mask=mask.view(pred.shape[:2])\n",
    "        pred = learn.model.crf.decode(pred.cuda(),mask=mask.cuda())\n",
    "        pred = tensor([[x for sublist in pred for x in sublist]]).view(-1)\n",
    "        targ = targ[mask].view(-1)\n",
    "        crf_preds.append(pred)\n",
    "        crf_targs.append(targ)\n",
    "    crf_preds = torch.cat(crf_preds)\n",
    "    crf_targs = torch.cat(crf_targs)\n",
    "    print(classification_report(crf_targs, crf_preds, target_names=dls.get_labels.cat.vocab, digits=4))\n",
    "    crf_preds = torch.remainder(crf_preds, 6)\n",
    "    crf_targs = torch.remainder(crf_targs, 6)\n",
    "    print(classification_report(crf_targs, crf_preds, target_names=dls.get_labels.cat.vocab[:6], digits=4))\n",
    "    "
   ]
  },
  {
   "cell_type": "code",
   "execution_count": 301,
   "metadata": {},
   "outputs": [
    {
     "data": {
      "text/html": [],
      "text/plain": [
       "<IPython.core.display.HTML object>"
      ]
     },
     "metadata": {},
     "output_type": "display_data"
    },
    {
     "name": "stdout",
     "output_type": "stream",
     "text": [
      "                                    precision    recall  f1-score   support\n",
      "\n",
      "          B-acordao_de_2_instancia     0.8995    0.8905    0.8950       201\n",
      "B-agravo_em_recurso_extraordinario     0.5054    0.3924    0.4418       237\n",
      "     B-despacho_de_admissibilidade     0.7931    0.6259    0.6996       147\n",
      "                          B-outros     0.9307    0.3599    0.5190     25898\n",
      "                   B-peticao_do_RE     0.6463    0.4877    0.5559       326\n",
      "                        B-sentenca     0.6875    0.7359    0.7109       284\n",
      "          I-acordao_de_2_instancia     0.9365    0.6020    0.7329        98\n",
      "I-agravo_em_recurso_extraordinario     0.6055    0.5853    0.5952      1912\n",
      "     I-despacho_de_admissibilidade     0.7333    0.3056    0.4314        36\n",
      "                          I-outros     0.7462    0.9557    0.8380     58206\n",
      "                   I-peticao_do_RE     0.7645    0.7743    0.7694      6038\n",
      "                        I-sentenca     0.9400    0.7530    0.8361      1352\n",
      "\n",
      "                          accuracy                         0.7659     94735\n",
      "                         macro avg     0.7657    0.6223    0.6688     94735\n",
      "                      weighted avg     0.7972    0.7659    0.7388     94735\n",
      "\n",
      "                                    precision    recall  f1-score   support\n",
      "\n",
      "          B-acordao_de_2_instancia     0.9275    0.8127    0.8663       299\n",
      "B-agravo_em_recurso_extraordinario     0.6211    0.5872    0.6037      2149\n",
      "     B-despacho_de_admissibilidade     0.8702    0.6230    0.7261       183\n",
      "                          B-outros     0.9690    0.9743    0.9716     84104\n",
      "                   B-peticao_do_RE     0.7700    0.7696    0.7698      6364\n",
      "                        B-sentenca     0.9056    0.7677    0.8310      1636\n",
      "\n",
      "                          accuracy                         0.9470     94735\n",
      "                         macro avg     0.8439    0.7558    0.7948     94735\n",
      "                      weighted avg     0.9463    0.9470    0.9465     94735\n",
      "\n"
     ]
    }
   ],
   "source": [
    "evaluate_crf(learn, dls.valid)"
   ]
  },
  {
   "cell_type": "code",
   "execution_count": 302,
   "metadata": {},
   "outputs": [],
   "source": [
    "test_dl = torch.load(\"./data/test_dl_sequence.pth\")"
   ]
  },
  {
   "cell_type": "code",
   "execution_count": 304,
   "metadata": {},
   "outputs": [
    {
     "data": {
      "text/html": [],
      "text/plain": [
       "<IPython.core.display.HTML object>"
      ]
     },
     "metadata": {},
     "output_type": "display_data"
    },
    {
     "name": "stdout",
     "output_type": "stream",
     "text": [
      "                                    precision    recall  f1-score   support\n",
      "\n",
      "          B-acordao_de_2_instancia     0.9188    0.9095    0.9141       199\n",
      "B-agravo_em_recurso_extraordinario     0.4624    0.4038    0.4311       213\n",
      "     B-despacho_de_admissibilidade     0.7944    0.5782    0.6693       147\n",
      "                          B-outros     0.9208    0.3568    0.5143     25744\n",
      "                   B-peticao_do_RE     0.6516    0.4615    0.5403       312\n",
      "                        B-sentenca     0.7123    0.7849    0.7469       265\n",
      "          I-acordao_de_2_instancia     0.9697    0.8649    0.9143        74\n",
      "I-agravo_em_recurso_extraordinario     0.6051    0.5676    0.5857      1628\n",
      "     I-despacho_de_admissibilidade     0.4091    0.1765    0.2466        51\n",
      "                          I-outros     0.7523    0.9594    0.8433     59664\n",
      "                   I-peticao_do_RE     0.7880    0.7626    0.7751      6019\n",
      "                        I-sentenca     0.9298    0.7777    0.8470      1210\n",
      "\n",
      "                          accuracy                         0.7711     95526\n",
      "                         macro avg     0.7429    0.6336    0.6690     95526\n",
      "                      weighted avg     0.7990    0.7711    0.7435     95526\n",
      "\n",
      "                                    precision    recall  f1-score   support\n",
      "\n",
      "          B-acordao_de_2_instancia     0.9354    0.9011    0.9179       273\n",
      "B-agravo_em_recurso_extraordinario     0.6165    0.5736    0.5943      1841\n",
      "     B-despacho_de_admissibilidade     0.7829    0.5101    0.6177       198\n",
      "                          B-outros     0.9705    0.9780    0.9742     85408\n",
      "                   B-peticao_do_RE     0.7969    0.7610    0.7785      6331\n",
      "                        B-sentenca     0.8988    0.7946    0.8435      1475\n",
      "\n",
      "                          accuracy                         0.9518     95526\n",
      "                         macro avg     0.8335    0.7531    0.7877     95526\n",
      "                      weighted avg     0.9505    0.9518    0.9510     95526\n",
      "\n"
     ]
    }
   ],
   "source": [
    "evaluate_crf(learn, test_dl)"
   ]
  }
 ],
 "metadata": {
  "kernelspec": {
   "display_name": "fastai2",
   "language": "python",
   "name": "fastai2"
  },
  "language_info": {
   "codemirror_mode": {
    "name": "ipython",
    "version": 3
   },
   "file_extension": ".py",
   "mimetype": "text/x-python",
   "name": "python",
   "nbconvert_exporter": "python",
   "pygments_lexer": "ipython3",
   "version": "3.8.5"
  }
 },
 "nbformat": 4,
 "nbformat_minor": 4
}
