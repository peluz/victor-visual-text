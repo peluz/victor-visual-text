{
 "cells": [
  {
   "cell_type": "code",
   "execution_count": 2,
   "metadata": {},
   "outputs": [
    {
     "name": "stdout",
     "output_type": "stream",
     "text": [
      "The autoreload extension is already loaded. To reload it, use:\n",
      "  %reload_ext autoreload\n"
     ]
    }
   ],
   "source": [
    "%load_ext autoreload\n",
    "%autoreload 2\n",
    "\n",
    "from fastai.text.all import *\n",
    "from fastai.vision.all import *\n",
    "import pandas as pd\n",
    "import torch\n",
    "from tqdm.notebook import tqdm\n",
    "from sklearn.metrics import classification_report, f1_score\n",
    "from torchcrf import CRF\n",
    "from utils import get_sequences, GetLabels, My_Pad_Input, GetImgAndTextEmbs, GetMissingImage, GetMissingText, GetImgEmbs, GetTextEmbs"
   ]
  },
  {
   "cell_type": "code",
   "execution_count": 3,
   "metadata": {},
   "outputs": [],
   "source": [
    "seed = 42\n",
    "\n",
    "# python RNG\n",
    "import random\n",
    "random.seed(seed)\n",
    "\n",
    "# pytorch RNGs\n",
    "import torch\n",
    "torch.manual_seed(seed)\n",
    "torch.backends.cudnn.deterministic = True\n",
    "if torch.cuda.is_available(): torch.cuda.manual_seed_all(seed)\n",
    "\n",
    "# numpy RNG\n",
    "import numpy as np\n",
    "np.random.seed(seed)"
   ]
  },
  {
   "cell_type": "code",
   "execution_count": 4,
   "metadata": {},
   "outputs": [],
   "source": [
    "torch.cuda.set_device(1)"
   ]
  },
  {
   "cell_type": "code",
   "execution_count": 5,
   "metadata": {},
   "outputs": [
    {
     "data": {
      "text/plain": [
       "1"
      ]
     },
     "execution_count": 5,
     "metadata": {},
     "output_type": "execute_result"
    }
   ],
   "source": [
    "torch.cuda.current_device()"
   ]
  },
  {
   "cell_type": "code",
   "execution_count": 6,
   "metadata": {},
   "outputs": [],
   "source": [
    "OUT_DIM=12\n",
    "INPUT_DIM=128\n",
    "BS= 8"
   ]
  },
  {
   "cell_type": "code",
   "execution_count": 7,
   "metadata": {},
   "outputs": [],
   "source": [
    "train = pd.read_csv(\"./data/train_fusion.csv\")\n",
    "val = pd.read_csv(\"./data/val_fusion.csv\")\n",
    "test_data = pd.read_csv(\"./data/test_fusion.csv\")"
   ]
  },
  {
   "cell_type": "code",
   "execution_count": 8,
   "metadata": {},
   "outputs": [],
   "source": [
    "train[\"document_type\"] = train.apply(lambda x: \"B-\" + x[\"document_type\"] if x[\"pages\"] == 1 else \"I-\" + x[\"document_type\"],\n",
    "                                     axis=1)\n",
    "val[\"document_type\"] = val.apply(lambda x: \"B-\" + x[\"document_type\"] if x[\"pages\"] == 1 else \"I-\" + x[\"document_type\"],\n",
    "                                     axis=1)\n",
    "test_data[\"document_type\"] = test_data.apply(lambda x: \"B-\" + x[\"document_type\"] if x[\"pages\"] == 1 else \"I-\" + x[\"document_type\"],\n",
    "                                   axis=1)"
   ]
  },
  {
   "cell_type": "code",
   "execution_count": 9,
   "metadata": {},
   "outputs": [],
   "source": [
    "X_train, y_train = get_sequences(train)\n",
    "X_valid, y_valid = get_sequences(val)\n",
    "X_test, y_test = get_sequences(test_data)"
   ]
  },
  {
   "cell_type": "code",
   "execution_count": 10,
   "metadata": {},
   "outputs": [],
   "source": [
    "data = pd.concat([pd.DataFrame({\"acts\":X_train, \"labels\":y_train, \"is_valid\": False}),\n",
    "                 pd.DataFrame({\"acts\":X_valid, \"labels\":y_valid, \"is_valid\": True})])"
   ]
  },
  {
   "cell_type": "code",
   "execution_count": 11,
   "metadata": {},
   "outputs": [
    {
     "data": {
      "text/html": [
       "<div>\n",
       "<style scoped>\n",
       "    .dataframe tbody tr th:only-of-type {\n",
       "        vertical-align: middle;\n",
       "    }\n",
       "\n",
       "    .dataframe tbody tr th {\n",
       "        vertical-align: top;\n",
       "    }\n",
       "\n",
       "    .dataframe thead th {\n",
       "        text-align: right;\n",
       "    }\n",
       "</style>\n",
       "<table border=\"1\" class=\"dataframe\">\n",
       "  <thead>\n",
       "    <tr style=\"text-align: right;\">\n",
       "      <th></th>\n",
       "      <th>acts</th>\n",
       "      <th>labels</th>\n",
       "      <th>is_valid</th>\n",
       "    </tr>\n",
       "  </thead>\n",
       "  <tbody>\n",
       "    <tr>\n",
       "      <th>0</th>\n",
       "      <td>[activations/text/train/outros/AI_856934_1926210_1060_17072013_1, activations/text/train/outros/AI_856934_1926211_34_17072013_1, activations/text/train/outros/AI_856934_1926211_34_17072013_2, activations/text/train/outros/AI_856934_1926211_34_17072013_3, activations/text/train/outros/AI_856934_1926211_34_17072013_4, activations/text/train/outros/AI_856934_1926211_34_17072013_5, activations/text/train/outros/AI_856934_1926211_34_17072013_6, activations/text/train/outros/AI_856934_1926211_34_17072013_7, activations/text/train/outros/AI_856934_1926211_34_17072013_8, activations/text/train/out...</td>\n",
       "      <td>[B-outros, B-outros, I-outros, I-outros, I-outros, I-outros, I-outros, I-outros, I-outros, I-outros, I-outros, I-outros, I-outros, I-outros, I-outros, I-outros, I-outros, I-outros, I-outros, I-outros, B-outros, I-outros, I-outros, I-outros, B-sentenca, I-sentenca, I-sentenca, I-sentenca, I-sentenca, B-peticao_do_RE, I-peticao_do_RE, I-peticao_do_RE, I-peticao_do_RE, I-peticao_do_RE, I-peticao_do_RE, I-peticao_do_RE, I-peticao_do_RE, I-peticao_do_RE, I-peticao_do_RE, B-outros, I-outros, I-outros, I-outros, B-despacho_de_admissibilidade, B-outros]</td>\n",
       "      <td>False</td>\n",
       "    </tr>\n",
       "    <tr>\n",
       "      <th>1</th>\n",
       "      <td>[activations/text/train/outros/AI_857179_2056961_27_22072013_1, activations/text/train/outros/AI_857179_2056961_27_22072013_2, activations/text/train/outros/AI_857179_2056961_27_22072013_3, activations/text/train/outros/AI_857179_2056961_27_22072013_4, activations/text/train/outros/AI_857179_2056961_27_22072013_5, activations/text/train/outros/AI_857179_2056961_27_22072013_6, activations/text/train/outros/AI_857179_2056961_27_22072013_7, activations/text/train/outros/AI_857179_2056961_27_22072013_8, activations/text/train/outros/AI_857179_2056961_27_22072013_9, activations/text/train/outro...</td>\n",
       "      <td>[B-outros, I-outros, I-outros, I-outros, I-outros, I-outros, I-outros, I-outros, I-outros, I-outros, I-outros, I-outros, B-outros, B-outros, I-outros, I-outros, I-outros, I-outros, I-outros, I-outros, I-outros, I-outros, I-outros, I-outros, I-outros, I-outros, B-sentenca, I-sentenca, I-sentenca, I-sentenca, I-sentenca, B-outros, I-outros, I-outros, I-outros, I-outros, I-outros, I-outros, I-outros, I-outros, I-outros, B-outros, B-outros, I-outros, I-outros, B-acordao_de_2_instancia, B-outros, B-peticao_do_RE, I-peticao_do_RE, I-peticao_do_RE, I-peticao_do_RE, I-peticao_do_RE, I-peticao_do_R...</td>\n",
       "      <td>False</td>\n",
       "    </tr>\n",
       "    <tr>\n",
       "      <th>2</th>\n",
       "      <td>[activations/text/train/outros/AI_858252_2476190_26_05082013_1, activations/text/train/outros/AI_858252_2476190_26_05082013_2, activations/text/train/outros/AI_858252_2476190_26_05082013_3, activations/text/train/outros/AI_858252_2476190_26_05082013_4, activations/text/train/outros/AI_858252_2476190_26_05082013_5, activations/text/train/outros/AI_858252_2476190_26_05082013_6, activations/text/train/outros/AI_858252_2476190_26_05082013_7, activations/text/train/outros/AI_858252_2476190_26_05082013_8, activations/text/train/outros/AI_858252_2476190_26_05082013_9, activations/text/train/outro...</td>\n",
       "      <td>[B-outros, I-outros, I-outros, I-outros, I-outros, I-outros, I-outros, I-outros, I-outros, I-outros, I-outros, B-outros, B-outros, I-outros, I-outros, I-outros, I-outros, I-outros, I-outros, I-outros, I-outros, I-outros, I-outros, I-outros, I-outros, I-outros, I-outros, B-outros, I-outros, I-outros, B-outros, I-outros, B-outros, I-outros, I-outros, I-outros, I-outros, I-outros, I-outros, I-outros, B-outros, B-outros, B-outros, B-outros, I-outros, B-outros, B-outros]</td>\n",
       "      <td>False</td>\n",
       "    </tr>\n",
       "    <tr>\n",
       "      <th>3</th>\n",
       "      <td>[activations/text/train/outros/AI_866251_311097804_95_24012017_1, activations/text/train/outros/AI_866251_311097804_95_24012017_2, activations/text/train/outros/AI_866251_311097806_95_24012017_1, activations/text/train/outros/AI_866251_311097806_95_24012017_2, activations/text/train/outros/AI_866251_311262256_1060_01032017_1]</td>\n",
       "      <td>[B-outros, I-outros, B-outros, I-outros, B-outros]</td>\n",
       "      <td>False</td>\n",
       "    </tr>\n",
       "    <tr>\n",
       "      <th>4</th>\n",
       "      <td>[activations/text/train/outros/AI_866877_311791866_1280_11052017_1, activations/text/train/outros/AI_866877_311811769_95_16052017_1, activations/text/train/outros/AI_866877_311811769_95_16052017_2, activations/text/train/outros/AI_866877_311962289_1280_05062017_1, activations/text/train/outros/AI_866877_312045773_1060_22062017_1, activations/text/train/outros/AI_866877_312063702_93_22062017_1, activations/text/train/outros/AI_866877_312146350_80_13072017_1]</td>\n",
       "      <td>[B-outros, B-outros, I-outros, B-outros, B-outros, B-outros, B-outros]</td>\n",
       "      <td>False</td>\n",
       "    </tr>\n",
       "  </tbody>\n",
       "</table>\n",
       "</div>"
      ],
      "text/plain": [
       "                                                                                                                                                                                                                                                                                                                                                                                                                                                                                                                                                                                                                      acts  \\\n",
       "0  [activations/text/train/outros/AI_856934_1926210_1060_17072013_1, activations/text/train/outros/AI_856934_1926211_34_17072013_1, activations/text/train/outros/AI_856934_1926211_34_17072013_2, activations/text/train/outros/AI_856934_1926211_34_17072013_3, activations/text/train/outros/AI_856934_1926211_34_17072013_4, activations/text/train/outros/AI_856934_1926211_34_17072013_5, activations/text/train/outros/AI_856934_1926211_34_17072013_6, activations/text/train/outros/AI_856934_1926211_34_17072013_7, activations/text/train/outros/AI_856934_1926211_34_17072013_8, activations/text/train/out...   \n",
       "1  [activations/text/train/outros/AI_857179_2056961_27_22072013_1, activations/text/train/outros/AI_857179_2056961_27_22072013_2, activations/text/train/outros/AI_857179_2056961_27_22072013_3, activations/text/train/outros/AI_857179_2056961_27_22072013_4, activations/text/train/outros/AI_857179_2056961_27_22072013_5, activations/text/train/outros/AI_857179_2056961_27_22072013_6, activations/text/train/outros/AI_857179_2056961_27_22072013_7, activations/text/train/outros/AI_857179_2056961_27_22072013_8, activations/text/train/outros/AI_857179_2056961_27_22072013_9, activations/text/train/outro...   \n",
       "2  [activations/text/train/outros/AI_858252_2476190_26_05082013_1, activations/text/train/outros/AI_858252_2476190_26_05082013_2, activations/text/train/outros/AI_858252_2476190_26_05082013_3, activations/text/train/outros/AI_858252_2476190_26_05082013_4, activations/text/train/outros/AI_858252_2476190_26_05082013_5, activations/text/train/outros/AI_858252_2476190_26_05082013_6, activations/text/train/outros/AI_858252_2476190_26_05082013_7, activations/text/train/outros/AI_858252_2476190_26_05082013_8, activations/text/train/outros/AI_858252_2476190_26_05082013_9, activations/text/train/outro...   \n",
       "3                                                                                                                                                                                                                                                                                  [activations/text/train/outros/AI_866251_311097804_95_24012017_1, activations/text/train/outros/AI_866251_311097804_95_24012017_2, activations/text/train/outros/AI_866251_311097806_95_24012017_1, activations/text/train/outros/AI_866251_311097806_95_24012017_2, activations/text/train/outros/AI_866251_311262256_1060_01032017_1]   \n",
       "4                                                                                                                                            [activations/text/train/outros/AI_866877_311791866_1280_11052017_1, activations/text/train/outros/AI_866877_311811769_95_16052017_1, activations/text/train/outros/AI_866877_311811769_95_16052017_2, activations/text/train/outros/AI_866877_311962289_1280_05062017_1, activations/text/train/outros/AI_866877_312045773_1060_22062017_1, activations/text/train/outros/AI_866877_312063702_93_22062017_1, activations/text/train/outros/AI_866877_312146350_80_13072017_1]   \n",
       "\n",
       "                                                                                                                                                                                                                                                                                                                                                                                                                                                                                                                                                                                                                    labels  \\\n",
       "0                                                  [B-outros, B-outros, I-outros, I-outros, I-outros, I-outros, I-outros, I-outros, I-outros, I-outros, I-outros, I-outros, I-outros, I-outros, I-outros, I-outros, I-outros, I-outros, I-outros, I-outros, B-outros, I-outros, I-outros, I-outros, B-sentenca, I-sentenca, I-sentenca, I-sentenca, I-sentenca, B-peticao_do_RE, I-peticao_do_RE, I-peticao_do_RE, I-peticao_do_RE, I-peticao_do_RE, I-peticao_do_RE, I-peticao_do_RE, I-peticao_do_RE, I-peticao_do_RE, I-peticao_do_RE, B-outros, I-outros, I-outros, I-outros, B-despacho_de_admissibilidade, B-outros]   \n",
       "1  [B-outros, I-outros, I-outros, I-outros, I-outros, I-outros, I-outros, I-outros, I-outros, I-outros, I-outros, I-outros, B-outros, B-outros, I-outros, I-outros, I-outros, I-outros, I-outros, I-outros, I-outros, I-outros, I-outros, I-outros, I-outros, I-outros, B-sentenca, I-sentenca, I-sentenca, I-sentenca, I-sentenca, B-outros, I-outros, I-outros, I-outros, I-outros, I-outros, I-outros, I-outros, I-outros, I-outros, B-outros, B-outros, I-outros, I-outros, B-acordao_de_2_instancia, B-outros, B-peticao_do_RE, I-peticao_do_RE, I-peticao_do_RE, I-peticao_do_RE, I-peticao_do_RE, I-peticao_do_R...   \n",
       "2                                                                                                                                   [B-outros, I-outros, I-outros, I-outros, I-outros, I-outros, I-outros, I-outros, I-outros, I-outros, I-outros, B-outros, B-outros, I-outros, I-outros, I-outros, I-outros, I-outros, I-outros, I-outros, I-outros, I-outros, I-outros, I-outros, I-outros, I-outros, I-outros, B-outros, I-outros, I-outros, B-outros, I-outros, B-outros, I-outros, I-outros, I-outros, I-outros, I-outros, I-outros, I-outros, B-outros, B-outros, B-outros, B-outros, I-outros, B-outros, B-outros]   \n",
       "3                                                                                                                                                                                                                                                                                                                                                                                                                                                                                                                                                                       [B-outros, I-outros, B-outros, I-outros, B-outros]   \n",
       "4                                                                                                                                                                                                                                                                                                                                                                                                                                                                                                                                                   [B-outros, B-outros, I-outros, B-outros, B-outros, B-outros, B-outros]   \n",
       "\n",
       "   is_valid  \n",
       "0     False  \n",
       "1     False  \n",
       "2     False  \n",
       "3     False  \n",
       "4     False  "
      ]
     },
     "execution_count": 11,
     "metadata": {},
     "output_type": "execute_result"
    }
   ],
   "source": [
    "data.head()"
   ]
  },
  {
   "cell_type": "code",
   "execution_count": 12,
   "metadata": {},
   "outputs": [],
   "source": [
    "my_pad_input=My_Pad_Input(12, from_embs=True)"
   ]
  },
  {
   "cell_type": "code",
   "execution_count": 13,
   "metadata": {},
   "outputs": [],
   "source": [
    "tfms = [[GetImgEmbs()], [GetTextEmbs()], [GetMissingImage()], [GetMissingText()], [GetLabels()]]\n",
    "splits = ColSplitter()(data)\n",
    "dsets = Datasets(data, tfms, splits=splits)\n",
    "dls = dsets.dataloaders(dl_type=SortedDL, before_batch=partial(my_pad_input, pad_fields=[0,1,2,3,4]), bs=BS)"
   ]
  },
  {
   "cell_type": "code",
   "execution_count": 14,
   "metadata": {},
   "outputs": [],
   "source": [
    "torch.save(dls, \"./data/dls_sequence_from_embs_v3.pth\")"
   ]
  },
  {
   "cell_type": "code",
   "execution_count": 15,
   "metadata": {},
   "outputs": [],
   "source": [
    "dls = torch.load(\"./data/dls_sequence_from_embs_v3.pth\")"
   ]
  },
  {
   "cell_type": "code",
   "execution_count": 108,
   "metadata": {},
   "outputs": [],
   "source": [
    "b = dls.one_batch()"
   ]
  },
  {
   "cell_type": "code",
   "execution_count": 187,
   "metadata": {},
   "outputs": [],
   "source": [
    "ia[inon==1]=3"
   ]
  },
  {
   "cell_type": "code",
   "execution_count": 193,
   "metadata": {},
   "outputs": [],
   "source": [
    "class LSTMModel(Module):\n",
    "    def __init__(self, input_dim, out_dim, hidden_dim=128, img_emb_dim=4096, text_emb_dim=3840):\n",
    "        self.img_none_emb = torch.nn.Embedding(num_embeddings=1, embedding_dim=img_emb_dim).cuda()\n",
    "        self.text_none_emb = torch.nn.Embedding(num_embeddings=1, embedding_dim=text_emb_dim).cuda()\n",
    "        self.index= tensor(0).cuda()\n",
    "        self.lstm = torch.nn.LSTM(input_size=hidden_dim*4, hidden_size=hidden_dim,\n",
    "                                  batch_first=True, bidirectional=True).cuda()\n",
    "        self.bn1 = nn.BatchNorm1d(input_dim, momentum=0.01).cuda()\n",
    "        self.bn2 = nn.BatchNorm1d(hidden_dim*2, momentum=0.01).cuda()\n",
    "        self.drop1 = nn.Dropout().cuda()\n",
    "        self.drop2 = nn.Dropout().cuda()\n",
    "        self.lin1 = nn.Linear(input_dim, hidden_dim*4).cuda()\n",
    "        self.lin2 = nn.Linear(hidden_dim*2, out_dim).cuda()\n",
    "        self.relu = nn.ReLU().cuda()\n",
    "        \n",
    "    def forward(self, img_act, text_act, img_none, text_none):\n",
    "        img_act[img_none==1] = self.img_none_emb(self.index)\n",
    "        text_act[text_none==1] = self.text_none_emb(self.index)\n",
    "        x = torch.cat([img_act, text_act], axis=-1)\n",
    "        x = x.permute(0, 2, 1)\n",
    "        x = self.bn1(x)\n",
    "        x = self.drop1(x)\n",
    "        x = x.permute(0, 2, 1)\n",
    "        x = self.lin1(x)\n",
    "        x = self.relu(x)\n",
    "        out, _ = self.lstm(x)\n",
    "        out = out.permute(0, 2, 1)\n",
    "        out_norm = self.bn2(out)\n",
    "        out_drop = self.drop2(out_norm)\n",
    "        out_drop = out_drop.permute(0, 2, 1)\n",
    "        return self.lin2(out_drop)"
   ]
  },
  {
   "cell_type": "code",
   "execution_count": 194,
   "metadata": {},
   "outputs": [],
   "source": [
    "model = LSTMModel(7936, 12)"
   ]
  },
  {
   "cell_type": "code",
   "execution_count": 195,
   "metadata": {},
   "outputs": [],
   "source": [
    "def loss_func(out, targ):\n",
    "    return CrossEntropyLossFlat(ignore_index=OUT_DIM)(out, targ.long())"
   ]
  },
  {
   "cell_type": "code",
   "execution_count": 196,
   "metadata": {},
   "outputs": [],
   "source": [
    "def _accumulate(self, learn):\n",
    "    pred = learn.pred\n",
    "    targ = learn.y\n",
    "    pred,targ = to_detach(pred),to_detach(targ)\n",
    "    pred =np.argmax(pred, axis=-1)\n",
    "    pred, targ = flatten_check(pred, targ)\n",
    "    pad_idxs = [i for i,x in enumerate(targ) if x != tensor([12])]\n",
    "    pred = pred[pad_idxs]\n",
    "    targ = targ[pad_idxs]\n",
    "    pred = torch.remainder(pred, 6)\n",
    "    targ = torch.remainder(targ, 6)\n",
    "    self.preds.append(pred)\n",
    "    self.targs.append(targ)\n",
    "\n",
    "AccumMetric.accumulate = _accumulate\n",
    "\n",
    "def MyFScore(average='macro'):\n",
    "    return skm_to_fastai(f1_score, average=average)"
   ]
  },
  {
   "cell_type": "code",
   "execution_count": 197,
   "metadata": {},
   "outputs": [],
   "source": [
    "dls.bs = dls.train.bs = dls.valid.bs = 8"
   ]
  },
  {
   "cell_type": "code",
   "execution_count": 198,
   "metadata": {},
   "outputs": [],
   "source": [
    "learn = Learner(dls, model, loss_func=loss_func, metrics=[MyFScore()])"
   ]
  },
  {
   "cell_type": "code",
   "execution_count": 199,
   "metadata": {},
   "outputs": [
    {
     "data": {
      "text/html": [
       "<table border=\"1\" class=\"dataframe\">\n",
       "  <thead>\n",
       "    <tr style=\"text-align: left;\">\n",
       "      <th>epoch</th>\n",
       "      <th>train_loss</th>\n",
       "      <th>valid_loss</th>\n",
       "      <th>f1_score</th>\n",
       "      <th>time</th>\n",
       "    </tr>\n",
       "  </thead>\n",
       "  <tbody>\n",
       "    <tr>\n",
       "      <td>0</td>\n",
       "      <td>None</td>\n",
       "      <td>None</td>\n",
       "      <td>00:00</td>\n",
       "    </tr>\n",
       "  </tbody>\n",
       "</table>"
      ],
      "text/plain": [
       "<IPython.core.display.HTML object>"
      ]
     },
     "metadata": {},
     "output_type": "display_data"
    },
    {
     "data": {
      "text/plain": [
       "LSTMModel (Input shape: ['8 x 4242 x 4096', '8 x 4242 x 3840', '8 x 4242', '8 x 4242'])\n",
       "================================================================\n",
       "Layer (type)         Output Shape         Param #    Trainable \n",
       "================================================================\n",
       "Embedding            8                    4,096      True      \n",
       "________________________________________________________________\n",
       "Embedding            8                    3,840      True      \n",
       "________________________________________________________________\n",
       "LSTM                 ['8 x 4242 x 256',   657,408    True      \n",
       "________________________________________________________________\n",
       "BatchNorm1d          8 x 7936 x 4242      15,872     True      \n",
       "________________________________________________________________\n",
       "BatchNorm1d          8 x 256 x 4242       512        True      \n",
       "________________________________________________________________\n",
       "Dropout              8 x 7936 x 4242      0          False     \n",
       "________________________________________________________________\n",
       "Dropout              8 x 256 x 4242       0          False     \n",
       "________________________________________________________________\n",
       "Linear               8 x 4242 x 512       4,063,744  True      \n",
       "________________________________________________________________\n",
       "Linear               8 x 4242 x 12        3,084      True      \n",
       "________________________________________________________________\n",
       "ReLU                 8 x 4242 x 512       0          False     \n",
       "________________________________________________________________\n",
       "\n",
       "Total params: 4,748,556\n",
       "Total trainable params: 4,748,556\n",
       "Total non-trainable params: 0\n",
       "\n",
       "Optimizer used: <function Adam at 0x7fac80a2e9d0>\n",
       "Loss function: <function loss_func at 0x7fad62dc6940>\n",
       "\n",
       "Callbacks:\n",
       "  - TrainEvalCallback\n",
       "  - Recorder\n",
       "  - ProgressCallback"
      ]
     },
     "execution_count": 199,
     "metadata": {},
     "output_type": "execute_result"
    }
   ],
   "source": [
    "learn.summary()"
   ]
  },
  {
   "cell_type": "code",
   "execution_count": 200,
   "metadata": {},
   "outputs": [
    {
     "data": {
      "text/html": [],
      "text/plain": [
       "<IPython.core.display.HTML object>"
      ]
     },
     "metadata": {},
     "output_type": "display_data"
    },
    {
     "data": {
      "text/plain": [
       "(#2) [2.5355186462402344,0.02303478949042298]"
      ]
     },
     "execution_count": 200,
     "metadata": {},
     "output_type": "execute_result"
    }
   ],
   "source": [
    "learn.validate()"
   ]
  },
  {
   "cell_type": "code",
   "execution_count": 201,
   "metadata": {},
   "outputs": [
    {
     "data": {
      "text/html": [],
      "text/plain": [
       "<IPython.core.display.HTML object>"
      ]
     },
     "metadata": {},
     "output_type": "display_data"
    },
    {
     "data": {
      "text/plain": [
       "SuggestedLRs(lr_min=0.00831763744354248, lr_steep=0.00015848931798245758)"
      ]
     },
     "execution_count": 201,
     "metadata": {},
     "output_type": "execute_result"
    },
    {
     "data": {
      "image/png": "[encoded data removed]",
      "text/plain": [
       "<Figure size 432x288 with 1 Axes>"
      ]
     },
     "metadata": {
      "needs_background": "light"
     },
     "output_type": "display_data"
    }
   ],
   "source": [
    "learn.lr_find()"
   ]
  },
  {
   "cell_type": "code",
   "execution_count": 204,
   "metadata": {},
   "outputs": [],
   "source": [
    "learn.add_cbs([SaveModelCallback(monitor='f1_score', fname='best_sequence_from_embs128_v2'),\n",
    "                                       ShowGraphCallback()])"
   ]
  },
  {
   "cell_type": "code",
   "execution_count": null,
   "metadata": {},
   "outputs": [
    {
     "data": {
      "text/html": [
       "\n",
       "    <div>\n",
       "        <style>\n",
       "            /* Turns off some styling */\n",
       "            progress {\n",
       "                /* gets rid of default border in Firefox and Opera. */\n",
       "                border: none;\n",
       "                /* Needs to be in here for Safari polyfill so background images work as expected. */\n",
       "                background-size: auto;\n",
       "            }\n",
       "            .progress-bar-interrupted, .progress-bar-interrupted::-webkit-progress-bar {\n",
       "                background: #F44336;\n",
       "            }\n",
       "        </style>\n",
       "      <progress value='1' class='' max='10' style='width:300px; height:20px; vertical-align: middle;'></progress>\n",
       "      10.00% [1/10 01:04<09:36]\n",
       "    </div>\n",
       "    \n",
       "<table border=\"1\" class=\"dataframe\">\n",
       "  <thead>\n",
       "    <tr style=\"text-align: left;\">\n",
       "      <th>epoch</th>\n",
       "      <th>train_loss</th>\n",
       "      <th>valid_loss</th>\n",
       "      <th>f1_score</th>\n",
       "      <th>time</th>\n",
       "    </tr>\n",
       "  </thead>\n",
       "  <tbody>\n",
       "    <tr>\n",
       "      <td>0</td>\n",
       "      <td>0.302651</td>\n",
       "      <td>0.380037</td>\n",
       "      <td>0.625821</td>\n",
       "      <td>01:03</td>\n",
       "    </tr>\n",
       "  </tbody>\n",
       "</table><p>\n",
       "\n",
       "    <div>\n",
       "        <style>\n",
       "            /* Turns off some styling */\n",
       "            progress {\n",
       "                /* gets rid of default border in Firefox and Opera. */\n",
       "                border: none;\n",
       "                /* Needs to be in here for Safari polyfill so background images work as expected. */\n",
       "                background-size: auto;\n",
       "            }\n",
       "            .progress-bar-interrupted, .progress-bar-interrupted::-webkit-progress-bar {\n",
       "                background: #F44336;\n",
       "            }\n",
       "        </style>\n",
       "      <progress value='96' class='' max='342' style='width:300px; height:20px; vertical-align: middle;'></progress>\n",
       "      28.07% [96/342 00:14<00:36 0.3154]\n",
       "    </div>\n",
       "    "
      ],
      "text/plain": [
       "<IPython.core.display.HTML object>"
      ]
     },
     "metadata": {},
     "output_type": "display_data"
    },
    {
     "name": "stdout",
     "output_type": "stream",
     "text": [
      "Better model found at epoch 0 with f1_score value: 0.6258206064437398.\n"
     ]
    },
    {
     "data": {
      "image/png": "[encoded data removed]",
      "text/plain": [
       "<Figure size 432x288 with 1 Axes>"
      ]
     },
     "metadata": {},
     "output_type": "display_data"
    },
    {
     "name": "stdout",
     "output_type": "stream",
     "text": [
      "Better model found at epoch 0 with f1_score value: 0.6258206064437398.\n"
     ]
    }
   ],
   "source": [
    "learn.fit_one_cycle(10, lr_max=1e-3)"
   ]
  },
  {
   "cell_type": "code",
   "execution_count": null,
   "metadata": {},
   "outputs": [],
   "source": [
    "model = LSTMModel(7936, 12, hidden_dim=256)"
   ]
  },
  {
   "cell_type": "code",
   "execution_count": null,
   "metadata": {},
   "outputs": [],
   "source": [
    "learn = Learner(dls, model, loss_func=loss_func, metrics=[MyFScore()])"
   ]
  },
  {
   "cell_type": "code",
   "execution_count": null,
   "metadata": {},
   "outputs": [],
   "source": [
    "learn.lr_find()"
   ]
  },
  {
   "cell_type": "code",
   "execution_count": null,
   "metadata": {},
   "outputs": [],
   "source": [
    "learn.add_cbs([SaveModelCallback(monitor='f1_score', fname='best_sequence_from_embs256_v2'),\n",
    "                                       ShowGraphCallback()])"
   ]
  },
  {
   "cell_type": "code",
   "execution_count": null,
   "metadata": {},
   "outputs": [],
   "source": [
    "learn.fit_one_cycle(10, lr_max=1e-3)"
   ]
  },
  {
   "cell_type": "code",
   "execution_count": null,
   "metadata": {},
   "outputs": [],
   "source": [
    "model = LSTMModel(7936, 12)"
   ]
  },
  {
   "cell_type": "code",
   "execution_count": null,
   "metadata": {},
   "outputs": [],
   "source": [
    "learn = Learner(dls, model, loss_func=loss_func, metrics=[MyFScore()])"
   ]
  },
  {
   "cell_type": "code",
   "execution_count": null,
   "metadata": {},
   "outputs": [],
   "source": [
    "learn.add_cbs([SaveModelCallback(monitor='f1_score', fname='best_sequence_from_embs128_moreEpochs_v2'),\n",
    "                                       ShowGraphCallback()])"
   ]
  },
  {
   "cell_type": "code",
   "execution_count": null,
   "metadata": {},
   "outputs": [],
   "source": [
    "learn.fit_one_cycle(20, lr_max=1e-3)"
   ]
  },
  {
   "cell_type": "code",
   "execution_count": null,
   "metadata": {},
   "outputs": [],
   "source": [
    "learn.load(\"best_sequence_from_embs128_moreEpochs_v2\")"
   ]
  },
  {
   "cell_type": "code",
   "execution_count": null,
   "metadata": {},
   "outputs": [],
   "source": [
    "def evaluate(learn, dl):\n",
    "    preds, targets = learn.get_preds(dl=dl)\n",
    "    preds =[np.argmax(x, axis=-1) for sublist in preds for x in sublist]\n",
    "    targets = [x for sublist in targets for x in sublist]\n",
    "    pad_idxs = [i for i,x in enumerate(targets) if x != tensor([12])]\n",
    "    preds = L(preds)[pad_idxs]\n",
    "    targets = L(targets)[pad_idxs]\n",
    "    print(classification_report(targets, preds, target_names=dl.get_labels.cat.vocab, digits=4))\n",
    "    preds = [x % 6 for x in preds]\n",
    "    targets = [x % 6 for x in targets]\n",
    "    print(classification_report(targets, preds, target_names=[x[2:] for x in dl.get_labels.cat.vocab[:6]], digits=4))"
   ]
  },
  {
   "cell_type": "code",
   "execution_count": null,
   "metadata": {},
   "outputs": [],
   "source": [
    "evaluate(learn, dls.valid)"
   ]
  },
  {
   "cell_type": "code",
   "execution_count": null,
   "metadata": {},
   "outputs": [],
   "source": [
    "test_data = pd.DataFrame({\"acts\":X_test, \"labels\":y_test})"
   ]
  },
  {
   "cell_type": "code",
   "execution_count": null,
   "metadata": {},
   "outputs": [],
   "source": [
    "test_dl = dls.test_dl(test_data, with_labels=True)"
   ]
  },
  {
   "cell_type": "code",
   "execution_count": null,
   "metadata": {},
   "outputs": [],
   "source": [
    "torch.save(test_dl, \"./data/test_dl_sequence_from_embs_v3.pth\")"
   ]
  },
  {
   "cell_type": "code",
   "execution_count": null,
   "metadata": {},
   "outputs": [],
   "source": [
    "evaluate(learn, test_dl)"
   ]
  },
  {
   "cell_type": "code",
   "execution_count": null,
   "metadata": {},
   "outputs": [],
   "source": [
    "class BiLSTMCRF(Module):\n",
    "    def __init__(self, input_dim, out_dim, hidden_dim=128, img_emb_dim=4096, text_emb_dim=3840):\n",
    "        self.img_none_emb = torch.nn.Embedding(num_embeddings=1, embedding_dim=img_emb_dim).cuda()\n",
    "        self.text_none_emb = torch.nn.Embedding(num_embeddings=1, embedding_dim=text_emb_dim).cuda()\n",
    "        self.index= tensor(0).cuda()\n",
    "        self.lstm = torch.nn.LSTM(input_size=hidden_dim*4, hidden_size=hidden_dim,\n",
    "                                  batch_first=True, bidirectional=True).cuda()\n",
    "        self.bn1 = nn.BatchNorm1d(input_dim, momentum=0.01).cuda()\n",
    "        self.bn2 = nn.BatchNorm1d(hidden_dim*2, momentum=0.01).cuda()\n",
    "        self.drop1 = nn.Dropout().cuda()\n",
    "        self.drop2 = nn.Dropout().cuda()\n",
    "        self.lin1 = nn.Linear(input_dim, hidden_dim*4).cuda()\n",
    "        self.lin2 = nn.Linear(hidden_dim*2, out_dim).cuda()\n",
    "        self.relu = nn.ReLU().cuda()\n",
    "        self.crf = CRF(num_tags=out_dim, batch_first=True).cuda()\n",
    "    \n",
    "    def crf_loss_func(self, out, targ):\n",
    "        mask = tensor(targ.data != OUT_DIM)\n",
    "        clean_targ = targ.clone()\n",
    "        clean_targ[clean_targ==OUT_DIM]=0\n",
    "        targ=targ.view(out.shape[:2])\n",
    "        clean_targ=clean_targ.view(targ.shape)\n",
    "        mask=mask.view(targ.shape)\n",
    "        return -self.crf(out, clean_targ.long(), mask=mask, reduction=\"mean\")\n",
    "        \n",
    "    def forward(self, img_act, text_act, img_none, text_none):\n",
    "        img_act[img_none==1] = self.img_none_emb(self.index)\n",
    "        text_act[text_none==1] = self.text_none_emb(self.index)\n",
    "        x = torch.cat([img_act, text_act], axis=-1)\n",
    "        x = x.permute(0, 2, 1)\n",
    "        x = self.bn1(x)\n",
    "        x = self.drop1(x)\n",
    "        x = x.permute(0, 2, 1)\n",
    "        x = self.lin1(x)\n",
    "        x = self.relu(x)\n",
    "        out, _ = self.lstm(x)\n",
    "        out = out.permute(0, 2, 1)\n",
    "        out_norm = self.bn2(out)\n",
    "        out_drop = self.drop2(out_norm)\n",
    "        out_drop = out_drop.permute(0, 2, 1)\n",
    "        return self.lin2(out_drop)"
   ]
  },
  {
   "cell_type": "code",
   "execution_count": null,
   "metadata": {},
   "outputs": [],
   "source": [
    "model = BiLSTMCRF(7936, 12)"
   ]
  },
  {
   "cell_type": "code",
   "execution_count": null,
   "metadata": {},
   "outputs": [],
   "source": [
    "def _accumulate(self, learn):\n",
    "    pred = learn.pred\n",
    "    targ = learn.y\n",
    "    mask = tensor(targ.data != OUT_DIM)\n",
    "    pred,targ, mask = to_detach(pred),to_detach(targ), to_detach(mask)\n",
    "    mask=mask.view(pred.shape[:2])\n",
    "    pred = learn.model.crf.decode(pred.cuda(),mask=mask.cuda())\n",
    "    pred = tensor([[x for sublist in pred for x in sublist]]).view(-1)\n",
    "    targ = targ[mask].view(-1)\n",
    "    pred = torch.remainder(pred, 6)\n",
    "    targ = torch.remainder(targ, 6)\n",
    "    self.preds.append(pred)\n",
    "    self.targs.append(targ)\n",
    "\n",
    "AccumMetric.accumulate = _accumulate\n",
    "\n",
    "def MyFScore(average='macro'):\n",
    "    return skm_to_fastai(f1_score, average=average)"
   ]
  },
  {
   "cell_type": "code",
   "execution_count": null,
   "metadata": {},
   "outputs": [],
   "source": [
    "learn = Learner(dls, model, loss_func=model.crf_loss_func, metrics=[MyFScore()])"
   ]
  },
  {
   "cell_type": "code",
   "execution_count": null,
   "metadata": {},
   "outputs": [],
   "source": [
    "learn.validate()"
   ]
  },
  {
   "cell_type": "code",
   "execution_count": null,
   "metadata": {},
   "outputs": [],
   "source": [
    "learn.summary()"
   ]
  },
  {
   "cell_type": "code",
   "execution_count": null,
   "metadata": {},
   "outputs": [],
   "source": [
    "learn.lr_find()"
   ]
  },
  {
   "cell_type": "code",
   "execution_count": null,
   "metadata": {},
   "outputs": [],
   "source": [
    "learn.add_cbs([SaveModelCallback(monitor='f1_score', fname='best_lstm_fromEmbs_crf_128_v2'),\n",
    "                                       ShowGraphCallback()])"
   ]
  },
  {
   "cell_type": "code",
   "execution_count": null,
   "metadata": {},
   "outputs": [],
   "source": [
    "learn.fit_one_cycle(10, lr_max=1e-3)"
   ]
  },
  {
   "cell_type": "code",
   "execution_count": null,
   "metadata": {},
   "outputs": [],
   "source": [
    "model = BiLSTMCRF(7936, 12, hidden_dim=256)"
   ]
  },
  {
   "cell_type": "code",
   "execution_count": null,
   "metadata": {},
   "outputs": [],
   "source": [
    "learn = Learner(dls, model, loss_func=model.crf_loss_func, metrics=[MyFScore()])"
   ]
  },
  {
   "cell_type": "code",
   "execution_count": null,
   "metadata": {},
   "outputs": [],
   "source": [
    "learn.lr_find()"
   ]
  },
  {
   "cell_type": "code",
   "execution_count": null,
   "metadata": {},
   "outputs": [],
   "source": [
    "learn.add_cbs([SaveModelCallback(monitor='f1_score', fname='best_lstm_fromEmbs_crf_256_v2'),\n",
    "                                       ShowGraphCallback()])"
   ]
  },
  {
   "cell_type": "code",
   "execution_count": null,
   "metadata": {},
   "outputs": [],
   "source": [
    "learn.fit_one_cycle(10, lr_max=1e-3)"
   ]
  },
  {
   "cell_type": "code",
   "execution_count": null,
   "metadata": {},
   "outputs": [],
   "source": [
    "model = BiLSTMCRF(7936, 12)"
   ]
  },
  {
   "cell_type": "code",
   "execution_count": null,
   "metadata": {},
   "outputs": [],
   "source": [
    "learn = Learner(dls, model, loss_func=model.crf_loss_func, metrics=[MyFScore()])"
   ]
  },
  {
   "cell_type": "code",
   "execution_count": null,
   "metadata": {},
   "outputs": [],
   "source": [
    "learn.add_cbs([SaveModelCallback(monitor='f1_score', fname='best_lstm_fromEmbs_crf_128_moreEpochs_v2'),\n",
    "                                       ShowGraphCallback()])"
   ]
  },
  {
   "cell_type": "code",
   "execution_count": null,
   "metadata": {},
   "outputs": [],
   "source": [
    "learn.fit_one_cycle(20, lr_max=1e-3)"
   ]
  },
  {
   "cell_type": "code",
   "execution_count": null,
   "metadata": {},
   "outputs": [],
   "source": [
    "learn.load(\"best_lstm_fromEmbs_crf_128_moreEpochs_v2\")"
   ]
  },
  {
   "cell_type": "code",
   "execution_count": null,
   "metadata": {},
   "outputs": [],
   "source": [
    "def evaluate_crf(learn, dl):\n",
    "    preds, targets = learn.get_preds(dl=dl)\n",
    "    crf_preds =[]\n",
    "    crf_targs=[]\n",
    "    for pred, targ in zip(preds, targets):\n",
    "        pred = pred.unsqueeze(0)\n",
    "        targ = targ.unsqueeze(0)\n",
    "        mask = tensor(targ.data != OUT_DIM)\n",
    "        mask=mask.view(pred.shape[:2])\n",
    "        pred = learn.model.crf.decode(pred.cuda(),mask=mask.cuda())\n",
    "        pred = tensor([[x for sublist in pred for x in sublist]]).view(-1)\n",
    "        targ = targ[mask].view(-1)\n",
    "        crf_preds.append(pred)\n",
    "        crf_targs.append(targ)\n",
    "    crf_preds = torch.cat(crf_preds)\n",
    "    crf_targs = torch.cat(crf_targs)\n",
    "    print(classification_report(crf_targs, crf_preds, target_names=dls.get_labels.cat.vocab, digits=4))\n",
    "    crf_preds = torch.remainder(crf_preds, 6)\n",
    "    crf_targs = torch.remainder(crf_targs, 6)\n",
    "    print(classification_report(crf_targs, crf_preds, target_names=dls.get_labels.cat.vocab[:6], digits=4))\n",
    "    "
   ]
  },
  {
   "cell_type": "code",
   "execution_count": null,
   "metadata": {},
   "outputs": [],
   "source": [
    "evaluate_crf(learn, dls.valid)"
   ]
  },
  {
   "cell_type": "code",
   "execution_count": null,
   "metadata": {},
   "outputs": [],
   "source": [
    "test_dl = torch.load(\"./data/test_dl_sequence_from_embs_v3.pth\")"
   ]
  },
  {
   "cell_type": "code",
   "execution_count": null,
   "metadata": {},
   "outputs": [],
   "source": [
    "evaluate_crf(learn, test_dl)"
   ]
  },
  {
   "cell_type": "code",
   "execution_count": null,
   "metadata": {},
   "outputs": [],
   "source": []
  }
 ],
 "metadata": {
  "kernelspec": {
   "display_name": "fastai2",
   "language": "python",
   "name": "fastai2"
  },
  "language_info": {
   "codemirror_mode": {
    "name": "ipython",
    "version": 3
   },
   "file_extension": ".py",
   "mimetype": "text/x-python",
   "name": "python",
   "nbconvert_exporter": "python",
   "pygments_lexer": "ipython3",
   "version": "3.8.10"
  }
 },
 "nbformat": 4,
 "nbformat_minor": 4
}
