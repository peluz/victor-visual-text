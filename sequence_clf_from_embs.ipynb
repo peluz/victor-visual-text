{
 "cells": [
  {
   "cell_type": "code",
   "execution_count": 1,
   "metadata": {},
   "outputs": [],
   "source": [
    "%load_ext autoreload\n",
    "%autoreload 2\n",
    "\n",
    "from fastai.text.all import *\n",
    "from fastai.vision.all import *\n",
    "import pandas as pd\n",
    "import torch\n",
    "from tqdm.notebook import tqdm\n",
    "from sklearn.metrics import classification_report, f1_score\n",
    "from torchcrf import CRF\n",
    "from utils import get_sequences, GetLabels, My_Pad_Input, GetImgAndTextEmbs, GetMissingImage, GetMissingText, GetImgEmbs, GetTextEmbs"
   ]
  },
  {
   "cell_type": "code",
   "execution_count": 2,
   "metadata": {},
   "outputs": [],
   "source": [
    "seed = 42\n",
    "\n",
    "# python RNG\n",
    "import random\n",
    "random.seed(seed)\n",
    "\n",
    "# pytorch RNGs\n",
    "import torch\n",
    "torch.manual_seed(seed)\n",
    "torch.backends.cudnn.deterministic = True\n",
    "if torch.cuda.is_available(): torch.cuda.manual_seed_all(seed)\n",
    "\n",
    "# numpy RNG\n",
    "import numpy as np\n",
    "np.random.seed(seed)"
   ]
  },
  {
   "cell_type": "code",
   "execution_count": 3,
   "metadata": {},
   "outputs": [],
   "source": [
    "torch.cuda.set_device(1)"
   ]
  },
  {
   "cell_type": "code",
   "execution_count": 4,
   "metadata": {},
   "outputs": [
    {
     "data": {
      "text/plain": [
       "1"
      ]
     },
     "execution_count": 4,
     "metadata": {},
     "output_type": "execute_result"
    }
   ],
   "source": [
    "torch.cuda.current_device()"
   ]
  },
  {
   "cell_type": "code",
   "execution_count": 5,
   "metadata": {},
   "outputs": [],
   "source": [
    "OUT_DIM=12\n",
    "INPUT_DIM=128\n",
    "BS= 8"
   ]
  },
  {
   "cell_type": "code",
   "execution_count": 6,
   "metadata": {},
   "outputs": [],
   "source": [
    "train = pd.read_csv(\"./data/train_fusion.csv\")\n",
    "val = pd.read_csv(\"./data/val_fusion.csv\")\n",
    "test_data = pd.read_csv(\"./data/test_fusion.csv\")"
   ]
  },
  {
   "cell_type": "code",
   "execution_count": 7,
   "metadata": {},
   "outputs": [],
   "source": [
    "train[\"document_type\"] = train.apply(lambda x: \"B-\" + x[\"document_type\"] if x[\"pages\"] == 1 else \"I-\" + x[\"document_type\"],\n",
    "                                     axis=1)\n",
    "val[\"document_type\"] = val.apply(lambda x: \"B-\" + x[\"document_type\"] if x[\"pages\"] == 1 else \"I-\" + x[\"document_type\"],\n",
    "                                     axis=1)\n",
    "test_data[\"document_type\"] = test_data.apply(lambda x: \"B-\" + x[\"document_type\"] if x[\"pages\"] == 1 else \"I-\" + x[\"document_type\"],\n",
    "                                   axis=1)"
   ]
  },
  {
   "cell_type": "code",
   "execution_count": 8,
   "metadata": {},
   "outputs": [],
   "source": [
    "X_train, y_train = get_sequences(train)\n",
    "X_valid, y_valid = get_sequences(val)\n",
    "X_test, y_test = get_sequences(test_data)"
   ]
  },
  {
   "cell_type": "code",
   "execution_count": 9,
   "metadata": {},
   "outputs": [],
   "source": [
    "data = pd.concat([pd.DataFrame({\"acts\":X_train, \"labels\":y_train, \"is_valid\": False}),\n",
    "                 pd.DataFrame({\"acts\":X_valid, \"labels\":y_valid, \"is_valid\": True})])"
   ]
  },
  {
   "cell_type": "code",
   "execution_count": 10,
   "metadata": {},
   "outputs": [
    {
     "data": {
      "text/html": [
       "<div>\n",
       "<style scoped>\n",
       "    .dataframe tbody tr th:only-of-type {\n",
       "        vertical-align: middle;\n",
       "    }\n",
       "\n",
       "    .dataframe tbody tr th {\n",
       "        vertical-align: top;\n",
       "    }\n",
       "\n",
       "    .dataframe thead th {\n",
       "        text-align: right;\n",
       "    }\n",
       "</style>\n",
       "<table border=\"1\" class=\"dataframe\">\n",
       "  <thead>\n",
       "    <tr style=\"text-align: right;\">\n",
       "      <th></th>\n",
       "      <th>acts</th>\n",
       "      <th>labels</th>\n",
       "      <th>is_valid</th>\n",
       "    </tr>\n",
       "  </thead>\n",
       "  <tbody>\n",
       "    <tr>\n",
       "      <th>0</th>\n",
       "      <td>[activations/text/train/outros/AI_856934_1926210_1060_17072013_1, activations/text/train/outros/AI_856934_1926211_34_17072013_1, activations/text/train/outros/AI_856934_1926211_34_17072013_2, activations/text/train/outros/AI_856934_1926211_34_17072013_3, activations/text/train/outros/AI_856934_1926211_34_17072013_4, activations/text/train/outros/AI_856934_1926211_34_17072013_5, activations/text/train/outros/AI_856934_1926211_34_17072013_6, activations/text/train/outros/AI_856934_1926211_34_17072013_7, activations/text/train/outros/AI_856934_1926211_34_17072013_8, activations/text/train/out...</td>\n",
       "      <td>[B-outros, B-outros, I-outros, I-outros, I-outros, I-outros, I-outros, I-outros, I-outros, I-outros, I-outros, I-outros, I-outros, I-outros, I-outros, I-outros, I-outros, I-outros, I-outros, I-outros, B-outros, I-outros, I-outros, I-outros, B-sentenca, I-sentenca, I-sentenca, I-sentenca, I-sentenca, B-peticao_do_RE, I-peticao_do_RE, I-peticao_do_RE, I-peticao_do_RE, I-peticao_do_RE, I-peticao_do_RE, I-peticao_do_RE, I-peticao_do_RE, I-peticao_do_RE, I-peticao_do_RE, B-outros, I-outros, I-outros, I-outros, B-despacho_de_admissibilidade, B-outros]</td>\n",
       "      <td>False</td>\n",
       "    </tr>\n",
       "    <tr>\n",
       "      <th>1</th>\n",
       "      <td>[activations/text/train/outros/AI_857179_2056961_27_22072013_1, activations/text/train/outros/AI_857179_2056961_27_22072013_2, activations/text/train/outros/AI_857179_2056961_27_22072013_3, activations/text/train/outros/AI_857179_2056961_27_22072013_4, activations/text/train/outros/AI_857179_2056961_27_22072013_5, activations/text/train/outros/AI_857179_2056961_27_22072013_6, activations/text/train/outros/AI_857179_2056961_27_22072013_7, activations/text/train/outros/AI_857179_2056961_27_22072013_8, activations/text/train/outros/AI_857179_2056961_27_22072013_9, activations/text/train/outro...</td>\n",
       "      <td>[B-outros, I-outros, I-outros, I-outros, I-outros, I-outros, I-outros, I-outros, I-outros, I-outros, I-outros, I-outros, B-outros, B-outros, I-outros, I-outros, I-outros, I-outros, I-outros, I-outros, I-outros, I-outros, I-outros, I-outros, I-outros, I-outros, B-sentenca, I-sentenca, I-sentenca, I-sentenca, I-sentenca, B-outros, I-outros, I-outros, I-outros, I-outros, I-outros, I-outros, I-outros, I-outros, I-outros, B-outros, B-outros, I-outros, I-outros, B-acordao_de_2_instancia, B-outros, B-peticao_do_RE, I-peticao_do_RE, I-peticao_do_RE, I-peticao_do_RE, I-peticao_do_RE, I-peticao_do_R...</td>\n",
       "      <td>False</td>\n",
       "    </tr>\n",
       "    <tr>\n",
       "      <th>2</th>\n",
       "      <td>[activations/text/train/outros/AI_858252_2476190_26_05082013_1, activations/text/train/outros/AI_858252_2476190_26_05082013_2, activations/text/train/outros/AI_858252_2476190_26_05082013_3, activations/text/train/outros/AI_858252_2476190_26_05082013_4, activations/text/train/outros/AI_858252_2476190_26_05082013_5, activations/text/train/outros/AI_858252_2476190_26_05082013_6, activations/text/train/outros/AI_858252_2476190_26_05082013_7, activations/text/train/outros/AI_858252_2476190_26_05082013_8, activations/text/train/outros/AI_858252_2476190_26_05082013_9, activations/text/train/outro...</td>\n",
       "      <td>[B-outros, I-outros, I-outros, I-outros, I-outros, I-outros, I-outros, I-outros, I-outros, I-outros, I-outros, B-outros, B-outros, I-outros, I-outros, I-outros, I-outros, I-outros, I-outros, I-outros, I-outros, I-outros, I-outros, I-outros, I-outros, I-outros, I-outros, B-outros, I-outros, I-outros, B-outros, I-outros, B-outros, I-outros, I-outros, I-outros, I-outros, I-outros, I-outros, I-outros, B-outros, B-outros, B-outros, B-outros, I-outros, B-outros, B-outros]</td>\n",
       "      <td>False</td>\n",
       "    </tr>\n",
       "    <tr>\n",
       "      <th>3</th>\n",
       "      <td>[activations/text/train/outros/AI_866251_311097804_95_24012017_1, activations/text/train/outros/AI_866251_311097804_95_24012017_2, activations/text/train/outros/AI_866251_311097806_95_24012017_1, activations/text/train/outros/AI_866251_311097806_95_24012017_2, activations/text/train/outros/AI_866251_311262256_1060_01032017_1]</td>\n",
       "      <td>[B-outros, I-outros, B-outros, I-outros, B-outros]</td>\n",
       "      <td>False</td>\n",
       "    </tr>\n",
       "    <tr>\n",
       "      <th>4</th>\n",
       "      <td>[activations/text/train/outros/AI_866877_311791866_1280_11052017_1, activations/text/train/outros/AI_866877_311811769_95_16052017_1, activations/text/train/outros/AI_866877_311811769_95_16052017_2, activations/text/train/outros/AI_866877_311962289_1280_05062017_1, activations/text/train/outros/AI_866877_312045773_1060_22062017_1, activations/text/train/outros/AI_866877_312063702_93_22062017_1, activations/text/train/outros/AI_866877_312146350_80_13072017_1]</td>\n",
       "      <td>[B-outros, B-outros, I-outros, B-outros, B-outros, B-outros, B-outros]</td>\n",
       "      <td>False</td>\n",
       "    </tr>\n",
       "  </tbody>\n",
       "</table>\n",
       "</div>"
      ],
      "text/plain": [
       "                                                                                                                                                                                                                                                                                                                                                                                                                                                                                                                                                                                                                      acts  \\\n",
       "0  [activations/text/train/outros/AI_856934_1926210_1060_17072013_1, activations/text/train/outros/AI_856934_1926211_34_17072013_1, activations/text/train/outros/AI_856934_1926211_34_17072013_2, activations/text/train/outros/AI_856934_1926211_34_17072013_3, activations/text/train/outros/AI_856934_1926211_34_17072013_4, activations/text/train/outros/AI_856934_1926211_34_17072013_5, activations/text/train/outros/AI_856934_1926211_34_17072013_6, activations/text/train/outros/AI_856934_1926211_34_17072013_7, activations/text/train/outros/AI_856934_1926211_34_17072013_8, activations/text/train/out...   \n",
       "1  [activations/text/train/outros/AI_857179_2056961_27_22072013_1, activations/text/train/outros/AI_857179_2056961_27_22072013_2, activations/text/train/outros/AI_857179_2056961_27_22072013_3, activations/text/train/outros/AI_857179_2056961_27_22072013_4, activations/text/train/outros/AI_857179_2056961_27_22072013_5, activations/text/train/outros/AI_857179_2056961_27_22072013_6, activations/text/train/outros/AI_857179_2056961_27_22072013_7, activations/text/train/outros/AI_857179_2056961_27_22072013_8, activations/text/train/outros/AI_857179_2056961_27_22072013_9, activations/text/train/outro...   \n",
       "2  [activations/text/train/outros/AI_858252_2476190_26_05082013_1, activations/text/train/outros/AI_858252_2476190_26_05082013_2, activations/text/train/outros/AI_858252_2476190_26_05082013_3, activations/text/train/outros/AI_858252_2476190_26_05082013_4, activations/text/train/outros/AI_858252_2476190_26_05082013_5, activations/text/train/outros/AI_858252_2476190_26_05082013_6, activations/text/train/outros/AI_858252_2476190_26_05082013_7, activations/text/train/outros/AI_858252_2476190_26_05082013_8, activations/text/train/outros/AI_858252_2476190_26_05082013_9, activations/text/train/outro...   \n",
       "3                                                                                                                                                                                                                                                                                  [activations/text/train/outros/AI_866251_311097804_95_24012017_1, activations/text/train/outros/AI_866251_311097804_95_24012017_2, activations/text/train/outros/AI_866251_311097806_95_24012017_1, activations/text/train/outros/AI_866251_311097806_95_24012017_2, activations/text/train/outros/AI_866251_311262256_1060_01032017_1]   \n",
       "4                                                                                                                                            [activations/text/train/outros/AI_866877_311791866_1280_11052017_1, activations/text/train/outros/AI_866877_311811769_95_16052017_1, activations/text/train/outros/AI_866877_311811769_95_16052017_2, activations/text/train/outros/AI_866877_311962289_1280_05062017_1, activations/text/train/outros/AI_866877_312045773_1060_22062017_1, activations/text/train/outros/AI_866877_312063702_93_22062017_1, activations/text/train/outros/AI_866877_312146350_80_13072017_1]   \n",
       "\n",
       "                                                                                                                                                                                                                                                                                                                                                                                                                                                                                                                                                                                                                    labels  \\\n",
       "0                                                  [B-outros, B-outros, I-outros, I-outros, I-outros, I-outros, I-outros, I-outros, I-outros, I-outros, I-outros, I-outros, I-outros, I-outros, I-outros, I-outros, I-outros, I-outros, I-outros, I-outros, B-outros, I-outros, I-outros, I-outros, B-sentenca, I-sentenca, I-sentenca, I-sentenca, I-sentenca, B-peticao_do_RE, I-peticao_do_RE, I-peticao_do_RE, I-peticao_do_RE, I-peticao_do_RE, I-peticao_do_RE, I-peticao_do_RE, I-peticao_do_RE, I-peticao_do_RE, I-peticao_do_RE, B-outros, I-outros, I-outros, I-outros, B-despacho_de_admissibilidade, B-outros]   \n",
       "1  [B-outros, I-outros, I-outros, I-outros, I-outros, I-outros, I-outros, I-outros, I-outros, I-outros, I-outros, I-outros, B-outros, B-outros, I-outros, I-outros, I-outros, I-outros, I-outros, I-outros, I-outros, I-outros, I-outros, I-outros, I-outros, I-outros, B-sentenca, I-sentenca, I-sentenca, I-sentenca, I-sentenca, B-outros, I-outros, I-outros, I-outros, I-outros, I-outros, I-outros, I-outros, I-outros, I-outros, B-outros, B-outros, I-outros, I-outros, B-acordao_de_2_instancia, B-outros, B-peticao_do_RE, I-peticao_do_RE, I-peticao_do_RE, I-peticao_do_RE, I-peticao_do_RE, I-peticao_do_R...   \n",
       "2                                                                                                                                   [B-outros, I-outros, I-outros, I-outros, I-outros, I-outros, I-outros, I-outros, I-outros, I-outros, I-outros, B-outros, B-outros, I-outros, I-outros, I-outros, I-outros, I-outros, I-outros, I-outros, I-outros, I-outros, I-outros, I-outros, I-outros, I-outros, I-outros, B-outros, I-outros, I-outros, B-outros, I-outros, B-outros, I-outros, I-outros, I-outros, I-outros, I-outros, I-outros, I-outros, B-outros, B-outros, B-outros, B-outros, I-outros, B-outros, B-outros]   \n",
       "3                                                                                                                                                                                                                                                                                                                                                                                                                                                                                                                                                                       [B-outros, I-outros, B-outros, I-outros, B-outros]   \n",
       "4                                                                                                                                                                                                                                                                                                                                                                                                                                                                                                                                                   [B-outros, B-outros, I-outros, B-outros, B-outros, B-outros, B-outros]   \n",
       "\n",
       "   is_valid  \n",
       "0     False  \n",
       "1     False  \n",
       "2     False  \n",
       "3     False  \n",
       "4     False  "
      ]
     },
     "execution_count": 10,
     "metadata": {},
     "output_type": "execute_result"
    }
   ],
   "source": [
    "data.head()"
   ]
  },
  {
   "cell_type": "code",
   "execution_count": 11,
   "metadata": {},
   "outputs": [],
   "source": [
    "my_pad_input=My_Pad_Input(12, from_embs=True)"
   ]
  },
  {
   "cell_type": "code",
   "execution_count": 13,
   "metadata": {},
   "outputs": [],
   "source": [
    "tfms = [[GetImgEmbs()], [GetTextEmbs()], [GetMissingImage()], [GetMissingText()], [GetLabels()]]\n",
    "splits = ColSplitter()(data)\n",
    "dsets = Datasets(data, tfms, splits=splits)\n",
    "dls = dsets.dataloaders(dl_type=SortedDL, before_batch=partial(my_pad_input, pad_fields=[0,1,2,3,4]), bs=BS)"
   ]
  },
  {
   "cell_type": "code",
   "execution_count": 14,
   "metadata": {},
   "outputs": [],
   "source": [
    "torch.save(dls, \"./data/dls_sequence_from_embs_v3.pth\")"
   ]
  },
  {
   "cell_type": "code",
   "execution_count": 12,
   "metadata": {},
   "outputs": [],
   "source": [
    "dls = torch.load(\"./data/dls_sequence_from_embs_v3.pth\")"
   ]
  },
  {
   "cell_type": "code",
   "execution_count": 13,
   "metadata": {},
   "outputs": [],
   "source": [
    "class LSTMModel(Module):\n",
    "    def __init__(self, input_dim, out_dim, hidden_dim=128, img_emb_dim=4096, text_emb_dim=3840):\n",
    "        self.img_none_emb = torch.nn.Embedding(num_embeddings=1, embedding_dim=img_emb_dim).cuda()\n",
    "        self.text_none_emb = torch.nn.Embedding(num_embeddings=1, embedding_dim=text_emb_dim).cuda()\n",
    "        self.index= tensor(0).cuda()\n",
    "        self.lstm = torch.nn.LSTM(input_size=hidden_dim*4, hidden_size=hidden_dim,\n",
    "                                  batch_first=True, bidirectional=True).cuda()\n",
    "        self.bn1 = nn.BatchNorm1d(input_dim, momentum=0.01).cuda()\n",
    "        self.bn2 = nn.BatchNorm1d(hidden_dim*2, momentum=0.01).cuda()\n",
    "        self.drop1 = nn.Dropout().cuda()\n",
    "        self.drop2 = nn.Dropout().cuda()\n",
    "        self.lin1 = nn.Linear(input_dim, hidden_dim*4).cuda()\n",
    "        self.lin2 = nn.Linear(hidden_dim*2, out_dim).cuda()\n",
    "        self.relu = nn.ReLU().cuda()\n",
    "        \n",
    "    def forward(self, img_act, text_act, img_none, text_none):\n",
    "        img_act[img_none==1] = self.img_none_emb(self.index)\n",
    "        text_act[text_none==1] = self.text_none_emb(self.index)\n",
    "        x = torch.cat([img_act, text_act], axis=-1)\n",
    "        x = x.permute(0, 2, 1)\n",
    "        x = self.bn1(x)\n",
    "        x = self.drop1(x)\n",
    "        x = x.permute(0, 2, 1)\n",
    "        x = self.lin1(x)\n",
    "        x = self.relu(x)\n",
    "        out, _ = self.lstm(x)\n",
    "        out = out.permute(0, 2, 1)\n",
    "        out_norm = self.bn2(out)\n",
    "        out_drop = self.drop2(out_norm)\n",
    "        out_drop = out_drop.permute(0, 2, 1)\n",
    "        return self.lin2(out_drop)"
   ]
  },
  {
   "cell_type": "code",
   "execution_count": 194,
   "metadata": {},
   "outputs": [],
   "source": [
    "model = LSTMModel(7936, 12)"
   ]
  },
  {
   "cell_type": "code",
   "execution_count": 14,
   "metadata": {},
   "outputs": [],
   "source": [
    "def loss_func(out, targ):\n",
    "    return CrossEntropyLossFlat(ignore_index=OUT_DIM)(out, targ.long())"
   ]
  },
  {
   "cell_type": "code",
   "execution_count": 15,
   "metadata": {},
   "outputs": [],
   "source": [
    "def _accumulate(self, learn):\n",
    "    pred = learn.pred\n",
    "    targ = learn.y\n",
    "    pred,targ = to_detach(pred),to_detach(targ)\n",
    "    pred =np.argmax(pred, axis=-1)\n",
    "    pred, targ = flatten_check(pred, targ)\n",
    "    pad_idxs = [i for i,x in enumerate(targ) if x != tensor([12])]\n",
    "    pred = pred[pad_idxs]\n",
    "    targ = targ[pad_idxs]\n",
    "    pred = torch.remainder(pred, 6)\n",
    "    targ = torch.remainder(targ, 6)\n",
    "    self.preds.append(pred)\n",
    "    self.targs.append(targ)\n",
    "\n",
    "AccumMetric.accumulate = _accumulate\n",
    "\n",
    "def MyFScore(average='macro'):\n",
    "    return skm_to_fastai(f1_score, average=average)"
   ]
  },
  {
   "cell_type": "code",
   "execution_count": 16,
   "metadata": {},
   "outputs": [],
   "source": [
    "dls.bs = dls.train.bs = dls.valid.bs = 8"
   ]
  },
  {
   "cell_type": "code",
   "execution_count": 198,
   "metadata": {},
   "outputs": [],
   "source": [
    "learn = Learner(dls, model, loss_func=loss_func, metrics=[MyFScore()])"
   ]
  },
  {
   "cell_type": "code",
   "execution_count": 199,
   "metadata": {},
   "outputs": [
    {
     "data": {
      "text/html": [
       "<table border=\"1\" class=\"dataframe\">\n",
       "  <thead>\n",
       "    <tr style=\"text-align: left;\">\n",
       "      <th>epoch</th>\n",
       "      <th>train_loss</th>\n",
       "      <th>valid_loss</th>\n",
       "      <th>f1_score</th>\n",
       "      <th>time</th>\n",
       "    </tr>\n",
       "  </thead>\n",
       "  <tbody>\n",
       "    <tr>\n",
       "      <td>0</td>\n",
       "      <td>None</td>\n",
       "      <td>None</td>\n",
       "      <td>00:00</td>\n",
       "    </tr>\n",
       "  </tbody>\n",
       "</table>"
      ],
      "text/plain": [
       "<IPython.core.display.HTML object>"
      ]
     },
     "metadata": {},
     "output_type": "display_data"
    },
    {
     "data": {
      "text/plain": [
       "LSTMModel (Input shape: ['8 x 4242 x 4096', '8 x 4242 x 3840', '8 x 4242', '8 x 4242'])\n",
       "================================================================\n",
       "Layer (type)         Output Shape         Param #    Trainable \n",
       "================================================================\n",
       "Embedding            8                    4,096      True      \n",
       "________________________________________________________________\n",
       "Embedding            8                    3,840      True      \n",
       "________________________________________________________________\n",
       "LSTM                 ['8 x 4242 x 256',   657,408    True      \n",
       "________________________________________________________________\n",
       "BatchNorm1d          8 x 7936 x 4242      15,872     True      \n",
       "________________________________________________________________\n",
       "BatchNorm1d          8 x 256 x 4242       512        True      \n",
       "________________________________________________________________\n",
       "Dropout              8 x 7936 x 4242      0          False     \n",
       "________________________________________________________________\n",
       "Dropout              8 x 256 x 4242       0          False     \n",
       "________________________________________________________________\n",
       "Linear               8 x 4242 x 512       4,063,744  True      \n",
       "________________________________________________________________\n",
       "Linear               8 x 4242 x 12        3,084      True      \n",
       "________________________________________________________________\n",
       "ReLU                 8 x 4242 x 512       0          False     \n",
       "________________________________________________________________\n",
       "\n",
       "Total params: 4,748,556\n",
       "Total trainable params: 4,748,556\n",
       "Total non-trainable params: 0\n",
       "\n",
       "Optimizer used: <function Adam at 0x7fac80a2e9d0>\n",
       "Loss function: <function loss_func at 0x7fad62dc6940>\n",
       "\n",
       "Callbacks:\n",
       "  - TrainEvalCallback\n",
       "  - Recorder\n",
       "  - ProgressCallback"
      ]
     },
     "execution_count": 199,
     "metadata": {},
     "output_type": "execute_result"
    }
   ],
   "source": [
    "learn.summary()"
   ]
  },
  {
   "cell_type": "code",
   "execution_count": 200,
   "metadata": {},
   "outputs": [
    {
     "data": {
      "text/html": [],
      "text/plain": [
       "<IPython.core.display.HTML object>"
      ]
     },
     "metadata": {},
     "output_type": "display_data"
    },
    {
     "data": {
      "text/plain": [
       "(#2) [2.5355186462402344,0.02303478949042298]"
      ]
     },
     "execution_count": 200,
     "metadata": {},
     "output_type": "execute_result"
    }
   ],
   "source": [
    "learn.validate()"
   ]
  },
  {
   "cell_type": "code",
   "execution_count": 201,
   "metadata": {},
   "outputs": [
    {
     "data": {
      "text/html": [],
      "text/plain": [
       "<IPython.core.display.HTML object>"
      ]
     },
     "metadata": {},
     "output_type": "display_data"
    },
    {
     "data": {
      "text/plain": [
       "SuggestedLRs(lr_min=0.00831763744354248, lr_steep=0.00015848931798245758)"
      ]
     },
     "execution_count": 201,
     "metadata": {},
     "output_type": "execute_result"
    },
    {
     "data": {
      "image/png": "[encoded data removed]",
      "text/plain": [
       "<Figure size 432x288 with 1 Axes>"
      ]
     },
     "metadata": {
      "needs_background": "light"
     },
     "output_type": "display_data"
    }
   ],
   "source": [
    "learn.lr_find()"
   ]
  },
  {
   "cell_type": "code",
   "execution_count": 204,
   "metadata": {},
   "outputs": [],
   "source": [
    "learn.add_cbs([SaveModelCallback(monitor='f1_score', fname='best_sequence_from_embs128_v2'),\n",
    "                                       ShowGraphCallback()])"
   ]
  },
  {
   "cell_type": "code",
   "execution_count": 206,
   "metadata": {},
   "outputs": [
    {
     "data": {
      "text/html": [
       "<table border=\"1\" class=\"dataframe\">\n",
       "  <thead>\n",
       "    <tr style=\"text-align: left;\">\n",
       "      <th>epoch</th>\n",
       "      <th>train_loss</th>\n",
       "      <th>valid_loss</th>\n",
       "      <th>f1_score</th>\n",
       "      <th>time</th>\n",
       "    </tr>\n",
       "  </thead>\n",
       "  <tbody>\n",
       "    <tr>\n",
       "      <td>0</td>\n",
       "      <td>0.302651</td>\n",
       "      <td>0.380037</td>\n",
       "      <td>0.625821</td>\n",
       "      <td>01:03</td>\n",
       "    </tr>\n",
       "    <tr>\n",
       "      <td>1</td>\n",
       "      <td>0.281782</td>\n",
       "      <td>0.365267</td>\n",
       "      <td>0.652115</td>\n",
       "      <td>00:49</td>\n",
       "    </tr>\n",
       "    <tr>\n",
       "      <td>2</td>\n",
       "      <td>0.334505</td>\n",
       "      <td>0.368616</td>\n",
       "      <td>0.657149</td>\n",
       "      <td>00:38</td>\n",
       "    </tr>\n",
       "    <tr>\n",
       "      <td>3</td>\n",
       "      <td>0.281886</td>\n",
       "      <td>0.359624</td>\n",
       "      <td>0.660878</td>\n",
       "      <td>00:37</td>\n",
       "    </tr>\n",
       "    <tr>\n",
       "      <td>4</td>\n",
       "      <td>0.298152</td>\n",
       "      <td>0.367090</td>\n",
       "      <td>0.656147</td>\n",
       "      <td>00:38</td>\n",
       "    </tr>\n",
       "    <tr>\n",
       "      <td>5</td>\n",
       "      <td>0.297698</td>\n",
       "      <td>0.364849</td>\n",
       "      <td>0.632256</td>\n",
       "      <td>00:37</td>\n",
       "    </tr>\n",
       "    <tr>\n",
       "      <td>6</td>\n",
       "      <td>0.323939</td>\n",
       "      <td>0.366066</td>\n",
       "      <td>0.643253</td>\n",
       "      <td>00:39</td>\n",
       "    </tr>\n",
       "    <tr>\n",
       "      <td>7</td>\n",
       "      <td>0.273691</td>\n",
       "      <td>0.368048</td>\n",
       "      <td>0.645112</td>\n",
       "      <td>00:37</td>\n",
       "    </tr>\n",
       "    <tr>\n",
       "      <td>8</td>\n",
       "      <td>0.289223</td>\n",
       "      <td>0.371051</td>\n",
       "      <td>0.639790</td>\n",
       "      <td>00:38</td>\n",
       "    </tr>\n",
       "    <tr>\n",
       "      <td>9</td>\n",
       "      <td>0.271979</td>\n",
       "      <td>0.365498</td>\n",
       "      <td>0.645190</td>\n",
       "      <td>00:37</td>\n",
       "    </tr>\n",
       "  </tbody>\n",
       "</table>"
      ],
      "text/plain": [
       "<IPython.core.display.HTML object>"
      ]
     },
     "metadata": {},
     "output_type": "display_data"
    },
    {
     "name": "stdout",
     "output_type": "stream",
     "text": [
      "Better model found at epoch 0 with f1_score value: 0.6258206064437398.\n"
     ]
    },
    {
     "data": {
      "image/png": "[encoded data removed]",
      "text/plain": [
       "<Figure size 432x288 with 1 Axes>"
      ]
     },
     "metadata": {},
     "output_type": "display_data"
    },
    {
     "name": "stdout",
     "output_type": "stream",
     "text": [
      "Better model found at epoch 0 with f1_score value: 0.6258206064437398.\n",
      "Better model found at epoch 1 with f1_score value: 0.652114885359575.\n",
      "Better model found at epoch 1 with f1_score value: 0.652114885359575.\n",
      "Better model found at epoch 2 with f1_score value: 0.6571491773676691.\n",
      "Better model found at epoch 2 with f1_score value: 0.6571491773676691.\n",
      "Better model found at epoch 3 with f1_score value: 0.6608782772338028.\n",
      "Better model found at epoch 3 with f1_score value: 0.6608782772338028.\n"
     ]
    }
   ],
   "source": [
    "learn.fit_one_cycle(10, lr_max=1e-3)"
   ]
  },
  {
   "cell_type": "code",
   "execution_count": 207,
   "metadata": {},
   "outputs": [],
   "source": [
    "model = LSTMModel(7936, 12, hidden_dim=256)"
   ]
  },
  {
   "cell_type": "code",
   "execution_count": 208,
   "metadata": {},
   "outputs": [],
   "source": [
    "learn = Learner(dls, model, loss_func=loss_func, metrics=[MyFScore()])"
   ]
  },
  {
   "cell_type": "code",
   "execution_count": 209,
   "metadata": {},
   "outputs": [
    {
     "data": {
      "text/html": [],
      "text/plain": [
       "<IPython.core.display.HTML object>"
      ]
     },
     "metadata": {},
     "output_type": "display_data"
    },
    {
     "data": {
      "text/plain": [
       "SuggestedLRs(lr_min=0.014454397559165954, lr_steep=0.5248074531555176)"
      ]
     },
     "execution_count": 209,
     "metadata": {},
     "output_type": "execute_result"
    },
    {
     "data": {
      "image/png": "[encoded data removed]",
      "text/plain": [
       "<Figure size 432x288 with 1 Axes>"
      ]
     },
     "metadata": {
      "needs_background": "light"
     },
     "output_type": "display_data"
    }
   ],
   "source": [
    "learn.lr_find()"
   ]
  },
  {
   "cell_type": "code",
   "execution_count": 210,
   "metadata": {},
   "outputs": [],
   "source": [
    "learn.add_cbs([SaveModelCallback(monitor='f1_score', fname='best_sequence_from_embs256_v2'),\n",
    "                                       ShowGraphCallback()])"
   ]
  },
  {
   "cell_type": "code",
   "execution_count": 211,
   "metadata": {},
   "outputs": [
    {
     "data": {
      "text/html": [
       "<table border=\"1\" class=\"dataframe\">\n",
       "  <thead>\n",
       "    <tr style=\"text-align: left;\">\n",
       "      <th>epoch</th>\n",
       "      <th>train_loss</th>\n",
       "      <th>valid_loss</th>\n",
       "      <th>f1_score</th>\n",
       "      <th>time</th>\n",
       "    </tr>\n",
       "  </thead>\n",
       "  <tbody>\n",
       "    <tr>\n",
       "      <td>0</td>\n",
       "      <td>0.829625</td>\n",
       "      <td>0.411514</td>\n",
       "      <td>0.479540</td>\n",
       "      <td>00:42</td>\n",
       "    </tr>\n",
       "    <tr>\n",
       "      <td>1</td>\n",
       "      <td>0.406706</td>\n",
       "      <td>0.459886</td>\n",
       "      <td>0.673126</td>\n",
       "      <td>00:40</td>\n",
       "    </tr>\n",
       "    <tr>\n",
       "      <td>2</td>\n",
       "      <td>0.285364</td>\n",
       "      <td>0.285821</td>\n",
       "      <td>0.720272</td>\n",
       "      <td>00:38</td>\n",
       "    </tr>\n",
       "    <tr>\n",
       "      <td>3</td>\n",
       "      <td>0.193184</td>\n",
       "      <td>0.272489</td>\n",
       "      <td>0.732717</td>\n",
       "      <td>00:38</td>\n",
       "    </tr>\n",
       "    <tr>\n",
       "      <td>4</td>\n",
       "      <td>0.143771</td>\n",
       "      <td>0.247235</td>\n",
       "      <td>0.763651</td>\n",
       "      <td>00:38</td>\n",
       "    </tr>\n",
       "    <tr>\n",
       "      <td>5</td>\n",
       "      <td>0.123734</td>\n",
       "      <td>0.335370</td>\n",
       "      <td>0.736207</td>\n",
       "      <td>00:37</td>\n",
       "    </tr>\n",
       "    <tr>\n",
       "      <td>6</td>\n",
       "      <td>0.100093</td>\n",
       "      <td>0.266742</td>\n",
       "      <td>0.766696</td>\n",
       "      <td>00:38</td>\n",
       "    </tr>\n",
       "    <tr>\n",
       "      <td>7</td>\n",
       "      <td>0.096467</td>\n",
       "      <td>0.260147</td>\n",
       "      <td>0.767779</td>\n",
       "      <td>00:36</td>\n",
       "    </tr>\n",
       "    <tr>\n",
       "      <td>8</td>\n",
       "      <td>0.078322</td>\n",
       "      <td>0.243979</td>\n",
       "      <td>0.776195</td>\n",
       "      <td>00:41</td>\n",
       "    </tr>\n",
       "    <tr>\n",
       "      <td>9</td>\n",
       "      <td>0.065205</td>\n",
       "      <td>0.256023</td>\n",
       "      <td>0.766660</td>\n",
       "      <td>00:38</td>\n",
       "    </tr>\n",
       "  </tbody>\n",
       "</table>"
      ],
      "text/plain": [
       "<IPython.core.display.HTML object>"
      ]
     },
     "metadata": {},
     "output_type": "display_data"
    },
    {
     "name": "stdout",
     "output_type": "stream",
     "text": [
      "Better model found at epoch 0 with f1_score value: 0.47954033537462837.\n"
     ]
    },
    {
     "data": {
      "image/png": "[encoded data removed]",
      "text/plain": [
       "<Figure size 432x288 with 1 Axes>"
      ]
     },
     "metadata": {},
     "output_type": "display_data"
    },
    {
     "name": "stdout",
     "output_type": "stream",
     "text": [
      "Better model found at epoch 1 with f1_score value: 0.6731259603918082.\n",
      "Better model found at epoch 2 with f1_score value: 0.7202718583155322.\n",
      "Better model found at epoch 3 with f1_score value: 0.7327169559053707.\n",
      "Better model found at epoch 4 with f1_score value: 0.7636505521073613.\n",
      "Better model found at epoch 6 with f1_score value: 0.766695587124854.\n",
      "Better model found at epoch 7 with f1_score value: 0.7677790370900953.\n",
      "Better model found at epoch 8 with f1_score value: 0.7761950202023061.\n"
     ]
    }
   ],
   "source": [
    "learn.fit_one_cycle(10, lr_max=1e-3)"
   ]
  },
  {
   "cell_type": "code",
   "execution_count": 20,
   "metadata": {},
   "outputs": [],
   "source": [
    "model = LSTMModel(7936, 12, hidden_dim=256)"
   ]
  },
  {
   "cell_type": "code",
   "execution_count": 21,
   "metadata": {},
   "outputs": [],
   "source": [
    "learn = Learner(dls, model, loss_func=loss_func, metrics=[MyFScore()])"
   ]
  },
  {
   "cell_type": "code",
   "execution_count": 22,
   "metadata": {},
   "outputs": [],
   "source": [
    "learn.add_cbs([SaveModelCallback(monitor='f1_score', fname='best_sequence_from_embs256_moreEpochs_v2'),\n",
    "                                       ShowGraphCallback()])"
   ]
  },
  {
   "cell_type": "code",
   "execution_count": 23,
   "metadata": {},
   "outputs": [
    {
     "data": {
      "text/html": [
       "<table border=\"1\" class=\"dataframe\">\n",
       "  <thead>\n",
       "    <tr style=\"text-align: left;\">\n",
       "      <th>epoch</th>\n",
       "      <th>train_loss</th>\n",
       "      <th>valid_loss</th>\n",
       "      <th>f1_score</th>\n",
       "      <th>time</th>\n",
       "    </tr>\n",
       "  </thead>\n",
       "  <tbody>\n",
       "    <tr>\n",
       "      <td>0</td>\n",
       "      <td>1.040630</td>\n",
       "      <td>0.634237</td>\n",
       "      <td>0.474481</td>\n",
       "      <td>01:59</td>\n",
       "    </tr>\n",
       "    <tr>\n",
       "      <td>1</td>\n",
       "      <td>0.511061</td>\n",
       "      <td>0.358617</td>\n",
       "      <td>0.668317</td>\n",
       "      <td>01:43</td>\n",
       "    </tr>\n",
       "    <tr>\n",
       "      <td>2</td>\n",
       "      <td>0.365422</td>\n",
       "      <td>0.414417</td>\n",
       "      <td>0.677517</td>\n",
       "      <td>01:44</td>\n",
       "    </tr>\n",
       "    <tr>\n",
       "      <td>3</td>\n",
       "      <td>0.291185</td>\n",
       "      <td>0.285304</td>\n",
       "      <td>0.702752</td>\n",
       "      <td>01:47</td>\n",
       "    </tr>\n",
       "    <tr>\n",
       "      <td>4</td>\n",
       "      <td>0.261520</td>\n",
       "      <td>0.275751</td>\n",
       "      <td>0.737119</td>\n",
       "      <td>01:25</td>\n",
       "    </tr>\n",
       "    <tr>\n",
       "      <td>5</td>\n",
       "      <td>0.172379</td>\n",
       "      <td>0.296243</td>\n",
       "      <td>0.728619</td>\n",
       "      <td>01:37</td>\n",
       "    </tr>\n",
       "    <tr>\n",
       "      <td>6</td>\n",
       "      <td>0.181910</td>\n",
       "      <td>0.323274</td>\n",
       "      <td>0.736656</td>\n",
       "      <td>01:47</td>\n",
       "    </tr>\n",
       "    <tr>\n",
       "      <td>7</td>\n",
       "      <td>0.131442</td>\n",
       "      <td>0.268305</td>\n",
       "      <td>0.781103</td>\n",
       "      <td>02:13</td>\n",
       "    </tr>\n",
       "    <tr>\n",
       "      <td>8</td>\n",
       "      <td>0.105444</td>\n",
       "      <td>0.340085</td>\n",
       "      <td>0.730729</td>\n",
       "      <td>02:08</td>\n",
       "    </tr>\n",
       "    <tr>\n",
       "      <td>9</td>\n",
       "      <td>0.111330</td>\n",
       "      <td>0.225330</td>\n",
       "      <td>0.784543</td>\n",
       "      <td>02:05</td>\n",
       "    </tr>\n",
       "    <tr>\n",
       "      <td>10</td>\n",
       "      <td>0.087366</td>\n",
       "      <td>0.282390</td>\n",
       "      <td>0.762264</td>\n",
       "      <td>01:54</td>\n",
       "    </tr>\n",
       "    <tr>\n",
       "      <td>11</td>\n",
       "      <td>0.070132</td>\n",
       "      <td>0.241870</td>\n",
       "      <td>0.771897</td>\n",
       "      <td>02:14</td>\n",
       "    </tr>\n",
       "    <tr>\n",
       "      <td>12</td>\n",
       "      <td>0.073753</td>\n",
       "      <td>0.241042</td>\n",
       "      <td>0.774954</td>\n",
       "      <td>01:59</td>\n",
       "    </tr>\n",
       "    <tr>\n",
       "      <td>13</td>\n",
       "      <td>0.045232</td>\n",
       "      <td>0.264537</td>\n",
       "      <td>0.775157</td>\n",
       "      <td>01:51</td>\n",
       "    </tr>\n",
       "    <tr>\n",
       "      <td>14</td>\n",
       "      <td>0.042357</td>\n",
       "      <td>0.256155</td>\n",
       "      <td>0.793042</td>\n",
       "      <td>02:03</td>\n",
       "    </tr>\n",
       "    <tr>\n",
       "      <td>15</td>\n",
       "      <td>0.044931</td>\n",
       "      <td>0.260680</td>\n",
       "      <td>0.792745</td>\n",
       "      <td>02:06</td>\n",
       "    </tr>\n",
       "    <tr>\n",
       "      <td>16</td>\n",
       "      <td>0.031028</td>\n",
       "      <td>0.262803</td>\n",
       "      <td>0.792656</td>\n",
       "      <td>01:43</td>\n",
       "    </tr>\n",
       "    <tr>\n",
       "      <td>17</td>\n",
       "      <td>0.034078</td>\n",
       "      <td>0.267716</td>\n",
       "      <td>0.794229</td>\n",
       "      <td>02:02</td>\n",
       "    </tr>\n",
       "    <tr>\n",
       "      <td>18</td>\n",
       "      <td>0.029663</td>\n",
       "      <td>0.287467</td>\n",
       "      <td>0.783339</td>\n",
       "      <td>02:07</td>\n",
       "    </tr>\n",
       "    <tr>\n",
       "      <td>19</td>\n",
       "      <td>0.032907</td>\n",
       "      <td>0.272461</td>\n",
       "      <td>0.792217</td>\n",
       "      <td>02:06</td>\n",
       "    </tr>\n",
       "  </tbody>\n",
       "</table>"
      ],
      "text/plain": [
       "<IPython.core.display.HTML object>"
      ]
     },
     "metadata": {},
     "output_type": "display_data"
    },
    {
     "name": "stdout",
     "output_type": "stream",
     "text": [
      "Better model found at epoch 0 with f1_score value: 0.47448061836676975.\n"
     ]
    },
    {
     "data": {
      "image/png": "[encoded data removed]",
      "text/plain": [
       "<Figure size 432x288 with 1 Axes>"
      ]
     },
     "metadata": {},
     "output_type": "display_data"
    },
    {
     "name": "stdout",
     "output_type": "stream",
     "text": [
      "Better model found at epoch 1 with f1_score value: 0.6683166316881657.\n",
      "Better model found at epoch 2 with f1_score value: 0.6775169108148926.\n",
      "Better model found at epoch 3 with f1_score value: 0.7027524646356955.\n",
      "Better model found at epoch 4 with f1_score value: 0.7371194905036823.\n",
      "Better model found at epoch 7 with f1_score value: 0.7811033802286111.\n",
      "Better model found at epoch 9 with f1_score value: 0.784543138351753.\n",
      "Better model found at epoch 14 with f1_score value: 0.7930423995066297.\n",
      "Better model found at epoch 17 with f1_score value: 0.7942292980489317.\n"
     ]
    }
   ],
   "source": [
    "learn.fit_one_cycle(20, lr_max=1e-3)"
   ]
  },
  {
   "cell_type": "code",
   "execution_count": 24,
   "metadata": {},
   "outputs": [
    {
     "data": {
      "text/plain": [
       "<fastai.learner.Learner at 0x7f88338a5b50>"
      ]
     },
     "execution_count": 24,
     "metadata": {},
     "output_type": "execute_result"
    }
   ],
   "source": [
    "learn.load(\"best_sequence_from_embs256_moreEpochs_v2\")"
   ]
  },
  {
   "cell_type": "code",
   "execution_count": 25,
   "metadata": {},
   "outputs": [],
   "source": [
    "def evaluate(learn, dl):\n",
    "    preds, targets = learn.get_preds(dl=dl)\n",
    "    preds =[np.argmax(x, axis=-1) for sublist in preds for x in sublist]\n",
    "    targets = [x for sublist in targets for x in sublist]\n",
    "    pad_idxs = [i for i,x in enumerate(targets) if x != tensor([12])]\n",
    "    preds = L(preds)[pad_idxs]\n",
    "    targets = L(targets)[pad_idxs]\n",
    "    print(classification_report(targets, preds, target_names=dl.get_labels.cat.vocab, digits=4))\n",
    "    preds = [x % 6 for x in preds]\n",
    "    targets = [x % 6 for x in targets]\n",
    "    print(classification_report(targets, preds, target_names=[x[2:] for x in dl.get_labels.cat.vocab[:6]], digits=4))"
   ]
  },
  {
   "cell_type": "code",
   "execution_count": 26,
   "metadata": {},
   "outputs": [
    {
     "data": {
      "text/html": [],
      "text/plain": [
       "<IPython.core.display.HTML object>"
      ]
     },
     "metadata": {},
     "output_type": "display_data"
    },
    {
     "name": "stdout",
     "output_type": "stream",
     "text": [
      "                                    precision    recall  f1-score   support\n",
      "\n",
      "          B-acordao_de_2_instancia     0.8980    0.8756    0.8866       201\n",
      "B-agravo_em_recurso_extraordinario     0.6267    0.5949    0.6104       237\n",
      "     B-despacho_de_admissibilidade     0.8644    0.6939    0.7698       147\n",
      "                          B-outros     0.9458    0.8973    0.9209     25898\n",
      "                   B-peticao_do_RE     0.7331    0.6656    0.6977       326\n",
      "                        B-sentenca     0.8123    0.7465    0.7780       284\n",
      "          I-acordao_de_2_instancia     0.6632    0.6429    0.6528        98\n",
      "I-agravo_em_recurso_extraordinario     0.6153    0.6349    0.6250      1912\n",
      "     I-despacho_de_admissibilidade     0.5357    0.4167    0.4688        36\n",
      "                          I-outros     0.9276    0.9455    0.9364     58206\n",
      "                   I-peticao_do_RE     0.7596    0.8127    0.7852      6038\n",
      "                        I-sentenca     0.8962    0.7855    0.8372      1352\n",
      "\n",
      "                          accuracy                         0.9118     94735\n",
      "                         macro avg     0.7731    0.7260    0.7474     94735\n",
      "                      weighted avg     0.9127    0.9118    0.9119     94735\n",
      "\n",
      "                                  precision    recall  f1-score   support\n",
      "\n",
      "          acordao_de_2_instancia     0.8419    0.8194    0.8305       299\n",
      "agravo_em_recurso_extraordinario     0.6247    0.6389    0.6317      2149\n",
      "     despacho_de_admissibilidade     0.8014    0.6393    0.7112       183\n",
      "                          outros     0.9730    0.9706    0.9718     84104\n",
      "                   peticao_do_RE     0.7610    0.8078    0.7837      6364\n",
      "                        sentenca     0.8914    0.7879    0.8365      1636\n",
      "\n",
      "                        accuracy                         0.9478     94735\n",
      "                       macro avg     0.8155    0.7773    0.7942     94735\n",
      "                    weighted avg     0.9487    0.9478    0.9481     94735\n",
      "\n"
     ]
    }
   ],
   "source": [
    "evaluate(learn, dls.valid)"
   ]
  },
  {
   "cell_type": "code",
   "execution_count": null,
   "metadata": {},
   "outputs": [],
   "source": [
    "test_data = pd.DataFrame({\"acts\":X_test, \"labels\":y_test})"
   ]
  },
  {
   "cell_type": "code",
   "execution_count": null,
   "metadata": {},
   "outputs": [],
   "source": [
    "test_dl = dls.test_dl(test_data, with_labels=True)"
   ]
  },
  {
   "cell_type": "code",
   "execution_count": null,
   "metadata": {},
   "outputs": [],
   "source": [
    "torch.save(test_dl, \"./data/test_dl_sequence_from_embs_v3.pth\")"
   ]
  },
  {
   "cell_type": "code",
   "execution_count": 27,
   "metadata": {},
   "outputs": [],
   "source": [
    "test_dl = torch.load(\"./data/test_dl_sequence_from_embs_v3.pth\")"
   ]
  },
  {
   "cell_type": "code",
   "execution_count": 28,
   "metadata": {},
   "outputs": [
    {
     "data": {
      "text/html": [],
      "text/plain": [
       "<IPython.core.display.HTML object>"
      ]
     },
     "metadata": {},
     "output_type": "display_data"
    },
    {
     "name": "stdout",
     "output_type": "stream",
     "text": [
      "                                    precision    recall  f1-score   support\n",
      "\n",
      "          B-acordao_de_2_instancia     0.9255    0.8744    0.8992       199\n",
      "B-agravo_em_recurso_extraordinario     0.5805    0.5587    0.5694       213\n",
      "     B-despacho_de_admissibilidade     0.7966    0.6395    0.7094       147\n",
      "                          B-outros     0.9315    0.8965    0.9137     25744\n",
      "                   B-peticao_do_RE     0.7681    0.6795    0.7211       312\n",
      "                        B-sentenca     0.7962    0.7962    0.7962       265\n",
      "          I-acordao_de_2_instancia     0.6286    0.8919    0.7374        74\n",
      "I-agravo_em_recurso_extraordinario     0.6034    0.6450    0.6235      1628\n",
      "     I-despacho_de_admissibilidade     0.4250    0.3333    0.3736        51\n",
      "                          I-outros     0.9307    0.9472    0.9388     59664\n",
      "                   I-peticao_do_RE     0.8057    0.8000    0.8028      6019\n",
      "                        I-sentenca     0.8871    0.8182    0.8512      1210\n",
      "\n",
      "                          accuracy                         0.9143     95526\n",
      "                         macro avg     0.7566    0.7400    0.7447     95526\n",
      "                      weighted avg     0.9145    0.9143    0.9142     95526\n",
      "\n",
      "                                  precision    recall  f1-score   support\n",
      "\n",
      "          acordao_de_2_instancia     0.8362    0.8974    0.8657       273\n",
      "agravo_em_recurso_extraordinario     0.6103    0.6448    0.6270      1841\n",
      "     despacho_de_admissibilidade     0.7152    0.5707    0.6348       198\n",
      "                          outros     0.9748    0.9759    0.9753     85408\n",
      "                   peticao_do_RE     0.8068    0.7967    0.8017      6331\n",
      "                        sentenca     0.8726    0.8169    0.8438      1475\n",
      "\n",
      "                        accuracy                         0.9541     95526\n",
      "                       macro avg     0.8026    0.7837    0.7914     95526\n",
      "                    weighted avg     0.9542    0.9541    0.9541     95526\n",
      "\n"
     ]
    }
   ],
   "source": [
    "evaluate(learn, test_dl)"
   ]
  },
  {
   "cell_type": "code",
   "execution_count": 29,
   "metadata": {},
   "outputs": [],
   "source": [
    "class BiLSTMCRF(Module):\n",
    "    def __init__(self, input_dim, out_dim, hidden_dim=128, img_emb_dim=4096, text_emb_dim=3840):\n",
    "        self.img_none_emb = torch.nn.Embedding(num_embeddings=1, embedding_dim=img_emb_dim).cuda()\n",
    "        self.text_none_emb = torch.nn.Embedding(num_embeddings=1, embedding_dim=text_emb_dim).cuda()\n",
    "        self.index= tensor(0).cuda()\n",
    "        self.lstm = torch.nn.LSTM(input_size=hidden_dim*4, hidden_size=hidden_dim,\n",
    "                                  batch_first=True, bidirectional=True).cuda()\n",
    "        self.bn1 = nn.BatchNorm1d(input_dim, momentum=0.01).cuda()\n",
    "        self.bn2 = nn.BatchNorm1d(hidden_dim*2, momentum=0.01).cuda()\n",
    "        self.drop1 = nn.Dropout().cuda()\n",
    "        self.drop2 = nn.Dropout().cuda()\n",
    "        self.lin1 = nn.Linear(input_dim, hidden_dim*4).cuda()\n",
    "        self.lin2 = nn.Linear(hidden_dim*2, out_dim).cuda()\n",
    "        self.relu = nn.ReLU().cuda()\n",
    "        self.crf = CRF(num_tags=out_dim, batch_first=True).cuda()\n",
    "    \n",
    "    def crf_loss_func(self, out, targ):\n",
    "        mask = tensor(targ.data != OUT_DIM)\n",
    "        clean_targ = targ.clone()\n",
    "        clean_targ[clean_targ==OUT_DIM]=0\n",
    "        targ=targ.view(out.shape[:2])\n",
    "        clean_targ=clean_targ.view(targ.shape)\n",
    "        mask=mask.view(targ.shape)\n",
    "        return -self.crf(out, clean_targ.long(), mask=mask, reduction=\"mean\")\n",
    "        \n",
    "    def forward(self, img_act, text_act, img_none, text_none):\n",
    "        img_act[img_none==1] = self.img_none_emb(self.index)\n",
    "        text_act[text_none==1] = self.text_none_emb(self.index)\n",
    "        x = torch.cat([img_act, text_act], axis=-1)\n",
    "        x = x.permute(0, 2, 1)\n",
    "        x = self.bn1(x)\n",
    "        x = self.drop1(x)\n",
    "        x = x.permute(0, 2, 1)\n",
    "        x = self.lin1(x)\n",
    "        x = self.relu(x)\n",
    "        out, _ = self.lstm(x)\n",
    "        out = out.permute(0, 2, 1)\n",
    "        out_norm = self.bn2(out)\n",
    "        out_drop = self.drop2(out_norm)\n",
    "        out_drop = out_drop.permute(0, 2, 1)\n",
    "        return self.lin2(out_drop)"
   ]
  },
  {
   "cell_type": "code",
   "execution_count": null,
   "metadata": {},
   "outputs": [],
   "source": [
    "model = BiLSTMCRF(7936, 12)"
   ]
  },
  {
   "cell_type": "code",
   "execution_count": 30,
   "metadata": {},
   "outputs": [],
   "source": [
    "def _accumulate(self, learn):\n",
    "    pred = learn.pred\n",
    "    targ = learn.y\n",
    "    mask = tensor(targ.data != OUT_DIM)\n",
    "    pred,targ, mask = to_detach(pred),to_detach(targ), to_detach(mask)\n",
    "    mask=mask.view(pred.shape[:2])\n",
    "    pred = learn.model.crf.decode(pred.cuda(),mask=mask.cuda())\n",
    "    pred = tensor([[x for sublist in pred for x in sublist]]).view(-1)\n",
    "    targ = targ[mask].view(-1)\n",
    "    pred = torch.remainder(pred, 6)\n",
    "    targ = torch.remainder(targ, 6)\n",
    "    self.preds.append(pred)\n",
    "    self.targs.append(targ)\n",
    "\n",
    "AccumMetric.accumulate = _accumulate\n",
    "\n",
    "def MyFScore(average='macro'):\n",
    "    return skm_to_fastai(f1_score, average=average)"
   ]
  },
  {
   "cell_type": "code",
   "execution_count": 231,
   "metadata": {},
   "outputs": [],
   "source": [
    "learn = Learner(dls, model, loss_func=model.crf_loss_func, metrics=[MyFScore()])"
   ]
  },
  {
   "cell_type": "code",
   "execution_count": 232,
   "metadata": {},
   "outputs": [
    {
     "data": {
      "text/html": [],
      "text/plain": [
       "<IPython.core.display.HTML object>"
      ]
     },
     "metadata": {},
     "output_type": "display_data"
    },
    {
     "data": {
      "text/plain": [
       "(#2) [124.25593566894531,0.0015220089435886194]"
      ]
     },
     "execution_count": 232,
     "metadata": {},
     "output_type": "execute_result"
    }
   ],
   "source": [
    "learn.validate()"
   ]
  },
  {
   "cell_type": "code",
   "execution_count": 233,
   "metadata": {},
   "outputs": [
    {
     "data": {
      "text/html": [
       "<table border=\"1\" class=\"dataframe\">\n",
       "  <thead>\n",
       "    <tr style=\"text-align: left;\">\n",
       "      <th>epoch</th>\n",
       "      <th>train_loss</th>\n",
       "      <th>valid_loss</th>\n",
       "      <th>f1_score</th>\n",
       "      <th>time</th>\n",
       "    </tr>\n",
       "  </thead>\n",
       "  <tbody>\n",
       "    <tr>\n",
       "      <td>0</td>\n",
       "      <td>None</td>\n",
       "      <td>None</td>\n",
       "      <td>00:00</td>\n",
       "    </tr>\n",
       "  </tbody>\n",
       "</table>"
      ],
      "text/plain": [
       "<IPython.core.display.HTML object>"
      ]
     },
     "metadata": {},
     "output_type": "display_data"
    },
    {
     "data": {
      "text/plain": [
       "BiLSTMCRF (Input shape: ['8 x 4242 x 4096', '8 x 4242 x 3840', '8 x 4242', '8 x 4242'])\n",
       "================================================================\n",
       "Layer (type)         Output Shape         Param #    Trainable \n",
       "================================================================\n",
       "Embedding            8                    4,096      True      \n",
       "________________________________________________________________\n",
       "Embedding            8                    3,840      True      \n",
       "________________________________________________________________\n",
       "LSTM                 ['8 x 4242 x 256',   657,408    True      \n",
       "________________________________________________________________\n",
       "BatchNorm1d          8 x 7936 x 4242      15,872     True      \n",
       "________________________________________________________________\n",
       "BatchNorm1d          8 x 256 x 4242       512        True      \n",
       "________________________________________________________________\n",
       "Dropout              8 x 7936 x 4242      0          False     \n",
       "________________________________________________________________\n",
       "Dropout              8 x 256 x 4242       0          False     \n",
       "________________________________________________________________\n",
       "Linear               8 x 4242 x 512       4,063,744  True      \n",
       "________________________________________________________________\n",
       "Linear               8 x 4242 x 12        3,084      True      \n",
       "________________________________________________________________\n",
       "ReLU                 8 x 4242 x 512       0          False     \n",
       "________________________________________________________________\n",
       "\n",
       "Total params: 4,748,556\n",
       "Total trainable params: 4,748,556\n",
       "Total non-trainable params: 0\n",
       "\n",
       "Optimizer used: <function Adam at 0x7fac80a2e9d0>\n",
       "Loss function: <bound method BiLSTMCRF.crf_loss_func of BiLSTMCRF(\n",
       "  (img_none_emb): Embedding(1, 4096)\n",
       "  (text_none_emb): Embedding(1, 3840)\n",
       "  (lstm): LSTM(512, 128, batch_first=True, bidirectional=True)\n",
       "  (bn1): BatchNorm1d(7936, eps=1e-05, momentum=0.01, affine=True, track_running_stats=True)\n",
       "  (bn2): BatchNorm1d(256, eps=1e-05, momentum=0.01, affine=True, track_running_stats=True)\n",
       "  (drop1): Dropout(p=0.5, inplace=False)\n",
       "  (drop2): Dropout(p=0.5, inplace=False)\n",
       "  (lin1): Linear(in_features=7936, out_features=512, bias=True)\n",
       "  (lin2): Linear(in_features=256, out_features=12, bias=True)\n",
       "  (relu): ReLU()\n",
       "  (crf): CRF(num_tags=12)\n",
       ")>\n",
       "\n",
       "Callbacks:\n",
       "  - TrainEvalCallback\n",
       "  - Recorder\n",
       "  - ProgressCallback"
      ]
     },
     "execution_count": 233,
     "metadata": {},
     "output_type": "execute_result"
    }
   ],
   "source": [
    "learn.summary()"
   ]
  },
  {
   "cell_type": "code",
   "execution_count": 234,
   "metadata": {},
   "outputs": [
    {
     "data": {
      "text/html": [],
      "text/plain": [
       "<IPython.core.display.HTML object>"
      ]
     },
     "metadata": {},
     "output_type": "display_data"
    },
    {
     "data": {
      "text/plain": [
       "SuggestedLRs(lr_min=0.06309573650360108, lr_steep=6.309573450380412e-07)"
      ]
     },
     "execution_count": 234,
     "metadata": {},
     "output_type": "execute_result"
    },
    {
     "data": {
      "image/png": "[encoded data removed]",
      "text/plain": [
       "<Figure size 432x288 with 1 Axes>"
      ]
     },
     "metadata": {
      "needs_background": "light"
     },
     "output_type": "display_data"
    }
   ],
   "source": [
    "learn.lr_find()"
   ]
  },
  {
   "cell_type": "code",
   "execution_count": 235,
   "metadata": {},
   "outputs": [],
   "source": [
    "learn.add_cbs([SaveModelCallback(monitor='f1_score', fname='best_lstm_fromEmbs_crf_128_v2'),\n",
    "                                       ShowGraphCallback()])"
   ]
  },
  {
   "cell_type": "code",
   "execution_count": 236,
   "metadata": {},
   "outputs": [
    {
     "data": {
      "text/html": [
       "<table border=\"1\" class=\"dataframe\">\n",
       "  <thead>\n",
       "    <tr style=\"text-align: left;\">\n",
       "      <th>epoch</th>\n",
       "      <th>train_loss</th>\n",
       "      <th>valid_loss</th>\n",
       "      <th>f1_score</th>\n",
       "      <th>time</th>\n",
       "    </tr>\n",
       "  </thead>\n",
       "  <tbody>\n",
       "    <tr>\n",
       "      <td>0</td>\n",
       "      <td>43.087563</td>\n",
       "      <td>38.387508</td>\n",
       "      <td>0.544540</td>\n",
       "      <td>01:53</td>\n",
       "    </tr>\n",
       "    <tr>\n",
       "      <td>1</td>\n",
       "      <td>18.985678</td>\n",
       "      <td>25.921474</td>\n",
       "      <td>0.728755</td>\n",
       "      <td>02:16</td>\n",
       "    </tr>\n",
       "    <tr>\n",
       "      <td>2</td>\n",
       "      <td>21.519173</td>\n",
       "      <td>29.197081</td>\n",
       "      <td>0.639756</td>\n",
       "      <td>02:30</td>\n",
       "    </tr>\n",
       "    <tr>\n",
       "      <td>3</td>\n",
       "      <td>18.487423</td>\n",
       "      <td>29.184736</td>\n",
       "      <td>0.723748</td>\n",
       "      <td>02:20</td>\n",
       "    </tr>\n",
       "    <tr>\n",
       "      <td>4</td>\n",
       "      <td>12.397869</td>\n",
       "      <td>20.278421</td>\n",
       "      <td>0.749210</td>\n",
       "      <td>02:20</td>\n",
       "    </tr>\n",
       "    <tr>\n",
       "      <td>5</td>\n",
       "      <td>12.126708</td>\n",
       "      <td>21.992531</td>\n",
       "      <td>0.759865</td>\n",
       "      <td>02:16</td>\n",
       "    </tr>\n",
       "    <tr>\n",
       "      <td>6</td>\n",
       "      <td>13.797823</td>\n",
       "      <td>19.913834</td>\n",
       "      <td>0.763718</td>\n",
       "      <td>02:15</td>\n",
       "    </tr>\n",
       "    <tr>\n",
       "      <td>7</td>\n",
       "      <td>9.811756</td>\n",
       "      <td>18.381002</td>\n",
       "      <td>0.762438</td>\n",
       "      <td>02:15</td>\n",
       "    </tr>\n",
       "    <tr>\n",
       "      <td>8</td>\n",
       "      <td>8.681277</td>\n",
       "      <td>16.468807</td>\n",
       "      <td>0.769699</td>\n",
       "      <td>02:15</td>\n",
       "    </tr>\n",
       "    <tr>\n",
       "      <td>9</td>\n",
       "      <td>9.042226</td>\n",
       "      <td>17.094530</td>\n",
       "      <td>0.771537</td>\n",
       "      <td>02:18</td>\n",
       "    </tr>\n",
       "  </tbody>\n",
       "</table>"
      ],
      "text/plain": [
       "<IPython.core.display.HTML object>"
      ]
     },
     "metadata": {},
     "output_type": "display_data"
    },
    {
     "name": "stdout",
     "output_type": "stream",
     "text": [
      "Better model found at epoch 0 with f1_score value: 0.5445397579622134.\n"
     ]
    },
    {
     "data": {
      "image/png": "[encoded data removed]",
      "text/plain": [
       "<Figure size 432x288 with 1 Axes>"
      ]
     },
     "metadata": {},
     "output_type": "display_data"
    },
    {
     "name": "stdout",
     "output_type": "stream",
     "text": [
      "Better model found at epoch 1 with f1_score value: 0.7287551897525062.\n",
      "Better model found at epoch 4 with f1_score value: 0.749209928029626.\n",
      "Better model found at epoch 5 with f1_score value: 0.7598653668584308.\n",
      "Better model found at epoch 6 with f1_score value: 0.7637178731461205.\n",
      "Better model found at epoch 8 with f1_score value: 0.7696989643818347.\n",
      "Better model found at epoch 9 with f1_score value: 0.771536726430793.\n"
     ]
    }
   ],
   "source": [
    "learn.fit_one_cycle(10, lr_max=1e-3)"
   ]
  },
  {
   "cell_type": "code",
   "execution_count": 237,
   "metadata": {},
   "outputs": [],
   "source": [
    "model = BiLSTMCRF(7936, 12, hidden_dim=256)"
   ]
  },
  {
   "cell_type": "code",
   "execution_count": 238,
   "metadata": {},
   "outputs": [],
   "source": [
    "learn = Learner(dls, model, loss_func=model.crf_loss_func, metrics=[MyFScore()])"
   ]
  },
  {
   "cell_type": "code",
   "execution_count": 239,
   "metadata": {},
   "outputs": [
    {
     "data": {
      "text/html": [],
      "text/plain": [
       "<IPython.core.display.HTML object>"
      ]
     },
     "metadata": {},
     "output_type": "display_data"
    },
    {
     "data": {
      "text/plain": [
       "SuggestedLRs(lr_min=0.025118863582611083, lr_steep=6.309573450380412e-07)"
      ]
     },
     "execution_count": 239,
     "metadata": {},
     "output_type": "execute_result"
    },
    {
     "data": {
      "image/png": "[encoded data removed]",
      "text/plain": [
       "<Figure size 432x288 with 1 Axes>"
      ]
     },
     "metadata": {
      "needs_background": "light"
     },
     "output_type": "display_data"
    }
   ],
   "source": [
    "learn.lr_find()"
   ]
  },
  {
   "cell_type": "code",
   "execution_count": 240,
   "metadata": {},
   "outputs": [],
   "source": [
    "learn.add_cbs([SaveModelCallback(monitor='f1_score', fname='best_lstm_fromEmbs_crf_256_v2'),\n",
    "                                       ShowGraphCallback()])"
   ]
  },
  {
   "cell_type": "code",
   "execution_count": 241,
   "metadata": {},
   "outputs": [
    {
     "data": {
      "text/html": [
       "<table border=\"1\" class=\"dataframe\">\n",
       "  <thead>\n",
       "    <tr style=\"text-align: left;\">\n",
       "      <th>epoch</th>\n",
       "      <th>train_loss</th>\n",
       "      <th>valid_loss</th>\n",
       "      <th>f1_score</th>\n",
       "      <th>time</th>\n",
       "    </tr>\n",
       "  </thead>\n",
       "  <tbody>\n",
       "    <tr>\n",
       "      <td>0</td>\n",
       "      <td>41.395096</td>\n",
       "      <td>38.672352</td>\n",
       "      <td>0.556004</td>\n",
       "      <td>02:05</td>\n",
       "    </tr>\n",
       "    <tr>\n",
       "      <td>1</td>\n",
       "      <td>21.711823</td>\n",
       "      <td>44.831909</td>\n",
       "      <td>0.703520</td>\n",
       "      <td>02:27</td>\n",
       "    </tr>\n",
       "    <tr>\n",
       "      <td>2</td>\n",
       "      <td>18.382008</td>\n",
       "      <td>25.725344</td>\n",
       "      <td>0.709717</td>\n",
       "      <td>02:26</td>\n",
       "    </tr>\n",
       "    <tr>\n",
       "      <td>3</td>\n",
       "      <td>14.044995</td>\n",
       "      <td>23.700480</td>\n",
       "      <td>0.732831</td>\n",
       "      <td>02:19</td>\n",
       "    </tr>\n",
       "    <tr>\n",
       "      <td>4</td>\n",
       "      <td>11.419561</td>\n",
       "      <td>20.008287</td>\n",
       "      <td>0.750565</td>\n",
       "      <td>02:20</td>\n",
       "    </tr>\n",
       "    <tr>\n",
       "      <td>5</td>\n",
       "      <td>11.576855</td>\n",
       "      <td>21.003958</td>\n",
       "      <td>0.734246</td>\n",
       "      <td>02:21</td>\n",
       "    </tr>\n",
       "    <tr>\n",
       "      <td>6</td>\n",
       "      <td>8.087695</td>\n",
       "      <td>18.342258</td>\n",
       "      <td>0.765814</td>\n",
       "      <td>02:13</td>\n",
       "    </tr>\n",
       "    <tr>\n",
       "      <td>7</td>\n",
       "      <td>7.809103</td>\n",
       "      <td>18.386904</td>\n",
       "      <td>0.772449</td>\n",
       "      <td>02:24</td>\n",
       "    </tr>\n",
       "    <tr>\n",
       "      <td>8</td>\n",
       "      <td>8.166947</td>\n",
       "      <td>14.563486</td>\n",
       "      <td>0.793292</td>\n",
       "      <td>02:30</td>\n",
       "    </tr>\n",
       "    <tr>\n",
       "      <td>9</td>\n",
       "      <td>6.108386</td>\n",
       "      <td>15.778090</td>\n",
       "      <td>0.783864</td>\n",
       "      <td>02:15</td>\n",
       "    </tr>\n",
       "  </tbody>\n",
       "</table>"
      ],
      "text/plain": [
       "<IPython.core.display.HTML object>"
      ]
     },
     "metadata": {},
     "output_type": "display_data"
    },
    {
     "name": "stdout",
     "output_type": "stream",
     "text": [
      "Better model found at epoch 0 with f1_score value: 0.5560042158290156.\n"
     ]
    },
    {
     "data": {
      "image/png": "[encoded data removed]",
      "text/plain": [
       "<Figure size 432x288 with 1 Axes>"
      ]
     },
     "metadata": {},
     "output_type": "display_data"
    },
    {
     "name": "stdout",
     "output_type": "stream",
     "text": [
      "Better model found at epoch 1 with f1_score value: 0.7035202072744539.\n",
      "Better model found at epoch 2 with f1_score value: 0.7097168178995231.\n",
      "Better model found at epoch 3 with f1_score value: 0.7328312809693086.\n",
      "Better model found at epoch 4 with f1_score value: 0.7505648710100502.\n",
      "Better model found at epoch 6 with f1_score value: 0.7658144863459885.\n",
      "Better model found at epoch 7 with f1_score value: 0.7724490996625765.\n",
      "Better model found at epoch 8 with f1_score value: 0.7932921016271267.\n"
     ]
    }
   ],
   "source": [
    "learn.fit_one_cycle(10, lr_max=1e-3)"
   ]
  },
  {
   "cell_type": "code",
   "execution_count": 31,
   "metadata": {},
   "outputs": [],
   "source": [
    "model = BiLSTMCRF(7936, 12, hidden_dim=256)"
   ]
  },
  {
   "cell_type": "code",
   "execution_count": 32,
   "metadata": {},
   "outputs": [],
   "source": [
    "learn = Learner(dls, model, loss_func=model.crf_loss_func, metrics=[MyFScore()])"
   ]
  },
  {
   "cell_type": "code",
   "execution_count": 33,
   "metadata": {},
   "outputs": [],
   "source": [
    "learn.add_cbs([SaveModelCallback(monitor='f1_score', fname='best_lstm_fromEmbs_crf_256_moreEpochs_v2'),\n",
    "                                       ShowGraphCallback()])"
   ]
  },
  {
   "cell_type": "code",
   "execution_count": 34,
   "metadata": {},
   "outputs": [
    {
     "data": {
      "text/html": [
       "<table border=\"1\" class=\"dataframe\">\n",
       "  <thead>\n",
       "    <tr style=\"text-align: left;\">\n",
       "      <th>epoch</th>\n",
       "      <th>train_loss</th>\n",
       "      <th>valid_loss</th>\n",
       "      <th>f1_score</th>\n",
       "      <th>time</th>\n",
       "    </tr>\n",
       "  </thead>\n",
       "  <tbody>\n",
       "    <tr>\n",
       "      <td>0</td>\n",
       "      <td>43.891697</td>\n",
       "      <td>42.756386</td>\n",
       "      <td>0.494236</td>\n",
       "      <td>02:21</td>\n",
       "    </tr>\n",
       "    <tr>\n",
       "      <td>1</td>\n",
       "      <td>35.473530</td>\n",
       "      <td>59.369099</td>\n",
       "      <td>0.623965</td>\n",
       "      <td>02:19</td>\n",
       "    </tr>\n",
       "    <tr>\n",
       "      <td>2</td>\n",
       "      <td>21.164406</td>\n",
       "      <td>30.663309</td>\n",
       "      <td>0.715249</td>\n",
       "      <td>02:18</td>\n",
       "    </tr>\n",
       "    <tr>\n",
       "      <td>3</td>\n",
       "      <td>15.552969</td>\n",
       "      <td>23.456547</td>\n",
       "      <td>0.714429</td>\n",
       "      <td>02:22</td>\n",
       "    </tr>\n",
       "    <tr>\n",
       "      <td>4</td>\n",
       "      <td>15.068018</td>\n",
       "      <td>18.081455</td>\n",
       "      <td>0.757113</td>\n",
       "      <td>02:17</td>\n",
       "    </tr>\n",
       "    <tr>\n",
       "      <td>5</td>\n",
       "      <td>16.581818</td>\n",
       "      <td>26.472044</td>\n",
       "      <td>0.720454</td>\n",
       "      <td>02:26</td>\n",
       "    </tr>\n",
       "    <tr>\n",
       "      <td>6</td>\n",
       "      <td>8.484903</td>\n",
       "      <td>19.475967</td>\n",
       "      <td>0.737480</td>\n",
       "      <td>02:20</td>\n",
       "    </tr>\n",
       "    <tr>\n",
       "      <td>7</td>\n",
       "      <td>11.010585</td>\n",
       "      <td>18.370821</td>\n",
       "      <td>0.757710</td>\n",
       "      <td>02:14</td>\n",
       "    </tr>\n",
       "    <tr>\n",
       "      <td>8</td>\n",
       "      <td>10.723814</td>\n",
       "      <td>19.689758</td>\n",
       "      <td>0.705829</td>\n",
       "      <td>02:36</td>\n",
       "    </tr>\n",
       "    <tr>\n",
       "      <td>9</td>\n",
       "      <td>7.120576</td>\n",
       "      <td>13.882030</td>\n",
       "      <td>0.772208</td>\n",
       "      <td>02:25</td>\n",
       "    </tr>\n",
       "    <tr>\n",
       "      <td>10</td>\n",
       "      <td>8.836315</td>\n",
       "      <td>15.528166</td>\n",
       "      <td>0.759007</td>\n",
       "      <td>02:19</td>\n",
       "    </tr>\n",
       "    <tr>\n",
       "      <td>11</td>\n",
       "      <td>5.810856</td>\n",
       "      <td>14.018577</td>\n",
       "      <td>0.767577</td>\n",
       "      <td>02:19</td>\n",
       "    </tr>\n",
       "    <tr>\n",
       "      <td>12</td>\n",
       "      <td>5.453627</td>\n",
       "      <td>15.598274</td>\n",
       "      <td>0.751279</td>\n",
       "      <td>02:22</td>\n",
       "    </tr>\n",
       "    <tr>\n",
       "      <td>13</td>\n",
       "      <td>6.174658</td>\n",
       "      <td>13.899794</td>\n",
       "      <td>0.766650</td>\n",
       "      <td>02:16</td>\n",
       "    </tr>\n",
       "    <tr>\n",
       "      <td>14</td>\n",
       "      <td>5.195174</td>\n",
       "      <td>12.733039</td>\n",
       "      <td>0.774327</td>\n",
       "      <td>02:15</td>\n",
       "    </tr>\n",
       "    <tr>\n",
       "      <td>15</td>\n",
       "      <td>3.874583</td>\n",
       "      <td>15.908023</td>\n",
       "      <td>0.752314</td>\n",
       "      <td>02:23</td>\n",
       "    </tr>\n",
       "    <tr>\n",
       "      <td>16</td>\n",
       "      <td>4.900883</td>\n",
       "      <td>13.632975</td>\n",
       "      <td>0.766120</td>\n",
       "      <td>02:17</td>\n",
       "    </tr>\n",
       "    <tr>\n",
       "      <td>17</td>\n",
       "      <td>3.298956</td>\n",
       "      <td>13.339910</td>\n",
       "      <td>0.776936</td>\n",
       "      <td>02:20</td>\n",
       "    </tr>\n",
       "    <tr>\n",
       "      <td>18</td>\n",
       "      <td>4.572761</td>\n",
       "      <td>13.736979</td>\n",
       "      <td>0.766356</td>\n",
       "      <td>02:27</td>\n",
       "    </tr>\n",
       "    <tr>\n",
       "      <td>19</td>\n",
       "      <td>2.959450</td>\n",
       "      <td>14.354815</td>\n",
       "      <td>0.758874</td>\n",
       "      <td>02:20</td>\n",
       "    </tr>\n",
       "  </tbody>\n",
       "</table>"
      ],
      "text/plain": [
       "<IPython.core.display.HTML object>"
      ]
     },
     "metadata": {},
     "output_type": "display_data"
    },
    {
     "name": "stdout",
     "output_type": "stream",
     "text": [
      "Better model found at epoch 0 with f1_score value: 0.49423554573304124.\n"
     ]
    },
    {
     "data": {
      "image/png": "[encoded data removed]",
      "text/plain": [
       "<Figure size 432x288 with 1 Axes>"
      ]
     },
     "metadata": {},
     "output_type": "display_data"
    },
    {
     "name": "stdout",
     "output_type": "stream",
     "text": [
      "Better model found at epoch 1 with f1_score value: 0.6239652605282772.\n",
      "Better model found at epoch 2 with f1_score value: 0.7152486315432364.\n",
      "Better model found at epoch 4 with f1_score value: 0.7571133526381194.\n",
      "Better model found at epoch 7 with f1_score value: 0.7577096686630763.\n",
      "Better model found at epoch 9 with f1_score value: 0.7722082617993395.\n",
      "Better model found at epoch 14 with f1_score value: 0.7743274599599387.\n",
      "Better model found at epoch 17 with f1_score value: 0.776935602826985.\n"
     ]
    }
   ],
   "source": [
    "learn.fit_one_cycle(20, lr_max=1e-3)"
   ]
  },
  {
   "cell_type": "code",
   "execution_count": 35,
   "metadata": {},
   "outputs": [
    {
     "data": {
      "text/plain": [
       "<fastai.learner.Learner at 0x7f891edea040>"
      ]
     },
     "execution_count": 35,
     "metadata": {},
     "output_type": "execute_result"
    }
   ],
   "source": [
    "learn.load(\"best_lstm_fromEmbs_crf_256_moreEpochs_v2\")"
   ]
  },
  {
   "cell_type": "code",
   "execution_count": 36,
   "metadata": {},
   "outputs": [],
   "source": [
    "def evaluate_crf(learn, dl):\n",
    "    preds, targets = learn.get_preds(dl=dl)\n",
    "    crf_preds =[]\n",
    "    crf_targs=[]\n",
    "    for pred, targ in zip(preds, targets):\n",
    "        pred = pred.unsqueeze(0)\n",
    "        targ = targ.unsqueeze(0)\n",
    "        mask = tensor(targ.data != OUT_DIM)\n",
    "        mask=mask.view(pred.shape[:2])\n",
    "        pred = learn.model.crf.decode(pred.cuda(),mask=mask.cuda())\n",
    "        pred = tensor([[x for sublist in pred for x in sublist]]).view(-1)\n",
    "        targ = targ[mask].view(-1)\n",
    "        crf_preds.append(pred)\n",
    "        crf_targs.append(targ)\n",
    "    crf_preds = torch.cat(crf_preds)\n",
    "    crf_targs = torch.cat(crf_targs)\n",
    "    print(classification_report(crf_targs, crf_preds, target_names=dls.get_labels.cat.vocab, digits=4))\n",
    "    crf_preds = torch.remainder(crf_preds, 6)\n",
    "    crf_targs = torch.remainder(crf_targs, 6)\n",
    "    print(classification_report(crf_targs, crf_preds, target_names=dls.get_labels.cat.vocab[:6], digits=4))\n",
    "    "
   ]
  },
  {
   "cell_type": "code",
   "execution_count": 37,
   "metadata": {},
   "outputs": [
    {
     "data": {
      "text/html": [],
      "text/plain": [
       "<IPython.core.display.HTML object>"
      ]
     },
     "metadata": {},
     "output_type": "display_data"
    },
    {
     "name": "stdout",
     "output_type": "stream",
     "text": [
      "                                    precision    recall  f1-score   support\n",
      "\n",
      "          B-acordao_de_2_instancia     0.9323    0.8905    0.9109       201\n",
      "B-agravo_em_recurso_extraordinario     0.5016    0.6709    0.5740       237\n",
      "     B-despacho_de_admissibilidade     0.7761    0.7075    0.7402       147\n",
      "                          B-outros     0.9571    0.8936    0.9242     25898\n",
      "                   B-peticao_do_RE     0.7212    0.6902    0.7053       326\n",
      "                        B-sentenca     0.8327    0.7535    0.7911       284\n",
      "          I-acordao_de_2_instancia     0.7683    0.6429    0.7000        98\n",
      "I-agravo_em_recurso_extraordinario     0.4642    0.7265    0.5665      1912\n",
      "     I-despacho_de_admissibilidade     0.3095    0.3611    0.3333        36\n",
      "                          I-outros     0.9337    0.9277    0.9307     58206\n",
      "                   I-peticao_do_RE     0.6991    0.8334    0.7604      6038\n",
      "                        I-sentenca     0.8858    0.7862    0.8331      1352\n",
      "\n",
      "                          accuracy                         0.9034     94735\n",
      "                         macro avg     0.7318    0.7403    0.7308     94735\n",
      "                      weighted avg     0.9122    0.9034    0.9064     94735\n",
      "\n",
      "                                    precision    recall  f1-score   support\n",
      "\n",
      "          B-acordao_de_2_instancia     0.8978    0.8227    0.8586       299\n",
      "B-agravo_em_recurso_extraordinario     0.4727    0.7278    0.5731      2149\n",
      "     B-despacho_de_admissibilidade     0.6818    0.6557    0.6685       183\n",
      "                          B-outros     0.9779    0.9535    0.9656     84104\n",
      "                   B-peticao_do_RE     0.7017    0.8281    0.7597      6364\n",
      "                        B-sentenca     0.8874    0.7903    0.8361      1636\n",
      "\n",
      "                          accuracy                         0.9362     94735\n",
      "                         macro avg     0.7699    0.7964    0.7769     94735\n",
      "                      weighted avg     0.9455    0.9362    0.9397     94735\n",
      "\n"
     ]
    }
   ],
   "source": [
    "evaluate_crf(learn, dls.valid)"
   ]
  },
  {
   "cell_type": "code",
   "execution_count": null,
   "metadata": {},
   "outputs": [],
   "source": [
    "test_dl = torch.load(\"./data/test_dl_sequence_from_embs_v3.pth\")"
   ]
  },
  {
   "cell_type": "code",
   "execution_count": 38,
   "metadata": {},
   "outputs": [
    {
     "data": {
      "text/html": [],
      "text/plain": [
       "<IPython.core.display.HTML object>"
      ]
     },
     "metadata": {},
     "output_type": "display_data"
    },
    {
     "name": "stdout",
     "output_type": "stream",
     "text": [
      "                                    precision    recall  f1-score   support\n",
      "\n",
      "          B-acordao_de_2_instancia     0.9686    0.9296    0.9487       199\n",
      "B-agravo_em_recurso_extraordinario     0.4947    0.6573    0.5645       213\n",
      "     B-despacho_de_admissibilidade     0.7163    0.6871    0.7014       147\n",
      "                          B-outros     0.9464    0.8928    0.9188     25744\n",
      "                   B-peticao_do_RE     0.7249    0.7179    0.7214       312\n",
      "                        B-sentenca     0.8030    0.8000    0.8015       265\n",
      "          I-acordao_de_2_instancia     0.7391    0.9189    0.8193        74\n",
      "I-agravo_em_recurso_extraordinario     0.4611    0.7537    0.5722      1628\n",
      "     I-despacho_de_admissibilidade     0.3500    0.4118    0.3784        51\n",
      "                          I-outros     0.9373    0.9317    0.9345     59664\n",
      "                   I-peticao_do_RE     0.7274    0.8176    0.7699      6019\n",
      "                        I-sentenca     0.8627    0.8306    0.8463      1210\n",
      "\n",
      "                          accuracy                         0.9074     95526\n",
      "                         macro avg     0.7276    0.7791    0.7481     95526\n",
      "                      weighted avg     0.9147    0.9074    0.9100     95526\n",
      "\n",
      "                                    precision    recall  f1-score   support\n",
      "\n",
      "          B-acordao_de_2_instancia     0.9011    0.9341    0.9173       273\n",
      "B-agravo_em_recurso_extraordinario     0.4704    0.7523    0.5789      1841\n",
      "     B-despacho_de_admissibilidade     0.6368    0.6465    0.6416       198\n",
      "                          B-outros     0.9796    0.9588    0.9691     85408\n",
      "                   B-peticao_do_RE     0.7299    0.8155    0.7703      6331\n",
      "                        B-sentenca     0.8586    0.8319    0.8450      1475\n",
      "\n",
      "                          accuracy                         0.9427     95526\n",
      "                         macro avg     0.7627    0.8232    0.7870     95526\n",
      "                      weighted avg     0.9504    0.9427    0.9457     95526\n",
      "\n"
     ]
    }
   ],
   "source": [
    "evaluate_crf(learn, test_dl)"
   ]
  },
  {
   "cell_type": "code",
   "execution_count": 39,
   "metadata": {},
   "outputs": [
    {
     "data": {
      "text/plain": [
       "<fastai.learner.Learner at 0x7f891edea040>"
      ]
     },
     "execution_count": 39,
     "metadata": {},
     "output_type": "execute_result"
    }
   ],
   "source": [
    "learn.load(\"best_lstm_fromEmbs_crf_256_v2\")"
   ]
  }
 ],
 "metadata": {
  "kernelspec": {
   "display_name": "fastai2",
   "language": "python",
   "name": "fastai2"
  },
  "language_info": {
   "codemirror_mode": {
    "name": "ipython",
    "version": 3
   },
   "file_extension": ".py",
   "mimetype": "text/x-python",
   "name": "python",
   "nbconvert_exporter": "python",
   "pygments_lexer": "ipython3",
   "version": "3.8.10"
  }
 },
 "nbformat": 4,
 "nbformat_minor": 4
}
