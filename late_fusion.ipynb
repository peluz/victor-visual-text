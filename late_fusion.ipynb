{
 "cells": [
  {
   "cell_type": "code",
   "execution_count": 42,
   "metadata": {},
   "outputs": [
    {
     "name": "stdout",
     "output_type": "stream",
     "text": [
      "The autoreload extension is already loaded. To reload it, use:\n",
      "  %reload_ext autoreload\n"
     ]
    }
   ],
   "source": [
    "%load_ext autoreload\n",
    "%autoreload 2\n",
    "\n",
    "from fastai.text.all import *\n",
    "from fastai.vision.all import *\n",
    "import pandas as pd\n",
    "import torch\n",
    "from tqdm.notebook import tqdm\n",
    "from sklearn.metrics import classification_report, accuracy_score, f1_score"
   ]
  },
  {
   "cell_type": "code",
   "execution_count": 43,
   "metadata": {},
   "outputs": [],
   "source": [
    "import tensorflow as tf\n",
    "from tensorflow.keras.models import model_from_json\n",
    "from tensorflow.keras.layers import Input\n",
    "from tensorflow.keras.preprocessing import sequence\n",
    "from tensorflow.keras.utils import to_categorical\n",
    "from sklearn.preprocessing import LabelEncoder\n",
    "from sklearn.metrics import classification_report\n",
    "from os.path import join, split, splitext\n",
    "from pathlib import Path\n",
    "\n",
    "import pandas as pd\n",
    "import pickle\n",
    "\n",
    "import tqdm"
   ]
  },
  {
   "cell_type": "code",
   "execution_count": 44,
   "metadata": {},
   "outputs": [],
   "source": [
    "seed = 42\n",
    "\n",
    "# python RNG\n",
    "import random\n",
    "random.seed(seed)\n",
    "\n",
    "# pytorch RNGs\n",
    "import torch\n",
    "torch.manual_seed(seed)\n",
    "torch.backends.cudnn.deterministic = True\n",
    "if torch.cuda.is_available(): torch.cuda.manual_seed_all(seed)\n",
    "\n",
    "# numpy RNG\n",
    "import numpy as np\n",
    "np.random.seed(seed)"
   ]
  },
  {
   "cell_type": "code",
   "execution_count": 45,
   "metadata": {},
   "outputs": [],
   "source": [
    "OUT_DIM=6"
   ]
  },
  {
   "cell_type": "code",
   "execution_count": 46,
   "metadata": {},
   "outputs": [],
   "source": [
    "torch.cuda.set_device(1)"
   ]
  },
  {
   "cell_type": "code",
   "execution_count": 47,
   "metadata": {},
   "outputs": [],
   "source": [
    "SEQUENCE_LEN = 500 # Size of input arrays"
   ]
  },
  {
   "cell_type": "code",
   "execution_count": 48,
   "metadata": {},
   "outputs": [],
   "source": [
    "models_path = Path(\"./models/\")\n",
    "weights_path = models_path/\"stf_no_weights.keras\"\n",
    "json_path = models_path/\"cnn_text.json\"\n",
    "tokenizer_path = models_path/\"tokenizer.pickle\""
   ]
  },
  {
   "cell_type": "code",
   "execution_count": 49,
   "metadata": {},
   "outputs": [],
   "source": [
    "json_file = open(json_path,'r')\n",
    "loaded_model_json = json_file.read()\n",
    "json_file.close()\n",
    "model = model_from_json(loaded_model_json)"
   ]
  },
  {
   "cell_type": "code",
   "execution_count": 50,
   "metadata": {},
   "outputs": [],
   "source": [
    "model.load_weights(weights_path)"
   ]
  },
  {
   "cell_type": "code",
   "execution_count": 51,
   "metadata": {},
   "outputs": [],
   "source": [
    "model.compile(loss='categorical_crossentropy', optimizer='adam', metrics=['accuracy'])"
   ]
  },
  {
   "cell_type": "code",
   "execution_count": 52,
   "metadata": {},
   "outputs": [],
   "source": [
    "data_path = Path(\"/mnt/nas/backups/08-07-2020/desktopg01/lisa/Data/CSV\")"
   ]
  },
  {
   "cell_type": "code",
   "execution_count": 53,
   "metadata": {},
   "outputs": [],
   "source": [
    "val = pd.read_csv(data_path/\"validation_small.csv\")\n",
    "test_data = pd.read_csv(data_path/\"test_small.csv\")"
   ]
  },
  {
   "cell_type": "code",
   "execution_count": 54,
   "metadata": {},
   "outputs": [],
   "source": [
    "# file with no images ARE_1072325_312635894_1324_05092017.pdf\n",
    "test_data_no_img = test_data[(test_data[\"file_name\"]==\"ARE_1072325_312635894_1324_05092017.pdf\")]\n",
    "test_data = test_data[~(test_data[\"file_name\"]==\"ARE_1072325_312635894_1324_05092017.pdf\")]"
   ]
  },
  {
   "cell_type": "code",
   "execution_count": 55,
   "metadata": {},
   "outputs": [],
   "source": [
    "test_data = pd.concat([test_data, test_data_no_img])"
   ]
  },
  {
   "cell_type": "code",
   "execution_count": 56,
   "metadata": {},
   "outputs": [],
   "source": [
    "with open(tokenizer_path, 'rb') as handle:\n",
    "    tokenizer = pickle.load(handle, encoding=\"utf-8\")"
   ]
  },
  {
   "cell_type": "code",
   "execution_count": 57,
   "metadata": {},
   "outputs": [],
   "source": [
    "sequences_validation = tokenizer.texts_to_sequences(val['body'])\n",
    "sequences_test = tokenizer.texts_to_sequences(test_data['body'])"
   ]
  },
  {
   "cell_type": "code",
   "execution_count": 58,
   "metadata": {},
   "outputs": [],
   "source": [
    "X_val = sequence.pad_sequences(sequences_validation, maxlen=SEQUENCE_LEN, padding='post')\n",
    "X_test = sequence.pad_sequences(sequences_test, maxlen=SEQUENCE_LEN, padding='post')"
   ]
  },
  {
   "cell_type": "code",
   "execution_count": 59,
   "metadata": {},
   "outputs": [],
   "source": [
    "encoder = LabelEncoder()"
   ]
  },
  {
   "cell_type": "code",
   "execution_count": 60,
   "metadata": {},
   "outputs": [],
   "source": [
    "valid_label = val['document_type'] \n",
    "valid_label_toTest = encoder.fit_transform(valid_label)\n",
    "valid_label = np.transpose(valid_label_toTest)\n",
    "valid_label = to_categorical(valid_label)\n",
    "\n",
    "test_label = test_data['document_type'] \n",
    "test_label_toTest = encoder.transform(test_label)\n",
    "test_label = np.transpose(test_label_toTest)\n",
    "test_label = to_categorical(test_label)\n",
    "\n",
    "X_val = np.array(X_val)\n",
    "X_test = np.array(X_test)"
   ]
  },
  {
   "cell_type": "code",
   "execution_count": 61,
   "metadata": {},
   "outputs": [
    {
     "name": "stdout",
     "output_type": "stream",
     "text": [
      "2961/2961 [==============================] - 51s 17ms/step\n"
     ]
    }
   ],
   "source": [
    "text_probs_val = model.predict(X_val, verbose=1)"
   ]
  },
  {
   "cell_type": "code",
   "execution_count": 62,
   "metadata": {},
   "outputs": [
    {
     "name": "stdout",
     "output_type": "stream",
     "text": [
      "                                  precision    recall  f1-score   support\n",
      "\n",
      "          acordao_de_2_instancia     0.9116    0.7592    0.8285       299\n",
      "agravo_em_recurso_extraordinario     0.7504    0.4742    0.5811      2149\n",
      "     despacho_de_admissibilidade     0.7727    0.6503    0.7062       183\n",
      "                          outros     0.9629    0.9797    0.9712     84104\n",
      "                   peticao_do_RE     0.7645    0.7456    0.7549      6364\n",
      "                        sentenca     0.9285    0.6822    0.7865      1636\n",
      "\n",
      "                        accuracy                         0.9460     94735\n",
      "                       macro avg     0.8484    0.7152    0.7714     94735\n",
      "                    weighted avg     0.9437    0.9460    0.9437     94735\n",
      "\n"
     ]
    }
   ],
   "source": [
    "pred = text_probs_val.argmax(axis=1)\n",
    "\n",
    "target_names = ['acordao_de_2_instancia','agravo_em_recurso_extraordinario', 'despacho_de_admissibilidade', 'outros', 'peticao_do_RE', 'sentenca']\n",
    "print(classification_report(valid_label_toTest, pred, target_names=target_names, digits=4))"
   ]
  },
  {
   "cell_type": "code",
   "execution_count": 63,
   "metadata": {},
   "outputs": [
    {
     "name": "stdout",
     "output_type": "stream",
     "text": [
      "2986/2986 [==============================] - 52s 18ms/step\n"
     ]
    }
   ],
   "source": [
    "text_probs_test = model.predict(X_test, verbose=1)"
   ]
  },
  {
   "cell_type": "code",
   "execution_count": 64,
   "metadata": {},
   "outputs": [
    {
     "name": "stdout",
     "output_type": "stream",
     "text": [
      "                                  precision    recall  f1-score   support\n",
      "\n",
      "          acordao_de_2_instancia     0.9132    0.8864    0.8996       273\n",
      "agravo_em_recurso_extraordinario     0.7114    0.4579    0.5572      1841\n",
      "     despacho_de_admissibilidade     0.7535    0.5404    0.6294       198\n",
      "                          outros     0.9651    0.9813    0.9731     85408\n",
      "                   peticao_do_RE     0.7804    0.7329    0.7559      6331\n",
      "                        sentenca     0.9191    0.7166    0.8053      1475\n",
      "\n",
      "                        accuracy                         0.9494     95526\n",
      "                       macro avg     0.8405    0.7193    0.7701     95526\n",
      "                    weighted avg     0.9467    0.9494    0.9472     95526\n",
      "\n"
     ]
    }
   ],
   "source": [
    "pred = text_probs_test.argmax(axis=1)\n",
    "print(classification_report(test_label_toTest, pred, target_names=target_names, digits=4))"
   ]
  },
  {
   "cell_type": "code",
   "execution_count": 65,
   "metadata": {},
   "outputs": [],
   "source": [
    "path = Path(\"/mnt/nas/backups/08-07-2020/desktopg01/lisa/Data/small_flow\")"
   ]
  },
  {
   "cell_type": "code",
   "execution_count": 66,
   "metadata": {},
   "outputs": [],
   "source": [
    "val[\"split\"]= \"val\""
   ]
  },
  {
   "cell_type": "code",
   "execution_count": 67,
   "metadata": {},
   "outputs": [],
   "source": [
    "val[\"path\"] = \"val/\" + val[\"document_type\"] + \"/\" + val[\"file_name\"].str.rstrip(\".pdf\") + \"_\" + val[\"pages\"].astype(str) + \".jpg\""
   ]
  },
  {
   "cell_type": "code",
   "execution_count": 68,
   "metadata": {},
   "outputs": [],
   "source": [
    "test_data[\"split\"] = \"test\"\n",
    "test_data[\"path\"] = \"test/\" + test_data[\"document_type\"] + \"/\" + test_data[\"file_name\"].str.rstrip(\".pdf\") + \"_\" + test_data[\"pages\"].astype(str) + \".jpg\""
   ]
  },
  {
   "cell_type": "code",
   "execution_count": 69,
   "metadata": {},
   "outputs": [],
   "source": [
    "df = pd.concat([val, test_data], axis=0)"
   ]
  },
  {
   "cell_type": "code",
   "execution_count": 70,
   "metadata": {},
   "outputs": [],
   "source": [
    " df.reset_index(drop=True, inplace=True)"
   ]
  },
  {
   "cell_type": "code",
   "execution_count": 71,
   "metadata": {},
   "outputs": [],
   "source": [
    "assert df[\"document_type\"].tolist() == val[\"document_type\"].tolist() + test_data[\"document_type\"].tolist()"
   ]
  },
  {
   "cell_type": "code",
   "execution_count": 72,
   "metadata": {},
   "outputs": [],
   "source": [
    "def splitter(df):\n",
    "    valid = df[df['split']=='val'].index.tolist()\n",
    "    test = df[df['split']=='test'].index.tolist()\n",
    "    return valid,valid, test"
   ]
  },
  {
   "cell_type": "code",
   "execution_count": 73,
   "metadata": {},
   "outputs": [],
   "source": [
    "def get_x(r): return path/f'{r[\"path\"]}'\n",
    "def get_y(r): return r['document_type']"
   ]
  },
  {
   "cell_type": "code",
   "execution_count": 74,
   "metadata": {},
   "outputs": [],
   "source": [
    "dblock = DataBlock(blocks=(ImageBlock, CategoryBlock),\n",
    "                   get_x=get_x,\n",
    "                   get_y=get_y,\n",
    "                   splitter=splitter,\n",
    "                   item_tfms=Resize(460),\n",
    "                   batch_tfms=[*aug_transforms(size=224, min_scale=0.75,\n",
    "                                               do_flip=False, max_rotate=0,\n",
    "                                               max_warp=0\n",
    "                                               ),\n",
    "                               Normalize.from_stats(*imagenet_stats)])"
   ]
  },
  {
   "cell_type": "code",
   "execution_count": 75,
   "metadata": {},
   "outputs": [],
   "source": [
    "dls = dblock.dataloaders(df.iloc[:-4], bs=64)"
   ]
  },
  {
   "cell_type": "code",
   "execution_count": 76,
   "metadata": {},
   "outputs": [
    {
     "data": {
      "text/plain": [
       "['acordao_de_2_instancia', 'agravo_em_recurso_extraordinario', 'despacho_de_admissibilidade', 'outros', 'peticao_do_RE', 'sentenca']"
      ]
     },
     "execution_count": 76,
     "metadata": {},
     "output_type": "execute_result"
    }
   ],
   "source": [
    "dls.vocab"
   ]
  },
  {
   "cell_type": "code",
   "execution_count": 77,
   "metadata": {},
   "outputs": [],
   "source": [
    "learn = cnn_learner(dls, resnet50, loss_func=CrossEntropyLossFlat())"
   ]
  },
  {
   "cell_type": "code",
   "execution_count": 397,
   "metadata": {},
   "outputs": [
    {
     "data": {
      "text/plain": [
       "<fastai.learner.Learner at 0x7f395c21bdf0>"
      ]
     },
     "execution_count": 397,
     "metadata": {},
     "output_type": "execute_result"
    }
   ],
   "source": [
    "learn.load(\"./img_model_no_weights/best_image_no_weights_224\")"
   ]
  },
  {
   "cell_type": "code",
   "execution_count": 398,
   "metadata": {},
   "outputs": [
    {
     "data": {
      "text/html": [],
      "text/plain": [
       "<IPython.core.display.HTML object>"
      ]
     },
     "metadata": {},
     "output_type": "display_data"
    }
   ],
   "source": [
    "img_probs_val, labels_val = learn.get_preds()"
   ]
  },
  {
   "cell_type": "code",
   "execution_count": 399,
   "metadata": {},
   "outputs": [
    {
     "name": "stdout",
     "output_type": "stream",
     "text": [
      "                                  precision    recall  f1-score   support\n",
      "\n",
      "          acordao_de_2_instancia     0.6667    0.0134    0.0262       299\n",
      "agravo_em_recurso_extraordinario     0.0000    0.0000    0.0000      2149\n",
      "     despacho_de_admissibilidade     0.0000    0.0000    0.0000       183\n",
      "                          outros     0.9058    0.9955    0.9485     84104\n",
      "                   peticao_do_RE     0.8092    0.2120    0.3359      6364\n",
      "                        sentenca     0.9350    0.3429    0.5018      1636\n",
      "\n",
      "                        accuracy                         0.9040     94735\n",
      "                       macro avg     0.5528    0.2606    0.3021     94735\n",
      "                    weighted avg     0.8768    0.9040    0.8734     94735\n",
      "\n"
     ]
    },
    {
     "name": "stderr",
     "output_type": "stream",
     "text": [
      "/mnt/home/peluz/victor-visual-text/fastai2/lib/python3.8/site-packages/sklearn/metrics/_classification.py:1221: UndefinedMetricWarning: Precision and F-score are ill-defined and being set to 0.0 in labels with no predicted samples. Use `zero_division` parameter to control this behavior.\n",
      "  _warn_prf(average, modifier, msg_start, len(result))\n"
     ]
    }
   ],
   "source": [
    "preds = np.argmax(img_probs_val, axis=1)\n",
    "print(classification_report(labels_val, preds, target_names=dls.vocab, digits=4))"
   ]
  },
  {
   "cell_type": "code",
   "execution_count": 400,
   "metadata": {},
   "outputs": [
    {
     "data": {
      "text/html": [],
      "text/plain": [
       "<IPython.core.display.HTML object>"
      ]
     },
     "metadata": {},
     "output_type": "display_data"
    }
   ],
   "source": [
    "img_probs_test, labels_test = learn.get_preds(ds_idx=2)"
   ]
  },
  {
   "cell_type": "code",
   "execution_count": 401,
   "metadata": {},
   "outputs": [
    {
     "data": {
      "text/plain": [
       "(outros                              85404\n",
       " peticao_do_RE                        6331\n",
       " agravo_em_recurso_extraordinario     1841\n",
       " sentenca                             1475\n",
       " acordao_de_2_instancia                273\n",
       " despacho_de_admissibilidade           198\n",
       " Name: document_type, dtype: int64,\n",
       " array([  273,  1841,   198, 85404,  6331,  1475]),\n",
       " array([  273,  1841,   198, 85408,  6331,  1475]))"
      ]
     },
     "execution_count": 401,
     "metadata": {},
     "output_type": "execute_result"
    }
   ],
   "source": [
    "dls[2].items.document_type.value_counts(), np.bincount(labels_test), np.bincount(np.argmax(test_label,axis=1))"
   ]
  },
  {
   "cell_type": "code",
   "execution_count": 402,
   "metadata": {},
   "outputs": [
    {
     "name": "stdout",
     "output_type": "stream",
     "text": [
      "                                  precision    recall  f1-score   support\n",
      "\n",
      "          acordao_de_2_instancia     1.0000    0.0366    0.0707       273\n",
      "agravo_em_recurso_extraordinario     0.0000    0.0000    0.0000      1841\n",
      "     despacho_de_admissibilidade     0.0000    0.0000    0.0000       198\n",
      "                          outros     0.9116    0.9961    0.9520     85404\n",
      "                   peticao_do_RE     0.8408    0.2161    0.3438      6331\n",
      "                        sentenca     0.9328    0.3295    0.4870      1475\n",
      "\n",
      "                        accuracy                         0.9101     95522\n",
      "                       macro avg     0.6142    0.2631    0.3089     95522\n",
      "                    weighted avg     0.8880    0.9101    0.8817     95522\n",
      "\n"
     ]
    }
   ],
   "source": [
    "preds = np.argmax(img_probs_test, axis=1)\n",
    "print(classification_report(labels_test, preds, target_names=dls.vocab, digits=4))"
   ]
  },
  {
   "cell_type": "code",
   "execution_count": 403,
   "metadata": {},
   "outputs": [
    {
     "data": {
      "text/plain": [
       "(torch.Size([94735, 6]), torch.Size([95522, 6]), (94735, 6), (95526, 6))"
      ]
     },
     "execution_count": 403,
     "metadata": {},
     "output_type": "execute_result"
    }
   ],
   "source": [
    "img_probs_val.shape, img_probs_test.shape, text_probs_val.shape, text_probs_test.shape"
   ]
  },
  {
   "cell_type": "code",
   "execution_count": 404,
   "metadata": {},
   "outputs": [
    {
     "data": {
      "text/plain": [
       "(torch.Size([94735]), torch.Size([95522]), (94735, 6), (95526, 6))"
      ]
     },
     "execution_count": 404,
     "metadata": {},
     "output_type": "execute_result"
    }
   ],
   "source": [
    "labels_val.shape, labels_test.shape, valid_label.shape, test_label.shape"
   ]
  },
  {
   "cell_type": "code",
   "execution_count": 405,
   "metadata": {},
   "outputs": [
    {
     "data": {
      "text/plain": [
       "TensorCategory(True)"
      ]
     },
     "execution_count": 405,
     "metadata": {},
     "output_type": "execute_result"
    }
   ],
   "source": [
    "(tensor(np.argmax(valid_label, axis=1)) == labels_val).all()"
   ]
  },
  {
   "cell_type": "code",
   "execution_count": 406,
   "metadata": {},
   "outputs": [
    {
     "data": {
      "text/plain": [
       "TensorCategory(True)"
      ]
     },
     "execution_count": 406,
     "metadata": {},
     "output_type": "execute_result"
    }
   ],
   "source": [
    "(tensor(np.argmax(test_label, axis=1))[:-4] == labels_test).all()"
   ]
  },
  {
   "cell_type": "code",
   "execution_count": 409,
   "metadata": {},
   "outputs": [],
   "source": [
    "labels_test = torch.cat([labels_test, tensor(3,3,3,3)])"
   ]
  },
  {
   "cell_type": "code",
   "execution_count": 410,
   "metadata": {},
   "outputs": [],
   "source": [
    "assert (tensor(np.argmax(test_label, axis=1)) == labels_test).all()"
   ]
  },
  {
   "cell_type": "code",
   "execution_count": 172,
   "metadata": {},
   "outputs": [],
   "source": [
    "class_priors = tensor(val[\"document_type\"].value_counts().sort_index().to_list())/len(val)"
   ]
  },
  {
   "cell_type": "code",
   "execution_count": 420,
   "metadata": {},
   "outputs": [],
   "source": [
    "img_probs_test = torch.cat([img_probs_test,tensor([[1/6]*6]*4)])"
   ]
  },
  {
   "cell_type": "code",
   "execution_count": 78,
   "metadata": {},
   "outputs": [],
   "source": [
    "def late_fusion(pred_image, pred_text, img_weight=1, text_weight=1):\n",
    "    return pred_image**img_weight * pred_text**text_weight"
   ]
  },
  {
   "cell_type": "code",
   "execution_count": 79,
   "metadata": {},
   "outputs": [],
   "source": [
    "def evaluate(preds_image, preds_text, targets, img_weight=1, text_weight=1):\n",
    "    probs = late_fusion(preds_image, preds_text, img_weight, text_weight)\n",
    "    preds = np.argmax(probs, axis=1)\n",
    "    print(classification_report(targets, preds, target_names=dls.vocab, digits=4))"
   ]
  },
  {
   "cell_type": "code",
   "execution_count": 80,
   "metadata": {},
   "outputs": [],
   "source": [
    "weights = [0, 1e-2, 3e-2, 5e-2, 7e-2, 1e-1, 3e-1, 5e-1, 7e-1, 1]"
   ]
  },
  {
   "cell_type": "code",
   "execution_count": 81,
   "metadata": {},
   "outputs": [],
   "source": [
    "def cross_val(preds_image, preds_text, targets, weights):\n",
    "    max_f1 = 0\n",
    "    for img_weight in weights:\n",
    "        for text_weight in weights:\n",
    "            probs = late_fusion(preds_image, preds_text, img_weight, text_weight)\n",
    "            preds = np.argmax(probs, axis=1)\n",
    "            f1 = f1_score(preds,  targets, average=\"macro\")\n",
    "            if f1 > max_f1:\n",
    "                max_f1 = f1\n",
    "                best_img_weight = img_weight\n",
    "                best_text_weight = text_weight\n",
    "    return max_f1, best_img_weight, best_text_weight"
   ]
  },
  {
   "cell_type": "code",
   "execution_count": 426,
   "metadata": {},
   "outputs": [],
   "source": [
    "max_f1, best_img_weight, best_text_weight = cross_val(img_probs_val, text_probs_val, labels_val, weights)"
   ]
  },
  {
   "cell_type": "code",
   "execution_count": 427,
   "metadata": {},
   "outputs": [
    {
     "data": {
      "text/plain": [
       "(0.7714059568776966, 0, 0.01)"
      ]
     },
     "execution_count": 427,
     "metadata": {},
     "output_type": "execute_result"
    }
   ],
   "source": [
    "max_f1, best_img_weight, best_text_weight"
   ]
  },
  {
   "cell_type": "code",
   "execution_count": 428,
   "metadata": {},
   "outputs": [
    {
     "name": "stdout",
     "output_type": "stream",
     "text": [
      "                                  precision    recall  f1-score   support\n",
      "\n",
      "          acordao_de_2_instancia     0.9116    0.7592    0.8285       299\n",
      "agravo_em_recurso_extraordinario     0.7504    0.4742    0.5811      2149\n",
      "     despacho_de_admissibilidade     0.7727    0.6503    0.7062       183\n",
      "                          outros     0.9629    0.9797    0.9712     84104\n",
      "                   peticao_do_RE     0.7645    0.7456    0.7549      6364\n",
      "                        sentenca     0.9285    0.6822    0.7865      1636\n",
      "\n",
      "                        accuracy                         0.9460     94735\n",
      "                       macro avg     0.8484    0.7152    0.7714     94735\n",
      "                    weighted avg     0.9437    0.9460    0.9437     94735\n",
      "\n"
     ]
    }
   ],
   "source": [
    "evaluate(img_probs_val, text_probs_val, labels_val, best_img_weight, best_text_weight)"
   ]
  },
  {
   "cell_type": "code",
   "execution_count": 429,
   "metadata": {},
   "outputs": [
    {
     "name": "stdout",
     "output_type": "stream",
     "text": [
      "                                  precision    recall  f1-score   support\n",
      "\n",
      "          acordao_de_2_instancia     0.9132    0.8864    0.8996       273\n",
      "agravo_em_recurso_extraordinario     0.7114    0.4579    0.5572      1841\n",
      "     despacho_de_admissibilidade     0.7535    0.5404    0.6294       198\n",
      "                          outros     0.9651    0.9813    0.9731     85408\n",
      "                   peticao_do_RE     0.7804    0.7329    0.7559      6331\n",
      "                        sentenca     0.9191    0.7166    0.8053      1475\n",
      "\n",
      "                        accuracy                         0.9494     95526\n",
      "                       macro avg     0.8405    0.7193    0.7701     95526\n",
      "                    weighted avg     0.9467    0.9494    0.9472     95526\n",
      "\n"
     ]
    }
   ],
   "source": [
    "evaluate(img_probs_test, text_probs_test, labels_test, best_img_weight, best_text_weight)"
   ]
  },
  {
   "cell_type": "code",
   "execution_count": 82,
   "metadata": {},
   "outputs": [],
   "source": [
    "learn = cnn_learner(dls, resnet50, loss_func=CrossEntropyLossFlat())"
   ]
  },
  {
   "cell_type": "code",
   "execution_count": 83,
   "metadata": {},
   "outputs": [
    {
     "data": {
      "text/plain": [
       "<fastai.learner.Learner at 0x7fde36ab3400>"
      ]
     },
     "execution_count": 83,
     "metadata": {},
     "output_type": "execute_result"
    }
   ],
   "source": [
    "learn.load(\"./best_image_weights_224\")"
   ]
  },
  {
   "cell_type": "code",
   "execution_count": 84,
   "metadata": {},
   "outputs": [
    {
     "data": {
      "text/html": [],
      "text/plain": [
       "<IPython.core.display.HTML object>"
      ]
     },
     "metadata": {},
     "output_type": "display_data"
    }
   ],
   "source": [
    "img_probs_val, labels_val = learn.get_preds()"
   ]
  },
  {
   "cell_type": "code",
   "execution_count": 85,
   "metadata": {},
   "outputs": [
    {
     "name": "stdout",
     "output_type": "stream",
     "text": [
      "                                  precision    recall  f1-score   support\n",
      "\n",
      "          acordao_de_2_instancia     0.1272    0.8094    0.2199       299\n",
      "agravo_em_recurso_extraordinario     0.0530    0.7222    0.0987      2149\n",
      "     despacho_de_admissibilidade     0.0411    0.6885    0.0776       183\n",
      "                          outros     0.9864    0.4429    0.6113     84104\n",
      "                   peticao_do_RE     0.2196    0.6596    0.3295      6364\n",
      "                        sentenca     0.3368    0.7372    0.4623      1636\n",
      "\n",
      "                        accuracy                         0.4705     94735\n",
      "                       macro avg     0.2940    0.6766    0.2999     94735\n",
      "                    weighted avg     0.8979    0.4705    0.5759     94735\n",
      "\n"
     ]
    }
   ],
   "source": [
    "preds = np.argmax(img_probs_val, axis=1)\n",
    "print(classification_report(labels_val, preds, target_names=dls.vocab, digits=4))"
   ]
  },
  {
   "cell_type": "code",
   "execution_count": 86,
   "metadata": {},
   "outputs": [
    {
     "data": {
      "text/html": [],
      "text/plain": [
       "<IPython.core.display.HTML object>"
      ]
     },
     "metadata": {},
     "output_type": "display_data"
    }
   ],
   "source": [
    "img_probs_test, labels_test = learn.get_preds(ds_idx=2)"
   ]
  },
  {
   "cell_type": "code",
   "execution_count": 191,
   "metadata": {},
   "outputs": [
    {
     "name": "stdout",
     "output_type": "stream",
     "text": [
      "                                  precision    recall  f1-score   support\n",
      "\n",
      "          acordao_de_2_instancia     0.1276    0.9011    0.2235       273\n",
      "agravo_em_recurso_extraordinario     0.0444    0.7279    0.0837      1841\n",
      "     despacho_de_admissibilidade     0.0448    0.6717    0.0840       198\n",
      "                          outros     0.9841    0.4389    0.6071     85408\n",
      "                   peticao_do_RE     0.2167    0.6381    0.3236      6331\n",
      "                        sentenca     0.3074    0.7756    0.4403      1475\n",
      "\n",
      "                        accuracy                         0.4647     95526\n",
      "                       macro avg     0.2875    0.6922    0.2937     95526\n",
      "                    weighted avg     0.9003    0.4647    0.5735     95526\n",
      "\n"
     ]
    }
   ],
   "source": [
    "preds = np.argmax(img_probs_test, axis=1)\n",
    "print(classification_report(labels_test, preds, target_names=dls.vocab, digits=4))"
   ]
  },
  {
   "cell_type": "code",
   "execution_count": 88,
   "metadata": {},
   "outputs": [],
   "source": [
    "labels_test = torch.cat([labels_test, tensor(3,3,3,3)])"
   ]
  },
  {
   "cell_type": "code",
   "execution_count": 190,
   "metadata": {},
   "outputs": [
    {
     "data": {
      "text/plain": [
       "torch.Size([95526, 6])"
      ]
     },
     "execution_count": 190,
     "metadata": {},
     "output_type": "execute_result"
    }
   ],
   "source": [
    "img_probs_test = torch.cat([img_probs_test, class_priors.expand(4, -1)]); img_probs_test.shape"
   ]
  },
  {
   "cell_type": "code",
   "execution_count": 192,
   "metadata": {},
   "outputs": [],
   "source": [
    "max_f1, best_img_weight, best_text_weight = cross_val(img_probs_val, text_probs_val, labels_val, weights)"
   ]
  },
  {
   "cell_type": "code",
   "execution_count": 193,
   "metadata": {},
   "outputs": [
    {
     "data": {
      "text/plain": [
       "(0.7799706199972015, 0.07, 0.05)"
      ]
     },
     "execution_count": 193,
     "metadata": {},
     "output_type": "execute_result"
    }
   ],
   "source": [
    "max_f1, best_img_weight, best_text_weight"
   ]
  },
  {
   "cell_type": "code",
   "execution_count": 194,
   "metadata": {},
   "outputs": [
    {
     "name": "stdout",
     "output_type": "stream",
     "text": [
      "                                  precision    recall  f1-score   support\n",
      "\n",
      "          acordao_de_2_instancia     0.9160    0.7659    0.8342       299\n",
      "agravo_em_recurso_extraordinario     0.6535    0.5784    0.6137      2149\n",
      "     despacho_de_admissibilidade     0.6587    0.7486    0.7008       183\n",
      "                          outros     0.9664    0.9746    0.9705     84104\n",
      "                   peticao_do_RE     0.7592    0.7530    0.7561      6364\n",
      "                        sentenca     0.9288    0.7097    0.8046      1636\n",
      "\n",
      "                        accuracy                         0.9450     94735\n",
      "                       macro avg     0.8138    0.7550    0.7800     94735\n",
      "                    weighted avg     0.9440    0.9450    0.9442     94735\n",
      "\n"
     ]
    }
   ],
   "source": [
    "evaluate(img_probs_val, text_probs_val, labels_val, best_img_weight, best_text_weight)"
   ]
  },
  {
   "cell_type": "code",
   "execution_count": 195,
   "metadata": {},
   "outputs": [
    {
     "name": "stdout",
     "output_type": "stream",
     "text": [
      "                                  precision    recall  f1-score   support\n",
      "\n",
      "          acordao_de_2_instancia     0.9308    0.8864    0.9081       273\n",
      "agravo_em_recurso_extraordinario     0.6155    0.5470    0.5792      1841\n",
      "     despacho_de_admissibilidade     0.6667    0.6465    0.6564       198\n",
      "                          outros     0.9679    0.9763    0.9721     85408\n",
      "                   peticao_do_RE     0.7704    0.7421    0.7560      6331\n",
      "                        sentenca     0.9173    0.7444    0.8219      1475\n",
      "\n",
      "                        accuracy                         0.9480     95526\n",
      "                       macro avg     0.8114    0.7571    0.7823     95526\n",
      "                    weighted avg     0.9466    0.9480    0.9470     95526\n",
      "\n"
     ]
    }
   ],
   "source": [
    "evaluate(img_probs_test, text_probs_test, labels_test, best_img_weight, best_text_weight)"
   ]
  },
  {
   "cell_type": "code",
   "execution_count": 100,
   "metadata": {},
   "outputs": [],
   "source": [
    "just_imgs_df_trainVal = pd.read_csv(\"./data/just_img_train_val.csv\",index_col=0)"
   ]
  },
  {
   "cell_type": "code",
   "execution_count": 102,
   "metadata": {},
   "outputs": [],
   "source": [
    "just_imgs_df_test = pd.read_csv(\"./data/just_img_test.csv\", index_col=0)"
   ]
  },
  {
   "cell_type": "code",
   "execution_count": 112,
   "metadata": {},
   "outputs": [],
   "source": [
    "just_imgs_df_trainVal[\"activation_path\"] = just_imgs_df_trainVal[\"activation_path\"].str[16:] + \".jpg\""
   ]
  },
  {
   "cell_type": "code",
   "execution_count": 113,
   "metadata": {},
   "outputs": [],
   "source": [
    "just_imgs_df_test[\"activation_path\"] = just_imgs_df_test[\"activation_path\"].str[16:] + \".jpg\""
   ]
  },
  {
   "cell_type": "code",
   "execution_count": 114,
   "metadata": {},
   "outputs": [
    {
     "data": {
      "text/html": [
       "<div>\n",
       "<style scoped>\n",
       "    .dataframe tbody tr th:only-of-type {\n",
       "        vertical-align: middle;\n",
       "    }\n",
       "\n",
       "    .dataframe tbody tr th {\n",
       "        vertical-align: top;\n",
       "    }\n",
       "\n",
       "    .dataframe thead th {\n",
       "        text-align: right;\n",
       "    }\n",
       "</style>\n",
       "<table border=\"1\" class=\"dataframe\">\n",
       "  <thead>\n",
       "    <tr style=\"text-align: right;\">\n",
       "      <th></th>\n",
       "      <th>themes</th>\n",
       "      <th>process_id</th>\n",
       "      <th>file_name</th>\n",
       "      <th>document_type</th>\n",
       "      <th>pages</th>\n",
       "      <th>body</th>\n",
       "      <th>activation_path</th>\n",
       "      <th>is_valid</th>\n",
       "      <th>has_text</th>\n",
       "      <th>has_image</th>\n",
       "    </tr>\n",
       "  </thead>\n",
       "  <tbody>\n",
       "    <tr>\n",
       "      <th>0</th>\n",
       "      <td>NaN</td>\n",
       "      <td>ARE_1053618</td>\n",
       "      <td>ARE_1053618_311977154_1420_07062017_299.pdf</td>\n",
       "      <td>agravo_em_recurso_extraordinario</td>\n",
       "      <td>299</td>\n",
       "      <td>NaN</td>\n",
       "      <td>val/agravo_em_recurso_extraordinario/ARE_1053618_311977154_1420_07062017_299.jpg</td>\n",
       "      <td>True</td>\n",
       "      <td>False</td>\n",
       "      <td>True</td>\n",
       "    </tr>\n",
       "    <tr>\n",
       "      <th>1</th>\n",
       "      <td>NaN</td>\n",
       "      <td>ARE_1053618</td>\n",
       "      <td>ARE_1053618_311977154_1420_07062017_288.pdf</td>\n",
       "      <td>agravo_em_recurso_extraordinario</td>\n",
       "      <td>288</td>\n",
       "      <td>NaN</td>\n",
       "      <td>val/agravo_em_recurso_extraordinario/ARE_1053618_311977154_1420_07062017_288.jpg</td>\n",
       "      <td>True</td>\n",
       "      <td>False</td>\n",
       "      <td>True</td>\n",
       "    </tr>\n",
       "    <tr>\n",
       "      <th>2</th>\n",
       "      <td>NaN</td>\n",
       "      <td>ARE_1053618</td>\n",
       "      <td>ARE_1053618_311977154_1420_07062017_248.pdf</td>\n",
       "      <td>agravo_em_recurso_extraordinario</td>\n",
       "      <td>248</td>\n",
       "      <td>NaN</td>\n",
       "      <td>val/agravo_em_recurso_extraordinario/ARE_1053618_311977154_1420_07062017_248.jpg</td>\n",
       "      <td>True</td>\n",
       "      <td>False</td>\n",
       "      <td>True</td>\n",
       "    </tr>\n",
       "    <tr>\n",
       "      <th>3</th>\n",
       "      <td>NaN</td>\n",
       "      <td>ARE_1064575</td>\n",
       "      <td>ARE_1064575_312350997_1420_03082017_54.pdf</td>\n",
       "      <td>agravo_em_recurso_extraordinario</td>\n",
       "      <td>54</td>\n",
       "      <td>NaN</td>\n",
       "      <td>val/agravo_em_recurso_extraordinario/ARE_1064575_312350997_1420_03082017_54.jpg</td>\n",
       "      <td>True</td>\n",
       "      <td>False</td>\n",
       "      <td>True</td>\n",
       "    </tr>\n",
       "    <tr>\n",
       "      <th>4</th>\n",
       "      <td>NaN</td>\n",
       "      <td>ARE_1073427</td>\n",
       "      <td>ARE_1073427_312673900_1420_05092017_41.pdf</td>\n",
       "      <td>agravo_em_recurso_extraordinario</td>\n",
       "      <td>41</td>\n",
       "      <td>NaN</td>\n",
       "      <td>val/agravo_em_recurso_extraordinario/ARE_1073427_312673900_1420_05092017_41.jpg</td>\n",
       "      <td>True</td>\n",
       "      <td>False</td>\n",
       "      <td>True</td>\n",
       "    </tr>\n",
       "  </tbody>\n",
       "</table>\n",
       "</div>"
      ],
      "text/plain": [
       "   themes   process_id                                    file_name  \\\n",
       "0     NaN  ARE_1053618  ARE_1053618_311977154_1420_07062017_299.pdf   \n",
       "1     NaN  ARE_1053618  ARE_1053618_311977154_1420_07062017_288.pdf   \n",
       "2     NaN  ARE_1053618  ARE_1053618_311977154_1420_07062017_248.pdf   \n",
       "3     NaN  ARE_1064575   ARE_1064575_312350997_1420_03082017_54.pdf   \n",
       "4     NaN  ARE_1073427   ARE_1073427_312673900_1420_05092017_41.pdf   \n",
       "\n",
       "                      document_type  pages  body  \\\n",
       "0  agravo_em_recurso_extraordinario    299   NaN   \n",
       "1  agravo_em_recurso_extraordinario    288   NaN   \n",
       "2  agravo_em_recurso_extraordinario    248   NaN   \n",
       "3  agravo_em_recurso_extraordinario     54   NaN   \n",
       "4  agravo_em_recurso_extraordinario     41   NaN   \n",
       "\n",
       "                                                                    activation_path  \\\n",
       "0  val/agravo_em_recurso_extraordinario/ARE_1053618_311977154_1420_07062017_299.jpg   \n",
       "1  val/agravo_em_recurso_extraordinario/ARE_1053618_311977154_1420_07062017_288.jpg   \n",
       "2  val/agravo_em_recurso_extraordinario/ARE_1053618_311977154_1420_07062017_248.jpg   \n",
       "3   val/agravo_em_recurso_extraordinario/ARE_1064575_312350997_1420_03082017_54.jpg   \n",
       "4   val/agravo_em_recurso_extraordinario/ARE_1073427_312673900_1420_05092017_41.jpg   \n",
       "\n",
       "   is_valid  has_text  has_image  \n",
       "0      True     False       True  \n",
       "1      True     False       True  \n",
       "2      True     False       True  \n",
       "3      True     False       True  \n",
       "4      True     False       True  "
      ]
     },
     "execution_count": 114,
     "metadata": {},
     "output_type": "execute_result"
    }
   ],
   "source": [
    "just_imgs_df_trainVal.head()"
   ]
  },
  {
   "cell_type": "code",
   "execution_count": 117,
   "metadata": {},
   "outputs": [],
   "source": [
    "just_imgs_df_val = just_imgs_df_trainVal[just_imgs_df_trainVal[\"is_valid\"]]"
   ]
  },
  {
   "cell_type": "code",
   "execution_count": 120,
   "metadata": {},
   "outputs": [
    {
     "name": "stderr",
     "output_type": "stream",
     "text": [
      "<ipython-input-120-c19006bbd5aa>:1: SettingWithCopyWarning: \n",
      "A value is trying to be set on a copy of a slice from a DataFrame.\n",
      "Try using .loc[row_indexer,col_indexer] = value instead\n",
      "\n",
      "See the caveats in the documentation: https://pandas.pydata.org/pandas-docs/stable/user_guide/indexing.html#returning-a-view-versus-a-copy\n",
      "  just_imgs_df_val[\"split\"]= \"val\"\n"
     ]
    }
   ],
   "source": [
    "just_imgs_df_val[\"split\"]= \"val\""
   ]
  },
  {
   "cell_type": "code",
   "execution_count": 127,
   "metadata": {},
   "outputs": [],
   "source": [
    "just_imgs_df_test[\"split\"]= \"test\""
   ]
  },
  {
   "cell_type": "code",
   "execution_count": 129,
   "metadata": {},
   "outputs": [],
   "source": [
    "img_df = pd.concat([just_imgs_df_val, just_imgs_df_test], axis=0)"
   ]
  },
  {
   "cell_type": "code",
   "execution_count": 132,
   "metadata": {},
   "outputs": [],
   "source": [
    "img_df.reset_index(drop=True, inplace=True)"
   ]
  },
  {
   "cell_type": "code",
   "execution_count": 133,
   "metadata": {},
   "outputs": [
    {
     "data": {
      "text/html": [
       "<div>\n",
       "<style scoped>\n",
       "    .dataframe tbody tr th:only-of-type {\n",
       "        vertical-align: middle;\n",
       "    }\n",
       "\n",
       "    .dataframe tbody tr th {\n",
       "        vertical-align: top;\n",
       "    }\n",
       "\n",
       "    .dataframe thead th {\n",
       "        text-align: right;\n",
       "    }\n",
       "</style>\n",
       "<table border=\"1\" class=\"dataframe\">\n",
       "  <thead>\n",
       "    <tr style=\"text-align: right;\">\n",
       "      <th></th>\n",
       "      <th>themes</th>\n",
       "      <th>process_id</th>\n",
       "      <th>file_name</th>\n",
       "      <th>document_type</th>\n",
       "      <th>pages</th>\n",
       "      <th>body</th>\n",
       "      <th>activation_path</th>\n",
       "      <th>is_valid</th>\n",
       "      <th>has_text</th>\n",
       "      <th>has_image</th>\n",
       "      <th>split</th>\n",
       "    </tr>\n",
       "  </thead>\n",
       "  <tbody>\n",
       "    <tr>\n",
       "      <th>0</th>\n",
       "      <td>NaN</td>\n",
       "      <td>ARE_1053618</td>\n",
       "      <td>ARE_1053618_311977154_1420_07062017_299.pdf</td>\n",
       "      <td>agravo_em_recurso_extraordinario</td>\n",
       "      <td>299</td>\n",
       "      <td>NaN</td>\n",
       "      <td>val/agravo_em_recurso_extraordinario/ARE_1053618_311977154_1420_07062017_299.jpg</td>\n",
       "      <td>1.0</td>\n",
       "      <td>False</td>\n",
       "      <td>True</td>\n",
       "      <td>val</td>\n",
       "    </tr>\n",
       "    <tr>\n",
       "      <th>1</th>\n",
       "      <td>NaN</td>\n",
       "      <td>ARE_1053618</td>\n",
       "      <td>ARE_1053618_311977154_1420_07062017_288.pdf</td>\n",
       "      <td>agravo_em_recurso_extraordinario</td>\n",
       "      <td>288</td>\n",
       "      <td>NaN</td>\n",
       "      <td>val/agravo_em_recurso_extraordinario/ARE_1053618_311977154_1420_07062017_288.jpg</td>\n",
       "      <td>1.0</td>\n",
       "      <td>False</td>\n",
       "      <td>True</td>\n",
       "      <td>val</td>\n",
       "    </tr>\n",
       "    <tr>\n",
       "      <th>2</th>\n",
       "      <td>NaN</td>\n",
       "      <td>ARE_1053618</td>\n",
       "      <td>ARE_1053618_311977154_1420_07062017_248.pdf</td>\n",
       "      <td>agravo_em_recurso_extraordinario</td>\n",
       "      <td>248</td>\n",
       "      <td>NaN</td>\n",
       "      <td>val/agravo_em_recurso_extraordinario/ARE_1053618_311977154_1420_07062017_248.jpg</td>\n",
       "      <td>1.0</td>\n",
       "      <td>False</td>\n",
       "      <td>True</td>\n",
       "      <td>val</td>\n",
       "    </tr>\n",
       "    <tr>\n",
       "      <th>3</th>\n",
       "      <td>NaN</td>\n",
       "      <td>ARE_1064575</td>\n",
       "      <td>ARE_1064575_312350997_1420_03082017_54.pdf</td>\n",
       "      <td>agravo_em_recurso_extraordinario</td>\n",
       "      <td>54</td>\n",
       "      <td>NaN</td>\n",
       "      <td>val/agravo_em_recurso_extraordinario/ARE_1064575_312350997_1420_03082017_54.jpg</td>\n",
       "      <td>1.0</td>\n",
       "      <td>False</td>\n",
       "      <td>True</td>\n",
       "      <td>val</td>\n",
       "    </tr>\n",
       "    <tr>\n",
       "      <th>4</th>\n",
       "      <td>NaN</td>\n",
       "      <td>ARE_1073427</td>\n",
       "      <td>ARE_1073427_312673900_1420_05092017_41.pdf</td>\n",
       "      <td>agravo_em_recurso_extraordinario</td>\n",
       "      <td>41</td>\n",
       "      <td>NaN</td>\n",
       "      <td>val/agravo_em_recurso_extraordinario/ARE_1073427_312673900_1420_05092017_41.jpg</td>\n",
       "      <td>1.0</td>\n",
       "      <td>False</td>\n",
       "      <td>True</td>\n",
       "      <td>val</td>\n",
       "    </tr>\n",
       "    <tr>\n",
       "      <th>...</th>\n",
       "      <td>...</td>\n",
       "      <td>...</td>\n",
       "      <td>...</td>\n",
       "      <td>...</td>\n",
       "      <td>...</td>\n",
       "      <td>...</td>\n",
       "      <td>...</td>\n",
       "      <td>...</td>\n",
       "      <td>...</td>\n",
       "      <td>...</td>\n",
       "      <td>...</td>\n",
       "    </tr>\n",
       "    <tr>\n",
       "      <th>20874</th>\n",
       "      <td>NaN</td>\n",
       "      <td>ARE_1130738</td>\n",
       "      <td>ARE_1130738_314300437_12_08052018_79.pdf</td>\n",
       "      <td>peticao_do_RE</td>\n",
       "      <td>79</td>\n",
       "      <td>NaN</td>\n",
       "      <td>test/peticao_do_RE/ARE_1130738_314300437_12_08052018_79.jpg</td>\n",
       "      <td>NaN</td>\n",
       "      <td>False</td>\n",
       "      <td>True</td>\n",
       "      <td>test</td>\n",
       "    </tr>\n",
       "    <tr>\n",
       "      <th>20875</th>\n",
       "      <td>NaN</td>\n",
       "      <td>ARE_721616</td>\n",
       "      <td>ARE_721616_2218683_12_26072013_15.pdf</td>\n",
       "      <td>peticao_do_RE</td>\n",
       "      <td>15</td>\n",
       "      <td>NaN</td>\n",
       "      <td>test/peticao_do_RE/ARE_721616_2218683_12_26072013_15.jpg</td>\n",
       "      <td>NaN</td>\n",
       "      <td>False</td>\n",
       "      <td>True</td>\n",
       "      <td>test</td>\n",
       "    </tr>\n",
       "    <tr>\n",
       "      <th>20876</th>\n",
       "      <td>NaN</td>\n",
       "      <td>ARE_1062698</td>\n",
       "      <td>ARE_1062698_312268390_12_27072017_22.pdf</td>\n",
       "      <td>peticao_do_RE</td>\n",
       "      <td>22</td>\n",
       "      <td>NaN</td>\n",
       "      <td>test/peticao_do_RE/ARE_1062698_312268390_12_27072017_22.jpg</td>\n",
       "      <td>NaN</td>\n",
       "      <td>False</td>\n",
       "      <td>True</td>\n",
       "      <td>test</td>\n",
       "    </tr>\n",
       "    <tr>\n",
       "      <th>20877</th>\n",
       "      <td>NaN</td>\n",
       "      <td>ARE_1062698</td>\n",
       "      <td>ARE_1062698_312268390_12_27072017_19.pdf</td>\n",
       "      <td>peticao_do_RE</td>\n",
       "      <td>19</td>\n",
       "      <td>NaN</td>\n",
       "      <td>test/peticao_do_RE/ARE_1062698_312268390_12_27072017_19.jpg</td>\n",
       "      <td>NaN</td>\n",
       "      <td>False</td>\n",
       "      <td>True</td>\n",
       "      <td>test</td>\n",
       "    </tr>\n",
       "    <tr>\n",
       "      <th>20878</th>\n",
       "      <td>NaN</td>\n",
       "      <td>ARE_1064565</td>\n",
       "      <td>ARE_1064565_312350506_12_03082017_31.pdf</td>\n",
       "      <td>peticao_do_RE</td>\n",
       "      <td>31</td>\n",
       "      <td>NaN</td>\n",
       "      <td>test/peticao_do_RE/ARE_1064565_312350506_12_03082017_31.jpg</td>\n",
       "      <td>NaN</td>\n",
       "      <td>False</td>\n",
       "      <td>True</td>\n",
       "      <td>test</td>\n",
       "    </tr>\n",
       "  </tbody>\n",
       "</table>\n",
       "<p>20879 rows × 11 columns</p>\n",
       "</div>"
      ],
      "text/plain": [
       "       themes   process_id                                    file_name  \\\n",
       "0         NaN  ARE_1053618  ARE_1053618_311977154_1420_07062017_299.pdf   \n",
       "1         NaN  ARE_1053618  ARE_1053618_311977154_1420_07062017_288.pdf   \n",
       "2         NaN  ARE_1053618  ARE_1053618_311977154_1420_07062017_248.pdf   \n",
       "3         NaN  ARE_1064575   ARE_1064575_312350997_1420_03082017_54.pdf   \n",
       "4         NaN  ARE_1073427   ARE_1073427_312673900_1420_05092017_41.pdf   \n",
       "...       ...          ...                                          ...   \n",
       "20874     NaN  ARE_1130738     ARE_1130738_314300437_12_08052018_79.pdf   \n",
       "20875     NaN   ARE_721616        ARE_721616_2218683_12_26072013_15.pdf   \n",
       "20876     NaN  ARE_1062698     ARE_1062698_312268390_12_27072017_22.pdf   \n",
       "20877     NaN  ARE_1062698     ARE_1062698_312268390_12_27072017_19.pdf   \n",
       "20878     NaN  ARE_1064565     ARE_1064565_312350506_12_03082017_31.pdf   \n",
       "\n",
       "                          document_type  pages  body  \\\n",
       "0      agravo_em_recurso_extraordinario    299   NaN   \n",
       "1      agravo_em_recurso_extraordinario    288   NaN   \n",
       "2      agravo_em_recurso_extraordinario    248   NaN   \n",
       "3      agravo_em_recurso_extraordinario     54   NaN   \n",
       "4      agravo_em_recurso_extraordinario     41   NaN   \n",
       "...                                 ...    ...   ...   \n",
       "20874                     peticao_do_RE     79   NaN   \n",
       "20875                     peticao_do_RE     15   NaN   \n",
       "20876                     peticao_do_RE     22   NaN   \n",
       "20877                     peticao_do_RE     19   NaN   \n",
       "20878                     peticao_do_RE     31   NaN   \n",
       "\n",
       "                                                                        activation_path  \\\n",
       "0      val/agravo_em_recurso_extraordinario/ARE_1053618_311977154_1420_07062017_299.jpg   \n",
       "1      val/agravo_em_recurso_extraordinario/ARE_1053618_311977154_1420_07062017_288.jpg   \n",
       "2      val/agravo_em_recurso_extraordinario/ARE_1053618_311977154_1420_07062017_248.jpg   \n",
       "3       val/agravo_em_recurso_extraordinario/ARE_1064575_312350997_1420_03082017_54.jpg   \n",
       "4       val/agravo_em_recurso_extraordinario/ARE_1073427_312673900_1420_05092017_41.jpg   \n",
       "...                                                                                 ...   \n",
       "20874                       test/peticao_do_RE/ARE_1130738_314300437_12_08052018_79.jpg   \n",
       "20875                          test/peticao_do_RE/ARE_721616_2218683_12_26072013_15.jpg   \n",
       "20876                       test/peticao_do_RE/ARE_1062698_312268390_12_27072017_22.jpg   \n",
       "20877                       test/peticao_do_RE/ARE_1062698_312268390_12_27072017_19.jpg   \n",
       "20878                       test/peticao_do_RE/ARE_1064565_312350506_12_03082017_31.jpg   \n",
       "\n",
       "       is_valid  has_text  has_image split  \n",
       "0           1.0     False       True   val  \n",
       "1           1.0     False       True   val  \n",
       "2           1.0     False       True   val  \n",
       "3           1.0     False       True   val  \n",
       "4           1.0     False       True   val  \n",
       "...         ...       ...        ...   ...  \n",
       "20874       NaN     False       True  test  \n",
       "20875       NaN     False       True  test  \n",
       "20876       NaN     False       True  test  \n",
       "20877       NaN     False       True  test  \n",
       "20878       NaN     False       True  test  \n",
       "\n",
       "[20879 rows x 11 columns]"
      ]
     },
     "execution_count": 133,
     "metadata": {},
     "output_type": "execute_result"
    }
   ],
   "source": [
    "img_df"
   ]
  },
  {
   "cell_type": "code",
   "execution_count": 134,
   "metadata": {},
   "outputs": [],
   "source": [
    "assert img_df[\"document_type\"].tolist() == just_imgs_df_val[\"document_type\"].tolist() + just_imgs_df_test[\"document_type\"].tolist()"
   ]
  },
  {
   "cell_type": "code",
   "execution_count": 135,
   "metadata": {},
   "outputs": [],
   "source": [
    "img_df.rename(columns={\"activation_path\":\"path\"}, inplace=True)"
   ]
  },
  {
   "cell_type": "code",
   "execution_count": 137,
   "metadata": {},
   "outputs": [],
   "source": [
    "dblock = DataBlock(blocks=(ImageBlock, CategoryBlock),\n",
    "                   get_x=get_x,\n",
    "                   get_y=get_y,\n",
    "                   splitter=splitter,\n",
    "                   item_tfms=Resize(460),\n",
    "                   batch_tfms=[*aug_transforms(size=224, min_scale=0.75,\n",
    "                                               do_flip=False, max_rotate=0,\n",
    "                                               max_warp=0\n",
    "                                               ),\n",
    "                               Normalize.from_stats(*imagenet_stats)])"
   ]
  },
  {
   "cell_type": "code",
   "execution_count": 138,
   "metadata": {},
   "outputs": [],
   "source": [
    "dls_img = dblock.dataloaders(img_df, bs=64)"
   ]
  },
  {
   "cell_type": "code",
   "execution_count": 141,
   "metadata": {},
   "outputs": [],
   "source": [
    "learn = cnn_learner(dls_img, resnet50, loss_func=CrossEntropyLossFlat())"
   ]
  },
  {
   "cell_type": "code",
   "execution_count": 142,
   "metadata": {},
   "outputs": [
    {
     "data": {
      "text/plain": [
       "<fastai.learner.Learner at 0x7fdf2afb1b20>"
      ]
     },
     "execution_count": 142,
     "metadata": {},
     "output_type": "execute_result"
    }
   ],
   "source": [
    "learn.load(\"./best_image_weights_224\")"
   ]
  },
  {
   "cell_type": "code",
   "execution_count": 143,
   "metadata": {},
   "outputs": [
    {
     "data": {
      "text/html": [],
      "text/plain": [
       "<IPython.core.display.HTML object>"
      ]
     },
     "metadata": {},
     "output_type": "display_data"
    }
   ],
   "source": [
    "just_img_probs_val, just_img_labels_val = learn.get_preds()"
   ]
  },
  {
   "cell_type": "code",
   "execution_count": 144,
   "metadata": {},
   "outputs": [
    {
     "name": "stdout",
     "output_type": "stream",
     "text": [
      "                                  precision    recall  f1-score   support\n",
      "\n",
      "          acordao_de_2_instancia     0.0276    1.0000    0.0538        21\n",
      "agravo_em_recurso_extraordinario     0.1643    0.7288    0.2681       649\n",
      "     despacho_de_admissibilidade     0.0096    0.3333    0.0186         6\n",
      "                          outros     0.9643    0.6242    0.7578     11498\n",
      "                   peticao_do_RE     0.1245    0.2440    0.1649       623\n",
      "                        sentenca     0.0091    0.0667    0.0160        45\n",
      "\n",
      "                        accuracy                         0.6096     12842\n",
      "                       macro avg     0.2166    0.4995    0.2132     12842\n",
      "                    weighted avg     0.8778    0.6096    0.7002     12842\n",
      "\n"
     ]
    }
   ],
   "source": [
    "preds = np.argmax(just_img_probs_val, axis=1)\n",
    "print(classification_report(just_img_labels_val, preds, target_names=dls.vocab, digits=4))"
   ]
  },
  {
   "cell_type": "code",
   "execution_count": 146,
   "metadata": {},
   "outputs": [
    {
     "data": {
      "text/html": [],
      "text/plain": [
       "<IPython.core.display.HTML object>"
      ]
     },
     "metadata": {},
     "output_type": "display_data"
    }
   ],
   "source": [
    "just_img_probs_test, just_img_labels_test = learn.get_preds(ds_idx=2)"
   ]
  },
  {
   "cell_type": "code",
   "execution_count": 147,
   "metadata": {},
   "outputs": [
    {
     "name": "stdout",
     "output_type": "stream",
     "text": [
      "                                  precision    recall  f1-score   support\n",
      "\n",
      "          acordao_de_2_instancia     0.0204    1.0000    0.0400        14\n",
      "agravo_em_recurso_extraordinario     0.2910    0.7654    0.4217       814\n",
      "     despacho_de_admissibilidade     0.0000    0.0000    0.0000         1\n",
      "                          outros     0.9729    0.5846    0.7303      7125\n",
      "                   peticao_do_RE     0.0143    0.1455    0.0260        55\n",
      "                        sentenca     0.0144    0.1071    0.0253        28\n",
      "\n",
      "                        accuracy                         0.5989      8037\n",
      "                       macro avg     0.2188    0.4338    0.2072      8037\n",
      "                    weighted avg     0.8922    0.5989    0.6905      8037\n",
      "\n"
     ]
    }
   ],
   "source": [
    "preds = np.argmax(just_img_probs_test, axis=1)\n",
    "print(classification_report(just_img_labels_test, preds, target_names=dls.vocab, digits=4))"
   ]
  },
  {
   "cell_type": "code",
   "execution_count": 148,
   "metadata": {},
   "outputs": [
    {
     "data": {
      "text/plain": [
       "torch.Size([107577, 6])"
      ]
     },
     "execution_count": 148,
     "metadata": {},
     "output_type": "execute_result"
    }
   ],
   "source": [
    "all_img_probs_val = torch.cat([img_probs_val, just_img_probs_val]); all_img_probs_val.shape"
   ]
  },
  {
   "cell_type": "code",
   "execution_count": 151,
   "metadata": {},
   "outputs": [
    {
     "data": {
      "text/plain": [
       "torch.Size([107577, 6])"
      ]
     },
     "execution_count": 151,
     "metadata": {},
     "output_type": "execute_result"
    }
   ],
   "source": [
    "all_text_probs_val = torch.cat([tensor(text_probs_val), tensor([[1/6]*6]*12842)]); all_text_probs_val.shape"
   ]
  },
  {
   "cell_type": "code",
   "execution_count": 152,
   "metadata": {},
   "outputs": [
    {
     "data": {
      "text/plain": [
       "torch.Size([107577])"
      ]
     },
     "execution_count": 152,
     "metadata": {},
     "output_type": "execute_result"
    }
   ],
   "source": [
    "all_labels_val = torch.cat([labels_val, just_img_labels_val]); all_labels_val.shape"
   ]
  },
  {
   "cell_type": "code",
   "execution_count": 153,
   "metadata": {},
   "outputs": [
    {
     "name": "stdout",
     "output_type": "stream",
     "text": [
      "                                  precision    recall  f1-score   support\n",
      "\n",
      "          acordao_de_2_instancia     0.2475    0.7812    0.3759       320\n",
      "agravo_em_recurso_extraordinario     0.3589    0.6133    0.4528      2798\n",
      "     despacho_de_admissibilidade     0.3333    0.7354    0.4587       189\n",
      "                          outros     0.9663    0.9324    0.9490     95602\n",
      "                   peticao_do_RE     0.6563    0.7076    0.6810      6987\n",
      "                        sentenca     0.7367    0.6924    0.7139      1681\n",
      "\n",
      "                        accuracy                         0.9050    107577\n",
      "                       macro avg     0.5498    0.7437    0.6052    107577\n",
      "                    weighted avg     0.9235    0.9050    0.9125    107577\n",
      "\n"
     ]
    }
   ],
   "source": [
    "evaluate(all_img_probs_val, all_text_probs_val, all_labels_val, best_img_weight, best_text_weight)"
   ]
  },
  {
   "cell_type": "code",
   "execution_count": 154,
   "metadata": {},
   "outputs": [
    {
     "data": {
      "text/plain": [
       "torch.Size([103563, 6])"
      ]
     },
     "execution_count": 154,
     "metadata": {},
     "output_type": "execute_result"
    }
   ],
   "source": [
    "all_img_probs_test = torch.cat([img_probs_test, just_img_probs_test]); all_img_probs_test.shape"
   ]
  },
  {
   "cell_type": "code",
   "execution_count": 156,
   "metadata": {},
   "outputs": [
    {
     "data": {
      "text/plain": [
       "torch.Size([103563, 6])"
      ]
     },
     "execution_count": 156,
     "metadata": {},
     "output_type": "execute_result"
    }
   ],
   "source": [
    "all_text_probs_test = torch.cat([tensor(text_probs_test), tensor([[1/6]*6]*8037)]); all_text_probs_test.shape"
   ]
  },
  {
   "cell_type": "code",
   "execution_count": 157,
   "metadata": {},
   "outputs": [
    {
     "data": {
      "text/plain": [
       "torch.Size([103563])"
      ]
     },
     "execution_count": 157,
     "metadata": {},
     "output_type": "execute_result"
    }
   ],
   "source": [
    "all_labels_test = torch.cat([labels_test, just_img_labels_test]); all_labels_test.shape"
   ]
  },
  {
   "cell_type": "code",
   "execution_count": 158,
   "metadata": {},
   "outputs": [
    {
     "name": "stdout",
     "output_type": "stream",
     "text": [
      "                                  precision    recall  f1-score   support\n",
      "\n",
      "          acordao_de_2_instancia     0.2706    0.8920    0.4152       287\n",
      "agravo_em_recurso_extraordinario     0.4316    0.6139    0.5068      2655\n",
      "     despacho_de_admissibilidade     0.3636    0.6432    0.4646       199\n",
      "                          outros     0.9682    0.9461    0.9570     92533\n",
      "                   peticao_do_RE     0.7068    0.7369    0.7216      6386\n",
      "                        sentenca     0.7831    0.7325    0.7570      1503\n",
      "\n",
      "                        accuracy                         0.9209    103563\n",
      "                       macro avg     0.5873    0.7608    0.6370    103563\n",
      "                    weighted avg     0.9325    0.9209    0.9256    103563\n",
      "\n"
     ]
    }
   ],
   "source": [
    "evaluate(all_img_probs_test, all_text_probs_test, all_labels_test, best_img_weight, best_text_weight)"
   ]
  },
  {
   "cell_type": "code",
   "execution_count": 179,
   "metadata": {},
   "outputs": [
    {
     "data": {
      "text/plain": [
       "torch.Size([107577, 6])"
      ]
     },
     "execution_count": 179,
     "metadata": {},
     "output_type": "execute_result"
    }
   ],
   "source": [
    "all_text_probs_val = torch.cat([tensor(text_probs_val), class_priors.expand(12842,-1)]); all_text_probs_val.shape"
   ]
  },
  {
   "cell_type": "code",
   "execution_count": 181,
   "metadata": {},
   "outputs": [
    {
     "name": "stdout",
     "output_type": "stream",
     "text": [
      "                                  precision    recall  f1-score   support\n",
      "\n",
      "          acordao_de_2_instancia     0.9160    0.7156    0.8035       320\n",
      "agravo_em_recurso_extraordinario     0.6185    0.5250    0.5679      2798\n",
      "     despacho_de_admissibilidade     0.6587    0.7249    0.6902       189\n",
      "                          outros     0.9605    0.9733    0.9668     95602\n",
      "                   peticao_do_RE     0.7387    0.6994    0.7185      6987\n",
      "                        sentenca     0.9244    0.6907    0.7906      1681\n",
      "\n",
      "                        accuracy                         0.9382    107577\n",
      "                       macro avg     0.8028    0.7215    0.7563    107577\n",
      "                    weighted avg     0.9360    0.9382    0.9366    107577\n",
      "\n"
     ]
    }
   ],
   "source": [
    "evaluate(all_img_probs_val, all_text_probs_val, all_labels_val, best_img_weight, best_text_weight)"
   ]
  },
  {
   "cell_type": "code",
   "execution_count": 182,
   "metadata": {},
   "outputs": [
    {
     "data": {
      "text/plain": [
       "torch.Size([103563, 6])"
      ]
     },
     "execution_count": 182,
     "metadata": {},
     "output_type": "execute_result"
    }
   ],
   "source": [
    "all_text_probs_test = torch.cat([tensor(text_probs_test), class_priors.expand(8037,-1)]); all_text_probs_test.shape"
   ]
  },
  {
   "cell_type": "code",
   "execution_count": 183,
   "metadata": {},
   "outputs": [
    {
     "name": "stdout",
     "output_type": "stream",
     "text": [
      "                                  precision    recall  f1-score   support\n",
      "\n",
      "          acordao_de_2_instancia     0.9308    0.8432    0.8848       287\n",
      "agravo_em_recurso_extraordinario     0.6203    0.4934    0.5496      2655\n",
      "     despacho_de_admissibilidade     0.6632    0.6432    0.6531       199\n",
      "                          outros     0.9642    0.9750    0.9696     92533\n",
      "                   peticao_do_RE     0.7552    0.7366    0.7458      6386\n",
      "                        sentenca     0.9150    0.7305    0.8124      1503\n",
      "\n",
      "                        accuracy                         0.9434    103563\n",
      "                       macro avg     0.8081    0.7370    0.7692    103563\n",
      "                    weighted avg     0.9411    0.9434    0.9419    103563\n",
      "\n"
     ]
    }
   ],
   "source": [
    "evaluate(all_img_probs_test, all_text_probs_test, all_labels_test, best_img_weight, best_text_weight)"
   ]
  },
  {
   "cell_type": "code",
   "execution_count": 180,
   "metadata": {},
   "outputs": [],
   "source": [
    "val_preds =  late_fusion(img_probs_val, text_probs_val, img_weight=best_img_weight, text_weight=best_text_weight)"
   ]
  },
  {
   "cell_type": "code",
   "execution_count": 451,
   "metadata": {},
   "outputs": [],
   "source": [
    "test_preds =  late_fusion(img_probs_test, text_probs_test, img_weight=best_img_weight, text_weight=best_text_weight)"
   ]
  },
  {
   "cell_type": "code",
   "execution_count": 470,
   "metadata": {},
   "outputs": [],
   "source": [
    "train = pd.read_csv(data_path/\"train_small.csv\")"
   ]
  },
  {
   "cell_type": "code",
   "execution_count": 471,
   "metadata": {},
   "outputs": [],
   "source": [
    "sequences_train = tokenizer.texts_to_sequences(train['body'])"
   ]
  },
  {
   "cell_type": "code",
   "execution_count": 472,
   "metadata": {},
   "outputs": [],
   "source": [
    "X_train = sequence.pad_sequences(sequences_train, maxlen=SEQUENCE_LEN, padding='post')"
   ]
  },
  {
   "cell_type": "code",
   "execution_count": 473,
   "metadata": {},
   "outputs": [],
   "source": [
    "train_label = train['document_type'] \n",
    "train_label_toTest = encoder.transform(train_label)\n",
    "train_label = np.transpose(train_label_toTest)\n",
    "train_label = to_categorical(train_label)\n",
    "\n",
    "X_train = np.array(X_train)"
   ]
  },
  {
   "cell_type": "code",
   "execution_count": 474,
   "metadata": {},
   "outputs": [
    {
     "name": "stdout",
     "output_type": "stream",
     "text": [
      "4664/4664 [==============================] - 88s 19ms/step\n"
     ]
    }
   ],
   "source": [
    "text_probs_train = model.predict(X_train, verbose=1)"
   ]
  },
  {
   "cell_type": "code",
   "execution_count": 475,
   "metadata": {},
   "outputs": [
    {
     "name": "stdout",
     "output_type": "stream",
     "text": [
      "                                  precision    recall  f1-score   support\n",
      "\n",
      "          acordao_de_2_instancia     0.9563    0.9892    0.9724       553\n",
      "agravo_em_recurso_extraordinario     0.9790    0.8413    0.9049      2546\n",
      "     despacho_de_admissibilidade     0.8943    0.8555    0.8744       346\n",
      "                          outros     0.9950    0.9938    0.9944    134134\n",
      "                   peticao_do_RE     0.9231    0.9741    0.9479      9509\n",
      "                        sentenca     0.9853    0.9779    0.9816      2129\n",
      "\n",
      "                        accuracy                         0.9894    149217\n",
      "                       macro avg     0.9555    0.9386    0.9460    149217\n",
      "                    weighted avg     0.9896    0.9894    0.9893    149217\n",
      "\n"
     ]
    }
   ],
   "source": [
    "pred = text_probs_train.argmax(axis=1)\n",
    "\n",
    "print(classification_report(train_label_toTest, pred, target_names=target_names, digits=4))"
   ]
  },
  {
   "cell_type": "code",
   "execution_count": 476,
   "metadata": {},
   "outputs": [],
   "source": [
    "path = Path(\"/mnt/nas/backups/08-07-2020/desktopg01/lisa/Data/small_flow\")"
   ]
  },
  {
   "cell_type": "code",
   "execution_count": 478,
   "metadata": {},
   "outputs": [],
   "source": [
    "train[\"path\"] = \"train/\" + train[\"document_type\"] + \"/\" + train[\"file_name\"].str.rstrip(\".pdf\") + \"_\" + train[\"pages\"].astype(str) + \".jpg\""
   ]
  },
  {
   "cell_type": "code",
   "execution_count": 495,
   "metadata": {},
   "outputs": [],
   "source": [
    "train[\"split\"]=\"val\""
   ]
  },
  {
   "cell_type": "code",
   "execution_count": 496,
   "metadata": {},
   "outputs": [],
   "source": [
    "dblock = DataBlock(blocks=(ImageBlock, CategoryBlock),\n",
    "                   get_x=get_x,\n",
    "                   get_y=get_y,\n",
    "                   splitter=splitter,\n",
    "                   item_tfms=Resize(460),\n",
    "                   batch_tfms=[*aug_transforms(size=224, min_scale=0.75,\n",
    "                                               do_flip=False, max_rotate=0,\n",
    "                                               max_warp=0\n",
    "                                               ),\n",
    "                               Normalize.from_stats(*imagenet_stats)])"
   ]
  },
  {
   "cell_type": "code",
   "execution_count": 497,
   "metadata": {},
   "outputs": [],
   "source": [
    "dls = dblock.dataloaders(train, bs=64)"
   ]
  },
  {
   "cell_type": "code",
   "execution_count": 499,
   "metadata": {},
   "outputs": [
    {
     "data": {
      "text/plain": [
       "['acordao_de_2_instancia', 'agravo_em_recurso_extraordinario', 'despacho_de_admissibilidade', 'outros', 'peticao_do_RE', 'sentenca']"
      ]
     },
     "execution_count": 499,
     "metadata": {},
     "output_type": "execute_result"
    }
   ],
   "source": [
    "dls.vocab"
   ]
  },
  {
   "cell_type": "code",
   "execution_count": 507,
   "metadata": {},
   "outputs": [],
   "source": [
    "learn = cnn_learner(dls, resnet50, loss_func=CrossEntropyLossFlat())"
   ]
  },
  {
   "cell_type": "code",
   "execution_count": 508,
   "metadata": {},
   "outputs": [
    {
     "data": {
      "text/plain": [
       "<fastai.learner.Learner at 0x7f39709a8df0>"
      ]
     },
     "execution_count": 508,
     "metadata": {},
     "output_type": "execute_result"
    }
   ],
   "source": [
    "learn.load(\"./best_image_weights_224\")"
   ]
  },
  {
   "cell_type": "code",
   "execution_count": 509,
   "metadata": {},
   "outputs": [
    {
     "data": {
      "text/html": [],
      "text/plain": [
       "<IPython.core.display.HTML object>"
      ]
     },
     "metadata": {},
     "output_type": "display_data"
    }
   ],
   "source": [
    "img_probs_train, labels_train = learn.get_preds()"
   ]
  },
  {
   "cell_type": "code",
   "execution_count": 510,
   "metadata": {},
   "outputs": [
    {
     "data": {
      "text/plain": [
       "(torch.Size([149217, 6]), torch.Size([149217]))"
      ]
     },
     "execution_count": 510,
     "metadata": {},
     "output_type": "execute_result"
    }
   ],
   "source": [
    "img_probs_train.shape,labels_train.shape"
   ]
  },
  {
   "cell_type": "code",
   "execution_count": 511,
   "metadata": {},
   "outputs": [
    {
     "name": "stdout",
     "output_type": "stream",
     "text": [
      "                                  precision    recall  f1-score   support\n",
      "\n",
      "          acordao_de_2_instancia     0.1600    0.7541    0.2639       553\n",
      "agravo_em_recurso_extraordinario     0.0507    0.8425    0.0956      2546\n",
      "     despacho_de_admissibilidade     0.0618    0.7688    0.1144       346\n",
      "                          outros     0.9914    0.4850    0.6513    134134\n",
      "                   peticao_do_RE     0.2195    0.6585    0.3293      9509\n",
      "                        sentenca     0.2982    0.8192    0.4373      2129\n",
      "\n",
      "                        accuracy                         0.5086    149217\n",
      "                       macro avg     0.2969    0.7213    0.3153    149217\n",
      "                    weighted avg     0.9110    0.5086    0.6156    149217\n",
      "\n"
     ]
    }
   ],
   "source": [
    "preds = np.argmax(img_probs_train, axis=1)\n",
    "print(classification_report(labels_train, preds, target_names=dls.vocab, digits=4))"
   ]
  },
  {
   "cell_type": "code",
   "execution_count": 512,
   "metadata": {},
   "outputs": [
    {
     "name": "stdout",
     "output_type": "stream",
     "text": [
      "                                  precision    recall  f1-score   support\n",
      "\n",
      "          acordao_de_2_instancia     0.9786    0.9910    0.9847       553\n",
      "agravo_em_recurso_extraordinario     0.8812    0.9643    0.9209      2546\n",
      "     despacho_de_admissibilidade     0.7388    0.9566    0.8338       346\n",
      "                          outros     0.9979    0.9901    0.9940    134134\n",
      "                   peticao_do_RE     0.9124    0.9787    0.9444      9509\n",
      "                        sentenca     0.9823    0.9901    0.9862      2129\n",
      "\n",
      "                        accuracy                         0.9888    149217\n",
      "                       macro avg     0.9152    0.9785    0.9440    149217\n",
      "                    weighted avg     0.9896    0.9888    0.9890    149217\n",
      "\n"
     ]
    }
   ],
   "source": [
    "evaluate(img_probs_train, text_probs_train, labels_train, best_img_weight, best_text_weight)"
   ]
  },
  {
   "cell_type": "code",
   "execution_count": 513,
   "metadata": {},
   "outputs": [],
   "source": [
    "train_preds =  late_fusion(img_probs_train, text_probs_train, img_weight=best_img_weight, text_weight=best_text_weight)"
   ]
  },
  {
   "cell_type": "code",
   "execution_count": 514,
   "metadata": {},
   "outputs": [],
   "source": [
    "train[\"document_type\"] = train.apply(lambda x: \"B-\" + x[\"document_type\"] if x[\"pages\"] == 1 else \"I-\" + x[\"document_type\"],\n",
    "                                     axis=1)\n",
    "val[\"document_type\"] = val.apply(lambda x: \"B-\" + x[\"document_type\"] if x[\"pages\"] == 1 else \"I-\" + x[\"document_type\"],\n",
    "                                     axis=1)\n",
    "test_data[\"document_type\"] = test_data.apply(lambda x: \"B-\" + x[\"document_type\"] if x[\"pages\"] == 1 else \"I-\" + x[\"document_type\"],\n",
    "                                   axis=1)"
   ]
  },
  {
   "cell_type": "code",
   "execution_count": 515,
   "metadata": {},
   "outputs": [],
   "source": [
    "def data_to_process(data, vectors):\n",
    "    xs = []\n",
    "    ys = []\n",
    "    data[\"data\"] = vectors.tolist()\n",
    "    for k, v in data.groupby(\"process_id\").groups.items():\n",
    "        xs.append(data.iloc[v][\"data\"].tolist())\n",
    "        ys.append(data.iloc[v][\"document_type\"].tolist())\n",
    "    return xs, ys"
   ]
  },
  {
   "cell_type": "code",
   "execution_count": 516,
   "metadata": {},
   "outputs": [],
   "source": [
    "X_train, y_train = data_to_process(train, train_preds)\n",
    "X_valid, y_valid = data_to_process(val, val_preds)\n",
    "X_test, y_test = data_to_process(test_data, test_preds)"
   ]
  },
  {
   "cell_type": "code",
   "execution_count": 517,
   "metadata": {},
   "outputs": [
    {
     "data": {
      "text/plain": [
       "(2743, 2743)"
      ]
     },
     "execution_count": 517,
     "metadata": {},
     "output_type": "execute_result"
    }
   ],
   "source": [
    " len(X_train), len(y_train)"
   ]
  },
  {
   "cell_type": "code",
   "execution_count": 518,
   "metadata": {},
   "outputs": [],
   "source": [
    "def data2feat(data):\n",
    "    feat_data = []\n",
    "    for i, sentence in enumerate(data):\n",
    "        feat_data.append([])\n",
    "        for j, token in enumerate(sentence):\n",
    "            feat_data[i].append({ str(i) : d for i, d in enumerate(token)})\n",
    "    return feat_data"
   ]
  },
  {
   "cell_type": "code",
   "execution_count": 519,
   "metadata": {},
   "outputs": [],
   "source": [
    "X_train = data2feat(X_train)\n",
    "X_valid = data2feat(X_valid)\n",
    "X_test = data2feat(X_test)"
   ]
  },
  {
   "cell_type": "code",
   "execution_count": 522,
   "metadata": {},
   "outputs": [],
   "source": [
    "import sklearn_crfsuite\n",
    "from sklearn_crfsuite import scorers\n",
    "from sklearn_crfsuite import metrics\n",
    "from sklearn.metrics import classification_report, confusion_matrix, accuracy_score"
   ]
  },
  {
   "cell_type": "code",
   "execution_count": 523,
   "metadata": {},
   "outputs": [
    {
     "name": "stderr",
     "output_type": "stream",
     "text": [
      "loading training data to CRFsuite: 100%|██████████| 2743/2743 [00:00<00:00, 4619.85it/s]\n"
     ]
    },
    {
     "name": "stdout",
     "output_type": "stream",
     "text": [
      "\n",
      "Feature generation\n",
      "type: CRF1d\n",
      "feature.minfreq: 0.000000\n",
      "feature.possible_states: 1\n",
      "feature.possible_transitions: 1\n",
      "0....1....2....3....4....5....6....7....8....9....10\n",
      "Number of features: 216\n",
      "Seconds required: 0.301\n",
      "\n",
      "L-BFGS optimization\n",
      "c1: 0.100000\n",
      "c2: 0.100000\n",
      "num_memories: 6\n",
      "max_iterations: 100\n",
      "epsilon: 0.000010\n",
      "stop: 10\n",
      "delta: 0.000010\n",
      "linesearch: MoreThuente\n",
      "linesearch.max_iterations: 20\n",
      "\n",
      "Iter 1   time=0.24  loss=252834.33 active=216   feature_norm=1.00\n",
      "Iter 2   time=0.39  loss=179108.18 active=215   feature_norm=3.27\n",
      "Iter 3   time=0.12  loss=132033.25 active=210   feature_norm=2.97\n",
      "Iter 4   time=0.24  loss=119826.12 active=212   feature_norm=3.23\n",
      "Iter 5   time=0.12  loss=111947.48 active=214   feature_norm=3.43\n",
      "Iter 6   time=0.12  loss=106541.50 active=213   feature_norm=3.90\n",
      "Iter 7   time=0.12  loss=100475.00 active=207   feature_norm=4.63\n",
      "Iter 8   time=0.12  loss=88958.23 active=215   feature_norm=5.01\n",
      "Iter 9   time=0.12  loss=87917.94 active=215   feature_norm=5.27\n",
      "Iter 10  time=0.12  loss=86691.56 active=216   feature_norm=5.47\n",
      "Iter 11  time=0.12  loss=86191.35 active=215   feature_norm=5.51\n",
      "Iter 12  time=0.12  loss=84814.82 active=213   feature_norm=5.66\n",
      "Iter 13  time=0.12  loss=83667.25 active=215   feature_norm=6.31\n",
      "Iter 14  time=0.12  loss=78964.30 active=215   feature_norm=6.79\n",
      "Iter 15  time=0.12  loss=75402.10 active=211   feature_norm=7.50\n",
      "Iter 16  time=0.24  loss=71443.57 active=213   feature_norm=8.89\n",
      "Iter 17  time=0.12  loss=70389.68 active=215   feature_norm=9.46\n",
      "Iter 18  time=0.12  loss=69762.26 active=215   feature_norm=9.45\n",
      "Iter 19  time=0.12  loss=69465.82 active=215   feature_norm=9.63\n",
      "Iter 20  time=0.12  loss=69119.51 active=216   feature_norm=9.89\n",
      "Iter 21  time=0.12  loss=68493.91 active=214   feature_norm=10.37\n",
      "Iter 22  time=0.12  loss=67653.40 active=214   feature_norm=11.06\n",
      "Iter 23  time=0.12  loss=66795.75 active=213   feature_norm=12.10\n",
      "Iter 24  time=0.12  loss=65603.98 active=215   feature_norm=14.71\n",
      "Iter 25  time=0.12  loss=64139.05 active=210   feature_norm=18.31\n",
      "Iter 26  time=0.12  loss=63556.10 active=209   feature_norm=21.26\n",
      "Iter 27  time=0.12  loss=63159.55 active=216   feature_norm=22.30\n",
      "Iter 28  time=0.12  loss=62608.13 active=215   feature_norm=24.35\n",
      "Iter 29  time=0.12  loss=61194.06 active=209   feature_norm=32.54\n",
      "Iter 30  time=0.48  loss=61057.50 active=213   feature_norm=32.57\n",
      "Iter 31  time=0.12  loss=60655.82 active=213   feature_norm=32.29\n",
      "Iter 32  time=0.24  loss=60566.53 active=214   feature_norm=32.26\n",
      "Iter 33  time=0.24  loss=60365.25 active=213   feature_norm=32.30\n",
      "Iter 34  time=0.24  loss=60230.80 active=215   feature_norm=32.44\n",
      "Iter 35  time=0.26  loss=60041.76 active=216   feature_norm=32.65\n",
      "Iter 36  time=0.25  loss=59838.98 active=215   feature_norm=32.74\n",
      "Iter 37  time=0.24  loss=59781.36 active=214   feature_norm=32.90\n",
      "Iter 38  time=0.24  loss=59629.85 active=214   feature_norm=33.07\n",
      "Iter 39  time=0.24  loss=59572.58 active=215   feature_norm=33.28\n",
      "Iter 40  time=0.24  loss=59471.75 active=215   feature_norm=33.49\n",
      "Iter 41  time=0.24  loss=59433.17 active=215   feature_norm=33.76\n",
      "Iter 42  time=0.12  loss=59384.71 active=215   feature_norm=34.25\n",
      "Iter 43  time=0.12  loss=59270.01 active=216   feature_norm=34.60\n",
      "Iter 44  time=0.12  loss=59206.66 active=215   feature_norm=34.87\n",
      "Iter 45  time=0.12  loss=59170.31 active=216   feature_norm=35.23\n",
      "Iter 46  time=0.12  loss=59126.23 active=216   feature_norm=35.54\n",
      "Iter 47  time=0.12  loss=59071.32 active=215   feature_norm=35.88\n",
      "Iter 48  time=0.12  loss=59024.15 active=215   feature_norm=36.26\n",
      "Iter 49  time=0.12  loss=58970.37 active=216   feature_norm=36.70\n",
      "Iter 50  time=0.12  loss=58904.17 active=215   feature_norm=37.02\n",
      "Iter 51  time=0.12  loss=58865.11 active=216   feature_norm=37.35\n",
      "Iter 52  time=0.12  loss=58785.43 active=215   feature_norm=37.58\n",
      "Iter 53  time=0.12  loss=58760.67 active=215   feature_norm=37.97\n",
      "Iter 54  time=0.12  loss=58679.50 active=215   feature_norm=38.24\n",
      "Iter 55  time=0.12  loss=58669.19 active=214   feature_norm=38.80\n",
      "Iter 56  time=0.12  loss=58577.10 active=216   feature_norm=39.13\n",
      "Iter 57  time=0.12  loss=58563.46 active=215   feature_norm=39.69\n",
      "Iter 58  time=0.12  loss=58481.81 active=216   feature_norm=40.02\n",
      "Iter 59  time=0.12  loss=58468.41 active=216   feature_norm=40.57\n",
      "Iter 60  time=0.12  loss=58393.06 active=216   feature_norm=40.90\n",
      "Iter 61  time=0.12  loss=58390.74 active=216   feature_norm=41.47\n",
      "Iter 62  time=0.12  loss=58321.20 active=216   feature_norm=41.78\n",
      "Iter 63  time=0.12  loss=58313.04 active=215   feature_norm=42.19\n",
      "Iter 64  time=0.12  loss=58253.42 active=216   feature_norm=42.54\n",
      "Iter 65  time=0.12  loss=58244.06 active=216   feature_norm=42.93\n",
      "Iter 66  time=0.12  loss=58197.16 active=216   feature_norm=43.12\n",
      "Iter 67  time=0.12  loss=58184.01 active=216   feature_norm=43.40\n",
      "Iter 68  time=0.12  loss=58133.44 active=216   feature_norm=43.61\n",
      "Iter 69  time=0.12  loss=58126.31 active=216   feature_norm=43.96\n",
      "Iter 70  time=0.12  loss=58068.55 active=215   feature_norm=44.12\n",
      "Iter 71  time=0.12  loss=58058.84 active=216   feature_norm=44.29\n",
      "Iter 72  time=0.13  loss=58002.25 active=215   feature_norm=44.39\n",
      "Iter 73  time=0.13  loss=57989.51 active=216   feature_norm=44.53\n",
      "Iter 74  time=0.12  loss=57939.27 active=215   feature_norm=44.61\n",
      "Iter 75  time=0.12  loss=57928.78 active=216   feature_norm=44.74\n",
      "Iter 76  time=0.12  loss=57869.09 active=216   feature_norm=44.84\n",
      "Iter 77  time=0.12  loss=57863.87 active=216   feature_norm=45.02\n",
      "Iter 78  time=0.12  loss=57796.38 active=216   feature_norm=45.09\n",
      "Iter 79  time=0.24  loss=57764.22 active=216   feature_norm=45.19\n",
      "Iter 80  time=0.24  loss=57755.43 active=214   feature_norm=45.29\n",
      "Iter 81  time=0.24  loss=57724.03 active=216   feature_norm=45.39\n",
      "Iter 82  time=0.24  loss=57711.18 active=214   feature_norm=45.48\n",
      "Iter 83  time=0.24  loss=57681.95 active=215   feature_norm=45.65\n",
      "Iter 84  time=0.24  loss=57668.33 active=216   feature_norm=45.73\n",
      "Iter 85  time=0.12  loss=57654.24 active=215   feature_norm=45.89\n",
      "Iter 86  time=0.12  loss=57617.15 active=216   feature_norm=45.99\n",
      "Iter 87  time=0.12  loss=57604.92 active=216   feature_norm=46.09\n",
      "Iter 88  time=0.12  loss=57594.04 active=216   feature_norm=46.19\n",
      "Iter 89  time=0.12  loss=57583.91 active=216   feature_norm=46.29\n",
      "Iter 90  time=0.12  loss=57574.98 active=216   feature_norm=46.36\n",
      "Iter 91  time=0.12  loss=57566.59 active=216   feature_norm=46.48\n",
      "Iter 92  time=0.12  loss=57552.58 active=216   feature_norm=46.56\n",
      "Iter 93  time=0.12  loss=57551.54 active=216   feature_norm=46.64\n",
      "Iter 94  time=0.12  loss=57539.75 active=216   feature_norm=46.73\n",
      "Iter 95  time=0.12  loss=57537.90 active=216   feature_norm=46.78\n",
      "Iter 96  time=0.12  loss=57529.00 active=216   feature_norm=46.85\n",
      "Iter 97  time=0.12  loss=57528.02 active=216   feature_norm=46.88\n",
      "Iter 98  time=0.12  loss=57520.26 active=215   feature_norm=46.93\n",
      "Iter 99  time=0.24  loss=57517.02 active=215   feature_norm=46.95\n",
      "Iter 100 time=0.12  loss=57516.24 active=215   feature_norm=46.97\n",
      "L-BFGS terminated with the maximum number of iterations\n",
      "Total seconds required for training: 15.053\n",
      "\n",
      "Storing the model\n",
      "Number of active features: 215 (216)\n",
      "Number of active attributes: 6 (6)\n",
      "Number of active labels: 12 (12)\n",
      "Writing labels\n",
      "Writing attributes\n",
      "Writing feature references for transitions\n",
      "Writing feature references for attributes\n",
      "Seconds required: 0.000\n",
      "\n"
     ]
    },
    {
     "name": "stderr",
     "output_type": "stream",
     "text": [
      "/mnt/home/peluz/victor-visual-text/fastai2/lib/python3.8/site-packages/sklearn/base.py:209: FutureWarning: From version 0.24, get_params will raise an AttributeError if a parameter cannot be retrieved as an instance attribute. Previously it would return None.\n",
      "  warnings.warn('From version 0.24, get_params will raise an '\n"
     ]
    },
    {
     "data": {
      "text/plain": [
       "CRF(algorithm='lbfgs', all_possible_states=True, all_possible_transitions=True,\n",
       "    c1=0.1, c2=0.1, keep_tempfiles=None, max_iterations=100, verbose=True)"
      ]
     },
     "execution_count": 523,
     "metadata": {},
     "output_type": "execute_result"
    }
   ],
   "source": [
    "crf = sklearn_crfsuite.CRF(\n",
    "    verbose=True,\n",
    "    algorithm='lbfgs',\n",
    "    c1=0.1,\n",
    "    c2=0.1,\n",
    "    max_iterations=100,\n",
    "    all_possible_transitions=True,\n",
    "    all_possible_states=True\n",
    ")\n",
    "crf.fit(X_train, y_train)"
   ]
  },
  {
   "cell_type": "code",
   "execution_count": 524,
   "metadata": {},
   "outputs": [
    {
     "data": {
      "text/plain": [
       "['B-outros',\n",
       " 'I-outros',\n",
       " 'B-sentenca',\n",
       " 'I-sentenca',\n",
       " 'B-peticao_do_RE',\n",
       " 'I-peticao_do_RE',\n",
       " 'B-despacho_de_admissibilidade',\n",
       " 'B-acordao_de_2_instancia',\n",
       " 'B-agravo_em_recurso_extraordinario',\n",
       " 'I-agravo_em_recurso_extraordinario',\n",
       " 'I-acordao_de_2_instancia',\n",
       " 'I-despacho_de_admissibilidade']"
      ]
     },
     "execution_count": 524,
     "metadata": {},
     "output_type": "execute_result"
    }
   ],
   "source": [
    "labels = crf.classes_; labels"
   ]
  },
  {
   "cell_type": "code",
   "execution_count": 525,
   "metadata": {},
   "outputs": [
    {
     "name": "stderr",
     "output_type": "stream",
     "text": [
      "/mnt/home/peluz/victor-visual-text/fastai2/lib/python3.8/site-packages/sklearn/utils/validation.py:67: FutureWarning: Pass labels=['B-acordao_de_2_instancia', 'I-acordao_de_2_instancia', 'B-agravo_em_recurso_extraordinario', 'I-agravo_em_recurso_extraordinario', 'B-despacho_de_admissibilidade', 'I-despacho_de_admissibilidade', 'B-outros', 'I-outros', 'B-peticao_do_RE', 'I-peticao_do_RE', 'B-sentenca', 'I-sentenca'] as keyword args. From version 0.25 passing these as positional arguments will result in an error\n",
      "  warnings.warn(\"Pass {} as keyword args. From version 0.25 \"\n"
     ]
    },
    {
     "name": "stdout",
     "output_type": "stream",
     "text": [
      "                                    precision    recall  f1-score   support\n",
      "\n",
      "          B-acordao_de_2_instancia     0.9514    0.8844    0.9167       199\n",
      "          I-acordao_de_2_instancia     0.9825    0.7568    0.8550        74\n",
      "B-agravo_em_recurso_extraordinario     0.5455    0.3662    0.4382       213\n",
      "I-agravo_em_recurso_extraordinario     0.7402    0.5092    0.6033      1628\n",
      "     B-despacho_de_admissibilidade     0.7455    0.5578    0.6381       147\n",
      "     I-despacho_de_admissibilidade     0.3333    0.1569    0.2133        51\n",
      "                          B-outros     0.7914    0.2128    0.3354     25744\n",
      "                          I-outros     0.7105    0.9670    0.8191     59664\n",
      "                   B-peticao_do_RE     0.8258    0.4712    0.6000       312\n",
      "                   I-peticao_do_RE     0.9140    0.6782    0.7786      6019\n",
      "                        B-sentenca     0.8990    0.6717    0.7689       265\n",
      "                        I-sentenca     0.9663    0.7347    0.8347      1210\n",
      "\n",
      "                          accuracy                         0.7296     95526\n",
      "                         macro avg     0.7838    0.5806    0.6501     95526\n",
      "                      weighted avg     0.7500    0.7296    0.6807     95526\n",
      "\n"
     ]
    }
   ],
   "source": [
    "# group B and I results\n",
    "sorted_labels = sorted(\n",
    "    labels,\n",
    "    key=lambda name: (name[1:], name[0])\n",
    ")\n",
    "y_pred = crf.predict(X_test)\n",
    "print(metrics.flat_classification_report(\n",
    "    y_test, y_pred, labels=sorted_labels, digits=4\n",
    "))"
   ]
  },
  {
   "cell_type": "code",
   "execution_count": 526,
   "metadata": {},
   "outputs": [
    {
     "data": {
      "text/plain": [
       "(4636,)"
      ]
     },
     "execution_count": 526,
     "metadata": {},
     "output_type": "execute_result"
    }
   ],
   "source": [
    "valid_fold = np.array([-1]*len(X_train) + [0]*len(X_valid));  valid_fold.shape"
   ]
  },
  {
   "cell_type": "code",
   "execution_count": 527,
   "metadata": {},
   "outputs": [
    {
     "name": "stderr",
     "output_type": "stream",
     "text": [
      "<__array_function__ internals>:5: VisibleDeprecationWarning: Creating an ndarray from ragged nested sequences (which is a list-or-tuple of lists-or-tuples-or ndarrays with different lengths or shapes) is deprecated. If you meant to do this, you must specify 'dtype=object' when creating the ndarray\n"
     ]
    },
    {
     "data": {
      "text/plain": [
       "(4636,)"
      ]
     },
     "execution_count": 527,
     "metadata": {},
     "output_type": "execute_result"
    }
   ],
   "source": [
    "X_train_val = np.concatenate([X_train, X_valid]); X_train_val.shape"
   ]
  },
  {
   "cell_type": "code",
   "execution_count": 528,
   "metadata": {},
   "outputs": [
    {
     "data": {
      "text/plain": [
       "(4636,)"
      ]
     },
     "execution_count": 528,
     "metadata": {},
     "output_type": "execute_result"
    }
   ],
   "source": [
    "y_train_val = np.concatenate([y_train, y_valid]); y_train_val.shape"
   ]
  },
  {
   "cell_type": "code",
   "execution_count": 531,
   "metadata": {},
   "outputs": [
    {
     "name": "stdout",
     "output_type": "stream",
     "text": [
      "Fitting 1 folds for each of 150 candidates, totalling 150 fits\n"
     ]
    },
    {
     "name": "stderr",
     "output_type": "stream",
     "text": [
      "/mnt/home/peluz/victor-visual-text/fastai2/lib/python3.8/site-packages/sklearn/base.py:209: FutureWarning: From version 0.24, get_params will raise an AttributeError if a parameter cannot be retrieved as an instance attribute. Previously it would return None.\n",
      "  warnings.warn('From version 0.24, get_params will raise an '\n",
      "[Parallel(n_jobs=20)]: Using backend LokyBackend with 20 concurrent workers.\n",
      "[Parallel(n_jobs=20)]: Done  10 tasks      | elapsed:   29.2s\n",
      "[Parallel(n_jobs=20)]: Done 150 out of 150 | elapsed:  2.8min finished\n",
      "/mnt/home/peluz/victor-visual-text/fastai2/lib/python3.8/site-packages/sklearn/base.py:209: FutureWarning: From version 0.24, get_params will raise an AttributeError if a parameter cannot be retrieved as an instance attribute. Previously it would return None.\n",
      "  warnings.warn('From version 0.24, get_params will raise an '\n",
      "/mnt/home/peluz/victor-visual-text/fastai2/lib/python3.8/site-packages/sklearn/base.py:209: FutureWarning: From version 0.24, get_params will raise an AttributeError if a parameter cannot be retrieved as an instance attribute. Previously it would return None.\n",
      "  warnings.warn('From version 0.24, get_params will raise an '\n",
      "/mnt/home/peluz/victor-visual-text/fastai2/lib/python3.8/site-packages/sklearn/base.py:209: FutureWarning: From version 0.24, get_params will raise an AttributeError if a parameter cannot be retrieved as an instance attribute. Previously it would return None.\n",
      "  warnings.warn('From version 0.24, get_params will raise an '\n",
      "/mnt/home/peluz/victor-visual-text/fastai2/lib/python3.8/site-packages/sklearn/base.py:209: FutureWarning: From version 0.24, get_params will raise an AttributeError if a parameter cannot be retrieved as an instance attribute. Previously it would return None.\n",
      "  warnings.warn('From version 0.24, get_params will raise an '\n"
     ]
    },
    {
     "data": {
      "text/plain": [
       "RandomizedSearchCV(cv=PredefinedSplit(test_fold=array([-1, -1, ...,  0,  0])),\n",
       "                   estimator=CRF(algorithm='lbfgs', all_possible_states=True,\n",
       "                                 all_possible_transitions=True,\n",
       "                                 keep_tempfiles=None, max_iterations=100),\n",
       "                   n_iter=150, n_jobs=20,\n",
       "                   param_distributions={'c1': <scipy.stats._distn_infrastructure.rv_frozen object at 0x7f3970c75b50>,\n",
       "                                        'c2': <scipy.stats._distn_infrastruct...\n",
       "                   random_state=42,\n",
       "                   scoring=make_scorer(flat_f1_score, average=macro, labels=['B-outros', 'I-outros', 'B-sentenca', 'I-sentenca', 'B-peticao_do_RE', 'I-peticao_do_RE', 'B-despacho_de_admissibilidade', 'B-acordao_de_2_instancia', 'B-agravo_em_recurso_extraordinario', 'I-agravo_em_recurso_extraordinario', 'I-acordao_de_2_instancia', 'I-despacho_de_admissibilidade']),\n",
       "                   verbose=1)"
      ]
     },
     "execution_count": 531,
     "metadata": {},
     "output_type": "execute_result"
    }
   ],
   "source": [
    "import scipy\n",
    "from sklearn.metrics import make_scorer\n",
    "from sklearn.model_selection import cross_val_score, RandomizedSearchCV, PredefinedSplit\n",
    "\n",
    "\n",
    "# define fixed parameters and parameters to search\n",
    "crf = sklearn_crfsuite.CRF(\n",
    "    algorithm='lbfgs',\n",
    "    max_iterations=100,\n",
    "    all_possible_transitions=True,\n",
    "    all_possible_states=True\n",
    ")\n",
    "params_space = {\n",
    "    'c1': scipy.stats.expon(scale=0.5),\n",
    "    'c2': scipy.stats.expon(scale=0.05),\n",
    "}\n",
    "ps = PredefinedSplit(valid_fold)\n",
    "\n",
    "# use the same metric for evaluation\n",
    "f1_scorer = make_scorer(metrics.flat_f1_score,\n",
    "                        average='macro', labels=labels)\n",
    "\n",
    "# search\n",
    "rs = RandomizedSearchCV(crf, params_space,\n",
    "                        cv=ps,\n",
    "                        verbose=1,\n",
    "                        n_jobs=20,\n",
    "                        n_iter=150,\n",
    "                        scoring=f1_scorer,\n",
    "                        random_state=42)\n",
    "rs.fit(X_train_val, y_train_val)"
   ]
  },
  {
   "cell_type": "code",
   "execution_count": 532,
   "metadata": {},
   "outputs": [
    {
     "name": "stdout",
     "output_type": "stream",
     "text": [
      "best params: {'c1': 0.048863070237470364, 'c2': 0.11375616125972615}\n",
      "best CV score: 0.6803931788418751\n",
      "model size: 0.01M\n"
     ]
    }
   ],
   "source": [
    "print('best params:', rs.best_params_)\n",
    "print('best CV score:', rs.best_score_)\n",
    "print('model size: {:0.2f}M'.format(rs.best_estimator_.size_ / 1000000)) "
   ]
  },
  {
   "cell_type": "code",
   "execution_count": 533,
   "metadata": {},
   "outputs": [
    {
     "name": "stderr",
     "output_type": "stream",
     "text": [
      "loading training data to CRFsuite: 100%|██████████| 2743/2743 [00:00<00:00, 4754.34it/s]\n"
     ]
    },
    {
     "name": "stdout",
     "output_type": "stream",
     "text": [
      "\n",
      "Feature generation\n",
      "type: CRF1d\n",
      "feature.minfreq: 0.000000\n",
      "feature.possible_states: 1\n",
      "feature.possible_transitions: 1\n",
      "0....1....2....3....4....5....6....7....8....9....10\n",
      "Number of features: 216\n",
      "Seconds required: 0.301\n",
      "\n",
      "L-BFGS optimization\n",
      "c1: 0.048863\n",
      "c2: 0.113756\n",
      "num_memories: 6\n",
      "max_iterations: 1000\n",
      "epsilon: 0.000010\n",
      "stop: 10\n",
      "delta: 0.000010\n",
      "linesearch: MoreThuente\n",
      "linesearch.max_iterations: 20\n",
      "\n",
      "Iter 1   time=0.24  loss=252834.12 active=216   feature_norm=1.00\n",
      "Iter 2   time=0.36  loss=179107.32 active=215   feature_norm=3.27\n",
      "Iter 3   time=0.12  loss=132032.40 active=210   feature_norm=2.97\n",
      "Iter 4   time=0.24  loss=119825.32 active=212   feature_norm=3.23\n",
      "Iter 5   time=0.12  loss=111946.56 active=214   feature_norm=3.43\n",
      "Iter 6   time=0.12  loss=106540.56 active=213   feature_norm=3.90\n",
      "Iter 7   time=0.12  loss=100474.01 active=207   feature_norm=4.63\n",
      "Iter 8   time=0.12  loss=88957.06 active=215   feature_norm=5.01\n",
      "Iter 9   time=0.12  loss=87916.54 active=215   feature_norm=5.27\n",
      "Iter 10  time=0.12  loss=86690.14 active=216   feature_norm=5.47\n",
      "Iter 11  time=0.12  loss=86189.90 active=215   feature_norm=5.51\n",
      "Iter 12  time=0.12  loss=84813.13 active=213   feature_norm=5.66\n",
      "Iter 13  time=0.12  loss=83665.30 active=215   feature_norm=6.31\n",
      "Iter 14  time=0.12  loss=78961.84 active=215   feature_norm=6.79\n",
      "Iter 15  time=0.12  loss=75399.26 active=211   feature_norm=7.50\n",
      "Iter 16  time=0.23  loss=71440.66 active=213   feature_norm=8.89\n",
      "Iter 17  time=0.12  loss=70386.75 active=215   feature_norm=9.46\n",
      "Iter 18  time=0.12  loss=69760.27 active=215   feature_norm=9.45\n",
      "Iter 19  time=0.12  loss=69463.77 active=215   feature_norm=9.63\n",
      "Iter 20  time=0.12  loss=69117.31 active=216   feature_norm=9.89\n",
      "Iter 21  time=0.12  loss=68491.62 active=214   feature_norm=10.37\n",
      "Iter 22  time=0.12  loss=67650.33 active=214   feature_norm=11.06\n",
      "Iter 23  time=0.12  loss=66792.09 active=213   feature_norm=12.10\n",
      "Iter 24  time=0.12  loss=65600.30 active=215   feature_norm=14.71\n",
      "Iter 25  time=0.12  loss=64135.57 active=210   feature_norm=18.31\n",
      "Iter 26  time=0.12  loss=63553.38 active=209   feature_norm=21.26\n",
      "Iter 27  time=0.12  loss=63157.29 active=216   feature_norm=22.16\n",
      "Iter 28  time=0.12  loss=62604.63 active=215   feature_norm=24.35\n",
      "Iter 29  time=0.12  loss=61188.29 active=209   feature_norm=31.49\n",
      "Iter 30  time=0.47  loss=61066.75 active=213   feature_norm=31.53\n",
      "Iter 31  time=0.12  loss=60637.62 active=214   feature_norm=31.28\n",
      "Iter 32  time=0.24  loss=60559.77 active=213   feature_norm=31.26\n",
      "Iter 33  time=0.23  loss=60344.43 active=213   feature_norm=31.16\n",
      "Iter 34  time=0.24  loss=60215.90 active=215   feature_norm=31.23\n",
      "Iter 35  time=0.24  loss=60025.50 active=216   feature_norm=31.46\n",
      "Iter 36  time=0.24  loss=59831.13 active=215   feature_norm=31.63\n",
      "Iter 37  time=0.24  loss=59755.60 active=214   feature_norm=31.78\n",
      "Iter 38  time=0.24  loss=59607.65 active=215   feature_norm=31.95\n",
      "Iter 39  time=0.23  loss=59546.00 active=215   feature_norm=32.19\n",
      "Iter 40  time=0.12  loss=59539.24 active=214   feature_norm=32.65\n",
      "Iter 41  time=0.12  loss=59338.50 active=215   feature_norm=33.00\n",
      "Iter 42  time=0.12  loss=59267.84 active=216   feature_norm=33.28\n",
      "Iter 43  time=0.12  loss=59231.72 active=216   feature_norm=33.57\n",
      "Iter 44  time=0.12  loss=59173.22 active=215   feature_norm=33.85\n",
      "Iter 45  time=0.12  loss=59132.95 active=216   feature_norm=34.13\n",
      "Iter 46  time=0.12  loss=59085.42 active=216   feature_norm=34.45\n",
      "Iter 47  time=0.12  loss=59060.02 active=215   feature_norm=34.86\n",
      "Iter 48  time=0.12  loss=58991.42 active=216   feature_norm=35.19\n",
      "Iter 49  time=0.12  loss=58953.77 active=216   feature_norm=35.69\n",
      "Iter 50  time=0.12  loss=58865.92 active=215   feature_norm=35.96\n",
      "Iter 51  time=0.12  loss=58817.15 active=216   feature_norm=36.19\n",
      "Iter 52  time=0.12  loss=58751.57 active=216   feature_norm=36.52\n",
      "Iter 53  time=0.12  loss=58716.62 active=214   feature_norm=36.83\n",
      "Iter 54  time=0.12  loss=58628.56 active=216   feature_norm=37.14\n",
      "Iter 55  time=0.12  loss=58618.49 active=216   feature_norm=37.58\n",
      "Iter 56  time=0.12  loss=58522.06 active=216   feature_norm=37.81\n",
      "Iter 57  time=0.24  loss=58483.02 active=216   feature_norm=38.05\n",
      "Iter 58  time=0.24  loss=58454.98 active=216   feature_norm=38.30\n",
      "Iter 59  time=0.24  loss=58422.54 active=216   feature_norm=38.63\n",
      "Iter 60  time=0.24  loss=58375.89 active=216   feature_norm=39.05\n",
      "Iter 61  time=0.23  loss=58336.76 active=216   feature_norm=39.49\n",
      "Iter 62  time=0.23  loss=58295.62 active=216   feature_norm=40.01\n",
      "Iter 63  time=0.23  loss=58256.71 active=216   feature_norm=40.52\n",
      "Iter 64  time=0.23  loss=58222.27 active=215   feature_norm=40.94\n",
      "Iter 65  time=0.23  loss=58186.80 active=216   feature_norm=41.25\n",
      "Iter 66  time=0.24  loss=58156.17 active=216   feature_norm=41.61\n",
      "Iter 67  time=0.24  loss=58119.74 active=216   feature_norm=41.91\n",
      "Iter 68  time=0.24  loss=58091.37 active=216   feature_norm=42.21\n",
      "Iter 69  time=0.23  loss=58053.58 active=215   feature_norm=42.48\n",
      "Iter 70  time=0.23  loss=58017.07 active=215   feature_norm=42.79\n",
      "Iter 71  time=0.24  loss=57987.20 active=216   feature_norm=43.07\n",
      "Iter 72  time=0.24  loss=57950.21 active=215   feature_norm=43.30\n",
      "Iter 73  time=0.24  loss=57922.70 active=216   feature_norm=43.47\n",
      "Iter 74  time=0.24  loss=57885.14 active=216   feature_norm=43.64\n",
      "Iter 75  time=0.24  loss=57862.35 active=216   feature_norm=43.83\n",
      "Iter 76  time=0.24  loss=57823.52 active=215   feature_norm=44.08\n",
      "Iter 77  time=0.24  loss=57805.19 active=215   feature_norm=44.24\n",
      "Iter 78  time=0.12  loss=57783.29 active=212   feature_norm=44.39\n",
      "Iter 79  time=0.12  loss=57739.52 active=215   feature_norm=44.48\n",
      "Iter 80  time=0.12  loss=57731.78 active=215   feature_norm=44.59\n",
      "Iter 81  time=0.12  loss=57716.19 active=216   feature_norm=44.65\n",
      "Iter 82  time=0.12  loss=57706.04 active=216   feature_norm=44.66\n",
      "Iter 83  time=0.12  loss=57696.37 active=216   feature_norm=44.69\n",
      "Iter 84  time=0.12  loss=57684.38 active=216   feature_norm=44.78\n",
      "Iter 85  time=0.12  loss=57661.16 active=216   feature_norm=44.85\n",
      "Iter 86  time=0.12  loss=57643.75 active=215   feature_norm=44.89\n",
      "Iter 87  time=0.12  loss=57631.32 active=215   feature_norm=44.97\n",
      "Iter 88  time=0.12  loss=57612.18 active=216   feature_norm=45.01\n",
      "Iter 89  time=0.12  loss=57601.94 active=216   feature_norm=45.07\n",
      "Iter 90  time=0.12  loss=57590.67 active=216   feature_norm=45.06\n",
      "Iter 91  time=0.12  loss=57583.60 active=216   feature_norm=45.10\n",
      "Iter 92  time=0.12  loss=57568.50 active=215   feature_norm=45.13\n",
      "Iter 93  time=0.12  loss=57563.05 active=216   feature_norm=45.11\n",
      "Iter 94  time=0.12  loss=57550.53 active=216   feature_norm=45.15\n",
      "Iter 95  time=0.12  loss=57543.80 active=215   feature_norm=45.18\n",
      "Iter 96  time=0.12  loss=57536.70 active=216   feature_norm=45.18\n",
      "Iter 97  time=0.12  loss=57530.81 active=216   feature_norm=45.24\n",
      "Iter 98  time=0.12  loss=57523.47 active=216   feature_norm=45.25\n",
      "Iter 99  time=0.12  loss=57519.56 active=216   feature_norm=45.30\n",
      "Iter 100 time=0.12  loss=57512.02 active=216   feature_norm=45.33\n",
      "Iter 101 time=0.12  loss=57510.54 active=215   feature_norm=45.35\n",
      "Iter 102 time=0.12  loss=57503.47 active=216   feature_norm=45.37\n",
      "Iter 103 time=0.12  loss=57500.70 active=216   feature_norm=45.32\n",
      "Iter 104 time=0.12  loss=57494.22 active=216   feature_norm=45.33\n",
      "Iter 105 time=0.12  loss=57492.92 active=216   feature_norm=45.30\n",
      "Iter 106 time=0.12  loss=57483.51 active=215   feature_norm=45.29\n",
      "Iter 107 time=0.12  loss=57480.16 active=216   feature_norm=45.25\n",
      "Iter 108 time=0.12  loss=57469.87 active=216   feature_norm=45.12\n",
      "Iter 109 time=0.12  loss=57467.22 active=215   feature_norm=45.03\n",
      "Iter 110 time=0.12  loss=57452.70 active=215   feature_norm=44.86\n",
      "Iter 111 time=0.12  loss=57449.77 active=215   feature_norm=44.75\n",
      "Iter 112 time=0.12  loss=57435.15 active=215   feature_norm=44.57\n",
      "Iter 113 time=0.12  loss=57434.12 active=215   feature_norm=44.45\n",
      "Iter 114 time=0.12  loss=57420.15 active=215   feature_norm=44.30\n",
      "Iter 115 time=0.12  loss=57417.16 active=215   feature_norm=44.09\n",
      "Iter 116 time=0.12  loss=57407.98 active=216   feature_norm=43.96\n",
      "Iter 117 time=0.12  loss=57403.87 active=216   feature_norm=43.78\n",
      "Iter 118 time=0.12  loss=57391.94 active=216   feature_norm=43.68\n",
      "Iter 119 time=0.24  loss=57387.09 active=215   feature_norm=43.62\n",
      "Iter 120 time=0.12  loss=57386.85 active=215   feature_norm=43.57\n",
      "Iter 121 time=0.12  loss=57374.70 active=215   feature_norm=43.57\n",
      "Iter 122 time=0.12  loss=57371.22 active=214   feature_norm=43.58\n",
      "Iter 123 time=0.12  loss=57365.55 active=214   feature_norm=43.60\n",
      "Iter 124 time=0.12  loss=57360.99 active=215   feature_norm=43.66\n",
      "Iter 125 time=0.12  loss=57353.49 active=216   feature_norm=43.68\n",
      "Iter 126 time=0.12  loss=57350.73 active=216   feature_norm=43.71\n",
      "Iter 127 time=0.12  loss=57343.17 active=216   feature_norm=43.79\n",
      "Iter 128 time=0.12  loss=57340.25 active=215   feature_norm=43.78\n",
      "Iter 129 time=0.12  loss=57335.48 active=216   feature_norm=43.84\n",
      "Iter 130 time=0.12  loss=57332.69 active=216   feature_norm=43.80\n",
      "Iter 131 time=0.12  loss=57328.08 active=215   feature_norm=43.77\n",
      "Iter 132 time=0.12  loss=57325.36 active=216   feature_norm=43.70\n",
      "Iter 133 time=0.12  loss=57320.71 active=216   feature_norm=43.66\n",
      "Iter 134 time=0.12  loss=57317.26 active=216   feature_norm=43.57\n",
      "Iter 135 time=0.12  loss=57311.03 active=215   feature_norm=43.50\n",
      "Iter 136 time=0.12  loss=57307.90 active=216   feature_norm=43.39\n",
      "Iter 137 time=0.12  loss=57301.08 active=215   feature_norm=43.33\n",
      "Iter 138 time=0.12  loss=57296.52 active=216   feature_norm=43.24\n",
      "Iter 139 time=0.12  loss=57292.68 active=216   feature_norm=43.20\n",
      "Iter 140 time=0.12  loss=57286.28 active=216   feature_norm=43.14\n",
      "Iter 141 time=0.12  loss=57283.18 active=215   feature_norm=43.04\n",
      "Iter 142 time=0.12  loss=57276.83 active=215   feature_norm=42.98\n",
      "Iter 143 time=0.12  loss=57273.20 active=213   feature_norm=42.85\n",
      "Iter 144 time=0.12  loss=57266.86 active=213   feature_norm=42.78\n",
      "Iter 145 time=0.12  loss=57263.79 active=213   feature_norm=42.68\n",
      "Iter 146 time=0.12  loss=57257.77 active=213   feature_norm=42.64\n",
      "Iter 147 time=0.12  loss=57253.64 active=213   feature_norm=42.57\n",
      "Iter 148 time=0.12  loss=57250.60 active=212   feature_norm=42.51\n",
      "Iter 149 time=0.12  loss=57246.78 active=213   feature_norm=42.46\n",
      "Iter 150 time=0.12  loss=57244.61 active=213   feature_norm=42.38\n",
      "Iter 151 time=0.12  loss=57241.12 active=213   feature_norm=42.26\n",
      "Iter 152 time=0.12  loss=57238.92 active=213   feature_norm=42.13\n",
      "Iter 153 time=0.12  loss=57235.22 active=210   feature_norm=42.03\n",
      "Iter 154 time=0.12  loss=57231.93 active=210   feature_norm=41.92\n",
      "Iter 155 time=0.12  loss=57227.55 active=210   feature_norm=41.87\n",
      "Iter 156 time=0.12  loss=57224.06 active=210   feature_norm=41.76\n",
      "Iter 157 time=0.12  loss=57220.39 active=210   feature_norm=41.74\n",
      "Iter 158 time=0.12  loss=57217.23 active=210   feature_norm=41.69\n",
      "Iter 159 time=0.12  loss=57214.62 active=210   feature_norm=41.66\n",
      "Iter 160 time=0.12  loss=57212.61 active=210   feature_norm=41.62\n",
      "Iter 161 time=0.12  loss=57210.91 active=210   feature_norm=41.59\n",
      "Iter 162 time=0.12  loss=57207.98 active=210   feature_norm=41.56\n",
      "Iter 163 time=0.12  loss=57206.62 active=209   feature_norm=41.53\n",
      "Iter 164 time=0.12  loss=57203.31 active=209   feature_norm=41.52\n",
      "Iter 165 time=0.12  loss=57200.76 active=209   feature_norm=41.51\n",
      "Iter 166 time=0.12  loss=57197.63 active=209   feature_norm=41.51\n",
      "Iter 167 time=0.12  loss=57196.40 active=210   feature_norm=41.52\n",
      "Iter 168 time=0.12  loss=57192.31 active=210   feature_norm=41.52\n",
      "Iter 169 time=0.12  loss=57191.70 active=210   feature_norm=41.54\n",
      "Iter 170 time=0.12  loss=57187.43 active=211   feature_norm=41.55\n",
      "Iter 171 time=0.12  loss=57187.30 active=211   feature_norm=41.56\n",
      "Iter 172 time=0.12  loss=57183.31 active=211   feature_norm=41.57\n",
      "Iter 173 time=0.24  loss=57181.78 active=211   feature_norm=41.58\n",
      "Iter 174 time=0.24  loss=57180.95 active=211   feature_norm=41.59\n",
      "Iter 175 time=0.24  loss=57179.74 active=211   feature_norm=41.60\n",
      "Iter 176 time=0.23  loss=57178.36 active=211   feature_norm=41.61\n",
      "Iter 177 time=0.24  loss=57177.60 active=211   feature_norm=41.62\n",
      "Iter 178 time=0.24  loss=57175.64 active=211   feature_norm=41.63\n",
      "Iter 179 time=0.24  loss=57174.58 active=211   feature_norm=41.64\n",
      "Iter 180 time=0.24  loss=57172.88 active=211   feature_norm=41.65\n",
      "Iter 181 time=0.24  loss=57171.80 active=211   feature_norm=41.66\n",
      "Iter 182 time=0.24  loss=57170.57 active=211   feature_norm=41.67\n",
      "Iter 183 time=0.24  loss=57169.31 active=211   feature_norm=41.68\n",
      "Iter 184 time=0.24  loss=57168.71 active=211   feature_norm=41.69\n",
      "Iter 185 time=0.24  loss=57167.52 active=211   feature_norm=41.70\n",
      "Iter 186 time=0.24  loss=57166.83 active=211   feature_norm=41.70\n",
      "Iter 187 time=0.12  loss=57165.54 active=211   feature_norm=41.73\n",
      "Iter 188 time=0.12  loss=57164.65 active=211   feature_norm=41.75\n",
      "Iter 189 time=0.12  loss=57162.91 active=211   feature_norm=41.77\n",
      "Iter 190 time=0.12  loss=57161.04 active=211   feature_norm=41.79\n",
      "Iter 191 time=0.12  loss=57160.00 active=211   feature_norm=41.81\n",
      "Iter 192 time=0.12  loss=57158.73 active=211   feature_norm=41.82\n",
      "Iter 193 time=0.12  loss=57157.80 active=211   feature_norm=41.84\n",
      "Iter 194 time=0.12  loss=57157.09 active=211   feature_norm=41.85\n",
      "Iter 195 time=0.12  loss=57156.96 active=212   feature_norm=41.86\n",
      "Iter 196 time=0.12  loss=57155.72 active=212   feature_norm=41.87\n",
      "Iter 197 time=0.12  loss=57155.31 active=212   feature_norm=41.89\n",
      "Iter 198 time=0.12  loss=57154.09 active=212   feature_norm=41.91\n",
      "Iter 199 time=0.24  loss=57153.31 active=213   feature_norm=41.92\n",
      "Iter 200 time=0.12  loss=57151.91 active=213   feature_norm=41.93\n",
      "Iter 201 time=0.24  loss=57150.34 active=213   feature_norm=41.93\n",
      "Iter 202 time=0.24  loss=57149.36 active=212   feature_norm=41.95\n",
      "Iter 203 time=0.24  loss=57148.43 active=212   feature_norm=41.96\n",
      "Iter 204 time=0.24  loss=57147.51 active=212   feature_norm=41.97\n",
      "Iter 205 time=0.24  loss=57146.68 active=212   feature_norm=41.98\n",
      "Iter 206 time=0.24  loss=57145.92 active=212   feature_norm=42.00\n",
      "Iter 207 time=0.24  loss=57145.09 active=212   feature_norm=42.01\n",
      "Iter 208 time=0.25  loss=57144.49 active=212   feature_norm=42.01\n",
      "Iter 209 time=0.13  loss=57144.07 active=212   feature_norm=42.02\n",
      "Iter 210 time=0.12  loss=57142.51 active=212   feature_norm=42.05\n",
      "Iter 211 time=0.12  loss=57141.89 active=212   feature_norm=42.05\n",
      "Iter 212 time=0.12  loss=57141.14 active=212   feature_norm=42.07\n",
      "Iter 213 time=0.12  loss=57140.31 active=212   feature_norm=42.09\n",
      "Iter 214 time=0.12  loss=57139.92 active=212   feature_norm=42.11\n",
      "Iter 215 time=0.12  loss=57138.81 active=212   feature_norm=42.13\n",
      "Iter 216 time=0.12  loss=57138.15 active=212   feature_norm=42.13\n",
      "Iter 217 time=0.12  loss=57137.37 active=212   feature_norm=42.14\n",
      "Iter 218 time=0.12  loss=57136.40 active=212   feature_norm=42.13\n",
      "Iter 219 time=0.12  loss=57135.12 active=212   feature_norm=42.15\n",
      "Iter 220 time=0.12  loss=57134.98 active=212   feature_norm=42.16\n",
      "Iter 221 time=0.12  loss=57132.98 active=212   feature_norm=42.15\n",
      "Iter 222 time=0.12  loss=57132.05 active=211   feature_norm=42.17\n",
      "Iter 223 time=0.12  loss=57130.95 active=211   feature_norm=42.14\n",
      "Iter 224 time=0.12  loss=57130.25 active=212   feature_norm=42.15\n",
      "Iter 225 time=0.12  loss=57129.56 active=212   feature_norm=42.13\n",
      "Iter 226 time=0.12  loss=57128.05 active=212   feature_norm=42.14\n",
      "Iter 227 time=0.12  loss=57127.75 active=212   feature_norm=42.12\n",
      "Iter 228 time=0.12  loss=57126.24 active=212   feature_norm=42.10\n",
      "Iter 229 time=0.12  loss=57125.91 active=212   feature_norm=42.09\n",
      "Iter 230 time=0.12  loss=57124.51 active=212   feature_norm=42.06\n",
      "Iter 231 time=0.12  loss=57124.18 active=212   feature_norm=42.05\n",
      "Iter 232 time=0.12  loss=57122.93 active=212   feature_norm=42.04\n",
      "Iter 233 time=0.12  loss=57122.54 active=212   feature_norm=42.02\n",
      "Iter 234 time=0.12  loss=57121.56 active=212   feature_norm=42.01\n",
      "Iter 235 time=0.12  loss=57120.83 active=212   feature_norm=42.00\n",
      "Iter 236 time=0.12  loss=57120.09 active=212   feature_norm=41.99\n",
      "Iter 237 time=0.12  loss=57119.58 active=212   feature_norm=41.99\n",
      "Iter 238 time=0.12  loss=57118.82 active=212   feature_norm=41.98\n",
      "Iter 239 time=0.12  loss=57118.67 active=211   feature_norm=41.98\n",
      "Iter 240 time=0.12  loss=57117.89 active=212   feature_norm=41.97\n",
      "Iter 241 time=0.12  loss=57117.69 active=212   feature_norm=41.97\n",
      "Iter 242 time=0.12  loss=57117.12 active=210   feature_norm=41.97\n",
      "Iter 243 time=0.12  loss=57116.87 active=210   feature_norm=41.97\n",
      "Iter 244 time=0.12  loss=57116.22 active=210   feature_norm=41.96\n",
      "Iter 245 time=0.12  loss=57116.02 active=210   feature_norm=41.96\n",
      "Iter 246 time=0.12  loss=57115.14 active=210   feature_norm=41.95\n",
      "Iter 247 time=0.12  loss=57115.11 active=210   feature_norm=41.96\n",
      "Iter 248 time=0.12  loss=57113.90 active=210   feature_norm=41.95\n",
      "Iter 249 time=0.12  loss=57113.75 active=210   feature_norm=41.96\n",
      "Iter 250 time=0.12  loss=57112.51 active=210   feature_norm=41.95\n",
      "Iter 251 time=0.12  loss=57112.45 active=210   feature_norm=41.96\n",
      "Iter 252 time=0.12  loss=57111.10 active=210   feature_norm=41.97\n",
      "Iter 253 time=0.12  loss=57111.03 active=209   feature_norm=41.97\n",
      "Iter 254 time=0.12  loss=57109.72 active=210   feature_norm=41.99\n",
      "Iter 255 time=0.12  loss=57109.59 active=210   feature_norm=41.99\n",
      "Iter 256 time=0.12  loss=57107.95 active=209   feature_norm=41.98\n",
      "Iter 257 time=0.24  loss=57107.47 active=209   feature_norm=41.98\n",
      "Iter 258 time=0.25  loss=57106.93 active=209   feature_norm=41.98\n",
      "Iter 259 time=0.24  loss=57106.18 active=209   feature_norm=41.97\n",
      "Iter 260 time=0.24  loss=57105.37 active=209   feature_norm=41.95\n",
      "Iter 261 time=0.24  loss=57104.61 active=208   feature_norm=41.93\n",
      "Iter 262 time=0.24  loss=57103.53 active=209   feature_norm=41.94\n",
      "Iter 263 time=0.24  loss=57103.15 active=208   feature_norm=41.92\n",
      "Iter 264 time=0.12  loss=57102.85 active=208   feature_norm=41.94\n",
      "Iter 265 time=0.12  loss=57101.68 active=209   feature_norm=41.95\n",
      "Iter 266 time=0.12  loss=57101.28 active=209   feature_norm=41.96\n",
      "Iter 267 time=0.12  loss=57100.48 active=209   feature_norm=41.97\n",
      "Iter 268 time=0.12  loss=57099.44 active=209   feature_norm=41.99\n",
      "Iter 269 time=0.82  loss=57099.35 active=209   feature_norm=41.99\n",
      "Iter 270 time=0.12  loss=57098.20 active=209   feature_norm=41.99\n",
      "Iter 271 time=0.12  loss=57097.60 active=209   feature_norm=42.01\n",
      "Iter 272 time=0.12  loss=57096.95 active=209   feature_norm=42.01\n",
      "Iter 273 time=0.24  loss=57096.59 active=209   feature_norm=42.02\n",
      "Iter 274 time=0.24  loss=57096.39 active=209   feature_norm=42.02\n",
      "Iter 275 time=0.24  loss=57096.10 active=209   feature_norm=42.02\n",
      "Iter 276 time=0.24  loss=57095.75 active=209   feature_norm=42.02\n",
      "Iter 277 time=0.36  loss=57095.43 active=209   feature_norm=42.02\n",
      "Iter 278 time=0.24  loss=57095.38 active=209   feature_norm=42.01\n",
      "Iter 279 time=0.24  loss=57094.65 active=209   feature_norm=42.01\n",
      "Iter 280 time=0.12  loss=57094.16 active=209   feature_norm=42.01\n",
      "Iter 281 time=0.12  loss=57094.00 active=209   feature_norm=41.99\n",
      "Iter 282 time=0.12  loss=57093.33 active=209   feature_norm=41.98\n",
      "Iter 283 time=0.12  loss=57093.28 active=209   feature_norm=41.96\n",
      "Iter 284 time=0.12  loss=57091.96 active=209   feature_norm=41.94\n",
      "Iter 285 time=0.12  loss=57091.31 active=208   feature_norm=41.92\n",
      "Iter 286 time=0.24  loss=57090.59 active=208   feature_norm=41.91\n",
      "Iter 287 time=0.24  loss=57090.35 active=208   feature_norm=41.90\n",
      "Iter 288 time=0.24  loss=57089.91 active=207   feature_norm=41.89\n",
      "Iter 289 time=0.24  loss=57089.79 active=207   feature_norm=41.88\n",
      "Iter 290 time=0.24  loss=57089.36 active=207   feature_norm=41.87\n",
      "Iter 291 time=0.24  loss=57089.23 active=207   feature_norm=41.84\n",
      "Iter 292 time=0.24  loss=57088.88 active=207   feature_norm=41.81\n",
      "Iter 293 time=0.24  loss=57088.19 active=208   feature_norm=41.80\n",
      "Iter 294 time=0.24  loss=57087.84 active=208   feature_norm=41.77\n",
      "Iter 295 time=0.24  loss=57087.58 active=208   feature_norm=41.76\n",
      "Iter 296 time=0.24  loss=57087.29 active=208   feature_norm=41.73\n",
      "Iter 297 time=0.24  loss=57086.96 active=208   feature_norm=41.72\n",
      "Iter 298 time=0.12  loss=57086.82 active=208   feature_norm=41.69\n",
      "Iter 299 time=0.12  loss=57086.11 active=208   feature_norm=41.67\n",
      "Iter 300 time=0.12  loss=57085.47 active=208   feature_norm=41.65\n",
      "Iter 301 time=0.12  loss=57085.00 active=207   feature_norm=41.63\n",
      "Iter 302 time=0.12  loss=57084.63 active=208   feature_norm=41.63\n",
      "Iter 303 time=0.12  loss=57084.19 active=208   feature_norm=41.61\n",
      "Iter 304 time=0.12  loss=57083.97 active=208   feature_norm=41.61\n",
      "Iter 305 time=0.12  loss=57083.85 active=208   feature_norm=41.59\n",
      "Iter 306 time=0.12  loss=57083.47 active=208   feature_norm=41.58\n",
      "Iter 307 time=0.12  loss=57083.29 active=208   feature_norm=41.58\n",
      "Iter 308 time=0.12  loss=57082.99 active=208   feature_norm=41.58\n",
      "Iter 309 time=0.24  loss=57082.72 active=208   feature_norm=41.58\n",
      "Iter 310 time=0.24  loss=57082.59 active=208   feature_norm=41.58\n",
      "Iter 311 time=0.24  loss=57082.32 active=207   feature_norm=41.58\n",
      "Iter 312 time=0.24  loss=57082.18 active=207   feature_norm=41.57\n",
      "Iter 313 time=0.24  loss=57081.77 active=207   feature_norm=41.56\n",
      "Iter 314 time=0.24  loss=57081.70 active=207   feature_norm=41.55\n",
      "Iter 315 time=0.12  loss=57081.55 active=206   feature_norm=41.53\n",
      "Iter 316 time=0.12  loss=57080.66 active=205   feature_norm=41.51\n",
      "Iter 317 time=0.12  loss=57080.20 active=204   feature_norm=41.48\n",
      "Iter 318 time=0.12  loss=57080.01 active=204   feature_norm=41.46\n",
      "Iter 319 time=0.12  loss=57079.32 active=205   feature_norm=41.43\n",
      "Iter 320 time=0.12  loss=57078.92 active=205   feature_norm=41.41\n",
      "Iter 321 time=0.12  loss=57078.73 active=205   feature_norm=41.38\n",
      "Iter 322 time=0.24  loss=57077.97 active=205   feature_norm=41.35\n",
      "Iter 323 time=0.24  loss=57077.68 active=206   feature_norm=41.34\n",
      "Iter 324 time=0.25  loss=57077.16 active=206   feature_norm=41.31\n",
      "Iter 325 time=0.25  loss=57076.74 active=206   feature_norm=41.28\n",
      "Iter 326 time=0.24  loss=57076.05 active=206   feature_norm=41.21\n",
      "Iter 327 time=0.12  loss=57075.88 active=206   feature_norm=41.15\n",
      "Iter 328 time=0.12  loss=57074.64 active=206   feature_norm=41.06\n",
      "Iter 329 time=0.12  loss=57073.25 active=206   feature_norm=41.03\n",
      "Iter 330 time=0.12  loss=57072.17 active=206   feature_norm=40.99\n",
      "Iter 331 time=0.12  loss=57071.37 active=206   feature_norm=40.96\n",
      "Iter 332 time=0.24  loss=57070.88 active=206   feature_norm=40.93\n",
      "Iter 333 time=0.24  loss=57069.89 active=207   feature_norm=40.94\n",
      "Iter 334 time=0.24  loss=57069.59 active=207   feature_norm=40.93\n",
      "Iter 335 time=0.12  loss=57069.35 active=207   feature_norm=40.93\n",
      "Iter 336 time=0.12  loss=57068.70 active=207   feature_norm=40.92\n",
      "Iter 337 time=0.12  loss=57068.54 active=207   feature_norm=40.94\n",
      "Iter 338 time=0.12  loss=57067.91 active=207   feature_norm=40.92\n",
      "Iter 339 time=0.12  loss=57067.53 active=207   feature_norm=40.93\n",
      "Iter 340 time=0.12  loss=57067.32 active=207   feature_norm=40.92\n",
      "Iter 341 time=0.12  loss=57067.11 active=207   feature_norm=40.95\n",
      "Iter 342 time=0.12  loss=57066.86 active=207   feature_norm=40.93\n",
      "Iter 343 time=0.12  loss=57066.58 active=207   feature_norm=40.96\n",
      "Iter 344 time=0.12  loss=57066.35 active=207   feature_norm=40.94\n",
      "Iter 345 time=0.12  loss=57066.16 active=207   feature_norm=40.96\n",
      "Iter 346 time=0.12  loss=57066.05 active=207   feature_norm=40.94\n",
      "Iter 347 time=0.12  loss=57065.67 active=206   feature_norm=40.96\n",
      "Iter 348 time=0.12  loss=57065.64 active=206   feature_norm=40.94\n",
      "Iter 349 time=0.12  loss=57065.38 active=206   feature_norm=40.96\n",
      "Iter 350 time=0.12  loss=57065.33 active=206   feature_norm=40.95\n",
      "Iter 351 time=0.12  loss=57065.09 active=207   feature_norm=40.97\n",
      "Iter 352 time=0.12  loss=57065.00 active=207   feature_norm=40.96\n",
      "Iter 353 time=0.12  loss=57064.85 active=207   feature_norm=40.97\n",
      "Iter 354 time=0.12  loss=57064.79 active=207   feature_norm=40.96\n",
      "Iter 355 time=0.12  loss=57064.61 active=207   feature_norm=40.97\n",
      "Iter 356 time=0.12  loss=57064.52 active=207   feature_norm=40.96\n",
      "Iter 357 time=0.12  loss=57064.38 active=207   feature_norm=40.98\n",
      "Iter 358 time=0.12  loss=57064.25 active=207   feature_norm=40.98\n",
      "Iter 359 time=0.12  loss=57064.17 active=207   feature_norm=41.00\n",
      "Iter 360 time=0.12  loss=57063.92 active=207   feature_norm=41.01\n",
      "Iter 361 time=0.12  loss=57063.86 active=207   feature_norm=41.04\n",
      "Iter 362 time=0.12  loss=57063.55 active=207   feature_norm=41.04\n",
      "Iter 363 time=0.12  loss=57063.40 active=207   feature_norm=41.07\n",
      "Iter 364 time=0.12  loss=57063.17 active=207   feature_norm=41.06\n",
      "Iter 365 time=0.12  loss=57063.06 active=207   feature_norm=41.10\n",
      "Iter 366 time=0.12  loss=57062.52 active=207   feature_norm=41.11\n",
      "Iter 367 time=0.12  loss=57062.39 active=206   feature_norm=41.11\n",
      "Iter 368 time=0.12  loss=57062.03 active=207   feature_norm=41.12\n",
      "Iter 369 time=0.12  loss=57062.03 active=207   feature_norm=41.14\n",
      "Iter 370 time=0.12  loss=57061.20 active=207   feature_norm=41.15\n",
      "Iter 371 time=0.12  loss=57060.87 active=207   feature_norm=41.16\n",
      "Iter 372 time=0.12  loss=57060.75 active=206   feature_norm=41.17\n",
      "Iter 373 time=0.12  loss=57060.40 active=206   feature_norm=41.18\n",
      "Iter 374 time=0.12  loss=57060.12 active=206   feature_norm=41.20\n",
      "Iter 375 time=0.12  loss=57059.72 active=206   feature_norm=41.21\n",
      "Iter 376 time=0.12  loss=57059.53 active=206   feature_norm=41.21\n",
      "Iter 377 time=0.24  loss=57059.27 active=206   feature_norm=41.22\n",
      "Iter 378 time=0.12  loss=57059.08 active=206   feature_norm=41.22\n",
      "Iter 379 time=0.24  loss=57058.85 active=206   feature_norm=41.22\n",
      "Iter 380 time=0.12  loss=57058.75 active=206   feature_norm=41.23\n",
      "Iter 381 time=0.24  loss=57058.53 active=206   feature_norm=41.23\n",
      "Iter 382 time=0.24  loss=57058.48 active=206   feature_norm=41.23\n",
      "Iter 383 time=0.24  loss=57058.29 active=206   feature_norm=41.23\n",
      "Iter 384 time=0.24  loss=57058.27 active=206   feature_norm=41.24\n",
      "Iter 385 time=0.12  loss=57058.14 active=206   feature_norm=41.23\n",
      "Iter 386 time=0.12  loss=57058.01 active=206   feature_norm=41.23\n",
      "Iter 387 time=0.12  loss=57057.82 active=206   feature_norm=41.23\n",
      "Iter 388 time=0.12  loss=57057.80 active=206   feature_norm=41.23\n",
      "Iter 389 time=0.12  loss=57057.52 active=206   feature_norm=41.23\n",
      "Iter 390 time=0.24  loss=57057.41 active=206   feature_norm=41.23\n",
      "Iter 391 time=0.24  loss=57057.33 active=206   feature_norm=41.23\n",
      "Iter 392 time=0.24  loss=57057.24 active=206   feature_norm=41.23\n",
      "Iter 393 time=0.12  loss=57057.19 active=206   feature_norm=41.22\n",
      "Iter 394 time=0.12  loss=57056.96 active=206   feature_norm=41.22\n",
      "Iter 395 time=0.12  loss=57056.88 active=206   feature_norm=41.21\n",
      "Iter 396 time=0.12  loss=57056.55 active=205   feature_norm=41.20\n",
      "Iter 397 time=0.24  loss=57056.46 active=205   feature_norm=41.19\n",
      "Iter 398 time=0.24  loss=57056.39 active=205   feature_norm=41.19\n",
      "Iter 399 time=0.24  loss=57056.29 active=204   feature_norm=41.18\n",
      "Iter 400 time=0.24  loss=57056.17 active=204   feature_norm=41.17\n",
      "Iter 401 time=0.26  loss=57056.03 active=204   feature_norm=41.16\n",
      "Iter 402 time=0.24  loss=57055.90 active=203   feature_norm=41.16\n",
      "Iter 403 time=0.24  loss=57055.73 active=203   feature_norm=41.15\n",
      "Iter 404 time=0.24  loss=57055.53 active=203   feature_norm=41.14\n",
      "Iter 405 time=0.24  loss=57055.33 active=202   feature_norm=41.13\n",
      "Iter 406 time=0.24  loss=57055.15 active=201   feature_norm=41.12\n",
      "Iter 407 time=0.24  loss=57054.97 active=199   feature_norm=41.11\n",
      "Iter 408 time=0.24  loss=57054.75 active=199   feature_norm=41.10\n",
      "Iter 409 time=0.24  loss=57054.58 active=199   feature_norm=41.09\n",
      "Iter 410 time=0.12  loss=57054.58 active=199   feature_norm=41.07\n",
      "Iter 411 time=0.12  loss=57054.13 active=199   feature_norm=41.06\n",
      "Iter 412 time=0.12  loss=57053.97 active=200   feature_norm=41.06\n",
      "Iter 413 time=0.12  loss=57053.83 active=200   feature_norm=41.06\n",
      "Iter 414 time=0.12  loss=57053.55 active=200   feature_norm=41.05\n",
      "Iter 415 time=0.12  loss=57053.33 active=200   feature_norm=41.05\n",
      "Iter 416 time=0.12  loss=57053.05 active=200   feature_norm=41.03\n",
      "Iter 417 time=0.12  loss=57053.02 active=200   feature_norm=41.02\n",
      "Iter 418 time=0.12  loss=57052.87 active=199   feature_norm=41.04\n",
      "Iter 419 time=0.12  loss=57052.47 active=199   feature_norm=41.01\n",
      "Iter 420 time=0.12  loss=57052.37 active=199   feature_norm=41.03\n",
      "Iter 421 time=0.12  loss=57052.10 active=199   feature_norm=41.02\n",
      "Iter 422 time=0.24  loss=57052.03 active=199   feature_norm=41.02\n",
      "Iter 423 time=0.12  loss=57052.01 active=199   feature_norm=41.01\n",
      "Iter 424 time=0.24  loss=57051.84 active=199   feature_norm=41.02\n",
      "Iter 425 time=0.24  loss=57051.80 active=200   feature_norm=41.03\n",
      "Iter 426 time=0.12  loss=57051.76 active=200   feature_norm=41.02\n",
      "Iter 427 time=0.12  loss=57051.65 active=199   feature_norm=41.03\n",
      "Iter 428 time=0.12  loss=57051.44 active=199   feature_norm=41.03\n",
      "Iter 429 time=0.12  loss=57051.40 active=199   feature_norm=41.03\n",
      "Iter 430 time=0.12  loss=57051.32 active=199   feature_norm=41.03\n",
      "Iter 431 time=0.12  loss=57051.26 active=199   feature_norm=41.03\n",
      "Iter 432 time=0.12  loss=57051.19 active=199   feature_norm=41.03\n",
      "Iter 433 time=0.12  loss=57051.13 active=199   feature_norm=41.03\n",
      "Iter 434 time=0.12  loss=57051.01 active=199   feature_norm=41.03\n",
      "Iter 435 time=0.12  loss=57050.98 active=199   feature_norm=41.03\n",
      "Iter 436 time=0.13  loss=57050.82 active=199   feature_norm=41.03\n",
      "Iter 437 time=0.12  loss=57050.75 active=199   feature_norm=41.03\n",
      "Iter 438 time=0.12  loss=57050.68 active=199   feature_norm=41.02\n",
      "Iter 439 time=0.12  loss=57050.60 active=199   feature_norm=41.02\n",
      "Iter 440 time=0.12  loss=57050.57 active=199   feature_norm=41.02\n",
      "Iter 441 time=0.12  loss=57050.50 active=199   feature_norm=41.03\n",
      "Iter 442 time=0.12  loss=57050.45 active=199   feature_norm=41.03\n",
      "Iter 443 time=0.12  loss=57050.36 active=199   feature_norm=41.02\n",
      "Iter 444 time=0.24  loss=57050.29 active=199   feature_norm=41.02\n",
      "Iter 445 time=0.24  loss=57050.21 active=199   feature_norm=41.02\n",
      "Iter 446 time=0.24  loss=57050.14 active=198   feature_norm=41.02\n",
      "Iter 447 time=0.24  loss=57050.04 active=198   feature_norm=41.02\n",
      "Iter 448 time=0.24  loss=57049.96 active=198   feature_norm=41.02\n",
      "Iter 449 time=0.24  loss=57049.88 active=198   feature_norm=41.02\n",
      "Iter 450 time=0.24  loss=57049.79 active=198   feature_norm=41.02\n",
      "Iter 451 time=0.24  loss=57049.69 active=198   feature_norm=41.01\n",
      "Iter 452 time=0.12  loss=57049.60 active=198   feature_norm=41.00\n",
      "Iter 453 time=0.12  loss=57049.43 active=196   feature_norm=40.98\n",
      "Iter 454 time=0.12  loss=57049.21 active=196   feature_norm=40.97\n",
      "Iter 455 time=0.12  loss=57048.96 active=195   feature_norm=40.95\n",
      "Iter 456 time=0.12  loss=57048.92 active=196   feature_norm=40.95\n",
      "Iter 457 time=0.12  loss=57048.79 active=197   feature_norm=40.93\n",
      "Iter 458 time=0.12  loss=57048.70 active=197   feature_norm=40.93\n",
      "Iter 459 time=0.12  loss=57048.49 active=196   feature_norm=40.91\n",
      "Iter 460 time=0.12  loss=57048.43 active=196   feature_norm=40.91\n",
      "Iter 461 time=0.12  loss=57048.26 active=196   feature_norm=40.88\n",
      "Iter 462 time=0.12  loss=57048.20 active=196   feature_norm=40.88\n",
      "Iter 463 time=0.12  loss=57048.00 active=196   feature_norm=40.85\n",
      "Iter 464 time=0.12  loss=57047.97 active=196   feature_norm=40.84\n",
      "Iter 465 time=0.12  loss=57047.72 active=195   feature_norm=40.83\n",
      "Iter 466 time=0.12  loss=57047.61 active=195   feature_norm=40.81\n",
      "Iter 467 time=0.12  loss=57047.38 active=195   feature_norm=40.77\n",
      "Iter 468 time=0.12  loss=57047.19 active=196   feature_norm=40.73\n",
      "Iter 469 time=0.12  loss=57046.92 active=196   feature_norm=40.70\n",
      "Iter 470 time=0.12  loss=57046.83 active=196   feature_norm=40.68\n",
      "Iter 471 time=0.12  loss=57046.73 active=196   feature_norm=40.68\n",
      "Iter 472 time=0.12  loss=57046.67 active=196   feature_norm=40.67\n",
      "Iter 473 time=0.12  loss=57046.57 active=196   feature_norm=40.65\n",
      "Iter 474 time=0.12  loss=57046.51 active=196   feature_norm=40.63\n",
      "Iter 475 time=0.12  loss=57046.39 active=196   feature_norm=40.63\n",
      "Iter 476 time=0.12  loss=57046.32 active=196   feature_norm=40.62\n",
      "Iter 477 time=0.12  loss=57046.23 active=196   feature_norm=40.62\n",
      "Iter 478 time=0.12  loss=57046.17 active=197   feature_norm=40.61\n",
      "Iter 479 time=0.12  loss=57046.09 active=197   feature_norm=40.60\n",
      "Iter 480 time=0.12  loss=57046.04 active=197   feature_norm=40.60\n",
      "Iter 481 time=0.12  loss=57045.95 active=197   feature_norm=40.59\n",
      "Iter 482 time=0.12  loss=57045.94 active=197   feature_norm=40.59\n",
      "Iter 483 time=0.12  loss=57045.85 active=197   feature_norm=40.59\n",
      "Iter 484 time=0.12  loss=57045.83 active=197   feature_norm=40.59\n",
      "Iter 485 time=0.12  loss=57045.74 active=197   feature_norm=40.59\n",
      "Iter 486 time=0.24  loss=57045.67 active=197   feature_norm=40.60\n",
      "Iter 487 time=0.24  loss=57045.64 active=197   feature_norm=40.59\n",
      "Iter 488 time=0.24  loss=57045.58 active=197   feature_norm=40.60\n",
      "Iter 489 time=0.24  loss=57045.54 active=197   feature_norm=40.60\n",
      "L-BFGS terminated with the stopping criteria\n",
      "Total seconds required for training: 75.967\n",
      "\n",
      "Storing the model\n",
      "Number of active features: 197 (216)\n",
      "Number of active attributes: 6 (6)\n",
      "Number of active labels: 12 (12)\n",
      "Writing labels\n",
      "Writing attributes\n",
      "Writing feature references for transitions\n",
      "Writing feature references for attributes\n",
      "Seconds required: 0.000\n",
      "\n"
     ]
    },
    {
     "data": {
      "text/plain": [
       "CRF(algorithm='lbfgs', all_possible_states=True, all_possible_transitions=True,\n",
       "    c1=0.048863070237470364, c2=0.11375616125972615, keep_tempfiles=None,\n",
       "    max_iterations=1000, verbose=True)"
      ]
     },
     "execution_count": 533,
     "metadata": {},
     "output_type": "execute_result"
    }
   ],
   "source": [
    "crf = sklearn_crfsuite.CRF(\n",
    "    verbose=True,\n",
    "    algorithm='lbfgs',\n",
    "    c1=rs.best_params_['c1'],\n",
    "    c2=rs.best_params_['c2'],\n",
    "    max_iterations=1000,\n",
    "    all_possible_transitions=True,\n",
    "    all_possible_states=True\n",
    ")\n",
    "crf.fit(X_train, y_train)"
   ]
  },
  {
   "cell_type": "code",
   "execution_count": 534,
   "metadata": {},
   "outputs": [
    {
     "name": "stderr",
     "output_type": "stream",
     "text": [
      "/mnt/home/peluz/victor-visual-text/fastai2/lib/python3.8/site-packages/sklearn/utils/validation.py:67: FutureWarning: Pass labels=['B-acordao_de_2_instancia', 'I-acordao_de_2_instancia', 'B-agravo_em_recurso_extraordinario', 'I-agravo_em_recurso_extraordinario', 'B-despacho_de_admissibilidade', 'I-despacho_de_admissibilidade', 'B-outros', 'I-outros', 'B-peticao_do_RE', 'I-peticao_do_RE', 'B-sentenca', 'I-sentenca'] as keyword args. From version 0.25 passing these as positional arguments will result in an error\n",
      "  warnings.warn(\"Pass {} as keyword args. From version 0.25 \"\n"
     ]
    },
    {
     "name": "stdout",
     "output_type": "stream",
     "text": [
      "                                    precision    recall  f1-score   support\n",
      "\n",
      "          B-acordao_de_2_instancia     0.9516    0.8894    0.9195       199\n",
      "          I-acordao_de_2_instancia     0.9828    0.7703    0.8636        74\n",
      "B-agravo_em_recurso_extraordinario     0.5399    0.4131    0.4681       213\n",
      "I-agravo_em_recurso_extraordinario     0.7021    0.5240    0.6001      1628\n",
      "     B-despacho_de_admissibilidade     0.7745    0.5374    0.6345       147\n",
      "     I-despacho_de_admissibilidade     0.4242    0.2745    0.3333        51\n",
      "                          B-outros     0.7590    0.2169    0.3373     25744\n",
      "                          I-outros     0.7118    0.9592    0.8172     59664\n",
      "                   B-peticao_do_RE     0.7799    0.5224    0.6257       312\n",
      "                   I-peticao_do_RE     0.8896    0.6880    0.7759      6019\n",
      "                        B-sentenca     0.8932    0.6943    0.7813       265\n",
      "                        I-sentenca     0.9722    0.7521    0.8481      1210\n",
      "\n",
      "                          accuracy                         0.7274     95526\n",
      "                         macro avg     0.7817    0.6035    0.6671     95526\n",
      "                      weighted avg     0.7398    0.7274    0.6802     95526\n",
      "\n"
     ]
    }
   ],
   "source": [
    "# group B and I results\n",
    "sorted_labels = sorted(\n",
    "    labels,\n",
    "    key=lambda name: (name[1:], name[0])\n",
    ")\n",
    "y_pred = crf.predict(X_test)\n",
    "print(metrics.flat_classification_report(\n",
    "    y_test, y_pred, labels=sorted_labels, digits=4\n",
    "))"
   ]
  },
  {
   "cell_type": "code",
   "execution_count": 535,
   "metadata": {},
   "outputs": [],
   "source": [
    "y_pred_class = []\n",
    "y_test_class = []\n",
    "\n",
    "for i, sequence in enumerate(y_pred):\n",
    "    y_pred_class.append([])\n",
    "    for j, pred in enumerate(sequence):\n",
    "        y_pred_class[i].append(pred[2:])\n",
    "        \n",
    "for i, sequence in enumerate(y_test):\n",
    "    y_test_class.append([])\n",
    "    for j, pred in enumerate(sequence):\n",
    "        y_test_class[i].append(pred[2:])"
   ]
  },
  {
   "cell_type": "code",
   "execution_count": 536,
   "metadata": {},
   "outputs": [
    {
     "name": "stderr",
     "output_type": "stream",
     "text": [
      "/mnt/home/peluz/victor-visual-text/fastai2/lib/python3.8/site-packages/sklearn/utils/validation.py:67: FutureWarning: Pass labels=['acordao_de_2_instancia', 'agravo_em_recurso_extraordinario', 'despacho_de_admissibilidade', 'outros', 'peticao_do_RE', 'sentenca'] as keyword args. From version 0.25 passing these as positional arguments will result in an error\n",
      "  warnings.warn(\"Pass {} as keyword args. From version 0.25 \"\n"
     ]
    },
    {
     "name": "stdout",
     "output_type": "stream",
     "text": [
      "                                  precision    recall  f1-score   support\n",
      "\n",
      "          acordao_de_2_instancia     0.9795    0.8755    0.9246       273\n",
      "agravo_em_recurso_extraordinario     0.7003    0.5242    0.5996      1841\n",
      "     despacho_de_admissibilidade     0.7630    0.5202    0.6186       198\n",
      "                          outros     0.9630    0.9896    0.9761     85408\n",
      "                   peticao_do_RE     0.8906    0.6843    0.7739      6331\n",
      "                        sentenca     0.9685    0.7498    0.8452      1475\n",
      "\n",
      "                        accuracy                         0.9554     95526\n",
      "                       macro avg     0.8775    0.7239    0.7897     95526\n",
      "                    weighted avg     0.9529    0.9554    0.9525     95526\n",
      "\n"
     ]
    }
   ],
   "source": [
    "sorted_labels=['acordao_de_2_instancia', 'agravo_em_recurso_extraordinario',\n",
    "                'despacho_de_admissibilidade', 'outros', 'peticao_do_RE', 'sentenca']\n",
    "\n",
    "print(metrics.flat_classification_report(\n",
    "    y_test_class, y_pred_class, labels=sorted_labels, digits=4\n",
    "))"
   ]
  },
  {
   "cell_type": "code",
   "execution_count": 537,
   "metadata": {},
   "outputs": [],
   "source": [
    "with open(\"models/crf_late_fusion.pkl\", \"wb\") as file:\n",
    "    pickle.dump(crf, file)"
   ]
  },
  {
   "cell_type": "code",
   "execution_count": 538,
   "metadata": {},
   "outputs": [
    {
     "name": "stdout",
     "output_type": "stream",
     "text": [
      "Top likely transitions:\n",
      "I-peticao_do_RE -> I-peticao_do_RE 6.854842\n",
      "B-peticao_do_RE -> I-peticao_do_RE 6.427525\n",
      "B-agravo_em_recurso_extraordinario -> I-agravo_em_recurso_extraordinario 5.681058\n",
      "I-agravo_em_recurso_extraordinario -> I-agravo_em_recurso_extraordinario 5.528226\n",
      "I-sentenca -> I-sentenca 5.163614\n",
      "I-outros -> I-outros 4.898594\n",
      "B-sentenca -> I-sentenca 4.392003\n",
      "B-acordao_de_2_instancia -> I-acordao_de_2_instancia 4.309193\n",
      "I-acordao_de_2_instancia -> I-acordao_de_2_instancia 3.504246\n",
      "B-despacho_de_admissibilidade -> I-despacho_de_admissibilidade 2.907754\n",
      "I-despacho_de_admissibilidade -> I-despacho_de_admissibilidade 2.652916\n",
      "I-outros -> B-sentenca 2.606884\n",
      "B-outros -> I-outros 1.830688\n",
      "B-acordao_de_2_instancia -> B-outros 1.487517\n",
      "I-acordao_de_2_instancia -> B-outros 1.469131\n",
      "I-outros -> B-acordao_de_2_instancia 1.333140\n",
      "B-despacho_de_admissibilidade -> B-acordao_de_2_instancia 1.083396\n",
      "I-outros -> B-outros 1.034921\n",
      "B-despacho_de_admissibilidade -> B-outros 0.954576\n",
      "I-outros -> B-peticao_do_RE 0.916570\n",
      "\n",
      "Top unlikely transitions:\n",
      "I-agravo_em_recurso_extraordinario -> B-agravo_em_recurso_extraordinario -2.364283\n",
      "B-outros -> I-acordao_de_2_instancia -2.365709\n",
      "B-despacho_de_admissibilidade -> I-outros -2.579464\n",
      "I-acordao_de_2_instancia -> I-outros -2.601744\n",
      "I-outros -> I-agravo_em_recurso_extraordinario -2.645577\n",
      "I-outros -> I-sentenca -2.647204\n",
      "I-peticao_do_RE -> B-peticao_do_RE -2.699193\n",
      "I-outros -> I-despacho_de_admissibilidade -2.768233\n",
      "B-acordao_de_2_instancia -> B-acordao_de_2_instancia -2.992845\n",
      "B-outros -> I-peticao_do_RE -3.091344\n",
      "I-despacho_de_admissibilidade -> I-agravo_em_recurso_extraordinario -3.250557\n",
      "I-acordao_de_2_instancia -> B-acordao_de_2_instancia -3.350664\n",
      "I-sentenca -> I-outros -3.627547\n",
      "B-outros -> I-sentenca -3.659252\n",
      "B-outros -> I-despacho_de_admissibilidade -3.675530\n",
      "B-despacho_de_admissibilidade -> B-agravo_em_recurso_extraordinario -3.730427\n",
      "B-outros -> I-agravo_em_recurso_extraordinario -3.816559\n",
      "I-despacho_de_admissibilidade -> B-agravo_em_recurso_extraordinario -4.208466\n",
      "I-peticao_do_RE -> I-outros -4.471635\n",
      "I-agravo_em_recurso_extraordinario -> I-outros -5.315162\n"
     ]
    }
   ],
   "source": [
    " from collections import Counter\n",
    "\n",
    "def print_transitions(trans_features):\n",
    "    for (label_from, label_to), weight in trans_features:\n",
    "        print(\"%-6s -> %-7s %0.6f\" % (label_from, label_to, weight))\n",
    "\n",
    "print(\"Top likely transitions:\")\n",
    "print_transitions(Counter(crf.transition_features_).most_common(20))\n",
    "\n",
    "print(\"\\nTop unlikely transitions:\")\n",
    "print_transitions(Counter(crf.transition_features_).most_common()[-20:]) "
   ]
  },
  {
   "cell_type": "code",
   "execution_count": 539,
   "metadata": {},
   "outputs": [
    {
     "name": "stdout",
     "output_type": "stream",
     "text": [
      "Top positive:\n",
      "11.299393 B-acordao_de_2_instancia acordao_de_2_instancia\n",
      "9.899779 B-sentenca sentenca\n",
      "9.070885 B-despacho_de_admissibilidade despacho_de_admissibilidade\n",
      "8.078372 I-sentenca sentenca\n",
      "8.037510 B-agravo_em_recurso_extraordinario agravo_em_recurso_extraordinario\n",
      "7.938671 I-acordao_de_2_instancia acordao_de_2_instancia\n",
      "6.532653 B-outros outros\n",
      "6.518911 I-despacho_de_admissibilidade despacho_de_admissibilidade\n",
      "5.869947 I-agravo_em_recurso_extraordinario agravo_em_recurso_extraordinario\n",
      "5.779349 B-peticao_do_RE peticao_do_RE\n",
      "3.440000 I-peticao_do_RE peticao_do_RE\n",
      "1.852259 I-despacho_de_admissibilidade acordao_de_2_instancia\n",
      "1.796359 I-outros outros\n",
      "1.512521 B-despacho_de_admissibilidade acordao_de_2_instancia\n",
      "1.204668 B-despacho_de_admissibilidade agravo_em_recurso_extraordinario\n",
      "0.534983 B-outros agravo_em_recurso_extraordinario\n",
      "0.396080 B-acordao_de_2_instancia sentenca\n",
      "0.295299 B-peticao_do_RE agravo_em_recurso_extraordinario\n",
      "0.175319 I-acordao_de_2_instancia despacho_de_admissibilidade\n",
      "0.046828 B-outros despacho_de_admissibilidade\n",
      "0.039047 I-outros peticao_do_RE\n",
      "-0.050320 I-sentenca acordao_de_2_instancia\n",
      "-0.093977 I-outros acordao_de_2_instancia\n",
      "-0.152299 I-despacho_de_admissibilidade agravo_em_recurso_extraordinario\n",
      "-0.177021 I-peticao_do_RE agravo_em_recurso_extraordinario\n",
      "-0.230899 I-acordao_de_2_instancia sentenca\n",
      "-0.329499 I-acordao_de_2_instancia peticao_do_RE\n",
      "-0.352784 I-sentenca peticao_do_RE\n",
      "-0.374772 B-sentenca peticao_do_RE\n",
      "-0.461421 B-outros sentenca\n",
      "\n",
      "Top negative:\n",
      "-1.676324 I-agravo_em_recurso_extraordinario despacho_de_admissibilidade\n",
      "-1.713994 B-agravo_em_recurso_extraordinario acordao_de_2_instancia\n",
      "-1.779939 I-despacho_de_admissibilidade outros\n",
      "-2.029009 I-peticao_do_RE acordao_de_2_instancia\n",
      "-2.032994 I-despacho_de_admissibilidade sentenca\n",
      "-2.263407 I-outros agravo_em_recurso_extraordinario\n",
      "-2.280177 B-peticao_do_RE acordao_de_2_instancia\n",
      "-2.362755 B-sentenca despacho_de_admissibilidade\n",
      "-2.570716 B-agravo_em_recurso_extraordinario despacho_de_admissibilidade\n",
      "-2.716922 I-despacho_de_admissibilidade peticao_do_RE\n",
      "-2.757656 I-agravo_em_recurso_extraordinario sentenca\n",
      "-2.789292 B-agravo_em_recurso_extraordinario peticao_do_RE\n",
      "-3.206629 B-outros peticao_do_RE\n",
      "-3.270281 B-peticao_do_RE outros\n",
      "-3.307443 B-peticao_do_RE despacho_de_admissibilidade\n",
      "-3.313615 B-acordao_de_2_instancia agravo_em_recurso_extraordinario\n",
      "-3.463177 B-agravo_em_recurso_extraordinario outros\n",
      "-3.512214 B-sentenca agravo_em_recurso_extraordinario\n",
      "-3.614121 B-despacho_de_admissibilidade peticao_do_RE\n",
      "-3.786519 B-peticao_do_RE sentenca\n",
      "-3.893460 B-despacho_de_admissibilidade sentenca\n",
      "-3.980324 I-agravo_em_recurso_extraordinario outros\n",
      "-4.081793 B-despacho_de_admissibilidade outros\n",
      "-4.422402 B-outros acordao_de_2_instancia\n",
      "-4.501351 I-sentenca outros\n",
      "-4.570201 B-sentenca outros\n",
      "-4.680278 I-peticao_do_RE outros\n",
      "-4.692208 I-sentenca despacho_de_admissibilidade\n",
      "-4.781082 I-acordao_de_2_instancia outros\n",
      "-4.870400 B-acordao_de_2_instancia outros\n"
     ]
    }
   ],
   "source": [
    "def print_state_features(state_features):\n",
    "    for (attr, label), weight in state_features:\n",
    "        print(\"%0.6f %-8s %s\" % (weight, label, sorted_labels[int(attr)]))\n",
    "\n",
    "print(\"Top positive:\")\n",
    "print_state_features(Counter(crf.state_features_).most_common(30))\n",
    "\n",
    "print(\"\\nTop negative:\")\n",
    "print_state_features(Counter(crf.state_features_).most_common()[-30:])"
   ]
  },
  {
   "cell_type": "code",
   "execution_count": null,
   "metadata": {},
   "outputs": [],
   "source": []
  }
 ],
 "metadata": {
  "kernelspec": {
   "display_name": "fastai2",
   "language": "python",
   "name": "fastai2"
  },
  "language_info": {
   "codemirror_mode": {
    "name": "ipython",
    "version": 3
   },
   "file_extension": ".py",
   "mimetype": "text/x-python",
   "name": "python",
   "nbconvert_exporter": "python",
   "pygments_lexer": "ipython3",
   "version": "3.8.10"
  }
 },
 "nbformat": 4,
 "nbformat_minor": 4
}
