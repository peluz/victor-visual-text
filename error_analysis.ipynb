{
 "cells": [
  {
   "cell_type": "code",
   "execution_count": 20,
   "metadata": {},
   "outputs": [
    {
     "name": "stdout",
     "output_type": "stream",
     "text": [
      "The autoreload extension is already loaded. To reload it, use:\n",
      "  %reload_ext autoreload\n"
     ]
    }
   ],
   "source": [
    "%load_ext autoreload\n",
    "%autoreload 2\n",
    "\n",
    "from fastai.text.all import *\n",
    "from fastai.vision.all import *\n",
    "import pandas as pd\n",
    "import torch\n",
    "from tqdm.notebook import tqdm\n",
    "from sklearn.metrics import classification_report, f1_score, confusion_matrix\n",
    "from torchcrf import CRF\n",
    "from utils import get_sequences, GetLabels, My_Pad_Input, GetImgAndTextEmbs"
   ]
  },
  {
   "cell_type": "code",
   "execution_count": 2,
   "metadata": {},
   "outputs": [
    {
     "data": {
      "text/plain": [
       "True"
      ]
     },
     "execution_count": 2,
     "metadata": {},
     "output_type": "execute_result"
    }
   ],
   "source": [
    "seed = 42\n",
    "\n",
    "# python RNG\n",
    "import random\n",
    "random.seed(seed)\n",
    "\n",
    "# pytorch RNGs\n",
    "import torch\n",
    "torch.manual_seed(seed)\n",
    "torch.backends.cudnn.deterministic = True\n",
    "if torch.cuda.is_available(): torch.cuda.manual_seed_all(seed)\n",
    "\n",
    "# numpy RNG\n",
    "import numpy as np\n",
    "np.random.seed(seed)\n",
    "\n",
    "torch.cuda.is_available()"
   ]
  },
  {
   "cell_type": "code",
   "execution_count": 3,
   "metadata": {},
   "outputs": [],
   "source": [
    "OUT_DIM=12\n",
    "INPUT_DIM=128\n",
    "BS= 8"
   ]
  },
  {
   "cell_type": "code",
   "execution_count": 4,
   "metadata": {},
   "outputs": [],
   "source": [
    "dls = torch.load(\"./data/dls_sequence_from_embs.pth\")"
   ]
  },
  {
   "cell_type": "code",
   "execution_count": 5,
   "metadata": {},
   "outputs": [],
   "source": [
    "test_dl = torch.load(\"./data/test_dl_sequence_from_embs.pth\")"
   ]
  },
  {
   "cell_type": "code",
   "execution_count": 6,
   "metadata": {},
   "outputs": [],
   "source": [
    "dls.bs = dls.train.bs = dls.valid.bs = test_dl.bs = 8"
   ]
  },
  {
   "cell_type": "code",
   "execution_count": 16,
   "metadata": {},
   "outputs": [],
   "source": [
    "class LSTMModel(Module):\n",
    "    def __init__(self, input_dim, out_dim, hidden_dim=128):\n",
    "        self.lstm = torch.nn.LSTM(input_size=hidden_dim*4, hidden_size=hidden_dim,\n",
    "                                  batch_first=True, bidirectional=True).cuda()\n",
    "        self.bn1 = nn.BatchNorm1d(input_dim, momentum=0.01).cuda()\n",
    "        self.bn2 = nn.BatchNorm1d(hidden_dim*2, momentum=0.01).cuda()\n",
    "        self.drop1 = nn.Dropout().cuda()\n",
    "        self.drop2 = nn.Dropout().cuda()\n",
    "        self.lin1 = nn.Linear(input_dim, hidden_dim*4).cuda()\n",
    "        self.lin2 = nn.Linear(hidden_dim*2, out_dim).cuda()\n",
    "        self.relu = nn.ReLU().cuda()\n",
    "        \n",
    "    def forward(self, x):\n",
    "        x = x.permute(0, 2, 1)\n",
    "        x = self.bn1(x)\n",
    "        x = self.drop1(x)\n",
    "        x = x.permute(0, 2, 1)\n",
    "        x = self.lin1(x)\n",
    "        x = self.relu(x)\n",
    "        out, _ = self.lstm(x)\n",
    "        out = out.permute(0, 2, 1)\n",
    "        out_norm = self.bn2(out)\n",
    "        out_drop = self.drop2(out_norm)\n",
    "        out_drop = out_drop.permute(0, 2, 1)\n",
    "        return self.lin2(out_drop)"
   ]
  },
  {
   "cell_type": "code",
   "execution_count": 17,
   "metadata": {},
   "outputs": [],
   "source": [
    "model = LSTMModel(7936, 12)"
   ]
  },
  {
   "cell_type": "code",
   "execution_count": 294,
   "metadata": {},
   "outputs": [],
   "source": [
    "def loss_func(out, targ, reduction=\"none\"):\n",
    "    return CrossEntropyLossFlat(ignore_index=OUT_DIM, reduction=reduction)(out, targ.long())"
   ]
  },
  {
   "cell_type": "code",
   "execution_count": 292,
   "metadata": {},
   "outputs": [],
   "source": [
    "class GetLosses(Callback):\n",
    "    def __init__(self):\n",
    "        self.losses = []\n",
    "    def after_loss(self):\n",
    "        self.losses.append(self.learn.loss)"
   ]
  },
  {
   "cell_type": "code",
   "execution_count": 293,
   "metadata": {},
   "outputs": [
    {
     "data": {
      "text/plain": [
       "<fastai.learner.Learner at 0x7f6f485f3e50>"
      ]
     },
     "execution_count": 293,
     "metadata": {},
     "output_type": "execute_result"
    }
   ],
   "source": [
    "learn = Learner(dls, model, loss_func=loss_func)\n",
    "learn.load(\"best_sequence_from_embs128_moreEpochs\")"
   ]
  },
  {
   "cell_type": "code",
   "execution_count": 184,
   "metadata": {},
   "outputs": [
    {
     "data": {
      "text/html": [
       "<table border=\"1\" class=\"dataframe\">\n",
       "  <thead>\n",
       "    <tr style=\"text-align: left;\">\n",
       "      <th>epoch</th>\n",
       "      <th>train_loss</th>\n",
       "      <th>valid_loss</th>\n",
       "      <th>time</th>\n",
       "    </tr>\n",
       "  </thead>\n",
       "  <tbody>\n",
       "    <tr>\n",
       "      <td>0</td>\n",
       "      <td>None</td>\n",
       "      <td>00:00</td>\n",
       "    </tr>\n",
       "  </tbody>\n",
       "</table>"
      ],
      "text/plain": [
       "<IPython.core.display.HTML object>"
      ]
     },
     "metadata": {},
     "output_type": "display_data"
    },
    {
     "data": {
      "text/plain": [
       "LSTMModel (Input shape: ['8 x 4242 x 7936'])\n",
       "================================================================\n",
       "Layer (type)         Output Shape         Param #    Trainable \n",
       "================================================================\n",
       "LSTM                 ['8 x 4242 x 256',   657,408    True      \n",
       "________________________________________________________________\n",
       "BatchNorm1d          8 x 7936 x 4242      15,872     True      \n",
       "________________________________________________________________\n",
       "BatchNorm1d          8 x 256 x 4242       512        True      \n",
       "________________________________________________________________\n",
       "Dropout              8 x 7936 x 4242      0          False     \n",
       "________________________________________________________________\n",
       "Dropout              8 x 256 x 4242       0          False     \n",
       "________________________________________________________________\n",
       "Linear               8 x 4242 x 512       4,063,744  True      \n",
       "________________________________________________________________\n",
       "Linear               8 x 4242 x 12        3,084      True      \n",
       "________________________________________________________________\n",
       "ReLU                 8 x 4242 x 512       0          False     \n",
       "________________________________________________________________\n",
       "\n",
       "Total params: 4,740,620\n",
       "Total trainable params: 4,740,620\n",
       "Total non-trainable params: 0\n",
       "\n",
       "Optimizer used: <function Adam at 0x7f6f7003f9d0>\n",
       "Loss function: <function loss_func at 0x7f6eb6d4d280>\n",
       "\n",
       "Model unfrozen\n",
       "\n",
       "Callbacks:\n",
       "  - TrainEvalCallback\n",
       "  - Recorder\n",
       "  - ProgressCallback\n",
       "  - GetLosses"
      ]
     },
     "execution_count": 184,
     "metadata": {},
     "output_type": "execute_result"
    }
   ],
   "source": [
    "learn.summary()"
   ]
  },
  {
   "cell_type": "code",
   "execution_count": 295,
   "metadata": {},
   "outputs": [
    {
     "data": {
      "text/plain": [
       "<fastai.learner.Learner at 0x7f6f485f3e50>"
      ]
     },
     "execution_count": 295,
     "metadata": {},
     "output_type": "execute_result"
    }
   ],
   "source": [
    "get_losses = GetLosses()\n",
    "learn.add_cb(get_losses)"
   ]
  },
  {
   "cell_type": "code",
   "execution_count": 296,
   "metadata": {},
   "outputs": [],
   "source": [
    "def evaluate(learn, dl):\n",
    "    preds, targets = learn.get_preds(dl=dl)\n",
    "    preds =[np.argmax(x, axis=-1) for sublist in preds for x in sublist]\n",
    "    targets = [x for sublist in targets for x in sublist]\n",
    "    losses = learn.get_losses.losses\n",
    "    pad_idxs = [i for i,x in enumerate(targets) if x != tensor([12])]\n",
    "    preds = L(preds)[pad_idxs]\n",
    "    targets = L(targets)[pad_idxs]\n",
    "    losses = L(list(torch.cat(losses)))[pad_idxs]\n",
    "    print(classification_report(targets, preds, target_names=dl.get_labels.cat.vocab, digits=4))\n",
    "    preds_clean = [x % 6 for x in preds]\n",
    "    targets_clean = [x % 6 for x in targets]\n",
    "    print(classification_report(targets_clean, preds_clean, target_names=[x[2:] for x in dl.get_labels.cat.vocab[:6]], digits=4))\n",
    "    return preds, targets, preds_clean, targets_clean, losses"
   ]
  },
  {
   "cell_type": "code",
   "execution_count": 297,
   "metadata": {},
   "outputs": [
    {
     "data": {
      "text/html": [],
      "text/plain": [
       "<IPython.core.display.HTML object>"
      ]
     },
     "metadata": {},
     "output_type": "display_data"
    },
    {
     "name": "stdout",
     "output_type": "stream",
     "text": [
      "                                    precision    recall  f1-score   support\n",
      "\n",
      "          B-acordao_de_2_instancia     0.9613    0.8744    0.9158       199\n",
      "B-agravo_em_recurso_extraordinario     0.6166    0.5587    0.5862       213\n",
      "     B-despacho_de_admissibilidade     0.7965    0.6122    0.6923       147\n",
      "                          B-outros     0.9326    0.8898    0.9107     25744\n",
      "                   B-peticao_do_RE     0.8185    0.6506    0.7250       312\n",
      "                        B-sentenca     0.8584    0.7547    0.8032       265\n",
      "          I-acordao_de_2_instancia     0.6296    0.9189    0.7473        74\n",
      "I-agravo_em_recurso_extraordinario     0.5512    0.6677    0.6039      1628\n",
      "     I-despacho_de_admissibilidade     0.5000    0.4706    0.4848        51\n",
      "                          I-outros     0.9275    0.9447    0.9360     59664\n",
      "                   I-peticao_do_RE     0.7988    0.7937    0.7962      6019\n",
      "                        I-sentenca     0.8822    0.8174    0.8486      1210\n",
      "\n",
      "                          accuracy                         0.9108     95526\n",
      "                         macro avg     0.7728    0.7461    0.7542     95526\n",
      "                      weighted avg     0.9120    0.9108    0.9110     95526\n",
      "\n",
      "                                  precision    recall  f1-score   support\n",
      "\n",
      "          acordao_de_2_instancia     0.8651    0.9158    0.8897       273\n",
      "agravo_em_recurso_extraordinario     0.5658    0.6654    0.6116      1841\n",
      "     despacho_de_admissibilidade     0.7143    0.5808    0.6407       198\n",
      "                          outros     0.9750    0.9741    0.9746     85408\n",
      "                   peticao_do_RE     0.8033    0.7902    0.7967      6331\n",
      "                        sentenca     0.8907    0.8176    0.8526      1475\n",
      "\n",
      "                        accuracy                         0.9526     95526\n",
      "                       macro avg     0.8024    0.7907    0.7943     95526\n",
      "                    weighted avg     0.9536    0.9526    0.9530     95526\n",
      "\n"
     ]
    }
   ],
   "source": [
    "preds, targets, preds_clean, targets_clean, losses = evaluate(learn, test_dl)"
   ]
  },
  {
   "cell_type": "code",
   "execution_count": 298,
   "metadata": {},
   "outputs": [
    {
     "data": {
      "text/plain": [
       "(95526, 95526, 95526)"
      ]
     },
     "execution_count": 298,
     "metadata": {},
     "output_type": "execute_result"
    }
   ],
   "source": [
    "len(losses), len(preds), len(targets)"
   ]
  },
  {
   "cell_type": "code",
   "execution_count": 299,
   "metadata": {},
   "outputs": [],
   "source": [
    "def plot_confusion_matrix(y_true, y_pred, classes,\n",
    "                          normalize=None,\n",
    "                          title=None,\n",
    "                          order=None,\n",
    "                          cmap=plt.cm.Blues):\n",
    "    \"\"\"\n",
    "    This function prints and plots the confusion matrix.\n",
    "    Normalization can be applied by setting `normalize=True`.\n",
    "    \"\"\"\n",
    "    if not title:\n",
    "        if normalize:\n",
    "            title = 'Normalized confusion matrix'\n",
    "        else:\n",
    "            title = 'Confusion matrix, without normalization'\n",
    "\n",
    "    # Compute confusion matrix\n",
    "    cm = confusion_matrix(y_true, y_pred, labels=order, normalize=normalize)\n",
    "    if normalize is not None:\n",
    "        cm *=100\n",
    "\n",
    "    fig, ax = plt.subplots()\n",
    "    fig.set_size_inches(10,10)\n",
    "    im = ax.imshow(cm, interpolation='nearest', cmap=cmap)\n",
    "    # We want to show all ticks...\n",
    "    ax.set(xticks=np.arange(cm.shape[1]),\n",
    "           yticks=np.arange(cm.shape[0]),\n",
    "           # ... and label them with the respective list entries\n",
    "           xticklabels=classes, yticklabels=classes,\n",
    "           title=title,\n",
    "           ylabel='True label',\n",
    "           xlabel='Predicted label')\n",
    "\n",
    "    # Rotate the tick labels and set their alignment.\n",
    "    plt.setp(ax.get_xticklabels(), rotation=45, ha=\"right\",\n",
    "             rotation_mode=\"anchor\")\n",
    "\n",
    "    # Loop over data dimensions and create text annotations.\n",
    "    fmt = '.2f' if normalize else 'd'\n",
    "    thresh = cm.max() / 2.\n",
    "    for i in range(cm.shape[0]):\n",
    "        for j in range(cm.shape[1]):\n",
    "            ax.text(j, i, format(cm[i, j], fmt),\n",
    "                    ha=\"center\", va=\"center\",\n",
    "                    color=\"white\" if cm[i, j] > thresh else \"black\")\n",
    "    fig.tight_layout()\n",
    "    return fig"
   ]
  },
  {
   "cell_type": "code",
   "execution_count": 300,
   "metadata": {},
   "outputs": [
    {
     "data": {
      "image/png": "[encoded data removed]",
      "text/plain": [
       "<Figure size 720x720 with 1 Axes>"
      ]
     },
     "metadata": {
      "needs_background": "light"
     },
     "output_type": "display_data"
    }
   ],
   "source": [
    "fig = plot_confusion_matrix(targets_clean, preds_clean, [\"Acórdão\", \"ARE\", \"Despacho\", \"Others\", \"RE\", \"Sentença\"],\n",
    "                      normalize=\"true\", title=\" \")"
   ]
  },
  {
   "cell_type": "code",
   "execution_count": 57,
   "metadata": {},
   "outputs": [],
   "source": [
    "fig.savefig(\"media/bilstm-f_cm.pdf\")"
   ]
  },
  {
   "cell_type": "code",
   "execution_count": 301,
   "metadata": {},
   "outputs": [
    {
     "data": {
      "image/png": "[encoded data removed]",
      "text/plain": [
       "<Figure size 720x720 with 1 Axes>"
      ]
     },
     "metadata": {
      "needs_background": "light"
     },
     "output_type": "display_data"
    }
   ],
   "source": [
    "fig = plot_confusion_matrix(targets, preds, [\"B-Acórdão\",\"B-ARE\", \"B-Despacho\", \"B-Others\", \"B-RE\", \"B-Sentença\",\n",
    "                                             \"I-Acórdão\",\"I-ARE\", \"I-Despacho\", \"I-Others\", \"I-RE\", \"I-Sentença\"],\n",
    "                      normalize=\"true\", title=\" \")"
   ]
  },
  {
   "cell_type": "code",
   "execution_count": 69,
   "metadata": {},
   "outputs": [],
   "source": [
    "fig.savefig(\"media/bilstm-f_cm_tags.pdf\")"
   ]
  },
  {
   "cell_type": "code",
   "execution_count": 82,
   "metadata": {},
   "outputs": [],
   "source": [
    "data_path = Path(\"/mnt/nas/backups/08-07-2020/desktopg01/lisa/Data/CSV\")"
   ]
  },
  {
   "cell_type": "code",
   "execution_count": 84,
   "metadata": {},
   "outputs": [],
   "source": [
    "test_df = pd.read_csv(data_path/\"test_small.csv\")"
   ]
  },
  {
   "cell_type": "code",
   "execution_count": 100,
   "metadata": {},
   "outputs": [
    {
     "data": {
      "text/plain": [
       "['acordao_de_2_instancia',\n",
       " 'agravo_em_recurso_extraordinario',\n",
       " 'despacho_de_admissibilidade',\n",
       " 'outros',\n",
       " 'peticao_do_RE',\n",
       " 'sentenca']"
      ]
     },
     "execution_count": 100,
     "metadata": {},
     "output_type": "execute_result"
    }
   ],
   "source": [
    "target_names = [x[2:] for x in test_dl.get_labels.cat.vocab[:6]]; target_names"
   ]
  },
  {
   "cell_type": "code",
   "execution_count": 102,
   "metadata": {},
   "outputs": [],
   "source": [
    "test_df[\"prediction\"] = [target_names[x] for x in preds_clean]"
   ]
  },
  {
   "cell_type": "code",
   "execution_count": 106,
   "metadata": {},
   "outputs": [],
   "source": [
    "assert (test_df[\"document_type\"] == [target_names[x] for x in targets_clean]).all()"
   ]
  },
  {
   "cell_type": "code",
   "execution_count": 325,
   "metadata": {},
   "outputs": [],
   "source": [
    "test_df[\"loss\"] = [x.item() for x in losses]"
   ]
  },
  {
   "cell_type": "code",
   "execution_count": 347,
   "metadata": {},
   "outputs": [],
   "source": [
    "grouped = test_df.groupby(\"prediction\")"
   ]
  },
  {
   "cell_type": "code",
   "execution_count": 370,
   "metadata": {},
   "outputs": [],
   "source": [
    "mistakes = []\n",
    "for name, group in grouped:\n",
    "    mistakes.append(group[group['document_type'] != name].nlargest(1, \"loss\"))"
   ]
  },
  {
   "cell_type": "code",
   "execution_count": null,
   "metadata": {},
   "outputs": [],
   "source": [
    "mistakes = pd.concat(mistakes)"
   ]
  },
  {
   "cell_type": "code",
   "execution_count": 389,
   "metadata": {},
   "outputs": [
    {
     "data": {
      "text/html": [
       "<div>\n",
       "<style scoped>\n",
       "    .dataframe tbody tr th:only-of-type {\n",
       "        vertical-align: middle;\n",
       "    }\n",
       "\n",
       "    .dataframe tbody tr th {\n",
       "        vertical-align: top;\n",
       "    }\n",
       "\n",
       "    .dataframe thead th {\n",
       "        text-align: right;\n",
       "    }\n",
       "</style>\n",
       "<table border=\"1\" class=\"dataframe\">\n",
       "  <thead>\n",
       "    <tr style=\"text-align: right;\">\n",
       "      <th></th>\n",
       "      <th>themes</th>\n",
       "      <th>process_id</th>\n",
       "      <th>file_name</th>\n",
       "      <th>document_type</th>\n",
       "      <th>pages</th>\n",
       "      <th>body</th>\n",
       "      <th>prediction</th>\n",
       "      <th>loss</th>\n",
       "    </tr>\n",
       "  </thead>\n",
       "  <tbody>\n",
       "    <tr>\n",
       "      <th>22537</th>\n",
       "      <td>[766]</td>\n",
       "      <td>ARE_1055151</td>\n",
       "      <td>ARE_1055151_312024095_95_19062017.pdf</td>\n",
       "      <td>outros</td>\n",
       "      <td>1</td>\n",
       "      <td>{\"sessão ordinária turma recursal paraíba certidão participaram julgamento sessão realizada data excelentíssimos juízes federais sérgio murilo wanderley queiroga rudival gama nascimento bianor arruda bezerra neto joão pessoa otavio cardoso júnior servidor turma recursal\"}</td>\n",
       "      <td>acordao_de_2_instancia</td>\n",
       "      <td>43.269814</td>\n",
       "    </tr>\n",
       "    <tr>\n",
       "      <th>2315</th>\n",
       "      <td>[800]</td>\n",
       "      <td>ARE_1002499</td>\n",
       "      <td>ARE_1002499_310470468_50_06102016.pdf</td>\n",
       "      <td>outros</td>\n",
       "      <td>4</td>\n",
       "      <td>{\"gama pessoas fora dele despertando interesse público tem aquela causa repercussão geral numa única palavra quando houver transcendência serviço saúde dever estado que fato tem dever assegurar todos cidadãos serviços gratuitos saúde como previsto constituição federal ARTIGO_196 que reproduz verbis ARTIGO_196 saúde direito todos dever estado garantido mediante políticas sociais econômicas que visem redução risco doença de outros agravos acesso universal igualitário ações serviços para sua promoção proteção recuperação ressalte que nos termos ARTIGO_199 constituição federal instituições pri...</td>\n",
       "      <td>agravo_em_recurso_extraordinario</td>\n",
       "      <td>22.593267</td>\n",
       "    </tr>\n",
       "    <tr>\n",
       "      <th>22548</th>\n",
       "      <td>[766]</td>\n",
       "      <td>ARE_1055151</td>\n",
       "      <td>ARE_1055151_312024098_1430_19062017.pdf</td>\n",
       "      <td>outros</td>\n",
       "      <td>1</td>\n",
       "      <td>{\"decisão trata de recurso extraordinário face acórdão proferido por esta turma recursal conquanto supostamente calcado nos ARTIGO_102 iii alínea constituição federal c ARTIGO_15 LEI_10259 recurso extraordinário apreço apresenta inviável pois nas razões que embasam pedido reforma decisão recorrida não demonstra violação concreta constituição federal destarte pacífica jurisprudência supremo tribunal federal sentido não admitir re alegação ofensa indireta carta magna por interpretação aplicação mesmo inobservância normas infraconstitucionais portanto respeito repartição competência poder jud...</td>\n",
       "      <td>despacho_de_admissibilidade</td>\n",
       "      <td>82.258072</td>\n",
       "    </tr>\n",
       "    <tr>\n",
       "      <th>22553</th>\n",
       "      <td>[766]</td>\n",
       "      <td>ARE_1055151</td>\n",
       "      <td>ARE_1055151_312024099_1420_19062017.pdf</td>\n",
       "      <td>agravo_em_recurso_extraordinario</td>\n",
       "      <td>5</td>\n",
       "      <td>{\"audiências conciliação instrução assim comprovado exercício atividade rural através início prova material corroborado pela prova testemunhal não existindo óbice concessão benefício pleiteado nos termos ARTIGO_201º constituição federal vale ainda ressaltar que recentemente stj editou súmula sendo possível reconhecer tempo serviço rural anterior documento mais antigo apresentado desde que amparado convincente prova testemunhal colhida sob contraditório recursos especiais nesse sentido início prova material extemporâneo ratificação por meio robusta prova testemunhal matéria definida sede re...</td>\n",
       "      <td>outros</td>\n",
       "      <td>87.037590</td>\n",
       "    </tr>\n",
       "    <tr>\n",
       "      <th>75753</th>\n",
       "      <td>[503]</td>\n",
       "      <td>ARE_771863</td>\n",
       "      <td>ARE_771863_3414305_1431_12022014.pdf</td>\n",
       "      <td>outros</td>\n",
       "      <td>5</td>\n",
       "      <td>{\"advocacia geral união procuradoria geral federal procuradoria regional federal região quando segurado reúne requisitos para obtenção aposentadoria proporcional lei coloca frente uma opção sua inteira responsabilidade ele pode gozar benefício por mais tempo optar por requerê desde logo ele pode obter benefício valor mais elevado optar por permanecer trabalhando que não está aberto segurado fazer uma simbiose ambas opções aproveitando melhor cada uma preciso que segurado faça seus cálculos avalie sua expectativa vida sua necessidade imediata benefício etc assim tome sua decisão muitas veze...</td>\n",
       "      <td>peticao_do_RE</td>\n",
       "      <td>11.066406</td>\n",
       "    </tr>\n",
       "    <tr>\n",
       "      <th>22512</th>\n",
       "      <td>[766]</td>\n",
       "      <td>ARE_1055151</td>\n",
       "      <td>ARE_1055151_312024085_26_19062017.pdf</td>\n",
       "      <td>outros</td>\n",
       "      <td>1</td>\n",
       "      <td>{\"poder judiciário justiça federal primeira instância seção judiciária paraíba juizado especial federal vara processo termo audiência instrução julgamento hora designada dia nesta cidade campina grande foi feito pregão audiência verificando presentes autor marlene oliveira barbosa advogado autor shirlei alcione sousa melo procurador réu maria carmo dos santos targino testemunhas lindalva silva nascimento via ssds concluída instrução feito provas coletadas audiência por meio digital foram anexadas aos presentes autos passou juiz proferir sentença sentença relatório dispensado ARTIGO_38 LEI_...</td>\n",
       "      <td>sentenca</td>\n",
       "      <td>35.222004</td>\n",
       "    </tr>\n",
       "  </tbody>\n",
       "</table>\n",
       "</div>"
      ],
      "text/plain": [
       "      themes   process_id                                file_name  \\\n",
       "22537  [766]  ARE_1055151    ARE_1055151_312024095_95_19062017.pdf   \n",
       "2315   [800]  ARE_1002499    ARE_1002499_310470468_50_06102016.pdf   \n",
       "22548  [766]  ARE_1055151  ARE_1055151_312024098_1430_19062017.pdf   \n",
       "22553  [766]  ARE_1055151  ARE_1055151_312024099_1420_19062017.pdf   \n",
       "75753  [503]   ARE_771863     ARE_771863_3414305_1431_12022014.pdf   \n",
       "22512  [766]  ARE_1055151    ARE_1055151_312024085_26_19062017.pdf   \n",
       "\n",
       "                          document_type  pages  \\\n",
       "22537                            outros      1   \n",
       "2315                             outros      4   \n",
       "22548                            outros      1   \n",
       "22553  agravo_em_recurso_extraordinario      5   \n",
       "75753                            outros      5   \n",
       "22512                            outros      1   \n",
       "\n",
       "                                                                                                                                                                                                                                                                                                                                                                                                                                                                                                                                                                                                                          body  \\\n",
       "22537                                                                                                                                                                                                                                                                                                                                         {\"sessão ordinária turma recursal paraíba certidão participaram julgamento sessão realizada data excelentíssimos juízes federais sérgio murilo wanderley queiroga rudival gama nascimento bianor arruda bezerra neto joão pessoa otavio cardoso júnior servidor turma recursal\"}   \n",
       "2315   {\"gama pessoas fora dele despertando interesse público tem aquela causa repercussão geral numa única palavra quando houver transcendência serviço saúde dever estado que fato tem dever assegurar todos cidadãos serviços gratuitos saúde como previsto constituição federal ARTIGO_196 que reproduz verbis ARTIGO_196 saúde direito todos dever estado garantido mediante políticas sociais econômicas que visem redução risco doença de outros agravos acesso universal igualitário ações serviços para sua promoção proteção recuperação ressalte que nos termos ARTIGO_199 constituição federal instituições pri...   \n",
       "22548  {\"decisão trata de recurso extraordinário face acórdão proferido por esta turma recursal conquanto supostamente calcado nos ARTIGO_102 iii alínea constituição federal c ARTIGO_15 LEI_10259 recurso extraordinário apreço apresenta inviável pois nas razões que embasam pedido reforma decisão recorrida não demonstra violação concreta constituição federal destarte pacífica jurisprudência supremo tribunal federal sentido não admitir re alegação ofensa indireta carta magna por interpretação aplicação mesmo inobservância normas infraconstitucionais portanto respeito repartição competência poder jud...   \n",
       "22553  {\"audiências conciliação instrução assim comprovado exercício atividade rural através início prova material corroborado pela prova testemunhal não existindo óbice concessão benefício pleiteado nos termos ARTIGO_201º constituição federal vale ainda ressaltar que recentemente stj editou súmula sendo possível reconhecer tempo serviço rural anterior documento mais antigo apresentado desde que amparado convincente prova testemunhal colhida sob contraditório recursos especiais nesse sentido início prova material extemporâneo ratificação por meio robusta prova testemunhal matéria definida sede re...   \n",
       "75753  {\"advocacia geral união procuradoria geral federal procuradoria regional federal região quando segurado reúne requisitos para obtenção aposentadoria proporcional lei coloca frente uma opção sua inteira responsabilidade ele pode gozar benefício por mais tempo optar por requerê desde logo ele pode obter benefício valor mais elevado optar por permanecer trabalhando que não está aberto segurado fazer uma simbiose ambas opções aproveitando melhor cada uma preciso que segurado faça seus cálculos avalie sua expectativa vida sua necessidade imediata benefício etc assim tome sua decisão muitas veze...   \n",
       "22512  {\"poder judiciário justiça federal primeira instância seção judiciária paraíba juizado especial federal vara processo termo audiência instrução julgamento hora designada dia nesta cidade campina grande foi feito pregão audiência verificando presentes autor marlene oliveira barbosa advogado autor shirlei alcione sousa melo procurador réu maria carmo dos santos targino testemunhas lindalva silva nascimento via ssds concluída instrução feito provas coletadas audiência por meio digital foram anexadas aos presentes autos passou juiz proferir sentença sentença relatório dispensado ARTIGO_38 LEI_...   \n",
       "\n",
       "                             prediction       loss  \n",
       "22537            acordao_de_2_instancia  43.269814  \n",
       "2315   agravo_em_recurso_extraordinario  22.593267  \n",
       "22548       despacho_de_admissibilidade  82.258072  \n",
       "22553                            outros  87.037590  \n",
       "75753                     peticao_do_RE  11.066406  \n",
       "22512                          sentenca  35.222004  "
      ]
     },
     "execution_count": 389,
     "metadata": {},
     "output_type": "execute_result"
    }
   ],
   "source": [
    "mistakes"
   ]
  },
  {
   "cell_type": "code",
   "execution_count": 395,
   "metadata": {},
   "outputs": [],
   "source": [
    "base_path = \"/mnt/nas/backups/08-07-2020/desktopg01/lisa/Data/small_flow/test/\"\n",
    "for _, r in mistakes.iterrows():\n",
    "    filename = r[\"file_name\"][:-4] + \"_\" + str(r[\"pages\"]) + \".jpg\"\n",
    "    path = base_path + r[\"document_type\"] + \"/\" + filename\n",
    "    ! cp {path} ./media/{\"wrongest_\" + r[\"prediction\"] + \".jpg\"}"
   ]
  },
  {
   "cell_type": "code",
   "execution_count": 120,
   "metadata": {},
   "outputs": [
    {
     "data": {
      "text/html": [
       "<div>\n",
       "<style scoped>\n",
       "    .dataframe tbody tr th:only-of-type {\n",
       "        vertical-align: middle;\n",
       "    }\n",
       "\n",
       "    .dataframe tbody tr th {\n",
       "        vertical-align: top;\n",
       "    }\n",
       "\n",
       "    .dataframe thead th {\n",
       "        text-align: right;\n",
       "    }\n",
       "</style>\n",
       "<table border=\"1\" class=\"dataframe\">\n",
       "  <thead>\n",
       "    <tr style=\"text-align: right;\">\n",
       "      <th></th>\n",
       "      <th></th>\n",
       "      <th>themes</th>\n",
       "      <th>process_id</th>\n",
       "      <th>file_name</th>\n",
       "      <th>document_type</th>\n",
       "      <th>pages</th>\n",
       "      <th>body</th>\n",
       "      <th>prediction</th>\n",
       "    </tr>\n",
       "    <tr>\n",
       "      <th>prediction</th>\n",
       "      <th></th>\n",
       "      <th></th>\n",
       "      <th></th>\n",
       "      <th></th>\n",
       "      <th></th>\n",
       "      <th></th>\n",
       "      <th></th>\n",
       "      <th></th>\n",
       "    </tr>\n",
       "  </thead>\n",
       "  <tbody>\n",
       "    <tr>\n",
       "      <th>acordao_de_2_instancia</th>\n",
       "      <th>47216</th>\n",
       "      <td>[409]</td>\n",
       "      <td>ARE_665808</td>\n",
       "      <td>ARE_665808_981672_49_23052013.pdf</td>\n",
       "      <td>outros</td>\n",
       "      <td>10</td>\n",
       "      <td>{\"poder judiciário justiça federal seção judiciária rio janeiro efeitos ciclo avaliação dos ativos nos termos enunciado das turmas recursais seção judiciária estado rio janeiro tem como fundamento basilar princípio isonomia a paridade entre ativos inativos torna ponto curial perquirir bases legais que deu ato aposentadoria de concessão pensão tal ocorreu após edição emenda constitucional caso presente extrai que parte autora teve seu benefício inatividade concedido dentro dos períodos requisitos acima descritos conforme inclusive restou incontroverso nos autos ante ausência impugnação espe...</td>\n",
       "      <td>acordao_de_2_instancia</td>\n",
       "    </tr>\n",
       "    <tr>\n",
       "      <th>agravo_em_recurso_extraordinario</th>\n",
       "      <th>2907</th>\n",
       "      <td>[800]</td>\n",
       "      <td>ARE_1005033</td>\n",
       "      <td>ARE_1005033_310560254_1431_18102016.pdf</td>\n",
       "      <td>outros</td>\n",
       "      <td>3</td>\n",
       "      <td>{\"retomando a contagem prazo recursal para interposição presente recurso extraordinário até data final diante exposto tendo sido efetivamente demonstrada tempestividade presente peça processual requer desde bem como final seu acolhimento forma que exs possam apreciar razões fato de direito nela aduzidas breve resumo lide recorrido declarou que solicitou ativação fornecimento energia elétrica seu imóvel ocorre que não foi atendido por esta concessionária que supostamente vem sofrendo com alguns transtornos pela falta energia elétrica sede contestação concessionária ora recorrente esclareceu...</td>\n",
       "      <td>agravo_em_recurso_extraordinario</td>\n",
       "    </tr>\n",
       "    <tr>\n",
       "      <th>despacho_de_admissibilidade</th>\n",
       "      <th>20863</th>\n",
       "      <td>[810]</td>\n",
       "      <td>ARE_1049848</td>\n",
       "      <td>ARE_1049848_311868884_1060_25052017.pdf</td>\n",
       "      <td>outros</td>\n",
       "      <td>2</td>\n",
       "      <td>{\"r intime belo horizonte de setembro guilherme martins damini juiz leigo embargos declaração processo promovente paulo gomes promovido estado minas gerais vistos etc nos termos ARTIGO_40 LEI_9099 homologo projeto embargos declaração para que produza seus jurídicos legais fundamentos belo horizonte de outubro karina veloso gangana tanure juiz íza direito documento assinado eletronicamente\"}</td>\n",
       "      <td>despacho_de_admissibilidade</td>\n",
       "    </tr>\n",
       "    <tr>\n",
       "      <th>outros</th>\n",
       "      <th>35439</th>\n",
       "      <td>[555, 852]</td>\n",
       "      <td>ARE_1076540</td>\n",
       "      <td>ARE_1076540_312770497_12_20092017.pdf</td>\n",
       "      <td>peticao_do_RE</td>\n",
       "      <td>3</td>\n",
       "      <td>{\"do novel ARTIGO_543 define que vem ser repercussão geral nos seguintes termos fls para efeito repercussão geral será considerada existência não questões relevantes ponto vista econômico político social jurídico que ultrapassem interesses subjetivos causa inicialmente registra que questão direito deste recurso foi examinada seu aspecto infraconstitucional pelo superior tribunal justiça stj procedimento recurso especial repetitivo representativo controvérsia conforme documento consulta autenticidade documento através site SITE informação extraída inf stj verbis direito previdenciário ARTIG...</td>\n",
       "      <td>outros</td>\n",
       "    </tr>\n",
       "    <tr>\n",
       "      <th>peticao_do_RE</th>\n",
       "      <th>55</th>\n",
       "      <td>[409]</td>\n",
       "      <td>AI_859014</td>\n",
       "      <td>AI_859014_2811607_26_16052013.pdf</td>\n",
       "      <td>outros</td>\n",
       "      <td>7</td>\n",
       "      <td>{\"advocacia geral união procuradoria união paraíba mediante tramitação própria ARTIGO_64 cf poder legislativo não sendo poder judiciário competente para fazer vezes legislador sob pena ofensa toda disciplina processo legislativo previsto constituição nunca demais lembrar com devido acatamento que princípio tripartição poderes estampado ARTIGO_2º carta magna como verdadeira cláusula pétrea confere autonomia legitimidade para seus destinatários estrita acepção suas atribuições justificando assim sua eqüidistância força específicos modo que cada destes não tenha condições interferir nas atrib...</td>\n",
       "      <td>peticao_do_RE</td>\n",
       "    </tr>\n",
       "    <tr>\n",
       "      <th>sentenca</th>\n",
       "      <th>78992</th>\n",
       "      <td>[313]</td>\n",
       "      <td>ARE_802076</td>\n",
       "      <td>ARE_802076_4169754_1324_17072015.pdf</td>\n",
       "      <td>outros</td>\n",
       "      <td>4</td>\n",
       "      <td>{\"custas honorários advocatícios dispensados nos termos ARTIGO_55 LEI_9099 intimações forma LEI_0259 recife de novembro kylce anne pereira collier mendonça juíza federal substituta vara\"}</td>\n",
       "      <td>sentenca</td>\n",
       "    </tr>\n",
       "  </tbody>\n",
       "</table>\n",
       "</div>"
      ],
      "text/plain": [
       "                                            themes   process_id  \\\n",
       "prediction                                                        \n",
       "acordao_de_2_instancia           47216       [409]   ARE_665808   \n",
       "agravo_em_recurso_extraordinario 2907        [800]  ARE_1005033   \n",
       "despacho_de_admissibilidade      20863       [810]  ARE_1049848   \n",
       "outros                           35439  [555, 852]  ARE_1076540   \n",
       "peticao_do_RE                    55          [409]    AI_859014   \n",
       "sentenca                         78992       [313]   ARE_802076   \n",
       "\n",
       "                                                                      file_name  \\\n",
       "prediction                                                                        \n",
       "acordao_de_2_instancia           47216        ARE_665808_981672_49_23052013.pdf   \n",
       "agravo_em_recurso_extraordinario 2907   ARE_1005033_310560254_1431_18102016.pdf   \n",
       "despacho_de_admissibilidade      20863  ARE_1049848_311868884_1060_25052017.pdf   \n",
       "outros                           35439    ARE_1076540_312770497_12_20092017.pdf   \n",
       "peticao_do_RE                    55           AI_859014_2811607_26_16052013.pdf   \n",
       "sentenca                         78992     ARE_802076_4169754_1324_17072015.pdf   \n",
       "\n",
       "                                        document_type  pages  \\\n",
       "prediction                                                     \n",
       "acordao_de_2_instancia           47216         outros     10   \n",
       "agravo_em_recurso_extraordinario 2907          outros      3   \n",
       "despacho_de_admissibilidade      20863         outros      2   \n",
       "outros                           35439  peticao_do_RE      3   \n",
       "peticao_do_RE                    55            outros      7   \n",
       "sentenca                         78992         outros      4   \n",
       "\n",
       "                                                                                                                                                                                                                                                                                                                                                                                                                                                                                                                                                                                                                                                           body  \\\n",
       "prediction                                                                                                                                                                                                                                                                                                                                                                                                                                                                                                                                                                                                                                                        \n",
       "acordao_de_2_instancia           47216  {\"poder judiciário justiça federal seção judiciária rio janeiro efeitos ciclo avaliação dos ativos nos termos enunciado das turmas recursais seção judiciária estado rio janeiro tem como fundamento basilar princípio isonomia a paridade entre ativos inativos torna ponto curial perquirir bases legais que deu ato aposentadoria de concessão pensão tal ocorreu após edição emenda constitucional caso presente extrai que parte autora teve seu benefício inatividade concedido dentro dos períodos requisitos acima descritos conforme inclusive restou incontroverso nos autos ante ausência impugnação espe...   \n",
       "agravo_em_recurso_extraordinario 2907   {\"retomando a contagem prazo recursal para interposição presente recurso extraordinário até data final diante exposto tendo sido efetivamente demonstrada tempestividade presente peça processual requer desde bem como final seu acolhimento forma que exs possam apreciar razões fato de direito nela aduzidas breve resumo lide recorrido declarou que solicitou ativação fornecimento energia elétrica seu imóvel ocorre que não foi atendido por esta concessionária que supostamente vem sofrendo com alguns transtornos pela falta energia elétrica sede contestação concessionária ora recorrente esclareceu...   \n",
       "despacho_de_admissibilidade      20863                                                                                                                                                                                                                {\"r intime belo horizonte de setembro guilherme martins damini juiz leigo embargos declaração processo promovente paulo gomes promovido estado minas gerais vistos etc nos termos ARTIGO_40 LEI_9099 homologo projeto embargos declaração para que produza seus jurídicos legais fundamentos belo horizonte de outubro karina veloso gangana tanure juiz íza direito documento assinado eletronicamente\"}   \n",
       "outros                           35439  {\"do novel ARTIGO_543 define que vem ser repercussão geral nos seguintes termos fls para efeito repercussão geral será considerada existência não questões relevantes ponto vista econômico político social jurídico que ultrapassem interesses subjetivos causa inicialmente registra que questão direito deste recurso foi examinada seu aspecto infraconstitucional pelo superior tribunal justiça stj procedimento recurso especial repetitivo representativo controvérsia conforme documento consulta autenticidade documento através site SITE informação extraída inf stj verbis direito previdenciário ARTIG...   \n",
       "peticao_do_RE                    55     {\"advocacia geral união procuradoria união paraíba mediante tramitação própria ARTIGO_64 cf poder legislativo não sendo poder judiciário competente para fazer vezes legislador sob pena ofensa toda disciplina processo legislativo previsto constituição nunca demais lembrar com devido acatamento que princípio tripartição poderes estampado ARTIGO_2º carta magna como verdadeira cláusula pétrea confere autonomia legitimidade para seus destinatários estrita acepção suas atribuições justificando assim sua eqüidistância força específicos modo que cada destes não tenha condições interferir nas atrib...   \n",
       "sentenca                         78992                                                                                                                                                                                                                                                                                                                                                                                                                              {\"custas honorários advocatícios dispensados nos termos ARTIGO_55 LEI_9099 intimações forma LEI_0259 recife de novembro kylce anne pereira collier mendonça juíza federal substituta vara\"}   \n",
       "\n",
       "                                                              prediction  \n",
       "prediction                                                                \n",
       "acordao_de_2_instancia           47216            acordao_de_2_instancia  \n",
       "agravo_em_recurso_extraordinario 2907   agravo_em_recurso_extraordinario  \n",
       "despacho_de_admissibilidade      20863       despacho_de_admissibilidade  \n",
       "outros                           35439                            outros  \n",
       "peticao_do_RE                    55                        peticao_do_RE  \n",
       "sentenca                         78992                          sentenca  "
      ]
     },
     "execution_count": 120,
     "metadata": {},
     "output_type": "execute_result"
    }
   ],
   "source": [
    "test_df.groupby(\"prediction\").apply(lambda x: (x[x['prediction'] != x['document_type']]).sample(1))"
   ]
  },
  {
   "cell_type": "code",
   "execution_count": null,
   "metadata": {},
   "outputs": [],
   "source": []
  }
 ],
 "metadata": {
  "kernelspec": {
   "display_name": "fastai2",
   "language": "python",
   "name": "fastai2"
  },
  "language_info": {
   "codemirror_mode": {
    "name": "ipython",
    "version": 3
   },
   "file_extension": ".py",
   "mimetype": "text/x-python",
   "name": "python",
   "nbconvert_exporter": "python",
   "pygments_lexer": "ipython3",
   "version": "3.8.10"
  }
 },
 "nbformat": 4,
 "nbformat_minor": 4
}
