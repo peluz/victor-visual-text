{
 "cells": [
  {
   "cell_type": "code",
   "execution_count": 20,
   "metadata": {},
   "outputs": [
    {
     "name": "stdout",
     "output_type": "stream",
     "text": [
      "The autoreload extension is already loaded. To reload it, use:\n",
      "  %reload_ext autoreload\n"
     ]
    }
   ],
   "source": [
    "%load_ext autoreload\n",
    "%autoreload 2\n",
    "\n",
    "from fastai.text.all import *\n",
    "from fastai.vision.all import *\n",
    "import pandas as pd\n",
    "import torch\n",
    "from tqdm.notebook import tqdm\n",
    "from sklearn.metrics import classification_report, f1_score, confusion_matrix\n",
    "from torchcrf import CRF\n",
    "from utils import get_sequences, GetLabels, My_Pad_Input, GetImgAndTextEmbs"
   ]
  },
  {
   "cell_type": "code",
   "execution_count": 2,
   "metadata": {},
   "outputs": [
    {
     "data": {
      "text/plain": [
       "True"
      ]
     },
     "execution_count": 2,
     "metadata": {},
     "output_type": "execute_result"
    }
   ],
   "source": [
    "seed = 42\n",
    "\n",
    "# python RNG\n",
    "import random\n",
    "random.seed(seed)\n",
    "\n",
    "# pytorch RNGs\n",
    "import torch\n",
    "torch.manual_seed(seed)\n",
    "torch.backends.cudnn.deterministic = True\n",
    "if torch.cuda.is_available(): torch.cuda.manual_seed_all(seed)\n",
    "\n",
    "# numpy RNG\n",
    "import numpy as np\n",
    "np.random.seed(seed)\n",
    "\n",
    "torch.cuda.is_available()"
   ]
  },
  {
   "cell_type": "code",
   "execution_count": 3,
   "metadata": {},
   "outputs": [],
   "source": [
    "OUT_DIM=12\n",
    "INPUT_DIM=128\n",
    "BS= 8"
   ]
  },
  {
   "cell_type": "code",
   "execution_count": 4,
   "metadata": {},
   "outputs": [],
   "source": [
    "dls = torch.load(\"./data/dls_sequence_from_embs.pth\")"
   ]
  },
  {
   "cell_type": "code",
   "execution_count": 5,
   "metadata": {},
   "outputs": [],
   "source": [
    "test_dl = torch.load(\"./data/test_dl_sequence_from_embs.pth\")"
   ]
  },
  {
   "cell_type": "code",
   "execution_count": 6,
   "metadata": {},
   "outputs": [],
   "source": [
    "dls.bs = dls.train.bs = dls.valid.bs = test_dl.bs = 8"
   ]
  },
  {
   "cell_type": "code",
   "execution_count": 16,
   "metadata": {},
   "outputs": [],
   "source": [
    "class LSTMModel(Module):\n",
    "    def __init__(self, input_dim, out_dim, hidden_dim=128):\n",
    "        self.lstm = torch.nn.LSTM(input_size=hidden_dim*4, hidden_size=hidden_dim,\n",
    "                                  batch_first=True, bidirectional=True).cuda()\n",
    "        self.bn1 = nn.BatchNorm1d(input_dim, momentum=0.01).cuda()\n",
    "        self.bn2 = nn.BatchNorm1d(hidden_dim*2, momentum=0.01).cuda()\n",
    "        self.drop1 = nn.Dropout().cuda()\n",
    "        self.drop2 = nn.Dropout().cuda()\n",
    "        self.lin1 = nn.Linear(input_dim, hidden_dim*4).cuda()\n",
    "        self.lin2 = nn.Linear(hidden_dim*2, out_dim).cuda()\n",
    "        self.relu = nn.ReLU().cuda()\n",
    "        \n",
    "    def forward(self, x):\n",
    "        x = x.permute(0, 2, 1)\n",
    "        x = self.bn1(x)\n",
    "        x = self.drop1(x)\n",
    "        x = x.permute(0, 2, 1)\n",
    "        x = self.lin1(x)\n",
    "        x = self.relu(x)\n",
    "        out, _ = self.lstm(x)\n",
    "        out = out.permute(0, 2, 1)\n",
    "        out_norm = self.bn2(out)\n",
    "        out_drop = self.drop2(out_norm)\n",
    "        out_drop = out_drop.permute(0, 2, 1)\n",
    "        return self.lin2(out_drop)"
   ]
  },
  {
   "cell_type": "code",
   "execution_count": 17,
   "metadata": {},
   "outputs": [],
   "source": [
    "model = LSTMModel(7936, 12)"
   ]
  },
  {
   "cell_type": "code",
   "execution_count": 9,
   "metadata": {},
   "outputs": [],
   "source": [
    "def loss_func(out, targ):\n",
    "    return CrossEntropyLossFlat(ignore_index=OUT_DIM)(out, targ.long())"
   ]
  },
  {
   "cell_type": "code",
   "execution_count": 23,
   "metadata": {},
   "outputs": [
    {
     "data": {
      "text/plain": [
       "<fastai.learner.Learner at 0x7f6f4c18a880>"
      ]
     },
     "execution_count": 23,
     "metadata": {},
     "output_type": "execute_result"
    }
   ],
   "source": [
    "learn = Learner(dls, model, loss_func=loss_func)\n",
    "learn.load(\"best_sequence_from_embs128_moreEpochs\")"
   ]
  },
  {
   "cell_type": "code",
   "execution_count": 24,
   "metadata": {},
   "outputs": [
    {
     "data": {
      "text/html": [
       "<table border=\"1\" class=\"dataframe\">\n",
       "  <thead>\n",
       "    <tr style=\"text-align: left;\">\n",
       "      <th>epoch</th>\n",
       "      <th>train_loss</th>\n",
       "      <th>valid_loss</th>\n",
       "      <th>time</th>\n",
       "    </tr>\n",
       "  </thead>\n",
       "  <tbody>\n",
       "    <tr>\n",
       "      <td>0</td>\n",
       "      <td>None</td>\n",
       "      <td>00:00</td>\n",
       "    </tr>\n",
       "  </tbody>\n",
       "</table>"
      ],
      "text/plain": [
       "<IPython.core.display.HTML object>"
      ]
     },
     "metadata": {},
     "output_type": "display_data"
    },
    {
     "data": {
      "text/plain": [
       "LSTMModel (Input shape: ['8 x 4242 x 7936'])\n",
       "================================================================\n",
       "Layer (type)         Output Shape         Param #    Trainable \n",
       "================================================================\n",
       "LSTM                 ['8 x 4242 x 256',   657,408    True      \n",
       "________________________________________________________________\n",
       "BatchNorm1d          8 x 7936 x 4242      15,872     True      \n",
       "________________________________________________________________\n",
       "BatchNorm1d          8 x 256 x 4242       512        True      \n",
       "________________________________________________________________\n",
       "Dropout              8 x 7936 x 4242      0          False     \n",
       "________________________________________________________________\n",
       "Dropout              8 x 256 x 4242       0          False     \n",
       "________________________________________________________________\n",
       "Linear               8 x 4242 x 512       4,063,744  True      \n",
       "________________________________________________________________\n",
       "Linear               8 x 4242 x 12        3,084      True      \n",
       "________________________________________________________________\n",
       "ReLU                 8 x 4242 x 512       0          False     \n",
       "________________________________________________________________\n",
       "\n",
       "Total params: 4,740,620\n",
       "Total trainable params: 4,740,620\n",
       "Total non-trainable params: 0\n",
       "\n",
       "Optimizer used: <function Adam at 0x7f6f7003f9d0>\n",
       "Loss function: <function loss_func at 0x7f6f4f625d30>\n",
       "\n",
       "Model unfrozen\n",
       "\n",
       "Callbacks:\n",
       "  - TrainEvalCallback\n",
       "  - Recorder\n",
       "  - ProgressCallback"
      ]
     },
     "execution_count": 24,
     "metadata": {},
     "output_type": "execute_result"
    }
   ],
   "source": [
    "learn.summary()"
   ]
  },
  {
   "cell_type": "code",
   "execution_count": 27,
   "metadata": {},
   "outputs": [],
   "source": [
    "def evaluate(learn, dl):\n",
    "    preds, targets = learn.get_preds(dl=dl)\n",
    "    preds =[np.argmax(x, axis=-1) for sublist in preds for x in sublist]\n",
    "    targets = [x for sublist in targets for x in sublist]\n",
    "    pad_idxs = [i for i,x in enumerate(targets) if x != tensor([12])]\n",
    "    preds = L(preds)[pad_idxs]\n",
    "    targets = L(targets)[pad_idxs]\n",
    "    print(classification_report(targets, preds, target_names=dl.get_labels.cat.vocab, digits=4))\n",
    "    preds = [x % 6 for x in preds]\n",
    "    targets = [x % 6 for x in targets]\n",
    "    print(classification_report(targets, preds, target_names=[x[2:] for x in dl.get_labels.cat.vocab[:6]], digits=4))\n",
    "    return preds, targets"
   ]
  },
  {
   "cell_type": "code",
   "execution_count": 29,
   "metadata": {},
   "outputs": [
    {
     "data": {
      "text/html": [],
      "text/plain": [
       "<IPython.core.display.HTML object>"
      ]
     },
     "metadata": {},
     "output_type": "display_data"
    },
    {
     "name": "stdout",
     "output_type": "stream",
     "text": [
      "                                    precision    recall  f1-score   support\n",
      "\n",
      "          B-acordao_de_2_instancia     0.9613    0.8744    0.9158       199\n",
      "B-agravo_em_recurso_extraordinario     0.6166    0.5587    0.5862       213\n",
      "     B-despacho_de_admissibilidade     0.7965    0.6122    0.6923       147\n",
      "                          B-outros     0.9326    0.8898    0.9107     25744\n",
      "                   B-peticao_do_RE     0.8185    0.6506    0.7250       312\n",
      "                        B-sentenca     0.8584    0.7547    0.8032       265\n",
      "          I-acordao_de_2_instancia     0.6296    0.9189    0.7473        74\n",
      "I-agravo_em_recurso_extraordinario     0.5512    0.6677    0.6039      1628\n",
      "     I-despacho_de_admissibilidade     0.5000    0.4706    0.4848        51\n",
      "                          I-outros     0.9275    0.9447    0.9360     59664\n",
      "                   I-peticao_do_RE     0.7988    0.7937    0.7962      6019\n",
      "                        I-sentenca     0.8822    0.8174    0.8486      1210\n",
      "\n",
      "                          accuracy                         0.9108     95526\n",
      "                         macro avg     0.7728    0.7461    0.7542     95526\n",
      "                      weighted avg     0.9120    0.9108    0.9110     95526\n",
      "\n",
      "                                  precision    recall  f1-score   support\n",
      "\n",
      "          acordao_de_2_instancia     0.8651    0.9158    0.8897       273\n",
      "agravo_em_recurso_extraordinario     0.5658    0.6654    0.6116      1841\n",
      "     despacho_de_admissibilidade     0.7143    0.5808    0.6407       198\n",
      "                          outros     0.9750    0.9741    0.9746     85408\n",
      "                   peticao_do_RE     0.8033    0.7902    0.7967      6331\n",
      "                        sentenca     0.8907    0.8176    0.8526      1475\n",
      "\n",
      "                        accuracy                         0.9526     95526\n",
      "                       macro avg     0.8024    0.7907    0.7943     95526\n",
      "                    weighted avg     0.9536    0.9526    0.9530     95526\n",
      "\n"
     ]
    }
   ],
   "source": [
    "preds, targets = evaluate(learn, test_dl)"
   ]
  },
  {
   "cell_type": "code",
   "execution_count": 46,
   "metadata": {},
   "outputs": [],
   "source": [
    "def plot_confusion_matrix(y_true, y_pred, classes,\n",
    "                          normalize=False,\n",
    "                          title=None,\n",
    "                          cmap=plt.cm.Blues):\n",
    "    \"\"\"\n",
    "    This function prints and plots the confusion matrix.\n",
    "    Normalization can be applied by setting `normalize=True`.\n",
    "    \"\"\"\n",
    "    if not title:\n",
    "        if normalize:\n",
    "            title = 'Normalized confusion matrix'\n",
    "        else:\n",
    "            title = 'Confusion matrix, without normalization'\n",
    "\n",
    "    # Compute confusion matrix\n",
    "    cm = confusion_matrix(y_true, y_pred)\n",
    "    if normalize:\n",
    "        cm = cm.astype('float') / cm.sum(axis=1)[:, np.newaxis] *1--\n",
    "        print(\"Normalized confusion matrix\")\n",
    "    else:\n",
    "        print('Confusion matrix, without normalization')\n",
    "\n",
    "    fig, ax = plt.subplots()\n",
    "    fig.set_size_inches(10,10)\n",
    "    im = ax.imshow(cm, interpolation='nearest', cmap=cmap)\n",
    "    # We want to show all ticks...\n",
    "    ax.set(xticks=np.arange(cm.shape[1]),\n",
    "           yticks=np.arange(cm.shape[0]),\n",
    "           # ... and label them with the respective list entries\n",
    "           xticklabels=classes, yticklabels=classes,\n",
    "           title=title,\n",
    "           ylabel='True label',\n",
    "           xlabel='Predicted label')\n",
    "\n",
    "    # Rotate the tick labels and set their alignment.\n",
    "    plt.setp(ax.get_xticklabels(), rotation=45, ha=\"right\",\n",
    "             rotation_mode=\"anchor\")\n",
    "\n",
    "    # Loop over data dimensions and create text annotations.\n",
    "    fmt = '.2f' if normalize else 'd'\n",
    "    thresh = cm.max() / 2.\n",
    "    for i in range(cm.shape[0]):\n",
    "        for j in range(cm.shape[1]):\n",
    "            ax.text(j, i, format(cm[i, j], fmt),\n",
    "                    ha=\"center\", va=\"center\",\n",
    "                    color=\"white\" if cm[i, j] > thresh else \"black\")\n",
    "    fig.tight_layout()\n",
    "    return ax"
   ]
  },
  {
   "cell_type": "code",
   "execution_count": 51,
   "metadata": {},
   "outputs": [
    {
     "name": "stdout",
     "output_type": "stream",
     "text": [
      "Confusion matrix, without normalization\n"
     ]
    },
    {
     "data": {
      "text/plain": [
       "<AxesSubplot:title={'center':' '}, xlabel='Predicted label', ylabel='True label'>"
      ]
     },
     "execution_count": 51,
     "metadata": {},
     "output_type": "execute_result"
    },
    {
     "data": {
      "image/png": "[encoded data removed]",
      "text/plain": [
       "<Figure size 720x720 with 1 Axes>"
      ]
     },
     "metadata": {
      "needs_background": "light"
     },
     "output_type": "display_data"
    }
   ],
   "source": [
    "plot_confusion_matrix(targets, preds, [\"Acórdão\", \"ARE\", \"Despacho\", \"Others\", \"RE\", \"Sentença\"],\n",
    "                      normalize=True, title=\" \")"
   ]
  },
  {
   "cell_type": "code",
   "execution_count": null,
   "metadata": {},
   "outputs": [],
   "source": []
  }
 ],
 "metadata": {
  "kernelspec": {
   "display_name": "fastai2",
   "language": "python",
   "name": "fastai2"
  },
  "language_info": {
   "codemirror_mode": {
    "name": "ipython",
    "version": 3
   },
   "file_extension": ".py",
   "mimetype": "text/x-python",
   "name": "python",
   "nbconvert_exporter": "python",
   "pygments_lexer": "ipython3",
   "version": "3.8.10"
  }
 },
 "nbformat": 4,
 "nbformat_minor": 4
}
