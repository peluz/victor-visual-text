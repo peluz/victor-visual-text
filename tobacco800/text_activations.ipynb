{
 "cells": [
  {
   "cell_type": "code",
   "execution_count": 2,
   "metadata": {},
   "outputs": [],
   "source": [
    "%load_ext autoreload\n",
    "%autoreload 2\n",
    "\n",
    "#from fastai.text.all import *\n",
    "import tensorflow as tf\n",
    "from tensorflow.keras.models import model_from_json\n",
    "from tensorflow.keras.layers import Input\n",
    "from tensorflow.keras.preprocessing import sequence\n",
    "from tensorflow.keras.utils import to_categorical\n",
    "from sklearn.preprocessing import LabelEncoder\n",
    "from sklearn.metrics import classification_report\n",
    "from os.path import join, split, splitext\n",
    "from pathlib import Path\n",
    "\n",
    "import pandas as pd\n",
    "import pickle\n",
    "\n",
    "import tqdm"
   ]
  },
  {
   "cell_type": "code",
   "execution_count": 16,
   "metadata": {},
   "outputs": [],
   "source": []
  },
  {
   "cell_type": "code",
   "execution_count": 3,
   "metadata": {},
   "outputs": [],
   "source": [
    "seed = 42\n",
    "\n",
    "# python RNG\n",
    "import random\n",
    "random.seed(seed)\n",
    "\n",
    "# pytorch RNGs\n",
    "# import torch\n",
    "# torch.manual_seed(seed)\n",
    "# torch.backends.cudnn.deterministic = True\n",
    "# if torch.cuda.is_available(): torch.cuda.manual_seed_all(seed)\n",
    "\n",
    "# numpy RNG\n",
    "import numpy as np\n",
    "np.random.seed(seed)\n",
    "\n",
    "# tensorflow RNG\n",
    "tf.random.set_seed(seed)"
   ]
  },
  {
   "cell_type": "code",
   "execution_count": 4,
   "metadata": {},
   "outputs": [],
   "source": [
    "SEQUENCE_LEN = 500 # Size of input arrays"
   ]
  },
  {
   "cell_type": "code",
   "execution_count": 5,
   "metadata": {},
   "outputs": [],
   "source": [
    "models_path = Path(\"./models/\")\n",
    "weights_path = models_path/\"stf_no_weights.keras\"\n",
    "json_path = models_path/\"cnn_text.json\"\n",
    "tokenizer_path = models_path/\"tokenizer.pickle\""
   ]
  },
  {
   "cell_type": "code",
   "execution_count": 6,
   "metadata": {},
   "outputs": [
    {
     "name": "stderr",
     "output_type": "stream",
     "text": [
      "2021-09-21 20:33:14.013707: I tensorflow/stream_executor/cuda/cuda_gpu_executor.cc:937] successful NUMA node read from SysFS had negative value (-1), but there must be at least one NUMA node, so returning NUMA node zero\n",
      "2021-09-21 20:33:14.559396: W tensorflow/stream_executor/platform/default/dso_loader.cc:64] Could not load dynamic library 'libcudnn.so.8'; dlerror: libcudnn.so.8: cannot open shared object file: No such file or directory\n",
      "2021-09-21 20:33:14.559435: W tensorflow/core/common_runtime/gpu/gpu_device.cc:1835] Cannot dlopen some GPU libraries. Please make sure the missing libraries mentioned above are installed properly if you would like to use GPU. Follow the guide at https://www.tensorflow.org/install/gpu for how to download and setup the required libraries for your platform.\n",
      "Skipping registering GPU devices...\n"
     ]
    }
   ],
   "source": [
    "json_file = open(json_path,'r')\n",
    "loaded_model_json = json_file.read()\n",
    "json_file.close()\n",
    "model = model_from_json(loaded_model_json)"
   ]
  },
  {
   "cell_type": "code",
   "execution_count": 7,
   "metadata": {},
   "outputs": [],
   "source": [
    "model.load_weights(weights_path)"
   ]
  },
  {
   "cell_type": "code",
   "execution_count": 8,
   "metadata": {},
   "outputs": [],
   "source": [
    "model.compile(loss='categorical_crossentropy', optimizer='adam', metrics=['accuracy'])"
   ]
  },
  {
   "cell_type": "code",
   "execution_count": 9,
   "metadata": {},
   "outputs": [],
   "source": [
    "data_path = Path(\"/mnt/nas/databases/Tobacco800/unziped/\")"
   ]
  },
  {
   "cell_type": "code",
   "execution_count": 12,
   "metadata": {},
   "outputs": [
    {
     "name": "stdout",
     "output_type": "stream",
     "text": [
      "(1031, 4)\n",
      "(1019, 4)\n"
     ]
    }
   ],
   "source": [
    "train = pd.read_csv(data_path/\"train.csv\", delimiter=';',  usecols=['binder','docid','class', 'text'])\n",
    "train.rename(columns={'text':'body'}, inplace=True)\n",
    "print(train.shape)\n",
    "train.dropna(inplace=True)\n",
    "print(train.shape)"
   ]
  },
  {
   "cell_type": "code",
   "execution_count": 13,
   "metadata": {},
   "outputs": [
    {
     "name": "stdout",
     "output_type": "stream",
     "text": [
      "(200, 4)\n"
     ]
    },
    {
     "data": {
      "text/html": [
       "<div>\n",
       "<style scoped>\n",
       "    .dataframe tbody tr th:only-of-type {\n",
       "        vertical-align: middle;\n",
       "    }\n",
       "\n",
       "    .dataframe tbody tr th {\n",
       "        vertical-align: top;\n",
       "    }\n",
       "\n",
       "    .dataframe thead th {\n",
       "        text-align: right;\n",
       "    }\n",
       "</style>\n",
       "<table border=\"1\" class=\"dataframe\">\n",
       "  <thead>\n",
       "    <tr style=\"text-align: right;\">\n",
       "      <th></th>\n",
       "      <th>binder</th>\n",
       "      <th>docid</th>\n",
       "      <th>class</th>\n",
       "      <th>body</th>\n",
       "    </tr>\n",
       "  </thead>\n",
       "  <tbody>\n",
       "    <tr>\n",
       "      <th>830</th>\n",
       "      <td>Tobacco800</td>\n",
       "      <td>pkc56d00</td>\n",
       "      <td>FirstPage</td>\n",
       "      <td>.&gt;-&gt;aa, Mailand 20014 / (301) 654-3400        ...</td>\n",
       "    </tr>\n",
       "    <tr>\n",
       "      <th>831</th>\n",
       "      <td>Tobacco800</td>\n",
       "      <td>pkj90c00</td>\n",
       "      <td>FirstPage</td>\n",
       "      <td>AMERICAN '93 THE NEETROnilER FIELD SALES INFOR...</td>\n",
       "    </tr>\n",
       "    <tr>\n",
       "      <th>832</th>\n",
       "      <td>Tobacco800</td>\n",
       "      <td>ply60e00</td>\n",
       "      <td>FirstPage</td>\n",
       "      <td>LORILLARD INC. • ONE PARK AVENUE. NEW YORK. N....</td>\n",
       "    </tr>\n",
       "    <tr>\n",
       "      <th>833</th>\n",
       "      <td>Tobacco800</td>\n",
       "      <td>pmx82f00-page04_1</td>\n",
       "      <td>FirstPage</td>\n",
       "      <td>4    4 -/ NEWELL W. ELLISON H. THOMAS AUSTERN ...</td>\n",
       "    </tr>\n",
       "    <tr>\n",
       "      <th>834</th>\n",
       "      <td>Tobacco800</td>\n",
       "      <td>pmx82f00-page04_2</td>\n",
       "      <td>NextPage</td>\n",
       "      <td>COVINGTON &amp; BURLING                       CONF...</td>\n",
       "    </tr>\n",
       "  </tbody>\n",
       "</table>\n",
       "</div>"
      ],
      "text/plain": [
       "         binder              docid      class  \\\n",
       "830  Tobacco800           pkc56d00  FirstPage   \n",
       "831  Tobacco800           pkj90c00  FirstPage   \n",
       "832  Tobacco800           ply60e00  FirstPage   \n",
       "833  Tobacco800  pmx82f00-page04_1  FirstPage   \n",
       "834  Tobacco800  pmx82f00-page04_2   NextPage   \n",
       "\n",
       "                                                  body  \n",
       "830  .>->aa, Mailand 20014 / (301) 654-3400        ...  \n",
       "831  AMERICAN '93 THE NEETROnilER FIELD SALES INFOR...  \n",
       "832  LORILLARD INC. • ONE PARK AVENUE. NEW YORK. N....  \n",
       "833  4    4 -/ NEWELL W. ELLISON H. THOMAS AUSTERN ...  \n",
       "834  COVINGTON & BURLING                       CONF...  "
      ]
     },
     "execution_count": 13,
     "metadata": {},
     "output_type": "execute_result"
    }
   ],
   "source": [
    "val = train.iloc[-200:,:]; print(val.shape); val.head()"
   ]
  },
  {
   "cell_type": "code",
   "execution_count": 14,
   "metadata": {},
   "outputs": [
    {
     "name": "stdout",
     "output_type": "stream",
     "text": [
      "(819, 4)\n"
     ]
    },
    {
     "data": {
      "text/html": [
       "<div>\n",
       "<style scoped>\n",
       "    .dataframe tbody tr th:only-of-type {\n",
       "        vertical-align: middle;\n",
       "    }\n",
       "\n",
       "    .dataframe tbody tr th {\n",
       "        vertical-align: top;\n",
       "    }\n",
       "\n",
       "    .dataframe thead th {\n",
       "        text-align: right;\n",
       "    }\n",
       "</style>\n",
       "<table border=\"1\" class=\"dataframe\">\n",
       "  <thead>\n",
       "    <tr style=\"text-align: right;\">\n",
       "      <th></th>\n",
       "      <th>binder</th>\n",
       "      <th>docid</th>\n",
       "      <th>class</th>\n",
       "      <th>body</th>\n",
       "    </tr>\n",
       "  </thead>\n",
       "  <tbody>\n",
       "    <tr>\n",
       "      <th>0</th>\n",
       "      <td>Tobacco800</td>\n",
       "      <td>aah97e00-page02_1</td>\n",
       "      <td>FirstPage</td>\n",
       "      <td>Dr. M.A. Manzelli, PHILIP MORRIS INC., Researc...</td>\n",
       "    </tr>\n",
       "    <tr>\n",
       "      <th>1</th>\n",
       "      <td>Tobacco800</td>\n",
       "      <td>aah97e00-page02_2</td>\n",
       "      <td>NextPage</td>\n",
       "      <td>- 2 - Please let me krow if you have any chang...</td>\n",
       "    </tr>\n",
       "    <tr>\n",
       "      <th>2</th>\n",
       "      <td>Tobacco800</td>\n",
       "      <td>aam09c00</td>\n",
       "      <td>FirstPage</td>\n",
       "      <td>I NOIJ-04-97    13 = 25 FROM = I D : PAGE 10/1...</td>\n",
       "    </tr>\n",
       "    <tr>\n",
       "      <th>3</th>\n",
       "      <td>Tobacco800</td>\n",
       "      <td>aao54e00_1</td>\n",
       "      <td>FirstPage</td>\n",
       "      <td>i PHILIP .MORRIS         INCORPORATED 120 PARK...</td>\n",
       "    </tr>\n",
       "    <tr>\n",
       "      <th>4</th>\n",
       "      <td>Tobacco800</td>\n",
       "      <td>aao54e00_2</td>\n",
       "      <td>NextPage</td>\n",
       "      <td>In the meantime, I hope you and your friends a...</td>\n",
       "    </tr>\n",
       "  </tbody>\n",
       "</table>\n",
       "</div>"
      ],
      "text/plain": [
       "       binder              docid      class  \\\n",
       "0  Tobacco800  aah97e00-page02_1  FirstPage   \n",
       "1  Tobacco800  aah97e00-page02_2   NextPage   \n",
       "2  Tobacco800           aam09c00  FirstPage   \n",
       "3  Tobacco800         aao54e00_1  FirstPage   \n",
       "4  Tobacco800         aao54e00_2   NextPage   \n",
       "\n",
       "                                                body  \n",
       "0  Dr. M.A. Manzelli, PHILIP MORRIS INC., Researc...  \n",
       "1  - 2 - Please let me krow if you have any chang...  \n",
       "2  I NOIJ-04-97    13 = 25 FROM = I D : PAGE 10/1...  \n",
       "3  i PHILIP .MORRIS         INCORPORATED 120 PARK...  \n",
       "4  In the meantime, I hope you and your friends a...  "
      ]
     },
     "execution_count": 14,
     "metadata": {},
     "output_type": "execute_result"
    }
   ],
   "source": [
    "train = train.iloc[:-200,:]; print(train.shape);train.head()"
   ]
  },
  {
   "cell_type": "code",
   "execution_count": 19,
   "metadata": {},
   "outputs": [
    {
     "name": "stdout",
     "output_type": "stream",
     "text": [
      "(259, 4)\n"
     ]
    }
   ],
   "source": [
    "test_data = pd.read_csv(data_path/\"test.csv\", delimiter=';',  usecols=['binder','docid','class', 'text'])\n",
    "test_data.rename(columns={'text':'body'}, inplace=True)\n",
    "print(test_data.shape)\n",
    "test_data.head()\n",
    "test_data.dropna(inplace=True)"
   ]
  },
  {
   "cell_type": "code",
   "execution_count": 17,
   "metadata": {},
   "outputs": [],
   "source": [
    "with open(tokenizer_path, 'rb') as handle:\n",
    "    tokenizer = pickle.load(handle, encoding=\"utf-8\")"
   ]
  },
  {
   "cell_type": "code",
   "execution_count": 20,
   "metadata": {},
   "outputs": [],
   "source": [
    "sequences_train = tokenizer.texts_to_sequences(train['body'])\n",
    "sequences_validation = tokenizer.texts_to_sequences(val['body'])\n",
    "sequences_test = tokenizer.texts_to_sequences(test_data['body'])"
   ]
  },
  {
   "cell_type": "code",
   "execution_count": 21,
   "metadata": {},
   "outputs": [],
   "source": [
    "X_train = sequence.pad_sequences(sequences_train, maxlen=SEQUENCE_LEN, padding='post')\n",
    "X_val = sequence.pad_sequences(sequences_validation, maxlen=SEQUENCE_LEN, padding='post')\n",
    "X_test = sequence.pad_sequences(sequences_test, maxlen=SEQUENCE_LEN, padding='post')"
   ]
  },
  {
   "cell_type": "code",
   "execution_count": 22,
   "metadata": {},
   "outputs": [],
   "source": [
    "encoder = LabelEncoder()"
   ]
  },
  {
   "cell_type": "code",
   "execution_count": 23,
   "metadata": {},
   "outputs": [],
   "source": [
    "train_label = train['class'] \n",
    "train_label_toTest = encoder.fit_transform(train_label)\n",
    "train_label = np.transpose(train_label_toTest)\n",
    "train_label = to_categorical(train_label)\n",
    "\n",
    "\n",
    "valid_label = val['class'] \n",
    "valid_label_toTest = encoder.fit_transform(valid_label)\n",
    "valid_label = np.transpose(valid_label_toTest)\n",
    "valid_label = to_categorical(valid_label)\n",
    "\n",
    "test_label = test_data['class'] \n",
    "test_label_toTest = encoder.fit_transform(test_label)\n",
    "test_label = np.transpose(test_label_toTest)\n",
    "test_label = to_categorical(test_label)\n",
    "\n",
    "X_train = np.array(X_train)\n",
    "X_val = np.array(X_val)\n",
    "X_test = np.array(X_test)"
   ]
  },
  {
   "cell_type": "code",
   "execution_count": 24,
   "metadata": {},
   "outputs": [
    {
     "name": "stderr",
     "output_type": "stream",
     "text": [
      "2021-09-21 20:55:16.535696: I tensorflow/compiler/mlir/mlir_graph_optimization_pass.cc:185] None of the MLIR Optimization Passes are enabled (registered 2)\n"
     ]
    },
    {
     "name": "stdout",
     "output_type": "stream",
     "text": [
      "9/9 [==============================] - 3s 98ms/step\n"
     ]
    }
   ],
   "source": [
    "test_predict_1 = model.predict(X_test, verbose=1)\n",
    "pred_1 = test_predict_1.argmax(axis=1)\n",
    "target_names = ['SD','ND']"
   ]
  },
  {
   "cell_type": "code",
   "execution_count": 25,
   "metadata": {},
   "outputs": [
    {
     "name": "stdout",
     "output_type": "stream",
     "text": [
      "              precision    recall  f1-score   support\n",
      "\n",
      "          SD     0.8354    0.9133    0.8726       150\n",
      "          ND     0.8632    0.7523    0.8039       109\n",
      "\n",
      "    accuracy                         0.8456       259\n",
      "   macro avg     0.8493    0.8328    0.8383       259\n",
      "weighted avg     0.8471    0.8456    0.8437       259\n",
      "\n"
     ]
    }
   ],
   "source": [
    "print(classification_report(test_label_toTest, pred_1, target_names=target_names, digits=4))"
   ]
  },
  {
   "cell_type": "code",
   "execution_count": 26,
   "metadata": {},
   "outputs": [
    {
     "name": "stdout",
     "output_type": "stream",
     "text": [
      "Model: \"model\"\n",
      "__________________________________________________________________________________________________\n",
      "Layer (type)                    Output Shape         Param #     Connected to                     \n",
      "==================================================================================================\n",
      "input_1 (InputLayer)            [(None, 500)]        0                                            \n",
      "__________________________________________________________________________________________________\n",
      "embedding (Embedding)           (None, 500, 100)     7000000     input_1[0][0]                    \n",
      "__________________________________________________________________________________________________\n",
      "conv1d (Conv1D)                 (None, 500, 256)     77056       embedding[0][0]                  \n",
      "__________________________________________________________________________________________________\n",
      "conv1d_1 (Conv1D)               (None, 500, 256)     102656      embedding[0][0]                  \n",
      "__________________________________________________________________________________________________\n",
      "conv1d_2 (Conv1D)               (None, 500, 256)     128256      embedding[0][0]                  \n",
      "__________________________________________________________________________________________________\n",
      "max_pooling1d (MaxPooling1D)    (None, 250, 256)     0           conv1d[0][0]                     \n",
      "__________________________________________________________________________________________________\n",
      "max_pooling1d_1 (MaxPooling1D)  (None, 250, 256)     0           conv1d_1[0][0]                   \n",
      "__________________________________________________________________________________________________\n",
      "max_pooling1d_2 (MaxPooling1D)  (None, 250, 256)     0           conv1d_2[0][0]                   \n",
      "__________________________________________________________________________________________________\n",
      "concatenate (Concatenate)       (None, 750, 256)     0           max_pooling1d[0][0]              \n",
      "                                                                 max_pooling1d_1[0][0]            \n",
      "                                                                 max_pooling1d_2[0][0]            \n",
      "__________________________________________________________________________________________________\n",
      "max_pooling1d_3 (MaxPooling1D)  (None, 15, 256)      0           concatenate[0][0]                \n",
      "__________________________________________________________________________________________________\n",
      "flatten (Flatten)               (None, 3840)         0           max_pooling1d_3[0][0]            \n",
      "__________________________________________________________________________________________________\n",
      "dense (Dense)                   (None, 128)          491648      flatten[0][0]                    \n",
      "__________________________________________________________________________________________________\n",
      "dropout (Dropout)               (None, 128)          0           dense[0][0]                      \n",
      "__________________________________________________________________________________________________\n",
      "dense_1 (Dense)                 (None, 2)            258         dropout[0][0]                    \n",
      "==================================================================================================\n",
      "Total params: 7,799,874\n",
      "Trainable params: 7,799,874\n",
      "Non-trainable params: 0\n",
      "__________________________________________________________________________________________________\n"
     ]
    }
   ],
   "source": [
    "model.summary()"
   ]
  },
  {
   "cell_type": "code",
   "execution_count": 27,
   "metadata": {},
   "outputs": [
    {
     "data": {
      "text/plain": [
       "<KerasTensor: shape=(None, 3840) dtype=float32 (created by layer 'flatten')>"
      ]
     },
     "execution_count": 27,
     "metadata": {},
     "output_type": "execute_result"
    }
   ],
   "source": [
    "activation_output = model.layers[-4].output; activation_output"
   ]
  },
  {
   "cell_type": "code",
   "execution_count": 28,
   "metadata": {},
   "outputs": [
    {
     "data": {
      "text/plain": [
       "<KerasTensor: shape=(None, 500) dtype=int32 (created by layer 'input_1')>"
      ]
     },
     "execution_count": 28,
     "metadata": {},
     "output_type": "execute_result"
    }
   ],
   "source": [
    "inputs = model.input; inputs"
   ]
  },
  {
   "cell_type": "code",
   "execution_count": 29,
   "metadata": {},
   "outputs": [],
   "source": [
    "activation_model = tf.keras.Model(inputs, activation_output)"
   ]
  },
  {
   "cell_type": "code",
   "execution_count": 30,
   "metadata": {},
   "outputs": [
    {
     "name": "stdout",
     "output_type": "stream",
     "text": [
      "26/26 [==============================] - 3s 101ms/step\n"
     ]
    }
   ],
   "source": [
    "train_vecs = activation_model.predict(X_train, verbose=1)\n"
   ]
  },
  {
   "cell_type": "code",
   "execution_count": 31,
   "metadata": {},
   "outputs": [
    {
     "name": "stdout",
     "output_type": "stream",
     "text": [
      "7/7 [==============================] - 1s 90ms/step\n"
     ]
    }
   ],
   "source": [
    "val_vecs = activation_model.predict(X_val, verbose=1)"
   ]
  },
  {
   "cell_type": "code",
   "execution_count": 32,
   "metadata": {},
   "outputs": [
    {
     "name": "stdout",
     "output_type": "stream",
     "text": [
      "9/9 [==============================] - 1s 90ms/step\n"
     ]
    }
   ],
   "source": [
    "test_vecs = activation_model.predict(X_test, verbose=1)"
   ]
  },
  {
   "cell_type": "code",
   "execution_count": 33,
   "metadata": {},
   "outputs": [
    {
     "data": {
      "text/plain": [
       "((819, 3840), (200, 3840), (259, 3840))"
      ]
     },
     "execution_count": 33,
     "metadata": {},
     "output_type": "execute_result"
    }
   ],
   "source": [
    "train_vecs.shape, val_vecs.shape, test_vecs.shape"
   ]
  },
  {
   "cell_type": "code",
   "execution_count": 28,
   "metadata": {},
   "outputs": [
    {
     "name": "stdout",
     "output_type": "stream",
     "text": [
      "Saving example 149217\r"
     ]
    }
   ],
   "source": [
    "train_files = []\n",
    "for idx, item in train.iterrows():\n",
    "    filename = (Path(\"./activations/text/train\")/Path(item[\"class\"])/\n",
    "               (Path(item[\"file_name\"]).with_suffix(\"\").as_posix()+\"_\"+str(item[\"pages\"])))\n",
    "    filename.parent.mkdir(parents=True, exist_ok=True)\n",
    "    np.save(filename, train_vecs[idx])\n",
    "    train_files.append(filename)\n",
    "    print(f\"Saving example {idx+1}\", end='\\r', flush=True)"
   ]
  },
  {
   "cell_type": "code",
   "execution_count": 29,
   "metadata": {},
   "outputs": [],
   "source": [
    "train[\"activation_path\"] = train_files"
   ]
  },
  {
   "cell_type": "code",
   "execution_count": 38,
   "metadata": {},
   "outputs": [],
   "source": [
    "assert (np.load(\"./activations/text/train/outros/AI_856934_1926211_34_17072013_3.npy\") == train_vecs[3]).all()"
   ]
  },
  {
   "cell_type": "code",
   "execution_count": 30,
   "metadata": {},
   "outputs": [
    {
     "name": "stdout",
     "output_type": "stream",
     "text": [
      "Saving example 94735\r"
     ]
    }
   ],
   "source": [
    "val_files = []\n",
    "for idx, item in val.iterrows():\n",
    "    filename = (Path(\"./activations/text/val\")/Path(item[\"document_type\"])/\n",
    "               (Path(item[\"file_name\"]).with_suffix(\"\").as_posix()+\"_\"+str(item[\"pages\"])))\n",
    "    filename.parent.mkdir(parents=True, exist_ok=True)\n",
    "    np.save(filename, val_vecs[idx])\n",
    "    val_files.append(filename)\n",
    "    print(f\"Saving example {idx+1}\", end='\\r', flush=True)"
   ]
  },
  {
   "cell_type": "code",
   "execution_count": 31,
   "metadata": {},
   "outputs": [],
   "source": [
    "val[\"activation_path\"] = val_files"
   ]
  },
  {
   "cell_type": "code",
   "execution_count": 36,
   "metadata": {},
   "outputs": [
    {
     "name": "stdout",
     "output_type": "stream",
     "text": [
      "Saving example 259\r"
     ]
    }
   ],
   "source": [
    "test_files = []\n",
    "for idx, item in test_data.iterrows():\n",
    "    filename = (Path(\"./activations/text/test\")/Path(item[\"class\"])/\n",
    "               (Path(item[\"docid\"]).with_suffix(\"\").as_posix()))\n",
    "#     filename.parent.mkdir(parents=True, exist_ok=True)\n",
    "#     np.save(filename, test_vecs[idx])\n",
    "    test_files.append(filename)\n",
    "    print(f\"Saving example {idx+1}\", end='\\r', flush=True)"
   ]
  },
  {
   "cell_type": "code",
   "execution_count": 37,
   "metadata": {},
   "outputs": [],
   "source": [
    "test_data[\"activation_path\"] = test_files"
   ]
  },
  {
   "cell_type": "code",
   "execution_count": 40,
   "metadata": {},
   "outputs": [],
   "source": [
    "train.to_csv(\"./data/train_fusion.csv\", index= False)"
   ]
  },
  {
   "cell_type": "code",
   "execution_count": 41,
   "metadata": {},
   "outputs": [],
   "source": [
    "val.to_csv(\"./data/val_fusion.csv\", index=False)"
   ]
  },
  {
   "cell_type": "code",
   "execution_count": 42,
   "metadata": {},
   "outputs": [],
   "source": [
    "test_data.to_csv(\"./data/test_fusion.csv\", index=False)"
   ]
  },
  {
   "cell_type": "code",
   "execution_count": null,
   "metadata": {},
   "outputs": [],
   "source": []
  }
 ],
 "metadata": {
  "kernelspec": {
   "display_name": "tf2",
   "language": "python",
   "name": "tf2"
  },
  "language_info": {
   "codemirror_mode": {
    "name": "ipython",
    "version": 3
   },
   "file_extension": ".py",
   "mimetype": "text/x-python",
   "name": "python",
   "nbconvert_exporter": "python",
   "pygments_lexer": "ipython3",
   "version": "3.8.10"
  }
 },
 "nbformat": 4,
 "nbformat_minor": 4
}
