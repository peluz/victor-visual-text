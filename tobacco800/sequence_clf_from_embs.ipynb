{
 "cells": [
  {
   "cell_type": "code",
   "execution_count": 1,
   "metadata": {},
   "outputs": [],
   "source": [
    "%load_ext autoreload\n",
    "%autoreload 2\n",
    "\n",
    "from fastai.text.all import *\n",
    "from fastai.vision.all import *\n",
    "import pandas as pd\n",
    "import torch\n",
    "from tqdm.notebook import tqdm\n",
    "from sklearn.metrics import classification_report, f1_score\n",
    "from torchcrf import CRF\n",
    "from utils import get_sequences, GetLabels, My_Pad_Input, GetImgAndTextEmbs"
   ]
  },
  {
   "cell_type": "code",
   "execution_count": 2,
   "metadata": {},
   "outputs": [],
   "source": [
    "seed = 42\n",
    "\n",
    "# python RNG\n",
    "import random\n",
    "random.seed(seed)\n",
    "\n",
    "# pytorch RNGs\n",
    "import torch\n",
    "torch.manual_seed(seed)\n",
    "torch.backends.cudnn.deterministic = True\n",
    "if torch.cuda.is_available(): torch.cuda.manual_seed_all(seed)\n",
    "\n",
    "# numpy RNG\n",
    "import numpy as np\n",
    "np.random.seed(seed)\n",
    "\n",
    "import pandas as pd"
   ]
  },
  {
   "cell_type": "code",
   "execution_count": 3,
   "metadata": {},
   "outputs": [],
   "source": [
    "OUT_DIM=2\n",
    "INPUT_DIM=128\n",
    "BS= 8\n",
    "torch.cuda.set_device(1)"
   ]
  },
  {
   "cell_type": "code",
   "execution_count": 4,
   "metadata": {},
   "outputs": [
    {
     "name": "stdout",
     "output_type": "stream",
     "text": [
      "fastai:  2.1.3\n",
      " torch:  1.7.0+cu110\n"
     ]
    }
   ],
   "source": [
    "from fastai import __version__\n",
    "print('fastai: ',__version__)\n",
    "print(' torch: ',torch.__version__)"
   ]
  },
  {
   "cell_type": "code",
   "execution_count": 5,
   "metadata": {},
   "outputs": [],
   "source": [
    "train = pd.read_csv(\"./data/train_fusion.csv\")\n",
    "val = pd.read_csv(\"./data/val_fusion.csv\")\n",
    "test_data = pd.read_csv(\"./data/test_fusion.csv\")"
   ]
  },
  {
   "cell_type": "code",
   "execution_count": 6,
   "metadata": {},
   "outputs": [
    {
     "data": {
      "text/plain": [
       "(819, 5)"
      ]
     },
     "execution_count": 6,
     "metadata": {},
     "output_type": "execute_result"
    }
   ],
   "source": [
    "train.shape"
   ]
  },
  {
   "cell_type": "code",
   "execution_count": 7,
   "metadata": {},
   "outputs": [],
   "source": [
    "import re\n",
    "def add_page(row):\n",
    "    docid = row['docid']\n",
    "    match = re.match(r\"^[\\w\\-]+\\_(\\d+)\", docid)\n",
    "    if match: #and match[1] is not None:\n",
    "        row['page'] = int(match[1])\n",
    "    else:\n",
    "        row['page'] = 1\n",
    "    return row    \n",
    "\n",
    "def add_doc_radical(row):\n",
    "    docid = row['docid']\n",
    "    match = re.match(r\"^([a-zA-Z\\d\\-]+)(\\_\\d+)*\", docid)\n",
    "    if match: #and match[1] is not None:\n",
    "        row['doc_radical'] = match[1]\n",
    "    else:\n",
    "        row['doc_radical'] = 'UNK'\n",
    "    return row   \n",
    "\n",
    "def add_pages(row):\n",
    "    doc_radical = row['doc_radical']\n",
    "    if match: #and match[1] is not None:\n",
    "        row['page'] = int(match[1])\n",
    "    else:\n",
    "        row['page'] = 1\n",
    "    return row      \n",
    "def prepare_df(df):\n",
    "    df = df.apply(add_page, axis=1)\n",
    "    df = df.apply(add_doc_radical, axis=1)\n",
    "    df['pages'] = df.groupby('doc_radical')['page'].transform('max')\n",
    "    return df"
   ]
  },
  {
   "cell_type": "code",
   "execution_count": 8,
   "metadata": {},
   "outputs": [],
   "source": [
    "#train"
   ]
  },
  {
   "cell_type": "code",
   "execution_count": 9,
   "metadata": {},
   "outputs": [],
   "source": [
    "train = prepare_df(train)\n",
    "val = prepare_df(val)\n",
    "test_data = prepare_df(test_data)"
   ]
  },
  {
   "cell_type": "code",
   "execution_count": 9,
   "metadata": {},
   "outputs": [],
   "source": [
    "# train[\"document_type\"] = train.apply(lambda x: \"B-\" + x[\"class\"] if x[\"page\"] == 1 else \"I-\" + x[\"class\"],\n",
    "#                                      axis=1)\n",
    "# val[\"document_type\"] = val.apply(lambda x: \"B-\" + x[\"class\"] if x[\"page\"] == 1 else \"I-\" + x[\"class\"],\n",
    "#                                      axis=1)\n",
    "# test_data[\"document_type\"] = test_data.apply(lambda x: \"B-\" + x[\"class\"] if x[\"page\"] == 1 else \"I-\" + x[\"class\"],\n",
    "#                                    axis=1)"
   ]
  },
  {
   "cell_type": "code",
   "execution_count": 10,
   "metadata": {},
   "outputs": [],
   "source": [
    "X_train, y_train = get_sequences(train, 50)\n",
    "X_valid, y_valid = get_sequences(val, 50)\n",
    "X_test, y_test = get_sequences(test_data, 50)"
   ]
  },
  {
   "cell_type": "code",
   "execution_count": 11,
   "metadata": {},
   "outputs": [
    {
     "data": {
      "text/plain": [
       "(['activations/text/train/FirstPage/aah97e00-page02_1',\n",
       "  'activations/text/train/NextPage/aah97e00-page02_2',\n",
       "  'activations/text/train/FirstPage/aam09c00',\n",
       "  'activations/text/train/FirstPage/aao54e00_1',\n",
       "  'activations/text/train/NextPage/aao54e00_2'],\n",
       " ['FirstPage', 'NextPage', 'FirstPage', 'FirstPage', 'NextPage'])"
      ]
     },
     "execution_count": 11,
     "metadata": {},
     "output_type": "execute_result"
    }
   ],
   "source": [
    "X_train[0][:5], y_train[0][:5]"
   ]
  },
  {
   "cell_type": "code",
   "execution_count": 12,
   "metadata": {},
   "outputs": [],
   "source": [
    "data = pd.concat([pd.DataFrame({\"acts\":X_train, \"labels\":y_train, \"is_valid\": [False for _ in range(len(X_train))]}),\n",
    "                 pd.DataFrame({\"acts\":X_valid, \"labels\":y_valid, \"is_valid\": [True for _ in range(len(X_valid))]})])"
   ]
  },
  {
   "cell_type": "code",
   "execution_count": 13,
   "metadata": {},
   "outputs": [
    {
     "name": "stdout",
     "output_type": "stream",
     "text": [
      "21 2\n"
     ]
    }
   ],
   "source": [
    "_min = 100\n",
    "_min_ix = -1\n",
    "for index, row in data.iterrows():\n",
    "    if _min > len(row['acts']):\n",
    "        _min = len(row['acts'])\n",
    "        _min_ix = index\n",
    "print(_min, _min_ix)"
   ]
  },
  {
   "cell_type": "code",
   "execution_count": 14,
   "metadata": {},
   "outputs": [
    {
     "data": {
      "text/plain": [
       "48"
      ]
     },
     "execution_count": 14,
     "metadata": {},
     "output_type": "execute_result"
    }
   ],
   "source": [
    "len(data.iloc[14,0])"
   ]
  },
  {
   "cell_type": "code",
   "execution_count": 15,
   "metadata": {},
   "outputs": [],
   "source": [
    "#data"
   ]
  },
  {
   "cell_type": "code",
   "execution_count": 16,
   "metadata": {},
   "outputs": [],
   "source": [
    "my_pad_input=My_Pad_Input(2)"
   ]
  },
  {
   "cell_type": "code",
   "execution_count": 17,
   "metadata": {},
   "outputs": [],
   "source": [
    "tfms = [[GetImgAndTextEmbs()], [GetLabels()]]\n",
    "splits = ColSplitter()(data)\n",
    "dsets = Datasets(data, tfms, splits=splits)\n",
    "dls = dsets.dataloaders(dl_type=SortedDL, before_batch=partial(my_pad_input, pad_fields=[0,1]), bs=BS)"
   ]
  },
  {
   "cell_type": "code",
   "execution_count": 18,
   "metadata": {},
   "outputs": [
    {
     "data": {
      "text/plain": [
       "(TensorImage([[[0.5401, 1.4210, 1.5567,  ..., 0.0000, 0.0852, 0.0000],\n",
       "          [0.3286, 0.6557, 1.1641,  ..., 0.0000, 0.0852, 0.0000],\n",
       "          [0.7914, 1.7443, 2.2198,  ..., 0.0541, 0.0855, 0.1106],\n",
       "          ...,\n",
       "          [1.5196, 1.8884, 0.6367,  ..., 0.0000, 0.0852, 0.0000],\n",
       "          [0.1261, 0.3667, 0.9103,  ..., 0.0000, 0.0852, 0.0000],\n",
       "          [1.6152, 1.6663, 0.4535,  ..., 0.0000, 0.0852, 0.0000]],\n",
       " \n",
       "         [[0.3202, 1.2138, 0.3604,  ..., 0.0000, 0.0852, 0.0000],\n",
       "          [0.3590, 0.5312, 0.9131,  ..., 0.0454, 0.0798, 0.0450],\n",
       "          [0.6861, 0.7871, 1.7014,  ..., 0.0000, 0.0852, 0.0000],\n",
       "          ...,\n",
       "          [1.3441, 2.1549, 0.9034,  ..., 0.0000, 0.0852, 0.0000],\n",
       "          [4.2857, 1.6863, 1.9135,  ..., 0.0000, 0.0852, 0.0000],\n",
       "          [0.0000, 0.0000, 0.0000,  ..., 0.0000, 0.0000, 0.0000]],\n",
       " \n",
       "         [[0.5581, 0.5553, 0.8438,  ..., 0.0000, 0.0852, 0.0000],\n",
       "          [0.7305, 0.7456, 1.0972,  ..., 0.0000, 0.0852, 0.0000],\n",
       "          [0.1802, 0.2729, 1.1638,  ..., 0.0000, 0.0852, 0.0000],\n",
       "          ...,\n",
       "          [0.5283, 0.7605, 0.7766,  ..., 0.0000, 0.0852, 0.0000],\n",
       "          [0.2434, 1.2662, 0.9803,  ..., 0.0000, 0.0852, 0.0000],\n",
       "          [0.0000, 0.0000, 0.0000,  ..., 0.0000, 0.0000, 0.0000]],\n",
       " \n",
       "         ...,\n",
       " \n",
       "         [[0.8170, 0.7334, 0.7844,  ..., 0.0000, 0.0852, 0.0000],\n",
       "          [0.9387, 0.5294, 0.8651,  ..., 0.0775, 0.0612, 0.0574],\n",
       "          [1.5052, 2.2218, 1.1961,  ..., 0.0000, 0.0852, 0.0000],\n",
       "          ...,\n",
       "          [1.1113, 0.7727, 0.8364,  ..., 0.0000, 0.0852, 0.0000],\n",
       "          [0.4589, 1.0463, 1.1017,  ..., 0.0000, 0.0852, 0.0000],\n",
       "          [0.0000, 0.0000, 0.0000,  ..., 0.0000, 0.0000, 0.0000]],\n",
       " \n",
       "         [[1.2159, 0.9005, 0.7538,  ..., 0.0000, 0.0852, 0.0000],\n",
       "          [0.4608, 0.4885, 1.0885,  ..., 0.0000, 0.0852, 0.0000],\n",
       "          [0.6305, 0.2804, 1.1093,  ..., 0.0000, 0.0852, 0.0000],\n",
       "          ...,\n",
       "          [0.9423, 1.1798, 0.9110,  ..., 0.0000, 0.0852, 0.0000],\n",
       "          [0.5938, 0.9237, 1.0713,  ..., 0.0000, 0.0852, 0.0000],\n",
       "          [0.0000, 0.0000, 0.0000,  ..., 0.0000, 0.0000, 0.0000]],\n",
       " \n",
       "         [[1.8399, 1.8947, 0.8612,  ..., 0.0000, 0.0852, 0.0000],\n",
       "          [1.7980, 2.4563, 0.6599,  ..., 0.0000, 0.0852, 0.0000],\n",
       "          [1.9178, 2.7170, 0.9370,  ..., 0.0000, 0.0852, 0.0000],\n",
       "          ...,\n",
       "          [0.9499, 2.2333, 0.3385,  ..., 0.0000, 0.0852, 0.0000],\n",
       "          [0.2593, 0.2913, 1.1831,  ..., 0.0000, 0.0852, 0.0000],\n",
       "          [0.0000, 0.0000, 0.0000,  ..., 0.0000, 0.0000, 0.0000]]],\n",
       "        device='cuda:1'),\n",
       " TensorCategory([[[0],\n",
       "          [1],\n",
       "          [0],\n",
       "          [0],\n",
       "          [1],\n",
       "          [0],\n",
       "          [0],\n",
       "          [0],\n",
       "          [1],\n",
       "          [0],\n",
       "          [1],\n",
       "          [0],\n",
       "          [1],\n",
       "          [1],\n",
       "          [0],\n",
       "          [0],\n",
       "          [0],\n",
       "          [0],\n",
       "          [0],\n",
       "          [0],\n",
       "          [1],\n",
       "          [0],\n",
       "          [1],\n",
       "          [0],\n",
       "          [0],\n",
       "          [0],\n",
       "          [1],\n",
       "          [0],\n",
       "          [0],\n",
       "          [1],\n",
       "          [0],\n",
       "          [0],\n",
       "          [0],\n",
       "          [0],\n",
       "          [1],\n",
       "          [0],\n",
       "          [0],\n",
       "          [0],\n",
       "          [1],\n",
       "          [1],\n",
       "          [0],\n",
       "          [0],\n",
       "          [0],\n",
       "          [0],\n",
       "          [0],\n",
       "          [1],\n",
       "          [0],\n",
       "          [0],\n",
       "          [0],\n",
       "          [0]],\n",
       " \n",
       "         [[0],\n",
       "          [0],\n",
       "          [1],\n",
       "          [0],\n",
       "          [0],\n",
       "          [0],\n",
       "          [0],\n",
       "          [1],\n",
       "          [1],\n",
       "          [1],\n",
       "          [1],\n",
       "          [0],\n",
       "          [1],\n",
       "          [1],\n",
       "          [0],\n",
       "          [1],\n",
       "          [0],\n",
       "          [1],\n",
       "          [1],\n",
       "          [1],\n",
       "          [1],\n",
       "          [1],\n",
       "          [0],\n",
       "          [0],\n",
       "          [1],\n",
       "          [0],\n",
       "          [0],\n",
       "          [0],\n",
       "          [0],\n",
       "          [1],\n",
       "          [0],\n",
       "          [0],\n",
       "          [0],\n",
       "          [0],\n",
       "          [0],\n",
       "          [0],\n",
       "          [1],\n",
       "          [0],\n",
       "          [1],\n",
       "          [1],\n",
       "          [0],\n",
       "          [1],\n",
       "          [0],\n",
       "          [0],\n",
       "          [0],\n",
       "          [0],\n",
       "          [0],\n",
       "          [1],\n",
       "          [0],\n",
       "          [2]],\n",
       " \n",
       "         [[0],\n",
       "          [1],\n",
       "          [1],\n",
       "          [1],\n",
       "          [0],\n",
       "          [0],\n",
       "          [0],\n",
       "          [0],\n",
       "          [0],\n",
       "          [1],\n",
       "          [1],\n",
       "          [1],\n",
       "          [1],\n",
       "          [1],\n",
       "          [0],\n",
       "          [1],\n",
       "          [1],\n",
       "          [1],\n",
       "          [1],\n",
       "          [0],\n",
       "          [0],\n",
       "          [0],\n",
       "          [1],\n",
       "          [0],\n",
       "          [0],\n",
       "          [0],\n",
       "          [0],\n",
       "          [1],\n",
       "          [0],\n",
       "          [1],\n",
       "          [0],\n",
       "          [1],\n",
       "          [1],\n",
       "          [0],\n",
       "          [0],\n",
       "          [1],\n",
       "          [0],\n",
       "          [0],\n",
       "          [0],\n",
       "          [0],\n",
       "          [0],\n",
       "          [0],\n",
       "          [0],\n",
       "          [1],\n",
       "          [0],\n",
       "          [0],\n",
       "          [1],\n",
       "          [0],\n",
       "          [0],\n",
       "          [2]],\n",
       " \n",
       "         [[0],\n",
       "          [0],\n",
       "          [0],\n",
       "          [1],\n",
       "          [0],\n",
       "          [0],\n",
       "          [1],\n",
       "          [0],\n",
       "          [0],\n",
       "          [1],\n",
       "          [0],\n",
       "          [0],\n",
       "          [1],\n",
       "          [1],\n",
       "          [0],\n",
       "          [0],\n",
       "          [1],\n",
       "          [0],\n",
       "          [0],\n",
       "          [1],\n",
       "          [0],\n",
       "          [0],\n",
       "          [0],\n",
       "          [1],\n",
       "          [1],\n",
       "          [0],\n",
       "          [0],\n",
       "          [1],\n",
       "          [0],\n",
       "          [0],\n",
       "          [0],\n",
       "          [1],\n",
       "          [0],\n",
       "          [0],\n",
       "          [1],\n",
       "          [0],\n",
       "          [1],\n",
       "          [0],\n",
       "          [1],\n",
       "          [0],\n",
       "          [0],\n",
       "          [0],\n",
       "          [0],\n",
       "          [1],\n",
       "          [0],\n",
       "          [1],\n",
       "          [0],\n",
       "          [1],\n",
       "          [0],\n",
       "          [2]],\n",
       " \n",
       "         [[0],\n",
       "          [0],\n",
       "          [0],\n",
       "          [0],\n",
       "          [1],\n",
       "          [0],\n",
       "          [0],\n",
       "          [0],\n",
       "          [1],\n",
       "          [0],\n",
       "          [1],\n",
       "          [0],\n",
       "          [0],\n",
       "          [1],\n",
       "          [0],\n",
       "          [0],\n",
       "          [0],\n",
       "          [0],\n",
       "          [0],\n",
       "          [0],\n",
       "          [0],\n",
       "          [1],\n",
       "          [0],\n",
       "          [1],\n",
       "          [1],\n",
       "          [0],\n",
       "          [1],\n",
       "          [0],\n",
       "          [1],\n",
       "          [0],\n",
       "          [1],\n",
       "          [0],\n",
       "          [1],\n",
       "          [0],\n",
       "          [1],\n",
       "          [0],\n",
       "          [0],\n",
       "          [0],\n",
       "          [0],\n",
       "          [0],\n",
       "          [0],\n",
       "          [0],\n",
       "          [0],\n",
       "          [0],\n",
       "          [0],\n",
       "          [1],\n",
       "          [0],\n",
       "          [0],\n",
       "          [0],\n",
       "          [2]],\n",
       " \n",
       "         [[0],\n",
       "          [0],\n",
       "          [0],\n",
       "          [0],\n",
       "          [1],\n",
       "          [0],\n",
       "          [0],\n",
       "          [0],\n",
       "          [1],\n",
       "          [0],\n",
       "          [0],\n",
       "          [1],\n",
       "          [0],\n",
       "          [0],\n",
       "          [0],\n",
       "          [1],\n",
       "          [1],\n",
       "          [0],\n",
       "          [0],\n",
       "          [0],\n",
       "          [0],\n",
       "          [1],\n",
       "          [0],\n",
       "          [1],\n",
       "          [1],\n",
       "          [1],\n",
       "          [1],\n",
       "          [1],\n",
       "          [1],\n",
       "          [1],\n",
       "          [1],\n",
       "          [1],\n",
       "          [1],\n",
       "          [0],\n",
       "          [0],\n",
       "          [0],\n",
       "          [0],\n",
       "          [1],\n",
       "          [0],\n",
       "          [1],\n",
       "          [0],\n",
       "          [0],\n",
       "          [1],\n",
       "          [0],\n",
       "          [0],\n",
       "          [1],\n",
       "          [0],\n",
       "          [0],\n",
       "          [0],\n",
       "          [2]],\n",
       " \n",
       "         [[0],\n",
       "          [0],\n",
       "          [0],\n",
       "          [0],\n",
       "          [0],\n",
       "          [1],\n",
       "          [0],\n",
       "          [0],\n",
       "          [0],\n",
       "          [0],\n",
       "          [0],\n",
       "          [0],\n",
       "          [0],\n",
       "          [1],\n",
       "          [0],\n",
       "          [0],\n",
       "          [0],\n",
       "          [0],\n",
       "          [1],\n",
       "          [1],\n",
       "          [1],\n",
       "          [1],\n",
       "          [0],\n",
       "          [1],\n",
       "          [0],\n",
       "          [0],\n",
       "          [0],\n",
       "          [0],\n",
       "          [0],\n",
       "          [1],\n",
       "          [1],\n",
       "          [1],\n",
       "          [0],\n",
       "          [0],\n",
       "          [1],\n",
       "          [0],\n",
       "          [0],\n",
       "          [0],\n",
       "          [1],\n",
       "          [1],\n",
       "          [0],\n",
       "          [1],\n",
       "          [0],\n",
       "          [1],\n",
       "          [0],\n",
       "          [0],\n",
       "          [0],\n",
       "          [1],\n",
       "          [1],\n",
       "          [2]],\n",
       " \n",
       "         [[0],\n",
       "          [0],\n",
       "          [1],\n",
       "          [0],\n",
       "          [1],\n",
       "          [0],\n",
       "          [0],\n",
       "          [0],\n",
       "          [0],\n",
       "          [0],\n",
       "          [0],\n",
       "          [1],\n",
       "          [0],\n",
       "          [0],\n",
       "          [1],\n",
       "          [0],\n",
       "          [1],\n",
       "          [0],\n",
       "          [0],\n",
       "          [0],\n",
       "          [1],\n",
       "          [0],\n",
       "          [0],\n",
       "          [0],\n",
       "          [0],\n",
       "          [1],\n",
       "          [1],\n",
       "          [1],\n",
       "          [1],\n",
       "          [1],\n",
       "          [1],\n",
       "          [1],\n",
       "          [1],\n",
       "          [0],\n",
       "          [0],\n",
       "          [0],\n",
       "          [0],\n",
       "          [0],\n",
       "          [1],\n",
       "          [1],\n",
       "          [0],\n",
       "          [0],\n",
       "          [1],\n",
       "          [0],\n",
       "          [1],\n",
       "          [0],\n",
       "          [1],\n",
       "          [0],\n",
       "          [0],\n",
       "          [2]]], device='cuda:1'))"
      ]
     },
     "execution_count": 18,
     "metadata": {},
     "output_type": "execute_result"
    }
   ],
   "source": [
    "dls.one_batch()"
   ]
  },
  {
   "cell_type": "code",
   "execution_count": 19,
   "metadata": {},
   "outputs": [],
   "source": [
    "torch.save(dls, \"./data/dls_sequence_from_embs.pth\")"
   ]
  },
  {
   "cell_type": "code",
   "execution_count": 20,
   "metadata": {},
   "outputs": [],
   "source": [
    "dls = torch.load(\"./data/dls_sequence_from_embs.pth\")"
   ]
  },
  {
   "cell_type": "code",
   "execution_count": 21,
   "metadata": {},
   "outputs": [],
   "source": [
    "# dls.one_batch()"
   ]
  },
  {
   "cell_type": "code",
   "execution_count": 41,
   "metadata": {},
   "outputs": [],
   "source": [
    "class LSTMModel(Module):\n",
    "    def __init__(self, input_dim, out_dim, hidden_dim=256):\n",
    "        self.lstm = torch.nn.LSTM(input_size=hidden_dim*4, hidden_size=hidden_dim,\n",
    "                                  batch_first=True, bidirectional=True).cuda()\n",
    "        self.bn1 = nn.BatchNorm1d(input_dim, momentum=0.01).cuda()\n",
    "        self.bn2 = nn.BatchNorm1d(hidden_dim*2, momentum=0.01).cuda()\n",
    "        self.drop1 = nn.Dropout().cuda()\n",
    "        self.drop2 = nn.Dropout().cuda()\n",
    "        self.lin1 = nn.Linear(input_dim, hidden_dim*4).cuda()\n",
    "        self.lin2 = nn.Linear(hidden_dim*2, out_dim).cuda()\n",
    "        self.relu = nn.ReLU().cuda()\n",
    "        \n",
    "    def forward(self, x):\n",
    "        x = x.permute(0, 2, 1)\n",
    "        x = self.bn1(x)\n",
    "        x = self.drop1(x)\n",
    "        x = x.permute(0, 2, 1)\n",
    "        x = self.lin1(x)\n",
    "        x = self.relu(x)\n",
    "        out, _ = self.lstm(x)\n",
    "        out = out.permute(0, 2, 1)\n",
    "        out_norm = self.bn2(out)\n",
    "        out_drop = self.drop2(out_norm)\n",
    "        out_drop = out_drop.permute(0, 2, 1)\n",
    "        return self.lin2(out_drop)"
   ]
  },
  {
   "cell_type": "code",
   "execution_count": 42,
   "metadata": {},
   "outputs": [],
   "source": [
    "model = LSTMModel(7936, OUT_DIM, hidden_dim=256)"
   ]
  },
  {
   "cell_type": "code",
   "execution_count": 24,
   "metadata": {},
   "outputs": [],
   "source": [
    "def loss_func(out, targ):\n",
    "    return CrossEntropyLossFlat(ignore_index=OUT_DIM)(out, targ.long())"
   ]
  },
  {
   "cell_type": "code",
   "execution_count": 25,
   "metadata": {},
   "outputs": [],
   "source": [
    "def _accumulate(self, learn):\n",
    "    pred = learn.pred\n",
    "    targ = learn.y\n",
    "    pred,targ = to_detach(pred),to_detach(targ)\n",
    "    pred =np.argmax(pred, axis=-1)\n",
    "    pred, targ = flatten_check(pred, targ)\n",
    "    pad_idxs = [i for i,x in enumerate(targ) if x != tensor([OUT_DIM])]\n",
    "    pred = pred[pad_idxs]\n",
    "    targ = targ[pad_idxs]\n",
    "    self.preds.append(pred)\n",
    "    self.targs.append(targ)\n",
    "\n",
    "AccumMetric.accumulate = _accumulate\n",
    "\n",
    "def MyFScore(average='macro'):\n",
    "    return skm_to_fastai(f1_score, average=average)"
   ]
  },
  {
   "cell_type": "code",
   "execution_count": 26,
   "metadata": {},
   "outputs": [],
   "source": [
    "dls.bs = dls.train.bs = dls.valid.bs = 8"
   ]
  },
  {
   "cell_type": "code",
   "execution_count": 27,
   "metadata": {},
   "outputs": [],
   "source": [
    "learn = Learner(dls, model, loss_func=loss_func, metrics=[MyFScore()])"
   ]
  },
  {
   "cell_type": "code",
   "execution_count": 28,
   "metadata": {},
   "outputs": [
    {
     "data": {
      "text/html": [
       "<table border=\"1\" class=\"dataframe\">\n",
       "  <thead>\n",
       "    <tr style=\"text-align: left;\">\n",
       "      <th>epoch</th>\n",
       "      <th>train_loss</th>\n",
       "      <th>valid_loss</th>\n",
       "      <th>f1_score</th>\n",
       "      <th>time</th>\n",
       "    </tr>\n",
       "  </thead>\n",
       "  <tbody>\n",
       "    <tr>\n",
       "      <td>0</td>\n",
       "      <td>None</td>\n",
       "      <td>None</td>\n",
       "      <td>00:00</td>\n",
       "    </tr>\n",
       "  </tbody>\n",
       "</table>"
      ],
      "text/plain": [
       "<IPython.core.display.HTML object>"
      ]
     },
     "metadata": {},
     "output_type": "display_data"
    },
    {
     "data": {
      "text/plain": [
       "LSTMModel (Input shape: ['8 x 50 x 7936'])\n",
       "================================================================\n",
       "Layer (type)         Output Shape         Param #    Trainable \n",
       "================================================================\n",
       "LSTM                 ['8 x 50 x 512', \"[  2,625,536  True      \n",
       "________________________________________________________________\n",
       "BatchNorm1d          8 x 7936 x 50        15,872     True      \n",
       "________________________________________________________________\n",
       "BatchNorm1d          8 x 512 x 50         1,024      True      \n",
       "________________________________________________________________\n",
       "Dropout              8 x 7936 x 50        0          False     \n",
       "________________________________________________________________\n",
       "Dropout              8 x 512 x 50         0          False     \n",
       "________________________________________________________________\n",
       "Linear               8 x 50 x 1024        8,127,488  True      \n",
       "________________________________________________________________\n",
       "Linear               8 x 50 x 2           1,026      True      \n",
       "________________________________________________________________\n",
       "ReLU                 8 x 50 x 1024        0          False     \n",
       "________________________________________________________________\n",
       "\n",
       "Total params: 10,770,946\n",
       "Total trainable params: 10,770,946\n",
       "Total non-trainable params: 0\n",
       "\n",
       "Optimizer used: <function Adam at 0x7f9655b409d0>\n",
       "Loss function: <function loss_func at 0x7f96e9f3a700>\n",
       "\n",
       "Callbacks:\n",
       "  - TrainEvalCallback\n",
       "  - Recorder\n",
       "  - ProgressCallback"
      ]
     },
     "execution_count": 28,
     "metadata": {},
     "output_type": "execute_result"
    }
   ],
   "source": [
    "learn.summary()"
   ]
  },
  {
   "cell_type": "code",
   "execution_count": 29,
   "metadata": {},
   "outputs": [
    {
     "data": {
      "text/html": [],
      "text/plain": [
       "<IPython.core.display.HTML object>"
      ]
     },
     "metadata": {},
     "output_type": "display_data"
    },
    {
     "data": {
      "text/plain": [
       "(#2) [0.6982851624488831,0.34532374100719426]"
      ]
     },
     "execution_count": 29,
     "metadata": {},
     "output_type": "execute_result"
    }
   ],
   "source": [
    "learn.validate()"
   ]
  },
  {
   "cell_type": "code",
   "execution_count": 33,
   "metadata": {},
   "outputs": [
    {
     "data": {
      "text/html": [],
      "text/plain": [
       "<IPython.core.display.HTML object>"
      ]
     },
     "metadata": {},
     "output_type": "display_data"
    },
    {
     "data": {
      "text/plain": [
       "SuggestedLRs(lr_min=0.017378008365631102, lr_steep=7.585775892948732e-05)"
      ]
     },
     "execution_count": 33,
     "metadata": {},
     "output_type": "execute_result"
    },
    {
     "data": {
      "image/png": "[encoded data removed]",
      "text/plain": [
       "<Figure size 432x288 with 1 Axes>"
      ]
     },
     "metadata": {
      "needs_background": "light"
     },
     "output_type": "display_data"
    }
   ],
   "source": [
    "learn.lr_find()"
   ]
  },
  {
   "cell_type": "code",
   "execution_count": 30,
   "metadata": {},
   "outputs": [],
   "source": [
    "learn.add_cbs([SaveModelCallback(monitor='f1_score', fname='best_sequence_from_embs256_morepochs_tobacco'),\n",
    "                                       ShowGraphCallback()])"
   ]
  },
  {
   "cell_type": "code",
   "execution_count": 31,
   "metadata": {},
   "outputs": [
    {
     "data": {
      "text/html": [
       "<table border=\"1\" class=\"dataframe\">\n",
       "  <thead>\n",
       "    <tr style=\"text-align: left;\">\n",
       "      <th>epoch</th>\n",
       "      <th>train_loss</th>\n",
       "      <th>valid_loss</th>\n",
       "      <th>f1_score</th>\n",
       "      <th>time</th>\n",
       "    </tr>\n",
       "  </thead>\n",
       "  <tbody>\n",
       "    <tr>\n",
       "      <td>0</td>\n",
       "      <td>0.631864</td>\n",
       "      <td>0.660967</td>\n",
       "      <td>0.380049</td>\n",
       "      <td>00:02</td>\n",
       "    </tr>\n",
       "    <tr>\n",
       "      <td>1</td>\n",
       "      <td>0.436935</td>\n",
       "      <td>0.652091</td>\n",
       "      <td>0.519171</td>\n",
       "      <td>00:01</td>\n",
       "    </tr>\n",
       "    <tr>\n",
       "      <td>2</td>\n",
       "      <td>0.329009</td>\n",
       "      <td>0.631270</td>\n",
       "      <td>0.610253</td>\n",
       "      <td>00:01</td>\n",
       "    </tr>\n",
       "    <tr>\n",
       "      <td>3</td>\n",
       "      <td>0.255571</td>\n",
       "      <td>0.645902</td>\n",
       "      <td>0.519171</td>\n",
       "      <td>00:01</td>\n",
       "    </tr>\n",
       "    <tr>\n",
       "      <td>4</td>\n",
       "      <td>0.206731</td>\n",
       "      <td>0.641207</td>\n",
       "      <td>0.519171</td>\n",
       "      <td>00:01</td>\n",
       "    </tr>\n",
       "    <tr>\n",
       "      <td>5</td>\n",
       "      <td>0.171709</td>\n",
       "      <td>0.663759</td>\n",
       "      <td>0.519171</td>\n",
       "      <td>00:02</td>\n",
       "    </tr>\n",
       "    <tr>\n",
       "      <td>6</td>\n",
       "      <td>0.147151</td>\n",
       "      <td>0.644458</td>\n",
       "      <td>0.519171</td>\n",
       "      <td>00:02</td>\n",
       "    </tr>\n",
       "    <tr>\n",
       "      <td>7</td>\n",
       "      <td>0.127190</td>\n",
       "      <td>0.643263</td>\n",
       "      <td>0.519171</td>\n",
       "      <td>00:02</td>\n",
       "    </tr>\n",
       "    <tr>\n",
       "      <td>8</td>\n",
       "      <td>0.112143</td>\n",
       "      <td>0.623929</td>\n",
       "      <td>0.543096</td>\n",
       "      <td>00:01</td>\n",
       "    </tr>\n",
       "    <tr>\n",
       "      <td>9</td>\n",
       "      <td>0.099424</td>\n",
       "      <td>0.618069</td>\n",
       "      <td>0.550887</td>\n",
       "      <td>00:01</td>\n",
       "    </tr>\n",
       "    <tr>\n",
       "      <td>10</td>\n",
       "      <td>0.089176</td>\n",
       "      <td>0.623113</td>\n",
       "      <td>0.550887</td>\n",
       "      <td>00:01</td>\n",
       "    </tr>\n",
       "    <tr>\n",
       "      <td>11</td>\n",
       "      <td>0.080295</td>\n",
       "      <td>0.631968</td>\n",
       "      <td>0.527241</td>\n",
       "      <td>00:01</td>\n",
       "    </tr>\n",
       "    <tr>\n",
       "      <td>12</td>\n",
       "      <td>0.072912</td>\n",
       "      <td>0.637263</td>\n",
       "      <td>0.519171</td>\n",
       "      <td>00:01</td>\n",
       "    </tr>\n",
       "    <tr>\n",
       "      <td>13</td>\n",
       "      <td>0.066764</td>\n",
       "      <td>0.640118</td>\n",
       "      <td>0.535215</td>\n",
       "      <td>00:01</td>\n",
       "    </tr>\n",
       "    <tr>\n",
       "      <td>14</td>\n",
       "      <td>0.061259</td>\n",
       "      <td>0.639120</td>\n",
       "      <td>0.543096</td>\n",
       "      <td>00:01</td>\n",
       "    </tr>\n",
       "    <tr>\n",
       "      <td>15</td>\n",
       "      <td>0.056386</td>\n",
       "      <td>0.636159</td>\n",
       "      <td>0.543096</td>\n",
       "      <td>00:01</td>\n",
       "    </tr>\n",
       "    <tr>\n",
       "      <td>16</td>\n",
       "      <td>0.052120</td>\n",
       "      <td>0.633758</td>\n",
       "      <td>0.558590</td>\n",
       "      <td>00:01</td>\n",
       "    </tr>\n",
       "    <tr>\n",
       "      <td>17</td>\n",
       "      <td>0.048287</td>\n",
       "      <td>0.631934</td>\n",
       "      <td>0.573742</td>\n",
       "      <td>00:01</td>\n",
       "    </tr>\n",
       "    <tr>\n",
       "      <td>18</td>\n",
       "      <td>0.044840</td>\n",
       "      <td>0.630424</td>\n",
       "      <td>0.588573</td>\n",
       "      <td>00:01</td>\n",
       "    </tr>\n",
       "    <tr>\n",
       "      <td>19</td>\n",
       "      <td>0.041820</td>\n",
       "      <td>0.629234</td>\n",
       "      <td>0.588573</td>\n",
       "      <td>00:01</td>\n",
       "    </tr>\n",
       "  </tbody>\n",
       "</table>"
      ],
      "text/plain": [
       "<IPython.core.display.HTML object>"
      ]
     },
     "metadata": {},
     "output_type": "display_data"
    },
    {
     "name": "stdout",
     "output_type": "stream",
     "text": [
      "Better model found at epoch 0 with f1_score value: 0.3800486618004866.\n"
     ]
    },
    {
     "data": {
      "image/png": "[encoded data removed]",
      "text/plain": [
       "<Figure size 432x288 with 1 Axes>"
      ]
     },
     "metadata": {},
     "output_type": "display_data"
    },
    {
     "name": "stdout",
     "output_type": "stream",
     "text": [
      "Better model found at epoch 1 with f1_score value: 0.5191708440590705.\n",
      "Better model found at epoch 2 with f1_score value: 0.6102530824140169.\n"
     ]
    }
   ],
   "source": [
    "learn.fit_one_cycle(20, lr_max=1e-3)"
   ]
  },
  {
   "cell_type": "code",
   "execution_count": 32,
   "metadata": {},
   "outputs": [
    {
     "data": {
      "text/plain": [
       "<fastai.learner.Learner at 0x7f980062ea30>"
      ]
     },
     "execution_count": 32,
     "metadata": {},
     "output_type": "execute_result"
    }
   ],
   "source": [
    "learn.load(\"best_sequence_from_embs256_morepochs_tobacco\")"
   ]
  },
  {
   "cell_type": "code",
   "execution_count": 35,
   "metadata": {},
   "outputs": [],
   "source": [
    "def evaluate(learn, dl):\n",
    "    preds, targets = learn.get_preds(dl=dl)\n",
    "    preds =[np.argmax(x, axis=-1) for sublist in preds for x in sublist]\n",
    "    targets = [x for sublist in targets for x in sublist]\n",
    "    pad_idxs = [i for i,x in enumerate(targets) if x != tensor([OUT_DIM])]\n",
    "    preds = L(preds)[pad_idxs]\n",
    "    targets = L(targets)[pad_idxs]\n",
    "    print(classification_report(targets, preds, target_names=dl.get_labels.cat.vocab, digits=4))"
   ]
  },
  {
   "cell_type": "code",
   "execution_count": 34,
   "metadata": {},
   "outputs": [
    {
     "data": {
      "text/plain": [
       "['FirstPage', 'NextPage']"
      ]
     },
     "execution_count": 34,
     "metadata": {},
     "output_type": "execute_result"
    }
   ],
   "source": [
    "dls.get_labels.cat.vocab"
   ]
  },
  {
   "cell_type": "code",
   "execution_count": 36,
   "metadata": {},
   "outputs": [
    {
     "data": {
      "text/html": [],
      "text/plain": [
       "<IPython.core.display.HTML object>"
      ]
     },
     "metadata": {},
     "output_type": "display_data"
    },
    {
     "name": "stdout",
     "output_type": "stream",
     "text": [
      "              precision    recall  f1-score   support\n",
      "\n",
      "   FirstPage     0.5694    0.9535    0.7130        86\n",
      "    NextPage     0.8947    0.3542    0.5075        96\n",
      "\n",
      "    accuracy                         0.6374       182\n",
      "   macro avg     0.7321    0.6538    0.6103       182\n",
      "weighted avg     0.7410    0.6374    0.6046       182\n",
      "\n"
     ]
    }
   ],
   "source": [
    "evaluate(learn, dls.valid)"
   ]
  },
  {
   "cell_type": "code",
   "execution_count": 37,
   "metadata": {},
   "outputs": [],
   "source": [
    "test_data = pd.DataFrame({\"acts\":X_test, \"labels\":y_test})"
   ]
  },
  {
   "cell_type": "code",
   "execution_count": 38,
   "metadata": {},
   "outputs": [],
   "source": [
    "test_dl = dls.test_dl(test_data, with_labels=True)"
   ]
  },
  {
   "cell_type": "code",
   "execution_count": 39,
   "metadata": {},
   "outputs": [],
   "source": [
    "torch.save(test_dl, \"./data/test_dl_sequence_from_embs.pth\")"
   ]
  },
  {
   "cell_type": "code",
   "execution_count": 40,
   "metadata": {},
   "outputs": [
    {
     "data": {
      "text/html": [],
      "text/plain": [
       "<IPython.core.display.HTML object>"
      ]
     },
     "metadata": {},
     "output_type": "display_data"
    },
    {
     "name": "stdout",
     "output_type": "stream",
     "text": [
      "              precision    recall  f1-score   support\n",
      "\n",
      "   FirstPage     0.6429    0.9854    0.7781       137\n",
      "    NextPage     0.9310    0.2647    0.4122       102\n",
      "\n",
      "    accuracy                         0.6778       239\n",
      "   macro avg     0.7869    0.6251    0.5952       239\n",
      "weighted avg     0.7658    0.6778    0.6219       239\n",
      "\n"
     ]
    }
   ],
   "source": [
    "evaluate(learn, test_dl)"
   ]
  },
  {
   "cell_type": "code",
   "execution_count": null,
   "metadata": {},
   "outputs": [],
   "source": []
  }
 ],
 "metadata": {
  "kernelspec": {
   "display_name": "fastai2",
   "language": "python",
   "name": "fastai2"
  },
  "language_info": {
   "codemirror_mode": {
    "name": "ipython",
    "version": 3
   },
   "file_extension": ".py",
   "mimetype": "text/x-python",
   "name": "python",
   "nbconvert_exporter": "python",
   "pygments_lexer": "ipython3",
   "version": "3.8.10"
  }
 },
 "nbformat": 4,
 "nbformat_minor": 4
}
