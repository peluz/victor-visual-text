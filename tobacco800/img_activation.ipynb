{
 "cells": [
  {
   "cell_type": "code",
   "execution_count": 2,
   "metadata": {},
   "outputs": [
    {
     "name": "stdout",
     "output_type": "stream",
     "text": [
      "The autoreload extension is already loaded. To reload it, use:\n",
      "  %reload_ext autoreload\n"
     ]
    }
   ],
   "source": [
    "%load_ext autoreload\n",
    "%autoreload 2\n",
    "\n",
    "from fastai.text.all import *\n",
    "from fastai.vision.all import *\n",
    "import pandas as pd\n",
    "import torch\n",
    "from tqdm.notebook import tqdm\n",
    "\n",
    "from utils import get_dls"
   ]
  },
  {
   "cell_type": "code",
   "execution_count": 3,
   "metadata": {},
   "outputs": [],
   "source": [
    "seed = 42\n",
    "\n",
    "# python RNG\n",
    "import random\n",
    "random.seed(seed)\n",
    "\n",
    "# pytorch RNGs\n",
    "import torch\n",
    "torch.manual_seed(seed)\n",
    "torch.backends.cudnn.deterministic = True\n",
    "if torch.cuda.is_available(): torch.cuda.manual_seed_all(seed)\n",
    "\n",
    "# numpy RNG\n",
    "import numpy as np\n",
    "np.random.seed(seed)\n",
    "\n",
    "# # tensorflow RNG\n",
    "# tf.random.set_seed(seed)"
   ]
  },
  {
   "cell_type": "code",
   "execution_count": 4,
   "metadata": {},
   "outputs": [],
   "source": [
    "path = Path(\"/mnt/nas/databases/Tobacco800/unziped/page_imgs/raw\")"
   ]
  },
  {
   "cell_type": "code",
   "execution_count": 5,
   "metadata": {},
   "outputs": [],
   "source": [
    "df = pd.read_csv('/mnt/nas/databases/Tobacco800/unziped/train.csv', delimiter=';',  usecols=['binder','docid','class', 'text'])"
   ]
  },
  {
   "cell_type": "code",
   "execution_count": 6,
   "metadata": {},
   "outputs": [
    {
     "name": "stdout",
     "output_type": "stream",
     "text": [
      "(1031, 4)\n",
      "(1019, 4)\n"
     ]
    }
   ],
   "source": [
    "print(df.shape)\n",
    "df.dropna(inplace=True)\n",
    "print(df.shape)"
   ]
  },
  {
   "cell_type": "code",
   "execution_count": 7,
   "metadata": {},
   "outputs": [
    {
     "name": "stdout",
     "output_type": "stream",
     "text": [
      "(1019, 5)\n"
     ]
    },
    {
     "data": {
      "text/html": [
       "<div>\n",
       "<style scoped>\n",
       "    .dataframe tbody tr th:only-of-type {\n",
       "        vertical-align: middle;\n",
       "    }\n",
       "\n",
       "    .dataframe tbody tr th {\n",
       "        vertical-align: top;\n",
       "    }\n",
       "\n",
       "    .dataframe thead th {\n",
       "        text-align: right;\n",
       "    }\n",
       "</style>\n",
       "<table border=\"1\" class=\"dataframe\">\n",
       "  <thead>\n",
       "    <tr style=\"text-align: right;\">\n",
       "      <th></th>\n",
       "      <th>binder</th>\n",
       "      <th>docid</th>\n",
       "      <th>class</th>\n",
       "      <th>text</th>\n",
       "      <th>split</th>\n",
       "    </tr>\n",
       "  </thead>\n",
       "  <tbody>\n",
       "    <tr>\n",
       "      <th>0</th>\n",
       "      <td>Tobacco800</td>\n",
       "      <td>aah97e00-page02_1</td>\n",
       "      <td>FirstPage</td>\n",
       "      <td>Dr. M.A. Manzelli, PHILIP MORRIS INC., Research Center, P.O. Box 3 D Richmond, Va. 23206 U.S.A. Dear Art, Please find enclosed a proposed program for your visit in Europe. As you will see, this program contains two major points:  a)    A two-days meeting in Neuchätel with all people in Europe involved in infestation control (proposed program included).  b)    Visit of all PM Europe production centers with the purpose of:        - training people in Charge of the insect indenti-fication        - inspection of the sanitary conditions One of our main problems is the insect Identification and ...</td>\n",
       "      <td>train</td>\n",
       "    </tr>\n",
       "    <tr>\n",
       "      <th>1</th>\n",
       "      <td>Tobacco800</td>\n",
       "      <td>aah97e00-page02_2</td>\n",
       "      <td>NextPage</td>\n",
       "      <td>- 2 - Please let me krow if you have any changes for the proposed program. Looking forward to seeing you again, cc:    Messrs.  B.  Kuhn                 E. Stoop Encl.: mentioned 1000035625</td>\n",
       "      <td>train</td>\n",
       "    </tr>\n",
       "    <tr>\n",
       "      <th>2</th>\n",
       "      <td>Tobacco800</td>\n",
       "      <td>aam09c00</td>\n",
       "      <td>FirstPage</td>\n",
       "      <td>I NOIJ-04-97    13 = 25 FROM = I D : PAGE 10/17 Wachtell, Lipton, Rosen &amp; Katz MARTIN L1PTON HERBERT M. WaCHYCLL THEODORE GEWSRTZ »ERNA*» W, NUSSBAUM RICHARD O- HATCHER DOUGLAS Sr LieBKAfSKV STEVEN M. SAR NA CMARt.CS T. MEPCRR'GK CHAIN J. FOPTCANG pBTRR C. 1AMCLLDS MICHAEL w. SCHWÄRT* Al.LAR A- MARTIN BARRV A. BRrCR IAWREHCE □. PEDQrWITZ ROBERT 0. MAZUR PAUL VIZGARRÖMSCK JR. PCTCR G- HCIM hAROlD s. «OViKOFF DAVID M. EINHORN KENNET« B. FQRREST METER C. KOPLOW THEODORE M- MIRVIS EDWARD D. MERL1HT RICHARD D. FEINTUCH DANIEL A. NEPP ERIC M. ROTR WAHREN R. STERN ANDREW R. BROWN ST EIN MICHAEL H...</td>\n",
       "      <td>train</td>\n",
       "    </tr>\n",
       "    <tr>\n",
       "      <th>3</th>\n",
       "      <td>Tobacco800</td>\n",
       "      <td>aao54e00_1</td>\n",
       "      <td>FirstPage</td>\n",
       "      <td>i PHILIP .MORRIS         INCORPORATED 120 PARK AVENUE, N EW YORK. N. Y. 10017 John T.-Landhy SENIOR VICC PRESIDENT                                                         _ ,                    r     . n n - . oirector of Marketing                                                         February 15, 19 83 Dear Ms. Ober: Your letter of February 3 was received by this Office yesterday. We attempted to reach you by telephone iinmediately but were unable to find a listed number in New Haven. I had hoped to arrange an appointment for one of our executives to discuss with you and your concerned ...</td>\n",
       "      <td>train</td>\n",
       "    </tr>\n",
       "    <tr>\n",
       "      <th>4</th>\n",
       "      <td>Tobacco800</td>\n",
       "      <td>aao54e00_2</td>\n",
       "      <td>NextPage</td>\n",
       "      <td>In the meantime, I hope you and your friends are continuing to enjoy your Marlboro Lights ciga-rettes. We don't think you can find a better\" cigarette on the market. ■Thank you. Ms. Angela Ober 221 Farnham Avenue New Haven, Connecticut 06515</td>\n",
       "      <td>train</td>\n",
       "    </tr>\n",
       "  </tbody>\n",
       "</table>\n",
       "</div>"
      ],
      "text/plain": [
       "       binder              docid      class  \\\n",
       "0  Tobacco800  aah97e00-page02_1  FirstPage   \n",
       "1  Tobacco800  aah97e00-page02_2   NextPage   \n",
       "2  Tobacco800           aam09c00  FirstPage   \n",
       "3  Tobacco800         aao54e00_1  FirstPage   \n",
       "4  Tobacco800         aao54e00_2   NextPage   \n",
       "\n",
       "                                                                                                                                                                                                                                                                                                                                                                                                                                                                                                                                                                                                                      text  \\\n",
       "0  Dr. M.A. Manzelli, PHILIP MORRIS INC., Research Center, P.O. Box 3 D Richmond, Va. 23206 U.S.A. Dear Art, Please find enclosed a proposed program for your visit in Europe. As you will see, this program contains two major points:  a)    A two-days meeting in Neuchätel with all people in Europe involved in infestation control (proposed program included).  b)    Visit of all PM Europe production centers with the purpose of:        - training people in Charge of the insect indenti-fication        - inspection of the sanitary conditions One of our main problems is the insect Identification and ...   \n",
       "1                                                                                                                                                                                                                                                                                                                                                                                                                            - 2 - Please let me krow if you have any changes for the proposed program. Looking forward to seeing you again, cc:    Messrs.  B.  Kuhn                 E. Stoop Encl.: mentioned 1000035625   \n",
       "2  I NOIJ-04-97    13 = 25 FROM = I D : PAGE 10/17 Wachtell, Lipton, Rosen & Katz MARTIN L1PTON HERBERT M. WaCHYCLL THEODORE GEWSRTZ »ERNA*» W, NUSSBAUM RICHARD O- HATCHER DOUGLAS Sr LieBKAfSKV STEVEN M. SAR NA CMARt.CS T. MEPCRR'GK CHAIN J. FOPTCANG pBTRR C. 1AMCLLDS MICHAEL w. SCHWÄRT* Al.LAR A- MARTIN BARRV A. BRrCR IAWREHCE □. PEDQrWITZ ROBERT 0. MAZUR PAUL VIZGARRÖMSCK JR. PCTCR G- HCIM hAROlD s. «OViKOFF DAVID M. EINHORN KENNET« B. FQRREST METER C. KOPLOW THEODORE M- MIRVIS EDWARD D. MERL1HT RICHARD D. FEINTUCH DANIEL A. NEPP ERIC M. ROTR WAHREN R. STERN ANDREW R. BROWN ST EIN MICHAEL H...   \n",
       "3  i PHILIP .MORRIS         INCORPORATED 120 PARK AVENUE, N EW YORK. N. Y. 10017 John T.-Landhy SENIOR VICC PRESIDENT                                                         _ ,                    r     . n n - . oirector of Marketing                                                         February 15, 19 83 Dear Ms. Ober: Your letter of February 3 was received by this Office yesterday. We attempted to reach you by telephone iinmediately but were unable to find a listed number in New Haven. I had hoped to arrange an appointment for one of our executives to discuss with you and your concerned ...   \n",
       "4                                                                                                                                                                                                                                                                                                                                                                        In the meantime, I hope you and your friends are continuing to enjoy your Marlboro Lights ciga-rettes. We don't think you can find a better\" cigarette on the market. ■Thank you. Ms. Angela Ober 221 Farnham Avenue New Haven, Connecticut 06515   \n",
       "\n",
       "   split  \n",
       "0  train  \n",
       "1  train  \n",
       "2  train  \n",
       "3  train  \n",
       "4  train  "
      ]
     },
     "execution_count": 7,
     "metadata": {},
     "output_type": "execute_result"
    }
   ],
   "source": [
    "df['split'] = 'train';print(df.shape); df.head()"
   ]
  },
  {
   "cell_type": "code",
   "execution_count": 8,
   "metadata": {},
   "outputs": [],
   "source": [
    "df['split'][-200:] = 'valid'; df.iloc[-202:-198];"
   ]
  },
  {
   "cell_type": "code",
   "execution_count": 9,
   "metadata": {},
   "outputs": [
    {
     "data": {
      "text/html": [
       "<div>\n",
       "<style scoped>\n",
       "    .dataframe tbody tr th:only-of-type {\n",
       "        vertical-align: middle;\n",
       "    }\n",
       "\n",
       "    .dataframe tbody tr th {\n",
       "        vertical-align: top;\n",
       "    }\n",
       "\n",
       "    .dataframe thead th {\n",
       "        text-align: right;\n",
       "    }\n",
       "</style>\n",
       "<table border=\"1\" class=\"dataframe\">\n",
       "  <thead>\n",
       "    <tr style=\"text-align: right;\">\n",
       "      <th></th>\n",
       "      <th>binder</th>\n",
       "      <th>docid</th>\n",
       "      <th>class</th>\n",
       "      <th>text</th>\n",
       "      <th>split</th>\n",
       "    </tr>\n",
       "  </thead>\n",
       "  <tbody>\n",
       "    <tr>\n",
       "      <th>0</th>\n",
       "      <td>Tobacco800</td>\n",
       "      <td>aah97e00-page02_1</td>\n",
       "      <td>FirstPage</td>\n",
       "      <td>Dr. M.A. Manzelli, PHILIP MORRIS INC., Research Center, P.O. Box 3 D Richmond, Va. 23206 U.S.A. Dear Art, Please find enclosed a proposed program for your visit in Europe. As you will see, this program contains two major points:  a)    A two-days meeting in Neuchätel with all people in Europe involved in infestation control (proposed program included).  b)    Visit of all PM Europe production centers with the purpose of:        - training people in Charge of the insect indenti-fication        - inspection of the sanitary conditions One of our main problems is the insect Identification and ...</td>\n",
       "      <td>train</td>\n",
       "    </tr>\n",
       "    <tr>\n",
       "      <th>1</th>\n",
       "      <td>Tobacco800</td>\n",
       "      <td>aah97e00-page02_2</td>\n",
       "      <td>NextPage</td>\n",
       "      <td>- 2 - Please let me krow if you have any changes for the proposed program. Looking forward to seeing you again, cc:    Messrs.  B.  Kuhn                 E. Stoop Encl.: mentioned 1000035625</td>\n",
       "      <td>train</td>\n",
       "    </tr>\n",
       "    <tr>\n",
       "      <th>2</th>\n",
       "      <td>Tobacco800</td>\n",
       "      <td>aam09c00</td>\n",
       "      <td>FirstPage</td>\n",
       "      <td>I NOIJ-04-97    13 = 25 FROM = I D : PAGE 10/17 Wachtell, Lipton, Rosen &amp; Katz MARTIN L1PTON HERBERT M. WaCHYCLL THEODORE GEWSRTZ »ERNA*» W, NUSSBAUM RICHARD O- HATCHER DOUGLAS Sr LieBKAfSKV STEVEN M. SAR NA CMARt.CS T. MEPCRR'GK CHAIN J. FOPTCANG pBTRR C. 1AMCLLDS MICHAEL w. SCHWÄRT* Al.LAR A- MARTIN BARRV A. BRrCR IAWREHCE □. PEDQrWITZ ROBERT 0. MAZUR PAUL VIZGARRÖMSCK JR. PCTCR G- HCIM hAROlD s. «OViKOFF DAVID M. EINHORN KENNET« B. FQRREST METER C. KOPLOW THEODORE M- MIRVIS EDWARD D. MERL1HT RICHARD D. FEINTUCH DANIEL A. NEPP ERIC M. ROTR WAHREN R. STERN ANDREW R. BROWN ST EIN MICHAEL H...</td>\n",
       "      <td>train</td>\n",
       "    </tr>\n",
       "    <tr>\n",
       "      <th>3</th>\n",
       "      <td>Tobacco800</td>\n",
       "      <td>aao54e00_1</td>\n",
       "      <td>FirstPage</td>\n",
       "      <td>i PHILIP .MORRIS         INCORPORATED 120 PARK AVENUE, N EW YORK. N. Y. 10017 John T.-Landhy SENIOR VICC PRESIDENT                                                         _ ,                    r     . n n - . oirector of Marketing                                                         February 15, 19 83 Dear Ms. Ober: Your letter of February 3 was received by this Office yesterday. We attempted to reach you by telephone iinmediately but were unable to find a listed number in New Haven. I had hoped to arrange an appointment for one of our executives to discuss with you and your concerned ...</td>\n",
       "      <td>train</td>\n",
       "    </tr>\n",
       "    <tr>\n",
       "      <th>4</th>\n",
       "      <td>Tobacco800</td>\n",
       "      <td>aao54e00_2</td>\n",
       "      <td>NextPage</td>\n",
       "      <td>In the meantime, I hope you and your friends are continuing to enjoy your Marlboro Lights ciga-rettes. We don't think you can find a better\" cigarette on the market. ■Thank you. Ms. Angela Ober 221 Farnham Avenue New Haven, Connecticut 06515</td>\n",
       "      <td>train</td>\n",
       "    </tr>\n",
       "    <tr>\n",
       "      <th>...</th>\n",
       "      <td>...</td>\n",
       "      <td>...</td>\n",
       "      <td>...</td>\n",
       "      <td>...</td>\n",
       "      <td>...</td>\n",
       "    </tr>\n",
       "    <tr>\n",
       "      <th>1026</th>\n",
       "      <td>Tobacco800</td>\n",
       "      <td>thl51a00-page02_2</td>\n",
       "      <td>NextPage</td>\n",
       "      <td>«AR 18 »Sg 14t99 FROM B/W LAU DEPT PAGE.Q03 P*fl® t Maroh 18, 1992 Letter fco K. fii      yeeterday 1» which American would represent that it does not m)w any itlai of the wcxt STRIKs «ad fall mall producta in the United States, inoiuding tu® U.S. duty free narbet# fot re-oacpott to »ttd resale in any country where Brom * wlllieason# or a mamber of the b.a.t. Group of 0Oa&amp;anies, has registered theso tradomarks# and that any sudü aale by any parson woUld be oonaidered an infringement of Brown &amp; Williamson*® tredemark rights.                                                            4 3* Pr...</td>\n",
       "      <td>valid</td>\n",
       "    </tr>\n",
       "    <tr>\n",
       "      <th>1027</th>\n",
       "      <td>Tobacco800</td>\n",
       "      <td>tji44a00</td>\n",
       "      <td>FirstPage</td>\n",
       "      <td>MOV 2 11994 Si iook.J Iakdyü. Bacon                            November 18,  1994 FEDERAL EXPRESS TO:   ETS/IAQ  Current   Developments             Report    Distribution            Enclosed you will find a copy of the most recent issue of the ETS/XACl Current Developments Report.            If you have questions or information rega.rd.ing items contained in this Report, please feel free to contact either of us at (816)  4*74-6550. Sincerely MWC : KAM : lew Enclosure cc:         Report:     Team 88325694</td>\n",
       "      <td>valid</td>\n",
       "    </tr>\n",
       "    <tr>\n",
       "      <th>1028</th>\n",
       "      <td>Tobacco800</td>\n",
       "      <td>tjr72f00-page02_1</td>\n",
       "      <td>FirstPage</td>\n",
       "      <td>THE TOBACCO INSTITUTE, inc. ■1776 K STREET, NORTHWEST! WASHINGTON, D.C. 2000b i 202.'296-8434  HORACE R. KORNEGAY  President May 13, 1975 Mr. Colin Stokes Chairman of the Board of Directors R. J. Reynolds Industries, Inc. 401 North Main Street Winston-Salem, North Carolina 27102 Dear Colin: The terms on which your and other Companies agreed to participate in the establishment and Operation of the Tobacco Institute Testing Laboratory (T.I.T.L.) were set förth in the Institute letter of November 1, 1966, which was accepted by each participating Company. Based on recent discussions which I ha...</td>\n",
       "      <td>valid</td>\n",
       "    </tr>\n",
       "    <tr>\n",
       "      <th>1029</th>\n",
       "      <td>Tobacco800</td>\n",
       "      <td>tjr72f00-page02_2</td>\n",
       "      <td>NextPage</td>\n",
       "      <td>two billion units. Each Company responsible for additional expenses shall be assessed for the per-centage of such additional expenses as is determined by using that Company's total annual sales of USA tax-paid cigarettes as the numerator and the total annual sales of USA tax-paid cigarettes of all Companies responsible for additional expenses as the denominator. In determining the allocation for additional expenses, the total sales of USA tax-paid cigarettes shall be determined by using, as sales figures, the estimated domestic cigarette consumption by Company based on the latest ann...</td>\n",
       "      <td>valid</td>\n",
       "    </tr>\n",
       "    <tr>\n",
       "      <th>1030</th>\n",
       "      <td>Tobacco800</td>\n",
       "      <td>tjt59c00-var</td>\n",
       "      <td>NextPage</td>\n",
       "      <td>College of Physicians &amp; Surgeons of Columbia University | New York, N. Y. 10032 DEPARTMENT OF M EDI CIN E                                                 630 West 168th Street                                                                        September 7S 1983                     Dr. Vincent F. Lisanti Council for Tobacco Research 110 East 59th Street New York, NY 10022                    Dear Dr. Lisanti,                                             . We request the transfer of the uncommitted balance of $2026 for fiscal 1982 to the 1983 budget - equipment category. This sum will be us...</td>\n",
       "      <td>valid</td>\n",
       "    </tr>\n",
       "  </tbody>\n",
       "</table>\n",
       "<p>1019 rows × 5 columns</p>\n",
       "</div>"
      ],
      "text/plain": [
       "          binder              docid      class  \\\n",
       "0     Tobacco800  aah97e00-page02_1  FirstPage   \n",
       "1     Tobacco800  aah97e00-page02_2   NextPage   \n",
       "2     Tobacco800           aam09c00  FirstPage   \n",
       "3     Tobacco800         aao54e00_1  FirstPage   \n",
       "4     Tobacco800         aao54e00_2   NextPage   \n",
       "...          ...                ...        ...   \n",
       "1026  Tobacco800  thl51a00-page02_2   NextPage   \n",
       "1027  Tobacco800           tji44a00  FirstPage   \n",
       "1028  Tobacco800  tjr72f00-page02_1  FirstPage   \n",
       "1029  Tobacco800  tjr72f00-page02_2   NextPage   \n",
       "1030  Tobacco800       tjt59c00-var   NextPage   \n",
       "\n",
       "                                                                                                                                                                                                                                                                                                                                                                                                                                                                                                                                                                                                                         text  \\\n",
       "0     Dr. M.A. Manzelli, PHILIP MORRIS INC., Research Center, P.O. Box 3 D Richmond, Va. 23206 U.S.A. Dear Art, Please find enclosed a proposed program for your visit in Europe. As you will see, this program contains two major points:  a)    A two-days meeting in Neuchätel with all people in Europe involved in infestation control (proposed program included).  b)    Visit of all PM Europe production centers with the purpose of:        - training people in Charge of the insect indenti-fication        - inspection of the sanitary conditions One of our main problems is the insect Identification and ...   \n",
       "1                                                                                                                                                                                                                                                                                                                                                                                                                               - 2 - Please let me krow if you have any changes for the proposed program. Looking forward to seeing you again, cc:    Messrs.  B.  Kuhn                 E. Stoop Encl.: mentioned 1000035625   \n",
       "2     I NOIJ-04-97    13 = 25 FROM = I D : PAGE 10/17 Wachtell, Lipton, Rosen & Katz MARTIN L1PTON HERBERT M. WaCHYCLL THEODORE GEWSRTZ »ERNA*» W, NUSSBAUM RICHARD O- HATCHER DOUGLAS Sr LieBKAfSKV STEVEN M. SAR NA CMARt.CS T. MEPCRR'GK CHAIN J. FOPTCANG pBTRR C. 1AMCLLDS MICHAEL w. SCHWÄRT* Al.LAR A- MARTIN BARRV A. BRrCR IAWREHCE □. PEDQrWITZ ROBERT 0. MAZUR PAUL VIZGARRÖMSCK JR. PCTCR G- HCIM hAROlD s. «OViKOFF DAVID M. EINHORN KENNET« B. FQRREST METER C. KOPLOW THEODORE M- MIRVIS EDWARD D. MERL1HT RICHARD D. FEINTUCH DANIEL A. NEPP ERIC M. ROTR WAHREN R. STERN ANDREW R. BROWN ST EIN MICHAEL H...   \n",
       "3     i PHILIP .MORRIS         INCORPORATED 120 PARK AVENUE, N EW YORK. N. Y. 10017 John T.-Landhy SENIOR VICC PRESIDENT                                                         _ ,                    r     . n n - . oirector of Marketing                                                         February 15, 19 83 Dear Ms. Ober: Your letter of February 3 was received by this Office yesterday. We attempted to reach you by telephone iinmediately but were unable to find a listed number in New Haven. I had hoped to arrange an appointment for one of our executives to discuss with you and your concerned ...   \n",
       "4                                                                                                                                                                                                                                                                                                                                                                           In the meantime, I hope you and your friends are continuing to enjoy your Marlboro Lights ciga-rettes. We don't think you can find a better\" cigarette on the market. ■Thank you. Ms. Angela Ober 221 Farnham Avenue New Haven, Connecticut 06515   \n",
       "...                                                                                                                                                                                                                                                                                                                                                                                                                                                                                                                                                                                                                       ...   \n",
       "1026  «AR 18 »Sg 14t99 FROM B/W LAU DEPT PAGE.Q03 P*fl® t Maroh 18, 1992 Letter fco K. fii      yeeterday 1» which American would represent that it does not m)w any itlai of the wcxt STRIKs «ad fall mall producta in the United States, inoiuding tu® U.S. duty free narbet# fot re-oacpott to »ttd resale in any country where Brom * wlllieason# or a mamber of the b.a.t. Group of 0Oa&anies, has registered theso tradomarks# and that any sudü aale by any parson woUld be oonaidered an infringement of Brown & Williamson*® tredemark rights.                                                            4 3* Pr...   \n",
       "1027                                                                                            MOV 2 11994 Si iook.J Iakdyü. Bacon                            November 18,  1994 FEDERAL EXPRESS TO:   ETS/IAQ  Current   Developments             Report    Distribution            Enclosed you will find a copy of the most recent issue of the ETS/XACl Current Developments Report.            If you have questions or information rega.rd.ing items contained in this Report, please feel free to contact either of us at (816)  4*74-6550. Sincerely MWC : KAM : lew Enclosure cc:         Report:     Team 88325694   \n",
       "1028  THE TOBACCO INSTITUTE, inc. ■1776 K STREET, NORTHWEST! WASHINGTON, D.C. 2000b i 202.'296-8434  HORACE R. KORNEGAY  President May 13, 1975 Mr. Colin Stokes Chairman of the Board of Directors R. J. Reynolds Industries, Inc. 401 North Main Street Winston-Salem, North Carolina 27102 Dear Colin: The terms on which your and other Companies agreed to participate in the establishment and Operation of the Tobacco Institute Testing Laboratory (T.I.T.L.) were set förth in the Institute letter of November 1, 1966, which was accepted by each participating Company. Based on recent discussions which I ha...   \n",
       "1029        two billion units. Each Company responsible for additional expenses shall be assessed for the per-centage of such additional expenses as is determined by using that Company's total annual sales of USA tax-paid cigarettes as the numerator and the total annual sales of USA tax-paid cigarettes of all Companies responsible for additional expenses as the denominator. In determining the allocation for additional expenses, the total sales of USA tax-paid cigarettes shall be determined by using, as sales figures, the estimated domestic cigarette consumption by Company based on the latest ann...   \n",
       "1030  College of Physicians & Surgeons of Columbia University | New York, N. Y. 10032 DEPARTMENT OF M EDI CIN E                                                 630 West 168th Street                                                                        September 7S 1983                     Dr. Vincent F. Lisanti Council for Tobacco Research 110 East 59th Street New York, NY 10022                    Dear Dr. Lisanti,                                             . We request the transfer of the uncommitted balance of $2026 for fiscal 1982 to the 1983 budget - equipment category. This sum will be us...   \n",
       "\n",
       "      split  \n",
       "0     train  \n",
       "1     train  \n",
       "2     train  \n",
       "3     train  \n",
       "4     train  \n",
       "...     ...  \n",
       "1026  valid  \n",
       "1027  valid  \n",
       "1028  valid  \n",
       "1029  valid  \n",
       "1030  valid  \n",
       "\n",
       "[1019 rows x 5 columns]"
      ]
     },
     "execution_count": 9,
     "metadata": {},
     "output_type": "execute_result"
    }
   ],
   "source": [
    "df"
   ]
  },
  {
   "cell_type": "code",
   "execution_count": 10,
   "metadata": {},
   "outputs": [],
   "source": [
    "df_test = pd.read_csv('/mnt/nas/databases/Tobacco800/unziped/test.csv', delimiter=';',  usecols=['binder','docid','class'])"
   ]
  },
  {
   "cell_type": "code",
   "execution_count": 11,
   "metadata": {},
   "outputs": [],
   "source": [
    "df_test['split'] = 'test'"
   ]
  },
  {
   "cell_type": "code",
   "execution_count": 12,
   "metadata": {},
   "outputs": [
    {
     "data": {
      "text/html": [
       "<div>\n",
       "<style scoped>\n",
       "    .dataframe tbody tr th:only-of-type {\n",
       "        vertical-align: middle;\n",
       "    }\n",
       "\n",
       "    .dataframe tbody tr th {\n",
       "        vertical-align: top;\n",
       "    }\n",
       "\n",
       "    .dataframe thead th {\n",
       "        text-align: right;\n",
       "    }\n",
       "</style>\n",
       "<table border=\"1\" class=\"dataframe\">\n",
       "  <thead>\n",
       "    <tr style=\"text-align: right;\">\n",
       "      <th></th>\n",
       "      <th>binder</th>\n",
       "      <th>docid</th>\n",
       "      <th>class</th>\n",
       "      <th>text</th>\n",
       "      <th>split</th>\n",
       "    </tr>\n",
       "  </thead>\n",
       "  <tbody>\n",
       "    <tr>\n",
       "      <th>0</th>\n",
       "      <td>Tobacco800</td>\n",
       "      <td>aah97e00-page02_1</td>\n",
       "      <td>FirstPage</td>\n",
       "      <td>Dr. M.A. Manzelli, PHILIP MORRIS INC., Research Center, P.O. Box 3 D Richmond, Va. 23206 U.S.A. Dear Art, Please find enclosed a proposed program for your visit in Europe. As you will see, this program contains two major points:  a)    A two-days meeting in Neuchätel with all people in Europe involved in infestation control (proposed program included).  b)    Visit of all PM Europe production centers with the purpose of:        - training people in Charge of the insect indenti-fication        - inspection of the sanitary conditions One of our main problems is the insect Identification and ...</td>\n",
       "      <td>train</td>\n",
       "    </tr>\n",
       "    <tr>\n",
       "      <th>1</th>\n",
       "      <td>Tobacco800</td>\n",
       "      <td>aah97e00-page02_2</td>\n",
       "      <td>NextPage</td>\n",
       "      <td>- 2 - Please let me krow if you have any changes for the proposed program. Looking forward to seeing you again, cc:    Messrs.  B.  Kuhn                 E. Stoop Encl.: mentioned 1000035625</td>\n",
       "      <td>train</td>\n",
       "    </tr>\n",
       "    <tr>\n",
       "      <th>2</th>\n",
       "      <td>Tobacco800</td>\n",
       "      <td>aam09c00</td>\n",
       "      <td>FirstPage</td>\n",
       "      <td>I NOIJ-04-97    13 = 25 FROM = I D : PAGE 10/17 Wachtell, Lipton, Rosen &amp; Katz MARTIN L1PTON HERBERT M. WaCHYCLL THEODORE GEWSRTZ »ERNA*» W, NUSSBAUM RICHARD O- HATCHER DOUGLAS Sr LieBKAfSKV STEVEN M. SAR NA CMARt.CS T. MEPCRR'GK CHAIN J. FOPTCANG pBTRR C. 1AMCLLDS MICHAEL w. SCHWÄRT* Al.LAR A- MARTIN BARRV A. BRrCR IAWREHCE □. PEDQrWITZ ROBERT 0. MAZUR PAUL VIZGARRÖMSCK JR. PCTCR G- HCIM hAROlD s. «OViKOFF DAVID M. EINHORN KENNET« B. FQRREST METER C. KOPLOW THEODORE M- MIRVIS EDWARD D. MERL1HT RICHARD D. FEINTUCH DANIEL A. NEPP ERIC M. ROTR WAHREN R. STERN ANDREW R. BROWN ST EIN MICHAEL H...</td>\n",
       "      <td>train</td>\n",
       "    </tr>\n",
       "    <tr>\n",
       "      <th>3</th>\n",
       "      <td>Tobacco800</td>\n",
       "      <td>aao54e00_1</td>\n",
       "      <td>FirstPage</td>\n",
       "      <td>i PHILIP .MORRIS         INCORPORATED 120 PARK AVENUE, N EW YORK. N. Y. 10017 John T.-Landhy SENIOR VICC PRESIDENT                                                         _ ,                    r     . n n - . oirector of Marketing                                                         February 15, 19 83 Dear Ms. Ober: Your letter of February 3 was received by this Office yesterday. We attempted to reach you by telephone iinmediately but were unable to find a listed number in New Haven. I had hoped to arrange an appointment for one of our executives to discuss with you and your concerned ...</td>\n",
       "      <td>train</td>\n",
       "    </tr>\n",
       "    <tr>\n",
       "      <th>4</th>\n",
       "      <td>Tobacco800</td>\n",
       "      <td>aao54e00_2</td>\n",
       "      <td>NextPage</td>\n",
       "      <td>In the meantime, I hope you and your friends are continuing to enjoy your Marlboro Lights ciga-rettes. We don't think you can find a better\" cigarette on the market. ■Thank you. Ms. Angela Ober 221 Farnham Avenue New Haven, Connecticut 06515</td>\n",
       "      <td>train</td>\n",
       "    </tr>\n",
       "    <tr>\n",
       "      <th>...</th>\n",
       "      <td>...</td>\n",
       "      <td>...</td>\n",
       "      <td>...</td>\n",
       "      <td>...</td>\n",
       "      <td>...</td>\n",
       "    </tr>\n",
       "    <tr>\n",
       "      <th>1273</th>\n",
       "      <td>Tobacco800</td>\n",
       "      <td>zrz94a00-page02_2</td>\n",
       "      <td>NextPage</td>\n",
       "      <td>NaN</td>\n",
       "      <td>test</td>\n",
       "    </tr>\n",
       "    <tr>\n",
       "      <th>1274</th>\n",
       "      <td>Tobacco800</td>\n",
       "      <td>zss86d00</td>\n",
       "      <td>FirstPage</td>\n",
       "      <td>NaN</td>\n",
       "      <td>test</td>\n",
       "    </tr>\n",
       "    <tr>\n",
       "      <th>1275</th>\n",
       "      <td>Tobacco800</td>\n",
       "      <td>ztz52d00-page02_1</td>\n",
       "      <td>FirstPage</td>\n",
       "      <td>NaN</td>\n",
       "      <td>test</td>\n",
       "    </tr>\n",
       "    <tr>\n",
       "      <th>1276</th>\n",
       "      <td>Tobacco800</td>\n",
       "      <td>ztz52d00-page02_2</td>\n",
       "      <td>NextPage</td>\n",
       "      <td>NaN</td>\n",
       "      <td>test</td>\n",
       "    </tr>\n",
       "    <tr>\n",
       "      <th>1277</th>\n",
       "      <td>Tobacco800</td>\n",
       "      <td>zvs17e00</td>\n",
       "      <td>FirstPage</td>\n",
       "      <td>NaN</td>\n",
       "      <td>test</td>\n",
       "    </tr>\n",
       "  </tbody>\n",
       "</table>\n",
       "<p>1278 rows × 5 columns</p>\n",
       "</div>"
      ],
      "text/plain": [
       "          binder              docid      class  \\\n",
       "0     Tobacco800  aah97e00-page02_1  FirstPage   \n",
       "1     Tobacco800  aah97e00-page02_2   NextPage   \n",
       "2     Tobacco800           aam09c00  FirstPage   \n",
       "3     Tobacco800         aao54e00_1  FirstPage   \n",
       "4     Tobacco800         aao54e00_2   NextPage   \n",
       "...          ...                ...        ...   \n",
       "1273  Tobacco800  zrz94a00-page02_2   NextPage   \n",
       "1274  Tobacco800           zss86d00  FirstPage   \n",
       "1275  Tobacco800  ztz52d00-page02_1  FirstPage   \n",
       "1276  Tobacco800  ztz52d00-page02_2   NextPage   \n",
       "1277  Tobacco800           zvs17e00  FirstPage   \n",
       "\n",
       "                                                                                                                                                                                                                                                                                                                                                                                                                                                                                                                                                                                                                         text  \\\n",
       "0     Dr. M.A. Manzelli, PHILIP MORRIS INC., Research Center, P.O. Box 3 D Richmond, Va. 23206 U.S.A. Dear Art, Please find enclosed a proposed program for your visit in Europe. As you will see, this program contains two major points:  a)    A two-days meeting in Neuchätel with all people in Europe involved in infestation control (proposed program included).  b)    Visit of all PM Europe production centers with the purpose of:        - training people in Charge of the insect indenti-fication        - inspection of the sanitary conditions One of our main problems is the insect Identification and ...   \n",
       "1                                                                                                                                                                                                                                                                                                                                                                                                                               - 2 - Please let me krow if you have any changes for the proposed program. Looking forward to seeing you again, cc:    Messrs.  B.  Kuhn                 E. Stoop Encl.: mentioned 1000035625   \n",
       "2     I NOIJ-04-97    13 = 25 FROM = I D : PAGE 10/17 Wachtell, Lipton, Rosen & Katz MARTIN L1PTON HERBERT M. WaCHYCLL THEODORE GEWSRTZ »ERNA*» W, NUSSBAUM RICHARD O- HATCHER DOUGLAS Sr LieBKAfSKV STEVEN M. SAR NA CMARt.CS T. MEPCRR'GK CHAIN J. FOPTCANG pBTRR C. 1AMCLLDS MICHAEL w. SCHWÄRT* Al.LAR A- MARTIN BARRV A. BRrCR IAWREHCE □. PEDQrWITZ ROBERT 0. MAZUR PAUL VIZGARRÖMSCK JR. PCTCR G- HCIM hAROlD s. «OViKOFF DAVID M. EINHORN KENNET« B. FQRREST METER C. KOPLOW THEODORE M- MIRVIS EDWARD D. MERL1HT RICHARD D. FEINTUCH DANIEL A. NEPP ERIC M. ROTR WAHREN R. STERN ANDREW R. BROWN ST EIN MICHAEL H...   \n",
       "3     i PHILIP .MORRIS         INCORPORATED 120 PARK AVENUE, N EW YORK. N. Y. 10017 John T.-Landhy SENIOR VICC PRESIDENT                                                         _ ,                    r     . n n - . oirector of Marketing                                                         February 15, 19 83 Dear Ms. Ober: Your letter of February 3 was received by this Office yesterday. We attempted to reach you by telephone iinmediately but were unable to find a listed number in New Haven. I had hoped to arrange an appointment for one of our executives to discuss with you and your concerned ...   \n",
       "4                                                                                                                                                                                                                                                                                                                                                                           In the meantime, I hope you and your friends are continuing to enjoy your Marlboro Lights ciga-rettes. We don't think you can find a better\" cigarette on the market. ■Thank you. Ms. Angela Ober 221 Farnham Avenue New Haven, Connecticut 06515   \n",
       "...                                                                                                                                                                                                                                                                                                                                                                                                                                                                                                                                                                                                                       ...   \n",
       "1273                                                                                                                                                                                                                                                                                                                                                                                                                                                                                                                                                                                                                      NaN   \n",
       "1274                                                                                                                                                                                                                                                                                                                                                                                                                                                                                                                                                                                                                      NaN   \n",
       "1275                                                                                                                                                                                                                                                                                                                                                                                                                                                                                                                                                                                                                      NaN   \n",
       "1276                                                                                                                                                                                                                                                                                                                                                                                                                                                                                                                                                                                                                      NaN   \n",
       "1277                                                                                                                                                                                                                                                                                                                                                                                                                                                                                                                                                                                                                      NaN   \n",
       "\n",
       "      split  \n",
       "0     train  \n",
       "1     train  \n",
       "2     train  \n",
       "3     train  \n",
       "4     train  \n",
       "...     ...  \n",
       "1273   test  \n",
       "1274   test  \n",
       "1275   test  \n",
       "1276   test  \n",
       "1277   test  \n",
       "\n",
       "[1278 rows x 5 columns]"
      ]
     },
     "execution_count": 12,
     "metadata": {},
     "output_type": "execute_result"
    }
   ],
   "source": [
    "df = pd.concat([df, df_test], axis=0); df.reset_index(drop=True, inplace=True); df"
   ]
  },
  {
   "cell_type": "code",
   "execution_count": 13,
   "metadata": {},
   "outputs": [],
   "source": [
    "def splitter(df):\n",
    "    train = df[df['split']=='train'].index.tolist()\n",
    "    valid = df[df['split']=='valid'].index.tolist()\n",
    "    test = df[df['split']=='test'].index.tolist()\n",
    "    return train,valid, test"
   ]
  },
  {
   "cell_type": "code",
   "execution_count": 14,
   "metadata": {},
   "outputs": [],
   "source": [
    "def get_x(r): return path/f'{r[\"docid\"]}.tif'\n",
    "def get_y(r): return r['class']"
   ]
  },
  {
   "cell_type": "code",
   "execution_count": 15,
   "metadata": {},
   "outputs": [],
   "source": [
    "dblock = DataBlock(blocks=(ImageBlock, CategoryBlock),\n",
    "                   get_x=get_x,\n",
    "                   get_y=get_y,\n",
    "                   splitter=splitter,\n",
    "                   item_tfms=Resize(460),\n",
    "                   batch_tfms=[*aug_transforms(size=224, min_scale=0.9,\n",
    "                                               do_flip=False, max_rotate=0,\n",
    "                                               max_warp=0),\n",
    "                               Normalize.from_stats(*imagenet_stats)])"
   ]
  },
  {
   "cell_type": "code",
   "execution_count": 16,
   "metadata": {},
   "outputs": [],
   "source": [
    "dls = dblock.dataloaders(df, bs=64)"
   ]
  },
  {
   "cell_type": "code",
   "execution_count": 17,
   "metadata": {},
   "outputs": [],
   "source": [
    "#test_dl = dls.test_dl(test_items, with_labels=True)"
   ]
  },
  {
   "cell_type": "code",
   "execution_count": 18,
   "metadata": {},
   "outputs": [],
   "source": [
    "class GetActs(HookCallback):\n",
    "    def __init__(self, modules=None, remove_end=True, detach=True, cpu=True):\n",
    "        super().__init__(modules, None, remove_end, True, detach, cpu)\n",
    "        self.acts = L()\n",
    "    def hook(self, m, i, o): return o\n",
    "    def after_pred(self): self.acts += self.hooks.stored\n",
    "    def before_fit(self):\n",
    "        super().before_fit()\n",
    "        self.acts = L()"
   ]
  },
  {
   "cell_type": "code",
   "execution_count": 19,
   "metadata": {},
   "outputs": [],
   "source": [
    "learn = cnn_learner(dls, resnet50, loss_func=CrossEntropyLossFlat())"
   ]
  },
  {
   "cell_type": "code",
   "execution_count": 20,
   "metadata": {},
   "outputs": [
    {
     "data": {
      "text/plain": [
       "<fastai.learner.Learner at 0x7fade04225e0>"
      ]
     },
     "execution_count": 20,
     "metadata": {},
     "output_type": "execute_result"
    }
   ],
   "source": [
    "learn.add_cb(GetActs([learn.model[1][1]]))"
   ]
  },
  {
   "cell_type": "code",
   "execution_count": 21,
   "metadata": {},
   "outputs": [
    {
     "data": {
      "text/plain": [
       "<fastai.learner.Learner at 0x7fade04225e0>"
      ]
     },
     "execution_count": 21,
     "metadata": {},
     "output_type": "execute_result"
    }
   ],
   "source": [
    "learn.load(\"best_image_no_weights_224\")"
   ]
  },
  {
   "cell_type": "code",
   "execution_count": 22,
   "metadata": {},
   "outputs": [
    {
     "data": {
      "text/html": [],
      "text/plain": [
       "<IPython.core.display.HTML object>"
      ]
     },
     "metadata": {},
     "output_type": "display_data"
    },
    {
     "data": {
      "text/plain": [
       "(#1) [0.762245774269104]"
      ]
     },
     "execution_count": 22,
     "metadata": {},
     "output_type": "execute_result"
    }
   ],
   "source": [
    "learn.validate()"
   ]
  },
  {
   "cell_type": "code",
   "execution_count": 23,
   "metadata": {},
   "outputs": [],
   "source": [
    "valid_preds = learn.get_acts.acts"
   ]
  },
  {
   "cell_type": "code",
   "execution_count": 24,
   "metadata": {},
   "outputs": [
    {
     "data": {
      "text/plain": [
       "torch.Size([200, 4096])"
      ]
     },
     "execution_count": 24,
     "metadata": {},
     "output_type": "execute_result"
    }
   ],
   "source": [
    "valid_preds = torch.cat(list(valid_preds)); valid_preds.shape"
   ]
  },
  {
   "cell_type": "code",
   "execution_count": 25,
   "metadata": {},
   "outputs": [],
   "source": [
    "sample = list(dls.valid.items)"
   ]
  },
  {
   "cell_type": "code",
   "execution_count": 26,
   "metadata": {},
   "outputs": [],
   "source": [
    "#dls.valid.items"
   ]
  },
  {
   "cell_type": "code",
   "execution_count": 26,
   "metadata": {},
   "outputs": [],
   "source": [
    "assert len(valid_preds) == len(dls.valid_ds)"
   ]
  },
  {
   "cell_type": "code",
   "execution_count": 28,
   "metadata": {},
   "outputs": [
    {
     "name": "stdout",
     "output_type": "stream",
     "text": [
      "Saving example 200\r"
     ]
    }
   ],
   "source": [
    "idx = 0\n",
    "for index, row in dls.valid.items.iterrows():\n",
    "    filename = Path(\"./activations/img/val/\")/row['class']/row['docid']\n",
    "    filename.parent.mkdir(parents=True, exist_ok=True)\n",
    "    torch.save(valid_preds[idx].clone(), filename.as_posix() + \".pt\")\n",
    "    print(f\"Saving example {idx+1}\", end='\\r', flush=True)\n",
    "    idx += 1"
   ]
  },
  {
   "cell_type": "code",
   "execution_count": 29,
   "metadata": {},
   "outputs": [],
   "source": [
    "dls.train.shuffle = False"
   ]
  },
  {
   "cell_type": "code",
   "execution_count": 30,
   "metadata": {},
   "outputs": [
    {
     "data": {
      "text/plain": [
       "[0, 1, 2, 3, 4]"
      ]
     },
     "execution_count": 30,
     "metadata": {},
     "output_type": "execute_result"
    }
   ],
   "source": [
    "dls.train.get_idxs()[:5]"
   ]
  },
  {
   "cell_type": "code",
   "execution_count": 31,
   "metadata": {},
   "outputs": [
    {
     "data": {
      "text/html": [],
      "text/plain": [
       "<IPython.core.display.HTML object>"
      ]
     },
     "metadata": {},
     "output_type": "display_data"
    },
    {
     "data": {
      "text/plain": [
       "(TensorImage([[0.9395, 0.0605],\n",
       "         [0.0492, 0.9508],\n",
       "         [0.9904, 0.0096],\n",
       "         ...,\n",
       "         [0.9767, 0.0233],\n",
       "         [0.8923, 0.1077],\n",
       "         [0.9785, 0.0215]]),\n",
       " TensorCategory([0, 1, 0, 0, 1, 0, 0, 0, 1, 0, 1, 0, 1, 1, 0, 0, 0, 0, 0, 0, 1, 0, 1, 0,\n",
       "         0, 0, 1, 0, 0, 1, 0, 0, 0, 0, 1, 0, 0, 0, 1, 1, 0, 0, 0, 0, 0, 1, 0, 0,\n",
       "         0, 0, 0, 0, 1, 0, 0, 0, 0, 1, 1, 1, 1, 0, 1, 1, 0, 1, 0, 1, 1, 1, 1, 1,\n",
       "         0, 0, 1, 0, 0, 0, 0, 1, 0, 0, 0, 0, 0, 0, 1, 0, 1, 1, 0, 1, 0, 0, 0, 0,\n",
       "         0, 1, 0, 0, 0, 1, 0, 0, 1, 0, 0, 0, 0, 0, 0, 0, 0, 1, 1, 0, 0, 0, 1, 0,\n",
       "         0, 1, 0, 1, 0, 1, 0, 0, 1, 0, 1, 1, 0, 1, 0, 0, 0, 1, 0, 0, 1, 1, 1, 1,\n",
       "         1, 1, 1, 1, 0, 0, 0, 1, 0, 1, 0, 1, 1, 1, 0, 1, 1, 0, 1, 0, 1, 0, 0, 1,\n",
       "         0, 0, 0, 0, 1, 0, 0, 0, 0, 1, 0, 0, 1, 0, 0, 1, 0, 1, 0, 1, 0, 0, 0, 0,\n",
       "         1, 0, 1, 1, 1, 0, 1, 0, 0, 1, 0, 0, 1, 1, 1, 0, 0, 0, 0, 1, 0, 1, 1, 1,\n",
       "         0, 1, 0, 0, 0, 0, 1, 0, 0, 1, 1, 0, 0, 0, 0, 1, 0, 0, 1, 1, 0, 1, 0, 0,\n",
       "         1, 1, 1, 1, 0, 1, 0, 0, 0, 1, 0, 0, 1, 1, 1, 0, 0, 1, 1, 0, 0, 1, 0, 1,\n",
       "         0, 0, 0, 0, 1, 0, 1, 0, 0, 0, 1, 1, 0, 0, 1, 0, 1, 0, 1, 0, 0, 1, 0, 1,\n",
       "         1, 1, 1, 1, 1, 1, 0, 0, 0, 0, 0, 0, 0, 0, 0, 1, 0, 0, 1, 0, 0, 1, 0, 0,\n",
       "         1, 0, 0, 0, 0, 0, 0, 1, 0, 0, 0, 1, 1, 1, 0, 1, 1, 1, 0, 0, 0, 0, 0, 0,\n",
       "         0, 0, 1, 0, 0, 0, 0, 0, 0, 0, 1, 0, 0, 0, 0, 1, 1, 1, 1, 0, 1, 0, 0, 0,\n",
       "         0, 0, 1, 1, 1, 0, 0, 1, 0, 0, 0, 1, 1, 0, 1, 0, 1, 0, 0, 0, 1, 1, 0, 0,\n",
       "         0, 1, 0, 0, 1, 0, 0, 1, 0, 0, 1, 1, 0, 0, 1, 0, 0, 1, 0, 0, 0, 1, 1, 0,\n",
       "         0, 1, 0, 0, 0, 1, 0, 0, 1, 0, 1, 0, 1, 0, 0, 0, 0, 1, 0, 1, 0, 1, 0, 0,\n",
       "         0, 0, 0, 1, 0, 0, 0, 1, 0, 1, 0, 0, 1, 0, 0, 0, 0, 0, 0, 0, 1, 0, 1, 1,\n",
       "         0, 1, 0, 1, 0, 1, 0, 1, 0, 1, 0, 0, 0, 0, 0, 0, 0, 0, 0, 0, 1, 0, 0, 0,\n",
       "         0, 0, 1, 0, 1, 0, 0, 0, 0, 0, 0, 1, 0, 0, 1, 0, 1, 0, 0, 0, 1, 0, 0, 0,\n",
       "         0, 1, 1, 1, 1, 1, 1, 1, 1, 0, 0, 0, 0, 0, 1, 1, 0, 0, 1, 0, 1, 0, 1, 0,\n",
       "         0, 0, 0, 1, 0, 1, 0, 0, 1, 1, 1, 1, 1, 1, 1, 1, 0, 0, 0, 1, 1, 1, 1, 1,\n",
       "         1, 1, 1, 1, 0, 0, 1, 1, 1, 1, 1, 1, 1, 1, 1, 0, 1, 0, 0, 0, 0, 0, 0, 0,\n",
       "         0, 0, 1, 0, 1, 1, 1, 1, 0, 1, 0, 1, 0, 0, 1, 0, 0, 1, 1, 1, 1, 1, 1, 1,\n",
       "         1, 0, 1, 0, 0, 1, 0, 0, 0, 0, 0, 1, 1, 0, 0, 0, 0, 0, 0, 0, 0, 0, 0, 0,\n",
       "         0, 0, 1, 0, 0, 0, 0, 0, 0, 0, 0, 0, 0, 0, 0, 0, 1, 0, 0, 1, 1, 0, 1, 0,\n",
       "         1, 0, 1, 0, 0, 1, 1, 1, 0, 0, 1, 1, 1, 1, 0, 0, 0, 0, 0, 0, 1, 0, 0, 0,\n",
       "         1, 1, 1, 1, 1, 1, 0, 1, 1, 1, 1, 1, 1, 1, 1, 0, 1, 1, 0, 0, 0, 0, 0, 0,\n",
       "         0, 0, 1, 0, 0, 1, 1, 1, 0, 0, 0, 0, 0, 1, 1, 1, 1, 1, 0, 1, 1, 1, 1, 0,\n",
       "         0, 0, 1, 0, 0, 0, 0, 1, 0, 1, 0, 1, 1, 0, 0, 1, 0, 0, 0, 0, 0, 0, 0, 1,\n",
       "         0, 0, 1, 0, 0, 0, 0, 0, 0, 1, 0, 0, 0, 1, 0, 0, 1, 0, 0, 0, 1, 1, 0, 0,\n",
       "         0, 0, 1, 0, 1, 1, 1, 1, 1, 1, 1, 1, 1, 1, 0, 0, 0, 0, 1, 0, 1, 0, 0, 1,\n",
       "         0, 0, 1, 0, 0, 0, 0, 0, 0, 1, 0, 1, 0, 0, 1, 1, 0, 0, 1, 0, 0, 0, 1, 1,\n",
       "         0, 0, 0]))"
      ]
     },
     "execution_count": 31,
     "metadata": {},
     "output_type": "execute_result"
    }
   ],
   "source": [
    "learn.get_preds(0)"
   ]
  },
  {
   "cell_type": "code",
   "execution_count": 32,
   "metadata": {},
   "outputs": [],
   "source": [
    "train_preds = learn.get_acts.acts"
   ]
  },
  {
   "cell_type": "code",
   "execution_count": 33,
   "metadata": {},
   "outputs": [
    {
     "data": {
      "text/plain": [
       "torch.Size([819, 4096])"
      ]
     },
     "execution_count": 33,
     "metadata": {},
     "output_type": "execute_result"
    }
   ],
   "source": [
    "train_preds = torch.cat(list(train_preds)); train_preds.shape"
   ]
  },
  {
   "cell_type": "code",
   "execution_count": 34,
   "metadata": {},
   "outputs": [],
   "source": [
    "assert len(train_preds) == len(dls.train_ds)"
   ]
  },
  {
   "cell_type": "code",
   "execution_count": 35,
   "metadata": {},
   "outputs": [
    {
     "data": {
      "text/plain": [
       "(819, 5)"
      ]
     },
     "execution_count": 35,
     "metadata": {},
     "output_type": "execute_result"
    }
   ],
   "source": [
    "#dls.train.items[dls.train.items['docid']=='pkc56d00']\n",
    "dls.train.items.shape#.iloc[-1]"
   ]
  },
  {
   "cell_type": "code",
   "execution_count": 36,
   "metadata": {},
   "outputs": [
    {
     "name": "stdout",
     "output_type": "stream",
     "text": [
      "Saving example 819\r"
     ]
    }
   ],
   "source": [
    "idx = 0\n",
    "for index, row in dls.train.items.iterrows():\n",
    "    filename = Path(\"./activations/img/train/\")/row['class']/row['docid']\n",
    "    filename.parent.mkdir(parents=True, exist_ok=True)\n",
    "    torch.save(train_preds[idx].clone(), filename.as_posix() + \".pt\")\n",
    "    print(f\"Saving example {idx+1}\", end='\\r', flush=True)\n",
    "    idx += 1"
   ]
  },
  {
   "cell_type": "code",
   "execution_count": 37,
   "metadata": {},
   "outputs": [
    {
     "data": {
      "text/html": [],
      "text/plain": [
       "<IPython.core.display.HTML object>"
      ]
     },
     "metadata": {},
     "output_type": "display_data"
    },
    {
     "data": {
      "text/plain": [
       "(TensorImage([[4.2778e-01, 5.7222e-01],\n",
       "         [1.0870e-01, 8.9130e-01],\n",
       "         [2.8373e-02, 9.7163e-01],\n",
       "         [5.7938e-02, 9.4206e-01],\n",
       "         [4.9627e-02, 9.5037e-01],\n",
       "         [2.4094e-02, 9.7591e-01],\n",
       "         [3.9858e-02, 9.6014e-01],\n",
       "         [2.2283e-02, 9.7772e-01],\n",
       "         [9.6245e-02, 9.0375e-01],\n",
       "         [9.5487e-01, 4.5129e-02],\n",
       "         [9.7871e-01, 2.1290e-02],\n",
       "         [9.4004e-01, 5.9956e-02],\n",
       "         [7.9603e-01, 2.0398e-01],\n",
       "         [7.1778e-01, 2.8222e-01],\n",
       "         [9.5444e-01, 4.5557e-02],\n",
       "         [8.7475e-01, 1.2525e-01],\n",
       "         [9.4711e-01, 5.2893e-02],\n",
       "         [9.3032e-01, 6.9681e-02],\n",
       "         [8.0979e-01, 1.9021e-01],\n",
       "         [8.1617e-01, 1.8383e-01],\n",
       "         [8.1592e-01, 1.8408e-01],\n",
       "         [8.3721e-01, 1.6279e-01],\n",
       "         [9.8391e-01, 1.6093e-02],\n",
       "         [7.5690e-01, 2.4310e-01],\n",
       "         [5.7424e-01, 4.2576e-01],\n",
       "         [3.8108e-01, 6.1892e-01],\n",
       "         [9.8129e-01, 1.8713e-02],\n",
       "         [6.4655e-01, 3.5345e-01],\n",
       "         [6.9949e-01, 3.0051e-01],\n",
       "         [9.5882e-01, 4.1184e-02],\n",
       "         [9.7621e-01, 2.3794e-02],\n",
       "         [7.7425e-01, 2.2575e-01],\n",
       "         [4.5968e-01, 5.4032e-01],\n",
       "         [9.1089e-01, 8.9113e-02],\n",
       "         [9.6676e-01, 3.3242e-02],\n",
       "         [4.2322e-01, 5.7678e-01],\n",
       "         [2.9251e-01, 7.0749e-01],\n",
       "         [9.1200e-01, 8.7997e-02],\n",
       "         [7.4411e-01, 2.5588e-01],\n",
       "         [2.5451e-01, 7.4549e-01],\n",
       "         [9.1548e-01, 8.4521e-02],\n",
       "         [7.0613e-01, 2.9387e-01],\n",
       "         [4.1206e-01, 5.8794e-01],\n",
       "         [9.5335e-01, 4.6649e-02],\n",
       "         [1.1525e-03, 9.9885e-01],\n",
       "         [1.0901e-03, 9.9891e-01],\n",
       "         [1.1839e-03, 9.9882e-01],\n",
       "         [3.2732e-01, 6.7268e-01],\n",
       "         [6.0750e-01, 3.9250e-01],\n",
       "         [2.5804e-01, 7.4196e-01],\n",
       "         [9.0024e-01, 9.9762e-02],\n",
       "         [9.7145e-01, 2.8550e-02],\n",
       "         [7.1148e-01, 2.8852e-01],\n",
       "         [9.6646e-01, 3.3539e-02],\n",
       "         [9.5150e-01, 4.8505e-02],\n",
       "         [8.3644e-01, 1.6356e-01],\n",
       "         [9.5650e-01, 4.3504e-02],\n",
       "         [6.7419e-01, 3.2581e-01],\n",
       "         [8.6817e-01, 1.3183e-01],\n",
       "         [9.3413e-01, 6.5867e-02],\n",
       "         [9.0935e-01, 9.0654e-02],\n",
       "         [4.0670e-01, 5.9330e-01],\n",
       "         [8.8157e-01, 1.1843e-01],\n",
       "         [9.5529e-01, 4.4710e-02],\n",
       "         [9.1930e-01, 8.0704e-02],\n",
       "         [8.1722e-01, 1.8278e-01],\n",
       "         [6.8309e-01, 3.1691e-01],\n",
       "         [9.4738e-01, 5.2619e-02],\n",
       "         [5.4611e-01, 4.5389e-01],\n",
       "         [9.5819e-01, 4.1806e-02],\n",
       "         [9.3666e-01, 6.3339e-02],\n",
       "         [2.4899e-05, 9.9998e-01],\n",
       "         [8.8476e-01, 1.1524e-01],\n",
       "         [1.3706e-01, 8.6294e-01],\n",
       "         [9.8667e-01, 1.3335e-02],\n",
       "         [8.8522e-01, 1.1478e-01],\n",
       "         [5.6398e-01, 4.3602e-01],\n",
       "         [1.6651e-02, 9.8335e-01],\n",
       "         [9.2822e-01, 7.1781e-02],\n",
       "         [3.9462e-02, 9.6054e-01],\n",
       "         [2.4051e-01, 7.5949e-01],\n",
       "         [8.8693e-01, 1.1307e-01],\n",
       "         [9.5262e-01, 4.7376e-02],\n",
       "         [9.2781e-01, 7.2186e-02],\n",
       "         [8.7191e-01, 1.2809e-01],\n",
       "         [5.5390e-01, 4.4610e-01],\n",
       "         [4.9873e-01, 5.0127e-01],\n",
       "         [7.1336e-01, 2.8664e-01],\n",
       "         [6.5832e-01, 3.4168e-01],\n",
       "         [5.8577e-01, 4.1423e-01],\n",
       "         [7.2851e-01, 2.7149e-01],\n",
       "         [9.3222e-01, 6.7781e-02],\n",
       "         [5.8390e-01, 4.1610e-01],\n",
       "         [9.5572e-01, 4.4280e-02],\n",
       "         [9.9364e-01, 6.3570e-03],\n",
       "         [9.6078e-01, 3.9217e-02],\n",
       "         [9.7506e-01, 2.4938e-02],\n",
       "         [9.8992e-01, 1.0080e-02],\n",
       "         [9.5758e-01, 4.2416e-02],\n",
       "         [5.9904e-01, 4.0096e-01],\n",
       "         [6.6280e-01, 3.3720e-01],\n",
       "         [9.4532e-01, 5.4676e-02],\n",
       "         [8.8500e-01, 1.1500e-01],\n",
       "         [4.9980e-01, 5.0020e-01],\n",
       "         [9.7533e-01, 2.4675e-02],\n",
       "         [9.8099e-01, 1.9010e-02],\n",
       "         [8.9391e-01, 1.0609e-01],\n",
       "         [9.7917e-01, 2.0826e-02],\n",
       "         [8.4909e-01, 1.5091e-01],\n",
       "         [1.0022e-01, 8.9978e-01],\n",
       "         [9.2423e-01, 7.5775e-02],\n",
       "         [3.4737e-01, 6.5263e-01],\n",
       "         [1.2023e-02, 9.8798e-01],\n",
       "         [4.2305e-01, 5.7695e-01],\n",
       "         [4.0464e-01, 5.9536e-01],\n",
       "         [9.5526e-01, 4.4741e-02],\n",
       "         [9.7116e-01, 2.8836e-02],\n",
       "         [9.8586e-01, 1.4136e-02],\n",
       "         [4.3580e-01, 5.6420e-01],\n",
       "         [9.8586e-01, 1.4136e-02],\n",
       "         [8.8114e-01, 1.1886e-01],\n",
       "         [9.5678e-01, 4.3216e-02],\n",
       "         [6.4983e-01, 3.5017e-01],\n",
       "         [9.6513e-01, 3.4867e-02],\n",
       "         [7.9624e-01, 2.0376e-01],\n",
       "         [9.5252e-01, 4.7482e-02],\n",
       "         [9.5525e-01, 4.4749e-02],\n",
       "         [5.0884e-01, 4.9116e-01],\n",
       "         [3.2915e-01, 6.7085e-01],\n",
       "         [9.8121e-01, 1.8788e-02],\n",
       "         [9.2118e-01, 7.8816e-02],\n",
       "         [8.4361e-01, 1.5639e-01],\n",
       "         [7.7559e-01, 2.2441e-01],\n",
       "         [4.4266e-01, 5.5734e-01],\n",
       "         [8.9160e-01, 1.0840e-01],\n",
       "         [9.5413e-01, 4.5872e-02],\n",
       "         [6.0640e-01, 3.9360e-01],\n",
       "         [8.9386e-01, 1.0614e-01],\n",
       "         [1.6195e-01, 8.3805e-01],\n",
       "         [9.1305e-01, 8.6946e-02],\n",
       "         [8.6923e-01, 1.3077e-01],\n",
       "         [9.8093e-01, 1.9066e-02],\n",
       "         [4.3483e-01, 5.6517e-01],\n",
       "         [9.7195e-01, 2.8050e-02],\n",
       "         [9.3736e-01, 6.2644e-02],\n",
       "         [2.0527e-01, 7.9473e-01],\n",
       "         [7.2114e-01, 2.7886e-01],\n",
       "         [9.7442e-01, 2.5584e-02],\n",
       "         [4.1335e-01, 5.8665e-01],\n",
       "         [8.8787e-01, 1.1213e-01],\n",
       "         [9.3581e-01, 6.4193e-02],\n",
       "         [9.2387e-01, 7.6133e-02],\n",
       "         [9.4371e-01, 5.6292e-02],\n",
       "         [4.3409e-01, 5.6591e-01],\n",
       "         [8.1143e-01, 1.8857e-01],\n",
       "         [1.5494e-02, 9.8451e-01],\n",
       "         [9.8210e-01, 1.7898e-02],\n",
       "         [1.2926e-01, 8.7074e-01],\n",
       "         [1.0729e-01, 8.9271e-01],\n",
       "         [9.8181e-01, 1.8194e-02],\n",
       "         [8.1267e-01, 1.8733e-01],\n",
       "         [9.4272e-01, 5.7280e-02],\n",
       "         [9.8243e-01, 1.7570e-02],\n",
       "         [2.3676e-01, 7.6324e-01],\n",
       "         [1.1990e-02, 9.8801e-01],\n",
       "         [7.8852e-01, 2.1148e-01],\n",
       "         [5.0321e-01, 4.9679e-01],\n",
       "         [1.1749e-02, 9.8825e-01],\n",
       "         [5.0570e-01, 4.9430e-01],\n",
       "         [9.6332e-01, 3.6682e-02],\n",
       "         [8.2653e-01, 1.7347e-01],\n",
       "         [4.5807e-01, 5.4193e-01],\n",
       "         [9.4486e-01, 5.5140e-02],\n",
       "         [8.9566e-01, 1.0434e-01],\n",
       "         [9.1308e-01, 8.6925e-02],\n",
       "         [8.8528e-01, 1.1472e-01],\n",
       "         [9.7791e-01, 2.2086e-02],\n",
       "         [9.3325e-01, 6.6749e-02],\n",
       "         [7.2523e-06, 9.9999e-01],\n",
       "         [9.4259e-01, 5.7414e-02],\n",
       "         [9.3717e-01, 6.2830e-02],\n",
       "         [9.3543e-01, 6.4566e-02],\n",
       "         [2.8005e-02, 9.7199e-01],\n",
       "         [2.3631e-01, 7.6369e-01],\n",
       "         [4.5173e-01, 5.4827e-01],\n",
       "         [1.6603e-02, 9.8340e-01],\n",
       "         [9.8547e-01, 1.4525e-02],\n",
       "         [6.9480e-01, 3.0520e-01],\n",
       "         [9.0126e-01, 9.8743e-02],\n",
       "         [9.8665e-01, 1.3350e-02],\n",
       "         [9.1575e-01, 8.4247e-02],\n",
       "         [9.6696e-01, 3.3042e-02],\n",
       "         [9.8791e-01, 1.2093e-02],\n",
       "         [1.0000e+00, 2.3792e-07],\n",
       "         [1.0000e+00, 1.9688e-07],\n",
       "         [8.6312e-01, 1.3688e-01],\n",
       "         [9.7186e-01, 2.8144e-02],\n",
       "         [4.8470e-01, 5.1530e-01],\n",
       "         [5.5585e-01, 4.4415e-01],\n",
       "         [3.7440e-02, 9.6256e-01],\n",
       "         [9.8683e-01, 1.3165e-02],\n",
       "         [9.4507e-01, 5.4927e-02],\n",
       "         [3.4331e-01, 6.5669e-01],\n",
       "         [1.8119e-01, 8.1881e-01],\n",
       "         [3.0821e-01, 6.9179e-01],\n",
       "         [9.6952e-01, 3.0478e-02],\n",
       "         [3.5175e-02, 9.6483e-01],\n",
       "         [9.3708e-01, 6.2922e-02],\n",
       "         [9.7956e-01, 2.0440e-02],\n",
       "         [9.3843e-01, 6.1574e-02],\n",
       "         [2.0428e-02, 9.7957e-01],\n",
       "         [8.3070e-01, 1.6930e-01],\n",
       "         [1.7673e-01, 8.2327e-01],\n",
       "         [4.8812e-01, 5.1188e-01],\n",
       "         [3.9992e-02, 9.6001e-01],\n",
       "         [9.6273e-01, 3.7275e-02],\n",
       "         [9.8698e-01, 1.3019e-02],\n",
       "         [9.6221e-01, 3.7794e-02],\n",
       "         [9.6849e-01, 3.1515e-02],\n",
       "         [9.6565e-01, 3.4346e-02],\n",
       "         [2.5477e-01, 7.4523e-01],\n",
       "         [4.7173e-01, 5.2827e-01],\n",
       "         [7.5360e-04, 9.9925e-01],\n",
       "         [5.9754e-04, 9.9940e-01],\n",
       "         [8.0948e-01, 1.9052e-01],\n",
       "         [9.5028e-01, 4.9718e-02],\n",
       "         [1.0554e-01, 8.9446e-01],\n",
       "         [9.7990e-01, 2.0095e-02],\n",
       "         [9.6235e-01, 3.7654e-02],\n",
       "         [7.9801e-02, 9.2020e-01],\n",
       "         [1.4664e-01, 8.5336e-01],\n",
       "         [9.9442e-01, 5.5776e-03],\n",
       "         [3.4370e-01, 6.5630e-01],\n",
       "         [9.0185e-01, 9.8149e-02],\n",
       "         [4.6283e-01, 5.3717e-01],\n",
       "         [7.0688e-01, 2.9312e-01],\n",
       "         [7.1018e-03, 9.9290e-01],\n",
       "         [9.2487e-01, 7.5129e-02],\n",
       "         [6.0169e-01, 3.9831e-01],\n",
       "         [9.2938e-01, 7.0622e-02],\n",
       "         [5.2092e-01, 4.7908e-01],\n",
       "         [8.7847e-01, 1.2153e-01],\n",
       "         [9.2578e-01, 7.4218e-02],\n",
       "         [6.0579e-03, 9.9394e-01],\n",
       "         [9.8149e-01, 1.8506e-02],\n",
       "         [9.4965e-01, 5.0353e-02],\n",
       "         [1.2295e-01, 8.7705e-01],\n",
       "         [9.9137e-01, 8.6340e-03],\n",
       "         [7.5707e-03, 9.9243e-01],\n",
       "         [8.6516e-01, 1.3484e-01],\n",
       "         [9.6932e-01, 3.0678e-02],\n",
       "         [8.7188e-02, 9.1281e-01],\n",
       "         [8.9890e-01, 1.0110e-01],\n",
       "         [9.6751e-01, 3.2490e-02],\n",
       "         [7.8416e-01, 2.1584e-01],\n",
       "         [9.5832e-01, 4.1678e-02],\n",
       "         [9.5615e-01, 4.3848e-02],\n",
       "         [3.4410e-02, 9.6559e-01],\n",
       "         [9.7420e-01, 2.5801e-02]]),\n",
       " TensorCategory([0, 1, 1, 1, 1, 1, 1, 1, 1, 0, 0, 0, 0, 0, 0, 0, 0, 0, 0, 0, 0, 0, 1, 0,\n",
       "         1, 1, 0, 1, 1, 0, 0, 0, 0, 0, 0, 0, 1, 0, 1, 1, 1, 1, 1, 0, 1, 1, 1, 1,\n",
       "         1, 1, 0, 0, 0, 0, 0, 0, 0, 0, 0, 0, 0, 1, 0, 0, 0, 0, 1, 1, 1, 0, 0, 0,\n",
       "         1, 1, 0, 0, 1, 1, 0, 1, 1, 0, 0, 0, 0, 0, 1, 1, 1, 1, 1, 1, 0, 1, 1, 1,\n",
       "         1, 1, 1, 1, 1, 0, 1, 1, 0, 0, 1, 0, 0, 1, 0, 1, 1, 1, 1, 0, 1, 0, 1, 0,\n",
       "         0, 0, 0, 0, 0, 0, 0, 1, 1, 0, 0, 0, 0, 1, 0, 0, 0, 0, 1, 0, 0, 0, 0, 0,\n",
       "         0, 1, 0, 0, 1, 0, 0, 0, 0, 1, 0, 1, 0, 1, 1, 0, 1, 0, 0, 1, 1, 1, 1, 1,\n",
       "         1, 0, 0, 0, 0, 0, 0, 0, 0, 0, 1, 0, 0, 0, 1, 1, 1, 1, 0, 1, 0, 0, 0, 0,\n",
       "         0, 0, 1, 0, 0, 1, 0, 1, 0, 0, 1, 1, 1, 0, 1, 0, 0, 0, 1, 0, 0, 1, 1, 0,\n",
       "         0, 0, 0, 0, 1, 1, 1, 1, 0, 0, 1, 0, 0, 0, 1, 0, 1, 0, 1, 1, 1, 0, 0, 0,\n",
       "         1, 0, 0, 1, 0, 0, 1, 0, 1, 0, 0, 1, 0, 0, 1, 0, 0, 1, 0]))"
      ]
     },
     "execution_count": 37,
     "metadata": {},
     "output_type": "execute_result"
    }
   ],
   "source": [
    "learn.get_preds(ds_idx=2)"
   ]
  },
  {
   "cell_type": "code",
   "execution_count": 38,
   "metadata": {},
   "outputs": [],
   "source": [
    "test_preds = learn.get_acts.acts"
   ]
  },
  {
   "cell_type": "code",
   "execution_count": 39,
   "metadata": {},
   "outputs": [
    {
     "data": {
      "text/plain": [
       "torch.Size([259, 4096])"
      ]
     },
     "execution_count": 39,
     "metadata": {},
     "output_type": "execute_result"
    }
   ],
   "source": [
    "test_preds = torch.cat(list(test_preds)); test_preds.shape"
   ]
  },
  {
   "cell_type": "code",
   "execution_count": 40,
   "metadata": {},
   "outputs": [],
   "source": [
    "#dls[2].items"
   ]
  },
  {
   "cell_type": "code",
   "execution_count": 41,
   "metadata": {},
   "outputs": [],
   "source": [
    "assert len(test_preds) == len(dls[2].items)"
   ]
  },
  {
   "cell_type": "code",
   "execution_count": 42,
   "metadata": {},
   "outputs": [
    {
     "name": "stdout",
     "output_type": "stream",
     "text": [
      "Saving example 259\r"
     ]
    }
   ],
   "source": [
    "idx = 0\n",
    "for index, row in dls[2].items.iterrows():\n",
    "    filename = Path(\"./activations/img/test/\")/row['class']/row['docid']\n",
    "    filename.parent.mkdir(parents=True, exist_ok=True)\n",
    "    torch.save(test_preds[idx].clone(), filename.as_posix() + \".pt\")\n",
    "    print(f\"Saving example {idx+1}\", end='\\r', flush=True)\n",
    "    idx += 1"
   ]
  },
  {
   "cell_type": "code",
   "execution_count": 43,
   "metadata": {},
   "outputs": [
    {
     "data": {
      "text/html": [
       "<div>\n",
       "<style scoped>\n",
       "    .dataframe tbody tr th:only-of-type {\n",
       "        vertical-align: middle;\n",
       "    }\n",
       "\n",
       "    .dataframe tbody tr th {\n",
       "        vertical-align: top;\n",
       "    }\n",
       "\n",
       "    .dataframe thead th {\n",
       "        text-align: right;\n",
       "    }\n",
       "</style>\n",
       "<table border=\"1\" class=\"dataframe\">\n",
       "  <thead>\n",
       "    <tr style=\"text-align: right;\">\n",
       "      <th></th>\n",
       "      <th>binder</th>\n",
       "      <th>docid</th>\n",
       "      <th>class</th>\n",
       "      <th>text</th>\n",
       "      <th>split</th>\n",
       "    </tr>\n",
       "  </thead>\n",
       "  <tbody>\n",
       "    <tr>\n",
       "      <th>1019</th>\n",
       "      <td>Tobacco800</td>\n",
       "      <td>tkj51f00_1</td>\n",
       "      <td>FirstPage</td>\n",
       "      <td>NaN</td>\n",
       "      <td>test</td>\n",
       "    </tr>\n",
       "    <tr>\n",
       "      <th>1020</th>\n",
       "      <td>Tobacco800</td>\n",
       "      <td>tkj51f00_2</td>\n",
       "      <td>NextPage</td>\n",
       "      <td>NaN</td>\n",
       "      <td>test</td>\n",
       "    </tr>\n",
       "    <tr>\n",
       "      <th>1021</th>\n",
       "      <td>Tobacco800</td>\n",
       "      <td>tkj51f00_3</td>\n",
       "      <td>NextPage</td>\n",
       "      <td>NaN</td>\n",
       "      <td>test</td>\n",
       "    </tr>\n",
       "    <tr>\n",
       "      <th>1022</th>\n",
       "      <td>Tobacco800</td>\n",
       "      <td>tkj51f00_4</td>\n",
       "      <td>NextPage</td>\n",
       "      <td>NaN</td>\n",
       "      <td>test</td>\n",
       "    </tr>\n",
       "    <tr>\n",
       "      <th>1023</th>\n",
       "      <td>Tobacco800</td>\n",
       "      <td>tkj51f00_5</td>\n",
       "      <td>NextPage</td>\n",
       "      <td>NaN</td>\n",
       "      <td>test</td>\n",
       "    </tr>\n",
       "    <tr>\n",
       "      <th>...</th>\n",
       "      <td>...</td>\n",
       "      <td>...</td>\n",
       "      <td>...</td>\n",
       "      <td>...</td>\n",
       "      <td>...</td>\n",
       "    </tr>\n",
       "    <tr>\n",
       "      <th>1273</th>\n",
       "      <td>Tobacco800</td>\n",
       "      <td>zrz94a00-page02_2</td>\n",
       "      <td>NextPage</td>\n",
       "      <td>NaN</td>\n",
       "      <td>test</td>\n",
       "    </tr>\n",
       "    <tr>\n",
       "      <th>1274</th>\n",
       "      <td>Tobacco800</td>\n",
       "      <td>zss86d00</td>\n",
       "      <td>FirstPage</td>\n",
       "      <td>NaN</td>\n",
       "      <td>test</td>\n",
       "    </tr>\n",
       "    <tr>\n",
       "      <th>1275</th>\n",
       "      <td>Tobacco800</td>\n",
       "      <td>ztz52d00-page02_1</td>\n",
       "      <td>FirstPage</td>\n",
       "      <td>NaN</td>\n",
       "      <td>test</td>\n",
       "    </tr>\n",
       "    <tr>\n",
       "      <th>1276</th>\n",
       "      <td>Tobacco800</td>\n",
       "      <td>ztz52d00-page02_2</td>\n",
       "      <td>NextPage</td>\n",
       "      <td>NaN</td>\n",
       "      <td>test</td>\n",
       "    </tr>\n",
       "    <tr>\n",
       "      <th>1277</th>\n",
       "      <td>Tobacco800</td>\n",
       "      <td>zvs17e00</td>\n",
       "      <td>FirstPage</td>\n",
       "      <td>NaN</td>\n",
       "      <td>test</td>\n",
       "    </tr>\n",
       "  </tbody>\n",
       "</table>\n",
       "<p>259 rows × 5 columns</p>\n",
       "</div>"
      ],
      "text/plain": [
       "          binder              docid      class text split\n",
       "1019  Tobacco800         tkj51f00_1  FirstPage  NaN  test\n",
       "1020  Tobacco800         tkj51f00_2   NextPage  NaN  test\n",
       "1021  Tobacco800         tkj51f00_3   NextPage  NaN  test\n",
       "1022  Tobacco800         tkj51f00_4   NextPage  NaN  test\n",
       "1023  Tobacco800         tkj51f00_5   NextPage  NaN  test\n",
       "...          ...                ...        ...  ...   ...\n",
       "1273  Tobacco800  zrz94a00-page02_2   NextPage  NaN  test\n",
       "1274  Tobacco800           zss86d00  FirstPage  NaN  test\n",
       "1275  Tobacco800  ztz52d00-page02_1  FirstPage  NaN  test\n",
       "1276  Tobacco800  ztz52d00-page02_2   NextPage  NaN  test\n",
       "1277  Tobacco800           zvs17e00  FirstPage  NaN  test\n",
       "\n",
       "[259 rows x 5 columns]"
      ]
     },
     "execution_count": 43,
     "metadata": {},
     "output_type": "execute_result"
    }
   ],
   "source": [
    "dls[2].items"
   ]
  },
  {
   "cell_type": "code",
   "execution_count": null,
   "metadata": {},
   "outputs": [],
   "source": []
  }
 ],
 "metadata": {
  "kernelspec": {
   "display_name": "fastai2",
   "language": "python",
   "name": "fastai2"
  },
  "language_info": {
   "codemirror_mode": {
    "name": "ipython",
    "version": 3
   },
   "file_extension": ".py",
   "mimetype": "text/x-python",
   "name": "python",
   "nbconvert_exporter": "python",
   "pygments_lexer": "ipython3",
   "version": "3.8.10"
  }
 },
 "nbformat": 4,
 "nbformat_minor": 4
}
