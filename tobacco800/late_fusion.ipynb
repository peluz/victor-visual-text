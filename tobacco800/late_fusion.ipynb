{
 "cells": [
  {
   "cell_type": "code",
   "execution_count": 1,
   "metadata": {},
   "outputs": [],
   "source": [
    "%load_ext autoreload\n",
    "%autoreload 2\n",
    "\n",
    "from fastai.text.all import *\n",
    "from fastai.vision.all import *\n",
    "import pandas as pd\n",
    "import torch\n",
    "from tqdm.notebook import tqdm\n",
    "from sklearn.metrics import classification_report, accuracy_score"
   ]
  },
  {
   "cell_type": "code",
   "execution_count": 2,
   "metadata": {},
   "outputs": [],
   "source": [
    "import tensorflow as tf\n",
    "from tensorflow.keras.models import model_from_json\n",
    "from tensorflow.keras.layers import Input\n",
    "from tensorflow.keras.preprocessing import sequence\n",
    "from tensorflow.keras.utils import to_categorical\n",
    "from sklearn.preprocessing import LabelEncoder\n",
    "from sklearn.metrics import classification_report\n",
    "from os.path import join, split, splitext\n",
    "from pathlib import Path\n",
    "\n",
    "import pandas as pd\n",
    "import pickle\n",
    "\n",
    "import tqdm"
   ]
  },
  {
   "cell_type": "code",
   "execution_count": 3,
   "metadata": {},
   "outputs": [],
   "source": [
    "seed = 42\n",
    "\n",
    "# python RNG\n",
    "import random\n",
    "random.seed(seed)\n",
    "\n",
    "# pytorch RNGs\n",
    "import torch\n",
    "torch.manual_seed(seed)\n",
    "torch.backends.cudnn.deterministic = True\n",
    "if torch.cuda.is_available(): torch.cuda.manual_seed_all(seed)\n",
    "\n",
    "# numpy RNG\n",
    "import numpy as np\n",
    "np.random.seed(seed)"
   ]
  },
  {
   "cell_type": "code",
   "execution_count": 4,
   "metadata": {},
   "outputs": [],
   "source": [
    "OUT_DIM=2"
   ]
  },
  {
   "cell_type": "code",
   "execution_count": 5,
   "metadata": {},
   "outputs": [],
   "source": [
    "torch.cuda.set_device(1)"
   ]
  },
  {
   "cell_type": "code",
   "execution_count": 6,
   "metadata": {},
   "outputs": [],
   "source": [
    "SEQUENCE_LEN = 500 # Size of input arrays"
   ]
  },
  {
   "cell_type": "code",
   "execution_count": 7,
   "metadata": {},
   "outputs": [],
   "source": [
    "models_path = Path(\"./models/\")\n",
    "weights_path = models_path/\"stf_no_weights.keras\"\n",
    "json_path = models_path/\"cnn_text.json\"\n",
    "tokenizer_path = models_path/\"tokenizer.pickle\""
   ]
  },
  {
   "cell_type": "code",
   "execution_count": 8,
   "metadata": {},
   "outputs": [],
   "source": [
    "json_file = open(json_path,'r')\n",
    "loaded_model_json = json_file.read()\n",
    "json_file.close()\n",
    "model = model_from_json(loaded_model_json)"
   ]
  },
  {
   "cell_type": "code",
   "execution_count": 9,
   "metadata": {},
   "outputs": [],
   "source": [
    "model.load_weights(weights_path)"
   ]
  },
  {
   "cell_type": "code",
   "execution_count": 10,
   "metadata": {},
   "outputs": [],
   "source": [
    "model.compile(loss='categorical_crossentropy', optimizer='adam', metrics=['accuracy'])"
   ]
  },
  {
   "cell_type": "code",
   "execution_count": 11,
   "metadata": {},
   "outputs": [],
   "source": [
    "data_path = Path(\"/mnt/nas/databases/Tobacco800/unziped/\")"
   ]
  },
  {
   "cell_type": "code",
   "execution_count": 12,
   "metadata": {},
   "outputs": [
    {
     "name": "stdout",
     "output_type": "stream",
     "text": [
      "(1031, 4)\n",
      "(1019, 4)\n"
     ]
    }
   ],
   "source": [
    "train = pd.read_csv(data_path/\"train.csv\", delimiter=';',  usecols=['binder','docid','class', 'text'])\n",
    "train.rename(columns={'text':'body'}, inplace=True)\n",
    "print(train.shape)\n",
    "train.dropna(inplace=True)\n",
    "print(train.shape)"
   ]
  },
  {
   "cell_type": "code",
   "execution_count": 13,
   "metadata": {},
   "outputs": [
    {
     "name": "stdout",
     "output_type": "stream",
     "text": [
      "(200, 4)\n"
     ]
    },
    {
     "data": {
      "text/html": [
       "<div>\n",
       "<style scoped>\n",
       "    .dataframe tbody tr th:only-of-type {\n",
       "        vertical-align: middle;\n",
       "    }\n",
       "\n",
       "    .dataframe tbody tr th {\n",
       "        vertical-align: top;\n",
       "    }\n",
       "\n",
       "    .dataframe thead th {\n",
       "        text-align: right;\n",
       "    }\n",
       "</style>\n",
       "<table border=\"1\" class=\"dataframe\">\n",
       "  <thead>\n",
       "    <tr style=\"text-align: right;\">\n",
       "      <th></th>\n",
       "      <th>binder</th>\n",
       "      <th>docid</th>\n",
       "      <th>class</th>\n",
       "      <th>body</th>\n",
       "    </tr>\n",
       "  </thead>\n",
       "  <tbody>\n",
       "    <tr>\n",
       "      <th>0</th>\n",
       "      <td>Tobacco800</td>\n",
       "      <td>pkc56d00</td>\n",
       "      <td>FirstPage</td>\n",
       "      <td>.&gt;-&gt;aa, Mailand 20014 / (301) 654-3400                                                   February 20, 1973 Robert C. Hockett, Ph.D. Associate Scientific Director The Gouncil For Tobacco Research - U.S.A. 110 East 59th Street New York, N.Y. 10022 Dear Doctor Hockett:       Per your request, we are making available 20 copies of the enclosed reprint for distribution to your staff and Scientific Advisory Board. Sincerely yours Carrie E. Whitmire, Ph.D. Project Director CEW:saf enclosure 6RANCH OFFICE / 503 San Pablo Avenue, Albany, California 94706 (415) 526-6228               CTR C0NTRRCTS 00...</td>\n",
       "    </tr>\n",
       "    <tr>\n",
       "      <th>1</th>\n",
       "      <td>Tobacco800</td>\n",
       "      <td>pkj90c00</td>\n",
       "      <td>FirstPage</td>\n",
       "      <td>AMERICAN '93 THE NEETROnilER FIELD SALES INFORMATION                                                                        October 15, 1993               RE: MISTY BILI,BOARP SUPPORT                 TO: SALES SUPERVISORS IN THE MARKETS EWOLVED                         MISTY will be supported with billboard advertising during the 4th Quarter in 42 highly developed MISTY markets across the country. Please see the reverse side of this letter for the markets involved and the approximate posting date.                         These attractive 4-color posters show off MISTY at its fashionable bes...</td>\n",
       "    </tr>\n",
       "    <tr>\n",
       "      <th>2</th>\n",
       "      <td>Tobacco800</td>\n",
       "      <td>ply60e00</td>\n",
       "      <td>FirstPage</td>\n",
       "      <td>LORILLARD INC. • ONE PARK AVENUE. NEW YORK. N.Y. 10016-5895 • (212) 545-3000                                                      October 5, 1989 Mr. Jeffrey Bluestein Vice President Harley-Davidson 3700 W. Juneau Avenue P.O. Box 653 Milwaukee, WI 53201 RE:   Harley-Davidson Cigarettes - POS Material Dear Mr. Bluestein: Enclosed, for your files, are samples of the point-of-sale material we have produced to date in support of Harley-Davidson Cigarettes. I will forward additional samples as they become available. /ec Enclosure cc:   R. Goldbrenner       V. Lindsley T. Mau A. Pasheluk Sincere...</td>\n",
       "    </tr>\n",
       "    <tr>\n",
       "      <th>3</th>\n",
       "      <td>Tobacco800</td>\n",
       "      <td>pmx82f00-page04_1</td>\n",
       "      <td>FirstPage</td>\n",
       "      <td>4    4 -/ NEWELL W. ELLISON H. THOMAS AUSTERN HOWARD C. WESTWOOD CHARLES A. HORSKY DONALD HISS JOHN T. SAPIENZA JAMES H. McGLOTHLIN ERNEST W. JENNES STANLEY L.TEMKO JAMES C. MeKAY JOHN W. DOUGLAS HAMILTON CAROTHERS J. RANDOLPH WILSON ROBERTS B. OWEN COOAR F. CZARRA.JR. WILLIAM H. ALLEN DAVID B. ISBELL            * JOHN B. JONES. JR. H. EOWARD DUNKELBERGER, JR. BRICE McADOO CLAGETT JOHN S. KOCH ROBERT E. O’MALLEY EUGENE I. LAMBERT JOHN VANDERSTAR NEWMAN T. HALVORSON. JR. HARVEY M. APPLEBAUM MICHAEL S. HORNE JONATHAN D. BLAKE CHARLES E. BUFFON ROBERT N. SAYLER E. EDWARD BRUCE DAVID N. BROWN ...</td>\n",
       "    </tr>\n",
       "    <tr>\n",
       "      <th>4</th>\n",
       "      <td>Tobacco800</td>\n",
       "      <td>pmx82f00-page04_2</td>\n",
       "      <td>NextPage</td>\n",
       "      <td>COVINGTON &amp; BURLING                       CONFIDENTIAL: MINNESOTA TOBACCO LITIGATION Committee of Counsel April 3, 1975 Page Two            The Chairman assured us that the matter would be e'xamined in depth, and as to the second request, it was not the usual practice but he would talk with his fellow Commissioners.            2. The questions of Publicity about the compliance investigation were reviewed. The original agreement in 1974 for no Publicity had been fully honored. Since the ANPA Government Relations Committee had scheduled a meeting for March 12, and there had been a great deal...</td>\n",
       "    </tr>\n",
       "  </tbody>\n",
       "</table>\n",
       "</div>"
      ],
      "text/plain": [
       "       binder              docid      class  \\\n",
       "0  Tobacco800           pkc56d00  FirstPage   \n",
       "1  Tobacco800           pkj90c00  FirstPage   \n",
       "2  Tobacco800           ply60e00  FirstPage   \n",
       "3  Tobacco800  pmx82f00-page04_1  FirstPage   \n",
       "4  Tobacco800  pmx82f00-page04_2   NextPage   \n",
       "\n",
       "                                                                                                                                                                                                                                                                                                                                                                                                                                                                                                                                                                                                                      body  \n",
       "0  .>->aa, Mailand 20014 / (301) 654-3400                                                   February 20, 1973 Robert C. Hockett, Ph.D. Associate Scientific Director The Gouncil For Tobacco Research - U.S.A. 110 East 59th Street New York, N.Y. 10022 Dear Doctor Hockett:       Per your request, we are making available 20 copies of the enclosed reprint for distribution to your staff and Scientific Advisory Board. Sincerely yours Carrie E. Whitmire, Ph.D. Project Director CEW:saf enclosure 6RANCH OFFICE / 503 San Pablo Avenue, Albany, California 94706 (415) 526-6228               CTR C0NTRRCTS 00...  \n",
       "1  AMERICAN '93 THE NEETROnilER FIELD SALES INFORMATION                                                                        October 15, 1993               RE: MISTY BILI,BOARP SUPPORT                 TO: SALES SUPERVISORS IN THE MARKETS EWOLVED                         MISTY will be supported with billboard advertising during the 4th Quarter in 42 highly developed MISTY markets across the country. Please see the reverse side of this letter for the markets involved and the approximate posting date.                         These attractive 4-color posters show off MISTY at its fashionable bes...  \n",
       "2  LORILLARD INC. • ONE PARK AVENUE. NEW YORK. N.Y. 10016-5895 • (212) 545-3000                                                      October 5, 1989 Mr. Jeffrey Bluestein Vice President Harley-Davidson 3700 W. Juneau Avenue P.O. Box 653 Milwaukee, WI 53201 RE:   Harley-Davidson Cigarettes - POS Material Dear Mr. Bluestein: Enclosed, for your files, are samples of the point-of-sale material we have produced to date in support of Harley-Davidson Cigarettes. I will forward additional samples as they become available. /ec Enclosure cc:   R. Goldbrenner       V. Lindsley T. Mau A. Pasheluk Sincere...  \n",
       "3  4    4 -/ NEWELL W. ELLISON H. THOMAS AUSTERN HOWARD C. WESTWOOD CHARLES A. HORSKY DONALD HISS JOHN T. SAPIENZA JAMES H. McGLOTHLIN ERNEST W. JENNES STANLEY L.TEMKO JAMES C. MeKAY JOHN W. DOUGLAS HAMILTON CAROTHERS J. RANDOLPH WILSON ROBERTS B. OWEN COOAR F. CZARRA.JR. WILLIAM H. ALLEN DAVID B. ISBELL            * JOHN B. JONES. JR. H. EOWARD DUNKELBERGER, JR. BRICE McADOO CLAGETT JOHN S. KOCH ROBERT E. O’MALLEY EUGENE I. LAMBERT JOHN VANDERSTAR NEWMAN T. HALVORSON. JR. HARVEY M. APPLEBAUM MICHAEL S. HORNE JONATHAN D. BLAKE CHARLES E. BUFFON ROBERT N. SAYLER E. EDWARD BRUCE DAVID N. BROWN ...  \n",
       "4  COVINGTON & BURLING                       CONFIDENTIAL: MINNESOTA TOBACCO LITIGATION Committee of Counsel April 3, 1975 Page Two            The Chairman assured us that the matter would be e'xamined in depth, and as to the second request, it was not the usual practice but he would talk with his fellow Commissioners.            2. The questions of Publicity about the compliance investigation were reviewed. The original agreement in 1974 for no Publicity had been fully honored. Since the ANPA Government Relations Committee had scheduled a meeting for March 12, and there had been a great deal...  "
      ]
     },
     "execution_count": 13,
     "metadata": {},
     "output_type": "execute_result"
    }
   ],
   "source": [
    "val = train.iloc[-200:,:]; print(val.shape); val.reset_index(drop=True, inplace=True); val.head()"
   ]
  },
  {
   "cell_type": "code",
   "execution_count": 14,
   "metadata": {},
   "outputs": [
    {
     "name": "stdout",
     "output_type": "stream",
     "text": [
      "(259, 4)\n"
     ]
    }
   ],
   "source": [
    "test_data = pd.read_csv(data_path/\"test.csv\", delimiter=';',  usecols=['binder','docid','class', 'text'])\n",
    "test_data.rename(columns={'text':'body'}, inplace=True)\n",
    "print(test_data.shape)\n",
    "test_data.head()\n",
    "test_data.dropna(inplace=True)"
   ]
  },
  {
   "cell_type": "code",
   "execution_count": 15,
   "metadata": {},
   "outputs": [],
   "source": [
    "with open(tokenizer_path, 'rb') as handle:\n",
    "    tokenizer = pickle.load(handle, encoding=\"utf-8\")"
   ]
  },
  {
   "cell_type": "code",
   "execution_count": 16,
   "metadata": {},
   "outputs": [],
   "source": [
    "sequences_train = tokenizer.texts_to_sequences(train['body'])\n",
    "sequences_validation = tokenizer.texts_to_sequences(val['body'])\n",
    "sequences_test = tokenizer.texts_to_sequences(test_data['body'])"
   ]
  },
  {
   "cell_type": "code",
   "execution_count": 17,
   "metadata": {},
   "outputs": [],
   "source": [
    "X_train = sequence.pad_sequences(sequences_train, maxlen=SEQUENCE_LEN, padding='post')\n",
    "X_val = sequence.pad_sequences(sequences_validation, maxlen=SEQUENCE_LEN, padding='post')\n",
    "X_test = sequence.pad_sequences(sequences_test, maxlen=SEQUENCE_LEN, padding='post')"
   ]
  },
  {
   "cell_type": "code",
   "execution_count": 18,
   "metadata": {},
   "outputs": [],
   "source": [
    "encoder = LabelEncoder()"
   ]
  },
  {
   "cell_type": "code",
   "execution_count": 19,
   "metadata": {},
   "outputs": [],
   "source": [
    "train_label = train['class'] \n",
    "train_label_toTest = encoder.fit_transform(train_label)\n",
    "train_label = np.transpose(train_label_toTest)\n",
    "train_label = to_categorical(train_label)\n",
    "\n",
    "\n",
    "valid_label = val['class'] \n",
    "valid_label_toTest = encoder.fit_transform(valid_label)\n",
    "valid_label = np.transpose(valid_label_toTest)\n",
    "valid_label = to_categorical(valid_label)\n",
    "\n",
    "test_label = test_data['class'] \n",
    "test_label_toTest = encoder.fit_transform(test_label)\n",
    "test_label = np.transpose(test_label_toTest)\n",
    "test_label = to_categorical(test_label)\n",
    "\n",
    "X_train = np.array(X_train)\n",
    "X_val = np.array(X_val)\n",
    "X_test = np.array(X_test)"
   ]
  },
  {
   "cell_type": "code",
   "execution_count": 20,
   "metadata": {},
   "outputs": [
    {
     "name": "stdout",
     "output_type": "stream",
     "text": [
      "7/7 [==============================] - 0s 15ms/step\n"
     ]
    }
   ],
   "source": [
    "text_probs_val = model.predict(X_val, verbose=1)"
   ]
  },
  {
   "cell_type": "code",
   "execution_count": 21,
   "metadata": {},
   "outputs": [
    {
     "name": "stdout",
     "output_type": "stream",
     "text": [
      "9/9 [==============================] - 0s 15ms/step\n"
     ]
    }
   ],
   "source": [
    "text_probs_test = model.predict(X_test, verbose=1)"
   ]
  },
  {
   "cell_type": "code",
   "execution_count": 22,
   "metadata": {},
   "outputs": [],
   "source": [
    "path = Path(\"/mnt/nas/databases/Tobacco800/unziped/page_imgs/raw\")"
   ]
  },
  {
   "cell_type": "code",
   "execution_count": 23,
   "metadata": {},
   "outputs": [],
   "source": [
    "df = pd.read_csv('/mnt/nas/databases/Tobacco800/unziped/train.csv', delimiter=';',  usecols=['binder','docid','class', 'text'])"
   ]
  },
  {
   "cell_type": "code",
   "execution_count": 24,
   "metadata": {},
   "outputs": [
    {
     "name": "stdout",
     "output_type": "stream",
     "text": [
      "(1031, 4)\n",
      "(1019, 4)\n"
     ]
    }
   ],
   "source": [
    "print(df.shape)\n",
    "df.dropna(inplace=True)\n",
    "print(df.shape)"
   ]
  },
  {
   "cell_type": "code",
   "execution_count": 25,
   "metadata": {},
   "outputs": [
    {
     "name": "stdout",
     "output_type": "stream",
     "text": [
      "(1019, 5)\n"
     ]
    },
    {
     "data": {
      "text/html": [
       "<div>\n",
       "<style scoped>\n",
       "    .dataframe tbody tr th:only-of-type {\n",
       "        vertical-align: middle;\n",
       "    }\n",
       "\n",
       "    .dataframe tbody tr th {\n",
       "        vertical-align: top;\n",
       "    }\n",
       "\n",
       "    .dataframe thead th {\n",
       "        text-align: right;\n",
       "    }\n",
       "</style>\n",
       "<table border=\"1\" class=\"dataframe\">\n",
       "  <thead>\n",
       "    <tr style=\"text-align: right;\">\n",
       "      <th></th>\n",
       "      <th>binder</th>\n",
       "      <th>docid</th>\n",
       "      <th>class</th>\n",
       "      <th>text</th>\n",
       "      <th>split</th>\n",
       "    </tr>\n",
       "  </thead>\n",
       "  <tbody>\n",
       "    <tr>\n",
       "      <th>0</th>\n",
       "      <td>Tobacco800</td>\n",
       "      <td>aah97e00-page02_1</td>\n",
       "      <td>FirstPage</td>\n",
       "      <td>Dr. M.A. Manzelli, PHILIP MORRIS INC., Research Center, P.O. Box 3 D Richmond, Va. 23206 U.S.A. Dear Art, Please find enclosed a proposed program for your visit in Europe. As you will see, this program contains two major points:  a)    A two-days meeting in Neuchätel with all people in Europe involved in infestation control (proposed program included).  b)    Visit of all PM Europe production centers with the purpose of:        - training people in Charge of the insect indenti-fication        - inspection of the sanitary conditions One of our main problems is the insect Identification and ...</td>\n",
       "      <td>train</td>\n",
       "    </tr>\n",
       "    <tr>\n",
       "      <th>1</th>\n",
       "      <td>Tobacco800</td>\n",
       "      <td>aah97e00-page02_2</td>\n",
       "      <td>NextPage</td>\n",
       "      <td>- 2 - Please let me krow if you have any changes for the proposed program. Looking forward to seeing you again, cc:    Messrs.  B.  Kuhn                 E. Stoop Encl.: mentioned 1000035625</td>\n",
       "      <td>train</td>\n",
       "    </tr>\n",
       "    <tr>\n",
       "      <th>2</th>\n",
       "      <td>Tobacco800</td>\n",
       "      <td>aam09c00</td>\n",
       "      <td>FirstPage</td>\n",
       "      <td>I NOIJ-04-97    13 = 25 FROM = I D : PAGE 10/17 Wachtell, Lipton, Rosen &amp; Katz MARTIN L1PTON HERBERT M. WaCHYCLL THEODORE GEWSRTZ »ERNA*» W, NUSSBAUM RICHARD O- HATCHER DOUGLAS Sr LieBKAfSKV STEVEN M. SAR NA CMARt.CS T. MEPCRR'GK CHAIN J. FOPTCANG pBTRR C. 1AMCLLDS MICHAEL w. SCHWÄRT* Al.LAR A- MARTIN BARRV A. BRrCR IAWREHCE □. PEDQrWITZ ROBERT 0. MAZUR PAUL VIZGARRÖMSCK JR. PCTCR G- HCIM hAROlD s. «OViKOFF DAVID M. EINHORN KENNET« B. FQRREST METER C. KOPLOW THEODORE M- MIRVIS EDWARD D. MERL1HT RICHARD D. FEINTUCH DANIEL A. NEPP ERIC M. ROTR WAHREN R. STERN ANDREW R. BROWN ST EIN MICHAEL H...</td>\n",
       "      <td>train</td>\n",
       "    </tr>\n",
       "    <tr>\n",
       "      <th>3</th>\n",
       "      <td>Tobacco800</td>\n",
       "      <td>aao54e00_1</td>\n",
       "      <td>FirstPage</td>\n",
       "      <td>i PHILIP .MORRIS         INCORPORATED 120 PARK AVENUE, N EW YORK. N. Y. 10017 John T.-Landhy SENIOR VICC PRESIDENT                                                         _ ,                    r     . n n - . oirector of Marketing                                                         February 15, 19 83 Dear Ms. Ober: Your letter of February 3 was received by this Office yesterday. We attempted to reach you by telephone iinmediately but were unable to find a listed number in New Haven. I had hoped to arrange an appointment for one of our executives to discuss with you and your concerned ...</td>\n",
       "      <td>train</td>\n",
       "    </tr>\n",
       "    <tr>\n",
       "      <th>4</th>\n",
       "      <td>Tobacco800</td>\n",
       "      <td>aao54e00_2</td>\n",
       "      <td>NextPage</td>\n",
       "      <td>In the meantime, I hope you and your friends are continuing to enjoy your Marlboro Lights ciga-rettes. We don't think you can find a better\" cigarette on the market. ■Thank you. Ms. Angela Ober 221 Farnham Avenue New Haven, Connecticut 06515</td>\n",
       "      <td>train</td>\n",
       "    </tr>\n",
       "  </tbody>\n",
       "</table>\n",
       "</div>"
      ],
      "text/plain": [
       "       binder              docid      class  \\\n",
       "0  Tobacco800  aah97e00-page02_1  FirstPage   \n",
       "1  Tobacco800  aah97e00-page02_2   NextPage   \n",
       "2  Tobacco800           aam09c00  FirstPage   \n",
       "3  Tobacco800         aao54e00_1  FirstPage   \n",
       "4  Tobacco800         aao54e00_2   NextPage   \n",
       "\n",
       "                                                                                                                                                                                                                                                                                                                                                                                                                                                                                                                                                                                                                      text  \\\n",
       "0  Dr. M.A. Manzelli, PHILIP MORRIS INC., Research Center, P.O. Box 3 D Richmond, Va. 23206 U.S.A. Dear Art, Please find enclosed a proposed program for your visit in Europe. As you will see, this program contains two major points:  a)    A two-days meeting in Neuchätel with all people in Europe involved in infestation control (proposed program included).  b)    Visit of all PM Europe production centers with the purpose of:        - training people in Charge of the insect indenti-fication        - inspection of the sanitary conditions One of our main problems is the insect Identification and ...   \n",
       "1                                                                                                                                                                                                                                                                                                                                                                                                                            - 2 - Please let me krow if you have any changes for the proposed program. Looking forward to seeing you again, cc:    Messrs.  B.  Kuhn                 E. Stoop Encl.: mentioned 1000035625   \n",
       "2  I NOIJ-04-97    13 = 25 FROM = I D : PAGE 10/17 Wachtell, Lipton, Rosen & Katz MARTIN L1PTON HERBERT M. WaCHYCLL THEODORE GEWSRTZ »ERNA*» W, NUSSBAUM RICHARD O- HATCHER DOUGLAS Sr LieBKAfSKV STEVEN M. SAR NA CMARt.CS T. MEPCRR'GK CHAIN J. FOPTCANG pBTRR C. 1AMCLLDS MICHAEL w. SCHWÄRT* Al.LAR A- MARTIN BARRV A. BRrCR IAWREHCE □. PEDQrWITZ ROBERT 0. MAZUR PAUL VIZGARRÖMSCK JR. PCTCR G- HCIM hAROlD s. «OViKOFF DAVID M. EINHORN KENNET« B. FQRREST METER C. KOPLOW THEODORE M- MIRVIS EDWARD D. MERL1HT RICHARD D. FEINTUCH DANIEL A. NEPP ERIC M. ROTR WAHREN R. STERN ANDREW R. BROWN ST EIN MICHAEL H...   \n",
       "3  i PHILIP .MORRIS         INCORPORATED 120 PARK AVENUE, N EW YORK. N. Y. 10017 John T.-Landhy SENIOR VICC PRESIDENT                                                         _ ,                    r     . n n - . oirector of Marketing                                                         February 15, 19 83 Dear Ms. Ober: Your letter of February 3 was received by this Office yesterday. We attempted to reach you by telephone iinmediately but were unable to find a listed number in New Haven. I had hoped to arrange an appointment for one of our executives to discuss with you and your concerned ...   \n",
       "4                                                                                                                                                                                                                                                                                                                                                                        In the meantime, I hope you and your friends are continuing to enjoy your Marlboro Lights ciga-rettes. We don't think you can find a better\" cigarette on the market. ■Thank you. Ms. Angela Ober 221 Farnham Avenue New Haven, Connecticut 06515   \n",
       "\n",
       "   split  \n",
       "0  train  \n",
       "1  train  \n",
       "2  train  \n",
       "3  train  \n",
       "4  train  "
      ]
     },
     "execution_count": 25,
     "metadata": {},
     "output_type": "execute_result"
    }
   ],
   "source": [
    "df['split'] = 'train';print(df.shape); df.head()"
   ]
  },
  {
   "cell_type": "code",
   "execution_count": 26,
   "metadata": {},
   "outputs": [],
   "source": [
    "df['split'][-200:] = 'valid'; df.iloc[-202:-198];"
   ]
  },
  {
   "cell_type": "code",
   "execution_count": 27,
   "metadata": {},
   "outputs": [
    {
     "data": {
      "text/html": [
       "<div>\n",
       "<style scoped>\n",
       "    .dataframe tbody tr th:only-of-type {\n",
       "        vertical-align: middle;\n",
       "    }\n",
       "\n",
       "    .dataframe tbody tr th {\n",
       "        vertical-align: top;\n",
       "    }\n",
       "\n",
       "    .dataframe thead th {\n",
       "        text-align: right;\n",
       "    }\n",
       "</style>\n",
       "<table border=\"1\" class=\"dataframe\">\n",
       "  <thead>\n",
       "    <tr style=\"text-align: right;\">\n",
       "      <th></th>\n",
       "      <th>binder</th>\n",
       "      <th>docid</th>\n",
       "      <th>class</th>\n",
       "      <th>text</th>\n",
       "      <th>split</th>\n",
       "    </tr>\n",
       "  </thead>\n",
       "  <tbody>\n",
       "    <tr>\n",
       "      <th>0</th>\n",
       "      <td>Tobacco800</td>\n",
       "      <td>aah97e00-page02_1</td>\n",
       "      <td>FirstPage</td>\n",
       "      <td>Dr. M.A. Manzelli, PHILIP MORRIS INC., Research Center, P.O. Box 3 D Richmond, Va. 23206 U.S.A. Dear Art, Please find enclosed a proposed program for your visit in Europe. As you will see, this program contains two major points:  a)    A two-days meeting in Neuchätel with all people in Europe involved in infestation control (proposed program included).  b)    Visit of all PM Europe production centers with the purpose of:        - training people in Charge of the insect indenti-fication        - inspection of the sanitary conditions One of our main problems is the insect Identification and ...</td>\n",
       "      <td>train</td>\n",
       "    </tr>\n",
       "    <tr>\n",
       "      <th>1</th>\n",
       "      <td>Tobacco800</td>\n",
       "      <td>aah97e00-page02_2</td>\n",
       "      <td>NextPage</td>\n",
       "      <td>- 2 - Please let me krow if you have any changes for the proposed program. Looking forward to seeing you again, cc:    Messrs.  B.  Kuhn                 E. Stoop Encl.: mentioned 1000035625</td>\n",
       "      <td>train</td>\n",
       "    </tr>\n",
       "    <tr>\n",
       "      <th>2</th>\n",
       "      <td>Tobacco800</td>\n",
       "      <td>aam09c00</td>\n",
       "      <td>FirstPage</td>\n",
       "      <td>I NOIJ-04-97    13 = 25 FROM = I D : PAGE 10/17 Wachtell, Lipton, Rosen &amp; Katz MARTIN L1PTON HERBERT M. WaCHYCLL THEODORE GEWSRTZ »ERNA*» W, NUSSBAUM RICHARD O- HATCHER DOUGLAS Sr LieBKAfSKV STEVEN M. SAR NA CMARt.CS T. MEPCRR'GK CHAIN J. FOPTCANG pBTRR C. 1AMCLLDS MICHAEL w. SCHWÄRT* Al.LAR A- MARTIN BARRV A. BRrCR IAWREHCE □. PEDQrWITZ ROBERT 0. MAZUR PAUL VIZGARRÖMSCK JR. PCTCR G- HCIM hAROlD s. «OViKOFF DAVID M. EINHORN KENNET« B. FQRREST METER C. KOPLOW THEODORE M- MIRVIS EDWARD D. MERL1HT RICHARD D. FEINTUCH DANIEL A. NEPP ERIC M. ROTR WAHREN R. STERN ANDREW R. BROWN ST EIN MICHAEL H...</td>\n",
       "      <td>train</td>\n",
       "    </tr>\n",
       "    <tr>\n",
       "      <th>3</th>\n",
       "      <td>Tobacco800</td>\n",
       "      <td>aao54e00_1</td>\n",
       "      <td>FirstPage</td>\n",
       "      <td>i PHILIP .MORRIS         INCORPORATED 120 PARK AVENUE, N EW YORK. N. Y. 10017 John T.-Landhy SENIOR VICC PRESIDENT                                                         _ ,                    r     . n n - . oirector of Marketing                                                         February 15, 19 83 Dear Ms. Ober: Your letter of February 3 was received by this Office yesterday. We attempted to reach you by telephone iinmediately but were unable to find a listed number in New Haven. I had hoped to arrange an appointment for one of our executives to discuss with you and your concerned ...</td>\n",
       "      <td>train</td>\n",
       "    </tr>\n",
       "    <tr>\n",
       "      <th>4</th>\n",
       "      <td>Tobacco800</td>\n",
       "      <td>aao54e00_2</td>\n",
       "      <td>NextPage</td>\n",
       "      <td>In the meantime, I hope you and your friends are continuing to enjoy your Marlboro Lights ciga-rettes. We don't think you can find a better\" cigarette on the market. ■Thank you. Ms. Angela Ober 221 Farnham Avenue New Haven, Connecticut 06515</td>\n",
       "      <td>train</td>\n",
       "    </tr>\n",
       "    <tr>\n",
       "      <th>...</th>\n",
       "      <td>...</td>\n",
       "      <td>...</td>\n",
       "      <td>...</td>\n",
       "      <td>...</td>\n",
       "      <td>...</td>\n",
       "    </tr>\n",
       "    <tr>\n",
       "      <th>1026</th>\n",
       "      <td>Tobacco800</td>\n",
       "      <td>thl51a00-page02_2</td>\n",
       "      <td>NextPage</td>\n",
       "      <td>«AR 18 »Sg 14t99 FROM B/W LAU DEPT PAGE.Q03 P*fl® t Maroh 18, 1992 Letter fco K. fii      yeeterday 1» which American would represent that it does not m)w any itlai of the wcxt STRIKs «ad fall mall producta in the United States, inoiuding tu® U.S. duty free narbet# fot re-oacpott to »ttd resale in any country where Brom * wlllieason# or a mamber of the b.a.t. Group of 0Oa&amp;anies, has registered theso tradomarks# and that any sudü aale by any parson woUld be oonaidered an infringement of Brown &amp; Williamson*® tredemark rights.                                                            4 3* Pr...</td>\n",
       "      <td>valid</td>\n",
       "    </tr>\n",
       "    <tr>\n",
       "      <th>1027</th>\n",
       "      <td>Tobacco800</td>\n",
       "      <td>tji44a00</td>\n",
       "      <td>FirstPage</td>\n",
       "      <td>MOV 2 11994 Si iook.J Iakdyü. Bacon                            November 18,  1994 FEDERAL EXPRESS TO:   ETS/IAQ  Current   Developments             Report    Distribution            Enclosed you will find a copy of the most recent issue of the ETS/XACl Current Developments Report.            If you have questions or information rega.rd.ing items contained in this Report, please feel free to contact either of us at (816)  4*74-6550. Sincerely MWC : KAM : lew Enclosure cc:         Report:     Team 88325694</td>\n",
       "      <td>valid</td>\n",
       "    </tr>\n",
       "    <tr>\n",
       "      <th>1028</th>\n",
       "      <td>Tobacco800</td>\n",
       "      <td>tjr72f00-page02_1</td>\n",
       "      <td>FirstPage</td>\n",
       "      <td>THE TOBACCO INSTITUTE, inc. ■1776 K STREET, NORTHWEST! WASHINGTON, D.C. 2000b i 202.'296-8434  HORACE R. KORNEGAY  President May 13, 1975 Mr. Colin Stokes Chairman of the Board of Directors R. J. Reynolds Industries, Inc. 401 North Main Street Winston-Salem, North Carolina 27102 Dear Colin: The terms on which your and other Companies agreed to participate in the establishment and Operation of the Tobacco Institute Testing Laboratory (T.I.T.L.) were set förth in the Institute letter of November 1, 1966, which was accepted by each participating Company. Based on recent discussions which I ha...</td>\n",
       "      <td>valid</td>\n",
       "    </tr>\n",
       "    <tr>\n",
       "      <th>1029</th>\n",
       "      <td>Tobacco800</td>\n",
       "      <td>tjr72f00-page02_2</td>\n",
       "      <td>NextPage</td>\n",
       "      <td>two billion units. Each Company responsible for additional expenses shall be assessed for the per-centage of such additional expenses as is determined by using that Company's total annual sales of USA tax-paid cigarettes as the numerator and the total annual sales of USA tax-paid cigarettes of all Companies responsible for additional expenses as the denominator. In determining the allocation for additional expenses, the total sales of USA tax-paid cigarettes shall be determined by using, as sales figures, the estimated domestic cigarette consumption by Company based on the latest ann...</td>\n",
       "      <td>valid</td>\n",
       "    </tr>\n",
       "    <tr>\n",
       "      <th>1030</th>\n",
       "      <td>Tobacco800</td>\n",
       "      <td>tjt59c00-var</td>\n",
       "      <td>NextPage</td>\n",
       "      <td>College of Physicians &amp; Surgeons of Columbia University | New York, N. Y. 10032 DEPARTMENT OF M EDI CIN E                                                 630 West 168th Street                                                                        September 7S 1983                     Dr. Vincent F. Lisanti Council for Tobacco Research 110 East 59th Street New York, NY 10022                    Dear Dr. Lisanti,                                             . We request the transfer of the uncommitted balance of $2026 for fiscal 1982 to the 1983 budget - equipment category. This sum will be us...</td>\n",
       "      <td>valid</td>\n",
       "    </tr>\n",
       "  </tbody>\n",
       "</table>\n",
       "<p>1019 rows × 5 columns</p>\n",
       "</div>"
      ],
      "text/plain": [
       "          binder              docid      class  \\\n",
       "0     Tobacco800  aah97e00-page02_1  FirstPage   \n",
       "1     Tobacco800  aah97e00-page02_2   NextPage   \n",
       "2     Tobacco800           aam09c00  FirstPage   \n",
       "3     Tobacco800         aao54e00_1  FirstPage   \n",
       "4     Tobacco800         aao54e00_2   NextPage   \n",
       "...          ...                ...        ...   \n",
       "1026  Tobacco800  thl51a00-page02_2   NextPage   \n",
       "1027  Tobacco800           tji44a00  FirstPage   \n",
       "1028  Tobacco800  tjr72f00-page02_1  FirstPage   \n",
       "1029  Tobacco800  tjr72f00-page02_2   NextPage   \n",
       "1030  Tobacco800       tjt59c00-var   NextPage   \n",
       "\n",
       "                                                                                                                                                                                                                                                                                                                                                                                                                                                                                                                                                                                                                         text  \\\n",
       "0     Dr. M.A. Manzelli, PHILIP MORRIS INC., Research Center, P.O. Box 3 D Richmond, Va. 23206 U.S.A. Dear Art, Please find enclosed a proposed program for your visit in Europe. As you will see, this program contains two major points:  a)    A two-days meeting in Neuchätel with all people in Europe involved in infestation control (proposed program included).  b)    Visit of all PM Europe production centers with the purpose of:        - training people in Charge of the insect indenti-fication        - inspection of the sanitary conditions One of our main problems is the insect Identification and ...   \n",
       "1                                                                                                                                                                                                                                                                                                                                                                                                                               - 2 - Please let me krow if you have any changes for the proposed program. Looking forward to seeing you again, cc:    Messrs.  B.  Kuhn                 E. Stoop Encl.: mentioned 1000035625   \n",
       "2     I NOIJ-04-97    13 = 25 FROM = I D : PAGE 10/17 Wachtell, Lipton, Rosen & Katz MARTIN L1PTON HERBERT M. WaCHYCLL THEODORE GEWSRTZ »ERNA*» W, NUSSBAUM RICHARD O- HATCHER DOUGLAS Sr LieBKAfSKV STEVEN M. SAR NA CMARt.CS T. MEPCRR'GK CHAIN J. FOPTCANG pBTRR C. 1AMCLLDS MICHAEL w. SCHWÄRT* Al.LAR A- MARTIN BARRV A. BRrCR IAWREHCE □. PEDQrWITZ ROBERT 0. MAZUR PAUL VIZGARRÖMSCK JR. PCTCR G- HCIM hAROlD s. «OViKOFF DAVID M. EINHORN KENNET« B. FQRREST METER C. KOPLOW THEODORE M- MIRVIS EDWARD D. MERL1HT RICHARD D. FEINTUCH DANIEL A. NEPP ERIC M. ROTR WAHREN R. STERN ANDREW R. BROWN ST EIN MICHAEL H...   \n",
       "3     i PHILIP .MORRIS         INCORPORATED 120 PARK AVENUE, N EW YORK. N. Y. 10017 John T.-Landhy SENIOR VICC PRESIDENT                                                         _ ,                    r     . n n - . oirector of Marketing                                                         February 15, 19 83 Dear Ms. Ober: Your letter of February 3 was received by this Office yesterday. We attempted to reach you by telephone iinmediately but were unable to find a listed number in New Haven. I had hoped to arrange an appointment for one of our executives to discuss with you and your concerned ...   \n",
       "4                                                                                                                                                                                                                                                                                                                                                                           In the meantime, I hope you and your friends are continuing to enjoy your Marlboro Lights ciga-rettes. We don't think you can find a better\" cigarette on the market. ■Thank you. Ms. Angela Ober 221 Farnham Avenue New Haven, Connecticut 06515   \n",
       "...                                                                                                                                                                                                                                                                                                                                                                                                                                                                                                                                                                                                                       ...   \n",
       "1026  «AR 18 »Sg 14t99 FROM B/W LAU DEPT PAGE.Q03 P*fl® t Maroh 18, 1992 Letter fco K. fii      yeeterday 1» which American would represent that it does not m)w any itlai of the wcxt STRIKs «ad fall mall producta in the United States, inoiuding tu® U.S. duty free narbet# fot re-oacpott to »ttd resale in any country where Brom * wlllieason# or a mamber of the b.a.t. Group of 0Oa&anies, has registered theso tradomarks# and that any sudü aale by any parson woUld be oonaidered an infringement of Brown & Williamson*® tredemark rights.                                                            4 3* Pr...   \n",
       "1027                                                                                            MOV 2 11994 Si iook.J Iakdyü. Bacon                            November 18,  1994 FEDERAL EXPRESS TO:   ETS/IAQ  Current   Developments             Report    Distribution            Enclosed you will find a copy of the most recent issue of the ETS/XACl Current Developments Report.            If you have questions or information rega.rd.ing items contained in this Report, please feel free to contact either of us at (816)  4*74-6550. Sincerely MWC : KAM : lew Enclosure cc:         Report:     Team 88325694   \n",
       "1028  THE TOBACCO INSTITUTE, inc. ■1776 K STREET, NORTHWEST! WASHINGTON, D.C. 2000b i 202.'296-8434  HORACE R. KORNEGAY  President May 13, 1975 Mr. Colin Stokes Chairman of the Board of Directors R. J. Reynolds Industries, Inc. 401 North Main Street Winston-Salem, North Carolina 27102 Dear Colin: The terms on which your and other Companies agreed to participate in the establishment and Operation of the Tobacco Institute Testing Laboratory (T.I.T.L.) were set förth in the Institute letter of November 1, 1966, which was accepted by each participating Company. Based on recent discussions which I ha...   \n",
       "1029        two billion units. Each Company responsible for additional expenses shall be assessed for the per-centage of such additional expenses as is determined by using that Company's total annual sales of USA tax-paid cigarettes as the numerator and the total annual sales of USA tax-paid cigarettes of all Companies responsible for additional expenses as the denominator. In determining the allocation for additional expenses, the total sales of USA tax-paid cigarettes shall be determined by using, as sales figures, the estimated domestic cigarette consumption by Company based on the latest ann...   \n",
       "1030  College of Physicians & Surgeons of Columbia University | New York, N. Y. 10032 DEPARTMENT OF M EDI CIN E                                                 630 West 168th Street                                                                        September 7S 1983                     Dr. Vincent F. Lisanti Council for Tobacco Research 110 East 59th Street New York, NY 10022                    Dear Dr. Lisanti,                                             . We request the transfer of the uncommitted balance of $2026 for fiscal 1982 to the 1983 budget - equipment category. This sum will be us...   \n",
       "\n",
       "      split  \n",
       "0     train  \n",
       "1     train  \n",
       "2     train  \n",
       "3     train  \n",
       "4     train  \n",
       "...     ...  \n",
       "1026  valid  \n",
       "1027  valid  \n",
       "1028  valid  \n",
       "1029  valid  \n",
       "1030  valid  \n",
       "\n",
       "[1019 rows x 5 columns]"
      ]
     },
     "execution_count": 27,
     "metadata": {},
     "output_type": "execute_result"
    }
   ],
   "source": [
    "df"
   ]
  },
  {
   "cell_type": "code",
   "execution_count": 28,
   "metadata": {},
   "outputs": [],
   "source": [
    "df_test = pd.read_csv('/mnt/nas/databases/Tobacco800/unziped/test.csv', delimiter=';',  usecols=['binder','docid','class'])"
   ]
  },
  {
   "cell_type": "code",
   "execution_count": 29,
   "metadata": {},
   "outputs": [],
   "source": [
    "df_test['split'] = 'test'"
   ]
  },
  {
   "cell_type": "code",
   "execution_count": 30,
   "metadata": {},
   "outputs": [
    {
     "data": {
      "text/html": [
       "<div>\n",
       "<style scoped>\n",
       "    .dataframe tbody tr th:only-of-type {\n",
       "        vertical-align: middle;\n",
       "    }\n",
       "\n",
       "    .dataframe tbody tr th {\n",
       "        vertical-align: top;\n",
       "    }\n",
       "\n",
       "    .dataframe thead th {\n",
       "        text-align: right;\n",
       "    }\n",
       "</style>\n",
       "<table border=\"1\" class=\"dataframe\">\n",
       "  <thead>\n",
       "    <tr style=\"text-align: right;\">\n",
       "      <th></th>\n",
       "      <th>binder</th>\n",
       "      <th>docid</th>\n",
       "      <th>class</th>\n",
       "      <th>text</th>\n",
       "      <th>split</th>\n",
       "    </tr>\n",
       "  </thead>\n",
       "  <tbody>\n",
       "    <tr>\n",
       "      <th>0</th>\n",
       "      <td>Tobacco800</td>\n",
       "      <td>aah97e00-page02_1</td>\n",
       "      <td>FirstPage</td>\n",
       "      <td>Dr. M.A. Manzelli, PHILIP MORRIS INC., Research Center, P.O. Box 3 D Richmond, Va. 23206 U.S.A. Dear Art, Please find enclosed a proposed program for your visit in Europe. As you will see, this program contains two major points:  a)    A two-days meeting in Neuchätel with all people in Europe involved in infestation control (proposed program included).  b)    Visit of all PM Europe production centers with the purpose of:        - training people in Charge of the insect indenti-fication        - inspection of the sanitary conditions One of our main problems is the insect Identification and ...</td>\n",
       "      <td>train</td>\n",
       "    </tr>\n",
       "    <tr>\n",
       "      <th>1</th>\n",
       "      <td>Tobacco800</td>\n",
       "      <td>aah97e00-page02_2</td>\n",
       "      <td>NextPage</td>\n",
       "      <td>- 2 - Please let me krow if you have any changes for the proposed program. Looking forward to seeing you again, cc:    Messrs.  B.  Kuhn                 E. Stoop Encl.: mentioned 1000035625</td>\n",
       "      <td>train</td>\n",
       "    </tr>\n",
       "    <tr>\n",
       "      <th>2</th>\n",
       "      <td>Tobacco800</td>\n",
       "      <td>aam09c00</td>\n",
       "      <td>FirstPage</td>\n",
       "      <td>I NOIJ-04-97    13 = 25 FROM = I D : PAGE 10/17 Wachtell, Lipton, Rosen &amp; Katz MARTIN L1PTON HERBERT M. WaCHYCLL THEODORE GEWSRTZ »ERNA*» W, NUSSBAUM RICHARD O- HATCHER DOUGLAS Sr LieBKAfSKV STEVEN M. SAR NA CMARt.CS T. MEPCRR'GK CHAIN J. FOPTCANG pBTRR C. 1AMCLLDS MICHAEL w. SCHWÄRT* Al.LAR A- MARTIN BARRV A. BRrCR IAWREHCE □. PEDQrWITZ ROBERT 0. MAZUR PAUL VIZGARRÖMSCK JR. PCTCR G- HCIM hAROlD s. «OViKOFF DAVID M. EINHORN KENNET« B. FQRREST METER C. KOPLOW THEODORE M- MIRVIS EDWARD D. MERL1HT RICHARD D. FEINTUCH DANIEL A. NEPP ERIC M. ROTR WAHREN R. STERN ANDREW R. BROWN ST EIN MICHAEL H...</td>\n",
       "      <td>train</td>\n",
       "    </tr>\n",
       "    <tr>\n",
       "      <th>3</th>\n",
       "      <td>Tobacco800</td>\n",
       "      <td>aao54e00_1</td>\n",
       "      <td>FirstPage</td>\n",
       "      <td>i PHILIP .MORRIS         INCORPORATED 120 PARK AVENUE, N EW YORK. N. Y. 10017 John T.-Landhy SENIOR VICC PRESIDENT                                                         _ ,                    r     . n n - . oirector of Marketing                                                         February 15, 19 83 Dear Ms. Ober: Your letter of February 3 was received by this Office yesterday. We attempted to reach you by telephone iinmediately but were unable to find a listed number in New Haven. I had hoped to arrange an appointment for one of our executives to discuss with you and your concerned ...</td>\n",
       "      <td>train</td>\n",
       "    </tr>\n",
       "    <tr>\n",
       "      <th>4</th>\n",
       "      <td>Tobacco800</td>\n",
       "      <td>aao54e00_2</td>\n",
       "      <td>NextPage</td>\n",
       "      <td>In the meantime, I hope you and your friends are continuing to enjoy your Marlboro Lights ciga-rettes. We don't think you can find a better\" cigarette on the market. ■Thank you. Ms. Angela Ober 221 Farnham Avenue New Haven, Connecticut 06515</td>\n",
       "      <td>train</td>\n",
       "    </tr>\n",
       "    <tr>\n",
       "      <th>...</th>\n",
       "      <td>...</td>\n",
       "      <td>...</td>\n",
       "      <td>...</td>\n",
       "      <td>...</td>\n",
       "      <td>...</td>\n",
       "    </tr>\n",
       "    <tr>\n",
       "      <th>1273</th>\n",
       "      <td>Tobacco800</td>\n",
       "      <td>zrz94a00-page02_2</td>\n",
       "      <td>NextPage</td>\n",
       "      <td>NaN</td>\n",
       "      <td>test</td>\n",
       "    </tr>\n",
       "    <tr>\n",
       "      <th>1274</th>\n",
       "      <td>Tobacco800</td>\n",
       "      <td>zss86d00</td>\n",
       "      <td>FirstPage</td>\n",
       "      <td>NaN</td>\n",
       "      <td>test</td>\n",
       "    </tr>\n",
       "    <tr>\n",
       "      <th>1275</th>\n",
       "      <td>Tobacco800</td>\n",
       "      <td>ztz52d00-page02_1</td>\n",
       "      <td>FirstPage</td>\n",
       "      <td>NaN</td>\n",
       "      <td>test</td>\n",
       "    </tr>\n",
       "    <tr>\n",
       "      <th>1276</th>\n",
       "      <td>Tobacco800</td>\n",
       "      <td>ztz52d00-page02_2</td>\n",
       "      <td>NextPage</td>\n",
       "      <td>NaN</td>\n",
       "      <td>test</td>\n",
       "    </tr>\n",
       "    <tr>\n",
       "      <th>1277</th>\n",
       "      <td>Tobacco800</td>\n",
       "      <td>zvs17e00</td>\n",
       "      <td>FirstPage</td>\n",
       "      <td>NaN</td>\n",
       "      <td>test</td>\n",
       "    </tr>\n",
       "  </tbody>\n",
       "</table>\n",
       "<p>1278 rows × 5 columns</p>\n",
       "</div>"
      ],
      "text/plain": [
       "          binder              docid      class  \\\n",
       "0     Tobacco800  aah97e00-page02_1  FirstPage   \n",
       "1     Tobacco800  aah97e00-page02_2   NextPage   \n",
       "2     Tobacco800           aam09c00  FirstPage   \n",
       "3     Tobacco800         aao54e00_1  FirstPage   \n",
       "4     Tobacco800         aao54e00_2   NextPage   \n",
       "...          ...                ...        ...   \n",
       "1273  Tobacco800  zrz94a00-page02_2   NextPage   \n",
       "1274  Tobacco800           zss86d00  FirstPage   \n",
       "1275  Tobacco800  ztz52d00-page02_1  FirstPage   \n",
       "1276  Tobacco800  ztz52d00-page02_2   NextPage   \n",
       "1277  Tobacco800           zvs17e00  FirstPage   \n",
       "\n",
       "                                                                                                                                                                                                                                                                                                                                                                                                                                                                                                                                                                                                                         text  \\\n",
       "0     Dr. M.A. Manzelli, PHILIP MORRIS INC., Research Center, P.O. Box 3 D Richmond, Va. 23206 U.S.A. Dear Art, Please find enclosed a proposed program for your visit in Europe. As you will see, this program contains two major points:  a)    A two-days meeting in Neuchätel with all people in Europe involved in infestation control (proposed program included).  b)    Visit of all PM Europe production centers with the purpose of:        - training people in Charge of the insect indenti-fication        - inspection of the sanitary conditions One of our main problems is the insect Identification and ...   \n",
       "1                                                                                                                                                                                                                                                                                                                                                                                                                               - 2 - Please let me krow if you have any changes for the proposed program. Looking forward to seeing you again, cc:    Messrs.  B.  Kuhn                 E. Stoop Encl.: mentioned 1000035625   \n",
       "2     I NOIJ-04-97    13 = 25 FROM = I D : PAGE 10/17 Wachtell, Lipton, Rosen & Katz MARTIN L1PTON HERBERT M. WaCHYCLL THEODORE GEWSRTZ »ERNA*» W, NUSSBAUM RICHARD O- HATCHER DOUGLAS Sr LieBKAfSKV STEVEN M. SAR NA CMARt.CS T. MEPCRR'GK CHAIN J. FOPTCANG pBTRR C. 1AMCLLDS MICHAEL w. SCHWÄRT* Al.LAR A- MARTIN BARRV A. BRrCR IAWREHCE □. PEDQrWITZ ROBERT 0. MAZUR PAUL VIZGARRÖMSCK JR. PCTCR G- HCIM hAROlD s. «OViKOFF DAVID M. EINHORN KENNET« B. FQRREST METER C. KOPLOW THEODORE M- MIRVIS EDWARD D. MERL1HT RICHARD D. FEINTUCH DANIEL A. NEPP ERIC M. ROTR WAHREN R. STERN ANDREW R. BROWN ST EIN MICHAEL H...   \n",
       "3     i PHILIP .MORRIS         INCORPORATED 120 PARK AVENUE, N EW YORK. N. Y. 10017 John T.-Landhy SENIOR VICC PRESIDENT                                                         _ ,                    r     . n n - . oirector of Marketing                                                         February 15, 19 83 Dear Ms. Ober: Your letter of February 3 was received by this Office yesterday. We attempted to reach you by telephone iinmediately but were unable to find a listed number in New Haven. I had hoped to arrange an appointment for one of our executives to discuss with you and your concerned ...   \n",
       "4                                                                                                                                                                                                                                                                                                                                                                           In the meantime, I hope you and your friends are continuing to enjoy your Marlboro Lights ciga-rettes. We don't think you can find a better\" cigarette on the market. ■Thank you. Ms. Angela Ober 221 Farnham Avenue New Haven, Connecticut 06515   \n",
       "...                                                                                                                                                                                                                                                                                                                                                                                                                                                                                                                                                                                                                       ...   \n",
       "1273                                                                                                                                                                                                                                                                                                                                                                                                                                                                                                                                                                                                                      NaN   \n",
       "1274                                                                                                                                                                                                                                                                                                                                                                                                                                                                                                                                                                                                                      NaN   \n",
       "1275                                                                                                                                                                                                                                                                                                                                                                                                                                                                                                                                                                                                                      NaN   \n",
       "1276                                                                                                                                                                                                                                                                                                                                                                                                                                                                                                                                                                                                                      NaN   \n",
       "1277                                                                                                                                                                                                                                                                                                                                                                                                                                                                                                                                                                                                                      NaN   \n",
       "\n",
       "      split  \n",
       "0     train  \n",
       "1     train  \n",
       "2     train  \n",
       "3     train  \n",
       "4     train  \n",
       "...     ...  \n",
       "1273   test  \n",
       "1274   test  \n",
       "1275   test  \n",
       "1276   test  \n",
       "1277   test  \n",
       "\n",
       "[1278 rows x 5 columns]"
      ]
     },
     "execution_count": 30,
     "metadata": {},
     "output_type": "execute_result"
    }
   ],
   "source": [
    "df = pd.concat([df, df_test], axis=0); df.reset_index(drop=True, inplace=True); df"
   ]
  },
  {
   "cell_type": "code",
   "execution_count": 31,
   "metadata": {},
   "outputs": [],
   "source": [
    "def splitter(df):\n",
    "    train = df[df['split']=='train'].index.tolist()\n",
    "    valid = df[df['split']=='valid'].index.tolist()\n",
    "    test = df[df['split']=='test'].index.tolist()\n",
    "    return train,valid, test"
   ]
  },
  {
   "cell_type": "code",
   "execution_count": 32,
   "metadata": {},
   "outputs": [],
   "source": [
    "def get_x(r): return path/f'{r[\"docid\"]}.tif'\n",
    "def get_y(r): return r['class']"
   ]
  },
  {
   "cell_type": "code",
   "execution_count": 33,
   "metadata": {},
   "outputs": [],
   "source": [
    "dblock = DataBlock(blocks=(ImageBlock, CategoryBlock),\n",
    "                   get_x=get_x,\n",
    "                   get_y=get_y,\n",
    "                   splitter=splitter,\n",
    "                   item_tfms=Resize(460),\n",
    "                   batch_tfms=[*aug_transforms(size=224, min_scale=0.9,\n",
    "                                               do_flip=False, max_rotate=0,\n",
    "                                               max_warp=0),\n",
    "                               Normalize.from_stats(*imagenet_stats)])"
   ]
  },
  {
   "cell_type": "code",
   "execution_count": 34,
   "metadata": {},
   "outputs": [],
   "source": [
    "dls = dblock.dataloaders(df, bs=64)"
   ]
  },
  {
   "cell_type": "code",
   "execution_count": 35,
   "metadata": {},
   "outputs": [],
   "source": [
    "learn = cnn_learner(dls, resnet50, loss_func=CrossEntropyLossFlat())"
   ]
  },
  {
   "cell_type": "code",
   "execution_count": 36,
   "metadata": {},
   "outputs": [
    {
     "data": {
      "text/plain": [
       "<fastai.learner.Learner at 0x7f915427dbb0>"
      ]
     },
     "execution_count": 36,
     "metadata": {},
     "output_type": "execute_result"
    }
   ],
   "source": [
    "learn.load(\"best_image_no_weights_224\")"
   ]
  },
  {
   "cell_type": "code",
   "execution_count": 37,
   "metadata": {},
   "outputs": [
    {
     "data": {
      "text/html": [],
      "text/plain": [
       "<IPython.core.display.HTML object>"
      ]
     },
     "metadata": {},
     "output_type": "display_data"
    }
   ],
   "source": [
    "img_probs_val, labels_val = learn.get_preds()"
   ]
  },
  {
   "cell_type": "code",
   "execution_count": 38,
   "metadata": {},
   "outputs": [
    {
     "data": {
      "text/html": [],
      "text/plain": [
       "<IPython.core.display.HTML object>"
      ]
     },
     "metadata": {},
     "output_type": "display_data"
    }
   ],
   "source": [
    "img_probs_test, labels_test = learn.get_preds(ds_idx=2)"
   ]
  },
  {
   "cell_type": "code",
   "execution_count": 50,
   "metadata": {},
   "outputs": [],
   "source": [
    "assert (tensor(np.argmax(test_label, axis=1)) == labels_test).all()"
   ]
  },
  {
   "cell_type": "code",
   "execution_count": 39,
   "metadata": {},
   "outputs": [
    {
     "data": {
      "text/plain": [
       "tensor([0.0009, 0.0036])"
      ]
     },
     "execution_count": 39,
     "metadata": {},
     "output_type": "execute_result"
    }
   ],
   "source": [
    "tensor([0.3,0.2])**2*tensor([0.1, 0.3])**2"
   ]
  },
  {
   "cell_type": "code",
   "execution_count": 40,
   "metadata": {},
   "outputs": [],
   "source": [
    "def late_fusion(pred_image, pred_text, img_weight=1, text_weight=1):\n",
    "    return pred_image**img_weight * pred_text**text_weight"
   ]
  },
  {
   "cell_type": "code",
   "execution_count": 41,
   "metadata": {},
   "outputs": [],
   "source": [
    "def evaluate(preds_image, preds_text, targets, img_weight=1, text_weight=1):\n",
    "    probs = late_fusion(preds_image, preds_text, img_weight, text_weight)\n",
    "    preds = np.argmax(probs, axis=1)\n",
    "    print(classification_report(targets, preds, target_names=dls.vocab, digits=4))"
   ]
  },
  {
   "cell_type": "code",
   "execution_count": 42,
   "metadata": {},
   "outputs": [],
   "source": [
    "weights = [0, 1e-2, 3e-2, 5e-2, 7e-2, 1e-1, 3e-1, 5e-1, 7e-1, 1]"
   ]
  },
  {
   "cell_type": "code",
   "execution_count": 43,
   "metadata": {},
   "outputs": [],
   "source": [
    "def cross_val(preds_image, preds_text, targets, weights):\n",
    "    max_acc = 0\n",
    "    for img_weight in weights:\n",
    "        for text_weight in weights:\n",
    "            probs = late_fusion(preds_image, preds_text, img_weight, text_weight)\n",
    "            preds = np.argmax(probs, axis=1)\n",
    "            acc = accuracy_score(preds,  targets)\n",
    "            if acc > max_acc:\n",
    "                max_acc = acc\n",
    "                best_img_weight = img_weight\n",
    "                best_text_weight = text_weight\n",
    "    return max_acc, best_img_weight, best_text_weight"
   ]
  },
  {
   "cell_type": "code",
   "execution_count": 44,
   "metadata": {},
   "outputs": [],
   "source": [
    "max_acc, best_img_weight, best_text_weight = cross_val(img_probs_val, text_probs_val, labels_val, weights)"
   ]
  },
  {
   "cell_type": "code",
   "execution_count": 45,
   "metadata": {},
   "outputs": [
    {
     "data": {
      "text/plain": [
       "(0.795, 0.03, 0.05)"
      ]
     },
     "execution_count": 45,
     "metadata": {},
     "output_type": "execute_result"
    }
   ],
   "source": [
    "max_acc, best_img_weight, best_text_weight"
   ]
  },
  {
   "cell_type": "code",
   "execution_count": 46,
   "metadata": {},
   "outputs": [
    {
     "name": "stdout",
     "output_type": "stream",
     "text": [
      "              precision    recall  f1-score   support\n",
      "\n",
      "   FirstPage     0.7297    0.8804    0.7980        92\n",
      "    NextPage     0.8764    0.7222    0.7919       108\n",
      "\n",
      "    accuracy                         0.7950       200\n",
      "   macro avg     0.8031    0.8013    0.7950       200\n",
      "weighted avg     0.8089    0.7950    0.7947       200\n",
      "\n"
     ]
    }
   ],
   "source": [
    "evaluate(img_probs_val, text_probs_val, labels_val, best_img_weight, best_text_weight)"
   ]
  },
  {
   "cell_type": "code",
   "execution_count": 47,
   "metadata": {},
   "outputs": [
    {
     "name": "stdout",
     "output_type": "stream",
     "text": [
      "              precision    recall  f1-score   support\n",
      "\n",
      "   FirstPage     0.8192    0.9667    0.8869       150\n",
      "    NextPage     0.9390    0.7064    0.8063       109\n",
      "\n",
      "    accuracy                         0.8571       259\n",
      "   macro avg     0.8791    0.8365    0.8466       259\n",
      "weighted avg     0.8696    0.8571    0.8529       259\n",
      "\n"
     ]
    }
   ],
   "source": [
    "evaluate(img_probs_test, text_probs_test, labels_test, best_img_weight, best_text_weight)"
   ]
  },
  {
   "cell_type": "code",
   "execution_count": null,
   "metadata": {},
   "outputs": [],
   "source": []
  }
 ],
 "metadata": {
  "kernelspec": {
   "display_name": "fastai2",
   "language": "python",
   "name": "fastai2"
  },
  "language_info": {
   "codemirror_mode": {
    "name": "ipython",
    "version": 3
   },
   "file_extension": ".py",
   "mimetype": "text/x-python",
   "name": "python",
   "nbconvert_exporter": "python",
   "pygments_lexer": "ipython3",
   "version": "3.8.10"
  }
 },
 "nbformat": 4,
 "nbformat_minor": 4
}
