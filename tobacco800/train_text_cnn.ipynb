{
 "cells": [
  {
   "cell_type": "code",
   "execution_count": 2,
   "metadata": {},
   "outputs": [],
   "source": [
    "import os\n",
    "from os import walk\n",
    "from os.path import join, split, splitext\n",
    "from sklearn.preprocessing import LabelEncoder\n",
    "from sklearn.metrics import classification_report, confusion_matrix, accuracy_score, f1_score\n",
    "import argparse\n",
    "import json\n",
    "import numpy as np\n",
    "import pandas as pd\n",
    "\n",
    "# backend\n",
    "import tensorflow as tf\n",
    "from tensorflow.keras import backend as K\n",
    "\n",
    "from tensorflow.keras.layers import Input, Dense, Embedding, Flatten, Conv1D, MaxPooling1D, concatenate, Concatenate, BatchNormalization, Dropout\n",
    "from tensorflow.keras.models import Model, Sequential, model_from_json\n",
    "\n",
    "from tensorflow.keras.optimizers import SGD, RMSprop\n",
    "from tensorflow.keras.callbacks import TensorBoard, ModelCheckpoint, EarlyStopping, LambdaCallback\n",
    "from tensorflow.keras.utils import to_categorical\n",
    "from tensorflow.keras.applications import ResNet50\n",
    "from tensorflow.keras.preprocessing.image import ImageDataGenerator\n",
    " \n",
    "from sklearn.utils import class_weight\n",
    "\n",
    "from tensorflow.keras.preprocessing import sequence\n",
    "from tensorflow.keras.preprocessing.text import Tokenizer\n",
    "import pickle\n",
    "from tqdm import trange\n",
    "\n",
    "from pathlib import Path"
   ]
  },
  {
   "cell_type": "code",
   "execution_count": 4,
   "metadata": {},
   "outputs": [],
   "source": [
    "seed = 42\n",
    "\n",
    "# python RNG\n",
    "import random\n",
    "random.seed(seed)\n",
    "\n",
    "# pytorch RNGs\n",
    "# import torch\n",
    "# torch.manual_seed(seed)\n",
    "# torch.backends.cudnn.deterministic = True\n",
    "# if torch.cuda.is_available(): torch.cuda.manual_seed_all(seed)\n",
    "\n",
    "# numpy RNG\n",
    "import numpy as np\n",
    "np.random.seed(seed)\n",
    "\n",
    "# tensorflow RNG\n",
    "tf.random.set_seed(seed)"
   ]
  },
  {
   "cell_type": "code",
   "execution_count": 79,
   "metadata": {},
   "outputs": [],
   "source": [
    "nClasses = 2\n",
    "batch_size = 64\n",
    "epochs = 20\n",
    "\n",
    "MAX_FEATURES = 70000  # Size of vocabulary\n",
    "EMBEDDING_DIM = MAX_FEATURES  # Size of vocabulary\n",
    "SEQUENCE_LEN = 500 # Size of input arrays\n",
    "EMBEDDING_OUT = 100  # Output dim of embedding"
   ]
  },
  {
   "cell_type": "code",
   "execution_count": 80,
   "metadata": {},
   "outputs": [],
   "source": [
    "output_path = Path(\"./models\")"
   ]
  },
  {
   "cell_type": "code",
   "execution_count": 81,
   "metadata": {},
   "outputs": [],
   "source": [
    "data_path = Path(\"/mnt/nas/databases/Tobacco800/unziped/\")"
   ]
  },
  {
   "cell_type": "code",
   "execution_count": 82,
   "metadata": {},
   "outputs": [
    {
     "name": "stdout",
     "output_type": "stream",
     "text": [
      "README\tpage_imgs  test.csv  train.csv\n"
     ]
    }
   ],
   "source": [
    "!ls /mnt/nas/databases/Tobacco800/unziped/"
   ]
  },
  {
   "cell_type": "code",
   "execution_count": 83,
   "metadata": {},
   "outputs": [
    {
     "name": "stdout",
     "output_type": "stream",
     "text": [
      "(1031, 4)\n",
      "(1019, 4)\n"
     ]
    }
   ],
   "source": [
    "train = pd.read_csv(data_path/\"train.csv\", delimiter=';',  usecols=['binder','docid','class', 'text'])\n",
    "train.rename(columns={'text':'body'}, inplace=True)\n",
    "print(train.shape)\n",
    "train.dropna(inplace=True)\n",
    "print(train.shape)"
   ]
  },
  {
   "cell_type": "code",
   "execution_count": 84,
   "metadata": {},
   "outputs": [
    {
     "name": "stdout",
     "output_type": "stream",
     "text": [
      "(200, 4)\n"
     ]
    },
    {
     "data": {
      "text/html": [
       "<div>\n",
       "<style scoped>\n",
       "    .dataframe tbody tr th:only-of-type {\n",
       "        vertical-align: middle;\n",
       "    }\n",
       "\n",
       "    .dataframe tbody tr th {\n",
       "        vertical-align: top;\n",
       "    }\n",
       "\n",
       "    .dataframe thead th {\n",
       "        text-align: right;\n",
       "    }\n",
       "</style>\n",
       "<table border=\"1\" class=\"dataframe\">\n",
       "  <thead>\n",
       "    <tr style=\"text-align: right;\">\n",
       "      <th></th>\n",
       "      <th>binder</th>\n",
       "      <th>docid</th>\n",
       "      <th>class</th>\n",
       "      <th>body</th>\n",
       "    </tr>\n",
       "  </thead>\n",
       "  <tbody>\n",
       "    <tr>\n",
       "      <th>830</th>\n",
       "      <td>Tobacco800</td>\n",
       "      <td>pkc56d00</td>\n",
       "      <td>FirstPage</td>\n",
       "      <td>.&gt;-&gt;aa, Mailand 20014 / (301) 654-3400        ...</td>\n",
       "    </tr>\n",
       "    <tr>\n",
       "      <th>831</th>\n",
       "      <td>Tobacco800</td>\n",
       "      <td>pkj90c00</td>\n",
       "      <td>FirstPage</td>\n",
       "      <td>AMERICAN '93 THE NEETROnilER FIELD SALES INFOR...</td>\n",
       "    </tr>\n",
       "    <tr>\n",
       "      <th>832</th>\n",
       "      <td>Tobacco800</td>\n",
       "      <td>ply60e00</td>\n",
       "      <td>FirstPage</td>\n",
       "      <td>LORILLARD INC. • ONE PARK AVENUE. NEW YORK. N....</td>\n",
       "    </tr>\n",
       "    <tr>\n",
       "      <th>833</th>\n",
       "      <td>Tobacco800</td>\n",
       "      <td>pmx82f00-page04_1</td>\n",
       "      <td>FirstPage</td>\n",
       "      <td>4    4 -/ NEWELL W. ELLISON H. THOMAS AUSTERN ...</td>\n",
       "    </tr>\n",
       "    <tr>\n",
       "      <th>834</th>\n",
       "      <td>Tobacco800</td>\n",
       "      <td>pmx82f00-page04_2</td>\n",
       "      <td>NextPage</td>\n",
       "      <td>COVINGTON &amp; BURLING                       CONF...</td>\n",
       "    </tr>\n",
       "  </tbody>\n",
       "</table>\n",
       "</div>"
      ],
      "text/plain": [
       "         binder              docid      class  \\\n",
       "830  Tobacco800           pkc56d00  FirstPage   \n",
       "831  Tobacco800           pkj90c00  FirstPage   \n",
       "832  Tobacco800           ply60e00  FirstPage   \n",
       "833  Tobacco800  pmx82f00-page04_1  FirstPage   \n",
       "834  Tobacco800  pmx82f00-page04_2   NextPage   \n",
       "\n",
       "                                                  body  \n",
       "830  .>->aa, Mailand 20014 / (301) 654-3400        ...  \n",
       "831  AMERICAN '93 THE NEETROnilER FIELD SALES INFOR...  \n",
       "832  LORILLARD INC. • ONE PARK AVENUE. NEW YORK. N....  \n",
       "833  4    4 -/ NEWELL W. ELLISON H. THOMAS AUSTERN ...  \n",
       "834  COVINGTON & BURLING                       CONF...  "
      ]
     },
     "execution_count": 84,
     "metadata": {},
     "output_type": "execute_result"
    }
   ],
   "source": [
    "val = train.iloc[-200:,:]; print(val.shape); val.head()"
   ]
  },
  {
   "cell_type": "code",
   "execution_count": 85,
   "metadata": {},
   "outputs": [
    {
     "name": "stdout",
     "output_type": "stream",
     "text": [
      "(819, 4)\n"
     ]
    },
    {
     "data": {
      "text/html": [
       "<div>\n",
       "<style scoped>\n",
       "    .dataframe tbody tr th:only-of-type {\n",
       "        vertical-align: middle;\n",
       "    }\n",
       "\n",
       "    .dataframe tbody tr th {\n",
       "        vertical-align: top;\n",
       "    }\n",
       "\n",
       "    .dataframe thead th {\n",
       "        text-align: right;\n",
       "    }\n",
       "</style>\n",
       "<table border=\"1\" class=\"dataframe\">\n",
       "  <thead>\n",
       "    <tr style=\"text-align: right;\">\n",
       "      <th></th>\n",
       "      <th>binder</th>\n",
       "      <th>docid</th>\n",
       "      <th>class</th>\n",
       "      <th>body</th>\n",
       "    </tr>\n",
       "  </thead>\n",
       "  <tbody>\n",
       "    <tr>\n",
       "      <th>0</th>\n",
       "      <td>Tobacco800</td>\n",
       "      <td>aah97e00-page02_1</td>\n",
       "      <td>FirstPage</td>\n",
       "      <td>Dr. M.A. Manzelli, PHILIP MORRIS INC., Researc...</td>\n",
       "    </tr>\n",
       "    <tr>\n",
       "      <th>1</th>\n",
       "      <td>Tobacco800</td>\n",
       "      <td>aah97e00-page02_2</td>\n",
       "      <td>NextPage</td>\n",
       "      <td>- 2 - Please let me krow if you have any chang...</td>\n",
       "    </tr>\n",
       "    <tr>\n",
       "      <th>2</th>\n",
       "      <td>Tobacco800</td>\n",
       "      <td>aam09c00</td>\n",
       "      <td>FirstPage</td>\n",
       "      <td>I NOIJ-04-97    13 = 25 FROM = I D : PAGE 10/1...</td>\n",
       "    </tr>\n",
       "    <tr>\n",
       "      <th>3</th>\n",
       "      <td>Tobacco800</td>\n",
       "      <td>aao54e00_1</td>\n",
       "      <td>FirstPage</td>\n",
       "      <td>i PHILIP .MORRIS         INCORPORATED 120 PARK...</td>\n",
       "    </tr>\n",
       "    <tr>\n",
       "      <th>4</th>\n",
       "      <td>Tobacco800</td>\n",
       "      <td>aao54e00_2</td>\n",
       "      <td>NextPage</td>\n",
       "      <td>In the meantime, I hope you and your friends a...</td>\n",
       "    </tr>\n",
       "  </tbody>\n",
       "</table>\n",
       "</div>"
      ],
      "text/plain": [
       "       binder              docid      class  \\\n",
       "0  Tobacco800  aah97e00-page02_1  FirstPage   \n",
       "1  Tobacco800  aah97e00-page02_2   NextPage   \n",
       "2  Tobacco800           aam09c00  FirstPage   \n",
       "3  Tobacco800         aao54e00_1  FirstPage   \n",
       "4  Tobacco800         aao54e00_2   NextPage   \n",
       "\n",
       "                                                body  \n",
       "0  Dr. M.A. Manzelli, PHILIP MORRIS INC., Researc...  \n",
       "1  - 2 - Please let me krow if you have any chang...  \n",
       "2  I NOIJ-04-97    13 = 25 FROM = I D : PAGE 10/1...  \n",
       "3  i PHILIP .MORRIS         INCORPORATED 120 PARK...  \n",
       "4  In the meantime, I hope you and your friends a...  "
      ]
     },
     "execution_count": 85,
     "metadata": {},
     "output_type": "execute_result"
    }
   ],
   "source": [
    "train = train.iloc[:-200,:]; print(train.shape);train.head()"
   ]
  },
  {
   "cell_type": "code",
   "execution_count": 86,
   "metadata": {},
   "outputs": [
    {
     "name": "stdout",
     "output_type": "stream",
     "text": [
      "(259, 4)\n"
     ]
    }
   ],
   "source": [
    "test_data = pd.read_csv(data_path/\"test.csv\", delimiter=';',  usecols=['binder','docid','class', 'text'])\n",
    "test_data.rename(columns={'text':'body'}, inplace=True)\n",
    "print(test_data.shape)\n",
    "test_data.head()\n",
    "test_data.dropna(inplace=True)"
   ]
  },
  {
   "cell_type": "code",
   "execution_count": 87,
   "metadata": {},
   "outputs": [],
   "source": [
    "for index, row in train.iterrows():\n",
    "    if not isinstance(row.body, str):\n",
    "        print(row.body)"
   ]
  },
  {
   "cell_type": "code",
   "execution_count": 88,
   "metadata": {},
   "outputs": [],
   "source": [
    "tokenizer = Tokenizer(num_words=MAX_FEATURES)\n",
    "tokenizer.fit_on_texts(train['body'])\n",
    "with open(join(output_path, 'tokenizer.pickle'), 'wb') as handle:\n",
    "    pickle.dump(tokenizer, handle, protocol=pickle.HIGHEST_PROTOCOL)\n",
    "sequences_train = tokenizer.texts_to_sequences(train['body'])\n",
    "sequences_validation = tokenizer.texts_to_sequences(val['body'])\n",
    "sequences_test = tokenizer.texts_to_sequences(test_data['body'])"
   ]
  },
  {
   "cell_type": "code",
   "execution_count": 89,
   "metadata": {},
   "outputs": [],
   "source": [
    "X_train = sequence.pad_sequences(sequences_train, maxlen=SEQUENCE_LEN, padding='post')\n",
    "X_val = sequence.pad_sequences(sequences_validation, maxlen=SEQUENCE_LEN, padding='post')\n",
    "X_test = sequence.pad_sequences(sequences_test, maxlen=SEQUENCE_LEN, padding='post')"
   ]
  },
  {
   "cell_type": "code",
   "execution_count": 90,
   "metadata": {},
   "outputs": [],
   "source": [
    "encoder = LabelEncoder()\n",
    " \n",
    "label = train['class']\n",
    "label = encoder.fit_transform(label)\n",
    "\n",
    "#class_weights = class_weight.compute_class_weight('balanced',\n",
    "#                                                 np.unique(label),\n",
    "#                                                 label)\n",
    "label = np.transpose(label)\n",
    "label = to_categorical(label)\n",
    "\n",
    "val_label = val['class'] \n",
    "val_label_toTest = encoder.transform(val_label)\n",
    "val_label = np.transpose(val_label_toTest)\n",
    "val_label = to_categorical(val_label)\n",
    "\n",
    "test_label = test_data['class']\n",
    "test_label_toTest = encoder.transform(test_label)\n",
    "test_label = np.transpose(test_label_toTest)\n",
    "test_label = to_categorical(test_label)"
   ]
  },
  {
   "cell_type": "code",
   "execution_count": 93,
   "metadata": {},
   "outputs": [],
   "source": [
    "#encoder.classes_, class_weights"
   ]
  },
  {
   "cell_type": "code",
   "execution_count": 94,
   "metadata": {},
   "outputs": [],
   "source": [
    "class F1History(tf.keras.callbacks.Callback):\n",
    "\n",
    "    def __init__(self, validation):\n",
    "        super(F1History, self).__init__()\n",
    "        self.validation = validation\n",
    "        \n",
    "    def on_epoch_end(self, epoch, logs={}):\n",
    "        logs['F1_score_val'] = float('-inf')\n",
    "        X_valid, y_valid = self.validation[0], self.validation[1]\n",
    "        y_val_pred = self.model.predict(X_valid).argmax(axis=1)\n",
    "        val_score = f1_score(y_valid, y_val_pred, average=\"macro\")\n",
    "        logs['F1_score_val'] = np.round(val_score, 5)"
   ]
  },
  {
   "cell_type": "code",
   "execution_count": 95,
   "metadata": {},
   "outputs": [],
   "source": [
    "def get_model():\n",
    "    f1_base = Input(shape=(SEQUENCE_LEN, ), dtype='int32')\n",
    "    text_embedding = Embedding(input_dim=MAX_FEATURES, output_dim=EMBEDDING_OUT,\n",
    "                               input_length=SEQUENCE_LEN)(f1_base)\n",
    "\n",
    "    filter_sizes = [3, 4, 5]\n",
    "    convs = []\n",
    "    for filter_size in filter_sizes:\n",
    "        l_conv = Conv1D(filters=256, kernel_size=filter_size, padding='same', activation='relu')(text_embedding)\n",
    "        l_batch = BatchNormalization()(l_conv)\n",
    "        l_pool = MaxPooling1D(2)(l_conv)\n",
    "\n",
    "        convs.append(l_pool)\n",
    "\n",
    "    l_merge = Concatenate(axis=1)(convs)\n",
    "    l_pool1 = MaxPooling1D(50)(l_merge)\n",
    "    l_flat = Flatten()(l_pool1)\n",
    "    l_dense = Dense(128, activation='relu')(l_flat)\n",
    "    x = Dropout(0.5)(l_dense)\n",
    "    x = Dense(nClasses, activation='softmax')(x)\n",
    "    return Model(inputs=f1_base, outputs=x)"
   ]
  },
  {
   "cell_type": "code",
   "execution_count": 96,
   "metadata": {},
   "outputs": [],
   "source": [
    "X_train = np.array(X_train)\n",
    "X_val = np.array(X_val)\n",
    "X_test = np.array(X_test)"
   ]
  },
  {
   "cell_type": "code",
   "execution_count": 97,
   "metadata": {},
   "outputs": [
    {
     "ename": "NameError",
     "evalue": "name 'class_weights' is not defined",
     "output_type": "error",
     "traceback": [
      "\u001b[0;31m---------------------------------------------------------------------------\u001b[0m",
      "\u001b[0;31mNameError\u001b[0m                                 Traceback (most recent call last)",
      "\u001b[0;32m/tmp/ipykernel_282933/2784088615.py\u001b[0m in \u001b[0;36m<module>\u001b[0;34m\u001b[0m\n\u001b[1;32m     12\u001b[0m \tcallbacks=[F1History((X_val,val_label_toTest)),\n\u001b[1;32m     13\u001b[0m                checkpointer],\n\u001b[0;32m---> 14\u001b[0;31m \tclass_weight={i:v for i, v in enumerate(class_weights)})\n\u001b[0m",
      "\u001b[0;31mNameError\u001b[0m: name 'class_weights' is not defined"
     ]
    }
   ],
   "source": [
    "model = get_model()\n",
    "model.compile(loss='categorical_crossentropy', optimizer='adam', metrics=['accuracy'])\n",
    "\n",
    "checkpointer = ModelCheckpoint(filepath=output_path/\"keras/stf_weights_{epoch:02d}.keras\",\n",
    "                               verbose=1, save_weights_only=True)\n",
    "\n",
    "hist =  model.fit(\n",
    "\tx=(X_train), y=(label),\n",
    "\tbatch_size=batch_size,\n",
    "\tepochs=epochs,\n",
    "\tvalidation_data=(X_val, val_label),\n",
    "\tcallbacks=[F1History((X_val,val_label_toTest)),\n",
    "               checkpointer],\n",
    "\tclass_weight={i:v for i, v in enumerate(class_weights)})"
   ]
  },
  {
   "cell_type": "code",
   "execution_count": 119,
   "metadata": {},
   "outputs": [
    {
     "data": {
      "text/plain": [
       "16"
      ]
     },
     "execution_count": 119,
     "metadata": {},
     "output_type": "execute_result"
    }
   ],
   "source": [
    "best_epoch = np.argmax(hist.history[\"F1_score_val\"]) +1; best_epoch"
   ]
  },
  {
   "cell_type": "code",
   "execution_count": 120,
   "metadata": {},
   "outputs": [],
   "source": [
    "model.load_weights(output_path/f\"keras/stf_weights_{best_epoch}.keras\")"
   ]
  },
  {
   "cell_type": "code",
   "execution_count": 121,
   "metadata": {},
   "outputs": [],
   "source": [
    "model.save_weights(output_path/\"stf_weights.keras\")"
   ]
  },
  {
   "cell_type": "code",
   "execution_count": 14,
   "metadata": {},
   "outputs": [],
   "source": [
    "model.load_weights(output_path/\"stf_weights.keras\")"
   ]
  },
  {
   "cell_type": "code",
   "execution_count": 15,
   "metadata": {},
   "outputs": [
    {
     "name": "stdout",
     "output_type": "stream",
     "text": [
      "2961/2961 [==============================] - 21s 7ms/step\n",
      "                                  precision    recall  f1-score   support\n",
      "\n",
      "          acordao_de_2_instancia     0.4346    0.8227    0.5688       299\n",
      "agravo_em_recurso_extraordinario     0.4695    0.6705    0.5523      2149\n",
      "     despacho_de_admissibilidade     0.3720    0.7541    0.4982       183\n",
      "                          outros     0.9755    0.9173    0.9455     84104\n",
      "                   peticao_do_RE     0.5561    0.8047    0.6577      6364\n",
      "                        sentenca     0.5282    0.7855    0.6316      1636\n",
      "\n",
      "                        accuracy                         0.9013     94735\n",
      "                       macro avg     0.5560    0.7925    0.6424     94735\n",
      "                    weighted avg     0.9253    0.9013    0.9098     94735\n",
      "\n"
     ]
    }
   ],
   "source": [
    "test_predict_1 = model.predict(X_val, verbose=1)\n",
    "pred_1 = test_predict_1.argmax(axis=1)\n",
    "\n",
    "target_names = ['acordao_de_2_instancia','agravo_em_recurso_extraordinario', 'despacho_de_admissibilidade', 'outros', 'peticao_do_RE', 'sentenca']\n",
    "print(classification_report(val_label_toTest, pred_1, target_names=target_names, digits=4))"
   ]
  },
  {
   "cell_type": "code",
   "execution_count": 99,
   "metadata": {},
   "outputs": [
    {
     "name": "stdout",
     "output_type": "stream",
     "text": [
      "Epoch 1/20\n",
      "13/13 [==============================] - 11s 814ms/step - loss: 0.6812 - accuracy: 0.5849 - val_loss: 0.7511 - val_accuracy: 0.4600\n",
      "\n",
      "Epoch 00001: saving model to models/keras/stf_no_weights_01.keras\n",
      "Epoch 2/20\n",
      "13/13 [==============================] - 10s 803ms/step - loss: 0.6287 - accuracy: 0.6545 - val_loss: 0.6706 - val_accuracy: 0.5650\n",
      "\n",
      "Epoch 00002: saving model to models/keras/stf_no_weights_02.keras\n",
      "Epoch 3/20\n",
      "13/13 [==============================] - 10s 794ms/step - loss: 0.5594 - accuracy: 0.7241 - val_loss: 0.6329 - val_accuracy: 0.6850\n",
      "\n",
      "Epoch 00003: saving model to models/keras/stf_no_weights_03.keras\n",
      "Epoch 4/20\n",
      "13/13 [==============================] - 10s 800ms/step - loss: 0.4296 - accuracy: 0.8437 - val_loss: 0.5927 - val_accuracy: 0.7600\n",
      "\n",
      "Epoch 00004: saving model to models/keras/stf_no_weights_04.keras\n",
      "Epoch 5/20\n",
      "13/13 [==============================] - 10s 786ms/step - loss: 0.2879 - accuracy: 0.9365 - val_loss: 0.6208 - val_accuracy: 0.7450\n",
      "\n",
      "Epoch 00005: saving model to models/keras/stf_no_weights_05.keras\n",
      "Epoch 6/20\n",
      "13/13 [==============================] - 10s 802ms/step - loss: 0.1534 - accuracy: 0.9634 - val_loss: 0.5491 - val_accuracy: 0.7850\n",
      "\n",
      "Epoch 00006: saving model to models/keras/stf_no_weights_06.keras\n",
      "Epoch 7/20\n",
      "13/13 [==============================] - 11s 815ms/step - loss: 0.0736 - accuracy: 0.9841 - val_loss: 0.6865 - val_accuracy: 0.7750\n",
      "\n",
      "Epoch 00007: saving model to models/keras/stf_no_weights_07.keras\n",
      "Epoch 8/20\n",
      "13/13 [==============================] - 10s 801ms/step - loss: 0.0364 - accuracy: 0.9939 - val_loss: 0.5654 - val_accuracy: 0.7850\n",
      "\n",
      "Epoch 00008: saving model to models/keras/stf_no_weights_08.keras\n",
      "Epoch 9/20\n",
      "13/13 [==============================] - 10s 797ms/step - loss: 0.0265 - accuracy: 0.9939 - val_loss: 0.7592 - val_accuracy: 0.7750\n",
      "\n",
      "Epoch 00009: saving model to models/keras/stf_no_weights_09.keras\n",
      "Epoch 10/20\n",
      "13/13 [==============================] - 10s 783ms/step - loss: 0.0140 - accuracy: 0.9976 - val_loss: 0.6924 - val_accuracy: 0.7800\n",
      "\n",
      "Epoch 00010: saving model to models/keras/stf_no_weights_10.keras\n",
      "Epoch 11/20\n",
      "13/13 [==============================] - 10s 794ms/step - loss: 0.0088 - accuracy: 0.9988 - val_loss: 0.7631 - val_accuracy: 0.7700\n",
      "\n",
      "Epoch 00011: saving model to models/keras/stf_no_weights_11.keras\n",
      "Epoch 12/20\n",
      "13/13 [==============================] - 10s 801ms/step - loss: 0.0057 - accuracy: 1.0000 - val_loss: 0.8230 - val_accuracy: 0.7700\n",
      "\n",
      "Epoch 00012: saving model to models/keras/stf_no_weights_12.keras\n",
      "Epoch 13/20\n",
      "13/13 [==============================] - 10s 793ms/step - loss: 0.0050 - accuracy: 1.0000 - val_loss: 0.8179 - val_accuracy: 0.7700\n",
      "\n",
      "Epoch 00013: saving model to models/keras/stf_no_weights_13.keras\n",
      "Epoch 14/20\n",
      "13/13 [==============================] - 10s 795ms/step - loss: 0.0025 - accuracy: 1.0000 - val_loss: 0.8635 - val_accuracy: 0.7700\n",
      "\n",
      "Epoch 00014: saving model to models/keras/stf_no_weights_14.keras\n",
      "Epoch 15/20\n",
      "13/13 [==============================] - 10s 781ms/step - loss: 0.0037 - accuracy: 1.0000 - val_loss: 0.8755 - val_accuracy: 0.7650\n",
      "\n",
      "Epoch 00015: saving model to models/keras/stf_no_weights_15.keras\n",
      "Epoch 16/20\n",
      "13/13 [==============================] - 10s 790ms/step - loss: 0.0030 - accuracy: 1.0000 - val_loss: 0.8942 - val_accuracy: 0.7700\n",
      "\n",
      "Epoch 00016: saving model to models/keras/stf_no_weights_16.keras\n",
      "Epoch 17/20\n",
      "13/13 [==============================] - 10s 789ms/step - loss: 0.0041 - accuracy: 0.9988 - val_loss: 0.9692 - val_accuracy: 0.7700\n",
      "\n",
      "Epoch 00017: saving model to models/keras/stf_no_weights_17.keras\n",
      "Epoch 18/20\n",
      "13/13 [==============================] - 10s 793ms/step - loss: 0.0026 - accuracy: 1.0000 - val_loss: 1.0675 - val_accuracy: 0.7700\n",
      "\n",
      "Epoch 00018: saving model to models/keras/stf_no_weights_18.keras\n",
      "Epoch 19/20\n",
      "13/13 [==============================] - 10s 793ms/step - loss: 0.0018 - accuracy: 1.0000 - val_loss: 1.0166 - val_accuracy: 0.7700\n",
      "\n",
      "Epoch 00019: saving model to models/keras/stf_no_weights_19.keras\n",
      "Epoch 20/20\n",
      "13/13 [==============================] - 10s 788ms/step - loss: 0.0018 - accuracy: 1.0000 - val_loss: 1.0103 - val_accuracy: 0.7700\n",
      "\n",
      "Epoch 00020: saving model to models/keras/stf_no_weights_20.keras\n"
     ]
    }
   ],
   "source": [
    "tf.keras.backend.clear_session() \n",
    "model = get_model()\n",
    "model.compile(loss='categorical_crossentropy', optimizer='adam', metrics=['accuracy'])\n",
    "\n",
    "checkpointer = ModelCheckpoint(filepath=output_path/\"keras/stf_no_weights_{epoch:02d}.keras\",\n",
    "                               verbose=1, save_weights_only=True)\n",
    "\n",
    "hist =  model.fit(\n",
    "\tx=(X_train), y=(label),\n",
    "\tbatch_size=batch_size,\n",
    "\tepochs=epochs,\n",
    "\tvalidation_data=(X_val, val_label),\n",
    "\tcallbacks=[F1History((X_val,val_label_toTest)),\n",
    "               checkpointer])"
   ]
  },
  {
   "cell_type": "code",
   "execution_count": 100,
   "metadata": {},
   "outputs": [
    {
     "data": {
      "text/plain": [
       "[0.31507,\n",
       " 0.52038,\n",
       " 0.68149,\n",
       " 0.75978,\n",
       " 0.74356,\n",
       " 0.78499,\n",
       " 0.77454,\n",
       " 0.78344,\n",
       " 0.77472,\n",
       " 0.77945,\n",
       " 0.76979,\n",
       " 0.76991,\n",
       " 0.76942,\n",
       " 0.76963,\n",
       " 0.76429,\n",
       " 0.76942,\n",
       " 0.76998,\n",
       " 0.76963,\n",
       " 0.76991,\n",
       " 0.76991]"
      ]
     },
     "execution_count": 100,
     "metadata": {},
     "output_type": "execute_result"
    }
   ],
   "source": [
    "hist.history[\"F1_score_val\"]"
   ]
  },
  {
   "cell_type": "code",
   "execution_count": 101,
   "metadata": {},
   "outputs": [
    {
     "data": {
      "text/plain": [
       "6"
      ]
     },
     "execution_count": 101,
     "metadata": {},
     "output_type": "execute_result"
    }
   ],
   "source": [
    "best_epoch = np.argmax(hist.history[\"F1_score_val\"]) +1; best_epoch"
   ]
  },
  {
   "cell_type": "code",
   "execution_count": 105,
   "metadata": {},
   "outputs": [],
   "source": [
    "model.load_weights(output_path/f\"keras/stf_no_weights_{best_epoch:02d}.keras\")"
   ]
  },
  {
   "cell_type": "code",
   "execution_count": 106,
   "metadata": {},
   "outputs": [],
   "source": [
    "model.save_weights(output_path/\"stf_no_weights.keras\")"
   ]
  },
  {
   "cell_type": "code",
   "execution_count": 107,
   "metadata": {},
   "outputs": [
    {
     "name": "stdout",
     "output_type": "stream",
     "text": [
      "7/7 [==============================] - 1s 91ms/step\n",
      "              precision    recall  f1-score   support\n",
      "\n",
      "          SD     0.7290    0.8478    0.7839        92\n",
      "          ND     0.8495    0.7315    0.7861       108\n",
      "\n",
      "    accuracy                         0.7850       200\n",
      "   macro avg     0.7892    0.7897    0.7850       200\n",
      "weighted avg     0.7940    0.7850    0.7851       200\n",
      "\n"
     ]
    }
   ],
   "source": [
    "test_predict_1 = model.predict(X_val, verbose=1)\n",
    "pred_1 = test_predict_1.argmax(axis=1)\n",
    "\n",
    "target_names = ['SD','ND']\n",
    "print(classification_report(val_label_toTest, pred_1, target_names=target_names, digits=4))"
   ]
  },
  {
   "cell_type": "code",
   "execution_count": 108,
   "metadata": {},
   "outputs": [
    {
     "name": "stdout",
     "output_type": "stream",
     "text": [
      "9/9 [==============================] - 1s 90ms/step\n",
      "              precision    recall  f1-score   support\n",
      "\n",
      "          SD     0.8354    0.9133    0.8726       150\n",
      "          ND     0.8632    0.7523    0.8039       109\n",
      "\n",
      "    accuracy                         0.8456       259\n",
      "   macro avg     0.8493    0.8328    0.8383       259\n",
      "weighted avg     0.8471    0.8456    0.8437       259\n",
      "\n"
     ]
    }
   ],
   "source": [
    "test_predict_1 = model.predict(X_test, verbose=1)\n",
    "pred_1 = test_predict_1.argmax(axis=1)\n",
    "print(classification_report(test_label_toTest,\n",
    "                            pred_1, target_names=target_names, digits=4))"
   ]
  },
  {
   "cell_type": "code",
   "execution_count": 109,
   "metadata": {},
   "outputs": [],
   "source": [
    "# Convert Model into JSON Format\n",
    "model_json = model.to_json()\n",
    "\n",
    "with open(output_path/\"cnn_text.json\", \"w\") as json_file:\n",
    "   json_file.write(model_json)"
   ]
  },
  {
   "cell_type": "code",
   "execution_count": null,
   "metadata": {},
   "outputs": [],
   "source": []
  }
 ],
 "metadata": {
  "kernelspec": {
   "display_name": "tf2",
   "language": "python",
   "name": "tf2"
  },
  "language_info": {
   "codemirror_mode": {
    "name": "ipython",
    "version": 3
   },
   "file_extension": ".py",
   "mimetype": "text/x-python",
   "name": "python",
   "nbconvert_exporter": "python",
   "pygments_lexer": "ipython3",
   "version": "3.8.10"
  }
 },
 "nbformat": 4,
 "nbformat_minor": 4
}
