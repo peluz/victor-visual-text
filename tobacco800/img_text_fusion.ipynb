{
 "cells": [
  {
   "cell_type": "code",
   "execution_count": 1,
   "metadata": {},
   "outputs": [],
   "source": [
    "%load_ext autoreload\n",
    "%autoreload 2\n",
    "\n",
    "from fastai.text.all import *\n",
    "from fastai.vision.all import *\n",
    "import pandas as pd\n",
    "import torch\n",
    "from tqdm.notebook import tqdm\n",
    "from sklearn.metrics import classification_report"
   ]
  },
  {
   "cell_type": "code",
   "execution_count": 2,
   "metadata": {},
   "outputs": [],
   "source": [
    "seed = 42\n",
    "\n",
    "# python RNG\n",
    "import random\n",
    "random.seed(seed)\n",
    "\n",
    "# pytorch RNGs\n",
    "import torch\n",
    "torch.manual_seed(seed)\n",
    "torch.backends.cudnn.deterministic = True\n",
    "if torch.cuda.is_available(): torch.cuda.manual_seed_all(seed)\n",
    "\n",
    "# numpy RNG\n",
    "import numpy as np\n",
    "np.random.seed(seed)"
   ]
  },
  {
   "cell_type": "code",
   "execution_count": 22,
   "metadata": {},
   "outputs": [],
   "source": [
    "OUT_DIM=2"
   ]
  },
  {
   "cell_type": "code",
   "execution_count": 3,
   "metadata": {},
   "outputs": [],
   "source": [
    "torch.cuda.set_device(1)"
   ]
  },
  {
   "cell_type": "code",
   "execution_count": 4,
   "metadata": {},
   "outputs": [],
   "source": [
    "path = Path(\"./activations\")"
   ]
  },
  {
   "cell_type": "code",
   "execution_count": 5,
   "metadata": {},
   "outputs": [
    {
     "data": {
      "text/plain": [
       "(#1278) [Path('activations/img/val/FirstPage/qji44a00.pt'),Path('activations/img/val/FirstPage/sdm51f00.pt'),Path('activations/img/val/FirstPage/tji44a00.pt'),Path('activations/img/val/FirstPage/sia26d00.pt'),Path('activations/img/val/FirstPage/sks41a00.pt'),Path('activations/img/val/FirstPage/sfp41a00-page5_1.pt'),Path('activations/img/val/FirstPage/pzm00d00.pt'),Path('activations/img/val/FirstPage/thl51a00-page02_1.pt'),Path('activations/img/val/FirstPage/qit05f00-page2_20.pt'),Path('activations/img/val/FirstPage/qin54c00_1.pt')...]"
      ]
     },
     "execution_count": 5,
     "metadata": {},
     "output_type": "execute_result"
    }
   ],
   "source": [
    "img_files = get_files(path/\"img\"); img_files"
   ]
  },
  {
   "cell_type": "code",
   "execution_count": 6,
   "metadata": {},
   "outputs": [
    {
     "data": {
      "text/plain": [
       "(#1278) [Path('activations/text/val/FirstPage/sji44a00.npy'),Path('activations/text/val/FirstPage/rkc33a00-page02_1.npy'),Path('activations/text/val/FirstPage/qaw85f00.npy'),Path('activations/text/val/FirstPage/suh90a00.npy'),Path('activations/text/val/FirstPage/ran25f00.npy'),Path('activations/text/val/FirstPage/ply60e00.npy'),Path('activations/text/val/FirstPage/pkc56d00.npy'),Path('activations/text/val/FirstPage/rzo50e00.npy'),Path('activations/text/val/FirstPage/qxf80f00-page01_1.npy'),Path('activations/text/val/FirstPage/pvx38c00-page06_10.npy')...]"
      ]
     },
     "execution_count": 6,
     "metadata": {},
     "output_type": "execute_result"
    }
   ],
   "source": [
    "text_files = get_files(path/\"text\"); text_files"
   ]
  },
  {
   "cell_type": "code",
   "execution_count": 7,
   "metadata": {},
   "outputs": [
    {
     "data": {
      "text/plain": [
       "(1278, 1278)"
      ]
     },
     "execution_count": 7,
     "metadata": {},
     "output_type": "execute_result"
    }
   ],
   "source": [
    "len(img_files), len(text_files)"
   ]
  },
  {
   "cell_type": "code",
   "execution_count": 8,
   "metadata": {},
   "outputs": [],
   "source": [
    "train_csv = pd.read_csv(\"./data/train_fusion.csv\")\n",
    "val_csv = pd.read_csv(\"./data/val_fusion.csv\")\n",
    "test_csv = pd.read_csv(\"./data/test_fusion.csv\")"
   ]
  },
  {
   "cell_type": "code",
   "execution_count": 9,
   "metadata": {},
   "outputs": [],
   "source": [
    "train_csv[\"is_valid\"] = False\n",
    "val_csv[\"is_valid\"] = True\n",
    "data = pd.concat([train_csv, val_csv])"
   ]
  },
  {
   "cell_type": "code",
   "execution_count": 13,
   "metadata": {},
   "outputs": [],
   "source": [
    "class GetActs(Transform):\n",
    "    def encodes(self, x):    \n",
    "        embs = []\n",
    "        text_file = Path(x[\"activation_path\"] + \".npy\")\n",
    "        img_file = Path(text_file.as_posix().replace(\"text\", \"img\").replace(\"npy\", \"pt\"))\n",
    "        if img_file.exists(): \n",
    "#          print('found')\n",
    "            img_emb = torch.load(img_file)\n",
    "        else:\n",
    "            print('cannot found')\n",
    "            print(img_file)\n",
    "            img_emb = torch.zeros([4096])\n",
    "        text_emb = tensor(np.load(text_file))\n",
    "        return (img_emb, text_emb)"
   ]
  },
  {
   "cell_type": "code",
   "execution_count": 14,
   "metadata": {},
   "outputs": [],
   "source": [
    "# class GetActs(Transform):\n",
    "#     def encodes(self, x):        \n",
    "#         img_file = text_file = None\n",
    "        \n",
    "#         if x[\"has_text\"]:\n",
    "#             text_file = Path(x[\"activation_path\"] + \".npy\")\n",
    "#             if x[\"has_image\"]:\n",
    "#                 img_file = Path(text_file.as_posix().replace(\"text\", \"img\").replace(\"npy\", \"pt\"))\n",
    "#         else:\n",
    "#             img_file = Path(x[\"activation_path\"] + \".pt\")\n",
    "        \n",
    "#         if img_file is None:\n",
    "#             img_act = torch.zeros((4096))\n",
    "#         else:\n",
    "#             img_act = torch.load(img_file)\n",
    "                            \n",
    "#         if text_file is None:\n",
    "#             text_act = torch.zeros((3840))\n",
    "#             text_none = True\n",
    "#         else:\n",
    "#             text_act = tensor(np.load(text_file))\n",
    "        \n",
    "#         img_none = img_file == None\n",
    "#         text_none = text_file == None\n",
    "                            \n",
    "#         return (img_act, text_act, img_none, text_none)"
   ]
  },
  {
   "cell_type": "code",
   "execution_count": 15,
   "metadata": {},
   "outputs": [],
   "source": [
    "tfms = [[GetActs()], [ColReader(\"class\"), Categorize()]]\n",
    "splits = ColSplitter()(data)\n",
    "dsets = Datasets(data, tfms, splits=splits)\n",
    "dls = dsets.dataloaders()"
   ]
  },
  {
   "cell_type": "code",
   "execution_count": 16,
   "metadata": {},
   "outputs": [
    {
     "data": {
      "text/plain": [
       "((#819) [((TensorImage([0.5401, 1.4210, 1.5567,  ..., 0.0664, 0.0852, 0.1008]), tensor([0.0382, 0.0748, 0.0380,  ..., 0.0000, 0.0852, 0.0000])), TensorCategory(0)),((TensorImage([0.3286, 0.6557, 1.1641,  ..., 0.0486, 0.0315, 0.1749]), tensor([0.0206, 0.0280, 0.0178,  ..., 0.0000, 0.0852, 0.0000])), TensorCategory(1)),((TensorImage([0.7914, 1.7443, 2.2198,  ..., 0.0976, 0.0466, 0.0242]), tensor([0.0393, 0.0601, 0.0385,  ..., 0.0541, 0.0855, 0.1106])), TensorCategory(0)),((TensorImage([0.4776, 0.3866, 0.8470,  ..., 0.0112, 0.0985, 0.1097]), tensor([0.0320, 0.0779, 0.0311,  ..., 0.0000, 0.0852, 0.0000])), TensorCategory(0)),((TensorImage([1.0748, 1.4416, 0.6812,  ..., 0.1042, 0.0102, 0.3972]), tensor([0.0190, 0.0571, 0.0499,  ..., 0.0000, 0.0852, 0.0000])), TensorCategory(1)),((TensorImage([1.6522, 2.1665, 0.8193,  ..., 0.0739, 0.0450, 0.4636]), tensor([0.0621, 0.0297, 0.0177,  ..., 0.0000, 0.0852, 0.0000])), TensorCategory(0)),((TensorImage([0.3560, 0.5303, 0.9616,  ..., 0.0529, 0.1349, 0.0432]), tensor([0.0601, 0.0651, 0.0456,  ..., 0.0575, 0.0892, 0.0291])), TensorCategory(0)),((TensorImage([0.6640, 1.1680, 1.2857,  ..., 0.0265, 0.1929, 0.0000]), tensor([0.0496, 0.0784, 0.0453,  ..., 0.0000, 0.0852, 0.0000])), TensorCategory(0)),((TensorImage([0.8240, 1.9598, 1.1430,  ..., 0.0222, 0.1441, 0.0135]), tensor([0.0733, 0.0420, 0.0402,  ..., 0.0000, 0.0852, 0.0000])), TensorCategory(1)),((TensorImage([0.3442, 1.1240, 1.4803,  ..., 0.0312, 0.0853, 0.0464]), tensor([0.0496, 0.0784, 0.0453,  ..., 0.0000, 0.0852, 0.0000])), TensorCategory(0))...],\n",
       " (#200) [((TensorImage([1.4047, 2.6995, 0.6978,  ..., 0.0953, 0.0076, 0.6522]), tensor([0.0347, 0.0379, 0.0273,  ..., 0.0000, 0.0852, 0.0000])), TensorCategory(0)),((TensorImage([0.3633, 1.0860, 0.9139,  ..., 0.0531, 0.1248, 0.0025]), tensor([0.0339, 0.0480, 0.0287,  ..., 0.0000, 0.0852, 0.0000])), TensorCategory(0)),((TensorImage([1.4884, 2.7642, 0.9476,  ..., 0.0482, 0.0105, 0.5831]), tensor([0.0409, 0.1110, 0.0597,  ..., 0.0000, 0.0852, 0.0000])), TensorCategory(0)),((TensorImage([0.4170, 0.2493, 1.1486,  ..., 0.0783, 0.0557, 0.0000]), tensor([0.0474, 0.0564, 0.0317,  ..., 0.0000, 0.0852, 0.0000])), TensorCategory(0)),((TensorImage([0.5827, 0.9801, 1.0865,  ..., 0.0353, 0.0306, 0.1804]), tensor([0.0958, 0.0428, 0.0515,  ..., 0.0000, 0.0852, 0.0000])), TensorCategory(1)),((TensorImage([0.5729, 0.8918, 0.9866,  ..., 0.0196, 0.0473, 0.1357]), tensor([0.0958, 0.0477, 0.0514,  ..., 0.0000, 0.0852, 0.0000])), TensorCategory(1)),((TensorImage([1.6462, 3.4189, 1.6296,  ..., 0.3061, 0.1047, 0.4551]), tensor([0.0958, 0.0366, 0.0195,  ..., 0.0000, 0.0852, 0.0000])), TensorCategory(1)),((TensorImage([1.4098, 2.6668, 0.4069,  ..., 0.0237, 0.1280, 0.5981]), tensor([0.0504, 0.0621, 0.0332,  ..., 0.0000, 0.0852, 0.0000])), TensorCategory(0)),((TensorImage([0.7963, 1.9898, 1.4350,  ..., 0.2325, 0.1110, 0.0070]), tensor([0.0475, 0.0485, 0.0295,  ..., 0.0000, 0.0852, 0.0000])), TensorCategory(0)),((TensorImage([0.4551, 0.4175, 0.8974,  ..., 0.0790, 0.0301, 0.0721]), tensor([0.0399, 0.0865, 0.0394,  ..., 0.0000, 0.0852, 0.0000])), TensorCategory(0))...])"
      ]
     },
     "execution_count": 16,
     "metadata": {},
     "output_type": "execute_result"
    }
   ],
   "source": [
    "dls.train_ds, dls.valid_ds"
   ]
  },
  {
   "cell_type": "code",
   "execution_count": 17,
   "metadata": {},
   "outputs": [],
   "source": [
    "torch.save(dls, \"./data/fusion_dl_tobacco.pth\")"
   ]
  },
  {
   "cell_type": "code",
   "execution_count": 18,
   "metadata": {},
   "outputs": [],
   "source": [
    "dls = torch.load(\"./data/fusion_dl_tobacco.pth\")"
   ]
  },
  {
   "cell_type": "code",
   "execution_count": 19,
   "metadata": {},
   "outputs": [],
   "source": [
    "class ImgTextFusion(Module):\n",
    "    def __init__(self, head, img_emb_dim=4096, text_emb_dim=3840):\n",
    "        self.head = head.cuda()\n",
    "    \n",
    "    def forward(self, x):\n",
    "        img_act, text_act = x\n",
    "        return self.head(torch.cat([img_act, text_act], axis=-1))"
   ]
  },
  {
   "cell_type": "code",
   "execution_count": 20,
   "metadata": {},
   "outputs": [],
   "source": [
    "def create_head(nf, n_out, lin_ftrs=None, ps=0.5, bn_final=False, lin_first=False):\n",
    "    \"Model head that takes `nf` features, runs through `lin_ftrs`, and out `n_out` classes.\"\n",
    "    lin_ftrs = [nf, 512, n_out] if lin_ftrs is None else [nf] + lin_ftrs + [n_out]\n",
    "    ps = L(ps)\n",
    "    if len(ps) == 1: ps = [ps[0]/2] * (len(lin_ftrs)-2) + ps\n",
    "    actns = [nn.ReLU(inplace=True)] * (len(lin_ftrs)-2) + [None]\n",
    "    layers = []\n",
    "    if lin_first: layers.append(nn.Dropout(ps.pop(0)))\n",
    "    for ni,no,p,actn in zip(lin_ftrs[:-1], lin_ftrs[1:], ps, actns):\n",
    "        layers += LinBnDrop(ni, no, bn=True, p=p, act=actn, lin_first=lin_first)\n",
    "    if lin_first: layers.append(nn.Linear(lin_ftrs[-2], n_out))\n",
    "    if bn_final: layers.append(c)\n",
    "    return nn.Sequential(*layers)"
   ]
  },
  {
   "cell_type": "code",
   "execution_count": 25,
   "metadata": {},
   "outputs": [],
   "source": [
    "def loss_func(out, targ):\n",
    "    return CrossEntropyLossFlat()(out, targ.long())"
   ]
  },
  {
   "cell_type": "code",
   "execution_count": 26,
   "metadata": {},
   "outputs": [],
   "source": [
    "fscore = F1Score(average='macro')"
   ]
  },
  {
   "cell_type": "code",
   "execution_count": 31,
   "metadata": {},
   "outputs": [],
   "source": [
    "head = create_head(4096 + 3840, OUT_DIM, lin_ftrs=[128])"
   ]
  },
  {
   "cell_type": "code",
   "execution_count": 32,
   "metadata": {},
   "outputs": [],
   "source": [
    "model = ImgTextFusion(head)"
   ]
  },
  {
   "cell_type": "code",
   "execution_count": 33,
   "metadata": {},
   "outputs": [],
   "source": [
    "learn = Learner(dls, model, loss_func=loss_func, metrics=[accuracy, fscore])"
   ]
  },
  {
   "cell_type": "code",
   "execution_count": 34,
   "metadata": {},
   "outputs": [],
   "source": [
    "learn.add_cbs([SaveModelCallback(monitor='f1_score', fname='best_fusion_128_moreEpochs_tobacco'),\n",
    "                                       ShowGraphCallback()])"
   ]
  },
  {
   "cell_type": "code",
   "execution_count": 35,
   "metadata": {},
   "outputs": [
    {
     "data": {
      "text/html": [],
      "text/plain": [
       "<IPython.core.display.HTML object>"
      ]
     },
     "metadata": {},
     "output_type": "display_data"
    },
    {
     "data": {
      "text/plain": [
       "SuggestedLRs(lr_min=0.06309573650360108, lr_steep=3.630780702224001e-05)"
      ]
     },
     "execution_count": 35,
     "metadata": {},
     "output_type": "execute_result"
    },
    {
     "data": {
      "image/png": "[encoded data removed]",
      "text/plain": [
       "<Figure size 432x288 with 1 Axes>"
      ]
     },
     "metadata": {
      "needs_background": "light"
     },
     "output_type": "display_data"
    }
   ],
   "source": [
    "learn.lr_find()"
   ]
  },
  {
   "cell_type": "code",
   "execution_count": 36,
   "metadata": {},
   "outputs": [
    {
     "data": {
      "text/html": [
       "<table border=\"1\" class=\"dataframe\">\n",
       "  <thead>\n",
       "    <tr style=\"text-align: left;\">\n",
       "      <th>epoch</th>\n",
       "      <th>train_loss</th>\n",
       "      <th>valid_loss</th>\n",
       "      <th>accuracy</th>\n",
       "      <th>f1_score</th>\n",
       "      <th>time</th>\n",
       "    </tr>\n",
       "  </thead>\n",
       "  <tbody>\n",
       "    <tr>\n",
       "      <td>0</td>\n",
       "      <td>0.181887</td>\n",
       "      <td>0.574807</td>\n",
       "      <td>0.755000</td>\n",
       "      <td>0.753217</td>\n",
       "      <td>00:01</td>\n",
       "    </tr>\n",
       "    <tr>\n",
       "      <td>1</td>\n",
       "      <td>0.105349</td>\n",
       "      <td>0.543806</td>\n",
       "      <td>0.785000</td>\n",
       "      <td>0.784866</td>\n",
       "      <td>00:01</td>\n",
       "    </tr>\n",
       "    <tr>\n",
       "      <td>2</td>\n",
       "      <td>0.073627</td>\n",
       "      <td>0.773029</td>\n",
       "      <td>0.730000</td>\n",
       "      <td>0.725359</td>\n",
       "      <td>00:01</td>\n",
       "    </tr>\n",
       "    <tr>\n",
       "      <td>3</td>\n",
       "      <td>0.062088</td>\n",
       "      <td>0.695150</td>\n",
       "      <td>0.755000</td>\n",
       "      <td>0.754847</td>\n",
       "      <td>00:01</td>\n",
       "    </tr>\n",
       "    <tr>\n",
       "      <td>4</td>\n",
       "      <td>0.050244</td>\n",
       "      <td>0.700677</td>\n",
       "      <td>0.700000</td>\n",
       "      <td>0.698068</td>\n",
       "      <td>00:01</td>\n",
       "    </tr>\n",
       "    <tr>\n",
       "      <td>5</td>\n",
       "      <td>0.050136</td>\n",
       "      <td>0.982550</td>\n",
       "      <td>0.765000</td>\n",
       "      <td>0.764994</td>\n",
       "      <td>00:01</td>\n",
       "    </tr>\n",
       "    <tr>\n",
       "      <td>6</td>\n",
       "      <td>0.039359</td>\n",
       "      <td>0.785321</td>\n",
       "      <td>0.755000</td>\n",
       "      <td>0.754700</td>\n",
       "      <td>00:01</td>\n",
       "    </tr>\n",
       "    <tr>\n",
       "      <td>7</td>\n",
       "      <td>0.038128</td>\n",
       "      <td>0.903872</td>\n",
       "      <td>0.760000</td>\n",
       "      <td>0.759784</td>\n",
       "      <td>00:01</td>\n",
       "    </tr>\n",
       "    <tr>\n",
       "      <td>8</td>\n",
       "      <td>0.040919</td>\n",
       "      <td>1.046441</td>\n",
       "      <td>0.740000</td>\n",
       "      <td>0.739766</td>\n",
       "      <td>00:01</td>\n",
       "    </tr>\n",
       "    <tr>\n",
       "      <td>9</td>\n",
       "      <td>0.039659</td>\n",
       "      <td>0.813097</td>\n",
       "      <td>0.760000</td>\n",
       "      <td>0.759976</td>\n",
       "      <td>00:01</td>\n",
       "    </tr>\n",
       "    <tr>\n",
       "      <td>10</td>\n",
       "      <td>0.037853</td>\n",
       "      <td>0.855538</td>\n",
       "      <td>0.765000</td>\n",
       "      <td>0.764994</td>\n",
       "      <td>00:01</td>\n",
       "    </tr>\n",
       "    <tr>\n",
       "      <td>11</td>\n",
       "      <td>0.035053</td>\n",
       "      <td>1.053358</td>\n",
       "      <td>0.760000</td>\n",
       "      <td>0.760000</td>\n",
       "      <td>00:01</td>\n",
       "    </tr>\n",
       "    <tr>\n",
       "      <td>12</td>\n",
       "      <td>0.032353</td>\n",
       "      <td>1.089596</td>\n",
       "      <td>0.730000</td>\n",
       "      <td>0.729757</td>\n",
       "      <td>00:01</td>\n",
       "    </tr>\n",
       "    <tr>\n",
       "      <td>13</td>\n",
       "      <td>0.032043</td>\n",
       "      <td>0.947244</td>\n",
       "      <td>0.770000</td>\n",
       "      <td>0.769908</td>\n",
       "      <td>00:01</td>\n",
       "    </tr>\n",
       "    <tr>\n",
       "      <td>14</td>\n",
       "      <td>0.038912</td>\n",
       "      <td>0.807436</td>\n",
       "      <td>0.755000</td>\n",
       "      <td>0.754945</td>\n",
       "      <td>00:01</td>\n",
       "    </tr>\n",
       "    <tr>\n",
       "      <td>15</td>\n",
       "      <td>0.036065</td>\n",
       "      <td>0.992212</td>\n",
       "      <td>0.760000</td>\n",
       "      <td>0.760000</td>\n",
       "      <td>00:01</td>\n",
       "    </tr>\n",
       "    <tr>\n",
       "      <td>16</td>\n",
       "      <td>0.033369</td>\n",
       "      <td>0.971449</td>\n",
       "      <td>0.770000</td>\n",
       "      <td>0.769977</td>\n",
       "      <td>00:01</td>\n",
       "    </tr>\n",
       "    <tr>\n",
       "      <td>17</td>\n",
       "      <td>0.029679</td>\n",
       "      <td>0.926051</td>\n",
       "      <td>0.765000</td>\n",
       "      <td>0.764947</td>\n",
       "      <td>00:01</td>\n",
       "    </tr>\n",
       "    <tr>\n",
       "      <td>18</td>\n",
       "      <td>0.026500</td>\n",
       "      <td>0.930624</td>\n",
       "      <td>0.770000</td>\n",
       "      <td>0.769977</td>\n",
       "      <td>00:01</td>\n",
       "    </tr>\n",
       "    <tr>\n",
       "      <td>19</td>\n",
       "      <td>0.022147</td>\n",
       "      <td>0.945285</td>\n",
       "      <td>0.770000</td>\n",
       "      <td>0.769977</td>\n",
       "      <td>00:01</td>\n",
       "    </tr>\n",
       "  </tbody>\n",
       "</table>"
      ],
      "text/plain": [
       "<IPython.core.display.HTML object>"
      ]
     },
     "metadata": {},
     "output_type": "display_data"
    },
    {
     "name": "stdout",
     "output_type": "stream",
     "text": [
      "Better model found at epoch 0 with f1_score value: 0.7532169927727833.\n"
     ]
    },
    {
     "data": {
      "image/png": "[encoded data removed]",
      "text/plain": [
       "<Figure size 432x288 with 1 Axes>"
      ]
     },
     "metadata": {},
     "output_type": "display_data"
    },
    {
     "name": "stdout",
     "output_type": "stream",
     "text": [
      "Better model found at epoch 1 with f1_score value: 0.784865540963102.\n"
     ]
    }
   ],
   "source": [
    "learn.fit_one_cycle(20, lr_max=1e-2)"
   ]
  },
  {
   "cell_type": "code",
   "execution_count": 37,
   "metadata": {},
   "outputs": [
    {
     "data": {
      "text/plain": [
       "<fastai.learner.Learner at 0x7f4b84bcbac0>"
      ]
     },
     "execution_count": 37,
     "metadata": {},
     "output_type": "execute_result"
    }
   ],
   "source": [
    "learn.load(\"best_fusion_128_moreEpochs_tobacco\")"
   ]
  },
  {
   "cell_type": "code",
   "execution_count": 42,
   "metadata": {},
   "outputs": [
    {
     "data": {
      "text/html": [],
      "text/plain": [
       "<IPython.core.display.HTML object>"
      ]
     },
     "metadata": {},
     "output_type": "display_data"
    },
    {
     "name": "stdout",
     "output_type": "stream",
     "text": [
      "              precision    recall  f1-score   support\n",
      "\n",
      "   FirstPage     0.9506    0.9737    0.9620       494\n",
      "    NextPage     0.9585    0.9231    0.9404       325\n",
      "\n",
      "    accuracy                         0.9536       819\n",
      "   macro avg     0.9545    0.9484    0.9512       819\n",
      "weighted avg     0.9537    0.9536    0.9534       819\n",
      "\n"
     ]
    }
   ],
   "source": [
    "preds, targets = learn.get_preds(ds_idx=0)\n",
    "preds = np.argmax(preds, axis=1)\n",
    "print(classification_report(targets, preds, target_names=dls.vocab, digits=4))"
   ]
  },
  {
   "cell_type": "code",
   "execution_count": 38,
   "metadata": {},
   "outputs": [
    {
     "data": {
      "text/html": [],
      "text/plain": [
       "<IPython.core.display.HTML object>"
      ]
     },
     "metadata": {},
     "output_type": "display_data"
    },
    {
     "name": "stdout",
     "output_type": "stream",
     "text": [
      "              precision    recall  f1-score   support\n",
      "\n",
      "   FirstPage     0.7168    0.8804    0.7902        92\n",
      "    NextPage     0.8736    0.7037    0.7795       108\n",
      "\n",
      "    accuracy                         0.7850       200\n",
      "   macro avg     0.7952    0.7921    0.7849       200\n",
      "weighted avg     0.8015    0.7850    0.7844       200\n",
      "\n"
     ]
    }
   ],
   "source": [
    "preds, targets = learn.get_preds()\n",
    "preds = np.argmax(preds, axis=1)\n",
    "print(classification_report(targets, preds, target_names=dls.vocab, digits=4))"
   ]
  },
  {
   "cell_type": "code",
   "execution_count": 40,
   "metadata": {},
   "outputs": [],
   "source": [
    "test_dl = dls.test_dl(test_csv, with_labels=True)"
   ]
  },
  {
   "cell_type": "code",
   "execution_count": 41,
   "metadata": {},
   "outputs": [
    {
     "data": {
      "text/html": [],
      "text/plain": [
       "<IPython.core.display.HTML object>"
      ]
     },
     "metadata": {},
     "output_type": "display_data"
    },
    {
     "name": "stdout",
     "output_type": "stream",
     "text": [
      "              precision    recall  f1-score   support\n",
      "\n",
      "   FirstPage     0.8430    0.9667    0.9006       150\n",
      "    NextPage     0.9425    0.7523    0.8367       109\n",
      "\n",
      "    accuracy                         0.8764       259\n",
      "   macro avg     0.8928    0.8595    0.8687       259\n",
      "weighted avg     0.8849    0.8764    0.8737       259\n",
      "\n"
     ]
    }
   ],
   "source": [
    "preds, targets = learn.get_preds(dl=test_dl)\n",
    "preds = np.argmax(preds, axis=1)\n",
    "print(classification_report(targets, preds, target_names=dls.vocab, digits=4))"
   ]
  },
  {
   "cell_type": "code",
   "execution_count": null,
   "metadata": {},
   "outputs": [],
   "source": []
  }
 ],
 "metadata": {
  "kernelspec": {
   "display_name": "fastai2",
   "language": "python",
   "name": "fastai2"
  },
  "language_info": {
   "codemirror_mode": {
    "name": "ipython",
    "version": 3
   },
   "file_extension": ".py",
   "mimetype": "text/x-python",
   "name": "python",
   "nbconvert_exporter": "python",
   "pygments_lexer": "ipython3",
   "version": "3.8.10"
  }
 },
 "nbformat": 4,
 "nbformat_minor": 4
}
