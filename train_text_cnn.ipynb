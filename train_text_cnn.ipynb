{
 "cells": [
  {
   "cell_type": "code",
   "execution_count": 1,
   "metadata": {},
   "outputs": [],
   "source": [
    "import os\n",
    "from os import walk\n",
    "from os.path import join, split, splitext\n",
    "from sklearn.preprocessing import LabelEncoder\n",
    "from sklearn.metrics import classification_report, confusion_matrix, accuracy_score, f1_score\n",
    "import argparse\n",
    "import json\n",
    "import numpy as np\n",
    "import pandas as pd\n",
    "\n",
    "# backend\n",
    "import tensorflow as tf\n",
    "from tensorflow.keras import backend as K\n",
    "\n",
    "from tensorflow.keras.layers import Input, Dense, Embedding, Flatten, Conv1D, MaxPooling1D, concatenate, Concatenate, BatchNormalization, Dropout\n",
    "from tensorflow.keras.models import Model, Sequential, model_from_json\n",
    "\n",
    "from tensorflow.keras.optimizers import SGD, RMSprop\n",
    "from tensorflow.keras.callbacks import TensorBoard, ModelCheckpoint, EarlyStopping, LambdaCallback\n",
    "from tensorflow.keras.utils import to_categorical\n",
    "from tensorflow.keras.applications import ResNet50\n",
    "from tensorflow.keras.preprocessing.image import ImageDataGenerator\n",
    " \n",
    "from sklearn.utils import class_weight\n",
    "\n",
    "from tensorflow.keras.preprocessing import sequence\n",
    "from tensorflow.keras.preprocessing.text import Tokenizer\n",
    "import pickle\n",
    "from tqdm import trange\n",
    "\n",
    "from pathlib import Path"
   ]
  },
  {
   "cell_type": "code",
   "execution_count": 2,
   "metadata": {},
   "outputs": [],
   "source": [
    "seed = 42\n",
    "\n",
    "# python RNG\n",
    "import random\n",
    "random.seed(seed)\n",
    "\n",
    "# pytorch RNGs\n",
    "import torch\n",
    "torch.manual_seed(seed)\n",
    "torch.backends.cudnn.deterministic = True\n",
    "if torch.cuda.is_available(): torch.cuda.manual_seed_all(seed)\n",
    "\n",
    "# numpy RNG\n",
    "import numpy as np\n",
    "np.random.seed(seed)\n",
    "\n",
    "# tensorflow RNG\n",
    "tf.random.set_seed(seed)"
   ]
  },
  {
   "cell_type": "code",
   "execution_count": 3,
   "metadata": {},
   "outputs": [],
   "source": [
    "nClasses = 6\n",
    "batch_size = 64\n",
    "epochs = 20\n",
    "\n",
    "MAX_FEATURES = 70000  # Size of vocabulary\n",
    "EMBEDDING_DIM = MAX_FEATURES  # Size of vocabulary\n",
    "SEQUENCE_LEN = 500 # Size of input arrays\n",
    "EMBEDDING_OUT = 100  # Output dim of embedding"
   ]
  },
  {
   "cell_type": "code",
   "execution_count": 4,
   "metadata": {},
   "outputs": [],
   "source": [
    "output_path = Path(\"./models\")"
   ]
  },
  {
   "cell_type": "code",
   "execution_count": 5,
   "metadata": {},
   "outputs": [],
   "source": [
    "data_path = Path(\"/mnt/nas/backups/08-07-2020/desktopg01/lisa/Data/CSV\")"
   ]
  },
  {
   "cell_type": "code",
   "execution_count": 6,
   "metadata": {},
   "outputs": [],
   "source": [
    "train = pd.read_csv(data_path/\"train_small.csv\", usecols=['document_type', 'body'])\n",
    "val = pd.read_csv(data_path/\"validation_small.csv\", usecols=['document_type', 'body'])\n",
    "test_data = pd.read_csv(data_path/\"test_small.csv\", usecols=['document_type', 'body'])"
   ]
  },
  {
   "cell_type": "code",
   "execution_count": 7,
   "metadata": {},
   "outputs": [],
   "source": [
    "tokenizer = Tokenizer(num_words=MAX_FEATURES)\n",
    "tokenizer.fit_on_texts(train['body'])\n",
    "with open(join(output_path, 'tokenizer.pickle'), 'wb') as handle:\n",
    "    pickle.dump(tokenizer, handle, protocol=pickle.HIGHEST_PROTOCOL)\n",
    "sequences_train = tokenizer.texts_to_sequences(train['body'])\n",
    "sequences_validation = tokenizer.texts_to_sequences(val['body'])\n",
    "sequences_test = tokenizer.texts_to_sequences(test_data['body'])"
   ]
  },
  {
   "cell_type": "code",
   "execution_count": 8,
   "metadata": {},
   "outputs": [],
   "source": [
    "X_train = sequence.pad_sequences(sequences_train, maxlen=SEQUENCE_LEN, padding='post')\n",
    "X_val = sequence.pad_sequences(sequences_validation, maxlen=SEQUENCE_LEN, padding='post')\n",
    "X_test = sequence.pad_sequences(sequences_test, maxlen=SEQUENCE_LEN, padding='post')"
   ]
  },
  {
   "cell_type": "code",
   "execution_count": 9,
   "metadata": {},
   "outputs": [
    {
     "name": "stderr",
     "output_type": "stream",
     "text": [
      "/mnt/home/peluz/victor-visual-text/fastai2/lib/python3.8/site-packages/sklearn/utils/validation.py:67: FutureWarning: Pass classes=[0 1 2 3 4 5], y=[3 3 3 ... 3 3 3] as keyword args. From version 0.25 passing these as positional arguments will result in an error\n",
      "  warnings.warn(\"Pass {} as keyword args. From version 0.25 \"\n"
     ]
    }
   ],
   "source": [
    "encoder = LabelEncoder()\n",
    " \n",
    "label = train['document_type']\n",
    "label = encoder.fit_transform(label)\n",
    "\n",
    "class_weights = class_weight.compute_class_weight('balanced',\n",
    "                                                 np.unique(label),\n",
    "                                                 label)\n",
    "label = np.transpose(label)\n",
    "label = to_categorical(label)\n",
    "\n",
    "val_label = val['document_type'] \n",
    "val_label_toTest = encoder.transform(val_label)\n",
    "val_label = np.transpose(val_label_toTest)\n",
    "val_label = to_categorical(val_label)\n",
    "\n",
    "test_label = test_data['document_type']\n",
    "test_label_toTest = encoder.transform(test_label)\n",
    "test_label = np.transpose(test_label_toTest)\n",
    "test_label = to_categorical(test_label)"
   ]
  },
  {
   "cell_type": "code",
   "execution_count": 10,
   "metadata": {},
   "outputs": [
    {
     "data": {
      "text/plain": [
       "(array(['acordao_de_2_instancia', 'agravo_em_recurso_extraordinario',\n",
       "        'despacho_de_admissibilidade', 'outros', 'peticao_do_RE',\n",
       "        'sentenca'], dtype=object),\n",
       " array([44.97197107,  9.76806756, 71.87716763,  0.18540788,  2.61536439,\n",
       "        11.68130578]))"
      ]
     },
     "execution_count": 10,
     "metadata": {},
     "output_type": "execute_result"
    }
   ],
   "source": [
    "encoder.classes_, class_weights"
   ]
  },
  {
   "cell_type": "code",
   "execution_count": 11,
   "metadata": {},
   "outputs": [],
   "source": [
    "class F1History(tf.keras.callbacks.Callback):\n",
    "\n",
    "    def __init__(self, validation):\n",
    "        super(F1History, self).__init__()\n",
    "        self.validation = validation\n",
    "        \n",
    "    def on_epoch_end(self, epoch, logs={}):\n",
    "        logs['F1_score_val'] = float('-inf')\n",
    "        X_valid, y_valid = self.validation[0], self.validation[1]\n",
    "        y_val_pred = self.model.predict(X_valid).argmax(axis=1)\n",
    "        val_score = f1_score(y_valid, y_val_pred, average=\"macro\")\n",
    "        logs['F1_score_val'] = np.round(val_score, 5)"
   ]
  },
  {
   "cell_type": "code",
   "execution_count": 20,
   "metadata": {},
   "outputs": [],
   "source": [
    "def get_model():\n",
    "    f1_base = Input(shape=(SEQUENCE_LEN, ), dtype='int32')\n",
    "    text_embedding = Embedding(input_dim=MAX_FEATURES, output_dim=EMBEDDING_OUT,\n",
    "                               input_length=SEQUENCE_LEN)(f1_base)\n",
    "\n",
    "    filter_sizes = [3, 4, 5]\n",
    "    convs = []\n",
    "    for filter_size in filter_sizes:\n",
    "        l_conv = Conv1D(filters=256, kernel_size=filter_size, padding='same', activation='relu')(text_embedding)\n",
    "        l_batch = BatchNormalization()(l_conv)\n",
    "        l_pool = MaxPooling1D(2)(l_conv)\n",
    "\n",
    "        convs.append(l_pool)\n",
    "\n",
    "    l_merge = Concatenate(axis=1)(convs)\n",
    "    l_pool1 = MaxPooling1D(50)(l_merge)\n",
    "    l_flat = Flatten()(l_pool1)\n",
    "    l_dense = Dense(128, activation='relu')(l_flat)\n",
    "    x = Dropout(0.5)(l_dense)\n",
    "    x = Dense(nClasses, activation='softmax')(x)\n",
    "    return Model(inputs=f1_base, outputs=x)"
   ]
  },
  {
   "cell_type": "code",
   "execution_count": 13,
   "metadata": {},
   "outputs": [],
   "source": [
    "X_train = np.array(X_train)\n",
    "X_val = np.array(X_val)\n",
    "X_test = np.array(X_test)"
   ]
  },
  {
   "cell_type": "code",
   "execution_count": null,
   "metadata": {},
   "outputs": [
    {
     "name": "stdout",
     "output_type": "stream",
     "text": [
      "Epoch 1/20\n",
      "2332/2332 [==============================] - ETA: 0s - loss: 0.8955 - accuracy: 0.6088\n",
      "Epoch 00001: saving model to models/keras/stf_weights_01.keras\n",
      "2332/2332 [==============================] - 250s 107ms/step - loss: 0.8955 - accuracy: 0.6088 - val_loss: 0.6604 - val_accuracy: 0.7547\n",
      "Epoch 2/20\n",
      "2332/2332 [==============================] - ETA: 0s - loss: 0.3827 - accuracy: 0.7918\n",
      "Epoch 00002: saving model to models/keras/stf_weights_02.keras\n",
      "2332/2332 [==============================] - 251s 108ms/step - loss: 0.3827 - accuracy: 0.7918 - val_loss: 0.6500 - val_accuracy: 0.7587\n",
      "Epoch 3/20\n",
      "2332/2332 [==============================] - ETA: 0s - loss: 0.2365 - accuracy: 0.8408\n",
      "Epoch 00003: saving model to models/keras/stf_weights_03.keras\n",
      "2332/2332 [==============================] - 250s 107ms/step - loss: 0.2365 - accuracy: 0.8408 - val_loss: 0.5602 - val_accuracy: 0.7957\n",
      "Epoch 4/20\n",
      "2332/2332 [==============================] - ETA: 0s - loss: 0.2058 - accuracy: 0.8611\n",
      "Epoch 00004: saving model to models/keras/stf_weights_04.keras\n",
      "2332/2332 [==============================] - 250s 107ms/step - loss: 0.2058 - accuracy: 0.8611 - val_loss: 0.5052 - val_accuracy: 0.8440\n",
      "Epoch 5/20\n",
      "2332/2332 [==============================] - ETA: 0s - loss: 0.1909 - accuracy: 0.8715\n",
      "Epoch 00005: saving model to models/keras/stf_weights_05.keras\n",
      "2332/2332 [==============================] - 250s 107ms/step - loss: 0.1909 - accuracy: 0.8715 - val_loss: 0.5015 - val_accuracy: 0.8472\n",
      "Epoch 6/20\n",
      "2332/2332 [==============================] - ETA: 0s - loss: 0.1448 - accuracy: 0.8907\n",
      "Epoch 00006: saving model to models/keras/stf_weights_06.keras\n",
      "2332/2332 [==============================] - 249s 107ms/step - loss: 0.1448 - accuracy: 0.8907 - val_loss: 0.6343 - val_accuracy: 0.8365\n",
      "Epoch 7/20\n",
      "2332/2332 [==============================] - ETA: 0s - loss: 0.1750 - accuracy: 0.8905\n",
      "Epoch 00007: saving model to models/keras/stf_weights_07.keras\n",
      "2332/2332 [==============================] - 252s 108ms/step - loss: 0.1750 - accuracy: 0.8905 - val_loss: 0.5667 - val_accuracy: 0.8554\n",
      "Epoch 8/20\n",
      "2332/2332 [==============================] - ETA: 0s - loss: 0.1612 - accuracy: 0.8965\n",
      "Epoch 00008: saving model to models/keras/stf_weights_08.keras\n",
      "2332/2332 [==============================] - 253s 108ms/step - loss: 0.1612 - accuracy: 0.8965 - val_loss: 0.6254 - val_accuracy: 0.8809\n",
      "Epoch 9/20\n",
      "2332/2332 [==============================] - ETA: 0s - loss: 0.1245 - accuracy: 0.9098\n",
      "Epoch 00009: saving model to models/keras/stf_weights_09.keras\n",
      "2332/2332 [==============================] - 252s 108ms/step - loss: 0.1245 - accuracy: 0.9098 - val_loss: 0.6728 - val_accuracy: 0.8725\n",
      "Epoch 10/20\n",
      "2332/2332 [==============================] - ETA: 0s - loss: 0.1826 - accuracy: 0.9021\n",
      "Epoch 00010: saving model to models/keras/stf_weights_10.keras\n",
      "2332/2332 [==============================] - 253s 108ms/step - loss: 0.1826 - accuracy: 0.9021 - val_loss: 0.6197 - val_accuracy: 0.8609\n",
      "Epoch 11/20\n",
      "2332/2332 [==============================] - ETA: 0s - loss: 0.1301 - accuracy: 0.9127\n",
      "Epoch 00011: saving model to models/keras/stf_weights_11.keras\n",
      "2332/2332 [==============================] - 251s 108ms/step - loss: 0.1301 - accuracy: 0.9127 - val_loss: 0.5917 - val_accuracy: 0.8866\n",
      "Epoch 12/20\n",
      "2332/2332 [==============================] - ETA: 0s - loss: 0.1617 - accuracy: 0.9090\n",
      "Epoch 00012: saving model to models/keras/stf_weights_12.keras\n",
      "2332/2332 [==============================] - 252s 108ms/step - loss: 0.1617 - accuracy: 0.9090 - val_loss: 0.7038 - val_accuracy: 0.8685\n",
      "Epoch 13/20\n",
      "2332/2332 [==============================] - ETA: 0s - loss: 0.1716 - accuracy: 0.9125\n",
      "Epoch 00013: saving model to models/keras/stf_weights_13.keras\n",
      "2332/2332 [==============================] - 255s 109ms/step - loss: 0.1716 - accuracy: 0.9125 - val_loss: 0.7159 - val_accuracy: 0.8590\n",
      "Epoch 14/20\n",
      "2332/2332 [==============================] - ETA: 0s - loss: 0.1423 - accuracy: 0.9147\n",
      "Epoch 00014: saving model to models/keras/stf_weights_14.keras\n",
      "2332/2332 [==============================] - 253s 108ms/step - loss: 0.1423 - accuracy: 0.9147 - val_loss: 0.7310 - val_accuracy: 0.8840\n",
      "Epoch 15/20\n",
      "2332/2332 [==============================] - ETA: 0s - loss: 0.1977 - accuracy: 0.9098\n",
      "Epoch 00015: saving model to models/keras/stf_weights_15.keras\n",
      "2332/2332 [==============================] - 252s 108ms/step - loss: 0.1977 - accuracy: 0.9098 - val_loss: 0.7739 - val_accuracy: 0.8617\n",
      "Epoch 16/20\n",
      "2332/2332 [==============================] - ETA: 0s - loss: 0.2130 - accuracy: 0.9076\n",
      "Epoch 00016: saving model to models/keras/stf_weights_16.keras\n",
      "2332/2332 [==============================] - 253s 109ms/step - loss: 0.2130 - accuracy: 0.9076 - val_loss: 0.9248 - val_accuracy: 0.9013\n",
      "Epoch 17/20\n",
      "2332/2332 [==============================] - ETA: 0s - loss: 0.1936 - accuracy: 0.9080\n",
      "Epoch 00017: saving model to models/keras/stf_weights_17.keras\n",
      "2332/2332 [==============================] - 251s 108ms/step - loss: 0.1936 - accuracy: 0.9080 - val_loss: 0.8355 - val_accuracy: 0.8947\n",
      "Epoch 18/20\n",
      "2332/2332 [==============================] - ETA: 0s - loss: 0.1654 - accuracy: 0.9106\n",
      "Epoch 00018: saving model to models/keras/stf_weights_18.keras\n",
      "2332/2332 [==============================] - 250s 107ms/step - loss: 0.1654 - accuracy: 0.9106 - val_loss: 0.9489 - val_accuracy: 0.8667\n",
      "Epoch 19/20\n",
      "2332/2332 [==============================] - ETA: 0s - loss: 0.1737 - accuracy: 0.9168\n",
      "Epoch 00019: saving model to models/keras/stf_weights_19.keras\n",
      "2332/2332 [==============================] - 255s 109ms/step - loss: 0.1737 - accuracy: 0.9168 - val_loss: 0.9266 - val_accuracy: 0.8994\n",
      "Epoch 20/20\n",
      "1282/2332 [===============>..............] - ETA: 1:37 - loss: 0.1758 - accuracy: 0.9177"
     ]
    }
   ],
   "source": [
    "model = get_model()\n",
    "model.compile(loss='categorical_crossentropy', optimizer='adam', metrics=['accuracy'])\n",
    "\n",
    "checkpointer = ModelCheckpoint(filepath=output_path/\"keras/stf_weights_{epoch:02d}.keras\",\n",
    "                               verbose=1, save_weights_only=True)\n",
    "\n",
    "hist =  model.fit(\n",
    "\tx=(X_train), y=(label),\n",
    "\tbatch_size=batch_size,\n",
    "\tepochs=epochs,\n",
    "\tvalidation_data=(X_val, val_label),\n",
    "\tcallbacks=[F1History((X_val,val_label_toTest)),\n",
    "               checkpointer],\n",
    "\tclass_weight={i:v for i, v in enumerate(class_weights)})"
   ]
  },
  {
   "cell_type": "code",
   "execution_count": 114,
   "metadata": {},
   "outputs": [],
   "source": [
    "# Convert Model into JSON Format\n",
    "model_json = model.to_json()\n",
    "\n",
    "with open(output_path/\"cnn_text.json\", \"w\") as json_file:\n",
    "   json_file.write(model_json)"
   ]
  },
  {
   "cell_type": "code",
   "execution_count": 119,
   "metadata": {},
   "outputs": [
    {
     "data": {
      "text/plain": [
       "16"
      ]
     },
     "execution_count": 119,
     "metadata": {},
     "output_type": "execute_result"
    }
   ],
   "source": [
    "best_epoch = np.argmax(hist.history[\"F1_score_val\"]) +1; best_epoch"
   ]
  },
  {
   "cell_type": "code",
   "execution_count": 120,
   "metadata": {},
   "outputs": [],
   "source": [
    "model.load_weights(output_path/f\"keras/stf_weights_{best_epoch}.keras\")"
   ]
  },
  {
   "cell_type": "code",
   "execution_count": 121,
   "metadata": {},
   "outputs": [],
   "source": [
    "model.save_weights(output_path/\"stf_weights.keras\")"
   ]
  },
  {
   "cell_type": "code",
   "execution_count": 14,
   "metadata": {},
   "outputs": [],
   "source": [
    "model.load_weights(output_path/\"stf_weights.keras\")"
   ]
  },
  {
   "cell_type": "code",
   "execution_count": 15,
   "metadata": {},
   "outputs": [
    {
     "name": "stdout",
     "output_type": "stream",
     "text": [
      "2961/2961 [==============================] - 21s 7ms/step\n",
      "                                  precision    recall  f1-score   support\n",
      "\n",
      "          acordao_de_2_instancia     0.4346    0.8227    0.5688       299\n",
      "agravo_em_recurso_extraordinario     0.4695    0.6705    0.5523      2149\n",
      "     despacho_de_admissibilidade     0.3720    0.7541    0.4982       183\n",
      "                          outros     0.9755    0.9173    0.9455     84104\n",
      "                   peticao_do_RE     0.5561    0.8047    0.6577      6364\n",
      "                        sentenca     0.5282    0.7855    0.6316      1636\n",
      "\n",
      "                        accuracy                         0.9013     94735\n",
      "                       macro avg     0.5560    0.7925    0.6424     94735\n",
      "                    weighted avg     0.9253    0.9013    0.9098     94735\n",
      "\n"
     ]
    }
   ],
   "source": [
    "test_predict_1 = model.predict(X_val, verbose=1)\n",
    "pred_1 = test_predict_1.argmax(axis=1)\n",
    "\n",
    "target_names = ['acordao_de_2_instancia','agravo_em_recurso_extraordinario', 'despacho_de_admissibilidade', 'outros', 'peticao_do_RE', 'sentenca']\n",
    "print(classification_report(val_label_toTest, pred_1, target_names=target_names, digits=4))"
   ]
  },
  {
   "cell_type": "code",
   "execution_count": null,
   "metadata": {},
   "outputs": [],
   "source": [
    "tf.keras.backend.clear_session() \n",
    "model = get_model()\n",
    "model.compile(loss='categorical_crossentropy', optimizer='adam', metrics=['accuracy'])\n",
    "\n",
    "checkpointer = ModelCheckpoint(filepath=output_path/\"keras/stf_no_weights_{epoch:02d}.keras\",\n",
    "                               verbose=1, save_weights_only=True)\n",
    "\n",
    "hist =  model.fit(\n",
    "\tx=(X_train), y=(label),\n",
    "\tbatch_size=batch_size,\n",
    "\tepochs=epochs,\n",
    "\tvalidation_data=(X_val, val_label),\n",
    "\tcallbacks=[F1History((X_val,val_label_toTest)),\n",
    "               checkpointer])"
   ]
  },
  {
   "cell_type": "code",
   "execution_count": 30,
   "metadata": {},
   "outputs": [
    {
     "data": {
      "text/plain": [
       "[0.64365,\n",
       " 0.74248,\n",
       " 0.75294,\n",
       " 0.7607,\n",
       " 0.75816,\n",
       " 0.76247,\n",
       " 0.76618,\n",
       " 0.76655,\n",
       " 0.75043,\n",
       " 0.76407,\n",
       " 0.7587,\n",
       " 0.75964,\n",
       " 0.76295,\n",
       " 0.76531,\n",
       " 0.76045,\n",
       " 0.74962,\n",
       " 0.76908,\n",
       " 0.75315,\n",
       " 0.77141,\n",
       " 0.76225]"
      ]
     },
     "execution_count": 30,
     "metadata": {},
     "output_type": "execute_result"
    }
   ],
   "source": [
    "hist.history[\"F1_score_val\"]"
   ]
  },
  {
   "cell_type": "code",
   "execution_count": 31,
   "metadata": {},
   "outputs": [
    {
     "data": {
      "text/plain": [
       "19"
      ]
     },
     "execution_count": 31,
     "metadata": {},
     "output_type": "execute_result"
    }
   ],
   "source": [
    "best_epoch = np.argmax(hist.history[\"F1_score_val\"]) +1; best_epoch"
   ]
  },
  {
   "cell_type": "code",
   "execution_count": 32,
   "metadata": {},
   "outputs": [],
   "source": [
    "model.load_weights(output_path/f\"keras/stf_no_weights_{best_epoch}.keras\")"
   ]
  },
  {
   "cell_type": "code",
   "execution_count": 33,
   "metadata": {},
   "outputs": [],
   "source": [
    "model.save_weights(output_path/\"stf_no_weights.keras\")"
   ]
  },
  {
   "cell_type": "code",
   "execution_count": 34,
   "metadata": {},
   "outputs": [
    {
     "name": "stdout",
     "output_type": "stream",
     "text": [
      "2961/2961 [==============================] - 21s 7ms/step\n",
      "                                  precision    recall  f1-score   support\n",
      "\n",
      "          acordao_de_2_instancia     0.9116    0.7592    0.8285       299\n",
      "agravo_em_recurso_extraordinario     0.7504    0.4742    0.5811      2149\n",
      "     despacho_de_admissibilidade     0.7727    0.6503    0.7062       183\n",
      "                          outros     0.9629    0.9797    0.9712     84104\n",
      "                   peticao_do_RE     0.7645    0.7456    0.7549      6364\n",
      "                        sentenca     0.9285    0.6822    0.7865      1636\n",
      "\n",
      "                        accuracy                         0.9460     94735\n",
      "                       macro avg     0.8484    0.7152    0.7714     94735\n",
      "                    weighted avg     0.9437    0.9460    0.9437     94735\n",
      "\n"
     ]
    }
   ],
   "source": [
    "test_predict_1 = model.predict(X_val, verbose=1)\n",
    "pred_1 = test_predict_1.argmax(axis=1)\n",
    "\n",
    "target_names = ['acordao_de_2_instancia','agravo_em_recurso_extraordinario', 'despacho_de_admissibilidade', 'outros', 'peticao_do_RE', 'sentenca']\n",
    "print(classification_report(val_label_toTest, pred_1, target_names=target_names, digits=4))"
   ]
  },
  {
   "cell_type": "code",
   "execution_count": 35,
   "metadata": {},
   "outputs": [
    {
     "name": "stdout",
     "output_type": "stream",
     "text": [
      "2986/2986 [==============================] - 21s 7ms/step\n",
      "                                  precision    recall  f1-score   support\n",
      "\n",
      "          acordao_de_2_instancia     0.9132    0.8864    0.8996       273\n",
      "agravo_em_recurso_extraordinario     0.7114    0.4579    0.5572      1841\n",
      "     despacho_de_admissibilidade     0.7535    0.5404    0.6294       198\n",
      "                          outros     0.9651    0.9813    0.9731     85408\n",
      "                   peticao_do_RE     0.7804    0.7329    0.7559      6331\n",
      "                        sentenca     0.9191    0.7166    0.8053      1475\n",
      "\n",
      "                        accuracy                         0.9494     95526\n",
      "                       macro avg     0.8405    0.7193    0.7701     95526\n",
      "                    weighted avg     0.9467    0.9494    0.9472     95526\n",
      "\n"
     ]
    }
   ],
   "source": [
    "test_predict_1 = model.predict(X_test, verbose=1)\n",
    "pred_1 = test_predict_1.argmax(axis=1)\n",
    "print(classification_report(test_label_toTest,\n",
    "                            pred_1, target_names=target_names, digits=4))"
   ]
  },
  {
   "cell_type": "code",
   "execution_count": null,
   "metadata": {},
   "outputs": [],
   "source": []
  }
 ],
 "metadata": {
  "kernelspec": {
   "display_name": "fastai2",
   "language": "python",
   "name": "fastai2"
  },
  "language_info": {
   "codemirror_mode": {
    "name": "ipython",
    "version": 3
   },
   "file_extension": ".py",
   "mimetype": "text/x-python",
   "name": "python",
   "nbconvert_exporter": "python",
   "pygments_lexer": "ipython3",
   "version": "3.8.10"
  }
 },
 "nbformat": 4,
 "nbformat_minor": 4
}
