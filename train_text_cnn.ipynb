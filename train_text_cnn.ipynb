{
 "cells": [
  {
   "cell_type": "code",
   "execution_count": 1,
   "metadata": {},
   "outputs": [],
   "source": [
    "import os\n",
    "from os import walk\n",
    "from os.path import join, split, splitext\n",
    "from sklearn.preprocessing import LabelEncoder\n",
    "from sklearn.metrics import classification_report, confusion_matrix, accuracy_score\n",
    "import argparse\n",
    "import json\n",
    "import numpy as np\n",
    "import pandas as pd\n",
    "\n",
    "# backend\n",
    "import tensorflow as tf\n",
    "from tensorflow.keras import backend as K\n",
    "\n",
    "from tensorflow.keras.layers import Input, Dense, Embedding, Flatten, Conv1D, MaxPooling1D, concatenate, Concatenate, BatchNormalization, Dropout\n",
    "from tensorflow.keras.models import Model, Sequential, model_from_json\n",
    "\n",
    "from tensorflow.keras.optimizers import SGD, RMSprop\n",
    "from tensorflow.keras.callbacks import TensorBoard, ModelCheckpoint, EarlyStopping\n",
    "from tensorflow.keras.utils import to_categorical\n",
    "from tensorflow.keras.applications import ResNet50\n",
    "from tensorflow.keras.preprocessing.image import ImageDataGenerator\n",
    " \n",
    "from sklearn.utils import class_weight\n",
    "\n",
    "from tensorflow.keras.preprocessing import sequence\n",
    "from tensorflow.keras.preprocessing.text import Tokenizer\n",
    "import pickle\n",
    "from tqdm import trange\n",
    "\n",
    "from pathlib import Path"
   ]
  },
  {
   "cell_type": "code",
   "execution_count": 2,
   "metadata": {},
   "outputs": [],
   "source": [
    "seed = 42\n",
    "\n",
    "# python RNG\n",
    "import random\n",
    "random.seed(seed)\n",
    "\n",
    "# pytorch RNGs\n",
    "import torch\n",
    "torch.manual_seed(seed)\n",
    "torch.backends.cudnn.deterministic = True\n",
    "if torch.cuda.is_available(): torch.cuda.manual_seed_all(seed)\n",
    "\n",
    "# numpy RNG\n",
    "import numpy as np\n",
    "np.random.seed(seed)\n",
    "\n",
    "# tensorflow RNG\n",
    "tf.random.set_seed(seed)"
   ]
  },
  {
   "cell_type": "code",
   "execution_count": 3,
   "metadata": {},
   "outputs": [],
   "source": [
    "nClasses = 6\n",
    "batch_size = 64\n",
    "epoch = 20\n",
    "\n",
    "MAX_FEATURES = 70000  # Size of vocabulary\n",
    "EMBEDDING_DIM = MAX_FEATURES  # Size of vocabulary\n",
    "SEQUENCE_LEN = 500 # Size of input arrays\n",
    "EMBEDDING_OUT = 100  # Output dim of embedding"
   ]
  },
  {
   "cell_type": "code",
   "execution_count": 4,
   "metadata": {},
   "outputs": [],
   "source": [
    "output_path = Path(\"./models\")"
   ]
  },
  {
   "cell_type": "code",
   "execution_count": 5,
   "metadata": {},
   "outputs": [],
   "source": [
    "data_path = Path(\"/mnt/nas/backups/08-07-2020/desktopg01/lisa/Data/CSV\")"
   ]
  },
  {
   "cell_type": "code",
   "execution_count": 6,
   "metadata": {},
   "outputs": [],
   "source": [
    "train = pd.read_csv(data_path/\"train_small.csv\", usecols=['document_type', 'body'])\n",
    "val = pd.read_csv(data_path/\"validation_small.csv\", usecols=['document_type', 'body'])\n",
    "test_data = pd.read_csv(data_path/\"test_small.csv\", usecols=['document_type', 'body'])"
   ]
  },
  {
   "cell_type": "code",
   "execution_count": 7,
   "metadata": {},
   "outputs": [],
   "source": [
    "tokenizer = Tokenizer(num_words=MAX_FEATURES)\n",
    "tokenizer.fit_on_texts(train['body'])\n",
    "with open(join(output_path, 'tokenizer.pickle'), 'wb') as handle:\n",
    "    pickle.dump(tokenizer, handle, protocol=pickle.HIGHEST_PROTOCOL)\n",
    "sequences_train = tokenizer.texts_to_sequences(train['body'])\n",
    "sequences_validation = tokenizer.texts_to_sequences(val['body'])\n",
    "sequences_test = tokenizer.texts_to_sequences(test_data['body'])"
   ]
  },
  {
   "cell_type": "code",
   "execution_count": 8,
   "metadata": {},
   "outputs": [],
   "source": [
    "X_train = sequence.pad_sequences(sequences_train, maxlen=SEQUENCE_LEN, padding='post')\n",
    "X_val = sequence.pad_sequences(sequences_validation, maxlen=SEQUENCE_LEN, padding='post')\n",
    "X_test = sequence.pad_sequences(sequences_test, maxlen=SEQUENCE_LEN, padding='post')"
   ]
  },
  {
   "cell_type": "code",
   "execution_count": 9,
   "metadata": {},
   "outputs": [
    {
     "name": "stderr",
     "output_type": "stream",
     "text": [
      "/mnt/home/peluz/victor-visual-text/fastai2/lib/python3.8/site-packages/sklearn/utils/validation.py:67: FutureWarning: Pass classes=[0 1 2 3 4 5], y=[3 3 3 ... 3 3 3] as keyword args. From version 0.25 passing these as positional arguments will result in an error\n",
      "  warnings.warn(\"Pass {} as keyword args. From version 0.25 \"\n"
     ]
    }
   ],
   "source": [
    "encoder = LabelEncoder()\n",
    " \n",
    "label = train['document_type']\n",
    "label = encoder.fit_transform(label)\n",
    "\n",
    "class_weights = class_weight.compute_class_weight('balanced',\n",
    "                                                 np.unique(label),\n",
    "                                                 label)\n",
    "label = np.transpose(label)\n",
    "label = to_categorical(label)\n",
    "\n",
    "val_label = val['document_type'] \n",
    "val_label_toTest = encoder.transform(val_label)\n",
    "val_label = np.transpose(val_label_toTest)\n",
    "val_label = to_categorical(val_label)\n",
    "\n",
    "test_label = test_data['document_type']\n",
    "test_label_toTest = encoder.transform(test_label)\n",
    "test_label = np.transpose(test_label_toTest)\n",
    "test_label = to_categorical(test_label)"
   ]
  },
  {
   "cell_type": "code",
   "execution_count": 10,
   "metadata": {},
   "outputs": [
    {
     "data": {
      "text/plain": [
       "(array(['acordao_de_2_instancia', 'agravo_em_recurso_extraordinario',\n",
       "        'despacho_de_admissibilidade', 'outros', 'peticao_do_RE',\n",
       "        'sentenca'], dtype=object),\n",
       " array([44.97197107,  9.76806756, 71.87716763,  0.18540788,  2.61536439,\n",
       "        11.68130578]))"
      ]
     },
     "execution_count": 10,
     "metadata": {},
     "output_type": "execute_result"
    }
   ],
   "source": [
    "encoder.classes_, class_weights"
   ]
  },
  {
   "cell_type": "code",
   "execution_count": 14,
   "metadata": {},
   "outputs": [],
   "source": [
    "f1_base = Input(shape=(SEQUENCE_LEN, ), dtype='int32')\n",
    "text_embedding = Embedding(input_dim=MAX_FEATURES, output_dim=EMBEDDING_OUT,\n",
    "                           input_length=SEQUENCE_LEN)(f1_base)\n",
    "\n",
    "filter_sizes = [3, 4, 5]\n",
    "convs = []\n",
    "for filter_size in filter_sizes:\n",
    "    l_conv = Conv1D(filters=256, kernel_size=filter_size, padding='same', activation='relu')(text_embedding)\n",
    "    l_batch = BatchNormalization()(l_conv)\n",
    "    l_pool = MaxPooling1D(2)(l_conv)\n",
    "    \n",
    "    convs.append(l_pool)\n",
    "\n",
    "l_merge = Concatenate(axis=1)(convs)\n",
    "l_pool1 = MaxPooling1D(50)(l_merge)\n",
    "l_flat = Flatten()(l_pool1)\n",
    "l_dense = Dense(128, activation='relu')(l_flat)\n",
    "x = Dropout(0.5)(l_dense)\n",
    "x = Dense(nClasses, activation='softmax')(x)\n",
    "model = Model(inputs=f1_base, outputs=x)\n",
    "\n",
    "# determine Loss function and Optimizer\n",
    "model.compile(loss='categorical_crossentropy', optimizer='adam', metrics=['accuracy'])\n",
    "\n",
    "checkpointer = ModelCheckpoint(filepath=output_path/\"stf_weights.keras\", verbose=1, save_weights_only=True,\n",
    "                               save_best_only=True, monitor=\"val_accuracy\", mode=\"max\")"
   ]
  },
  {
   "cell_type": "code",
   "execution_count": 12,
   "metadata": {},
   "outputs": [],
   "source": [
    "X_train = np.array(X_train)\n",
    "X_val = np.array(X_val)\n",
    "X_test = np.array(X_test)"
   ]
  },
  {
   "cell_type": "code",
   "execution_count": 13,
   "metadata": {},
   "outputs": [
    {
     "name": "stdout",
     "output_type": "stream",
     "text": [
      "Epoch 1/20\n",
      "2332/2332 [==============================] - ETA: 0s - loss: 0.9542 - accuracy: 0.5846\n",
      "Epoch 00001: val_accuracy improved from -inf to 0.75500, saving model to models/stf_weights.keras\n",
      "2332/2332 [==============================] - 240s 103ms/step - loss: 0.9542 - accuracy: 0.5846 - val_loss: 0.6270 - val_accuracy: 0.7550\n",
      "Epoch 2/20\n",
      "2332/2332 [==============================] - ETA: 0s - loss: 0.4814 - accuracy: 0.7529\n",
      "Epoch 00002: val_accuracy did not improve from 0.75500\n",
      "2332/2332 [==============================] - 240s 103ms/step - loss: 0.4814 - accuracy: 0.7529 - val_loss: 0.7450 - val_accuracy: 0.7090\n",
      "Epoch 3/20\n",
      "2332/2332 [==============================] - ETA: 0s - loss: 0.3169 - accuracy: 0.8120\n",
      "Epoch 00003: val_accuracy did not improve from 0.75500\n",
      "2332/2332 [==============================] - 241s 103ms/step - loss: 0.3169 - accuracy: 0.8120 - val_loss: 0.7090 - val_accuracy: 0.7209\n",
      "Epoch 4/20\n",
      "2332/2332 [==============================] - ETA: 0s - loss: 0.2426 - accuracy: 0.8488\n",
      "Epoch 00004: val_accuracy improved from 0.75500 to 0.84142, saving model to models/stf_weights.keras\n",
      "2332/2332 [==============================] - 243s 104ms/step - loss: 0.2426 - accuracy: 0.8488 - val_loss: 0.5059 - val_accuracy: 0.8414\n",
      "Epoch 5/20\n",
      "2332/2332 [==============================] - ETA: 0s - loss: 0.2050 - accuracy: 0.8673\n",
      "Epoch 00005: val_accuracy improved from 0.84142 to 0.87286, saving model to models/stf_weights.keras\n",
      "2332/2332 [==============================] - 243s 104ms/step - loss: 0.2050 - accuracy: 0.8673 - val_loss: 0.5134 - val_accuracy: 0.8729\n",
      "Epoch 6/20\n",
      "2332/2332 [==============================] - ETA: 0s - loss: 0.1774 - accuracy: 0.8767\n",
      "Epoch 00006: val_accuracy did not improve from 0.87286\n",
      "2332/2332 [==============================] - 240s 103ms/step - loss: 0.1774 - accuracy: 0.8767 - val_loss: 0.5978 - val_accuracy: 0.8301\n",
      "Epoch 7/20\n",
      "2332/2332 [==============================] - ETA: 0s - loss: 0.1520 - accuracy: 0.8885\n",
      "Epoch 00007: val_accuracy improved from 0.87286 to 0.88205, saving model to models/stf_weights.keras\n",
      "2332/2332 [==============================] - 243s 104ms/step - loss: 0.1520 - accuracy: 0.8885 - val_loss: 0.5490 - val_accuracy: 0.8820\n",
      "Epoch 8/20\n",
      "2332/2332 [==============================] - ETA: 0s - loss: 0.1527 - accuracy: 0.8978\n",
      "Epoch 00008: val_accuracy did not improve from 0.88205\n",
      "2332/2332 [==============================] - 240s 103ms/step - loss: 0.1527 - accuracy: 0.8978 - val_loss: 0.6327 - val_accuracy: 0.8104\n",
      "Epoch 9/20\n",
      "2332/2332 [==============================] - ETA: 0s - loss: 0.1543 - accuracy: 0.8958\n",
      "Epoch 00009: val_accuracy did not improve from 0.88205\n",
      "2332/2332 [==============================] - 240s 103ms/step - loss: 0.1543 - accuracy: 0.8958 - val_loss: 0.6520 - val_accuracy: 0.8151\n",
      "Epoch 10/20\n",
      "2332/2332 [==============================] - ETA: 0s - loss: 0.1373 - accuracy: 0.9021\n",
      "Epoch 00010: val_accuracy did not improve from 0.88205\n",
      "2332/2332 [==============================] - 241s 103ms/step - loss: 0.1373 - accuracy: 0.9021 - val_loss: 0.6004 - val_accuracy: 0.8723\n",
      "Epoch 11/20\n",
      "2332/2332 [==============================] - ETA: 0s - loss: 0.1185 - accuracy: 0.9125\n",
      "Epoch 00011: val_accuracy did not improve from 0.88205\n",
      "2332/2332 [==============================] - 239s 102ms/step - loss: 0.1185 - accuracy: 0.9125 - val_loss: 0.6482 - val_accuracy: 0.8812\n",
      "Epoch 12/20\n",
      "2332/2332 [==============================] - ETA: 0s - loss: 0.1507 - accuracy: 0.9103\n",
      "Epoch 00012: val_accuracy improved from 0.88205 to 0.88281, saving model to models/stf_weights.keras\n",
      "2332/2332 [==============================] - 242s 104ms/step - loss: 0.1507 - accuracy: 0.9103 - val_loss: 0.6444 - val_accuracy: 0.8828\n",
      "Epoch 13/20\n",
      "2332/2332 [==============================] - ETA: 0s - loss: 0.1570 - accuracy: 0.9104\n",
      "Epoch 00013: val_accuracy did not improve from 0.88281\n",
      "2332/2332 [==============================] - 241s 103ms/step - loss: 0.1570 - accuracy: 0.9104 - val_loss: 0.7307 - val_accuracy: 0.8619\n",
      "Epoch 14/20\n",
      "2332/2332 [==============================] - ETA: 0s - loss: 0.2180 - accuracy: 0.9016\n",
      "Epoch 00014: val_accuracy did not improve from 0.88281\n",
      "2332/2332 [==============================] - 240s 103ms/step - loss: 0.2180 - accuracy: 0.9016 - val_loss: 0.6562 - val_accuracy: 0.8681\n",
      "Epoch 15/20\n",
      "2332/2332 [==============================] - ETA: 0s - loss: 0.1728 - accuracy: 0.9066\n",
      "Epoch 00015: val_accuracy did not improve from 0.88281\n",
      "2332/2332 [==============================] - 241s 103ms/step - loss: 0.1728 - accuracy: 0.9066 - val_loss: 0.7860 - val_accuracy: 0.8628\n",
      "Epoch 16/20\n",
      "2332/2332 [==============================] - ETA: 0s - loss: 0.1464 - accuracy: 0.9125\n",
      "Epoch 00016: val_accuracy improved from 0.88281 to 0.88551, saving model to models/stf_weights.keras\n",
      "2332/2332 [==============================] - 242s 104ms/step - loss: 0.1464 - accuracy: 0.9125 - val_loss: 0.7581 - val_accuracy: 0.8855\n",
      "Epoch 17/20\n",
      "2332/2332 [==============================] - ETA: 0s - loss: 0.1654 - accuracy: 0.9072\n",
      "Epoch 00017: val_accuracy improved from 0.88551 to 0.88847, saving model to models/stf_weights.keras\n",
      "2332/2332 [==============================] - 242s 104ms/step - loss: 0.1654 - accuracy: 0.9072 - val_loss: 0.7998 - val_accuracy: 0.8885\n",
      "Epoch 18/20\n",
      "2332/2332 [==============================] - ETA: 0s - loss: 0.1645 - accuracy: 0.9134\n",
      "Epoch 00018: val_accuracy improved from 0.88847 to 0.89038, saving model to models/stf_weights.keras\n",
      "2332/2332 [==============================] - 244s 105ms/step - loss: 0.1645 - accuracy: 0.9134 - val_loss: 0.8871 - val_accuracy: 0.8904\n",
      "Epoch 19/20\n",
      "2332/2332 [==============================] - ETA: 0s - loss: 0.1204 - accuracy: 0.9146\n",
      "Epoch 00019: val_accuracy did not improve from 0.89038\n",
      "2332/2332 [==============================] - 240s 103ms/step - loss: 0.1204 - accuracy: 0.9146 - val_loss: 0.8959 - val_accuracy: 0.8808\n",
      "Epoch 20/20\n",
      "2332/2332 [==============================] - ETA: 0s - loss: 0.1590 - accuracy: 0.9137\n",
      "Epoch 00020: val_accuracy did not improve from 0.89038\n",
      "2332/2332 [==============================] - 241s 103ms/step - loss: 0.1590 - accuracy: 0.9137 - val_loss: 0.8852 - val_accuracy: 0.8838\n"
     ]
    },
    {
     "data": {
      "text/plain": [
       "<tensorflow.python.keras.callbacks.History at 0x7f61bc713130>"
      ]
     },
     "execution_count": 13,
     "metadata": {},
     "output_type": "execute_result"
    }
   ],
   "source": [
    "model.fit(\n",
    "\tx=(X_train), y=(label),\n",
    "\tbatch_size=batch_size,\n",
    "\tepochs=epoch,\n",
    "\tvalidation_data=(X_val, val_label),\n",
    "\tcallbacks=[checkpointer],\n",
    "\tclass_weight={i:v for i, v in enumerate(class_weights)})"
   ]
  },
  {
   "cell_type": "code",
   "execution_count": 14,
   "metadata": {},
   "outputs": [],
   "source": [
    "# Convert Model into JSON Format\n",
    "model_json = model.to_json()\n",
    "\n",
    "with open(output_path/\"cnn_text.json\", \"w\") as json_file:\n",
    "   json_file.write(model_json)"
   ]
  },
  {
   "cell_type": "code",
   "execution_count": 15,
   "metadata": {},
   "outputs": [],
   "source": [
    "model.load_weights(output_path/\"stf_weights.keras\")"
   ]
  },
  {
   "cell_type": "code",
   "execution_count": 16,
   "metadata": {},
   "outputs": [
    {
     "name": "stdout",
     "output_type": "stream",
     "text": [
      "2961/2961 [==============================] - 21s 7ms/step\n",
      "                                  precision    recall  f1-score   support\n",
      "\n",
      "          acordao_de_2_instancia     0.3902    0.8261    0.5300       299\n",
      "agravo_em_recurso_extraordinario     0.3731    0.7473    0.4977      2149\n",
      "     despacho_de_admissibilidade     0.1739    0.8361    0.2879       183\n",
      "                          outros     0.9784    0.9027    0.9390     84104\n",
      "                   peticao_do_RE     0.5906    0.8006    0.6797      6364\n",
      "                        sentenca     0.4926    0.8099    0.6126      1636\n",
      "\n",
      "                        accuracy                         0.8904     94735\n",
      "                       macro avg     0.4998    0.8205    0.5912     94735\n",
      "                    weighted avg     0.9268    0.8904    0.9034     94735\n",
      "\n"
     ]
    }
   ],
   "source": [
    "test_predict_1 = model.predict(X_val, verbose=1)\n",
    "pred_1 = test_predict_1.argmax(axis=1)\n",
    "\n",
    "target_names = ['acordao_de_2_instancia','agravo_em_recurso_extraordinario', 'despacho_de_admissibilidade', 'outros', 'peticao_do_RE', 'sentenca']\n",
    "print(classification_report(val_label_toTest, pred_1, target_names=target_names, digits=4))"
   ]
  },
  {
   "cell_type": "code",
   "execution_count": 17,
   "metadata": {},
   "outputs": [
    {
     "name": "stdout",
     "output_type": "stream",
     "text": [
      "2986/2986 [==============================] - 21s 7ms/step\n",
      "                                  precision    recall  f1-score   support\n",
      "\n",
      "          acordao_de_2_instancia     0.4271    0.9341    0.5862       273\n",
      "agravo_em_recurso_extraordinario     0.3369    0.7132    0.4577      1841\n",
      "     despacho_de_admissibilidade     0.1745    0.8283    0.2882       198\n",
      "                          outros     0.9793    0.9072    0.9419     85408\n",
      "                   peticao_do_RE     0.5971    0.7852    0.6784      6331\n",
      "                        sentenca     0.4783    0.8576    0.6141      1475\n",
      "\n",
      "                        accuracy                         0.8945     95526\n",
      "                       macro avg     0.4989    0.8376    0.5944     95526\n",
      "                    weighted avg     0.9306    0.8945    0.9077     95526\n",
      "\n"
     ]
    }
   ],
   "source": [
    "test_predict_1 = model.predict(X_test, verbose=1)\n",
    "pred_1 = test_predict_1.argmax(axis=1)\n",
    "print(classification_report(test_label_toTest,\n",
    "                            pred_1, target_names=target_names, digits=4))"
   ]
  },
  {
   "cell_type": "code",
   "execution_count": 13,
   "metadata": {},
   "outputs": [
    {
     "name": "stdout",
     "output_type": "stream",
     "text": [
      "Epoch 1/20\n",
      "2332/2332 [==============================] - ETA: 0s - loss: 0.2307 - accuracy: 0.9319\n",
      "Epoch 00001: val_accuracy improved from -inf to 0.93942, saving model to models/stf_weights.keras\n",
      "2332/2332 [==============================] - 240s 103ms/step - loss: 0.2307 - accuracy: 0.9319 - val_loss: 0.2217 - val_accuracy: 0.9394\n",
      "Epoch 2/20\n",
      "2332/2332 [==============================] - ETA: 0s - loss: 0.1264 - accuracy: 0.9565\n",
      "Epoch 00002: val_accuracy improved from 0.93942 to 0.94322, saving model to models/stf_weights.keras\n",
      "2332/2332 [==============================] - 242s 104ms/step - loss: 0.1264 - accuracy: 0.9565 - val_loss: 0.2219 - val_accuracy: 0.9432\n",
      "Epoch 3/20\n",
      "2332/2332 [==============================] - ETA: 0s - loss: 0.0915 - accuracy: 0.9667\n",
      "Epoch 00003: val_accuracy improved from 0.94322 to 0.94448, saving model to models/stf_weights.keras\n",
      "2332/2332 [==============================] - 243s 104ms/step - loss: 0.0915 - accuracy: 0.9667 - val_loss: 0.2729 - val_accuracy: 0.9445\n",
      "Epoch 4/20\n",
      "2332/2332 [==============================] - ETA: 0s - loss: 0.0751 - accuracy: 0.9731\n",
      "Epoch 00004: val_accuracy improved from 0.94448 to 0.94614, saving model to models/stf_weights.keras\n",
      "2332/2332 [==============================] - 241s 103ms/step - loss: 0.0751 - accuracy: 0.9731 - val_loss: 0.3531 - val_accuracy: 0.9461\n",
      "Epoch 5/20\n",
      "2332/2332 [==============================] - ETA: 0s - loss: 0.0653 - accuracy: 0.9768\n",
      "Epoch 00005: val_accuracy did not improve from 0.94614\n",
      "2332/2332 [==============================] - 239s 102ms/step - loss: 0.0653 - accuracy: 0.9768 - val_loss: 0.3099 - val_accuracy: 0.9388\n",
      "Epoch 6/20\n",
      "2332/2332 [==============================] - ETA: 0s - loss: 0.0592 - accuracy: 0.9788\n",
      "Epoch 00006: val_accuracy improved from 0.94614 to 0.94680, saving model to models/stf_weights.keras\n",
      "2332/2332 [==============================] - 241s 104ms/step - loss: 0.0592 - accuracy: 0.9788 - val_loss: 0.4002 - val_accuracy: 0.9468\n",
      "Epoch 7/20\n",
      "2332/2332 [==============================] - ETA: 0s - loss: 0.0523 - accuracy: 0.9812\n",
      "Epoch 00007: val_accuracy improved from 0.94680 to 0.94743, saving model to models/stf_weights.keras\n",
      "2332/2332 [==============================] - 244s 105ms/step - loss: 0.0523 - accuracy: 0.9812 - val_loss: 0.4383 - val_accuracy: 0.9474\n",
      "Epoch 8/20\n",
      "2332/2332 [==============================] - ETA: 0s - loss: 0.0505 - accuracy: 0.9820\n",
      "Epoch 00008: val_accuracy improved from 0.94743 to 0.94787, saving model to models/stf_weights.keras\n",
      "2332/2332 [==============================] - 242s 104ms/step - loss: 0.0505 - accuracy: 0.9820 - val_loss: 0.4904 - val_accuracy: 0.9479\n",
      "Epoch 9/20\n",
      "2332/2332 [==============================] - ETA: 0s - loss: 0.0465 - accuracy: 0.9832\n",
      "Epoch 00009: val_accuracy did not improve from 0.94787\n",
      "2332/2332 [==============================] - 240s 103ms/step - loss: 0.0465 - accuracy: 0.9832 - val_loss: 0.4844 - val_accuracy: 0.9418\n",
      "Epoch 10/20\n",
      "2332/2332 [==============================] - ETA: 0s - loss: 0.0433 - accuracy: 0.9839\n",
      "Epoch 00010: val_accuracy did not improve from 0.94787\n",
      "2332/2332 [==============================] - 239s 102ms/step - loss: 0.0433 - accuracy: 0.9839 - val_loss: 0.5246 - val_accuracy: 0.9427\n",
      "Epoch 11/20\n",
      "2332/2332 [==============================] - ETA: 0s - loss: 0.0425 - accuracy: 0.9843\n",
      "Epoch 00011: val_accuracy did not improve from 0.94787\n",
      "2332/2332 [==============================] - 240s 103ms/step - loss: 0.0425 - accuracy: 0.9843 - val_loss: 0.5431 - val_accuracy: 0.9458\n",
      "Epoch 12/20\n",
      "2332/2332 [==============================] - ETA: 0s - loss: 0.0405 - accuracy: 0.9857\n",
      "Epoch 00012: val_accuracy did not improve from 0.94787\n",
      "2332/2332 [==============================] - 242s 104ms/step - loss: 0.0405 - accuracy: 0.9857 - val_loss: 0.6173 - val_accuracy: 0.9441\n",
      "Epoch 13/20\n",
      "2332/2332 [==============================] - ETA: 0s - loss: 0.0392 - accuracy: 0.9856\n",
      "Epoch 00013: val_accuracy did not improve from 0.94787\n",
      "2332/2332 [==============================] - 241s 103ms/step - loss: 0.0392 - accuracy: 0.9856 - val_loss: 0.5998 - val_accuracy: 0.9399\n",
      "Epoch 14/20\n",
      "2332/2332 [==============================] - ETA: 0s - loss: 0.0389 - accuracy: 0.9859\n",
      "Epoch 00014: val_accuracy did not improve from 0.94787\n",
      "2332/2332 [==============================] - 239s 102ms/step - loss: 0.0389 - accuracy: 0.9859 - val_loss: 0.6349 - val_accuracy: 0.9433\n",
      "Epoch 15/20\n",
      "2332/2332 [==============================] - ETA: 0s - loss: 0.0364 - accuracy: 0.9863\n",
      "Epoch 00015: val_accuracy did not improve from 0.94787\n",
      "2332/2332 [==============================] - 238s 102ms/step - loss: 0.0364 - accuracy: 0.9863 - val_loss: 0.7465 - val_accuracy: 0.9451\n",
      "Epoch 16/20\n",
      "2332/2332 [==============================] - ETA: 0s - loss: 0.0353 - accuracy: 0.9870\n",
      "Epoch 00018: val_accuracy did not improve from 0.94787\n",
      "2332/2332 [==============================] - 237s 102ms/step - loss: 0.0353 - accuracy: 0.9870 - val_loss: 0.5799 - val_accuracy: 0.9414\n",
      "Epoch 19/20\n",
      "2332/2332 [==============================] - ETA: 0s - loss: 0.0343 - accuracy: 0.9876\n",
      "Epoch 00019: val_accuracy did not improve from 0.94787\n",
      "2332/2332 [==============================] - 240s 103ms/step - loss: 0.0343 - accuracy: 0.9876 - val_loss: 0.8070 - val_accuracy: 0.9441\n",
      "Epoch 20/20\n",
      "2332/2332 [==============================] - ETA: 0s - loss: 0.0360 - accuracy: 0.9868\n",
      "Epoch 00020: val_accuracy did not improve from 0.94787\n",
      "2332/2332 [==============================] - 239s 102ms/step - loss: 0.0360 - accuracy: 0.9868 - val_loss: 0.7078 - val_accuracy: 0.9446\n"
     ]
    },
    {
     "data": {
      "text/plain": [
       "<tensorflow.python.keras.callbacks.History at 0x7f497445edf0>"
      ]
     },
     "execution_count": 13,
     "metadata": {},
     "output_type": "execute_result"
    }
   ],
   "source": [
    "model.fit(\n",
    "\tx=(X_train), y=(label),\n",
    "\tbatch_size=batch_size,\n",
    "\tepochs=epoch,\n",
    "\tvalidation_data=(X_val, val_label),\n",
    "\tcallbacks=[checkpointer])"
   ]
  },
  {
   "cell_type": "code",
   "execution_count": 16,
   "metadata": {},
   "outputs": [],
   "source": [
    "model.load_weights(output_path/\"stf_weights.keras\")"
   ]
  },
  {
   "cell_type": "code",
   "execution_count": 17,
   "metadata": {},
   "outputs": [
    {
     "name": "stdout",
     "output_type": "stream",
     "text": [
      "2961/2961 [==============================] - 20s 7ms/step\n",
      "                                  precision    recall  f1-score   support\n",
      "\n",
      "          acordao_de_2_instancia     0.7723    0.7826    0.7774       299\n",
      "agravo_em_recurso_extraordinario     0.6479    0.5556    0.5982      2149\n",
      "     despacho_de_admissibilidade     0.7229    0.6557    0.6877       183\n",
      "                          outros     0.9639    0.9814    0.9726     84104\n",
      "                   peticao_do_RE     0.8330    0.7172    0.7708      6364\n",
      "                        sentenca     0.8691    0.6980    0.7742      1636\n",
      "\n",
      "                        accuracy                         0.9479     94735\n",
      "                       macro avg     0.8015    0.7318    0.7635     94735\n",
      "                    weighted avg     0.9453    0.9479    0.9460     94735\n",
      "\n"
     ]
    }
   ],
   "source": [
    "test_predict_1 = model.predict(X_val, verbose=1)\n",
    "pred_1 = test_predict_1.argmax(axis=1)\n",
    "\n",
    "target_names = ['acordao_de_2_instancia','agravo_em_recurso_extraordinario', 'despacho_de_admissibilidade', 'outros', 'peticao_do_RE', 'sentenca']\n",
    "print(classification_report(val_label_toTest, pred_1, target_names=target_names, digits=4))"
   ]
  },
  {
   "cell_type": "code",
   "execution_count": 18,
   "metadata": {},
   "outputs": [
    {
     "name": "stdout",
     "output_type": "stream",
     "text": [
      "2986/2986 [==============================] - 20s 7ms/step\n",
      "                                  precision    recall  f1-score   support\n",
      "\n",
      "          acordao_de_2_instancia     0.7716    0.9158    0.8375       273\n",
      "agravo_em_recurso_extraordinario     0.6331    0.5595    0.5940      1841\n",
      "     despacho_de_admissibilidade     0.7566    0.5808    0.6571       198\n",
      "                          outros     0.9658    0.9827    0.9742     85408\n",
      "                   peticao_do_RE     0.8479    0.7060    0.7705      6331\n",
      "                        sentenca     0.8591    0.7275    0.7878      1475\n",
      "\n",
      "                        accuracy                         0.9513     95526\n",
      "                       macro avg     0.8057    0.7454    0.7702     95526\n",
      "                    weighted avg     0.9490    0.9513    0.9495     95526\n",
      "\n"
     ]
    }
   ],
   "source": [
    "test_predict_1 = model.predict(X_test, verbose=1)\n",
    "pred_1 = test_predict_1.argmax(axis=1)\n",
    "print(classification_report(test_label_toTest,\n",
    "                            pred_1, target_names=target_names, digits=4))"
   ]
  },
  {
   "cell_type": "code",
   "execution_count": null,
   "metadata": {},
   "outputs": [],
   "source": []
  }
 ],
 "metadata": {
  "kernelspec": {
   "display_name": "fastai2",
   "language": "python",
   "name": "fastai2"
  },
  "language_info": {
   "codemirror_mode": {
    "name": "ipython",
    "version": 3
   },
   "file_extension": ".py",
   "mimetype": "text/x-python",
   "name": "python",
   "nbconvert_exporter": "python",
   "pygments_lexer": "ipython3",
   "version": "3.8.5"
  }
 },
 "nbformat": 4,
 "nbformat_minor": 4
}
