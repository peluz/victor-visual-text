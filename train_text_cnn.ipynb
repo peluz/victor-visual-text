{
 "cells": [
  {
   "cell_type": "code",
   "execution_count": 17,
   "metadata": {},
   "outputs": [],
   "source": [
    "import os\n",
    "from os import walk\n",
    "from os.path import join, split, splitext\n",
    "from sklearn.preprocessing import LabelEncoder\n",
    "from sklearn.metrics import classification_report, confusion_matrix, accuracy_score, f1_score\n",
    "import argparse\n",
    "import json\n",
    "import numpy as np\n",
    "import pandas as pd\n",
    "\n",
    "# backend\n",
    "import tensorflow as tf\n",
    "from tensorflow.keras import backend as K\n",
    "\n",
    "from tensorflow.keras.layers import Input, Dense, Embedding, Flatten, Conv1D, MaxPooling1D, concatenate, Concatenate, BatchNormalization, Dropout\n",
    "from tensorflow.keras.models import Model, Sequential, model_from_json\n",
    "\n",
    "from tensorflow.keras.optimizers import SGD, RMSprop\n",
    "from tensorflow.keras.callbacks import TensorBoard, ModelCheckpoint, EarlyStopping\n",
    "from tensorflow.keras.utils import to_categorical\n",
    "from tensorflow.keras.applications import ResNet50\n",
    "from tensorflow.keras.preprocessing.image import ImageDataGenerator\n",
    " \n",
    "from sklearn.utils import class_weight\n",
    "\n",
    "from tensorflow.keras.preprocessing import sequence\n",
    "from tensorflow.keras.preprocessing.text import Tokenizer\n",
    "import pickle\n",
    "from tqdm import trange\n",
    "\n",
    "from pathlib import Path"
   ]
  },
  {
   "cell_type": "code",
   "execution_count": 2,
   "metadata": {},
   "outputs": [],
   "source": [
    "seed = 42\n",
    "\n",
    "# python RNG\n",
    "import random\n",
    "random.seed(seed)\n",
    "\n",
    "# pytorch RNGs\n",
    "import torch\n",
    "torch.manual_seed(seed)\n",
    "torch.backends.cudnn.deterministic = True\n",
    "if torch.cuda.is_available(): torch.cuda.manual_seed_all(seed)\n",
    "\n",
    "# numpy RNG\n",
    "import numpy as np\n",
    "np.random.seed(seed)\n",
    "\n",
    "# tensorflow RNG\n",
    "tf.random.set_seed(seed)"
   ]
  },
  {
   "cell_type": "code",
   "execution_count": 3,
   "metadata": {},
   "outputs": [],
   "source": [
    "nClasses = 6\n",
    "batch_size = 64\n",
    "epoch = 20\n",
    "\n",
    "MAX_FEATURES = 70000  # Size of vocabulary\n",
    "EMBEDDING_DIM = MAX_FEATURES  # Size of vocabulary\n",
    "SEQUENCE_LEN = 500 # Size of input arrays\n",
    "EMBEDDING_OUT = 100  # Output dim of embedding"
   ]
  },
  {
   "cell_type": "code",
   "execution_count": 4,
   "metadata": {},
   "outputs": [],
   "source": [
    "output_path = Path(\"./models\")"
   ]
  },
  {
   "cell_type": "code",
   "execution_count": 5,
   "metadata": {},
   "outputs": [],
   "source": [
    "data_path = Path(\"/mnt/nas/backups/08-07-2020/desktopg01/lisa/Data/CSV\")"
   ]
  },
  {
   "cell_type": "code",
   "execution_count": 6,
   "metadata": {},
   "outputs": [],
   "source": [
    "train = pd.read_csv(data_path/\"train_small.csv\", usecols=['document_type', 'body'])\n",
    "val = pd.read_csv(data_path/\"validation_small.csv\", usecols=['document_type', 'body'])\n",
    "test_data = pd.read_csv(data_path/\"test_small.csv\", usecols=['document_type', 'body'])"
   ]
  },
  {
   "cell_type": "code",
   "execution_count": 13,
   "metadata": {},
   "outputs": [],
   "source": [
    "tokenizer = Tokenizer(num_words=MAX_FEATURES)\n",
    "tokenizer.fit_on_texts(train['body'])\n",
    "with open(join(output_path, 'tokenizer.pickle'), 'wb') as handle:\n",
    "    pickle.dump(tokenizer, handle, protocol=pickle.HIGHEST_PROTOCOL)\n",
    "sequences_train = tokenizer.texts_to_sequences(train['body'])\n",
    "sequences_validation = tokenizer.texts_to_sequences(val['body'])\n",
    "sequences_test = tokenizer.texts_to_sequences(test_data['body'])"
   ]
  },
  {
   "cell_type": "code",
   "execution_count": 14,
   "metadata": {},
   "outputs": [],
   "source": [
    "X_train = sequence.pad_sequences(sequences_train, maxlen=SEQUENCE_LEN, padding='post')\n",
    "X_val = sequence.pad_sequences(sequences_validation, maxlen=SEQUENCE_LEN, padding='post')\n",
    "X_test = sequence.pad_sequences(sequences_test, maxlen=SEQUENCE_LEN, padding='post')"
   ]
  },
  {
   "cell_type": "code",
   "execution_count": 15,
   "metadata": {},
   "outputs": [],
   "source": [
    "encoder = LabelEncoder()\n",
    " \n",
    "label = train['document_type']\n",
    "label = encoder.fit_transform(label)\n",
    "\n",
    "class_weights = class_weight.compute_class_weight('balanced',\n",
    "                                                 np.unique(label),\n",
    "                                                 label)\n",
    "label = np.transpose(label)\n",
    "label = to_categorical(label)\n",
    "\n",
    "val_label = val['document_type'] \n",
    "val_label_toTest = encoder.transform(val_label)\n",
    "val_label = np.transpose(val_label_toTest)\n",
    "val_label = to_categorical(val_label)\n",
    "\n",
    "test_label = test_data['document_type']\n",
    "test_label_toTest = encoder.transform(test_label)\n",
    "test_label = np.transpose(test_label_toTest)\n",
    "test_label = to_categorical(test_label)"
   ]
  },
  {
   "cell_type": "code",
   "execution_count": 16,
   "metadata": {},
   "outputs": [
    {
     "data": {
      "text/plain": [
       "(array(['acordao_de_2_instancia', 'agravo_em_recurso_extraordinario',\n",
       "        'despacho_de_admissibilidade', 'outros', 'peticao_do_RE',\n",
       "        'sentenca'], dtype=object),\n",
       " array([44.97197107,  9.76806756, 71.87716763,  0.18540788,  2.61536439,\n",
       "        11.68130578]))"
      ]
     },
     "execution_count": 16,
     "metadata": {},
     "output_type": "execute_result"
    }
   ],
   "source": [
    "encoder.classes_, class_weights"
   ]
  },
  {
   "cell_type": "code",
   "execution_count": 18,
   "metadata": {},
   "outputs": [],
   "source": [
    "class F1History(tf.keras.callbacks.Callback):\n",
    "\n",
    "    def __init__(self, train, validation=None):\n",
    "        super(F1History, self).__init__()\n",
    "        self.validation = validation\n",
    "        self.train = train\n",
    "\n",
    "    def on_epoch_end(self, epoch, logs={}):\n",
    "\n",
    "        logs['F1_score_train'] = float('-inf')\n",
    "        X_train, y_train = self.train[0], self.train[1]\n",
    "        y_pred = (self.model.predict(X_train).ravel()>0.5)+0\n",
    "        score = f1_score(y_train, y_pred, average=\"macro\")       \n",
    "\n",
    "        if (self.validation):\n",
    "            logs['F1_score_val'] = float('-inf')\n",
    "            X_valid, y_valid = self.validation[0], self.validation[1]\n",
    "            y_val_pred = (self.model.predict(X_valid).ravel()>0.5)+0\n",
    "            val_score = f1_score(y_valid, y_val_pred, average=\"macro\")\n",
    "            logs['F1_score_train'] = np.round(score, 5)\n",
    "            logs['F1_score_val'] = np.round(val_score, 5)\n",
    "        else:\n",
    "            logs['F1_score_train'] = np.round(score, 5)"
   ]
  },
  {
   "cell_type": "code",
   "execution_count": 19,
   "metadata": {},
   "outputs": [],
   "source": [
    "f1_base = Input(shape=(SEQUENCE_LEN, ), dtype='int32')\n",
    "text_embedding = Embedding(input_dim=MAX_FEATURES, output_dim=EMBEDDING_OUT,\n",
    "                           input_length=SEQUENCE_LEN)(f1_base)\n",
    "\n",
    "filter_sizes = [3, 4, 5]\n",
    "convs = []\n",
    "for filter_size in filter_sizes:\n",
    "    l_conv = Conv1D(filters=256, kernel_size=filter_size, padding='same', activation='relu')(text_embedding)\n",
    "    l_batch = BatchNormalization()(l_conv)\n",
    "    l_pool = MaxPooling1D(2)(l_conv)\n",
    "    \n",
    "    convs.append(l_pool)\n",
    "\n",
    "l_merge = Concatenate(axis=1)(convs)\n",
    "l_pool1 = MaxPooling1D(50)(l_merge)\n",
    "l_flat = Flatten()(l_pool1)\n",
    "l_dense = Dense(128, activation='relu')(l_flat)\n",
    "x = Dropout(0.5)(l_dense)\n",
    "x = Dense(nClasses, activation='softmax')(x)\n",
    "model = Model(inputs=f1_base, outputs=x)"
   ]
  },
  {
   "cell_type": "code",
   "execution_count": 20,
   "metadata": {},
   "outputs": [],
   "source": [
    "X_train = np.array(X_train)\n",
    "X_val = np.array(X_val)\n",
    "X_test = np.array(X_test)"
   ]
  },
  {
   "cell_type": "code",
   "execution_count": null,
   "metadata": {},
   "outputs": [
    {
     "name": "stdout",
     "output_type": "stream",
     "text": [
      "Epoch 1/20\n",
      "1355/2332 [================>.............] - ETA: 1:30 - loss: 1.1183 - accuracy: 0.5635"
     ]
    }
   ],
   "source": [
    "model.compile(loss='categorical_crossentropy', optimizer='adam', metrics=['accuracy'])\n",
    "\n",
    "checkpointer = ModelCheckpoint(filepath=output_path/\"stf_weights.keras\", verbose=1, save_weights_only=True,\n",
    "                               save_best_only=True, monitor=\"F1_score_val\", mode=\"max\")\n",
    "\n",
    "model.fit(\n",
    "\tx=(X_train), y=(label),\n",
    "\tbatch_size=batch_size,\n",
    "\tepochs=epoch,\n",
    "\tvalidation_data=(X_val, val_label),\n",
    "\tcallbacks=[checkpointer,\n",
    "               F1History(train=(X_train,label),validation=(X_val,val_label))],\n",
    "\tclass_weight={i:v for i, v in enumerate(class_weights)})"
   ]
  },
  {
   "cell_type": "code",
   "execution_count": null,
   "metadata": {},
   "outputs": [],
   "source": [
    "# Convert Model into JSON Format\n",
    "model_json = model.to_json()\n",
    "\n",
    "with open(output_path/\"cnn_text.json\", \"w\") as json_file:\n",
    "   json_file.write(model_json)"
   ]
  },
  {
   "cell_type": "code",
   "execution_count": null,
   "metadata": {},
   "outputs": [],
   "source": [
    "model.load_weights(output_path/\"stf_weights.keras\")"
   ]
  },
  {
   "cell_type": "code",
   "execution_count": null,
   "metadata": {},
   "outputs": [],
   "source": [
    "test_predict_1 = model.predict(X_val, verbose=1)\n",
    "pred_1 = test_predict_1.argmax(axis=1)\n",
    "\n",
    "target_names = ['acordao_de_2_instancia','agravo_em_recurso_extraordinario', 'despacho_de_admissibilidade', 'outros', 'peticao_do_RE', 'sentenca']\n",
    "print(classification_report(val_label_toTest, pred_1, target_names=target_names, digits=4))"
   ]
  },
  {
   "cell_type": "code",
   "execution_count": null,
   "metadata": {},
   "outputs": [],
   "source": [
    "model.compile(loss='categorical_crossentropy', optimizer='adam', metrics=['accuracy'])\n",
    "\n",
    "checkpointer = ModelCheckpoint(filepath=output_path/\"stf_no_weights.keras\", verbose=1, save_weights_only=True,\n",
    "                               save_best_only=True, monitor=\"F1_score_val\", mode=\"max\")\n",
    "\n",
    "model.fit(\n",
    "\tx=(X_train), y=(label),\n",
    "\tbatch_size=batch_size,\n",
    "\tepochs=epoch,\n",
    "\tvalidation_data=(X_val, val_label),\n",
    "\tcallbacks=[checkpointer,\n",
    "               F1History(train=(X_train,label),validation=(X_val,val_label))])"
   ]
  },
  {
   "cell_type": "code",
   "execution_count": null,
   "metadata": {},
   "outputs": [],
   "source": [
    "model.load_weights(output_path/\"stf_no_weights.keras\")"
   ]
  },
  {
   "cell_type": "code",
   "execution_count": null,
   "metadata": {},
   "outputs": [],
   "source": [
    "test_predict_1 = model.predict(X_val, verbose=1)\n",
    "pred_1 = test_predict_1.argmax(axis=1)\n",
    "\n",
    "target_names = ['acordao_de_2_instancia','agravo_em_recurso_extraordinario', 'despacho_de_admissibilidade', 'outros', 'peticao_do_RE', 'sentenca']\n",
    "print(classification_report(val_label_toTest, pred_1, target_names=target_names, digits=4))"
   ]
  },
  {
   "cell_type": "code",
   "execution_count": null,
   "metadata": {},
   "outputs": [],
   "source": [
    "test_predict_1 = model.predict(X_test, verbose=1)\n",
    "pred_1 = test_predict_1.argmax(axis=1)\n",
    "print(classification_report(test_label_toTest,\n",
    "                            pred_1, target_names=target_names, digits=4))"
   ]
  },
  {
   "cell_type": "code",
   "execution_count": null,
   "metadata": {},
   "outputs": [],
   "source": []
  }
 ],
 "metadata": {
  "kernelspec": {
   "display_name": "fastai2",
   "language": "python",
   "name": "fastai2"
  },
  "language_info": {
   "codemirror_mode": {
    "name": "ipython",
    "version": 3
   },
   "file_extension": ".py",
   "mimetype": "text/x-python",
   "name": "python",
   "nbconvert_exporter": "python",
   "pygments_lexer": "ipython3",
   "version": "3.8.5"
  }
 },
 "nbformat": 4,
 "nbformat_minor": 4
}
