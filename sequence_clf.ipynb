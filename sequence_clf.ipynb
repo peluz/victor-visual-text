{
 "cells": [
  {
   "cell_type": "code",
   "execution_count": 3,
   "metadata": {},
   "outputs": [
    {
     "name": "stdout",
     "output_type": "stream",
     "text": [
      "The autoreload extension is already loaded. To reload it, use:\n",
      "  %reload_ext autoreload\n"
     ]
    }
   ],
   "source": [
    "%load_ext autoreload\n",
    "%autoreload 2\n",
    "\n",
    "from fastai.text.all import *\n",
    "from fastai.vision.all import *\n",
    "import pandas as pd\n",
    "import torch\n",
    "from tqdm.notebook import tqdm\n",
    "from sklearn.metrics import classification_report, f1_score\n",
    "from torchcrf import CRF\n",
    "from utils import get_sequences, GetLabels, My_Pad_Input"
   ]
  },
  {
   "cell_type": "code",
   "execution_count": 4,
   "metadata": {},
   "outputs": [],
   "source": [
    "seed = 42\n",
    "\n",
    "# python RNG\n",
    "import random\n",
    "random.seed(seed)\n",
    "\n",
    "# pytorch RNGs\n",
    "import torch\n",
    "torch.manual_seed(seed)\n",
    "torch.backends.cudnn.deterministic = True\n",
    "if torch.cuda.is_available(): torch.cuda.manual_seed_all(seed)\n",
    "\n",
    "# numpy RNG\n",
    "import numpy as np\n",
    "np.random.seed(seed)"
   ]
  },
  {
   "cell_type": "code",
   "execution_count": 5,
   "metadata": {},
   "outputs": [],
   "source": [
    "OUT_DIM=12\n",
    "INPUT_DIM=128\n",
    "BS= 64"
   ]
  },
  {
   "cell_type": "code",
   "execution_count": 6,
   "metadata": {},
   "outputs": [],
   "source": [
    "train = pd.read_csv(\"./data/train_fusion.csv\")\n",
    "val = pd.read_csv(\"./data/val_fusion.csv\")\n",
    "test_data = pd.read_csv(\"./data/test_fusion.csv\")"
   ]
  },
  {
   "cell_type": "code",
   "execution_count": 7,
   "metadata": {},
   "outputs": [],
   "source": [
    "train[\"document_type\"] = train.apply(lambda x: \"B-\" + x[\"document_type\"] if x[\"pages\"] == 1 else \"I-\" + x[\"document_type\"],\n",
    "                                     axis=1)\n",
    "val[\"document_type\"] = val.apply(lambda x: \"B-\" + x[\"document_type\"] if x[\"pages\"] == 1 else \"I-\" + x[\"document_type\"],\n",
    "                                     axis=1)\n",
    "test_data[\"document_type\"] = test_data.apply(lambda x: \"B-\" + x[\"document_type\"] if x[\"pages\"] == 1 else \"I-\" + x[\"document_type\"],\n",
    "                                   axis=1)"
   ]
  },
  {
   "cell_type": "code",
   "execution_count": 8,
   "metadata": {},
   "outputs": [],
   "source": [
    "X_train, y_train = get_sequences(train)\n",
    "X_valid, y_valid = get_sequences(val)\n",
    "X_test, y_test = get_sequences(test_data)"
   ]
  },
  {
   "cell_type": "code",
   "execution_count": 9,
   "metadata": {},
   "outputs": [],
   "source": [
    "data = pd.concat([pd.DataFrame({\"acts\":X_train, \"labels\":y_train, \"is_valid\": False}),\n",
    "                 pd.DataFrame({\"acts\":X_valid, \"labels\":y_valid, \"is_valid\": True})])"
   ]
  },
  {
   "cell_type": "code",
   "execution_count": 10,
   "metadata": {},
   "outputs": [],
   "source": [
    "class GetFusionActs(Transform):\n",
    "    def encodes(self, x):    \n",
    "        acts = []\n",
    "        for act in x[\"acts\"]:\n",
    "            acts.append(torch.load(act.replace(\"text\", \"fusion\") + \".pt\").unsqueeze(0)) \n",
    "        return torch.cat(acts)"
   ]
  },
  {
   "cell_type": "code",
   "execution_count": 11,
   "metadata": {},
   "outputs": [],
   "source": [
    "my_pad_input=My_Pad_Input(12)"
   ]
  },
  {
   "cell_type": "code",
   "execution_count": 19,
   "metadata": {},
   "outputs": [],
   "source": [
    "tfms = [[GetFusionActs()], [GetLabels()]]\n",
    "splits = ColSplitter()(data)\n",
    "dsets = Datasets(data, tfms, splits=splits)\n",
    "dls = dsets.dataloaders(dl_type=SortedDL, before_batch=partial(my_pad_input, pad_fields=[0,1]), bs=BS)"
   ]
  },
  {
   "cell_type": "code",
   "execution_count": null,
   "metadata": {},
   "outputs": [],
   "source": [
    "dls.one_batch()"
   ]
  },
  {
   "cell_type": "code",
   "execution_count": 20,
   "metadata": {},
   "outputs": [],
   "source": [
    "torch.save(dls, \"./data/dls_sequence.pth\")"
   ]
  },
  {
   "cell_type": "code",
   "execution_count": 12,
   "metadata": {},
   "outputs": [],
   "source": [
    "dls = torch.load(\"./data/dls_sequence.pth\")"
   ]
  },
  {
   "cell_type": "code",
   "execution_count": 21,
   "metadata": {},
   "outputs": [],
   "source": [
    "class SequenceModel(Module):\n",
    "    def __init__(self, input_dim, out_dim, hidden_dim=128):\n",
    "        self.lstm = torch.nn.LSTM(input_size=input_dim, hidden_size=hidden_dim,\n",
    "                                  batch_first=True, bidirectional=True).cuda()\n",
    "        self.bn = nn.BatchNorm1d(hidden_dim*2, momentum=0.01).cuda()\n",
    "        self.drop = nn.Dropout().cuda()\n",
    "        self.lin = nn.Linear(hidden_dim*2, out_dim).cuda()\n",
    "        \n",
    "    def forward(self, x):\n",
    "        out, _ = self.lstm(x)\n",
    "        out = out.permute(0, 2, 1)\n",
    "        out_norm = self.bn(out)\n",
    "        out_drop = self.drop(out_norm)\n",
    "        out_drop = out_drop.permute(0, 2, 1)\n",
    "        return self.lin(out_drop)"
   ]
  },
  {
   "cell_type": "code",
   "execution_count": 22,
   "metadata": {},
   "outputs": [],
   "source": [
    "model = SequenceModel(128, 12)"
   ]
  },
  {
   "cell_type": "code",
   "execution_count": 23,
   "metadata": {},
   "outputs": [],
   "source": [
    "def loss_func(out, targ):\n",
    "    return CrossEntropyLossFlat(ignore_index=OUT_DIM)(out, targ.long())"
   ]
  },
  {
   "cell_type": "code",
   "execution_count": 24,
   "metadata": {},
   "outputs": [],
   "source": [
    "def _accumulate(self, learn):\n",
    "    pred = learn.pred\n",
    "    targ = learn.y\n",
    "    pred,targ = to_detach(pred),to_detach(targ)\n",
    "    pred =np.argmax(pred, axis=-1)\n",
    "    pred, targ = flatten_check(pred, targ)\n",
    "    pad_idxs = [i for i,x in enumerate(targ) if x != tensor([12])]\n",
    "    pred = pred[pad_idxs]\n",
    "    targ = targ[pad_idxs]\n",
    "    pred = torch.remainder(pred, 6)\n",
    "    targ = torch.remainder(targ, 6)\n",
    "    self.preds.append(pred)\n",
    "    self.targs.append(targ)\n",
    "\n",
    "AccumMetric.accumulate = _accumulate\n",
    "\n",
    "def MyFScore(average='macro'):\n",
    "    return skm_to_fastai(f1_score, average=average)"
   ]
  },
  {
   "cell_type": "code",
   "execution_count": 25,
   "metadata": {},
   "outputs": [],
   "source": [
    "learn = Learner(dls, model, loss_func=loss_func, metrics=[MyFScore()])"
   ]
  },
  {
   "cell_type": "code",
   "execution_count": 26,
   "metadata": {},
   "outputs": [
    {
     "data": {
      "text/html": [
       "<table border=\"1\" class=\"dataframe\">\n",
       "  <thead>\n",
       "    <tr style=\"text-align: left;\">\n",
       "      <th>epoch</th>\n",
       "      <th>train_loss</th>\n",
       "      <th>valid_loss</th>\n",
       "      <th>f1_score</th>\n",
       "      <th>time</th>\n",
       "    </tr>\n",
       "  </thead>\n",
       "  <tbody>\n",
       "    <tr>\n",
       "      <td>0</td>\n",
       "      <td>None</td>\n",
       "      <td>None</td>\n",
       "      <td>00:00</td>\n",
       "    </tr>\n",
       "  </tbody>\n",
       "</table>"
      ],
      "text/plain": [
       "<IPython.core.display.HTML object>"
      ]
     },
     "metadata": {},
     "output_type": "display_data"
    },
    {
     "data": {
      "text/plain": [
       "SequenceModel (Input shape: ['64 x 4242 x 128'])\n",
       "================================================================\n",
       "Layer (type)         Output Shape         Param #    Trainable \n",
       "================================================================\n",
       "LSTM                 ['64 x 4242 x 256',  264,192    True      \n",
       "________________________________________________________________\n",
       "BatchNorm1d          64 x 256 x 4242      512        True      \n",
       "________________________________________________________________\n",
       "Dropout              64 x 256 x 4242      0          False     \n",
       "________________________________________________________________\n",
       "Linear               64 x 4242 x 12       3,084      True      \n",
       "________________________________________________________________\n",
       "\n",
       "Total params: 267,788\n",
       "Total trainable params: 267,788\n",
       "Total non-trainable params: 0\n",
       "\n",
       "Optimizer used: <function Adam at 0x7fd07c9f54c0>\n",
       "Loss function: <function loss_func at 0x7fd06753a5e0>\n",
       "\n",
       "Callbacks:\n",
       "  - TrainEvalCallback\n",
       "  - Recorder\n",
       "  - ProgressCallback"
      ]
     },
     "execution_count": 26,
     "metadata": {},
     "output_type": "execute_result"
    }
   ],
   "source": [
    "learn.summary()"
   ]
  },
  {
   "cell_type": "code",
   "execution_count": 27,
   "metadata": {},
   "outputs": [
    {
     "data": {
      "text/html": [],
      "text/plain": [
       "<IPython.core.display.HTML object>"
      ]
     },
     "metadata": {},
     "output_type": "display_data"
    },
    {
     "data": {
      "text/plain": [
       "(#2) [2.5863826274871826,0.049502885806878415]"
      ]
     },
     "execution_count": 27,
     "metadata": {},
     "output_type": "execute_result"
    }
   ],
   "source": [
    "learn.validate()"
   ]
  },
  {
   "cell_type": "code",
   "execution_count": 28,
   "metadata": {},
   "outputs": [
    {
     "data": {
      "text/html": [],
      "text/plain": [
       "<IPython.core.display.HTML object>"
      ]
     },
     "metadata": {},
     "output_type": "display_data"
    },
    {
     "data": {
      "text/plain": [
       "SuggestedLRs(lr_min=0.025118863582611083, lr_steep=0.03981071710586548)"
      ]
     },
     "execution_count": 28,
     "metadata": {},
     "output_type": "execute_result"
    },
    {
     "data": {
      "image/png": "[encoded data removed]",
      "text/plain": [
       "<Figure size 432x288 with 1 Axes>"
      ]
     },
     "metadata": {
      "needs_background": "light"
     },
     "output_type": "display_data"
    }
   ],
   "source": [
    "learn.lr_find()"
   ]
  },
  {
   "cell_type": "code",
   "execution_count": 29,
   "metadata": {},
   "outputs": [],
   "source": [
    "learn.add_cbs([SaveModelCallback(monitor='f1_score', fname='best_sequence_128'),\n",
    "                                       ShowGraphCallback()])"
   ]
  },
  {
   "cell_type": "code",
   "execution_count": 30,
   "metadata": {},
   "outputs": [
    {
     "data": {
      "text/html": [
       "<table border=\"1\" class=\"dataframe\">\n",
       "  <thead>\n",
       "    <tr style=\"text-align: left;\">\n",
       "      <th>epoch</th>\n",
       "      <th>train_loss</th>\n",
       "      <th>valid_loss</th>\n",
       "      <th>f1_score</th>\n",
       "      <th>time</th>\n",
       "    </tr>\n",
       "  </thead>\n",
       "  <tbody>\n",
       "    <tr>\n",
       "      <td>0</td>\n",
       "      <td>1.961057</td>\n",
       "      <td>1.081553</td>\n",
       "      <td>0.610358</td>\n",
       "      <td>03:36</td>\n",
       "    </tr>\n",
       "    <tr>\n",
       "      <td>1</td>\n",
       "      <td>1.051916</td>\n",
       "      <td>0.741459</td>\n",
       "      <td>0.325666</td>\n",
       "      <td>04:25</td>\n",
       "    </tr>\n",
       "    <tr>\n",
       "      <td>2</td>\n",
       "      <td>0.778732</td>\n",
       "      <td>0.678201</td>\n",
       "      <td>0.522402</td>\n",
       "      <td>04:16</td>\n",
       "    </tr>\n",
       "    <tr>\n",
       "      <td>3</td>\n",
       "      <td>0.650243</td>\n",
       "      <td>0.632359</td>\n",
       "      <td>0.546386</td>\n",
       "      <td>04:31</td>\n",
       "    </tr>\n",
       "    <tr>\n",
       "      <td>4</td>\n",
       "      <td>0.595360</td>\n",
       "      <td>0.850648</td>\n",
       "      <td>0.606682</td>\n",
       "      <td>04:12</td>\n",
       "    </tr>\n",
       "    <tr>\n",
       "      <td>5</td>\n",
       "      <td>0.529355</td>\n",
       "      <td>0.692955</td>\n",
       "      <td>0.573457</td>\n",
       "      <td>04:01</td>\n",
       "    </tr>\n",
       "    <tr>\n",
       "      <td>6</td>\n",
       "      <td>0.571075</td>\n",
       "      <td>1.102272</td>\n",
       "      <td>0.660538</td>\n",
       "      <td>04:18</td>\n",
       "    </tr>\n",
       "    <tr>\n",
       "      <td>7</td>\n",
       "      <td>0.534762</td>\n",
       "      <td>0.795043</td>\n",
       "      <td>0.730020</td>\n",
       "      <td>04:10</td>\n",
       "    </tr>\n",
       "    <tr>\n",
       "      <td>8</td>\n",
       "      <td>0.477003</td>\n",
       "      <td>0.742114</td>\n",
       "      <td>0.763850</td>\n",
       "      <td>04:11</td>\n",
       "    </tr>\n",
       "    <tr>\n",
       "      <td>9</td>\n",
       "      <td>0.437202</td>\n",
       "      <td>0.715917</td>\n",
       "      <td>0.769394</td>\n",
       "      <td>04:07</td>\n",
       "    </tr>\n",
       "  </tbody>\n",
       "</table>"
      ],
      "text/plain": [
       "<IPython.core.display.HTML object>"
      ]
     },
     "metadata": {},
     "output_type": "display_data"
    },
    {
     "name": "stdout",
     "output_type": "stream",
     "text": [
      "Better model found at epoch 0 with f1_score value: 0.6103582659377209.\n"
     ]
    },
    {
     "data": {
      "image/png": "[encoded data removed]",
      "text/plain": [
       "<Figure size 432x288 with 1 Axes>"
      ]
     },
     "metadata": {},
     "output_type": "display_data"
    },
    {
     "name": "stdout",
     "output_type": "stream",
     "text": [
      "Better model found at epoch 6 with f1_score value: 0.6605381629039412.\n",
      "Better model found at epoch 7 with f1_score value: 0.7300203646811069.\n",
      "Better model found at epoch 8 with f1_score value: 0.7638503360387231.\n",
      "Better model found at epoch 9 with f1_score value: 0.7693939408255023.\n"
     ]
    }
   ],
   "source": [
    "learn.fit_one_cycle(10, lr_max=1e-2)"
   ]
  },
  {
   "cell_type": "code",
   "execution_count": 31,
   "metadata": {},
   "outputs": [],
   "source": [
    "model = SequenceModel(128, 12, hidden_dim=256)"
   ]
  },
  {
   "cell_type": "code",
   "execution_count": 32,
   "metadata": {},
   "outputs": [],
   "source": [
    "learn = Learner(dls, model, loss_func=loss_func, metrics=[MyFScore()])"
   ]
  },
  {
   "cell_type": "code",
   "execution_count": 33,
   "metadata": {},
   "outputs": [
    {
     "data": {
      "text/html": [
       "<table border=\"1\" class=\"dataframe\">\n",
       "  <thead>\n",
       "    <tr style=\"text-align: left;\">\n",
       "      <th>epoch</th>\n",
       "      <th>train_loss</th>\n",
       "      <th>valid_loss</th>\n",
       "      <th>f1_score</th>\n",
       "      <th>time</th>\n",
       "    </tr>\n",
       "  </thead>\n",
       "  <tbody>\n",
       "    <tr>\n",
       "      <td>0</td>\n",
       "      <td>None</td>\n",
       "      <td>None</td>\n",
       "      <td>00:00</td>\n",
       "    </tr>\n",
       "  </tbody>\n",
       "</table>"
      ],
      "text/plain": [
       "<IPython.core.display.HTML object>"
      ]
     },
     "metadata": {},
     "output_type": "display_data"
    },
    {
     "data": {
      "text/plain": [
       "SequenceModel (Input shape: ['64 x 4242 x 128'])\n",
       "================================================================\n",
       "Layer (type)         Output Shape         Param #    Trainable \n",
       "================================================================\n",
       "LSTM                 ['64 x 4242 x 512',  790,528    True      \n",
       "________________________________________________________________\n",
       "BatchNorm1d          64 x 512 x 4242      1,024      True      \n",
       "________________________________________________________________\n",
       "Dropout              64 x 512 x 4242      0          False     \n",
       "________________________________________________________________\n",
       "Linear               64 x 4242 x 12       6,156      True      \n",
       "________________________________________________________________\n",
       "\n",
       "Total params: 797,708\n",
       "Total trainable params: 797,708\n",
       "Total non-trainable params: 0\n",
       "\n",
       "Optimizer used: <function Adam at 0x7fd07c9f54c0>\n",
       "Loss function: <function loss_func at 0x7fd06753a5e0>\n",
       "\n",
       "Callbacks:\n",
       "  - TrainEvalCallback\n",
       "  - Recorder\n",
       "  - ProgressCallback"
      ]
     },
     "execution_count": 33,
     "metadata": {},
     "output_type": "execute_result"
    }
   ],
   "source": [
    "learn.summary()"
   ]
  },
  {
   "cell_type": "code",
   "execution_count": 34,
   "metadata": {},
   "outputs": [
    {
     "data": {
      "text/html": [],
      "text/plain": [
       "<IPython.core.display.HTML object>"
      ]
     },
     "metadata": {},
     "output_type": "display_data"
    },
    {
     "data": {
      "text/plain": [
       "SuggestedLRs(lr_min=0.03630780577659607, lr_steep=0.019054606556892395)"
      ]
     },
     "execution_count": 34,
     "metadata": {},
     "output_type": "execute_result"
    },
    {
     "data": {
      "image/png": "[encoded data removed]",
      "text/plain": [
       "<Figure size 432x288 with 1 Axes>"
      ]
     },
     "metadata": {
      "needs_background": "light"
     },
     "output_type": "display_data"
    }
   ],
   "source": [
    "learn.lr_find()"
   ]
  },
  {
   "cell_type": "code",
   "execution_count": 35,
   "metadata": {},
   "outputs": [],
   "source": [
    "learn.add_cbs([SaveModelCallback(monitor='f1_score', fname='best_sequence_256'),\n",
    "                                       ShowGraphCallback()])"
   ]
  },
  {
   "cell_type": "code",
   "execution_count": 36,
   "metadata": {},
   "outputs": [
    {
     "data": {
      "text/html": [
       "<table border=\"1\" class=\"dataframe\">\n",
       "  <thead>\n",
       "    <tr style=\"text-align: left;\">\n",
       "      <th>epoch</th>\n",
       "      <th>train_loss</th>\n",
       "      <th>valid_loss</th>\n",
       "      <th>f1_score</th>\n",
       "      <th>time</th>\n",
       "    </tr>\n",
       "  </thead>\n",
       "  <tbody>\n",
       "    <tr>\n",
       "      <td>0</td>\n",
       "      <td>1.738328</td>\n",
       "      <td>0.706088</td>\n",
       "      <td>0.597457</td>\n",
       "      <td>03:43</td>\n",
       "    </tr>\n",
       "    <tr>\n",
       "      <td>1</td>\n",
       "      <td>1.050031</td>\n",
       "      <td>0.635543</td>\n",
       "      <td>0.425321</td>\n",
       "      <td>03:49</td>\n",
       "    </tr>\n",
       "    <tr>\n",
       "      <td>2</td>\n",
       "      <td>0.854596</td>\n",
       "      <td>2.389529</td>\n",
       "      <td>0.507217</td>\n",
       "      <td>04:12</td>\n",
       "    </tr>\n",
       "    <tr>\n",
       "      <td>3</td>\n",
       "      <td>0.712987</td>\n",
       "      <td>0.630090</td>\n",
       "      <td>0.535214</td>\n",
       "      <td>04:03</td>\n",
       "    </tr>\n",
       "    <tr>\n",
       "      <td>4</td>\n",
       "      <td>0.616051</td>\n",
       "      <td>1.110406</td>\n",
       "      <td>0.506089</td>\n",
       "      <td>04:15</td>\n",
       "    </tr>\n",
       "    <tr>\n",
       "      <td>5</td>\n",
       "      <td>0.556068</td>\n",
       "      <td>0.670646</td>\n",
       "      <td>0.755296</td>\n",
       "      <td>04:04</td>\n",
       "    </tr>\n",
       "    <tr>\n",
       "      <td>6</td>\n",
       "      <td>0.514513</td>\n",
       "      <td>0.671462</td>\n",
       "      <td>0.725564</td>\n",
       "      <td>04:02</td>\n",
       "    </tr>\n",
       "    <tr>\n",
       "      <td>7</td>\n",
       "      <td>0.474921</td>\n",
       "      <td>0.686596</td>\n",
       "      <td>0.754778</td>\n",
       "      <td>04:23</td>\n",
       "    </tr>\n",
       "    <tr>\n",
       "      <td>8</td>\n",
       "      <td>0.454099</td>\n",
       "      <td>0.659062</td>\n",
       "      <td>0.763931</td>\n",
       "      <td>04:15</td>\n",
       "    </tr>\n",
       "    <tr>\n",
       "      <td>9</td>\n",
       "      <td>0.439986</td>\n",
       "      <td>0.660476</td>\n",
       "      <td>0.770568</td>\n",
       "      <td>04:09</td>\n",
       "    </tr>\n",
       "  </tbody>\n",
       "</table>"
      ],
      "text/plain": [
       "<IPython.core.display.HTML object>"
      ]
     },
     "metadata": {},
     "output_type": "display_data"
    },
    {
     "name": "stdout",
     "output_type": "stream",
     "text": [
      "Better model found at epoch 0 with f1_score value: 0.5974572802351404.\n"
     ]
    },
    {
     "data": {
      "image/png": "[encoded data removed]",
      "text/plain": [
       "<Figure size 432x288 with 1 Axes>"
      ]
     },
     "metadata": {},
     "output_type": "display_data"
    },
    {
     "name": "stdout",
     "output_type": "stream",
     "text": [
      "Better model found at epoch 5 with f1_score value: 0.7552957386895588.\n",
      "Better model found at epoch 8 with f1_score value: 0.7639306937349533.\n",
      "Better model found at epoch 9 with f1_score value: 0.7705676184137128.\n"
     ]
    }
   ],
   "source": [
    "learn.fit_one_cycle(10, lr_max=1e-2)"
   ]
  },
  {
   "cell_type": "code",
   "execution_count": 37,
   "metadata": {},
   "outputs": [],
   "source": [
    "model = SequenceModel(128, 12)"
   ]
  },
  {
   "cell_type": "code",
   "execution_count": 38,
   "metadata": {},
   "outputs": [],
   "source": [
    "learn = Learner(dls, model, loss_func=loss_func, metrics=[MyFScore()])"
   ]
  },
  {
   "cell_type": "code",
   "execution_count": 39,
   "metadata": {},
   "outputs": [
    {
     "data": {
      "text/html": [
       "<table border=\"1\" class=\"dataframe\">\n",
       "  <thead>\n",
       "    <tr style=\"text-align: left;\">\n",
       "      <th>epoch</th>\n",
       "      <th>train_loss</th>\n",
       "      <th>valid_loss</th>\n",
       "      <th>f1_score</th>\n",
       "      <th>time</th>\n",
       "    </tr>\n",
       "  </thead>\n",
       "  <tbody>\n",
       "    <tr>\n",
       "      <td>0</td>\n",
       "      <td>None</td>\n",
       "      <td>None</td>\n",
       "      <td>00:00</td>\n",
       "    </tr>\n",
       "  </tbody>\n",
       "</table>"
      ],
      "text/plain": [
       "<IPython.core.display.HTML object>"
      ]
     },
     "metadata": {},
     "output_type": "display_data"
    },
    {
     "data": {
      "text/plain": [
       "SequenceModel (Input shape: ['64 x 4242 x 128'])\n",
       "================================================================\n",
       "Layer (type)         Output Shape         Param #    Trainable \n",
       "================================================================\n",
       "LSTM                 ['64 x 4242 x 256',  264,192    True      \n",
       "________________________________________________________________\n",
       "BatchNorm1d          64 x 256 x 4242      512        True      \n",
       "________________________________________________________________\n",
       "Dropout              64 x 256 x 4242      0          False     \n",
       "________________________________________________________________\n",
       "Linear               64 x 4242 x 12       3,084      True      \n",
       "________________________________________________________________\n",
       "\n",
       "Total params: 267,788\n",
       "Total trainable params: 267,788\n",
       "Total non-trainable params: 0\n",
       "\n",
       "Optimizer used: <function Adam at 0x7fd07c9f54c0>\n",
       "Loss function: <function loss_func at 0x7fd06753a5e0>\n",
       "\n",
       "Callbacks:\n",
       "  - TrainEvalCallback\n",
       "  - Recorder\n",
       "  - ProgressCallback"
      ]
     },
     "execution_count": 39,
     "metadata": {},
     "output_type": "execute_result"
    }
   ],
   "source": [
    "learn.summary()"
   ]
  },
  {
   "cell_type": "code",
   "execution_count": 40,
   "metadata": {},
   "outputs": [
    {
     "data": {
      "text/html": [],
      "text/plain": [
       "<IPython.core.display.HTML object>"
      ]
     },
     "metadata": {},
     "output_type": "display_data"
    },
    {
     "data": {
      "text/plain": [
       "SuggestedLRs(lr_min=0.03019951581954956, lr_steep=0.2089296132326126)"
      ]
     },
     "execution_count": 40,
     "metadata": {},
     "output_type": "execute_result"
    },
    {
     "data": {
      "image/png": "[encoded data removed]",
      "text/plain": [
       "<Figure size 432x288 with 1 Axes>"
      ]
     },
     "metadata": {
      "needs_background": "light"
     },
     "output_type": "display_data"
    }
   ],
   "source": [
    "learn.lr_find()"
   ]
  },
  {
   "cell_type": "code",
   "execution_count": 41,
   "metadata": {},
   "outputs": [],
   "source": [
    "learn.add_cbs([SaveModelCallback(monitor='f1_score', fname='best_sequence_128_more_epochs'),\n",
    "                                       ShowGraphCallback()])"
   ]
  },
  {
   "cell_type": "code",
   "execution_count": 74,
   "metadata": {},
   "outputs": [
    {
     "data": {
      "text/html": [
       "<table border=\"1\" class=\"dataframe\">\n",
       "  <thead>\n",
       "    <tr style=\"text-align: left;\">\n",
       "      <th>epoch</th>\n",
       "      <th>train_loss</th>\n",
       "      <th>valid_loss</th>\n",
       "      <th>f1_score</th>\n",
       "      <th>time</th>\n",
       "    </tr>\n",
       "  </thead>\n",
       "  <tbody>\n",
       "    <tr>\n",
       "      <td>0</td>\n",
       "      <td>21.824802</td>\n",
       "      <td>39.532612</td>\n",
       "      <td>0.783157</td>\n",
       "      <td>04:33</td>\n",
       "    </tr>\n",
       "    <tr>\n",
       "      <td>1</td>\n",
       "      <td>21.640242</td>\n",
       "      <td>40.254009</td>\n",
       "      <td>0.784706</td>\n",
       "      <td>04:17</td>\n",
       "    </tr>\n",
       "    <tr>\n",
       "      <td>2</td>\n",
       "      <td>21.259405</td>\n",
       "      <td>39.345985</td>\n",
       "      <td>0.779711</td>\n",
       "      <td>04:47</td>\n",
       "    </tr>\n",
       "    <tr>\n",
       "      <td>3</td>\n",
       "      <td>21.476702</td>\n",
       "      <td>42.383537</td>\n",
       "      <td>0.779622</td>\n",
       "      <td>04:17</td>\n",
       "    </tr>\n",
       "    <tr>\n",
       "      <td>4</td>\n",
       "      <td>23.249653</td>\n",
       "      <td>40.144146</td>\n",
       "      <td>0.777574</td>\n",
       "      <td>04:25</td>\n",
       "    </tr>\n",
       "    <tr>\n",
       "      <td>5</td>\n",
       "      <td>25.783693</td>\n",
       "      <td>50.547745</td>\n",
       "      <td>0.781810</td>\n",
       "      <td>04:14</td>\n",
       "    </tr>\n",
       "    <tr>\n",
       "      <td>6</td>\n",
       "      <td>26.843296</td>\n",
       "      <td>40.940971</td>\n",
       "      <td>0.780256</td>\n",
       "      <td>04:31</td>\n",
       "    </tr>\n",
       "    <tr>\n",
       "      <td>7</td>\n",
       "      <td>22.409956</td>\n",
       "      <td>39.435081</td>\n",
       "      <td>0.783081</td>\n",
       "      <td>04:19</td>\n",
       "    </tr>\n",
       "    <tr>\n",
       "      <td>8</td>\n",
       "      <td>20.038574</td>\n",
       "      <td>39.131020</td>\n",
       "      <td>0.780873</td>\n",
       "      <td>04:25</td>\n",
       "    </tr>\n",
       "    <tr>\n",
       "      <td>9</td>\n",
       "      <td>19.074781</td>\n",
       "      <td>37.723991</td>\n",
       "      <td>0.785197</td>\n",
       "      <td>04:16</td>\n",
       "    </tr>\n",
       "    <tr>\n",
       "      <td>10</td>\n",
       "      <td>17.892643</td>\n",
       "      <td>36.305256</td>\n",
       "      <td>0.784671</td>\n",
       "      <td>04:06</td>\n",
       "    </tr>\n",
       "    <tr>\n",
       "      <td>11</td>\n",
       "      <td>18.981653</td>\n",
       "      <td>40.591682</td>\n",
       "      <td>0.786249</td>\n",
       "      <td>04:14</td>\n",
       "    </tr>\n",
       "    <tr>\n",
       "      <td>12</td>\n",
       "      <td>20.648006</td>\n",
       "      <td>33.797417</td>\n",
       "      <td>0.785391</td>\n",
       "      <td>04:29</td>\n",
       "    </tr>\n",
       "    <tr>\n",
       "      <td>13</td>\n",
       "      <td>18.852438</td>\n",
       "      <td>35.746223</td>\n",
       "      <td>0.786812</td>\n",
       "      <td>04:33</td>\n",
       "    </tr>\n",
       "    <tr>\n",
       "      <td>14</td>\n",
       "      <td>18.113564</td>\n",
       "      <td>34.851479</td>\n",
       "      <td>0.785838</td>\n",
       "      <td>04:29</td>\n",
       "    </tr>\n",
       "    <tr>\n",
       "      <td>15</td>\n",
       "      <td>16.804720</td>\n",
       "      <td>36.010117</td>\n",
       "      <td>0.788503</td>\n",
       "      <td>04:07</td>\n",
       "    </tr>\n",
       "    <tr>\n",
       "      <td>16</td>\n",
       "      <td>16.061895</td>\n",
       "      <td>35.459801</td>\n",
       "      <td>0.786479</td>\n",
       "      <td>04:04</td>\n",
       "    </tr>\n",
       "    <tr>\n",
       "      <td>17</td>\n",
       "      <td>15.694181</td>\n",
       "      <td>35.839249</td>\n",
       "      <td>0.786241</td>\n",
       "      <td>04:13</td>\n",
       "    </tr>\n",
       "    <tr>\n",
       "      <td>18</td>\n",
       "      <td>16.417028</td>\n",
       "      <td>35.648422</td>\n",
       "      <td>0.785140</td>\n",
       "      <td>04:40</td>\n",
       "    </tr>\n",
       "    <tr>\n",
       "      <td>19</td>\n",
       "      <td>16.688892</td>\n",
       "      <td>35.662739</td>\n",
       "      <td>0.785416</td>\n",
       "      <td>04:06</td>\n",
       "    </tr>\n",
       "  </tbody>\n",
       "</table>"
      ],
      "text/plain": [
       "<IPython.core.display.HTML object>"
      ]
     },
     "metadata": {},
     "output_type": "display_data"
    },
    {
     "name": "stdout",
     "output_type": "stream",
     "text": [
      "Better model found at epoch 0 with f1_score value: 0.783156751761378.\n"
     ]
    },
    {
     "data": {
      "image/png": "[encoded data removed]",
      "text/plain": [
       "<Figure size 432x288 with 1 Axes>"
      ]
     },
     "metadata": {},
     "output_type": "display_data"
    },
    {
     "name": "stdout",
     "output_type": "stream",
     "text": [
      "Better model found at epoch 1 with f1_score value: 0.7847055781112694.\n",
      "Better model found at epoch 9 with f1_score value: 0.7851965440420884.\n",
      "Better model found at epoch 11 with f1_score value: 0.7862494999451309.\n",
      "Better model found at epoch 13 with f1_score value: 0.7868117598336918.\n",
      "Better model found at epoch 15 with f1_score value: 0.7885034163592466.\n"
     ]
    }
   ],
   "source": [
    "learn.fit_one_cycle(20, lr_max=1e-3)"
   ]
  },
  {
   "cell_type": "code",
   "execution_count": 43,
   "metadata": {},
   "outputs": [
    {
     "data": {
      "text/plain": [
       "<fastai.learner.Learner at 0x7fd0a5d3da60>"
      ]
     },
     "execution_count": 43,
     "metadata": {},
     "output_type": "execute_result"
    }
   ],
   "source": [
    "learn.load(\"best_sequence_128_more_epochs\")"
   ]
  },
  {
   "cell_type": "code",
   "execution_count": 44,
   "metadata": {},
   "outputs": [],
   "source": [
    "def evaluate(learn, dl):\n",
    "    preds, targets = learn.get_preds(dl=dl)\n",
    "    preds =[np.argmax(x, axis=-1) for sublist in preds for x in sublist]\n",
    "    targets = [x for sublist in targets for x in sublist]\n",
    "    pad_idxs = [i for i,x in enumerate(targets) if x != tensor([12])]\n",
    "    preds = L(preds)[pad_idxs]\n",
    "    targets = L(targets)[pad_idxs]\n",
    "    print(classification_report(targets, preds, target_names=dl.get_labels.cat.vocab, digits=4))\n",
    "    preds = [x % 6 for x in preds]\n",
    "    targets = [x % 6 for x in targets]\n",
    "    print(classification_report(targets, preds, target_names=[x[2:] for x in dl.get_labels.cat.vocab[:6]], digits=4))"
   ]
  },
  {
   "cell_type": "code",
   "execution_count": 45,
   "metadata": {},
   "outputs": [
    {
     "data": {
      "text/html": [],
      "text/plain": [
       "<IPython.core.display.HTML object>"
      ]
     },
     "metadata": {},
     "output_type": "display_data"
    },
    {
     "name": "stdout",
     "output_type": "stream",
     "text": [
      "                                    precision    recall  f1-score   support\n",
      "\n",
      "          B-acordao_de_2_instancia     0.9189    0.6766    0.7794       201\n",
      "B-agravo_em_recurso_extraordinario     0.4167    0.0211    0.0402       237\n",
      "     B-despacho_de_admissibilidade     0.6645    0.6871    0.6756       147\n",
      "                          B-outros     0.7138    0.6261    0.6671     25898\n",
      "                   B-peticao_do_RE     0.1429    0.0031    0.0060       326\n",
      "                        B-sentenca     0.7820    0.3662    0.4988       284\n",
      "          I-acordao_de_2_instancia     0.4750    0.5816    0.5229        98\n",
      "I-agravo_em_recurso_extraordinario     0.5706    0.5539    0.5621      1912\n",
      "     I-despacho_de_admissibilidade     0.0000    0.0000    0.0000        36\n",
      "                          I-outros     0.8070    0.8533    0.8295     58206\n",
      "                   I-peticao_do_RE     0.6966    0.7844    0.7379      6038\n",
      "                        I-sentenca     0.7861    0.7204    0.7518      1352\n",
      "\n",
      "                          accuracy                         0.7712     94735\n",
      "                         macro avg     0.5812    0.4895    0.5059     94735\n",
      "                      weighted avg     0.7654    0.7712    0.7660     94735\n",
      "\n",
      "                                  precision    recall  f1-score   support\n",
      "\n",
      "          acordao_de_2_instancia     0.8843    0.7926    0.8360       299\n",
      "agravo_em_recurso_extraordinario     0.6247    0.5430    0.5810      2149\n",
      "     despacho_de_admissibilidade     0.7436    0.6339    0.6844       183\n",
      "                          outros     0.9686    0.9705    0.9696     84104\n",
      "                   peticao_do_RE     0.7298    0.7805    0.7543      6364\n",
      "                        sentenca     0.8819    0.7396    0.8045      1636\n",
      "\n",
      "                        accuracy                         0.9428     94735\n",
      "                       macro avg     0.8055    0.7434    0.7716     94735\n",
      "                    weighted avg     0.9426    0.9428    0.9425     94735\n",
      "\n"
     ]
    }
   ],
   "source": [
    "evaluate(learn, dls.valid)"
   ]
  },
  {
   "cell_type": "code",
   "execution_count": 46,
   "metadata": {},
   "outputs": [],
   "source": [
    "test_data = pd.DataFrame({\"acts\":X_test, \"labels\":y_test})"
   ]
  },
  {
   "cell_type": "code",
   "execution_count": 47,
   "metadata": {},
   "outputs": [],
   "source": [
    "test_dl = dls.test_dl(test_data, with_labels=True)"
   ]
  },
  {
   "cell_type": "code",
   "execution_count": 48,
   "metadata": {},
   "outputs": [],
   "source": [
    "torch.save(test_dl, \"./data/test_dl_sequence.pth\")"
   ]
  },
  {
   "cell_type": "code",
   "execution_count": 49,
   "metadata": {},
   "outputs": [],
   "source": [
    "test_dl = torch.load(\"./data/test_dl_sequence.pth\")"
   ]
  },
  {
   "cell_type": "code",
   "execution_count": 50,
   "metadata": {},
   "outputs": [
    {
     "data": {
      "text/html": [],
      "text/plain": [
       "<IPython.core.display.HTML object>"
      ]
     },
     "metadata": {},
     "output_type": "display_data"
    },
    {
     "name": "stdout",
     "output_type": "stream",
     "text": [
      "                                    precision    recall  f1-score   support\n",
      "\n",
      "          B-acordao_de_2_instancia     0.9456    0.6985    0.8035       199\n",
      "B-agravo_em_recurso_extraordinario     0.3750    0.0282    0.0524       213\n",
      "     B-despacho_de_admissibilidade     0.5833    0.6190    0.6007       147\n",
      "                          B-outros     0.7005    0.6256    0.6609     25744\n",
      "                   B-peticao_do_RE     0.2000    0.0032    0.0063       312\n",
      "                        B-sentenca     0.7480    0.3472    0.4742       265\n",
      "          I-acordao_de_2_instancia     0.4255    0.8108    0.5581        74\n",
      "I-agravo_em_recurso_extraordinario     0.5548    0.5442    0.5495      1628\n",
      "     I-despacho_de_admissibilidade     0.3333    0.0196    0.0370        51\n",
      "                          I-outros     0.8124    0.8546    0.8330     59664\n",
      "                   I-peticao_do_RE     0.7229    0.7712    0.7463      6019\n",
      "                        I-sentenca     0.7754    0.7446    0.7597      1210\n",
      "\n",
      "                          accuracy                         0.7737     95526\n",
      "                         macro avg     0.5981    0.5056    0.5068     95526\n",
      "                      weighted avg     0.7680    0.7737    0.7689     95526\n",
      "\n",
      "                                  precision    recall  f1-score   support\n",
      "\n",
      "          acordao_de_2_instancia     0.8542    0.9011    0.8770       273\n",
      "agravo_em_recurso_extraordinario     0.6107    0.5350    0.5704      1841\n",
      "     despacho_de_admissibilidade     0.6855    0.5505    0.6106       198\n",
      "                          outros     0.9701    0.9741    0.9721     85408\n",
      "                   peticao_do_RE     0.7574    0.7688    0.7630      6331\n",
      "                        sentenca     0.8778    0.7647    0.8174      1475\n",
      "\n",
      "                        accuracy                         0.9477     95526\n",
      "                       macro avg     0.7926    0.7490    0.7684     95526\n",
      "                    weighted avg     0.9468    0.9477    0.9471     95526\n",
      "\n"
     ]
    }
   ],
   "source": [
    "evaluate(learn, test_dl)"
   ]
  },
  {
   "cell_type": "markdown",
   "metadata": {},
   "source": [
    "### With CRF"
   ]
  },
  {
   "cell_type": "code",
   "execution_count": 51,
   "metadata": {},
   "outputs": [],
   "source": [
    "class BiLSTMCRF(Module):\n",
    "    def __init__(self, hidden_dim=128, out_dim=OUT_DIM):\n",
    "        self.lstm = torch.nn.LSTM(input_size=INPUT_DIM, hidden_size=hidden_dim,\n",
    "                                  batch_first=True, bidirectional=True).cuda()\n",
    "        self.bn = nn.BatchNorm1d(hidden_dim*2, momentum=0.01).cuda()\n",
    "        self.drop = nn.Dropout().cuda()\n",
    "        self.lin = nn.Linear(hidden_dim*2, out_dim).cuda()\n",
    "        self.crf = CRF(num_tags=OUT_DIM, batch_first=True).cuda()\n",
    "            \n",
    "    def crf_loss_func(self, out, targ):\n",
    "        mask = tensor(targ.data != OUT_DIM)\n",
    "        clean_targ = targ.clone()\n",
    "        clean_targ[clean_targ==OUT_DIM]=0\n",
    "        targ=targ.view(out.shape[:2])\n",
    "        clean_targ=clean_targ.view(targ.shape)\n",
    "        mask=mask.view(targ.shape)\n",
    "        return -self.crf(out, clean_targ.long(), mask=mask, reduction=\"mean\")\n",
    "        \n",
    "    def forward(self, x):\n",
    "        out, _ = self.lstm(x)\n",
    "        out = out.permute(0, 2, 1)\n",
    "        out_norm = self.bn(out)\n",
    "        out_drop = self.drop(out_norm)\n",
    "        out_drop = out_drop.permute(0, 2, 1)\n",
    "        logits = self.lin(out_drop)\n",
    "        return logits"
   ]
  },
  {
   "cell_type": "code",
   "execution_count": 52,
   "metadata": {},
   "outputs": [],
   "source": [
    "model = BiLSTMCRF()"
   ]
  },
  {
   "cell_type": "code",
   "execution_count": 53,
   "metadata": {},
   "outputs": [],
   "source": [
    "def _accumulate(self, learn):\n",
    "    pred = learn.pred\n",
    "    targ = learn.y\n",
    "    mask = tensor(targ.data != OUT_DIM)\n",
    "    pred,targ, mask = to_detach(pred),to_detach(targ), to_detach(mask)\n",
    "    mask=mask.view(pred.shape[:2])\n",
    "    pred = learn.model.crf.decode(pred.cuda(),mask=mask.cuda())\n",
    "    pred = tensor([[x for sublist in pred for x in sublist]]).view(-1)\n",
    "    targ = targ[mask].view(-1)\n",
    "    pred = torch.remainder(pred, 6)\n",
    "    targ = torch.remainder(targ, 6)\n",
    "    self.preds.append(pred)\n",
    "    self.targs.append(targ)\n",
    "\n",
    "AccumMetric.accumulate = _accumulate\n",
    "\n",
    "def MyFScore(average='macro'):\n",
    "    return skm_to_fastai(f1_score, average=average)"
   ]
  },
  {
   "cell_type": "code",
   "execution_count": 54,
   "metadata": {},
   "outputs": [],
   "source": [
    "learn = Learner(dls, model, loss_func=model.crf_loss_func, metrics=[MyFScore()])"
   ]
  },
  {
   "cell_type": "code",
   "execution_count": 55,
   "metadata": {},
   "outputs": [
    {
     "data": {
      "text/html": [],
      "text/plain": [
       "<IPython.core.display.HTML object>"
      ]
     },
     "metadata": {},
     "output_type": "display_data"
    },
    {
     "data": {
      "text/plain": [
       "(#2) [130.3740692138672,0.05782180110321647]"
      ]
     },
     "execution_count": 55,
     "metadata": {},
     "output_type": "execute_result"
    }
   ],
   "source": [
    "learn.validate()"
   ]
  },
  {
   "cell_type": "code",
   "execution_count": 56,
   "metadata": {},
   "outputs": [
    {
     "data": {
      "text/html": [
       "<table border=\"1\" class=\"dataframe\">\n",
       "  <thead>\n",
       "    <tr style=\"text-align: left;\">\n",
       "      <th>epoch</th>\n",
       "      <th>train_loss</th>\n",
       "      <th>valid_loss</th>\n",
       "      <th>f1_score</th>\n",
       "      <th>time</th>\n",
       "    </tr>\n",
       "  </thead>\n",
       "  <tbody>\n",
       "    <tr>\n",
       "      <td>0</td>\n",
       "      <td>None</td>\n",
       "      <td>None</td>\n",
       "      <td>00:00</td>\n",
       "    </tr>\n",
       "  </tbody>\n",
       "</table>"
      ],
      "text/plain": [
       "<IPython.core.display.HTML object>"
      ]
     },
     "metadata": {},
     "output_type": "display_data"
    },
    {
     "data": {
      "text/plain": [
       "BiLSTMCRF (Input shape: ['64 x 4242 x 128'])\n",
       "================================================================\n",
       "Layer (type)         Output Shape         Param #    Trainable \n",
       "================================================================\n",
       "LSTM                 ['64 x 4242 x 256',  264,192    True      \n",
       "________________________________________________________________\n",
       "BatchNorm1d          64 x 256 x 4242      512        True      \n",
       "________________________________________________________________\n",
       "Dropout              64 x 256 x 4242      0          False     \n",
       "________________________________________________________________\n",
       "Linear               64 x 4242 x 12       3,084      True      \n",
       "________________________________________________________________\n",
       "\n",
       "Total params: 267,788\n",
       "Total trainable params: 267,788\n",
       "Total non-trainable params: 0\n",
       "\n",
       "Optimizer used: <function Adam at 0x7fd07c9f54c0>\n",
       "Loss function: <bound method BiLSTMCRF.crf_loss_func of BiLSTMCRF(\n",
       "  (lstm): LSTM(128, 128, batch_first=True, bidirectional=True)\n",
       "  (bn): BatchNorm1d(256, eps=1e-05, momentum=0.01, affine=True, track_running_stats=True)\n",
       "  (drop): Dropout(p=0.5, inplace=False)\n",
       "  (lin): Linear(in_features=256, out_features=12, bias=True)\n",
       "  (crf): CRF(num_tags=12)\n",
       ")>\n",
       "\n",
       "Callbacks:\n",
       "  - TrainEvalCallback\n",
       "  - Recorder\n",
       "  - ProgressCallback"
      ]
     },
     "execution_count": 56,
     "metadata": {},
     "output_type": "execute_result"
    }
   ],
   "source": [
    "learn.summary()"
   ]
  },
  {
   "cell_type": "code",
   "execution_count": 57,
   "metadata": {},
   "outputs": [
    {
     "data": {
      "text/html": [],
      "text/plain": [
       "<IPython.core.display.HTML object>"
      ]
     },
     "metadata": {},
     "output_type": "display_data"
    },
    {
     "data": {
      "text/plain": [
       "SuggestedLRs(lr_min=0.017378008365631102, lr_steep=7.585775847473997e-07)"
      ]
     },
     "execution_count": 57,
     "metadata": {},
     "output_type": "execute_result"
    },
    {
     "data": {
      "image/png": "[encoded data removed]",
      "text/plain": [
       "<Figure size 432x288 with 1 Axes>"
      ]
     },
     "metadata": {
      "needs_background": "light"
     },
     "output_type": "display_data"
    }
   ],
   "source": [
    "learn.lr_find()"
   ]
  },
  {
   "cell_type": "code",
   "execution_count": 58,
   "metadata": {},
   "outputs": [],
   "source": [
    "learn.add_cbs([SaveModelCallback(monitor='f1_score', fname='best_lstm_crf_128'),\n",
    "                                       ShowGraphCallback()])"
   ]
  },
  {
   "cell_type": "code",
   "execution_count": 59,
   "metadata": {},
   "outputs": [
    {
     "data": {
      "text/html": [
       "<table border=\"1\" class=\"dataframe\">\n",
       "  <thead>\n",
       "    <tr style=\"text-align: left;\">\n",
       "      <th>epoch</th>\n",
       "      <th>train_loss</th>\n",
       "      <th>valid_loss</th>\n",
       "      <th>f1_score</th>\n",
       "      <th>time</th>\n",
       "    </tr>\n",
       "  </thead>\n",
       "  <tbody>\n",
       "    <tr>\n",
       "      <td>0</td>\n",
       "      <td>149.831329</td>\n",
       "      <td>110.851990</td>\n",
       "      <td>0.252063</td>\n",
       "      <td>03:21</td>\n",
       "    </tr>\n",
       "    <tr>\n",
       "      <td>1</td>\n",
       "      <td>120.070366</td>\n",
       "      <td>62.507153</td>\n",
       "      <td>0.625379</td>\n",
       "      <td>04:05</td>\n",
       "    </tr>\n",
       "    <tr>\n",
       "      <td>2</td>\n",
       "      <td>83.046822</td>\n",
       "      <td>46.854389</td>\n",
       "      <td>0.648202</td>\n",
       "      <td>04:14</td>\n",
       "    </tr>\n",
       "    <tr>\n",
       "      <td>3</td>\n",
       "      <td>62.531319</td>\n",
       "      <td>42.626644</td>\n",
       "      <td>0.698233</td>\n",
       "      <td>04:36</td>\n",
       "    </tr>\n",
       "    <tr>\n",
       "      <td>4</td>\n",
       "      <td>50.549274</td>\n",
       "      <td>45.847187</td>\n",
       "      <td>0.723074</td>\n",
       "      <td>04:11</td>\n",
       "    </tr>\n",
       "    <tr>\n",
       "      <td>5</td>\n",
       "      <td>43.849651</td>\n",
       "      <td>39.024208</td>\n",
       "      <td>0.742153</td>\n",
       "      <td>04:16</td>\n",
       "    </tr>\n",
       "    <tr>\n",
       "      <td>6</td>\n",
       "      <td>36.382923</td>\n",
       "      <td>40.039272</td>\n",
       "      <td>0.759703</td>\n",
       "      <td>04:18</td>\n",
       "    </tr>\n",
       "    <tr>\n",
       "      <td>7</td>\n",
       "      <td>32.807117</td>\n",
       "      <td>40.211197</td>\n",
       "      <td>0.767431</td>\n",
       "      <td>04:25</td>\n",
       "    </tr>\n",
       "    <tr>\n",
       "      <td>8</td>\n",
       "      <td>31.406328</td>\n",
       "      <td>41.065979</td>\n",
       "      <td>0.763717</td>\n",
       "      <td>04:22</td>\n",
       "    </tr>\n",
       "    <tr>\n",
       "      <td>9</td>\n",
       "      <td>29.223454</td>\n",
       "      <td>42.091816</td>\n",
       "      <td>0.762038</td>\n",
       "      <td>04:20</td>\n",
       "    </tr>\n",
       "  </tbody>\n",
       "</table>"
      ],
      "text/plain": [
       "<IPython.core.display.HTML object>"
      ]
     },
     "metadata": {},
     "output_type": "display_data"
    },
    {
     "name": "stdout",
     "output_type": "stream",
     "text": [
      "Better model found at epoch 0 with f1_score value: 0.25206293624567744.\n"
     ]
    },
    {
     "data": {
      "image/png": "[encoded data removed]",
      "text/plain": [
       "<Figure size 432x288 with 1 Axes>"
      ]
     },
     "metadata": {},
     "output_type": "display_data"
    },
    {
     "name": "stdout",
     "output_type": "stream",
     "text": [
      "Better model found at epoch 1 with f1_score value: 0.6253790011711321.\n",
      "Better model found at epoch 2 with f1_score value: 0.6482016650865791.\n",
      "Better model found at epoch 3 with f1_score value: 0.6982331387013132.\n",
      "Better model found at epoch 4 with f1_score value: 0.7230737998211398.\n",
      "Better model found at epoch 5 with f1_score value: 0.7421530750538744.\n",
      "Better model found at epoch 6 with f1_score value: 0.7597028083162276.\n",
      "Better model found at epoch 7 with f1_score value: 0.7674312612526871.\n"
     ]
    }
   ],
   "source": [
    "learn.fit_one_cycle(10, lr_max=1e-3)"
   ]
  },
  {
   "cell_type": "code",
   "execution_count": 60,
   "metadata": {},
   "outputs": [],
   "source": [
    "model = BiLSTMCRF(hidden_dim=256)"
   ]
  },
  {
   "cell_type": "code",
   "execution_count": 61,
   "metadata": {},
   "outputs": [],
   "source": [
    "learn = Learner(dls, model, loss_func=model.crf_loss_func, metrics=[MyFScore()])"
   ]
  },
  {
   "cell_type": "code",
   "execution_count": 62,
   "metadata": {},
   "outputs": [
    {
     "data": {
      "text/html": [],
      "text/plain": [
       "<IPython.core.display.HTML object>"
      ]
     },
     "metadata": {},
     "output_type": "display_data"
    },
    {
     "data": {
      "text/plain": [
       "SuggestedLRs(lr_min=0.02089296132326126, lr_steep=1.0964781722577754e-06)"
      ]
     },
     "execution_count": 62,
     "metadata": {},
     "output_type": "execute_result"
    },
    {
     "data": {
      "image/png": "[encoded data removed]",
      "text/plain": [
       "<Figure size 432x288 with 1 Axes>"
      ]
     },
     "metadata": {
      "needs_background": "light"
     },
     "output_type": "display_data"
    }
   ],
   "source": [
    "learn.lr_find()"
   ]
  },
  {
   "cell_type": "code",
   "execution_count": 63,
   "metadata": {},
   "outputs": [],
   "source": [
    "learn.add_cbs([SaveModelCallback(monitor='f1_score', fname='best_lstm_crf_256'),\n",
    "                                       ShowGraphCallback()])"
   ]
  },
  {
   "cell_type": "code",
   "execution_count": 64,
   "metadata": {},
   "outputs": [
    {
     "data": {
      "text/html": [
       "<table border=\"1\" class=\"dataframe\">\n",
       "  <thead>\n",
       "    <tr style=\"text-align: left;\">\n",
       "      <th>epoch</th>\n",
       "      <th>train_loss</th>\n",
       "      <th>valid_loss</th>\n",
       "      <th>f1_score</th>\n",
       "      <th>time</th>\n",
       "    </tr>\n",
       "  </thead>\n",
       "  <tbody>\n",
       "    <tr>\n",
       "      <td>0</td>\n",
       "      <td>134.512543</td>\n",
       "      <td>85.542542</td>\n",
       "      <td>0.469704</td>\n",
       "      <td>03:57</td>\n",
       "    </tr>\n",
       "    <tr>\n",
       "      <td>1</td>\n",
       "      <td>90.833908</td>\n",
       "      <td>43.927441</td>\n",
       "      <td>0.711424</td>\n",
       "      <td>04:21</td>\n",
       "    </tr>\n",
       "    <tr>\n",
       "      <td>2</td>\n",
       "      <td>68.291672</td>\n",
       "      <td>37.831848</td>\n",
       "      <td>0.726812</td>\n",
       "      <td>04:21</td>\n",
       "    </tr>\n",
       "    <tr>\n",
       "      <td>3</td>\n",
       "      <td>50.566601</td>\n",
       "      <td>61.461323</td>\n",
       "      <td>0.725289</td>\n",
       "      <td>04:24</td>\n",
       "    </tr>\n",
       "    <tr>\n",
       "      <td>4</td>\n",
       "      <td>46.711521</td>\n",
       "      <td>38.017696</td>\n",
       "      <td>0.758176</td>\n",
       "      <td>04:14</td>\n",
       "    </tr>\n",
       "    <tr>\n",
       "      <td>5</td>\n",
       "      <td>36.325333</td>\n",
       "      <td>36.228466</td>\n",
       "      <td>0.768638</td>\n",
       "      <td>04:11</td>\n",
       "    </tr>\n",
       "    <tr>\n",
       "      <td>6</td>\n",
       "      <td>31.310980</td>\n",
       "      <td>37.981602</td>\n",
       "      <td>0.775473</td>\n",
       "      <td>04:17</td>\n",
       "    </tr>\n",
       "    <tr>\n",
       "      <td>7</td>\n",
       "      <td>26.603998</td>\n",
       "      <td>36.238197</td>\n",
       "      <td>0.771468</td>\n",
       "      <td>04:16</td>\n",
       "    </tr>\n",
       "    <tr>\n",
       "      <td>8</td>\n",
       "      <td>25.199459</td>\n",
       "      <td>39.141491</td>\n",
       "      <td>0.772091</td>\n",
       "      <td>04:27</td>\n",
       "    </tr>\n",
       "    <tr>\n",
       "      <td>9</td>\n",
       "      <td>23.588184</td>\n",
       "      <td>40.136883</td>\n",
       "      <td>0.771817</td>\n",
       "      <td>04:06</td>\n",
       "    </tr>\n",
       "  </tbody>\n",
       "</table>"
      ],
      "text/plain": [
       "<IPython.core.display.HTML object>"
      ]
     },
     "metadata": {},
     "output_type": "display_data"
    },
    {
     "name": "stdout",
     "output_type": "stream",
     "text": [
      "Better model found at epoch 0 with f1_score value: 0.4697038971861604.\n"
     ]
    },
    {
     "data": {
      "image/png": "[encoded data removed]",
      "text/plain": [
       "<Figure size 432x288 with 1 Axes>"
      ]
     },
     "metadata": {},
     "output_type": "display_data"
    },
    {
     "name": "stdout",
     "output_type": "stream",
     "text": [
      "Better model found at epoch 1 with f1_score value: 0.7114241621453211.\n",
      "Better model found at epoch 2 with f1_score value: 0.7268115678137878.\n",
      "Better model found at epoch 4 with f1_score value: 0.7581757623316677.\n",
      "Better model found at epoch 5 with f1_score value: 0.7686379328546765.\n",
      "Better model found at epoch 6 with f1_score value: 0.7754725050181825.\n"
     ]
    }
   ],
   "source": [
    "learn.fit_one_cycle(10, lr_max=1e-3)"
   ]
  },
  {
   "cell_type": "code",
   "execution_count": 65,
   "metadata": {},
   "outputs": [],
   "source": [
    "model = BiLSTMCRF()"
   ]
  },
  {
   "cell_type": "code",
   "execution_count": 66,
   "metadata": {},
   "outputs": [],
   "source": [
    "learn = Learner(dls, model, loss_func=model.crf_loss_func, metrics=[MyFScore()])"
   ]
  },
  {
   "cell_type": "code",
   "execution_count": 67,
   "metadata": {},
   "outputs": [],
   "source": [
    "learn.add_cbs([SaveModelCallback(monitor='f1_score', fname='best_lstm_crf_128_moreEpochs'),\n",
    "                                       ShowGraphCallback()])"
   ]
  },
  {
   "cell_type": "code",
   "execution_count": 68,
   "metadata": {},
   "outputs": [
    {
     "data": {
      "text/html": [
       "<table border=\"1\" class=\"dataframe\">\n",
       "  <thead>\n",
       "    <tr style=\"text-align: left;\">\n",
       "      <th>epoch</th>\n",
       "      <th>train_loss</th>\n",
       "      <th>valid_loss</th>\n",
       "      <th>f1_score</th>\n",
       "      <th>time</th>\n",
       "    </tr>\n",
       "  </thead>\n",
       "  <tbody>\n",
       "    <tr>\n",
       "      <td>0</td>\n",
       "      <td>163.592941</td>\n",
       "      <td>119.275978</td>\n",
       "      <td>0.119657</td>\n",
       "      <td>04:09</td>\n",
       "    </tr>\n",
       "    <tr>\n",
       "      <td>1</td>\n",
       "      <td>138.501572</td>\n",
       "      <td>88.850716</td>\n",
       "      <td>0.415338</td>\n",
       "      <td>04:16</td>\n",
       "    </tr>\n",
       "    <tr>\n",
       "      <td>2</td>\n",
       "      <td>108.193100</td>\n",
       "      <td>55.273426</td>\n",
       "      <td>0.629308</td>\n",
       "      <td>04:16</td>\n",
       "    </tr>\n",
       "    <tr>\n",
       "      <td>3</td>\n",
       "      <td>80.029839</td>\n",
       "      <td>41.503017</td>\n",
       "      <td>0.682463</td>\n",
       "      <td>04:24</td>\n",
       "    </tr>\n",
       "    <tr>\n",
       "      <td>4</td>\n",
       "      <td>58.973175</td>\n",
       "      <td>38.506977</td>\n",
       "      <td>0.703839</td>\n",
       "      <td>03:57</td>\n",
       "    </tr>\n",
       "    <tr>\n",
       "      <td>5</td>\n",
       "      <td>51.819187</td>\n",
       "      <td>36.713329</td>\n",
       "      <td>0.706103</td>\n",
       "      <td>04:17</td>\n",
       "    </tr>\n",
       "    <tr>\n",
       "      <td>6</td>\n",
       "      <td>41.449135</td>\n",
       "      <td>39.236824</td>\n",
       "      <td>0.733006</td>\n",
       "      <td>04:26</td>\n",
       "    </tr>\n",
       "    <tr>\n",
       "      <td>7</td>\n",
       "      <td>35.807060</td>\n",
       "      <td>36.552204</td>\n",
       "      <td>0.751018</td>\n",
       "      <td>04:21</td>\n",
       "    </tr>\n",
       "    <tr>\n",
       "      <td>8</td>\n",
       "      <td>32.086254</td>\n",
       "      <td>42.414913</td>\n",
       "      <td>0.773632</td>\n",
       "      <td>04:28</td>\n",
       "    </tr>\n",
       "    <tr>\n",
       "      <td>9</td>\n",
       "      <td>32.035362</td>\n",
       "      <td>37.080910</td>\n",
       "      <td>0.772853</td>\n",
       "      <td>04:21</td>\n",
       "    </tr>\n",
       "    <tr>\n",
       "      <td>10</td>\n",
       "      <td>28.572529</td>\n",
       "      <td>38.630898</td>\n",
       "      <td>0.779348</td>\n",
       "      <td>04:24</td>\n",
       "    </tr>\n",
       "    <tr>\n",
       "      <td>11</td>\n",
       "      <td>25.521976</td>\n",
       "      <td>39.367882</td>\n",
       "      <td>0.781453</td>\n",
       "      <td>04:24</td>\n",
       "    </tr>\n",
       "    <tr>\n",
       "      <td>12</td>\n",
       "      <td>24.204317</td>\n",
       "      <td>38.539902</td>\n",
       "      <td>0.784534</td>\n",
       "      <td>04:20</td>\n",
       "    </tr>\n",
       "    <tr>\n",
       "      <td>13</td>\n",
       "      <td>23.325294</td>\n",
       "      <td>40.491112</td>\n",
       "      <td>0.778159</td>\n",
       "      <td>04:33</td>\n",
       "    </tr>\n",
       "    <tr>\n",
       "      <td>14</td>\n",
       "      <td>23.023842</td>\n",
       "      <td>37.585461</td>\n",
       "      <td>0.776396</td>\n",
       "      <td>04:27</td>\n",
       "    </tr>\n",
       "    <tr>\n",
       "      <td>15</td>\n",
       "      <td>21.876225</td>\n",
       "      <td>39.205894</td>\n",
       "      <td>0.775861</td>\n",
       "      <td>04:35</td>\n",
       "    </tr>\n",
       "    <tr>\n",
       "      <td>16</td>\n",
       "      <td>20.900795</td>\n",
       "      <td>38.556545</td>\n",
       "      <td>0.776896</td>\n",
       "      <td>04:24</td>\n",
       "    </tr>\n",
       "    <tr>\n",
       "      <td>17</td>\n",
       "      <td>20.809469</td>\n",
       "      <td>38.726051</td>\n",
       "      <td>0.777486</td>\n",
       "      <td>04:27</td>\n",
       "    </tr>\n",
       "    <tr>\n",
       "      <td>18</td>\n",
       "      <td>20.843143</td>\n",
       "      <td>38.792091</td>\n",
       "      <td>0.777960</td>\n",
       "      <td>04:15</td>\n",
       "    </tr>\n",
       "    <tr>\n",
       "      <td>19</td>\n",
       "      <td>21.231419</td>\n",
       "      <td>38.766937</td>\n",
       "      <td>0.777957</td>\n",
       "      <td>04:30</td>\n",
       "    </tr>\n",
       "  </tbody>\n",
       "</table>"
      ],
      "text/plain": [
       "<IPython.core.display.HTML object>"
      ]
     },
     "metadata": {},
     "output_type": "display_data"
    },
    {
     "name": "stdout",
     "output_type": "stream",
     "text": [
      "Better model found at epoch 0 with f1_score value: 0.11965685386936246.\n"
     ]
    },
    {
     "data": {
      "image/png": "[encoded data removed]",
      "text/plain": [
       "<Figure size 432x288 with 1 Axes>"
      ]
     },
     "metadata": {},
     "output_type": "display_data"
    },
    {
     "name": "stdout",
     "output_type": "stream",
     "text": [
      "Better model found at epoch 1 with f1_score value: 0.4153377938213973.\n",
      "Better model found at epoch 2 with f1_score value: 0.6293081734276357.\n",
      "Better model found at epoch 3 with f1_score value: 0.6824625577905539.\n",
      "Better model found at epoch 4 with f1_score value: 0.7038385959606025.\n",
      "Better model found at epoch 5 with f1_score value: 0.7061031939183403.\n",
      "Better model found at epoch 6 with f1_score value: 0.7330055584498351.\n",
      "Better model found at epoch 7 with f1_score value: 0.7510175949877235.\n",
      "Better model found at epoch 8 with f1_score value: 0.7736317973148504.\n",
      "Better model found at epoch 10 with f1_score value: 0.7793476301399087.\n",
      "Better model found at epoch 11 with f1_score value: 0.7814525311850042.\n",
      "Better model found at epoch 12 with f1_score value: 0.7845339767969008.\n"
     ]
    }
   ],
   "source": [
    "learn.fit_one_cycle(20, lr_max=1e-3)"
   ]
  },
  {
   "cell_type": "code",
   "execution_count": 69,
   "metadata": {},
   "outputs": [
    {
     "data": {
      "text/plain": [
       "<fastai.learner.Learner at 0x7fd0386030d0>"
      ]
     },
     "execution_count": 69,
     "metadata": {},
     "output_type": "execute_result"
    }
   ],
   "source": [
    "learn.load(\"best_lstm_crf_128_moreEpochs\")"
   ]
  },
  {
   "cell_type": "code",
   "execution_count": 70,
   "metadata": {},
   "outputs": [],
   "source": [
    "def evaluate_crf(learn, dl):\n",
    "    preds, targets = learn.get_preds(dl=dl)\n",
    "    crf_preds =[]\n",
    "    crf_targs=[]\n",
    "    for pred, targ in zip(preds, targets):\n",
    "        pred = pred.unsqueeze(0)\n",
    "        targ = targ.unsqueeze(0)\n",
    "        mask = tensor(targ.data != OUT_DIM)\n",
    "        mask=mask.view(pred.shape[:2])\n",
    "        pred = learn.model.crf.decode(pred.cuda(),mask=mask.cuda())\n",
    "        pred = tensor([[x for sublist in pred for x in sublist]]).view(-1)\n",
    "        targ = targ[mask].view(-1)\n",
    "        crf_preds.append(pred)\n",
    "        crf_targs.append(targ)\n",
    "    crf_preds = torch.cat(crf_preds)\n",
    "    crf_targs = torch.cat(crf_targs)\n",
    "    print(classification_report(crf_targs, crf_preds, target_names=dls.get_labels.cat.vocab, digits=4))\n",
    "    crf_preds = torch.remainder(crf_preds, 6)\n",
    "    crf_targs = torch.remainder(crf_targs, 6)\n",
    "    print(classification_report(crf_targs, crf_preds, target_names=dls.get_labels.cat.vocab[:6], digits=4))\n",
    "    "
   ]
  },
  {
   "cell_type": "code",
   "execution_count": 71,
   "metadata": {},
   "outputs": [
    {
     "data": {
      "text/html": [],
      "text/plain": [
       "<IPython.core.display.HTML object>"
      ]
     },
     "metadata": {},
     "output_type": "display_data"
    },
    {
     "name": "stdout",
     "output_type": "stream",
     "text": [
      "                                    precision    recall  f1-score   support\n",
      "\n",
      "          B-acordao_de_2_instancia     0.8839    0.6816    0.7697       201\n",
      "B-agravo_em_recurso_extraordinario     0.0500    0.0042    0.0078       237\n",
      "     B-despacho_de_admissibilidade     0.7067    0.7211    0.7138       147\n",
      "                          B-outros     0.9086    0.5258    0.6661     25898\n",
      "                   B-peticao_do_RE     0.5506    0.1503    0.2361       326\n",
      "                        B-sentenca     0.6875    0.1162    0.1988       284\n",
      "          I-acordao_de_2_instancia     0.5000    0.5612    0.5288        98\n",
      "I-agravo_em_recurso_extraordinario     0.5676    0.5685    0.5681      1912\n",
      "     I-despacho_de_admissibilidade     0.0000    0.0000    0.0000        36\n",
      "                          I-outros     0.7898    0.9415    0.8590     58206\n",
      "                   I-peticao_do_RE     0.7207    0.7796    0.7490      6038\n",
      "                        I-sentenca     0.7617    0.7589    0.7603      1352\n",
      "\n",
      "                          accuracy                         0.7982     94735\n",
      "                         macro avg     0.5939    0.4841    0.5048     94735\n",
      "                      weighted avg     0.8095    0.7982    0.7846     94735\n",
      "\n",
      "                                    precision    recall  f1-score   support\n",
      "\n",
      "          B-acordao_de_2_instancia     0.9132    0.8094    0.8582       299\n",
      "B-agravo_em_recurso_extraordinario     0.6274    0.5649    0.5945      2149\n",
      "     B-despacho_de_admissibilidade     0.7697    0.6393    0.6985       183\n",
      "                          B-outros     0.9691    0.9722    0.9706     84104\n",
      "                   B-peticao_do_RE     0.7465    0.7766    0.7612      6364\n",
      "                        B-sentenca     0.8953    0.7634    0.8242      1636\n",
      "\n",
      "                          accuracy                         0.9450     94735\n",
      "                         macro avg     0.8202    0.7543    0.7845     94735\n",
      "                      weighted avg     0.9446    0.9450    0.9446     94735\n",
      "\n"
     ]
    }
   ],
   "source": [
    "evaluate_crf(learn, dls.valid)"
   ]
  },
  {
   "cell_type": "code",
   "execution_count": 72,
   "metadata": {},
   "outputs": [],
   "source": [
    "test_dl = torch.load(\"./data/test_dl_sequence.pth\")"
   ]
  },
  {
   "cell_type": "code",
   "execution_count": 73,
   "metadata": {},
   "outputs": [
    {
     "data": {
      "text/html": [],
      "text/plain": [
       "<IPython.core.display.HTML object>"
      ]
     },
     "metadata": {},
     "output_type": "display_data"
    },
    {
     "name": "stdout",
     "output_type": "stream",
     "text": [
      "                                    precision    recall  f1-score   support\n",
      "\n",
      "          B-acordao_de_2_instancia     0.9205    0.6985    0.7943       199\n",
      "B-agravo_em_recurso_extraordinario     0.1429    0.0094    0.0176       213\n",
      "     B-despacho_de_admissibilidade     0.6294    0.6122    0.6207       147\n",
      "                          B-outros     0.8934    0.5161    0.6543     25744\n",
      "                   B-peticao_do_RE     0.5393    0.1538    0.2394       312\n",
      "                        B-sentenca     0.7170    0.1434    0.2390       265\n",
      "          I-acordao_de_2_instancia     0.4833    0.7838    0.5979        74\n",
      "I-agravo_em_recurso_extraordinario     0.5433    0.5584    0.5507      1628\n",
      "     I-despacho_de_admissibilidade     0.0000    0.0000    0.0000        51\n",
      "                          I-outros     0.7932    0.9445    0.8622     59664\n",
      "                   I-peticao_do_RE     0.7486    0.7619    0.7552      6019\n",
      "                        I-sentenca     0.7587    0.7769    0.7677      1210\n",
      "\n",
      "                          accuracy                         0.8003     95526\n",
      "                         macro avg     0.5975    0.4966    0.5083     95526\n",
      "                      weighted avg     0.8095    0.8003    0.7861     95526\n",
      "\n",
      "                                    precision    recall  f1-score   support\n",
      "\n",
      "          B-acordao_de_2_instancia     0.9225    0.9158    0.9191       273\n",
      "B-agravo_em_recurso_extraordinario     0.6046    0.5540    0.5782      1841\n",
      "     B-despacho_de_admissibilidade     0.7292    0.5303    0.6140       198\n",
      "                          B-outros     0.9705    0.9763    0.9734     85408\n",
      "                   B-peticao_do_RE     0.7759    0.7616    0.7687      6331\n",
      "                        B-sentenca     0.8947    0.7837    0.8356      1475\n",
      "\n",
      "                          accuracy                         0.9499     95526\n",
      "                         macro avg     0.8162    0.7536    0.7815     95526\n",
      "                      weighted avg     0.9487    0.9499    0.9492     95526\n",
      "\n"
     ]
    }
   ],
   "source": [
    "evaluate_crf(learn, test_dl)"
   ]
  },
  {
   "cell_type": "code",
   "execution_count": null,
   "metadata": {},
   "outputs": [],
   "source": []
  }
 ],
 "metadata": {
  "kernelspec": {
   "display_name": "fastai2",
   "language": "python",
   "name": "fastai2"
  },
  "language_info": {
   "codemirror_mode": {
    "name": "ipython",
    "version": 3
   },
   "file_extension": ".py",
   "mimetype": "text/x-python",
   "name": "python",
   "nbconvert_exporter": "python",
   "pygments_lexer": "ipython3",
   "version": "3.8.10"
  }
 },
 "nbformat": 4,
 "nbformat_minor": 4
}
