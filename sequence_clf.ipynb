{
 "cells": [
  {
   "cell_type": "code",
   "execution_count": 1,
   "metadata": {},
   "outputs": [],
   "source": [
    "%load_ext autoreload\n",
    "%autoreload 2\n",
    "\n",
    "from fastai.text.all import *\n",
    "from fastai.vision.all import *\n",
    "import pandas as pd\n",
    "import torch\n",
    "from tqdm.notebook import tqdm\n",
    "from sklearn.metrics import classification_report, f1_score\n",
    "from torchcrf import CRF"
   ]
  },
  {
   "cell_type": "code",
   "execution_count": 2,
   "metadata": {},
   "outputs": [],
   "source": [
    "seed = 42\n",
    "\n",
    "# python RNG\n",
    "import random\n",
    "random.seed(seed)\n",
    "\n",
    "# pytorch RNGs\n",
    "import torch\n",
    "torch.manual_seed(seed)\n",
    "torch.backends.cudnn.deterministic = True\n",
    "if torch.cuda.is_available(): torch.cuda.manual_seed_all(seed)\n",
    "\n",
    "# numpy RNG\n",
    "import numpy as np\n",
    "np.random.seed(seed)"
   ]
  },
  {
   "cell_type": "code",
   "execution_count": 3,
   "metadata": {},
   "outputs": [],
   "source": [
    "OUT_DIM=12\n",
    "INPUT_DIM=128\n",
    "BS= 64"
   ]
  },
  {
   "cell_type": "code",
   "execution_count": 5,
   "metadata": {},
   "outputs": [],
   "source": [
    "train = pd.read_csv(\"./data/train_fusion.csv\")\n",
    "val = pd.read_csv(\"./data/val_fusion.csv\")\n",
    "test_data = pd.read_csv(\"./data/test_fusion.csv\")"
   ]
  },
  {
   "cell_type": "code",
   "execution_count": 6,
   "metadata": {},
   "outputs": [],
   "source": [
    "train[\"document_type\"] = train.apply(lambda x: \"B-\" + x[\"document_type\"] if x[\"pages\"] == 1 else \"I-\" + x[\"document_type\"],\n",
    "                                     axis=1)\n",
    "val[\"document_type\"] = val.apply(lambda x: \"B-\" + x[\"document_type\"] if x[\"pages\"] == 1 else \"I-\" + x[\"document_type\"],\n",
    "                                     axis=1)\n",
    "test_data[\"document_type\"] = test_data.apply(lambda x: \"B-\" + x[\"document_type\"] if x[\"pages\"] == 1 else \"I-\" + x[\"document_type\"],\n",
    "                                   axis=1)"
   ]
  },
  {
   "cell_type": "code",
   "execution_count": 7,
   "metadata": {},
   "outputs": [],
   "source": [
    "def get_sequences(data):\n",
    "    xs = []\n",
    "    ys = []\n",
    "    for k, v in data.groupby(\"process_id\").groups.items():\n",
    "        xs.append(data.iloc[v][\"activation_path\"].tolist())\n",
    "        ys.append(data.iloc[v][\"document_type\"].tolist())\n",
    "    return xs, ys"
   ]
  },
  {
   "cell_type": "code",
   "execution_count": 8,
   "metadata": {},
   "outputs": [],
   "source": [
    "X_train, y_train = get_sequences(train)\n",
    "X_valid, y_valid = get_sequences(val)\n",
    "X_test, y_test = get_sequences(test_data)"
   ]
  },
  {
   "cell_type": "code",
   "execution_count": 9,
   "metadata": {},
   "outputs": [],
   "source": [
    "data = pd.concat([pd.DataFrame({\"acts\":X_train, \"labels\":y_train, \"is_valid\": False}),\n",
    "                 pd.DataFrame({\"acts\":X_valid, \"labels\":y_valid, \"is_valid\": True})])"
   ]
  },
  {
   "cell_type": "code",
   "execution_count": 4,
   "metadata": {},
   "outputs": [],
   "source": [
    "class GetFusionActs(Transform):\n",
    "    def encodes(self, x):    \n",
    "        acts = []\n",
    "        for act in x[\"acts\"]:\n",
    "            acts.append(torch.load(act.replace(\"text\", \"fusion\") + \".pt\").unsqueeze(0)) \n",
    "        return torch.cat(acts)"
   ]
  },
  {
   "cell_type": "code",
   "execution_count": 5,
   "metadata": {},
   "outputs": [],
   "source": [
    "class GetLabels(Transform):\n",
    "    def setup(self, items, train_setup):\n",
    "        if train_setup:\n",
    "            self.cat = Categorize()\n",
    "            self.cat.setup([x for sublist in items.items[\"labels\"].tolist() for x in sublist])\n",
    "        \n",
    "    def encodes(self, x):\n",
    "        labels = []\n",
    "        for label in x[\"labels\"]:\n",
    "            labels.append(self.cat(label).unsqueeze(0).unsqueeze(0))\n",
    "        return torch.cat(labels)"
   ]
  },
  {
   "cell_type": "code",
   "execution_count": 6,
   "metadata": {},
   "outputs": [],
   "source": [
    "class My_Pad_Input(ItemTransform):\n",
    "    def encodes(self,samples, pad_fields=0, pad_first=False, backwards=False):\n",
    "        \"Function that collect `samples` and adds padding\"\n",
    "        pad_fields = L(pad_fields)\n",
    "        max_len_l = pad_fields.map(lambda f: max([len(s[f]) for s in samples]))\n",
    "        if backwards: pad_first = not pad_first\n",
    "        def _f(field_idx, x):\n",
    "            pad_value=0\n",
    "            if field_idx not in pad_fields: return x\n",
    "            if field_idx==1:\n",
    "                pad_value=OUT_DIM\n",
    "            idx = pad_fields.items.index(field_idx) #TODO: remove items if L.index is fixed\n",
    "            sl = slice(-len(x), sys.maxsize) if pad_first else slice(0, len(x))\n",
    "            pad =  x.new_zeros((max_len_l[idx]-x.shape[0], *x.shape[1:]))+pad_value\n",
    "            x1 = torch.cat([pad, x] if pad_first else [x, pad])\n",
    "            if backwards: x1 = x1.flip(0)\n",
    "            return retain_type(x1, x)\n",
    "        return [tuple(map(lambda idxx: _f(*idxx), enumerate(s))) for s in samples]\n",
    "my_pad_input=My_Pad_Input()"
   ]
  },
  {
   "cell_type": "code",
   "execution_count": null,
   "metadata": {},
   "outputs": [],
   "source": [
    "tfms = [[GetFusionActs()], [GetLabels()]]\n",
    "splits = ColSplitter()(data)\n",
    "dsets = Datasets(data, tfms, splits=splits)\n",
    "dls = dsets.dataloaders(dl_type=SortedDL, before_batch=partial(my_pad_input, pad_fields=[0,1]), bs=BS)"
   ]
  },
  {
   "cell_type": "code",
   "execution_count": null,
   "metadata": {},
   "outputs": [],
   "source": [
    "dls.one_batch()"
   ]
  },
  {
   "cell_type": "code",
   "execution_count": 14,
   "metadata": {},
   "outputs": [],
   "source": [
    "torch.save(dls, \"./data/dls_sequence.pth\")"
   ]
  },
  {
   "cell_type": "code",
   "execution_count": 7,
   "metadata": {},
   "outputs": [],
   "source": [
    "dls = torch.load(\"./data/dls_sequence.pth\")"
   ]
  },
  {
   "cell_type": "code",
   "execution_count": 175,
   "metadata": {},
   "outputs": [],
   "source": [
    "class SequenceModel(Module):\n",
    "    def __init__(self, hidden_dim=128, out_dim=OUT_DIMz):\n",
    "        self.lstm = torch.nn.LSTM(input_size=INPUT_DIM, hidden_size=hidden_dim,\n",
    "                                  batch_first=True, bidirectional=True).cuda()\n",
    "        self.bn = nn.BatchNorm1d(hidden_dim*2, momentum=0.01).cuda()\n",
    "        self.drop = nn.Dropout().cuda()\n",
    "        self.lin = nn.Linear(hidden_dim*2, out_dim).cuda()\n",
    "        \n",
    "    def forward(self, x):\n",
    "        out, _ = self.lstm(x)\n",
    "        out = out.permute(0, 2, 1)\n",
    "        out_norm = self.bn(out)\n",
    "        out_drop = self.drop(out_norm)\n",
    "        out_drop = out_drop.permute(0, 2, 1)\n",
    "        return self.lin(out_drop)"
   ]
  },
  {
   "cell_type": "code",
   "execution_count": 176,
   "metadata": {},
   "outputs": [],
   "source": [
    "model = SequenceModel()"
   ]
  },
  {
   "cell_type": "code",
   "execution_count": 8,
   "metadata": {},
   "outputs": [],
   "source": [
    "def loss_func(out, targ):\n",
    "    return CrossEntropyLossFlat(ignore_index=OUT_DIM)(out, targ.long())"
   ]
  },
  {
   "cell_type": "code",
   "execution_count": 9,
   "metadata": {},
   "outputs": [],
   "source": [
    "def _accumulate(self, learn):\n",
    "    pred = learn.pred\n",
    "    targ = learn.y\n",
    "    pred,targ = to_detach(pred),to_detach(targ)\n",
    "    pred =np.argmax(pred, axis=-1)\n",
    "    pred, targ = flatten_check(pred, targ)\n",
    "    pad_idxs = [i for i,x in enumerate(targ) if x != tensor([12])]\n",
    "    pred = pred[pad_idxs]\n",
    "    targ = targ[pad_idxs]\n",
    "    pred = torch.remainder(pred, 6)\n",
    "    targ = torch.remainder(targ, 6)\n",
    "    self.preds.append(pred)\n",
    "    self.targs.append(targ)\n",
    "\n",
    "AccumMetric.accumulate = _accumulate\n",
    "\n",
    "def MyFScore(average='macro'):\n",
    "    return skm_to_fastai(f1_score, average=average)"
   ]
  },
  {
   "cell_type": "code",
   "execution_count": 192,
   "metadata": {},
   "outputs": [],
   "source": [
    "learn = Learner(dls, model, loss_func=loss_func, metrics=[MyFScore()])"
   ]
  },
  {
   "cell_type": "code",
   "execution_count": 184,
   "metadata": {},
   "outputs": [
    {
     "data": {
      "text/html": [
       "<table border=\"1\" class=\"dataframe\">\n",
       "  <thead>\n",
       "    <tr style=\"text-align: left;\">\n",
       "      <th>epoch</th>\n",
       "      <th>train_loss</th>\n",
       "      <th>valid_loss</th>\n",
       "      <th>f1_score</th>\n",
       "      <th>time</th>\n",
       "    </tr>\n",
       "  </thead>\n",
       "  <tbody>\n",
       "    <tr>\n",
       "      <td>0</td>\n",
       "      <td>None</td>\n",
       "      <td>None</td>\n",
       "      <td>00:00</td>\n",
       "    </tr>\n",
       "  </tbody>\n",
       "</table>"
      ],
      "text/plain": [
       "<IPython.core.display.HTML object>"
      ]
     },
     "metadata": {},
     "output_type": "display_data"
    },
    {
     "data": {
      "text/plain": [
       "SequenceModel (Input shape: ['64 x 4242 x 128'])\n",
       "================================================================\n",
       "Layer (type)         Output Shape         Param #    Trainable \n",
       "================================================================\n",
       "LSTM                 ['64 x 4242 x 256',  264,192    True      \n",
       "________________________________________________________________\n",
       "BatchNorm1d          64 x 256 x 4242      512        True      \n",
       "________________________________________________________________\n",
       "Dropout              64 x 256 x 4242      0          False     \n",
       "________________________________________________________________\n",
       "Linear               64 x 4242 x 12       3,084      True      \n",
       "________________________________________________________________\n",
       "\n",
       "Total params: 267,788\n",
       "Total trainable params: 267,788\n",
       "Total non-trainable params: 0\n",
       "\n",
       "Optimizer used: <function Adam at 0x7fc694c8f430>\n",
       "Loss function: <function loss_func at 0x7fc544e7b700>\n",
       "\n",
       "Callbacks:\n",
       "  - TrainEvalCallback\n",
       "  - Recorder\n",
       "  - ProgressCallback"
      ]
     },
     "execution_count": 184,
     "metadata": {},
     "output_type": "execute_result"
    }
   ],
   "source": [
    "learn.summary()"
   ]
  },
  {
   "cell_type": "code",
   "execution_count": null,
   "metadata": {},
   "outputs": [],
   "source": [
    "learn.validate()"
   ]
  },
  {
   "cell_type": "code",
   "execution_count": 185,
   "metadata": {},
   "outputs": [
    {
     "data": {
      "text/html": [],
      "text/plain": [
       "<IPython.core.display.HTML object>"
      ]
     },
     "metadata": {},
     "output_type": "display_data"
    },
    {
     "data": {
      "text/plain": [
       "SuggestedLRs(lr_min=0.03019951581954956, lr_steep=0.010964781977236271)"
      ]
     },
     "execution_count": 185,
     "metadata": {},
     "output_type": "execute_result"
    },
    {
     "data": {
      "image/png": "[encoded data removed]",
      "text/plain": [
       "<Figure size 432x288 with 1 Axes>"
      ]
     },
     "metadata": {
      "needs_background": "light"
     },
     "output_type": "display_data"
    }
   ],
   "source": [
    "learn.lr_find()"
   ]
  },
  {
   "cell_type": "code",
   "execution_count": 193,
   "metadata": {},
   "outputs": [],
   "source": [
    "learn.add_cbs([SaveModelCallback(monitor='f1_score', fname='best_sequence_128'),\n",
    "                                       ShowGraphCallback()])"
   ]
  },
  {
   "cell_type": "code",
   "execution_count": 194,
   "metadata": {},
   "outputs": [
    {
     "data": {
      "text/html": [
       "<table border=\"1\" class=\"dataframe\">\n",
       "  <thead>\n",
       "    <tr style=\"text-align: left;\">\n",
       "      <th>epoch</th>\n",
       "      <th>train_loss</th>\n",
       "      <th>valid_loss</th>\n",
       "      <th>f1_score</th>\n",
       "      <th>time</th>\n",
       "    </tr>\n",
       "  </thead>\n",
       "  <tbody>\n",
       "    <tr>\n",
       "      <td>0</td>\n",
       "      <td>0.463998</td>\n",
       "      <td>0.624359</td>\n",
       "      <td>0.760527</td>\n",
       "      <td>03:50</td>\n",
       "    </tr>\n",
       "    <tr>\n",
       "      <td>1</td>\n",
       "      <td>0.460408</td>\n",
       "      <td>0.635508</td>\n",
       "      <td>0.738585</td>\n",
       "      <td>04:22</td>\n",
       "    </tr>\n",
       "    <tr>\n",
       "      <td>2</td>\n",
       "      <td>0.450636</td>\n",
       "      <td>0.646396</td>\n",
       "      <td>0.762600</td>\n",
       "      <td>04:37</td>\n",
       "    </tr>\n",
       "    <tr>\n",
       "      <td>3</td>\n",
       "      <td>0.470724</td>\n",
       "      <td>0.638396</td>\n",
       "      <td>0.753507</td>\n",
       "      <td>04:15</td>\n",
       "    </tr>\n",
       "    <tr>\n",
       "      <td>4</td>\n",
       "      <td>0.470006</td>\n",
       "      <td>0.689637</td>\n",
       "      <td>0.771371</td>\n",
       "      <td>04:05</td>\n",
       "    </tr>\n",
       "    <tr>\n",
       "      <td>5</td>\n",
       "      <td>0.448070</td>\n",
       "      <td>0.621627</td>\n",
       "      <td>0.777340</td>\n",
       "      <td>04:16</td>\n",
       "    </tr>\n",
       "    <tr>\n",
       "      <td>6</td>\n",
       "      <td>0.426568</td>\n",
       "      <td>0.613815</td>\n",
       "      <td>0.757561</td>\n",
       "      <td>04:21</td>\n",
       "    </tr>\n",
       "    <tr>\n",
       "      <td>7</td>\n",
       "      <td>0.413713</td>\n",
       "      <td>0.635003</td>\n",
       "      <td>0.771453</td>\n",
       "      <td>04:43</td>\n",
       "    </tr>\n",
       "    <tr>\n",
       "      <td>8</td>\n",
       "      <td>0.409453</td>\n",
       "      <td>0.622239</td>\n",
       "      <td>0.770163</td>\n",
       "      <td>04:18</td>\n",
       "    </tr>\n",
       "    <tr>\n",
       "      <td>9</td>\n",
       "      <td>0.403378</td>\n",
       "      <td>0.618856</td>\n",
       "      <td>0.771595</td>\n",
       "      <td>04:20</td>\n",
       "    </tr>\n",
       "  </tbody>\n",
       "</table>"
      ],
      "text/plain": [
       "<IPython.core.display.HTML object>"
      ]
     },
     "metadata": {},
     "output_type": "display_data"
    },
    {
     "name": "stdout",
     "output_type": "stream",
     "text": [
      "Better model found at epoch 0 with f1_score value: 0.7605274235442635.\n"
     ]
    },
    {
     "data": {
      "image/png": "[encoded data removed]",
      "text/plain": [
       "<Figure size 432x288 with 1 Axes>"
      ]
     },
     "metadata": {},
     "output_type": "display_data"
    },
    {
     "name": "stdout",
     "output_type": "stream",
     "text": [
      "Better model found at epoch 2 with f1_score value: 0.7626003789602782.\n",
      "Better model found at epoch 4 with f1_score value: 0.7713708215048861.\n",
      "Better model found at epoch 5 with f1_score value: 0.7773397805989104.\n"
     ]
    }
   ],
   "source": [
    "learn.fit_one_cycle(10, lr_max=1e-2)"
   ]
  },
  {
   "cell_type": "code",
   "execution_count": 198,
   "metadata": {},
   "outputs": [],
   "source": [
    "model = SequenceModel(hidden_dim=256)"
   ]
  },
  {
   "cell_type": "code",
   "execution_count": 199,
   "metadata": {},
   "outputs": [],
   "source": [
    "learn = Learner(dls, model, loss_func=loss_func, metrics=[MyFScore()])"
   ]
  },
  {
   "cell_type": "code",
   "execution_count": 200,
   "metadata": {},
   "outputs": [
    {
     "data": {
      "text/html": [
       "<table border=\"1\" class=\"dataframe\">\n",
       "  <thead>\n",
       "    <tr style=\"text-align: left;\">\n",
       "      <th>epoch</th>\n",
       "      <th>train_loss</th>\n",
       "      <th>valid_loss</th>\n",
       "      <th>f1_score</th>\n",
       "      <th>time</th>\n",
       "    </tr>\n",
       "  </thead>\n",
       "  <tbody>\n",
       "    <tr>\n",
       "      <td>0</td>\n",
       "      <td>None</td>\n",
       "      <td>None</td>\n",
       "      <td>00:00</td>\n",
       "    </tr>\n",
       "  </tbody>\n",
       "</table>"
      ],
      "text/plain": [
       "<IPython.core.display.HTML object>"
      ]
     },
     "metadata": {},
     "output_type": "display_data"
    },
    {
     "data": {
      "text/plain": [
       "SequenceModel (Input shape: ['64 x 4242 x 128'])\n",
       "================================================================\n",
       "Layer (type)         Output Shape         Param #    Trainable \n",
       "================================================================\n",
       "LSTM                 ['64 x 4242 x 512',  790,528    True      \n",
       "________________________________________________________________\n",
       "BatchNorm1d          64 x 512 x 4242      1,024      True      \n",
       "________________________________________________________________\n",
       "Dropout              64 x 512 x 4242      0          False     \n",
       "________________________________________________________________\n",
       "Linear               64 x 4242 x 12       6,156      True      \n",
       "________________________________________________________________\n",
       "\n",
       "Total params: 797,708\n",
       "Total trainable params: 797,708\n",
       "Total non-trainable params: 0\n",
       "\n",
       "Optimizer used: <function Adam at 0x7fc694c8f430>\n",
       "Loss function: <function loss_func at 0x7fc544e7b700>\n",
       "\n",
       "Callbacks:\n",
       "  - TrainEvalCallback\n",
       "  - Recorder\n",
       "  - ProgressCallback"
      ]
     },
     "execution_count": 200,
     "metadata": {},
     "output_type": "execute_result"
    }
   ],
   "source": [
    "learn.summary()"
   ]
  },
  {
   "cell_type": "code",
   "execution_count": 201,
   "metadata": {},
   "outputs": [
    {
     "data": {
      "text/html": [],
      "text/plain": [
       "<IPython.core.display.HTML object>"
      ]
     },
     "metadata": {},
     "output_type": "display_data"
    },
    {
     "data": {
      "text/plain": [
       "SuggestedLRs(lr_min=0.010000000149011612, lr_steep=0.033113110810518265)"
      ]
     },
     "execution_count": 201,
     "metadata": {},
     "output_type": "execute_result"
    },
    {
     "data": {
      "image/png": "[encoded data removed]",
      "text/plain": [
       "<Figure size 432x288 with 1 Axes>"
      ]
     },
     "metadata": {
      "needs_background": "light"
     },
     "output_type": "display_data"
    }
   ],
   "source": [
    "learn.lr_find()"
   ]
  },
  {
   "cell_type": "code",
   "execution_count": 202,
   "metadata": {},
   "outputs": [],
   "source": [
    "learn.add_cbs([SaveModelCallback(monitor='f1_score', fname='best_sequence_256'),\n",
    "                                       ShowGraphCallback()])"
   ]
  },
  {
   "cell_type": "code",
   "execution_count": 203,
   "metadata": {},
   "outputs": [
    {
     "data": {
      "text/html": [
       "<table border=\"1\" class=\"dataframe\">\n",
       "  <thead>\n",
       "    <tr style=\"text-align: left;\">\n",
       "      <th>epoch</th>\n",
       "      <th>train_loss</th>\n",
       "      <th>valid_loss</th>\n",
       "      <th>f1_score</th>\n",
       "      <th>time</th>\n",
       "    </tr>\n",
       "  </thead>\n",
       "  <tbody>\n",
       "    <tr>\n",
       "      <td>0</td>\n",
       "      <td>1.739531</td>\n",
       "      <td>0.731856</td>\n",
       "      <td>0.600024</td>\n",
       "      <td>03:15</td>\n",
       "    </tr>\n",
       "    <tr>\n",
       "      <td>1</td>\n",
       "      <td>0.958818</td>\n",
       "      <td>0.864794</td>\n",
       "      <td>0.162174</td>\n",
       "      <td>04:08</td>\n",
       "    </tr>\n",
       "    <tr>\n",
       "      <td>2</td>\n",
       "      <td>0.791817</td>\n",
       "      <td>0.549651</td>\n",
       "      <td>0.564314</td>\n",
       "      <td>04:10</td>\n",
       "    </tr>\n",
       "    <tr>\n",
       "      <td>3</td>\n",
       "      <td>0.670333</td>\n",
       "      <td>0.681630</td>\n",
       "      <td>0.590426</td>\n",
       "      <td>04:13</td>\n",
       "    </tr>\n",
       "    <tr>\n",
       "      <td>4</td>\n",
       "      <td>0.634262</td>\n",
       "      <td>0.739056</td>\n",
       "      <td>0.744369</td>\n",
       "      <td>04:00</td>\n",
       "    </tr>\n",
       "    <tr>\n",
       "      <td>5</td>\n",
       "      <td>0.564580</td>\n",
       "      <td>0.626930</td>\n",
       "      <td>0.749589</td>\n",
       "      <td>04:02</td>\n",
       "    </tr>\n",
       "    <tr>\n",
       "      <td>6</td>\n",
       "      <td>0.601588</td>\n",
       "      <td>1.455407</td>\n",
       "      <td>0.759692</td>\n",
       "      <td>04:07</td>\n",
       "    </tr>\n",
       "    <tr>\n",
       "      <td>7</td>\n",
       "      <td>0.598733</td>\n",
       "      <td>0.928646</td>\n",
       "      <td>0.768330</td>\n",
       "      <td>04:15</td>\n",
       "    </tr>\n",
       "    <tr>\n",
       "      <td>8</td>\n",
       "      <td>0.533349</td>\n",
       "      <td>0.800493</td>\n",
       "      <td>0.770257</td>\n",
       "      <td>04:23</td>\n",
       "    </tr>\n",
       "    <tr>\n",
       "      <td>9</td>\n",
       "      <td>0.487383</td>\n",
       "      <td>0.773178</td>\n",
       "      <td>0.769277</td>\n",
       "      <td>03:53</td>\n",
       "    </tr>\n",
       "  </tbody>\n",
       "</table>"
      ],
      "text/plain": [
       "<IPython.core.display.HTML object>"
      ]
     },
     "metadata": {},
     "output_type": "display_data"
    },
    {
     "name": "stdout",
     "output_type": "stream",
     "text": [
      "Better model found at epoch 0 with f1_score value: 0.6000241358943937.\n"
     ]
    },
    {
     "data": {
      "image/png": "[encoded data removed]",
      "text/plain": [
       "<Figure size 432x288 with 1 Axes>"
      ]
     },
     "metadata": {},
     "output_type": "display_data"
    },
    {
     "name": "stdout",
     "output_type": "stream",
     "text": [
      "Better model found at epoch 4 with f1_score value: 0.7443691316251758.\n",
      "Better model found at epoch 5 with f1_score value: 0.7495886360600279.\n",
      "Better model found at epoch 6 with f1_score value: 0.7596919711375182.\n",
      "Better model found at epoch 7 with f1_score value: 0.7683303196023269.\n",
      "Better model found at epoch 8 with f1_score value: 0.7702571801603605.\n"
     ]
    }
   ],
   "source": [
    "learn.fit_one_cycle(10, lr_max=1e-2)"
   ]
  },
  {
   "cell_type": "code",
   "execution_count": 204,
   "metadata": {},
   "outputs": [],
   "source": [
    "model = SequenceModel()"
   ]
  },
  {
   "cell_type": "code",
   "execution_count": 205,
   "metadata": {},
   "outputs": [],
   "source": [
    "learn = Learner(dls, model, loss_func=loss_func, metrics=[MyFScore()])"
   ]
  },
  {
   "cell_type": "code",
   "execution_count": 206,
   "metadata": {},
   "outputs": [
    {
     "data": {
      "text/html": [
       "<table border=\"1\" class=\"dataframe\">\n",
       "  <thead>\n",
       "    <tr style=\"text-align: left;\">\n",
       "      <th>epoch</th>\n",
       "      <th>train_loss</th>\n",
       "      <th>valid_loss</th>\n",
       "      <th>f1_score</th>\n",
       "      <th>time</th>\n",
       "    </tr>\n",
       "  </thead>\n",
       "  <tbody>\n",
       "    <tr>\n",
       "      <td>0</td>\n",
       "      <td>None</td>\n",
       "      <td>None</td>\n",
       "      <td>00:00</td>\n",
       "    </tr>\n",
       "  </tbody>\n",
       "</table>"
      ],
      "text/plain": [
       "<IPython.core.display.HTML object>"
      ]
     },
     "metadata": {},
     "output_type": "display_data"
    },
    {
     "data": {
      "text/plain": [
       "SequenceModel (Input shape: ['64 x 4242 x 128'])\n",
       "================================================================\n",
       "Layer (type)         Output Shape         Param #    Trainable \n",
       "================================================================\n",
       "LSTM                 ['64 x 4242 x 256',  264,192    True      \n",
       "________________________________________________________________\n",
       "BatchNorm1d          64 x 256 x 4242      512        True      \n",
       "________________________________________________________________\n",
       "Dropout              64 x 256 x 4242      0          False     \n",
       "________________________________________________________________\n",
       "Linear               64 x 4242 x 12       3,084      True      \n",
       "________________________________________________________________\n",
       "\n",
       "Total params: 267,788\n",
       "Total trainable params: 267,788\n",
       "Total non-trainable params: 0\n",
       "\n",
       "Optimizer used: <function Adam at 0x7fc694c8f430>\n",
       "Loss function: <function loss_func at 0x7fc544e7b700>\n",
       "\n",
       "Callbacks:\n",
       "  - TrainEvalCallback\n",
       "  - Recorder\n",
       "  - ProgressCallback"
      ]
     },
     "execution_count": 206,
     "metadata": {},
     "output_type": "execute_result"
    }
   ],
   "source": [
    "learn.summary()"
   ]
  },
  {
   "cell_type": "code",
   "execution_count": 185,
   "metadata": {},
   "outputs": [
    {
     "data": {
      "text/html": [],
      "text/plain": [
       "<IPython.core.display.HTML object>"
      ]
     },
     "metadata": {},
     "output_type": "display_data"
    },
    {
     "data": {
      "text/plain": [
       "SuggestedLRs(lr_min=0.03019951581954956, lr_steep=0.010964781977236271)"
      ]
     },
     "execution_count": 185,
     "metadata": {},
     "output_type": "execute_result"
    },
    {
     "data": {
      "image/png": "[encoded data removed]",
      "text/plain": [
       "<Figure size 432x288 with 1 Axes>"
      ]
     },
     "metadata": {
      "needs_background": "light"
     },
     "output_type": "display_data"
    }
   ],
   "source": [
    "learn.lr_find()"
   ]
  },
  {
   "cell_type": "code",
   "execution_count": 207,
   "metadata": {},
   "outputs": [],
   "source": [
    "learn.add_cbs([SaveModelCallback(monitor='f1_score', fname='best_sequence_128_more_epochs'),\n",
    "                                       ShowGraphCallback()])"
   ]
  },
  {
   "cell_type": "code",
   "execution_count": 208,
   "metadata": {},
   "outputs": [
    {
     "data": {
      "text/html": [
       "<table border=\"1\" class=\"dataframe\">\n",
       "  <thead>\n",
       "    <tr style=\"text-align: left;\">\n",
       "      <th>epoch</th>\n",
       "      <th>train_loss</th>\n",
       "      <th>valid_loss</th>\n",
       "      <th>f1_score</th>\n",
       "      <th>time</th>\n",
       "    </tr>\n",
       "  </thead>\n",
       "  <tbody>\n",
       "    <tr>\n",
       "      <td>0</td>\n",
       "      <td>2.185531</td>\n",
       "      <td>1.216205</td>\n",
       "      <td>0.634767</td>\n",
       "      <td>03:55</td>\n",
       "    </tr>\n",
       "    <tr>\n",
       "      <td>1</td>\n",
       "      <td>1.481416</td>\n",
       "      <td>0.766167</td>\n",
       "      <td>0.618348</td>\n",
       "      <td>04:18</td>\n",
       "    </tr>\n",
       "    <tr>\n",
       "      <td>2</td>\n",
       "      <td>0.945172</td>\n",
       "      <td>0.653605</td>\n",
       "      <td>0.603354</td>\n",
       "      <td>04:32</td>\n",
       "    </tr>\n",
       "    <tr>\n",
       "      <td>3</td>\n",
       "      <td>0.702862</td>\n",
       "      <td>0.641554</td>\n",
       "      <td>0.689114</td>\n",
       "      <td>04:13</td>\n",
       "    </tr>\n",
       "    <tr>\n",
       "      <td>4</td>\n",
       "      <td>0.608428</td>\n",
       "      <td>0.638108</td>\n",
       "      <td>0.575528</td>\n",
       "      <td>04:16</td>\n",
       "    </tr>\n",
       "    <tr>\n",
       "      <td>5</td>\n",
       "      <td>0.565160</td>\n",
       "      <td>0.676345</td>\n",
       "      <td>0.724108</td>\n",
       "      <td>04:18</td>\n",
       "    </tr>\n",
       "    <tr>\n",
       "      <td>6</td>\n",
       "      <td>0.530399</td>\n",
       "      <td>0.587832</td>\n",
       "      <td>0.750578</td>\n",
       "      <td>04:11</td>\n",
       "    </tr>\n",
       "    <tr>\n",
       "      <td>7</td>\n",
       "      <td>0.569292</td>\n",
       "      <td>0.605112</td>\n",
       "      <td>0.736566</td>\n",
       "      <td>04:26</td>\n",
       "    </tr>\n",
       "    <tr>\n",
       "      <td>8</td>\n",
       "      <td>0.540357</td>\n",
       "      <td>0.652844</td>\n",
       "      <td>0.740394</td>\n",
       "      <td>04:20</td>\n",
       "    </tr>\n",
       "    <tr>\n",
       "      <td>9</td>\n",
       "      <td>0.488475</td>\n",
       "      <td>0.790486</td>\n",
       "      <td>0.750856</td>\n",
       "      <td>04:35</td>\n",
       "    </tr>\n",
       "    <tr>\n",
       "      <td>10</td>\n",
       "      <td>0.462200</td>\n",
       "      <td>0.711543</td>\n",
       "      <td>0.772920</td>\n",
       "      <td>04:18</td>\n",
       "    </tr>\n",
       "    <tr>\n",
       "      <td>11</td>\n",
       "      <td>0.465497</td>\n",
       "      <td>0.929869</td>\n",
       "      <td>0.770644</td>\n",
       "      <td>04:17</td>\n",
       "    </tr>\n",
       "    <tr>\n",
       "      <td>12</td>\n",
       "      <td>0.469068</td>\n",
       "      <td>0.766217</td>\n",
       "      <td>0.779875</td>\n",
       "      <td>04:07</td>\n",
       "    </tr>\n",
       "    <tr>\n",
       "      <td>13</td>\n",
       "      <td>0.457207</td>\n",
       "      <td>0.921425</td>\n",
       "      <td>0.778923</td>\n",
       "      <td>04:29</td>\n",
       "    </tr>\n",
       "    <tr>\n",
       "      <td>14</td>\n",
       "      <td>0.447944</td>\n",
       "      <td>0.812470</td>\n",
       "      <td>0.773291</td>\n",
       "      <td>04:33</td>\n",
       "    </tr>\n",
       "    <tr>\n",
       "      <td>15</td>\n",
       "      <td>0.422744</td>\n",
       "      <td>0.758176</td>\n",
       "      <td>0.771157</td>\n",
       "      <td>04:13</td>\n",
       "    </tr>\n",
       "    <tr>\n",
       "      <td>16</td>\n",
       "      <td>0.407247</td>\n",
       "      <td>0.709921</td>\n",
       "      <td>0.769935</td>\n",
       "      <td>04:42</td>\n",
       "    </tr>\n",
       "    <tr>\n",
       "      <td>17</td>\n",
       "      <td>0.389429</td>\n",
       "      <td>0.720293</td>\n",
       "      <td>0.770077</td>\n",
       "      <td>04:15</td>\n",
       "    </tr>\n",
       "    <tr>\n",
       "      <td>18</td>\n",
       "      <td>0.381913</td>\n",
       "      <td>0.740666</td>\n",
       "      <td>0.771254</td>\n",
       "      <td>04:15</td>\n",
       "    </tr>\n",
       "    <tr>\n",
       "      <td>19</td>\n",
       "      <td>0.377535</td>\n",
       "      <td>0.735591</td>\n",
       "      <td>0.770934</td>\n",
       "      <td>04:05</td>\n",
       "    </tr>\n",
       "  </tbody>\n",
       "</table>"
      ],
      "text/plain": [
       "<IPython.core.display.HTML object>"
      ]
     },
     "metadata": {},
     "output_type": "display_data"
    },
    {
     "name": "stdout",
     "output_type": "stream",
     "text": [
      "Better model found at epoch 0 with f1_score value: 0.6347667433703132.\n"
     ]
    },
    {
     "data": {
      "image/png": "[encoded data removed]",
      "text/plain": [
       "<Figure size 432x288 with 1 Axes>"
      ]
     },
     "metadata": {},
     "output_type": "display_data"
    },
    {
     "name": "stdout",
     "output_type": "stream",
     "text": [
      "Better model found at epoch 3 with f1_score value: 0.6891135856929514.\n",
      "Better model found at epoch 5 with f1_score value: 0.7241083182116529.\n",
      "Better model found at epoch 6 with f1_score value: 0.7505783263290399.\n",
      "Better model found at epoch 9 with f1_score value: 0.7508555472414002.\n",
      "Better model found at epoch 10 with f1_score value: 0.7729201568848018.\n",
      "Better model found at epoch 12 with f1_score value: 0.7798754984648039.\n"
     ]
    }
   ],
   "source": [
    "learn.fit_one_cycle(20, lr_max=1e-2)"
   ]
  },
  {
   "cell_type": "code",
   "execution_count": null,
   "metadata": {},
   "outputs": [],
   "source": [
    "learn.load(\"best_sequence_128_more_epochs\")"
   ]
  },
  {
   "cell_type": "code",
   "execution_count": 94,
   "metadata": {},
   "outputs": [],
   "source": [
    "def evaluate(learn, dl):\n",
    "    preds, targets = learn.get_preds(dl=dl)\n",
    "    preds =[np.argmax(x, axis=-1) for sublist in preds for x in sublist]\n",
    "    targets = [x for sublist in targets for x in sublist]\n",
    "    pad_idxs = [i for i,x in enumerate(targets) if x != tensor([12])]\n",
    "    preds = L(preds)[pad_idxs]\n",
    "    targets = L(targets)[pad_idxs]\n",
    "    print(classification_report(targets, preds, target_names=dl.get_labels.cat.vocab, digits=4))\n",
    "    preds = [x % 6 for x in preds]\n",
    "    targets = [x % 6 for x in targets]\n",
    "    print(classification_report(targets, preds, target_names=[x[2:] for x in dl.get_labels.cat.vocab[:6]], digits=4))"
   ]
  },
  {
   "cell_type": "code",
   "execution_count": 221,
   "metadata": {},
   "outputs": [
    {
     "data": {
      "text/html": [],
      "text/plain": [
       "<IPython.core.display.HTML object>"
      ]
     },
     "metadata": {},
     "output_type": "display_data"
    },
    {
     "name": "stdout",
     "output_type": "stream",
     "text": [
      "                                    precision    recall  f1-score   support\n",
      "\n",
      "          B-acordao_de_2_instancia     0.8571    0.1194    0.2096       201\n",
      "B-agravo_em_recurso_extraordinario     0.4737    0.0380    0.0703       237\n",
      "     B-despacho_de_admissibilidade     0.6331    0.7279    0.6772       147\n",
      "                          B-outros     0.7241    0.4985    0.5904     25898\n",
      "                   B-peticao_do_RE     0.0833    0.0031    0.0059       326\n",
      "                        B-sentenca     1.0000    0.0035    0.0070       284\n",
      "          I-acordao_de_2_instancia     0.2596    0.6224    0.3664        98\n",
      "I-agravo_em_recurso_extraordinario     0.5743    0.5701    0.5722      1912\n",
      "     I-despacho_de_admissibilidade     0.0000    0.0000    0.0000        36\n",
      "                          I-outros     0.7718    0.8810    0.8228     58206\n",
      "                   I-peticao_do_RE     0.7054    0.7761    0.7391      6038\n",
      "                        I-sentenca     0.7043    0.7611    0.7316      1352\n",
      "\n",
      "                          accuracy                         0.7515     94735\n",
      "                         macro avg     0.5656    0.4168    0.3994     94735\n",
      "                      weighted avg     0.7463    0.7515    0.7381     94735\n",
      "\n",
      "                                  precision    recall  f1-score   support\n",
      "\n",
      "          acordao_de_2_instancia     0.9049    0.7960    0.8470       299\n",
      "agravo_em_recurso_extraordinario     0.6255    0.5579    0.5898      2149\n",
      "     despacho_de_admissibilidade     0.7396    0.6831    0.7102       183\n",
      "                          outros     0.9687    0.9706    0.9696     84104\n",
      "                   peticao_do_RE     0.7391    0.7729    0.7557      6364\n",
      "                        sentenca     0.8550    0.7641    0.8070      1636\n",
      "\n",
      "                        accuracy                         0.9433     94735\n",
      "                       macro avg     0.8055    0.7574    0.7799     94735\n",
      "                    weighted avg     0.9429    0.9433    0.9430     94735\n",
      "\n"
     ]
    }
   ],
   "source": [
    "evaluate(learn, dls.valid)"
   ]
  },
  {
   "cell_type": "code",
   "execution_count": 212,
   "metadata": {},
   "outputs": [],
   "source": [
    "test_data = pd.DataFrame({\"acts\":X_test, \"labels\":y_test})"
   ]
  },
  {
   "cell_type": "code",
   "execution_count": 213,
   "metadata": {},
   "outputs": [],
   "source": [
    "test_dl = dls.test_dl(test_data, with_labels=True)"
   ]
  },
  {
   "cell_type": "code",
   "execution_count": 216,
   "metadata": {},
   "outputs": [],
   "source": [
    "torch.save(test_dl, \"./data/test_dl_sequence.pth\")"
   ]
  },
  {
   "cell_type": "code",
   "execution_count": 222,
   "metadata": {},
   "outputs": [
    {
     "data": {
      "text/html": [],
      "text/plain": [
       "<IPython.core.display.HTML object>"
      ]
     },
     "metadata": {},
     "output_type": "display_data"
    },
    {
     "name": "stdout",
     "output_type": "stream",
     "text": [
      "                                    precision    recall  f1-score   support\n",
      "\n",
      "          B-acordao_de_2_instancia     0.9143    0.1608    0.2735       199\n",
      "B-agravo_em_recurso_extraordinario     0.2258    0.0329    0.0574       213\n",
      "     B-despacho_de_admissibilidade     0.5500    0.6735    0.6055       147\n",
      "                          B-outros     0.7043    0.4848    0.5743     25744\n",
      "                   B-peticao_do_RE     0.0556    0.0032    0.0061       312\n",
      "                        B-sentenca     0.0000    0.0000    0.0000       265\n",
      "          I-acordao_de_2_instancia     0.2696    0.8378    0.4079        74\n",
      "I-agravo_em_recurso_extraordinario     0.5551    0.5565    0.5558      1628\n",
      "     I-despacho_de_admissibilidade     0.0000    0.0000    0.0000        51\n",
      "                          I-outros     0.7747    0.8835    0.8255     59664\n",
      "                   I-peticao_do_RE     0.7270    0.7586    0.7424      6019\n",
      "                        I-sentenca     0.6925    0.7760    0.7319      1210\n",
      "\n",
      "                          accuracy                         0.7517     95526\n",
      "                         macro avg     0.4557    0.4306    0.3984     95526\n",
      "                      weighted avg     0.7414    0.7517    0.7379     95526\n",
      "\n",
      "                                  precision    recall  f1-score   support\n",
      "\n",
      "          acordao_de_2_instancia     0.9170    0.8901    0.9033       273\n",
      "agravo_em_recurso_extraordinario     0.6055    0.5470    0.5748      1841\n",
      "     despacho_de_admissibilidade     0.6722    0.6111    0.6402       198\n",
      "                          outros     0.9701    0.9742    0.9721     85408\n",
      "                   peticao_do_RE     0.7612    0.7574    0.7593      6331\n",
      "                        sentenca     0.8532    0.7844    0.8174      1475\n",
      "\n",
      "                        accuracy                         0.9476     95526\n",
      "                       macro avg     0.7966    0.7607    0.7779     95526\n",
      "                    weighted avg     0.9467    0.9476    0.9471     95526\n",
      "\n"
     ]
    }
   ],
   "source": [
    "evaluate(learn, test_dl)"
   ]
  },
  {
   "cell_type": "markdown",
   "metadata": {},
   "source": [
    "### With CRF"
   ]
  },
  {
   "cell_type": "code",
   "execution_count": 152,
   "metadata": {},
   "outputs": [],
   "source": [
    "class BiLSTMCRF(Module):\n",
    "    def __init__(self, hidden_dim=128, out_dim=OUT_DIM):\n",
    "        self.lstm = torch.nn.LSTM(input_size=INPUT_DIM, hidden_size=hidden_dim,\n",
    "                                  batch_first=True, bidirectional=True).cuda()\n",
    "        self.bn = nn.BatchNorm1d(hidden_dim*2, momentum=0.01).cuda()\n",
    "        self.drop = nn.Dropout().cuda()\n",
    "        self.lin = nn.Linear(hidden_dim*2, out_dim).cuda()\n",
    "        self.crf = CRF(num_tags=OUT_DIM, batch_first=True).cuda()\n",
    "            \n",
    "    def crf_loss_func(self, out, targ):\n",
    "        mask = tensor(targ.data != OUT_DIM)\n",
    "        targ[targ==OUT_DIM]=0\n",
    "        targ=targ.view(out.shape[:2])\n",
    "        mask=mask.view(targ.shape)\n",
    "        return -self.crf(out, targ.long(), mask=mask, reduction=\"mean\")\n",
    "        \n",
    "    def forward(self, x):\n",
    "        out, _ = self.lstm(x)\n",
    "        out = out.permute(0, 2, 1)\n",
    "        out_norm = self.bn(out)\n",
    "        out_drop = self.drop(out_norm)\n",
    "        out_drop = out_drop.permute(0, 2, 1)\n",
    "        logits = self.lin(out_drop)\n",
    "        return logits"
   ]
  },
  {
   "cell_type": "code",
   "execution_count": 153,
   "metadata": {},
   "outputs": [],
   "source": [
    "model = BiLSTMCRF()"
   ]
  },
  {
   "cell_type": "code",
   "execution_count": 154,
   "metadata": {},
   "outputs": [],
   "source": [
    "def _accumulate(self, learn):\n",
    "    pred = learn.pred\n",
    "    targ = learn.y\n",
    "    mask = tensor(targ.data != OUT_DIM)\n",
    "    pred,targ, mask = to_detach(pred),to_detach(targ), to_detach(mask)\n",
    "    mask=mask.view(pred.shape[:2])\n",
    "    pred = learn.model.crf.decode(pred.cuda(),mask=mask.cuda())\n",
    "    pred = tensor([[x for sublist in pred for x in sublist]]).view(-1)\n",
    "    targ = targ[mask].view(-1)\n",
    "    pred = torch.remainder(pred, 6)\n",
    "    targ = torch.remainder(targ, 6)\n",
    "    self.preds.append(pred)\n",
    "    self.targs.append(targ)\n",
    "\n",
    "AccumMetric.accumulate = _accumulate\n",
    "\n",
    "def MyFScore(average='macro'):\n",
    "    return skm_to_fastai(f1_score, average=average)"
   ]
  },
  {
   "cell_type": "code",
   "execution_count": 155,
   "metadata": {},
   "outputs": [],
   "source": [
    "learn = Learner(dls, model, loss_func=model.crf_loss_func, metrics=[MyFScore()])"
   ]
  },
  {
   "cell_type": "code",
   "execution_count": null,
   "metadata": {},
   "outputs": [
    {
     "data": {
      "text/html": [
       "\n",
       "    <div>\n",
       "        <style>\n",
       "            /* Turns off some styling */\n",
       "            progress {\n",
       "                /* gets rid of default border in Firefox and Opera. */\n",
       "                border: none;\n",
       "                /* Needs to be in here for Safari polyfill so background images work as expected. */\n",
       "                background-size: auto;\n",
       "            }\n",
       "            .progress-bar-interrupted, .progress-bar-interrupted::-webkit-progress-bar {\n",
       "                background: #F44336;\n",
       "            }\n",
       "        </style>\n",
       "      <progress value='22' class='' max='30' style='width:300px; height:20px; vertical-align: middle;'></progress>\n",
       "      73.33% [22/30 00:34<00:12]\n",
       "    </div>\n",
       "    "
      ],
      "text/plain": [
       "<IPython.core.display.HTML object>"
      ]
     },
     "metadata": {},
     "output_type": "display_data"
    }
   ],
   "source": [
    "learn.validate()"
   ]
  },
  {
   "cell_type": "code",
   "execution_count": null,
   "metadata": {},
   "outputs": [],
   "source": [
    "learn.summary()"
   ]
  },
  {
   "cell_type": "code",
   "execution_count": null,
   "metadata": {},
   "outputs": [],
   "source": [
    "learn.lr_find()"
   ]
  },
  {
   "cell_type": "code",
   "execution_count": null,
   "metadata": {},
   "outputs": [],
   "source": [
    "learn.add_cbs([SaveModelCallback(monitor='f1_score', fname='best_lstm_crf_128'),\n",
    "                                       ShowGraphCallback()])"
   ]
  },
  {
   "cell_type": "code",
   "execution_count": null,
   "metadata": {},
   "outputs": [],
   "source": [
    "learn.fit_one_cycle(10, lr_max=1e-2)"
   ]
  },
  {
   "cell_type": "code",
   "execution_count": null,
   "metadata": {},
   "outputs": [],
   "source": []
  }
 ],
 "metadata": {
  "kernelspec": {
   "display_name": "fastai2",
   "language": "python",
   "name": "fastai2"
  },
  "language_info": {
   "codemirror_mode": {
    "name": "ipython",
    "version": 3
   },
   "file_extension": ".py",
   "mimetype": "text/x-python",
   "name": "python",
   "nbconvert_exporter": "python",
   "pygments_lexer": "ipython3",
   "version": "3.8.5"
  }
 },
 "nbformat": 4,
 "nbformat_minor": 4
}
