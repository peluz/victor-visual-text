{
 "cells": [
  {
   "cell_type": "code",
   "execution_count": 137,
   "metadata": {},
   "outputs": [
    {
     "name": "stdout",
     "output_type": "stream",
     "text": [
      "The autoreload extension is already loaded. To reload it, use:\n",
      "  %reload_ext autoreload\n"
     ]
    }
   ],
   "source": [
    "%load_ext autoreload\n",
    "%autoreload 2\n",
    "\n",
    "from fastai.text.all import *\n",
    "from fastai.vision.all import *\n",
    "import pandas as pd\n",
    "import torch\n",
    "from tqdm.notebook import tqdm\n",
    "from sklearn.metrics import classification_report, f1_score"
   ]
  },
  {
   "cell_type": "code",
   "execution_count": 2,
   "metadata": {},
   "outputs": [],
   "source": [
    "seed = 42\n",
    "\n",
    "# python RNG\n",
    "import random\n",
    "random.seed(seed)\n",
    "\n",
    "# pytorch RNGs\n",
    "import torch\n",
    "torch.manual_seed(seed)\n",
    "torch.backends.cudnn.deterministic = True\n",
    "if torch.cuda.is_available(): torch.cuda.manual_seed_all(seed)\n",
    "\n",
    "# numpy RNG\n",
    "import numpy as np\n",
    "np.random.seed(seed)"
   ]
  },
  {
   "cell_type": "code",
   "execution_count": 77,
   "metadata": {},
   "outputs": [],
   "source": [
    "OUT_DIM=12\n",
    "INPUT_DIM=128\n",
    "BS= 16"
   ]
  },
  {
   "cell_type": "code",
   "execution_count": 4,
   "metadata": {},
   "outputs": [],
   "source": [
    "train = pd.read_csv(\"./data/train_fusion.csv\")\n",
    "val = pd.read_csv(\"./data/val_fusion.csv\")\n",
    "test_data = pd.read_csv(\"./data/test_fusion.csv\")"
   ]
  },
  {
   "cell_type": "code",
   "execution_count": 5,
   "metadata": {},
   "outputs": [],
   "source": [
    "train[\"document_type\"] = train.apply(lambda x: \"B-\" + x[\"document_type\"] if x[\"pages\"] == 1 else \"I-\" + x[\"document_type\"],\n",
    "                                     axis=1)\n",
    "val[\"document_type\"] = val.apply(lambda x: \"B-\" + x[\"document_type\"] if x[\"pages\"] == 1 else \"I-\" + x[\"document_type\"],\n",
    "                                     axis=1)\n",
    "test_data[\"document_type\"] = test_data.apply(lambda x: \"B-\" + x[\"document_type\"] if x[\"pages\"] == 1 else \"I-\" + x[\"document_type\"],\n",
    "                                   axis=1)"
   ]
  },
  {
   "cell_type": "code",
   "execution_count": 6,
   "metadata": {},
   "outputs": [],
   "source": [
    "def get_sequences(data):\n",
    "    xs = []\n",
    "    ys = []\n",
    "    for k, v in data.groupby(\"process_id\").groups.items():\n",
    "        xs.append(data.iloc[v][\"activation_path\"].tolist())\n",
    "        ys.append(data.iloc[v][\"document_type\"].tolist())\n",
    "    return xs, ys"
   ]
  },
  {
   "cell_type": "code",
   "execution_count": 7,
   "metadata": {},
   "outputs": [],
   "source": [
    "X_train, y_train = get_sequences(train)\n",
    "X_valid, y_valid = get_sequences(val)\n",
    "X_test, y_test = get_sequences(test_data)"
   ]
  },
  {
   "cell_type": "code",
   "execution_count": 8,
   "metadata": {},
   "outputs": [],
   "source": [
    "data = pd.concat([pd.DataFrame({\"acts\":X_train, \"labels\":y_train, \"is_valid\": False}),\n",
    "                 pd.DataFrame({\"acts\":X_valid, \"labels\":y_valid, \"is_valid\": True})])"
   ]
  },
  {
   "cell_type": "code",
   "execution_count": 9,
   "metadata": {},
   "outputs": [],
   "source": [
    "class GetFusionActs(Transform):\n",
    "    def encodes(self, x):    \n",
    "        acts = []\n",
    "        for act in x[\"acts\"]:\n",
    "            acts.append(torch.load(act.replace(\"text\", \"fusion\") + \".pt\").unsqueeze(0)) \n",
    "        return torch.cat(acts)"
   ]
  },
  {
   "cell_type": "code",
   "execution_count": 10,
   "metadata": {},
   "outputs": [],
   "source": [
    "class GetLabels(Transform):\n",
    "    def setup(self, items, train_setup):\n",
    "        if train_setup:\n",
    "            self.cat = Categorize()\n",
    "            self.cat.setup([x for sublist in items.items[\"labels\"].tolist() for x in sublist])\n",
    "        \n",
    "    def encodes(self, x):\n",
    "        labels = []\n",
    "        for label in x[\"labels\"]:\n",
    "            labels.append(self.cat(label).unsqueeze(0).unsqueeze(0))\n",
    "        return torch.cat(labels)"
   ]
  },
  {
   "cell_type": "code",
   "execution_count": 11,
   "metadata": {},
   "outputs": [],
   "source": [
    "class My_Pad_Input(ItemTransform):\n",
    "    def encodes(self,samples, pad_fields=0, pad_first=False, backwards=False):\n",
    "        \"Function that collect `samples` and adds padding\"\n",
    "        pad_fields = L(pad_fields)\n",
    "        max_len_l = pad_fields.map(lambda f: max([len(s[f]) for s in samples]))\n",
    "        if backwards: pad_first = not pad_first\n",
    "        def _f(field_idx, x):\n",
    "            pad_value=0\n",
    "            if field_idx not in pad_fields: return x\n",
    "            if field_idx==1:\n",
    "                pad_value=OUT_DIM\n",
    "            idx = pad_fields.items.index(field_idx) #TODO: remove items if L.index is fixed\n",
    "            sl = slice(-len(x), sys.maxsize) if pad_first else slice(0, len(x))\n",
    "            pad =  x.new_zeros((max_len_l[idx]-x.shape[0], *x.shape[1:]))+pad_value\n",
    "            x1 = torch.cat([pad, x] if pad_first else [x, pad])\n",
    "            if backwards: x1 = x1.flip(0)\n",
    "            return retain_type(x1, x)\n",
    "        return [tuple(map(lambda idxx: _f(*idxx), enumerate(s))) for s in samples]\n",
    "my_pad_input=My_Pad_Input()"
   ]
  },
  {
   "cell_type": "code",
   "execution_count": null,
   "metadata": {},
   "outputs": [],
   "source": [
    "tfms = [[GetFusionActs()], [GetLabels()]]\n",
    "splits = ColSplitter()(data)\n",
    "dsets = Datasets(data, tfms, splits=splits)\n",
    "dls = dsets.dataloaders(dl_type=SortedDL, before_batch=partial(my_pad_input, pad_fields=[0,1]), bs=BS)"
   ]
  },
  {
   "cell_type": "code",
   "execution_count": null,
   "metadata": {},
   "outputs": [],
   "source": [
    "dls.one_batch()"
   ]
  },
  {
   "cell_type": "code",
   "execution_count": 14,
   "metadata": {},
   "outputs": [],
   "source": [
    "torch.save(dls, \"./data/dls_sequence.pth\")"
   ]
  },
  {
   "cell_type": "code",
   "execution_count": 41,
   "metadata": {},
   "outputs": [],
   "source": [
    "dls = torch.load(\"./data/dls_sequence.pth\")"
   ]
  },
  {
   "cell_type": "code",
   "execution_count": 175,
   "metadata": {},
   "outputs": [],
   "source": [
    "class SequenceModel(Module):\n",
    "    def __init__(self, hidden_dim=128, out_dim=OUT_DIM):\n",
    "        self.lstm = torch.nn.LSTM(input_size=INPUT_DIM, hidden_size=hidden_dim,\n",
    "                                  batch_first=True, bidirectional=True).cuda()\n",
    "        self.bn = nn.BatchNorm1d(hidden_dim*2, momentum=0.01).cuda()\n",
    "        self.drop = nn.Dropout().cuda()\n",
    "        self.lin = nn.Linear(hidden_dim*2, out_dim).cuda()\n",
    "        \n",
    "    def forward(self, x):\n",
    "        out, _ = self.lstm(x)\n",
    "        out = out.permute(0, 2, 1)\n",
    "        out_norm = self.bn(out)\n",
    "        out_drop = self.drop(out_norm)\n",
    "        out_drop = out_drop.permute(0, 2, 1)\n",
    "        return self.lin(out_drop)"
   ]
  },
  {
   "cell_type": "code",
   "execution_count": 176,
   "metadata": {},
   "outputs": [],
   "source": [
    "model = SequenceModel()"
   ]
  },
  {
   "cell_type": "code",
   "execution_count": 177,
   "metadata": {},
   "outputs": [],
   "source": [
    "def loss_func(out, targ):\n",
    "    return CrossEntropyLossFlat(ignore_index=OUT_DIM)(out, targ.long())"
   ]
  },
  {
   "cell_type": "code",
   "execution_count": 178,
   "metadata": {},
   "outputs": [],
   "source": [
    "def _accumulate(self, learn):\n",
    "    pred = learn.pred\n",
    "    targ = learn.y\n",
    "    pred,targ = to_detach(pred),to_detach(targ)\n",
    "    pred =np.argmax(pred, axis=-1)\n",
    "    pred, targ = flatten_check(pred, targ)\n",
    "    pad_idxs = [i for i,x in enumerate(targ) if x != tensor([12])]\n",
    "    pred = pred[pad_idxs]\n",
    "    targ = targ[pad_idxs]\n",
    "    pred = torch.remainder(pred, 6)\n",
    "    targ = torch.remainder(targ, 6)\n",
    "    self.preds.append(pred)\n",
    "    self.targs.append(targ)\n",
    "\n",
    "AccumMetric.accumulate = _accumulate\n",
    "\n",
    "def MyFScore(average='macro'):\n",
    "    return skm_to_fastai(f1_score, average=average)"
   ]
  },
  {
   "cell_type": "code",
   "execution_count": 192,
   "metadata": {},
   "outputs": [],
   "source": [
    "learn = Learner(dls, model, loss_func=loss_func, metrics=[MyFScore()])"
   ]
  },
  {
   "cell_type": "code",
   "execution_count": 184,
   "metadata": {},
   "outputs": [
    {
     "data": {
      "text/html": [
       "<table border=\"1\" class=\"dataframe\">\n",
       "  <thead>\n",
       "    <tr style=\"text-align: left;\">\n",
       "      <th>epoch</th>\n",
       "      <th>train_loss</th>\n",
       "      <th>valid_loss</th>\n",
       "      <th>f1_score</th>\n",
       "      <th>time</th>\n",
       "    </tr>\n",
       "  </thead>\n",
       "  <tbody>\n",
       "    <tr>\n",
       "      <td>0</td>\n",
       "      <td>None</td>\n",
       "      <td>None</td>\n",
       "      <td>00:00</td>\n",
       "    </tr>\n",
       "  </tbody>\n",
       "</table>"
      ],
      "text/plain": [
       "<IPython.core.display.HTML object>"
      ]
     },
     "metadata": {},
     "output_type": "display_data"
    },
    {
     "data": {
      "text/plain": [
       "SequenceModel (Input shape: ['64 x 4242 x 128'])\n",
       "================================================================\n",
       "Layer (type)         Output Shape         Param #    Trainable \n",
       "================================================================\n",
       "LSTM                 ['64 x 4242 x 256',  264,192    True      \n",
       "________________________________________________________________\n",
       "BatchNorm1d          64 x 256 x 4242      512        True      \n",
       "________________________________________________________________\n",
       "Dropout              64 x 256 x 4242      0          False     \n",
       "________________________________________________________________\n",
       "Linear               64 x 4242 x 12       3,084      True      \n",
       "________________________________________________________________\n",
       "\n",
       "Total params: 267,788\n",
       "Total trainable params: 267,788\n",
       "Total non-trainable params: 0\n",
       "\n",
       "Optimizer used: <function Adam at 0x7fc694c8f430>\n",
       "Loss function: <function loss_func at 0x7fc544e7b700>\n",
       "\n",
       "Callbacks:\n",
       "  - TrainEvalCallback\n",
       "  - Recorder\n",
       "  - ProgressCallback"
      ]
     },
     "execution_count": 184,
     "metadata": {},
     "output_type": "execute_result"
    }
   ],
   "source": [
    "learn.summary()"
   ]
  },
  {
   "cell_type": "code",
   "execution_count": null,
   "metadata": {},
   "outputs": [],
   "source": [
    "learn.validate()"
   ]
  },
  {
   "cell_type": "code",
   "execution_count": 185,
   "metadata": {},
   "outputs": [
    {
     "data": {
      "text/html": [],
      "text/plain": [
       "<IPython.core.display.HTML object>"
      ]
     },
     "metadata": {},
     "output_type": "display_data"
    },
    {
     "data": {
      "text/plain": [
       "SuggestedLRs(lr_min=0.03019951581954956, lr_steep=0.010964781977236271)"
      ]
     },
     "execution_count": 185,
     "metadata": {},
     "output_type": "execute_result"
    },
    {
     "data": {
      "image/png": "[encoded data removed]",
      "text/plain": [
       "<Figure size 432x288 with 1 Axes>"
      ]
     },
     "metadata": {
      "needs_background": "light"
     },
     "output_type": "display_data"
    }
   ],
   "source": [
    "learn.lr_find()"
   ]
  },
  {
   "cell_type": "code",
   "execution_count": 193,
   "metadata": {},
   "outputs": [],
   "source": [
    "learn.add_cbs([SaveModelCallback(monitor='f1_score', fname='best_sequence_128'),\n",
    "                                       ShowGraphCallback()])"
   ]
  },
  {
   "cell_type": "code",
   "execution_count": null,
   "metadata": {},
   "outputs": [
    {
     "data": {
      "text/html": [
       "\n",
       "    <div>\n",
       "        <style>\n",
       "            /* Turns off some styling */\n",
       "            progress {\n",
       "                /* gets rid of default border in Firefox and Opera. */\n",
       "                border: none;\n",
       "                /* Needs to be in here for Safari polyfill so background images work as expected. */\n",
       "                background-size: auto;\n",
       "            }\n",
       "            .progress-bar-interrupted, .progress-bar-interrupted::-webkit-progress-bar {\n",
       "                background: #F44336;\n",
       "            }\n",
       "        </style>\n",
       "      <progress value='3' class='' max='10' style='width:300px; height:20px; vertical-align: middle;'></progress>\n",
       "      30.00% [3/10 12:51<29:59]\n",
       "    </div>\n",
       "    \n",
       "<table border=\"1\" class=\"dataframe\">\n",
       "  <thead>\n",
       "    <tr style=\"text-align: left;\">\n",
       "      <th>epoch</th>\n",
       "      <th>train_loss</th>\n",
       "      <th>valid_loss</th>\n",
       "      <th>f1_score</th>\n",
       "      <th>time</th>\n",
       "    </tr>\n",
       "  </thead>\n",
       "  <tbody>\n",
       "    <tr>\n",
       "      <td>0</td>\n",
       "      <td>0.463998</td>\n",
       "      <td>0.624359</td>\n",
       "      <td>0.760527</td>\n",
       "      <td>03:50</td>\n",
       "    </tr>\n",
       "    <tr>\n",
       "      <td>1</td>\n",
       "      <td>0.460408</td>\n",
       "      <td>0.635508</td>\n",
       "      <td>0.738585</td>\n",
       "      <td>04:22</td>\n",
       "    </tr>\n",
       "    <tr>\n",
       "      <td>2</td>\n",
       "      <td>0.450636</td>\n",
       "      <td>0.646396</td>\n",
       "      <td>0.762600</td>\n",
       "      <td>04:37</td>\n",
       "    </tr>\n",
       "  </tbody>\n",
       "</table><p>\n",
       "\n",
       "    <div>\n",
       "        <style>\n",
       "            /* Turns off some styling */\n",
       "            progress {\n",
       "                /* gets rid of default border in Firefox and Opera. */\n",
       "                border: none;\n",
       "                /* Needs to be in here for Safari polyfill so background images work as expected. */\n",
       "                background-size: auto;\n",
       "            }\n",
       "            .progress-bar-interrupted, .progress-bar-interrupted::-webkit-progress-bar {\n",
       "                background: #F44336;\n",
       "            }\n",
       "        </style>\n",
       "      <progress value='16' class='' max='42' style='width:300px; height:20px; vertical-align: middle;'></progress>\n",
       "      38.10% [16/42 01:35<02:35 0.4783]\n",
       "    </div>\n",
       "    "
      ],
      "text/plain": [
       "<IPython.core.display.HTML object>"
      ]
     },
     "metadata": {},
     "output_type": "display_data"
    },
    {
     "name": "stdout",
     "output_type": "stream",
     "text": [
      "Better model found at epoch 0 with f1_score value: 0.7605274235442635.\n"
     ]
    },
    {
     "data": {
      "image/png": "[encoded data removed]",
      "text/plain": [
       "<Figure size 432x288 with 1 Axes>"
      ]
     },
     "metadata": {},
     "output_type": "display_data"
    },
    {
     "name": "stdout",
     "output_type": "stream",
     "text": [
      "Better model found at epoch 2 with f1_score value: 0.7626003789602782.\n"
     ]
    }
   ],
   "source": [
    "learn.fit_one_cycle(10, lr_max=1e-2)"
   ]
  },
  {
   "cell_type": "code",
   "execution_count": null,
   "metadata": {},
   "outputs": [],
   "source": [
    "learn.load(\"best_sequence_128\")\n",
    "preds, targets = learn.get_preds()"
   ]
  },
  {
   "cell_type": "code",
   "execution_count": null,
   "metadata": {},
   "outputs": [],
   "source": [
    "preds =[np.argmax(x, axis=-1) for sublist in preds for x in sublist]\n",
    "targets = [x for sublist in targets for x in sublist]\n",
    "pad_idxs = [i for i,x in enumerate(targets) if x != tensor([12])]\n",
    "preds = L(preds)[pad_idxs]\n",
    "targets = L(targets)[pad_idxs]\n",
    "print(classification_report(targets, preds, target_names=dls.get_labels.cat.vocab, digits=4))"
   ]
  },
  {
   "cell_type": "code",
   "execution_count": null,
   "metadata": {},
   "outputs": [],
   "source": [
    "preds = [x % 6 for x in preds]\n",
    "targets = [x % 6 for x in targets]\n",
    "print(classification_report(targets, preds, target_names=[x[2:] for x in dls.get_labels.cat.vocab[:6]], digits=4))"
   ]
  },
  {
   "cell_type": "code",
   "execution_count": null,
   "metadata": {},
   "outputs": [],
   "source": [
    "model = SequenceModel(hidden_dim=256)"
   ]
  },
  {
   "cell_type": "code",
   "execution_count": null,
   "metadata": {},
   "outputs": [],
   "source": [
    "learn = Learner(dls, model, loss_func=loss_func, metrics=[MyFScore()])"
   ]
  },
  {
   "cell_type": "code",
   "execution_count": null,
   "metadata": {},
   "outputs": [],
   "source": [
    "learn.summary()"
   ]
  },
  {
   "cell_type": "code",
   "execution_count": null,
   "metadata": {},
   "outputs": [],
   "source": [
    "learn.lr_find()"
   ]
  },
  {
   "cell_type": "code",
   "execution_count": null,
   "metadata": {},
   "outputs": [],
   "source": [
    "learn.add_cbs([SaveModelCallback(monitor='f1_score', fname='best_sequence_256'),\n",
    "                                       ShowGraphCallback()])"
   ]
  },
  {
   "cell_type": "code",
   "execution_count": null,
   "metadata": {},
   "outputs": [],
   "source": [
    "learn.fit_one_cycle(10, lr_max=1e-2)"
   ]
  },
  {
   "cell_type": "code",
   "execution_count": null,
   "metadata": {},
   "outputs": [],
   "source": []
  }
 ],
 "metadata": {
  "kernelspec": {
   "display_name": "fastai2",
   "language": "python",
   "name": "fastai2"
  },
  "language_info": {
   "codemirror_mode": {
    "name": "ipython",
    "version": 3
   },
   "file_extension": ".py",
   "mimetype": "text/x-python",
   "name": "python",
   "nbconvert_exporter": "python",
   "pygments_lexer": "ipython3",
   "version": "3.8.5"
  }
 },
 "nbformat": 4,
 "nbformat_minor": 4
}
