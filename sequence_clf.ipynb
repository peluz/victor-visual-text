{
 "cells": [
  {
   "cell_type": "code",
   "execution_count": 1,
   "metadata": {},
   "outputs": [],
   "source": [
    "%load_ext autoreload\n",
    "%autoreload 2\n",
    "\n",
    "from fastai.text.all import *\n",
    "from fastai.vision.all import *\n",
    "import pandas as pd\n",
    "import torch\n",
    "from tqdm.notebook import tqdm\n",
    "from sklearn.metrics import classification_report, f1_score\n",
    "from torchcrf import CRF\n",
    "from util import get_sequences, GetLabels, My_Pad_Input, SequenceModel"
   ]
  },
  {
   "cell_type": "code",
   "execution_count": 2,
   "metadata": {},
   "outputs": [],
   "source": [
    "seed = 42\n",
    "\n",
    "# python RNG\n",
    "import random\n",
    "random.seed(seed)\n",
    "\n",
    "# pytorch RNGs\n",
    "import torch\n",
    "torch.manual_seed(seed)\n",
    "torch.backends.cudnn.deterministic = True\n",
    "if torch.cuda.is_available(): torch.cuda.manual_seed_all(seed)\n",
    "\n",
    "# numpy RNG\n",
    "import numpy as np\n",
    "np.random.seed(seed)"
   ]
  },
  {
   "cell_type": "code",
   "execution_count": 3,
   "metadata": {},
   "outputs": [],
   "source": [
    "OUT_DIM=12\n",
    "INPUT_DIM=128\n",
    "BS= 64"
   ]
  },
  {
   "cell_type": "code",
   "execution_count": 5,
   "metadata": {},
   "outputs": [],
   "source": [
    "train = pd.read_csv(\"./data/train_fusion.csv\")\n",
    "val = pd.read_csv(\"./data/val_fusion.csv\")\n",
    "test_data = pd.read_csv(\"./data/test_fusion.csv\")"
   ]
  },
  {
   "cell_type": "code",
   "execution_count": 6,
   "metadata": {},
   "outputs": [],
   "source": [
    "train[\"document_type\"] = train.apply(lambda x: \"B-\" + x[\"document_type\"] if x[\"pages\"] == 1 else \"I-\" + x[\"document_type\"],\n",
    "                                     axis=1)\n",
    "val[\"document_type\"] = val.apply(lambda x: \"B-\" + x[\"document_type\"] if x[\"pages\"] == 1 else \"I-\" + x[\"document_type\"],\n",
    "                                     axis=1)\n",
    "test_data[\"document_type\"] = test_data.apply(lambda x: \"B-\" + x[\"document_type\"] if x[\"pages\"] == 1 else \"I-\" + x[\"document_type\"],\n",
    "                                   axis=1)"
   ]
  },
  {
   "cell_type": "code",
   "execution_count": 8,
   "metadata": {},
   "outputs": [],
   "source": [
    "X_train, y_train = get_sequences(train)\n",
    "X_valid, y_valid = get_sequences(val)\n",
    "X_test, y_test = get_sequences(test_data)"
   ]
  },
  {
   "cell_type": "code",
   "execution_count": 9,
   "metadata": {},
   "outputs": [],
   "source": [
    "data = pd.concat([pd.DataFrame({\"acts\":X_train, \"labels\":y_train, \"is_valid\": False}),\n",
    "                 pd.DataFrame({\"acts\":X_valid, \"labels\":y_valid, \"is_valid\": True})])"
   ]
  },
  {
   "cell_type": "code",
   "execution_count": 4,
   "metadata": {},
   "outputs": [],
   "source": [
    "class GetFusionActs(Transform):\n",
    "    def encodes(self, x):    \n",
    "        acts = []\n",
    "        for act in x[\"acts\"]:\n",
    "            acts.append(torch.load(act.replace(\"text\", \"fusion\") + \".pt\").unsqueeze(0)) \n",
    "        return torch.cat(acts)"
   ]
  },
  {
   "cell_type": "code",
   "execution_count": 6,
   "metadata": {},
   "outputs": [],
   "source": [
    "my_pad_input=My_Pad_Input(12)"
   ]
  },
  {
   "cell_type": "code",
   "execution_count": null,
   "metadata": {},
   "outputs": [],
   "source": [
    "tfms = [[GetFusionActs()], [GetLabels()]]\n",
    "splits = ColSplitter()(data)\n",
    "dsets = Datasets(data, tfms, splits=splits)\n",
    "dls = dsets.dataloaders(dl_type=SortedDL, before_batch=partial(my_pad_input, pad_fields=[0,1]), bs=BS)"
   ]
  },
  {
   "cell_type": "code",
   "execution_count": null,
   "metadata": {},
   "outputs": [],
   "source": [
    "dls.one_batch()"
   ]
  },
  {
   "cell_type": "code",
   "execution_count": 14,
   "metadata": {},
   "outputs": [],
   "source": [
    "torch.save(dls, \"./data/dls_sequence.pth\")"
   ]
  },
  {
   "cell_type": "code",
   "execution_count": 7,
   "metadata": {},
   "outputs": [],
   "source": [
    "dls = torch.load(\"./data/dls_sequence.pth\")"
   ]
  },
  {
   "cell_type": "code",
   "execution_count": 176,
   "metadata": {},
   "outputs": [],
   "source": [
    "model = SequenceModel(128, 12, add_layers=True)"
   ]
  },
  {
   "cell_type": "code",
   "execution_count": 8,
   "metadata": {},
   "outputs": [],
   "source": [
    "def loss_func(out, targ):\n",
    "    return CrossEntropyLossFlat(ignore_index=OUT_DIM)(out, targ.long())"
   ]
  },
  {
   "cell_type": "code",
   "execution_count": 9,
   "metadata": {},
   "outputs": [],
   "source": [
    "def _accumulate(self, learn):\n",
    "    pred = learn.pred\n",
    "    targ = learn.y\n",
    "    pred,targ = to_detach(pred),to_detach(targ)\n",
    "    pred =np.argmax(pred, axis=-1)\n",
    "    pred, targ = flatten_check(pred, targ)\n",
    "    pad_idxs = [i for i,x in enumerate(targ) if x != tensor([12])]\n",
    "    pred = pred[pad_idxs]\n",
    "    targ = targ[pad_idxs]\n",
    "    pred = torch.remainder(pred, 6)\n",
    "    targ = torch.remainder(targ, 6)\n",
    "    self.preds.append(pred)\n",
    "    self.targs.append(targ)\n",
    "\n",
    "AccumMetric.accumulate = _accumulate\n",
    "\n",
    "def MyFScore(average='macro'):\n",
    "    return skm_to_fastai(f1_score, average=average)"
   ]
  },
  {
   "cell_type": "code",
   "execution_count": 192,
   "metadata": {},
   "outputs": [],
   "source": [
    "learn = Learner(dls, model, loss_func=loss_func, metrics=[MyFScore()])"
   ]
  },
  {
   "cell_type": "code",
   "execution_count": 184,
   "metadata": {},
   "outputs": [
    {
     "data": {
      "text/html": [
       "<table border=\"1\" class=\"dataframe\">\n",
       "  <thead>\n",
       "    <tr style=\"text-align: left;\">\n",
       "      <th>epoch</th>\n",
       "      <th>train_loss</th>\n",
       "      <th>valid_loss</th>\n",
       "      <th>f1_score</th>\n",
       "      <th>time</th>\n",
       "    </tr>\n",
       "  </thead>\n",
       "  <tbody>\n",
       "    <tr>\n",
       "      <td>0</td>\n",
       "      <td>None</td>\n",
       "      <td>None</td>\n",
       "      <td>00:00</td>\n",
       "    </tr>\n",
       "  </tbody>\n",
       "</table>"
      ],
      "text/plain": [
       "<IPython.core.display.HTML object>"
      ]
     },
     "metadata": {},
     "output_type": "display_data"
    },
    {
     "data": {
      "text/plain": [
       "SequenceModel (Input shape: ['64 x 4242 x 128'])\n",
       "================================================================\n",
       "Layer (type)         Output Shape         Param #    Trainable \n",
       "================================================================\n",
       "LSTM                 ['64 x 4242 x 256',  264,192    True      \n",
       "________________________________________________________________\n",
       "BatchNorm1d          64 x 256 x 4242      512        True      \n",
       "________________________________________________________________\n",
       "Dropout              64 x 256 x 4242      0          False     \n",
       "________________________________________________________________\n",
       "Linear               64 x 4242 x 12       3,084      True      \n",
       "________________________________________________________________\n",
       "\n",
       "Total params: 267,788\n",
       "Total trainable params: 267,788\n",
       "Total non-trainable params: 0\n",
       "\n",
       "Optimizer used: <function Adam at 0x7fc694c8f430>\n",
       "Loss function: <function loss_func at 0x7fc544e7b700>\n",
       "\n",
       "Callbacks:\n",
       "  - TrainEvalCallback\n",
       "  - Recorder\n",
       "  - ProgressCallback"
      ]
     },
     "execution_count": 184,
     "metadata": {},
     "output_type": "execute_result"
    }
   ],
   "source": [
    "learn.summary()"
   ]
  },
  {
   "cell_type": "code",
   "execution_count": null,
   "metadata": {},
   "outputs": [],
   "source": [
    "learn.validate()"
   ]
  },
  {
   "cell_type": "code",
   "execution_count": 185,
   "metadata": {},
   "outputs": [
    {
     "data": {
      "text/html": [],
      "text/plain": [
       "<IPython.core.display.HTML object>"
      ]
     },
     "metadata": {},
     "output_type": "display_data"
    },
    {
     "data": {
      "text/plain": [
       "SuggestedLRs(lr_min=0.03019951581954956, lr_steep=0.010964781977236271)"
      ]
     },
     "execution_count": 185,
     "metadata": {},
     "output_type": "execute_result"
    },
    {
     "data": {
      "image/png": "[encoded data removed]",
      "text/plain": [
       "<Figure size 432x288 with 1 Axes>"
      ]
     },
     "metadata": {
      "needs_background": "light"
     },
     "output_type": "display_data"
    }
   ],
   "source": [
    "learn.lr_find()"
   ]
  },
  {
   "cell_type": "code",
   "execution_count": 193,
   "metadata": {},
   "outputs": [],
   "source": [
    "learn.add_cbs([SaveModelCallback(monitor='f1_score', fname='best_sequence_128'),\n",
    "                                       ShowGraphCallback()])"
   ]
  },
  {
   "cell_type": "code",
   "execution_count": 194,
   "metadata": {},
   "outputs": [
    {
     "data": {
      "text/html": [
       "<table border=\"1\" class=\"dataframe\">\n",
       "  <thead>\n",
       "    <tr style=\"text-align: left;\">\n",
       "      <th>epoch</th>\n",
       "      <th>train_loss</th>\n",
       "      <th>valid_loss</th>\n",
       "      <th>f1_score</th>\n",
       "      <th>time</th>\n",
       "    </tr>\n",
       "  </thead>\n",
       "  <tbody>\n",
       "    <tr>\n",
       "      <td>0</td>\n",
       "      <td>0.463998</td>\n",
       "      <td>0.624359</td>\n",
       "      <td>0.760527</td>\n",
       "      <td>03:50</td>\n",
       "    </tr>\n",
       "    <tr>\n",
       "      <td>1</td>\n",
       "      <td>0.460408</td>\n",
       "      <td>0.635508</td>\n",
       "      <td>0.738585</td>\n",
       "      <td>04:22</td>\n",
       "    </tr>\n",
       "    <tr>\n",
       "      <td>2</td>\n",
       "      <td>0.450636</td>\n",
       "      <td>0.646396</td>\n",
       "      <td>0.762600</td>\n",
       "      <td>04:37</td>\n",
       "    </tr>\n",
       "    <tr>\n",
       "      <td>3</td>\n",
       "      <td>0.470724</td>\n",
       "      <td>0.638396</td>\n",
       "      <td>0.753507</td>\n",
       "      <td>04:15</td>\n",
       "    </tr>\n",
       "    <tr>\n",
       "      <td>4</td>\n",
       "      <td>0.470006</td>\n",
       "      <td>0.689637</td>\n",
       "      <td>0.771371</td>\n",
       "      <td>04:05</td>\n",
       "    </tr>\n",
       "    <tr>\n",
       "      <td>5</td>\n",
       "      <td>0.448070</td>\n",
       "      <td>0.621627</td>\n",
       "      <td>0.777340</td>\n",
       "      <td>04:16</td>\n",
       "    </tr>\n",
       "    <tr>\n",
       "      <td>6</td>\n",
       "      <td>0.426568</td>\n",
       "      <td>0.613815</td>\n",
       "      <td>0.757561</td>\n",
       "      <td>04:21</td>\n",
       "    </tr>\n",
       "    <tr>\n",
       "      <td>7</td>\n",
       "      <td>0.413713</td>\n",
       "      <td>0.635003</td>\n",
       "      <td>0.771453</td>\n",
       "      <td>04:43</td>\n",
       "    </tr>\n",
       "    <tr>\n",
       "      <td>8</td>\n",
       "      <td>0.409453</td>\n",
       "      <td>0.622239</td>\n",
       "      <td>0.770163</td>\n",
       "      <td>04:18</td>\n",
       "    </tr>\n",
       "    <tr>\n",
       "      <td>9</td>\n",
       "      <td>0.403378</td>\n",
       "      <td>0.618856</td>\n",
       "      <td>0.771595</td>\n",
       "      <td>04:20</td>\n",
       "    </tr>\n",
       "  </tbody>\n",
       "</table>"
      ],
      "text/plain": [
       "<IPython.core.display.HTML object>"
      ]
     },
     "metadata": {},
     "output_type": "display_data"
    },
    {
     "name": "stdout",
     "output_type": "stream",
     "text": [
      "Better model found at epoch 0 with f1_score value: 0.7605274235442635.\n"
     ]
    },
    {
     "data": {
      "image/png": "[encoded data removed]",
      "text/plain": [
       "<Figure size 432x288 with 1 Axes>"
      ]
     },
     "metadata": {},
     "output_type": "display_data"
    },
    {
     "name": "stdout",
     "output_type": "stream",
     "text": [
      "Better model found at epoch 2 with f1_score value: 0.7626003789602782.\n",
      "Better model found at epoch 4 with f1_score value: 0.7713708215048861.\n",
      "Better model found at epoch 5 with f1_score value: 0.7773397805989104.\n"
     ]
    }
   ],
   "source": [
    "learn.fit_one_cycle(10, lr_max=1e-2)"
   ]
  },
  {
   "cell_type": "code",
   "execution_count": 198,
   "metadata": {},
   "outputs": [],
   "source": [
    "model = SequenceModel(128, 12, hidden_dim=256)"
   ]
  },
  {
   "cell_type": "code",
   "execution_count": 199,
   "metadata": {},
   "outputs": [],
   "source": [
    "learn = Learner(dls, model, loss_func=loss_func, metrics=[MyFScore()])"
   ]
  },
  {
   "cell_type": "code",
   "execution_count": 200,
   "metadata": {},
   "outputs": [
    {
     "data": {
      "text/html": [
       "<table border=\"1\" class=\"dataframe\">\n",
       "  <thead>\n",
       "    <tr style=\"text-align: left;\">\n",
       "      <th>epoch</th>\n",
       "      <th>train_loss</th>\n",
       "      <th>valid_loss</th>\n",
       "      <th>f1_score</th>\n",
       "      <th>time</th>\n",
       "    </tr>\n",
       "  </thead>\n",
       "  <tbody>\n",
       "    <tr>\n",
       "      <td>0</td>\n",
       "      <td>None</td>\n",
       "      <td>None</td>\n",
       "      <td>00:00</td>\n",
       "    </tr>\n",
       "  </tbody>\n",
       "</table>"
      ],
      "text/plain": [
       "<IPython.core.display.HTML object>"
      ]
     },
     "metadata": {},
     "output_type": "display_data"
    },
    {
     "data": {
      "text/plain": [
       "SequenceModel (Input shape: ['64 x 4242 x 128'])\n",
       "================================================================\n",
       "Layer (type)         Output Shape         Param #    Trainable \n",
       "================================================================\n",
       "LSTM                 ['64 x 4242 x 512',  790,528    True      \n",
       "________________________________________________________________\n",
       "BatchNorm1d          64 x 512 x 4242      1,024      True      \n",
       "________________________________________________________________\n",
       "Dropout              64 x 512 x 4242      0          False     \n",
       "________________________________________________________________\n",
       "Linear               64 x 4242 x 12       6,156      True      \n",
       "________________________________________________________________\n",
       "\n",
       "Total params: 797,708\n",
       "Total trainable params: 797,708\n",
       "Total non-trainable params: 0\n",
       "\n",
       "Optimizer used: <function Adam at 0x7fc694c8f430>\n",
       "Loss function: <function loss_func at 0x7fc544e7b700>\n",
       "\n",
       "Callbacks:\n",
       "  - TrainEvalCallback\n",
       "  - Recorder\n",
       "  - ProgressCallback"
      ]
     },
     "execution_count": 200,
     "metadata": {},
     "output_type": "execute_result"
    }
   ],
   "source": [
    "learn.summary()"
   ]
  },
  {
   "cell_type": "code",
   "execution_count": 201,
   "metadata": {},
   "outputs": [
    {
     "data": {
      "text/html": [],
      "text/plain": [
       "<IPython.core.display.HTML object>"
      ]
     },
     "metadata": {},
     "output_type": "display_data"
    },
    {
     "data": {
      "text/plain": [
       "SuggestedLRs(lr_min=0.010000000149011612, lr_steep=0.033113110810518265)"
      ]
     },
     "execution_count": 201,
     "metadata": {},
     "output_type": "execute_result"
    },
    {
     "data": {
      "image/png": "[encoded data removed]",
      "text/plain": [
       "<Figure size 432x288 with 1 Axes>"
      ]
     },
     "metadata": {
      "needs_background": "light"
     },
     "output_type": "display_data"
    }
   ],
   "source": [
    "learn.lr_find()"
   ]
  },
  {
   "cell_type": "code",
   "execution_count": 202,
   "metadata": {},
   "outputs": [],
   "source": [
    "learn.add_cbs([SaveModelCallback(monitor='f1_score', fname='best_sequence_256'),\n",
    "                                       ShowGraphCallback()])"
   ]
  },
  {
   "cell_type": "code",
   "execution_count": 203,
   "metadata": {},
   "outputs": [
    {
     "data": {
      "text/html": [
       "<table border=\"1\" class=\"dataframe\">\n",
       "  <thead>\n",
       "    <tr style=\"text-align: left;\">\n",
       "      <th>epoch</th>\n",
       "      <th>train_loss</th>\n",
       "      <th>valid_loss</th>\n",
       "      <th>f1_score</th>\n",
       "      <th>time</th>\n",
       "    </tr>\n",
       "  </thead>\n",
       "  <tbody>\n",
       "    <tr>\n",
       "      <td>0</td>\n",
       "      <td>1.739531</td>\n",
       "      <td>0.731856</td>\n",
       "      <td>0.600024</td>\n",
       "      <td>03:15</td>\n",
       "    </tr>\n",
       "    <tr>\n",
       "      <td>1</td>\n",
       "      <td>0.958818</td>\n",
       "      <td>0.864794</td>\n",
       "      <td>0.162174</td>\n",
       "      <td>04:08</td>\n",
       "    </tr>\n",
       "    <tr>\n",
       "      <td>2</td>\n",
       "      <td>0.791817</td>\n",
       "      <td>0.549651</td>\n",
       "      <td>0.564314</td>\n",
       "      <td>04:10</td>\n",
       "    </tr>\n",
       "    <tr>\n",
       "      <td>3</td>\n",
       "      <td>0.670333</td>\n",
       "      <td>0.681630</td>\n",
       "      <td>0.590426</td>\n",
       "      <td>04:13</td>\n",
       "    </tr>\n",
       "    <tr>\n",
       "      <td>4</td>\n",
       "      <td>0.634262</td>\n",
       "      <td>0.739056</td>\n",
       "      <td>0.744369</td>\n",
       "      <td>04:00</td>\n",
       "    </tr>\n",
       "    <tr>\n",
       "      <td>5</td>\n",
       "      <td>0.564580</td>\n",
       "      <td>0.626930</td>\n",
       "      <td>0.749589</td>\n",
       "      <td>04:02</td>\n",
       "    </tr>\n",
       "    <tr>\n",
       "      <td>6</td>\n",
       "      <td>0.601588</td>\n",
       "      <td>1.455407</td>\n",
       "      <td>0.759692</td>\n",
       "      <td>04:07</td>\n",
       "    </tr>\n",
       "    <tr>\n",
       "      <td>7</td>\n",
       "      <td>0.598733</td>\n",
       "      <td>0.928646</td>\n",
       "      <td>0.768330</td>\n",
       "      <td>04:15</td>\n",
       "    </tr>\n",
       "    <tr>\n",
       "      <td>8</td>\n",
       "      <td>0.533349</td>\n",
       "      <td>0.800493</td>\n",
       "      <td>0.770257</td>\n",
       "      <td>04:23</td>\n",
       "    </tr>\n",
       "    <tr>\n",
       "      <td>9</td>\n",
       "      <td>0.487383</td>\n",
       "      <td>0.773178</td>\n",
       "      <td>0.769277</td>\n",
       "      <td>03:53</td>\n",
       "    </tr>\n",
       "  </tbody>\n",
       "</table>"
      ],
      "text/plain": [
       "<IPython.core.display.HTML object>"
      ]
     },
     "metadata": {},
     "output_type": "display_data"
    },
    {
     "name": "stdout",
     "output_type": "stream",
     "text": [
      "Better model found at epoch 0 with f1_score value: 0.6000241358943937.\n"
     ]
    },
    {
     "data": {
      "image/png": "[encoded data removed]",
      "text/plain": [
       "<Figure size 432x288 with 1 Axes>"
      ]
     },
     "metadata": {},
     "output_type": "display_data"
    },
    {
     "name": "stdout",
     "output_type": "stream",
     "text": [
      "Better model found at epoch 4 with f1_score value: 0.7443691316251758.\n",
      "Better model found at epoch 5 with f1_score value: 0.7495886360600279.\n",
      "Better model found at epoch 6 with f1_score value: 0.7596919711375182.\n",
      "Better model found at epoch 7 with f1_score value: 0.7683303196023269.\n",
      "Better model found at epoch 8 with f1_score value: 0.7702571801603605.\n"
     ]
    }
   ],
   "source": [
    "learn.fit_one_cycle(10, lr_max=1e-2)"
   ]
  },
  {
   "cell_type": "code",
   "execution_count": 204,
   "metadata": {},
   "outputs": [],
   "source": [
    "model = SequenceModel(128, 12)"
   ]
  },
  {
   "cell_type": "code",
   "execution_count": 205,
   "metadata": {},
   "outputs": [],
   "source": [
    "learn = Learner(dls, model, loss_func=loss_func, metrics=[MyFScore()])"
   ]
  },
  {
   "cell_type": "code",
   "execution_count": 206,
   "metadata": {},
   "outputs": [
    {
     "data": {
      "text/html": [
       "<table border=\"1\" class=\"dataframe\">\n",
       "  <thead>\n",
       "    <tr style=\"text-align: left;\">\n",
       "      <th>epoch</th>\n",
       "      <th>train_loss</th>\n",
       "      <th>valid_loss</th>\n",
       "      <th>f1_score</th>\n",
       "      <th>time</th>\n",
       "    </tr>\n",
       "  </thead>\n",
       "  <tbody>\n",
       "    <tr>\n",
       "      <td>0</td>\n",
       "      <td>None</td>\n",
       "      <td>None</td>\n",
       "      <td>00:00</td>\n",
       "    </tr>\n",
       "  </tbody>\n",
       "</table>"
      ],
      "text/plain": [
       "<IPython.core.display.HTML object>"
      ]
     },
     "metadata": {},
     "output_type": "display_data"
    },
    {
     "data": {
      "text/plain": [
       "SequenceModel (Input shape: ['64 x 4242 x 128'])\n",
       "================================================================\n",
       "Layer (type)         Output Shape         Param #    Trainable \n",
       "================================================================\n",
       "LSTM                 ['64 x 4242 x 256',  264,192    True      \n",
       "________________________________________________________________\n",
       "BatchNorm1d          64 x 256 x 4242      512        True      \n",
       "________________________________________________________________\n",
       "Dropout              64 x 256 x 4242      0          False     \n",
       "________________________________________________________________\n",
       "Linear               64 x 4242 x 12       3,084      True      \n",
       "________________________________________________________________\n",
       "\n",
       "Total params: 267,788\n",
       "Total trainable params: 267,788\n",
       "Total non-trainable params: 0\n",
       "\n",
       "Optimizer used: <function Adam at 0x7fc694c8f430>\n",
       "Loss function: <function loss_func at 0x7fc544e7b700>\n",
       "\n",
       "Callbacks:\n",
       "  - TrainEvalCallback\n",
       "  - Recorder\n",
       "  - ProgressCallback"
      ]
     },
     "execution_count": 206,
     "metadata": {},
     "output_type": "execute_result"
    }
   ],
   "source": [
    "learn.summary()"
   ]
  },
  {
   "cell_type": "code",
   "execution_count": 185,
   "metadata": {},
   "outputs": [
    {
     "data": {
      "text/html": [],
      "text/plain": [
       "<IPython.core.display.HTML object>"
      ]
     },
     "metadata": {},
     "output_type": "display_data"
    },
    {
     "data": {
      "text/plain": [
       "SuggestedLRs(lr_min=0.03019951581954956, lr_steep=0.010964781977236271)"
      ]
     },
     "execution_count": 185,
     "metadata": {},
     "output_type": "execute_result"
    },
    {
     "data": {
      "image/png": "[encoded data removed]",
      "text/plain": [
       "<Figure size 432x288 with 1 Axes>"
      ]
     },
     "metadata": {
      "needs_background": "light"
     },
     "output_type": "display_data"
    }
   ],
   "source": [
    "learn.lr_find()"
   ]
  },
  {
   "cell_type": "code",
   "execution_count": 207,
   "metadata": {},
   "outputs": [],
   "source": [
    "learn.add_cbs([SaveModelCallback(monitor='f1_score', fname='best_sequence_128_more_epochs'),\n",
    "                                       ShowGraphCallback()])"
   ]
  },
  {
   "cell_type": "code",
   "execution_count": 208,
   "metadata": {},
   "outputs": [
    {
     "data": {
      "text/html": [
       "<table border=\"1\" class=\"dataframe\">\n",
       "  <thead>\n",
       "    <tr style=\"text-align: left;\">\n",
       "      <th>epoch</th>\n",
       "      <th>train_loss</th>\n",
       "      <th>valid_loss</th>\n",
       "      <th>f1_score</th>\n",
       "      <th>time</th>\n",
       "    </tr>\n",
       "  </thead>\n",
       "  <tbody>\n",
       "    <tr>\n",
       "      <td>0</td>\n",
       "      <td>2.185531</td>\n",
       "      <td>1.216205</td>\n",
       "      <td>0.634767</td>\n",
       "      <td>03:55</td>\n",
       "    </tr>\n",
       "    <tr>\n",
       "      <td>1</td>\n",
       "      <td>1.481416</td>\n",
       "      <td>0.766167</td>\n",
       "      <td>0.618348</td>\n",
       "      <td>04:18</td>\n",
       "    </tr>\n",
       "    <tr>\n",
       "      <td>2</td>\n",
       "      <td>0.945172</td>\n",
       "      <td>0.653605</td>\n",
       "      <td>0.603354</td>\n",
       "      <td>04:32</td>\n",
       "    </tr>\n",
       "    <tr>\n",
       "      <td>3</td>\n",
       "      <td>0.702862</td>\n",
       "      <td>0.641554</td>\n",
       "      <td>0.689114</td>\n",
       "      <td>04:13</td>\n",
       "    </tr>\n",
       "    <tr>\n",
       "      <td>4</td>\n",
       "      <td>0.608428</td>\n",
       "      <td>0.638108</td>\n",
       "      <td>0.575528</td>\n",
       "      <td>04:16</td>\n",
       "    </tr>\n",
       "    <tr>\n",
       "      <td>5</td>\n",
       "      <td>0.565160</td>\n",
       "      <td>0.676345</td>\n",
       "      <td>0.724108</td>\n",
       "      <td>04:18</td>\n",
       "    </tr>\n",
       "    <tr>\n",
       "      <td>6</td>\n",
       "      <td>0.530399</td>\n",
       "      <td>0.587832</td>\n",
       "      <td>0.750578</td>\n",
       "      <td>04:11</td>\n",
       "    </tr>\n",
       "    <tr>\n",
       "      <td>7</td>\n",
       "      <td>0.569292</td>\n",
       "      <td>0.605112</td>\n",
       "      <td>0.736566</td>\n",
       "      <td>04:26</td>\n",
       "    </tr>\n",
       "    <tr>\n",
       "      <td>8</td>\n",
       "      <td>0.540357</td>\n",
       "      <td>0.652844</td>\n",
       "      <td>0.740394</td>\n",
       "      <td>04:20</td>\n",
       "    </tr>\n",
       "    <tr>\n",
       "      <td>9</td>\n",
       "      <td>0.488475</td>\n",
       "      <td>0.790486</td>\n",
       "      <td>0.750856</td>\n",
       "      <td>04:35</td>\n",
       "    </tr>\n",
       "    <tr>\n",
       "      <td>10</td>\n",
       "      <td>0.462200</td>\n",
       "      <td>0.711543</td>\n",
       "      <td>0.772920</td>\n",
       "      <td>04:18</td>\n",
       "    </tr>\n",
       "    <tr>\n",
       "      <td>11</td>\n",
       "      <td>0.465497</td>\n",
       "      <td>0.929869</td>\n",
       "      <td>0.770644</td>\n",
       "      <td>04:17</td>\n",
       "    </tr>\n",
       "    <tr>\n",
       "      <td>12</td>\n",
       "      <td>0.469068</td>\n",
       "      <td>0.766217</td>\n",
       "      <td>0.779875</td>\n",
       "      <td>04:07</td>\n",
       "    </tr>\n",
       "    <tr>\n",
       "      <td>13</td>\n",
       "      <td>0.457207</td>\n",
       "      <td>0.921425</td>\n",
       "      <td>0.778923</td>\n",
       "      <td>04:29</td>\n",
       "    </tr>\n",
       "    <tr>\n",
       "      <td>14</td>\n",
       "      <td>0.447944</td>\n",
       "      <td>0.812470</td>\n",
       "      <td>0.773291</td>\n",
       "      <td>04:33</td>\n",
       "    </tr>\n",
       "    <tr>\n",
       "      <td>15</td>\n",
       "      <td>0.422744</td>\n",
       "      <td>0.758176</td>\n",
       "      <td>0.771157</td>\n",
       "      <td>04:13</td>\n",
       "    </tr>\n",
       "    <tr>\n",
       "      <td>16</td>\n",
       "      <td>0.407247</td>\n",
       "      <td>0.709921</td>\n",
       "      <td>0.769935</td>\n",
       "      <td>04:42</td>\n",
       "    </tr>\n",
       "    <tr>\n",
       "      <td>17</td>\n",
       "      <td>0.389429</td>\n",
       "      <td>0.720293</td>\n",
       "      <td>0.770077</td>\n",
       "      <td>04:15</td>\n",
       "    </tr>\n",
       "    <tr>\n",
       "      <td>18</td>\n",
       "      <td>0.381913</td>\n",
       "      <td>0.740666</td>\n",
       "      <td>0.771254</td>\n",
       "      <td>04:15</td>\n",
       "    </tr>\n",
       "    <tr>\n",
       "      <td>19</td>\n",
       "      <td>0.377535</td>\n",
       "      <td>0.735591</td>\n",
       "      <td>0.770934</td>\n",
       "      <td>04:05</td>\n",
       "    </tr>\n",
       "  </tbody>\n",
       "</table>"
      ],
      "text/plain": [
       "<IPython.core.display.HTML object>"
      ]
     },
     "metadata": {},
     "output_type": "display_data"
    },
    {
     "name": "stdout",
     "output_type": "stream",
     "text": [
      "Better model found at epoch 0 with f1_score value: 0.6347667433703132.\n"
     ]
    },
    {
     "data": {
      "image/png": "[encoded data removed]",
      "text/plain": [
       "<Figure size 432x288 with 1 Axes>"
      ]
     },
     "metadata": {},
     "output_type": "display_data"
    },
    {
     "name": "stdout",
     "output_type": "stream",
     "text": [
      "Better model found at epoch 3 with f1_score value: 0.6891135856929514.\n",
      "Better model found at epoch 5 with f1_score value: 0.7241083182116529.\n",
      "Better model found at epoch 6 with f1_score value: 0.7505783263290399.\n",
      "Better model found at epoch 9 with f1_score value: 0.7508555472414002.\n",
      "Better model found at epoch 10 with f1_score value: 0.7729201568848018.\n",
      "Better model found at epoch 12 with f1_score value: 0.7798754984648039.\n"
     ]
    }
   ],
   "source": [
    "learn.fit_one_cycle(20, lr_max=1e-2)"
   ]
  },
  {
   "cell_type": "code",
   "execution_count": null,
   "metadata": {},
   "outputs": [],
   "source": [
    "learn.load(\"best_sequence_128_more_epochs\")"
   ]
  },
  {
   "cell_type": "code",
   "execution_count": 94,
   "metadata": {},
   "outputs": [],
   "source": [
    "def evaluate(learn, dl):\n",
    "    preds, targets = learn.get_preds(dl=dl)\n",
    "    preds =[np.argmax(x, axis=-1) for sublist in preds for x in sublist]\n",
    "    targets = [x for sublist in targets for x in sublist]\n",
    "    pad_idxs = [i for i,x in enumerate(targets) if x != tensor([12])]\n",
    "    preds = L(preds)[pad_idxs]\n",
    "    targets = L(targets)[pad_idxs]\n",
    "    print(classification_report(targets, preds, target_names=dl.get_labels.cat.vocab, digits=4))\n",
    "    preds = [x % 6 for x in preds]\n",
    "    targets = [x % 6 for x in targets]\n",
    "    print(classification_report(targets, preds, target_names=[x[2:] for x in dl.get_labels.cat.vocab[:6]], digits=4))"
   ]
  },
  {
   "cell_type": "code",
   "execution_count": 221,
   "metadata": {},
   "outputs": [
    {
     "data": {
      "text/html": [],
      "text/plain": [
       "<IPython.core.display.HTML object>"
      ]
     },
     "metadata": {},
     "output_type": "display_data"
    },
    {
     "name": "stdout",
     "output_type": "stream",
     "text": [
      "                                    precision    recall  f1-score   support\n",
      "\n",
      "          B-acordao_de_2_instancia     0.8571    0.1194    0.2096       201\n",
      "B-agravo_em_recurso_extraordinario     0.4737    0.0380    0.0703       237\n",
      "     B-despacho_de_admissibilidade     0.6331    0.7279    0.6772       147\n",
      "                          B-outros     0.7241    0.4985    0.5904     25898\n",
      "                   B-peticao_do_RE     0.0833    0.0031    0.0059       326\n",
      "                        B-sentenca     1.0000    0.0035    0.0070       284\n",
      "          I-acordao_de_2_instancia     0.2596    0.6224    0.3664        98\n",
      "I-agravo_em_recurso_extraordinario     0.5743    0.5701    0.5722      1912\n",
      "     I-despacho_de_admissibilidade     0.0000    0.0000    0.0000        36\n",
      "                          I-outros     0.7718    0.8810    0.8228     58206\n",
      "                   I-peticao_do_RE     0.7054    0.7761    0.7391      6038\n",
      "                        I-sentenca     0.7043    0.7611    0.7316      1352\n",
      "\n",
      "                          accuracy                         0.7515     94735\n",
      "                         macro avg     0.5656    0.4168    0.3994     94735\n",
      "                      weighted avg     0.7463    0.7515    0.7381     94735\n",
      "\n",
      "                                  precision    recall  f1-score   support\n",
      "\n",
      "          acordao_de_2_instancia     0.9049    0.7960    0.8470       299\n",
      "agravo_em_recurso_extraordinario     0.6255    0.5579    0.5898      2149\n",
      "     despacho_de_admissibilidade     0.7396    0.6831    0.7102       183\n",
      "                          outros     0.9687    0.9706    0.9696     84104\n",
      "                   peticao_do_RE     0.7391    0.7729    0.7557      6364\n",
      "                        sentenca     0.8550    0.7641    0.8070      1636\n",
      "\n",
      "                        accuracy                         0.9433     94735\n",
      "                       macro avg     0.8055    0.7574    0.7799     94735\n",
      "                    weighted avg     0.9429    0.9433    0.9430     94735\n",
      "\n"
     ]
    }
   ],
   "source": [
    "evaluate(learn, dls.valid)"
   ]
  },
  {
   "cell_type": "code",
   "execution_count": 212,
   "metadata": {},
   "outputs": [],
   "source": [
    "test_data = pd.DataFrame({\"acts\":X_test, \"labels\":y_test})"
   ]
  },
  {
   "cell_type": "code",
   "execution_count": 213,
   "metadata": {},
   "outputs": [],
   "source": [
    "test_dl = dls.test_dl(test_data, with_labels=True)"
   ]
  },
  {
   "cell_type": "code",
   "execution_count": 216,
   "metadata": {},
   "outputs": [],
   "source": [
    "torch.save(test_dl, \"./data/test_dl_sequence.pth\")"
   ]
  },
  {
   "cell_type": "code",
   "execution_count": 222,
   "metadata": {},
   "outputs": [
    {
     "data": {
      "text/html": [],
      "text/plain": [
       "<IPython.core.display.HTML object>"
      ]
     },
     "metadata": {},
     "output_type": "display_data"
    },
    {
     "name": "stdout",
     "output_type": "stream",
     "text": [
      "                                    precision    recall  f1-score   support\n",
      "\n",
      "          B-acordao_de_2_instancia     0.9143    0.1608    0.2735       199\n",
      "B-agravo_em_recurso_extraordinario     0.2258    0.0329    0.0574       213\n",
      "     B-despacho_de_admissibilidade     0.5500    0.6735    0.6055       147\n",
      "                          B-outros     0.7043    0.4848    0.5743     25744\n",
      "                   B-peticao_do_RE     0.0556    0.0032    0.0061       312\n",
      "                        B-sentenca     0.0000    0.0000    0.0000       265\n",
      "          I-acordao_de_2_instancia     0.2696    0.8378    0.4079        74\n",
      "I-agravo_em_recurso_extraordinario     0.5551    0.5565    0.5558      1628\n",
      "     I-despacho_de_admissibilidade     0.0000    0.0000    0.0000        51\n",
      "                          I-outros     0.7747    0.8835    0.8255     59664\n",
      "                   I-peticao_do_RE     0.7270    0.7586    0.7424      6019\n",
      "                        I-sentenca     0.6925    0.7760    0.7319      1210\n",
      "\n",
      "                          accuracy                         0.7517     95526\n",
      "                         macro avg     0.4557    0.4306    0.3984     95526\n",
      "                      weighted avg     0.7414    0.7517    0.7379     95526\n",
      "\n",
      "                                  precision    recall  f1-score   support\n",
      "\n",
      "          acordao_de_2_instancia     0.9170    0.8901    0.9033       273\n",
      "agravo_em_recurso_extraordinario     0.6055    0.5470    0.5748      1841\n",
      "     despacho_de_admissibilidade     0.6722    0.6111    0.6402       198\n",
      "                          outros     0.9701    0.9742    0.9721     85408\n",
      "                   peticao_do_RE     0.7612    0.7574    0.7593      6331\n",
      "                        sentenca     0.8532    0.7844    0.8174      1475\n",
      "\n",
      "                        accuracy                         0.9476     95526\n",
      "                       macro avg     0.7966    0.7607    0.7779     95526\n",
      "                    weighted avg     0.9467    0.9476    0.9471     95526\n",
      "\n"
     ]
    }
   ],
   "source": [
    "evaluate(learn, test_dl)"
   ]
  },
  {
   "cell_type": "markdown",
   "metadata": {},
   "source": [
    "### With CRF"
   ]
  },
  {
   "cell_type": "code",
   "execution_count": 221,
   "metadata": {},
   "outputs": [],
   "source": [
    "class BiLSTMCRF(Module):\n",
    "    def __init__(self, hidden_dim=128, out_dim=OUT_DIM):\n",
    "        self.lstm = torch.nn.LSTM(input_size=INPUT_DIM, hidden_size=hidden_dim,\n",
    "                                  batch_first=True, bidirectional=True).cuda()\n",
    "        self.bn = nn.BatchNorm1d(hidden_dim*2, momentum=0.01).cuda()\n",
    "        self.drop = nn.Dropout().cuda()\n",
    "        self.lin = nn.Linear(hidden_dim*2, out_dim).cuda()\n",
    "        self.crf = CRF(num_tags=OUT_DIM, batch_first=True).cuda()\n",
    "            \n",
    "    def crf_loss_func(self, out, targ):\n",
    "        mask = tensor(targ.data != OUT_DIM)\n",
    "        clean_targ = targ.clone()\n",
    "        clean_targ[clean_targ==OUT_DIM]=0\n",
    "        targ=targ.view(out.shape[:2])\n",
    "        clean_targ=clean_targ.view(targ.shape)\n",
    "        mask=mask.view(targ.shape)\n",
    "        return -self.crf(out, clean_targ.long(), mask=mask, reduction=\"mean\")\n",
    "        \n",
    "    def forward(self, x):\n",
    "        out, _ = self.lstm(x)\n",
    "        out = out.permute(0, 2, 1)\n",
    "        out_norm = self.bn(out)\n",
    "        out_drop = self.drop(out_norm)\n",
    "        out_drop = out_drop.permute(0, 2, 1)\n",
    "        logits = self.lin(out_drop)\n",
    "        return logits"
   ]
  },
  {
   "cell_type": "code",
   "execution_count": 222,
   "metadata": {},
   "outputs": [],
   "source": [
    "model = BiLSTMCRF()"
   ]
  },
  {
   "cell_type": "code",
   "execution_count": 226,
   "metadata": {},
   "outputs": [],
   "source": [
    "def _accumulate(self, learn):\n",
    "    pred = learn.pred\n",
    "    targ = learn.y\n",
    "    mask = tensor(targ.data != OUT_DIM)\n",
    "    pred,targ, mask = to_detach(pred),to_detach(targ), to_detach(mask)\n",
    "    mask=mask.view(pred.shape[:2])\n",
    "    pred = learn.model.crf.decode(pred.cuda(),mask=mask.cuda())\n",
    "    pred = tensor([[x for sublist in pred for x in sublist]]).view(-1)\n",
    "    targ = targ[mask].view(-1)\n",
    "    pred = torch.remainder(pred, 6)\n",
    "    targ = torch.remainder(targ, 6)\n",
    "    self.preds.append(pred)\n",
    "    self.targs.append(targ)\n",
    "\n",
    "AccumMetric.accumulate = _accumulate\n",
    "\n",
    "def MyFScore(average='macro'):\n",
    "    return skm_to_fastai(f1_score, average=average)"
   ]
  },
  {
   "cell_type": "code",
   "execution_count": 227,
   "metadata": {},
   "outputs": [],
   "source": [
    "learn = Learner(dls, model, loss_func=model.crf_loss_func, metrics=[MyFScore()])"
   ]
  },
  {
   "cell_type": "code",
   "execution_count": 228,
   "metadata": {},
   "outputs": [
    {
     "data": {
      "text/html": [],
      "text/plain": [
       "<IPython.core.display.HTML object>"
      ]
     },
     "metadata": {},
     "output_type": "display_data"
    },
    {
     "data": {
      "text/plain": [
       "(#2) [122.64057922363281,0.08722225866658391]"
      ]
     },
     "execution_count": 228,
     "metadata": {},
     "output_type": "execute_result"
    }
   ],
   "source": [
    "learn.validate()"
   ]
  },
  {
   "cell_type": "code",
   "execution_count": 157,
   "metadata": {},
   "outputs": [
    {
     "data": {
      "text/html": [
       "<table border=\"1\" class=\"dataframe\">\n",
       "  <thead>\n",
       "    <tr style=\"text-align: left;\">\n",
       "      <th>epoch</th>\n",
       "      <th>train_loss</th>\n",
       "      <th>valid_loss</th>\n",
       "      <th>f1_score</th>\n",
       "      <th>time</th>\n",
       "    </tr>\n",
       "  </thead>\n",
       "  <tbody>\n",
       "    <tr>\n",
       "      <td>0</td>\n",
       "      <td>None</td>\n",
       "      <td>None</td>\n",
       "      <td>00:00</td>\n",
       "    </tr>\n",
       "  </tbody>\n",
       "</table>"
      ],
      "text/plain": [
       "<IPython.core.display.HTML object>"
      ]
     },
     "metadata": {},
     "output_type": "display_data"
    },
    {
     "data": {
      "text/plain": [
       "BiLSTMCRF (Input shape: ['64 x 4242 x 128'])\n",
       "================================================================\n",
       "Layer (type)         Output Shape         Param #    Trainable \n",
       "================================================================\n",
       "LSTM                 ['64 x 4242 x 256',  264,192    True      \n",
       "________________________________________________________________\n",
       "BatchNorm1d          64 x 256 x 4242      512        True      \n",
       "________________________________________________________________\n",
       "Dropout              64 x 256 x 4242      0          False     \n",
       "________________________________________________________________\n",
       "Linear               64 x 4242 x 12       3,084      True      \n",
       "________________________________________________________________\n",
       "\n",
       "Total params: 267,788\n",
       "Total trainable params: 267,788\n",
       "Total non-trainable params: 0\n",
       "\n",
       "Optimizer used: <function Adam at 0x7f8b0d7da4c0>\n",
       "Loss function: <bound method BiLSTMCRF.crf_loss_func of BiLSTMCRF(\n",
       "  (lstm): LSTM(128, 128, batch_first=True, bidirectional=True)\n",
       "  (bn): BatchNorm1d(256, eps=1e-05, momentum=0.01, affine=True, track_running_stats=True)\n",
       "  (drop): Dropout(p=0.5, inplace=False)\n",
       "  (lin): Linear(in_features=256, out_features=12, bias=True)\n",
       "  (crf): CRF(num_tags=12)\n",
       ")>\n",
       "\n",
       "Callbacks:\n",
       "  - TrainEvalCallback\n",
       "  - Recorder\n",
       "  - ProgressCallback"
      ]
     },
     "execution_count": 157,
     "metadata": {},
     "output_type": "execute_result"
    }
   ],
   "source": [
    "learn.summary()"
   ]
  },
  {
   "cell_type": "code",
   "execution_count": 229,
   "metadata": {},
   "outputs": [
    {
     "data": {
      "text/html": [],
      "text/plain": [
       "<IPython.core.display.HTML object>"
      ]
     },
     "metadata": {},
     "output_type": "display_data"
    },
    {
     "data": {
      "text/plain": [
       "SuggestedLRs(lr_min=0.02089296132326126, lr_steep=6.309573450380412e-07)"
      ]
     },
     "execution_count": 229,
     "metadata": {},
     "output_type": "execute_result"
    },
    {
     "data": {
      "image/png": "[encoded data removed]",
      "text/plain": [
       "<Figure size 432x288 with 1 Axes>"
      ]
     },
     "metadata": {
      "needs_background": "light"
     },
     "output_type": "display_data"
    }
   ],
   "source": [
    "learn.lr_find()"
   ]
  },
  {
   "cell_type": "code",
   "execution_count": 230,
   "metadata": {},
   "outputs": [],
   "source": [
    "learn.add_cbs([SaveModelCallback(monitor='f1_score', fname='best_lstm_crf_128'),\n",
    "                                       ShowGraphCallback()])"
   ]
  },
  {
   "cell_type": "code",
   "execution_count": 231,
   "metadata": {},
   "outputs": [
    {
     "data": {
      "text/html": [
       "<table border=\"1\" class=\"dataframe\">\n",
       "  <thead>\n",
       "    <tr style=\"text-align: left;\">\n",
       "      <th>epoch</th>\n",
       "      <th>train_loss</th>\n",
       "      <th>valid_loss</th>\n",
       "      <th>f1_score</th>\n",
       "      <th>time</th>\n",
       "    </tr>\n",
       "  </thead>\n",
       "  <tbody>\n",
       "    <tr>\n",
       "      <td>0</td>\n",
       "      <td>116.076508</td>\n",
       "      <td>47.568806</td>\n",
       "      <td>0.588294</td>\n",
       "      <td>03:31</td>\n",
       "    </tr>\n",
       "    <tr>\n",
       "      <td>1</td>\n",
       "      <td>67.167229</td>\n",
       "      <td>36.781918</td>\n",
       "      <td>0.541703</td>\n",
       "      <td>04:15</td>\n",
       "    </tr>\n",
       "    <tr>\n",
       "      <td>2</td>\n",
       "      <td>52.723610</td>\n",
       "      <td>34.607826</td>\n",
       "      <td>0.622253</td>\n",
       "      <td>04:17</td>\n",
       "    </tr>\n",
       "    <tr>\n",
       "      <td>3</td>\n",
       "      <td>72.146622</td>\n",
       "      <td>82.582626</td>\n",
       "      <td>0.605501</td>\n",
       "      <td>04:24</td>\n",
       "    </tr>\n",
       "    <tr>\n",
       "      <td>4</td>\n",
       "      <td>57.207100</td>\n",
       "      <td>63.285900</td>\n",
       "      <td>0.645456</td>\n",
       "      <td>04:24</td>\n",
       "    </tr>\n",
       "    <tr>\n",
       "      <td>5</td>\n",
       "      <td>56.705078</td>\n",
       "      <td>81.494614</td>\n",
       "      <td>0.601693</td>\n",
       "      <td>04:20</td>\n",
       "    </tr>\n",
       "    <tr>\n",
       "      <td>6</td>\n",
       "      <td>52.457279</td>\n",
       "      <td>60.324745</td>\n",
       "      <td>0.656562</td>\n",
       "      <td>04:29</td>\n",
       "    </tr>\n",
       "    <tr>\n",
       "      <td>7</td>\n",
       "      <td>40.268913</td>\n",
       "      <td>48.375469</td>\n",
       "      <td>0.736823</td>\n",
       "      <td>04:22</td>\n",
       "    </tr>\n",
       "    <tr>\n",
       "      <td>8</td>\n",
       "      <td>34.235477</td>\n",
       "      <td>47.807350</td>\n",
       "      <td>0.761124</td>\n",
       "      <td>04:17</td>\n",
       "    </tr>\n",
       "    <tr>\n",
       "      <td>9</td>\n",
       "      <td>30.176731</td>\n",
       "      <td>46.026672</td>\n",
       "      <td>0.772680</td>\n",
       "      <td>04:34</td>\n",
       "    </tr>\n",
       "  </tbody>\n",
       "</table>"
      ],
      "text/plain": [
       "<IPython.core.display.HTML object>"
      ]
     },
     "metadata": {},
     "output_type": "display_data"
    },
    {
     "name": "stdout",
     "output_type": "stream",
     "text": [
      "Better model found at epoch 0 with f1_score value: 0.5882935024650517.\n"
     ]
    },
    {
     "data": {
      "image/png": "[encoded data removed]",
      "text/plain": [
       "<Figure size 432x288 with 1 Axes>"
      ]
     },
     "metadata": {},
     "output_type": "display_data"
    },
    {
     "name": "stdout",
     "output_type": "stream",
     "text": [
      "Better model found at epoch 2 with f1_score value: 0.622253473192483.\n"
     ]
    },
    {
     "name": "stderr",
     "output_type": "stream",
     "text": [
      "Exception ignored in: <function _MultiProcessingDataLoaderIter.__del__ at 0x7f8b43b699d0>\n",
      "Traceback (most recent call last):\n",
      "  File \"/mnt/home/peluz/victor-visual-text/fastai2/lib/python3.8/site-packages/torch/utils/data/dataloader.py\", line 1203, in __del__\n",
      "    self._shutdown_workers()\n",
      "  File \"/mnt/home/peluz/victor-visual-text/fastai2/lib/python3.8/site-packages/torch/utils/data/dataloader.py\", line 1177, in _shutdown_workers\n",
      "    w.join(timeout=_utils.MP_STATUS_CHECK_INTERVAL)\n",
      "  File \"/usr/lib/python3.8/multiprocessing/process.py\", line 147, in join\n",
      "    assert self._parent_pid == os.getpid(), 'can only join a child process'\n",
      "AssertionError: can only join a child process\n"
     ]
    },
    {
     "name": "stdout",
     "output_type": "stream",
     "text": [
      "Better model found at epoch 4 with f1_score value: 0.6454562940850542.\n"
     ]
    },
    {
     "name": "stderr",
     "output_type": "stream",
     "text": [
      "Exception ignored in: <function _MultiProcessingDataLoaderIter.__del__ at 0x7f8b43b699d0>\n",
      "Traceback (most recent call last):\n",
      "  File \"/mnt/home/peluz/victor-visual-text/fastai2/lib/python3.8/site-packages/torch/utils/data/dataloader.py\", line 1203, in __del__\n",
      "    self._shutdown_workers()\n",
      "  File \"/mnt/home/peluz/victor-visual-text/fastai2/lib/python3.8/site-packages/torch/utils/data/dataloader.py\", line 1177, in _shutdown_workers\n",
      "    w.join(timeout=_utils.MP_STATUS_CHECK_INTERVAL)\n",
      "  File \"/usr/lib/python3.8/multiprocessing/process.py\", line 147, in join\n",
      "    assert self._parent_pid == os.getpid(), 'can only join a child process'\n",
      "AssertionError: can only join a child process\n"
     ]
    },
    {
     "name": "stdout",
     "output_type": "stream",
     "text": [
      "Better model found at epoch 6 with f1_score value: 0.6565617324213603.\n"
     ]
    },
    {
     "name": "stderr",
     "output_type": "stream",
     "text": [
      "Exception ignored in: <function _MultiProcessingDataLoaderIter.__del__ at 0x7f8b43b699d0>\n",
      "Traceback (most recent call last):\n",
      "  File \"/mnt/home/peluz/victor-visual-text/fastai2/lib/python3.8/site-packages/torch/utils/data/dataloader.py\", line 1203, in __del__\n",
      "    self._shutdown_workers()\n",
      "  File \"/mnt/home/peluz/victor-visual-text/fastai2/lib/python3.8/site-packages/torch/utils/data/dataloader.py\", line 1177, in _shutdown_workers\n",
      "    w.join(timeout=_utils.MP_STATUS_CHECK_INTERVAL)\n",
      "  File \"/usr/lib/python3.8/multiprocessing/process.py\", line 147, in join\n",
      "    assert self._parent_pid == os.getpid(), 'can only join a child process'\n",
      "AssertionError: can only join a child process\n"
     ]
    },
    {
     "name": "stdout",
     "output_type": "stream",
     "text": [
      "Better model found at epoch 7 with f1_score value: 0.7368232753155423.\n"
     ]
    },
    {
     "name": "stderr",
     "output_type": "stream",
     "text": [
      "Exception ignored in: <function _MultiProcessingDataLoaderIter.__del__ at 0x7f8b43b699d0>\n",
      "Traceback (most recent call last):\n",
      "  File \"/mnt/home/peluz/victor-visual-text/fastai2/lib/python3.8/site-packages/torch/utils/data/dataloader.py\", line 1203, in __del__\n",
      "    self._shutdown_workers()\n",
      "  File \"/mnt/home/peluz/victor-visual-text/fastai2/lib/python3.8/site-packages/torch/utils/data/dataloader.py\", line 1177, in _shutdown_workers\n",
      "    w.join(timeout=_utils.MP_STATUS_CHECK_INTERVAL)\n",
      "  File \"/usr/lib/python3.8/multiprocessing/process.py\", line 147, in join\n",
      "    assert self._parent_pid == os.getpid(), 'can only join a child process'\n",
      "AssertionError: can only join a child process\n"
     ]
    },
    {
     "name": "stdout",
     "output_type": "stream",
     "text": [
      "Better model found at epoch 8 with f1_score value: 0.7611237230958524.\n"
     ]
    },
    {
     "name": "stderr",
     "output_type": "stream",
     "text": [
      "Exception ignored in: <function _MultiProcessingDataLoaderIter.__del__ at 0x7f8b43b699d0>\n",
      "Traceback (most recent call last):\n",
      "  File \"/mnt/home/peluz/victor-visual-text/fastai2/lib/python3.8/site-packages/torch/utils/data/dataloader.py\", line 1203, in __del__\n",
      "    self._shutdown_workers()\n",
      "  File \"/mnt/home/peluz/victor-visual-text/fastai2/lib/python3.8/site-packages/torch/utils/data/dataloader.py\", line 1177, in _shutdown_workers\n",
      "    w.join(timeout=_utils.MP_STATUS_CHECK_INTERVAL)\n",
      "  File \"/usr/lib/python3.8/multiprocessing/process.py\", line 147, in join\n",
      "    assert self._parent_pid == os.getpid(), 'can only join a child process'\n",
      "AssertionError: can only join a child process\n",
      "Exception ignored in: <function _MultiProcessingDataLoaderIter.__del__ at 0x7f8b43b699d0>\n",
      "Traceback (most recent call last):\n",
      "  File \"/mnt/home/peluz/victor-visual-text/fastai2/lib/python3.8/site-packages/torch/utils/data/dataloader.py\", line 1203, in __del__\n",
      "    self._shutdown_workers()\n",
      "  File \"/mnt/home/peluz/victor-visual-text/fastai2/lib/python3.8/site-packages/torch/utils/data/dataloader.py\", line 1177, in _shutdown_workers\n",
      "    w.join(timeout=_utils.MP_STATUS_CHECK_INTERVAL)\n",
      "  File \"/usr/lib/python3.8/multiprocessing/process.py\", line 147, in join\n",
      "    assert self._parent_pid == os.getpid(), 'can only join a child process'\n",
      "AssertionError: can only join a child process\n"
     ]
    },
    {
     "name": "stdout",
     "output_type": "stream",
     "text": [
      "Better model found at epoch 9 with f1_score value: 0.7726801514644192.\n"
     ]
    }
   ],
   "source": [
    "learn.fit_one_cycle(10, lr_max=1e-2)"
   ]
  },
  {
   "cell_type": "code",
   "execution_count": 233,
   "metadata": {},
   "outputs": [],
   "source": [
    "model = BiLSTMCRF(hidden_dim=256)"
   ]
  },
  {
   "cell_type": "code",
   "execution_count": 234,
   "metadata": {},
   "outputs": [],
   "source": [
    "learn = Learner(dls, model, loss_func=model.crf_loss_func, metrics=[MyFScore()])"
   ]
  },
  {
   "cell_type": "code",
   "execution_count": 236,
   "metadata": {},
   "outputs": [
    {
     "data": {
      "text/html": [],
      "text/plain": [
       "<IPython.core.display.HTML object>"
      ]
     },
     "metadata": {},
     "output_type": "display_data"
    },
    {
     "data": {
      "text/plain": [
       "SuggestedLRs(lr_min=0.017378008365631102, lr_steep=6.309573450380412e-07)"
      ]
     },
     "execution_count": 236,
     "metadata": {},
     "output_type": "execute_result"
    },
    {
     "data": {
      "image/png": "[encoded data removed]",
      "text/plain": [
       "<Figure size 432x288 with 1 Axes>"
      ]
     },
     "metadata": {
      "needs_background": "light"
     },
     "output_type": "display_data"
    }
   ],
   "source": [
    "learn.lr_find()"
   ]
  },
  {
   "cell_type": "code",
   "execution_count": 237,
   "metadata": {},
   "outputs": [],
   "source": [
    "learn.add_cbs([SaveModelCallback(monitor='f1_score', fname='best_lstm_crf_256'),\n",
    "                                       ShowGraphCallback()])"
   ]
  },
  {
   "cell_type": "code",
   "execution_count": 238,
   "metadata": {},
   "outputs": [
    {
     "data": {
      "text/html": [
       "<table border=\"1\" class=\"dataframe\">\n",
       "  <thead>\n",
       "    <tr style=\"text-align: left;\">\n",
       "      <th>epoch</th>\n",
       "      <th>train_loss</th>\n",
       "      <th>valid_loss</th>\n",
       "      <th>f1_score</th>\n",
       "      <th>time</th>\n",
       "    </tr>\n",
       "  </thead>\n",
       "  <tbody>\n",
       "    <tr>\n",
       "      <td>0</td>\n",
       "      <td>88.661140</td>\n",
       "      <td>48.520248</td>\n",
       "      <td>0.578167</td>\n",
       "      <td>03:37</td>\n",
       "    </tr>\n",
       "    <tr>\n",
       "      <td>1</td>\n",
       "      <td>60.694042</td>\n",
       "      <td>44.702351</td>\n",
       "      <td>0.588788</td>\n",
       "      <td>04:18</td>\n",
       "    </tr>\n",
       "    <tr>\n",
       "      <td>2</td>\n",
       "      <td>47.801300</td>\n",
       "      <td>67.834999</td>\n",
       "      <td>0.595032</td>\n",
       "      <td>04:26</td>\n",
       "    </tr>\n",
       "    <tr>\n",
       "      <td>3</td>\n",
       "      <td>53.336491</td>\n",
       "      <td>61.215359</td>\n",
       "      <td>0.617632</td>\n",
       "      <td>04:06</td>\n",
       "    </tr>\n",
       "    <tr>\n",
       "      <td>4</td>\n",
       "      <td>127.709564</td>\n",
       "      <td>114.879677</td>\n",
       "      <td>0.617381</td>\n",
       "      <td>04:10</td>\n",
       "    </tr>\n",
       "    <tr>\n",
       "      <td>5</td>\n",
       "      <td>103.720322</td>\n",
       "      <td>64.057060</td>\n",
       "      <td>0.703044</td>\n",
       "      <td>04:19</td>\n",
       "    </tr>\n",
       "    <tr>\n",
       "      <td>6</td>\n",
       "      <td>71.787842</td>\n",
       "      <td>48.716560</td>\n",
       "      <td>0.730607</td>\n",
       "      <td>04:17</td>\n",
       "    </tr>\n",
       "    <tr>\n",
       "      <td>7</td>\n",
       "      <td>57.704315</td>\n",
       "      <td>57.360401</td>\n",
       "      <td>0.757955</td>\n",
       "      <td>04:26</td>\n",
       "    </tr>\n",
       "    <tr>\n",
       "      <td>8</td>\n",
       "      <td>54.416355</td>\n",
       "      <td>40.568684</td>\n",
       "      <td>0.781473</td>\n",
       "      <td>04:00</td>\n",
       "    </tr>\n",
       "    <tr>\n",
       "      <td>9</td>\n",
       "      <td>45.043854</td>\n",
       "      <td>39.620537</td>\n",
       "      <td>0.785327</td>\n",
       "      <td>04:18</td>\n",
       "    </tr>\n",
       "  </tbody>\n",
       "</table>"
      ],
      "text/plain": [
       "<IPython.core.display.HTML object>"
      ]
     },
     "metadata": {},
     "output_type": "display_data"
    },
    {
     "name": "stdout",
     "output_type": "stream",
     "text": [
      "Better model found at epoch 0 with f1_score value: 0.5781670104923601.\n"
     ]
    },
    {
     "data": {
      "image/png": "[encoded data removed]",
      "text/plain": [
       "<Figure size 432x288 with 1 Axes>"
      ]
     },
     "metadata": {},
     "output_type": "display_data"
    },
    {
     "name": "stdout",
     "output_type": "stream",
     "text": [
      "Better model found at epoch 1 with f1_score value: 0.5887879450236809.\n",
      "Better model found at epoch 2 with f1_score value: 0.5950319433957403.\n",
      "Better model found at epoch 3 with f1_score value: 0.6176322443022161.\n",
      "Better model found at epoch 5 with f1_score value: 0.703044272643058.\n",
      "Better model found at epoch 6 with f1_score value: 0.7306069477550036.\n",
      "Better model found at epoch 7 with f1_score value: 0.7579551093617355.\n",
      "Better model found at epoch 8 with f1_score value: 0.7814727806410381.\n",
      "Better model found at epoch 9 with f1_score value: 0.7853273887274553.\n"
     ]
    }
   ],
   "source": [
    "learn.fit_one_cycle(10, lr_max=1e-2)"
   ]
  },
  {
   "cell_type": "code",
   "execution_count": 295,
   "metadata": {},
   "outputs": [],
   "source": [
    "model = BiLSTMCRF(hidden_dim=256)"
   ]
  },
  {
   "cell_type": "code",
   "execution_count": 296,
   "metadata": {},
   "outputs": [],
   "source": [
    "learn = Learner(dls, model, loss_func=model.crf_loss_func, metrics=[MyFScore()])"
   ]
  },
  {
   "cell_type": "code",
   "execution_count": 297,
   "metadata": {},
   "outputs": [],
   "source": [
    "learn.add_cbs([SaveModelCallback(monitor='f1_score', fname='best_lstm_crf_256_moreEpochs'),\n",
    "                                       ShowGraphCallback()])"
   ]
  },
  {
   "cell_type": "code",
   "execution_count": 298,
   "metadata": {},
   "outputs": [
    {
     "data": {
      "text/html": [
       "<table border=\"1\" class=\"dataframe\">\n",
       "  <thead>\n",
       "    <tr style=\"text-align: left;\">\n",
       "      <th>epoch</th>\n",
       "      <th>train_loss</th>\n",
       "      <th>valid_loss</th>\n",
       "      <th>f1_score</th>\n",
       "      <th>time</th>\n",
       "    </tr>\n",
       "  </thead>\n",
       "  <tbody>\n",
       "    <tr>\n",
       "      <td>0</td>\n",
       "      <td>96.007629</td>\n",
       "      <td>53.845379</td>\n",
       "      <td>0.477175</td>\n",
       "      <td>04:15</td>\n",
       "    </tr>\n",
       "    <tr>\n",
       "      <td>1</td>\n",
       "      <td>69.905937</td>\n",
       "      <td>41.899326</td>\n",
       "      <td>0.595003</td>\n",
       "      <td>04:19</td>\n",
       "    </tr>\n",
       "    <tr>\n",
       "      <td>2</td>\n",
       "      <td>58.799763</td>\n",
       "      <td>97.396790</td>\n",
       "      <td>0.629216</td>\n",
       "      <td>04:27</td>\n",
       "    </tr>\n",
       "    <tr>\n",
       "      <td>3</td>\n",
       "      <td>71.084221</td>\n",
       "      <td>55.796886</td>\n",
       "      <td>0.630985</td>\n",
       "      <td>04:33</td>\n",
       "    </tr>\n",
       "    <tr>\n",
       "      <td>4</td>\n",
       "      <td>110.898964</td>\n",
       "      <td>153.758759</td>\n",
       "      <td>0.597405</td>\n",
       "      <td>04:24</td>\n",
       "    </tr>\n",
       "    <tr>\n",
       "      <td>5</td>\n",
       "      <td>118.221359</td>\n",
       "      <td>59.927944</td>\n",
       "      <td>0.503082</td>\n",
       "      <td>04:19</td>\n",
       "    </tr>\n",
       "    <tr>\n",
       "      <td>6</td>\n",
       "      <td>90.544388</td>\n",
       "      <td>51.914352</td>\n",
       "      <td>0.651473</td>\n",
       "      <td>04:22</td>\n",
       "    </tr>\n",
       "    <tr>\n",
       "      <td>7</td>\n",
       "      <td>79.850060</td>\n",
       "      <td>39.119453</td>\n",
       "      <td>0.719468</td>\n",
       "      <td>04:17</td>\n",
       "    </tr>\n",
       "    <tr>\n",
       "      <td>8</td>\n",
       "      <td>57.636551</td>\n",
       "      <td>51.452801</td>\n",
       "      <td>0.706114</td>\n",
       "      <td>04:19</td>\n",
       "    </tr>\n",
       "    <tr>\n",
       "      <td>9</td>\n",
       "      <td>53.754185</td>\n",
       "      <td>36.618111</td>\n",
       "      <td>0.783079</td>\n",
       "      <td>04:11</td>\n",
       "    </tr>\n",
       "    <tr>\n",
       "      <td>10</td>\n",
       "      <td>81.929329</td>\n",
       "      <td>93.471115</td>\n",
       "      <td>0.700491</td>\n",
       "      <td>04:24</td>\n",
       "    </tr>\n",
       "    <tr>\n",
       "      <td>11</td>\n",
       "      <td>81.227516</td>\n",
       "      <td>66.052078</td>\n",
       "      <td>0.780173</td>\n",
       "      <td>04:12</td>\n",
       "    </tr>\n",
       "    <tr>\n",
       "      <td>12</td>\n",
       "      <td>61.698170</td>\n",
       "      <td>53.260975</td>\n",
       "      <td>0.783255</td>\n",
       "      <td>04:23</td>\n",
       "    </tr>\n",
       "    <tr>\n",
       "      <td>13</td>\n",
       "      <td>66.743019</td>\n",
       "      <td>72.457146</td>\n",
       "      <td>0.781287</td>\n",
       "      <td>04:12</td>\n",
       "    </tr>\n",
       "    <tr>\n",
       "      <td>14</td>\n",
       "      <td>71.125977</td>\n",
       "      <td>62.631653</td>\n",
       "      <td>0.757390</td>\n",
       "      <td>04:30</td>\n",
       "    </tr>\n",
       "    <tr>\n",
       "      <td>15</td>\n",
       "      <td>55.243183</td>\n",
       "      <td>49.785114</td>\n",
       "      <td>0.765827</td>\n",
       "      <td>04:35</td>\n",
       "    </tr>\n",
       "    <tr>\n",
       "      <td>16</td>\n",
       "      <td>40.537426</td>\n",
       "      <td>46.866318</td>\n",
       "      <td>0.789184</td>\n",
       "      <td>04:22</td>\n",
       "    </tr>\n",
       "    <tr>\n",
       "      <td>17</td>\n",
       "      <td>35.247051</td>\n",
       "      <td>33.834251</td>\n",
       "      <td>0.784668</td>\n",
       "      <td>04:39</td>\n",
       "    </tr>\n",
       "    <tr>\n",
       "      <td>18</td>\n",
       "      <td>42.223045</td>\n",
       "      <td>47.992275</td>\n",
       "      <td>0.791046</td>\n",
       "      <td>04:28</td>\n",
       "    </tr>\n",
       "    <tr>\n",
       "      <td>19</td>\n",
       "      <td>45.819389</td>\n",
       "      <td>50.264027</td>\n",
       "      <td>0.786662</td>\n",
       "      <td>04:05</td>\n",
       "    </tr>\n",
       "    <tr>\n",
       "      <td>20</td>\n",
       "      <td>38.643646</td>\n",
       "      <td>36.858742</td>\n",
       "      <td>0.787666</td>\n",
       "      <td>04:28</td>\n",
       "    </tr>\n",
       "    <tr>\n",
       "      <td>21</td>\n",
       "      <td>30.231703</td>\n",
       "      <td>32.473618</td>\n",
       "      <td>0.781039</td>\n",
       "      <td>04:11</td>\n",
       "    </tr>\n",
       "    <tr>\n",
       "      <td>22</td>\n",
       "      <td>26.388712</td>\n",
       "      <td>33.603436</td>\n",
       "      <td>0.788617</td>\n",
       "      <td>04:06</td>\n",
       "    </tr>\n",
       "    <tr>\n",
       "      <td>23</td>\n",
       "      <td>25.254185</td>\n",
       "      <td>31.812490</td>\n",
       "      <td>0.789324</td>\n",
       "      <td>04:26</td>\n",
       "    </tr>\n",
       "    <tr>\n",
       "      <td>24</td>\n",
       "      <td>23.507542</td>\n",
       "      <td>32.382172</td>\n",
       "      <td>0.794751</td>\n",
       "      <td>04:42</td>\n",
       "    </tr>\n",
       "    <tr>\n",
       "      <td>25</td>\n",
       "      <td>23.306875</td>\n",
       "      <td>30.622389</td>\n",
       "      <td>0.793035</td>\n",
       "      <td>04:28</td>\n",
       "    </tr>\n",
       "    <tr>\n",
       "      <td>26</td>\n",
       "      <td>22.604918</td>\n",
       "      <td>30.992689</td>\n",
       "      <td>0.793753</td>\n",
       "      <td>04:05</td>\n",
       "    </tr>\n",
       "    <tr>\n",
       "      <td>27</td>\n",
       "      <td>22.292250</td>\n",
       "      <td>30.907688</td>\n",
       "      <td>0.794143</td>\n",
       "      <td>04:14</td>\n",
       "    </tr>\n",
       "    <tr>\n",
       "      <td>28</td>\n",
       "      <td>21.912992</td>\n",
       "      <td>30.661518</td>\n",
       "      <td>0.792597</td>\n",
       "      <td>04:20</td>\n",
       "    </tr>\n",
       "    <tr>\n",
       "      <td>29</td>\n",
       "      <td>21.744326</td>\n",
       "      <td>30.566347</td>\n",
       "      <td>0.792702</td>\n",
       "      <td>04:09</td>\n",
       "    </tr>\n",
       "  </tbody>\n",
       "</table>"
      ],
      "text/plain": [
       "<IPython.core.display.HTML object>"
      ]
     },
     "metadata": {},
     "output_type": "display_data"
    },
    {
     "name": "stdout",
     "output_type": "stream",
     "text": [
      "Better model found at epoch 0 with f1_score value: 0.47717486367264184.\n"
     ]
    },
    {
     "data": {
      "image/png": "[encoded data removed]",
      "text/plain": [
       "<Figure size 432x288 with 1 Axes>"
      ]
     },
     "metadata": {},
     "output_type": "display_data"
    },
    {
     "name": "stdout",
     "output_type": "stream",
     "text": [
      "Better model found at epoch 1 with f1_score value: 0.5950030107068903.\n",
      "Better model found at epoch 2 with f1_score value: 0.6292155802016274.\n",
      "Better model found at epoch 3 with f1_score value: 0.6309850868392882.\n",
      "Better model found at epoch 6 with f1_score value: 0.6514733134548244.\n",
      "Better model found at epoch 7 with f1_score value: 0.7194677188398709.\n",
      "Better model found at epoch 9 with f1_score value: 0.7830787476623152.\n",
      "Better model found at epoch 12 with f1_score value: 0.783254746538451.\n",
      "Better model found at epoch 16 with f1_score value: 0.7891840564660405.\n",
      "Better model found at epoch 18 with f1_score value: 0.791045824393585.\n",
      "Better model found at epoch 24 with f1_score value: 0.7947510796832504.\n"
     ]
    }
   ],
   "source": [
    "learn.fit_one_cycle(30, lr_max=1e-2, pct_start=0.25/3)"
   ]
  },
  {
   "cell_type": "code",
   "execution_count": 299,
   "metadata": {},
   "outputs": [
    {
     "data": {
      "text/plain": [
       "<fastai.learner.Learner at 0x7f8ad84e4700>"
      ]
     },
     "execution_count": 299,
     "metadata": {},
     "output_type": "execute_result"
    }
   ],
   "source": [
    "learn.load(\"best_lstm_crf_256_moreEpochs\")"
   ]
  },
  {
   "cell_type": "code",
   "execution_count": 300,
   "metadata": {},
   "outputs": [],
   "source": [
    "def evaluate_crf(learn, dl):\n",
    "    preds, targets = learn.get_preds(dl=dl)\n",
    "    crf_preds =[]\n",
    "    crf_targs=[]\n",
    "    for pred, targ in zip(preds, targets):\n",
    "        pred = pred.unsqueeze(0)\n",
    "        targ = targ.unsqueeze(0)\n",
    "        mask = tensor(targ.data != OUT_DIM)\n",
    "        mask=mask.view(pred.shape[:2])\n",
    "        pred = learn.model.crf.decode(pred.cuda(),mask=mask.cuda())\n",
    "        pred = tensor([[x for sublist in pred for x in sublist]]).view(-1)\n",
    "        targ = targ[mask].view(-1)\n",
    "        crf_preds.append(pred)\n",
    "        crf_targs.append(targ)\n",
    "    crf_preds = torch.cat(crf_preds)\n",
    "    crf_targs = torch.cat(crf_targs)\n",
    "    print(classification_report(crf_targs, crf_preds, target_names=dls.get_labels.cat.vocab, digits=4))\n",
    "    crf_preds = torch.remainder(crf_preds, 6)\n",
    "    crf_targs = torch.remainder(crf_targs, 6)\n",
    "    print(classification_report(crf_targs, crf_preds, target_names=dls.get_labels.cat.vocab[:6], digits=4))\n",
    "    "
   ]
  },
  {
   "cell_type": "code",
   "execution_count": 301,
   "metadata": {},
   "outputs": [
    {
     "data": {
      "text/html": [],
      "text/plain": [
       "<IPython.core.display.HTML object>"
      ]
     },
     "metadata": {},
     "output_type": "display_data"
    },
    {
     "name": "stdout",
     "output_type": "stream",
     "text": [
      "                                    precision    recall  f1-score   support\n",
      "\n",
      "          B-acordao_de_2_instancia     0.8995    0.8905    0.8950       201\n",
      "B-agravo_em_recurso_extraordinario     0.5054    0.3924    0.4418       237\n",
      "     B-despacho_de_admissibilidade     0.7931    0.6259    0.6996       147\n",
      "                          B-outros     0.9307    0.3599    0.5190     25898\n",
      "                   B-peticao_do_RE     0.6463    0.4877    0.5559       326\n",
      "                        B-sentenca     0.6875    0.7359    0.7109       284\n",
      "          I-acordao_de_2_instancia     0.9365    0.6020    0.7329        98\n",
      "I-agravo_em_recurso_extraordinario     0.6055    0.5853    0.5952      1912\n",
      "     I-despacho_de_admissibilidade     0.7333    0.3056    0.4314        36\n",
      "                          I-outros     0.7462    0.9557    0.8380     58206\n",
      "                   I-peticao_do_RE     0.7645    0.7743    0.7694      6038\n",
      "                        I-sentenca     0.9400    0.7530    0.8361      1352\n",
      "\n",
      "                          accuracy                         0.7659     94735\n",
      "                         macro avg     0.7657    0.6223    0.6688     94735\n",
      "                      weighted avg     0.7972    0.7659    0.7388     94735\n",
      "\n",
      "                                    precision    recall  f1-score   support\n",
      "\n",
      "          B-acordao_de_2_instancia     0.9275    0.8127    0.8663       299\n",
      "B-agravo_em_recurso_extraordinario     0.6211    0.5872    0.6037      2149\n",
      "     B-despacho_de_admissibilidade     0.8702    0.6230    0.7261       183\n",
      "                          B-outros     0.9690    0.9743    0.9716     84104\n",
      "                   B-peticao_do_RE     0.7700    0.7696    0.7698      6364\n",
      "                        B-sentenca     0.9056    0.7677    0.8310      1636\n",
      "\n",
      "                          accuracy                         0.9470     94735\n",
      "                         macro avg     0.8439    0.7558    0.7948     94735\n",
      "                      weighted avg     0.9463    0.9470    0.9465     94735\n",
      "\n"
     ]
    }
   ],
   "source": [
    "evaluate_crf(learn, dls.valid)"
   ]
  },
  {
   "cell_type": "code",
   "execution_count": 302,
   "metadata": {},
   "outputs": [],
   "source": [
    "test_dl = torch.load(\"./data/test_dl_sequence.pth\")"
   ]
  },
  {
   "cell_type": "code",
   "execution_count": 304,
   "metadata": {},
   "outputs": [
    {
     "data": {
      "text/html": [],
      "text/plain": [
       "<IPython.core.display.HTML object>"
      ]
     },
     "metadata": {},
     "output_type": "display_data"
    },
    {
     "name": "stdout",
     "output_type": "stream",
     "text": [
      "                                    precision    recall  f1-score   support\n",
      "\n",
      "          B-acordao_de_2_instancia     0.9188    0.9095    0.9141       199\n",
      "B-agravo_em_recurso_extraordinario     0.4624    0.4038    0.4311       213\n",
      "     B-despacho_de_admissibilidade     0.7944    0.5782    0.6693       147\n",
      "                          B-outros     0.9208    0.3568    0.5143     25744\n",
      "                   B-peticao_do_RE     0.6516    0.4615    0.5403       312\n",
      "                        B-sentenca     0.7123    0.7849    0.7469       265\n",
      "          I-acordao_de_2_instancia     0.9697    0.8649    0.9143        74\n",
      "I-agravo_em_recurso_extraordinario     0.6051    0.5676    0.5857      1628\n",
      "     I-despacho_de_admissibilidade     0.4091    0.1765    0.2466        51\n",
      "                          I-outros     0.7523    0.9594    0.8433     59664\n",
      "                   I-peticao_do_RE     0.7880    0.7626    0.7751      6019\n",
      "                        I-sentenca     0.9298    0.7777    0.8470      1210\n",
      "\n",
      "                          accuracy                         0.7711     95526\n",
      "                         macro avg     0.7429    0.6336    0.6690     95526\n",
      "                      weighted avg     0.7990    0.7711    0.7435     95526\n",
      "\n",
      "                                    precision    recall  f1-score   support\n",
      "\n",
      "          B-acordao_de_2_instancia     0.9354    0.9011    0.9179       273\n",
      "B-agravo_em_recurso_extraordinario     0.6165    0.5736    0.5943      1841\n",
      "     B-despacho_de_admissibilidade     0.7829    0.5101    0.6177       198\n",
      "                          B-outros     0.9705    0.9780    0.9742     85408\n",
      "                   B-peticao_do_RE     0.7969    0.7610    0.7785      6331\n",
      "                        B-sentenca     0.8988    0.7946    0.8435      1475\n",
      "\n",
      "                          accuracy                         0.9518     95526\n",
      "                         macro avg     0.8335    0.7531    0.7877     95526\n",
      "                      weighted avg     0.9505    0.9518    0.9510     95526\n",
      "\n"
     ]
    }
   ],
   "source": [
    "evaluate_crf(learn, test_dl)"
   ]
  },
  {
   "cell_type": "code",
   "execution_count": null,
   "metadata": {},
   "outputs": [],
   "source": []
  }
 ],
 "metadata": {
  "kernelspec": {
   "display_name": "fastai2",
   "language": "python",
   "name": "fastai2"
  },
  "language_info": {
   "codemirror_mode": {
    "name": "ipython",
    "version": 3
   },
   "file_extension": ".py",
   "mimetype": "text/x-python",
   "name": "python",
   "nbconvert_exporter": "python",
   "pygments_lexer": "ipython3",
   "version": "3.8.5"
  }
 },
 "nbformat": 4,
 "nbformat_minor": 4
}
