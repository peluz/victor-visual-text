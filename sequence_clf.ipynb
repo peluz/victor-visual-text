{
 "cells": [
  {
   "cell_type": "code",
   "execution_count": 1,
   "metadata": {},
   "outputs": [],
   "source": [
    "%load_ext autoreload\n",
    "%autoreload 2\n",
    "\n",
    "from fastai.text.all import *\n",
    "from fastai.vision.all import *\n",
    "import pandas as pd\n",
    "import torch\n",
    "from tqdm.notebook import tqdm\n",
    "from sklearn.metrics import classification_report"
   ]
  },
  {
   "cell_type": "code",
   "execution_count": 2,
   "metadata": {},
   "outputs": [],
   "source": [
    "seed = 42\n",
    "\n",
    "# python RNG\n",
    "import random\n",
    "random.seed(seed)\n",
    "\n",
    "# pytorch RNGs\n",
    "import torch\n",
    "torch.manual_seed(seed)\n",
    "torch.backends.cudnn.deterministic = True\n",
    "if torch.cuda.is_available(): torch.cuda.manual_seed_all(seed)\n",
    "\n",
    "# numpy RNG\n",
    "import numpy as np\n",
    "np.random.seed(seed)"
   ]
  },
  {
   "cell_type": "code",
   "execution_count": 3,
   "metadata": {},
   "outputs": [],
   "source": [
    "OUT_DIM=6"
   ]
  },
  {
   "cell_type": "code",
   "execution_count": 11,
   "metadata": {},
   "outputs": [],
   "source": [
    "train = pd.read_csv(\"./data/train_fusion.csv\")\n",
    "val = pd.read_csv(\"./data/val_fusion.csv\")\n",
    "test_data = pd.read_csv(\"./data/test_fusion.csv\")"
   ]
  },
  {
   "cell_type": "code",
   "execution_count": 12,
   "metadata": {},
   "outputs": [],
   "source": [
    "train[\"document_type\"] = train.apply(lambda x: \"B-\" + x[\"document_type\"] if x[\"pages\"] == 1 else \"I-\" + x[\"document_type\"],\n",
    "                                     axis=1)\n",
    "val[\"document_type\"] = val.apply(lambda x: \"B-\" + x[\"document_type\"] if x[\"pages\"] == 1 else \"I-\" + x[\"document_type\"],\n",
    "                                     axis=1)\n",
    "test_data[\"document_type\"] = test_data.apply(lambda x: \"B-\" + x[\"document_type\"] if x[\"pages\"] == 1 else \"I-\" + x[\"document_type\"],\n",
    "                                   axis=1)"
   ]
  },
  {
   "cell_type": "code",
   "execution_count": 16,
   "metadata": {},
   "outputs": [],
   "source": [
    "def get_sequences(data):\n",
    "    xs = []\n",
    "    ys = []\n",
    "    for k, v in data.groupby(\"process_id\").groups.items():\n",
    "        xs.append(data.iloc[v][\"activation_path\"].tolist())\n",
    "        ys.append(data.iloc[v][\"document_type\"].tolist())\n",
    "    return xs, ys"
   ]
  },
  {
   "cell_type": "code",
   "execution_count": 21,
   "metadata": {},
   "outputs": [],
   "source": [
    "X_train, y_train = get_sequences(train)\n",
    "X_valid, y_valid = get_sequences(val)\n",
    "X_test, y_test = get_sequences(test_data)"
   ]
  },
  {
   "cell_type": "code",
   "execution_count": 28,
   "metadata": {},
   "outputs": [],
   "source": [
    "data = pd.concat([pd.DataFrame({\"acts\":X_train, \"labels\":y_train, \"is_valid\": False}),\n",
    "                 pd.DataFrame({\"acts\":X_valid, \"labels\":y_valid, \"is_valid\": True})])"
   ]
  },
  {
   "cell_type": "code",
   "execution_count": 66,
   "metadata": {},
   "outputs": [],
   "source": [
    "class GetFusionActs(Transform):\n",
    "    def encodes(self, x):    \n",
    "        acts = []\n",
    "        for act in x[\"acts\"]:\n",
    "            acts.append(torch.load(act.replace(\"text\", \"fusion\") + \".pt\")) \n",
    "        return torch.cat(acts)"
   ]
  },
  {
   "cell_type": "code",
   "execution_count": 145,
   "metadata": {},
   "outputs": [],
   "source": [
    "class GetLabels(Transform):\n",
    "    def setup(self, items, train_setup):\n",
    "        if train_setup:\n",
    "            self.cat = Categorize()\n",
    "            self.cat.setup([x for sublist in items.items[\"labels\"].tolist() for x in sublist])\n",
    "        \n",
    "    def encodes(self, x):\n",
    "        labels = []\n",
    "        for label in x[\"labels\"]:\n",
    "            labels.append(self.cat(label))\n",
    "        return tensor(labels)"
   ]
  },
  {
   "cell_type": "code",
   "execution_count": null,
   "metadata": {},
   "outputs": [],
   "source": [
    "tfms = [[GetFusionActs()], [GetLabels()]]\n",
    "splits = ColSplitter()(data)\n",
    "dsets = Datasets(data, tfms, splits=splits)\n",
    "dls = dsets.dataloaders(dl_type=SortedDL, before_batch=pad_input)"
   ]
  },
  {
   "cell_type": "code",
   "execution_count": null,
   "metadata": {},
   "outputs": [],
   "source": []
  }
 ],
 "metadata": {
  "kernelspec": {
   "display_name": "fastai2",
   "language": "python",
   "name": "fastai2"
  },
  "language_info": {
   "codemirror_mode": {
    "name": "ipython",
    "version": 3
   },
   "file_extension": ".py",
   "mimetype": "text/x-python",
   "name": "python",
   "nbconvert_exporter": "python",
   "pygments_lexer": "ipython3",
   "version": "3.8.5"
  }
 },
 "nbformat": 4,
 "nbformat_minor": 4
}
