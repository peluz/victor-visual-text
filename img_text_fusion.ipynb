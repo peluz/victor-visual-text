{
 "cells": [
  {
   "cell_type": "code",
   "execution_count": 1,
   "metadata": {},
   "outputs": [],
   "source": [
    "%load_ext autoreload\n",
    "%autoreload 2\n",
    "\n",
    "from fastai.text.all import *\n",
    "from fastai.vision.all import *\n",
    "import pandas as pd\n",
    "import torch\n",
    "from tqdm.notebook import tqdm"
   ]
  },
  {
   "cell_type": "code",
   "execution_count": 2,
   "metadata": {},
   "outputs": [],
   "source": [
    "seed = 42\n",
    "\n",
    "# python RNG\n",
    "import random\n",
    "random.seed(seed)\n",
    "\n",
    "# pytorch RNGs\n",
    "import torch\n",
    "torch.manual_seed(seed)\n",
    "torch.backends.cudnn.deterministic = True\n",
    "if torch.cuda.is_available(): torch.cuda.manual_seed_all(seed)\n",
    "\n",
    "# numpy RNG\n",
    "import numpy as np\n",
    "np.random.seed(seed)"
   ]
  },
  {
   "cell_type": "code",
   "execution_count": 3,
   "metadata": {},
   "outputs": [],
   "source": [
    "OUT_DIM=6"
   ]
  },
  {
   "cell_type": "code",
   "execution_count": 4,
   "metadata": {},
   "outputs": [],
   "source": [
    "path = Path(\"./activations\")"
   ]
  },
  {
   "cell_type": "code",
   "execution_count": 76,
   "metadata": {},
   "outputs": [
    {
     "data": {
      "text/plain": [
       "(#359882) [Path('activations/img/val/agravo_em_recurso_extraordinario/ARE_783154_3660743_1420_09102014_1.pt'),Path('activations/img/val/agravo_em_recurso_extraordinario/ARE_1012920_310814938_1420_01122016_27.pt'),Path('activations/img/val/agravo_em_recurso_extraordinario/ARE_822006_4778600_1420_19062014_3.pt'),Path('activations/img/val/agravo_em_recurso_extraordinario/ARE_1053618_311977154_1420_07062017_299.pt'),Path('activations/img/val/agravo_em_recurso_extraordinario/ARE_821707_4770044_1420_19062014_4.pt'),Path('activations/img/val/agravo_em_recurso_extraordinario/ARE_1053618_311977154_1420_07062017_288.pt'),Path('activations/img/val/agravo_em_recurso_extraordinario/ARE_1019716_311062360_1420_17012017_15.pt'),Path('activations/img/val/agravo_em_recurso_extraordinario/ARE_1062700_312268503_1420_21072017_6.pt'),Path('activations/img/val/agravo_em_recurso_extraordinario/ARE_1053618_311977154_1420_07062017_248.pt'),Path('activations/img/val/agravo_em_recurso_extraordinario/ARE_1019823_311067464_1420_26012017_9.pt')...]"
      ]
     },
     "execution_count": 76,
     "metadata": {},
     "output_type": "execute_result"
    }
   ],
   "source": [
    "img_files = get_files(path/\"img\"); img_files"
   ]
  },
  {
   "cell_type": "code",
   "execution_count": 6,
   "metadata": {},
   "outputs": [
    {
     "data": {
      "text/plain": [
       "(#326037) [Path('activations/text/val/agravo_em_recurso_extraordinario/ARE_1075473_312738372_1420_14092017_6.npy'),Path('activations/text/val/agravo_em_recurso_extraordinario/ARE_1054017_311988070_1420_08062017_7.npy'),Path('activations/text/val/agravo_em_recurso_extraordinario/ARE_1082106_312930948_1420_10102017_15.npy'),Path('activations/text/val/agravo_em_recurso_extraordinario/ARE_1087577_313124642_1420_26102017_6.npy'),Path('activations/text/val/agravo_em_recurso_extraordinario/ARE_1000611_310414607_1420_01102016_14.npy'),Path('activations/text/val/agravo_em_recurso_extraordinario/ARE_1075473_312738372_1420_14092017_7.npy'),Path('activations/text/val/agravo_em_recurso_extraordinario/ARE_1062700_312268503_1420_21072017_4.npy'),Path('activations/text/val/agravo_em_recurso_extraordinario/ARE_941848_308456398_1420_14012016_3.npy'),Path('activations/text/val/agravo_em_recurso_extraordinario/ARE_941656_308447674_1420_12012016_11.npy'),Path('activations/text/val/agravo_em_recurso_extraordinario/ARE_1068167_312485271_1420_22082017_10.npy')...]"
      ]
     },
     "execution_count": 6,
     "metadata": {},
     "output_type": "execute_result"
    }
   ],
   "source": [
    "text_files = get_files(path/\"text\"); text_files"
   ]
  },
  {
   "cell_type": "code",
   "execution_count": 7,
   "metadata": {},
   "outputs": [],
   "source": [
    "text_set = set([t.with_suffix(\"\").name for t in text_files])"
   ]
  },
  {
   "cell_type": "code",
   "execution_count": 8,
   "metadata": {},
   "outputs": [],
   "source": [
    "img_set = set([t.with_suffix(\"\").name for t in img_files])"
   ]
  },
  {
   "cell_type": "code",
   "execution_count": 9,
   "metadata": {},
   "outputs": [
    {
     "data": {
      "text/plain": [
       "(326037, 359882)"
      ]
     },
     "execution_count": 9,
     "metadata": {},
     "output_type": "execute_result"
    }
   ],
   "source": [
    "len(text_set), len(img_set)"
   ]
  },
  {
   "cell_type": "code",
   "execution_count": 10,
   "metadata": {},
   "outputs": [
    {
     "data": {
      "text/plain": [
       "326033"
      ]
     },
     "execution_count": 10,
     "metadata": {},
     "output_type": "execute_result"
    }
   ],
   "source": [
    "img_and_text = text_set.intersection(text_set, img_set); len(img_and_text)"
   ]
  },
  {
   "cell_type": "code",
   "execution_count": 11,
   "metadata": {},
   "outputs": [
    {
     "data": {
      "text/plain": [
       "33849"
      ]
     },
     "execution_count": 11,
     "metadata": {},
     "output_type": "execute_result"
    }
   ],
   "source": [
    "just_img = img_set - text_set; len(just_img)"
   ]
  },
  {
   "cell_type": "code",
   "execution_count": 12,
   "metadata": {},
   "outputs": [
    {
     "data": {
      "text/plain": [
       "4"
      ]
     },
     "execution_count": 12,
     "metadata": {},
     "output_type": "execute_result"
    }
   ],
   "source": [
    "just_text = text_set - img_set; len(just_text)"
   ]
  },
  {
   "cell_type": "code",
   "execution_count": 130,
   "metadata": {},
   "outputs": [],
   "source": [
    "train_csv = pd.read_csv(\"./data/train_fusion.csv\")\n",
    "val_csv = pd.read_csv(\"./data/val_fusion.csv\")\n",
    "test_csv = pd.read_csv(\"./data/test_fusion.csv\")"
   ]
  },
  {
   "cell_type": "code",
   "execution_count": 131,
   "metadata": {},
   "outputs": [],
   "source": [
    "train_csv[\"is_valid\"] = False\n",
    "val_csv[\"is_valid\"] = True\n",
    "data = pd.concat([train_csv, val_csv])"
   ]
  },
  {
   "cell_type": "code",
   "execution_count": 132,
   "metadata": {},
   "outputs": [],
   "source": [
    "data[\"has_text\"] = True"
   ]
  },
  {
   "cell_type": "code",
   "execution_count": 133,
   "metadata": {},
   "outputs": [],
   "source": [
    "data[\"has_image\"]= ~(data[\"file_name\"].str.slice(stop=-4) + \"_\" + data[\"pages\"].astype(str)).isin(just_text)"
   ]
  },
  {
   "cell_type": "code",
   "execution_count": null,
   "metadata": {},
   "outputs": [],
   "source": [
    "data.head(1)"
   ]
  },
  {
   "cell_type": "code",
   "execution_count": 77,
   "metadata": {},
   "outputs": [
    {
     "data": {
      "text/plain": [
       "(33849,\n",
       " [Path('activations/img/val/agravo_em_recurso_extraordinario/ARE_1053618_311977154_1420_07062017_299.pt'),\n",
       "  Path('activations/img/val/agravo_em_recurso_extraordinario/ARE_1053618_311977154_1420_07062017_288.pt'),\n",
       "  Path('activations/img/val/agravo_em_recurso_extraordinario/ARE_1053618_311977154_1420_07062017_248.pt')])"
      ]
     },
     "execution_count": 77,
     "metadata": {},
     "output_type": "execute_result"
    }
   ],
   "source": [
    "just_imgs = [x for x in img_files if x.with_suffix(\"\").name in just_img]; len(just_imgs), just_imgs[:3]"
   ]
  },
  {
   "cell_type": "code",
   "execution_count": 136,
   "metadata": {},
   "outputs": [
    {
     "data": {
      "text/plain": [
       "'activations/img/val/agravo_em_recurso_extraordinario/ARE_1053618_311977154_1420_07062017_299'"
      ]
     },
     "execution_count": 136,
     "metadata": {},
     "output_type": "execute_result"
    }
   ],
   "source": [
    "just_imgs[0].with_suffix(\"\").as_posix()"
   ]
  },
  {
   "cell_type": "code",
   "execution_count": 137,
   "metadata": {},
   "outputs": [
    {
     "data": {
      "application/vnd.jupyter.widget-view+json": {
       "model_id": "cdfc88647f6444dba660f8950edeaf75",
       "version_major": 2,
       "version_minor": 0
      },
      "text/plain": [
       "HBox(children=(HTML(value=''), FloatProgress(value=0.0, max=33849.0), HTML(value='')))"
      ]
     },
     "metadata": {},
     "output_type": "display_data"
    },
    {
     "name": "stdout",
     "output_type": "stream",
     "text": [
      "\n"
     ]
    }
   ],
   "source": [
    "just_imgs_dics = []\n",
    "for p in tqdm(just_imgs):\n",
    "    parts = p.parts\n",
    "    if parts[2] == \"test\":\n",
    "        continue\n",
    "    dic = {}\n",
    "    dic[\"process_id\"] = re.search(r\"[^_]*_\\d+\",parts[4])[0]\n",
    "    dic[\"file_name\"] = parts[4][:-2] + \"pdf\"\n",
    "    dic[\"document_type\"] = parts[3]\n",
    "    dic[\"pages\"] = re.search(r\"(?<=_)\\d+(?=\\.pt)\", parts[4])[0]\n",
    "    dic[\"is_valid\"] = parts[2] == \"val\"\n",
    "    dic[\"has_text\"] = False\n",
    "    dic[\"has_image\"] = True\n",
    "    dic[\"activation_path\"] = p.with_suffix(\"\").as_posix()\n",
    "    just_imgs_dics.append(dic)"
   ]
  },
  {
   "cell_type": "code",
   "execution_count": 138,
   "metadata": {},
   "outputs": [
    {
     "data": {
      "text/html": [
       "<div>\n",
       "<style scoped>\n",
       "    .dataframe tbody tr th:only-of-type {\n",
       "        vertical-align: middle;\n",
       "    }\n",
       "\n",
       "    .dataframe tbody tr th {\n",
       "        vertical-align: top;\n",
       "    }\n",
       "\n",
       "    .dataframe thead th {\n",
       "        text-align: right;\n",
       "    }\n",
       "</style>\n",
       "<table border=\"1\" class=\"dataframe\">\n",
       "  <thead>\n",
       "    <tr style=\"text-align: right;\">\n",
       "      <th></th>\n",
       "      <th>themes</th>\n",
       "      <th>process_id</th>\n",
       "      <th>file_name</th>\n",
       "      <th>document_type</th>\n",
       "      <th>pages</th>\n",
       "      <th>body</th>\n",
       "      <th>activation_path</th>\n",
       "      <th>is_valid</th>\n",
       "      <th>has_text</th>\n",
       "      <th>has_image</th>\n",
       "    </tr>\n",
       "  </thead>\n",
       "  <tbody>\n",
       "    <tr>\n",
       "      <th>0</th>\n",
       "      <td>NaN</td>\n",
       "      <td>ARE_1053618</td>\n",
       "      <td>ARE_1053618_311977154_1420_07062017_299.pdf</td>\n",
       "      <td>agravo_em_recurso_extraordinario</td>\n",
       "      <td>299</td>\n",
       "      <td>NaN</td>\n",
       "      <td>activations/img/val/agravo_em_recurso_extraordinario/ARE_1053618_311977154_1420_07062017_299</td>\n",
       "      <td>True</td>\n",
       "      <td>False</td>\n",
       "      <td>True</td>\n",
       "    </tr>\n",
       "    <tr>\n",
       "      <th>1</th>\n",
       "      <td>NaN</td>\n",
       "      <td>ARE_1053618</td>\n",
       "      <td>ARE_1053618_311977154_1420_07062017_288.pdf</td>\n",
       "      <td>agravo_em_recurso_extraordinario</td>\n",
       "      <td>288</td>\n",
       "      <td>NaN</td>\n",
       "      <td>activations/img/val/agravo_em_recurso_extraordinario/ARE_1053618_311977154_1420_07062017_288</td>\n",
       "      <td>True</td>\n",
       "      <td>False</td>\n",
       "      <td>True</td>\n",
       "    </tr>\n",
       "    <tr>\n",
       "      <th>2</th>\n",
       "      <td>NaN</td>\n",
       "      <td>ARE_1053618</td>\n",
       "      <td>ARE_1053618_311977154_1420_07062017_248.pdf</td>\n",
       "      <td>agravo_em_recurso_extraordinario</td>\n",
       "      <td>248</td>\n",
       "      <td>NaN</td>\n",
       "      <td>activations/img/val/agravo_em_recurso_extraordinario/ARE_1053618_311977154_1420_07062017_248</td>\n",
       "      <td>True</td>\n",
       "      <td>False</td>\n",
       "      <td>True</td>\n",
       "    </tr>\n",
       "    <tr>\n",
       "      <th>3</th>\n",
       "      <td>NaN</td>\n",
       "      <td>ARE_1064575</td>\n",
       "      <td>ARE_1064575_312350997_1420_03082017_54.pdf</td>\n",
       "      <td>agravo_em_recurso_extraordinario</td>\n",
       "      <td>54</td>\n",
       "      <td>NaN</td>\n",
       "      <td>activations/img/val/agravo_em_recurso_extraordinario/ARE_1064575_312350997_1420_03082017_54</td>\n",
       "      <td>True</td>\n",
       "      <td>False</td>\n",
       "      <td>True</td>\n",
       "    </tr>\n",
       "    <tr>\n",
       "      <th>4</th>\n",
       "      <td>NaN</td>\n",
       "      <td>ARE_1073427</td>\n",
       "      <td>ARE_1073427_312673900_1420_05092017_41.pdf</td>\n",
       "      <td>agravo_em_recurso_extraordinario</td>\n",
       "      <td>41</td>\n",
       "      <td>NaN</td>\n",
       "      <td>activations/img/val/agravo_em_recurso_extraordinario/ARE_1073427_312673900_1420_05092017_41</td>\n",
       "      <td>True</td>\n",
       "      <td>False</td>\n",
       "      <td>True</td>\n",
       "    </tr>\n",
       "  </tbody>\n",
       "</table>\n",
       "</div>"
      ],
      "text/plain": [
       "   themes   process_id                                    file_name  \\\n",
       "0     NaN  ARE_1053618  ARE_1053618_311977154_1420_07062017_299.pdf   \n",
       "1     NaN  ARE_1053618  ARE_1053618_311977154_1420_07062017_288.pdf   \n",
       "2     NaN  ARE_1053618  ARE_1053618_311977154_1420_07062017_248.pdf   \n",
       "3     NaN  ARE_1064575   ARE_1064575_312350997_1420_03082017_54.pdf   \n",
       "4     NaN  ARE_1073427   ARE_1073427_312673900_1420_05092017_41.pdf   \n",
       "\n",
       "                      document_type pages  body  \\\n",
       "0  agravo_em_recurso_extraordinario   299   NaN   \n",
       "1  agravo_em_recurso_extraordinario   288   NaN   \n",
       "2  agravo_em_recurso_extraordinario   248   NaN   \n",
       "3  agravo_em_recurso_extraordinario    54   NaN   \n",
       "4  agravo_em_recurso_extraordinario    41   NaN   \n",
       "\n",
       "                                                                                activation_path  \\\n",
       "0  activations/img/val/agravo_em_recurso_extraordinario/ARE_1053618_311977154_1420_07062017_299   \n",
       "1  activations/img/val/agravo_em_recurso_extraordinario/ARE_1053618_311977154_1420_07062017_288   \n",
       "2  activations/img/val/agravo_em_recurso_extraordinario/ARE_1053618_311977154_1420_07062017_248   \n",
       "3   activations/img/val/agravo_em_recurso_extraordinario/ARE_1064575_312350997_1420_03082017_54   \n",
       "4   activations/img/val/agravo_em_recurso_extraordinario/ARE_1073427_312673900_1420_05092017_41   \n",
       "\n",
       "   is_valid  has_text  has_image  \n",
       "0      True     False       True  \n",
       "1      True     False       True  \n",
       "2      True     False       True  \n",
       "3      True     False       True  \n",
       "4      True     False       True  "
      ]
     },
     "execution_count": 138,
     "metadata": {},
     "output_type": "execute_result"
    }
   ],
   "source": [
    "just_imgs_df = pd.DataFrame(just_imgs_dics, columns = data.columns); just_imgs_df.head()"
   ]
  },
  {
   "cell_type": "code",
   "execution_count": 139,
   "metadata": {},
   "outputs": [],
   "source": [
    "data = pd.concat([data, just_imgs_df])"
   ]
  },
  {
   "cell_type": "code",
   "execution_count": null,
   "metadata": {},
   "outputs": [],
   "source": [
    "data.head(1)"
   ]
  },
  {
   "cell_type": "code",
   "execution_count": 140,
   "metadata": {},
   "outputs": [
    {
     "data": {
      "text/html": [
       "<div>\n",
       "<style scoped>\n",
       "    .dataframe tbody tr th:only-of-type {\n",
       "        vertical-align: middle;\n",
       "    }\n",
       "\n",
       "    .dataframe tbody tr th {\n",
       "        vertical-align: top;\n",
       "    }\n",
       "\n",
       "    .dataframe thead th {\n",
       "        text-align: right;\n",
       "    }\n",
       "</style>\n",
       "<table border=\"1\" class=\"dataframe\">\n",
       "  <thead>\n",
       "    <tr style=\"text-align: right;\">\n",
       "      <th></th>\n",
       "      <th>themes</th>\n",
       "      <th>process_id</th>\n",
       "      <th>file_name</th>\n",
       "      <th>document_type</th>\n",
       "      <th>pages</th>\n",
       "      <th>body</th>\n",
       "      <th>activation_path</th>\n",
       "      <th>is_valid</th>\n",
       "      <th>has_text</th>\n",
       "      <th>has_image</th>\n",
       "    </tr>\n",
       "  </thead>\n",
       "  <tbody>\n",
       "    <tr>\n",
       "      <th>25807</th>\n",
       "      <td>NaN</td>\n",
       "      <td>RE_1054472</td>\n",
       "      <td>RE_1054472_311999156_12_16062017_15.pdf</td>\n",
       "      <td>peticao_do_RE</td>\n",
       "      <td>15</td>\n",
       "      <td>NaN</td>\n",
       "      <td>activations/img/train/peticao_do_RE/RE_1054472_311999156_12_16062017_15</td>\n",
       "      <td>False</td>\n",
       "      <td>False</td>\n",
       "      <td>True</td>\n",
       "    </tr>\n",
       "    <tr>\n",
       "      <th>25808</th>\n",
       "      <td>NaN</td>\n",
       "      <td>AI_856934</td>\n",
       "      <td>AI_856934_1926217_12_17072013_47.pdf</td>\n",
       "      <td>peticao_do_RE</td>\n",
       "      <td>47</td>\n",
       "      <td>NaN</td>\n",
       "      <td>activations/img/train/peticao_do_RE/AI_856934_1926217_12_17072013_47</td>\n",
       "      <td>False</td>\n",
       "      <td>False</td>\n",
       "      <td>True</td>\n",
       "    </tr>\n",
       "    <tr>\n",
       "      <th>25809</th>\n",
       "      <td>NaN</td>\n",
       "      <td>RE_1054472</td>\n",
       "      <td>RE_1054472_311999156_12_16062017_162.pdf</td>\n",
       "      <td>peticao_do_RE</td>\n",
       "      <td>162</td>\n",
       "      <td>NaN</td>\n",
       "      <td>activations/img/train/peticao_do_RE/RE_1054472_311999156_12_16062017_162</td>\n",
       "      <td>False</td>\n",
       "      <td>False</td>\n",
       "      <td>True</td>\n",
       "    </tr>\n",
       "    <tr>\n",
       "      <th>25810</th>\n",
       "      <td>NaN</td>\n",
       "      <td>RE_1054472</td>\n",
       "      <td>RE_1054472_311999156_12_16062017_27.pdf</td>\n",
       "      <td>peticao_do_RE</td>\n",
       "      <td>27</td>\n",
       "      <td>NaN</td>\n",
       "      <td>activations/img/train/peticao_do_RE/RE_1054472_311999156_12_16062017_27</td>\n",
       "      <td>False</td>\n",
       "      <td>False</td>\n",
       "      <td>True</td>\n",
       "    </tr>\n",
       "    <tr>\n",
       "      <th>25811</th>\n",
       "      <td>NaN</td>\n",
       "      <td>RE_1054472</td>\n",
       "      <td>RE_1054472_311999157_12_10062017_85.pdf</td>\n",
       "      <td>peticao_do_RE</td>\n",
       "      <td>85</td>\n",
       "      <td>NaN</td>\n",
       "      <td>activations/img/train/peticao_do_RE/RE_1054472_311999157_12_10062017_85</td>\n",
       "      <td>False</td>\n",
       "      <td>False</td>\n",
       "      <td>True</td>\n",
       "    </tr>\n",
       "  </tbody>\n",
       "</table>\n",
       "</div>"
      ],
      "text/plain": [
       "      themes  process_id                                 file_name  \\\n",
       "25807    NaN  RE_1054472   RE_1054472_311999156_12_16062017_15.pdf   \n",
       "25808    NaN   AI_856934      AI_856934_1926217_12_17072013_47.pdf   \n",
       "25809    NaN  RE_1054472  RE_1054472_311999156_12_16062017_162.pdf   \n",
       "25810    NaN  RE_1054472   RE_1054472_311999156_12_16062017_27.pdf   \n",
       "25811    NaN  RE_1054472   RE_1054472_311999157_12_10062017_85.pdf   \n",
       "\n",
       "       document_type pages body  \\\n",
       "25807  peticao_do_RE    15  NaN   \n",
       "25808  peticao_do_RE    47  NaN   \n",
       "25809  peticao_do_RE   162  NaN   \n",
       "25810  peticao_do_RE    27  NaN   \n",
       "25811  peticao_do_RE    85  NaN   \n",
       "\n",
       "                                                                activation_path  \\\n",
       "25807   activations/img/train/peticao_do_RE/RE_1054472_311999156_12_16062017_15   \n",
       "25808      activations/img/train/peticao_do_RE/AI_856934_1926217_12_17072013_47   \n",
       "25809  activations/img/train/peticao_do_RE/RE_1054472_311999156_12_16062017_162   \n",
       "25810   activations/img/train/peticao_do_RE/RE_1054472_311999156_12_16062017_27   \n",
       "25811   activations/img/train/peticao_do_RE/RE_1054472_311999157_12_10062017_85   \n",
       "\n",
       "       is_valid  has_text  has_image  \n",
       "25807     False     False       True  \n",
       "25808     False     False       True  \n",
       "25809     False     False       True  \n",
       "25810     False     False       True  \n",
       "25811     False     False       True  "
      ]
     },
     "execution_count": 140,
     "metadata": {},
     "output_type": "execute_result"
    }
   ],
   "source": [
    "data.tail()"
   ]
  },
  {
   "cell_type": "code",
   "execution_count": 118,
   "metadata": {},
   "outputs": [
    {
     "data": {
      "text/plain": [
       "(#359882) [Path('activations/img/val/agravo_em_recurso_extraordinario/ARE_783154_3660743_1420_09102014_1.pt'),Path('activations/img/val/agravo_em_recurso_extraordinario/ARE_1012920_310814938_1420_01122016_27.pt'),Path('activations/img/val/agravo_em_recurso_extraordinario/ARE_822006_4778600_1420_19062014_3.pt'),Path('activations/img/val/agravo_em_recurso_extraordinario/ARE_1053618_311977154_1420_07062017_299.pt'),Path('activations/img/val/agravo_em_recurso_extraordinario/ARE_821707_4770044_1420_19062014_4.pt'),Path('activations/img/val/agravo_em_recurso_extraordinario/ARE_1053618_311977154_1420_07062017_288.pt'),Path('activations/img/val/agravo_em_recurso_extraordinario/ARE_1019716_311062360_1420_17012017_15.pt'),Path('activations/img/val/agravo_em_recurso_extraordinario/ARE_1062700_312268503_1420_21072017_6.pt'),Path('activations/img/val/agravo_em_recurso_extraordinario/ARE_1053618_311977154_1420_07062017_248.pt'),Path('activations/img/val/agravo_em_recurso_extraordinario/ARE_1019823_311067464_1420_26012017_9.pt')...]"
      ]
     },
     "execution_count": 118,
     "metadata": {},
     "output_type": "execute_result"
    }
   ],
   "source": [
    "img_files"
   ]
  },
  {
   "cell_type": "code",
   "execution_count": 171,
   "metadata": {},
   "outputs": [],
   "source": [
    "class GetActs(Transform):\n",
    "    def encodes(self, x):        \n",
    "        img_file = text_file = None\n",
    "        \n",
    "        if x[\"has_text\"]:\n",
    "            text_file = Path(x[\"activation_path\"] + \".npy\")\n",
    "            if x[\"has_image\"]:\n",
    "                img_file = Path(text_file.as_posix().replace(\"text\", \"img\").replace(\"npy\", \"pt\"))\n",
    "        else:\n",
    "            img_file = Path(x[\"activation_path\"] + \".pt\")\n",
    "        \n",
    "        if img_file is None:\n",
    "            img_act = torch.zeros((4096))\n",
    "        else:\n",
    "            img_act = torch.load(img_file)\n",
    "                            \n",
    "        if text_file is None:\n",
    "            text_act = torch.zeros((3840))\n",
    "            text_none = True\n",
    "        else:\n",
    "            text_act = tensor(np.load(text_file))\n",
    "        \n",
    "        img_none = img_file == None\n",
    "        text_none = text_file == None\n",
    "                            \n",
    "        return (img_act, text_act, img_none, text_none)"
   ]
  },
  {
   "cell_type": "code",
   "execution_count": 172,
   "metadata": {},
   "outputs": [],
   "source": [
    "tfms = [[GetActs()], [ColReader(\"document_type\"), Categorize()]]\n",
    "splits = ColSplitter()(data)\n",
    "dsets = Datasets(data, tfms, splits=splits)\n",
    "dls = dsets.dataloaders()"
   ]
  },
  {
   "cell_type": "code",
   "execution_count": 173,
   "metadata": {},
   "outputs": [
    {
     "data": {
      "text/plain": [
       "((#162187) [((TensorImage([3.7440, 1.8218, 4.8144,  ..., 0.6569, 1.0708, 0.1497]), tensor([0.8860, 0.0000, 0.0000,  ..., 0.0000, 0.0000, 0.0000]), False, False), TensorCategory(3)),((TensorImage([3.7186, 1.4871, 3.9594,  ..., 0.8080, 0.4135, 0.4271]), tensor([0.8802, 0.0000, 0.0000,  ..., 0.0000, 0.0000, 0.0000]), False, False), TensorCategory(3)),((TensorImage([3.9172, 1.6114, 4.4490,  ..., 0.8543, 0.4038, 0.3799]), tensor([0., 0., 0.,  ..., 0., 0., 0.]), False, False), TensorCategory(3)),((TensorImage([2.9024, 1.0994, 3.7002,  ..., 0.6721, 0.0640, 0.9441]), tensor([0.5176, 0.0000, 0.0000,  ..., 0.0000, 0.0000, 0.0000]), False, False), TensorCategory(3)),((TensorImage([2.2220, 1.6094, 5.0237,  ..., 0.9245, 0.3397, 0.4138]), tensor([0., 0., 0.,  ..., 0., 0., 0.]), False, False), TensorCategory(3)),((TensorImage([2.4088, 1.0029, 6.2333,  ..., 1.3033, 0.4426, 0.6164]), tensor([0., 0., 0.,  ..., 0., 0., 0.]), False, False), TensorCategory(3)),((TensorImage([3.3910, 1.7982, 4.7816,  ..., 1.1123, 0.6784, 0.5278]), tensor([0.1684, 0.0000, 0.0000,  ..., 0.0000, 0.0000, 0.0000]), False, False), TensorCategory(3)),((TensorImage([2.7600, 1.5731, 4.0720,  ..., 1.0429, 0.3030, 0.6454]), tensor([0.6583, 0.0000, 0.0000,  ..., 0.0000, 0.0000, 0.0000]), False, False), TensorCategory(3)),((TensorImage([2.3991, 1.5053, 5.5177,  ..., 1.0966, 0.4655, 0.6044]), tensor([1.6128, 0.0000, 0.0000,  ..., 0.0000, 0.0000, 0.0000]), False, False), TensorCategory(3)),((TensorImage([2.7585, 1.5423, 2.8180,  ..., 0.6653, 0.2818, 0.5234]), tensor([0.4302, 0.0000, 0.0000,  ..., 0.0000, 0.0000, 0.0000]), False, False), TensorCategory(3))...],\n",
       " (#107577) [((TensorImage([4.5812, 1.9458, 5.5221,  ..., 0.5213, 1.7862, 0.0139]), tensor([0.0000, 0.2037, 0.0000,  ..., 0.0000, 0.0000, 0.0000]), False, False), TensorCategory(3)),((TensorImage([4.1800, 1.6795, 3.4099,  ..., 0.2005, 1.3705, 0.1226]), tensor([0.1059, 0.0000, 0.0000,  ..., 0.0000, 0.0000, 0.0000]), False, False), TensorCategory(3)),((TensorImage([4.5380, 1.9887, 4.5759,  ..., 0.5594, 1.7871, 0.0179]), tensor([0.0000, 0.1578, 0.0000,  ..., 0.0000, 0.0000, 0.0000]), False, False), TensorCategory(3)),((TensorImage([2.3186, 1.4105, 5.7370,  ..., 0.8736, 1.2604, 0.3830]), tensor([0.8702, 0.0000, 0.0000,  ..., 0.0000, 0.0000, 0.0000]), False, False), TensorCategory(3)),((TensorImage([3.0774, 1.4793, 4.0583,  ..., 0.8157, 0.4764, 0.4746]), tensor([1.3430, 0.3427, 0.0000,  ..., 0.0000, 0.0000, 0.0000]), False, False), TensorCategory(3)),((TensorImage([3.0334, 2.0610, 6.2483,  ..., 0.9259, 1.4440, 0.6120]), tensor([0.3347, 0.0000, 0.0000,  ..., 0.0000, 0.0000, 0.0000]), False, False), TensorCategory(3)),((TensorImage([3.2589, 1.5630, 4.0337,  ..., 1.0172, 1.2370, 0.4093]), tensor([0.3048, 0.0000, 0.0000,  ..., 0.0000, 0.0000, 0.0000]), False, False), TensorCategory(3)),((TensorImage([3.5553, 1.6409, 5.2064,  ..., 0.9159, 1.6204, 0.5529]), tensor([0.5551, 0.4784, 0.0000,  ..., 0.0000, 0.0000, 0.0000]), False, False), TensorCategory(3)),((TensorImage([3.1944, 1.5623, 4.5085,  ..., 1.1976, 1.0048, 0.4509]), tensor([0.6838, 0.0000, 0.0000,  ..., 0.0000, 0.0000, 0.0000]), False, False), TensorCategory(3)),((TensorImage([3.0264, 1.5876, 5.3513,  ..., 1.3376, 1.3209, 0.8124]), tensor([0.8600, 0.0000, 0.0000,  ..., 0.0000, 0.0000, 0.0000]), False, False), TensorCategory(3))...])"
      ]
     },
     "execution_count": 173,
     "metadata": {},
     "output_type": "execute_result"
    }
   ],
   "source": [
    "dls.train_ds, dls.valid_ds"
   ]
  },
  {
   "cell_type": "code",
   "execution_count": 174,
   "metadata": {},
   "outputs": [],
   "source": [
    "torch.save(dls, \"./data/fusion_dl_v2.pth\")"
   ]
  },
  {
   "cell_type": "code",
   "execution_count": 175,
   "metadata": {},
   "outputs": [],
   "source": [
    "class ImgTextFusion(Module):\n",
    "    def __init__(self, head, embs_for_none=True, img_emb_dim=4096, text_emb_dim=3840):\n",
    "        self.head = head.cuda()\n",
    "        self.embs_for_none = embs_for_none\n",
    "        if embs_for_none:\n",
    "            self.img_none_emb = torch.nn.Embedding(num_embeddings=1, embedding_dim=img_emb_dim).cuda()\n",
    "            self.text_none_emb = torch.nn.Embedding(num_embeddings=1, embedding_dim=text_emb_dim).cuda()\n",
    "            self.index= tensor(0).cuda()\n",
    "    \n",
    "    def forward(self, x):\n",
    "        img_act, text_act, img_none, text_none = x\n",
    "        if self.embs_for_none:\n",
    "            img_act[img_none] = self.img_none_emb(self.index)\n",
    "            text_act[text_none] = self.text_none_emb(self.index)\n",
    "        return self.head(torch.cat([img_act, text_act], axis=-1))"
   ]
  },
  {
   "cell_type": "code",
   "execution_count": 176,
   "metadata": {},
   "outputs": [],
   "source": [
    "def create_head(nf, n_out, lin_ftrs=None, ps=0.5, bn_final=False, lin_first=False):\n",
    "    \"Model head that takes `nf` features, runs through `lin_ftrs`, and out `n_out` classes.\"\n",
    "    lin_ftrs = [nf, 512, n_out] if lin_ftrs is None else [nf] + lin_ftrs + [n_out]\n",
    "    ps = L(ps)\n",
    "    if len(ps) == 1: ps = [ps[0]/2] * (len(lin_ftrs)-2) + ps\n",
    "    actns = [nn.ReLU(inplace=True)] * (len(lin_ftrs)-2) + [None]\n",
    "    layers = []\n",
    "    if lin_first: layers.append(nn.Dropout(ps.pop(0)))\n",
    "    for ni,no,p,actn in zip(lin_ftrs[:-1], lin_ftrs[1:], ps, actns):\n",
    "        layers += LinBnDrop(ni, no, bn=True, p=p, act=actn, lin_first=lin_first)\n",
    "    if lin_first: layers.append(nn.Linear(lin_ftrs[-2], n_out))\n",
    "    if bn_final: layers.append(nn.BatchNorm1d(lin_ftrs[-1], momentum=0.01))\n",
    "    return nn.Sequential(*layers)"
   ]
  },
  {
   "cell_type": "code",
   "execution_count": 177,
   "metadata": {},
   "outputs": [],
   "source": [
    "head = create_head(4096 + 3840, OUT_DIM)"
   ]
  },
  {
   "cell_type": "code",
   "execution_count": 178,
   "metadata": {},
   "outputs": [],
   "source": [
    "model = ImgTextFusion(head)"
   ]
  },
  {
   "cell_type": "code",
   "execution_count": 179,
   "metadata": {},
   "outputs": [],
   "source": [
    "def loss_func(out, targ):\n",
    "    return CrossEntropyLossFlat()(out, targ.long())"
   ]
  },
  {
   "cell_type": "code",
   "execution_count": 180,
   "metadata": {},
   "outputs": [],
   "source": [
    "fscore = F1Score(average='macro')"
   ]
  },
  {
   "cell_type": "code",
   "execution_count": 181,
   "metadata": {},
   "outputs": [],
   "source": [
    "learn = Learner(dls, model, loss_func=loss_func, metrics=[accuracy, fscore])"
   ]
  },
  {
   "cell_type": "code",
   "execution_count": 182,
   "metadata": {},
   "outputs": [
    {
     "data": {
      "text/html": [
       "<table border=\"1\" class=\"dataframe\">\n",
       "  <thead>\n",
       "    <tr style=\"text-align: left;\">\n",
       "      <th>epoch</th>\n",
       "      <th>train_loss</th>\n",
       "      <th>valid_loss</th>\n",
       "      <th>accuracy</th>\n",
       "      <th>f1_score</th>\n",
       "      <th>time</th>\n",
       "    </tr>\n",
       "  </thead>\n",
       "  <tbody>\n",
       "    <tr>\n",
       "      <td>0</td>\n",
       "      <td>None</td>\n",
       "      <td>None</td>\n",
       "      <td>None</td>\n",
       "      <td>00:01</td>\n",
       "    </tr>\n",
       "  </tbody>\n",
       "</table>"
      ],
      "text/plain": [
       "<IPython.core.display.HTML object>"
      ]
     },
     "metadata": {},
     "output_type": "display_data"
    },
    {
     "data": {
      "text/plain": [
       "ImgTextFusion (Input shape: [\"['64 x 4096', '64 x 3840', '64', '64']\"])\n",
       "================================================================\n",
       "Layer (type)         Output Shape         Param #    Trainable \n",
       "================================================================\n",
       "BatchNorm1d          64 x 7936            15,872     True      \n",
       "________________________________________________________________\n",
       "Dropout              64 x 7936            0          False     \n",
       "________________________________________________________________\n",
       "Linear               64 x 512             4,063,232  True      \n",
       "________________________________________________________________\n",
       "ReLU                 64 x 512             0          False     \n",
       "________________________________________________________________\n",
       "BatchNorm1d          64 x 512             1,024      True      \n",
       "________________________________________________________________\n",
       "Dropout              64 x 512             0          False     \n",
       "________________________________________________________________\n",
       "Linear               64 x 6               3,072      True      \n",
       "________________________________________________________________\n",
       "Embedding            64                   4,096      True      \n",
       "________________________________________________________________\n",
       "Embedding            64                   3,840      True      \n",
       "________________________________________________________________\n",
       "\n",
       "Total params: 4,091,136\n",
       "Total trainable params: 4,091,136\n",
       "Total non-trainable params: 0\n",
       "\n",
       "Optimizer used: <function Adam at 0x7f15a01621f0>\n",
       "Loss function: <function loss_func at 0x7f153ec00670>\n",
       "\n",
       "Callbacks:\n",
       "  - TrainEvalCallback\n",
       "  - Recorder\n",
       "  - ProgressCallback"
      ]
     },
     "execution_count": 182,
     "metadata": {},
     "output_type": "execute_result"
    }
   ],
   "source": [
    "learn.summary()"
   ]
  },
  {
   "cell_type": "code",
   "execution_count": 183,
   "metadata": {},
   "outputs": [
    {
     "data": {
      "text/html": [],
      "text/plain": [
       "<IPython.core.display.HTML object>"
      ]
     },
     "metadata": {},
     "output_type": "display_data"
    },
    {
     "data": {
      "text/plain": [
       "(#3) [1.6943942308425903,0.09466707706451416,0.03669096179894526]"
      ]
     },
     "execution_count": 183,
     "metadata": {},
     "output_type": "execute_result"
    }
   ],
   "source": [
    "learn.validate()"
   ]
  },
  {
   "cell_type": "code",
   "execution_count": 184,
   "metadata": {},
   "outputs": [
    {
     "data": {
      "text/html": [],
      "text/plain": [
       "<IPython.core.display.HTML object>"
      ]
     },
     "metadata": {},
     "output_type": "display_data"
    },
    {
     "data": {
      "text/plain": [
       "SuggestedLRs(lr_min=0.012022644281387329, lr_steep=0.2089296132326126)"
      ]
     },
     "execution_count": 184,
     "metadata": {},
     "output_type": "execute_result"
    },
    {
     "data": {
      "image/png": "[encoded data removed]",
      "text/plain": [
       "<Figure size 432x288 with 1 Axes>"
      ]
     },
     "metadata": {
      "needs_background": "light"
     },
     "output_type": "display_data"
    }
   ],
   "source": [
    "learn.lr_find()"
   ]
  },
  {
   "cell_type": "code",
   "execution_count": 185,
   "metadata": {},
   "outputs": [],
   "source": [
    "learn.add_cbs([SaveModelCallback(monitor='f1_score', fname='best_fusion'),\n",
    "                                       ShowGraphCallback()])"
   ]
  },
  {
   "cell_type": "code",
   "execution_count": 186,
   "metadata": {},
   "outputs": [
    {
     "data": {
      "text/html": [
       "<table border=\"1\" class=\"dataframe\">\n",
       "  <thead>\n",
       "    <tr style=\"text-align: left;\">\n",
       "      <th>epoch</th>\n",
       "      <th>train_loss</th>\n",
       "      <th>valid_loss</th>\n",
       "      <th>accuracy</th>\n",
       "      <th>f1_score</th>\n",
       "      <th>time</th>\n",
       "    </tr>\n",
       "  </thead>\n",
       "  <tbody>\n",
       "    <tr>\n",
       "      <td>0</td>\n",
       "      <td>0.128080</td>\n",
       "      <td>0.376940</td>\n",
       "      <td>0.930515</td>\n",
       "      <td>0.673239</td>\n",
       "      <td>22:10</td>\n",
       "    </tr>\n",
       "    <tr>\n",
       "      <td>1</td>\n",
       "      <td>0.259625</td>\n",
       "      <td>4.643151</td>\n",
       "      <td>0.935628</td>\n",
       "      <td>0.593583</td>\n",
       "      <td>17:35</td>\n",
       "    </tr>\n",
       "    <tr>\n",
       "      <td>2</td>\n",
       "      <td>0.259196</td>\n",
       "      <td>7.071113</td>\n",
       "      <td>0.934679</td>\n",
       "      <td>0.564520</td>\n",
       "      <td>16:09</td>\n",
       "    </tr>\n",
       "    <tr>\n",
       "      <td>3</td>\n",
       "      <td>0.194966</td>\n",
       "      <td>20.239988</td>\n",
       "      <td>0.924445</td>\n",
       "      <td>0.588218</td>\n",
       "      <td>14:37</td>\n",
       "    </tr>\n",
       "    <tr>\n",
       "      <td>4</td>\n",
       "      <td>0.214672</td>\n",
       "      <td>3.702258</td>\n",
       "      <td>0.930664</td>\n",
       "      <td>0.701053</td>\n",
       "      <td>13:59</td>\n",
       "    </tr>\n",
       "    <tr>\n",
       "      <td>5</td>\n",
       "      <td>0.153157</td>\n",
       "      <td>1.452543</td>\n",
       "      <td>0.935525</td>\n",
       "      <td>0.654564</td>\n",
       "      <td>13:26</td>\n",
       "    </tr>\n",
       "    <tr>\n",
       "      <td>6</td>\n",
       "      <td>0.116569</td>\n",
       "      <td>0.977983</td>\n",
       "      <td>0.936185</td>\n",
       "      <td>0.688334</td>\n",
       "      <td>14:41</td>\n",
       "    </tr>\n",
       "    <tr>\n",
       "      <td>7</td>\n",
       "      <td>0.091932</td>\n",
       "      <td>5.964290</td>\n",
       "      <td>0.927522</td>\n",
       "      <td>0.712456</td>\n",
       "      <td>14:30</td>\n",
       "    </tr>\n",
       "    <tr>\n",
       "      <td>8</td>\n",
       "      <td>0.074515</td>\n",
       "      <td>1.087495</td>\n",
       "      <td>0.936139</td>\n",
       "      <td>0.731367</td>\n",
       "      <td>13:43</td>\n",
       "    </tr>\n",
       "    <tr>\n",
       "      <td>9</td>\n",
       "      <td>0.079861</td>\n",
       "      <td>2.625897</td>\n",
       "      <td>0.936613</td>\n",
       "      <td>0.738508</td>\n",
       "      <td>12:44</td>\n",
       "    </tr>\n",
       "  </tbody>\n",
       "</table>"
      ],
      "text/plain": [
       "<IPython.core.display.HTML object>"
      ]
     },
     "metadata": {},
     "output_type": "display_data"
    },
    {
     "name": "stdout",
     "output_type": "stream",
     "text": [
      "Better model found at epoch 0 with f1_score value: 0.6732394603330469.\n"
     ]
    },
    {
     "data": {
      "image/png": "[encoded data removed]",
      "text/plain": [
       "<Figure size 432x288 with 1 Axes>"
      ]
     },
     "metadata": {},
     "output_type": "display_data"
    },
    {
     "name": "stdout",
     "output_type": "stream",
     "text": [
      "Better model found at epoch 4 with f1_score value: 0.7010530291305989.\n",
      "Better model found at epoch 7 with f1_score value: 0.7124561589622583.\n",
      "Better model found at epoch 8 with f1_score value: 0.7313674419110675.\n",
      "Better model found at epoch 9 with f1_score value: 0.7385077177764918.\n"
     ]
    }
   ],
   "source": [
    "learn.fit_one_cycle(10, lr_max=5e-2)"
   ]
  },
  {
   "cell_type": "code",
   "execution_count": 187,
   "metadata": {},
   "outputs": [],
   "source": [
    "head = create_head(4096 + 3840, OUT_DIM, lin_ftrs=[128])"
   ]
  },
  {
   "cell_type": "code",
   "execution_count": 188,
   "metadata": {},
   "outputs": [],
   "source": [
    "model = ImgTextFusion(head)"
   ]
  },
  {
   "cell_type": "code",
   "execution_count": 189,
   "metadata": {},
   "outputs": [],
   "source": [
    "learn = Learner(dls, model, loss_func=loss_func, metrics=[accuracy, fscore])"
   ]
  },
  {
   "cell_type": "code",
   "execution_count": 190,
   "metadata": {},
   "outputs": [
    {
     "data": {
      "text/html": [
       "<table border=\"1\" class=\"dataframe\">\n",
       "  <thead>\n",
       "    <tr style=\"text-align: left;\">\n",
       "      <th>epoch</th>\n",
       "      <th>train_loss</th>\n",
       "      <th>valid_loss</th>\n",
       "      <th>accuracy</th>\n",
       "      <th>f1_score</th>\n",
       "      <th>time</th>\n",
       "    </tr>\n",
       "  </thead>\n",
       "  <tbody>\n",
       "    <tr>\n",
       "      <td>0</td>\n",
       "      <td>None</td>\n",
       "      <td>None</td>\n",
       "      <td>None</td>\n",
       "      <td>00:00</td>\n",
       "    </tr>\n",
       "  </tbody>\n",
       "</table>"
      ],
      "text/plain": [
       "<IPython.core.display.HTML object>"
      ]
     },
     "metadata": {},
     "output_type": "display_data"
    },
    {
     "data": {
      "text/plain": [
       "ImgTextFusion (Input shape: [\"['64 x 4096', '64 x 3840', '64', '64']\"])\n",
       "================================================================\n",
       "Layer (type)         Output Shape         Param #    Trainable \n",
       "================================================================\n",
       "BatchNorm1d          64 x 7936            15,872     True      \n",
       "________________________________________________________________\n",
       "Dropout              64 x 7936            0          False     \n",
       "________________________________________________________________\n",
       "Linear               64 x 128             1,015,808  True      \n",
       "________________________________________________________________\n",
       "ReLU                 64 x 128             0          False     \n",
       "________________________________________________________________\n",
       "BatchNorm1d          64 x 128             256        True      \n",
       "________________________________________________________________\n",
       "Dropout              64 x 128             0          False     \n",
       "________________________________________________________________\n",
       "Linear               64 x 6               768        True      \n",
       "________________________________________________________________\n",
       "Embedding            64                   4,096      True      \n",
       "________________________________________________________________\n",
       "Embedding            64                   3,840      True      \n",
       "________________________________________________________________\n",
       "\n",
       "Total params: 1,040,640\n",
       "Total trainable params: 1,040,640\n",
       "Total non-trainable params: 0\n",
       "\n",
       "Optimizer used: <function Adam at 0x7f15a01621f0>\n",
       "Loss function: <function loss_func at 0x7f153ec00670>\n",
       "\n",
       "Callbacks:\n",
       "  - TrainEvalCallback\n",
       "  - Recorder\n",
       "  - ProgressCallback"
      ]
     },
     "execution_count": 190,
     "metadata": {},
     "output_type": "execute_result"
    }
   ],
   "source": [
    "learn.summary()"
   ]
  },
  {
   "cell_type": "code",
   "execution_count": 191,
   "metadata": {},
   "outputs": [
    {
     "data": {
      "text/html": [],
      "text/plain": [
       "<IPython.core.display.HTML object>"
      ]
     },
     "metadata": {},
     "output_type": "display_data"
    },
    {
     "data": {
      "text/plain": [
       "SuggestedLRs(lr_min=0.03630780577659607, lr_steep=0.04786301031708717)"
      ]
     },
     "execution_count": 191,
     "metadata": {},
     "output_type": "execute_result"
    },
    {
     "data": {
      "image/png": "[encoded data removed]",
      "text/plain": [
       "<Figure size 432x288 with 1 Axes>"
      ]
     },
     "metadata": {
      "needs_background": "light"
     },
     "output_type": "display_data"
    }
   ],
   "source": [
    "learn.lr_find()"
   ]
  },
  {
   "cell_type": "code",
   "execution_count": 192,
   "metadata": {},
   "outputs": [],
   "source": [
    "learn.add_cbs([SaveModelCallback(monitor='f1_score', fname='best_fusion_128'),\n",
    "                                       ShowGraphCallback()])"
   ]
  },
  {
   "cell_type": "code",
   "execution_count": 193,
   "metadata": {},
   "outputs": [
    {
     "data": {
      "text/html": [
       "<table border=\"1\" class=\"dataframe\">\n",
       "  <thead>\n",
       "    <tr style=\"text-align: left;\">\n",
       "      <th>epoch</th>\n",
       "      <th>train_loss</th>\n",
       "      <th>valid_loss</th>\n",
       "      <th>accuracy</th>\n",
       "      <th>f1_score</th>\n",
       "      <th>time</th>\n",
       "    </tr>\n",
       "  </thead>\n",
       "  <tbody>\n",
       "    <tr>\n",
       "      <td>0</td>\n",
       "      <td>0.114972</td>\n",
       "      <td>0.332803</td>\n",
       "      <td>0.931426</td>\n",
       "      <td>0.645706</td>\n",
       "      <td>13:49</td>\n",
       "    </tr>\n",
       "    <tr>\n",
       "      <td>1</td>\n",
       "      <td>0.163148</td>\n",
       "      <td>1.714100</td>\n",
       "      <td>0.938323</td>\n",
       "      <td>0.715122</td>\n",
       "      <td>13:59</td>\n",
       "    </tr>\n",
       "    <tr>\n",
       "      <td>2</td>\n",
       "      <td>0.170105</td>\n",
       "      <td>0.599583</td>\n",
       "      <td>0.935544</td>\n",
       "      <td>0.685921</td>\n",
       "      <td>12:05</td>\n",
       "    </tr>\n",
       "    <tr>\n",
       "      <td>3</td>\n",
       "      <td>0.169546</td>\n",
       "      <td>0.417187</td>\n",
       "      <td>0.939903</td>\n",
       "      <td>0.721484</td>\n",
       "      <td>12:33</td>\n",
       "    </tr>\n",
       "    <tr>\n",
       "      <td>4</td>\n",
       "      <td>0.131899</td>\n",
       "      <td>0.387624</td>\n",
       "      <td>0.927633</td>\n",
       "      <td>0.683539</td>\n",
       "      <td>14:18</td>\n",
       "    </tr>\n",
       "    <tr>\n",
       "      <td>5</td>\n",
       "      <td>0.121839</td>\n",
       "      <td>0.362846</td>\n",
       "      <td>0.934782</td>\n",
       "      <td>0.740932</td>\n",
       "      <td>13:04</td>\n",
       "    </tr>\n",
       "    <tr>\n",
       "      <td>6</td>\n",
       "      <td>0.106399</td>\n",
       "      <td>0.323559</td>\n",
       "      <td>0.935655</td>\n",
       "      <td>0.734617</td>\n",
       "      <td>12:13</td>\n",
       "    </tr>\n",
       "    <tr>\n",
       "      <td>7</td>\n",
       "      <td>0.091403</td>\n",
       "      <td>0.321372</td>\n",
       "      <td>0.940452</td>\n",
       "      <td>0.750716</td>\n",
       "      <td>14:15</td>\n",
       "    </tr>\n",
       "    <tr>\n",
       "      <td>8</td>\n",
       "      <td>0.076669</td>\n",
       "      <td>0.342724</td>\n",
       "      <td>0.935581</td>\n",
       "      <td>0.751590</td>\n",
       "      <td>12:49</td>\n",
       "    </tr>\n",
       "    <tr>\n",
       "      <td>9</td>\n",
       "      <td>0.071246</td>\n",
       "      <td>0.339889</td>\n",
       "      <td>0.935562</td>\n",
       "      <td>0.752328</td>\n",
       "      <td>11:37</td>\n",
       "    </tr>\n",
       "  </tbody>\n",
       "</table>"
      ],
      "text/plain": [
       "<IPython.core.display.HTML object>"
      ]
     },
     "metadata": {},
     "output_type": "display_data"
    },
    {
     "name": "stdout",
     "output_type": "stream",
     "text": [
      "Better model found at epoch 0 with f1_score value: 0.6457063643963779.\n"
     ]
    },
    {
     "data": {
      "image/png": "[encoded data removed]",
      "text/plain": [
       "<Figure size 432x288 with 1 Axes>"
      ]
     },
     "metadata": {},
     "output_type": "display_data"
    },
    {
     "name": "stdout",
     "output_type": "stream",
     "text": [
      "Better model found at epoch 1 with f1_score value: 0.7151217600878655.\n",
      "Better model found at epoch 3 with f1_score value: 0.7214844427664984.\n",
      "Better model found at epoch 5 with f1_score value: 0.7409323321314533.\n",
      "Better model found at epoch 7 with f1_score value: 0.7507155787127314.\n",
      "Better model found at epoch 8 with f1_score value: 0.7515901577508828.\n",
      "Better model found at epoch 9 with f1_score value: 0.7523279263195454.\n"
     ]
    }
   ],
   "source": [
    "learn.fit_one_cycle(10, lr_max=5e-2)"
   ]
  },
  {
   "cell_type": "code",
   "execution_count": 194,
   "metadata": {},
   "outputs": [],
   "source": [
    "head = create_head(4096 + 3840, OUT_DIM, lin_ftrs=[128])"
   ]
  },
  {
   "cell_type": "code",
   "execution_count": 195,
   "metadata": {},
   "outputs": [],
   "source": [
    "model = ImgTextFusion(head, embs_for_none=False)"
   ]
  },
  {
   "cell_type": "code",
   "execution_count": 196,
   "metadata": {},
   "outputs": [],
   "source": [
    "learn = Learner(dls, model, loss_func=loss_func, metrics=[accuracy, fscore])"
   ]
  },
  {
   "cell_type": "code",
   "execution_count": 197,
   "metadata": {},
   "outputs": [
    {
     "data": {
      "text/html": [
       "<table border=\"1\" class=\"dataframe\">\n",
       "  <thead>\n",
       "    <tr style=\"text-align: left;\">\n",
       "      <th>epoch</th>\n",
       "      <th>train_loss</th>\n",
       "      <th>valid_loss</th>\n",
       "      <th>accuracy</th>\n",
       "      <th>f1_score</th>\n",
       "      <th>time</th>\n",
       "    </tr>\n",
       "  </thead>\n",
       "  <tbody>\n",
       "    <tr>\n",
       "      <td>0</td>\n",
       "      <td>None</td>\n",
       "      <td>None</td>\n",
       "      <td>None</td>\n",
       "      <td>00:00</td>\n",
       "    </tr>\n",
       "  </tbody>\n",
       "</table>"
      ],
      "text/plain": [
       "<IPython.core.display.HTML object>"
      ]
     },
     "metadata": {},
     "output_type": "display_data"
    },
    {
     "data": {
      "text/plain": [
       "ImgTextFusion (Input shape: [\"['64 x 4096', '64 x 3840', '64', '64']\"])\n",
       "================================================================\n",
       "Layer (type)         Output Shape         Param #    Trainable \n",
       "================================================================\n",
       "BatchNorm1d          64 x 7936            15,872     True      \n",
       "________________________________________________________________\n",
       "Dropout              64 x 7936            0          False     \n",
       "________________________________________________________________\n",
       "Linear               64 x 128             1,015,808  True      \n",
       "________________________________________________________________\n",
       "ReLU                 64 x 128             0          False     \n",
       "________________________________________________________________\n",
       "BatchNorm1d          64 x 128             256        True      \n",
       "________________________________________________________________\n",
       "Dropout              64 x 128             0          False     \n",
       "________________________________________________________________\n",
       "Linear               64 x 6               768        True      \n",
       "________________________________________________________________\n",
       "\n",
       "Total params: 1,032,704\n",
       "Total trainable params: 1,032,704\n",
       "Total non-trainable params: 0\n",
       "\n",
       "Optimizer used: <function Adam at 0x7f15a01621f0>\n",
       "Loss function: <function loss_func at 0x7f153ec00670>\n",
       "\n",
       "Callbacks:\n",
       "  - TrainEvalCallback\n",
       "  - Recorder\n",
       "  - ProgressCallback"
      ]
     },
     "execution_count": 197,
     "metadata": {},
     "output_type": "execute_result"
    }
   ],
   "source": [
    "learn.summary()"
   ]
  },
  {
   "cell_type": "code",
   "execution_count": 198,
   "metadata": {},
   "outputs": [
    {
     "data": {
      "text/html": [],
      "text/plain": [
       "<IPython.core.display.HTML object>"
      ]
     },
     "metadata": {},
     "output_type": "display_data"
    },
    {
     "data": {
      "text/plain": [
       "SuggestedLRs(lr_min=0.07585775852203369, lr_steep=0.03981071710586548)"
      ]
     },
     "execution_count": 198,
     "metadata": {},
     "output_type": "execute_result"
    },
    {
     "data": {
      "image/png": "[encoded data removed]",
      "text/plain": [
       "<Figure size 432x288 with 1 Axes>"
      ]
     },
     "metadata": {
      "needs_background": "light"
     },
     "output_type": "display_data"
    }
   ],
   "source": [
    "learn.lr_find()"
   ]
  },
  {
   "cell_type": "code",
   "execution_count": 199,
   "metadata": {},
   "outputs": [],
   "source": [
    "learn.add_cbs([SaveModelCallback(monitor='f1_score', fname='best_fusion_zeros_128'),\n",
    "                                       ShowGraphCallback()])"
   ]
  },
  {
   "cell_type": "code",
   "execution_count": 200,
   "metadata": {},
   "outputs": [
    {
     "data": {
      "text/html": [
       "<table border=\"1\" class=\"dataframe\">\n",
       "  <thead>\n",
       "    <tr style=\"text-align: left;\">\n",
       "      <th>epoch</th>\n",
       "      <th>train_loss</th>\n",
       "      <th>valid_loss</th>\n",
       "      <th>accuracy</th>\n",
       "      <th>f1_score</th>\n",
       "      <th>time</th>\n",
       "    </tr>\n",
       "  </thead>\n",
       "  <tbody>\n",
       "    <tr>\n",
       "      <td>0</td>\n",
       "      <td>0.110151</td>\n",
       "      <td>0.338478</td>\n",
       "      <td>0.938240</td>\n",
       "      <td>0.694480</td>\n",
       "      <td>13:15</td>\n",
       "    </tr>\n",
       "    <tr>\n",
       "      <td>1</td>\n",
       "      <td>0.148982</td>\n",
       "      <td>41.343945</td>\n",
       "      <td>0.911403</td>\n",
       "      <td>0.659699</td>\n",
       "      <td>13:19</td>\n",
       "    </tr>\n",
       "    <tr>\n",
       "      <td>2</td>\n",
       "      <td>0.155948</td>\n",
       "      <td>215.246307</td>\n",
       "      <td>0.927122</td>\n",
       "      <td>0.680936</td>\n",
       "      <td>10:55</td>\n",
       "    </tr>\n",
       "    <tr>\n",
       "      <td>3</td>\n",
       "      <td>0.137429</td>\n",
       "      <td>362.502319</td>\n",
       "      <td>0.934057</td>\n",
       "      <td>0.632382</td>\n",
       "      <td>13:12</td>\n",
       "    </tr>\n",
       "    <tr>\n",
       "      <td>4</td>\n",
       "      <td>0.145068</td>\n",
       "      <td>7.358563</td>\n",
       "      <td>0.921080</td>\n",
       "      <td>0.667720</td>\n",
       "      <td>13:02</td>\n",
       "    </tr>\n",
       "    <tr>\n",
       "      <td>5</td>\n",
       "      <td>0.127022</td>\n",
       "      <td>23.239586</td>\n",
       "      <td>0.928507</td>\n",
       "      <td>0.704048</td>\n",
       "      <td>10:28</td>\n",
       "    </tr>\n",
       "    <tr>\n",
       "      <td>6</td>\n",
       "      <td>0.101358</td>\n",
       "      <td>42.332283</td>\n",
       "      <td>0.931268</td>\n",
       "      <td>0.670323</td>\n",
       "      <td>13:17</td>\n",
       "    </tr>\n",
       "    <tr>\n",
       "      <td>7</td>\n",
       "      <td>0.084311</td>\n",
       "      <td>99.997772</td>\n",
       "      <td>0.936278</td>\n",
       "      <td>0.687305</td>\n",
       "      <td>10:26</td>\n",
       "    </tr>\n",
       "    <tr>\n",
       "      <td>8</td>\n",
       "      <td>0.077231</td>\n",
       "      <td>104.628609</td>\n",
       "      <td>0.926964</td>\n",
       "      <td>0.671258</td>\n",
       "      <td>12:58</td>\n",
       "    </tr>\n",
       "    <tr>\n",
       "      <td>9</td>\n",
       "      <td>0.073783</td>\n",
       "      <td>52.623348</td>\n",
       "      <td>0.929725</td>\n",
       "      <td>0.672483</td>\n",
       "      <td>10:11</td>\n",
       "    </tr>\n",
       "  </tbody>\n",
       "</table>"
      ],
      "text/plain": [
       "<IPython.core.display.HTML object>"
      ]
     },
     "metadata": {},
     "output_type": "display_data"
    },
    {
     "name": "stdout",
     "output_type": "stream",
     "text": [
      "Better model found at epoch 0 with f1_score value: 0.6944795091884797.\n"
     ]
    },
    {
     "data": {
      "image/png": "[encoded data removed]",
      "text/plain": [
       "<Figure size 432x288 with 1 Axes>"
      ]
     },
     "metadata": {},
     "output_type": "display_data"
    },
    {
     "name": "stdout",
     "output_type": "stream",
     "text": [
      "Better model found at epoch 5 with f1_score value: 0.7040480614849526.\n"
     ]
    }
   ],
   "source": [
    "learn.fit_one_cycle(10, lr_max=5e-2)"
   ]
  },
  {
   "cell_type": "code",
   "execution_count": 201,
   "metadata": {},
   "outputs": [],
   "source": [
    "head = create_head(4096 + 3840, OUT_DIM)"
   ]
  },
  {
   "cell_type": "code",
   "execution_count": 202,
   "metadata": {},
   "outputs": [],
   "source": [
    "model = ImgTextFusion(head, embs_for_none=False)"
   ]
  },
  {
   "cell_type": "code",
   "execution_count": 203,
   "metadata": {},
   "outputs": [],
   "source": [
    "learn = Learner(dls, model, loss_func=loss_func, metrics=[accuracy, fscore])"
   ]
  },
  {
   "cell_type": "code",
   "execution_count": 204,
   "metadata": {},
   "outputs": [
    {
     "data": {
      "text/html": [
       "<table border=\"1\" class=\"dataframe\">\n",
       "  <thead>\n",
       "    <tr style=\"text-align: left;\">\n",
       "      <th>epoch</th>\n",
       "      <th>train_loss</th>\n",
       "      <th>valid_loss</th>\n",
       "      <th>accuracy</th>\n",
       "      <th>f1_score</th>\n",
       "      <th>time</th>\n",
       "    </tr>\n",
       "  </thead>\n",
       "  <tbody>\n",
       "    <tr>\n",
       "      <td>0</td>\n",
       "      <td>None</td>\n",
       "      <td>None</td>\n",
       "      <td>None</td>\n",
       "      <td>00:00</td>\n",
       "    </tr>\n",
       "  </tbody>\n",
       "</table>"
      ],
      "text/plain": [
       "<IPython.core.display.HTML object>"
      ]
     },
     "metadata": {},
     "output_type": "display_data"
    },
    {
     "data": {
      "text/plain": [
       "ImgTextFusion (Input shape: [\"['64 x 4096', '64 x 3840', '64', '64']\"])\n",
       "================================================================\n",
       "Layer (type)         Output Shape         Param #    Trainable \n",
       "================================================================\n",
       "BatchNorm1d          64 x 7936            15,872     True      \n",
       "________________________________________________________________\n",
       "Dropout              64 x 7936            0          False     \n",
       "________________________________________________________________\n",
       "Linear               64 x 512             4,063,232  True      \n",
       "________________________________________________________________\n",
       "ReLU                 64 x 512             0          False     \n",
       "________________________________________________________________\n",
       "BatchNorm1d          64 x 512             1,024      True      \n",
       "________________________________________________________________\n",
       "Dropout              64 x 512             0          False     \n",
       "________________________________________________________________\n",
       "Linear               64 x 6               3,072      True      \n",
       "________________________________________________________________\n",
       "\n",
       "Total params: 4,083,200\n",
       "Total trainable params: 4,083,200\n",
       "Total non-trainable params: 0\n",
       "\n",
       "Optimizer used: <function Adam at 0x7f15a01621f0>\n",
       "Loss function: <function loss_func at 0x7f153ec00670>\n",
       "\n",
       "Callbacks:\n",
       "  - TrainEvalCallback\n",
       "  - Recorder\n",
       "  - ProgressCallback"
      ]
     },
     "execution_count": 204,
     "metadata": {},
     "output_type": "execute_result"
    }
   ],
   "source": [
    "learn.summary()"
   ]
  },
  {
   "cell_type": "code",
   "execution_count": 205,
   "metadata": {},
   "outputs": [
    {
     "data": {
      "text/html": [],
      "text/plain": [
       "<IPython.core.display.HTML object>"
      ]
     },
     "metadata": {},
     "output_type": "display_data"
    },
    {
     "data": {
      "text/plain": [
       "SuggestedLRs(lr_min=0.014454397559165954, lr_steep=0.02754228748381138)"
      ]
     },
     "execution_count": 205,
     "metadata": {},
     "output_type": "execute_result"
    },
    {
     "data": {
      "image/png": "[encoded data removed]",
      "text/plain": [
       "<Figure size 432x288 with 1 Axes>"
      ]
     },
     "metadata": {
      "needs_background": "light"
     },
     "output_type": "display_data"
    }
   ],
   "source": [
    "learn.lr_find()"
   ]
  },
  {
   "cell_type": "code",
   "execution_count": 206,
   "metadata": {},
   "outputs": [],
   "source": [
    "learn.add_cbs([SaveModelCallback(monitor='f1_score', fname='best_fusion_zeros'),\n",
    "                                       ShowGraphCallback()])"
   ]
  },
  {
   "cell_type": "code",
   "execution_count": 207,
   "metadata": {},
   "outputs": [
    {
     "data": {
      "text/html": [
       "<table border=\"1\" class=\"dataframe\">\n",
       "  <thead>\n",
       "    <tr style=\"text-align: left;\">\n",
       "      <th>epoch</th>\n",
       "      <th>train_loss</th>\n",
       "      <th>valid_loss</th>\n",
       "      <th>accuracy</th>\n",
       "      <th>f1_score</th>\n",
       "      <th>time</th>\n",
       "    </tr>\n",
       "  </thead>\n",
       "  <tbody>\n",
       "    <tr>\n",
       "      <td>0</td>\n",
       "      <td>0.134407</td>\n",
       "      <td>0.431868</td>\n",
       "      <td>0.899328</td>\n",
       "      <td>0.670404</td>\n",
       "      <td>12:37</td>\n",
       "    </tr>\n",
       "    <tr>\n",
       "      <td>1</td>\n",
       "      <td>0.153378</td>\n",
       "      <td>19.850607</td>\n",
       "      <td>0.925718</td>\n",
       "      <td>0.575709</td>\n",
       "      <td>09:50</td>\n",
       "    </tr>\n",
       "    <tr>\n",
       "      <td>2</td>\n",
       "      <td>0.166216</td>\n",
       "      <td>17.007902</td>\n",
       "      <td>0.924826</td>\n",
       "      <td>0.653437</td>\n",
       "      <td>12:29</td>\n",
       "    </tr>\n",
       "    <tr>\n",
       "      <td>3</td>\n",
       "      <td>0.147412</td>\n",
       "      <td>123.811996</td>\n",
       "      <td>0.926750</td>\n",
       "      <td>0.624076</td>\n",
       "      <td>11:24</td>\n",
       "    </tr>\n",
       "    <tr>\n",
       "      <td>4</td>\n",
       "      <td>0.139108</td>\n",
       "      <td>507.357300</td>\n",
       "      <td>0.929994</td>\n",
       "      <td>0.620347</td>\n",
       "      <td>14:04</td>\n",
       "    </tr>\n",
       "    <tr>\n",
       "      <td>5</td>\n",
       "      <td>0.130705</td>\n",
       "      <td>106.909302</td>\n",
       "      <td>0.923078</td>\n",
       "      <td>0.613028</td>\n",
       "      <td>14:31</td>\n",
       "    </tr>\n",
       "    <tr>\n",
       "      <td>6</td>\n",
       "      <td>0.098014</td>\n",
       "      <td>27.732090</td>\n",
       "      <td>0.931547</td>\n",
       "      <td>0.651369</td>\n",
       "      <td>10:02</td>\n",
       "    </tr>\n",
       "    <tr>\n",
       "      <td>7</td>\n",
       "      <td>0.075739</td>\n",
       "      <td>59.757435</td>\n",
       "      <td>0.936120</td>\n",
       "      <td>0.692833</td>\n",
       "      <td>08:52</td>\n",
       "    </tr>\n",
       "    <tr>\n",
       "      <td>8</td>\n",
       "      <td>0.077210</td>\n",
       "      <td>14.266563</td>\n",
       "      <td>0.932681</td>\n",
       "      <td>0.696128</td>\n",
       "      <td>08:45</td>\n",
       "    </tr>\n",
       "    <tr>\n",
       "      <td>9</td>\n",
       "      <td>0.068784</td>\n",
       "      <td>5.813344</td>\n",
       "      <td>0.932829</td>\n",
       "      <td>0.699519</td>\n",
       "      <td>08:20</td>\n",
       "    </tr>\n",
       "  </tbody>\n",
       "</table>"
      ],
      "text/plain": [
       "<IPython.core.display.HTML object>"
      ]
     },
     "metadata": {},
     "output_type": "display_data"
    },
    {
     "name": "stdout",
     "output_type": "stream",
     "text": [
      "Better model found at epoch 0 with f1_score value: 0.6704040866291474.\n"
     ]
    },
    {
     "data": {
      "image/png": "[encoded data removed]",
      "text/plain": [
       "<Figure size 432x288 with 1 Axes>"
      ]
     },
     "metadata": {},
     "output_type": "display_data"
    },
    {
     "name": "stdout",
     "output_type": "stream",
     "text": [
      "Better model found at epoch 7 with f1_score value: 0.6928334520070548.\n",
      "Better model found at epoch 8 with f1_score value: 0.6961284391067014.\n",
      "Better model found at epoch 9 with f1_score value: 0.6995193607126686.\n"
     ]
    }
   ],
   "source": [
    "learn.fit_one_cycle(10, lr_max=3e-2)"
   ]
  },
  {
   "cell_type": "code",
   "execution_count": 208,
   "metadata": {},
   "outputs": [],
   "source": [
    "head = create_head(4096 + 3840, OUT_DIM, lin_ftrs=[128])"
   ]
  },
  {
   "cell_type": "code",
   "execution_count": 209,
   "metadata": {},
   "outputs": [],
   "source": [
    "model = ImgTextFusion(head)"
   ]
  },
  {
   "cell_type": "code",
   "execution_count": 210,
   "metadata": {},
   "outputs": [],
   "source": [
    "learn = Learner(dls, model, loss_func=loss_func, metrics=[accuracy, fscore])"
   ]
  },
  {
   "cell_type": "code",
   "execution_count": 211,
   "metadata": {},
   "outputs": [],
   "source": [
    "learn.add_cbs([SaveModelCallback(monitor='f1_score', fname='best_fusion_128_moreEpochs'),\n",
    "                                       ShowGraphCallback()])"
   ]
  },
  {
   "cell_type": "code",
   "execution_count": 212,
   "metadata": {},
   "outputs": [
    {
     "data": {
      "text/html": [
       "<table border=\"1\" class=\"dataframe\">\n",
       "  <thead>\n",
       "    <tr style=\"text-align: left;\">\n",
       "      <th>epoch</th>\n",
       "      <th>train_loss</th>\n",
       "      <th>valid_loss</th>\n",
       "      <th>accuracy</th>\n",
       "      <th>f1_score</th>\n",
       "      <th>time</th>\n",
       "    </tr>\n",
       "  </thead>\n",
       "  <tbody>\n",
       "    <tr>\n",
       "      <td>0</td>\n",
       "      <td>0.108838</td>\n",
       "      <td>0.281479</td>\n",
       "      <td>0.938807</td>\n",
       "      <td>0.719683</td>\n",
       "      <td>08:37</td>\n",
       "    </tr>\n",
       "    <tr>\n",
       "      <td>1</td>\n",
       "      <td>0.103109</td>\n",
       "      <td>0.315590</td>\n",
       "      <td>0.932802</td>\n",
       "      <td>0.735200</td>\n",
       "      <td>08:28</td>\n",
       "    </tr>\n",
       "    <tr>\n",
       "      <td>2</td>\n",
       "      <td>0.144701</td>\n",
       "      <td>0.327670</td>\n",
       "      <td>0.929334</td>\n",
       "      <td>0.724216</td>\n",
       "      <td>08:20</td>\n",
       "    </tr>\n",
       "    <tr>\n",
       "      <td>3</td>\n",
       "      <td>0.155421</td>\n",
       "      <td>0.370504</td>\n",
       "      <td>0.935925</td>\n",
       "      <td>0.702918</td>\n",
       "      <td>08:14</td>\n",
       "    </tr>\n",
       "    <tr>\n",
       "      <td>4</td>\n",
       "      <td>0.180047</td>\n",
       "      <td>0.412570</td>\n",
       "      <td>0.929994</td>\n",
       "      <td>0.730276</td>\n",
       "      <td>08:04</td>\n",
       "    </tr>\n",
       "    <tr>\n",
       "      <td>5</td>\n",
       "      <td>0.153721</td>\n",
       "      <td>0.353987</td>\n",
       "      <td>0.929065</td>\n",
       "      <td>0.740265</td>\n",
       "      <td>08:05</td>\n",
       "    </tr>\n",
       "    <tr>\n",
       "      <td>6</td>\n",
       "      <td>0.158610</td>\n",
       "      <td>0.426841</td>\n",
       "      <td>0.932077</td>\n",
       "      <td>0.672284</td>\n",
       "      <td>07:55</td>\n",
       "    </tr>\n",
       "    <tr>\n",
       "      <td>7</td>\n",
       "      <td>0.155424</td>\n",
       "      <td>0.378475</td>\n",
       "      <td>0.930757</td>\n",
       "      <td>0.635073</td>\n",
       "      <td>07:55</td>\n",
       "    </tr>\n",
       "    <tr>\n",
       "      <td>8</td>\n",
       "      <td>0.136670</td>\n",
       "      <td>0.346045</td>\n",
       "      <td>0.940071</td>\n",
       "      <td>0.736008</td>\n",
       "      <td>07:56</td>\n",
       "    </tr>\n",
       "    <tr>\n",
       "      <td>9</td>\n",
       "      <td>0.126189</td>\n",
       "      <td>0.381415</td>\n",
       "      <td>0.935181</td>\n",
       "      <td>0.736491</td>\n",
       "      <td>07:54</td>\n",
       "    </tr>\n",
       "    <tr>\n",
       "      <td>10</td>\n",
       "      <td>0.149742</td>\n",
       "      <td>0.325104</td>\n",
       "      <td>0.937115</td>\n",
       "      <td>0.745378</td>\n",
       "      <td>08:00</td>\n",
       "    </tr>\n",
       "    <tr>\n",
       "      <td>11</td>\n",
       "      <td>0.112719</td>\n",
       "      <td>0.375608</td>\n",
       "      <td>0.939039</td>\n",
       "      <td>0.649099</td>\n",
       "      <td>08:21</td>\n",
       "    </tr>\n",
       "    <tr>\n",
       "      <td>12</td>\n",
       "      <td>0.107840</td>\n",
       "      <td>0.343726</td>\n",
       "      <td>0.936148</td>\n",
       "      <td>0.733279</td>\n",
       "      <td>08:12</td>\n",
       "    </tr>\n",
       "    <tr>\n",
       "      <td>13</td>\n",
       "      <td>0.099195</td>\n",
       "      <td>0.315256</td>\n",
       "      <td>0.939225</td>\n",
       "      <td>0.724168</td>\n",
       "      <td>08:19</td>\n",
       "    </tr>\n",
       "    <tr>\n",
       "      <td>14</td>\n",
       "      <td>0.089276</td>\n",
       "      <td>0.324795</td>\n",
       "      <td>0.928600</td>\n",
       "      <td>0.736242</td>\n",
       "      <td>07:59</td>\n",
       "    </tr>\n",
       "    <tr>\n",
       "      <td>15</td>\n",
       "      <td>0.095608</td>\n",
       "      <td>0.330350</td>\n",
       "      <td>0.937691</td>\n",
       "      <td>0.745041</td>\n",
       "      <td>07:50</td>\n",
       "    </tr>\n",
       "    <tr>\n",
       "      <td>16</td>\n",
       "      <td>0.079189</td>\n",
       "      <td>0.319552</td>\n",
       "      <td>0.941484</td>\n",
       "      <td>0.756683</td>\n",
       "      <td>07:48</td>\n",
       "    </tr>\n",
       "    <tr>\n",
       "      <td>17</td>\n",
       "      <td>0.073238</td>\n",
       "      <td>0.344188</td>\n",
       "      <td>0.935897</td>\n",
       "      <td>0.753827</td>\n",
       "      <td>07:51</td>\n",
       "    </tr>\n",
       "    <tr>\n",
       "      <td>18</td>\n",
       "      <td>0.074179</td>\n",
       "      <td>0.343527</td>\n",
       "      <td>0.938091</td>\n",
       "      <td>0.751721</td>\n",
       "      <td>07:47</td>\n",
       "    </tr>\n",
       "    <tr>\n",
       "      <td>19</td>\n",
       "      <td>0.075102</td>\n",
       "      <td>0.350786</td>\n",
       "      <td>0.938788</td>\n",
       "      <td>0.754328</td>\n",
       "      <td>07:28</td>\n",
       "    </tr>\n",
       "  </tbody>\n",
       "</table>"
      ],
      "text/plain": [
       "<IPython.core.display.HTML object>"
      ]
     },
     "metadata": {},
     "output_type": "display_data"
    },
    {
     "name": "stdout",
     "output_type": "stream",
     "text": [
      "Better model found at epoch 0 with f1_score value: 0.7196832402720789.\n"
     ]
    },
    {
     "data": {
      "image/png": "[encoded data removed]",
      "text/plain": [
       "<Figure size 432x288 with 1 Axes>"
      ]
     },
     "metadata": {},
     "output_type": "display_data"
    },
    {
     "name": "stdout",
     "output_type": "stream",
     "text": [
      "Better model found at epoch 1 with f1_score value: 0.7352004320513926.\n",
      "Better model found at epoch 5 with f1_score value: 0.7402651371326378.\n",
      "Better model found at epoch 10 with f1_score value: 0.745378085739771.\n",
      "Better model found at epoch 16 with f1_score value: 0.7566834483586823.\n"
     ]
    }
   ],
   "source": [
    "learn.fit_one_cycle(20, lr_max=5e-2)"
   ]
  },
  {
   "cell_type": "code",
   "execution_count": 213,
   "metadata": {},
   "outputs": [],
   "source": [
    "from utils import evaluate"
   ]
  },
  {
   "cell_type": "code",
   "execution_count": 214,
   "metadata": {},
   "outputs": [
    {
     "data": {
      "text/plain": [
       "<fastai.learner.Learner at 0x7f153d7c3d60>"
      ]
     },
     "execution_count": 214,
     "metadata": {},
     "output_type": "execute_result"
    }
   ],
   "source": [
    "learn.load(\"best_fusion_128_moreEpochs\")"
   ]
  },
  {
   "cell_type": "code",
   "execution_count": 215,
   "metadata": {},
   "outputs": [
    {
     "data": {
      "text/html": [],
      "text/plain": [
       "<IPython.core.display.HTML object>"
      ]
     },
     "metadata": {},
     "output_type": "display_data"
    },
    {
     "name": "stdout",
     "output_type": "stream",
     "text": [
      "                                  precision    recall  f1-score   support\n",
      "\n",
      "          acordao_de_2_instancia     0.8691    0.7469    0.8034       320\n",
      "agravo_em_recurso_extraordinario     0.6668    0.4407    0.5307      2798\n",
      "     despacho_de_admissibilidade     0.8788    0.6138    0.7227       189\n",
      "                          outros     0.9553    0.9828    0.9689     95602\n",
      "                   peticao_do_RE     0.8025    0.6518    0.7193      6987\n",
      "                        sentenca     0.9149    0.7032    0.7952      1681\n",
      "\n",
      "                        accuracy                         0.9415    107577\n",
      "                       macro avg     0.8479    0.6898    0.7567    107577\n",
      "                    weighted avg     0.9369    0.9415    0.9376    107577\n",
      "\n"
     ]
    }
   ],
   "source": [
    "from sklearn.metrics import classification_report\n",
    "\n",
    "preds, targets = learn.get_preds()\n",
    "preds = np.argmax(preds, axis=1)\n",
    "print(classification_report(targets, preds, target_names=dls.vocab, digits=4))"
   ]
  },
  {
   "cell_type": "code",
   "execution_count": 222,
   "metadata": {},
   "outputs": [],
   "source": [
    "test_csv[\"has_text\"] = True"
   ]
  },
  {
   "cell_type": "code",
   "execution_count": 223,
   "metadata": {},
   "outputs": [],
   "source": [
    "test_csv[\"has_image\"]= ~(test_csv[\"file_name\"].str.slice(stop=-4) + \"_\" + test_csv[\"pages\"].astype(str)).isin(just_text)"
   ]
  },
  {
   "cell_type": "code",
   "execution_count": 228,
   "metadata": {},
   "outputs": [
    {
     "data": {
      "application/vnd.jupyter.widget-view+json": {
       "model_id": "68b44ed2fb6f436a99a555cc2aba427d",
       "version_major": 2,
       "version_minor": 0
      },
      "text/plain": [
       "HBox(children=(HTML(value=''), FloatProgress(value=0.0, max=33849.0), HTML(value='')))"
      ]
     },
     "metadata": {},
     "output_type": "display_data"
    },
    {
     "name": "stdout",
     "output_type": "stream",
     "text": [
      "\n"
     ]
    }
   ],
   "source": [
    "just_imgs_dics_test = []\n",
    "for p in tqdm(just_imgs):\n",
    "    parts = p.parts\n",
    "    if parts[2] != \"test\":\n",
    "        continue\n",
    "    dic = {}\n",
    "    dic[\"process_id\"] = re.search(r\"[^_]*_\\d+\",parts[4])[0]\n",
    "    dic[\"file_name\"] = parts[4][:-2] + \"pdf\"\n",
    "    dic[\"document_type\"] = parts[3]\n",
    "    dic[\"pages\"] = re.search(r\"(?<=_)\\d+(?=\\.pt)\", parts[4])[0]\n",
    "    dic[\"has_text\"] = False\n",
    "    dic[\"has_image\"] = True\n",
    "    dic[\"activation_path\"] = p.with_suffix(\"\").as_posix()\n",
    "    just_imgs_dics_test.append(dic)"
   ]
  },
  {
   "cell_type": "code",
   "execution_count": 229,
   "metadata": {},
   "outputs": [
    {
     "data": {
      "text/html": [
       "<div>\n",
       "<style scoped>\n",
       "    .dataframe tbody tr th:only-of-type {\n",
       "        vertical-align: middle;\n",
       "    }\n",
       "\n",
       "    .dataframe tbody tr th {\n",
       "        vertical-align: top;\n",
       "    }\n",
       "\n",
       "    .dataframe thead th {\n",
       "        text-align: right;\n",
       "    }\n",
       "</style>\n",
       "<table border=\"1\" class=\"dataframe\">\n",
       "  <thead>\n",
       "    <tr style=\"text-align: right;\">\n",
       "      <th></th>\n",
       "      <th>themes</th>\n",
       "      <th>process_id</th>\n",
       "      <th>file_name</th>\n",
       "      <th>document_type</th>\n",
       "      <th>pages</th>\n",
       "      <th>body</th>\n",
       "      <th>activation_path</th>\n",
       "      <th>is_valid</th>\n",
       "      <th>has_text</th>\n",
       "      <th>has_image</th>\n",
       "    </tr>\n",
       "  </thead>\n",
       "  <tbody>\n",
       "    <tr>\n",
       "      <th>0</th>\n",
       "      <td>NaN</td>\n",
       "      <td>ARE_1078603</td>\n",
       "      <td>ARE_1078603_312827755_1420_25092017_217.pdf</td>\n",
       "      <td>agravo_em_recurso_extraordinario</td>\n",
       "      <td>217</td>\n",
       "      <td>NaN</td>\n",
       "      <td>activations/img/test/agravo_em_recurso_extraordinario/ARE_1078603_312827755_1420_25092017_217</td>\n",
       "      <td>NaN</td>\n",
       "      <td>False</td>\n",
       "      <td>True</td>\n",
       "    </tr>\n",
       "    <tr>\n",
       "      <th>1</th>\n",
       "      <td>NaN</td>\n",
       "      <td>ARE_1099482</td>\n",
       "      <td>ARE_1099482_313471667_1420_11122017_46.pdf</td>\n",
       "      <td>agravo_em_recurso_extraordinario</td>\n",
       "      <td>46</td>\n",
       "      <td>NaN</td>\n",
       "      <td>activations/img/test/agravo_em_recurso_extraordinario/ARE_1099482_313471667_1420_11122017_46</td>\n",
       "      <td>NaN</td>\n",
       "      <td>False</td>\n",
       "      <td>True</td>\n",
       "    </tr>\n",
       "    <tr>\n",
       "      <th>2</th>\n",
       "      <td>NaN</td>\n",
       "      <td>ARE_1060558</td>\n",
       "      <td>ARE_1060558_312197391_1420_30082017_51.pdf</td>\n",
       "      <td>agravo_em_recurso_extraordinario</td>\n",
       "      <td>51</td>\n",
       "      <td>NaN</td>\n",
       "      <td>activations/img/test/agravo_em_recurso_extraordinario/ARE_1060558_312197391_1420_30082017_51</td>\n",
       "      <td>NaN</td>\n",
       "      <td>False</td>\n",
       "      <td>True</td>\n",
       "    </tr>\n",
       "    <tr>\n",
       "      <th>3</th>\n",
       "      <td>NaN</td>\n",
       "      <td>ARE_1060551</td>\n",
       "      <td>ARE_1060551_312197210_1420_10072017_56.pdf</td>\n",
       "      <td>agravo_em_recurso_extraordinario</td>\n",
       "      <td>56</td>\n",
       "      <td>NaN</td>\n",
       "      <td>activations/img/test/agravo_em_recurso_extraordinario/ARE_1060551_312197210_1420_10072017_56</td>\n",
       "      <td>NaN</td>\n",
       "      <td>False</td>\n",
       "      <td>True</td>\n",
       "    </tr>\n",
       "    <tr>\n",
       "      <th>4</th>\n",
       "      <td>NaN</td>\n",
       "      <td>ARE_1078603</td>\n",
       "      <td>ARE_1078603_312827755_1420_25092017_123.pdf</td>\n",
       "      <td>agravo_em_recurso_extraordinario</td>\n",
       "      <td>123</td>\n",
       "      <td>NaN</td>\n",
       "      <td>activations/img/test/agravo_em_recurso_extraordinario/ARE_1078603_312827755_1420_25092017_123</td>\n",
       "      <td>NaN</td>\n",
       "      <td>False</td>\n",
       "      <td>True</td>\n",
       "    </tr>\n",
       "  </tbody>\n",
       "</table>\n",
       "</div>"
      ],
      "text/plain": [
       "   themes   process_id                                    file_name  \\\n",
       "0     NaN  ARE_1078603  ARE_1078603_312827755_1420_25092017_217.pdf   \n",
       "1     NaN  ARE_1099482   ARE_1099482_313471667_1420_11122017_46.pdf   \n",
       "2     NaN  ARE_1060558   ARE_1060558_312197391_1420_30082017_51.pdf   \n",
       "3     NaN  ARE_1060551   ARE_1060551_312197210_1420_10072017_56.pdf   \n",
       "4     NaN  ARE_1078603  ARE_1078603_312827755_1420_25092017_123.pdf   \n",
       "\n",
       "                      document_type pages  body  \\\n",
       "0  agravo_em_recurso_extraordinario   217   NaN   \n",
       "1  agravo_em_recurso_extraordinario    46   NaN   \n",
       "2  agravo_em_recurso_extraordinario    51   NaN   \n",
       "3  agravo_em_recurso_extraordinario    56   NaN   \n",
       "4  agravo_em_recurso_extraordinario   123   NaN   \n",
       "\n",
       "                                                                                 activation_path  \\\n",
       "0  activations/img/test/agravo_em_recurso_extraordinario/ARE_1078603_312827755_1420_25092017_217   \n",
       "1   activations/img/test/agravo_em_recurso_extraordinario/ARE_1099482_313471667_1420_11122017_46   \n",
       "2   activations/img/test/agravo_em_recurso_extraordinario/ARE_1060558_312197391_1420_30082017_51   \n",
       "3   activations/img/test/agravo_em_recurso_extraordinario/ARE_1060551_312197210_1420_10072017_56   \n",
       "4  activations/img/test/agravo_em_recurso_extraordinario/ARE_1078603_312827755_1420_25092017_123   \n",
       "\n",
       "   is_valid  has_text  has_image  \n",
       "0       NaN     False       True  \n",
       "1       NaN     False       True  \n",
       "2       NaN     False       True  \n",
       "3       NaN     False       True  \n",
       "4       NaN     False       True  "
      ]
     },
     "execution_count": 229,
     "metadata": {},
     "output_type": "execute_result"
    }
   ],
   "source": [
    "just_imgs_df_test = pd.DataFrame(just_imgs_dics_test, columns = data.columns); just_imgs_df_test.head()"
   ]
  },
  {
   "cell_type": "code",
   "execution_count": 232,
   "metadata": {},
   "outputs": [],
   "source": [
    "test_data = pd.concat([test_csv, just_imgs_df_test])"
   ]
  },
  {
   "cell_type": "code",
   "execution_count": 235,
   "metadata": {},
   "outputs": [
    {
     "data": {
      "text/html": [
       "<div>\n",
       "<style scoped>\n",
       "    .dataframe tbody tr th:only-of-type {\n",
       "        vertical-align: middle;\n",
       "    }\n",
       "\n",
       "    .dataframe tbody tr th {\n",
       "        vertical-align: top;\n",
       "    }\n",
       "\n",
       "    .dataframe thead th {\n",
       "        text-align: right;\n",
       "    }\n",
       "</style>\n",
       "<table border=\"1\" class=\"dataframe\">\n",
       "  <thead>\n",
       "    <tr style=\"text-align: right;\">\n",
       "      <th></th>\n",
       "      <th>themes</th>\n",
       "      <th>process_id</th>\n",
       "      <th>file_name</th>\n",
       "      <th>document_type</th>\n",
       "      <th>pages</th>\n",
       "      <th>body</th>\n",
       "      <th>activation_path</th>\n",
       "      <th>has_text</th>\n",
       "      <th>has_image</th>\n",
       "      <th>is_valid</th>\n",
       "    </tr>\n",
       "  </thead>\n",
       "  <tbody>\n",
       "    <tr>\n",
       "      <th>8032</th>\n",
       "      <td>NaN</td>\n",
       "      <td>ARE_1130738</td>\n",
       "      <td>ARE_1130738_314300437_12_08052018_79.pdf</td>\n",
       "      <td>peticao_do_RE</td>\n",
       "      <td>79</td>\n",
       "      <td>NaN</td>\n",
       "      <td>activations/img/test/peticao_do_RE/ARE_1130738_314300437_12_08052018_79</td>\n",
       "      <td>False</td>\n",
       "      <td>True</td>\n",
       "      <td>NaN</td>\n",
       "    </tr>\n",
       "    <tr>\n",
       "      <th>8033</th>\n",
       "      <td>NaN</td>\n",
       "      <td>ARE_721616</td>\n",
       "      <td>ARE_721616_2218683_12_26072013_15.pdf</td>\n",
       "      <td>peticao_do_RE</td>\n",
       "      <td>15</td>\n",
       "      <td>NaN</td>\n",
       "      <td>activations/img/test/peticao_do_RE/ARE_721616_2218683_12_26072013_15</td>\n",
       "      <td>False</td>\n",
       "      <td>True</td>\n",
       "      <td>NaN</td>\n",
       "    </tr>\n",
       "    <tr>\n",
       "      <th>8034</th>\n",
       "      <td>NaN</td>\n",
       "      <td>ARE_1062698</td>\n",
       "      <td>ARE_1062698_312268390_12_27072017_22.pdf</td>\n",
       "      <td>peticao_do_RE</td>\n",
       "      <td>22</td>\n",
       "      <td>NaN</td>\n",
       "      <td>activations/img/test/peticao_do_RE/ARE_1062698_312268390_12_27072017_22</td>\n",
       "      <td>False</td>\n",
       "      <td>True</td>\n",
       "      <td>NaN</td>\n",
       "    </tr>\n",
       "    <tr>\n",
       "      <th>8035</th>\n",
       "      <td>NaN</td>\n",
       "      <td>ARE_1062698</td>\n",
       "      <td>ARE_1062698_312268390_12_27072017_19.pdf</td>\n",
       "      <td>peticao_do_RE</td>\n",
       "      <td>19</td>\n",
       "      <td>NaN</td>\n",
       "      <td>activations/img/test/peticao_do_RE/ARE_1062698_312268390_12_27072017_19</td>\n",
       "      <td>False</td>\n",
       "      <td>True</td>\n",
       "      <td>NaN</td>\n",
       "    </tr>\n",
       "    <tr>\n",
       "      <th>8036</th>\n",
       "      <td>NaN</td>\n",
       "      <td>ARE_1064565</td>\n",
       "      <td>ARE_1064565_312350506_12_03082017_31.pdf</td>\n",
       "      <td>peticao_do_RE</td>\n",
       "      <td>31</td>\n",
       "      <td>NaN</td>\n",
       "      <td>activations/img/test/peticao_do_RE/ARE_1064565_312350506_12_03082017_31</td>\n",
       "      <td>False</td>\n",
       "      <td>True</td>\n",
       "      <td>NaN</td>\n",
       "    </tr>\n",
       "  </tbody>\n",
       "</table>\n",
       "</div>"
      ],
      "text/plain": [
       "     themes   process_id                                 file_name  \\\n",
       "8032    NaN  ARE_1130738  ARE_1130738_314300437_12_08052018_79.pdf   \n",
       "8033    NaN   ARE_721616     ARE_721616_2218683_12_26072013_15.pdf   \n",
       "8034    NaN  ARE_1062698  ARE_1062698_312268390_12_27072017_22.pdf   \n",
       "8035    NaN  ARE_1062698  ARE_1062698_312268390_12_27072017_19.pdf   \n",
       "8036    NaN  ARE_1064565  ARE_1064565_312350506_12_03082017_31.pdf   \n",
       "\n",
       "      document_type pages body  \\\n",
       "8032  peticao_do_RE    79  NaN   \n",
       "8033  peticao_do_RE    15  NaN   \n",
       "8034  peticao_do_RE    22  NaN   \n",
       "8035  peticao_do_RE    19  NaN   \n",
       "8036  peticao_do_RE    31  NaN   \n",
       "\n",
       "                                                              activation_path  \\\n",
       "8032  activations/img/test/peticao_do_RE/ARE_1130738_314300437_12_08052018_79   \n",
       "8033     activations/img/test/peticao_do_RE/ARE_721616_2218683_12_26072013_15   \n",
       "8034  activations/img/test/peticao_do_RE/ARE_1062698_312268390_12_27072017_22   \n",
       "8035  activations/img/test/peticao_do_RE/ARE_1062698_312268390_12_27072017_19   \n",
       "8036  activations/img/test/peticao_do_RE/ARE_1064565_312350506_12_03082017_31   \n",
       "\n",
       "      has_text  has_image  is_valid  \n",
       "8032     False       True       NaN  \n",
       "8033     False       True       NaN  \n",
       "8034     False       True       NaN  \n",
       "8035     False       True       NaN  \n",
       "8036     False       True       NaN  "
      ]
     },
     "execution_count": 235,
     "metadata": {},
     "output_type": "execute_result"
    }
   ],
   "source": [
    "test_data.tail()"
   ]
  },
  {
   "cell_type": "code",
   "execution_count": 236,
   "metadata": {},
   "outputs": [],
   "source": [
    "test_dl = dls.test_dl(test_data, with_labels=True)"
   ]
  },
  {
   "cell_type": "code",
   "execution_count": 265,
   "metadata": {},
   "outputs": [
    {
     "data": {
      "text/plain": [
       "98577"
      ]
     },
     "execution_count": 265,
     "metadata": {},
     "output_type": "execute_result"
    }
   ],
   "source": [
    "img_test_data = test_data[test_data[\"has_image\"]==True].drop_duplicates(\"activation_path\"); len(img_test_data)"
   ]
  },
  {
   "cell_type": "code",
   "execution_count": 266,
   "metadata": {},
   "outputs": [],
   "source": [
    "img_test_dl = dls.test_dl(img_test_data, with_labels=True)"
   ]
  },
  {
   "cell_type": "code",
   "execution_count": 242,
   "metadata": {},
   "outputs": [
    {
     "data": {
      "text/plain": [
       "95526"
      ]
     },
     "execution_count": 242,
     "metadata": {},
     "output_type": "execute_result"
    }
   ],
   "source": [
    "text_test_data = test_data[test_data[\"has_text\"]==True]; len(text_test_data)"
   ]
  },
  {
   "cell_type": "code",
   "execution_count": 243,
   "metadata": {},
   "outputs": [],
   "source": [
    "text_test_dl = dls.test_dl(text_test_data, with_labels=True)"
   ]
  },
  {
   "cell_type": "code",
   "execution_count": 244,
   "metadata": {},
   "outputs": [
    {
     "data": {
      "text/html": [],
      "text/plain": [
       "<IPython.core.display.HTML object>"
      ]
     },
     "metadata": {},
     "output_type": "display_data"
    },
    {
     "name": "stdout",
     "output_type": "stream",
     "text": [
      "                                  precision    recall  f1-score   support\n",
      "\n",
      "          acordao_de_2_instancia     0.8917    0.8606    0.8759       287\n",
      "agravo_em_recurso_extraordinario     0.6648    0.4056    0.5039      2655\n",
      "     despacho_de_admissibilidade     0.8095    0.5126    0.6277       199\n",
      "                          outros     0.9594    0.9841    0.9716     92533\n",
      "                   peticao_do_RE     0.8213    0.6959    0.7534      6386\n",
      "                        sentenca     0.9053    0.7312    0.8090      1503\n",
      "\n",
      "                        accuracy                         0.9466    103563\n",
      "                       macro avg     0.8420    0.6983    0.7569    103563\n",
      "                    weighted avg     0.9421    0.9466    0.9428    103563\n",
      "\n"
     ]
    }
   ],
   "source": [
    "preds, targets = learn.get_preds(dl=test_dl)\n",
    "preds = np.argmax(preds, axis=1)\n",
    "print(classification_report(targets, preds, target_names=dls.vocab, digits=4))"
   ]
  },
  {
   "cell_type": "code",
   "execution_count": 267,
   "metadata": {},
   "outputs": [
    {
     "data": {
      "text/html": [],
      "text/plain": [
       "<IPython.core.display.HTML object>"
      ]
     },
     "metadata": {},
     "output_type": "display_data"
    },
    {
     "name": "stdout",
     "output_type": "stream",
     "text": [
      "                                  precision    recall  f1-score   support\n",
      "\n",
      "          acordao_de_2_instancia     0.8949    0.8667    0.8806       285\n",
      "agravo_em_recurso_extraordinario     0.6766    0.4107    0.5112      2537\n",
      "     despacho_de_admissibilidade     0.8160    0.5152    0.6316       198\n",
      "                          outros     0.9603    0.9842    0.9721     87902\n",
      "                   peticao_do_RE     0.8281    0.7159    0.7679      6177\n",
      "                        sentenca     0.9126    0.7422    0.8187      1478\n",
      "\n",
      "                        accuracy                         0.9477     98577\n",
      "                       macro avg     0.8481    0.7058    0.7637     98577\n",
      "                    weighted avg     0.9435    0.9477    0.9442     98577\n",
      "\n"
     ]
    }
   ],
   "source": [
    "preds, targets = learn.get_preds(dl=img_test_dl)\n",
    "preds = np.argmax(preds, axis=1)\n",
    "print(classification_report(targets, preds, target_names=dls.vocab, digits=4))"
   ]
  },
  {
   "cell_type": "code",
   "execution_count": 268,
   "metadata": {},
   "outputs": [
    {
     "data": {
      "text/html": [],
      "text/plain": [
       "<IPython.core.display.HTML object>"
      ]
     },
     "metadata": {},
     "output_type": "display_data"
    },
    {
     "name": "stdout",
     "output_type": "stream",
     "text": [
      "                                  precision    recall  f1-score   support\n",
      "\n",
      "          acordao_de_2_instancia     0.8917    0.9048    0.8982       273\n",
      "agravo_em_recurso_extraordinario     0.6633    0.4997    0.5700      1841\n",
      "     despacho_de_admissibilidade     0.8095    0.5152    0.6296       198\n",
      "                          outros     0.9644    0.9836    0.9739     85408\n",
      "                   peticao_do_RE     0.8213    0.7019    0.7569      6331\n",
      "                        sentenca     0.9053    0.7451    0.8174      1475\n",
      "\n",
      "                        accuracy                         0.9507     95526\n",
      "                       macro avg     0.8426    0.7250    0.7743     95526\n",
      "                    weighted avg     0.9476    0.9507    0.9484     95526\n",
      "\n"
     ]
    }
   ],
   "source": [
    "preds, targets = learn.get_preds(dl=text_test_dl)\n",
    "preds = np.argmax(preds, axis=1)\n",
    "print(classification_report(targets, preds, target_names=dls.vocab, digits=4))"
   ]
  },
  {
   "cell_type": "code",
   "execution_count": 270,
   "metadata": {},
   "outputs": [],
   "source": [
    "torch.save(test_dl, \"./data/test_dl_fusion.pth\")"
   ]
  },
  {
   "cell_type": "code",
   "execution_count": 271,
   "metadata": {},
   "outputs": [],
   "source": [
    "torch.save(img_test_dl, \"./data/test_dl_fusion_img.pth\")"
   ]
  },
  {
   "cell_type": "code",
   "execution_count": 272,
   "metadata": {},
   "outputs": [],
   "source": [
    "torch.save(text_test_dl, \"./data/test_dl_fusion_text.pth\")"
   ]
  },
  {
   "cell_type": "code",
   "execution_count": null,
   "metadata": {},
   "outputs": [],
   "source": []
  }
 ],
 "metadata": {
  "kernelspec": {
   "display_name": "fastai2",
   "language": "python",
   "name": "fastai2"
  },
  "language_info": {
   "codemirror_mode": {
    "name": "ipython",
    "version": 3
   },
   "file_extension": ".py",
   "mimetype": "text/x-python",
   "name": "python",
   "nbconvert_exporter": "python",
   "pygments_lexer": "ipython3",
   "version": "3.8.5"
  }
 },
 "nbformat": 4,
 "nbformat_minor": 4
}
