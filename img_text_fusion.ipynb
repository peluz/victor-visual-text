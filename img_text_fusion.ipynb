{
 "cells": [
  {
   "cell_type": "code",
   "execution_count": 2,
   "metadata": {},
   "outputs": [],
   "source": [
    "%load_ext autoreload\n",
    "%autoreload 2\n",
    "\n",
    "from fastai.text.all import *\n",
    "from fastai.vision.all import *\n",
    "import pandas as pd\n",
    "import torch\n",
    "from tqdm.notebook import tqdm"
   ]
  },
  {
   "cell_type": "code",
   "execution_count": 3,
   "metadata": {},
   "outputs": [],
   "source": [
    "seed = 42\n",
    "\n",
    "# python RNG\n",
    "import random\n",
    "random.seed(seed)\n",
    "\n",
    "# pytorch RNGs\n",
    "import torch\n",
    "torch.manual_seed(seed)\n",
    "torch.backends.cudnn.deterministic = True\n",
    "if torch.cuda.is_available(): torch.cuda.manual_seed_all(seed)\n",
    "\n",
    "# numpy RNG\n",
    "import numpy as np\n",
    "np.random.seed(seed)"
   ]
  },
  {
   "cell_type": "code",
   "execution_count": 4,
   "metadata": {},
   "outputs": [],
   "source": [
    "OUT_DIM=6"
   ]
  },
  {
   "cell_type": "code",
   "execution_count": 5,
   "metadata": {},
   "outputs": [],
   "source": [
    "path = Path(\"./activations\")"
   ]
  },
  {
   "cell_type": "code",
   "execution_count": 6,
   "metadata": {},
   "outputs": [
    {
     "data": {
      "text/plain": [
       "(#359882) [Path('activations/img/val/agravo_em_recurso_extraordinario/ARE_783154_3660743_1420_09102014_1.pt'),Path('activations/img/val/agravo_em_recurso_extraordinario/ARE_1012920_310814938_1420_01122016_27.pt'),Path('activations/img/val/agravo_em_recurso_extraordinario/ARE_822006_4778600_1420_19062014_3.pt'),Path('activations/img/val/agravo_em_recurso_extraordinario/ARE_1053618_311977154_1420_07062017_299.pt'),Path('activations/img/val/agravo_em_recurso_extraordinario/ARE_821707_4770044_1420_19062014_4.pt'),Path('activations/img/val/agravo_em_recurso_extraordinario/ARE_1053618_311977154_1420_07062017_288.pt'),Path('activations/img/val/agravo_em_recurso_extraordinario/ARE_1019716_311062360_1420_17012017_15.pt'),Path('activations/img/val/agravo_em_recurso_extraordinario/ARE_1062700_312268503_1420_21072017_6.pt'),Path('activations/img/val/agravo_em_recurso_extraordinario/ARE_1053618_311977154_1420_07062017_248.pt'),Path('activations/img/val/agravo_em_recurso_extraordinario/ARE_1019823_311067464_1420_26012017_9.pt')...]"
      ]
     },
     "execution_count": 6,
     "metadata": {},
     "output_type": "execute_result"
    }
   ],
   "source": [
    "img_files = get_files(path/\"img\"); img_files"
   ]
  },
  {
   "cell_type": "code",
   "execution_count": 7,
   "metadata": {},
   "outputs": [
    {
     "data": {
      "text/plain": [
       "(#326037) [Path('activations/text/val/agravo_em_recurso_extraordinario/ARE_1075473_312738372_1420_14092017_6.npy'),Path('activations/text/val/agravo_em_recurso_extraordinario/ARE_1054017_311988070_1420_08062017_7.npy'),Path('activations/text/val/agravo_em_recurso_extraordinario/ARE_1082106_312930948_1420_10102017_15.npy'),Path('activations/text/val/agravo_em_recurso_extraordinario/ARE_1087577_313124642_1420_26102017_6.npy'),Path('activations/text/val/agravo_em_recurso_extraordinario/ARE_1000611_310414607_1420_01102016_14.npy'),Path('activations/text/val/agravo_em_recurso_extraordinario/ARE_1075473_312738372_1420_14092017_7.npy'),Path('activations/text/val/agravo_em_recurso_extraordinario/ARE_1062700_312268503_1420_21072017_4.npy'),Path('activations/text/val/agravo_em_recurso_extraordinario/ARE_941848_308456398_1420_14012016_3.npy'),Path('activations/text/val/agravo_em_recurso_extraordinario/ARE_941656_308447674_1420_12012016_11.npy'),Path('activations/text/val/agravo_em_recurso_extraordinario/ARE_1068167_312485271_1420_22082017_10.npy')...]"
      ]
     },
     "execution_count": 7,
     "metadata": {},
     "output_type": "execute_result"
    }
   ],
   "source": [
    "text_files = get_files(path/\"text\"); text_files"
   ]
  },
  {
   "cell_type": "code",
   "execution_count": 8,
   "metadata": {},
   "outputs": [],
   "source": [
    "text_set = set([t.with_suffix(\"\").name for t in text_files])"
   ]
  },
  {
   "cell_type": "code",
   "execution_count": 9,
   "metadata": {},
   "outputs": [],
   "source": [
    "img_set = set([t.with_suffix(\"\").name for t in img_files])"
   ]
  },
  {
   "cell_type": "code",
   "execution_count": 10,
   "metadata": {},
   "outputs": [
    {
     "data": {
      "text/plain": [
       "(326037, 359882)"
      ]
     },
     "execution_count": 10,
     "metadata": {},
     "output_type": "execute_result"
    }
   ],
   "source": [
    "len(text_set), len(img_set)"
   ]
  },
  {
   "cell_type": "code",
   "execution_count": 11,
   "metadata": {},
   "outputs": [
    {
     "data": {
      "text/plain": [
       "326033"
      ]
     },
     "execution_count": 11,
     "metadata": {},
     "output_type": "execute_result"
    }
   ],
   "source": [
    "img_and_text = text_set.intersection(text_set, img_set); len(img_and_text)"
   ]
  },
  {
   "cell_type": "code",
   "execution_count": 12,
   "metadata": {},
   "outputs": [
    {
     "data": {
      "text/plain": [
       "33849"
      ]
     },
     "execution_count": 12,
     "metadata": {},
     "output_type": "execute_result"
    }
   ],
   "source": [
    "just_img = img_set - text_set; len(just_img)"
   ]
  },
  {
   "cell_type": "code",
   "execution_count": 13,
   "metadata": {},
   "outputs": [
    {
     "data": {
      "text/plain": [
       "4"
      ]
     },
     "execution_count": 13,
     "metadata": {},
     "output_type": "execute_result"
    }
   ],
   "source": [
    "just_text = text_set - img_set; len(just_text)"
   ]
  },
  {
   "cell_type": "code",
   "execution_count": 14,
   "metadata": {},
   "outputs": [],
   "source": [
    "data = img_files"
   ]
  },
  {
   "cell_type": "code",
   "execution_count": 15,
   "metadata": {},
   "outputs": [],
   "source": [
    "for file in text_files:\n",
    "    if file.with_suffix(\"\").name in just_text:\n",
    "         data.append(file)"
   ]
  },
  {
   "cell_type": "code",
   "execution_count": 16,
   "metadata": {},
   "outputs": [
    {
     "data": {
      "text/plain": [
       "359886"
      ]
     },
     "execution_count": 16,
     "metadata": {},
     "output_type": "execute_result"
    }
   ],
   "source": [
    "len(data)"
   ]
  },
  {
   "cell_type": "code",
   "execution_count": 17,
   "metadata": {},
   "outputs": [],
   "source": [
    "img_shape = torch.load(data[0]).shape"
   ]
  },
  {
   "cell_type": "code",
   "execution_count": 18,
   "metadata": {},
   "outputs": [],
   "source": [
    "text_shape = np.load(data[-1]).shape"
   ]
  },
  {
   "cell_type": "code",
   "execution_count": 19,
   "metadata": {},
   "outputs": [
    {
     "data": {
      "text/plain": [
       "(torch.Size([4096]), (3840,))"
      ]
     },
     "execution_count": 19,
     "metadata": {},
     "output_type": "execute_result"
    }
   ],
   "source": [
    "img_shape, text_shape"
   ]
  },
  {
   "cell_type": "code",
   "execution_count": 20,
   "metadata": {},
   "outputs": [],
   "source": [
    "class GetActs(Transform):\n",
    "    def encodes(self, x):\n",
    "        img_file = text_file = None\n",
    "        img_none = text_none = False\n",
    "        if x.with_suffix(\"\").name in img_and_text:\n",
    "            img_file = x\n",
    "            text_file = Path(x.as_posix().replace(\"img\", \"text\").replace(\"pt\", \"npy\"))\n",
    "        elif x.with_suffix(\"\").name in just_img:\n",
    "            img_file=x\n",
    "        elif x.with_suffix(\"\").name in just_text:\n",
    "            text_file=x\n",
    "        if img_file is None:\n",
    "            img_act = torch.zeros(img_shape)\n",
    "            img_none=True\n",
    "        else:\n",
    "            img_act = torch.load(img_file)\n",
    "        if text_file is None:\n",
    "            text_act = torch.zeros(text_shape)\n",
    "            text_none = True\n",
    "        else:\n",
    "            text_act = tensor(np.load(text_file))\n",
    "        return (img_act, text_act, img_none, text_none)"
   ]
  },
  {
   "cell_type": "code",
   "execution_count": 21,
   "metadata": {},
   "outputs": [],
   "source": [
    "tfms = [[GetActs()], [parent_label, Categorize()]]\n",
    "splits = GrandparentSplitter(valid_name='val')(data)\n",
    "dsets = Datasets(data, tfms, splits=splits)\n",
    "dls = dsets.dataloaders()"
   ]
  },
  {
   "cell_type": "code",
   "execution_count": 22,
   "metadata": {},
   "outputs": [
    {
     "data": {
      "text/plain": [
       "((#158308) [((tensor([1.0705, 2.5618, 1.5041,  ..., 0.6216, 0.0583, 0.2009]), tensor([0., 0., 0.,  ..., 0., 0., 0.]), False, True), TensorCategory(1)),((tensor([0.4848, 2.4331, 1.3183,  ..., 0.4955, 0.6567, 0.3695]), tensor([0., 0., 0.,  ..., 0., 0., 0.]), False, True), TensorCategory(1)),((tensor([1.7524, 1.5423, 1.3229,  ..., 0.1082, 0.5275, 0.3602]), tensor([0.0000, 0.0000, 0.1854,  ..., 0.0000, 0.0000, 0.0000]), False, False), TensorCategory(1)),((tensor([0.8225, 1.9279, 1.7849,  ..., 0.1336, 0.2967, 0.2964]), tensor([0.0444, 0.0000, 0.0000,  ..., 0.0000, 0.0000, 0.0000]), False, False), TensorCategory(1)),((tensor([1.2731, 1.4753, 2.8595,  ..., 0.1491, 0.1504, 0.1222]), tensor([0., 0., 0.,  ..., 0., 0., 0.]), False, True), TensorCategory(1)),((tensor([1.8722, 1.9171, 3.0970,  ..., 0.5567, 0.3478, 0.4769]), tensor([0., 0., 0.,  ..., 0., 0., 0.]), False, True), TensorCategory(1)),((tensor([0.7557, 0.9525, 1.6604,  ..., 0.1216, 0.3352, 0.2508]), tensor([0.6888, 1.2101, 0.0938,  ..., 0.0000, 0.0000, 0.0000]), False, False), TensorCategory(1)),((tensor([0.9596, 2.2667, 1.0882,  ..., 0.2495, 0.7927, 0.2228]), tensor([0.0304, 0.0000, 0.0438,  ..., 0.0000, 0.0000, 0.0000]), False, False), TensorCategory(1)),((tensor([0.5727, 2.7897, 2.3002,  ..., 0.3763, 0.3163, 0.4936]), tensor([0., 0., 0.,  ..., 0., 0., 0.]), False, False), TensorCategory(1)),((tensor([1.8649, 1.0870, 1.1383,  ..., 0.0301, 0.4027, 0.2140]), tensor([0., 0., 0.,  ..., 0., 0., 0.]), False, True), TensorCategory(1))...],\n",
       " (#102997) [((tensor([0.7567, 1.9235, 2.2650,  ..., 0.2472, 0.3826, 0.3628]), tensor([0., 0., 0.,  ..., 0., 0., 0.]), False, False), TensorCategory(1)),((tensor([0.8014, 1.2480, 1.8838,  ..., 0.3200, 0.1493, 0.5663]), tensor([0.0008, 0.0507, 0.0000,  ..., 0.0000, 0.0000, 0.0000]), False, False), TensorCategory(1)),((tensor([0.7962, 1.9354, 1.5023,  ..., 0.2522, 0.2138, 0.1454]), tensor([0.0000, 0.0000, 0.0781,  ..., 0.0000, 0.0000, 0.0000]), False, False), TensorCategory(1)),((tensor([1.5760, 0.7950, 2.0646,  ..., 0.2342, 0.4156, 0.0577]), tensor([0., 0., 0.,  ..., 0., 0., 0.]), False, True), TensorCategory(1)),((tensor([0.5231, 1.8346, 1.5145,  ..., 0.2742, 0.4154, 0.1238]), tensor([0., 0., 0.,  ..., 0., 0., 0.]), False, False), TensorCategory(1)),((tensor([1.6181, 2.3449, 1.7439,  ..., 0.2545, 0.2389, 0.2393]), tensor([0., 0., 0.,  ..., 0., 0., 0.]), False, True), TensorCategory(1)),((tensor([0.4704, 1.8686, 1.6320,  ..., 0.1668, 0.1176, 0.1291]), tensor([0., 0., 0.,  ..., 0., 0., 0.]), False, False), TensorCategory(1)),((tensor([1.1768, 1.9786, 2.5312,  ..., 0.2126, 0.2739, 0.1791]), tensor([0., 0., 0.,  ..., 0., 0., 0.]), False, False), TensorCategory(1)),((tensor([0.4585, 2.3578, 1.5122,  ..., 0.0783, 0.0619, 0.2004]), tensor([0., 0., 0.,  ..., 0., 0., 0.]), False, True), TensorCategory(1)),((tensor([0.5478, 1.9704, 1.8852,  ..., 0.0907, 0.0543, 0.4387]), tensor([0., 0., 0.,  ..., 0., 0., 0.]), False, False), TensorCategory(1))...])"
      ]
     },
     "execution_count": 22,
     "metadata": {},
     "output_type": "execute_result"
    }
   ],
   "source": [
    "dls.train_ds, dls.valid_ds"
   ]
  },
  {
   "cell_type": "code",
   "execution_count": 23,
   "metadata": {},
   "outputs": [],
   "source": [
    "torch.save(dls, \"./data/fusion_dl.pth\")"
   ]
  },
  {
   "cell_type": "code",
   "execution_count": 24,
   "metadata": {},
   "outputs": [],
   "source": [
    "class ImgTextFusion(Module):\n",
    "    def __init__(self, head, embs_for_none=True, img_emb_dim=4096, text_emb_dim=3840):\n",
    "        self.head = head.cuda()\n",
    "        self.embs_for_none = embs_for_none\n",
    "        if embs_for_none:\n",
    "            self.img_none_emb = torch.nn.Embedding(num_embeddings=1, embedding_dim=img_emb_dim).cuda()\n",
    "            self.text_none_emb = torch.nn.Embedding(num_embeddings=1, embedding_dim=text_emb_dim).cuda()\n",
    "            self.index= tensor(0).cuda()\n",
    "    \n",
    "    def forward(self, x):\n",
    "        img_act, text_act, img_none, text_none = x\n",
    "        if self.embs_for_none:\n",
    "            img_act[img_none] = self.img_none_emb(self.index)\n",
    "            text_act[text_none] = self.text_none_emb(self.index)\n",
    "        return self.head(torch.cat([img_act, text_act], axis=-1))"
   ]
  },
  {
   "cell_type": "code",
   "execution_count": 25,
   "metadata": {},
   "outputs": [],
   "source": [
    "def create_head(nf, n_out, lin_ftrs=None, ps=0.5, bn_final=False, lin_first=False):\n",
    "    \"Model head that takes `nf` features, runs through `lin_ftrs`, and out `n_out` classes.\"\n",
    "    lin_ftrs = [nf, 512, n_out] if lin_ftrs is None else [nf] + lin_ftrs + [n_out]\n",
    "    ps = L(ps)\n",
    "    if len(ps) == 1: ps = [ps[0]/2] * (len(lin_ftrs)-2) + ps\n",
    "    actns = [nn.ReLU(inplace=True)] * (len(lin_ftrs)-2) + [None]\n",
    "    layers = []\n",
    "    if lin_first: layers.append(nn.Dropout(ps.pop(0)))\n",
    "    for ni,no,p,actn in zip(lin_ftrs[:-1], lin_ftrs[1:], ps, actns):\n",
    "        layers += LinBnDrop(ni, no, bn=True, p=p, act=actn, lin_first=lin_first)\n",
    "    if lin_first: layers.append(nn.Linear(lin_ftrs[-2], n_out))\n",
    "    if bn_final: layers.append(nn.BatchNorm1d(lin_ftrs[-1], momentum=0.01))\n",
    "    return nn.Sequential(*layers)"
   ]
  },
  {
   "cell_type": "code",
   "execution_count": 305,
   "metadata": {},
   "outputs": [],
   "source": [
    "head = create_head(4096 + 3840, OUT_DIM)"
   ]
  },
  {
   "cell_type": "code",
   "execution_count": 306,
   "metadata": {},
   "outputs": [],
   "source": [
    "model = ImgTextFusion(head)"
   ]
  },
  {
   "cell_type": "code",
   "execution_count": 26,
   "metadata": {},
   "outputs": [],
   "source": [
    "def loss_func(out, targ):\n",
    "    return CrossEntropyLossFlat()(out, targ.long())"
   ]
  },
  {
   "cell_type": "code",
   "execution_count": 27,
   "metadata": {},
   "outputs": [],
   "source": [
    "fscore = F1Score(average='macro')"
   ]
  },
  {
   "cell_type": "code",
   "execution_count": 317,
   "metadata": {},
   "outputs": [],
   "source": [
    "learn = Learner(dls, model, loss_func=loss_func, metrics=[accuracy, fscore])"
   ]
  },
  {
   "cell_type": "code",
   "execution_count": 318,
   "metadata": {},
   "outputs": [
    {
     "data": {
      "text/html": [
       "<table border=\"1\" class=\"dataframe\">\n",
       "  <thead>\n",
       "    <tr style=\"text-align: left;\">\n",
       "      <th>epoch</th>\n",
       "      <th>train_loss</th>\n",
       "      <th>valid_loss</th>\n",
       "      <th>accuracy</th>\n",
       "      <th>f1_score</th>\n",
       "      <th>time</th>\n",
       "    </tr>\n",
       "  </thead>\n",
       "  <tbody>\n",
       "    <tr>\n",
       "      <td>0</td>\n",
       "      <td>None</td>\n",
       "      <td>None</td>\n",
       "      <td>None</td>\n",
       "      <td>00:00</td>\n",
       "    </tr>\n",
       "  </tbody>\n",
       "</table>"
      ],
      "text/plain": [
       "<IPython.core.display.HTML object>"
      ]
     },
     "metadata": {},
     "output_type": "display_data"
    },
    {
     "data": {
      "text/plain": [
       "ImgTextFusion (Input shape: [\"['64 x 4096', '64 x 3840', '64', '64']\"])\n",
       "================================================================\n",
       "Layer (type)         Output Shape         Param #    Trainable \n",
       "================================================================\n",
       "BatchNorm1d          64 x 7936            15,872     True      \n",
       "________________________________________________________________\n",
       "Dropout              64 x 7936            0          False     \n",
       "________________________________________________________________\n",
       "Linear               64 x 512             4,063,232  True      \n",
       "________________________________________________________________\n",
       "ReLU                 64 x 512             0          False     \n",
       "________________________________________________________________\n",
       "BatchNorm1d          64 x 512             1,024      True      \n",
       "________________________________________________________________\n",
       "Dropout              64 x 512             0          False     \n",
       "________________________________________________________________\n",
       "Linear               64 x 6               3,072      True      \n",
       "________________________________________________________________\n",
       "Embedding            64                   4,096      True      \n",
       "________________________________________________________________\n",
       "Embedding            64                   3,840      True      \n",
       "________________________________________________________________\n",
       "\n",
       "Total params: 4,091,136\n",
       "Total trainable params: 4,091,136\n",
       "Total non-trainable params: 0\n",
       "\n",
       "Optimizer used: <function Adam at 0x7fc2be98e1f0>\n",
       "Loss function: <function loss_func at 0x7fc24419dca0>\n",
       "\n",
       "Callbacks:\n",
       "  - TrainEvalCallback\n",
       "  - Recorder\n",
       "  - ProgressCallback"
      ]
     },
     "execution_count": 318,
     "metadata": {},
     "output_type": "execute_result"
    }
   ],
   "source": [
    "learn.summary()"
   ]
  },
  {
   "cell_type": "code",
   "execution_count": 320,
   "metadata": {},
   "outputs": [
    {
     "data": {
      "text/html": [],
      "text/plain": [
       "<IPython.core.display.HTML object>"
      ]
     },
     "metadata": {},
     "output_type": "display_data"
    },
    {
     "data": {
      "text/plain": [
       "(#3) [1.780272364616394,0.1119547188282013,0.05780499452619731]"
      ]
     },
     "execution_count": 320,
     "metadata": {},
     "output_type": "execute_result"
    }
   ],
   "source": [
    "learn.validate()"
   ]
  },
  {
   "cell_type": "code",
   "execution_count": 264,
   "metadata": {},
   "outputs": [
    {
     "data": {
      "text/html": [],
      "text/plain": [
       "<IPython.core.display.HTML object>"
      ]
     },
     "metadata": {},
     "output_type": "display_data"
    },
    {
     "data": {
      "text/plain": [
       "SuggestedLRs(lr_min=0.025118863582611083, lr_steep=0.05754399299621582)"
      ]
     },
     "execution_count": 264,
     "metadata": {},
     "output_type": "execute_result"
    },
    {
     "data": {
      "image/png": "[encoded data removed]",
      "text/plain": [
       "<Figure size 432x288 with 1 Axes>"
      ]
     },
     "metadata": {
      "needs_background": "light"
     },
     "output_type": "display_data"
    }
   ],
   "source": [
    "learn.lr_find()"
   ]
  },
  {
   "cell_type": "code",
   "execution_count": 321,
   "metadata": {},
   "outputs": [],
   "source": [
    "learn.add_cbs([SaveModelCallback(monitor='f1_score', fname='best_fusion'),\n",
    "                                       ShowGraphCallback()])"
   ]
  },
  {
   "cell_type": "code",
   "execution_count": 323,
   "metadata": {},
   "outputs": [
    {
     "data": {
      "text/html": [
       "<table border=\"1\" class=\"dataframe\">\n",
       "  <thead>\n",
       "    <tr style=\"text-align: left;\">\n",
       "      <th>epoch</th>\n",
       "      <th>train_loss</th>\n",
       "      <th>valid_loss</th>\n",
       "      <th>accuracy</th>\n",
       "      <th>f1_score</th>\n",
       "      <th>time</th>\n",
       "    </tr>\n",
       "  </thead>\n",
       "  <tbody>\n",
       "    <tr>\n",
       "      <td>0</td>\n",
       "      <td>0.156895</td>\n",
       "      <td>0.292673</td>\n",
       "      <td>0.941911</td>\n",
       "      <td>0.725074</td>\n",
       "      <td>29:36</td>\n",
       "    </tr>\n",
       "    <tr>\n",
       "      <td>1</td>\n",
       "      <td>0.318428</td>\n",
       "      <td>1.201178</td>\n",
       "      <td>0.937260</td>\n",
       "      <td>0.583699</td>\n",
       "      <td>23:12</td>\n",
       "    </tr>\n",
       "    <tr>\n",
       "      <td>2</td>\n",
       "      <td>0.301540</td>\n",
       "      <td>61.136528</td>\n",
       "      <td>0.928328</td>\n",
       "      <td>0.560453</td>\n",
       "      <td>10:39</td>\n",
       "    </tr>\n",
       "    <tr>\n",
       "      <td>3</td>\n",
       "      <td>0.233729</td>\n",
       "      <td>20.332190</td>\n",
       "      <td>0.934231</td>\n",
       "      <td>0.603734</td>\n",
       "      <td>12:55</td>\n",
       "    </tr>\n",
       "    <tr>\n",
       "      <td>4</td>\n",
       "      <td>0.236815</td>\n",
       "      <td>0.497308</td>\n",
       "      <td>0.923037</td>\n",
       "      <td>0.694410</td>\n",
       "      <td>08:44</td>\n",
       "    </tr>\n",
       "    <tr>\n",
       "      <td>5</td>\n",
       "      <td>0.175361</td>\n",
       "      <td>2.344356</td>\n",
       "      <td>0.896745</td>\n",
       "      <td>0.624413</td>\n",
       "      <td>09:05</td>\n",
       "    </tr>\n",
       "    <tr>\n",
       "      <td>6</td>\n",
       "      <td>0.122372</td>\n",
       "      <td>11.672071</td>\n",
       "      <td>0.932726</td>\n",
       "      <td>0.546704</td>\n",
       "      <td>08:21</td>\n",
       "    </tr>\n",
       "    <tr>\n",
       "      <td>7</td>\n",
       "      <td>0.090470</td>\n",
       "      <td>0.654125</td>\n",
       "      <td>0.939872</td>\n",
       "      <td>0.722263</td>\n",
       "      <td>08:19</td>\n",
       "    </tr>\n",
       "    <tr>\n",
       "      <td>8</td>\n",
       "      <td>0.088848</td>\n",
       "      <td>2.647726</td>\n",
       "      <td>0.938765</td>\n",
       "      <td>0.744009</td>\n",
       "      <td>07:36</td>\n",
       "    </tr>\n",
       "    <tr>\n",
       "      <td>9</td>\n",
       "      <td>0.073090</td>\n",
       "      <td>1.100814</td>\n",
       "      <td>0.938212</td>\n",
       "      <td>0.708762</td>\n",
       "      <td>08:06</td>\n",
       "    </tr>\n",
       "  </tbody>\n",
       "</table>"
      ],
      "text/plain": [
       "<IPython.core.display.HTML object>"
      ]
     },
     "metadata": {},
     "output_type": "display_data"
    },
    {
     "name": "stdout",
     "output_type": "stream",
     "text": [
      "Better model found at epoch 0 with f1_score value: 0.725074400379516.\n"
     ]
    },
    {
     "data": {
      "image/png": "[encoded data removed]",
      "text/plain": [
       "<Figure size 432x288 with 1 Axes>"
      ]
     },
     "metadata": {},
     "output_type": "display_data"
    },
    {
     "name": "stdout",
     "output_type": "stream",
     "text": [
      "Better model found at epoch 8 with f1_score value: 0.7440088203861196.\n"
     ]
    }
   ],
   "source": [
    "learn.fit_one_cycle(10, lr_max=5e-2)"
   ]
  },
  {
   "cell_type": "code",
   "execution_count": 325,
   "metadata": {},
   "outputs": [],
   "source": [
    "head = create_head(4096 + 3840, OUT_DIM, lin_ftrs=[128])"
   ]
  },
  {
   "cell_type": "code",
   "execution_count": 326,
   "metadata": {},
   "outputs": [],
   "source": [
    "model = ImgTextFusion(head)"
   ]
  },
  {
   "cell_type": "code",
   "execution_count": 327,
   "metadata": {},
   "outputs": [],
   "source": [
    "learn = Learner(dls, model, loss_func=loss_func, metrics=[accuracy, fscore])"
   ]
  },
  {
   "cell_type": "code",
   "execution_count": 328,
   "metadata": {},
   "outputs": [
    {
     "data": {
      "text/html": [
       "<table border=\"1\" class=\"dataframe\">\n",
       "  <thead>\n",
       "    <tr style=\"text-align: left;\">\n",
       "      <th>epoch</th>\n",
       "      <th>train_loss</th>\n",
       "      <th>valid_loss</th>\n",
       "      <th>accuracy</th>\n",
       "      <th>f1_score</th>\n",
       "      <th>time</th>\n",
       "    </tr>\n",
       "  </thead>\n",
       "  <tbody>\n",
       "    <tr>\n",
       "      <td>0</td>\n",
       "      <td>None</td>\n",
       "      <td>None</td>\n",
       "      <td>None</td>\n",
       "      <td>00:00</td>\n",
       "    </tr>\n",
       "  </tbody>\n",
       "</table>"
      ],
      "text/plain": [
       "<IPython.core.display.HTML object>"
      ]
     },
     "metadata": {},
     "output_type": "display_data"
    },
    {
     "data": {
      "text/plain": [
       "ImgTextFusion (Input shape: [\"['64 x 4096', '64 x 3840', '64', '64']\"])\n",
       "================================================================\n",
       "Layer (type)         Output Shape         Param #    Trainable \n",
       "================================================================\n",
       "BatchNorm1d          64 x 7936            15,872     True      \n",
       "________________________________________________________________\n",
       "Dropout              64 x 7936            0          False     \n",
       "________________________________________________________________\n",
       "Linear               64 x 128             1,015,808  True      \n",
       "________________________________________________________________\n",
       "ReLU                 64 x 128             0          False     \n",
       "________________________________________________________________\n",
       "BatchNorm1d          64 x 128             256        True      \n",
       "________________________________________________________________\n",
       "Dropout              64 x 128             0          False     \n",
       "________________________________________________________________\n",
       "Linear               64 x 6               768        True      \n",
       "________________________________________________________________\n",
       "Embedding            64                   4,096      True      \n",
       "________________________________________________________________\n",
       "Embedding            64                   3,840      True      \n",
       "________________________________________________________________\n",
       "\n",
       "Total params: 1,040,640\n",
       "Total trainable params: 1,040,640\n",
       "Total non-trainable params: 0\n",
       "\n",
       "Optimizer used: <function Adam at 0x7fc2be98e1f0>\n",
       "Loss function: <function loss_func at 0x7fc24419dca0>\n",
       "\n",
       "Callbacks:\n",
       "  - TrainEvalCallback\n",
       "  - Recorder\n",
       "  - ProgressCallback"
      ]
     },
     "execution_count": 328,
     "metadata": {},
     "output_type": "execute_result"
    }
   ],
   "source": [
    "learn.summary()"
   ]
  },
  {
   "cell_type": "code",
   "execution_count": 329,
   "metadata": {},
   "outputs": [
    {
     "data": {
      "text/html": [],
      "text/plain": [
       "<IPython.core.display.HTML object>"
      ]
     },
     "metadata": {},
     "output_type": "display_data"
    },
    {
     "data": {
      "text/plain": [
       "SuggestedLRs(lr_min=0.04365158379077912, lr_steep=0.2089296132326126)"
      ]
     },
     "execution_count": 329,
     "metadata": {},
     "output_type": "execute_result"
    },
    {
     "data": {
      "image/png": "[encoded data removed]",
      "text/plain": [
       "<Figure size 432x288 with 1 Axes>"
      ]
     },
     "metadata": {
      "needs_background": "light"
     },
     "output_type": "display_data"
    }
   ],
   "source": [
    "learn.lr_find()"
   ]
  },
  {
   "cell_type": "code",
   "execution_count": 330,
   "metadata": {},
   "outputs": [],
   "source": [
    "learn.add_cbs([SaveModelCallback(monitor='f1_score', fname='best_fusion_128'),\n",
    "                                       ShowGraphCallback()])"
   ]
  },
  {
   "cell_type": "code",
   "execution_count": 331,
   "metadata": {},
   "outputs": [
    {
     "data": {
      "text/html": [
       "<table border=\"1\" class=\"dataframe\">\n",
       "  <thead>\n",
       "    <tr style=\"text-align: left;\">\n",
       "      <th>epoch</th>\n",
       "      <th>train_loss</th>\n",
       "      <th>valid_loss</th>\n",
       "      <th>accuracy</th>\n",
       "      <th>f1_score</th>\n",
       "      <th>time</th>\n",
       "    </tr>\n",
       "  </thead>\n",
       "  <tbody>\n",
       "    <tr>\n",
       "      <td>0</td>\n",
       "      <td>0.118076</td>\n",
       "      <td>0.293594</td>\n",
       "      <td>0.937688</td>\n",
       "      <td>0.703868</td>\n",
       "      <td>09:25</td>\n",
       "    </tr>\n",
       "    <tr>\n",
       "      <td>1</td>\n",
       "      <td>0.162370</td>\n",
       "      <td>0.363445</td>\n",
       "      <td>0.934920</td>\n",
       "      <td>0.535164</td>\n",
       "      <td>08:54</td>\n",
       "    </tr>\n",
       "    <tr>\n",
       "      <td>2</td>\n",
       "      <td>0.165360</td>\n",
       "      <td>0.322928</td>\n",
       "      <td>0.941018</td>\n",
       "      <td>0.664880</td>\n",
       "      <td>08:14</td>\n",
       "    </tr>\n",
       "    <tr>\n",
       "      <td>3</td>\n",
       "      <td>0.140249</td>\n",
       "      <td>0.340284</td>\n",
       "      <td>0.937270</td>\n",
       "      <td>0.731723</td>\n",
       "      <td>07:42</td>\n",
       "    </tr>\n",
       "    <tr>\n",
       "      <td>4</td>\n",
       "      <td>0.141849</td>\n",
       "      <td>0.320091</td>\n",
       "      <td>0.940746</td>\n",
       "      <td>0.704346</td>\n",
       "      <td>07:50</td>\n",
       "    </tr>\n",
       "    <tr>\n",
       "      <td>5</td>\n",
       "      <td>0.119744</td>\n",
       "      <td>0.328166</td>\n",
       "      <td>0.942678</td>\n",
       "      <td>0.731926</td>\n",
       "      <td>08:02</td>\n",
       "    </tr>\n",
       "    <tr>\n",
       "      <td>6</td>\n",
       "      <td>0.111024</td>\n",
       "      <td>0.294653</td>\n",
       "      <td>0.939299</td>\n",
       "      <td>0.715262</td>\n",
       "      <td>07:41</td>\n",
       "    </tr>\n",
       "    <tr>\n",
       "      <td>7</td>\n",
       "      <td>0.101082</td>\n",
       "      <td>0.274733</td>\n",
       "      <td>0.942057</td>\n",
       "      <td>0.726453</td>\n",
       "      <td>07:36</td>\n",
       "    </tr>\n",
       "    <tr>\n",
       "      <td>8</td>\n",
       "      <td>0.084364</td>\n",
       "      <td>0.279463</td>\n",
       "      <td>0.939979</td>\n",
       "      <td>0.758873</td>\n",
       "      <td>07:43</td>\n",
       "    </tr>\n",
       "    <tr>\n",
       "      <td>9</td>\n",
       "      <td>0.066093</td>\n",
       "      <td>0.289075</td>\n",
       "      <td>0.940882</td>\n",
       "      <td>0.757747</td>\n",
       "      <td>07:13</td>\n",
       "    </tr>\n",
       "  </tbody>\n",
       "</table>"
      ],
      "text/plain": [
       "<IPython.core.display.HTML object>"
      ]
     },
     "metadata": {},
     "output_type": "display_data"
    },
    {
     "name": "stdout",
     "output_type": "stream",
     "text": [
      "Better model found at epoch 0 with f1_score value: 0.7038682571851839.\n"
     ]
    },
    {
     "data": {
      "image/png": "[encoded data removed]",
      "text/plain": [
       "<Figure size 432x288 with 1 Axes>"
      ]
     },
     "metadata": {},
     "output_type": "display_data"
    },
    {
     "name": "stdout",
     "output_type": "stream",
     "text": [
      "Better model found at epoch 3 with f1_score value: 0.7317225459776453.\n",
      "Better model found at epoch 8 with f1_score value: 0.7588733029346217.\n"
     ]
    }
   ],
   "source": [
    "learn.fit_one_cycle(10, lr_max=5e-2)"
   ]
  },
  {
   "cell_type": "code",
   "execution_count": 28,
   "metadata": {},
   "outputs": [],
   "source": [
    "head = create_head(4096 + 3840, OUT_DIM, lin_ftrs=[128])"
   ]
  },
  {
   "cell_type": "code",
   "execution_count": 29,
   "metadata": {},
   "outputs": [],
   "source": [
    "model = ImgTextFusion(head, embs_for_none=False)"
   ]
  },
  {
   "cell_type": "code",
   "execution_count": 30,
   "metadata": {},
   "outputs": [],
   "source": [
    "learn = Learner(dls, model, loss_func=loss_func, metrics=[accuracy, fscore])"
   ]
  },
  {
   "cell_type": "code",
   "execution_count": 31,
   "metadata": {},
   "outputs": [
    {
     "data": {
      "text/html": [
       "<table border=\"1\" class=\"dataframe\">\n",
       "  <thead>\n",
       "    <tr style=\"text-align: left;\">\n",
       "      <th>epoch</th>\n",
       "      <th>train_loss</th>\n",
       "      <th>valid_loss</th>\n",
       "      <th>accuracy</th>\n",
       "      <th>f1_score</th>\n",
       "      <th>time</th>\n",
       "    </tr>\n",
       "  </thead>\n",
       "  <tbody>\n",
       "    <tr>\n",
       "      <td>0</td>\n",
       "      <td>None</td>\n",
       "      <td>None</td>\n",
       "      <td>None</td>\n",
       "      <td>00:00</td>\n",
       "    </tr>\n",
       "  </tbody>\n",
       "</table>"
      ],
      "text/plain": [
       "<IPython.core.display.HTML object>"
      ]
     },
     "metadata": {},
     "output_type": "display_data"
    },
    {
     "data": {
      "text/plain": [
       "ImgTextFusion (Input shape: [\"['64 x 4096', '64 x 3840', '64', '64']\"])\n",
       "================================================================\n",
       "Layer (type)         Output Shape         Param #    Trainable \n",
       "================================================================\n",
       "BatchNorm1d          64 x 7936            15,872     True      \n",
       "________________________________________________________________\n",
       "Dropout              64 x 7936            0          False     \n",
       "________________________________________________________________\n",
       "Linear               64 x 128             1,015,808  True      \n",
       "________________________________________________________________\n",
       "ReLU                 64 x 128             0          False     \n",
       "________________________________________________________________\n",
       "BatchNorm1d          64 x 128             256        True      \n",
       "________________________________________________________________\n",
       "Dropout              64 x 128             0          False     \n",
       "________________________________________________________________\n",
       "Linear               64 x 6               768        True      \n",
       "________________________________________________________________\n",
       "\n",
       "Total params: 1,032,704\n",
       "Total trainable params: 1,032,704\n",
       "Total non-trainable params: 0\n",
       "\n",
       "Optimizer used: <function Adam at 0x7f0425aa3d30>\n",
       "Loss function: <function loss_func at 0x7f045f8d2280>\n",
       "\n",
       "Callbacks:\n",
       "  - TrainEvalCallback\n",
       "  - Recorder\n",
       "  - ProgressCallback"
      ]
     },
     "execution_count": 31,
     "metadata": {},
     "output_type": "execute_result"
    }
   ],
   "source": [
    "learn.summary()"
   ]
  },
  {
   "cell_type": "code",
   "execution_count": 32,
   "metadata": {},
   "outputs": [
    {
     "data": {
      "text/html": [],
      "text/plain": [
       "<IPython.core.display.HTML object>"
      ]
     },
     "metadata": {},
     "output_type": "display_data"
    },
    {
     "data": {
      "text/plain": [
       "SuggestedLRs(lr_min=0.05248074531555176, lr_steep=0.05754399299621582)"
      ]
     },
     "execution_count": 32,
     "metadata": {},
     "output_type": "execute_result"
    },
    {
     "data": {
      "image/png": "[encoded data removed]",
      "text/plain": [
       "<Figure size 432x288 with 1 Axes>"
      ]
     },
     "metadata": {
      "needs_background": "light"
     },
     "output_type": "display_data"
    }
   ],
   "source": [
    "learn.lr_find()"
   ]
  },
  {
   "cell_type": "code",
   "execution_count": 33,
   "metadata": {},
   "outputs": [],
   "source": [
    "learn.add_cbs([SaveModelCallback(monitor='f1_score', fname='best_fusion_zeros_128'),\n",
    "                                       ShowGraphCallback()])"
   ]
  },
  {
   "cell_type": "code",
   "execution_count": 34,
   "metadata": {},
   "outputs": [
    {
     "data": {
      "text/html": [
       "<table border=\"1\" class=\"dataframe\">\n",
       "  <thead>\n",
       "    <tr style=\"text-align: left;\">\n",
       "      <th>epoch</th>\n",
       "      <th>train_loss</th>\n",
       "      <th>valid_loss</th>\n",
       "      <th>accuracy</th>\n",
       "      <th>f1_score</th>\n",
       "      <th>time</th>\n",
       "    </tr>\n",
       "  </thead>\n",
       "  <tbody>\n",
       "    <tr>\n",
       "      <td>0</td>\n",
       "      <td>0.129154</td>\n",
       "      <td>0.271520</td>\n",
       "      <td>0.938503</td>\n",
       "      <td>0.744587</td>\n",
       "      <td>10:43</td>\n",
       "    </tr>\n",
       "    <tr>\n",
       "      <td>1</td>\n",
       "      <td>0.162976</td>\n",
       "      <td>4.529834</td>\n",
       "      <td>0.935416</td>\n",
       "      <td>0.690358</td>\n",
       "      <td>08:12</td>\n",
       "    </tr>\n",
       "    <tr>\n",
       "      <td>2</td>\n",
       "      <td>0.152192</td>\n",
       "      <td>31.067368</td>\n",
       "      <td>0.928852</td>\n",
       "      <td>0.526922</td>\n",
       "      <td>07:53</td>\n",
       "    </tr>\n",
       "    <tr>\n",
       "      <td>3</td>\n",
       "      <td>0.148391</td>\n",
       "      <td>2.025796</td>\n",
       "      <td>0.936309</td>\n",
       "      <td>0.669696</td>\n",
       "      <td>06:38</td>\n",
       "    </tr>\n",
       "    <tr>\n",
       "      <td>4</td>\n",
       "      <td>0.138549</td>\n",
       "      <td>6.456329</td>\n",
       "      <td>0.936678</td>\n",
       "      <td>0.714411</td>\n",
       "      <td>06:34</td>\n",
       "    </tr>\n",
       "    <tr>\n",
       "      <td>5</td>\n",
       "      <td>0.121936</td>\n",
       "      <td>4.891136</td>\n",
       "      <td>0.933153</td>\n",
       "      <td>0.643067</td>\n",
       "      <td>06:37</td>\n",
       "    </tr>\n",
       "    <tr>\n",
       "      <td>6</td>\n",
       "      <td>0.111608</td>\n",
       "      <td>7.745969</td>\n",
       "      <td>0.939115</td>\n",
       "      <td>0.689900</td>\n",
       "      <td>06:43</td>\n",
       "    </tr>\n",
       "    <tr>\n",
       "      <td>7</td>\n",
       "      <td>0.093554</td>\n",
       "      <td>8.347287</td>\n",
       "      <td>0.939290</td>\n",
       "      <td>0.692763</td>\n",
       "      <td>06:50</td>\n",
       "    </tr>\n",
       "    <tr>\n",
       "      <td>8</td>\n",
       "      <td>0.089009</td>\n",
       "      <td>0.828253</td>\n",
       "      <td>0.940726</td>\n",
       "      <td>0.724338</td>\n",
       "      <td>07:02</td>\n",
       "    </tr>\n",
       "    <tr>\n",
       "      <td>9</td>\n",
       "      <td>0.081469</td>\n",
       "      <td>25.999571</td>\n",
       "      <td>0.940959</td>\n",
       "      <td>0.729297</td>\n",
       "      <td>06:38</td>\n",
       "    </tr>\n",
       "  </tbody>\n",
       "</table>"
      ],
      "text/plain": [
       "<IPython.core.display.HTML object>"
      ]
     },
     "metadata": {},
     "output_type": "display_data"
    },
    {
     "name": "stdout",
     "output_type": "stream",
     "text": [
      "Better model found at epoch 0 with f1_score value: 0.7445868709234139.\n"
     ]
    },
    {
     "data": {
      "image/png": "[encoded data removed]",
      "text/plain": [
       "<Figure size 432x288 with 1 Axes>"
      ]
     },
     "metadata": {},
     "output_type": "display_data"
    }
   ],
   "source": [
    "learn.fit_one_cycle(10, lr_max=5e-2)"
   ]
  },
  {
   "cell_type": "code",
   "execution_count": 36,
   "metadata": {},
   "outputs": [],
   "source": [
    "head = create_head(4096 + 3840, OUT_DIM)"
   ]
  },
  {
   "cell_type": "code",
   "execution_count": 37,
   "metadata": {},
   "outputs": [],
   "source": [
    "model = ImgTextFusion(head, embs_for_none=False)"
   ]
  },
  {
   "cell_type": "code",
   "execution_count": 38,
   "metadata": {},
   "outputs": [],
   "source": [
    "learn = Learner(dls, model, loss_func=loss_func, metrics=[accuracy, fscore])"
   ]
  },
  {
   "cell_type": "code",
   "execution_count": 39,
   "metadata": {},
   "outputs": [
    {
     "data": {
      "text/html": [
       "<table border=\"1\" class=\"dataframe\">\n",
       "  <thead>\n",
       "    <tr style=\"text-align: left;\">\n",
       "      <th>epoch</th>\n",
       "      <th>train_loss</th>\n",
       "      <th>valid_loss</th>\n",
       "      <th>accuracy</th>\n",
       "      <th>f1_score</th>\n",
       "      <th>time</th>\n",
       "    </tr>\n",
       "  </thead>\n",
       "  <tbody>\n",
       "    <tr>\n",
       "      <td>0</td>\n",
       "      <td>None</td>\n",
       "      <td>None</td>\n",
       "      <td>None</td>\n",
       "      <td>00:00</td>\n",
       "    </tr>\n",
       "  </tbody>\n",
       "</table>"
      ],
      "text/plain": [
       "<IPython.core.display.HTML object>"
      ]
     },
     "metadata": {},
     "output_type": "display_data"
    },
    {
     "data": {
      "text/plain": [
       "ImgTextFusion (Input shape: [\"['64 x 4096', '64 x 3840', '64', '64']\"])\n",
       "================================================================\n",
       "Layer (type)         Output Shape         Param #    Trainable \n",
       "================================================================\n",
       "BatchNorm1d          64 x 7936            15,872     True      \n",
       "________________________________________________________________\n",
       "Dropout              64 x 7936            0          False     \n",
       "________________________________________________________________\n",
       "Linear               64 x 512             4,063,232  True      \n",
       "________________________________________________________________\n",
       "ReLU                 64 x 512             0          False     \n",
       "________________________________________________________________\n",
       "BatchNorm1d          64 x 512             1,024      True      \n",
       "________________________________________________________________\n",
       "Dropout              64 x 512             0          False     \n",
       "________________________________________________________________\n",
       "Linear               64 x 6               3,072      True      \n",
       "________________________________________________________________\n",
       "\n",
       "Total params: 4,083,200\n",
       "Total trainable params: 4,083,200\n",
       "Total non-trainable params: 0\n",
       "\n",
       "Optimizer used: <function Adam at 0x7f0425aa3d30>\n",
       "Loss function: <function loss_func at 0x7f045f8d2280>\n",
       "\n",
       "Callbacks:\n",
       "  - TrainEvalCallback\n",
       "  - Recorder\n",
       "  - ProgressCallback"
      ]
     },
     "execution_count": 39,
     "metadata": {},
     "output_type": "execute_result"
    }
   ],
   "source": [
    "learn.summary()"
   ]
  },
  {
   "cell_type": "code",
   "execution_count": 40,
   "metadata": {},
   "outputs": [
    {
     "data": {
      "text/html": [],
      "text/plain": [
       "<IPython.core.display.HTML object>"
      ]
     },
     "metadata": {},
     "output_type": "display_data"
    },
    {
     "data": {
      "text/plain": [
       "SuggestedLRs(lr_min=0.02089296132326126, lr_steep=0.03981071710586548)"
      ]
     },
     "execution_count": 40,
     "metadata": {},
     "output_type": "execute_result"
    },
    {
     "data": {
      "image/png": "[encoded data removed]",
      "text/plain": [
       "<Figure size 432x288 with 1 Axes>"
      ]
     },
     "metadata": {
      "needs_background": "light"
     },
     "output_type": "display_data"
    }
   ],
   "source": [
    "learn.lr_find()"
   ]
  },
  {
   "cell_type": "code",
   "execution_count": 41,
   "metadata": {},
   "outputs": [],
   "source": [
    "learn.add_cbs([SaveModelCallback(monitor='f1_score', fname='best_fusion_zeros'),\n",
    "                                       ShowGraphCallback()])"
   ]
  },
  {
   "cell_type": "code",
   "execution_count": 42,
   "metadata": {},
   "outputs": [
    {
     "data": {
      "text/html": [
       "<table border=\"1\" class=\"dataframe\">\n",
       "  <thead>\n",
       "    <tr style=\"text-align: left;\">\n",
       "      <th>epoch</th>\n",
       "      <th>train_loss</th>\n",
       "      <th>valid_loss</th>\n",
       "      <th>accuracy</th>\n",
       "      <th>f1_score</th>\n",
       "      <th>time</th>\n",
       "    </tr>\n",
       "  </thead>\n",
       "  <tbody>\n",
       "    <tr>\n",
       "      <td>0</td>\n",
       "      <td>0.159098</td>\n",
       "      <td>0.326438</td>\n",
       "      <td>0.928415</td>\n",
       "      <td>0.706453</td>\n",
       "      <td>06:37</td>\n",
       "    </tr>\n",
       "    <tr>\n",
       "      <td>1</td>\n",
       "      <td>0.204223</td>\n",
       "      <td>3.701348</td>\n",
       "      <td>0.918638</td>\n",
       "      <td>0.659695</td>\n",
       "      <td>06:34</td>\n",
       "    </tr>\n",
       "    <tr>\n",
       "      <td>2</td>\n",
       "      <td>0.165459</td>\n",
       "      <td>20.888781</td>\n",
       "      <td>0.933260</td>\n",
       "      <td>0.640521</td>\n",
       "      <td>06:34</td>\n",
       "    </tr>\n",
       "    <tr>\n",
       "      <td>3</td>\n",
       "      <td>0.150377</td>\n",
       "      <td>20.805059</td>\n",
       "      <td>0.931940</td>\n",
       "      <td>0.649759</td>\n",
       "      <td>06:37</td>\n",
       "    </tr>\n",
       "    <tr>\n",
       "      <td>4</td>\n",
       "      <td>0.163033</td>\n",
       "      <td>11.052630</td>\n",
       "      <td>0.931736</td>\n",
       "      <td>0.618919</td>\n",
       "      <td>06:33</td>\n",
       "    </tr>\n",
       "    <tr>\n",
       "      <td>5</td>\n",
       "      <td>0.107659</td>\n",
       "      <td>46.999477</td>\n",
       "      <td>0.921337</td>\n",
       "      <td>0.642080</td>\n",
       "      <td>06:37</td>\n",
       "    </tr>\n",
       "    <tr>\n",
       "      <td>6</td>\n",
       "      <td>0.104199</td>\n",
       "      <td>10.518975</td>\n",
       "      <td>0.936707</td>\n",
       "      <td>0.656838</td>\n",
       "      <td>06:44</td>\n",
       "    </tr>\n",
       "    <tr>\n",
       "      <td>7</td>\n",
       "      <td>0.090965</td>\n",
       "      <td>3.284036</td>\n",
       "      <td>0.936377</td>\n",
       "      <td>0.666949</td>\n",
       "      <td>06:44</td>\n",
       "    </tr>\n",
       "    <tr>\n",
       "      <td>8</td>\n",
       "      <td>0.075740</td>\n",
       "      <td>29.380081</td>\n",
       "      <td>0.939853</td>\n",
       "      <td>0.700782</td>\n",
       "      <td>06:40</td>\n",
       "    </tr>\n",
       "    <tr>\n",
       "      <td>9</td>\n",
       "      <td>0.076193</td>\n",
       "      <td>3.915563</td>\n",
       "      <td>0.936590</td>\n",
       "      <td>0.695377</td>\n",
       "      <td>06:35</td>\n",
       "    </tr>\n",
       "  </tbody>\n",
       "</table>"
      ],
      "text/plain": [
       "<IPython.core.display.HTML object>"
      ]
     },
     "metadata": {},
     "output_type": "display_data"
    }
   ],
   "source": [
    "learn.fit_one_cycle(10, lr_max=3e-2)"
   ]
  },
  {
   "cell_type": "code",
   "execution_count": 43,
   "metadata": {},
   "outputs": [],
   "source": [
    "head = create_head(4096 + 3840, OUT_DIM, lin_ftrs=[128])"
   ]
  },
  {
   "cell_type": "code",
   "execution_count": 44,
   "metadata": {},
   "outputs": [],
   "source": [
    "model = ImgTextFusion(head)"
   ]
  },
  {
   "cell_type": "code",
   "execution_count": 45,
   "metadata": {},
   "outputs": [],
   "source": [
    "learn = Learner(dls, model, loss_func=loss_func, metrics=[accuracy, fscore])"
   ]
  },
  {
   "cell_type": "code",
   "execution_count": 46,
   "metadata": {},
   "outputs": [],
   "source": [
    "learn.add_cbs([SaveModelCallback(monitor='f1_score', fname='best_fusion_128_moreEpochs'),\n",
    "                                       ShowGraphCallback()])"
   ]
  },
  {
   "cell_type": "code",
   "execution_count": 47,
   "metadata": {},
   "outputs": [
    {
     "data": {
      "text/html": [
       "<table border=\"1\" class=\"dataframe\">\n",
       "  <thead>\n",
       "    <tr style=\"text-align: left;\">\n",
       "      <th>epoch</th>\n",
       "      <th>train_loss</th>\n",
       "      <th>valid_loss</th>\n",
       "      <th>accuracy</th>\n",
       "      <th>f1_score</th>\n",
       "      <th>time</th>\n",
       "    </tr>\n",
       "  </thead>\n",
       "  <tbody>\n",
       "    <tr>\n",
       "      <td>0</td>\n",
       "      <td>0.103942</td>\n",
       "      <td>0.253754</td>\n",
       "      <td>0.939862</td>\n",
       "      <td>0.748528</td>\n",
       "      <td>06:42</td>\n",
       "    </tr>\n",
       "    <tr>\n",
       "      <td>1</td>\n",
       "      <td>0.112722</td>\n",
       "      <td>0.290508</td>\n",
       "      <td>0.934532</td>\n",
       "      <td>0.734411</td>\n",
       "      <td>06:39</td>\n",
       "    </tr>\n",
       "    <tr>\n",
       "      <td>2</td>\n",
       "      <td>0.134679</td>\n",
       "      <td>0.311156</td>\n",
       "      <td>0.932804</td>\n",
       "      <td>0.715184</td>\n",
       "      <td>06:42</td>\n",
       "    </tr>\n",
       "    <tr>\n",
       "      <td>3</td>\n",
       "      <td>0.162578</td>\n",
       "      <td>0.314004</td>\n",
       "      <td>0.938027</td>\n",
       "      <td>0.710245</td>\n",
       "      <td>06:37</td>\n",
       "    </tr>\n",
       "    <tr>\n",
       "      <td>4</td>\n",
       "      <td>0.186595</td>\n",
       "      <td>0.404507</td>\n",
       "      <td>0.939124</td>\n",
       "      <td>0.697539</td>\n",
       "      <td>06:39</td>\n",
       "    </tr>\n",
       "    <tr>\n",
       "      <td>5</td>\n",
       "      <td>0.198738</td>\n",
       "      <td>0.448126</td>\n",
       "      <td>0.900570</td>\n",
       "      <td>0.691262</td>\n",
       "      <td>06:35</td>\n",
       "    </tr>\n",
       "    <tr>\n",
       "      <td>6</td>\n",
       "      <td>0.160866</td>\n",
       "      <td>0.364781</td>\n",
       "      <td>0.904997</td>\n",
       "      <td>0.691277</td>\n",
       "      <td>06:47</td>\n",
       "    </tr>\n",
       "    <tr>\n",
       "      <td>7</td>\n",
       "      <td>0.143261</td>\n",
       "      <td>0.399017</td>\n",
       "      <td>0.902182</td>\n",
       "      <td>0.710742</td>\n",
       "      <td>07:08</td>\n",
       "    </tr>\n",
       "    <tr>\n",
       "      <td>8</td>\n",
       "      <td>0.157475</td>\n",
       "      <td>0.372383</td>\n",
       "      <td>0.935532</td>\n",
       "      <td>0.652803</td>\n",
       "      <td>08:09</td>\n",
       "    </tr>\n",
       "    <tr>\n",
       "      <td>9</td>\n",
       "      <td>0.140048</td>\n",
       "      <td>0.358985</td>\n",
       "      <td>0.937445</td>\n",
       "      <td>0.667788</td>\n",
       "      <td>07:05</td>\n",
       "    </tr>\n",
       "    <tr>\n",
       "      <td>10</td>\n",
       "      <td>0.138623</td>\n",
       "      <td>0.355853</td>\n",
       "      <td>0.906386</td>\n",
       "      <td>0.705931</td>\n",
       "      <td>06:37</td>\n",
       "    </tr>\n",
       "    <tr>\n",
       "      <td>11</td>\n",
       "      <td>0.127426</td>\n",
       "      <td>0.306736</td>\n",
       "      <td>0.936668</td>\n",
       "      <td>0.747948</td>\n",
       "      <td>06:42</td>\n",
       "    </tr>\n",
       "    <tr>\n",
       "      <td>12</td>\n",
       "      <td>0.112887</td>\n",
       "      <td>0.280098</td>\n",
       "      <td>0.941746</td>\n",
       "      <td>0.749168</td>\n",
       "      <td>06:38</td>\n",
       "    </tr>\n",
       "    <tr>\n",
       "      <td>13</td>\n",
       "      <td>0.110664</td>\n",
       "      <td>0.270087</td>\n",
       "      <td>0.942853</td>\n",
       "      <td>0.739869</td>\n",
       "      <td>06:40</td>\n",
       "    </tr>\n",
       "    <tr>\n",
       "      <td>14</td>\n",
       "      <td>0.094380</td>\n",
       "      <td>0.294809</td>\n",
       "      <td>0.941901</td>\n",
       "      <td>0.736361</td>\n",
       "      <td>06:36</td>\n",
       "    </tr>\n",
       "    <tr>\n",
       "      <td>15</td>\n",
       "      <td>0.091146</td>\n",
       "      <td>0.284725</td>\n",
       "      <td>0.941037</td>\n",
       "      <td>0.750728</td>\n",
       "      <td>06:46</td>\n",
       "    </tr>\n",
       "    <tr>\n",
       "      <td>16</td>\n",
       "      <td>0.081174</td>\n",
       "      <td>0.294110</td>\n",
       "      <td>0.938833</td>\n",
       "      <td>0.749279</td>\n",
       "      <td>06:36</td>\n",
       "    </tr>\n",
       "    <tr>\n",
       "      <td>17</td>\n",
       "      <td>0.069741</td>\n",
       "      <td>0.286814</td>\n",
       "      <td>0.941989</td>\n",
       "      <td>0.754666</td>\n",
       "      <td>06:45</td>\n",
       "    </tr>\n",
       "    <tr>\n",
       "      <td>18</td>\n",
       "      <td>0.073474</td>\n",
       "      <td>0.295402</td>\n",
       "      <td>0.940163</td>\n",
       "      <td>0.756371</td>\n",
       "      <td>06:50</td>\n",
       "    </tr>\n",
       "    <tr>\n",
       "      <td>19</td>\n",
       "      <td>0.065583</td>\n",
       "      <td>0.299072</td>\n",
       "      <td>0.939688</td>\n",
       "      <td>0.756220</td>\n",
       "      <td>06:51</td>\n",
       "    </tr>\n",
       "  </tbody>\n",
       "</table>"
      ],
      "text/plain": [
       "<IPython.core.display.HTML object>"
      ]
     },
     "metadata": {},
     "output_type": "display_data"
    },
    {
     "name": "stdout",
     "output_type": "stream",
     "text": [
      "Better model found at epoch 0 with f1_score value: 0.7485278695659145.\n"
     ]
    },
    {
     "data": {
      "image/png": "[encoded data removed]",
      "text/plain": [
       "<Figure size 432x288 with 1 Axes>"
      ]
     },
     "metadata": {},
     "output_type": "display_data"
    },
    {
     "name": "stdout",
     "output_type": "stream",
     "text": [
      "Better model found at epoch 12 with f1_score value: 0.7491679470819236.\n",
      "Better model found at epoch 15 with f1_score value: 0.7507281390412482.\n",
      "Better model found at epoch 17 with f1_score value: 0.7546664898444204.\n",
      "Better model found at epoch 18 with f1_score value: 0.7563705013932673.\n"
     ]
    }
   ],
   "source": [
    "learn.fit_one_cycle(20, lr_max=5e-2)"
   ]
  },
  {
   "cell_type": "code",
   "execution_count": 48,
   "metadata": {},
   "outputs": [],
   "source": [
    "from utils import evaluate"
   ]
  },
  {
   "cell_type": "code",
   "execution_count": 50,
   "metadata": {},
   "outputs": [
    {
     "data": {
      "text/plain": [
       "<fastai.learner.Learner at 0x7f03ef5dfbe0>"
      ]
     },
     "execution_count": 50,
     "metadata": {},
     "output_type": "execute_result"
    }
   ],
   "source": [
    "learn.load(\"best_fusion_128_moreEpochs\")"
   ]
  },
  {
   "cell_type": "code",
   "execution_count": 69,
   "metadata": {},
   "outputs": [
    {
     "data": {
      "text/plain": [
       "'sentenca'"
      ]
     },
     "execution_count": 69,
     "metadata": {},
     "output_type": "execute_result"
    }
   ],
   "source": [
    "dls.valid.vocab[-1]"
   ]
  },
  {
   "cell_type": "code",
   "execution_count": 70,
   "metadata": {},
   "outputs": [
    {
     "data": {
      "text/html": [],
      "text/plain": [
       "<IPython.core.display.HTML object>"
      ]
     },
     "metadata": {},
     "output_type": "display_data"
    },
    {
     "name": "stdout",
     "output_type": "stream",
     "text": [
      "                                  precision    recall  f1-score   support\n",
      "\n",
      "          acordao_de_2_instancia     0.8935    0.7484    0.8146       314\n",
      "agravo_em_recurso_extraordinario     0.5703    0.4962    0.5307      2650\n",
      "     despacho_de_admissibilidade     0.8772    0.5464    0.6734       183\n",
      "                          outros     0.9605    0.9759    0.9682     91434\n",
      "                   peticao_do_RE     0.7809    0.6990    0.7377      6803\n",
      "                        sentenca     0.9026    0.7409    0.8138      1613\n",
      "\n",
      "                        accuracy                         0.9402    102997\n",
      "                       macro avg     0.8308    0.7011    0.7564    102997\n",
      "                    weighted avg     0.9374    0.9402    0.9383    102997\n",
      "\n"
     ]
    }
   ],
   "source": [
    "from sklearn.metrics import classification_report\n",
    "\n",
    "preds, targets = learn.get_preds()\n",
    "preds = np.argmax(preds, axis=1)\n",
    "print(classification_report(targets, preds, target_names=dls.vocab, digits=4))"
   ]
  },
  {
   "cell_type": "code",
   "execution_count": 81,
   "metadata": {},
   "outputs": [
    {
     "data": {
      "text/plain": [
       "'ARE_783154_3660743_1420_09102014_1'"
      ]
     },
     "execution_count": 81,
     "metadata": {},
     "output_type": "execute_result"
    }
   ],
   "source": [
    "data[0].with_suffix(\"\").name"
   ]
  },
  {
   "cell_type": "code",
   "execution_count": 78,
   "metadata": {},
   "outputs": [],
   "source": [
    "test_data = [x for x in data if x.parent.parent.name =='test']"
   ]
  },
  {
   "cell_type": "code",
   "execution_count": 93,
   "metadata": {},
   "outputs": [],
   "source": [
    "has_image = img_and_text.union(just_img)\n",
    "has_text = img_and_text.union(just_text)"
   ]
  },
  {
   "cell_type": "code",
   "execution_count": 104,
   "metadata": {},
   "outputs": [
    {
     "data": {
      "text/plain": [
       "(359882, 326037)"
      ]
     },
     "execution_count": 104,
     "metadata": {},
     "output_type": "execute_result"
    }
   ],
   "source": [
    "len(has_image), len(has_text)"
   ]
  },
  {
   "cell_type": "code",
   "execution_count": 94,
   "metadata": {},
   "outputs": [],
   "source": [
    "img_test_data = [x for x in test_data if x.with_suffix(\"\").name in has_image]"
   ]
  },
  {
   "cell_type": "code",
   "execution_count": 95,
   "metadata": {},
   "outputs": [],
   "source": [
    "text_test_data = [x for x in test_data if x.with_suffix(\"\").name in has_text]"
   ]
  },
  {
   "cell_type": "code",
   "execution_count": 96,
   "metadata": {},
   "outputs": [
    {
     "data": {
      "text/plain": [
       "(359886, 98581, 98577, 90544)"
      ]
     },
     "execution_count": 96,
     "metadata": {},
     "output_type": "execute_result"
    }
   ],
   "source": [
    "len(data), len(test_data), len(img_test_data), len(text_test_data)"
   ]
  },
  {
   "cell_type": "code",
   "execution_count": 97,
   "metadata": {},
   "outputs": [],
   "source": [
    "test_dl = dls.test_dl(test_data, with_labels=True)"
   ]
  },
  {
   "cell_type": "code",
   "execution_count": 100,
   "metadata": {},
   "outputs": [],
   "source": [
    "img_test_dl = dls.test_dl(img_test_data, with_labels=True)"
   ]
  },
  {
   "cell_type": "code",
   "execution_count": 101,
   "metadata": {},
   "outputs": [],
   "source": [
    "text_test_dl = dls.test_dl(text_test_data, with_labels=True)"
   ]
  },
  {
   "cell_type": "code",
   "execution_count": 105,
   "metadata": {},
   "outputs": [
    {
     "data": {
      "text/html": [],
      "text/plain": [
       "<IPython.core.display.HTML object>"
      ]
     },
     "metadata": {},
     "output_type": "display_data"
    },
    {
     "name": "stdout",
     "output_type": "stream",
     "text": [
      "                                  precision    recall  f1-score   support\n",
      "\n",
      "          acordao_de_2_instancia     0.8893    0.8737    0.8814       285\n",
      "agravo_em_recurso_extraordinario     0.6106    0.4864    0.5415      2537\n",
      "     despacho_de_admissibilidade     0.8621    0.5051    0.6369       198\n",
      "                          outros     0.9649    0.9780    0.9714     87906\n",
      "                   peticao_do_RE     0.7957    0.7508    0.7726      6177\n",
      "                        sentenca     0.9103    0.7625    0.8299      1478\n",
      "\n",
      "                        accuracy                         0.9466     98581\n",
      "                       macro avg     0.8388    0.7261    0.7723     98581\n",
      "                    weighted avg     0.9439    0.9466    0.9448     98581\n",
      "\n"
     ]
    }
   ],
   "source": [
    "preds, targets = learn.get_preds(dl=test_dl)\n",
    "preds = np.argmax(preds, axis=1)\n",
    "print(classification_report(targets, preds, target_names=dls.vocab, digits=4))"
   ]
  },
  {
   "cell_type": "code",
   "execution_count": 106,
   "metadata": {},
   "outputs": [
    {
     "data": {
      "text/html": [],
      "text/plain": [
       "<IPython.core.display.HTML object>"
      ]
     },
     "metadata": {},
     "output_type": "display_data"
    },
    {
     "name": "stdout",
     "output_type": "stream",
     "text": [
      "                                  precision    recall  f1-score   support\n",
      "\n",
      "          acordao_de_2_instancia     0.8893    0.8737    0.8814       285\n",
      "agravo_em_recurso_extraordinario     0.6106    0.4864    0.5415      2537\n",
      "     despacho_de_admissibilidade     0.8621    0.5051    0.6369       198\n",
      "                          outros     0.9649    0.9780    0.9714     87902\n",
      "                   peticao_do_RE     0.7957    0.7508    0.7726      6177\n",
      "                        sentenca     0.9103    0.7625    0.8299      1478\n",
      "\n",
      "                        accuracy                         0.9466     98577\n",
      "                       macro avg     0.8388    0.7261    0.7723     98577\n",
      "                    weighted avg     0.9439    0.9466    0.9448     98577\n",
      "\n"
     ]
    }
   ],
   "source": [
    "preds, targets = learn.get_preds(dl=img_test_dl)\n",
    "preds = np.argmax(preds, axis=1)\n",
    "print(classification_report(targets, preds, target_names=dls.vocab, digits=4))"
   ]
  },
  {
   "cell_type": "code",
   "execution_count": 107,
   "metadata": {},
   "outputs": [
    {
     "data": {
      "text/html": [],
      "text/plain": [
       "<IPython.core.display.HTML object>"
      ]
     },
     "metadata": {},
     "output_type": "display_data"
    },
    {
     "name": "stdout",
     "output_type": "stream",
     "text": [
      "                                  precision    recall  f1-score   support\n",
      "\n",
      "          acordao_de_2_instancia     0.8893    0.9188    0.9038       271\n",
      "agravo_em_recurso_extraordinario     0.6559    0.5421    0.5936      1723\n",
      "     despacho_de_admissibilidade     0.8621    0.5076    0.6390       197\n",
      "                          outros     0.9690    0.9799    0.9744     80781\n",
      "                   peticao_do_RE     0.7992    0.7568    0.7774      6122\n",
      "                        sentenca     0.9103    0.7772    0.8385      1450\n",
      "\n",
      "                        accuracy                         0.9520     90544\n",
      "                       macro avg     0.8476    0.7471    0.7878     90544\n",
      "                    weighted avg     0.9501    0.9520    0.9507     90544\n",
      "\n"
     ]
    }
   ],
   "source": [
    "preds, targets = learn.get_preds(dl=text_test_dl)\n",
    "preds = np.argmax(preds, axis=1)\n",
    "print(classification_report(targets, preds, target_names=dls.vocab, digits=4))"
   ]
  },
  {
   "cell_type": "code",
   "execution_count": null,
   "metadata": {},
   "outputs": [],
   "source": []
  }
 ],
 "metadata": {
  "kernelspec": {
   "display_name": "fastai2",
   "language": "python",
   "name": "fastai2"
  },
  "language_info": {
   "codemirror_mode": {
    "name": "ipython",
    "version": 3
   },
   "file_extension": ".py",
   "mimetype": "text/x-python",
   "name": "python",
   "nbconvert_exporter": "python",
   "pygments_lexer": "ipython3",
   "version": "3.8.5"
  }
 },
 "nbformat": 4,
 "nbformat_minor": 4
}
