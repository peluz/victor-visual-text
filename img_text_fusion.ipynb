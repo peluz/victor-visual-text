{
 "cells": [
  {
   "cell_type": "code",
   "execution_count": 218,
   "metadata": {},
   "outputs": [
    {
     "name": "stdout",
     "output_type": "stream",
     "text": [
      "The autoreload extension is already loaded. To reload it, use:\n",
      "  %reload_ext autoreload\n"
     ]
    }
   ],
   "source": [
    "%load_ext autoreload\n",
    "%autoreload 2\n",
    "\n",
    "from fastai.text.all import *\n",
    "from fastai.vision.all import *\n",
    "import pandas as pd\n",
    "import torch\n",
    "from tqdm.notebook import tqdm"
   ]
  },
  {
   "cell_type": "code",
   "execution_count": 219,
   "metadata": {},
   "outputs": [],
   "source": [
    "seed = 42\n",
    "\n",
    "# python RNG\n",
    "import random\n",
    "random.seed(seed)\n",
    "\n",
    "# pytorch RNGs\n",
    "import torch\n",
    "torch.manual_seed(seed)\n",
    "torch.backends.cudnn.deterministic = True\n",
    "if torch.cuda.is_available(): torch.cuda.manual_seed_all(seed)\n",
    "\n",
    "# numpy RNG\n",
    "import numpy as np\n",
    "np.random.seed(seed)"
   ]
  },
  {
   "cell_type": "code",
   "execution_count": 220,
   "metadata": {},
   "outputs": [],
   "source": [
    "OUT_DIM=6"
   ]
  },
  {
   "cell_type": "code",
   "execution_count": 221,
   "metadata": {},
   "outputs": [],
   "source": [
    "path = Path(\"./activations\")"
   ]
  },
  {
   "cell_type": "code",
   "execution_count": 222,
   "metadata": {},
   "outputs": [
    {
     "data": {
      "text/plain": [
       "(#359882) [Path('activations/img/val/agravo_em_recurso_extraordinario/ARE_783154_3660743_1420_09102014_1.pt'),Path('activations/img/val/agravo_em_recurso_extraordinario/ARE_1012920_310814938_1420_01122016_27.pt'),Path('activations/img/val/agravo_em_recurso_extraordinario/ARE_822006_4778600_1420_19062014_3.pt'),Path('activations/img/val/agravo_em_recurso_extraordinario/ARE_1053618_311977154_1420_07062017_299.pt'),Path('activations/img/val/agravo_em_recurso_extraordinario/ARE_821707_4770044_1420_19062014_4.pt'),Path('activations/img/val/agravo_em_recurso_extraordinario/ARE_1053618_311977154_1420_07062017_288.pt'),Path('activations/img/val/agravo_em_recurso_extraordinario/ARE_1019716_311062360_1420_17012017_15.pt'),Path('activations/img/val/agravo_em_recurso_extraordinario/ARE_1062700_312268503_1420_21072017_6.pt'),Path('activations/img/val/agravo_em_recurso_extraordinario/ARE_1053618_311977154_1420_07062017_248.pt'),Path('activations/img/val/agravo_em_recurso_extraordinario/ARE_1019823_311067464_1420_26012017_9.pt')...]"
      ]
     },
     "execution_count": 222,
     "metadata": {},
     "output_type": "execute_result"
    }
   ],
   "source": [
    "img_files = get_files(path/\"img\"); img_files"
   ]
  },
  {
   "cell_type": "code",
   "execution_count": 223,
   "metadata": {},
   "outputs": [
    {
     "data": {
      "text/plain": [
       "(#326037) [Path('activations/text/val/agravo_em_recurso_extraordinario/ARE_1075473_312738372_1420_14092017_6.npy'),Path('activations/text/val/agravo_em_recurso_extraordinario/ARE_1054017_311988070_1420_08062017_7.npy'),Path('activations/text/val/agravo_em_recurso_extraordinario/ARE_1082106_312930948_1420_10102017_15.npy'),Path('activations/text/val/agravo_em_recurso_extraordinario/ARE_1087577_313124642_1420_26102017_6.npy'),Path('activations/text/val/agravo_em_recurso_extraordinario/ARE_1000611_310414607_1420_01102016_14.npy'),Path('activations/text/val/agravo_em_recurso_extraordinario/ARE_1075473_312738372_1420_14092017_7.npy'),Path('activations/text/val/agravo_em_recurso_extraordinario/ARE_1062700_312268503_1420_21072017_4.npy'),Path('activations/text/val/agravo_em_recurso_extraordinario/ARE_941848_308456398_1420_14012016_3.npy'),Path('activations/text/val/agravo_em_recurso_extraordinario/ARE_941656_308447674_1420_12012016_11.npy'),Path('activations/text/val/agravo_em_recurso_extraordinario/ARE_1068167_312485271_1420_22082017_10.npy')...]"
      ]
     },
     "execution_count": 223,
     "metadata": {},
     "output_type": "execute_result"
    }
   ],
   "source": [
    "text_files = get_files(path/\"text\"); text_files"
   ]
  },
  {
   "cell_type": "code",
   "execution_count": 224,
   "metadata": {},
   "outputs": [],
   "source": [
    "text_set = set([t.with_suffix(\"\").name for t in text_files])"
   ]
  },
  {
   "cell_type": "code",
   "execution_count": 225,
   "metadata": {},
   "outputs": [],
   "source": [
    "img_set = set([t.with_suffix(\"\").name for t in img_files])"
   ]
  },
  {
   "cell_type": "code",
   "execution_count": 226,
   "metadata": {},
   "outputs": [
    {
     "data": {
      "text/plain": [
       "(326037, 359882)"
      ]
     },
     "execution_count": 226,
     "metadata": {},
     "output_type": "execute_result"
    }
   ],
   "source": [
    "len(text_set), len(img_set)"
   ]
  },
  {
   "cell_type": "code",
   "execution_count": 227,
   "metadata": {},
   "outputs": [
    {
     "data": {
      "text/plain": [
       "326033"
      ]
     },
     "execution_count": 227,
     "metadata": {},
     "output_type": "execute_result"
    }
   ],
   "source": [
    "img_and_text = text_set.intersection(text_set, img_set); len(img_and_text)"
   ]
  },
  {
   "cell_type": "code",
   "execution_count": 228,
   "metadata": {},
   "outputs": [
    {
     "data": {
      "text/plain": [
       "33849"
      ]
     },
     "execution_count": 228,
     "metadata": {},
     "output_type": "execute_result"
    }
   ],
   "source": [
    "just_img = img_set - text_set; len(just_img)"
   ]
  },
  {
   "cell_type": "code",
   "execution_count": 229,
   "metadata": {},
   "outputs": [
    {
     "data": {
      "text/plain": [
       "4"
      ]
     },
     "execution_count": 229,
     "metadata": {},
     "output_type": "execute_result"
    }
   ],
   "source": [
    "just_text = text_set - img_set; len(just_text)"
   ]
  },
  {
   "cell_type": "code",
   "execution_count": 231,
   "metadata": {},
   "outputs": [],
   "source": [
    "data = img_files"
   ]
  },
  {
   "cell_type": "code",
   "execution_count": 232,
   "metadata": {},
   "outputs": [],
   "source": [
    "for file in text_files:\n",
    "    if file.with_suffix(\"\").name in just_text:\n",
    "         data.append(file)"
   ]
  },
  {
   "cell_type": "code",
   "execution_count": 233,
   "metadata": {},
   "outputs": [
    {
     "data": {
      "text/plain": [
       "359886"
      ]
     },
     "execution_count": 233,
     "metadata": {},
     "output_type": "execute_result"
    }
   ],
   "source": [
    "len(data)"
   ]
  },
  {
   "cell_type": "code",
   "execution_count": 234,
   "metadata": {},
   "outputs": [],
   "source": [
    "img_shape = torch.load(data[0]).shape"
   ]
  },
  {
   "cell_type": "code",
   "execution_count": 235,
   "metadata": {},
   "outputs": [],
   "source": [
    "text_shape = np.load(data[-1]).shape"
   ]
  },
  {
   "cell_type": "code",
   "execution_count": 236,
   "metadata": {},
   "outputs": [
    {
     "data": {
      "text/plain": [
       "(torch.Size([4096]), (3840,))"
      ]
     },
     "execution_count": 236,
     "metadata": {},
     "output_type": "execute_result"
    }
   ],
   "source": [
    "img_shape, text_shape"
   ]
  },
  {
   "cell_type": "code",
   "execution_count": 237,
   "metadata": {},
   "outputs": [],
   "source": [
    "class GetActs(Transform):\n",
    "    def encodes(self, x):\n",
    "        img_file = text_file = None\n",
    "        img_none = text_none = False\n",
    "        if x.with_suffix(\"\").name in img_and_text:\n",
    "            img_file = x\n",
    "            text_file = Path(x.as_posix().replace(\"img\", \"text\").replace(\"pt\", \"npy\"))\n",
    "        elif x.with_suffix(\"\").name in just_img:\n",
    "            img_file=x\n",
    "        elif x.with_suffix(\"\").name in just_text:\n",
    "            text_file=x\n",
    "        if img_file is None:\n",
    "            img_act = torch.zeros(img_shape)\n",
    "            img_none=True\n",
    "        else:\n",
    "            img_act = torch.load(img_file)\n",
    "        if text_file is None:\n",
    "            text_act = torch.zeros(text_shape)\n",
    "            text_none = True\n",
    "        else:\n",
    "            text_act = tensor(np.load(text_file))\n",
    "        return (img_act, text_act, img_none, text_none)"
   ]
  },
  {
   "cell_type": "code",
   "execution_count": 239,
   "metadata": {},
   "outputs": [],
   "source": [
    "tfms = [[GetActs()], [parent_label, Categorize()]]\n",
    "splits = GrandparentSplitter(valid_name='val')(data)\n",
    "dsets = Datasets(data, tfms, splits=splits)\n",
    "dls = dsets.dataloaders()"
   ]
  },
  {
   "cell_type": "code",
   "execution_count": 240,
   "metadata": {},
   "outputs": [
    {
     "data": {
      "text/plain": [
       "((#158308) [((tensor([1.0705, 2.5618, 1.5041,  ..., 0.6216, 0.0583, 0.2009]), tensor([0., 0., 0.,  ..., 0., 0., 0.]), False, True), TensorCategory(1)),((tensor([0.4848, 2.4331, 1.3183,  ..., 0.4955, 0.6567, 0.3695]), tensor([0., 0., 0.,  ..., 0., 0., 0.]), False, True), TensorCategory(1)),((tensor([1.7524, 1.5423, 1.3229,  ..., 0.1082, 0.5275, 0.3602]), tensor([0.0000, 0.0000, 0.1854,  ..., 0.0000, 0.0000, 0.0000]), False, False), TensorCategory(1)),((tensor([0.8225, 1.9279, 1.7849,  ..., 0.1336, 0.2967, 0.2964]), tensor([0.0444, 0.0000, 0.0000,  ..., 0.0000, 0.0000, 0.0000]), False, False), TensorCategory(1)),((tensor([1.2731, 1.4753, 2.8595,  ..., 0.1491, 0.1504, 0.1222]), tensor([0., 0., 0.,  ..., 0., 0., 0.]), False, True), TensorCategory(1)),((tensor([1.8722, 1.9171, 3.0970,  ..., 0.5567, 0.3478, 0.4769]), tensor([0., 0., 0.,  ..., 0., 0., 0.]), False, True), TensorCategory(1)),((tensor([0.7557, 0.9525, 1.6604,  ..., 0.1216, 0.3352, 0.2508]), tensor([0.6888, 1.2101, 0.0938,  ..., 0.0000, 0.0000, 0.0000]), False, False), TensorCategory(1)),((tensor([0.9596, 2.2667, 1.0882,  ..., 0.2495, 0.7927, 0.2228]), tensor([0.0304, 0.0000, 0.0438,  ..., 0.0000, 0.0000, 0.0000]), False, False), TensorCategory(1)),((tensor([0.5727, 2.7897, 2.3002,  ..., 0.3763, 0.3163, 0.4936]), tensor([0., 0., 0.,  ..., 0., 0., 0.]), False, False), TensorCategory(1)),((tensor([1.8649, 1.0870, 1.1383,  ..., 0.0301, 0.4027, 0.2140]), tensor([0., 0., 0.,  ..., 0., 0., 0.]), False, True), TensorCategory(1))...],\n",
       " (#102997) [((tensor([0.7567, 1.9235, 2.2650,  ..., 0.2472, 0.3826, 0.3628]), tensor([0., 0., 0.,  ..., 0., 0., 0.]), False, False), TensorCategory(1)),((tensor([0.8014, 1.2480, 1.8838,  ..., 0.3200, 0.1493, 0.5663]), tensor([0.0008, 0.0507, 0.0000,  ..., 0.0000, 0.0000, 0.0000]), False, False), TensorCategory(1)),((tensor([0.7962, 1.9354, 1.5023,  ..., 0.2522, 0.2138, 0.1454]), tensor([0.0000, 0.0000, 0.0781,  ..., 0.0000, 0.0000, 0.0000]), False, False), TensorCategory(1)),((tensor([1.5760, 0.7950, 2.0646,  ..., 0.2342, 0.4156, 0.0577]), tensor([0., 0., 0.,  ..., 0., 0., 0.]), False, True), TensorCategory(1)),((tensor([0.5231, 1.8346, 1.5145,  ..., 0.2742, 0.4154, 0.1238]), tensor([0., 0., 0.,  ..., 0., 0., 0.]), False, False), TensorCategory(1)),((tensor([1.6181, 2.3449, 1.7439,  ..., 0.2545, 0.2389, 0.2393]), tensor([0., 0., 0.,  ..., 0., 0., 0.]), False, True), TensorCategory(1)),((tensor([0.4704, 1.8686, 1.6320,  ..., 0.1668, 0.1176, 0.1291]), tensor([0., 0., 0.,  ..., 0., 0., 0.]), False, False), TensorCategory(1)),((tensor([1.1768, 1.9786, 2.5312,  ..., 0.2126, 0.2739, 0.1791]), tensor([0., 0., 0.,  ..., 0., 0., 0.]), False, False), TensorCategory(1)),((tensor([0.4585, 2.3578, 1.5122,  ..., 0.0783, 0.0619, 0.2004]), tensor([0., 0., 0.,  ..., 0., 0., 0.]), False, True), TensorCategory(1)),((tensor([0.5478, 1.9704, 1.8852,  ..., 0.0907, 0.0543, 0.4387]), tensor([0., 0., 0.,  ..., 0., 0., 0.]), False, False), TensorCategory(1))...])"
      ]
     },
     "execution_count": 240,
     "metadata": {},
     "output_type": "execute_result"
    }
   ],
   "source": [
    "dls.train_ds, dls.valid_ds"
   ]
  },
  {
   "cell_type": "code",
   "execution_count": 241,
   "metadata": {},
   "outputs": [
    {
     "data": {
      "text/plain": [
       "((tensor([[0.7258, 2.2842, 1.1495,  ..., 0.4943, 0.2448, 0.4559],\n",
       "          [3.9682, 4.4083, 5.9929,  ..., 0.0064, 1.0457, 1.9220],\n",
       "          [0.7044, 1.7413, 1.3487,  ..., 0.2609, 0.1685, 0.1987],\n",
       "          ...,\n",
       "          [1.2259, 1.0644, 1.6343,  ..., 0.3172, 0.3849, 0.0763],\n",
       "          [0.4785, 2.0461, 1.5653,  ..., 0.1081, 0.3039, 0.3872],\n",
       "          [0.5970, 1.6778, 1.3574,  ..., 0.3253, 0.4117, 0.2772]],\n",
       "         device='cuda:0'),\n",
       "  tensor([[0.0000, 0.0000, 0.0000,  ..., 0.0000, 0.0000, 0.0000],\n",
       "          [0.3160, 0.0000, 0.0000,  ..., 0.0000, 0.0000, 0.0000],\n",
       "          [0.0000, 0.0000, 0.0000,  ..., 0.0000, 0.0000, 0.0000],\n",
       "          ...,\n",
       "          [0.3964, 0.0704, 0.0000,  ..., 0.0000, 0.0000, 0.0000],\n",
       "          [0.0000, 0.0000, 0.0000,  ..., 0.0000, 0.0000, 0.0000],\n",
       "          [0.0000, 0.0000, 0.0000,  ..., 0.0000, 0.0000, 0.0000]],\n",
       "         device='cuda:0'),\n",
       "  tensor([False, False, False, False, False, False, False, False, False, False,\n",
       "          False, False, False, False, False, False, False, False, False, False,\n",
       "          False, False, False, False, False, False, False, False, False, False,\n",
       "          False, False, False, False, False, False, False, False, False, False,\n",
       "          False, False, False, False, False, False, False, False, False, False,\n",
       "          False, False, False, False, False, False, False, False, False, False,\n",
       "          False, False, False, False], device='cuda:0'),\n",
       "  tensor([False, False, False, False, False, False, False, False, False, False,\n",
       "           True, False, False, False, False, False, False, False, False, False,\n",
       "          False, False, False, False, False, False, False, False, False, False,\n",
       "          False, False, False, False, False, False, False, False, False, False,\n",
       "          False, False, False, False, False, False, False, False, False, False,\n",
       "          False, False, False,  True, False, False, False, False, False, False,\n",
       "          False, False, False, False], device='cuda:0')),\n",
       " TensorCategory([3, 3, 3, 3, 3, 3, 3, 3, 5, 3, 3, 3, 3, 3, 3, 3, 3, 3, 3, 3, 4, 3, 3, 3,\n",
       "         4, 1, 3, 4, 3, 3, 4, 3, 3, 3, 3, 3, 3, 3, 4, 3, 3, 3, 3, 5, 3, 3, 3, 3,\n",
       "         3, 4, 3, 3, 4, 3, 3, 3, 3, 3, 3, 5, 3, 3, 4, 3], device='cuda:0'))"
      ]
     },
     "execution_count": 241,
     "metadata": {},
     "output_type": "execute_result"
    }
   ],
   "source": [
    "b = dls.one_batch(); b"
   ]
  },
  {
   "cell_type": "code",
   "execution_count": 242,
   "metadata": {},
   "outputs": [
    {
     "data": {
      "text/plain": [
       "(torch.Size([64, 4096]), torch.Size([64, 3840]))"
      ]
     },
     "execution_count": 242,
     "metadata": {},
     "output_type": "execute_result"
    }
   ],
   "source": [
    "b[0][0].shape, b[0][1].shape"
   ]
  },
  {
   "cell_type": "code",
   "execution_count": 303,
   "metadata": {},
   "outputs": [],
   "source": [
    "class ImgTextFusion(Module):\n",
    "    def __init__(self, head, embs_for_none=True, img_emb_dim=4096, text_emb_dim=3840):\n",
    "        self.head = head.cuda()\n",
    "        self.embs_for_none = embs_for_none\n",
    "        if embs_for_none:\n",
    "            self.img_none_emb = torch.nn.Embedding(num_embeddings=1, embedding_dim=img_emb_dim).cuda()\n",
    "            self.text_none_emb = torch.nn.Embedding(num_embeddings=1, embedding_dim=text_emb_dim).cuda()\n",
    "            self.index= tensor(0).cuda()\n",
    "    \n",
    "    def forward(self, x):\n",
    "        img_act, text_act, img_none, text_none = x\n",
    "        if self.embs_for_none:\n",
    "            img_act[img_none] = self.img_none_emb(self.index)\n",
    "            text_act[text_none] = self.text_none_emb(self.index)\n",
    "        return self.head(torch.cat([img_act, text_act], axis=-1))"
   ]
  },
  {
   "cell_type": "code",
   "execution_count": 304,
   "metadata": {},
   "outputs": [],
   "source": [
    "def create_head(nf, n_out, lin_ftrs=None, ps=0.5, bn_final=False, lin_first=False):\n",
    "    \"Model head that takes `nf` features, runs through `lin_ftrs`, and out `n_out` classes.\"\n",
    "    lin_ftrs = [nf, 512, n_out] if lin_ftrs is None else [nf] + lin_ftrs + [n_out]\n",
    "    ps = L(ps)\n",
    "    if len(ps) == 1: ps = [ps[0]/2] * (len(lin_ftrs)-2) + ps\n",
    "    actns = [nn.ReLU(inplace=True)] * (len(lin_ftrs)-2) + [None]\n",
    "    layers = []\n",
    "    if lin_first: layers.append(nn.Dropout(ps.pop(0)))\n",
    "    for ni,no,p,actn in zip(lin_ftrs[:-1], lin_ftrs[1:], ps, actns):\n",
    "        layers += LinBnDrop(ni, no, bn=True, p=p, act=actn, lin_first=lin_first)\n",
    "    if lin_first: layers.append(nn.Linear(lin_ftrs[-2], n_out))\n",
    "    if bn_final: layers.append(nn.BatchNorm1d(lin_ftrs[-1], momentum=0.01))\n",
    "    return nn.Sequential(*layers)"
   ]
  },
  {
   "cell_type": "code",
   "execution_count": 305,
   "metadata": {},
   "outputs": [],
   "source": [
    "head = create_head(4096 + 3840, OUT_DIM)"
   ]
  },
  {
   "cell_type": "code",
   "execution_count": 306,
   "metadata": {},
   "outputs": [],
   "source": [
    "model = ImgTextFusion(head)"
   ]
  },
  {
   "cell_type": "code",
   "execution_count": 307,
   "metadata": {},
   "outputs": [],
   "source": [
    "def loss_func(out, targ):\n",
    "    return CrossEntropyLossFlat()(out, targ.long())"
   ]
  },
  {
   "cell_type": "code",
   "execution_count": 308,
   "metadata": {},
   "outputs": [],
   "source": [
    "fscore = F1Score(average='macro')"
   ]
  },
  {
   "cell_type": "code",
   "execution_count": 317,
   "metadata": {},
   "outputs": [],
   "source": [
    "learn = Learner(dls, model, loss_func=loss_func, metrics=[accuracy, fscore])"
   ]
  },
  {
   "cell_type": "code",
   "execution_count": 318,
   "metadata": {},
   "outputs": [
    {
     "data": {
      "text/html": [
       "<table border=\"1\" class=\"dataframe\">\n",
       "  <thead>\n",
       "    <tr style=\"text-align: left;\">\n",
       "      <th>epoch</th>\n",
       "      <th>train_loss</th>\n",
       "      <th>valid_loss</th>\n",
       "      <th>accuracy</th>\n",
       "      <th>f1_score</th>\n",
       "      <th>time</th>\n",
       "    </tr>\n",
       "  </thead>\n",
       "  <tbody>\n",
       "    <tr>\n",
       "      <td>0</td>\n",
       "      <td>None</td>\n",
       "      <td>None</td>\n",
       "      <td>None</td>\n",
       "      <td>00:00</td>\n",
       "    </tr>\n",
       "  </tbody>\n",
       "</table>"
      ],
      "text/plain": [
       "<IPython.core.display.HTML object>"
      ]
     },
     "metadata": {},
     "output_type": "display_data"
    },
    {
     "data": {
      "text/plain": [
       "ImgTextFusion (Input shape: [\"['64 x 4096', '64 x 3840', '64', '64']\"])\n",
       "================================================================\n",
       "Layer (type)         Output Shape         Param #    Trainable \n",
       "================================================================\n",
       "BatchNorm1d          64 x 7936            15,872     True      \n",
       "________________________________________________________________\n",
       "Dropout              64 x 7936            0          False     \n",
       "________________________________________________________________\n",
       "Linear               64 x 512             4,063,232  True      \n",
       "________________________________________________________________\n",
       "ReLU                 64 x 512             0          False     \n",
       "________________________________________________________________\n",
       "BatchNorm1d          64 x 512             1,024      True      \n",
       "________________________________________________________________\n",
       "Dropout              64 x 512             0          False     \n",
       "________________________________________________________________\n",
       "Linear               64 x 6               3,072      True      \n",
       "________________________________________________________________\n",
       "Embedding            64                   4,096      True      \n",
       "________________________________________________________________\n",
       "Embedding            64                   3,840      True      \n",
       "________________________________________________________________\n",
       "\n",
       "Total params: 4,091,136\n",
       "Total trainable params: 4,091,136\n",
       "Total non-trainable params: 0\n",
       "\n",
       "Optimizer used: <function Adam at 0x7fc2be98e1f0>\n",
       "Loss function: <function loss_func at 0x7fc24419dca0>\n",
       "\n",
       "Callbacks:\n",
       "  - TrainEvalCallback\n",
       "  - Recorder\n",
       "  - ProgressCallback"
      ]
     },
     "execution_count": 318,
     "metadata": {},
     "output_type": "execute_result"
    }
   ],
   "source": [
    "learn.summary()"
   ]
  },
  {
   "cell_type": "code",
   "execution_count": 320,
   "metadata": {},
   "outputs": [
    {
     "data": {
      "text/html": [],
      "text/plain": [
       "<IPython.core.display.HTML object>"
      ]
     },
     "metadata": {},
     "output_type": "display_data"
    },
    {
     "data": {
      "text/plain": [
       "(#3) [1.780272364616394,0.1119547188282013,0.05780499452619731]"
      ]
     },
     "execution_count": 320,
     "metadata": {},
     "output_type": "execute_result"
    }
   ],
   "source": [
    "learn.validate()"
   ]
  },
  {
   "cell_type": "code",
   "execution_count": 264,
   "metadata": {},
   "outputs": [
    {
     "data": {
      "text/html": [],
      "text/plain": [
       "<IPython.core.display.HTML object>"
      ]
     },
     "metadata": {},
     "output_type": "display_data"
    },
    {
     "data": {
      "text/plain": [
       "SuggestedLRs(lr_min=0.025118863582611083, lr_steep=0.05754399299621582)"
      ]
     },
     "execution_count": 264,
     "metadata": {},
     "output_type": "execute_result"
    },
    {
     "data": {
      "image/png": "[encoded data removed]",
      "text/plain": [
       "<Figure size 432x288 with 1 Axes>"
      ]
     },
     "metadata": {
      "needs_background": "light"
     },
     "output_type": "display_data"
    }
   ],
   "source": [
    "learn.lr_find()"
   ]
  },
  {
   "cell_type": "code",
   "execution_count": 321,
   "metadata": {},
   "outputs": [],
   "source": [
    "learn.add_cbs([SaveModelCallback(monitor='f1_score', fname='best_fusion'),\n",
    "                                       ShowGraphCallback()])"
   ]
  },
  {
   "cell_type": "code",
   "execution_count": 323,
   "metadata": {},
   "outputs": [
    {
     "data": {
      "text/html": [
       "<table border=\"1\" class=\"dataframe\">\n",
       "  <thead>\n",
       "    <tr style=\"text-align: left;\">\n",
       "      <th>epoch</th>\n",
       "      <th>train_loss</th>\n",
       "      <th>valid_loss</th>\n",
       "      <th>accuracy</th>\n",
       "      <th>f1_score</th>\n",
       "      <th>time</th>\n",
       "    </tr>\n",
       "  </thead>\n",
       "  <tbody>\n",
       "    <tr>\n",
       "      <td>0</td>\n",
       "      <td>0.156895</td>\n",
       "      <td>0.292673</td>\n",
       "      <td>0.941911</td>\n",
       "      <td>0.725074</td>\n",
       "      <td>29:36</td>\n",
       "    </tr>\n",
       "    <tr>\n",
       "      <td>1</td>\n",
       "      <td>0.318428</td>\n",
       "      <td>1.201178</td>\n",
       "      <td>0.937260</td>\n",
       "      <td>0.583699</td>\n",
       "      <td>23:12</td>\n",
       "    </tr>\n",
       "    <tr>\n",
       "      <td>2</td>\n",
       "      <td>0.301540</td>\n",
       "      <td>61.136528</td>\n",
       "      <td>0.928328</td>\n",
       "      <td>0.560453</td>\n",
       "      <td>10:39</td>\n",
       "    </tr>\n",
       "    <tr>\n",
       "      <td>3</td>\n",
       "      <td>0.233729</td>\n",
       "      <td>20.332190</td>\n",
       "      <td>0.934231</td>\n",
       "      <td>0.603734</td>\n",
       "      <td>12:55</td>\n",
       "    </tr>\n",
       "    <tr>\n",
       "      <td>4</td>\n",
       "      <td>0.236815</td>\n",
       "      <td>0.497308</td>\n",
       "      <td>0.923037</td>\n",
       "      <td>0.694410</td>\n",
       "      <td>08:44</td>\n",
       "    </tr>\n",
       "    <tr>\n",
       "      <td>5</td>\n",
       "      <td>0.175361</td>\n",
       "      <td>2.344356</td>\n",
       "      <td>0.896745</td>\n",
       "      <td>0.624413</td>\n",
       "      <td>09:05</td>\n",
       "    </tr>\n",
       "    <tr>\n",
       "      <td>6</td>\n",
       "      <td>0.122372</td>\n",
       "      <td>11.672071</td>\n",
       "      <td>0.932726</td>\n",
       "      <td>0.546704</td>\n",
       "      <td>08:21</td>\n",
       "    </tr>\n",
       "    <tr>\n",
       "      <td>7</td>\n",
       "      <td>0.090470</td>\n",
       "      <td>0.654125</td>\n",
       "      <td>0.939872</td>\n",
       "      <td>0.722263</td>\n",
       "      <td>08:19</td>\n",
       "    </tr>\n",
       "    <tr>\n",
       "      <td>8</td>\n",
       "      <td>0.088848</td>\n",
       "      <td>2.647726</td>\n",
       "      <td>0.938765</td>\n",
       "      <td>0.744009</td>\n",
       "      <td>07:36</td>\n",
       "    </tr>\n",
       "    <tr>\n",
       "      <td>9</td>\n",
       "      <td>0.073090</td>\n",
       "      <td>1.100814</td>\n",
       "      <td>0.938212</td>\n",
       "      <td>0.708762</td>\n",
       "      <td>08:06</td>\n",
       "    </tr>\n",
       "  </tbody>\n",
       "</table>"
      ],
      "text/plain": [
       "<IPython.core.display.HTML object>"
      ]
     },
     "metadata": {},
     "output_type": "display_data"
    },
    {
     "name": "stdout",
     "output_type": "stream",
     "text": [
      "Better model found at epoch 0 with f1_score value: 0.725074400379516.\n"
     ]
    },
    {
     "data": {
      "image/png": "[encoded data removed]",
      "text/plain": [
       "<Figure size 432x288 with 1 Axes>"
      ]
     },
     "metadata": {},
     "output_type": "display_data"
    },
    {
     "name": "stdout",
     "output_type": "stream",
     "text": [
      "Better model found at epoch 8 with f1_score value: 0.7440088203861196.\n"
     ]
    }
   ],
   "source": [
    "learn.fit_one_cycle(10, lr_max=5e-2)"
   ]
  },
  {
   "cell_type": "code",
   "execution_count": 325,
   "metadata": {},
   "outputs": [],
   "source": [
    "head = create_head(4096 + 3840, OUT_DIM, lin_ftrs=[128])"
   ]
  },
  {
   "cell_type": "code",
   "execution_count": 326,
   "metadata": {},
   "outputs": [],
   "source": [
    "model = ImgTextFusion(head)"
   ]
  },
  {
   "cell_type": "code",
   "execution_count": 327,
   "metadata": {},
   "outputs": [],
   "source": [
    "learn = Learner(dls, model, loss_func=loss_func, metrics=[accuracy, fscore])"
   ]
  },
  {
   "cell_type": "code",
   "execution_count": 328,
   "metadata": {},
   "outputs": [
    {
     "data": {
      "text/html": [
       "<table border=\"1\" class=\"dataframe\">\n",
       "  <thead>\n",
       "    <tr style=\"text-align: left;\">\n",
       "      <th>epoch</th>\n",
       "      <th>train_loss</th>\n",
       "      <th>valid_loss</th>\n",
       "      <th>accuracy</th>\n",
       "      <th>f1_score</th>\n",
       "      <th>time</th>\n",
       "    </tr>\n",
       "  </thead>\n",
       "  <tbody>\n",
       "    <tr>\n",
       "      <td>0</td>\n",
       "      <td>None</td>\n",
       "      <td>None</td>\n",
       "      <td>None</td>\n",
       "      <td>00:00</td>\n",
       "    </tr>\n",
       "  </tbody>\n",
       "</table>"
      ],
      "text/plain": [
       "<IPython.core.display.HTML object>"
      ]
     },
     "metadata": {},
     "output_type": "display_data"
    },
    {
     "data": {
      "text/plain": [
       "ImgTextFusion (Input shape: [\"['64 x 4096', '64 x 3840', '64', '64']\"])\n",
       "================================================================\n",
       "Layer (type)         Output Shape         Param #    Trainable \n",
       "================================================================\n",
       "BatchNorm1d          64 x 7936            15,872     True      \n",
       "________________________________________________________________\n",
       "Dropout              64 x 7936            0          False     \n",
       "________________________________________________________________\n",
       "Linear               64 x 128             1,015,808  True      \n",
       "________________________________________________________________\n",
       "ReLU                 64 x 128             0          False     \n",
       "________________________________________________________________\n",
       "BatchNorm1d          64 x 128             256        True      \n",
       "________________________________________________________________\n",
       "Dropout              64 x 128             0          False     \n",
       "________________________________________________________________\n",
       "Linear               64 x 6               768        True      \n",
       "________________________________________________________________\n",
       "Embedding            64                   4,096      True      \n",
       "________________________________________________________________\n",
       "Embedding            64                   3,840      True      \n",
       "________________________________________________________________\n",
       "\n",
       "Total params: 1,040,640\n",
       "Total trainable params: 1,040,640\n",
       "Total non-trainable params: 0\n",
       "\n",
       "Optimizer used: <function Adam at 0x7fc2be98e1f0>\n",
       "Loss function: <function loss_func at 0x7fc24419dca0>\n",
       "\n",
       "Callbacks:\n",
       "  - TrainEvalCallback\n",
       "  - Recorder\n",
       "  - ProgressCallback"
      ]
     },
     "execution_count": 328,
     "metadata": {},
     "output_type": "execute_result"
    }
   ],
   "source": [
    "learn.summary()"
   ]
  },
  {
   "cell_type": "code",
   "execution_count": 329,
   "metadata": {},
   "outputs": [
    {
     "data": {
      "text/html": [],
      "text/plain": [
       "<IPython.core.display.HTML object>"
      ]
     },
     "metadata": {},
     "output_type": "display_data"
    },
    {
     "data": {
      "text/plain": [
       "SuggestedLRs(lr_min=0.04365158379077912, lr_steep=0.2089296132326126)"
      ]
     },
     "execution_count": 329,
     "metadata": {},
     "output_type": "execute_result"
    },
    {
     "data": {
      "image/png": "[encoded data removed]",
      "text/plain": [
       "<Figure size 432x288 with 1 Axes>"
      ]
     },
     "metadata": {
      "needs_background": "light"
     },
     "output_type": "display_data"
    }
   ],
   "source": [
    "learn.lr_find()"
   ]
  },
  {
   "cell_type": "code",
   "execution_count": 330,
   "metadata": {},
   "outputs": [],
   "source": [
    "learn.add_cbs([SaveModelCallback(monitor='f1_score', fname='best_fusion_128'),\n",
    "                                       ShowGraphCallback()])"
   ]
  },
  {
   "cell_type": "code",
   "execution_count": null,
   "metadata": {},
   "outputs": [
    {
     "data": {
      "text/html": [
       "\n",
       "    <div>\n",
       "        <style>\n",
       "            /* Turns off some styling */\n",
       "            progress {\n",
       "                /* gets rid of default border in Firefox and Opera. */\n",
       "                border: none;\n",
       "                /* Needs to be in here for Safari polyfill so background images work as expected. */\n",
       "                background-size: auto;\n",
       "            }\n",
       "            .progress-bar-interrupted, .progress-bar-interrupted::-webkit-progress-bar {\n",
       "                background: #F44336;\n",
       "            }\n",
       "        </style>\n",
       "      <progress value='6' class='' max='10' style='width:300px; height:20px; vertical-align: middle;'></progress>\n",
       "      60.00% [6/10 50:13<33:29]\n",
       "    </div>\n",
       "    \n",
       "<table border=\"1\" class=\"dataframe\">\n",
       "  <thead>\n",
       "    <tr style=\"text-align: left;\">\n",
       "      <th>epoch</th>\n",
       "      <th>train_loss</th>\n",
       "      <th>valid_loss</th>\n",
       "      <th>accuracy</th>\n",
       "      <th>f1_score</th>\n",
       "      <th>time</th>\n",
       "    </tr>\n",
       "  </thead>\n",
       "  <tbody>\n",
       "    <tr>\n",
       "      <td>0</td>\n",
       "      <td>0.118076</td>\n",
       "      <td>0.293594</td>\n",
       "      <td>0.937688</td>\n",
       "      <td>0.703868</td>\n",
       "      <td>09:25</td>\n",
       "    </tr>\n",
       "    <tr>\n",
       "      <td>1</td>\n",
       "      <td>0.162370</td>\n",
       "      <td>0.363445</td>\n",
       "      <td>0.934920</td>\n",
       "      <td>0.535164</td>\n",
       "      <td>08:54</td>\n",
       "    </tr>\n",
       "    <tr>\n",
       "      <td>2</td>\n",
       "      <td>0.165360</td>\n",
       "      <td>0.322928</td>\n",
       "      <td>0.941018</td>\n",
       "      <td>0.664880</td>\n",
       "      <td>08:14</td>\n",
       "    </tr>\n",
       "    <tr>\n",
       "      <td>3</td>\n",
       "      <td>0.140249</td>\n",
       "      <td>0.340284</td>\n",
       "      <td>0.937270</td>\n",
       "      <td>0.731723</td>\n",
       "      <td>07:42</td>\n",
       "    </tr>\n",
       "    <tr>\n",
       "      <td>4</td>\n",
       "      <td>0.141849</td>\n",
       "      <td>0.320091</td>\n",
       "      <td>0.940746</td>\n",
       "      <td>0.704346</td>\n",
       "      <td>07:50</td>\n",
       "    </tr>\n",
       "    <tr>\n",
       "      <td>5</td>\n",
       "      <td>0.119744</td>\n",
       "      <td>0.328166</td>\n",
       "      <td>0.942678</td>\n",
       "      <td>0.731926</td>\n",
       "      <td>08:02</td>\n",
       "    </tr>\n",
       "  </tbody>\n",
       "</table><p>\n",
       "\n",
       "    <div>\n",
       "        <style>\n",
       "            /* Turns off some styling */\n",
       "            progress {\n",
       "                /* gets rid of default border in Firefox and Opera. */\n",
       "                border: none;\n",
       "                /* Needs to be in here for Safari polyfill so background images work as expected. */\n",
       "                background-size: auto;\n",
       "            }\n",
       "            .progress-bar-interrupted, .progress-bar-interrupted::-webkit-progress-bar {\n",
       "                background: #F44336;\n",
       "            }\n",
       "        </style>\n",
       "      <progress value='124' class='' max='1610' style='width:300px; height:20px; vertical-align: middle;'></progress>\n",
       "      7.70% [124/1610 00:11<02:17 0.1110]\n",
       "    </div>\n",
       "    "
      ],
      "text/plain": [
       "<IPython.core.display.HTML object>"
      ]
     },
     "metadata": {},
     "output_type": "display_data"
    },
    {
     "name": "stdout",
     "output_type": "stream",
     "text": [
      "Better model found at epoch 0 with f1_score value: 0.7038682571851839.\n"
     ]
    },
    {
     "data": {
      "image/png": "[encoded data removed]",
      "text/plain": [
       "<Figure size 432x288 with 1 Axes>"
      ]
     },
     "metadata": {},
     "output_type": "display_data"
    },
    {
     "name": "stdout",
     "output_type": "stream",
     "text": [
      "Better model found at epoch 3 with f1_score value: 0.7317225459776453.\n"
     ]
    }
   ],
   "source": [
    "learn.fit_one_cycle(10, lr_max=5e-2)"
   ]
  },
  {
   "cell_type": "code",
   "execution_count": 325,
   "metadata": {},
   "outputs": [],
   "source": [
    "head = create_head(4096 + 3840, OUT_DIM, lin_ftrs=[128])"
   ]
  },
  {
   "cell_type": "code",
   "execution_count": 326,
   "metadata": {},
   "outputs": [],
   "source": [
    "model = ImgTextFusion(head, embs_for_none=False)"
   ]
  },
  {
   "cell_type": "code",
   "execution_count": 327,
   "metadata": {},
   "outputs": [],
   "source": [
    "learn = Learner(dls, model, loss_func=loss_func, metrics=[accuracy, fscore])"
   ]
  },
  {
   "cell_type": "code",
   "execution_count": 328,
   "metadata": {},
   "outputs": [
    {
     "data": {
      "text/html": [
       "<table border=\"1\" class=\"dataframe\">\n",
       "  <thead>\n",
       "    <tr style=\"text-align: left;\">\n",
       "      <th>epoch</th>\n",
       "      <th>train_loss</th>\n",
       "      <th>valid_loss</th>\n",
       "      <th>accuracy</th>\n",
       "      <th>f1_score</th>\n",
       "      <th>time</th>\n",
       "    </tr>\n",
       "  </thead>\n",
       "  <tbody>\n",
       "    <tr>\n",
       "      <td>0</td>\n",
       "      <td>None</td>\n",
       "      <td>None</td>\n",
       "      <td>None</td>\n",
       "      <td>00:00</td>\n",
       "    </tr>\n",
       "  </tbody>\n",
       "</table>"
      ],
      "text/plain": [
       "<IPython.core.display.HTML object>"
      ]
     },
     "metadata": {},
     "output_type": "display_data"
    },
    {
     "data": {
      "text/plain": [
       "ImgTextFusion (Input shape: [\"['64 x 4096', '64 x 3840', '64', '64']\"])\n",
       "================================================================\n",
       "Layer (type)         Output Shape         Param #    Trainable \n",
       "================================================================\n",
       "BatchNorm1d          64 x 7936            15,872     True      \n",
       "________________________________________________________________\n",
       "Dropout              64 x 7936            0          False     \n",
       "________________________________________________________________\n",
       "Linear               64 x 128             1,015,808  True      \n",
       "________________________________________________________________\n",
       "ReLU                 64 x 128             0          False     \n",
       "________________________________________________________________\n",
       "BatchNorm1d          64 x 128             256        True      \n",
       "________________________________________________________________\n",
       "Dropout              64 x 128             0          False     \n",
       "________________________________________________________________\n",
       "Linear               64 x 6               768        True      \n",
       "________________________________________________________________\n",
       "Embedding            64                   4,096      True      \n",
       "________________________________________________________________\n",
       "Embedding            64                   3,840      True      \n",
       "________________________________________________________________\n",
       "\n",
       "Total params: 1,040,640\n",
       "Total trainable params: 1,040,640\n",
       "Total non-trainable params: 0\n",
       "\n",
       "Optimizer used: <function Adam at 0x7fc2be98e1f0>\n",
       "Loss function: <function loss_func at 0x7fc24419dca0>\n",
       "\n",
       "Callbacks:\n",
       "  - TrainEvalCallback\n",
       "  - Recorder\n",
       "  - ProgressCallback"
      ]
     },
     "execution_count": 328,
     "metadata": {},
     "output_type": "execute_result"
    }
   ],
   "source": [
    "learn.summary()"
   ]
  },
  {
   "cell_type": "code",
   "execution_count": 329,
   "metadata": {},
   "outputs": [
    {
     "data": {
      "text/html": [],
      "text/plain": [
       "<IPython.core.display.HTML object>"
      ]
     },
     "metadata": {},
     "output_type": "display_data"
    },
    {
     "data": {
      "text/plain": [
       "SuggestedLRs(lr_min=0.04365158379077912, lr_steep=0.2089296132326126)"
      ]
     },
     "execution_count": 329,
     "metadata": {},
     "output_type": "execute_result"
    },
    {
     "data": {
      "image/png": "[encoded data removed]",
      "text/plain": [
       "<Figure size 432x288 with 1 Axes>"
      ]
     },
     "metadata": {
      "needs_background": "light"
     },
     "output_type": "display_data"
    }
   ],
   "source": [
    "learn.lr_find()"
   ]
  },
  {
   "cell_type": "code",
   "execution_count": 330,
   "metadata": {},
   "outputs": [],
   "source": [
    "learn.add_cbs([SaveModelCallback(monitor='f1_score', fname='best_fusion_128_zeros'),\n",
    "                                       ShowGraphCallback()])"
   ]
  },
  {
   "cell_type": "code",
   "execution_count": null,
   "metadata": {},
   "outputs": [
    {
     "data": {
      "text/html": [
       "\n",
       "    <div>\n",
       "        <style>\n",
       "            /* Turns off some styling */\n",
       "            progress {\n",
       "                /* gets rid of default border in Firefox and Opera. */\n",
       "                border: none;\n",
       "                /* Needs to be in here for Safari polyfill so background images work as expected. */\n",
       "                background-size: auto;\n",
       "            }\n",
       "            .progress-bar-interrupted, .progress-bar-interrupted::-webkit-progress-bar {\n",
       "                background: #F44336;\n",
       "            }\n",
       "        </style>\n",
       "      <progress value='2' class='' max='10' style='width:300px; height:20px; vertical-align: middle;'></progress>\n",
       "      20.00% [2/10 18:21<1:13:24]\n",
       "    </div>\n",
       "    \n",
       "<table border=\"1\" class=\"dataframe\">\n",
       "  <thead>\n",
       "    <tr style=\"text-align: left;\">\n",
       "      <th>epoch</th>\n",
       "      <th>train_loss</th>\n",
       "      <th>valid_loss</th>\n",
       "      <th>accuracy</th>\n",
       "      <th>f1_score</th>\n",
       "      <th>time</th>\n",
       "    </tr>\n",
       "  </thead>\n",
       "  <tbody>\n",
       "    <tr>\n",
       "      <td>0</td>\n",
       "      <td>0.118076</td>\n",
       "      <td>0.293594</td>\n",
       "      <td>0.937688</td>\n",
       "      <td>0.703868</td>\n",
       "      <td>09:25</td>\n",
       "    </tr>\n",
       "    <tr>\n",
       "      <td>1</td>\n",
       "      <td>0.162370</td>\n",
       "      <td>0.363445</td>\n",
       "      <td>0.934920</td>\n",
       "      <td>0.535164</td>\n",
       "      <td>08:54</td>\n",
       "    </tr>\n",
       "  </tbody>\n",
       "</table><p>\n",
       "\n",
       "    <div>\n",
       "        <style>\n",
       "            /* Turns off some styling */\n",
       "            progress {\n",
       "                /* gets rid of default border in Firefox and Opera. */\n",
       "                border: none;\n",
       "                /* Needs to be in here for Safari polyfill so background images work as expected. */\n",
       "                background-size: auto;\n",
       "            }\n",
       "            .progress-bar-interrupted, .progress-bar-interrupted::-webkit-progress-bar {\n",
       "                background: #F44336;\n",
       "            }\n",
       "        </style>\n",
       "      <progress value='950' class='' max='1610' style='width:300px; height:20px; vertical-align: middle;'></progress>\n",
       "      59.01% [950/1610 01:38<01:08 0.1654]\n",
       "    </div>\n",
       "    "
      ],
      "text/plain": [
       "<IPython.core.display.HTML object>"
      ]
     },
     "metadata": {},
     "output_type": "display_data"
    },
    {
     "name": "stdout",
     "output_type": "stream",
     "text": [
      "Better model found at epoch 0 with f1_score value: 0.7038682571851839.\n"
     ]
    },
    {
     "data": {
      "image/png": "[encoded data removed]",
      "text/plain": [
       "<Figure size 432x288 with 1 Axes>"
      ]
     },
     "metadata": {},
     "output_type": "display_data"
    }
   ],
   "source": [
    "learn.fit_one_cycle(10, lr_max=5e-2)"
   ]
  }
 ],
 "metadata": {
  "kernelspec": {
   "display_name": "fastai2",
   "language": "python",
   "name": "fastai2"
  },
  "language_info": {
   "codemirror_mode": {
    "name": "ipython",
    "version": 3
   },
   "file_extension": ".py",
   "mimetype": "text/x-python",
   "name": "python",
   "nbconvert_exporter": "python",
   "pygments_lexer": "ipython3",
   "version": "3.8.5"
  }
 },
 "nbformat": 4,
 "nbformat_minor": 4
}
