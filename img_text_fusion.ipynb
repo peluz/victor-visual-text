{
 "cells": [
  {
   "cell_type": "code",
   "execution_count": 1,
   "metadata": {},
   "outputs": [],
   "source": [
    "%load_ext autoreload\n",
    "%autoreload 2\n",
    "\n",
    "from fastai.text.all import *\n",
    "from fastai.vision.all import *\n",
    "import pandas as pd\n",
    "import torch\n",
    "from tqdm.notebook import tqdm"
   ]
  },
  {
   "cell_type": "code",
   "execution_count": 2,
   "metadata": {},
   "outputs": [],
   "source": [
    "seed = 42\n",
    "\n",
    "# python RNG\n",
    "import random\n",
    "random.seed(seed)\n",
    "\n",
    "# pytorch RNGs\n",
    "import torch\n",
    "torch.manual_seed(seed)\n",
    "torch.backends.cudnn.deterministic = True\n",
    "if torch.cuda.is_available(): torch.cuda.manual_seed_all(seed)\n",
    "\n",
    "# numpy RNG\n",
    "import numpy as np\n",
    "np.random.seed(seed)"
   ]
  },
  {
   "cell_type": "code",
   "execution_count": 3,
   "metadata": {},
   "outputs": [],
   "source": [
    "OUT_DIM=6"
   ]
  },
  {
   "cell_type": "code",
   "execution_count": 4,
   "metadata": {},
   "outputs": [],
   "source": [
    "path = Path(\"./activations\")"
   ]
  },
  {
   "cell_type": "code",
   "execution_count": null,
   "metadata": {},
   "outputs": [],
   "source": [
    "img_files = get_files(path/\"img\"); img_files"
   ]
  },
  {
   "cell_type": "code",
   "execution_count": null,
   "metadata": {},
   "outputs": [],
   "source": [
    "text_files = get_files(path/\"text\"); text_files"
   ]
  },
  {
   "cell_type": "code",
   "execution_count": null,
   "metadata": {},
   "outputs": [],
   "source": [
    "text_set = set([t.with_suffix(\"\").name for t in text_files])"
   ]
  },
  {
   "cell_type": "code",
   "execution_count": null,
   "metadata": {},
   "outputs": [],
   "source": [
    "img_set = set([t.with_suffix(\"\").name for t in img_files])"
   ]
  },
  {
   "cell_type": "code",
   "execution_count": null,
   "metadata": {},
   "outputs": [],
   "source": [
    "len(text_set), len(img_set)"
   ]
  },
  {
   "cell_type": "code",
   "execution_count": null,
   "metadata": {},
   "outputs": [],
   "source": [
    "img_and_text = text_set.intersection(text_set, img_set); len(img_and_text)"
   ]
  },
  {
   "cell_type": "code",
   "execution_count": null,
   "metadata": {},
   "outputs": [],
   "source": [
    "just_img = img_set - text_set; len(just_img)"
   ]
  },
  {
   "cell_type": "code",
   "execution_count": null,
   "metadata": {},
   "outputs": [],
   "source": [
    "just_text = text_set - img_set; len(just_text)"
   ]
  },
  {
   "cell_type": "code",
   "execution_count": null,
   "metadata": {},
   "outputs": [],
   "source": [
    "train_csv = pd.read_csv(\"./data/train_fusion.csv\")\n",
    "val_csv = pd.read_csv(\"./data/val_fusion.csv\")\n",
    "test_csv = pd.read_csv(\"./data/test_fusion.csv\")"
   ]
  },
  {
   "cell_type": "code",
   "execution_count": null,
   "metadata": {},
   "outputs": [],
   "source": [
    "train_csv[\"is_valid\"] = False\n",
    "val_csv[\"is_valid\"] = True\n",
    "data = pd.concat([train_csv, val_csv])"
   ]
  },
  {
   "cell_type": "code",
   "execution_count": null,
   "metadata": {},
   "outputs": [],
   "source": [
    "data[\"has_text\"] = True"
   ]
  },
  {
   "cell_type": "code",
   "execution_count": null,
   "metadata": {},
   "outputs": [],
   "source": [
    "data[\"has_image\"]= ~(data[\"file_name\"].str.slice(stop=-4) + \"_\" + data[\"pages\"].astype(str)).isin(just_text)"
   ]
  },
  {
   "cell_type": "code",
   "execution_count": null,
   "metadata": {},
   "outputs": [],
   "source": [
    "data.head(1)"
   ]
  },
  {
   "cell_type": "code",
   "execution_count": null,
   "metadata": {},
   "outputs": [],
   "source": [
    "just_imgs = [x for x in img_files if x.with_suffix(\"\").name in just_img]; len(just_imgs), just_imgs[:3]"
   ]
  },
  {
   "cell_type": "code",
   "execution_count": null,
   "metadata": {},
   "outputs": [],
   "source": [
    "just_imgs[0].with_suffix(\"\").as_posix()"
   ]
  },
  {
   "cell_type": "code",
   "execution_count": null,
   "metadata": {},
   "outputs": [],
   "source": [
    "just_imgs_dics = []\n",
    "for p in tqdm(just_imgs):\n",
    "    parts = p.parts\n",
    "    if parts[2] == \"test\":\n",
    "        continue\n",
    "    dic = {}\n",
    "    dic[\"process_id\"] = re.search(r\"[^_]*_\\d+\",parts[4])[0]\n",
    "    dic[\"file_name\"] = parts[4][:-2] + \"pdf\"\n",
    "    dic[\"document_type\"] = parts[3]\n",
    "    dic[\"pages\"] = re.search(r\"(?<=_)\\d+(?=\\.pt)\", parts[4])[0]\n",
    "    dic[\"is_valid\"] = parts[2] == \"val\"\n",
    "    dic[\"has_text\"] = False\n",
    "    dic[\"has_image\"] = True\n",
    "    dic[\"activation_path\"] = p.with_suffix(\"\").as_posix()\n",
    "    just_imgs_dics.append(dic)"
   ]
  },
  {
   "cell_type": "code",
   "execution_count": null,
   "metadata": {},
   "outputs": [],
   "source": [
    "just_imgs_df = pd.DataFrame(just_imgs_dics, columns = data.columns); just_imgs_df.head()"
   ]
  },
  {
   "cell_type": "code",
   "execution_count": null,
   "metadata": {},
   "outputs": [],
   "source": [
    "data = pd.concat([data, just_imgs_df])"
   ]
  },
  {
   "cell_type": "code",
   "execution_count": null,
   "metadata": {},
   "outputs": [],
   "source": [
    "data.head(1)"
   ]
  },
  {
   "cell_type": "code",
   "execution_count": null,
   "metadata": {},
   "outputs": [],
   "source": [
    "data.tail()"
   ]
  },
  {
   "cell_type": "code",
   "execution_count": null,
   "metadata": {},
   "outputs": [],
   "source": [
    "img_files"
   ]
  },
  {
   "cell_type": "code",
   "execution_count": null,
   "metadata": {},
   "outputs": [],
   "source": [
    "class GetActs(Transform):\n",
    "    def encodes(self, x):        \n",
    "        img_file = text_file = None\n",
    "        \n",
    "        if x[\"has_text\"]:\n",
    "            text_file = Path(x[\"activation_path\"] + \".npy\")\n",
    "            if x[\"has_image\"]:\n",
    "                img_file = Path(text_file.as_posix().replace(\"text\", \"img\").replace(\"npy\", \"pt\"))\n",
    "        else:\n",
    "            img_file = Path(x[\"activation_path\"] + \".pt\")\n",
    "        \n",
    "        if img_file is None:\n",
    "            img_act = torch.zeros((4096))\n",
    "        else:\n",
    "            img_act = torch.load(img_file)\n",
    "                            \n",
    "        if text_file is None:\n",
    "            text_act = torch.zeros((3840))\n",
    "            text_none = True\n",
    "        else:\n",
    "            text_act = tensor(np.load(text_file))\n",
    "        \n",
    "        img_none = img_file == None\n",
    "        text_none = text_file == None\n",
    "                            \n",
    "        return (img_act, text_act, img_none, text_none)"
   ]
  },
  {
   "cell_type": "code",
   "execution_count": null,
   "metadata": {},
   "outputs": [],
   "source": [
    "tfms = [[GetActs()], [ColReader(\"document_type\"), Categorize()]]\n",
    "splits = ColSplitter()(data)\n",
    "dsets = Datasets(data, tfms, splits=splits)\n",
    "dls = dsets.dataloaders()"
   ]
  },
  {
   "cell_type": "code",
   "execution_count": null,
   "metadata": {},
   "outputs": [],
   "source": [
    "dls.train_ds, dls.valid_ds"
   ]
  },
  {
   "cell_type": "code",
   "execution_count": 29,
   "metadata": {},
   "outputs": [],
   "source": [
    "torch.save(dls, \"./data/fusion_dl_v2.pth\")"
   ]
  },
  {
   "cell_type": "code",
   "execution_count": null,
   "metadata": {},
   "outputs": [],
   "source": [
    "class ImgTextFusion(Module):\n",
    "    def __init__(self, head, embs_for_none=True, img_emb_dim=4096, text_emb_dim=3840):\n",
    "        self.head = head.cuda()\n",
    "        self.embs_for_none = embs_for_none\n",
    "        if embs_for_none:\n",
    "            self.img_none_emb = torch.nn.Embedding(num_embeddings=1, embedding_dim=img_emb_dim).cuda()\n",
    "            self.text_none_emb = torch.nn.Embedding(num_embeddings=1, embedding_dim=text_emb_dim).cuda()\n",
    "            self.index= tensor(0).cuda()\n",
    "    \n",
    "    def forward(self, x):\n",
    "        img_act, text_act, img_none, text_none = x\n",
    "        if self.embs_for_none:\n",
    "            img_act[img_none] = self.img_none_emb(self.index)\n",
    "            text_act[text_none] = self.text_none_emb(self.index)\n",
    "        return self.head(torch.cat([img_act, text_act], axis=-1))"
   ]
  },
  {
   "cell_type": "code",
   "execution_count": null,
   "metadata": {},
   "outputs": [],
   "source": [
    "def create_head(nf, n_out, lin_ftrs=None, ps=0.5, bn_final=False, lin_first=False):\n",
    "    \"Model head that takes `nf` features, runs through `lin_ftrs`, and out `n_out` classes.\"\n",
    "    lin_ftrs = [nf, 512, n_out] if lin_ftrs is None else [nf] + lin_ftrs + [n_out]\n",
    "    ps = L(ps)\n",
    "    if len(ps) == 1: ps = [ps[0]/2] * (len(lin_ftrs)-2) + ps\n",
    "    actns = [nn.ReLU(inplace=True)] * (len(lin_ftrs)-2) + [None]\n",
    "    layers = []\n",
    "    if lin_first: layers.append(nn.Dropout(ps.pop(0)))\n",
    "    for ni,no,p,actn in zip(lin_ftrs[:-1], lin_ftrs[1:], ps, actns):\n",
    "        layers += LinBnDrop(ni, no, bn=True, p=p, act=actn, lin_first=lin_first)\n",
    "    if lin_first: layers.append(nn.Linear(lin_ftrs[-2], n_out))\n",
    "    if bn_final: layers.append(nn.BatchNorm1d(lin_ftrs[-1], momentum=0.01))\n",
    "    return nn.Sequential(*layers)"
   ]
  },
  {
   "cell_type": "code",
   "execution_count": null,
   "metadata": {},
   "outputs": [],
   "source": [
    "head = create_head(4096 + 3840, OUT_DIM)"
   ]
  },
  {
   "cell_type": "code",
   "execution_count": null,
   "metadata": {},
   "outputs": [],
   "source": [
    "model = ImgTextFusion(head)"
   ]
  },
  {
   "cell_type": "code",
   "execution_count": null,
   "metadata": {},
   "outputs": [],
   "source": [
    "def loss_func(out, targ):\n",
    "    return CrossEntropyLossFlat()(out, targ.long())"
   ]
  },
  {
   "cell_type": "code",
   "execution_count": null,
   "metadata": {},
   "outputs": [],
   "source": [
    "fscore = F1Score(average='macro')"
   ]
  },
  {
   "cell_type": "code",
   "execution_count": null,
   "metadata": {},
   "outputs": [],
   "source": [
    "learn = Learner(dls, model, loss_func=loss_func, metrics=[accuracy, fscore])"
   ]
  },
  {
   "cell_type": "code",
   "execution_count": 37,
   "metadata": {},
   "outputs": [
    {
     "data": {
      "text/html": [
       "<table border=\"1\" class=\"dataframe\">\n",
       "  <thead>\n",
       "    <tr style=\"text-align: left;\">\n",
       "      <th>epoch</th>\n",
       "      <th>train_loss</th>\n",
       "      <th>valid_loss</th>\n",
       "      <th>accuracy</th>\n",
       "      <th>f1_score</th>\n",
       "      <th>time</th>\n",
       "    </tr>\n",
       "  </thead>\n",
       "  <tbody>\n",
       "    <tr>\n",
       "      <td>0</td>\n",
       "      <td>None</td>\n",
       "      <td>None</td>\n",
       "      <td>None</td>\n",
       "      <td>00:00</td>\n",
       "    </tr>\n",
       "  </tbody>\n",
       "</table>"
      ],
      "text/plain": [
       "<IPython.core.display.HTML object>"
      ]
     },
     "metadata": {},
     "output_type": "display_data"
    },
    {
     "data": {
      "text/plain": [
       "ImgTextFusion (Input shape: [\"['64 x 4096', '64 x 3840', '64', '64']\"])\n",
       "================================================================\n",
       "Layer (type)         Output Shape         Param #    Trainable \n",
       "================================================================\n",
       "BatchNorm1d          64 x 7936            15,872     True      \n",
       "________________________________________________________________\n",
       "Dropout              64 x 7936            0          False     \n",
       "________________________________________________________________\n",
       "Linear               64 x 512             4,063,232  True      \n",
       "________________________________________________________________\n",
       "ReLU                 64 x 512             0          False     \n",
       "________________________________________________________________\n",
       "BatchNorm1d          64 x 512             1,024      True      \n",
       "________________________________________________________________\n",
       "Dropout              64 x 512             0          False     \n",
       "________________________________________________________________\n",
       "Linear               64 x 6               3,072      True      \n",
       "________________________________________________________________\n",
       "Embedding            64                   4,096      True      \n",
       "________________________________________________________________\n",
       "Embedding            64                   3,840      True      \n",
       "________________________________________________________________\n",
       "\n",
       "Total params: 4,091,136\n",
       "Total trainable params: 4,091,136\n",
       "Total non-trainable params: 0\n",
       "\n",
       "Optimizer used: <function Adam at 0x7f6f4586c1f0>\n",
       "Loss function: <function loss_func at 0x7f6f7f969160>\n",
       "\n",
       "Callbacks:\n",
       "  - TrainEvalCallback\n",
       "  - Recorder\n",
       "  - ProgressCallback"
      ]
     },
     "execution_count": 37,
     "metadata": {},
     "output_type": "execute_result"
    }
   ],
   "source": [
    "learn.summary()"
   ]
  },
  {
   "cell_type": "code",
   "execution_count": 38,
   "metadata": {},
   "outputs": [
    {
     "data": {
      "text/html": [],
      "text/plain": [
       "<IPython.core.display.HTML object>"
      ]
     },
     "metadata": {},
     "output_type": "display_data"
    },
    {
     "data": {
      "text/plain": [
       "(#3) [1.8902353048324585,0.06514403969049454,0.03851316032419575]"
      ]
     },
     "execution_count": 38,
     "metadata": {},
     "output_type": "execute_result"
    }
   ],
   "source": [
    "learn.validate()"
   ]
  },
  {
   "cell_type": "code",
   "execution_count": 39,
   "metadata": {},
   "outputs": [
    {
     "data": {
      "text/html": [],
      "text/plain": [
       "<IPython.core.display.HTML object>"
      ]
     },
     "metadata": {},
     "output_type": "display_data"
    },
    {
     "data": {
      "text/plain": [
       "SuggestedLRs(lr_min=0.02089296132326126, lr_steep=0.033113110810518265)"
      ]
     },
     "execution_count": 39,
     "metadata": {},
     "output_type": "execute_result"
    },
    {
     "data": {
      "image/png": "[encoded data removed]",
      "text/plain": [
       "<Figure size 432x288 with 1 Axes>"
      ]
     },
     "metadata": {
      "needs_background": "light"
     },
     "output_type": "display_data"
    }
   ],
   "source": [
    "learn.lr_find()"
   ]
  },
  {
   "cell_type": "code",
   "execution_count": 40,
   "metadata": {},
   "outputs": [],
   "source": [
    "learn.add_cbs([SaveModelCallback(monitor='f1_score', fname='best_fusion'),\n",
    "                                       ShowGraphCallback()])"
   ]
  },
  {
   "cell_type": "code",
   "execution_count": 41,
   "metadata": {},
   "outputs": [
    {
     "data": {
      "text/html": [
       "<table border=\"1\" class=\"dataframe\">\n",
       "  <thead>\n",
       "    <tr style=\"text-align: left;\">\n",
       "      <th>epoch</th>\n",
       "      <th>train_loss</th>\n",
       "      <th>valid_loss</th>\n",
       "      <th>accuracy</th>\n",
       "      <th>f1_score</th>\n",
       "      <th>time</th>\n",
       "    </tr>\n",
       "  </thead>\n",
       "  <tbody>\n",
       "    <tr>\n",
       "      <td>0</td>\n",
       "      <td>0.131739</td>\n",
       "      <td>0.348441</td>\n",
       "      <td>0.935274</td>\n",
       "      <td>0.672572</td>\n",
       "      <td>15:44</td>\n",
       "    </tr>\n",
       "    <tr>\n",
       "      <td>1</td>\n",
       "      <td>0.291994</td>\n",
       "      <td>5.453568</td>\n",
       "      <td>0.934800</td>\n",
       "      <td>0.637809</td>\n",
       "      <td>14:23</td>\n",
       "    </tr>\n",
       "    <tr>\n",
       "      <td>2</td>\n",
       "      <td>0.298876</td>\n",
       "      <td>15.286951</td>\n",
       "      <td>0.887708</td>\n",
       "      <td>0.627845</td>\n",
       "      <td>09:36</td>\n",
       "    </tr>\n",
       "    <tr>\n",
       "      <td>3</td>\n",
       "      <td>0.230524</td>\n",
       "      <td>37.713543</td>\n",
       "      <td>0.904766</td>\n",
       "      <td>0.637539</td>\n",
       "      <td>13:00</td>\n",
       "    </tr>\n",
       "    <tr>\n",
       "      <td>4</td>\n",
       "      <td>0.182112</td>\n",
       "      <td>14.794328</td>\n",
       "      <td>0.926072</td>\n",
       "      <td>0.673981</td>\n",
       "      <td>09:10</td>\n",
       "    </tr>\n",
       "    <tr>\n",
       "      <td>5</td>\n",
       "      <td>0.147666</td>\n",
       "      <td>13.552425</td>\n",
       "      <td>0.916701</td>\n",
       "      <td>0.602307</td>\n",
       "      <td>09:54</td>\n",
       "    </tr>\n",
       "    <tr>\n",
       "      <td>6</td>\n",
       "      <td>0.114618</td>\n",
       "      <td>3.131024</td>\n",
       "      <td>0.931472</td>\n",
       "      <td>0.628361</td>\n",
       "      <td>09:22</td>\n",
       "    </tr>\n",
       "    <tr>\n",
       "      <td>7</td>\n",
       "      <td>0.092870</td>\n",
       "      <td>2.570963</td>\n",
       "      <td>0.932932</td>\n",
       "      <td>0.720946</td>\n",
       "      <td>13:29</td>\n",
       "    </tr>\n",
       "    <tr>\n",
       "      <td>8</td>\n",
       "      <td>0.076512</td>\n",
       "      <td>0.749836</td>\n",
       "      <td>0.938230</td>\n",
       "      <td>0.744888</td>\n",
       "      <td>13:15</td>\n",
       "    </tr>\n",
       "    <tr>\n",
       "      <td>9</td>\n",
       "      <td>0.068449</td>\n",
       "      <td>0.728586</td>\n",
       "      <td>0.936241</td>\n",
       "      <td>0.735874</td>\n",
       "      <td>10:21</td>\n",
       "    </tr>\n",
       "  </tbody>\n",
       "</table>"
      ],
      "text/plain": [
       "<IPython.core.display.HTML object>"
      ]
     },
     "metadata": {},
     "output_type": "display_data"
    },
    {
     "name": "stdout",
     "output_type": "stream",
     "text": [
      "Better model found at epoch 0 with f1_score value: 0.6725719070133347.\n"
     ]
    },
    {
     "data": {
      "image/png": "[encoded data removed]",
      "text/plain": [
       "<Figure size 432x288 with 1 Axes>"
      ]
     },
     "metadata": {},
     "output_type": "display_data"
    },
    {
     "name": "stdout",
     "output_type": "stream",
     "text": [
      "Better model found at epoch 4 with f1_score value: 0.6739808206480098.\n",
      "Better model found at epoch 7 with f1_score value: 0.7209462957822724.\n",
      "Better model found at epoch 8 with f1_score value: 0.7448881977719647.\n"
     ]
    }
   ],
   "source": [
    "learn.fit_one_cycle(10, lr_max=5e-2)"
   ]
  },
  {
   "cell_type": "code",
   "execution_count": 42,
   "metadata": {},
   "outputs": [],
   "source": [
    "head = create_head(4096 + 3840, OUT_DIM, lin_ftrs=[128])"
   ]
  },
  {
   "cell_type": "code",
   "execution_count": 43,
   "metadata": {},
   "outputs": [],
   "source": [
    "model = ImgTextFusion(head)"
   ]
  },
  {
   "cell_type": "code",
   "execution_count": 44,
   "metadata": {},
   "outputs": [],
   "source": [
    "learn = Learner(dls, model, loss_func=loss_func, metrics=[accuracy, fscore])"
   ]
  },
  {
   "cell_type": "code",
   "execution_count": 45,
   "metadata": {},
   "outputs": [
    {
     "data": {
      "text/html": [
       "<table border=\"1\" class=\"dataframe\">\n",
       "  <thead>\n",
       "    <tr style=\"text-align: left;\">\n",
       "      <th>epoch</th>\n",
       "      <th>train_loss</th>\n",
       "      <th>valid_loss</th>\n",
       "      <th>accuracy</th>\n",
       "      <th>f1_score</th>\n",
       "      <th>time</th>\n",
       "    </tr>\n",
       "  </thead>\n",
       "  <tbody>\n",
       "    <tr>\n",
       "      <td>0</td>\n",
       "      <td>None</td>\n",
       "      <td>None</td>\n",
       "      <td>None</td>\n",
       "      <td>00:00</td>\n",
       "    </tr>\n",
       "  </tbody>\n",
       "</table>"
      ],
      "text/plain": [
       "<IPython.core.display.HTML object>"
      ]
     },
     "metadata": {},
     "output_type": "display_data"
    },
    {
     "data": {
      "text/plain": [
       "ImgTextFusion (Input shape: [\"['64 x 4096', '64 x 3840', '64', '64']\"])\n",
       "================================================================\n",
       "Layer (type)         Output Shape         Param #    Trainable \n",
       "================================================================\n",
       "BatchNorm1d          64 x 7936            15,872     True      \n",
       "________________________________________________________________\n",
       "Dropout              64 x 7936            0          False     \n",
       "________________________________________________________________\n",
       "Linear               64 x 128             1,015,808  True      \n",
       "________________________________________________________________\n",
       "ReLU                 64 x 128             0          False     \n",
       "________________________________________________________________\n",
       "BatchNorm1d          64 x 128             256        True      \n",
       "________________________________________________________________\n",
       "Dropout              64 x 128             0          False     \n",
       "________________________________________________________________\n",
       "Linear               64 x 6               768        True      \n",
       "________________________________________________________________\n",
       "Embedding            64                   4,096      True      \n",
       "________________________________________________________________\n",
       "Embedding            64                   3,840      True      \n",
       "________________________________________________________________\n",
       "\n",
       "Total params: 1,040,640\n",
       "Total trainable params: 1,040,640\n",
       "Total non-trainable params: 0\n",
       "\n",
       "Optimizer used: <function Adam at 0x7f6f4586c1f0>\n",
       "Loss function: <function loss_func at 0x7f6f7f969160>\n",
       "\n",
       "Callbacks:\n",
       "  - TrainEvalCallback\n",
       "  - Recorder\n",
       "  - ProgressCallback"
      ]
     },
     "execution_count": 45,
     "metadata": {},
     "output_type": "execute_result"
    }
   ],
   "source": [
    "learn.summary()"
   ]
  },
  {
   "cell_type": "code",
   "execution_count": 46,
   "metadata": {},
   "outputs": [
    {
     "data": {
      "text/html": [],
      "text/plain": [
       "<IPython.core.display.HTML object>"
      ]
     },
     "metadata": {},
     "output_type": "display_data"
    },
    {
     "data": {
      "text/plain": [
       "SuggestedLRs(lr_min=0.06309573650360108, lr_steep=0.05754399299621582)"
      ]
     },
     "execution_count": 46,
     "metadata": {},
     "output_type": "execute_result"
    },
    {
     "data": {
      "image/png": "[encoded data removed]",
      "text/plain": [
       "<Figure size 432x288 with 1 Axes>"
      ]
     },
     "metadata": {
      "needs_background": "light"
     },
     "output_type": "display_data"
    }
   ],
   "source": [
    "learn.lr_find()"
   ]
  },
  {
   "cell_type": "code",
   "execution_count": 47,
   "metadata": {},
   "outputs": [],
   "source": [
    "learn.add_cbs([SaveModelCallback(monitor='f1_score', fname='best_fusion_128'),\n",
    "                                       ShowGraphCallback()])"
   ]
  },
  {
   "cell_type": "code",
   "execution_count": 48,
   "metadata": {},
   "outputs": [
    {
     "data": {
      "text/html": [
       "<table border=\"1\" class=\"dataframe\">\n",
       "  <thead>\n",
       "    <tr style=\"text-align: left;\">\n",
       "      <th>epoch</th>\n",
       "      <th>train_loss</th>\n",
       "      <th>valid_loss</th>\n",
       "      <th>accuracy</th>\n",
       "      <th>f1_score</th>\n",
       "      <th>time</th>\n",
       "    </tr>\n",
       "  </thead>\n",
       "  <tbody>\n",
       "    <tr>\n",
       "      <td>0</td>\n",
       "      <td>0.111767</td>\n",
       "      <td>0.318527</td>\n",
       "      <td>0.932802</td>\n",
       "      <td>0.711490</td>\n",
       "      <td>12:27</td>\n",
       "    </tr>\n",
       "    <tr>\n",
       "      <td>1</td>\n",
       "      <td>0.174509</td>\n",
       "      <td>0.365068</td>\n",
       "      <td>0.921889</td>\n",
       "      <td>0.648039</td>\n",
       "      <td>09:10</td>\n",
       "    </tr>\n",
       "    <tr>\n",
       "      <td>2</td>\n",
       "      <td>0.160119</td>\n",
       "      <td>0.401786</td>\n",
       "      <td>0.940591</td>\n",
       "      <td>0.686464</td>\n",
       "      <td>12:06</td>\n",
       "    </tr>\n",
       "    <tr>\n",
       "      <td>3</td>\n",
       "      <td>0.128145</td>\n",
       "      <td>0.407585</td>\n",
       "      <td>0.934484</td>\n",
       "      <td>0.745064</td>\n",
       "      <td>09:01</td>\n",
       "    </tr>\n",
       "    <tr>\n",
       "      <td>4</td>\n",
       "      <td>0.138169</td>\n",
       "      <td>0.363576</td>\n",
       "      <td>0.928935</td>\n",
       "      <td>0.725094</td>\n",
       "      <td>09:20</td>\n",
       "    </tr>\n",
       "    <tr>\n",
       "      <td>5</td>\n",
       "      <td>0.116382</td>\n",
       "      <td>0.333210</td>\n",
       "      <td>0.940889</td>\n",
       "      <td>0.729689</td>\n",
       "      <td>08:38</td>\n",
       "    </tr>\n",
       "    <tr>\n",
       "      <td>6</td>\n",
       "      <td>0.104146</td>\n",
       "      <td>0.330326</td>\n",
       "      <td>0.935469</td>\n",
       "      <td>0.725900</td>\n",
       "      <td>09:08</td>\n",
       "    </tr>\n",
       "    <tr>\n",
       "      <td>7</td>\n",
       "      <td>0.084555</td>\n",
       "      <td>0.340151</td>\n",
       "      <td>0.940229</td>\n",
       "      <td>0.755843</td>\n",
       "      <td>09:04</td>\n",
       "    </tr>\n",
       "    <tr>\n",
       "      <td>8</td>\n",
       "      <td>0.072960</td>\n",
       "      <td>0.335384</td>\n",
       "      <td>0.937431</td>\n",
       "      <td>0.752836</td>\n",
       "      <td>09:23</td>\n",
       "    </tr>\n",
       "    <tr>\n",
       "      <td>9</td>\n",
       "      <td>0.061528</td>\n",
       "      <td>0.340817</td>\n",
       "      <td>0.937877</td>\n",
       "      <td>0.757009</td>\n",
       "      <td>09:15</td>\n",
       "    </tr>\n",
       "  </tbody>\n",
       "</table>"
      ],
      "text/plain": [
       "<IPython.core.display.HTML object>"
      ]
     },
     "metadata": {},
     "output_type": "display_data"
    },
    {
     "name": "stdout",
     "output_type": "stream",
     "text": [
      "Better model found at epoch 0 with f1_score value: 0.7114898080586037.\n"
     ]
    },
    {
     "data": {
      "image/png": "[encoded data removed]",
      "text/plain": [
       "<Figure size 432x288 with 1 Axes>"
      ]
     },
     "metadata": {},
     "output_type": "display_data"
    },
    {
     "name": "stdout",
     "output_type": "stream",
     "text": [
      "Better model found at epoch 3 with f1_score value: 0.7450638978996572.\n",
      "Better model found at epoch 7 with f1_score value: 0.7558425334721441.\n",
      "Better model found at epoch 9 with f1_score value: 0.7570090762836553.\n"
     ]
    }
   ],
   "source": [
    "learn.fit_one_cycle(10, lr_max=5e-2)"
   ]
  },
  {
   "cell_type": "code",
   "execution_count": 49,
   "metadata": {},
   "outputs": [],
   "source": [
    "head = create_head(4096 + 3840, OUT_DIM, lin_ftrs=[128])"
   ]
  },
  {
   "cell_type": "code",
   "execution_count": 50,
   "metadata": {},
   "outputs": [],
   "source": [
    "model = ImgTextFusion(head, embs_for_none=False)"
   ]
  },
  {
   "cell_type": "code",
   "execution_count": 51,
   "metadata": {},
   "outputs": [],
   "source": [
    "learn = Learner(dls, model, loss_func=loss_func, metrics=[accuracy, fscore])"
   ]
  },
  {
   "cell_type": "code",
   "execution_count": 52,
   "metadata": {},
   "outputs": [
    {
     "data": {
      "text/html": [
       "<table border=\"1\" class=\"dataframe\">\n",
       "  <thead>\n",
       "    <tr style=\"text-align: left;\">\n",
       "      <th>epoch</th>\n",
       "      <th>train_loss</th>\n",
       "      <th>valid_loss</th>\n",
       "      <th>accuracy</th>\n",
       "      <th>f1_score</th>\n",
       "      <th>time</th>\n",
       "    </tr>\n",
       "  </thead>\n",
       "  <tbody>\n",
       "    <tr>\n",
       "      <td>0</td>\n",
       "      <td>None</td>\n",
       "      <td>None</td>\n",
       "      <td>None</td>\n",
       "      <td>00:00</td>\n",
       "    </tr>\n",
       "  </tbody>\n",
       "</table>"
      ],
      "text/plain": [
       "<IPython.core.display.HTML object>"
      ]
     },
     "metadata": {},
     "output_type": "display_data"
    },
    {
     "data": {
      "text/plain": [
       "ImgTextFusion (Input shape: [\"['64 x 4096', '64 x 3840', '64', '64']\"])\n",
       "================================================================\n",
       "Layer (type)         Output Shape         Param #    Trainable \n",
       "================================================================\n",
       "BatchNorm1d          64 x 7936            15,872     True      \n",
       "________________________________________________________________\n",
       "Dropout              64 x 7936            0          False     \n",
       "________________________________________________________________\n",
       "Linear               64 x 128             1,015,808  True      \n",
       "________________________________________________________________\n",
       "ReLU                 64 x 128             0          False     \n",
       "________________________________________________________________\n",
       "BatchNorm1d          64 x 128             256        True      \n",
       "________________________________________________________________\n",
       "Dropout              64 x 128             0          False     \n",
       "________________________________________________________________\n",
       "Linear               64 x 6               768        True      \n",
       "________________________________________________________________\n",
       "\n",
       "Total params: 1,032,704\n",
       "Total trainable params: 1,032,704\n",
       "Total non-trainable params: 0\n",
       "\n",
       "Optimizer used: <function Adam at 0x7f6f4586c1f0>\n",
       "Loss function: <function loss_func at 0x7f6f7f969160>\n",
       "\n",
       "Callbacks:\n",
       "  - TrainEvalCallback\n",
       "  - Recorder\n",
       "  - ProgressCallback"
      ]
     },
     "execution_count": 52,
     "metadata": {},
     "output_type": "execute_result"
    }
   ],
   "source": [
    "learn.summary()"
   ]
  },
  {
   "cell_type": "code",
   "execution_count": 53,
   "metadata": {},
   "outputs": [
    {
     "data": {
      "text/html": [],
      "text/plain": [
       "<IPython.core.display.HTML object>"
      ]
     },
     "metadata": {},
     "output_type": "display_data"
    },
    {
     "data": {
      "text/plain": [
       "SuggestedLRs(lr_min=0.06309573650360108, lr_steep=0.04786301031708717)"
      ]
     },
     "execution_count": 53,
     "metadata": {},
     "output_type": "execute_result"
    },
    {
     "data": {
      "image/png": "[encoded data removed]",
      "text/plain": [
       "<Figure size 432x288 with 1 Axes>"
      ]
     },
     "metadata": {
      "needs_background": "light"
     },
     "output_type": "display_data"
    }
   ],
   "source": [
    "learn.lr_find()"
   ]
  },
  {
   "cell_type": "code",
   "execution_count": 54,
   "metadata": {},
   "outputs": [],
   "source": [
    "learn.add_cbs([SaveModelCallback(monitor='f1_score', fname='best_fusion_zeros_128'),\n",
    "                                       ShowGraphCallback()])"
   ]
  },
  {
   "cell_type": "code",
   "execution_count": 55,
   "metadata": {},
   "outputs": [
    {
     "data": {
      "text/html": [
       "<table border=\"1\" class=\"dataframe\">\n",
       "  <thead>\n",
       "    <tr style=\"text-align: left;\">\n",
       "      <th>epoch</th>\n",
       "      <th>train_loss</th>\n",
       "      <th>valid_loss</th>\n",
       "      <th>accuracy</th>\n",
       "      <th>f1_score</th>\n",
       "      <th>time</th>\n",
       "    </tr>\n",
       "  </thead>\n",
       "  <tbody>\n",
       "    <tr>\n",
       "      <td>0</td>\n",
       "      <td>0.124862</td>\n",
       "      <td>0.339112</td>\n",
       "      <td>0.936074</td>\n",
       "      <td>0.729532</td>\n",
       "      <td>08:46</td>\n",
       "    </tr>\n",
       "    <tr>\n",
       "      <td>1</td>\n",
       "      <td>0.163470</td>\n",
       "      <td>111.995667</td>\n",
       "      <td>0.929009</td>\n",
       "      <td>0.675195</td>\n",
       "      <td>09:15</td>\n",
       "    </tr>\n",
       "    <tr>\n",
       "      <td>2</td>\n",
       "      <td>0.150095</td>\n",
       "      <td>38.121208</td>\n",
       "      <td>0.928135</td>\n",
       "      <td>0.672877</td>\n",
       "      <td>09:15</td>\n",
       "    </tr>\n",
       "    <tr>\n",
       "      <td>3</td>\n",
       "      <td>0.134530</td>\n",
       "      <td>46.916451</td>\n",
       "      <td>0.933322</td>\n",
       "      <td>0.617685</td>\n",
       "      <td>09:04</td>\n",
       "    </tr>\n",
       "    <tr>\n",
       "      <td>4</td>\n",
       "      <td>0.133082</td>\n",
       "      <td>14.932535</td>\n",
       "      <td>0.931361</td>\n",
       "      <td>0.675701</td>\n",
       "      <td>08:53</td>\n",
       "    </tr>\n",
       "    <tr>\n",
       "      <td>5</td>\n",
       "      <td>0.133936</td>\n",
       "      <td>2.765510</td>\n",
       "      <td>0.934326</td>\n",
       "      <td>0.722971</td>\n",
       "      <td>10:29</td>\n",
       "    </tr>\n",
       "    <tr>\n",
       "      <td>6</td>\n",
       "      <td>0.097465</td>\n",
       "      <td>0.981617</td>\n",
       "      <td>0.935246</td>\n",
       "      <td>0.706344</td>\n",
       "      <td>13:34</td>\n",
       "    </tr>\n",
       "    <tr>\n",
       "      <td>7</td>\n",
       "      <td>0.093423</td>\n",
       "      <td>12.383939</td>\n",
       "      <td>0.927782</td>\n",
       "      <td>0.721338</td>\n",
       "      <td>09:23</td>\n",
       "    </tr>\n",
       "    <tr>\n",
       "      <td>8</td>\n",
       "      <td>0.078366</td>\n",
       "      <td>46.710049</td>\n",
       "      <td>0.935999</td>\n",
       "      <td>0.724759</td>\n",
       "      <td>08:27</td>\n",
       "    </tr>\n",
       "    <tr>\n",
       "      <td>9</td>\n",
       "      <td>0.068153</td>\n",
       "      <td>123.399246</td>\n",
       "      <td>0.935906</td>\n",
       "      <td>0.698485</td>\n",
       "      <td>08:13</td>\n",
       "    </tr>\n",
       "  </tbody>\n",
       "</table>"
      ],
      "text/plain": [
       "<IPython.core.display.HTML object>"
      ]
     },
     "metadata": {},
     "output_type": "display_data"
    },
    {
     "name": "stdout",
     "output_type": "stream",
     "text": [
      "Better model found at epoch 0 with f1_score value: 0.7295321271489343.\n"
     ]
    },
    {
     "data": {
      "image/png": "[encoded data removed]",
      "text/plain": [
       "<Figure size 432x288 with 1 Axes>"
      ]
     },
     "metadata": {},
     "output_type": "display_data"
    }
   ],
   "source": [
    "learn.fit_one_cycle(10, lr_max=5e-2)"
   ]
  },
  {
   "cell_type": "code",
   "execution_count": 56,
   "metadata": {},
   "outputs": [],
   "source": [
    "head = create_head(4096 + 3840, OUT_DIM)"
   ]
  },
  {
   "cell_type": "code",
   "execution_count": 57,
   "metadata": {},
   "outputs": [],
   "source": [
    "model = ImgTextFusion(head, embs_for_none=False)"
   ]
  },
  {
   "cell_type": "code",
   "execution_count": 58,
   "metadata": {},
   "outputs": [],
   "source": [
    "learn = Learner(dls, model, loss_func=loss_func, metrics=[accuracy, fscore])"
   ]
  },
  {
   "cell_type": "code",
   "execution_count": 59,
   "metadata": {},
   "outputs": [
    {
     "data": {
      "text/html": [
       "<table border=\"1\" class=\"dataframe\">\n",
       "  <thead>\n",
       "    <tr style=\"text-align: left;\">\n",
       "      <th>epoch</th>\n",
       "      <th>train_loss</th>\n",
       "      <th>valid_loss</th>\n",
       "      <th>accuracy</th>\n",
       "      <th>f1_score</th>\n",
       "      <th>time</th>\n",
       "    </tr>\n",
       "  </thead>\n",
       "  <tbody>\n",
       "    <tr>\n",
       "      <td>0</td>\n",
       "      <td>None</td>\n",
       "      <td>None</td>\n",
       "      <td>None</td>\n",
       "      <td>00:00</td>\n",
       "    </tr>\n",
       "  </tbody>\n",
       "</table>"
      ],
      "text/plain": [
       "<IPython.core.display.HTML object>"
      ]
     },
     "metadata": {},
     "output_type": "display_data"
    },
    {
     "data": {
      "text/plain": [
       "ImgTextFusion (Input shape: [\"['64 x 4096', '64 x 3840', '64', '64']\"])\n",
       "================================================================\n",
       "Layer (type)         Output Shape         Param #    Trainable \n",
       "================================================================\n",
       "BatchNorm1d          64 x 7936            15,872     True      \n",
       "________________________________________________________________\n",
       "Dropout              64 x 7936            0          False     \n",
       "________________________________________________________________\n",
       "Linear               64 x 512             4,063,232  True      \n",
       "________________________________________________________________\n",
       "ReLU                 64 x 512             0          False     \n",
       "________________________________________________________________\n",
       "BatchNorm1d          64 x 512             1,024      True      \n",
       "________________________________________________________________\n",
       "Dropout              64 x 512             0          False     \n",
       "________________________________________________________________\n",
       "Linear               64 x 6               3,072      True      \n",
       "________________________________________________________________\n",
       "\n",
       "Total params: 4,083,200\n",
       "Total trainable params: 4,083,200\n",
       "Total non-trainable params: 0\n",
       "\n",
       "Optimizer used: <function Adam at 0x7f6f4586c1f0>\n",
       "Loss function: <function loss_func at 0x7f6f7f969160>\n",
       "\n",
       "Callbacks:\n",
       "  - TrainEvalCallback\n",
       "  - Recorder\n",
       "  - ProgressCallback"
      ]
     },
     "execution_count": 59,
     "metadata": {},
     "output_type": "execute_result"
    }
   ],
   "source": [
    "learn.summary()"
   ]
  },
  {
   "cell_type": "code",
   "execution_count": 60,
   "metadata": {},
   "outputs": [
    {
     "data": {
      "text/html": [],
      "text/plain": [
       "<IPython.core.display.HTML object>"
      ]
     },
     "metadata": {},
     "output_type": "display_data"
    },
    {
     "data": {
      "text/plain": [
       "SuggestedLRs(lr_min=0.03019951581954956, lr_steep=0.05754399299621582)"
      ]
     },
     "execution_count": 60,
     "metadata": {},
     "output_type": "execute_result"
    },
    {
     "data": {
      "image/png": "[encoded data removed]",
      "text/plain": [
       "<Figure size 432x288 with 1 Axes>"
      ]
     },
     "metadata": {
      "needs_background": "light"
     },
     "output_type": "display_data"
    }
   ],
   "source": [
    "learn.lr_find()"
   ]
  },
  {
   "cell_type": "code",
   "execution_count": 61,
   "metadata": {},
   "outputs": [],
   "source": [
    "learn.add_cbs([SaveModelCallback(monitor='f1_score', fname='best_fusion_zeros'),\n",
    "                                       ShowGraphCallback()])"
   ]
  },
  {
   "cell_type": "code",
   "execution_count": null,
   "metadata": {},
   "outputs": [
    {
     "data": {
      "text/html": [
       "\n",
       "    <div>\n",
       "        <style>\n",
       "            /* Turns off some styling */\n",
       "            progress {\n",
       "                /* gets rid of default border in Firefox and Opera. */\n",
       "                border: none;\n",
       "                /* Needs to be in here for Safari polyfill so background images work as expected. */\n",
       "                background-size: auto;\n",
       "            }\n",
       "            .progress-bar-interrupted, .progress-bar-interrupted::-webkit-progress-bar {\n",
       "                background: #F44336;\n",
       "            }\n",
       "        </style>\n",
       "      <progress value='9' class='' max='10' style='width:300px; height:20px; vertical-align: middle;'></progress>\n",
       "      90.00% [9/10 1:12:12<08:01]\n",
       "    </div>\n",
       "    \n",
       "<table border=\"1\" class=\"dataframe\">\n",
       "  <thead>\n",
       "    <tr style=\"text-align: left;\">\n",
       "      <th>epoch</th>\n",
       "      <th>train_loss</th>\n",
       "      <th>valid_loss</th>\n",
       "      <th>accuracy</th>\n",
       "      <th>f1_score</th>\n",
       "      <th>time</th>\n",
       "    </tr>\n",
       "  </thead>\n",
       "  <tbody>\n",
       "    <tr>\n",
       "      <td>0</td>\n",
       "      <td>0.136105</td>\n",
       "      <td>0.382641</td>\n",
       "      <td>0.935776</td>\n",
       "      <td>0.670141</td>\n",
       "      <td>08:25</td>\n",
       "    </tr>\n",
       "    <tr>\n",
       "      <td>1</td>\n",
       "      <td>0.169690</td>\n",
       "      <td>10.462007</td>\n",
       "      <td>0.922716</td>\n",
       "      <td>0.680197</td>\n",
       "      <td>08:18</td>\n",
       "    </tr>\n",
       "    <tr>\n",
       "      <td>2</td>\n",
       "      <td>0.125932</td>\n",
       "      <td>42.488251</td>\n",
       "      <td>0.932430</td>\n",
       "      <td>0.610578</td>\n",
       "      <td>08:06</td>\n",
       "    </tr>\n",
       "    <tr>\n",
       "      <td>3</td>\n",
       "      <td>0.135259</td>\n",
       "      <td>64.416458</td>\n",
       "      <td>0.927633</td>\n",
       "      <td>0.636847</td>\n",
       "      <td>08:09</td>\n",
       "    </tr>\n",
       "    <tr>\n",
       "      <td>4</td>\n",
       "      <td>0.137057</td>\n",
       "      <td>51.589722</td>\n",
       "      <td>0.924882</td>\n",
       "      <td>0.604745</td>\n",
       "      <td>07:59</td>\n",
       "    </tr>\n",
       "    <tr>\n",
       "      <td>5</td>\n",
       "      <td>0.103535</td>\n",
       "      <td>30.852674</td>\n",
       "      <td>0.931361</td>\n",
       "      <td>0.625138</td>\n",
       "      <td>07:43</td>\n",
       "    </tr>\n",
       "    <tr>\n",
       "      <td>6</td>\n",
       "      <td>0.089901</td>\n",
       "      <td>29.167452</td>\n",
       "      <td>0.931519</td>\n",
       "      <td>0.669741</td>\n",
       "      <td>07:50</td>\n",
       "    </tr>\n",
       "    <tr>\n",
       "      <td>7</td>\n",
       "      <td>0.084975</td>\n",
       "      <td>84.418800</td>\n",
       "      <td>0.930812</td>\n",
       "      <td>0.662301</td>\n",
       "      <td>07:49</td>\n",
       "    </tr>\n",
       "    <tr>\n",
       "      <td>8</td>\n",
       "      <td>0.064950</td>\n",
       "      <td>202.954239</td>\n",
       "      <td>0.931844</td>\n",
       "      <td>0.649173</td>\n",
       "      <td>07:42</td>\n",
       "    </tr>\n",
       "  </tbody>\n",
       "</table><p>\n",
       "\n",
       "    <div>\n",
       "        <style>\n",
       "            /* Turns off some styling */\n",
       "            progress {\n",
       "                /* gets rid of default border in Firefox and Opera. */\n",
       "                border: none;\n",
       "                /* Needs to be in here for Safari polyfill so background images work as expected. */\n",
       "                background-size: auto;\n",
       "            }\n",
       "            .progress-bar-interrupted, .progress-bar-interrupted::-webkit-progress-bar {\n",
       "                background: #F44336;\n",
       "            }\n",
       "        </style>\n",
       "      <progress value='251' class='' max='1681' style='width:300px; height:20px; vertical-align: middle;'></progress>\n",
       "      14.93% [251/1681 00:27<02:34 0.0702]\n",
       "    </div>\n",
       "    "
      ],
      "text/plain": [
       "<IPython.core.display.HTML object>"
      ]
     },
     "metadata": {},
     "output_type": "display_data"
    },
    {
     "name": "stdout",
     "output_type": "stream",
     "text": [
      "Better model found at epoch 1 with f1_score value: 0.6801970953120894.\n"
     ]
    }
   ],
   "source": [
    "learn.fit_one_cycle(10, lr_max=3e-2)"
   ]
  },
  {
   "cell_type": "code",
   "execution_count": null,
   "metadata": {},
   "outputs": [],
   "source": [
    "head = create_head(4096 + 3840, OUT_DIM, lin_ftrs=[128])"
   ]
  },
  {
   "cell_type": "code",
   "execution_count": null,
   "metadata": {},
   "outputs": [],
   "source": [
    "model = ImgTextFusion(head)"
   ]
  },
  {
   "cell_type": "code",
   "execution_count": null,
   "metadata": {},
   "outputs": [],
   "source": [
    "learn = Learner(dls, model, loss_func=loss_func, metrics=[accuracy, fscore])"
   ]
  },
  {
   "cell_type": "code",
   "execution_count": null,
   "metadata": {},
   "outputs": [],
   "source": [
    "learn.add_cbs([SaveModelCallback(monitor='f1_score', fname='best_fusion_128_moreEpochs'),\n",
    "                                       ShowGraphCallback()])"
   ]
  },
  {
   "cell_type": "code",
   "execution_count": 67,
   "metadata": {},
   "outputs": [
    {
     "name": "stdout",
     "output_type": "stream",
     "text": [
      "Better model found at epoch 1 with f1_score value: 0.73676453092147.\n",
      "Better model found at epoch 9 with f1_score value: 0.7467886756819134.\n",
      "Better model found at epoch 13 with f1_score value: 0.7492037170891946.\n",
      "Better model found at epoch 14 with f1_score value: 0.7495923055976403.\n",
      "Better model found at epoch 16 with f1_score value: 0.7565404539962944.\n",
      "Better model found at epoch 18 with f1_score value: 0.7630455710960495.\n"
     ]
    }
   ],
   "source": [
    "learn.fit_one_cycle(20, lr_max=5e-2)"
   ]
  },
  {
   "cell_type": "code",
   "execution_count": null,
   "metadata": {},
   "outputs": [],
   "source": [
    "from utils import evaluate"
   ]
  },
  {
   "cell_type": "code",
   "execution_count": null,
   "metadata": {},
   "outputs": [],
   "source": [
    "learn.load(\"best_fusion_128_moreEpochs\")"
   ]
  },
  {
   "cell_type": "code",
   "execution_count": 70,
   "metadata": {},
   "outputs": [
    {
     "data": {
      "text/html": [],
      "text/plain": [
       "<IPython.core.display.HTML object>"
      ]
     },
     "metadata": {},
     "output_type": "display_data"
    },
    {
     "name": "stdout",
     "output_type": "stream",
     "text": [
      "                                  precision    recall  f1-score   support\n",
      "\n",
      "          acordao_de_2_instancia     0.8926    0.7531    0.8169       320\n",
      "agravo_em_recurso_extraordinario     0.5754    0.5193    0.5459      2798\n",
      "     despacho_de_admissibilidade     0.7925    0.6667    0.7241       189\n",
      "                          outros     0.9617    0.9730    0.9673     95602\n",
      "                   peticao_do_RE     0.7473    0.7013    0.7236      6987\n",
      "                        sentenca     0.9004    0.7204    0.8004      1681\n",
      "\n",
      "                        accuracy                         0.9384    107577\n",
      "                       macro avg     0.8116    0.7223    0.7630    107577\n",
      "                    weighted avg     0.9363    0.9384    0.9370    107577\n",
      "\n"
     ]
    }
   ],
   "source": [
    "from sklearn.metrics import classification_report\n",
    "\n",
    "preds, targets = learn.get_preds()\n",
    "preds = np.argmax(preds, axis=1)\n",
    "print(classification_report(targets, preds, target_names=dls.vocab, digits=4))"
   ]
  },
  {
   "cell_type": "code",
   "execution_count": null,
   "metadata": {},
   "outputs": [],
   "source": [
    "test_csv[\"has_text\"] = True"
   ]
  },
  {
   "cell_type": "code",
   "execution_count": null,
   "metadata": {},
   "outputs": [],
   "source": [
    "test_csv[\"has_image\"]= ~(test_csv[\"file_name\"].str.slice(stop=-4) + \"_\" + test_csv[\"pages\"].astype(str)).isin(just_text)"
   ]
  },
  {
   "cell_type": "code",
   "execution_count": null,
   "metadata": {},
   "outputs": [],
   "source": [
    "just_imgs_dics_test = []\n",
    "for p in tqdm(just_imgs):\n",
    "    parts = p.parts\n",
    "    if parts[2] != \"test\":\n",
    "        continue\n",
    "    dic = {}\n",
    "    dic[\"process_id\"] = re.search(r\"[^_]*_\\d+\",parts[4])[0]\n",
    "    dic[\"file_name\"] = parts[4][:-2] + \"pdf\"\n",
    "    dic[\"document_type\"] = parts[3]\n",
    "    dic[\"pages\"] = re.search(r\"(?<=_)\\d+(?=\\.pt)\", parts[4])[0]\n",
    "    dic[\"has_text\"] = False\n",
    "    dic[\"has_image\"] = True\n",
    "    dic[\"activation_path\"] = p.with_suffix(\"\").as_posix()\n",
    "    just_imgs_dics_test.append(dic)"
   ]
  },
  {
   "cell_type": "code",
   "execution_count": null,
   "metadata": {},
   "outputs": [],
   "source": [
    "just_imgs_df_test = pd.DataFrame(just_imgs_dics_test, columns = data.columns); just_imgs_df_test.head()"
   ]
  },
  {
   "cell_type": "code",
   "execution_count": null,
   "metadata": {},
   "outputs": [],
   "source": [
    "test_data = pd.concat([test_csv, just_imgs_df_test])"
   ]
  },
  {
   "cell_type": "code",
   "execution_count": null,
   "metadata": {},
   "outputs": [],
   "source": [
    "test_data.tail()"
   ]
  },
  {
   "cell_type": "code",
   "execution_count": null,
   "metadata": {},
   "outputs": [],
   "source": []
  },
  {
   "cell_type": "code",
   "execution_count": 77,
   "metadata": {},
   "outputs": [],
   "source": [
    "test_dl = dls.test_dl(test_data, with_labels=True)"
   ]
  },
  {
   "cell_type": "code",
   "execution_count": 78,
   "metadata": {},
   "outputs": [
    {
     "data": {
      "text/plain": [
       "98577"
      ]
     },
     "execution_count": 78,
     "metadata": {},
     "output_type": "execute_result"
    }
   ],
   "source": [
    "img_test_data = test_data[test_data[\"has_image\"]==True].drop_duplicates(\"activation_path\"); len(img_test_data)"
   ]
  },
  {
   "cell_type": "code",
   "execution_count": 79,
   "metadata": {},
   "outputs": [],
   "source": [
    "img_test_dl = dls.test_dl(img_test_data, with_labels=True)"
   ]
  },
  {
   "cell_type": "code",
   "execution_count": 80,
   "metadata": {},
   "outputs": [
    {
     "data": {
      "text/plain": [
       "95526"
      ]
     },
     "execution_count": 80,
     "metadata": {},
     "output_type": "execute_result"
    }
   ],
   "source": [
    "text_test_data = test_data[test_data[\"has_text\"]==True]; len(text_test_data)"
   ]
  },
  {
   "cell_type": "code",
   "execution_count": 81,
   "metadata": {},
   "outputs": [],
   "source": [
    "text_test_dl = dls.test_dl(text_test_data, with_labels=True)"
   ]
  },
  {
   "cell_type": "code",
   "execution_count": 82,
   "metadata": {},
   "outputs": [
    {
     "data": {
      "text/html": [],
      "text/plain": [
       "<IPython.core.display.HTML object>"
      ]
     },
     "metadata": {},
     "output_type": "display_data"
    },
    {
     "name": "stdout",
     "output_type": "stream",
     "text": [
      "                                  precision    recall  f1-score   support\n",
      "\n",
      "          acordao_de_2_instancia     0.8993    0.8711    0.8850       287\n",
      "agravo_em_recurso_extraordinario     0.6224    0.5190    0.5660      2655\n",
      "     despacho_de_admissibilidade     0.7450    0.5578    0.6379       199\n",
      "                          outros     0.9655    0.9752    0.9703     92533\n",
      "                   peticao_do_RE     0.7628    0.7386    0.7505      6386\n",
      "                        sentenca     0.8866    0.7492    0.8121      1503\n",
      "\n",
      "                        accuracy                         0.9446    103563\n",
      "                       macro avg     0.8136    0.7352    0.7703    103563\n",
      "                    weighted avg     0.9424    0.9446    0.9432    103563\n",
      "\n"
     ]
    }
   ],
   "source": [
    "preds, targets = learn.get_preds(dl=test_dl)\n",
    "preds = np.argmax(preds, axis=1)\n",
    "print(classification_report(targets, preds, target_names=dls.vocab, digits=4))"
   ]
  },
  {
   "cell_type": "code",
   "execution_count": 83,
   "metadata": {},
   "outputs": [
    {
     "data": {
      "text/html": [],
      "text/plain": [
       "<IPython.core.display.HTML object>"
      ]
     },
     "metadata": {},
     "output_type": "display_data"
    },
    {
     "name": "stdout",
     "output_type": "stream",
     "text": [
      "                                  precision    recall  f1-score   support\n",
      "\n",
      "          acordao_de_2_instancia     0.9058    0.8772    0.8913       285\n",
      "agravo_em_recurso_extraordinario     0.6322    0.5278    0.5753      2537\n",
      "     despacho_de_admissibilidade     0.7551    0.5606    0.6435       198\n",
      "                          outros     0.9666    0.9753    0.9709     87902\n",
      "                   peticao_do_RE     0.7706    0.7593    0.7649      6177\n",
      "                        sentenca     0.8957    0.7612    0.8230      1478\n",
      "\n",
      "                        accuracy                         0.9459     98577\n",
      "                       macro avg     0.8210    0.7436    0.7781     98577\n",
      "                    weighted avg     0.9441    0.9459    0.9447     98577\n",
      "\n"
     ]
    }
   ],
   "source": [
    "preds, targets = learn.get_preds(dl=img_test_dl)\n",
    "preds = np.argmax(preds, axis=1)\n",
    "print(classification_report(targets, preds, target_names=dls.vocab, digits=4))"
   ]
  },
  {
   "cell_type": "code",
   "execution_count": 84,
   "metadata": {},
   "outputs": [
    {
     "data": {
      "text/html": [],
      "text/plain": [
       "<IPython.core.display.HTML object>"
      ]
     },
     "metadata": {},
     "output_type": "display_data"
    },
    {
     "name": "stdout",
     "output_type": "stream",
     "text": [
      "                                  precision    recall  f1-score   support\n",
      "\n",
      "          acordao_de_2_instancia     0.8993    0.9158    0.9074       273\n",
      "agravo_em_recurso_extraordinario     0.6383    0.5301    0.5792      1841\n",
      "     despacho_de_admissibilidade     0.7450    0.5606    0.6398       198\n",
      "                          outros     0.9683    0.9766    0.9724     85408\n",
      "                   peticao_do_RE     0.7653    0.7444    0.7547      6331\n",
      "                        sentenca     0.8866    0.7634    0.8204      1475\n",
      "\n",
      "                        accuracy                         0.9483     95526\n",
      "                       macro avg     0.8171    0.7485    0.7790     95526\n",
      "                    weighted avg     0.9465    0.9483    0.9472     95526\n",
      "\n"
     ]
    }
   ],
   "source": [
    "preds, targets = learn.get_preds(dl=text_test_dl)\n",
    "preds = np.argmax(preds, axis=1)\n",
    "print(classification_report(targets, preds, target_names=dls.vocab, digits=4))"
   ]
  },
  {
   "cell_type": "code",
   "execution_count": 85,
   "metadata": {},
   "outputs": [],
   "source": [
    "torch.save(test_dl, \"./data/test_dl_fusion.pth\")"
   ]
  },
  {
   "cell_type": "code",
   "execution_count": 86,
   "metadata": {},
   "outputs": [],
   "source": [
    "torch.save(img_test_dl, \"./data/test_dl_fusion_img.pth\")"
   ]
  },
  {
   "cell_type": "code",
   "execution_count": null,
   "metadata": {},
   "outputs": [],
   "source": [
    "torch.save(text_test_dl, \"./data/test_dl_fusion_text.pth\")"
   ]
  },
  {
   "cell_type": "code",
   "execution_count": null,
   "metadata": {},
   "outputs": [],
   "source": []
  }
 ],
 "metadata": {
  "kernelspec": {
   "display_name": "fastai2",
   "language": "python",
   "name": "fastai2"
  },
  "language_info": {
   "codemirror_mode": {
    "name": "ipython",
    "version": 3
   },
   "file_extension": ".py",
   "mimetype": "text/x-python",
   "name": "python",
   "nbconvert_exporter": "python",
   "pygments_lexer": "ipython3",
   "version": "3.8.5"
  }
 },
 "nbformat": 4,
 "nbformat_minor": 4
}
