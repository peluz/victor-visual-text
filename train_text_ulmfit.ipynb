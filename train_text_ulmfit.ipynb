{
 "cells": [
  {
   "cell_type": "code",
   "execution_count": 1,
   "metadata": {},
   "outputs": [],
   "source": [
    "%load_ext autoreload\n",
    "%autoreload 2\n",
    "\n",
    "from fastai.text.all import *\n",
    "import pandas as pd\n",
    "import torch\n",
    "from tqdm.notebook import tqdm\n",
    "from utils import evaluate, evaluate_ensemble"
   ]
  },
  {
   "cell_type": "code",
   "execution_count": 2,
   "metadata": {},
   "outputs": [],
   "source": [
    "seed = 42\n",
    "\n",
    "# python RNG\n",
    "import random\n",
    "random.seed(seed)\n",
    "\n",
    "# pytorch RNGs\n",
    "import torch\n",
    "torch.manual_seed(seed)\n",
    "torch.backends.cudnn.deterministic = True\n",
    "if torch.cuda.is_available(): torch.cuda.manual_seed_all(seed)\n",
    "\n",
    "# numpy RNG\n",
    "import numpy as np\n",
    "np.random.seed(seed)\n",
    "\n",
    "# tensorflow RNG\n",
    "# tf.random.set_seed(seed)"
   ]
  },
  {
   "cell_type": "code",
   "execution_count": 3,
   "metadata": {},
   "outputs": [],
   "source": [
    "data_path = Path(\"/mnt/nas/backups/08-07-2020/desktopg01/lisa/Data/CSV\")"
   ]
  },
  {
   "cell_type": "code",
   "execution_count": 4,
   "metadata": {},
   "outputs": [],
   "source": [
    "model_path=Path(\"./models\")"
   ]
  },
  {
   "cell_type": "code",
   "execution_count": 5,
   "metadata": {},
   "outputs": [],
   "source": [
    "train_csv = pd.read_csv(data_path/\"train_small.csv\", usecols=['document_type', 'body'])\n",
    "val_csv = pd.read_csv(data_path/\"validation_small.csv\", usecols=['document_type', 'body'])\n",
    "test_csv = pd.read_csv(data_path/\"test_small.csv\", usecols=['document_type', 'body'])"
   ]
  },
  {
   "cell_type": "code",
   "execution_count": 6,
   "metadata": {},
   "outputs": [],
   "source": [
    "train_csv[\"is_valid\"] = False\n",
    "val_csv[\"is_valid\"] = True\n",
    "data = pd.concat([train_csv, val_csv])"
   ]
  },
  {
   "cell_type": "code",
   "execution_count": null,
   "metadata": {},
   "outputs": [],
   "source": [
    "# dls_lm = TextDataLoaders.from_df(data, seed=seed, is_lm=True, text_col=\"body\",\n",
    "#                                  valid_col=\"is_valid\", tok_tfm=Tokenizer.from_df('body', tok=tok))"
   ]
  },
  {
   "cell_type": "code",
   "execution_count": null,
   "metadata": {},
   "outputs": [],
   "source": [
    "dls_lm = DataBlock(\n",
    "    blocks=(TextBlock.from_df('body', tok=SentencePieceTokenizer(), is_lm=True)),\n",
    "    get_x=ColReader('text'), splitter=ColSplitter()).dataloaders(data)"
   ]
  },
  {
   "cell_type": "code",
   "execution_count": null,
   "metadata": {},
   "outputs": [],
   "source": [
    "dls_lm.vocab[:15], len(dls_lm.vocab)"
   ]
  },
  {
   "cell_type": "code",
   "execution_count": null,
   "metadata": {},
   "outputs": [],
   "source": [
    "assert len(train_csv) == len(dls_lm.train_ds) and len(val_csv) ==len(dls_lm.valid_ds)"
   ]
  },
  {
   "cell_type": "code",
   "execution_count": null,
   "metadata": {},
   "outputs": [],
   "source": [
    "torch.save(dls_lm, \"./data/dls_lm.pth\")"
   ]
  },
  {
   "cell_type": "code",
   "execution_count": 18,
   "metadata": {},
   "outputs": [],
   "source": [
    "dls_lm = torch.load(\"./data/dls_lm.pth\")"
   ]
  },
  {
   "cell_type": "code",
   "execution_count": 22,
   "metadata": {},
   "outputs": [
    {
     "data": {
      "text/html": [
       "<table border=\"1\" class=\"dataframe\">\n",
       "  <thead>\n",
       "    <tr style=\"text-align: right;\">\n",
       "      <th></th>\n",
       "      <th>text</th>\n",
       "      <th>text_</th>\n",
       "    </tr>\n",
       "  </thead>\n",
       "  <tbody>\n",
       "    <tr>\n",
       "      <th>0</th>\n",
       "      <td>▁xxbos ▁{\" recebem os ▁duso ▁comerci o ▁produtos ▁para ▁informatic a ▁ltda ▁produtos ▁contante s ▁nota ▁fiscal ▁indicada ▁lado ▁e ▁número ▁data ▁recebimento ▁identificação ▁assinatura ▁recebedor ▁série ▁identificação ▁emitente ▁duso ▁comerci o ▁produtos ▁para ▁informatic a ▁da nfe ▁avenida ▁primeiro ▁maio ▁documento ▁auxiliar ▁nota ▁fiscal ▁eletrônica ▁vila ▁virgini a ▁ribeira o ▁preto ▁chave ▁acesso ▁nf ▁cep ▁saída ▁fone ▁número ▁série ▁consulta ▁autenticidade ▁portal ▁nacional ▁nf ▁folha ▁xxup ▁site ▁no ▁site ▁sefaz ▁autorizada</td>\n",
       "      <td>▁{\" recebem os ▁duso ▁comerci o ▁produtos ▁para ▁informatic a ▁ltda ▁produtos ▁contante s ▁nota ▁fiscal ▁indicada ▁lado ▁e ▁número ▁data ▁recebimento ▁identificação ▁assinatura ▁recebedor ▁série ▁identificação ▁emitente ▁duso ▁comerci o ▁produtos ▁para ▁informatic a ▁da nfe ▁avenida ▁primeiro ▁maio ▁documento ▁auxiliar ▁nota ▁fiscal ▁eletrônica ▁vila ▁virgini a ▁ribeira o ▁preto ▁chave ▁acesso ▁nf ▁cep ▁saída ▁fone ▁número ▁série ▁consulta ▁autenticidade ▁portal ▁nacional ▁nf ▁folha ▁xxup ▁site ▁no ▁site ▁sefaz ▁autorizada ▁natureza</td>\n",
       "    </tr>\n",
       "    <tr>\n",
       "      <th>1</th>\n",
       "      <td>▁constituição ▁está ▁expressamente ▁fundado ▁princípio ▁solidariedade ▁xxup ▁artigo _40 ▁cf ▁por ▁força ▁qual ▁financiamento ▁previdência ▁não ▁tem ▁como ▁contrapartida ▁necessária ▁previsão ▁prestações ▁específicas ▁proporcionais ▁favor ▁contribuinte ▁manifestação ▁mais ▁evidente ▁desse ▁princípio ▁a ▁sujeição ▁contribuição ▁dos ▁próprios ▁inativos ▁pensionistas ▁rua ▁santos ▁d umont ▁pelotas ▁cep ▁fone ▁mail ▁xxup ▁email \"} ▁xxbos ▁{\" social ▁n ▁s ▁previd ▁fábi o ▁munhoz ▁fim ▁djf ▁região ▁ disponibilização ▁quinta ▁feira ▁de ▁fevereiro ▁arquivo ▁publicação ▁juizados ▁especiais ▁federais</td>\n",
       "      <td>▁está ▁expressamente ▁fundado ▁princípio ▁solidariedade ▁xxup ▁artigo _40 ▁cf ▁por ▁força ▁qual ▁financiamento ▁previdência ▁não ▁tem ▁como ▁contrapartida ▁necessária ▁previsão ▁prestações ▁específicas ▁proporcionais ▁favor ▁contribuinte ▁manifestação ▁mais ▁evidente ▁desse ▁princípio ▁a ▁sujeição ▁contribuição ▁dos ▁próprios ▁inativos ▁pensionistas ▁rua ▁santos ▁d umont ▁pelotas ▁cep ▁fone ▁mail ▁xxup ▁email \"} ▁xxbos ▁{\" social ▁n ▁s ▁previd ▁fábi o ▁munhoz ▁fim ▁djf ▁região ▁ disponibilização ▁quinta ▁feira ▁de ▁fevereiro ▁arquivo ▁publicação ▁juizados ▁especiais ▁federais ▁publica</td>\n",
       "    </tr>\n",
       "    <tr>\n",
       "      <th>2</th>\n",
       "      <td>▁com ▁ato ▁administrativo ▁não ▁o ▁que ▁ocorre ▁nos ▁casos ▁revisão ▁vez ▁que ▁cerne ▁pretensão ▁destes ▁processos ▁a ▁aplicação ▁um ▁melhor ▁benefício ▁não ▁observado ▁pelo ▁servidor ▁retroação ▁maior ▁teto ▁etc ▁do ▁cumprimento ▁determinado ▁dispositivo ▁legal ▁irsm ▁buraco ▁verde ▁ortn ▁btn ▁readequa ção ▁teto ▁etc ▁ademais ▁nos ▁casos ▁ revisões ▁cálculo ▁pela ▁aplicação ▁índices ▁certo ▁que ▁eles ▁índices ▁prestam ▁para ▁manter ▁principio ▁constitucional ▁solidificado ▁xxup ▁artigo _194 ▁parágrafo ▁único ▁da ▁constituição ▁federal ▁onde ▁temos</td>\n",
       "      <td>▁ato ▁administrativo ▁não ▁o ▁que ▁ocorre ▁nos ▁casos ▁revisão ▁vez ▁que ▁cerne ▁pretensão ▁destes ▁processos ▁a ▁aplicação ▁um ▁melhor ▁benefício ▁não ▁observado ▁pelo ▁servidor ▁retroação ▁maior ▁teto ▁etc ▁do ▁cumprimento ▁determinado ▁dispositivo ▁legal ▁irsm ▁buraco ▁verde ▁ortn ▁btn ▁readequa ção ▁teto ▁etc ▁ademais ▁nos ▁casos ▁ revisões ▁cálculo ▁pela ▁aplicação ▁índices ▁certo ▁que ▁eles ▁índices ▁prestam ▁para ▁manter ▁principio ▁constitucional ▁solidificado ▁xxup ▁artigo _194 ▁parágrafo ▁único ▁da ▁constituição ▁federal ▁onde ▁temos ▁da</td>\n",
       "    </tr>\n",
       "    <tr>\n",
       "      <th>3</th>\n",
       "      <td>▁emenda ▁constitucional ▁o ▁dezembro ▁que ▁instituiu ▁contribuição ▁previdenciária ▁sobre ▁proventos ▁aposentadoria ▁as ▁pensões ▁dos ▁servidores ▁união ▁estados ▁distrito ▁federal ▁dos ▁municípios ▁inclusive ▁suas ▁autarquias ▁fundações ▁assim ▁servidores ▁devem ▁contribuir ▁não ▁somente ▁visando ▁uma ▁contraprestação ▁individual ▁futura ▁mas ▁também ▁com ▁olhos ▁voltado s ▁para ▁fins ▁sistema ▁previdenciário ▁direito ▁legalidade ▁desconto ▁contribuição ▁previdenciária ▁incidente ▁sobre ▁gacen ▁estado ▁para ▁dar ▁garantia ▁trabalhador ▁contra ▁infortúnio s ▁outros ▁eventos ▁vida ▁humana ▁instituiu ▁sistema ▁seguridade ▁social ▁por ▁seguridade</td>\n",
       "      <td>▁constitucional ▁o ▁dezembro ▁que ▁instituiu ▁contribuição ▁previdenciária ▁sobre ▁proventos ▁aposentadoria ▁as ▁pensões ▁dos ▁servidores ▁união ▁estados ▁distrito ▁federal ▁dos ▁municípios ▁inclusive ▁suas ▁autarquias ▁fundações ▁assim ▁servidores ▁devem ▁contribuir ▁não ▁somente ▁visando ▁uma ▁contraprestação ▁individual ▁futura ▁mas ▁também ▁com ▁olhos ▁voltado s ▁para ▁fins ▁sistema ▁previdenciário ▁direito ▁legalidade ▁desconto ▁contribuição ▁previdenciária ▁incidente ▁sobre ▁gacen ▁estado ▁para ▁dar ▁garantia ▁trabalhador ▁contra ▁infortúnio s ▁outros ▁eventos ▁vida ▁humana ▁instituiu ▁sistema ▁seguridade ▁social ▁por ▁seguridade ▁social</td>\n",
       "    </tr>\n",
       "    <tr>\n",
       "      <th>4</th>\n",
       "      <td>▁cnpj ▁data ▁emissão ▁gar buglio ▁gar buglio ▁ltda ▁endereço ▁bairro ▁distrito ▁cep ▁data ▁entrada ▁saída ▁rua ▁sete ▁setembro ▁centro ▁municipio ▁fone ▁fax ▁inscrição ▁estadual ▁hora ▁entrada ▁saída ▁santa ▁rosa ▁vi ter bo ▁fatura ▁cálculo ▁imposto ▁base ▁calculo ▁icms ▁valor ▁icms ▁base ▁calculo ▁icms ▁subst ▁valor ▁icms ▁subst ▁valor ▁total ▁dos ▁produtos ▁valor ▁frete ▁valor ▁seguro ▁desconto ▁outras ▁despesas ▁acessórias ▁valor ▁ipi ▁valor ▁total ▁nota ▁transportador ▁volumes ▁transportado s ▁razão ▁social ▁frete ▁por</td>\n",
       "      <td>▁data ▁emissão ▁gar buglio ▁gar buglio ▁ltda ▁endereço ▁bairro ▁distrito ▁cep ▁data ▁entrada ▁saída ▁rua ▁sete ▁setembro ▁centro ▁municipio ▁fone ▁fax ▁inscrição ▁estadual ▁hora ▁entrada ▁saída ▁santa ▁rosa ▁vi ter bo ▁fatura ▁cálculo ▁imposto ▁base ▁calculo ▁icms ▁valor ▁icms ▁base ▁calculo ▁icms ▁subst ▁valor ▁icms ▁subst ▁valor ▁total ▁dos ▁produtos ▁valor ▁frete ▁valor ▁seguro ▁desconto ▁outras ▁despesas ▁acessórias ▁valor ▁ipi ▁valor ▁total ▁nota ▁transportador ▁volumes ▁transportado s ▁razão ▁social ▁frete ▁por ▁conta</td>\n",
       "    </tr>\n",
       "    <tr>\n",
       "      <th>5</th>\n",
       "      <td>▁propugnad a ▁acórdão ▁recorrido ▁cria ▁um ▁tratamento ▁diferenciado ▁sem ▁justificativa ▁plausível ▁aceitáve l ▁razoável ▁nessa ▁ordem ▁ideias ▁observe ▁que ▁arma ▁fogo ▁utilizada ▁por ▁vigilante s ▁não ▁um ▁agente ▁nocivo ▁verdade ▁uso ▁porte ▁arma ▁fogo ▁confere ▁periculosidade ▁função ▁desempenhada ▁pelo ▁segurado ▁sendo ▁apenas ▁uma \"} ▁xxbos ▁{\" comprovante ▁resumido ▁postagem ▁eletrônica ▁página ▁protocolo ▁especifica ção ▁msg ▁spee ▁data ▁total ▁qtd ▁telegrama s ▁qtd ▁carta s ▁identificador ▁remetente ▁destinatário ▁assunto ▁preço ▁operador ▁juizado ▁especial</td>\n",
       "      <td>a ▁acórdão ▁recorrido ▁cria ▁um ▁tratamento ▁diferenciado ▁sem ▁justificativa ▁plausível ▁aceitáve l ▁razoável ▁nessa ▁ordem ▁ideias ▁observe ▁que ▁arma ▁fogo ▁utilizada ▁por ▁vigilante s ▁não ▁um ▁agente ▁nocivo ▁verdade ▁uso ▁porte ▁arma ▁fogo ▁confere ▁periculosidade ▁função ▁desempenhada ▁pelo ▁segurado ▁sendo ▁apenas ▁uma \"} ▁xxbos ▁{\" comprovante ▁resumido ▁postagem ▁eletrônica ▁página ▁protocolo ▁especifica ção ▁msg ▁spee ▁data ▁total ▁qtd ▁telegrama s ▁qtd ▁carta s ▁identificador ▁remetente ▁destinatário ▁assunto ▁preço ▁operador ▁juizado ▁especial ▁processo</td>\n",
       "    </tr>\n",
       "    <tr>\n",
       "      <th>6</th>\n",
       "      <td>▁d \"} ▁xxbos ▁{\" supremo ▁tribunal ▁federal ▁antecipação ▁voto ▁inteiro ▁teor ▁acórdão ▁página ▁de ▁primeira ▁turma ▁mandado ▁segurança ▁distrito ▁federal ▁antecipação ▁voto ▁senhor ▁ministro ▁luiz ▁fux ▁relator ▁senhor ▁presidente ▁pela ▁própria ▁sustentação ▁impetrante ▁se ▁verifica ▁totalmente ▁inviabilidade ▁dessa ▁análise ▁sede ▁mandado ▁segurança ▁quer ▁dizer ▁houve ▁uma ▁ vulgar ização ▁remédio ▁heroi co ▁não ▁obstante ▁legislador ▁processual ▁tenha ▁encartado ▁ordenamento ▁tutela ▁antecipada ▁que ▁exatamente ▁para ▁hipóteses ▁que ▁escapa m ▁mandado ▁segurança ▁mas ▁continua</td>\n",
       "      <td>\"} ▁xxbos ▁{\" supremo ▁tribunal ▁federal ▁antecipação ▁voto ▁inteiro ▁teor ▁acórdão ▁página ▁de ▁primeira ▁turma ▁mandado ▁segurança ▁distrito ▁federal ▁antecipação ▁voto ▁senhor ▁ministro ▁luiz ▁fux ▁relator ▁senhor ▁presidente ▁pela ▁própria ▁sustentação ▁impetrante ▁se ▁verifica ▁totalmente ▁inviabilidade ▁dessa ▁análise ▁sede ▁mandado ▁segurança ▁quer ▁dizer ▁houve ▁uma ▁ vulgar ização ▁remédio ▁heroi co ▁não ▁obstante ▁legislador ▁processual ▁tenha ▁encartado ▁ordenamento ▁tutela ▁antecipada ▁que ▁exatamente ▁para ▁hipóteses ▁que ▁escapa m ▁mandado ▁segurança ▁mas ▁continua ▁utilizando</td>\n",
       "    </tr>\n",
       "    <tr>\n",
       "      <th>7</th>\n",
       "      <td>▁veio ▁estabelecer ▁que ▁tempo ▁trabalho ▁especial ▁exercido ▁até ▁de ▁maio ▁acordo ▁com ▁anexo ▁do ▁regulamento ▁dos ▁benefícios ▁previdência ▁social ▁aprovado ▁pelo ▁xxup ▁decreto _2172 ▁poderá ▁ser ▁somado ▁convertido ▁desde ▁que ▁segurado ▁tenha ▁completado ▁até ▁aquela ▁data ▁pelo ▁menos ▁vinte ▁por ▁cento ▁tempo ▁necessário ▁para ▁obtenção ▁respectiva ▁aposentadoria ▁especial ▁vale ▁dizer ▁ou ▁anos ▁respectivamente ▁para ▁tempo ▁ou ▁anos ▁converter ▁porém ▁mencionado ▁regulamento ▁foi ▁revogado ▁pela ▁superveniência ▁xxup ▁decreto _3048 ▁com ▁redação ▁dada ▁pelo</td>\n",
       "      <td>▁estabelecer ▁que ▁tempo ▁trabalho ▁especial ▁exercido ▁até ▁de ▁maio ▁acordo ▁com ▁anexo ▁do ▁regulamento ▁dos ▁benefícios ▁previdência ▁social ▁aprovado ▁pelo ▁xxup ▁decreto _2172 ▁poderá ▁ser ▁somado ▁convertido ▁desde ▁que ▁segurado ▁tenha ▁completado ▁até ▁aquela ▁data ▁pelo ▁menos ▁vinte ▁por ▁cento ▁tempo ▁necessário ▁para ▁obtenção ▁respectiva ▁aposentadoria ▁especial ▁vale ▁dizer ▁ou ▁anos ▁respectivamente ▁para ▁tempo ▁ou ▁anos ▁converter ▁porém ▁mencionado ▁regulamento ▁foi ▁revogado ▁pela ▁superveniência ▁xxup ▁decreto _3048 ▁com ▁redação ▁dada ▁pelo ▁xxup</td>\n",
       "    </tr>\n",
       "    <tr>\n",
       "      <th>8</th>\n",
       "      <td>▁exercidas ▁sob ▁condições ▁especiais ▁que ▁prejudiquem ▁saúde ▁a ▁integridade \"} ▁xxbos ▁{\" decisão ▁face ▁informação ▁supra ▁sendo ▁desnecessária ▁produção ▁prova ▁oral ▁para ▁deslinde ▁feito ▁intime ▁o ▁inss ▁para ▁que ▁apresente ▁contestação ▁prazo ▁dias ▁mesmo ▁prazo ▁que ▁conced o ▁partes ▁manifestação ▁sobre ▁s ▁laudo ▁pericial ▁outrossim ▁faculto ▁inss ▁apresentação ▁proposta ▁acordo ▁fim ▁soluciona r ▁demanda ▁apresentada ▁proposta ▁vista ▁parte ▁autora ▁para ▁manifestar ▁por ▁meio ▁petição ▁nos ▁autos ▁prazo ▁cinco ▁dias ▁silêncio ▁venham ▁conclusos</td>\n",
       "      <td>▁sob ▁condições ▁especiais ▁que ▁prejudiquem ▁saúde ▁a ▁integridade \"} ▁xxbos ▁{\" decisão ▁face ▁informação ▁supra ▁sendo ▁desnecessária ▁produção ▁prova ▁oral ▁para ▁deslinde ▁feito ▁intime ▁o ▁inss ▁para ▁que ▁apresente ▁contestação ▁prazo ▁dias ▁mesmo ▁prazo ▁que ▁conced o ▁partes ▁manifestação ▁sobre ▁s ▁laudo ▁pericial ▁outrossim ▁faculto ▁inss ▁apresentação ▁proposta ▁acordo ▁fim ▁soluciona r ▁demanda ▁apresentada ▁proposta ▁vista ▁parte ▁autora ▁para ▁manifestar ▁por ▁meio ▁petição ▁nos ▁autos ▁prazo ▁cinco ▁dias ▁silêncio ▁venham ▁conclusos ▁caso</td>\n",
       "    </tr>\n",
       "  </tbody>\n",
       "</table>"
      ],
      "text/plain": [
       "<IPython.core.display.HTML object>"
      ]
     },
     "metadata": {},
     "output_type": "display_data"
    }
   ],
   "source": [
    "dls_lm.show_batch()"
   ]
  },
  {
   "cell_type": "code",
   "execution_count": 7,
   "metadata": {},
   "outputs": [],
   "source": [
    "perplexity = Perplexity()\n",
    "f1 = F1Score(average='macro')"
   ]
  },
  {
   "cell_type": "code",
   "execution_count": null,
   "metadata": {},
   "outputs": [],
   "source": [
    "# config = awd_qrnn_lm_config.copy()\n",
    "# config['n_hid'] = 1550 #default 1152\n",
    "# config['n_layers'] = 4 #default 3"
   ]
  },
  {
   "cell_type": "code",
   "execution_count": null,
   "metadata": {},
   "outputs": [],
   "source": [
    "# lm_fns3 = ['pt_wt_sp15_multifit', 'pt_wt_vocab_sp15_multifit']\n",
    "# lm_fns3_bwd = ['pt_wt_sp15_multifit_bwd', 'pt_wt_vocab_sp15_multifit_bwd']"
   ]
  },
  {
   "cell_type": "code",
   "execution_count": 32,
   "metadata": {},
   "outputs": [],
   "source": [
    "learn_lm = language_model_learner(dls_lm, AWD_LSTM, path=Path(\".\"), drop_mult=1., \n",
    "                                  metrics=[error_rate, accuracy, perplexity])"
   ]
  },
  {
   "cell_type": "code",
   "execution_count": null,
   "metadata": {},
   "outputs": [],
   "source": [
    "learn_lm.save_encoder(\"no_fine_tune_enc\")"
   ]
  },
  {
   "cell_type": "code",
   "execution_count": 23,
   "metadata": {},
   "outputs": [
    {
     "data": {
      "text/html": [],
      "text/plain": [
       "<IPython.core.display.HTML object>"
      ]
     },
     "metadata": {},
     "output_type": "display_data"
    },
    {
     "data": {
      "text/html": [],
      "text/plain": [
       "<IPython.core.display.HTML object>"
      ]
     },
     "metadata": {},
     "output_type": "display_data"
    }
   ],
   "source": [
    "TEXT = \"O Ministro\"\n",
    "N_WORDS = 40\n",
    "N_SENTENCES = 2\n",
    "preds = [learn_lm.predict(TEXT, N_WORDS, temperature=0.75) \n",
    "         for _ in range(N_SENTENCES)]"
   ]
  },
  {
   "cell_type": "code",
   "execution_count": 24,
   "metadata": {},
   "outputs": [
    {
     "name": "stdout",
     "output_type": "stream",
     "text": [
      "▁xxbos ▁o xxunk ▁ministro and Hal ▁reta to ▁consagrado ▁opta and ▁cabi Dison to Le Pen ▁faculta to ▁apuração Liani ▁protocolar in Los ▁indicadores in New ▁boa\n",
      "▁xxbos ▁o xxunk ▁ministro and Ben Roth Day One of the ▁ime Line to be the New ▁alínea Tu ▁propaganda Day Camp in Los Santos on San\n"
     ]
    }
   ],
   "source": [
    "print(\"\\n\".join(preds))"
   ]
  },
  {
   "cell_type": "code",
   "execution_count": 33,
   "metadata": {},
   "outputs": [
    {
     "data": {
      "text/html": [
       "<table border=\"1\" class=\"dataframe\">\n",
       "  <thead>\n",
       "    <tr style=\"text-align: left;\">\n",
       "      <th>epoch</th>\n",
       "      <th>train_loss</th>\n",
       "      <th>valid_loss</th>\n",
       "      <th>error_rate</th>\n",
       "      <th>accuracy</th>\n",
       "      <th>perplexity</th>\n",
       "      <th>time</th>\n",
       "    </tr>\n",
       "  </thead>\n",
       "  <tbody>\n",
       "    <tr>\n",
       "      <td>0</td>\n",
       "      <td>None</td>\n",
       "      <td>None</td>\n",
       "      <td>None</td>\n",
       "      <td>None</td>\n",
       "      <td>00:00</td>\n",
       "    </tr>\n",
       "  </tbody>\n",
       "</table>"
      ],
      "text/plain": [
       "<IPython.core.display.HTML object>"
      ]
     },
     "metadata": {},
     "output_type": "display_data"
    },
    {
     "data": {
      "text/plain": [
       "SequentialRNN (Input shape: ['64 x 72'])\n",
       "================================================================\n",
       "Layer (type)         Output Shape         Param #    Trainable \n",
       "================================================================\n",
       "LSTM                 ['64 x 72 x 1152',   1,852,416  False     \n",
       "________________________________________________________________\n",
       "LSTM                 ['64 x 72 x 1152',   5,317,632  False     \n",
       "________________________________________________________________\n",
       "LSTM                 ['64 x 72 x 400', \"  1,846,400  False     \n",
       "________________________________________________________________\n",
       "RNNDropout           64 x 72 x 400        0          False     \n",
       "________________________________________________________________\n",
       "RNNDropout           64 x 72 x 1152       0          False     \n",
       "________________________________________________________________\n",
       "RNNDropout           64 x 72 x 1152       0          False     \n",
       "________________________________________________________________\n",
       "Linear               64 x 72 x 30104      12,071,704 True      \n",
       "________________________________________________________________\n",
       "RNNDropout           64 x 72 x 400        0          False     \n",
       "________________________________________________________________\n",
       "\n",
       "Total params: 21,088,152\n",
       "Total trainable params: 12,071,704\n",
       "Total non-trainable params: 9,016,448\n",
       "\n",
       "Optimizer used: <function Adam at 0x7f98e47f1160>\n",
       "Loss function: FlattenedLoss of CrossEntropyLoss()\n",
       "\n",
       "Model frozen up to parameter group #3\n",
       "\n",
       "Callbacks:\n",
       "  - TrainEvalCallback\n",
       "  - Recorder\n",
       "  - ProgressCallback\n",
       "  - ModelResetter\n",
       "  - RNNRegularizer"
      ]
     },
     "execution_count": 33,
     "metadata": {},
     "output_type": "execute_result"
    }
   ],
   "source": [
    "learn_lm.freeze()\n",
    "learn_lm.summary()"
   ]
  },
  {
   "cell_type": "code",
   "execution_count": 31,
   "metadata": {},
   "outputs": [
    {
     "data": {
      "text/html": [],
      "text/plain": [
       "<IPython.core.display.HTML object>"
      ]
     },
     "metadata": {},
     "output_type": "display_data"
    },
    {
     "data": {
      "text/plain": [
       "SuggestedLRs(lr_min=0.15848932266235352, lr_steep=0.0831763744354248)"
      ]
     },
     "execution_count": 31,
     "metadata": {},
     "output_type": "execute_result"
    },
    {
     "data": {
      "image/png": "[encoded data removed]",
      "text/plain": [
       "<Figure size 432x288 with 1 Axes>"
      ]
     },
     "metadata": {
      "needs_background": "light"
     },
     "output_type": "display_data"
    }
   ],
   "source": [
    "learn_lm.lr_find()"
   ]
  },
  {
   "cell_type": "code",
   "execution_count": 34,
   "metadata": {},
   "outputs": [
    {
     "data": {
      "text/html": [
       "<table border=\"1\" class=\"dataframe\">\n",
       "  <thead>\n",
       "    <tr style=\"text-align: left;\">\n",
       "      <th>epoch</th>\n",
       "      <th>train_loss</th>\n",
       "      <th>valid_loss</th>\n",
       "      <th>error_rate</th>\n",
       "      <th>accuracy</th>\n",
       "      <th>perplexity</th>\n",
       "      <th>time</th>\n",
       "    </tr>\n",
       "  </thead>\n",
       "  <tbody>\n",
       "    <tr>\n",
       "      <td>0</td>\n",
       "      <td>4.168715</td>\n",
       "      <td>3.853229</td>\n",
       "      <td>0.596982</td>\n",
       "      <td>0.403018</td>\n",
       "      <td>47.145050</td>\n",
       "      <td>30:22</td>\n",
       "    </tr>\n",
       "  </tbody>\n",
       "</table>"
      ],
      "text/plain": [
       "<IPython.core.display.HTML object>"
      ]
     },
     "metadata": {},
     "output_type": "display_data"
    }
   ],
   "source": [
    "learn_lm.fit_one_cycle(1, 1e-1)"
   ]
  },
  {
   "cell_type": "code",
   "execution_count": 35,
   "metadata": {},
   "outputs": [
    {
     "data": {
      "image/png": "[encoded data removed]",
      "text/plain": [
       "<Figure size 432x288 with 1 Axes>"
      ]
     },
     "metadata": {
      "needs_background": "light"
     },
     "output_type": "display_data"
    }
   ],
   "source": [
    "learn_lm.recorder.plot_loss()"
   ]
  },
  {
   "cell_type": "code",
   "execution_count": 36,
   "metadata": {},
   "outputs": [],
   "source": [
    "learn_lm.unfreeze()"
   ]
  },
  {
   "cell_type": "code",
   "execution_count": 37,
   "metadata": {},
   "outputs": [
    {
     "data": {
      "text/html": [
       "<table border=\"1\" class=\"dataframe\">\n",
       "  <thead>\n",
       "    <tr style=\"text-align: left;\">\n",
       "      <th>epoch</th>\n",
       "      <th>train_loss</th>\n",
       "      <th>valid_loss</th>\n",
       "      <th>error_rate</th>\n",
       "      <th>accuracy</th>\n",
       "      <th>perplexity</th>\n",
       "      <th>time</th>\n",
       "    </tr>\n",
       "  </thead>\n",
       "  <tbody>\n",
       "    <tr>\n",
       "      <td>0</td>\n",
       "      <td>None</td>\n",
       "      <td>None</td>\n",
       "      <td>None</td>\n",
       "      <td>None</td>\n",
       "      <td>00:00</td>\n",
       "    </tr>\n",
       "  </tbody>\n",
       "</table>"
      ],
      "text/plain": [
       "<IPython.core.display.HTML object>"
      ]
     },
     "metadata": {},
     "output_type": "display_data"
    },
    {
     "data": {
      "text/plain": [
       "SequentialRNN (Input shape: ['64 x 72'])\n",
       "================================================================\n",
       "Layer (type)         Output Shape         Param #    Trainable \n",
       "================================================================\n",
       "LSTM                 ['64 x 72 x 1152',   1,852,416  True      \n",
       "________________________________________________________________\n",
       "LSTM                 ['64 x 72 x 1152',   5,317,632  True      \n",
       "________________________________________________________________\n",
       "LSTM                 ['64 x 72 x 400', \"  1,846,400  True      \n",
       "________________________________________________________________\n",
       "RNNDropout           64 x 72 x 400        0          False     \n",
       "________________________________________________________________\n",
       "RNNDropout           64 x 72 x 1152       0          False     \n",
       "________________________________________________________________\n",
       "RNNDropout           64 x 72 x 1152       0          False     \n",
       "________________________________________________________________\n",
       "Linear               64 x 72 x 30104      12,071,704 True      \n",
       "________________________________________________________________\n",
       "RNNDropout           64 x 72 x 400        0          False     \n",
       "________________________________________________________________\n",
       "\n",
       "Total params: 21,088,152\n",
       "Total trainable params: 21,088,152\n",
       "Total non-trainable params: 0\n",
       "\n",
       "Optimizer used: <function Adam at 0x7f98e47f1160>\n",
       "Loss function: FlattenedLoss of CrossEntropyLoss()\n",
       "\n",
       "Model unfrozen\n",
       "\n",
       "Callbacks:\n",
       "  - TrainEvalCallback\n",
       "  - Recorder\n",
       "  - ProgressCallback\n",
       "  - ModelResetter\n",
       "  - RNNRegularizer"
      ]
     },
     "execution_count": 37,
     "metadata": {},
     "output_type": "execute_result"
    }
   ],
   "source": [
    "learn_lm.summary()"
   ]
  },
  {
   "cell_type": "code",
   "execution_count": 38,
   "metadata": {},
   "outputs": [
    {
     "data": {
      "text/html": [],
      "text/plain": [
       "<IPython.core.display.HTML object>"
      ]
     },
     "metadata": {},
     "output_type": "display_data"
    },
    {
     "data": {
      "text/plain": [
       "SuggestedLRs(lr_min=5.248074739938602e-06, lr_steep=6.309573450380412e-07)"
      ]
     },
     "execution_count": 38,
     "metadata": {},
     "output_type": "execute_result"
    },
    {
     "data": {
      "image/png": "[encoded data removed]",
      "text/plain": [
       "<Figure size 432x288 with 1 Axes>"
      ]
     },
     "metadata": {
      "needs_background": "light"
     },
     "output_type": "display_data"
    }
   ],
   "source": [
    "learn_lm.lr_find()"
   ]
  },
  {
   "cell_type": "code",
   "execution_count": 39,
   "metadata": {},
   "outputs": [],
   "source": [
    "learn_lm.add_cbs([SaveModelCallback(monitor='accuracy', fname='best_fwd_lm'),\n",
    "                                       ShowGraphCallback()])"
   ]
  },
  {
   "cell_type": "code",
   "execution_count": 40,
   "metadata": {},
   "outputs": [
    {
     "data": {
      "text/html": [
       "<table border=\"1\" class=\"dataframe\">\n",
       "  <thead>\n",
       "    <tr style=\"text-align: left;\">\n",
       "      <th>epoch</th>\n",
       "      <th>train_loss</th>\n",
       "      <th>valid_loss</th>\n",
       "      <th>error_rate</th>\n",
       "      <th>accuracy</th>\n",
       "      <th>perplexity</th>\n",
       "      <th>time</th>\n",
       "    </tr>\n",
       "  </thead>\n",
       "  <tbody>\n",
       "    <tr>\n",
       "      <td>0</td>\n",
       "      <td>3.270921</td>\n",
       "      <td>3.087737</td>\n",
       "      <td>0.489450</td>\n",
       "      <td>0.510549</td>\n",
       "      <td>21.927406</td>\n",
       "      <td>33:25</td>\n",
       "    </tr>\n",
       "    <tr>\n",
       "      <td>1</td>\n",
       "      <td>2.711434</td>\n",
       "      <td>2.526734</td>\n",
       "      <td>0.395525</td>\n",
       "      <td>0.604475</td>\n",
       "      <td>12.512568</td>\n",
       "      <td>33:23</td>\n",
       "    </tr>\n",
       "    <tr>\n",
       "      <td>2</td>\n",
       "      <td>2.437684</td>\n",
       "      <td>2.334839</td>\n",
       "      <td>0.366017</td>\n",
       "      <td>0.633982</td>\n",
       "      <td>10.327798</td>\n",
       "      <td>33:22</td>\n",
       "    </tr>\n",
       "    <tr>\n",
       "      <td>3</td>\n",
       "      <td>2.455663</td>\n",
       "      <td>2.231624</td>\n",
       "      <td>0.350101</td>\n",
       "      <td>0.649899</td>\n",
       "      <td>9.314984</td>\n",
       "      <td>33:06</td>\n",
       "    </tr>\n",
       "    <tr>\n",
       "      <td>4</td>\n",
       "      <td>2.305157</td>\n",
       "      <td>2.181956</td>\n",
       "      <td>0.342432</td>\n",
       "      <td>0.657567</td>\n",
       "      <td>8.863625</td>\n",
       "      <td>33:28</td>\n",
       "    </tr>\n",
       "    <tr>\n",
       "      <td>5</td>\n",
       "      <td>2.296479</td>\n",
       "      <td>2.170962</td>\n",
       "      <td>0.340522</td>\n",
       "      <td>0.659479</td>\n",
       "      <td>8.766714</td>\n",
       "      <td>33:33</td>\n",
       "    </tr>\n",
       "  </tbody>\n",
       "</table>"
      ],
      "text/plain": [
       "<IPython.core.display.HTML object>"
      ]
     },
     "metadata": {},
     "output_type": "display_data"
    },
    {
     "name": "stdout",
     "output_type": "stream",
     "text": [
      "Better model found at epoch 0 with accuracy value: 0.5105494856834412.\n"
     ]
    },
    {
     "data": {
      "image/png": "[encoded data removed]",
      "text/plain": [
       "<Figure size 432x288 with 1 Axes>"
      ]
     },
     "metadata": {},
     "output_type": "display_data"
    },
    {
     "name": "stdout",
     "output_type": "stream",
     "text": [
      "Better model found at epoch 1 with accuracy value: 0.6044745445251465.\n",
      "Better model found at epoch 2 with accuracy value: 0.6339820027351379.\n",
      "Better model found at epoch 3 with accuracy value: 0.6498993039131165.\n",
      "Better model found at epoch 4 with accuracy value: 0.6575672030448914.\n",
      "Better model found at epoch 5 with accuracy value: 0.6594788432121277.\n"
     ]
    }
   ],
   "source": [
    "learn_lm.fit_one_cycle(6, 1e-3)"
   ]
  },
  {
   "cell_type": "code",
   "execution_count": 41,
   "metadata": {},
   "outputs": [
    {
     "data": {
      "text/plain": [
       "<fastai.text.learner.LMLearner at 0x7f9706a943a0>"
      ]
     },
     "execution_count": 41,
     "metadata": {},
     "output_type": "execute_result"
    }
   ],
   "source": [
    "learn_lm.load('best_fwd_lm')"
   ]
  },
  {
   "cell_type": "code",
   "execution_count": 42,
   "metadata": {},
   "outputs": [],
   "source": [
    "learn_lm.save_encoder('best_fwd_lm_enc')"
   ]
  },
  {
   "cell_type": "code",
   "execution_count": 43,
   "metadata": {},
   "outputs": [
    {
     "data": {
      "text/html": [],
      "text/plain": [
       "<IPython.core.display.HTML object>"
      ]
     },
     "metadata": {},
     "output_type": "display_data"
    },
    {
     "data": {
      "text/html": [],
      "text/plain": [
       "<IPython.core.display.HTML object>"
      ]
     },
     "metadata": {},
     "output_type": "display_data"
    }
   ],
   "source": [
    "TEXT = \"O Ministro\"\n",
    "N_WORDS = 40\n",
    "N_SENTENCES = 2\n",
    "preds = [learn_lm.predict(TEXT, N_WORDS, temperature=0.75) \n",
    "         for _ in range(N_SENTENCES)]"
   ]
  },
  {
   "cell_type": "code",
   "execution_count": 44,
   "metadata": {},
   "outputs": [
    {
     "name": "stdout",
     "output_type": "stream",
     "text": [
      "▁xxbos ▁o xxunk ▁ministro ▁joaquim ▁barbosa ▁pois ▁fica ▁claro ▁que \"} ▁xxbos ▁{\" ministério ▁fazenda ▁procuradoria ▁geral ▁fazenda ▁nacional ▁procuradoria ▁secciona l ▁fazenda ▁nacional ▁campina ▁grande ▁rua ▁cap ▁joão ▁alves ▁lira ▁bairro ▁prata ▁cep ▁campina ▁grande ▁tel ▁fax ▁xxup ▁artigo _40 ▁aos ▁servidores ▁titulares\n",
      "▁xxbos ▁o xxunk ▁ministro ▁moreira ▁alves ▁turma ▁quanto ▁alegação ▁inconstituciona lidade ▁xxup ▁artigo _219 o ▁cpc ▁nos ▁recursos ▁extraordinários ▁interpostos ▁pelo ▁inss ▁contra ▁acórdão ▁primeira ▁turma ▁recursal ▁dos ▁juizados ▁especiais ▁federais ▁seção ▁judiciária ▁rio ▁grande ▁sul ▁que ▁reconheceu ▁como ▁especial ▁tempo ▁serviço ▁prestado ▁condições\n"
     ]
    }
   ],
   "source": [
    "print(\"\\n\".join(preds))"
   ]
  },
  {
   "cell_type": "code",
   "execution_count": null,
   "metadata": {},
   "outputs": [],
   "source": [
    "dls_lm_bwd = DataBlock(\n",
    "    blocks=(TextBlock.from_df('body', tok=dls_lm.tok, is_lm=True, backwards=True)),\n",
    "    get_x=ColReader('text'), splitter=ColSplitter()).dataloaders(data)"
   ]
  },
  {
   "cell_type": "code",
   "execution_count": 7,
   "metadata": {},
   "outputs": [],
   "source": [
    "assert dls_lm.vocab == dls_lm_bwd.vocab"
   ]
  },
  {
   "cell_type": "code",
   "execution_count": 45,
   "metadata": {},
   "outputs": [],
   "source": [
    "del(dls_lm)"
   ]
  },
  {
   "cell_type": "code",
   "execution_count": null,
   "metadata": {},
   "outputs": [],
   "source": [
    "torch.save(dls_lm_bwd, \"./data/dls_lm_bwd.pth\")"
   ]
  },
  {
   "cell_type": "code",
   "execution_count": 6,
   "metadata": {},
   "outputs": [],
   "source": [
    "dls_lm_bwd = torch.load(\"./data/dls_lm_bwd.pth\")"
   ]
  },
  {
   "cell_type": "code",
   "execution_count": 10,
   "metadata": {},
   "outputs": [
    {
     "data": {
      "text/html": [
       "<table border=\"1\" class=\"dataframe\">\n",
       "  <thead>\n",
       "    <tr style=\"text-align: right;\">\n",
       "      <th></th>\n",
       "      <th>text</th>\n",
       "      <th>text_</th>\n",
       "    </tr>\n",
       "  </thead>\n",
       "  <tbody>\n",
       "    <tr>\n",
       "      <th>0</th>\n",
       "      <td>\"} ▁código ▁seguinte ▁com ▁site ▁xxup ▁validada ▁ser ▁pode ▁certidão ▁esta ▁gerada ▁certidão ▁eletrônico ▁documento ▁inicial ▁processamento ▁coordenadoria ▁maio ▁de brasília ▁{\" ▁xxbos \"} ▁impõe ▁que ▁medida ▁pedido ▁procedência ▁discutida ▁verba ▁indenizatória ▁natureza ▁diante ▁logo ▁renda ▁imposto ▁cálculo ▁base ▁correlato ▁valor ▁dedução ▁direito ▁possuem ▁contribuintes ▁que ▁modo ▁patrimonial ▁acréscimo ▁configura ▁não ▁plano ▁déficit ▁razão ▁instituída ▁extraordinária ▁contribuição ▁título ▁social ▁seguridade ▁banrisul ▁fundação ▁pago ▁valor ▁perdida ▁foi ▁que ▁parcela ▁recomposição ▁mera ▁mas ▁matemática</td>\n",
       "      <td>▁código ▁seguinte ▁com ▁site ▁xxup ▁validada ▁ser ▁pode ▁certidão ▁esta ▁gerada ▁certidão ▁eletrônico ▁documento ▁inicial ▁processamento ▁coordenadoria ▁maio ▁de brasília ▁{\" ▁xxbos \"} ▁impõe ▁que ▁medida ▁pedido ▁procedência ▁discutida ▁verba ▁indenizatória ▁natureza ▁diante ▁logo ▁renda ▁imposto ▁cálculo ▁base ▁correlato ▁valor ▁dedução ▁direito ▁possuem ▁contribuintes ▁que ▁modo ▁patrimonial ▁acréscimo ▁configura ▁não ▁plano ▁déficit ▁razão ▁instituída ▁extraordinária ▁contribuição ▁título ▁social ▁seguridade ▁banrisul ▁fundação ▁pago ▁valor ▁perdida ▁foi ▁que ▁parcela ▁recomposição ▁mera ▁mas ▁matemática ▁reserva</td>\n",
       "    </tr>\n",
       "    <tr>\n",
       "      <th>1</th>\n",
       "      <td>▁nos ▁trabalhadores ▁dos ▁habitual ▁ganho ▁constitui ▁mesma ▁que ▁natalina ▁gratificação ▁sobre ▁previdenciária ▁contribuição ▁incide ▁que ▁considerando ▁nosso ▁grifo mani ▁sor e ▁alexandr ▁convocado ▁juiz ▁relator ▁data ▁fonte ▁citação ▁teor ▁inteiro ▁região ▁federal ▁regional ▁tribunal ▁seção ▁julgador ▁orgão ▁decisão ▁data ▁uf ▁processo ▁cível ▁apelação ▁classe ▁procedente ▁parcialmente ▁autora ▁parte ▁apelação ▁pertence ▁sepúlveda ▁min ▁stf ▁condicional ▁judicial ▁título ▁sentença ▁torna _1060 ▁lei ▁xxup _11 ▁artigo ▁xxup ▁nos ▁disposto ▁aplicação ▁que ▁decidiu ▁stf ▁e ▁pois</td>\n",
       "      <td>▁trabalhadores ▁dos ▁habitual ▁ganho ▁constitui ▁mesma ▁que ▁natalina ▁gratificação ▁sobre ▁previdenciária ▁contribuição ▁incide ▁que ▁considerando ▁nosso ▁grifo mani ▁sor e ▁alexandr ▁convocado ▁juiz ▁relator ▁data ▁fonte ▁citação ▁teor ▁inteiro ▁região ▁federal ▁regional ▁tribunal ▁seção ▁julgador ▁orgão ▁decisão ▁data ▁uf ▁processo ▁cível ▁apelação ▁classe ▁procedente ▁parcialmente ▁autora ▁parte ▁apelação ▁pertence ▁sepúlveda ▁min ▁stf ▁condicional ▁judicial ▁título ▁sentença ▁torna _1060 ▁lei ▁xxup _11 ▁artigo ▁xxup ▁nos ▁disposto ▁aplicação ▁que ▁decidiu ▁stf ▁e ▁pois ▁sucumbência</td>\n",
       "    </tr>\n",
       "    <tr>\n",
       "      <th>2</th>\n",
       "      <td>▁disposições ▁serviço ▁tempo ▁assunto ▁não ▁mpf ▁não ▁dpu ▁processo ▁sentença ▁parte ▁reforma ▁súmula raschi ▁b cio ▁clé ▁federal ▁juiz ▁relator ▁silva ▁batista ▁adriano o ▁recd ▁previd ▁s ▁n ▁social ▁seguro ▁nacional ▁instituto ▁recte ▁aprendiz ▁aluno ▁serv ▁tempo ▁cômputo ▁averb ▁prestações ▁relativas ▁diversas ▁disposições ▁serviço ▁tempo ▁assunto ▁não ▁mpf ▁não ▁dpu ▁processo ▁sentença ▁mantém ▁súmula ecato ▁c ▁reina ilton ▁u ▁federal ▁juiz ▁relator ▁previd ▁s ▁n ▁social ▁seguro ▁nacional ▁instituto o ▁recd ▁barroso</td>\n",
       "      <td>▁serviço ▁tempo ▁assunto ▁não ▁mpf ▁não ▁dpu ▁processo ▁sentença ▁parte ▁reforma ▁súmula raschi ▁b cio ▁clé ▁federal ▁juiz ▁relator ▁silva ▁batista ▁adriano o ▁recd ▁previd ▁s ▁n ▁social ▁seguro ▁nacional ▁instituto ▁recte ▁aprendiz ▁aluno ▁serv ▁tempo ▁cômputo ▁averb ▁prestações ▁relativas ▁diversas ▁disposições ▁serviço ▁tempo ▁assunto ▁não ▁mpf ▁não ▁dpu ▁processo ▁sentença ▁mantém ▁súmula ecato ▁c ▁reina ilton ▁u ▁federal ▁juiz ▁relator ▁previd ▁s ▁n ▁social ▁seguro ▁nacional ▁instituto o ▁recd ▁barroso a</td>\n",
       "    </tr>\n",
       "    <tr>\n",
       "      <th>3</th>\n",
       "      <td>▁decisão ▁que ▁admitir ▁implicará ▁jurisdicional ▁exame ▁trazido ▁jurídico ▁argumento ▁sólido ▁como ▁acolher ▁instância ▁última ▁de ▁recorrida ▁decisão ▁conseqüência ▁processo ▁neste ▁exame ▁trazido ▁dico ▁jurí ▁argumento ▁acolhido ▁examinado ▁tenha ▁que ▁judiciária ▁seção ▁seja ▁que ▁qualquer ▁federais ▁especiais ▁juizados ▁dos ▁recursal ▁turma ▁mento ▁pronuncia ▁não ▁conhecer ▁autora ▁parte ▁dado ▁onde ▁até ▁associados ▁advogados ▁silva ▁ivo o anild ▁{\" ▁xxbos \"} ▁nacional ▁fazenda ▁procurador ▁setembro ▁de ▁fortaleza ▁deferimento ▁pede _40 ▁artigo ▁xxup ▁do o _195</td>\n",
       "      <td>▁que ▁admitir ▁implicará ▁jurisdicional ▁exame ▁trazido ▁jurídico ▁argumento ▁sólido ▁como ▁acolher ▁instância ▁última ▁de ▁recorrida ▁decisão ▁conseqüência ▁processo ▁neste ▁exame ▁trazido ▁dico ▁jurí ▁argumento ▁acolhido ▁examinado ▁tenha ▁que ▁judiciária ▁seção ▁seja ▁que ▁qualquer ▁federais ▁especiais ▁juizados ▁dos ▁recursal ▁turma ▁mento ▁pronuncia ▁não ▁conhecer ▁autora ▁parte ▁dado ▁onde ▁até ▁associados ▁advogados ▁silva ▁ivo o anild ▁{\" ▁xxbos \"} ▁nacional ▁fazenda ▁procurador ▁setembro ▁de ▁fortaleza ▁deferimento ▁pede _40 ▁artigo ▁xxup ▁do o _195 ▁artigo</td>\n",
       "    </tr>\n",
       "    <tr>\n",
       "      <th>4</th>\n",
       "      <td>▁representante ▁seu ▁pessoa ▁citada ▁ser ▁poderá ▁onde ▁centro ▁bairro ▁andar ▁gonçalves ▁bento ▁rua ▁hamburgo ▁novo ▁procuradoria ▁executiva ▁gerência ▁com ▁federal ▁autarquia ▁inss ▁social ▁seguro ▁nacional ▁instituto ▁réu ▁identificação ▁autora ▁parte ▁identificação ▁rma ▁atual ▁mensal ▁renda ▁rmi ▁inicial ▁mensal ▁renda ▁dib ▁início ▁data ▁benefício ▁número ▁espécie dos u ▁can ▁bloco ser ▁kay o ▁reynald ▁rua ▁cep ▁bairro ▁completo ▁endereço ▁residência ▁hamburgo ▁novo ▁casado ▁brasileira ▁aposentado ▁município ▁domicílio ▁civil ▁estado ▁nacionalidade ▁profissão ▁rosa ▁luiz</td>\n",
       "      <td>▁seu ▁pessoa ▁citada ▁ser ▁poderá ▁onde ▁centro ▁bairro ▁andar ▁gonçalves ▁bento ▁rua ▁hamburgo ▁novo ▁procuradoria ▁executiva ▁gerência ▁com ▁federal ▁autarquia ▁inss ▁social ▁seguro ▁nacional ▁instituto ▁réu ▁identificação ▁autora ▁parte ▁identificação ▁rma ▁atual ▁mensal ▁renda ▁rmi ▁inicial ▁mensal ▁renda ▁dib ▁início ▁data ▁benefício ▁número ▁espécie dos u ▁can ▁bloco ser ▁kay o ▁reynald ▁rua ▁cep ▁bairro ▁completo ▁endereço ▁residência ▁hamburgo ▁novo ▁casado ▁brasileira ▁aposentado ▁município ▁domicílio ▁civil ▁estado ▁nacionalidade ▁profissão ▁rosa ▁luiz ▁jorge</td>\n",
       "    </tr>\n",
       "    <tr>\n",
       "      <th>5</th>\n",
       "      <td>▁federal ▁juiza n agulia ▁kar ▁bezerra ▁simone ▁intimem ▁registre publique ▁{\" ▁xxbos \"} ▁principiológica ▁norma ▁pela ▁definidos ▁contornos ▁seus ▁tendo ▁permanece ▁regra ▁sentido ▁nesse ▁princípio ▁um ▁aplicação ▁mas ▁regra ▁qualquer ▁quebra ▁trata ▁não ▁efeito ▁com ▁previdenciário ▁sistema ▁realidade ▁para ▁olhos ndo ▁fecha ▁individualista ▁puramente ▁soa ▁venia ▁data ▁visão ▁tal ▁verdade ▁contrapartida ▁da idade ▁proporcional ▁regra ▁quebra ▁autoriza ▁não ▁princípio ▁mencionado ▁que ▁ótica ▁sob ▁questão ▁analisar ▁recursal ▁turma ▁a ▁equivoca ▁sentido ▁nesse ▁públicos</td>\n",
       "      <td>▁juiza n agulia ▁kar ▁bezerra ▁simone ▁intimem ▁registre publique ▁{\" ▁xxbos \"} ▁principiológica ▁norma ▁pela ▁definidos ▁contornos ▁seus ▁tendo ▁permanece ▁regra ▁sentido ▁nesse ▁princípio ▁um ▁aplicação ▁mas ▁regra ▁qualquer ▁quebra ▁trata ▁não ▁efeito ▁com ▁previdenciário ▁sistema ▁realidade ▁para ▁olhos ndo ▁fecha ▁individualista ▁puramente ▁soa ▁venia ▁data ▁visão ▁tal ▁verdade ▁contrapartida ▁da idade ▁proporcional ▁regra ▁quebra ▁autoriza ▁não ▁princípio ▁mencionado ▁que ▁ótica ▁sob ▁questão ▁analisar ▁recursal ▁turma ▁a ▁equivoca ▁sentido ▁nesse ▁públicos ▁servidores</td>\n",
       "    </tr>\n",
       "    <tr>\n",
       "      <th>6</th>\n",
       "      <td>▁{\" ▁xxbos \"} ▁juizados ▁estes ▁perante ▁ações ▁ajuizamento ▁para ▁teto ▁exorbitante ▁valor ▁relação ▁com ▁autora ▁parte ▁s ▁expressa ▁renúncia ▁sentido ▁manifestação ▁absoluta ▁federais ▁especiais ▁juizados ▁dos ▁competência ▁ser ▁conta ▁tendo ▁nacional ▁fazenda ▁união ▁requer ▁público ▁interesse ndisponibilidade ▁i ▁princípio ▁face ▁partes ▁entre ▁acordo ▁impossibilidade ndo ▁informa ▁exposto ▁vista ▁pedido ▁vii ▁gecen ▁gacen ▁gratificação ▁sobre ▁pss ▁incidência ▁esposado ▁aqui ▁entendimento ▁corroboram ▁judiciário ▁mas ▁legislação ▁a ▁não ▁portanto ▁advocatícios ▁honorários ▁sem ▁custas ▁sem ▁exordial</td>\n",
       "      <td>▁xxbos \"} ▁juizados ▁estes ▁perante ▁ações ▁ajuizamento ▁para ▁teto ▁exorbitante ▁valor ▁relação ▁com ▁autora ▁parte ▁s ▁expressa ▁renúncia ▁sentido ▁manifestação ▁absoluta ▁federais ▁especiais ▁juizados ▁dos ▁competência ▁ser ▁conta ▁tendo ▁nacional ▁fazenda ▁união ▁requer ▁público ▁interesse ndisponibilidade ▁i ▁princípio ▁face ▁partes ▁entre ▁acordo ▁impossibilidade ndo ▁informa ▁exposto ▁vista ▁pedido ▁vii ▁gecen ▁gacen ▁gratificação ▁sobre ▁pss ▁incidência ▁esposado ▁aqui ▁entendimento ▁corroboram ▁judiciário ▁mas ▁legislação ▁a ▁não ▁portanto ▁advocatícios ▁honorários ▁sem ▁custas ▁sem ▁exordial ▁formulados</td>\n",
       "    </tr>\n",
       "    <tr>\n",
       "      <th>7</th>\n",
       "      <td>▁assistência ▁prestar ▁dever ▁pelo ▁federados ▁entes ▁dos ▁solidária responsabilidade ▁ ▁tema ▁administração responsabilidade ▁ ▁público ▁direito ▁matérias ▁outras ▁administrativo ▁direito ▁medicamentos ▁fornecimento ▁saúde ▁serviços ▁público ▁direito ▁matérias ▁outras ▁administrativo ▁direito ▁execução ▁embargos ▁impugnação ▁suspensivo ▁efeito ▁sentença ▁execução ▁cumprimento ▁liquidação ▁trabalho ▁do ▁civil ▁processual ▁direito ▁parcelamento ▁exigibilidade ▁suspensão ▁tributário ▁crédito ▁tributário ▁direito ▁multa ▁sentença ▁execução ▁cumprimento ▁liquidação ▁trabalho ▁do ▁civil ▁processual ▁direito ▁seguro ▁consumo ▁contratos ▁consumidor ▁direito ▁fazer ▁não ▁fazer ▁obrigação ▁execução ▁cumprimento</td>\n",
       "      <td>▁prestar ▁dever ▁pelo ▁federados ▁entes ▁dos ▁solidária responsabilidade ▁ ▁tema ▁administração responsabilidade ▁ ▁público ▁direito ▁matérias ▁outras ▁administrativo ▁direito ▁medicamentos ▁fornecimento ▁saúde ▁serviços ▁público ▁direito ▁matérias ▁outras ▁administrativo ▁direito ▁execução ▁embargos ▁impugnação ▁suspensivo ▁efeito ▁sentença ▁execução ▁cumprimento ▁liquidação ▁trabalho ▁do ▁civil ▁processual ▁direito ▁parcelamento ▁exigibilidade ▁suspensão ▁tributário ▁crédito ▁tributário ▁direito ▁multa ▁sentença ▁execução ▁cumprimento ▁liquidação ▁trabalho ▁do ▁civil ▁processual ▁direito ▁seguro ▁consumo ▁contratos ▁consumidor ▁direito ▁fazer ▁não ▁fazer ▁obrigação ▁execução ▁cumprimento ▁liquidação</td>\n",
       "    </tr>\n",
       "    <tr>\n",
       "      <th>8</th>\n",
       "      <td>▁como ▁recolhida ▁foi ▁quem ▁servidor ▁vinculada ▁individualizada ▁permanece ▁não ▁recolhida ▁vez ▁uma ▁contribuição ▁porque ▁razão ▁contribuições ▁suas ▁das ▁restituição ▁simples ▁recebendo ▁está ▁não ▁benefício ▁recebe ▁quando ▁servidor ▁pois ▁benefício ▁futuro ▁o ▁contribuição ▁entre ▁direta ▁vinculação ▁uma ▁existe ▁não ▁assim ▁capacidade ▁menor ▁possuem ▁que ▁dos ▁benefícios ▁financiam ▁contributiva ▁capacidade ▁maior ▁têm ▁que ▁daqueles ▁contribuições ▁porque ▁como ▁bem ▁anterior ção ▁gera ▁benefícios ▁demais ▁aposentadorias ▁das ▁pagamento ▁sustentam ção ▁gera ▁uma ▁contribuições ▁qual ▁segundo ▁princípio</td>\n",
       "      <td>▁recolhida ▁foi ▁quem ▁servidor ▁vinculada ▁individualizada ▁permanece ▁não ▁recolhida ▁vez ▁uma ▁contribuição ▁porque ▁razão ▁contribuições ▁suas ▁das ▁restituição ▁simples ▁recebendo ▁está ▁não ▁benefício ▁recebe ▁quando ▁servidor ▁pois ▁benefício ▁futuro ▁o ▁contribuição ▁entre ▁direta ▁vinculação ▁uma ▁existe ▁não ▁assim ▁capacidade ▁menor ▁possuem ▁que ▁dos ▁benefícios ▁financiam ▁contributiva ▁capacidade ▁maior ▁têm ▁que ▁daqueles ▁contribuições ▁porque ▁como ▁bem ▁anterior ção ▁gera ▁benefícios ▁demais ▁aposentadorias ▁das ▁pagamento ▁sustentam ção ▁gera ▁uma ▁contribuições ▁qual ▁segundo ▁princípio ▁base</td>\n",
       "    </tr>\n",
       "  </tbody>\n",
       "</table>"
      ],
      "text/plain": [
       "<IPython.core.display.HTML object>"
      ]
     },
     "metadata": {},
     "output_type": "display_data"
    }
   ],
   "source": [
    "dls_lm_bwd.show_batch()"
   ]
  },
  {
   "cell_type": "code",
   "execution_count": 7,
   "metadata": {},
   "outputs": [],
   "source": [
    "learn_lm = language_model_learner(dls_lm_bwd, AWD_LSTM, path=Path(\".\"), drop_mult=1., \n",
    "                                  metrics=[error_rate, accuracy, perplexity])"
   ]
  },
  {
   "cell_type": "code",
   "execution_count": 8,
   "metadata": {},
   "outputs": [
    {
     "data": {
      "text/html": [
       "<table border=\"1\" class=\"dataframe\">\n",
       "  <thead>\n",
       "    <tr style=\"text-align: left;\">\n",
       "      <th>epoch</th>\n",
       "      <th>train_loss</th>\n",
       "      <th>valid_loss</th>\n",
       "      <th>error_rate</th>\n",
       "      <th>accuracy</th>\n",
       "      <th>perplexity</th>\n",
       "      <th>time</th>\n",
       "    </tr>\n",
       "  </thead>\n",
       "  <tbody>\n",
       "    <tr>\n",
       "      <td>0</td>\n",
       "      <td>None</td>\n",
       "      <td>None</td>\n",
       "      <td>None</td>\n",
       "      <td>None</td>\n",
       "      <td>00:00</td>\n",
       "    </tr>\n",
       "  </tbody>\n",
       "</table>"
      ],
      "text/plain": [
       "<IPython.core.display.HTML object>"
      ]
     },
     "metadata": {},
     "output_type": "display_data"
    },
    {
     "data": {
      "text/plain": [
       "SequentialRNN (Input shape: ['64 x 72'])\n",
       "================================================================\n",
       "Layer (type)         Output Shape         Param #    Trainable \n",
       "================================================================\n",
       "LSTM                 ['64 x 72 x 1152',   1,852,416  False     \n",
       "________________________________________________________________\n",
       "LSTM                 ['64 x 72 x 1152',   5,317,632  False     \n",
       "________________________________________________________________\n",
       "LSTM                 ['64 x 72 x 400', \"  1,846,400  False     \n",
       "________________________________________________________________\n",
       "RNNDropout           64 x 72 x 400        0          False     \n",
       "________________________________________________________________\n",
       "RNNDropout           64 x 72 x 1152       0          False     \n",
       "________________________________________________________________\n",
       "RNNDropout           64 x 72 x 1152       0          False     \n",
       "________________________________________________________________\n",
       "Linear               64 x 72 x 30104      12,071,704 True      \n",
       "________________________________________________________________\n",
       "RNNDropout           64 x 72 x 400        0          False     \n",
       "________________________________________________________________\n",
       "\n",
       "Total params: 21,088,152\n",
       "Total trainable params: 12,071,704\n",
       "Total non-trainable params: 9,016,448\n",
       "\n",
       "Optimizer used: <function Adam at 0x7f8bf00531f0>\n",
       "Loss function: FlattenedLoss of CrossEntropyLoss()\n",
       "\n",
       "Model frozen up to parameter group #3\n",
       "\n",
       "Callbacks:\n",
       "  - TrainEvalCallback\n",
       "  - Recorder\n",
       "  - ProgressCallback\n",
       "  - ModelResetter\n",
       "  - RNNRegularizer"
      ]
     },
     "execution_count": 8,
     "metadata": {},
     "output_type": "execute_result"
    }
   ],
   "source": [
    "learn_lm.freeze()\n",
    "learn_lm.summary()"
   ]
  },
  {
   "cell_type": "code",
   "execution_count": 9,
   "metadata": {},
   "outputs": [
    {
     "data": {
      "text/html": [],
      "text/plain": [
       "<IPython.core.display.HTML object>"
      ]
     },
     "metadata": {},
     "output_type": "display_data"
    },
    {
     "data": {
      "text/plain": [
       "SuggestedLRs(lr_min=0.13182567358016967, lr_steep=0.0831763744354248)"
      ]
     },
     "execution_count": 9,
     "metadata": {},
     "output_type": "execute_result"
    },
    {
     "data": {
      "image/png": "[encoded data removed]",
      "text/plain": [
       "<Figure size 432x288 with 1 Axes>"
      ]
     },
     "metadata": {
      "needs_background": "light"
     },
     "output_type": "display_data"
    }
   ],
   "source": [
    "learn_lm.lr_find()"
   ]
  },
  {
   "cell_type": "code",
   "execution_count": 10,
   "metadata": {},
   "outputs": [
    {
     "data": {
      "text/html": [
       "<table border=\"1\" class=\"dataframe\">\n",
       "  <thead>\n",
       "    <tr style=\"text-align: left;\">\n",
       "      <th>epoch</th>\n",
       "      <th>train_loss</th>\n",
       "      <th>valid_loss</th>\n",
       "      <th>error_rate</th>\n",
       "      <th>accuracy</th>\n",
       "      <th>perplexity</th>\n",
       "      <th>time</th>\n",
       "    </tr>\n",
       "  </thead>\n",
       "  <tbody>\n",
       "    <tr>\n",
       "      <td>0</td>\n",
       "      <td>4.192403</td>\n",
       "      <td>3.836115</td>\n",
       "      <td>0.588019</td>\n",
       "      <td>0.411982</td>\n",
       "      <td>46.345058</td>\n",
       "      <td>32:45</td>\n",
       "    </tr>\n",
       "  </tbody>\n",
       "</table>"
      ],
      "text/plain": [
       "<IPython.core.display.HTML object>"
      ]
     },
     "metadata": {},
     "output_type": "display_data"
    }
   ],
   "source": [
    "learn_lm.fit_one_cycle(1, 1e-1)"
   ]
  },
  {
   "cell_type": "code",
   "execution_count": 11,
   "metadata": {},
   "outputs": [
    {
     "data": {
      "image/png": "[encoded data removed]",
      "text/plain": [
       "<Figure size 432x288 with 1 Axes>"
      ]
     },
     "metadata": {
      "needs_background": "light"
     },
     "output_type": "display_data"
    }
   ],
   "source": [
    "learn_lm.recorder.plot_loss()"
   ]
  },
  {
   "cell_type": "code",
   "execution_count": 12,
   "metadata": {},
   "outputs": [],
   "source": [
    "learn_lm.unfreeze()"
   ]
  },
  {
   "cell_type": "code",
   "execution_count": 13,
   "metadata": {},
   "outputs": [
    {
     "data": {
      "text/html": [
       "<table border=\"1\" class=\"dataframe\">\n",
       "  <thead>\n",
       "    <tr style=\"text-align: left;\">\n",
       "      <th>epoch</th>\n",
       "      <th>train_loss</th>\n",
       "      <th>valid_loss</th>\n",
       "      <th>error_rate</th>\n",
       "      <th>accuracy</th>\n",
       "      <th>perplexity</th>\n",
       "      <th>time</th>\n",
       "    </tr>\n",
       "  </thead>\n",
       "  <tbody>\n",
       "    <tr>\n",
       "      <td>0</td>\n",
       "      <td>None</td>\n",
       "      <td>None</td>\n",
       "      <td>None</td>\n",
       "      <td>None</td>\n",
       "      <td>00:00</td>\n",
       "    </tr>\n",
       "  </tbody>\n",
       "</table>"
      ],
      "text/plain": [
       "<IPython.core.display.HTML object>"
      ]
     },
     "metadata": {},
     "output_type": "display_data"
    },
    {
     "data": {
      "text/plain": [
       "SequentialRNN (Input shape: ['64 x 72'])\n",
       "================================================================\n",
       "Layer (type)         Output Shape         Param #    Trainable \n",
       "================================================================\n",
       "LSTM                 ['64 x 72 x 1152',   1,852,416  True      \n",
       "________________________________________________________________\n",
       "LSTM                 ['64 x 72 x 1152',   5,317,632  True      \n",
       "________________________________________________________________\n",
       "LSTM                 ['64 x 72 x 400', \"  1,846,400  True      \n",
       "________________________________________________________________\n",
       "RNNDropout           64 x 72 x 400        0          False     \n",
       "________________________________________________________________\n",
       "RNNDropout           64 x 72 x 1152       0          False     \n",
       "________________________________________________________________\n",
       "RNNDropout           64 x 72 x 1152       0          False     \n",
       "________________________________________________________________\n",
       "Linear               64 x 72 x 30104      12,071,704 True      \n",
       "________________________________________________________________\n",
       "RNNDropout           64 x 72 x 400        0          False     \n",
       "________________________________________________________________\n",
       "\n",
       "Total params: 21,088,152\n",
       "Total trainable params: 21,088,152\n",
       "Total non-trainable params: 0\n",
       "\n",
       "Optimizer used: <function Adam at 0x7f8bf00531f0>\n",
       "Loss function: FlattenedLoss of CrossEntropyLoss()\n",
       "\n",
       "Model unfrozen\n",
       "\n",
       "Callbacks:\n",
       "  - TrainEvalCallback\n",
       "  - Recorder\n",
       "  - ProgressCallback\n",
       "  - ModelResetter\n",
       "  - RNNRegularizer"
      ]
     },
     "execution_count": 13,
     "metadata": {},
     "output_type": "execute_result"
    }
   ],
   "source": [
    "learn_lm.summary()"
   ]
  },
  {
   "cell_type": "code",
   "execution_count": 14,
   "metadata": {},
   "outputs": [
    {
     "data": {
      "text/html": [],
      "text/plain": [
       "<IPython.core.display.HTML object>"
      ]
     },
     "metadata": {},
     "output_type": "display_data"
    },
    {
     "data": {
      "text/plain": [
       "SuggestedLRs(lr_min=2.511886486900039e-06, lr_steep=2.75422871709452e-06)"
      ]
     },
     "execution_count": 14,
     "metadata": {},
     "output_type": "execute_result"
    },
    {
     "data": {
      "image/png": "[encoded data removed]",
      "text/plain": [
       "<Figure size 432x288 with 1 Axes>"
      ]
     },
     "metadata": {
      "needs_background": "light"
     },
     "output_type": "display_data"
    }
   ],
   "source": [
    "learn_lm.lr_find()"
   ]
  },
  {
   "cell_type": "code",
   "execution_count": 15,
   "metadata": {},
   "outputs": [],
   "source": [
    "learn_lm.add_cbs([SaveModelCallback(monitor='accuracy', fname='best_bwd_lm'),\n",
    "                                       ShowGraphCallback()])"
   ]
  },
  {
   "cell_type": "code",
   "execution_count": 16,
   "metadata": {},
   "outputs": [
    {
     "data": {
      "text/html": [
       "<table border=\"1\" class=\"dataframe\">\n",
       "  <thead>\n",
       "    <tr style=\"text-align: left;\">\n",
       "      <th>epoch</th>\n",
       "      <th>train_loss</th>\n",
       "      <th>valid_loss</th>\n",
       "      <th>error_rate</th>\n",
       "      <th>accuracy</th>\n",
       "      <th>perplexity</th>\n",
       "      <th>time</th>\n",
       "    </tr>\n",
       "  </thead>\n",
       "  <tbody>\n",
       "    <tr>\n",
       "      <td>0</td>\n",
       "      <td>3.354810</td>\n",
       "      <td>3.075690</td>\n",
       "      <td>0.482987</td>\n",
       "      <td>0.517013</td>\n",
       "      <td>21.664831</td>\n",
       "      <td>35:42</td>\n",
       "    </tr>\n",
       "    <tr>\n",
       "      <td>1</td>\n",
       "      <td>2.861224</td>\n",
       "      <td>2.526672</td>\n",
       "      <td>0.391740</td>\n",
       "      <td>0.608259</td>\n",
       "      <td>12.511799</td>\n",
       "      <td>35:42</td>\n",
       "    </tr>\n",
       "    <tr>\n",
       "      <td>2</td>\n",
       "      <td>2.468735</td>\n",
       "      <td>2.333856</td>\n",
       "      <td>0.361802</td>\n",
       "      <td>0.638199</td>\n",
       "      <td>10.317654</td>\n",
       "      <td>35:21</td>\n",
       "    </tr>\n",
       "    <tr>\n",
       "      <td>3</td>\n",
       "      <td>2.389498</td>\n",
       "      <td>2.232136</td>\n",
       "      <td>0.346123</td>\n",
       "      <td>0.653877</td>\n",
       "      <td>9.319750</td>\n",
       "      <td>35:20</td>\n",
       "    </tr>\n",
       "    <tr>\n",
       "      <td>4</td>\n",
       "      <td>2.318906</td>\n",
       "      <td>2.180497</td>\n",
       "      <td>0.338911</td>\n",
       "      <td>0.661089</td>\n",
       "      <td>8.850701</td>\n",
       "      <td>35:37</td>\n",
       "    </tr>\n",
       "    <tr>\n",
       "      <td>5</td>\n",
       "      <td>2.271982</td>\n",
       "      <td>2.170482</td>\n",
       "      <td>0.337112</td>\n",
       "      <td>0.662888</td>\n",
       "      <td>8.762508</td>\n",
       "      <td>35:28</td>\n",
       "    </tr>\n",
       "  </tbody>\n",
       "</table>"
      ],
      "text/plain": [
       "<IPython.core.display.HTML object>"
      ]
     },
     "metadata": {},
     "output_type": "display_data"
    },
    {
     "name": "stdout",
     "output_type": "stream",
     "text": [
      "Better model found at epoch 0 with accuracy value: 0.5170133709907532.\n"
     ]
    },
    {
     "data": {
      "image/png": "[encoded data removed]",
      "text/plain": [
       "<Figure size 432x288 with 1 Axes>"
      ]
     },
     "metadata": {},
     "output_type": "display_data"
    },
    {
     "name": "stdout",
     "output_type": "stream",
     "text": [
      "Better model found at epoch 1 with accuracy value: 0.6082594394683838.\n",
      "Better model found at epoch 2 with accuracy value: 0.6381988525390625.\n",
      "Better model found at epoch 3 with accuracy value: 0.6538771390914917.\n",
      "Better model found at epoch 4 with accuracy value: 0.6610891222953796.\n",
      "Better model found at epoch 5 with accuracy value: 0.6628881096839905.\n"
     ]
    }
   ],
   "source": [
    "learn_lm.fit_one_cycle(6, 1e-3)"
   ]
  },
  {
   "cell_type": "code",
   "execution_count": 17,
   "metadata": {},
   "outputs": [
    {
     "data": {
      "text/plain": [
       "<fastai.text.learner.LMLearner at 0x7f8a5dc035b0>"
      ]
     },
     "execution_count": 17,
     "metadata": {},
     "output_type": "execute_result"
    }
   ],
   "source": [
    "learn_lm.load('best_bwd_lm')"
   ]
  },
  {
   "cell_type": "code",
   "execution_count": 18,
   "metadata": {},
   "outputs": [],
   "source": [
    "learn_lm.save_encoder('best_bwd_lm_enc')"
   ]
  },
  {
   "cell_type": "code",
   "execution_count": 9,
   "metadata": {},
   "outputs": [
    {
     "data": {
      "text/html": [],
      "text/plain": [
       "<IPython.core.display.HTML object>"
      ]
     },
     "metadata": {},
     "output_type": "display_data"
    },
    {
     "name": "stderr",
     "output_type": "stream",
     "text": [
      "/mnt/home/peluz/victor-visual-text/fastai2/lib/python3.8/site-packages/numpy/core/_asarray.py:83: VisibleDeprecationWarning: Creating an ndarray from ragged nested sequences (which is a list-or-tuple of lists-or-tuples-or ndarrays with different lengths or shapes) is deprecated. If you meant to do this, you must specify 'dtype=object' when creating the ndarray\n",
      "  return array(a, dtype, copy=False, order=order)\n"
     ]
    }
   ],
   "source": [
    "dls = DataBlock(\n",
    "    blocks=(TextBlock.from_df('body', tok=dls_lm_bwd.tok),  CategoryBlock),\n",
    "    get_x=ColReader('text'), get_y=ColReader('document_type'), splitter=ColSplitter()).dataloaders(data)"
   ]
  },
  {
   "cell_type": "code",
   "execution_count": 10,
   "metadata": {},
   "outputs": [],
   "source": [
    "assert dls.vocab[0] == dls_lm_bwd.vocab"
   ]
  },
  {
   "cell_type": "code",
   "execution_count": 19,
   "metadata": {},
   "outputs": [],
   "source": [
    "del(dls_lm_bwd)"
   ]
  },
  {
   "cell_type": "code",
   "execution_count": 12,
   "metadata": {},
   "outputs": [],
   "source": [
    "torch.save(dls, \"./data/dls.pth\")"
   ]
  },
  {
   "cell_type": "code",
   "execution_count": 20,
   "metadata": {},
   "outputs": [],
   "source": [
    "dls = torch.load(\"./data/dls.pth\")"
   ]
  },
  {
   "cell_type": "code",
   "execution_count": 11,
   "metadata": {},
   "outputs": [
    {
     "data": {
      "text/plain": [
       "149217"
      ]
     },
     "execution_count": 11,
     "metadata": {},
     "output_type": "execute_result"
    }
   ],
   "source": [
    "n_samples = len(dls.train_ds); n_samples"
   ]
  },
  {
   "cell_type": "code",
   "execution_count": 12,
   "metadata": {},
   "outputs": [],
   "source": [
    "class_counts = torch.bincount(torch.stack(list(dls.train_ds.tls[1][:])))"
   ]
  },
  {
   "cell_type": "code",
   "execution_count": 13,
   "metadata": {},
   "outputs": [
    {
     "data": {
      "text/plain": [
       "TensorCategory([44.9720,  9.7681, 71.8772,  0.1854,  2.6154, 11.6813])"
      ]
     },
     "execution_count": 13,
     "metadata": {},
     "output_type": "execute_result"
    }
   ],
   "source": [
    "class_weights = n_samples / (dls.c * class_counts); class_weights"
   ]
  },
  {
   "cell_type": "code",
   "execution_count": 14,
   "metadata": {},
   "outputs": [
    {
     "data": {
      "text/plain": [
       "tensor([44.9720,  9.7681, 71.8772,  0.1854,  2.6154, 11.6813], device='cuda:0')"
      ]
     },
     "execution_count": 14,
     "metadata": {},
     "output_type": "execute_result"
    }
   ],
   "source": [
    "class_weights = torch.FloatTensor(class_weights).cuda(); class_weights"
   ]
  },
  {
   "cell_type": "code",
   "execution_count": 33,
   "metadata": {},
   "outputs": [],
   "source": [
    "learn = text_classifier_learner(dls, AWD_LSTM, path=Path(\".\"), drop_mult=1., \n",
    "                                loss_func=CrossEntropyLossFlat(weight=class_weights),\n",
    "                                metrics=[accuracy, f1])"
   ]
  },
  {
   "cell_type": "code",
   "execution_count": 34,
   "metadata": {},
   "outputs": [
    {
     "data": {
      "text/plain": [
       "<fastai.text.learner.TextLearner at 0x7f4eca7f6d60>"
      ]
     },
     "execution_count": 34,
     "metadata": {},
     "output_type": "execute_result"
    }
   ],
   "source": [
    "learn.load_encoder(\"lstm_lm_1E+3E+3E_enc\")"
   ]
  },
  {
   "cell_type": "code",
   "execution_count": 35,
   "metadata": {},
   "outputs": [
    {
     "data": {
      "text/html": [
       "<table border=\"1\" class=\"dataframe\">\n",
       "  <thead>\n",
       "    <tr style=\"text-align: left;\">\n",
       "      <th>epoch</th>\n",
       "      <th>train_loss</th>\n",
       "      <th>valid_loss</th>\n",
       "      <th>accuracy</th>\n",
       "      <th>f1_score</th>\n",
       "      <th>time</th>\n",
       "    </tr>\n",
       "  </thead>\n",
       "  <tbody>\n",
       "    <tr>\n",
       "      <td>0</td>\n",
       "      <td>None</td>\n",
       "      <td>None</td>\n",
       "      <td>None</td>\n",
       "      <td>00:02</td>\n",
       "    </tr>\n",
       "  </tbody>\n",
       "</table>"
      ],
      "text/plain": [
       "<IPython.core.display.HTML object>"
      ]
     },
     "metadata": {},
     "output_type": "display_data"
    },
    {
     "data": {
      "text/plain": [
       "SequentialRNN (Input shape: ['64 x 4867'])\n",
       "================================================================\n",
       "Layer (type)         Output Shape         Param #    Trainable \n",
       "================================================================\n",
       "LSTM                 ['64 x 43 x 1152',   1,852,416  False     \n",
       "________________________________________________________________\n",
       "LSTM                 ['64 x 43 x 1152',   5,317,632  False     \n",
       "________________________________________________________________\n",
       "LSTM                 ['64 x 43 x 400', \"  1,846,400  False     \n",
       "________________________________________________________________\n",
       "RNNDropout           64 x 43 x 400        0          False     \n",
       "________________________________________________________________\n",
       "RNNDropout           64 x 43 x 1152       0          False     \n",
       "________________________________________________________________\n",
       "RNNDropout           64 x 43 x 1152       0          False     \n",
       "________________________________________________________________\n",
       "BatchNorm1d          64 x 1200            2,400      True      \n",
       "________________________________________________________________\n",
       "Dropout              64 x 1200            0          False     \n",
       "________________________________________________________________\n",
       "Linear               64 x 50              60,000     True      \n",
       "________________________________________________________________\n",
       "ReLU                 64 x 50              0          False     \n",
       "________________________________________________________________\n",
       "BatchNorm1d          64 x 50              100        True      \n",
       "________________________________________________________________\n",
       "Dropout              64 x 50              0          False     \n",
       "________________________________________________________________\n",
       "Linear               64 x 6               300        True      \n",
       "________________________________________________________________\n",
       "\n",
       "Total params: 9,079,248\n",
       "Total trainable params: 62,800\n",
       "Total non-trainable params: 9,016,448\n",
       "\n",
       "Optimizer used: <function Adam at 0x7f4f1ee2a1f0>\n",
       "Loss function: FlattenedLoss of CrossEntropyLoss()\n",
       "\n",
       "Model frozen up to parameter group #4\n",
       "\n",
       "Callbacks:\n",
       "  - TrainEvalCallback\n",
       "  - Recorder\n",
       "  - ProgressCallback\n",
       "  - ModelResetter\n",
       "  - RNNRegularizer"
      ]
     },
     "execution_count": 35,
     "metadata": {},
     "output_type": "execute_result"
    }
   ],
   "source": [
    "learn.freeze()\n",
    "learn.summary()"
   ]
  },
  {
   "cell_type": "code",
   "execution_count": 37,
   "metadata": {},
   "outputs": [
    {
     "data": {
      "text/html": [],
      "text/plain": [
       "<IPython.core.display.HTML object>"
      ]
     },
     "metadata": {},
     "output_type": "display_data"
    },
    {
     "data": {
      "text/plain": [
       "SuggestedLRs(lr_min=0.025118863582611083, lr_steep=2.2908675418875646e-06)"
      ]
     },
     "execution_count": 37,
     "metadata": {},
     "output_type": "execute_result"
    },
    {
     "data": {
      "image/png": "[encoded data removed]",
      "text/plain": [
       "<Figure size 432x288 with 1 Axes>"
      ]
     },
     "metadata": {
      "needs_background": "light"
     },
     "output_type": "display_data"
    }
   ],
   "source": [
    "learn.lr_find()"
   ]
  },
  {
   "cell_type": "code",
   "execution_count": 38,
   "metadata": {},
   "outputs": [
    {
     "data": {
      "text/html": [
       "<table border=\"1\" class=\"dataframe\">\n",
       "  <thead>\n",
       "    <tr style=\"text-align: left;\">\n",
       "      <th>epoch</th>\n",
       "      <th>train_loss</th>\n",
       "      <th>valid_loss</th>\n",
       "      <th>accuracy</th>\n",
       "      <th>f1_score</th>\n",
       "      <th>time</th>\n",
       "    </tr>\n",
       "  </thead>\n",
       "  <tbody>\n",
       "    <tr>\n",
       "      <td>0</td>\n",
       "      <td>0.961801</td>\n",
       "      <td>0.864121</td>\n",
       "      <td>0.610271</td>\n",
       "      <td>0.298024</td>\n",
       "      <td>07:35</td>\n",
       "    </tr>\n",
       "  </tbody>\n",
       "</table>"
      ],
      "text/plain": [
       "<IPython.core.display.HTML object>"
      ]
     },
     "metadata": {},
     "output_type": "display_data"
    }
   ],
   "source": [
    "learn.fit_one_cycle(1, 2e-2)"
   ]
  },
  {
   "cell_type": "code",
   "execution_count": 39,
   "metadata": {},
   "outputs": [
    {
     "data": {
      "text/html": [
       "<table border=\"1\" class=\"dataframe\">\n",
       "  <thead>\n",
       "    <tr style=\"text-align: left;\">\n",
       "      <th>epoch</th>\n",
       "      <th>train_loss</th>\n",
       "      <th>valid_loss</th>\n",
       "      <th>accuracy</th>\n",
       "      <th>f1_score</th>\n",
       "      <th>time</th>\n",
       "    </tr>\n",
       "  </thead>\n",
       "  <tbody>\n",
       "    <tr>\n",
       "      <td>0</td>\n",
       "      <td>0.695018</td>\n",
       "      <td>0.644269</td>\n",
       "      <td>0.688901</td>\n",
       "      <td>0.368934</td>\n",
       "      <td>12:21</td>\n",
       "    </tr>\n",
       "  </tbody>\n",
       "</table>"
      ],
      "text/plain": [
       "<IPython.core.display.HTML object>"
      ]
     },
     "metadata": {},
     "output_type": "display_data"
    }
   ],
   "source": [
    "learn.freeze_to(-2)\n",
    "learn.fit_one_cycle(1, slice(1e-2/(2.6**4),1e-2))\n"
   ]
  },
  {
   "cell_type": "code",
   "execution_count": 40,
   "metadata": {},
   "outputs": [
    {
     "data": {
      "text/html": [
       "<table border=\"1\" class=\"dataframe\">\n",
       "  <thead>\n",
       "    <tr style=\"text-align: left;\">\n",
       "      <th>epoch</th>\n",
       "      <th>train_loss</th>\n",
       "      <th>valid_loss</th>\n",
       "      <th>accuracy</th>\n",
       "      <th>f1_score</th>\n",
       "      <th>time</th>\n",
       "    </tr>\n",
       "  </thead>\n",
       "  <tbody>\n",
       "    <tr>\n",
       "      <td>0</td>\n",
       "      <td>0.498383</td>\n",
       "      <td>0.598076</td>\n",
       "      <td>0.711680</td>\n",
       "      <td>0.404785</td>\n",
       "      <td>18:18</td>\n",
       "    </tr>\n",
       "  </tbody>\n",
       "</table>"
      ],
      "text/plain": [
       "<IPython.core.display.HTML object>"
      ]
     },
     "metadata": {},
     "output_type": "display_data"
    }
   ],
   "source": [
    "learn.freeze_to(-3)\n",
    "learn.fit_one_cycle(1, slice(5e-3/(2.6**4),5e-3))"
   ]
  },
  {
   "cell_type": "code",
   "execution_count": 41,
   "metadata": {},
   "outputs": [
    {
     "data": {
      "text/html": [
       "<table border=\"1\" class=\"dataframe\">\n",
       "  <thead>\n",
       "    <tr style=\"text-align: left;\">\n",
       "      <th>epoch</th>\n",
       "      <th>train_loss</th>\n",
       "      <th>valid_loss</th>\n",
       "      <th>accuracy</th>\n",
       "      <th>f1_score</th>\n",
       "      <th>time</th>\n",
       "    </tr>\n",
       "  </thead>\n",
       "  <tbody>\n",
       "    <tr>\n",
       "      <td>0</td>\n",
       "      <td>0.435686</td>\n",
       "      <td>0.570500</td>\n",
       "      <td>0.758579</td>\n",
       "      <td>0.449526</td>\n",
       "      <td>19:18</td>\n",
       "    </tr>\n",
       "    <tr>\n",
       "      <td>1</td>\n",
       "      <td>0.484861</td>\n",
       "      <td>0.559896</td>\n",
       "      <td>0.765198</td>\n",
       "      <td>0.440880</td>\n",
       "      <td>12:41</td>\n",
       "    </tr>\n",
       "  </tbody>\n",
       "</table>"
      ],
      "text/plain": [
       "<IPython.core.display.HTML object>"
      ]
     },
     "metadata": {},
     "output_type": "display_data"
    }
   ],
   "source": [
    "learn.unfreeze()\n",
    "learn.fit_one_cycle(2, slice(1e-3/(2.6**4),1e-3))"
   ]
  },
  {
   "cell_type": "code",
   "execution_count": 42,
   "metadata": {},
   "outputs": [
    {
     "data": {
      "image/png": "[encoded data removed]",
      "text/plain": [
       "<Figure size 432x288 with 1 Axes>"
      ]
     },
     "metadata": {
      "needs_background": "light"
     },
     "output_type": "display_data"
    }
   ],
   "source": [
    "learn.recorder.plot_loss()"
   ]
  },
  {
   "cell_type": "code",
   "execution_count": 43,
   "metadata": {},
   "outputs": [
    {
     "data": {
      "text/plain": [
       "Path('models/fwd_clf.pth')"
      ]
     },
     "execution_count": 43,
     "metadata": {},
     "output_type": "execute_result"
    }
   ],
   "source": [
    "learn.save('fwd_clf')"
   ]
  },
  {
   "cell_type": "code",
   "execution_count": null,
   "metadata": {},
   "outputs": [],
   "source": [
    "learn.load(\"fwd_clf\")"
   ]
  },
  {
   "cell_type": "code",
   "execution_count": 6,
   "metadata": {},
   "outputs": [],
   "source": [
    "dls = torch.load(\"./data/dls.pth\")"
   ]
  },
  {
   "cell_type": "code",
   "execution_count": 32,
   "metadata": {},
   "outputs": [],
   "source": [
    "learn = text_classifier_learner(dls, AWD_LSTM, path=Path(\".\"), drop_mult=1., \n",
    "                                metrics=[accuracy, f1])"
   ]
  },
  {
   "cell_type": "code",
   "execution_count": 33,
   "metadata": {},
   "outputs": [
    {
     "data": {
      "text/plain": [
       "<fastai.text.learner.TextLearner at 0x7f89602d71f0>"
      ]
     },
     "execution_count": 33,
     "metadata": {},
     "output_type": "execute_result"
    }
   ],
   "source": [
    "learn.load_encoder(\"best_fwd_lm_enc\")"
   ]
  },
  {
   "cell_type": "code",
   "execution_count": 34,
   "metadata": {},
   "outputs": [
    {
     "data": {
      "text/html": [
       "<table border=\"1\" class=\"dataframe\">\n",
       "  <thead>\n",
       "    <tr style=\"text-align: left;\">\n",
       "      <th>epoch</th>\n",
       "      <th>train_loss</th>\n",
       "      <th>valid_loss</th>\n",
       "      <th>accuracy</th>\n",
       "      <th>f1_score</th>\n",
       "      <th>time</th>\n",
       "    </tr>\n",
       "  </thead>\n",
       "  <tbody>\n",
       "    <tr>\n",
       "      <td>0</td>\n",
       "      <td>None</td>\n",
       "      <td>None</td>\n",
       "      <td>None</td>\n",
       "      <td>00:00</td>\n",
       "    </tr>\n",
       "  </tbody>\n",
       "</table>"
      ],
      "text/plain": [
       "<IPython.core.display.HTML object>"
      ]
     },
     "metadata": {},
     "output_type": "display_data"
    },
    {
     "data": {
      "text/plain": [
       "SequentialRNN (Input shape: ['64 x 4867'])\n",
       "================================================================\n",
       "Layer (type)         Output Shape         Param #    Trainable \n",
       "================================================================\n",
       "LSTM                 ['64 x 43 x 1152',   1,852,416  False     \n",
       "________________________________________________________________\n",
       "LSTM                 ['64 x 43 x 1152',   5,317,632  False     \n",
       "________________________________________________________________\n",
       "LSTM                 ['64 x 43 x 400', \"  1,846,400  False     \n",
       "________________________________________________________________\n",
       "RNNDropout           64 x 43 x 400        0          False     \n",
       "________________________________________________________________\n",
       "RNNDropout           64 x 43 x 1152       0          False     \n",
       "________________________________________________________________\n",
       "RNNDropout           64 x 43 x 1152       0          False     \n",
       "________________________________________________________________\n",
       "BatchNorm1d          64 x 1200            2,400      True      \n",
       "________________________________________________________________\n",
       "Dropout              64 x 1200            0          False     \n",
       "________________________________________________________________\n",
       "Linear               64 x 50              60,000     True      \n",
       "________________________________________________________________\n",
       "ReLU                 64 x 50              0          False     \n",
       "________________________________________________________________\n",
       "BatchNorm1d          64 x 50              100        True      \n",
       "________________________________________________________________\n",
       "Dropout              64 x 50              0          False     \n",
       "________________________________________________________________\n",
       "Linear               64 x 6               300        True      \n",
       "________________________________________________________________\n",
       "\n",
       "Total params: 9,079,248\n",
       "Total trainable params: 62,800\n",
       "Total non-trainable params: 9,016,448\n",
       "\n",
       "Optimizer used: <function Adam at 0x7f8bf00531f0>\n",
       "Loss function: FlattenedLoss of CrossEntropyLoss()\n",
       "\n",
       "Model frozen up to parameter group #4\n",
       "\n",
       "Callbacks:\n",
       "  - TrainEvalCallback\n",
       "  - Recorder\n",
       "  - ProgressCallback\n",
       "  - ModelResetter\n",
       "  - RNNRegularizer"
      ]
     },
     "execution_count": 34,
     "metadata": {},
     "output_type": "execute_result"
    }
   ],
   "source": [
    "learn.freeze()\n",
    "learn.summary()"
   ]
  },
  {
   "cell_type": "code",
   "execution_count": 24,
   "metadata": {},
   "outputs": [
    {
     "data": {
      "text/html": [],
      "text/plain": [
       "<IPython.core.display.HTML object>"
      ]
     },
     "metadata": {},
     "output_type": "display_data"
    },
    {
     "data": {
      "text/plain": [
       "SuggestedLRs(lr_min=0.05248074531555176, lr_steep=0.6309573650360107)"
      ]
     },
     "execution_count": 24,
     "metadata": {},
     "output_type": "execute_result"
    },
    {
     "data": {
      "image/png": "[encoded data removed]",
      "text/plain": [
       "<Figure size 432x288 with 1 Axes>"
      ]
     },
     "metadata": {
      "needs_background": "light"
     },
     "output_type": "display_data"
    }
   ],
   "source": [
    "learn.lr_find()"
   ]
  },
  {
   "cell_type": "code",
   "execution_count": 35,
   "metadata": {},
   "outputs": [
    {
     "data": {
      "text/html": [
       "<table border=\"1\" class=\"dataframe\">\n",
       "  <thead>\n",
       "    <tr style=\"text-align: left;\">\n",
       "      <th>epoch</th>\n",
       "      <th>train_loss</th>\n",
       "      <th>valid_loss</th>\n",
       "      <th>accuracy</th>\n",
       "      <th>f1_score</th>\n",
       "      <th>time</th>\n",
       "    </tr>\n",
       "  </thead>\n",
       "  <tbody>\n",
       "    <tr>\n",
       "      <td>0</td>\n",
       "      <td>0.405888</td>\n",
       "      <td>0.295487</td>\n",
       "      <td>0.908418</td>\n",
       "      <td>0.441084</td>\n",
       "      <td>06:12</td>\n",
       "    </tr>\n",
       "  </tbody>\n",
       "</table>"
      ],
      "text/plain": [
       "<IPython.core.display.HTML object>"
      ]
     },
     "metadata": {},
     "output_type": "display_data"
    }
   ],
   "source": [
    "learn.fit_one_cycle(1, 5e-2)"
   ]
  },
  {
   "cell_type": "code",
   "execution_count": 36,
   "metadata": {},
   "outputs": [
    {
     "data": {
      "text/html": [
       "<table border=\"1\" class=\"dataframe\">\n",
       "  <thead>\n",
       "    <tr style=\"text-align: left;\">\n",
       "      <th>epoch</th>\n",
       "      <th>train_loss</th>\n",
       "      <th>valid_loss</th>\n",
       "      <th>accuracy</th>\n",
       "      <th>f1_score</th>\n",
       "      <th>time</th>\n",
       "    </tr>\n",
       "  </thead>\n",
       "  <tbody>\n",
       "    <tr>\n",
       "      <td>0</td>\n",
       "      <td>0.222479</td>\n",
       "      <td>0.227281</td>\n",
       "      <td>0.930860</td>\n",
       "      <td>0.633716</td>\n",
       "      <td>07:08</td>\n",
       "    </tr>\n",
       "  </tbody>\n",
       "</table>"
      ],
      "text/plain": [
       "<IPython.core.display.HTML object>"
      ]
     },
     "metadata": {},
     "output_type": "display_data"
    }
   ],
   "source": [
    "learn.freeze_to(-2)\n",
    "learn.fit_one_cycle(1, slice(1e-2/(2.6**4),1e-2))"
   ]
  },
  {
   "cell_type": "code",
   "execution_count": 37,
   "metadata": {},
   "outputs": [
    {
     "data": {
      "text/html": [
       "<table border=\"1\" class=\"dataframe\">\n",
       "  <thead>\n",
       "    <tr style=\"text-align: left;\">\n",
       "      <th>epoch</th>\n",
       "      <th>train_loss</th>\n",
       "      <th>valid_loss</th>\n",
       "      <th>accuracy</th>\n",
       "      <th>f1_score</th>\n",
       "      <th>time</th>\n",
       "    </tr>\n",
       "  </thead>\n",
       "  <tbody>\n",
       "    <tr>\n",
       "      <td>0</td>\n",
       "      <td>0.199173</td>\n",
       "      <td>0.210108</td>\n",
       "      <td>0.934016</td>\n",
       "      <td>0.672270</td>\n",
       "      <td>10:00</td>\n",
       "    </tr>\n",
       "  </tbody>\n",
       "</table>"
      ],
      "text/plain": [
       "<IPython.core.display.HTML object>"
      ]
     },
     "metadata": {},
     "output_type": "display_data"
    }
   ],
   "source": [
    "learn.freeze_to(-3)\n",
    "learn.fit_one_cycle(1, slice(5e-3/(2.6**4),5e-3))"
   ]
  },
  {
   "cell_type": "code",
   "execution_count": 38,
   "metadata": {},
   "outputs": [],
   "source": [
    "learn.add_cbs([SaveModelCallback(monitor='f1_score', fname='best_fwd_clf'),\n",
    "                                       ShowGraphCallback()])"
   ]
  },
  {
   "cell_type": "code",
   "execution_count": 39,
   "metadata": {},
   "outputs": [
    {
     "data": {
      "text/html": [
       "<table border=\"1\" class=\"dataframe\">\n",
       "  <thead>\n",
       "    <tr style=\"text-align: left;\">\n",
       "      <th>epoch</th>\n",
       "      <th>train_loss</th>\n",
       "      <th>valid_loss</th>\n",
       "      <th>accuracy</th>\n",
       "      <th>f1_score</th>\n",
       "      <th>time</th>\n",
       "    </tr>\n",
       "  </thead>\n",
       "  <tbody>\n",
       "    <tr>\n",
       "      <td>0</td>\n",
       "      <td>0.189204</td>\n",
       "      <td>0.207142</td>\n",
       "      <td>0.934945</td>\n",
       "      <td>0.682620</td>\n",
       "      <td>12:27</td>\n",
       "    </tr>\n",
       "    <tr>\n",
       "      <td>1</td>\n",
       "      <td>0.162333</td>\n",
       "      <td>0.203493</td>\n",
       "      <td>0.936085</td>\n",
       "      <td>0.689912</td>\n",
       "      <td>12:24</td>\n",
       "    </tr>\n",
       "    <tr>\n",
       "      <td>2</td>\n",
       "      <td>0.181387</td>\n",
       "      <td>0.198084</td>\n",
       "      <td>0.937995</td>\n",
       "      <td>0.690802</td>\n",
       "      <td>12:24</td>\n",
       "    </tr>\n",
       "    <tr>\n",
       "      <td>3</td>\n",
       "      <td>0.171051</td>\n",
       "      <td>0.191302</td>\n",
       "      <td>0.938745</td>\n",
       "      <td>0.702958</td>\n",
       "      <td>12:26</td>\n",
       "    </tr>\n",
       "    <tr>\n",
       "      <td>4</td>\n",
       "      <td>0.154034</td>\n",
       "      <td>0.188457</td>\n",
       "      <td>0.941088</td>\n",
       "      <td>0.714812</td>\n",
       "      <td>12:26</td>\n",
       "    </tr>\n",
       "    <tr>\n",
       "      <td>5</td>\n",
       "      <td>0.153357</td>\n",
       "      <td>0.186032</td>\n",
       "      <td>0.942049</td>\n",
       "      <td>0.725950</td>\n",
       "      <td>12:25</td>\n",
       "    </tr>\n",
       "    <tr>\n",
       "      <td>6</td>\n",
       "      <td>0.163162</td>\n",
       "      <td>0.196169</td>\n",
       "      <td>0.941447</td>\n",
       "      <td>0.715721</td>\n",
       "      <td>12:25</td>\n",
       "    </tr>\n",
       "    <tr>\n",
       "      <td>7</td>\n",
       "      <td>0.129408</td>\n",
       "      <td>0.187750</td>\n",
       "      <td>0.943474</td>\n",
       "      <td>0.726888</td>\n",
       "      <td>12:25</td>\n",
       "    </tr>\n",
       "    <tr>\n",
       "      <td>8</td>\n",
       "      <td>0.142808</td>\n",
       "      <td>0.191936</td>\n",
       "      <td>0.942176</td>\n",
       "      <td>0.715036</td>\n",
       "      <td>12:27</td>\n",
       "    </tr>\n",
       "    <tr>\n",
       "      <td>9</td>\n",
       "      <td>0.135923</td>\n",
       "      <td>0.192593</td>\n",
       "      <td>0.943843</td>\n",
       "      <td>0.731923</td>\n",
       "      <td>12:25</td>\n",
       "    </tr>\n",
       "    <tr>\n",
       "      <td>10</td>\n",
       "      <td>0.142199</td>\n",
       "      <td>0.193978</td>\n",
       "      <td>0.943991</td>\n",
       "      <td>0.739404</td>\n",
       "      <td>12:25</td>\n",
       "    </tr>\n",
       "    <tr>\n",
       "      <td>11</td>\n",
       "      <td>0.132487</td>\n",
       "      <td>0.194041</td>\n",
       "      <td>0.944192</td>\n",
       "      <td>0.740288</td>\n",
       "      <td>12:24</td>\n",
       "    </tr>\n",
       "    <tr>\n",
       "      <td>12</td>\n",
       "      <td>0.124856</td>\n",
       "      <td>0.189652</td>\n",
       "      <td>0.944973</td>\n",
       "      <td>0.745875</td>\n",
       "      <td>12:26</td>\n",
       "    </tr>\n",
       "    <tr>\n",
       "      <td>13</td>\n",
       "      <td>0.121081</td>\n",
       "      <td>0.188850</td>\n",
       "      <td>0.945258</td>\n",
       "      <td>0.747684</td>\n",
       "      <td>12:22</td>\n",
       "    </tr>\n",
       "    <tr>\n",
       "      <td>14</td>\n",
       "      <td>0.118551</td>\n",
       "      <td>0.189075</td>\n",
       "      <td>0.944973</td>\n",
       "      <td>0.740342</td>\n",
       "      <td>12:24</td>\n",
       "    </tr>\n",
       "  </tbody>\n",
       "</table>"
      ],
      "text/plain": [
       "<IPython.core.display.HTML object>"
      ]
     },
     "metadata": {},
     "output_type": "display_data"
    },
    {
     "name": "stdout",
     "output_type": "stream",
     "text": [
      "Better model found at epoch 0 with f1_score value: 0.6826198747184914.\n"
     ]
    },
    {
     "data": {
      "image/png": "[encoded data removed]",
      "text/plain": [
       "<Figure size 432x288 with 1 Axes>"
      ]
     },
     "metadata": {},
     "output_type": "display_data"
    },
    {
     "name": "stdout",
     "output_type": "stream",
     "text": [
      "Better model found at epoch 1 with f1_score value: 0.6899118480831605.\n",
      "Better model found at epoch 2 with f1_score value: 0.6908016106393647.\n",
      "Better model found at epoch 3 with f1_score value: 0.7029576672102927.\n",
      "Better model found at epoch 4 with f1_score value: 0.714812031854834.\n",
      "Better model found at epoch 5 with f1_score value: 0.7259495763348452.\n",
      "Better model found at epoch 7 with f1_score value: 0.7268882051028526.\n",
      "Better model found at epoch 9 with f1_score value: 0.7319228862843409.\n",
      "Better model found at epoch 10 with f1_score value: 0.739403882326242.\n",
      "Better model found at epoch 11 with f1_score value: 0.7402877529711525.\n",
      "Better model found at epoch 12 with f1_score value: 0.7458750187765687.\n",
      "Better model found at epoch 13 with f1_score value: 0.7476837351650293.\n"
     ]
    }
   ],
   "source": [
    "learn.unfreeze()\n",
    "learn.fit_one_cycle(15, slice(1e-3/(2.6**4),1e-3))"
   ]
  },
  {
   "cell_type": "code",
   "execution_count": null,
   "metadata": {},
   "outputs": [],
   "source": [
    "dls_bwd = DataBlock(\n",
    "    blocks=(TextBlock.from_df('body', tok=dls.tok, backwards=True),  CategoryBlock),\n",
    "    get_x=ColReader('text'), get_y=ColReader('document_type'), splitter=ColSplitter()).dataloaders(data)"
   ]
  },
  {
   "cell_type": "code",
   "execution_count": null,
   "metadata": {},
   "outputs": [],
   "source": [
    "assert dls.vocab[0] == dls_bwd.vocab[0]"
   ]
  },
  {
   "cell_type": "code",
   "execution_count": 40,
   "metadata": {},
   "outputs": [],
   "source": [
    "del(dls)"
   ]
  },
  {
   "cell_type": "code",
   "execution_count": 18,
   "metadata": {},
   "outputs": [],
   "source": [
    "torch.save(dls_bwd, \"./data/dls_bwd.pth\")"
   ]
  },
  {
   "cell_type": "code",
   "execution_count": 41,
   "metadata": {},
   "outputs": [],
   "source": [
    "dls_bwd = torch.load(\"./data/dls_bwd.pth\")"
   ]
  },
  {
   "cell_type": "code",
   "execution_count": 42,
   "metadata": {},
   "outputs": [],
   "source": [
    "learn = text_classifier_learner(dls_bwd, AWD_LSTM, path=Path(\".\"), drop_mult=1., \n",
    "                                metrics=[accuracy, f1])"
   ]
  },
  {
   "cell_type": "code",
   "execution_count": 43,
   "metadata": {},
   "outputs": [
    {
     "data": {
      "text/plain": [
       "<fastai.text.learner.TextLearner at 0x7f8561e22cd0>"
      ]
     },
     "execution_count": 43,
     "metadata": {},
     "output_type": "execute_result"
    }
   ],
   "source": [
    "learn.load_encoder(\"best_bwd_lm_enc\")"
   ]
  },
  {
   "cell_type": "code",
   "execution_count": 44,
   "metadata": {},
   "outputs": [
    {
     "data": {
      "text/html": [
       "<table border=\"1\" class=\"dataframe\">\n",
       "  <thead>\n",
       "    <tr style=\"text-align: left;\">\n",
       "      <th>epoch</th>\n",
       "      <th>train_loss</th>\n",
       "      <th>valid_loss</th>\n",
       "      <th>accuracy</th>\n",
       "      <th>f1_score</th>\n",
       "      <th>time</th>\n",
       "    </tr>\n",
       "  </thead>\n",
       "  <tbody>\n",
       "    <tr>\n",
       "      <td>0</td>\n",
       "      <td>None</td>\n",
       "      <td>None</td>\n",
       "      <td>None</td>\n",
       "      <td>00:08</td>\n",
       "    </tr>\n",
       "  </tbody>\n",
       "</table>"
      ],
      "text/plain": [
       "<IPython.core.display.HTML object>"
      ]
     },
     "metadata": {},
     "output_type": "display_data"
    },
    {
     "data": {
      "text/plain": [
       "SequentialRNN (Input shape: ['64 x 4867'])\n",
       "================================================================\n",
       "Layer (type)         Output Shape         Param #    Trainable \n",
       "================================================================\n",
       "LSTM                 ['64 x 43 x 1152',   1,852,416  False     \n",
       "________________________________________________________________\n",
       "LSTM                 ['64 x 43 x 1152',   5,317,632  False     \n",
       "________________________________________________________________\n",
       "LSTM                 ['64 x 43 x 400', \"  1,846,400  False     \n",
       "________________________________________________________________\n",
       "RNNDropout           64 x 43 x 400        0          False     \n",
       "________________________________________________________________\n",
       "RNNDropout           64 x 43 x 1152       0          False     \n",
       "________________________________________________________________\n",
       "RNNDropout           64 x 43 x 1152       0          False     \n",
       "________________________________________________________________\n",
       "BatchNorm1d          64 x 1200            2,400      True      \n",
       "________________________________________________________________\n",
       "Dropout              64 x 1200            0          False     \n",
       "________________________________________________________________\n",
       "Linear               64 x 50              60,000     True      \n",
       "________________________________________________________________\n",
       "ReLU                 64 x 50              0          False     \n",
       "________________________________________________________________\n",
       "BatchNorm1d          64 x 50              100        True      \n",
       "________________________________________________________________\n",
       "Dropout              64 x 50              0          False     \n",
       "________________________________________________________________\n",
       "Linear               64 x 6               300        True      \n",
       "________________________________________________________________\n",
       "\n",
       "Total params: 9,079,248\n",
       "Total trainable params: 62,800\n",
       "Total non-trainable params: 9,016,448\n",
       "\n",
       "Optimizer used: <function Adam at 0x7f8bf00531f0>\n",
       "Loss function: FlattenedLoss of CrossEntropyLoss()\n",
       "\n",
       "Model frozen up to parameter group #4\n",
       "\n",
       "Callbacks:\n",
       "  - TrainEvalCallback\n",
       "  - Recorder\n",
       "  - ProgressCallback\n",
       "  - ModelResetter\n",
       "  - RNNRegularizer"
      ]
     },
     "execution_count": 44,
     "metadata": {},
     "output_type": "execute_result"
    }
   ],
   "source": [
    "learn.freeze()\n",
    "learn.summary()"
   ]
  },
  {
   "cell_type": "code",
   "execution_count": 45,
   "metadata": {},
   "outputs": [
    {
     "data": {
      "text/html": [],
      "text/plain": [
       "<IPython.core.display.HTML object>"
      ]
     },
     "metadata": {},
     "output_type": "display_data"
    },
    {
     "data": {
      "text/plain": [
       "SuggestedLRs(lr_min=0.07585775852203369, lr_steep=0.0691830962896347)"
      ]
     },
     "execution_count": 45,
     "metadata": {},
     "output_type": "execute_result"
    },
    {
     "data": {
      "image/png": "[encoded data removed]",
      "text/plain": [
       "<Figure size 432x288 with 1 Axes>"
      ]
     },
     "metadata": {
      "needs_background": "light"
     },
     "output_type": "display_data"
    }
   ],
   "source": [
    "learn.lr_find()"
   ]
  },
  {
   "cell_type": "code",
   "execution_count": 46,
   "metadata": {},
   "outputs": [
    {
     "data": {
      "text/html": [
       "<table border=\"1\" class=\"dataframe\">\n",
       "  <thead>\n",
       "    <tr style=\"text-align: left;\">\n",
       "      <th>epoch</th>\n",
       "      <th>train_loss</th>\n",
       "      <th>valid_loss</th>\n",
       "      <th>accuracy</th>\n",
       "      <th>f1_score</th>\n",
       "      <th>time</th>\n",
       "    </tr>\n",
       "  </thead>\n",
       "  <tbody>\n",
       "    <tr>\n",
       "      <td>0</td>\n",
       "      <td>0.393218</td>\n",
       "      <td>0.309562</td>\n",
       "      <td>0.905399</td>\n",
       "      <td>0.403396</td>\n",
       "      <td>09:54</td>\n",
       "    </tr>\n",
       "  </tbody>\n",
       "</table>"
      ],
      "text/plain": [
       "<IPython.core.display.HTML object>"
      ]
     },
     "metadata": {},
     "output_type": "display_data"
    }
   ],
   "source": [
    "learn.fit_one_cycle(1, 5e-2)"
   ]
  },
  {
   "cell_type": "code",
   "execution_count": 47,
   "metadata": {},
   "outputs": [
    {
     "data": {
      "text/html": [
       "<table border=\"1\" class=\"dataframe\">\n",
       "  <thead>\n",
       "    <tr style=\"text-align: left;\">\n",
       "      <th>epoch</th>\n",
       "      <th>train_loss</th>\n",
       "      <th>valid_loss</th>\n",
       "      <th>accuracy</th>\n",
       "      <th>f1_score</th>\n",
       "      <th>time</th>\n",
       "    </tr>\n",
       "  </thead>\n",
       "  <tbody>\n",
       "    <tr>\n",
       "      <td>0</td>\n",
       "      <td>0.231894</td>\n",
       "      <td>0.238411</td>\n",
       "      <td>0.929646</td>\n",
       "      <td>0.625445</td>\n",
       "      <td>10:39</td>\n",
       "    </tr>\n",
       "  </tbody>\n",
       "</table>"
      ],
      "text/plain": [
       "<IPython.core.display.HTML object>"
      ]
     },
     "metadata": {},
     "output_type": "display_data"
    }
   ],
   "source": [
    "learn.freeze_to(-2)\n",
    "learn.fit_one_cycle(1, slice(1e-2/(2.6**4),1e-2))\n"
   ]
  },
  {
   "cell_type": "code",
   "execution_count": 48,
   "metadata": {},
   "outputs": [
    {
     "data": {
      "text/html": [
       "<table border=\"1\" class=\"dataframe\">\n",
       "  <thead>\n",
       "    <tr style=\"text-align: left;\">\n",
       "      <th>epoch</th>\n",
       "      <th>train_loss</th>\n",
       "      <th>valid_loss</th>\n",
       "      <th>accuracy</th>\n",
       "      <th>f1_score</th>\n",
       "      <th>time</th>\n",
       "    </tr>\n",
       "  </thead>\n",
       "  <tbody>\n",
       "    <tr>\n",
       "      <td>0</td>\n",
       "      <td>0.201917</td>\n",
       "      <td>0.215348</td>\n",
       "      <td>0.932865</td>\n",
       "      <td>0.660921</td>\n",
       "      <td>11:27</td>\n",
       "    </tr>\n",
       "  </tbody>\n",
       "</table>"
      ],
      "text/plain": [
       "<IPython.core.display.HTML object>"
      ]
     },
     "metadata": {},
     "output_type": "display_data"
    }
   ],
   "source": [
    "learn.freeze_to(-3)\n",
    "learn.fit_one_cycle(1, slice(5e-3/(2.6**4),5e-3))"
   ]
  },
  {
   "cell_type": "code",
   "execution_count": 49,
   "metadata": {},
   "outputs": [],
   "source": [
    "learn.add_cbs([SaveModelCallback(monitor='f1_score', fname='best_bwd_clf'),\n",
    "                                       ShowGraphCallback()])"
   ]
  },
  {
   "cell_type": "code",
   "execution_count": 50,
   "metadata": {},
   "outputs": [
    {
     "data": {
      "text/html": [
       "<table border=\"1\" class=\"dataframe\">\n",
       "  <thead>\n",
       "    <tr style=\"text-align: left;\">\n",
       "      <th>epoch</th>\n",
       "      <th>train_loss</th>\n",
       "      <th>valid_loss</th>\n",
       "      <th>accuracy</th>\n",
       "      <th>f1_score</th>\n",
       "      <th>time</th>\n",
       "    </tr>\n",
       "  </thead>\n",
       "  <tbody>\n",
       "    <tr>\n",
       "      <td>0</td>\n",
       "      <td>0.188711</td>\n",
       "      <td>0.213327</td>\n",
       "      <td>0.934734</td>\n",
       "      <td>0.676217</td>\n",
       "      <td>12:35</td>\n",
       "    </tr>\n",
       "    <tr>\n",
       "      <td>1</td>\n",
       "      <td>0.194679</td>\n",
       "      <td>0.222338</td>\n",
       "      <td>0.934238</td>\n",
       "      <td>0.661876</td>\n",
       "      <td>12:36</td>\n",
       "    </tr>\n",
       "    <tr>\n",
       "      <td>2</td>\n",
       "      <td>0.186446</td>\n",
       "      <td>0.206793</td>\n",
       "      <td>0.938755</td>\n",
       "      <td>0.704440</td>\n",
       "      <td>12:33</td>\n",
       "    </tr>\n",
       "    <tr>\n",
       "      <td>3</td>\n",
       "      <td>0.167717</td>\n",
       "      <td>0.196710</td>\n",
       "      <td>0.940487</td>\n",
       "      <td>0.693081</td>\n",
       "      <td>12:32</td>\n",
       "    </tr>\n",
       "    <tr>\n",
       "      <td>4</td>\n",
       "      <td>0.165327</td>\n",
       "      <td>0.197576</td>\n",
       "      <td>0.941088</td>\n",
       "      <td>0.695771</td>\n",
       "      <td>12:32</td>\n",
       "    </tr>\n",
       "    <tr>\n",
       "      <td>5</td>\n",
       "      <td>0.156682</td>\n",
       "      <td>0.192896</td>\n",
       "      <td>0.942651</td>\n",
       "      <td>0.706700</td>\n",
       "      <td>12:33</td>\n",
       "    </tr>\n",
       "    <tr>\n",
       "      <td>6</td>\n",
       "      <td>0.149122</td>\n",
       "      <td>0.204121</td>\n",
       "      <td>0.941416</td>\n",
       "      <td>0.702907</td>\n",
       "      <td>12:31</td>\n",
       "    </tr>\n",
       "    <tr>\n",
       "      <td>7</td>\n",
       "      <td>0.134556</td>\n",
       "      <td>0.193896</td>\n",
       "      <td>0.942714</td>\n",
       "      <td>0.719654</td>\n",
       "      <td>12:27</td>\n",
       "    </tr>\n",
       "    <tr>\n",
       "      <td>8</td>\n",
       "      <td>0.127048</td>\n",
       "      <td>0.194037</td>\n",
       "      <td>0.944456</td>\n",
       "      <td>0.735753</td>\n",
       "      <td>12:28</td>\n",
       "    </tr>\n",
       "    <tr>\n",
       "      <td>9</td>\n",
       "      <td>0.143782</td>\n",
       "      <td>0.192365</td>\n",
       "      <td>0.942724</td>\n",
       "      <td>0.721261</td>\n",
       "      <td>12:31</td>\n",
       "    </tr>\n",
       "    <tr>\n",
       "      <td>10</td>\n",
       "      <td>0.145496</td>\n",
       "      <td>0.218754</td>\n",
       "      <td>0.939389</td>\n",
       "      <td>0.706825</td>\n",
       "      <td>12:28</td>\n",
       "    </tr>\n",
       "    <tr>\n",
       "      <td>11</td>\n",
       "      <td>0.135437</td>\n",
       "      <td>0.216239</td>\n",
       "      <td>0.942471</td>\n",
       "      <td>0.722312</td>\n",
       "      <td>12:29</td>\n",
       "    </tr>\n",
       "    <tr>\n",
       "      <td>12</td>\n",
       "      <td>0.133896</td>\n",
       "      <td>0.237454</td>\n",
       "      <td>0.941774</td>\n",
       "      <td>0.712486</td>\n",
       "      <td>12:27</td>\n",
       "    </tr>\n",
       "    <tr>\n",
       "      <td>13</td>\n",
       "      <td>0.118714</td>\n",
       "      <td>0.193309</td>\n",
       "      <td>0.944244</td>\n",
       "      <td>0.724168</td>\n",
       "      <td>12:29</td>\n",
       "    </tr>\n",
       "    <tr>\n",
       "      <td>14</td>\n",
       "      <td>0.133705</td>\n",
       "      <td>0.236524</td>\n",
       "      <td>0.943136</td>\n",
       "      <td>0.719177</td>\n",
       "      <td>12:27</td>\n",
       "    </tr>\n",
       "  </tbody>\n",
       "</table>"
      ],
      "text/plain": [
       "<IPython.core.display.HTML object>"
      ]
     },
     "metadata": {},
     "output_type": "display_data"
    },
    {
     "name": "stdout",
     "output_type": "stream",
     "text": [
      "Better model found at epoch 0 with f1_score value: 0.6762172591903233.\n"
     ]
    },
    {
     "data": {
      "image/png": "[encoded data removed]",
      "text/plain": [
       "<Figure size 432x288 with 1 Axes>"
      ]
     },
     "metadata": {},
     "output_type": "display_data"
    },
    {
     "name": "stdout",
     "output_type": "stream",
     "text": [
      "Better model found at epoch 2 with f1_score value: 0.704440032409153.\n",
      "Better model found at epoch 5 with f1_score value: 0.7066998633113876.\n",
      "Better model found at epoch 7 with f1_score value: 0.7196541812669176.\n",
      "Better model found at epoch 8 with f1_score value: 0.7357533346411144.\n"
     ]
    }
   ],
   "source": [
    "learn.unfreeze()\n",
    "learn.fit_one_cycle(15, slice(1e-3/(2.6**4),1e-3))"
   ]
  },
  {
   "cell_type": "code",
   "execution_count": 29,
   "metadata": {},
   "outputs": [],
   "source": [
    "learn = text_classifier_learner(dls_bwd, AWD_LSTM, path=Path(\".\"), drop_mult=1., \n",
    "                                loss_func=CrossEntropyLossFlat(weight=class_weights),\n",
    "                                metrics=[accuracy, f1])"
   ]
  },
  {
   "cell_type": "code",
   "execution_count": 30,
   "metadata": {},
   "outputs": [
    {
     "data": {
      "text/plain": [
       "<fastai.text.learner.TextLearner at 0x7fbd09bc03d0>"
      ]
     },
     "execution_count": 30,
     "metadata": {},
     "output_type": "execute_result"
    }
   ],
   "source": [
    "learn.load_encoder(\"lstm_lm_1E+3E+3E_enc_bwd\")"
   ]
  },
  {
   "cell_type": "code",
   "execution_count": 31,
   "metadata": {},
   "outputs": [
    {
     "data": {
      "text/html": [
       "<table border=\"1\" class=\"dataframe\">\n",
       "  <thead>\n",
       "    <tr style=\"text-align: left;\">\n",
       "      <th>epoch</th>\n",
       "      <th>train_loss</th>\n",
       "      <th>valid_loss</th>\n",
       "      <th>accuracy</th>\n",
       "      <th>f1_score</th>\n",
       "      <th>time</th>\n",
       "    </tr>\n",
       "  </thead>\n",
       "  <tbody>\n",
       "    <tr>\n",
       "      <td>0</td>\n",
       "      <td>None</td>\n",
       "      <td>None</td>\n",
       "      <td>None</td>\n",
       "      <td>00:00</td>\n",
       "    </tr>\n",
       "  </tbody>\n",
       "</table>"
      ],
      "text/plain": [
       "<IPython.core.display.HTML object>"
      ]
     },
     "metadata": {},
     "output_type": "display_data"
    },
    {
     "data": {
      "text/plain": [
       "SequentialRNN (Input shape: ['64 x 4867'])\n",
       "================================================================\n",
       "Layer (type)         Output Shape         Param #    Trainable \n",
       "================================================================\n",
       "LSTM                 ['64 x 43 x 1152',   1,852,416  False     \n",
       "________________________________________________________________\n",
       "LSTM                 ['64 x 43 x 1152',   5,317,632  False     \n",
       "________________________________________________________________\n",
       "LSTM                 ['64 x 43 x 400', \"  1,846,400  False     \n",
       "________________________________________________________________\n",
       "RNNDropout           64 x 43 x 400        0          False     \n",
       "________________________________________________________________\n",
       "RNNDropout           64 x 43 x 1152       0          False     \n",
       "________________________________________________________________\n",
       "RNNDropout           64 x 43 x 1152       0          False     \n",
       "________________________________________________________________\n",
       "BatchNorm1d          64 x 1200            2,400      True      \n",
       "________________________________________________________________\n",
       "Dropout              64 x 1200            0          False     \n",
       "________________________________________________________________\n",
       "Linear               64 x 50              60,000     True      \n",
       "________________________________________________________________\n",
       "ReLU                 64 x 50              0          False     \n",
       "________________________________________________________________\n",
       "BatchNorm1d          64 x 50              100        True      \n",
       "________________________________________________________________\n",
       "Dropout              64 x 50              0          False     \n",
       "________________________________________________________________\n",
       "Linear               64 x 6               300        True      \n",
       "________________________________________________________________\n",
       "\n",
       "Total params: 9,079,248\n",
       "Total trainable params: 62,800\n",
       "Total non-trainable params: 9,016,448\n",
       "\n",
       "Optimizer used: <function Adam at 0x7fbf9d4df1f0>\n",
       "Loss function: FlattenedLoss of CrossEntropyLoss()\n",
       "\n",
       "Model frozen up to parameter group #4\n",
       "\n",
       "Callbacks:\n",
       "  - TrainEvalCallback\n",
       "  - Recorder\n",
       "  - ProgressCallback\n",
       "  - ModelResetter\n",
       "  - RNNRegularizer"
      ]
     },
     "execution_count": 31,
     "metadata": {},
     "output_type": "execute_result"
    }
   ],
   "source": [
    "learn.freeze()\n",
    "learn.summary()"
   ]
  },
  {
   "cell_type": "code",
   "execution_count": 32,
   "metadata": {},
   "outputs": [
    {
     "data": {
      "text/html": [],
      "text/plain": [
       "<IPython.core.display.HTML object>"
      ]
     },
     "metadata": {},
     "output_type": "display_data"
    },
    {
     "data": {
      "text/plain": [
       "SuggestedLRs(lr_min=0.002754228748381138, lr_steep=7.585775847473997e-07)"
      ]
     },
     "execution_count": 32,
     "metadata": {},
     "output_type": "execute_result"
    },
    {
     "data": {
      "image/png": "[encoded data removed]",
      "text/plain": [
       "<Figure size 432x288 with 1 Axes>"
      ]
     },
     "metadata": {
      "needs_background": "light"
     },
     "output_type": "display_data"
    }
   ],
   "source": [
    "learn.lr_find()"
   ]
  },
  {
   "cell_type": "code",
   "execution_count": 33,
   "metadata": {},
   "outputs": [
    {
     "data": {
      "text/html": [
       "<table border=\"1\" class=\"dataframe\">\n",
       "  <thead>\n",
       "    <tr style=\"text-align: left;\">\n",
       "      <th>epoch</th>\n",
       "      <th>train_loss</th>\n",
       "      <th>valid_loss</th>\n",
       "      <th>accuracy</th>\n",
       "      <th>f1_score</th>\n",
       "      <th>time</th>\n",
       "    </tr>\n",
       "  </thead>\n",
       "  <tbody>\n",
       "    <tr>\n",
       "      <td>0</td>\n",
       "      <td>1.076835</td>\n",
       "      <td>0.873939</td>\n",
       "      <td>0.610820</td>\n",
       "      <td>0.300344</td>\n",
       "      <td>06:10</td>\n",
       "    </tr>\n",
       "  </tbody>\n",
       "</table>"
      ],
      "text/plain": [
       "<IPython.core.display.HTML object>"
      ]
     },
     "metadata": {},
     "output_type": "display_data"
    }
   ],
   "source": [
    "learn.fit_one_cycle(1, 2e-2)"
   ]
  },
  {
   "cell_type": "code",
   "execution_count": 34,
   "metadata": {},
   "outputs": [
    {
     "data": {
      "text/html": [
       "<table border=\"1\" class=\"dataframe\">\n",
       "  <thead>\n",
       "    <tr style=\"text-align: left;\">\n",
       "      <th>epoch</th>\n",
       "      <th>train_loss</th>\n",
       "      <th>valid_loss</th>\n",
       "      <th>accuracy</th>\n",
       "      <th>f1_score</th>\n",
       "      <th>time</th>\n",
       "    </tr>\n",
       "  </thead>\n",
       "  <tbody>\n",
       "    <tr>\n",
       "      <td>0</td>\n",
       "      <td>0.633418</td>\n",
       "      <td>0.688326</td>\n",
       "      <td>0.649570</td>\n",
       "      <td>0.347064</td>\n",
       "      <td>07:11</td>\n",
       "    </tr>\n",
       "  </tbody>\n",
       "</table>"
      ],
      "text/plain": [
       "<IPython.core.display.HTML object>"
      ]
     },
     "metadata": {},
     "output_type": "display_data"
    }
   ],
   "source": [
    "learn.freeze_to(-2)\n",
    "learn.fit_one_cycle(1, slice(1e-2/(2.6**4),1e-2))\n"
   ]
  },
  {
   "cell_type": "code",
   "execution_count": 35,
   "metadata": {},
   "outputs": [
    {
     "data": {
      "text/html": [
       "<table border=\"1\" class=\"dataframe\">\n",
       "  <thead>\n",
       "    <tr style=\"text-align: left;\">\n",
       "      <th>epoch</th>\n",
       "      <th>train_loss</th>\n",
       "      <th>valid_loss</th>\n",
       "      <th>accuracy</th>\n",
       "      <th>f1_score</th>\n",
       "      <th>time</th>\n",
       "    </tr>\n",
       "  </thead>\n",
       "  <tbody>\n",
       "    <tr>\n",
       "      <td>0</td>\n",
       "      <td>0.557222</td>\n",
       "      <td>0.628877</td>\n",
       "      <td>0.698253</td>\n",
       "      <td>0.392610</td>\n",
       "      <td>10:05</td>\n",
       "    </tr>\n",
       "  </tbody>\n",
       "</table>"
      ],
      "text/plain": [
       "<IPython.core.display.HTML object>"
      ]
     },
     "metadata": {},
     "output_type": "display_data"
    }
   ],
   "source": [
    "learn.freeze_to(-3)\n",
    "learn.fit_one_cycle(1, slice(5e-3/(2.6**4),5e-3))"
   ]
  },
  {
   "cell_type": "code",
   "execution_count": null,
   "metadata": {},
   "outputs": [
    {
     "data": {
      "text/html": [
       "\n",
       "    <div>\n",
       "        <style>\n",
       "            /* Turns off some styling */\n",
       "            progress {\n",
       "                /* gets rid of default border in Firefox and Opera. */\n",
       "                border: none;\n",
       "                /* Needs to be in here for Safari polyfill so background images work as expected. */\n",
       "                background-size: auto;\n",
       "            }\n",
       "            .progress-bar-interrupted, .progress-bar-interrupted::-webkit-progress-bar {\n",
       "                background: #F44336;\n",
       "            }\n",
       "        </style>\n",
       "      <progress value='1' class='' max='2' style='width:300px; height:20px; vertical-align: middle;'></progress>\n",
       "      50.00% [1/2 12:26<12:26]\n",
       "    </div>\n",
       "    \n",
       "<table border=\"1\" class=\"dataframe\">\n",
       "  <thead>\n",
       "    <tr style=\"text-align: left;\">\n",
       "      <th>epoch</th>\n",
       "      <th>train_loss</th>\n",
       "      <th>valid_loss</th>\n",
       "      <th>accuracy</th>\n",
       "      <th>f1_score</th>\n",
       "      <th>time</th>\n",
       "    </tr>\n",
       "  </thead>\n",
       "  <tbody>\n",
       "    <tr>\n",
       "      <td>0</td>\n",
       "      <td>0.458864</td>\n",
       "      <td>0.582287</td>\n",
       "      <td>0.751000</td>\n",
       "      <td>0.434046</td>\n",
       "      <td>12:26</td>\n",
       "    </tr>\n",
       "  </tbody>\n",
       "</table><p>\n",
       "\n",
       "    <div>\n",
       "        <style>\n",
       "            /* Turns off some styling */\n",
       "            progress {\n",
       "                /* gets rid of default border in Firefox and Opera. */\n",
       "                border: none;\n",
       "                /* Needs to be in here for Safari polyfill so background images work as expected. */\n",
       "                background-size: auto;\n",
       "            }\n",
       "            .progress-bar-interrupted, .progress-bar-interrupted::-webkit-progress-bar {\n",
       "                background: #F44336;\n",
       "            }\n",
       "        </style>\n",
       "      <progress value='61' class='' max='1481' style='width:300px; height:20px; vertical-align: middle;'></progress>\n",
       "      4.12% [61/1481 00:13<05:19 0.5083]\n",
       "    </div>\n",
       "    "
      ],
      "text/plain": [
       "<IPython.core.display.HTML object>"
      ]
     },
     "metadata": {},
     "output_type": "display_data"
    }
   ],
   "source": [
    "learn.unfreeze()\n",
    "learn.fit_one_cycle(2, slice(1e-3/(2.6**4),1e-3))"
   ]
  },
  {
   "cell_type": "code",
   "execution_count": 38,
   "metadata": {},
   "outputs": [
    {
     "data": {
      "image/png": "[encoded data removed]",
      "text/plain": [
       "<Figure size 432x288 with 1 Axes>"
      ]
     },
     "metadata": {
      "needs_background": "light"
     },
     "output_type": "display_data"
    }
   ],
   "source": [
    "learn.recorder.plot_loss()"
   ]
  },
  {
   "cell_type": "markdown",
   "metadata": {},
   "source": [
    "### Evaluate"
   ]
  },
  {
   "cell_type": "code",
   "execution_count": 8,
   "metadata": {},
   "outputs": [],
   "source": [
    "dls = torch.load(\"./data/dls.pth\")"
   ]
  },
  {
   "cell_type": "code",
   "execution_count": 8,
   "metadata": {},
   "outputs": [],
   "source": [
    "test_csv[\"is_valid\"]=True"
   ]
  },
  {
   "cell_type": "code",
   "execution_count": 9,
   "metadata": {},
   "outputs": [
    {
     "data": {
      "text/html": [],
      "text/plain": [
       "<IPython.core.display.HTML object>"
      ]
     },
     "metadata": {},
     "output_type": "display_data"
    },
    {
     "name": "stderr",
     "output_type": "stream",
     "text": [
      "/mnt/home/peluz/victor-visual-text/fastai2/lib/python3.8/site-packages/numpy/core/_asarray.py:83: VisibleDeprecationWarning: Creating an ndarray from ragged nested sequences (which is a list-or-tuple of lists-or-tuples-or ndarrays with different lengths or shapes) is deprecated. If you meant to do this, you must specify 'dtype=object' when creating the ndarray\n",
      "  return array(a, dtype, copy=False, order=order)\n"
     ]
    }
   ],
   "source": [
    "test_items = tokenize_df(test_csv, \"body\", tok=dls.tok)"
   ]
  },
  {
   "cell_type": "code",
   "execution_count": 10,
   "metadata": {},
   "outputs": [],
   "source": [
    "test_dl = dls.test_dl(test_items[0], with_labels=True)"
   ]
  },
  {
   "cell_type": "code",
   "execution_count": 11,
   "metadata": {},
   "outputs": [],
   "source": [
    "assert test_dl.vocab  == dls.vocab"
   ]
  },
  {
   "cell_type": "code",
   "execution_count": 9,
   "metadata": {},
   "outputs": [],
   "source": [
    "learn_fwd = text_classifier_learner(dls, AWD_LSTM, path=Path(\".\"), drop_mult=1., \n",
    "                                    metrics=[accuracy, f1])"
   ]
  },
  {
   "cell_type": "code",
   "execution_count": 12,
   "metadata": {},
   "outputs": [
    {
     "data": {
      "text/plain": [
       "<fastai.text.learner.TextLearner at 0x7f7272c54400>"
      ]
     },
     "execution_count": 12,
     "metadata": {},
     "output_type": "execute_result"
    }
   ],
   "source": [
    "learn_fwd.load(\"best_fwd_clf\")"
   ]
  },
  {
   "cell_type": "code",
   "execution_count": 16,
   "metadata": {},
   "outputs": [
    {
     "data": {
      "text/html": [],
      "text/plain": [
       "<IPython.core.display.HTML object>"
      ]
     },
     "metadata": {},
     "output_type": "display_data"
    },
    {
     "name": "stdout",
     "output_type": "stream",
     "text": [
      "                                  precision    recall  f1-score   support\n",
      "\n",
      "          acordao_de_2_instancia     0.7203    0.9341    0.8134       273\n",
      "agravo_em_recurso_extraordinario     0.6623    0.4677    0.5482      1841\n",
      "     despacho_de_admissibilidade     0.6914    0.6111    0.6488       198\n",
      "                          outros     0.9637    0.9796    0.9716     85408\n",
      "                   peticao_do_RE     0.8056    0.7068    0.7530      6331\n",
      "                        sentenca     0.8312    0.7512    0.7892      1475\n",
      "\n",
      "                        accuracy                         0.9472     95526\n",
      "                       macro avg     0.7791    0.7417    0.7540     95526\n",
      "                    weighted avg     0.9441    0.9472    0.9450     95526\n",
      "\n"
     ]
    }
   ],
   "source": [
    "evaluate(learn_fwd, test_dl)"
   ]
  },
  {
   "cell_type": "code",
   "execution_count": 10,
   "metadata": {},
   "outputs": [],
   "source": [
    "dls_bwd = torch.load(\"./data/dls_bwd.pth\")"
   ]
  },
  {
   "cell_type": "code",
   "execution_count": 18,
   "metadata": {},
   "outputs": [],
   "source": [
    "test_dl_bwd = dls_bwd.test_dl(test_items[0], with_labels=True)"
   ]
  },
  {
   "cell_type": "code",
   "execution_count": 19,
   "metadata": {},
   "outputs": [],
   "source": [
    "assert test_dl_bwd.vocab  == dls_bwd.vocab; del(dls_bwd)"
   ]
  },
  {
   "cell_type": "code",
   "execution_count": null,
   "metadata": {},
   "outputs": [],
   "source": [
    "test_dl_bwd.show_batch()"
   ]
  },
  {
   "cell_type": "code",
   "execution_count": 11,
   "metadata": {},
   "outputs": [],
   "source": [
    "learn_bwd = text_classifier_learner(dls, AWD_LSTM, path=Path(\".\"), drop_mult=1., \n",
    "                                    metrics=[accuracy, f1])"
   ]
  },
  {
   "cell_type": "code",
   "execution_count": 13,
   "metadata": {},
   "outputs": [
    {
     "data": {
      "text/plain": [
       "<fastai.text.learner.TextLearner at 0x7f7140201220>"
      ]
     },
     "execution_count": 13,
     "metadata": {},
     "output_type": "execute_result"
    }
   ],
   "source": [
    "learn_bwd.load(\"best_bwd_clf\")"
   ]
  },
  {
   "cell_type": "code",
   "execution_count": 23,
   "metadata": {},
   "outputs": [
    {
     "data": {
      "text/html": [],
      "text/plain": [
       "<IPython.core.display.HTML object>"
      ]
     },
     "metadata": {},
     "output_type": "display_data"
    },
    {
     "name": "stdout",
     "output_type": "stream",
     "text": [
      "                                  precision    recall  f1-score   support\n",
      "\n",
      "          acordao_de_2_instancia     0.8255    0.9011    0.8616       273\n",
      "agravo_em_recurso_extraordinario     0.6467    0.4155    0.5060      1841\n",
      "     despacho_de_admissibilidade     0.6359    0.5909    0.6126       198\n",
      "                          outros     0.9602    0.9838    0.9718     85408\n",
      "                   peticao_do_RE     0.8348    0.6632    0.7392      6331\n",
      "                        sentenca     0.8200    0.7349    0.7751      1475\n",
      "\n",
      "                        accuracy                         0.9467     95526\n",
      "                       macro avg     0.7872    0.7149    0.7444     95526\n",
      "                    weighted avg     0.9426    0.9467    0.9433     95526\n",
      "\n"
     ]
    }
   ],
   "source": [
    "evaluate(learn_bwd, test_dl_bwd)"
   ]
  },
  {
   "cell_type": "code",
   "execution_count": 24,
   "metadata": {},
   "outputs": [
    {
     "data": {
      "text/html": [],
      "text/plain": [
       "<IPython.core.display.HTML object>"
      ]
     },
     "metadata": {},
     "output_type": "display_data"
    },
    {
     "data": {
      "text/html": [],
      "text/plain": [
       "<IPython.core.display.HTML object>"
      ]
     },
     "metadata": {},
     "output_type": "display_data"
    },
    {
     "name": "stdout",
     "output_type": "stream",
     "text": [
      "                                  precision    recall  f1-score   support\n",
      "\n",
      "          acordao_de_2_instancia     0.8039    0.9158    0.8562       273\n",
      "agravo_em_recurso_extraordinario     0.6628    0.4622    0.5446      1841\n",
      "     despacho_de_admissibilidade     0.6882    0.5909    0.6359       198\n",
      "                          outros     0.9621    0.9828    0.9723     85408\n",
      "                   peticao_do_RE     0.8352    0.6852    0.7528      6331\n",
      "                        sentenca     0.8405    0.7539    0.7949      1475\n",
      "\n",
      "                        accuracy                         0.9485     95526\n",
      "                       macro avg     0.7988    0.7318    0.7594     95526\n",
      "                    weighted avg     0.9450    0.9485    0.9458     95526\n",
      "\n"
     ]
    }
   ],
   "source": [
    "evaluate_ensemble(learn_fwd, learn_bwd, test_dl, test_dl_bwd)"
   ]
  },
  {
   "cell_type": "code",
   "execution_count": 14,
   "metadata": {},
   "outputs": [
    {
     "data": {
      "text/html": [],
      "text/plain": [
       "<IPython.core.display.HTML object>"
      ]
     },
     "metadata": {},
     "output_type": "display_data"
    },
    {
     "data": {
      "text/html": [],
      "text/plain": [
       "<IPython.core.display.HTML object>"
      ]
     },
     "metadata": {},
     "output_type": "display_data"
    },
    {
     "name": "stdout",
     "output_type": "stream",
     "text": [
      "                                  precision    recall  f1-score   support\n",
      "\n",
      "          acordao_de_2_instancia     0.7836    0.7993    0.7914       299\n",
      "agravo_em_recurso_extraordinario     0.6817    0.4374    0.5329      2149\n",
      "     despacho_de_admissibilidade     0.6821    0.6448    0.6629       183\n",
      "                          outros     0.9607    0.9816    0.9711     84104\n",
      "                   peticao_do_RE     0.8366    0.7355    0.7828      6364\n",
      "                        sentenca     0.8498    0.6987    0.7669      1636\n",
      "\n",
      "                        accuracy                         0.9467     94735\n",
      "                       macro avg     0.7991    0.7162    0.7513     94735\n",
      "                    weighted avg     0.9430    0.9467    0.9438     94735\n",
      "\n"
     ]
    }
   ],
   "source": [
    "evaluate_ensemble(learn_fwd, learn_bwd, dls.valid, dls_bwd.valid)"
   ]
  },
  {
   "cell_type": "code",
   "execution_count": null,
   "metadata": {},
   "outputs": [],
   "source": []
  }
 ],
 "metadata": {
  "kernelspec": {
   "display_name": "fastai2",
   "language": "python",
   "name": "fastai2"
  },
  "language_info": {
   "codemirror_mode": {
    "name": "ipython",
    "version": 3
   },
   "file_extension": ".py",
   "mimetype": "text/x-python",
   "name": "python",
   "nbconvert_exporter": "python",
   "pygments_lexer": "ipython3",
   "version": "3.8.5"
  }
 },
 "nbformat": 4,
 "nbformat_minor": 4
}
