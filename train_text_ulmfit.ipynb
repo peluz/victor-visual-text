{
 "cells": [
  {
   "cell_type": "code",
   "execution_count": 1,
   "metadata": {},
   "outputs": [],
   "source": [
    "%load_ext autoreload\n",
    "%autoreload 2\n",
    "\n",
    "from fastai.text.all import *\n",
    "import pandas as pd\n",
    "import torch\n",
    "from tqdm.notebook import tqdm"
   ]
  },
  {
   "cell_type": "code",
   "execution_count": 2,
   "metadata": {},
   "outputs": [],
   "source": [
    "seed = 42\n",
    "\n",
    "# python RNG\n",
    "import random\n",
    "random.seed(seed)\n",
    "\n",
    "# pytorch RNGs\n",
    "import torch\n",
    "torch.manual_seed(seed)\n",
    "torch.backends.cudnn.deterministic = True\n",
    "if torch.cuda.is_available(): torch.cuda.manual_seed_all(seed)\n",
    "\n",
    "# numpy RNG\n",
    "import numpy as np\n",
    "np.random.seed(seed)\n",
    "\n",
    "# tensorflow RNG\n",
    "# tf.random.set_seed(seed)"
   ]
  },
  {
   "cell_type": "code",
   "execution_count": 3,
   "metadata": {},
   "outputs": [],
   "source": [
    "data_path = Path(\"/mnt/nas/backups/08-07-2020/desktopg01/lisa/Data/CSV\")"
   ]
  },
  {
   "cell_type": "code",
   "execution_count": 4,
   "metadata": {},
   "outputs": [],
   "source": [
    "model_path=Path(\"./models\")"
   ]
  },
  {
   "cell_type": "code",
   "execution_count": 46,
   "metadata": {},
   "outputs": [],
   "source": [
    "train_csv = pd.read_csv(data_path/\"train_small.csv\", usecols=['document_type', 'body'])\n",
    "val_csv = pd.read_csv(data_path/\"validation_small.csv\", usecols=['document_type', 'body'])\n",
    "test_csv = pd.read_csv(data_path/\"test_small.csv\", usecols=['document_type', 'body'])"
   ]
  },
  {
   "cell_type": "code",
   "execution_count": 47,
   "metadata": {},
   "outputs": [
    {
     "data": {
      "text/html": [
       "<div>\n",
       "<style scoped>\n",
       "    .dataframe tbody tr th:only-of-type {\n",
       "        vertical-align: middle;\n",
       "    }\n",
       "\n",
       "    .dataframe tbody tr th {\n",
       "        vertical-align: top;\n",
       "    }\n",
       "\n",
       "    .dataframe thead th {\n",
       "        text-align: right;\n",
       "    }\n",
       "</style>\n",
       "<table border=\"1\" class=\"dataframe\">\n",
       "  <thead>\n",
       "    <tr style=\"text-align: right;\">\n",
       "      <th></th>\n",
       "      <th>document_type</th>\n",
       "      <th>body</th>\n",
       "      <th>is_valid</th>\n",
       "    </tr>\n",
       "  </thead>\n",
       "  <tbody>\n",
       "    <tr>\n",
       "      <th>0</th>\n",
       "      <td>outros</td>\n",
       "      <td>{\"tribunal justiça estado bahia poder judiciário salvador juizado cível defesa consumidor universo matutino projudi acm campus universidade salgado oliveira universo pituba salvador processo parte autora nailton lantyer cordeiro araujo parte atlantico fundo investimento direitos creditorios despacho vistos etc indefiro requerido pela parte demandante aguarde a sessão conciliação designada salvador de julho paulo alberto nunes chenaud juiz direito documento assinado eletronicamente\"}</td>\n",
       "      <td>False</td>\n",
       "    </tr>\n",
       "    <tr>\n",
       "      <th>1</th>\n",
       "      <td>outros</td>\n",
       "      <td>{\"excelentíssimo senhor doutor juiz direito juizado cível defesa consumidor universo comarca salvador autos processo º atlântico fundo investimento direitos creditórios não padronizados nova denominação crdg fundo investimento direitos creditórios não padronizados empresa inscrita cnpj sob º com sede av brigadeiro faria lima andar são paulo por seus advogados signatários nos autos ação epígrafe proposta por nailton lantyer cordeiro araujo vem respeitosamente presença vossa excelência inconformado com r sentença fls com fulcro ARTIGO_41 lei º interpor presente recurso inominado ser recebido...</td>\n",
       "      <td>False</td>\n",
       "    </tr>\n",
       "    <tr>\n",
       "      <th>2</th>\n",
       "      <td>outros</td>\n",
       "      <td>{\"razões recurso inominado recorrente atlantico fundo investimento direitos creditórios não padronizados recorrido nailton lantyer cordeiro araujo autos processo º origem jec comarca salvador colendo colégio recursal ilustres julgadores síntese demanda parte recorrida intentou presente demanda alegando síntese que teve seu nome indevidamente incluído cadastro proteção crédito que diligenciar sentido obter informações acerca inscrição verificou que negativação foi ordenada pelo recorrente sendo assim propôs presente demanda pleiteando exclusão seus dados spc serasa inexigibilidade débito o ...</td>\n",
       "      <td>False</td>\n",
       "    </tr>\n",
       "    <tr>\n",
       "      <th>3</th>\n",
       "      <td>outros</td>\n",
       "      <td>{\"empresa recorrente tornou credora dos débitos nome parte recorrida referente uma linha telefônica razão contrato cessão crédito entre empresa originalmente credora cedente o atlântico fundo investimentos direitos creditórios não padronizados ora cessionária com efeito caso não houve qualquer cobrança indevida afinal tornando a parte recorrida inadimplente vindo parte recorrente firmar contrato cessão direitos creditórios junto empresa credora recorrido totalmente legítima cobrança perpetrada cumpre esclarecer que época cessão parte recorrida estava inadimplente com empresa recorrente mot...</td>\n",
       "      <td>False</td>\n",
       "    </tr>\n",
       "    <tr>\n",
       "      <th>4</th>\n",
       "      <td>outros</td>\n",
       "      <td>{\"entretanto verdade parte apelante tornou titular crédito devido pela parte apelada por força um contrato cessão crédito celebrado com brasil telecom a seja que pese parte apelada não ter firmado inicialmente contrato diretamente junto apelante este tornou seu credor virtude aludido instrumento cessão crédito portanto caso seja comprovada alegação perpetrada pela parte apelada que o contrato que originou seu débito seja fraudulento quem deverá arcar com eventuais ônus a brasil telecom a não esta parte apelante que não foi quem contratou com parte apelada por sua vez parte apelada foi regu...</td>\n",
       "      <td>False</td>\n",
       "    </tr>\n",
       "  </tbody>\n",
       "</table>\n",
       "</div>"
      ],
      "text/plain": [
       "  document_type  \\\n",
       "0        outros   \n",
       "1        outros   \n",
       "2        outros   \n",
       "3        outros   \n",
       "4        outros   \n",
       "\n",
       "                                                                                                                                                                                                                                                                                                                                                                                                                                                                                                                                                                                                                      body  \\\n",
       "0                                                                                                                  {\"tribunal justiça estado bahia poder judiciário salvador juizado cível defesa consumidor universo matutino projudi acm campus universidade salgado oliveira universo pituba salvador processo parte autora nailton lantyer cordeiro araujo parte atlantico fundo investimento direitos creditorios despacho vistos etc indefiro requerido pela parte demandante aguarde a sessão conciliação designada salvador de julho paulo alberto nunes chenaud juiz direito documento assinado eletronicamente\"}   \n",
       "1  {\"excelentíssimo senhor doutor juiz direito juizado cível defesa consumidor universo comarca salvador autos processo º atlântico fundo investimento direitos creditórios não padronizados nova denominação crdg fundo investimento direitos creditórios não padronizados empresa inscrita cnpj sob º com sede av brigadeiro faria lima andar são paulo por seus advogados signatários nos autos ação epígrafe proposta por nailton lantyer cordeiro araujo vem respeitosamente presença vossa excelência inconformado com r sentença fls com fulcro ARTIGO_41 lei º interpor presente recurso inominado ser recebido...   \n",
       "2  {\"razões recurso inominado recorrente atlantico fundo investimento direitos creditórios não padronizados recorrido nailton lantyer cordeiro araujo autos processo º origem jec comarca salvador colendo colégio recursal ilustres julgadores síntese demanda parte recorrida intentou presente demanda alegando síntese que teve seu nome indevidamente incluído cadastro proteção crédito que diligenciar sentido obter informações acerca inscrição verificou que negativação foi ordenada pelo recorrente sendo assim propôs presente demanda pleiteando exclusão seus dados spc serasa inexigibilidade débito o ...   \n",
       "3  {\"empresa recorrente tornou credora dos débitos nome parte recorrida referente uma linha telefônica razão contrato cessão crédito entre empresa originalmente credora cedente o atlântico fundo investimentos direitos creditórios não padronizados ora cessionária com efeito caso não houve qualquer cobrança indevida afinal tornando a parte recorrida inadimplente vindo parte recorrente firmar contrato cessão direitos creditórios junto empresa credora recorrido totalmente legítima cobrança perpetrada cumpre esclarecer que época cessão parte recorrida estava inadimplente com empresa recorrente mot...   \n",
       "4  {\"entretanto verdade parte apelante tornou titular crédito devido pela parte apelada por força um contrato cessão crédito celebrado com brasil telecom a seja que pese parte apelada não ter firmado inicialmente contrato diretamente junto apelante este tornou seu credor virtude aludido instrumento cessão crédito portanto caso seja comprovada alegação perpetrada pela parte apelada que o contrato que originou seu débito seja fraudulento quem deverá arcar com eventuais ônus a brasil telecom a não esta parte apelante que não foi quem contratou com parte apelada por sua vez parte apelada foi regu...   \n",
       "\n",
       "   is_valid  \n",
       "0     False  \n",
       "1     False  \n",
       "2     False  \n",
       "3     False  \n",
       "4     False  "
      ]
     },
     "execution_count": 47,
     "metadata": {},
     "output_type": "execute_result"
    }
   ],
   "source": [
    "train_csv[\"is_valid\"] = False\n",
    "val_csv[\"is_valid\"] = True\n",
    "data = pd.concat([train_csv, val_csv]); data.head()"
   ]
  },
  {
   "cell_type": "code",
   "execution_count": null,
   "metadata": {},
   "outputs": [],
   "source": [
    "# dls_lm = TextDataLoaders.from_df(data, seed=seed, is_lm=True, text_col=\"body\",\n",
    "#                                  valid_col=\"is_valid\", tok_tfm=Tokenizer.from_df('body', tok=tok))"
   ]
  },
  {
   "cell_type": "code",
   "execution_count": null,
   "metadata": {},
   "outputs": [],
   "source": [
    "dls_lm = DataBlock(\n",
    "    blocks=(TextBlock.from_df('body', tok=SentencePieceTokenizer(), is_lm=True)),\n",
    "    get_x=ColReader('text'), splitter=ColSplitter()).dataloaders(data)"
   ]
  },
  {
   "cell_type": "code",
   "execution_count": null,
   "metadata": {},
   "outputs": [],
   "source": [
    "dls_lm.vocab[:15], len(dls_lm.vocab)"
   ]
  },
  {
   "cell_type": "code",
   "execution_count": null,
   "metadata": {},
   "outputs": [],
   "source": [
    "assert len(train_csv) == len(dls_lm.train_ds) and len(val_csv) ==len(dls_lm.valid_ds)"
   ]
  },
  {
   "cell_type": "code",
   "execution_count": null,
   "metadata": {},
   "outputs": [],
   "source": [
    "torch.save(dls_lm, \"./data/dls_lm.pth\")"
   ]
  },
  {
   "cell_type": "code",
   "execution_count": 5,
   "metadata": {},
   "outputs": [],
   "source": [
    "dls_lm = torch.load(\"./data/dls_lm.pth\")"
   ]
  },
  {
   "cell_type": "code",
   "execution_count": null,
   "metadata": {},
   "outputs": [],
   "source": [
    "dls_lm.show_batch()"
   ]
  },
  {
   "cell_type": "code",
   "execution_count": 32,
   "metadata": {},
   "outputs": [],
   "source": [
    "perplexity = Perplexity()\n",
    "f1 = F1Score(average='macro')"
   ]
  },
  {
   "cell_type": "code",
   "execution_count": null,
   "metadata": {},
   "outputs": [],
   "source": [
    "# config = awd_qrnn_lm_config.copy()\n",
    "# config['n_hid'] = 1550 #default 1152\n",
    "# config['n_layers'] = 4 #default 3"
   ]
  },
  {
   "cell_type": "code",
   "execution_count": null,
   "metadata": {},
   "outputs": [],
   "source": [
    "# lm_fns3 = ['pt_wt_sp15_multifit', 'pt_wt_vocab_sp15_multifit']\n",
    "# lm_fns3_bwd = ['pt_wt_sp15_multifit_bwd', 'pt_wt_vocab_sp15_multifit_bwd']"
   ]
  },
  {
   "cell_type": "code",
   "execution_count": null,
   "metadata": {},
   "outputs": [],
   "source": [
    "learn_lm = language_model_learner(dls_lm, AWD_LSTM, path=Path(\".\"), drop_mult=1., \n",
    "                                  metrics=[error_rate, accuracy, perplexity])"
   ]
  },
  {
   "cell_type": "code",
   "execution_count": null,
   "metadata": {},
   "outputs": [],
   "source": [
    "learn_lm.save_encoder(\"no_fine_tune_enc\")"
   ]
  },
  {
   "cell_type": "code",
   "execution_count": null,
   "metadata": {},
   "outputs": [],
   "source": [
    "TEXT = \"O Ministro\"\n",
    "N_WORDS = 40\n",
    "N_SENTENCES = 2\n",
    "preds = [learn_lm.predict(TEXT, N_WORDS, temperature=0.75) \n",
    "         for _ in range(N_SENTENCES)]"
   ]
  },
  {
   "cell_type": "code",
   "execution_count": null,
   "metadata": {},
   "outputs": [],
   "source": [
    "print(\"\\n\".join(preds))"
   ]
  },
  {
   "cell_type": "code",
   "execution_count": null,
   "metadata": {},
   "outputs": [],
   "source": [
    "learn_lm.freeze()\n",
    "learn_lm.summary()"
   ]
  },
  {
   "cell_type": "code",
   "execution_count": null,
   "metadata": {},
   "outputs": [],
   "source": [
    "learn_lm.lr_find()"
   ]
  },
  {
   "cell_type": "code",
   "execution_count": null,
   "metadata": {},
   "outputs": [],
   "source": [
    "learn_lm.fit_one_cycle(1, 1e-1)"
   ]
  },
  {
   "cell_type": "code",
   "execution_count": null,
   "metadata": {},
   "outputs": [],
   "source": [
    "learn_lm.recorder.plot_loss()"
   ]
  },
  {
   "cell_type": "code",
   "execution_count": null,
   "metadata": {},
   "outputs": [],
   "source": [
    "learn_lm.save('lstm_lm_1E')"
   ]
  },
  {
   "cell_type": "code",
   "execution_count": 10,
   "metadata": {},
   "outputs": [
    {
     "data": {
      "text/plain": [
       "<fastai.text.learner.LMLearner at 0x7fd9f0133700>"
      ]
     },
     "execution_count": 10,
     "metadata": {},
     "output_type": "execute_result"
    }
   ],
   "source": [
    "learn_lm.load(\"lstm_lm_1E\")"
   ]
  },
  {
   "cell_type": "code",
   "execution_count": 11,
   "metadata": {},
   "outputs": [],
   "source": [
    "learn_lm.unfreeze()"
   ]
  },
  {
   "cell_type": "code",
   "execution_count": 12,
   "metadata": {},
   "outputs": [
    {
     "data": {
      "text/html": [
       "<table border=\"1\" class=\"dataframe\">\n",
       "  <thead>\n",
       "    <tr style=\"text-align: left;\">\n",
       "      <th>epoch</th>\n",
       "      <th>train_loss</th>\n",
       "      <th>valid_loss</th>\n",
       "      <th>error_rate</th>\n",
       "      <th>accuracy</th>\n",
       "      <th>perplexity</th>\n",
       "      <th>time</th>\n",
       "    </tr>\n",
       "  </thead>\n",
       "  <tbody>\n",
       "    <tr>\n",
       "      <td>0</td>\n",
       "      <td>None</td>\n",
       "      <td>None</td>\n",
       "      <td>None</td>\n",
       "      <td>None</td>\n",
       "      <td>00:01</td>\n",
       "    </tr>\n",
       "  </tbody>\n",
       "</table>"
      ],
      "text/plain": [
       "<IPython.core.display.HTML object>"
      ]
     },
     "metadata": {},
     "output_type": "display_data"
    },
    {
     "data": {
      "text/plain": [
       "SequentialRNN (Input shape: ['64 x 72'])\n",
       "================================================================\n",
       "Layer (type)         Output Shape         Param #    Trainable \n",
       "================================================================\n",
       "LSTM                 ['64 x 72 x 1152',   1,852,416  True      \n",
       "________________________________________________________________\n",
       "LSTM                 ['64 x 72 x 1152',   5,317,632  True      \n",
       "________________________________________________________________\n",
       "LSTM                 ['64 x 72 x 400', \"  1,846,400  True      \n",
       "________________________________________________________________\n",
       "RNNDropout           64 x 72 x 400        0          False     \n",
       "________________________________________________________________\n",
       "RNNDropout           64 x 72 x 1152       0          False     \n",
       "________________________________________________________________\n",
       "RNNDropout           64 x 72 x 1152       0          False     \n",
       "________________________________________________________________\n",
       "Linear               64 x 72 x 30104      12,071,704 True      \n",
       "________________________________________________________________\n",
       "RNNDropout           64 x 72 x 400        0          False     \n",
       "________________________________________________________________\n",
       "\n",
       "Total params: 21,088,152\n",
       "Total trainable params: 21,088,152\n",
       "Total non-trainable params: 0\n",
       "\n",
       "Optimizer used: <function Adam at 0x7fdb6e30d1f0>\n",
       "Loss function: FlattenedLoss of CrossEntropyLoss()\n",
       "\n",
       "Model unfrozen\n",
       "\n",
       "Callbacks:\n",
       "  - TrainEvalCallback\n",
       "  - Recorder\n",
       "  - ProgressCallback\n",
       "  - ModelResetter\n",
       "  - RNNRegularizer"
      ]
     },
     "execution_count": 12,
     "metadata": {},
     "output_type": "execute_result"
    }
   ],
   "source": [
    "learn_lm.summary()"
   ]
  },
  {
   "cell_type": "code",
   "execution_count": null,
   "metadata": {},
   "outputs": [],
   "source": [
    "learn_lm.lr_find()"
   ]
  },
  {
   "cell_type": "code",
   "execution_count": 13,
   "metadata": {},
   "outputs": [
    {
     "data": {
      "text/html": [
       "<table border=\"1\" class=\"dataframe\">\n",
       "  <thead>\n",
       "    <tr style=\"text-align: left;\">\n",
       "      <th>epoch</th>\n",
       "      <th>train_loss</th>\n",
       "      <th>valid_loss</th>\n",
       "      <th>error_rate</th>\n",
       "      <th>accuracy</th>\n",
       "      <th>perplexity</th>\n",
       "      <th>time</th>\n",
       "    </tr>\n",
       "  </thead>\n",
       "  <tbody>\n",
       "    <tr>\n",
       "      <td>0</td>\n",
       "      <td>2.966244</td>\n",
       "      <td>2.813701</td>\n",
       "      <td>0.443039</td>\n",
       "      <td>0.556961</td>\n",
       "      <td>16.671509</td>\n",
       "      <td>44:03</td>\n",
       "    </tr>\n",
       "    <tr>\n",
       "      <td>1</td>\n",
       "      <td>2.675253</td>\n",
       "      <td>2.457869</td>\n",
       "      <td>0.384936</td>\n",
       "      <td>0.615065</td>\n",
       "      <td>11.679898</td>\n",
       "      <td>34:06</td>\n",
       "    </tr>\n",
       "    <tr>\n",
       "      <td>2</td>\n",
       "      <td>2.611775</td>\n",
       "      <td>2.390572</td>\n",
       "      <td>0.373849</td>\n",
       "      <td>0.626151</td>\n",
       "      <td>10.919739</td>\n",
       "      <td>33:42</td>\n",
       "    </tr>\n",
       "  </tbody>\n",
       "</table>"
      ],
      "text/plain": [
       "<IPython.core.display.HTML object>"
      ]
     },
     "metadata": {},
     "output_type": "display_data"
    }
   ],
   "source": [
    "learn_lm.fit_one_cycle(3, 1e-3)"
   ]
  },
  {
   "cell_type": "code",
   "execution_count": 14,
   "metadata": {},
   "outputs": [
    {
     "data": {
      "image/png": "[encoded data removed]",
      "text/plain": [
       "<Figure size 432x288 with 1 Axes>"
      ]
     },
     "metadata": {
      "needs_background": "light"
     },
     "output_type": "display_data"
    }
   ],
   "source": [
    "learn_lm.recorder.plot_loss()"
   ]
  },
  {
   "cell_type": "code",
   "execution_count": 15,
   "metadata": {},
   "outputs": [
    {
     "data": {
      "text/plain": [
       "Path('models/lstm_lm_1E+3E.pth')"
      ]
     },
     "execution_count": 15,
     "metadata": {},
     "output_type": "execute_result"
    }
   ],
   "source": [
    "learn_lm.save('lstm_lm_1E+3E')"
   ]
  },
  {
   "cell_type": "code",
   "execution_count": 16,
   "metadata": {},
   "outputs": [],
   "source": [
    "learn_lm.save_encoder('lstm_lm_1E+3E_enc')"
   ]
  },
  {
   "cell_type": "code",
   "execution_count": 20,
   "metadata": {},
   "outputs": [
    {
     "data": {
      "text/html": [],
      "text/plain": [
       "<IPython.core.display.HTML object>"
      ]
     },
     "metadata": {},
     "output_type": "display_data"
    },
    {
     "data": {
      "text/plain": [
       "SuggestedLRs(lr_min=0.0009120108559727668, lr_steep=8.31763736641733e-06)"
      ]
     },
     "execution_count": 20,
     "metadata": {},
     "output_type": "execute_result"
    },
    {
     "data": {
      "image/png": "[encoded data removed]",
      "text/plain": [
       "<Figure size 432x288 with 1 Axes>"
      ]
     },
     "metadata": {
      "needs_background": "light"
     },
     "output_type": "display_data"
    }
   ],
   "source": [
    "learn_lm.lr_find()"
   ]
  },
  {
   "cell_type": "code",
   "execution_count": 21,
   "metadata": {},
   "outputs": [
    {
     "data": {
      "text/html": [
       "<table border=\"1\" class=\"dataframe\">\n",
       "  <thead>\n",
       "    <tr style=\"text-align: left;\">\n",
       "      <th>epoch</th>\n",
       "      <th>train_loss</th>\n",
       "      <th>valid_loss</th>\n",
       "      <th>error_rate</th>\n",
       "      <th>accuracy</th>\n",
       "      <th>perplexity</th>\n",
       "      <th>time</th>\n",
       "    </tr>\n",
       "  </thead>\n",
       "  <tbody>\n",
       "    <tr>\n",
       "      <td>0</td>\n",
       "      <td>2.454777</td>\n",
       "      <td>2.338836</td>\n",
       "      <td>0.366251</td>\n",
       "      <td>0.633750</td>\n",
       "      <td>10.369164</td>\n",
       "      <td>33:51</td>\n",
       "    </tr>\n",
       "    <tr>\n",
       "      <td>1</td>\n",
       "      <td>2.371338</td>\n",
       "      <td>2.217347</td>\n",
       "      <td>0.348005</td>\n",
       "      <td>0.651997</td>\n",
       "      <td>9.182940</td>\n",
       "      <td>1:48:11</td>\n",
       "    </tr>\n",
       "    <tr>\n",
       "      <td>2</td>\n",
       "      <td>2.265793</td>\n",
       "      <td>2.180504</td>\n",
       "      <td>0.342098</td>\n",
       "      <td>0.657903</td>\n",
       "      <td>8.850764</td>\n",
       "      <td>2:10:31</td>\n",
       "    </tr>\n",
       "  </tbody>\n",
       "</table>"
      ],
      "text/plain": [
       "<IPython.core.display.HTML object>"
      ]
     },
     "metadata": {},
     "output_type": "display_data"
    }
   ],
   "source": [
    "learn_lm.fit_one_cycle(3, 1e-3)"
   ]
  },
  {
   "cell_type": "code",
   "execution_count": 22,
   "metadata": {},
   "outputs": [
    {
     "data": {
      "image/png": "[encoded data removed]",
      "text/plain": [
       "<Figure size 432x288 with 1 Axes>"
      ]
     },
     "metadata": {
      "needs_background": "light"
     },
     "output_type": "display_data"
    }
   ],
   "source": [
    "learn_lm.recorder.plot_loss()"
   ]
  },
  {
   "cell_type": "code",
   "execution_count": 23,
   "metadata": {},
   "outputs": [
    {
     "data": {
      "text/plain": [
       "Path('models/lstm_lm_1E+3E+3E.pth')"
      ]
     },
     "execution_count": 23,
     "metadata": {},
     "output_type": "execute_result"
    }
   ],
   "source": [
    "learn_lm.save('lstm_lm_1E+3E+3E')"
   ]
  },
  {
   "cell_type": "code",
   "execution_count": 24,
   "metadata": {},
   "outputs": [],
   "source": [
    "learn_lm.save_encoder('lstm_lm_1E+3E+3E_enc')"
   ]
  },
  {
   "cell_type": "code",
   "execution_count": 25,
   "metadata": {},
   "outputs": [
    {
     "data": {
      "text/html": [],
      "text/plain": [
       "<IPython.core.display.HTML object>"
      ]
     },
     "metadata": {},
     "output_type": "display_data"
    },
    {
     "data": {
      "text/html": [],
      "text/plain": [
       "<IPython.core.display.HTML object>"
      ]
     },
     "metadata": {},
     "output_type": "display_data"
    }
   ],
   "source": [
    "TEXT = \"O Ministro\"\n",
    "N_WORDS = 40\n",
    "N_SENTENCES = 2\n",
    "preds = [learn_lm.predict(TEXT, N_WORDS, temperature=0.75) \n",
    "         for _ in range(N_SENTENCES)]"
   ]
  },
  {
   "cell_type": "code",
   "execution_count": 26,
   "metadata": {},
   "outputs": [
    {
     "name": "stdout",
     "output_type": "stream",
     "text": [
      "▁xxbos ▁o xxunk ▁ministro ▁luiz ▁fux ▁relator ▁decisão ▁que ▁possibilita ▁julgamento ▁recurso ▁presente ▁recurso ▁extraordinário ▁razão ▁pela ▁qual ▁requer ▁seja ▁admitido ▁recurso ▁extraordinário ▁interposto ▁para ▁reformar ▁acórdão ▁proferido ▁pela ▁turma ▁recursal ▁dos ▁juizados ▁especiais ▁federais ▁pernambuco ▁que ▁negou ▁provimento ▁recurso ▁inominado ▁interposto ▁pela ▁parte\n",
      "▁xxbos ▁o xxunk ▁ministro ▁estado ▁previdência ▁social ▁seu ▁xxup ▁artigo _201 o ▁dispõe ▁sobre ▁regime ▁geral ▁previdência ▁social ▁os ▁seguintes ▁critérios ▁xxup ▁artigo _201 ▁previdência ▁social ▁será ▁organizada ▁sob ▁forma ▁regime ▁geral ▁caráter ▁contributivo ▁de ▁filiação ▁obrigatória ▁observados ▁critérios ▁que ▁preservem ▁equilíbrio ▁financeiro ▁atuarial\n"
     ]
    }
   ],
   "source": [
    "print(\"\\n\".join(preds))"
   ]
  },
  {
   "cell_type": "code",
   "execution_count": null,
   "metadata": {},
   "outputs": [],
   "source": [
    "dls_lm_bwd = DataBlock(\n",
    "    blocks=(TextBlock.from_df('body', tok=dls_lm.tobackwards=_lm=True, backwards=True)),\n",
    "    get_x=ColReader('text'), splitter=ColSplitter()).dataloaders(data)"
   ]
  },
  {
   "cell_type": "code",
   "execution_count": 7,
   "metadata": {},
   "outputs": [],
   "source": [
    "assert dls_lm.vocab == dls_lm_bwd.vocab"
   ]
  },
  {
   "cell_type": "code",
   "execution_count": 8,
   "metadata": {},
   "outputs": [],
   "source": [
    "del(dls_lm)"
   ]
  },
  {
   "cell_type": "code",
   "execution_count": null,
   "metadata": {},
   "outputs": [],
   "source": [
    "torch.save(dls_lm_bwd, \"./data/dls_lm_bwd.pth\")"
   ]
  },
  {
   "cell_type": "code",
   "execution_count": 8,
   "metadata": {},
   "outputs": [],
   "source": [
    "dls_lm_bwd = torch.load(\"./data/dls_lm_bwd.pth\")"
   ]
  },
  {
   "cell_type": "code",
   "execution_count": 10,
   "metadata": {},
   "outputs": [
    {
     "data": {
      "text/html": [
       "<table border=\"1\" class=\"dataframe\">\n",
       "  <thead>\n",
       "    <tr style=\"text-align: right;\">\n",
       "      <th></th>\n",
       "      <th>text</th>\n",
       "      <th>text_</th>\n",
       "    </tr>\n",
       "  </thead>\n",
       "  <tbody>\n",
       "    <tr>\n",
       "      <th>0</th>\n",
       "      <td>\"} ▁código ▁seguinte ▁com ▁site ▁xxup ▁validada ▁ser ▁pode ▁certidão ▁esta ▁gerada ▁certidão ▁eletrônico ▁documento ▁inicial ▁processamento ▁coordenadoria ▁maio ▁de brasília ▁{\" ▁xxbos \"} ▁impõe ▁que ▁medida ▁pedido ▁procedência ▁discutida ▁verba ▁indenizatória ▁natureza ▁diante ▁logo ▁renda ▁imposto ▁cálculo ▁base ▁correlato ▁valor ▁dedução ▁direito ▁possuem ▁contribuintes ▁que ▁modo ▁patrimonial ▁acréscimo ▁configura ▁não ▁plano ▁déficit ▁razão ▁instituída ▁extraordinária ▁contribuição ▁título ▁social ▁seguridade ▁banrisul ▁fundação ▁pago ▁valor ▁perdida ▁foi ▁que ▁parcela ▁recomposição ▁mera ▁mas ▁matemática</td>\n",
       "      <td>▁código ▁seguinte ▁com ▁site ▁xxup ▁validada ▁ser ▁pode ▁certidão ▁esta ▁gerada ▁certidão ▁eletrônico ▁documento ▁inicial ▁processamento ▁coordenadoria ▁maio ▁de brasília ▁{\" ▁xxbos \"} ▁impõe ▁que ▁medida ▁pedido ▁procedência ▁discutida ▁verba ▁indenizatória ▁natureza ▁diante ▁logo ▁renda ▁imposto ▁cálculo ▁base ▁correlato ▁valor ▁dedução ▁direito ▁possuem ▁contribuintes ▁que ▁modo ▁patrimonial ▁acréscimo ▁configura ▁não ▁plano ▁déficit ▁razão ▁instituída ▁extraordinária ▁contribuição ▁título ▁social ▁seguridade ▁banrisul ▁fundação ▁pago ▁valor ▁perdida ▁foi ▁que ▁parcela ▁recomposição ▁mera ▁mas ▁matemática ▁reserva</td>\n",
       "    </tr>\n",
       "    <tr>\n",
       "      <th>1</th>\n",
       "      <td>▁nos ▁trabalhadores ▁dos ▁habitual ▁ganho ▁constitui ▁mesma ▁que ▁natalina ▁gratificação ▁sobre ▁previdenciária ▁contribuição ▁incide ▁que ▁considerando ▁nosso ▁grifo mani ▁sor e ▁alexandr ▁convocado ▁juiz ▁relator ▁data ▁fonte ▁citação ▁teor ▁inteiro ▁região ▁federal ▁regional ▁tribunal ▁seção ▁julgador ▁orgão ▁decisão ▁data ▁uf ▁processo ▁cível ▁apelação ▁classe ▁procedente ▁parcialmente ▁autora ▁parte ▁apelação ▁pertence ▁sepúlveda ▁min ▁stf ▁condicional ▁judicial ▁título ▁sentença ▁torna _1060 ▁lei ▁xxup _11 ▁artigo ▁xxup ▁nos ▁disposto ▁aplicação ▁que ▁decidiu ▁stf ▁e ▁pois</td>\n",
       "      <td>▁trabalhadores ▁dos ▁habitual ▁ganho ▁constitui ▁mesma ▁que ▁natalina ▁gratificação ▁sobre ▁previdenciária ▁contribuição ▁incide ▁que ▁considerando ▁nosso ▁grifo mani ▁sor e ▁alexandr ▁convocado ▁juiz ▁relator ▁data ▁fonte ▁citação ▁teor ▁inteiro ▁região ▁federal ▁regional ▁tribunal ▁seção ▁julgador ▁orgão ▁decisão ▁data ▁uf ▁processo ▁cível ▁apelação ▁classe ▁procedente ▁parcialmente ▁autora ▁parte ▁apelação ▁pertence ▁sepúlveda ▁min ▁stf ▁condicional ▁judicial ▁título ▁sentença ▁torna _1060 ▁lei ▁xxup _11 ▁artigo ▁xxup ▁nos ▁disposto ▁aplicação ▁que ▁decidiu ▁stf ▁e ▁pois ▁sucumbência</td>\n",
       "    </tr>\n",
       "    <tr>\n",
       "      <th>2</th>\n",
       "      <td>▁disposições ▁serviço ▁tempo ▁assunto ▁não ▁mpf ▁não ▁dpu ▁processo ▁sentença ▁parte ▁reforma ▁súmula raschi ▁b cio ▁clé ▁federal ▁juiz ▁relator ▁silva ▁batista ▁adriano o ▁recd ▁previd ▁s ▁n ▁social ▁seguro ▁nacional ▁instituto ▁recte ▁aprendiz ▁aluno ▁serv ▁tempo ▁cômputo ▁averb ▁prestações ▁relativas ▁diversas ▁disposições ▁serviço ▁tempo ▁assunto ▁não ▁mpf ▁não ▁dpu ▁processo ▁sentença ▁mantém ▁súmula ecato ▁c ▁reina ilton ▁u ▁federal ▁juiz ▁relator ▁previd ▁s ▁n ▁social ▁seguro ▁nacional ▁instituto o ▁recd ▁barroso</td>\n",
       "      <td>▁serviço ▁tempo ▁assunto ▁não ▁mpf ▁não ▁dpu ▁processo ▁sentença ▁parte ▁reforma ▁súmula raschi ▁b cio ▁clé ▁federal ▁juiz ▁relator ▁silva ▁batista ▁adriano o ▁recd ▁previd ▁s ▁n ▁social ▁seguro ▁nacional ▁instituto ▁recte ▁aprendiz ▁aluno ▁serv ▁tempo ▁cômputo ▁averb ▁prestações ▁relativas ▁diversas ▁disposições ▁serviço ▁tempo ▁assunto ▁não ▁mpf ▁não ▁dpu ▁processo ▁sentença ▁mantém ▁súmula ecato ▁c ▁reina ilton ▁u ▁federal ▁juiz ▁relator ▁previd ▁s ▁n ▁social ▁seguro ▁nacional ▁instituto o ▁recd ▁barroso a</td>\n",
       "    </tr>\n",
       "    <tr>\n",
       "      <th>3</th>\n",
       "      <td>▁decisão ▁que ▁admitir ▁implicará ▁jurisdicional ▁exame ▁trazido ▁jurídico ▁argumento ▁sólido ▁como ▁acolher ▁instância ▁última ▁de ▁recorrida ▁decisão ▁conseqüência ▁processo ▁neste ▁exame ▁trazido ▁dico ▁jurí ▁argumento ▁acolhido ▁examinado ▁tenha ▁que ▁judiciária ▁seção ▁seja ▁que ▁qualquer ▁federais ▁especiais ▁juizados ▁dos ▁recursal ▁turma ▁mento ▁pronuncia ▁não ▁conhecer ▁autora ▁parte ▁dado ▁onde ▁até ▁associados ▁advogados ▁silva ▁ivo o anild ▁{\" ▁xxbos \"} ▁nacional ▁fazenda ▁procurador ▁setembro ▁de ▁fortaleza ▁deferimento ▁pede _40 ▁artigo ▁xxup ▁do o _195</td>\n",
       "      <td>▁que ▁admitir ▁implicará ▁jurisdicional ▁exame ▁trazido ▁jurídico ▁argumento ▁sólido ▁como ▁acolher ▁instância ▁última ▁de ▁recorrida ▁decisão ▁conseqüência ▁processo ▁neste ▁exame ▁trazido ▁dico ▁jurí ▁argumento ▁acolhido ▁examinado ▁tenha ▁que ▁judiciária ▁seção ▁seja ▁que ▁qualquer ▁federais ▁especiais ▁juizados ▁dos ▁recursal ▁turma ▁mento ▁pronuncia ▁não ▁conhecer ▁autora ▁parte ▁dado ▁onde ▁até ▁associados ▁advogados ▁silva ▁ivo o anild ▁{\" ▁xxbos \"} ▁nacional ▁fazenda ▁procurador ▁setembro ▁de ▁fortaleza ▁deferimento ▁pede _40 ▁artigo ▁xxup ▁do o _195 ▁artigo</td>\n",
       "    </tr>\n",
       "    <tr>\n",
       "      <th>4</th>\n",
       "      <td>▁representante ▁seu ▁pessoa ▁citada ▁ser ▁poderá ▁onde ▁centro ▁bairro ▁andar ▁gonçalves ▁bento ▁rua ▁hamburgo ▁novo ▁procuradoria ▁executiva ▁gerência ▁com ▁federal ▁autarquia ▁inss ▁social ▁seguro ▁nacional ▁instituto ▁réu ▁identificação ▁autora ▁parte ▁identificação ▁rma ▁atual ▁mensal ▁renda ▁rmi ▁inicial ▁mensal ▁renda ▁dib ▁início ▁data ▁benefício ▁número ▁espécie dos u ▁can ▁bloco ser ▁kay o ▁reynald ▁rua ▁cep ▁bairro ▁completo ▁endereço ▁residência ▁hamburgo ▁novo ▁casado ▁brasileira ▁aposentado ▁município ▁domicílio ▁civil ▁estado ▁nacionalidade ▁profissão ▁rosa ▁luiz</td>\n",
       "      <td>▁seu ▁pessoa ▁citada ▁ser ▁poderá ▁onde ▁centro ▁bairro ▁andar ▁gonçalves ▁bento ▁rua ▁hamburgo ▁novo ▁procuradoria ▁executiva ▁gerência ▁com ▁federal ▁autarquia ▁inss ▁social ▁seguro ▁nacional ▁instituto ▁réu ▁identificação ▁autora ▁parte ▁identificação ▁rma ▁atual ▁mensal ▁renda ▁rmi ▁inicial ▁mensal ▁renda ▁dib ▁início ▁data ▁benefício ▁número ▁espécie dos u ▁can ▁bloco ser ▁kay o ▁reynald ▁rua ▁cep ▁bairro ▁completo ▁endereço ▁residência ▁hamburgo ▁novo ▁casado ▁brasileira ▁aposentado ▁município ▁domicílio ▁civil ▁estado ▁nacionalidade ▁profissão ▁rosa ▁luiz ▁jorge</td>\n",
       "    </tr>\n",
       "    <tr>\n",
       "      <th>5</th>\n",
       "      <td>▁federal ▁juiza n agulia ▁kar ▁bezerra ▁simone ▁intimem ▁registre publique ▁{\" ▁xxbos \"} ▁principiológica ▁norma ▁pela ▁definidos ▁contornos ▁seus ▁tendo ▁permanece ▁regra ▁sentido ▁nesse ▁princípio ▁um ▁aplicação ▁mas ▁regra ▁qualquer ▁quebra ▁trata ▁não ▁efeito ▁com ▁previdenciário ▁sistema ▁realidade ▁para ▁olhos ndo ▁fecha ▁individualista ▁puramente ▁soa ▁venia ▁data ▁visão ▁tal ▁verdade ▁contrapartida ▁da idade ▁proporcional ▁regra ▁quebra ▁autoriza ▁não ▁princípio ▁mencionado ▁que ▁ótica ▁sob ▁questão ▁analisar ▁recursal ▁turma ▁a ▁equivoca ▁sentido ▁nesse ▁públicos</td>\n",
       "      <td>▁juiza n agulia ▁kar ▁bezerra ▁simone ▁intimem ▁registre publique ▁{\" ▁xxbos \"} ▁principiológica ▁norma ▁pela ▁definidos ▁contornos ▁seus ▁tendo ▁permanece ▁regra ▁sentido ▁nesse ▁princípio ▁um ▁aplicação ▁mas ▁regra ▁qualquer ▁quebra ▁trata ▁não ▁efeito ▁com ▁previdenciário ▁sistema ▁realidade ▁para ▁olhos ndo ▁fecha ▁individualista ▁puramente ▁soa ▁venia ▁data ▁visão ▁tal ▁verdade ▁contrapartida ▁da idade ▁proporcional ▁regra ▁quebra ▁autoriza ▁não ▁princípio ▁mencionado ▁que ▁ótica ▁sob ▁questão ▁analisar ▁recursal ▁turma ▁a ▁equivoca ▁sentido ▁nesse ▁públicos ▁servidores</td>\n",
       "    </tr>\n",
       "    <tr>\n",
       "      <th>6</th>\n",
       "      <td>▁{\" ▁xxbos \"} ▁juizados ▁estes ▁perante ▁ações ▁ajuizamento ▁para ▁teto ▁exorbitante ▁valor ▁relação ▁com ▁autora ▁parte ▁s ▁expressa ▁renúncia ▁sentido ▁manifestação ▁absoluta ▁federais ▁especiais ▁juizados ▁dos ▁competência ▁ser ▁conta ▁tendo ▁nacional ▁fazenda ▁união ▁requer ▁público ▁interesse ndisponibilidade ▁i ▁princípio ▁face ▁partes ▁entre ▁acordo ▁impossibilidade ndo ▁informa ▁exposto ▁vista ▁pedido ▁vii ▁gecen ▁gacen ▁gratificação ▁sobre ▁pss ▁incidência ▁esposado ▁aqui ▁entendimento ▁corroboram ▁judiciário ▁mas ▁legislação ▁a ▁não ▁portanto ▁advocatícios ▁honorários ▁sem ▁custas ▁sem ▁exordial</td>\n",
       "      <td>▁xxbos \"} ▁juizados ▁estes ▁perante ▁ações ▁ajuizamento ▁para ▁teto ▁exorbitante ▁valor ▁relação ▁com ▁autora ▁parte ▁s ▁expressa ▁renúncia ▁sentido ▁manifestação ▁absoluta ▁federais ▁especiais ▁juizados ▁dos ▁competência ▁ser ▁conta ▁tendo ▁nacional ▁fazenda ▁união ▁requer ▁público ▁interesse ndisponibilidade ▁i ▁princípio ▁face ▁partes ▁entre ▁acordo ▁impossibilidade ndo ▁informa ▁exposto ▁vista ▁pedido ▁vii ▁gecen ▁gacen ▁gratificação ▁sobre ▁pss ▁incidência ▁esposado ▁aqui ▁entendimento ▁corroboram ▁judiciário ▁mas ▁legislação ▁a ▁não ▁portanto ▁advocatícios ▁honorários ▁sem ▁custas ▁sem ▁exordial ▁formulados</td>\n",
       "    </tr>\n",
       "    <tr>\n",
       "      <th>7</th>\n",
       "      <td>▁assistência ▁prestar ▁dever ▁pelo ▁federados ▁entes ▁dos ▁solidária responsabilidade ▁ ▁tema ▁administração responsabilidade ▁ ▁público ▁direito ▁matérias ▁outras ▁administrativo ▁direito ▁medicamentos ▁fornecimento ▁saúde ▁serviços ▁público ▁direito ▁matérias ▁outras ▁administrativo ▁direito ▁execução ▁embargos ▁impugnação ▁suspensivo ▁efeito ▁sentença ▁execução ▁cumprimento ▁liquidação ▁trabalho ▁do ▁civil ▁processual ▁direito ▁parcelamento ▁exigibilidade ▁suspensão ▁tributário ▁crédito ▁tributário ▁direito ▁multa ▁sentença ▁execução ▁cumprimento ▁liquidação ▁trabalho ▁do ▁civil ▁processual ▁direito ▁seguro ▁consumo ▁contratos ▁consumidor ▁direito ▁fazer ▁não ▁fazer ▁obrigação ▁execução ▁cumprimento</td>\n",
       "      <td>▁prestar ▁dever ▁pelo ▁federados ▁entes ▁dos ▁solidária responsabilidade ▁ ▁tema ▁administração responsabilidade ▁ ▁público ▁direito ▁matérias ▁outras ▁administrativo ▁direito ▁medicamentos ▁fornecimento ▁saúde ▁serviços ▁público ▁direito ▁matérias ▁outras ▁administrativo ▁direito ▁execução ▁embargos ▁impugnação ▁suspensivo ▁efeito ▁sentença ▁execução ▁cumprimento ▁liquidação ▁trabalho ▁do ▁civil ▁processual ▁direito ▁parcelamento ▁exigibilidade ▁suspensão ▁tributário ▁crédito ▁tributário ▁direito ▁multa ▁sentença ▁execução ▁cumprimento ▁liquidação ▁trabalho ▁do ▁civil ▁processual ▁direito ▁seguro ▁consumo ▁contratos ▁consumidor ▁direito ▁fazer ▁não ▁fazer ▁obrigação ▁execução ▁cumprimento ▁liquidação</td>\n",
       "    </tr>\n",
       "    <tr>\n",
       "      <th>8</th>\n",
       "      <td>▁como ▁recolhida ▁foi ▁quem ▁servidor ▁vinculada ▁individualizada ▁permanece ▁não ▁recolhida ▁vez ▁uma ▁contribuição ▁porque ▁razão ▁contribuições ▁suas ▁das ▁restituição ▁simples ▁recebendo ▁está ▁não ▁benefício ▁recebe ▁quando ▁servidor ▁pois ▁benefício ▁futuro ▁o ▁contribuição ▁entre ▁direta ▁vinculação ▁uma ▁existe ▁não ▁assim ▁capacidade ▁menor ▁possuem ▁que ▁dos ▁benefícios ▁financiam ▁contributiva ▁capacidade ▁maior ▁têm ▁que ▁daqueles ▁contribuições ▁porque ▁como ▁bem ▁anterior ção ▁gera ▁benefícios ▁demais ▁aposentadorias ▁das ▁pagamento ▁sustentam ção ▁gera ▁uma ▁contribuições ▁qual ▁segundo ▁princípio</td>\n",
       "      <td>▁recolhida ▁foi ▁quem ▁servidor ▁vinculada ▁individualizada ▁permanece ▁não ▁recolhida ▁vez ▁uma ▁contribuição ▁porque ▁razão ▁contribuições ▁suas ▁das ▁restituição ▁simples ▁recebendo ▁está ▁não ▁benefício ▁recebe ▁quando ▁servidor ▁pois ▁benefício ▁futuro ▁o ▁contribuição ▁entre ▁direta ▁vinculação ▁uma ▁existe ▁não ▁assim ▁capacidade ▁menor ▁possuem ▁que ▁dos ▁benefícios ▁financiam ▁contributiva ▁capacidade ▁maior ▁têm ▁que ▁daqueles ▁contribuições ▁porque ▁como ▁bem ▁anterior ção ▁gera ▁benefícios ▁demais ▁aposentadorias ▁das ▁pagamento ▁sustentam ção ▁gera ▁uma ▁contribuições ▁qual ▁segundo ▁princípio ▁base</td>\n",
       "    </tr>\n",
       "  </tbody>\n",
       "</table>"
      ],
      "text/plain": [
       "<IPython.core.display.HTML object>"
      ]
     },
     "metadata": {},
     "output_type": "display_data"
    }
   ],
   "source": [
    "dls_lm_bwd.show_batch()"
   ]
  },
  {
   "cell_type": "code",
   "execution_count": 11,
   "metadata": {},
   "outputs": [],
   "source": [
    "learn_lm = language_model_learner(dls_lm_bwd, AWD_LSTM, path=Path(\".\"), drop_mult=1., \n",
    "                                  metrics=[error_rate, accuracy, perplexity])"
   ]
  },
  {
   "cell_type": "code",
   "execution_count": 12,
   "metadata": {},
   "outputs": [
    {
     "data": {
      "text/html": [
       "<table border=\"1\" class=\"dataframe\">\n",
       "  <thead>\n",
       "    <tr style=\"text-align: left;\">\n",
       "      <th>epoch</th>\n",
       "      <th>train_loss</th>\n",
       "      <th>valid_loss</th>\n",
       "      <th>error_rate</th>\n",
       "      <th>accuracy</th>\n",
       "      <th>perplexity</th>\n",
       "      <th>time</th>\n",
       "    </tr>\n",
       "  </thead>\n",
       "  <tbody>\n",
       "    <tr>\n",
       "      <td>0</td>\n",
       "      <td>None</td>\n",
       "      <td>None</td>\n",
       "      <td>None</td>\n",
       "      <td>None</td>\n",
       "      <td>00:00</td>\n",
       "    </tr>\n",
       "  </tbody>\n",
       "</table>"
      ],
      "text/plain": [
       "<IPython.core.display.HTML object>"
      ]
     },
     "metadata": {},
     "output_type": "display_data"
    },
    {
     "data": {
      "text/plain": [
       "SequentialRNN (Input shape: ['64 x 72'])\n",
       "================================================================\n",
       "Layer (type)         Output Shape         Param #    Trainable \n",
       "================================================================\n",
       "LSTM                 ['64 x 72 x 1152',   1,852,416  False     \n",
       "________________________________________________________________\n",
       "LSTM                 ['64 x 72 x 1152',   5,317,632  False     \n",
       "________________________________________________________________\n",
       "LSTM                 ['64 x 72 x 400', \"  1,846,400  False     \n",
       "________________________________________________________________\n",
       "RNNDropout           64 x 72 x 400        0          False     \n",
       "________________________________________________________________\n",
       "RNNDropout           64 x 72 x 1152       0          False     \n",
       "________________________________________________________________\n",
       "RNNDropout           64 x 72 x 1152       0          False     \n",
       "________________________________________________________________\n",
       "Linear               64 x 72 x 30104      12,071,704 True      \n",
       "________________________________________________________________\n",
       "RNNDropout           64 x 72 x 400        0          False     \n",
       "________________________________________________________________\n",
       "\n",
       "Total params: 21,088,152\n",
       "Total trainable params: 12,071,704\n",
       "Total non-trainable params: 9,016,448\n",
       "\n",
       "Optimizer used: <function Adam at 0x7fe77f45d1f0>\n",
       "Loss function: FlattenedLoss of CrossEntropyLoss()\n",
       "\n",
       "Model frozen up to parameter group #3\n",
       "\n",
       "Callbacks:\n",
       "  - TrainEvalCallback\n",
       "  - Recorder\n",
       "  - ProgressCallback\n",
       "  - ModelResetter\n",
       "  - RNNRegularizer"
      ]
     },
     "execution_count": 12,
     "metadata": {},
     "output_type": "execute_result"
    }
   ],
   "source": [
    "learn_lm.freeze()\n",
    "learn_lm.summary()"
   ]
  },
  {
   "cell_type": "code",
   "execution_count": 13,
   "metadata": {},
   "outputs": [
    {
     "data": {
      "text/html": [],
      "text/plain": [
       "<IPython.core.display.HTML object>"
      ]
     },
     "metadata": {},
     "output_type": "display_data"
    },
    {
     "data": {
      "text/plain": [
       "SuggestedLRs(lr_min=0.13182567358016967, lr_steep=0.0691830962896347)"
      ]
     },
     "execution_count": 13,
     "metadata": {},
     "output_type": "execute_result"
    },
    {
     "data": {
      "image/png": "[encoded data removed]",
      "text/plain": [
       "<Figure size 432x288 with 1 Axes>"
      ]
     },
     "metadata": {
      "needs_background": "light"
     },
     "output_type": "display_data"
    }
   ],
   "source": [
    "learn_lm.lr_find()"
   ]
  },
  {
   "cell_type": "code",
   "execution_count": 14,
   "metadata": {},
   "outputs": [
    {
     "data": {
      "text/html": [
       "<table border=\"1\" class=\"dataframe\">\n",
       "  <thead>\n",
       "    <tr style=\"text-align: left;\">\n",
       "      <th>epoch</th>\n",
       "      <th>train_loss</th>\n",
       "      <th>valid_loss</th>\n",
       "      <th>error_rate</th>\n",
       "      <th>accuracy</th>\n",
       "      <th>perplexity</th>\n",
       "      <th>time</th>\n",
       "    </tr>\n",
       "  </thead>\n",
       "  <tbody>\n",
       "    <tr>\n",
       "      <td>0</td>\n",
       "      <td>4.280356</td>\n",
       "      <td>3.839558</td>\n",
       "      <td>0.587987</td>\n",
       "      <td>0.412012</td>\n",
       "      <td>46.504898</td>\n",
       "      <td>34:48</td>\n",
       "    </tr>\n",
       "  </tbody>\n",
       "</table>"
      ],
      "text/plain": [
       "<IPython.core.display.HTML object>"
      ]
     },
     "metadata": {},
     "output_type": "display_data"
    }
   ],
   "source": [
    "learn_lm.fit_one_cycle(1, 1e-1)"
   ]
  },
  {
   "cell_type": "code",
   "execution_count": 15,
   "metadata": {},
   "outputs": [
    {
     "data": {
      "image/png": "[encoded data removed]",
      "text/plain": [
       "<Figure size 432x288 with 1 Axes>"
      ]
     },
     "metadata": {
      "needs_background": "light"
     },
     "output_type": "display_data"
    }
   ],
   "source": [
    "learn_lm.recorder.plot_loss()"
   ]
  },
  {
   "cell_type": "code",
   "execution_count": 16,
   "metadata": {},
   "outputs": [
    {
     "data": {
      "text/plain": [
       "Path('models/lstm_lm_1E_bwd.pth')"
      ]
     },
     "execution_count": 16,
     "metadata": {},
     "output_type": "execute_result"
    }
   ],
   "source": [
    "learn_lm.save('lstm_lm_1E_bwd')"
   ]
  },
  {
   "cell_type": "code",
   "execution_count": null,
   "metadata": {},
   "outputs": [],
   "source": [
    "learn_lm.load(\"lstm_lm_1E_bwd\")"
   ]
  },
  {
   "cell_type": "code",
   "execution_count": 17,
   "metadata": {},
   "outputs": [],
   "source": [
    "learn_lm.unfreeze()"
   ]
  },
  {
   "cell_type": "code",
   "execution_count": 18,
   "metadata": {},
   "outputs": [
    {
     "data": {
      "text/html": [
       "<table border=\"1\" class=\"dataframe\">\n",
       "  <thead>\n",
       "    <tr style=\"text-align: left;\">\n",
       "      <th>epoch</th>\n",
       "      <th>train_loss</th>\n",
       "      <th>valid_loss</th>\n",
       "      <th>error_rate</th>\n",
       "      <th>accuracy</th>\n",
       "      <th>perplexity</th>\n",
       "      <th>time</th>\n",
       "    </tr>\n",
       "  </thead>\n",
       "  <tbody>\n",
       "    <tr>\n",
       "      <td>0</td>\n",
       "      <td>None</td>\n",
       "      <td>None</td>\n",
       "      <td>None</td>\n",
       "      <td>None</td>\n",
       "      <td>00:00</td>\n",
       "    </tr>\n",
       "  </tbody>\n",
       "</table>"
      ],
      "text/plain": [
       "<IPython.core.display.HTML object>"
      ]
     },
     "metadata": {},
     "output_type": "display_data"
    },
    {
     "data": {
      "text/plain": [
       "SequentialRNN (Input shape: ['64 x 72'])\n",
       "================================================================\n",
       "Layer (type)         Output Shape         Param #    Trainable \n",
       "================================================================\n",
       "LSTM                 ['64 x 72 x 1152',   1,852,416  True      \n",
       "________________________________________________________________\n",
       "LSTM                 ['64 x 72 x 1152',   5,317,632  True      \n",
       "________________________________________________________________\n",
       "LSTM                 ['64 x 72 x 400', \"  1,846,400  True      \n",
       "________________________________________________________________\n",
       "RNNDropout           64 x 72 x 400        0          False     \n",
       "________________________________________________________________\n",
       "RNNDropout           64 x 72 x 1152       0          False     \n",
       "________________________________________________________________\n",
       "RNNDropout           64 x 72 x 1152       0          False     \n",
       "________________________________________________________________\n",
       "Linear               64 x 72 x 30104      12,071,704 True      \n",
       "________________________________________________________________\n",
       "RNNDropout           64 x 72 x 400        0          False     \n",
       "________________________________________________________________\n",
       "\n",
       "Total params: 21,088,152\n",
       "Total trainable params: 21,088,152\n",
       "Total non-trainable params: 0\n",
       "\n",
       "Optimizer used: <function Adam at 0x7fe77f45d1f0>\n",
       "Loss function: FlattenedLoss of CrossEntropyLoss()\n",
       "\n",
       "Model unfrozen\n",
       "\n",
       "Callbacks:\n",
       "  - TrainEvalCallback\n",
       "  - Recorder\n",
       "  - ProgressCallback\n",
       "  - ModelResetter\n",
       "  - RNNRegularizer"
      ]
     },
     "execution_count": 18,
     "metadata": {},
     "output_type": "execute_result"
    }
   ],
   "source": [
    "learn_lm.summary()"
   ]
  },
  {
   "cell_type": "code",
   "execution_count": 19,
   "metadata": {},
   "outputs": [
    {
     "data": {
      "text/html": [],
      "text/plain": [
       "<IPython.core.display.HTML object>"
      ]
     },
     "metadata": {},
     "output_type": "display_data"
    },
    {
     "data": {
      "text/plain": [
       "SuggestedLRs(lr_min=6.309573450380412e-08, lr_steep=2.2908675418875646e-06)"
      ]
     },
     "execution_count": 19,
     "metadata": {},
     "output_type": "execute_result"
    },
    {
     "data": {
      "image/png": "[encoded data removed]",
      "text/plain": [
       "<Figure size 432x288 with 1 Axes>"
      ]
     },
     "metadata": {
      "needs_background": "light"
     },
     "output_type": "display_data"
    }
   ],
   "source": [
    "learn_lm.lr_find()"
   ]
  },
  {
   "cell_type": "code",
   "execution_count": 21,
   "metadata": {},
   "outputs": [
    {
     "data": {
      "text/html": [
       "<table border=\"1\" class=\"dataframe\">\n",
       "  <thead>\n",
       "    <tr style=\"text-align: left;\">\n",
       "      <th>epoch</th>\n",
       "      <th>train_loss</th>\n",
       "      <th>valid_loss</th>\n",
       "      <th>error_rate</th>\n",
       "      <th>accuracy</th>\n",
       "      <th>perplexity</th>\n",
       "      <th>time</th>\n",
       "    </tr>\n",
       "  </thead>\n",
       "  <tbody>\n",
       "    <tr>\n",
       "      <td>0</td>\n",
       "      <td>3.064942</td>\n",
       "      <td>2.808604</td>\n",
       "      <td>0.436870</td>\n",
       "      <td>0.563130</td>\n",
       "      <td>16.586742</td>\n",
       "      <td>36:38</td>\n",
       "    </tr>\n",
       "    <tr>\n",
       "      <td>1</td>\n",
       "      <td>2.674922</td>\n",
       "      <td>2.457955</td>\n",
       "      <td>0.380191</td>\n",
       "      <td>0.619809</td>\n",
       "      <td>11.680904</td>\n",
       "      <td>38:53</td>\n",
       "    </tr>\n",
       "    <tr>\n",
       "      <td>2</td>\n",
       "      <td>2.495064</td>\n",
       "      <td>2.391142</td>\n",
       "      <td>0.369993</td>\n",
       "      <td>0.630008</td>\n",
       "      <td>10.925968</td>\n",
       "      <td>40:58</td>\n",
       "    </tr>\n",
       "  </tbody>\n",
       "</table>"
      ],
      "text/plain": [
       "<IPython.core.display.HTML object>"
      ]
     },
     "metadata": {},
     "output_type": "display_data"
    }
   ],
   "source": [
    "learn_lm.fit_one_cycle(3, 1e-3)"
   ]
  },
  {
   "cell_type": "code",
   "execution_count": 22,
   "metadata": {},
   "outputs": [
    {
     "data": {
      "image/png": "[encoded data removed]",
      "text/plain": [
       "<Figure size 432x288 with 1 Axes>"
      ]
     },
     "metadata": {
      "needs_background": "light"
     },
     "output_type": "display_data"
    }
   ],
   "source": [
    "learn_lm.recorder.plot_loss()"
   ]
  },
  {
   "cell_type": "code",
   "execution_count": 23,
   "metadata": {},
   "outputs": [
    {
     "data": {
      "text/plain": [
       "Path('models/lstm_lm_1E+3E_bwd.pth')"
      ]
     },
     "execution_count": 23,
     "metadata": {},
     "output_type": "execute_result"
    }
   ],
   "source": [
    "learn_lm.save('lstm_lm_1E+3E_bwd')"
   ]
  },
  {
   "cell_type": "code",
   "execution_count": 24,
   "metadata": {},
   "outputs": [],
   "source": [
    "learn_lm.save_encoder('lstm_lm_1E+3E_enc_bwd')"
   ]
  },
  {
   "cell_type": "code",
   "execution_count": 25,
   "metadata": {},
   "outputs": [
    {
     "data": {
      "text/html": [],
      "text/plain": [
       "<IPython.core.display.HTML object>"
      ]
     },
     "metadata": {},
     "output_type": "display_data"
    },
    {
     "data": {
      "text/plain": [
       "SuggestedLRs(lr_min=6.309573450380412e-08, lr_steep=0.0063095735386013985)"
      ]
     },
     "execution_count": 25,
     "metadata": {},
     "output_type": "execute_result"
    },
    {
     "data": {
      "image/png": "[encoded data removed]",
      "text/plain": [
       "<Figure size 432x288 with 1 Axes>"
      ]
     },
     "metadata": {
      "needs_background": "light"
     },
     "output_type": "display_data"
    }
   ],
   "source": [
    "learn_lm.lr_find()"
   ]
  },
  {
   "cell_type": "code",
   "execution_count": 26,
   "metadata": {},
   "outputs": [
    {
     "data": {
      "text/html": [
       "<table border=\"1\" class=\"dataframe\">\n",
       "  <thead>\n",
       "    <tr style=\"text-align: left;\">\n",
       "      <th>epoch</th>\n",
       "      <th>train_loss</th>\n",
       "      <th>valid_loss</th>\n",
       "      <th>error_rate</th>\n",
       "      <th>accuracy</th>\n",
       "      <th>perplexity</th>\n",
       "      <th>time</th>\n",
       "    </tr>\n",
       "  </thead>\n",
       "  <tbody>\n",
       "    <tr>\n",
       "      <td>0</td>\n",
       "      <td>2.528972</td>\n",
       "      <td>2.336559</td>\n",
       "      <td>0.362176</td>\n",
       "      <td>0.637825</td>\n",
       "      <td>10.345572</td>\n",
       "      <td>35:43</td>\n",
       "    </tr>\n",
       "    <tr>\n",
       "      <td>1</td>\n",
       "      <td>2.352913</td>\n",
       "      <td>2.218098</td>\n",
       "      <td>0.344520</td>\n",
       "      <td>0.655481</td>\n",
       "      <td>9.189833</td>\n",
       "      <td>42:00</td>\n",
       "    </tr>\n",
       "    <tr>\n",
       "      <td>2</td>\n",
       "      <td>2.255635</td>\n",
       "      <td>2.180773</td>\n",
       "      <td>0.338580</td>\n",
       "      <td>0.661420</td>\n",
       "      <td>8.853151</td>\n",
       "      <td>35:39</td>\n",
       "    </tr>\n",
       "  </tbody>\n",
       "</table>"
      ],
      "text/plain": [
       "<IPython.core.display.HTML object>"
      ]
     },
     "metadata": {},
     "output_type": "display_data"
    }
   ],
   "source": [
    "learn_lm.fit_one_cycle(3, 1e-3)"
   ]
  },
  {
   "cell_type": "code",
   "execution_count": 27,
   "metadata": {},
   "outputs": [
    {
     "data": {
      "image/png": "[encoded data removed]",
      "text/plain": [
       "<Figure size 432x288 with 1 Axes>"
      ]
     },
     "metadata": {
      "needs_background": "light"
     },
     "output_type": "display_data"
    }
   ],
   "source": [
    "learn_lm.recorder.plot_loss()"
   ]
  },
  {
   "cell_type": "code",
   "execution_count": 28,
   "metadata": {},
   "outputs": [
    {
     "data": {
      "text/plain": [
       "Path('models/lstm_lm_1E+3E+3E_bwd.pth')"
      ]
     },
     "execution_count": 28,
     "metadata": {},
     "output_type": "execute_result"
    }
   ],
   "source": [
    "learn_lm.save('lstm_lm_1E+3E+3E_bwd')"
   ]
  },
  {
   "cell_type": "code",
   "execution_count": 29,
   "metadata": {},
   "outputs": [],
   "source": [
    "learn_lm.save_encoder('lstm_lm_1E+3E+3E_enc_bwd')"
   ]
  },
  {
   "cell_type": "code",
   "execution_count": 9,
   "metadata": {},
   "outputs": [
    {
     "data": {
      "text/html": [],
      "text/plain": [
       "<IPython.core.display.HTML object>"
      ]
     },
     "metadata": {},
     "output_type": "display_data"
    },
    {
     "name": "stderr",
     "output_type": "stream",
     "text": [
      "/mnt/home/peluz/victor-visual-text/fastai2/lib/python3.8/site-packages/numpy/core/_asarray.py:83: VisibleDeprecationWarning: Creating an ndarray from ragged nested sequences (which is a list-or-tuple of lists-or-tuples-or ndarrays with different lengths or shapes) is deprecated. If you meant to do this, you must specify 'dtype=object' when creating the ndarray\n",
      "  return array(a, dtype, copy=False, order=order)\n"
     ]
    }
   ],
   "source": [
    "dls = DataBlock(\n",
    "    blocks=(TextBlock.from_df('body', tok=dls_lm_bwd.tok),  CategoryBlock),\n",
    "    get_x=ColReader('text'), get_y=ColReader('document_type'), splitter=ColSplitter()).dataloaders(data)"
   ]
  },
  {
   "cell_type": "code",
   "execution_count": 10,
   "metadata": {},
   "outputs": [],
   "source": [
    "assert dls.vocab[0] == dls_lm_bwd.vocab"
   ]
  },
  {
   "cell_type": "code",
   "execution_count": 11,
   "metadata": {},
   "outputs": [],
   "source": [
    "del(dls_lm_bwd)"
   ]
  },
  {
   "cell_type": "code",
   "execution_count": 12,
   "metadata": {},
   "outputs": [],
   "source": [
    "torch.save(dls, \"./data/dls.pth\")"
   ]
  },
  {
   "cell_type": "code",
   "execution_count": null,
   "metadata": {},
   "outputs": [],
   "source": [
    "dls = torch.load(\"./data/dls.pth\")"
   ]
  },
  {
   "cell_type": "code",
   "execution_count": 10,
   "metadata": {},
   "outputs": [
    {
     "data": {
      "text/plain": [
       "149217"
      ]
     },
     "execution_count": 10,
     "metadata": {},
     "output_type": "execute_result"
    }
   ],
   "source": [
    "n_samples = len(dls.train_ds); n_samples"
   ]
  },
  {
   "cell_type": "code",
   "execution_count": 28,
   "metadata": {},
   "outputs": [],
   "source": [
    "class_counts = torch.bincount(torch.stack(list(dls.train_ds.tls[1][:])))"
   ]
  },
  {
   "cell_type": "code",
   "execution_count": 29,
   "metadata": {},
   "outputs": [
    {
     "data": {
      "text/plain": [
       "TensorCategory([44.9720,  9.7681, 71.8772,  0.1854,  2.6154, 11.6813])"
      ]
     },
     "execution_count": 29,
     "metadata": {},
     "output_type": "execute_result"
    }
   ],
   "source": [
    "class_weights = n_samples / (dls.c * class_counts); class_weights"
   ]
  },
  {
   "cell_type": "code",
   "execution_count": 30,
   "metadata": {},
   "outputs": [
    {
     "data": {
      "text/plain": [
       "tensor([44.9720,  9.7681, 71.8772,  0.1854,  2.6154, 11.6813], device='cuda:0')"
      ]
     },
     "execution_count": 30,
     "metadata": {},
     "output_type": "execute_result"
    }
   ],
   "source": [
    "class_weights = torch.FloatTensor(class_weights).cuda(); class_weights"
   ]
  },
  {
   "cell_type": "code",
   "execution_count": 33,
   "metadata": {},
   "outputs": [],
   "source": [
    "learn = text_classifier_learner(dls, AWD_LSTM, path=Path(\".\"), drop_mult=1., \n",
    "                                loss_func=CrossEntropyLossFlat(weight=class_weights),\n",
    "                                metrics=[accuracy, f1])"
   ]
  },
  {
   "cell_type": "code",
   "execution_count": 34,
   "metadata": {},
   "outputs": [
    {
     "data": {
      "text/plain": [
       "<fastai.text.learner.TextLearner at 0x7f4eca7f6d60>"
      ]
     },
     "execution_count": 34,
     "metadata": {},
     "output_type": "execute_result"
    }
   ],
   "source": [
    "learn.load_encoder(\"lstm_lm_1E+3E+3E_enc\")"
   ]
  },
  {
   "cell_type": "code",
   "execution_count": 35,
   "metadata": {},
   "outputs": [
    {
     "data": {
      "text/html": [
       "<table border=\"1\" class=\"dataframe\">\n",
       "  <thead>\n",
       "    <tr style=\"text-align: left;\">\n",
       "      <th>epoch</th>\n",
       "      <th>train_loss</th>\n",
       "      <th>valid_loss</th>\n",
       "      <th>accuracy</th>\n",
       "      <th>f1_score</th>\n",
       "      <th>time</th>\n",
       "    </tr>\n",
       "  </thead>\n",
       "  <tbody>\n",
       "    <tr>\n",
       "      <td>0</td>\n",
       "      <td>None</td>\n",
       "      <td>None</td>\n",
       "      <td>None</td>\n",
       "      <td>00:02</td>\n",
       "    </tr>\n",
       "  </tbody>\n",
       "</table>"
      ],
      "text/plain": [
       "<IPython.core.display.HTML object>"
      ]
     },
     "metadata": {},
     "output_type": "display_data"
    },
    {
     "data": {
      "text/plain": [
       "SequentialRNN (Input shape: ['64 x 4867'])\n",
       "================================================================\n",
       "Layer (type)         Output Shape         Param #    Trainable \n",
       "================================================================\n",
       "LSTM                 ['64 x 43 x 1152',   1,852,416  False     \n",
       "________________________________________________________________\n",
       "LSTM                 ['64 x 43 x 1152',   5,317,632  False     \n",
       "________________________________________________________________\n",
       "LSTM                 ['64 x 43 x 400', \"  1,846,400  False     \n",
       "________________________________________________________________\n",
       "RNNDropout           64 x 43 x 400        0          False     \n",
       "________________________________________________________________\n",
       "RNNDropout           64 x 43 x 1152       0          False     \n",
       "________________________________________________________________\n",
       "RNNDropout           64 x 43 x 1152       0          False     \n",
       "________________________________________________________________\n",
       "BatchNorm1d          64 x 1200            2,400      True      \n",
       "________________________________________________________________\n",
       "Dropout              64 x 1200            0          False     \n",
       "________________________________________________________________\n",
       "Linear               64 x 50              60,000     True      \n",
       "________________________________________________________________\n",
       "ReLU                 64 x 50              0          False     \n",
       "________________________________________________________________\n",
       "BatchNorm1d          64 x 50              100        True      \n",
       "________________________________________________________________\n",
       "Dropout              64 x 50              0          False     \n",
       "________________________________________________________________\n",
       "Linear               64 x 6               300        True      \n",
       "________________________________________________________________\n",
       "\n",
       "Total params: 9,079,248\n",
       "Total trainable params: 62,800\n",
       "Total non-trainable params: 9,016,448\n",
       "\n",
       "Optimizer used: <function Adam at 0x7f4f1ee2a1f0>\n",
       "Loss function: FlattenedLoss of CrossEntropyLoss()\n",
       "\n",
       "Model frozen up to parameter group #4\n",
       "\n",
       "Callbacks:\n",
       "  - TrainEvalCallback\n",
       "  - Recorder\n",
       "  - ProgressCallback\n",
       "  - ModelResetter\n",
       "  - RNNRegularizer"
      ]
     },
     "execution_count": 35,
     "metadata": {},
     "output_type": "execute_result"
    }
   ],
   "source": [
    "learn.freeze()\n",
    "learn.summary()"
   ]
  },
  {
   "cell_type": "code",
   "execution_count": 37,
   "metadata": {},
   "outputs": [
    {
     "data": {
      "text/html": [],
      "text/plain": [
       "<IPython.core.display.HTML object>"
      ]
     },
     "metadata": {},
     "output_type": "display_data"
    },
    {
     "data": {
      "text/plain": [
       "SuggestedLRs(lr_min=0.025118863582611083, lr_steep=2.2908675418875646e-06)"
      ]
     },
     "execution_count": 37,
     "metadata": {},
     "output_type": "execute_result"
    },
    {
     "data": {
      "image/png": "[encoded data removed]",
      "text/plain": [
       "<Figure size 432x288 with 1 Axes>"
      ]
     },
     "metadata": {
      "needs_background": "light"
     },
     "output_type": "display_data"
    }
   ],
   "source": [
    "learn.lr_find()"
   ]
  },
  {
   "cell_type": "code",
   "execution_count": 38,
   "metadata": {},
   "outputs": [
    {
     "data": {
      "text/html": [
       "<table border=\"1\" class=\"dataframe\">\n",
       "  <thead>\n",
       "    <tr style=\"text-align: left;\">\n",
       "      <th>epoch</th>\n",
       "      <th>train_loss</th>\n",
       "      <th>valid_loss</th>\n",
       "      <th>accuracy</th>\n",
       "      <th>f1_score</th>\n",
       "      <th>time</th>\n",
       "    </tr>\n",
       "  </thead>\n",
       "  <tbody>\n",
       "    <tr>\n",
       "      <td>0</td>\n",
       "      <td>0.961801</td>\n",
       "      <td>0.864121</td>\n",
       "      <td>0.610271</td>\n",
       "      <td>0.298024</td>\n",
       "      <td>07:35</td>\n",
       "    </tr>\n",
       "  </tbody>\n",
       "</table>"
      ],
      "text/plain": [
       "<IPython.core.display.HTML object>"
      ]
     },
     "metadata": {},
     "output_type": "display_data"
    }
   ],
   "source": [
    "learn.fit_one_cycle(1, 2e-2)"
   ]
  },
  {
   "cell_type": "code",
   "execution_count": 39,
   "metadata": {},
   "outputs": [
    {
     "data": {
      "text/html": [
       "<table border=\"1\" class=\"dataframe\">\n",
       "  <thead>\n",
       "    <tr style=\"text-align: left;\">\n",
       "      <th>epoch</th>\n",
       "      <th>train_loss</th>\n",
       "      <th>valid_loss</th>\n",
       "      <th>accuracy</th>\n",
       "      <th>f1_score</th>\n",
       "      <th>time</th>\n",
       "    </tr>\n",
       "  </thead>\n",
       "  <tbody>\n",
       "    <tr>\n",
       "      <td>0</td>\n",
       "      <td>0.695018</td>\n",
       "      <td>0.644269</td>\n",
       "      <td>0.688901</td>\n",
       "      <td>0.368934</td>\n",
       "      <td>12:21</td>\n",
       "    </tr>\n",
       "  </tbody>\n",
       "</table>"
      ],
      "text/plain": [
       "<IPython.core.display.HTML object>"
      ]
     },
     "metadata": {},
     "output_type": "display_data"
    }
   ],
   "source": [
    "learn.freeze_to(-2)\n",
    "learn.fit_one_cycle(1, slice(1e-2/(2.6**4),1e-2))\n"
   ]
  },
  {
   "cell_type": "code",
   "execution_count": 40,
   "metadata": {},
   "outputs": [
    {
     "data": {
      "text/html": [
       "<table border=\"1\" class=\"dataframe\">\n",
       "  <thead>\n",
       "    <tr style=\"text-align: left;\">\n",
       "      <th>epoch</th>\n",
       "      <th>train_loss</th>\n",
       "      <th>valid_loss</th>\n",
       "      <th>accuracy</th>\n",
       "      <th>f1_score</th>\n",
       "      <th>time</th>\n",
       "    </tr>\n",
       "  </thead>\n",
       "  <tbody>\n",
       "    <tr>\n",
       "      <td>0</td>\n",
       "      <td>0.498383</td>\n",
       "      <td>0.598076</td>\n",
       "      <td>0.711680</td>\n",
       "      <td>0.404785</td>\n",
       "      <td>18:18</td>\n",
       "    </tr>\n",
       "  </tbody>\n",
       "</table>"
      ],
      "text/plain": [
       "<IPython.core.display.HTML object>"
      ]
     },
     "metadata": {},
     "output_type": "display_data"
    }
   ],
   "source": [
    "learn.freeze_to(-3)\n",
    "learn.fit_one_cycle(1, slice(5e-3/(2.6**4),5e-3))"
   ]
  },
  {
   "cell_type": "code",
   "execution_count": 41,
   "metadata": {},
   "outputs": [
    {
     "data": {
      "text/html": [
       "<table border=\"1\" class=\"dataframe\">\n",
       "  <thead>\n",
       "    <tr style=\"text-align: left;\">\n",
       "      <th>epoch</th>\n",
       "      <th>train_loss</th>\n",
       "      <th>valid_loss</th>\n",
       "      <th>accuracy</th>\n",
       "      <th>f1_score</th>\n",
       "      <th>time</th>\n",
       "    </tr>\n",
       "  </thead>\n",
       "  <tbody>\n",
       "    <tr>\n",
       "      <td>0</td>\n",
       "      <td>0.435686</td>\n",
       "      <td>0.570500</td>\n",
       "      <td>0.758579</td>\n",
       "      <td>0.449526</td>\n",
       "      <td>19:18</td>\n",
       "    </tr>\n",
       "    <tr>\n",
       "      <td>1</td>\n",
       "      <td>0.484861</td>\n",
       "      <td>0.559896</td>\n",
       "      <td>0.765198</td>\n",
       "      <td>0.440880</td>\n",
       "      <td>12:41</td>\n",
       "    </tr>\n",
       "  </tbody>\n",
       "</table>"
      ],
      "text/plain": [
       "<IPython.core.display.HTML object>"
      ]
     },
     "metadata": {},
     "output_type": "display_data"
    }
   ],
   "source": [
    "learn.unfreeze()\n",
    "learn.fit_one_cycle(2, slice(1e-3/(2.6**4),1e-3))"
   ]
  },
  {
   "cell_type": "code",
   "execution_count": 42,
   "metadata": {},
   "outputs": [
    {
     "data": {
      "image/png": "[encoded data removed]",
      "text/plain": [
       "<Figure size 432x288 with 1 Axes>"
      ]
     },
     "metadata": {
      "needs_background": "light"
     },
     "output_type": "display_data"
    }
   ],
   "source": [
    "learn.recorder.plot_loss()"
   ]
  },
  {
   "cell_type": "code",
   "execution_count": 43,
   "metadata": {},
   "outputs": [
    {
     "data": {
      "text/plain": [
       "Path('models/fwd_clf.pth')"
      ]
     },
     "execution_count": 43,
     "metadata": {},
     "output_type": "execute_result"
    }
   ],
   "source": [
    "learn.save('fwd_clf')"
   ]
  },
  {
   "cell_type": "code",
   "execution_count": null,
   "metadata": {},
   "outputs": [],
   "source": [
    "learn.load(\"fwd_clf\")"
   ]
  },
  {
   "cell_type": "code",
   "execution_count": null,
   "metadata": {},
   "outputs": [
    {
     "data": {
      "text/html": [
       "\n",
       "    <div>\n",
       "        <style>\n",
       "            /* Turns off some styling */\n",
       "            progress {\n",
       "                /* gets rid of default border in Firefox and Opera. */\n",
       "                border: none;\n",
       "                /* Needs to be in here for Safari polyfill so background images work as expected. */\n",
       "                background-size: auto;\n",
       "            }\n",
       "            .progress-bar-interrupted, .progress-bar-interrupted::-webkit-progress-bar {\n",
       "                background: #F44336;\n",
       "            }\n",
       "        </style>\n",
       "      <progress value='7457' class='' max='243952' style='width:300px; height:20px; vertical-align: middle;'></progress>\n",
       "      3.06% [7457/243952 00:24<13:09]\n",
       "    </div>\n",
       "    "
      ],
      "text/plain": [
       "<IPython.core.display.HTML object>"
      ]
     },
     "metadata": {},
     "output_type": "display_data"
    }
   ],
   "source": [
    "dls_bwd = DataBlock(\n",
    "    blocks=(TextBlock.from_df('body', tok=dls.tok, backwards=True),  CategoryBlock),\n",
    "    get_x=ColReader('text'), get_y=ColReader('document_type'), splitter=ColSplitter()).dataloaders(data)"
   ]
  },
  {
   "cell_type": "code",
   "execution_count": null,
   "metadata": {},
   "outputs": [],
   "source": [
    "assert dls.vocab[0] == dls_bwd.vocab[0]"
   ]
  },
  {
   "cell_type": "code",
   "execution_count": null,
   "metadata": {},
   "outputs": [],
   "source": [
    "del(dls)"
   ]
  },
  {
   "cell_type": "code",
   "execution_count": null,
   "metadata": {},
   "outputs": [],
   "source": [
    "torch.save(dls, \"./data/dls_bwd.pth\")"
   ]
  },
  {
   "cell_type": "code",
   "execution_count": null,
   "metadata": {},
   "outputs": [],
   "source": [
    "dls_bwd = torch.load(\"./data/dls_bwd.pth\")"
   ]
  },
  {
   "cell_type": "code",
   "execution_count": null,
   "metadata": {},
   "outputs": [],
   "source": [
    "learn = text_classifier_learner(dls, AWD_LSTM, path=Path(\".\"), drop_mult=1., \n",
    "#                                 loss_func=CrossEntropyLossFlat(weight=class_weights),\n",
    "                                metrics=[accuracy, f1])"
   ]
  },
  {
   "cell_type": "code",
   "execution_count": null,
   "metadata": {},
   "outputs": [],
   "source": [
    "learn.load_encoder(\"lstm_lm_1E+3E+3E_enc_bwd\")"
   ]
  },
  {
   "cell_type": "code",
   "execution_count": null,
   "metadata": {},
   "outputs": [],
   "source": [
    "learn.freeze()\n",
    "learn.summary()"
   ]
  },
  {
   "cell_type": "code",
   "execution_count": null,
   "metadata": {},
   "outputs": [],
   "source": [
    "learn.lr_find()"
   ]
  },
  {
   "cell_type": "code",
   "execution_count": null,
   "metadata": {},
   "outputs": [],
   "source": [
    "learn.fit_one_cycle(1, 2e-2)"
   ]
  },
  {
   "cell_type": "code",
   "execution_count": null,
   "metadata": {},
   "outputs": [],
   "source": [
    "learn.freeze_to(-2)\n",
    "learn.fit_one_cycle(1, slice(1e-2/(2.6**4),1e-2))\n"
   ]
  },
  {
   "cell_type": "code",
   "execution_count": null,
   "metadata": {},
   "outputs": [],
   "source": [
    "learn.freeze_to(-3)\n",
    "learn.fit_one_cycle(1, slice(5e-3/(2.6**4),5e-3))"
   ]
  },
  {
   "cell_type": "code",
   "execution_count": null,
   "metadata": {},
   "outputs": [],
   "source": [
    "learn.unfreeze()\n",
    "learn.fit_one_cycle(2, slice(1e-3/(2.6**4),1e-3))"
   ]
  },
  {
   "cell_type": "code",
   "execution_count": null,
   "metadata": {},
   "outputs": [],
   "source": [
    "learn.recorder.plot_loss()"
   ]
  },
  {
   "cell_type": "code",
   "execution_count": 43,
   "metadata": {},
   "outputs": [
    {
     "data": {
      "text/plain": [
       "Path('models/fwd_clf.pth')"
      ]
     },
     "execution_count": 43,
     "metadata": {},
     "output_type": "execute_result"
    }
   ],
   "source": [
    "learn.save('bwd_clf')"
   ]
  },
  {
   "cell_type": "code",
   "execution_count": null,
   "metadata": {},
   "outputs": [],
   "source": [
    "learn.load(\"bwd_clf\")"
   ]
  },
  {
   "cell_type": "code",
   "execution_count": null,
   "metadata": {},
   "outputs": [],
   "source": []
  }
 ],
 "metadata": {
  "kernelspec": {
   "display_name": "fastai2",
   "language": "python",
   "name": "fastai2"
  },
  "language_info": {
   "codemirror_mode": {
    "name": "ipython",
    "version": 3
   },
   "file_extension": ".py",
   "mimetype": "text/x-python",
   "name": "python",
   "nbconvert_exporter": "python",
   "pygments_lexer": "ipython3",
   "version": "3.8.5"
  }
 },
 "nbformat": 4,
 "nbformat_minor": 4
}
