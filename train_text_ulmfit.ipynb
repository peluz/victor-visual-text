{
 "cells": [
  {
   "cell_type": "code",
   "execution_count": 1,
   "metadata": {},
   "outputs": [],
   "source": [
    "%load_ext autoreload\n",
    "%autoreload 2\n",
    "\n",
    "from fastai.text.all import *\n",
    "import pandas as pd\n",
    "import torch\n",
    "from tqdm.notebook import tqdm\n",
    "from utils import evaluate, evaluate_ensemble"
   ]
  },
  {
   "cell_type": "code",
   "execution_count": 2,
   "metadata": {},
   "outputs": [],
   "source": [
    "seed = 42\n",
    "\n",
    "# python RNG\n",
    "import random\n",
    "random.seed(seed)\n",
    "\n",
    "# pytorch RNGs\n",
    "import torch\n",
    "torch.manual_seed(seed)\n",
    "torch.backends.cudnn.deterministic = True\n",
    "if torch.cuda.is_available(): torch.cuda.manual_seed_all(seed)\n",
    "\n",
    "# numpy RNG\n",
    "import numpy as np\n",
    "np.random.seed(seed)\n",
    "\n",
    "# tensorflow RNG\n",
    "# tf.random.set_seed(seed)"
   ]
  },
  {
   "cell_type": "code",
   "execution_count": 3,
   "metadata": {},
   "outputs": [],
   "source": [
    "data_path = Path(\"/mnt/nas/backups/08-07-2020/desktopg01/lisa/Data/CSV\")"
   ]
  },
  {
   "cell_type": "code",
   "execution_count": 4,
   "metadata": {},
   "outputs": [],
   "source": [
    "model_path=Path(\"./models\")"
   ]
  },
  {
   "cell_type": "code",
   "execution_count": 5,
   "metadata": {},
   "outputs": [],
   "source": [
    "train_csv = pd.read_csv(data_path/\"train_small.csv\", usecols=['document_type', 'body'])\n",
    "val_csv = pd.read_csv(data_path/\"validation_small.csv\", usecols=['document_type', 'body'])\n",
    "test_csv = pd.read_csv(data_path/\"test_small.csv\", usecols=['document_type', 'body'])"
   ]
  },
  {
   "cell_type": "code",
   "execution_count": 6,
   "metadata": {},
   "outputs": [],
   "source": [
    "train_csv[\"is_valid\"] = False\n",
    "val_csv[\"is_valid\"] = True\n",
    "data = pd.concat([train_csv, val_csv])"
   ]
  },
  {
   "cell_type": "code",
   "execution_count": null,
   "metadata": {},
   "outputs": [],
   "source": [
    "# dls_lm = TextDataLoaders.from_df(data, seed=seed, is_lm=True, text_col=\"body\",\n",
    "#                                  valid_col=\"is_valid\", tok_tfm=Tokenizer.from_df('body', tok=tok))"
   ]
  },
  {
   "cell_type": "code",
   "execution_count": null,
   "metadata": {},
   "outputs": [],
   "source": [
    "dls_lm = DataBlock(\n",
    "    blocks=(TextBlock.from_df('body', tok=SentencePieceTokenizer(), is_lm=True)),\n",
    "    get_x=ColReader('text'), splitter=ColSplitter()).dataloaders(data)"
   ]
  },
  {
   "cell_type": "code",
   "execution_count": null,
   "metadata": {},
   "outputs": [],
   "source": [
    "dls_lm.vocab[:15], len(dls_lm.vocab)"
   ]
  },
  {
   "cell_type": "code",
   "execution_count": null,
   "metadata": {},
   "outputs": [],
   "source": [
    "assert len(train_csv) == len(dls_lm.train_ds) and len(val_csv) ==len(dls_lm.valid_ds)"
   ]
  },
  {
   "cell_type": "code",
   "execution_count": null,
   "metadata": {},
   "outputs": [],
   "source": [
    "torch.save(dls_lm, \"./data/dls_lm.pth\")"
   ]
  },
  {
   "cell_type": "code",
   "execution_count": 5,
   "metadata": {},
   "outputs": [],
   "source": [
    "dls_lm = torch.load(\"./data/dls_lm.pth\")"
   ]
  },
  {
   "cell_type": "code",
   "execution_count": null,
   "metadata": {},
   "outputs": [],
   "source": [
    "dls_lm.show_batch()"
   ]
  },
  {
   "cell_type": "code",
   "execution_count": 7,
   "metadata": {},
   "outputs": [],
   "source": [
    "perplexity = Perplexity()\n",
    "f1 = F1Score(average='macro')"
   ]
  },
  {
   "cell_type": "code",
   "execution_count": null,
   "metadata": {},
   "outputs": [],
   "source": [
    "# config = awd_qrnn_lm_config.copy()\n",
    "# config['n_hid'] = 1550 #default 1152\n",
    "# config['n_layers'] = 4 #default 3"
   ]
  },
  {
   "cell_type": "code",
   "execution_count": null,
   "metadata": {},
   "outputs": [],
   "source": [
    "# lm_fns3 = ['pt_wt_sp15_multifit', 'pt_wt_vocab_sp15_multifit']\n",
    "# lm_fns3_bwd = ['pt_wt_sp15_multifit_bwd', 'pt_wt_vocab_sp15_multifit_bwd']"
   ]
  },
  {
   "cell_type": "code",
   "execution_count": null,
   "metadata": {},
   "outputs": [],
   "source": [
    "learn_lm = language_model_learner(dls_lm, AWD_LSTM, path=Path(\".\"), drop_mult=1., \n",
    "                                  metrics=[error_rate, accuracy, perplexity])"
   ]
  },
  {
   "cell_type": "code",
   "execution_count": null,
   "metadata": {},
   "outputs": [],
   "source": [
    "learn_lm.save_encoder(\"no_fine_tune_enc\")"
   ]
  },
  {
   "cell_type": "code",
   "execution_count": null,
   "metadata": {},
   "outputs": [],
   "source": [
    "TEXT = \"O Ministro\"\n",
    "N_WORDS = 40\n",
    "N_SENTENCES = 2\n",
    "preds = [learn_lm.predict(TEXT, N_WORDS, temperature=0.75) \n",
    "         for _ in range(N_SENTENCES)]"
   ]
  },
  {
   "cell_type": "code",
   "execution_count": null,
   "metadata": {},
   "outputs": [],
   "source": [
    "print(\"\\n\".join(preds))"
   ]
  },
  {
   "cell_type": "code",
   "execution_count": null,
   "metadata": {},
   "outputs": [],
   "source": [
    "learn_lm.freeze()\n",
    "learn_lm.summary()"
   ]
  },
  {
   "cell_type": "code",
   "execution_count": null,
   "metadata": {},
   "outputs": [],
   "source": [
    "learn_lm.lr_find()"
   ]
  },
  {
   "cell_type": "code",
   "execution_count": null,
   "metadata": {},
   "outputs": [],
   "source": [
    "learn_lm.fit_one_cycle(1, 1e-1)"
   ]
  },
  {
   "cell_type": "code",
   "execution_count": null,
   "metadata": {},
   "outputs": [],
   "source": [
    "learn_lm.recorder.plot_loss()"
   ]
  },
  {
   "cell_type": "code",
   "execution_count": null,
   "metadata": {},
   "outputs": [],
   "source": [
    "learn_lm.save('lstm_lm_1E')"
   ]
  },
  {
   "cell_type": "code",
   "execution_count": 10,
   "metadata": {},
   "outputs": [
    {
     "data": {
      "text/plain": [
       "<fastai.text.learner.LMLearner at 0x7fd9f0133700>"
      ]
     },
     "execution_count": 10,
     "metadata": {},
     "output_type": "execute_result"
    }
   ],
   "source": [
    "learn_lm.load(\"lstm_lm_1E\")"
   ]
  },
  {
   "cell_type": "code",
   "execution_count": 11,
   "metadata": {},
   "outputs": [],
   "source": [
    "learn_lm.unfreeze()"
   ]
  },
  {
   "cell_type": "code",
   "execution_count": 12,
   "metadata": {},
   "outputs": [
    {
     "data": {
      "text/html": [
       "<table border=\"1\" class=\"dataframe\">\n",
       "  <thead>\n",
       "    <tr style=\"text-align: left;\">\n",
       "      <th>epoch</th>\n",
       "      <th>train_loss</th>\n",
       "      <th>valid_loss</th>\n",
       "      <th>error_rate</th>\n",
       "      <th>accuracy</th>\n",
       "      <th>perplexity</th>\n",
       "      <th>time</th>\n",
       "    </tr>\n",
       "  </thead>\n",
       "  <tbody>\n",
       "    <tr>\n",
       "      <td>0</td>\n",
       "      <td>None</td>\n",
       "      <td>None</td>\n",
       "      <td>None</td>\n",
       "      <td>None</td>\n",
       "      <td>00:01</td>\n",
       "    </tr>\n",
       "  </tbody>\n",
       "</table>"
      ],
      "text/plain": [
       "<IPython.core.display.HTML object>"
      ]
     },
     "metadata": {},
     "output_type": "display_data"
    },
    {
     "data": {
      "text/plain": [
       "SequentialRNN (Input shape: ['64 x 72'])\n",
       "================================================================\n",
       "Layer (type)         Output Shape         Param #    Trainable \n",
       "================================================================\n",
       "LSTM                 ['64 x 72 x 1152',   1,852,416  True      \n",
       "________________________________________________________________\n",
       "LSTM                 ['64 x 72 x 1152',   5,317,632  True      \n",
       "________________________________________________________________\n",
       "LSTM                 ['64 x 72 x 400', \"  1,846,400  True      \n",
       "________________________________________________________________\n",
       "RNNDropout           64 x 72 x 400        0          False     \n",
       "________________________________________________________________\n",
       "RNNDropout           64 x 72 x 1152       0          False     \n",
       "________________________________________________________________\n",
       "RNNDropout           64 x 72 x 1152       0          False     \n",
       "________________________________________________________________\n",
       "Linear               64 x 72 x 30104      12,071,704 True      \n",
       "________________________________________________________________\n",
       "RNNDropout           64 x 72 x 400        0          False     \n",
       "________________________________________________________________\n",
       "\n",
       "Total params: 21,088,152\n",
       "Total trainable params: 21,088,152\n",
       "Total non-trainable params: 0\n",
       "\n",
       "Optimizer used: <function Adam at 0x7fdb6e30d1f0>\n",
       "Loss function: FlattenedLoss of CrossEntropyLoss()\n",
       "\n",
       "Model unfrozen\n",
       "\n",
       "Callbacks:\n",
       "  - TrainEvalCallback\n",
       "  - Recorder\n",
       "  - ProgressCallback\n",
       "  - ModelResetter\n",
       "  - RNNRegularizer"
      ]
     },
     "execution_count": 12,
     "metadata": {},
     "output_type": "execute_result"
    }
   ],
   "source": [
    "learn_lm.summary()"
   ]
  },
  {
   "cell_type": "code",
   "execution_count": null,
   "metadata": {},
   "outputs": [],
   "source": [
    "learn_lm.lr_find()"
   ]
  },
  {
   "cell_type": "code",
   "execution_count": 13,
   "metadata": {},
   "outputs": [
    {
     "data": {
      "text/html": [
       "<table border=\"1\" class=\"dataframe\">\n",
       "  <thead>\n",
       "    <tr style=\"text-align: left;\">\n",
       "      <th>epoch</th>\n",
       "      <th>train_loss</th>\n",
       "      <th>valid_loss</th>\n",
       "      <th>error_rate</th>\n",
       "      <th>accuracy</th>\n",
       "      <th>perplexity</th>\n",
       "      <th>time</th>\n",
       "    </tr>\n",
       "  </thead>\n",
       "  <tbody>\n",
       "    <tr>\n",
       "      <td>0</td>\n",
       "      <td>2.966244</td>\n",
       "      <td>2.813701</td>\n",
       "      <td>0.443039</td>\n",
       "      <td>0.556961</td>\n",
       "      <td>16.671509</td>\n",
       "      <td>44:03</td>\n",
       "    </tr>\n",
       "    <tr>\n",
       "      <td>1</td>\n",
       "      <td>2.675253</td>\n",
       "      <td>2.457869</td>\n",
       "      <td>0.384936</td>\n",
       "      <td>0.615065</td>\n",
       "      <td>11.679898</td>\n",
       "      <td>34:06</td>\n",
       "    </tr>\n",
       "    <tr>\n",
       "      <td>2</td>\n",
       "      <td>2.611775</td>\n",
       "      <td>2.390572</td>\n",
       "      <td>0.373849</td>\n",
       "      <td>0.626151</td>\n",
       "      <td>10.919739</td>\n",
       "      <td>33:42</td>\n",
       "    </tr>\n",
       "  </tbody>\n",
       "</table>"
      ],
      "text/plain": [
       "<IPython.core.display.HTML object>"
      ]
     },
     "metadata": {},
     "output_type": "display_data"
    }
   ],
   "source": [
    "learn_lm.fit_one_cycle(3, 1e-3)"
   ]
  },
  {
   "cell_type": "code",
   "execution_count": 14,
   "metadata": {},
   "outputs": [
    {
     "data": {
      "image/png": "[encoded data removed]",
      "text/plain": [
       "<Figure size 432x288 with 1 Axes>"
      ]
     },
     "metadata": {
      "needs_background": "light"
     },
     "output_type": "display_data"
    }
   ],
   "source": [
    "learn_lm.recorder.plot_loss()"
   ]
  },
  {
   "cell_type": "code",
   "execution_count": 15,
   "metadata": {},
   "outputs": [
    {
     "data": {
      "text/plain": [
       "Path('models/lstm_lm_1E+3E.pth')"
      ]
     },
     "execution_count": 15,
     "metadata": {},
     "output_type": "execute_result"
    }
   ],
   "source": [
    "learn_lm.save('lstm_lm_1E+3E')"
   ]
  },
  {
   "cell_type": "code",
   "execution_count": 16,
   "metadata": {},
   "outputs": [],
   "source": [
    "learn_lm.save_encoder('lstm_lm_1E+3E_enc')"
   ]
  },
  {
   "cell_type": "code",
   "execution_count": 20,
   "metadata": {},
   "outputs": [
    {
     "data": {
      "text/html": [],
      "text/plain": [
       "<IPython.core.display.HTML object>"
      ]
     },
     "metadata": {},
     "output_type": "display_data"
    },
    {
     "data": {
      "text/plain": [
       "SuggestedLRs(lr_min=0.0009120108559727668, lr_steep=8.31763736641733e-06)"
      ]
     },
     "execution_count": 20,
     "metadata": {},
     "output_type": "execute_result"
    },
    {
     "data": {
      "image/png": "[encoded data removed]",
      "text/plain": [
       "<Figure size 432x288 with 1 Axes>"
      ]
     },
     "metadata": {
      "needs_background": "light"
     },
     "output_type": "display_data"
    }
   ],
   "source": [
    "learn_lm.lr_find()"
   ]
  },
  {
   "cell_type": "code",
   "execution_count": 21,
   "metadata": {},
   "outputs": [
    {
     "data": {
      "text/html": [
       "<table border=\"1\" class=\"dataframe\">\n",
       "  <thead>\n",
       "    <tr style=\"text-align: left;\">\n",
       "      <th>epoch</th>\n",
       "      <th>train_loss</th>\n",
       "      <th>valid_loss</th>\n",
       "      <th>error_rate</th>\n",
       "      <th>accuracy</th>\n",
       "      <th>perplexity</th>\n",
       "      <th>time</th>\n",
       "    </tr>\n",
       "  </thead>\n",
       "  <tbody>\n",
       "    <tr>\n",
       "      <td>0</td>\n",
       "      <td>2.454777</td>\n",
       "      <td>2.338836</td>\n",
       "      <td>0.366251</td>\n",
       "      <td>0.633750</td>\n",
       "      <td>10.369164</td>\n",
       "      <td>33:51</td>\n",
       "    </tr>\n",
       "    <tr>\n",
       "      <td>1</td>\n",
       "      <td>2.371338</td>\n",
       "      <td>2.217347</td>\n",
       "      <td>0.348005</td>\n",
       "      <td>0.651997</td>\n",
       "      <td>9.182940</td>\n",
       "      <td>1:48:11</td>\n",
       "    </tr>\n",
       "    <tr>\n",
       "      <td>2</td>\n",
       "      <td>2.265793</td>\n",
       "      <td>2.180504</td>\n",
       "      <td>0.342098</td>\n",
       "      <td>0.657903</td>\n",
       "      <td>8.850764</td>\n",
       "      <td>2:10:31</td>\n",
       "    </tr>\n",
       "  </tbody>\n",
       "</table>"
      ],
      "text/plain": [
       "<IPython.core.display.HTML object>"
      ]
     },
     "metadata": {},
     "output_type": "display_data"
    }
   ],
   "source": [
    "learn_lm.fit_one_cycle(3, 1e-3)"
   ]
  },
  {
   "cell_type": "code",
   "execution_count": 22,
   "metadata": {},
   "outputs": [
    {
     "data": {
      "image/png": "[encoded data removed]",
      "text/plain": [
       "<Figure size 432x288 with 1 Axes>"
      ]
     },
     "metadata": {
      "needs_background": "light"
     },
     "output_type": "display_data"
    }
   ],
   "source": [
    "learn_lm.recorder.plot_loss()"
   ]
  },
  {
   "cell_type": "code",
   "execution_count": 23,
   "metadata": {},
   "outputs": [
    {
     "data": {
      "text/plain": [
       "Path('models/lstm_lm_1E+3E+3E.pth')"
      ]
     },
     "execution_count": 23,
     "metadata": {},
     "output_type": "execute_result"
    }
   ],
   "source": [
    "learn_lm.save('lstm_lm_1E+3E+3E')"
   ]
  },
  {
   "cell_type": "code",
   "execution_count": 24,
   "metadata": {},
   "outputs": [],
   "source": [
    "learn_lm.save_encoder('lstm_lm_1E+3E+3E_enc')"
   ]
  },
  {
   "cell_type": "code",
   "execution_count": 25,
   "metadata": {},
   "outputs": [
    {
     "data": {
      "text/html": [],
      "text/plain": [
       "<IPython.core.display.HTML object>"
      ]
     },
     "metadata": {},
     "output_type": "display_data"
    },
    {
     "data": {
      "text/html": [],
      "text/plain": [
       "<IPython.core.display.HTML object>"
      ]
     },
     "metadata": {},
     "output_type": "display_data"
    }
   ],
   "source": [
    "TEXT = \"O Ministro\"\n",
    "N_WORDS = 40\n",
    "N_SENTENCES = 2\n",
    "preds = [learn_lm.predict(TEXT, N_WORDS, temperature=0.75) \n",
    "         for _ in range(N_SENTENCES)]"
   ]
  },
  {
   "cell_type": "code",
   "execution_count": 26,
   "metadata": {},
   "outputs": [
    {
     "name": "stdout",
     "output_type": "stream",
     "text": [
      "▁xxbos ▁o xxunk ▁ministro ▁luiz ▁fux ▁relator ▁decisão ▁que ▁possibilita ▁julgamento ▁recurso ▁presente ▁recurso ▁extraordinário ▁razão ▁pela ▁qual ▁requer ▁seja ▁admitido ▁recurso ▁extraordinário ▁interposto ▁para ▁reformar ▁acórdão ▁proferido ▁pela ▁turma ▁recursal ▁dos ▁juizados ▁especiais ▁federais ▁pernambuco ▁que ▁negou ▁provimento ▁recurso ▁inominado ▁interposto ▁pela ▁parte\n",
      "▁xxbos ▁o xxunk ▁ministro ▁estado ▁previdência ▁social ▁seu ▁xxup ▁artigo _201 o ▁dispõe ▁sobre ▁regime ▁geral ▁previdência ▁social ▁os ▁seguintes ▁critérios ▁xxup ▁artigo _201 ▁previdência ▁social ▁será ▁organizada ▁sob ▁forma ▁regime ▁geral ▁caráter ▁contributivo ▁de ▁filiação ▁obrigatória ▁observados ▁critérios ▁que ▁preservem ▁equilíbrio ▁financeiro ▁atuarial\n"
     ]
    }
   ],
   "source": [
    "print(\"\\n\".join(preds))"
   ]
  },
  {
   "cell_type": "code",
   "execution_count": null,
   "metadata": {},
   "outputs": [],
   "source": [
    "dls_lm_bwd = DataBlock(\n",
    "    blocks=(TextBlock.from_df('body', tok=dls_lm.tobackwards=_lm=True, backwards=True)),\n",
    "    get_x=ColReader('text'), splitter=ColSplitter()).dataloaders(data)"
   ]
  },
  {
   "cell_type": "code",
   "execution_count": 7,
   "metadata": {},
   "outputs": [],
   "source": [
    "assert dls_lm.vocab == dls_lm_bwd.vocab"
   ]
  },
  {
   "cell_type": "code",
   "execution_count": 8,
   "metadata": {},
   "outputs": [],
   "source": [
    "del(dls_lm)"
   ]
  },
  {
   "cell_type": "code",
   "execution_count": null,
   "metadata": {},
   "outputs": [],
   "source": [
    "torch.save(dls_lm_bwd, \"./data/dls_lm_bwd.pth\")"
   ]
  },
  {
   "cell_type": "code",
   "execution_count": null,
   "metadata": {},
   "outputs": [],
   "source": [
    "dls_lm_bwd = torch.load(\"./data/dls_lm_bwd.pth\")"
   ]
  },
  {
   "cell_type": "code",
   "execution_count": 10,
   "metadata": {},
   "outputs": [
    {
     "data": {
      "text/html": [
       "<table border=\"1\" class=\"dataframe\">\n",
       "  <thead>\n",
       "    <tr style=\"text-align: right;\">\n",
       "      <th></th>\n",
       "      <th>text</th>\n",
       "      <th>text_</th>\n",
       "    </tr>\n",
       "  </thead>\n",
       "  <tbody>\n",
       "    <tr>\n",
       "      <th>0</th>\n",
       "      <td>\"} ▁código ▁seguinte ▁com ▁site ▁xxup ▁validada ▁ser ▁pode ▁certidão ▁esta ▁gerada ▁certidão ▁eletrônico ▁documento ▁inicial ▁processamento ▁coordenadoria ▁maio ▁de brasília ▁{\" ▁xxbos \"} ▁impõe ▁que ▁medida ▁pedido ▁procedência ▁discutida ▁verba ▁indenizatória ▁natureza ▁diante ▁logo ▁renda ▁imposto ▁cálculo ▁base ▁correlato ▁valor ▁dedução ▁direito ▁possuem ▁contribuintes ▁que ▁modo ▁patrimonial ▁acréscimo ▁configura ▁não ▁plano ▁déficit ▁razão ▁instituída ▁extraordinária ▁contribuição ▁título ▁social ▁seguridade ▁banrisul ▁fundação ▁pago ▁valor ▁perdida ▁foi ▁que ▁parcela ▁recomposição ▁mera ▁mas ▁matemática</td>\n",
       "      <td>▁código ▁seguinte ▁com ▁site ▁xxup ▁validada ▁ser ▁pode ▁certidão ▁esta ▁gerada ▁certidão ▁eletrônico ▁documento ▁inicial ▁processamento ▁coordenadoria ▁maio ▁de brasília ▁{\" ▁xxbos \"} ▁impõe ▁que ▁medida ▁pedido ▁procedência ▁discutida ▁verba ▁indenizatória ▁natureza ▁diante ▁logo ▁renda ▁imposto ▁cálculo ▁base ▁correlato ▁valor ▁dedução ▁direito ▁possuem ▁contribuintes ▁que ▁modo ▁patrimonial ▁acréscimo ▁configura ▁não ▁plano ▁déficit ▁razão ▁instituída ▁extraordinária ▁contribuição ▁título ▁social ▁seguridade ▁banrisul ▁fundação ▁pago ▁valor ▁perdida ▁foi ▁que ▁parcela ▁recomposição ▁mera ▁mas ▁matemática ▁reserva</td>\n",
       "    </tr>\n",
       "    <tr>\n",
       "      <th>1</th>\n",
       "      <td>▁nos ▁trabalhadores ▁dos ▁habitual ▁ganho ▁constitui ▁mesma ▁que ▁natalina ▁gratificação ▁sobre ▁previdenciária ▁contribuição ▁incide ▁que ▁considerando ▁nosso ▁grifo mani ▁sor e ▁alexandr ▁convocado ▁juiz ▁relator ▁data ▁fonte ▁citação ▁teor ▁inteiro ▁região ▁federal ▁regional ▁tribunal ▁seção ▁julgador ▁orgão ▁decisão ▁data ▁uf ▁processo ▁cível ▁apelação ▁classe ▁procedente ▁parcialmente ▁autora ▁parte ▁apelação ▁pertence ▁sepúlveda ▁min ▁stf ▁condicional ▁judicial ▁título ▁sentença ▁torna _1060 ▁lei ▁xxup _11 ▁artigo ▁xxup ▁nos ▁disposto ▁aplicação ▁que ▁decidiu ▁stf ▁e ▁pois</td>\n",
       "      <td>▁trabalhadores ▁dos ▁habitual ▁ganho ▁constitui ▁mesma ▁que ▁natalina ▁gratificação ▁sobre ▁previdenciária ▁contribuição ▁incide ▁que ▁considerando ▁nosso ▁grifo mani ▁sor e ▁alexandr ▁convocado ▁juiz ▁relator ▁data ▁fonte ▁citação ▁teor ▁inteiro ▁região ▁federal ▁regional ▁tribunal ▁seção ▁julgador ▁orgão ▁decisão ▁data ▁uf ▁processo ▁cível ▁apelação ▁classe ▁procedente ▁parcialmente ▁autora ▁parte ▁apelação ▁pertence ▁sepúlveda ▁min ▁stf ▁condicional ▁judicial ▁título ▁sentença ▁torna _1060 ▁lei ▁xxup _11 ▁artigo ▁xxup ▁nos ▁disposto ▁aplicação ▁que ▁decidiu ▁stf ▁e ▁pois ▁sucumbência</td>\n",
       "    </tr>\n",
       "    <tr>\n",
       "      <th>2</th>\n",
       "      <td>▁disposições ▁serviço ▁tempo ▁assunto ▁não ▁mpf ▁não ▁dpu ▁processo ▁sentença ▁parte ▁reforma ▁súmula raschi ▁b cio ▁clé ▁federal ▁juiz ▁relator ▁silva ▁batista ▁adriano o ▁recd ▁previd ▁s ▁n ▁social ▁seguro ▁nacional ▁instituto ▁recte ▁aprendiz ▁aluno ▁serv ▁tempo ▁cômputo ▁averb ▁prestações ▁relativas ▁diversas ▁disposições ▁serviço ▁tempo ▁assunto ▁não ▁mpf ▁não ▁dpu ▁processo ▁sentença ▁mantém ▁súmula ecato ▁c ▁reina ilton ▁u ▁federal ▁juiz ▁relator ▁previd ▁s ▁n ▁social ▁seguro ▁nacional ▁instituto o ▁recd ▁barroso</td>\n",
       "      <td>▁serviço ▁tempo ▁assunto ▁não ▁mpf ▁não ▁dpu ▁processo ▁sentença ▁parte ▁reforma ▁súmula raschi ▁b cio ▁clé ▁federal ▁juiz ▁relator ▁silva ▁batista ▁adriano o ▁recd ▁previd ▁s ▁n ▁social ▁seguro ▁nacional ▁instituto ▁recte ▁aprendiz ▁aluno ▁serv ▁tempo ▁cômputo ▁averb ▁prestações ▁relativas ▁diversas ▁disposições ▁serviço ▁tempo ▁assunto ▁não ▁mpf ▁não ▁dpu ▁processo ▁sentença ▁mantém ▁súmula ecato ▁c ▁reina ilton ▁u ▁federal ▁juiz ▁relator ▁previd ▁s ▁n ▁social ▁seguro ▁nacional ▁instituto o ▁recd ▁barroso a</td>\n",
       "    </tr>\n",
       "    <tr>\n",
       "      <th>3</th>\n",
       "      <td>▁decisão ▁que ▁admitir ▁implicará ▁jurisdicional ▁exame ▁trazido ▁jurídico ▁argumento ▁sólido ▁como ▁acolher ▁instância ▁última ▁de ▁recorrida ▁decisão ▁conseqüência ▁processo ▁neste ▁exame ▁trazido ▁dico ▁jurí ▁argumento ▁acolhido ▁examinado ▁tenha ▁que ▁judiciária ▁seção ▁seja ▁que ▁qualquer ▁federais ▁especiais ▁juizados ▁dos ▁recursal ▁turma ▁mento ▁pronuncia ▁não ▁conhecer ▁autora ▁parte ▁dado ▁onde ▁até ▁associados ▁advogados ▁silva ▁ivo o anild ▁{\" ▁xxbos \"} ▁nacional ▁fazenda ▁procurador ▁setembro ▁de ▁fortaleza ▁deferimento ▁pede _40 ▁artigo ▁xxup ▁do o _195</td>\n",
       "      <td>▁que ▁admitir ▁implicará ▁jurisdicional ▁exame ▁trazido ▁jurídico ▁argumento ▁sólido ▁como ▁acolher ▁instância ▁última ▁de ▁recorrida ▁decisão ▁conseqüência ▁processo ▁neste ▁exame ▁trazido ▁dico ▁jurí ▁argumento ▁acolhido ▁examinado ▁tenha ▁que ▁judiciária ▁seção ▁seja ▁que ▁qualquer ▁federais ▁especiais ▁juizados ▁dos ▁recursal ▁turma ▁mento ▁pronuncia ▁não ▁conhecer ▁autora ▁parte ▁dado ▁onde ▁até ▁associados ▁advogados ▁silva ▁ivo o anild ▁{\" ▁xxbos \"} ▁nacional ▁fazenda ▁procurador ▁setembro ▁de ▁fortaleza ▁deferimento ▁pede _40 ▁artigo ▁xxup ▁do o _195 ▁artigo</td>\n",
       "    </tr>\n",
       "    <tr>\n",
       "      <th>4</th>\n",
       "      <td>▁representante ▁seu ▁pessoa ▁citada ▁ser ▁poderá ▁onde ▁centro ▁bairro ▁andar ▁gonçalves ▁bento ▁rua ▁hamburgo ▁novo ▁procuradoria ▁executiva ▁gerência ▁com ▁federal ▁autarquia ▁inss ▁social ▁seguro ▁nacional ▁instituto ▁réu ▁identificação ▁autora ▁parte ▁identificação ▁rma ▁atual ▁mensal ▁renda ▁rmi ▁inicial ▁mensal ▁renda ▁dib ▁início ▁data ▁benefício ▁número ▁espécie dos u ▁can ▁bloco ser ▁kay o ▁reynald ▁rua ▁cep ▁bairro ▁completo ▁endereço ▁residência ▁hamburgo ▁novo ▁casado ▁brasileira ▁aposentado ▁município ▁domicílio ▁civil ▁estado ▁nacionalidade ▁profissão ▁rosa ▁luiz</td>\n",
       "      <td>▁seu ▁pessoa ▁citada ▁ser ▁poderá ▁onde ▁centro ▁bairro ▁andar ▁gonçalves ▁bento ▁rua ▁hamburgo ▁novo ▁procuradoria ▁executiva ▁gerência ▁com ▁federal ▁autarquia ▁inss ▁social ▁seguro ▁nacional ▁instituto ▁réu ▁identificação ▁autora ▁parte ▁identificação ▁rma ▁atual ▁mensal ▁renda ▁rmi ▁inicial ▁mensal ▁renda ▁dib ▁início ▁data ▁benefício ▁número ▁espécie dos u ▁can ▁bloco ser ▁kay o ▁reynald ▁rua ▁cep ▁bairro ▁completo ▁endereço ▁residência ▁hamburgo ▁novo ▁casado ▁brasileira ▁aposentado ▁município ▁domicílio ▁civil ▁estado ▁nacionalidade ▁profissão ▁rosa ▁luiz ▁jorge</td>\n",
       "    </tr>\n",
       "    <tr>\n",
       "      <th>5</th>\n",
       "      <td>▁federal ▁juiza n agulia ▁kar ▁bezerra ▁simone ▁intimem ▁registre publique ▁{\" ▁xxbos \"} ▁principiológica ▁norma ▁pela ▁definidos ▁contornos ▁seus ▁tendo ▁permanece ▁regra ▁sentido ▁nesse ▁princípio ▁um ▁aplicação ▁mas ▁regra ▁qualquer ▁quebra ▁trata ▁não ▁efeito ▁com ▁previdenciário ▁sistema ▁realidade ▁para ▁olhos ndo ▁fecha ▁individualista ▁puramente ▁soa ▁venia ▁data ▁visão ▁tal ▁verdade ▁contrapartida ▁da idade ▁proporcional ▁regra ▁quebra ▁autoriza ▁não ▁princípio ▁mencionado ▁que ▁ótica ▁sob ▁questão ▁analisar ▁recursal ▁turma ▁a ▁equivoca ▁sentido ▁nesse ▁públicos</td>\n",
       "      <td>▁juiza n agulia ▁kar ▁bezerra ▁simone ▁intimem ▁registre publique ▁{\" ▁xxbos \"} ▁principiológica ▁norma ▁pela ▁definidos ▁contornos ▁seus ▁tendo ▁permanece ▁regra ▁sentido ▁nesse ▁princípio ▁um ▁aplicação ▁mas ▁regra ▁qualquer ▁quebra ▁trata ▁não ▁efeito ▁com ▁previdenciário ▁sistema ▁realidade ▁para ▁olhos ndo ▁fecha ▁individualista ▁puramente ▁soa ▁venia ▁data ▁visão ▁tal ▁verdade ▁contrapartida ▁da idade ▁proporcional ▁regra ▁quebra ▁autoriza ▁não ▁princípio ▁mencionado ▁que ▁ótica ▁sob ▁questão ▁analisar ▁recursal ▁turma ▁a ▁equivoca ▁sentido ▁nesse ▁públicos ▁servidores</td>\n",
       "    </tr>\n",
       "    <tr>\n",
       "      <th>6</th>\n",
       "      <td>▁{\" ▁xxbos \"} ▁juizados ▁estes ▁perante ▁ações ▁ajuizamento ▁para ▁teto ▁exorbitante ▁valor ▁relação ▁com ▁autora ▁parte ▁s ▁expressa ▁renúncia ▁sentido ▁manifestação ▁absoluta ▁federais ▁especiais ▁juizados ▁dos ▁competência ▁ser ▁conta ▁tendo ▁nacional ▁fazenda ▁união ▁requer ▁público ▁interesse ndisponibilidade ▁i ▁princípio ▁face ▁partes ▁entre ▁acordo ▁impossibilidade ndo ▁informa ▁exposto ▁vista ▁pedido ▁vii ▁gecen ▁gacen ▁gratificação ▁sobre ▁pss ▁incidência ▁esposado ▁aqui ▁entendimento ▁corroboram ▁judiciário ▁mas ▁legislação ▁a ▁não ▁portanto ▁advocatícios ▁honorários ▁sem ▁custas ▁sem ▁exordial</td>\n",
       "      <td>▁xxbos \"} ▁juizados ▁estes ▁perante ▁ações ▁ajuizamento ▁para ▁teto ▁exorbitante ▁valor ▁relação ▁com ▁autora ▁parte ▁s ▁expressa ▁renúncia ▁sentido ▁manifestação ▁absoluta ▁federais ▁especiais ▁juizados ▁dos ▁competência ▁ser ▁conta ▁tendo ▁nacional ▁fazenda ▁união ▁requer ▁público ▁interesse ndisponibilidade ▁i ▁princípio ▁face ▁partes ▁entre ▁acordo ▁impossibilidade ndo ▁informa ▁exposto ▁vista ▁pedido ▁vii ▁gecen ▁gacen ▁gratificação ▁sobre ▁pss ▁incidência ▁esposado ▁aqui ▁entendimento ▁corroboram ▁judiciário ▁mas ▁legislação ▁a ▁não ▁portanto ▁advocatícios ▁honorários ▁sem ▁custas ▁sem ▁exordial ▁formulados</td>\n",
       "    </tr>\n",
       "    <tr>\n",
       "      <th>7</th>\n",
       "      <td>▁assistência ▁prestar ▁dever ▁pelo ▁federados ▁entes ▁dos ▁solidária responsabilidade ▁ ▁tema ▁administração responsabilidade ▁ ▁público ▁direito ▁matérias ▁outras ▁administrativo ▁direito ▁medicamentos ▁fornecimento ▁saúde ▁serviços ▁público ▁direito ▁matérias ▁outras ▁administrativo ▁direito ▁execução ▁embargos ▁impugnação ▁suspensivo ▁efeito ▁sentença ▁execução ▁cumprimento ▁liquidação ▁trabalho ▁do ▁civil ▁processual ▁direito ▁parcelamento ▁exigibilidade ▁suspensão ▁tributário ▁crédito ▁tributário ▁direito ▁multa ▁sentença ▁execução ▁cumprimento ▁liquidação ▁trabalho ▁do ▁civil ▁processual ▁direito ▁seguro ▁consumo ▁contratos ▁consumidor ▁direito ▁fazer ▁não ▁fazer ▁obrigação ▁execução ▁cumprimento</td>\n",
       "      <td>▁prestar ▁dever ▁pelo ▁federados ▁entes ▁dos ▁solidária responsabilidade ▁ ▁tema ▁administração responsabilidade ▁ ▁público ▁direito ▁matérias ▁outras ▁administrativo ▁direito ▁medicamentos ▁fornecimento ▁saúde ▁serviços ▁público ▁direito ▁matérias ▁outras ▁administrativo ▁direito ▁execução ▁embargos ▁impugnação ▁suspensivo ▁efeito ▁sentença ▁execução ▁cumprimento ▁liquidação ▁trabalho ▁do ▁civil ▁processual ▁direito ▁parcelamento ▁exigibilidade ▁suspensão ▁tributário ▁crédito ▁tributário ▁direito ▁multa ▁sentença ▁execução ▁cumprimento ▁liquidação ▁trabalho ▁do ▁civil ▁processual ▁direito ▁seguro ▁consumo ▁contratos ▁consumidor ▁direito ▁fazer ▁não ▁fazer ▁obrigação ▁execução ▁cumprimento ▁liquidação</td>\n",
       "    </tr>\n",
       "    <tr>\n",
       "      <th>8</th>\n",
       "      <td>▁como ▁recolhida ▁foi ▁quem ▁servidor ▁vinculada ▁individualizada ▁permanece ▁não ▁recolhida ▁vez ▁uma ▁contribuição ▁porque ▁razão ▁contribuições ▁suas ▁das ▁restituição ▁simples ▁recebendo ▁está ▁não ▁benefício ▁recebe ▁quando ▁servidor ▁pois ▁benefício ▁futuro ▁o ▁contribuição ▁entre ▁direta ▁vinculação ▁uma ▁existe ▁não ▁assim ▁capacidade ▁menor ▁possuem ▁que ▁dos ▁benefícios ▁financiam ▁contributiva ▁capacidade ▁maior ▁têm ▁que ▁daqueles ▁contribuições ▁porque ▁como ▁bem ▁anterior ção ▁gera ▁benefícios ▁demais ▁aposentadorias ▁das ▁pagamento ▁sustentam ção ▁gera ▁uma ▁contribuições ▁qual ▁segundo ▁princípio</td>\n",
       "      <td>▁recolhida ▁foi ▁quem ▁servidor ▁vinculada ▁individualizada ▁permanece ▁não ▁recolhida ▁vez ▁uma ▁contribuição ▁porque ▁razão ▁contribuições ▁suas ▁das ▁restituição ▁simples ▁recebendo ▁está ▁não ▁benefício ▁recebe ▁quando ▁servidor ▁pois ▁benefício ▁futuro ▁o ▁contribuição ▁entre ▁direta ▁vinculação ▁uma ▁existe ▁não ▁assim ▁capacidade ▁menor ▁possuem ▁que ▁dos ▁benefícios ▁financiam ▁contributiva ▁capacidade ▁maior ▁têm ▁que ▁daqueles ▁contribuições ▁porque ▁como ▁bem ▁anterior ção ▁gera ▁benefícios ▁demais ▁aposentadorias ▁das ▁pagamento ▁sustentam ção ▁gera ▁uma ▁contribuições ▁qual ▁segundo ▁princípio ▁base</td>\n",
       "    </tr>\n",
       "  </tbody>\n",
       "</table>"
      ],
      "text/plain": [
       "<IPython.core.display.HTML object>"
      ]
     },
     "metadata": {},
     "output_type": "display_data"
    }
   ],
   "source": [
    "dls_lm_bwd.show_batch()"
   ]
  },
  {
   "cell_type": "code",
   "execution_count": 11,
   "metadata": {},
   "outputs": [],
   "source": [
    "learn_lm = language_model_learner(dls_lm_bwd, AWD_LSTM, path=Path(\".\"), drop_mult=1., \n",
    "                                  metrics=[error_rate, accuracy, perplexity])"
   ]
  },
  {
   "cell_type": "code",
   "execution_count": 12,
   "metadata": {},
   "outputs": [
    {
     "data": {
      "text/html": [
       "<table border=\"1\" class=\"dataframe\">\n",
       "  <thead>\n",
       "    <tr style=\"text-align: left;\">\n",
       "      <th>epoch</th>\n",
       "      <th>train_loss</th>\n",
       "      <th>valid_loss</th>\n",
       "      <th>error_rate</th>\n",
       "      <th>accuracy</th>\n",
       "      <th>perplexity</th>\n",
       "      <th>time</th>\n",
       "    </tr>\n",
       "  </thead>\n",
       "  <tbody>\n",
       "    <tr>\n",
       "      <td>0</td>\n",
       "      <td>None</td>\n",
       "      <td>None</td>\n",
       "      <td>None</td>\n",
       "      <td>None</td>\n",
       "      <td>00:00</td>\n",
       "    </tr>\n",
       "  </tbody>\n",
       "</table>"
      ],
      "text/plain": [
       "<IPython.core.display.HTML object>"
      ]
     },
     "metadata": {},
     "output_type": "display_data"
    },
    {
     "data": {
      "text/plain": [
       "SequentialRNN (Input shape: ['64 x 72'])\n",
       "================================================================\n",
       "Layer (type)         Output Shape         Param #    Trainable \n",
       "================================================================\n",
       "LSTM                 ['64 x 72 x 1152',   1,852,416  False     \n",
       "________________________________________________________________\n",
       "LSTM                 ['64 x 72 x 1152',   5,317,632  False     \n",
       "________________________________________________________________\n",
       "LSTM                 ['64 x 72 x 400', \"  1,846,400  False     \n",
       "________________________________________________________________\n",
       "RNNDropout           64 x 72 x 400        0          False     \n",
       "________________________________________________________________\n",
       "RNNDropout           64 x 72 x 1152       0          False     \n",
       "________________________________________________________________\n",
       "RNNDropout           64 x 72 x 1152       0          False     \n",
       "________________________________________________________________\n",
       "Linear               64 x 72 x 30104      12,071,704 True      \n",
       "________________________________________________________________\n",
       "RNNDropout           64 x 72 x 400        0          False     \n",
       "________________________________________________________________\n",
       "\n",
       "Total params: 21,088,152\n",
       "Total trainable params: 12,071,704\n",
       "Total non-trainable params: 9,016,448\n",
       "\n",
       "Optimizer used: <function Adam at 0x7fe77f45d1f0>\n",
       "Loss function: FlattenedLoss of CrossEntropyLoss()\n",
       "\n",
       "Model frozen up to parameter group #3\n",
       "\n",
       "Callbacks:\n",
       "  - TrainEvalCallback\n",
       "  - Recorder\n",
       "  - ProgressCallback\n",
       "  - ModelResetter\n",
       "  - RNNRegularizer"
      ]
     },
     "execution_count": 12,
     "metadata": {},
     "output_type": "execute_result"
    }
   ],
   "source": [
    "learn_lm.freeze()\n",
    "learn_lm.summary()"
   ]
  },
  {
   "cell_type": "code",
   "execution_count": 13,
   "metadata": {},
   "outputs": [
    {
     "data": {
      "text/html": [],
      "text/plain": [
       "<IPython.core.display.HTML object>"
      ]
     },
     "metadata": {},
     "output_type": "display_data"
    },
    {
     "data": {
      "text/plain": [
       "SuggestedLRs(lr_min=0.13182567358016967, lr_steep=0.0691830962896347)"
      ]
     },
     "execution_count": 13,
     "metadata": {},
     "output_type": "execute_result"
    },
    {
     "data": {
      "image/png": "[encoded data removed]",
      "text/plain": [
       "<Figure size 432x288 with 1 Axes>"
      ]
     },
     "metadata": {
      "needs_background": "light"
     },
     "output_type": "display_data"
    }
   ],
   "source": [
    "learn_lm.lr_find()"
   ]
  },
  {
   "cell_type": "code",
   "execution_count": 14,
   "metadata": {},
   "outputs": [
    {
     "data": {
      "text/html": [
       "<table border=\"1\" class=\"dataframe\">\n",
       "  <thead>\n",
       "    <tr style=\"text-align: left;\">\n",
       "      <th>epoch</th>\n",
       "      <th>train_loss</th>\n",
       "      <th>valid_loss</th>\n",
       "      <th>error_rate</th>\n",
       "      <th>accuracy</th>\n",
       "      <th>perplexity</th>\n",
       "      <th>time</th>\n",
       "    </tr>\n",
       "  </thead>\n",
       "  <tbody>\n",
       "    <tr>\n",
       "      <td>0</td>\n",
       "      <td>4.280356</td>\n",
       "      <td>3.839558</td>\n",
       "      <td>0.587987</td>\n",
       "      <td>0.412012</td>\n",
       "      <td>46.504898</td>\n",
       "      <td>34:48</td>\n",
       "    </tr>\n",
       "  </tbody>\n",
       "</table>"
      ],
      "text/plain": [
       "<IPython.core.display.HTML object>"
      ]
     },
     "metadata": {},
     "output_type": "display_data"
    }
   ],
   "source": [
    "learn_lm.fit_one_cycle(1, 1e-1)"
   ]
  },
  {
   "cell_type": "code",
   "execution_count": 15,
   "metadata": {},
   "outputs": [
    {
     "data": {
      "image/png": "[encoded data removed]",
      "text/plain": [
       "<Figure size 432x288 with 1 Axes>"
      ]
     },
     "metadata": {
      "needs_background": "light"
     },
     "output_type": "display_data"
    }
   ],
   "source": [
    "learn_lm.recorder.plot_loss()"
   ]
  },
  {
   "cell_type": "code",
   "execution_count": 16,
   "metadata": {},
   "outputs": [
    {
     "data": {
      "text/plain": [
       "Path('models/lstm_lm_1E_bwd.pth')"
      ]
     },
     "execution_count": 16,
     "metadata": {},
     "output_type": "execute_result"
    }
   ],
   "source": [
    "learn_lm.save('lstm_lm_1E_bwd')"
   ]
  },
  {
   "cell_type": "code",
   "execution_count": null,
   "metadata": {},
   "outputs": [],
   "source": [
    "learn_lm.load(\"lstm_lm_1E_bwd\")"
   ]
  },
  {
   "cell_type": "code",
   "execution_count": 17,
   "metadata": {},
   "outputs": [],
   "source": [
    "learn_lm.unfreeze()"
   ]
  },
  {
   "cell_type": "code",
   "execution_count": 18,
   "metadata": {},
   "outputs": [
    {
     "data": {
      "text/html": [
       "<table border=\"1\" class=\"dataframe\">\n",
       "  <thead>\n",
       "    <tr style=\"text-align: left;\">\n",
       "      <th>epoch</th>\n",
       "      <th>train_loss</th>\n",
       "      <th>valid_loss</th>\n",
       "      <th>error_rate</th>\n",
       "      <th>accuracy</th>\n",
       "      <th>perplexity</th>\n",
       "      <th>time</th>\n",
       "    </tr>\n",
       "  </thead>\n",
       "  <tbody>\n",
       "    <tr>\n",
       "      <td>0</td>\n",
       "      <td>None</td>\n",
       "      <td>None</td>\n",
       "      <td>None</td>\n",
       "      <td>None</td>\n",
       "      <td>00:00</td>\n",
       "    </tr>\n",
       "  </tbody>\n",
       "</table>"
      ],
      "text/plain": [
       "<IPython.core.display.HTML object>"
      ]
     },
     "metadata": {},
     "output_type": "display_data"
    },
    {
     "data": {
      "text/plain": [
       "SequentialRNN (Input shape: ['64 x 72'])\n",
       "================================================================\n",
       "Layer (type)         Output Shape         Param #    Trainable \n",
       "================================================================\n",
       "LSTM                 ['64 x 72 x 1152',   1,852,416  True      \n",
       "________________________________________________________________\n",
       "LSTM                 ['64 x 72 x 1152',   5,317,632  True      \n",
       "________________________________________________________________\n",
       "LSTM                 ['64 x 72 x 400', \"  1,846,400  True      \n",
       "________________________________________________________________\n",
       "RNNDropout           64 x 72 x 400        0          False     \n",
       "________________________________________________________________\n",
       "RNNDropout           64 x 72 x 1152       0          False     \n",
       "________________________________________________________________\n",
       "RNNDropout           64 x 72 x 1152       0          False     \n",
       "________________________________________________________________\n",
       "Linear               64 x 72 x 30104      12,071,704 True      \n",
       "________________________________________________________________\n",
       "RNNDropout           64 x 72 x 400        0          False     \n",
       "________________________________________________________________\n",
       "\n",
       "Total params: 21,088,152\n",
       "Total trainable params: 21,088,152\n",
       "Total non-trainable params: 0\n",
       "\n",
       "Optimizer used: <function Adam at 0x7fe77f45d1f0>\n",
       "Loss function: FlattenedLoss of CrossEntropyLoss()\n",
       "\n",
       "Model unfrozen\n",
       "\n",
       "Callbacks:\n",
       "  - TrainEvalCallback\n",
       "  - Recorder\n",
       "  - ProgressCallback\n",
       "  - ModelResetter\n",
       "  - RNNRegularizer"
      ]
     },
     "execution_count": 18,
     "metadata": {},
     "output_type": "execute_result"
    }
   ],
   "source": [
    "learn_lm.summary()"
   ]
  },
  {
   "cell_type": "code",
   "execution_count": 19,
   "metadata": {},
   "outputs": [
    {
     "data": {
      "text/html": [],
      "text/plain": [
       "<IPython.core.display.HTML object>"
      ]
     },
     "metadata": {},
     "output_type": "display_data"
    },
    {
     "data": {
      "text/plain": [
       "SuggestedLRs(lr_min=6.309573450380412e-08, lr_steep=2.2908675418875646e-06)"
      ]
     },
     "execution_count": 19,
     "metadata": {},
     "output_type": "execute_result"
    },
    {
     "data": {
      "image/png": "[encoded data removed]",
      "text/plain": [
       "<Figure size 432x288 with 1 Axes>"
      ]
     },
     "metadata": {
      "needs_background": "light"
     },
     "output_type": "display_data"
    }
   ],
   "source": [
    "learn_lm.lr_find()"
   ]
  },
  {
   "cell_type": "code",
   "execution_count": 21,
   "metadata": {},
   "outputs": [
    {
     "data": {
      "text/html": [
       "<table border=\"1\" class=\"dataframe\">\n",
       "  <thead>\n",
       "    <tr style=\"text-align: left;\">\n",
       "      <th>epoch</th>\n",
       "      <th>train_loss</th>\n",
       "      <th>valid_loss</th>\n",
       "      <th>error_rate</th>\n",
       "      <th>accuracy</th>\n",
       "      <th>perplexity</th>\n",
       "      <th>time</th>\n",
       "    </tr>\n",
       "  </thead>\n",
       "  <tbody>\n",
       "    <tr>\n",
       "      <td>0</td>\n",
       "      <td>3.064942</td>\n",
       "      <td>2.808604</td>\n",
       "      <td>0.436870</td>\n",
       "      <td>0.563130</td>\n",
       "      <td>16.586742</td>\n",
       "      <td>36:38</td>\n",
       "    </tr>\n",
       "    <tr>\n",
       "      <td>1</td>\n",
       "      <td>2.674922</td>\n",
       "      <td>2.457955</td>\n",
       "      <td>0.380191</td>\n",
       "      <td>0.619809</td>\n",
       "      <td>11.680904</td>\n",
       "      <td>38:53</td>\n",
       "    </tr>\n",
       "    <tr>\n",
       "      <td>2</td>\n",
       "      <td>2.495064</td>\n",
       "      <td>2.391142</td>\n",
       "      <td>0.369993</td>\n",
       "      <td>0.630008</td>\n",
       "      <td>10.925968</td>\n",
       "      <td>40:58</td>\n",
       "    </tr>\n",
       "  </tbody>\n",
       "</table>"
      ],
      "text/plain": [
       "<IPython.core.display.HTML object>"
      ]
     },
     "metadata": {},
     "output_type": "display_data"
    }
   ],
   "source": [
    "learn_lm.fit_one_cycle(3, 1e-3)"
   ]
  },
  {
   "cell_type": "code",
   "execution_count": 22,
   "metadata": {},
   "outputs": [
    {
     "data": {
      "image/png": "[encoded data removed]",
      "text/plain": [
       "<Figure size 432x288 with 1 Axes>"
      ]
     },
     "metadata": {
      "needs_background": "light"
     },
     "output_type": "display_data"
    }
   ],
   "source": [
    "learn_lm.recorder.plot_loss()"
   ]
  },
  {
   "cell_type": "code",
   "execution_count": 23,
   "metadata": {},
   "outputs": [
    {
     "data": {
      "text/plain": [
       "Path('models/lstm_lm_1E+3E_bwd.pth')"
      ]
     },
     "execution_count": 23,
     "metadata": {},
     "output_type": "execute_result"
    }
   ],
   "source": [
    "learn_lm.save('lstm_lm_1E+3E_bwd')"
   ]
  },
  {
   "cell_type": "code",
   "execution_count": 24,
   "metadata": {},
   "outputs": [],
   "source": [
    "learn_lm.save_encoder('lstm_lm_1E+3E_enc_bwd')"
   ]
  },
  {
   "cell_type": "code",
   "execution_count": 25,
   "metadata": {},
   "outputs": [
    {
     "data": {
      "text/html": [],
      "text/plain": [
       "<IPython.core.display.HTML object>"
      ]
     },
     "metadata": {},
     "output_type": "display_data"
    },
    {
     "data": {
      "text/plain": [
       "SuggestedLRs(lr_min=6.309573450380412e-08, lr_steep=0.0063095735386013985)"
      ]
     },
     "execution_count": 25,
     "metadata": {},
     "output_type": "execute_result"
    },
    {
     "data": {
      "image/png": "[encoded data removed]",
      "text/plain": [
       "<Figure size 432x288 with 1 Axes>"
      ]
     },
     "metadata": {
      "needs_background": "light"
     },
     "output_type": "display_data"
    }
   ],
   "source": [
    "learn_lm.lr_find()"
   ]
  },
  {
   "cell_type": "code",
   "execution_count": 26,
   "metadata": {},
   "outputs": [
    {
     "data": {
      "text/html": [
       "<table border=\"1\" class=\"dataframe\">\n",
       "  <thead>\n",
       "    <tr style=\"text-align: left;\">\n",
       "      <th>epoch</th>\n",
       "      <th>train_loss</th>\n",
       "      <th>valid_loss</th>\n",
       "      <th>error_rate</th>\n",
       "      <th>accuracy</th>\n",
       "      <th>perplexity</th>\n",
       "      <th>time</th>\n",
       "    </tr>\n",
       "  </thead>\n",
       "  <tbody>\n",
       "    <tr>\n",
       "      <td>0</td>\n",
       "      <td>2.528972</td>\n",
       "      <td>2.336559</td>\n",
       "      <td>0.362176</td>\n",
       "      <td>0.637825</td>\n",
       "      <td>10.345572</td>\n",
       "      <td>35:43</td>\n",
       "    </tr>\n",
       "    <tr>\n",
       "      <td>1</td>\n",
       "      <td>2.352913</td>\n",
       "      <td>2.218098</td>\n",
       "      <td>0.344520</td>\n",
       "      <td>0.655481</td>\n",
       "      <td>9.189833</td>\n",
       "      <td>42:00</td>\n",
       "    </tr>\n",
       "    <tr>\n",
       "      <td>2</td>\n",
       "      <td>2.255635</td>\n",
       "      <td>2.180773</td>\n",
       "      <td>0.338580</td>\n",
       "      <td>0.661420</td>\n",
       "      <td>8.853151</td>\n",
       "      <td>35:39</td>\n",
       "    </tr>\n",
       "  </tbody>\n",
       "</table>"
      ],
      "text/plain": [
       "<IPython.core.display.HTML object>"
      ]
     },
     "metadata": {},
     "output_type": "display_data"
    }
   ],
   "source": [
    "learn_lm.fit_one_cycle(3, 1e-3)"
   ]
  },
  {
   "cell_type": "code",
   "execution_count": 27,
   "metadata": {},
   "outputs": [
    {
     "data": {
      "image/png": "[encoded data removed]",
      "text/plain": [
       "<Figure size 432x288 with 1 Axes>"
      ]
     },
     "metadata": {
      "needs_background": "light"
     },
     "output_type": "display_data"
    }
   ],
   "source": [
    "learn_lm.recorder.plot_loss()"
   ]
  },
  {
   "cell_type": "code",
   "execution_count": 28,
   "metadata": {},
   "outputs": [
    {
     "data": {
      "text/plain": [
       "Path('models/lstm_lm_1E+3E+3E_bwd.pth')"
      ]
     },
     "execution_count": 28,
     "metadata": {},
     "output_type": "execute_result"
    }
   ],
   "source": [
    "learn_lm.save('lstm_lm_1E+3E+3E_bwd')"
   ]
  },
  {
   "cell_type": "code",
   "execution_count": 29,
   "metadata": {},
   "outputs": [],
   "source": [
    "learn_lm.save_encoder('lstm_lm_1E+3E+3E_enc_bwd')"
   ]
  },
  {
   "cell_type": "code",
   "execution_count": 9,
   "metadata": {},
   "outputs": [
    {
     "data": {
      "text/html": [],
      "text/plain": [
       "<IPython.core.display.HTML object>"
      ]
     },
     "metadata": {},
     "output_type": "display_data"
    },
    {
     "name": "stderr",
     "output_type": "stream",
     "text": [
      "/mnt/home/peluz/victor-visual-text/fastai2/lib/python3.8/site-packages/numpy/core/_asarray.py:83: VisibleDeprecationWarning: Creating an ndarray from ragged nested sequences (which is a list-or-tuple of lists-or-tuples-or ndarrays with different lengths or shapes) is deprecated. If you meant to do this, you must specify 'dtype=object' when creating the ndarray\n",
      "  return array(a, dtype, copy=False, order=order)\n"
     ]
    }
   ],
   "source": [
    "dls = DataBlock(\n",
    "    blocks=(TextBlock.from_df('body', tok=dls_lm_bwd.tok),  CategoryBlock),\n",
    "    get_x=ColReader('text'), get_y=ColReader('document_type'), splitter=ColSplitter()).dataloaders(data)"
   ]
  },
  {
   "cell_type": "code",
   "execution_count": 10,
   "metadata": {},
   "outputs": [],
   "source": [
    "assert dls.vocab[0] == dls_lm_bwd.vocab"
   ]
  },
  {
   "cell_type": "code",
   "execution_count": null,
   "metadata": {},
   "outputs": [],
   "source": [
    "del(dls_lm_bwd)"
   ]
  },
  {
   "cell_type": "code",
   "execution_count": 12,
   "metadata": {},
   "outputs": [],
   "source": [
    "torch.save(dls, \"./data/dls.pth\")"
   ]
  },
  {
   "cell_type": "code",
   "execution_count": 8,
   "metadata": {},
   "outputs": [],
   "source": [
    "dls = torch.load(\"./data/dls.pth\")"
   ]
  },
  {
   "cell_type": "code",
   "execution_count": 11,
   "metadata": {},
   "outputs": [
    {
     "data": {
      "text/plain": [
       "149217"
      ]
     },
     "execution_count": 11,
     "metadata": {},
     "output_type": "execute_result"
    }
   ],
   "source": [
    "n_samples = len(dls.train_ds); n_samples"
   ]
  },
  {
   "cell_type": "code",
   "execution_count": 12,
   "metadata": {},
   "outputs": [],
   "source": [
    "class_counts = torch.bincount(torch.stack(list(dls.train_ds.tls[1][:])))"
   ]
  },
  {
   "cell_type": "code",
   "execution_count": 13,
   "metadata": {},
   "outputs": [
    {
     "data": {
      "text/plain": [
       "TensorCategory([44.9720,  9.7681, 71.8772,  0.1854,  2.6154, 11.6813])"
      ]
     },
     "execution_count": 13,
     "metadata": {},
     "output_type": "execute_result"
    }
   ],
   "source": [
    "class_weights = n_samples / (dls.c * class_counts); class_weights"
   ]
  },
  {
   "cell_type": "code",
   "execution_count": 14,
   "metadata": {},
   "outputs": [
    {
     "data": {
      "text/plain": [
       "tensor([44.9720,  9.7681, 71.8772,  0.1854,  2.6154, 11.6813], device='cuda:0')"
      ]
     },
     "execution_count": 14,
     "metadata": {},
     "output_type": "execute_result"
    }
   ],
   "source": [
    "class_weights = torch.FloatTensor(class_weights).cuda(); class_weights"
   ]
  },
  {
   "cell_type": "code",
   "execution_count": 33,
   "metadata": {},
   "outputs": [],
   "source": [
    "learn = text_classifier_learner(dls, AWD_LSTM, path=Path(\".\"), drop_mult=1., \n",
    "                                loss_func=CrossEntropyLossFlat(weight=class_weights),\n",
    "                                metrics=[accuracy, f1])"
   ]
  },
  {
   "cell_type": "code",
   "execution_count": 34,
   "metadata": {},
   "outputs": [
    {
     "data": {
      "text/plain": [
       "<fastai.text.learner.TextLearner at 0x7f4eca7f6d60>"
      ]
     },
     "execution_count": 34,
     "metadata": {},
     "output_type": "execute_result"
    }
   ],
   "source": [
    "learn.load_encoder(\"lstm_lm_1E+3E+3E_enc\")"
   ]
  },
  {
   "cell_type": "code",
   "execution_count": 35,
   "metadata": {},
   "outputs": [
    {
     "data": {
      "text/html": [
       "<table border=\"1\" class=\"dataframe\">\n",
       "  <thead>\n",
       "    <tr style=\"text-align: left;\">\n",
       "      <th>epoch</th>\n",
       "      <th>train_loss</th>\n",
       "      <th>valid_loss</th>\n",
       "      <th>accuracy</th>\n",
       "      <th>f1_score</th>\n",
       "      <th>time</th>\n",
       "    </tr>\n",
       "  </thead>\n",
       "  <tbody>\n",
       "    <tr>\n",
       "      <td>0</td>\n",
       "      <td>None</td>\n",
       "      <td>None</td>\n",
       "      <td>None</td>\n",
       "      <td>00:02</td>\n",
       "    </tr>\n",
       "  </tbody>\n",
       "</table>"
      ],
      "text/plain": [
       "<IPython.core.display.HTML object>"
      ]
     },
     "metadata": {},
     "output_type": "display_data"
    },
    {
     "data": {
      "text/plain": [
       "SequentialRNN (Input shape: ['64 x 4867'])\n",
       "================================================================\n",
       "Layer (type)         Output Shape         Param #    Trainable \n",
       "================================================================\n",
       "LSTM                 ['64 x 43 x 1152',   1,852,416  False     \n",
       "________________________________________________________________\n",
       "LSTM                 ['64 x 43 x 1152',   5,317,632  False     \n",
       "________________________________________________________________\n",
       "LSTM                 ['64 x 43 x 400', \"  1,846,400  False     \n",
       "________________________________________________________________\n",
       "RNNDropout           64 x 43 x 400        0          False     \n",
       "________________________________________________________________\n",
       "RNNDropout           64 x 43 x 1152       0          False     \n",
       "________________________________________________________________\n",
       "RNNDropout           64 x 43 x 1152       0          False     \n",
       "________________________________________________________________\n",
       "BatchNorm1d          64 x 1200            2,400      True      \n",
       "________________________________________________________________\n",
       "Dropout              64 x 1200            0          False     \n",
       "________________________________________________________________\n",
       "Linear               64 x 50              60,000     True      \n",
       "________________________________________________________________\n",
       "ReLU                 64 x 50              0          False     \n",
       "________________________________________________________________\n",
       "BatchNorm1d          64 x 50              100        True      \n",
       "________________________________________________________________\n",
       "Dropout              64 x 50              0          False     \n",
       "________________________________________________________________\n",
       "Linear               64 x 6               300        True      \n",
       "________________________________________________________________\n",
       "\n",
       "Total params: 9,079,248\n",
       "Total trainable params: 62,800\n",
       "Total non-trainable params: 9,016,448\n",
       "\n",
       "Optimizer used: <function Adam at 0x7f4f1ee2a1f0>\n",
       "Loss function: FlattenedLoss of CrossEntropyLoss()\n",
       "\n",
       "Model frozen up to parameter group #4\n",
       "\n",
       "Callbacks:\n",
       "  - TrainEvalCallback\n",
       "  - Recorder\n",
       "  - ProgressCallback\n",
       "  - ModelResetter\n",
       "  - RNNRegularizer"
      ]
     },
     "execution_count": 35,
     "metadata": {},
     "output_type": "execute_result"
    }
   ],
   "source": [
    "learn.freeze()\n",
    "learn.summary()"
   ]
  },
  {
   "cell_type": "code",
   "execution_count": 37,
   "metadata": {},
   "outputs": [
    {
     "data": {
      "text/html": [],
      "text/plain": [
       "<IPython.core.display.HTML object>"
      ]
     },
     "metadata": {},
     "output_type": "display_data"
    },
    {
     "data": {
      "text/plain": [
       "SuggestedLRs(lr_min=0.025118863582611083, lr_steep=2.2908675418875646e-06)"
      ]
     },
     "execution_count": 37,
     "metadata": {},
     "output_type": "execute_result"
    },
    {
     "data": {
      "image/png": "[encoded data removed]",
      "text/plain": [
       "<Figure size 432x288 with 1 Axes>"
      ]
     },
     "metadata": {
      "needs_background": "light"
     },
     "output_type": "display_data"
    }
   ],
   "source": [
    "learn.lr_find()"
   ]
  },
  {
   "cell_type": "code",
   "execution_count": 38,
   "metadata": {},
   "outputs": [
    {
     "data": {
      "text/html": [
       "<table border=\"1\" class=\"dataframe\">\n",
       "  <thead>\n",
       "    <tr style=\"text-align: left;\">\n",
       "      <th>epoch</th>\n",
       "      <th>train_loss</th>\n",
       "      <th>valid_loss</th>\n",
       "      <th>accuracy</th>\n",
       "      <th>f1_score</th>\n",
       "      <th>time</th>\n",
       "    </tr>\n",
       "  </thead>\n",
       "  <tbody>\n",
       "    <tr>\n",
       "      <td>0</td>\n",
       "      <td>0.961801</td>\n",
       "      <td>0.864121</td>\n",
       "      <td>0.610271</td>\n",
       "      <td>0.298024</td>\n",
       "      <td>07:35</td>\n",
       "    </tr>\n",
       "  </tbody>\n",
       "</table>"
      ],
      "text/plain": [
       "<IPython.core.display.HTML object>"
      ]
     },
     "metadata": {},
     "output_type": "display_data"
    }
   ],
   "source": [
    "learn.fit_one_cycle(1, 2e-2)"
   ]
  },
  {
   "cell_type": "code",
   "execution_count": 39,
   "metadata": {},
   "outputs": [
    {
     "data": {
      "text/html": [
       "<table border=\"1\" class=\"dataframe\">\n",
       "  <thead>\n",
       "    <tr style=\"text-align: left;\">\n",
       "      <th>epoch</th>\n",
       "      <th>train_loss</th>\n",
       "      <th>valid_loss</th>\n",
       "      <th>accuracy</th>\n",
       "      <th>f1_score</th>\n",
       "      <th>time</th>\n",
       "    </tr>\n",
       "  </thead>\n",
       "  <tbody>\n",
       "    <tr>\n",
       "      <td>0</td>\n",
       "      <td>0.695018</td>\n",
       "      <td>0.644269</td>\n",
       "      <td>0.688901</td>\n",
       "      <td>0.368934</td>\n",
       "      <td>12:21</td>\n",
       "    </tr>\n",
       "  </tbody>\n",
       "</table>"
      ],
      "text/plain": [
       "<IPython.core.display.HTML object>"
      ]
     },
     "metadata": {},
     "output_type": "display_data"
    }
   ],
   "source": [
    "learn.freeze_to(-2)\n",
    "learn.fit_one_cycle(1, slice(1e-2/(2.6**4),1e-2))\n"
   ]
  },
  {
   "cell_type": "code",
   "execution_count": 40,
   "metadata": {},
   "outputs": [
    {
     "data": {
      "text/html": [
       "<table border=\"1\" class=\"dataframe\">\n",
       "  <thead>\n",
       "    <tr style=\"text-align: left;\">\n",
       "      <th>epoch</th>\n",
       "      <th>train_loss</th>\n",
       "      <th>valid_loss</th>\n",
       "      <th>accuracy</th>\n",
       "      <th>f1_score</th>\n",
       "      <th>time</th>\n",
       "    </tr>\n",
       "  </thead>\n",
       "  <tbody>\n",
       "    <tr>\n",
       "      <td>0</td>\n",
       "      <td>0.498383</td>\n",
       "      <td>0.598076</td>\n",
       "      <td>0.711680</td>\n",
       "      <td>0.404785</td>\n",
       "      <td>18:18</td>\n",
       "    </tr>\n",
       "  </tbody>\n",
       "</table>"
      ],
      "text/plain": [
       "<IPython.core.display.HTML object>"
      ]
     },
     "metadata": {},
     "output_type": "display_data"
    }
   ],
   "source": [
    "learn.freeze_to(-3)\n",
    "learn.fit_one_cycle(1, slice(5e-3/(2.6**4),5e-3))"
   ]
  },
  {
   "cell_type": "code",
   "execution_count": 41,
   "metadata": {},
   "outputs": [
    {
     "data": {
      "text/html": [
       "<table border=\"1\" class=\"dataframe\">\n",
       "  <thead>\n",
       "    <tr style=\"text-align: left;\">\n",
       "      <th>epoch</th>\n",
       "      <th>train_loss</th>\n",
       "      <th>valid_loss</th>\n",
       "      <th>accuracy</th>\n",
       "      <th>f1_score</th>\n",
       "      <th>time</th>\n",
       "    </tr>\n",
       "  </thead>\n",
       "  <tbody>\n",
       "    <tr>\n",
       "      <td>0</td>\n",
       "      <td>0.435686</td>\n",
       "      <td>0.570500</td>\n",
       "      <td>0.758579</td>\n",
       "      <td>0.449526</td>\n",
       "      <td>19:18</td>\n",
       "    </tr>\n",
       "    <tr>\n",
       "      <td>1</td>\n",
       "      <td>0.484861</td>\n",
       "      <td>0.559896</td>\n",
       "      <td>0.765198</td>\n",
       "      <td>0.440880</td>\n",
       "      <td>12:41</td>\n",
       "    </tr>\n",
       "  </tbody>\n",
       "</table>"
      ],
      "text/plain": [
       "<IPython.core.display.HTML object>"
      ]
     },
     "metadata": {},
     "output_type": "display_data"
    }
   ],
   "source": [
    "learn.unfreeze()\n",
    "learn.fit_one_cycle(2, slice(1e-3/(2.6**4),1e-3))"
   ]
  },
  {
   "cell_type": "code",
   "execution_count": 42,
   "metadata": {},
   "outputs": [
    {
     "data": {
      "image/png": "[encoded data removed]",
      "text/plain": [
       "<Figure size 432x288 with 1 Axes>"
      ]
     },
     "metadata": {
      "needs_background": "light"
     },
     "output_type": "display_data"
    }
   ],
   "source": [
    "learn.recorder.plot_loss()"
   ]
  },
  {
   "cell_type": "code",
   "execution_count": 43,
   "metadata": {},
   "outputs": [
    {
     "data": {
      "text/plain": [
       "Path('models/fwd_clf.pth')"
      ]
     },
     "execution_count": 43,
     "metadata": {},
     "output_type": "execute_result"
    }
   ],
   "source": [
    "learn.save('fwd_clf')"
   ]
  },
  {
   "cell_type": "code",
   "execution_count": null,
   "metadata": {},
   "outputs": [],
   "source": [
    "learn.load(\"fwd_clf\")"
   ]
  },
  {
   "cell_type": "code",
   "execution_count": 5,
   "metadata": {},
   "outputs": [],
   "source": [
    "dls = torch.load(\"./data/dls.pth\")"
   ]
  },
  {
   "cell_type": "code",
   "execution_count": 8,
   "metadata": {},
   "outputs": [],
   "source": [
    "learn = text_classifier_learner(dls, AWD_LSTM, path=Path(\".\"), drop_mult=1., \n",
    "                                metrics=[accuracy, f1])"
   ]
  },
  {
   "cell_type": "code",
   "execution_count": 9,
   "metadata": {},
   "outputs": [
    {
     "data": {
      "text/plain": [
       "<fastai.text.learner.TextLearner at 0x7f3531e34550>"
      ]
     },
     "execution_count": 9,
     "metadata": {},
     "output_type": "execute_result"
    }
   ],
   "source": [
    "learn.load_encoder(\"lstm_lm_1E+3E+3E_enc\")"
   ]
  },
  {
   "cell_type": "code",
   "execution_count": 10,
   "metadata": {},
   "outputs": [
    {
     "data": {
      "text/html": [
       "<table border=\"1\" class=\"dataframe\">\n",
       "  <thead>\n",
       "    <tr style=\"text-align: left;\">\n",
       "      <th>epoch</th>\n",
       "      <th>train_loss</th>\n",
       "      <th>valid_loss</th>\n",
       "      <th>accuracy</th>\n",
       "      <th>f1_score</th>\n",
       "      <th>time</th>\n",
       "    </tr>\n",
       "  </thead>\n",
       "  <tbody>\n",
       "    <tr>\n",
       "      <td>0</td>\n",
       "      <td>None</td>\n",
       "      <td>None</td>\n",
       "      <td>None</td>\n",
       "      <td>00:02</td>\n",
       "    </tr>\n",
       "  </tbody>\n",
       "</table>"
      ],
      "text/plain": [
       "<IPython.core.display.HTML object>"
      ]
     },
     "metadata": {},
     "output_type": "display_data"
    },
    {
     "data": {
      "text/plain": [
       "SequentialRNN (Input shape: ['64 x 4867'])\n",
       "================================================================\n",
       "Layer (type)         Output Shape         Param #    Trainable \n",
       "================================================================\n",
       "LSTM                 ['64 x 43 x 1152',   1,852,416  False     \n",
       "________________________________________________________________\n",
       "LSTM                 ['64 x 43 x 1152',   5,317,632  False     \n",
       "________________________________________________________________\n",
       "LSTM                 ['64 x 43 x 400', \"  1,846,400  False     \n",
       "________________________________________________________________\n",
       "RNNDropout           64 x 43 x 400        0          False     \n",
       "________________________________________________________________\n",
       "RNNDropout           64 x 43 x 1152       0          False     \n",
       "________________________________________________________________\n",
       "RNNDropout           64 x 43 x 1152       0          False     \n",
       "________________________________________________________________\n",
       "BatchNorm1d          64 x 1200            2,400      True      \n",
       "________________________________________________________________\n",
       "Dropout              64 x 1200            0          False     \n",
       "________________________________________________________________\n",
       "Linear               64 x 50              60,000     True      \n",
       "________________________________________________________________\n",
       "ReLU                 64 x 50              0          False     \n",
       "________________________________________________________________\n",
       "BatchNorm1d          64 x 50              100        True      \n",
       "________________________________________________________________\n",
       "Dropout              64 x 50              0          False     \n",
       "________________________________________________________________\n",
       "Linear               64 x 6               300        True      \n",
       "________________________________________________________________\n",
       "\n",
       "Total params: 9,079,248\n",
       "Total trainable params: 62,800\n",
       "Total non-trainable params: 9,016,448\n",
       "\n",
       "Optimizer used: <function Adam at 0x7f36bd1bf1f0>\n",
       "Loss function: FlattenedLoss of CrossEntropyLoss()\n",
       "\n",
       "Model frozen up to parameter group #4\n",
       "\n",
       "Callbacks:\n",
       "  - TrainEvalCallback\n",
       "  - Recorder\n",
       "  - ProgressCallback\n",
       "  - ModelResetter\n",
       "  - RNNRegularizer"
      ]
     },
     "execution_count": 10,
     "metadata": {},
     "output_type": "execute_result"
    }
   ],
   "source": [
    "learn.freeze()\n",
    "learn.summary()"
   ]
  },
  {
   "cell_type": "code",
   "execution_count": 11,
   "metadata": {},
   "outputs": [
    {
     "data": {
      "text/html": [],
      "text/plain": [
       "<IPython.core.display.HTML object>"
      ]
     },
     "metadata": {},
     "output_type": "display_data"
    },
    {
     "data": {
      "text/plain": [
       "SuggestedLRs(lr_min=0.07585775852203369, lr_steep=0.2089296132326126)"
      ]
     },
     "execution_count": 11,
     "metadata": {},
     "output_type": "execute_result"
    },
    {
     "data": {
      "image/png": "[encoded data removed]",
      "text/plain": [
       "<Figure size 432x288 with 1 Axes>"
      ]
     },
     "metadata": {
      "needs_background": "light"
     },
     "output_type": "display_data"
    }
   ],
   "source": [
    "learn.lr_find()"
   ]
  },
  {
   "cell_type": "code",
   "execution_count": 12,
   "metadata": {},
   "outputs": [
    {
     "data": {
      "text/html": [
       "<table border=\"1\" class=\"dataframe\">\n",
       "  <thead>\n",
       "    <tr style=\"text-align: left;\">\n",
       "      <th>epoch</th>\n",
       "      <th>train_loss</th>\n",
       "      <th>valid_loss</th>\n",
       "      <th>accuracy</th>\n",
       "      <th>f1_score</th>\n",
       "      <th>time</th>\n",
       "    </tr>\n",
       "  </thead>\n",
       "  <tbody>\n",
       "    <tr>\n",
       "      <td>0</td>\n",
       "      <td>0.387957</td>\n",
       "      <td>0.300711</td>\n",
       "      <td>0.907648</td>\n",
       "      <td>0.416662</td>\n",
       "      <td>06:13</td>\n",
       "    </tr>\n",
       "  </tbody>\n",
       "</table>"
      ],
      "text/plain": [
       "<IPython.core.display.HTML object>"
      ]
     },
     "metadata": {},
     "output_type": "display_data"
    }
   ],
   "source": [
    "learn.fit_one_cycle(1, 5e-2)"
   ]
  },
  {
   "cell_type": "code",
   "execution_count": 13,
   "metadata": {},
   "outputs": [
    {
     "data": {
      "text/html": [
       "<table border=\"1\" class=\"dataframe\">\n",
       "  <thead>\n",
       "    <tr style=\"text-align: left;\">\n",
       "      <th>epoch</th>\n",
       "      <th>train_loss</th>\n",
       "      <th>valid_loss</th>\n",
       "      <th>accuracy</th>\n",
       "      <th>f1_score</th>\n",
       "      <th>time</th>\n",
       "    </tr>\n",
       "  </thead>\n",
       "  <tbody>\n",
       "    <tr>\n",
       "      <td>0</td>\n",
       "      <td>0.240733</td>\n",
       "      <td>0.405872</td>\n",
       "      <td>0.926521</td>\n",
       "      <td>0.604740</td>\n",
       "      <td>07:15</td>\n",
       "    </tr>\n",
       "  </tbody>\n",
       "</table>"
      ],
      "text/plain": [
       "<IPython.core.display.HTML object>"
      ]
     },
     "metadata": {},
     "output_type": "display_data"
    }
   ],
   "source": [
    "learn.freeze_to(-2)\n",
    "learn.fit_one_cycle(1, slice(1e-2/(2.6**4),1e-2))"
   ]
  },
  {
   "cell_type": "code",
   "execution_count": 14,
   "metadata": {},
   "outputs": [
    {
     "data": {
      "text/html": [
       "<table border=\"1\" class=\"dataframe\">\n",
       "  <thead>\n",
       "    <tr style=\"text-align: left;\">\n",
       "      <th>epoch</th>\n",
       "      <th>train_loss</th>\n",
       "      <th>valid_loss</th>\n",
       "      <th>accuracy</th>\n",
       "      <th>f1_score</th>\n",
       "      <th>time</th>\n",
       "    </tr>\n",
       "  </thead>\n",
       "  <tbody>\n",
       "    <tr>\n",
       "      <td>0</td>\n",
       "      <td>0.195939</td>\n",
       "      <td>0.217716</td>\n",
       "      <td>0.932274</td>\n",
       "      <td>0.654567</td>\n",
       "      <td>10:06</td>\n",
       "    </tr>\n",
       "  </tbody>\n",
       "</table>"
      ],
      "text/plain": [
       "<IPython.core.display.HTML object>"
      ]
     },
     "metadata": {},
     "output_type": "display_data"
    }
   ],
   "source": [
    "learn.freeze_to(-3)\n",
    "learn.fit_one_cycle(1, slice(5e-3/(2.6**4),5e-3))"
   ]
  },
  {
   "cell_type": "code",
   "execution_count": 15,
   "metadata": {},
   "outputs": [
    {
     "data": {
      "text/html": [
       "<table border=\"1\" class=\"dataframe\">\n",
       "  <thead>\n",
       "    <tr style=\"text-align: left;\">\n",
       "      <th>epoch</th>\n",
       "      <th>train_loss</th>\n",
       "      <th>valid_loss</th>\n",
       "      <th>accuracy</th>\n",
       "      <th>f1_score</th>\n",
       "      <th>time</th>\n",
       "    </tr>\n",
       "  </thead>\n",
       "  <tbody>\n",
       "    <tr>\n",
       "      <td>0</td>\n",
       "      <td>0.187477</td>\n",
       "      <td>0.212550</td>\n",
       "      <td>0.932971</td>\n",
       "      <td>0.668708</td>\n",
       "      <td>12:33</td>\n",
       "    </tr>\n",
       "    <tr>\n",
       "      <td>1</td>\n",
       "      <td>0.197332</td>\n",
       "      <td>0.232083</td>\n",
       "      <td>0.934860</td>\n",
       "      <td>0.680430</td>\n",
       "      <td>12:32</td>\n",
       "    </tr>\n",
       "  </tbody>\n",
       "</table>"
      ],
      "text/plain": [
       "<IPython.core.display.HTML object>"
      ]
     },
     "metadata": {},
     "output_type": "display_data"
    }
   ],
   "source": [
    "learn.unfreeze()\n",
    "learn.fit_one_cycle(2, slice(1e-3/(2.6**4),1e-3))"
   ]
  },
  {
   "cell_type": "code",
   "execution_count": 16,
   "metadata": {},
   "outputs": [
    {
     "data": {
      "image/png": "[encoded data removed]",
      "text/plain": [
       "<Figure size 432x288 with 1 Axes>"
      ]
     },
     "metadata": {
      "needs_background": "light"
     },
     "output_type": "display_data"
    }
   ],
   "source": [
    "learn.recorder.plot_loss()"
   ]
  },
  {
   "cell_type": "code",
   "execution_count": 17,
   "metadata": {},
   "outputs": [
    {
     "data": {
      "text/plain": [
       "Path('models/fwd_clf.pth')"
      ]
     },
     "execution_count": 17,
     "metadata": {},
     "output_type": "execute_result"
    }
   ],
   "source": [
    "learn.save('fwd_clf')"
   ]
  },
  {
   "cell_type": "code",
   "execution_count": null,
   "metadata": {},
   "outputs": [],
   "source": [
    "learn.load(\"fwd_clf\")"
   ]
  },
  {
   "cell_type": "code",
   "execution_count": null,
   "metadata": {},
   "outputs": [],
   "source": [
    "dls_bwd = DataBlock(\n",
    "    blocks=(TextBlock.from_df('body', tok=dls.tok, backwards=True),  CategoryBlock),\n",
    "    get_x=ColReader('text'), get_y=ColReader('document_type'), splitter=ColSplitter()).dataloaders(data)"
   ]
  },
  {
   "cell_type": "code",
   "execution_count": null,
   "metadata": {},
   "outputs": [],
   "source": [
    "assert dls.vocab[0] == dls_bwd.vocab[0]"
   ]
  },
  {
   "cell_type": "code",
   "execution_count": 18,
   "metadata": {},
   "outputs": [],
   "source": [
    "del(dls)"
   ]
  },
  {
   "cell_type": "code",
   "execution_count": 18,
   "metadata": {},
   "outputs": [],
   "source": [
    "torch.save(dls_bwd, \"./data/dls_bwd.pth\")"
   ]
  },
  {
   "cell_type": "code",
   "execution_count": 19,
   "metadata": {},
   "outputs": [],
   "source": [
    "dls_bwd = torch.load(\"./data/dls_bwd.pth\")"
   ]
  },
  {
   "cell_type": "code",
   "execution_count": 20,
   "metadata": {},
   "outputs": [],
   "source": [
    "learn = text_classifier_learner(dls_bwd, AWD_LSTM, path=Path(\".\"), drop_mult=1., \n",
    "#                                 loss_func=CrossEntropyLossFlat(weight=class_weights),\n",
    "                                metrics=[accuracy, f1])"
   ]
  },
  {
   "cell_type": "code",
   "execution_count": 21,
   "metadata": {},
   "outputs": [
    {
     "data": {
      "text/plain": [
       "<fastai.text.learner.TextLearner at 0x7f31ae1ac430>"
      ]
     },
     "execution_count": 21,
     "metadata": {},
     "output_type": "execute_result"
    }
   ],
   "source": [
    "learn.load_encoder(\"lstm_lm_1E+3E+3E_enc_bwd\")"
   ]
  },
  {
   "cell_type": "code",
   "execution_count": 22,
   "metadata": {},
   "outputs": [
    {
     "data": {
      "text/html": [
       "<table border=\"1\" class=\"dataframe\">\n",
       "  <thead>\n",
       "    <tr style=\"text-align: left;\">\n",
       "      <th>epoch</th>\n",
       "      <th>train_loss</th>\n",
       "      <th>valid_loss</th>\n",
       "      <th>accuracy</th>\n",
       "      <th>f1_score</th>\n",
       "      <th>time</th>\n",
       "    </tr>\n",
       "  </thead>\n",
       "  <tbody>\n",
       "    <tr>\n",
       "      <td>0</td>\n",
       "      <td>None</td>\n",
       "      <td>None</td>\n",
       "      <td>None</td>\n",
       "      <td>00:01</td>\n",
       "    </tr>\n",
       "  </tbody>\n",
       "</table>"
      ],
      "text/plain": [
       "<IPython.core.display.HTML object>"
      ]
     },
     "metadata": {},
     "output_type": "display_data"
    },
    {
     "data": {
      "text/plain": [
       "SequentialRNN (Input shape: ['64 x 4867'])\n",
       "================================================================\n",
       "Layer (type)         Output Shape         Param #    Trainable \n",
       "================================================================\n",
       "LSTM                 ['64 x 43 x 1152',   1,852,416  False     \n",
       "________________________________________________________________\n",
       "LSTM                 ['64 x 43 x 1152',   5,317,632  False     \n",
       "________________________________________________________________\n",
       "LSTM                 ['64 x 43 x 400', \"  1,846,400  False     \n",
       "________________________________________________________________\n",
       "RNNDropout           64 x 43 x 400        0          False     \n",
       "________________________________________________________________\n",
       "RNNDropout           64 x 43 x 1152       0          False     \n",
       "________________________________________________________________\n",
       "RNNDropout           64 x 43 x 1152       0          False     \n",
       "________________________________________________________________\n",
       "BatchNorm1d          64 x 1200            2,400      True      \n",
       "________________________________________________________________\n",
       "Dropout              64 x 1200            0          False     \n",
       "________________________________________________________________\n",
       "Linear               64 x 50              60,000     True      \n",
       "________________________________________________________________\n",
       "ReLU                 64 x 50              0          False     \n",
       "________________________________________________________________\n",
       "BatchNorm1d          64 x 50              100        True      \n",
       "________________________________________________________________\n",
       "Dropout              64 x 50              0          False     \n",
       "________________________________________________________________\n",
       "Linear               64 x 6               300        True      \n",
       "________________________________________________________________\n",
       "\n",
       "Total params: 9,079,248\n",
       "Total trainable params: 62,800\n",
       "Total non-trainable params: 9,016,448\n",
       "\n",
       "Optimizer used: <function Adam at 0x7f36bd1bf1f0>\n",
       "Loss function: FlattenedLoss of CrossEntropyLoss()\n",
       "\n",
       "Model frozen up to parameter group #4\n",
       "\n",
       "Callbacks:\n",
       "  - TrainEvalCallback\n",
       "  - Recorder\n",
       "  - ProgressCallback\n",
       "  - ModelResetter\n",
       "  - RNNRegularizer"
      ]
     },
     "execution_count": 22,
     "metadata": {},
     "output_type": "execute_result"
    }
   ],
   "source": [
    "learn.freeze()\n",
    "learn.summary()"
   ]
  },
  {
   "cell_type": "code",
   "execution_count": 23,
   "metadata": {},
   "outputs": [
    {
     "data": {
      "text/html": [],
      "text/plain": [
       "<IPython.core.display.HTML object>"
      ]
     },
     "metadata": {},
     "output_type": "display_data"
    },
    {
     "data": {
      "text/plain": [
       "SuggestedLRs(lr_min=0.07585775852203369, lr_steep=0.12022644281387329)"
      ]
     },
     "execution_count": 23,
     "metadata": {},
     "output_type": "execute_result"
    },
    {
     "data": {
      "image/png": "[encoded data removed]",
      "text/plain": [
       "<Figure size 432x288 with 1 Axes>"
      ]
     },
     "metadata": {
      "needs_background": "light"
     },
     "output_type": "display_data"
    }
   ],
   "source": [
    "learn.lr_find()"
   ]
  },
  {
   "cell_type": "code",
   "execution_count": 24,
   "metadata": {},
   "outputs": [
    {
     "data": {
      "text/html": [
       "<table border=\"1\" class=\"dataframe\">\n",
       "  <thead>\n",
       "    <tr style=\"text-align: left;\">\n",
       "      <th>epoch</th>\n",
       "      <th>train_loss</th>\n",
       "      <th>valid_loss</th>\n",
       "      <th>accuracy</th>\n",
       "      <th>f1_score</th>\n",
       "      <th>time</th>\n",
       "    </tr>\n",
       "  </thead>\n",
       "  <tbody>\n",
       "    <tr>\n",
       "      <td>0</td>\n",
       "      <td>0.420884</td>\n",
       "      <td>0.318758</td>\n",
       "      <td>0.904164</td>\n",
       "      <td>0.404002</td>\n",
       "      <td>06:30</td>\n",
       "    </tr>\n",
       "  </tbody>\n",
       "</table>"
      ],
      "text/plain": [
       "<IPython.core.display.HTML object>"
      ]
     },
     "metadata": {},
     "output_type": "display_data"
    }
   ],
   "source": [
    "learn.fit_one_cycle(1, 5e-2)"
   ]
  },
  {
   "cell_type": "code",
   "execution_count": 25,
   "metadata": {},
   "outputs": [
    {
     "data": {
      "text/html": [
       "<table border=\"1\" class=\"dataframe\">\n",
       "  <thead>\n",
       "    <tr style=\"text-align: left;\">\n",
       "      <th>epoch</th>\n",
       "      <th>train_loss</th>\n",
       "      <th>valid_loss</th>\n",
       "      <th>accuracy</th>\n",
       "      <th>f1_score</th>\n",
       "      <th>time</th>\n",
       "    </tr>\n",
       "  </thead>\n",
       "  <tbody>\n",
       "    <tr>\n",
       "      <td>0</td>\n",
       "      <td>0.236000</td>\n",
       "      <td>0.225309</td>\n",
       "      <td>0.928632</td>\n",
       "      <td>0.621345</td>\n",
       "      <td>07:13</td>\n",
       "    </tr>\n",
       "  </tbody>\n",
       "</table>"
      ],
      "text/plain": [
       "<IPython.core.display.HTML object>"
      ]
     },
     "metadata": {},
     "output_type": "display_data"
    }
   ],
   "source": [
    "learn.freeze_to(-2)\n",
    "learn.fit_one_cycle(1, slice(1e-2/(2.6**4),1e-2))\n"
   ]
  },
  {
   "cell_type": "code",
   "execution_count": 26,
   "metadata": {},
   "outputs": [
    {
     "data": {
      "text/html": [
       "<table border=\"1\" class=\"dataframe\">\n",
       "  <thead>\n",
       "    <tr style=\"text-align: left;\">\n",
       "      <th>epoch</th>\n",
       "      <th>train_loss</th>\n",
       "      <th>valid_loss</th>\n",
       "      <th>accuracy</th>\n",
       "      <th>f1_score</th>\n",
       "      <th>time</th>\n",
       "    </tr>\n",
       "  </thead>\n",
       "  <tbody>\n",
       "    <tr>\n",
       "      <td>0</td>\n",
       "      <td>0.194959</td>\n",
       "      <td>0.211865</td>\n",
       "      <td>0.931905</td>\n",
       "      <td>0.679259</td>\n",
       "      <td>10:02</td>\n",
       "    </tr>\n",
       "  </tbody>\n",
       "</table>"
      ],
      "text/plain": [
       "<IPython.core.display.HTML object>"
      ]
     },
     "metadata": {},
     "output_type": "display_data"
    }
   ],
   "source": [
    "learn.freeze_to(-3)\n",
    "learn.fit_one_cycle(1, slice(5e-3/(2.6**4),5e-3))"
   ]
  },
  {
   "cell_type": "code",
   "execution_count": 27,
   "metadata": {},
   "outputs": [
    {
     "data": {
      "text/html": [
       "<table border=\"1\" class=\"dataframe\">\n",
       "  <thead>\n",
       "    <tr style=\"text-align: left;\">\n",
       "      <th>epoch</th>\n",
       "      <th>train_loss</th>\n",
       "      <th>valid_loss</th>\n",
       "      <th>accuracy</th>\n",
       "      <th>f1_score</th>\n",
       "      <th>time</th>\n",
       "    </tr>\n",
       "  </thead>\n",
       "  <tbody>\n",
       "    <tr>\n",
       "      <td>0</td>\n",
       "      <td>0.175763</td>\n",
       "      <td>0.204344</td>\n",
       "      <td>0.934934</td>\n",
       "      <td>0.683419</td>\n",
       "      <td>12:25</td>\n",
       "    </tr>\n",
       "    <tr>\n",
       "      <td>1</td>\n",
       "      <td>0.182911</td>\n",
       "      <td>0.208312</td>\n",
       "      <td>0.935863</td>\n",
       "      <td>0.692171</td>\n",
       "      <td>12:28</td>\n",
       "    </tr>\n",
       "  </tbody>\n",
       "</table>"
      ],
      "text/plain": [
       "<IPython.core.display.HTML object>"
      ]
     },
     "metadata": {},
     "output_type": "display_data"
    }
   ],
   "source": [
    "learn.unfreeze()\n",
    "learn.fit_one_cycle(2, slice(1e-3/(2.6**4),1e-3))"
   ]
  },
  {
   "cell_type": "code",
   "execution_count": 28,
   "metadata": {},
   "outputs": [
    {
     "data": {
      "image/png": "[encoded data removed]",
      "text/plain": [
       "<Figure size 432x288 with 1 Axes>"
      ]
     },
     "metadata": {
      "needs_background": "light"
     },
     "output_type": "display_data"
    }
   ],
   "source": [
    "learn.recorder.plot_loss()"
   ]
  },
  {
   "cell_type": "code",
   "execution_count": 30,
   "metadata": {},
   "outputs": [
    {
     "data": {
      "text/plain": [
       "Path('models/bwd_clf.pth')"
      ]
     },
     "execution_count": 30,
     "metadata": {},
     "output_type": "execute_result"
    }
   ],
   "source": [
    "learn.save('bwd_clf')"
   ]
  },
  {
   "cell_type": "code",
   "execution_count": null,
   "metadata": {},
   "outputs": [],
   "source": [
    "learn.load(\"bwd_clf\")"
   ]
  },
  {
   "cell_type": "code",
   "execution_count": 29,
   "metadata": {},
   "outputs": [],
   "source": [
    "learn = text_classifier_learner(dls_bwd, AWD_LSTM, path=Path(\".\"), drop_mult=1., \n",
    "                                loss_func=CrossEntropyLossFlat(weight=class_weights),\n",
    "                                metrics=[accuracy, f1])"
   ]
  },
  {
   "cell_type": "code",
   "execution_count": 30,
   "metadata": {},
   "outputs": [
    {
     "data": {
      "text/plain": [
       "<fastai.text.learner.TextLearner at 0x7fbd09bc03d0>"
      ]
     },
     "execution_count": 30,
     "metadata": {},
     "output_type": "execute_result"
    }
   ],
   "source": [
    "learn.load_encoder(\"lstm_lm_1E+3E+3E_enc_bwd\")"
   ]
  },
  {
   "cell_type": "code",
   "execution_count": 31,
   "metadata": {},
   "outputs": [
    {
     "data": {
      "text/html": [
       "<table border=\"1\" class=\"dataframe\">\n",
       "  <thead>\n",
       "    <tr style=\"text-align: left;\">\n",
       "      <th>epoch</th>\n",
       "      <th>train_loss</th>\n",
       "      <th>valid_loss</th>\n",
       "      <th>accuracy</th>\n",
       "      <th>f1_score</th>\n",
       "      <th>time</th>\n",
       "    </tr>\n",
       "  </thead>\n",
       "  <tbody>\n",
       "    <tr>\n",
       "      <td>0</td>\n",
       "      <td>None</td>\n",
       "      <td>None</td>\n",
       "      <td>None</td>\n",
       "      <td>00:00</td>\n",
       "    </tr>\n",
       "  </tbody>\n",
       "</table>"
      ],
      "text/plain": [
       "<IPython.core.display.HTML object>"
      ]
     },
     "metadata": {},
     "output_type": "display_data"
    },
    {
     "data": {
      "text/plain": [
       "SequentialRNN (Input shape: ['64 x 4867'])\n",
       "================================================================\n",
       "Layer (type)         Output Shape         Param #    Trainable \n",
       "================================================================\n",
       "LSTM                 ['64 x 43 x 1152',   1,852,416  False     \n",
       "________________________________________________________________\n",
       "LSTM                 ['64 x 43 x 1152',   5,317,632  False     \n",
       "________________________________________________________________\n",
       "LSTM                 ['64 x 43 x 400', \"  1,846,400  False     \n",
       "________________________________________________________________\n",
       "RNNDropout           64 x 43 x 400        0          False     \n",
       "________________________________________________________________\n",
       "RNNDropout           64 x 43 x 1152       0          False     \n",
       "________________________________________________________________\n",
       "RNNDropout           64 x 43 x 1152       0          False     \n",
       "________________________________________________________________\n",
       "BatchNorm1d          64 x 1200            2,400      True      \n",
       "________________________________________________________________\n",
       "Dropout              64 x 1200            0          False     \n",
       "________________________________________________________________\n",
       "Linear               64 x 50              60,000     True      \n",
       "________________________________________________________________\n",
       "ReLU                 64 x 50              0          False     \n",
       "________________________________________________________________\n",
       "BatchNorm1d          64 x 50              100        True      \n",
       "________________________________________________________________\n",
       "Dropout              64 x 50              0          False     \n",
       "________________________________________________________________\n",
       "Linear               64 x 6               300        True      \n",
       "________________________________________________________________\n",
       "\n",
       "Total params: 9,079,248\n",
       "Total trainable params: 62,800\n",
       "Total non-trainable params: 9,016,448\n",
       "\n",
       "Optimizer used: <function Adam at 0x7fbf9d4df1f0>\n",
       "Loss function: FlattenedLoss of CrossEntropyLoss()\n",
       "\n",
       "Model frozen up to parameter group #4\n",
       "\n",
       "Callbacks:\n",
       "  - TrainEvalCallback\n",
       "  - Recorder\n",
       "  - ProgressCallback\n",
       "  - ModelResetter\n",
       "  - RNNRegularizer"
      ]
     },
     "execution_count": 31,
     "metadata": {},
     "output_type": "execute_result"
    }
   ],
   "source": [
    "learn.freeze()\n",
    "learn.summary()"
   ]
  },
  {
   "cell_type": "code",
   "execution_count": 32,
   "metadata": {},
   "outputs": [
    {
     "data": {
      "text/html": [],
      "text/plain": [
       "<IPython.core.display.HTML object>"
      ]
     },
     "metadata": {},
     "output_type": "display_data"
    },
    {
     "data": {
      "text/plain": [
       "SuggestedLRs(lr_min=0.002754228748381138, lr_steep=7.585775847473997e-07)"
      ]
     },
     "execution_count": 32,
     "metadata": {},
     "output_type": "execute_result"
    },
    {
     "data": {
      "image/png": "[encoded data removed]",
      "text/plain": [
       "<Figure size 432x288 with 1 Axes>"
      ]
     },
     "metadata": {
      "needs_background": "light"
     },
     "output_type": "display_data"
    }
   ],
   "source": [
    "learn.lr_find()"
   ]
  },
  {
   "cell_type": "code",
   "execution_count": 33,
   "metadata": {},
   "outputs": [
    {
     "data": {
      "text/html": [
       "<table border=\"1\" class=\"dataframe\">\n",
       "  <thead>\n",
       "    <tr style=\"text-align: left;\">\n",
       "      <th>epoch</th>\n",
       "      <th>train_loss</th>\n",
       "      <th>valid_loss</th>\n",
       "      <th>accuracy</th>\n",
       "      <th>f1_score</th>\n",
       "      <th>time</th>\n",
       "    </tr>\n",
       "  </thead>\n",
       "  <tbody>\n",
       "    <tr>\n",
       "      <td>0</td>\n",
       "      <td>1.076835</td>\n",
       "      <td>0.873939</td>\n",
       "      <td>0.610820</td>\n",
       "      <td>0.300344</td>\n",
       "      <td>06:10</td>\n",
       "    </tr>\n",
       "  </tbody>\n",
       "</table>"
      ],
      "text/plain": [
       "<IPython.core.display.HTML object>"
      ]
     },
     "metadata": {},
     "output_type": "display_data"
    }
   ],
   "source": [
    "learn.fit_one_cycle(1, 2e-2)"
   ]
  },
  {
   "cell_type": "code",
   "execution_count": 34,
   "metadata": {},
   "outputs": [
    {
     "data": {
      "text/html": [
       "<table border=\"1\" class=\"dataframe\">\n",
       "  <thead>\n",
       "    <tr style=\"text-align: left;\">\n",
       "      <th>epoch</th>\n",
       "      <th>train_loss</th>\n",
       "      <th>valid_loss</th>\n",
       "      <th>accuracy</th>\n",
       "      <th>f1_score</th>\n",
       "      <th>time</th>\n",
       "    </tr>\n",
       "  </thead>\n",
       "  <tbody>\n",
       "    <tr>\n",
       "      <td>0</td>\n",
       "      <td>0.633418</td>\n",
       "      <td>0.688326</td>\n",
       "      <td>0.649570</td>\n",
       "      <td>0.347064</td>\n",
       "      <td>07:11</td>\n",
       "    </tr>\n",
       "  </tbody>\n",
       "</table>"
      ],
      "text/plain": [
       "<IPython.core.display.HTML object>"
      ]
     },
     "metadata": {},
     "output_type": "display_data"
    }
   ],
   "source": [
    "learn.freeze_to(-2)\n",
    "learn.fit_one_cycle(1, slice(1e-2/(2.6**4),1e-2))\n"
   ]
  },
  {
   "cell_type": "code",
   "execution_count": 35,
   "metadata": {},
   "outputs": [
    {
     "data": {
      "text/html": [
       "<table border=\"1\" class=\"dataframe\">\n",
       "  <thead>\n",
       "    <tr style=\"text-align: left;\">\n",
       "      <th>epoch</th>\n",
       "      <th>train_loss</th>\n",
       "      <th>valid_loss</th>\n",
       "      <th>accuracy</th>\n",
       "      <th>f1_score</th>\n",
       "      <th>time</th>\n",
       "    </tr>\n",
       "  </thead>\n",
       "  <tbody>\n",
       "    <tr>\n",
       "      <td>0</td>\n",
       "      <td>0.557222</td>\n",
       "      <td>0.628877</td>\n",
       "      <td>0.698253</td>\n",
       "      <td>0.392610</td>\n",
       "      <td>10:05</td>\n",
       "    </tr>\n",
       "  </tbody>\n",
       "</table>"
      ],
      "text/plain": [
       "<IPython.core.display.HTML object>"
      ]
     },
     "metadata": {},
     "output_type": "display_data"
    }
   ],
   "source": [
    "learn.freeze_to(-3)\n",
    "learn.fit_one_cycle(1, slice(5e-3/(2.6**4),5e-3))"
   ]
  },
  {
   "cell_type": "code",
   "execution_count": null,
   "metadata": {},
   "outputs": [
    {
     "data": {
      "text/html": [
       "\n",
       "    <div>\n",
       "        <style>\n",
       "            /* Turns off some styling */\n",
       "            progress {\n",
       "                /* gets rid of default border in Firefox and Opera. */\n",
       "                border: none;\n",
       "                /* Needs to be in here for Safari polyfill so background images work as expected. */\n",
       "                background-size: auto;\n",
       "            }\n",
       "            .progress-bar-interrupted, .progress-bar-interrupted::-webkit-progress-bar {\n",
       "                background: #F44336;\n",
       "            }\n",
       "        </style>\n",
       "      <progress value='1' class='' max='2' style='width:300px; height:20px; vertical-align: middle;'></progress>\n",
       "      50.00% [1/2 12:26<12:26]\n",
       "    </div>\n",
       "    \n",
       "<table border=\"1\" class=\"dataframe\">\n",
       "  <thead>\n",
       "    <tr style=\"text-align: left;\">\n",
       "      <th>epoch</th>\n",
       "      <th>train_loss</th>\n",
       "      <th>valid_loss</th>\n",
       "      <th>accuracy</th>\n",
       "      <th>f1_score</th>\n",
       "      <th>time</th>\n",
       "    </tr>\n",
       "  </thead>\n",
       "  <tbody>\n",
       "    <tr>\n",
       "      <td>0</td>\n",
       "      <td>0.458864</td>\n",
       "      <td>0.582287</td>\n",
       "      <td>0.751000</td>\n",
       "      <td>0.434046</td>\n",
       "      <td>12:26</td>\n",
       "    </tr>\n",
       "  </tbody>\n",
       "</table><p>\n",
       "\n",
       "    <div>\n",
       "        <style>\n",
       "            /* Turns off some styling */\n",
       "            progress {\n",
       "                /* gets rid of default border in Firefox and Opera. */\n",
       "                border: none;\n",
       "                /* Needs to be in here for Safari polyfill so background images work as expected. */\n",
       "                background-size: auto;\n",
       "            }\n",
       "            .progress-bar-interrupted, .progress-bar-interrupted::-webkit-progress-bar {\n",
       "                background: #F44336;\n",
       "            }\n",
       "        </style>\n",
       "      <progress value='61' class='' max='1481' style='width:300px; height:20px; vertical-align: middle;'></progress>\n",
       "      4.12% [61/1481 00:13<05:19 0.5083]\n",
       "    </div>\n",
       "    "
      ],
      "text/plain": [
       "<IPython.core.display.HTML object>"
      ]
     },
     "metadata": {},
     "output_type": "display_data"
    }
   ],
   "source": [
    "learn.unfreeze()\n",
    "learn.fit_one_cycle(2, slice(1e-3/(2.6**4),1e-3))"
   ]
  },
  {
   "cell_type": "code",
   "execution_count": 38,
   "metadata": {},
   "outputs": [
    {
     "data": {
      "image/png": "[encoded data removed]",
      "text/plain": [
       "<Figure size 432x288 with 1 Axes>"
      ]
     },
     "metadata": {
      "needs_background": "light"
     },
     "output_type": "display_data"
    }
   ],
   "source": [
    "learn.recorder.plot_loss()"
   ]
  },
  {
   "cell_type": "markdown",
   "metadata": {},
   "source": [
    "### Evaluate"
   ]
  },
  {
   "cell_type": "code",
   "execution_count": 8,
   "metadata": {},
   "outputs": [],
   "source": [
    "dls = torch.load(\"./data/dls.pth\")"
   ]
  },
  {
   "cell_type": "code",
   "execution_count": 9,
   "metadata": {},
   "outputs": [],
   "source": [
    "test_csv[\"is_valid\"]=True"
   ]
  },
  {
   "cell_type": "code",
   "execution_count": 10,
   "metadata": {},
   "outputs": [
    {
     "data": {
      "text/html": [],
      "text/plain": [
       "<IPython.core.display.HTML object>"
      ]
     },
     "metadata": {},
     "output_type": "display_data"
    },
    {
     "name": "stderr",
     "output_type": "stream",
     "text": [
      "/mnt/home/peluz/victor-visual-text/fastai2/lib/python3.8/site-packages/numpy/core/_asarray.py:83: VisibleDeprecationWarning: Creating an ndarray from ragged nested sequences (which is a list-or-tuple of lists-or-tuples-or ndarrays with different lengths or shapes) is deprecated. If you meant to do this, you must specify 'dtype=object' when creating the ndarray\n",
      "  return array(a, dtype, copy=False, order=order)\n"
     ]
    }
   ],
   "source": [
    "test_items = tokenize_df(test_csv, \"body\", tok=dls.tok)"
   ]
  },
  {
   "cell_type": "code",
   "execution_count": 11,
   "metadata": {},
   "outputs": [],
   "source": [
    "test_dl = dls.test_dl(test_items[0], with_labels=True)"
   ]
  },
  {
   "cell_type": "code",
   "execution_count": 12,
   "metadata": {},
   "outputs": [],
   "source": [
    "assert test_dl.vocab  == dls.vocab"
   ]
  },
  {
   "cell_type": "code",
   "execution_count": 13,
   "metadata": {},
   "outputs": [],
   "source": [
    "learn_fwd = text_classifier_learner(dls, AWD_LSTM, path=Path(\".\"), drop_mult=1., \n",
    "                                    metrics=[accuracy, f1])"
   ]
  },
  {
   "cell_type": "code",
   "execution_count": 14,
   "metadata": {},
   "outputs": [
    {
     "data": {
      "text/plain": [
       "<fastai.text.learner.TextLearner at 0x7fdf456aa9d0>"
      ]
     },
     "execution_count": 14,
     "metadata": {},
     "output_type": "execute_result"
    }
   ],
   "source": [
    "learn_fwd.load(\"fwd_clf\")"
   ]
  },
  {
   "cell_type": "code",
   "execution_count": 19,
   "metadata": {},
   "outputs": [
    {
     "data": {
      "text/html": [],
      "text/plain": [
       "<IPython.core.display.HTML object>"
      ]
     },
     "metadata": {},
     "output_type": "display_data"
    },
    {
     "name": "stdout",
     "output_type": "stream",
     "text": [
      "                                  precision    recall  f1-score   support\n",
      "\n",
      "          acordao_de_2_instancia     0.6342    0.8828    0.7381       273\n",
      "agravo_em_recurso_extraordinario     0.5486    0.3156    0.4007      1841\n",
      "     despacho_de_admissibilidade     0.5076    0.5051    0.5063       198\n",
      "                          outros     0.9543    0.9797    0.9668     85408\n",
      "                   peticao_do_RE     0.7991    0.6244    0.7010      6331\n",
      "                        sentenca     0.8176    0.6990    0.7537      1475\n",
      "\n",
      "                        accuracy                         0.9377     95526\n",
      "                       macro avg     0.7102    0.6677    0.6778     95526\n",
      "                    weighted avg     0.9322    0.9377    0.9334     95526\n",
      "\n"
     ]
    }
   ],
   "source": [
    "evaluate(learn_fwd, test_dl, 0)"
   ]
  },
  {
   "cell_type": "code",
   "execution_count": 20,
   "metadata": {},
   "outputs": [],
   "source": [
    "dls_bwd = torch.load(\"./data/dls_bwd.pth\")"
   ]
  },
  {
   "cell_type": "code",
   "execution_count": 21,
   "metadata": {},
   "outputs": [],
   "source": [
    "test_dl_bwd = dls_bwd.test_dl(test_items[0], with_labels=True)"
   ]
  },
  {
   "cell_type": "code",
   "execution_count": 22,
   "metadata": {},
   "outputs": [],
   "source": [
    "assert test_dl_bwd.vocab  == dls_bwd.vocab; del(dls_bwd)"
   ]
  },
  {
   "cell_type": "code",
   "execution_count": 23,
   "metadata": {},
   "outputs": [
    {
     "data": {
      "text/html": [
       "<table border=\"1\" class=\"dataframe\">\n",
       "  <thead>\n",
       "    <tr style=\"text-align: right;\">\n",
       "      <th></th>\n",
       "      <th>text</th>\n",
       "      <th>category</th>\n",
       "    </tr>\n",
       "  </thead>\n",
       "  <tbody>\n",
       "    <tr>\n",
       "      <th>0</th>\n",
       "      <td>\"} ▁l sina ▁ ana ▁n ▁for ▁a ▁3 ▁xxrep em ▁a da ▁m ▁abe bm ▁ai mas pn ▁g p ▁gre ry men ▁fe ▁for tr ya ▁al ▁d lando lf ▁ret o las m ▁c am ▁pei reme ▁ o ▁r ▁tia ▁que ▁a ra s ▁profe ll ça ▁ ▁uma ine ▁re ▁fim ▁den a ▁uf ▁e ▁por wn ▁ tani ▁u da o ▁i ▁mau ▁r m ▁rp ▁w s ▁maio m ▁cn ▁mala uti o ▁s parte ▁a a yn ▁cor ▁ca vin ▁p gb ▁r ▁cia ▁por ▁a o ▁ai m o ▁ix ma p vi ▁c m gn ▁ i ▁mm m ▁el m am ▁ ▁i ▁3 ▁xxrep ▁se qf ▁s a ace a o ▁ed ar ha o ▁r tl ▁a ▁ama ▁nos nb ri py m ▁in ▁l nd d ▁carpe m m ▁o am ndo ▁a ▁el s á</td>\n",
       "      <td>outros</td>\n",
       "    </tr>\n",
       "    <tr>\n",
       "      <th>1</th>\n",
       "      <td>xxpad xxpad xxpad xxpad xxpad xxpad xxpad xxpad xxpad xxpad xxpad xxpad xxpad xxpad xxpad xxpad xxpad xxpad xxpad xxpad xxpad xxpad xxpad xxpad xxpad xxpad xxpad xxpad xxpad xxpad xxpad xxpad xxpad xxpad xxpad xxpad xxpad xxpad xxpad xxpad xxpad xxpad xxpad xxpad xxpad xxpad xxpad xxpad xxpad xxpad xxpad xxpad xxpad xxpad xxpad xxpad xxpad xxpad xxpad xxpad xxpad xxpad xxpad xxpad xxpad xxpad xxpad xxpad xxpad xxpad xxpad xxpad xxpad xxpad xxpad xxpad xxpad xxpad xxpad xxpad xxpad xxpad xxpad xxpad xxpad xxpad xxpad xxpad xxpad xxpad xxpad xxpad xxpad xxpad xxpad xxpad xxpad xxpad xxpad xxpad xxpad xxpad xxpad xxpad xxpad xxpad xxpad xxpad xxpad xxpad xxpad xxpad xxpad xxpad xxpad xxpad xxpad xxpad xxpad xxpad xxpad xxpad xxpad xxpad xxpad xxpad xxpad xxpad xxpad xxpad xxpad xxpad xxpad xxpad xxpad xxpad xxpad xxpad xxpad xxpad xxpad xxpad xxpad xxpad \"} ▁mesa ▁secretária ▁silva ▁camargo a</td>\n",
       "      <td>outros</td>\n",
       "    </tr>\n",
       "    <tr>\n",
       "      <th>2</th>\n",
       "      <td>xxpad xxpad xxpad xxpad xxpad xxpad xxpad xxpad xxpad xxpad xxpad xxpad xxpad xxpad xxpad xxpad xxpad xxpad xxpad xxpad xxpad xxpad xxpad xxpad xxpad xxpad xxpad xxpad xxpad xxpad xxpad xxpad xxpad xxpad xxpad xxpad xxpad xxpad xxpad xxpad xxpad xxpad xxpad xxpad xxpad xxpad xxpad xxpad xxpad xxpad xxpad xxpad xxpad xxpad xxpad xxpad xxpad xxpad xxpad xxpad xxpad xxpad xxpad xxpad xxpad xxpad xxpad xxpad xxpad xxpad xxpad xxpad xxpad xxpad xxpad xxpad xxpad xxpad xxpad xxpad xxpad xxpad xxpad xxpad xxpad xxpad xxpad xxpad xxpad xxpad xxpad xxpad xxpad xxpad xxpad xxpad xxpad xxpad xxpad xxpad xxpad xxpad xxpad xxpad xxpad xxpad xxpad xxpad xxpad xxpad xxpad xxpad xxpad xxpad xxpad xxpad xxpad xxpad xxpad xxpad xxpad xxpad xxpad xxpad xxpad xxpad xxpad xxpad xxpad xxpad xxpad xxpad xxpad xxpad xxpad xxpad xxpad xxpad xxpad xxpad xxpad xxpad xxpad xxpad \"} ▁costa ▁carlos ▁marisa ▁a ▁a</td>\n",
       "      <td>outros</td>\n",
       "    </tr>\n",
       "    <tr>\n",
       "      <th>3</th>\n",
       "      <td>xxpad xxpad xxpad xxpad xxpad xxpad xxpad xxpad xxpad xxpad xxpad xxpad xxpad xxpad xxpad xxpad xxpad xxpad xxpad xxpad xxpad xxpad xxpad xxpad xxpad xxpad xxpad xxpad xxpad xxpad xxpad xxpad xxpad xxpad xxpad xxpad xxpad xxpad xxpad xxpad xxpad xxpad xxpad xxpad xxpad xxpad xxpad xxpad xxpad xxpad xxpad xxpad xxpad xxpad xxpad xxpad xxpad xxpad xxpad xxpad xxpad xxpad xxpad xxpad xxpad xxpad xxpad xxpad xxpad xxpad xxpad xxpad xxpad xxpad xxpad xxpad xxpad xxpad xxpad xxpad xxpad xxpad xxpad xxpad xxpad xxpad xxpad xxpad xxpad xxpad xxpad xxpad xxpad xxpad xxpad xxpad xxpad xxpad xxpad xxpad xxpad xxpad xxpad xxpad xxpad xxpad xxpad xxpad xxpad xxpad xxpad xxpad xxpad xxpad xxpad xxpad xxpad xxpad xxpad xxpad xxpad xxpad xxpad xxpad xxpad xxpad xxpad xxpad xxpad xxpad xxpad xxpad xxpad xxpad xxpad xxpad xxpad xxpad xxpad xxpad xxpad xxpad xxpad xxpad xxpad xxpad xxpad xxpad xxpad xxpad</td>\n",
       "      <td>outros</td>\n",
       "    </tr>\n",
       "    <tr>\n",
       "      <th>4</th>\n",
       "      <td>xxpad xxpad xxpad xxpad xxpad xxpad xxpad xxpad xxpad xxpad xxpad xxpad xxpad xxpad xxpad xxpad xxpad xxpad xxpad xxpad xxpad xxpad xxpad xxpad xxpad xxpad xxpad xxpad xxpad xxpad xxpad xxpad xxpad xxpad xxpad xxpad xxpad xxpad xxpad xxpad xxpad xxpad xxpad xxpad xxpad xxpad xxpad xxpad xxpad xxpad xxpad xxpad xxpad xxpad xxpad xxpad xxpad xxpad xxpad xxpad xxpad xxpad xxpad xxpad xxpad xxpad xxpad xxpad xxpad xxpad xxpad xxpad xxpad xxpad xxpad xxpad xxpad xxpad xxpad xxpad xxpad xxpad xxpad xxpad xxpad xxpad xxpad xxpad xxpad xxpad xxpad xxpad xxpad xxpad xxpad xxpad xxpad xxpad xxpad xxpad xxpad xxpad xxpad xxpad xxpad xxpad xxpad xxpad xxpad xxpad xxpad xxpad xxpad xxpad xxpad xxpad xxpad xxpad xxpad xxpad xxpad xxpad xxpad xxpad xxpad xxpad xxpad xxpad xxpad xxpad xxpad xxpad xxpad xxpad xxpad xxpad xxpad xxpad xxpad xxpad xxpad xxpad xxpad xxpad xxpad xxpad xxpad xxpad xxpad xxpad</td>\n",
       "      <td>outros</td>\n",
       "    </tr>\n",
       "    <tr>\n",
       "      <th>5</th>\n",
       "      <td>xxpad xxpad xxpad xxpad xxpad xxpad xxpad xxpad xxpad xxpad xxpad xxpad xxpad xxpad xxpad xxpad xxpad xxpad xxpad xxpad xxpad xxpad xxpad xxpad xxpad xxpad xxpad xxpad xxpad xxpad xxpad xxpad xxpad xxpad xxpad xxpad xxpad xxpad xxpad xxpad xxpad xxpad xxpad xxpad xxpad xxpad xxpad xxpad xxpad xxpad xxpad xxpad xxpad xxpad xxpad xxpad xxpad xxpad xxpad xxpad xxpad xxpad xxpad xxpad xxpad xxpad xxpad xxpad xxpad xxpad xxpad xxpad xxpad xxpad xxpad xxpad xxpad xxpad xxpad xxpad xxpad xxpad xxpad xxpad xxpad xxpad xxpad xxpad xxpad xxpad xxpad xxpad xxpad xxpad xxpad xxpad xxpad xxpad xxpad xxpad xxpad xxpad xxpad xxpad xxpad xxpad xxpad xxpad xxpad xxpad xxpad xxpad xxpad xxpad xxpad xxpad xxpad xxpad xxpad xxpad xxpad xxpad xxpad xxpad xxpad xxpad xxpad xxpad xxpad xxpad xxpad xxpad xxpad xxpad xxpad xxpad xxpad xxpad xxpad xxpad xxpad xxpad xxpad xxpad xxpad xxpad xxpad xxpad xxpad xxpad</td>\n",
       "      <td>outros</td>\n",
       "    </tr>\n",
       "    <tr>\n",
       "      <th>6</th>\n",
       "      <td>xxpad xxpad xxpad xxpad xxpad xxpad xxpad xxpad xxpad xxpad xxpad xxpad xxpad xxpad xxpad xxpad xxpad xxpad xxpad xxpad xxpad xxpad xxpad xxpad xxpad xxpad xxpad xxpad xxpad xxpad xxpad xxpad xxpad xxpad xxpad xxpad xxpad xxpad xxpad xxpad xxpad xxpad xxpad xxpad xxpad xxpad xxpad xxpad xxpad xxpad xxpad xxpad xxpad xxpad xxpad xxpad xxpad xxpad xxpad xxpad xxpad xxpad xxpad xxpad xxpad xxpad xxpad xxpad xxpad xxpad xxpad xxpad xxpad xxpad xxpad xxpad xxpad xxpad xxpad xxpad xxpad xxpad xxpad xxpad xxpad xxpad xxpad xxpad xxpad xxpad xxpad xxpad xxpad xxpad xxpad xxpad xxpad xxpad xxpad xxpad xxpad xxpad xxpad xxpad xxpad xxpad xxpad xxpad xxpad xxpad xxpad xxpad xxpad xxpad xxpad xxpad xxpad xxpad xxpad xxpad xxpad xxpad xxpad xxpad xxpad xxpad xxpad xxpad xxpad xxpad xxpad xxpad xxpad xxpad xxpad xxpad xxpad xxpad xxpad xxpad xxpad xxpad xxpad xxpad xxpad xxpad xxpad xxpad xxpad xxpad</td>\n",
       "      <td>outros</td>\n",
       "    </tr>\n",
       "    <tr>\n",
       "      <th>7</th>\n",
       "      <td>xxpad xxpad xxpad xxpad xxpad xxpad xxpad xxpad xxpad xxpad xxpad xxpad xxpad xxpad xxpad xxpad xxpad xxpad xxpad xxpad xxpad xxpad xxpad xxpad xxpad xxpad xxpad xxpad xxpad xxpad xxpad xxpad xxpad xxpad xxpad xxpad xxpad xxpad xxpad xxpad xxpad xxpad xxpad xxpad xxpad xxpad xxpad xxpad xxpad xxpad xxpad xxpad xxpad xxpad xxpad xxpad xxpad xxpad xxpad xxpad xxpad xxpad xxpad xxpad xxpad xxpad xxpad xxpad xxpad xxpad xxpad xxpad xxpad xxpad xxpad xxpad xxpad xxpad xxpad xxpad xxpad xxpad xxpad xxpad xxpad xxpad xxpad xxpad xxpad xxpad xxpad xxpad xxpad xxpad xxpad xxpad xxpad xxpad xxpad xxpad xxpad xxpad xxpad xxpad xxpad xxpad xxpad xxpad xxpad xxpad xxpad xxpad xxpad xxpad xxpad xxpad xxpad xxpad xxpad xxpad xxpad xxpad xxpad xxpad xxpad xxpad xxpad xxpad xxpad xxpad xxpad xxpad xxpad xxpad xxpad xxpad xxpad xxpad xxpad xxpad xxpad xxpad xxpad xxpad xxpad xxpad xxpad xxpad xxpad xxpad</td>\n",
       "      <td>outros</td>\n",
       "    </tr>\n",
       "    <tr>\n",
       "      <th>8</th>\n",
       "      <td>xxpad xxpad xxpad xxpad xxpad xxpad xxpad xxpad xxpad xxpad xxpad xxpad xxpad xxpad xxpad xxpad xxpad xxpad xxpad xxpad xxpad xxpad xxpad xxpad xxpad xxpad xxpad xxpad xxpad xxpad xxpad xxpad xxpad xxpad xxpad xxpad xxpad xxpad xxpad xxpad xxpad xxpad xxpad xxpad xxpad xxpad xxpad xxpad xxpad xxpad xxpad xxpad xxpad xxpad xxpad xxpad xxpad xxpad xxpad xxpad xxpad xxpad xxpad xxpad xxpad xxpad xxpad xxpad xxpad xxpad xxpad xxpad xxpad xxpad xxpad xxpad xxpad xxpad xxpad xxpad xxpad xxpad xxpad xxpad xxpad xxpad xxpad xxpad xxpad xxpad xxpad xxpad xxpad xxpad xxpad xxpad xxpad xxpad xxpad xxpad xxpad xxpad xxpad xxpad xxpad xxpad xxpad xxpad xxpad xxpad xxpad xxpad xxpad xxpad xxpad xxpad xxpad xxpad xxpad xxpad xxpad xxpad xxpad xxpad xxpad xxpad xxpad xxpad xxpad xxpad xxpad xxpad xxpad xxpad xxpad xxpad xxpad xxpad xxpad xxpad xxpad xxpad xxpad xxpad xxpad xxpad xxpad xxpad xxpad xxpad</td>\n",
       "      <td>outros</td>\n",
       "    </tr>\n",
       "  </tbody>\n",
       "</table>"
      ],
      "text/plain": [
       "<IPython.core.display.HTML object>"
      ]
     },
     "metadata": {},
     "output_type": "display_data"
    }
   ],
   "source": [
    "test_dl_bwd.show_batch()"
   ]
  },
  {
   "cell_type": "code",
   "execution_count": 24,
   "metadata": {},
   "outputs": [],
   "source": [
    "learn_bwd = text_classifier_learner(dls, AWD_LSTM, path=Path(\".\"), drop_mult=1., \n",
    "                                    metrics=[accuracy, f1])"
   ]
  },
  {
   "cell_type": "code",
   "execution_count": 25,
   "metadata": {},
   "outputs": [
    {
     "data": {
      "text/plain": [
       "<fastai.text.learner.TextLearner at 0x7fde6214a550>"
      ]
     },
     "execution_count": 25,
     "metadata": {},
     "output_type": "execute_result"
    }
   ],
   "source": [
    "learn_bwd.load(\"bwd_clf\")"
   ]
  },
  {
   "cell_type": "code",
   "execution_count": 26,
   "metadata": {},
   "outputs": [
    {
     "data": {
      "text/html": [],
      "text/plain": [
       "<IPython.core.display.HTML object>"
      ]
     },
     "metadata": {},
     "output_type": "display_data"
    },
    {
     "name": "stdout",
     "output_type": "stream",
     "text": [
      "                                  precision    recall  f1-score   support\n",
      "\n",
      "          acordao_de_2_instancia     0.7264    0.8755    0.7940       273\n",
      "agravo_em_recurso_extraordinario     0.5519    0.3205    0.4055      1841\n",
      "     despacho_de_admissibilidade     0.5309    0.5202    0.5255       198\n",
      "                          outros     0.9593    0.9768    0.9680     85408\n",
      "                   peticao_do_RE     0.7650    0.6917    0.7265      6331\n",
      "                        sentenca     0.8034    0.6759    0.7342      1475\n",
      "\n",
      "                        accuracy                         0.9394     95526\n",
      "                       macro avg     0.7228    0.6768    0.6923     95526\n",
      "                    weighted avg     0.9346    0.9394    0.9361     95526\n",
      "\n"
     ]
    }
   ],
   "source": [
    "evaluate(learn_bwd, test_dl_bwd)"
   ]
  },
  {
   "cell_type": "code",
   "execution_count": 29,
   "metadata": {},
   "outputs": [
    {
     "data": {
      "text/html": [],
      "text/plain": [
       "<IPython.core.display.HTML object>"
      ]
     },
     "metadata": {},
     "output_type": "display_data"
    },
    {
     "data": {
      "text/html": [],
      "text/plain": [
       "<IPython.core.display.HTML object>"
      ]
     },
     "metadata": {},
     "output_type": "display_data"
    },
    {
     "name": "stdout",
     "output_type": "stream",
     "text": [
      "                                  precision    recall  f1-score   support\n",
      "\n",
      "          acordao_de_2_instancia     0.7301    0.8718    0.7947       273\n",
      "agravo_em_recurso_extraordinario     0.5832    0.3140    0.4082      1841\n",
      "     despacho_de_admissibilidade     0.5495    0.5051    0.5263       198\n",
      "                          outros     0.9564    0.9804    0.9683     85408\n",
      "                   peticao_do_RE     0.7941    0.6557    0.7183      6331\n",
      "                        sentenca     0.8127    0.6854    0.7437      1475\n",
      "\n",
      "                        accuracy                         0.9402     95526\n",
      "                       macro avg     0.7377    0.6687    0.6932     95526\n",
      "                    weighted avg     0.9347    0.9402    0.9360     95526\n",
      "\n"
     ]
    }
   ],
   "source": [
    "evaluate_ensemble(learn_fwd, learn_bwd, test_dl, test_dl_bwd)"
   ]
  },
  {
   "cell_type": "code",
   "execution_count": null,
   "metadata": {},
   "outputs": [],
   "source": []
  }
 ],
 "metadata": {
  "kernelspec": {
   "display_name": "fastai2",
   "language": "python",
   "name": "fastai2"
  },
  "language_info": {
   "codemirror_mode": {
    "name": "ipython",
    "version": 3
   },
   "file_extension": ".py",
   "mimetype": "text/x-python",
   "name": "python",
   "nbconvert_exporter": "python",
   "pygments_lexer": "ipython3",
   "version": "3.8.5"
  }
 },
 "nbformat": 4,
 "nbformat_minor": 4
}
